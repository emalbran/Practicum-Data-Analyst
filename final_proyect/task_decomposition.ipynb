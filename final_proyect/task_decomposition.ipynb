{
 "cells": [
  {
   "cell_type": "markdown",
   "metadata": {},
   "source": [
    "# Descripción del proyecto\n",
    "\n",
    "Se nos ha entregado un conjunto de datos que contiene información sobre las ventas de la empresa en los últimos dos años. Nuestra tarea es analizar estos datos para identificar patrones y tendencias en el comportamiento de los clientes y productos, con el objetivo de optimizar las estrategias de marketing y mejorar la rentabilidad de la empresa."
   ]
  },
  {
   "cell_type": "markdown",
   "metadata": {},
   "source": [
    "# Instrucciones para completar el proyecto\n",
    "\n",
    "La compañía aportó el archivo **ecommerce_dataset_us.csv** que contiene el historial de transacciones de su tienda en línea desde 2018 hasta 2019. Este archivo contiene las siguientes columnas:\n",
    "- `InvoiceNo`: El identificador de pedido. En un pedido pueden haber varios árticulos pero corresponde a un solo cliente.\n",
    "\n",
    "- `StockCode`: El identificador único de cada artículo.\n",
    "\n",
    "- `Description`: El nombre del artículo.\n",
    "\n",
    "- `Quantity`: La cantidad de artículos comprados.\n",
    "\n",
    "- `InvoiceDate`: La fecha del pedido. Esta corresponde a un formato dd/MM/YYYY HH:mm\n",
    "\n",
    "- `UnitPrice`: El precio por artículo.\n",
    "\n",
    "- `CustomerID`: El ID de cada cliente."
   ]
  },
  {
   "cell_type": "markdown",
   "metadata": {},
   "source": [
    "### Descargar y optimizar los datos\n",
    "- Descargar una pequeña porción de los datos\n",
    "- Revisar las categorías y deshacerse del tipo 'object' siempre que sea posible\n",
    "- Pasar la columna de fechas a DateTime\n",
    "- Descargar los datos con los tipos de datos correctos"
   ]
  },
  {
   "cell_type": "markdown",
   "metadata": {},
   "source": [
    "### Análisis exploratorio de datos (EDA)\n",
    "- Revisar el tamaño del dataset (cuántas líneas y columnas)\n",
    "- Revisar con el método info() las cáracteristicas (son númericos o categóricas) y si hay o no datos ausentes\n",
    "- Revisar con el método describe() las distriduciones de cada columna\n",
    "- Estudiar y corregir los valores ausentes\n",
    "- Estudiar y corregir si es necesario los valores atípicos\n",
    "- Estudiar y corregir posibles duplicados\n",
    "- Mejorar los datos. Agregar columnas que puedan ser oportunas para nuestro estudio."
   ]
  },
  {
   "cell_type": "markdown",
   "metadata": {},
   "source": [
    "### Estudio de Clientes\n",
    "Intentaremos responder a las siguientes preguntas:\n",
    "1. ¿Cuántos clientes compran solo una vez? Se podría identificar a los clientes que solo aparecen en el conjunto de datos una vez, es decir, que solo han realizado una compra.\n",
    "\n",
    "2. ¿Cuántos clientes compran más de una vez? Se podría identificar a los clientes que aparecen en el conjunto de datos más de una vez, es decir, que han realizado más de una compra.\n",
    "\n",
    "3. ¿Cuánto gastan en promedio los clientes? Se podría calcular el gasto promedio de cada cliente sumando los montos de todas las compras realizadas por ese cliente y dividiendo el total entre el número de compras realizadas.\n",
    "\n",
    "4. ¿El gasto promedio de los clientes varía en ciertos meses? Se podría agrupar las compras por mes y calcular el gasto promedio de cada cliente en cada mes, para analizar si hay meses en los que los clientes gastan más o menos que en otros meses.\n",
    "\n",
    "5. ¿Cuáles son los productos más populares entre los clientes? Se podría analizar la cantidad de veces que se ha vendido cada producto y determinar los productos más vendidos.\n",
    "\n",
    "6. ¿Qué clientes han realizado las compras más grandes? Se podría analizar el monto total de cada compra y determinar qué clientes han realizado las compras más grandes en términos de monto.\n",
    "\n",
    "7. ¿Existen clientes que realizan compras regularmente y a menudo? Se podría analizar la frecuencia de las compras de cada cliente y determinar si hay clientes que realizan compras con mayor frecuencia que otros."
   ]
  },
  {
   "cell_type": "markdown",
   "metadata": {},
   "source": [
    "### Estudio de Productos:\n",
    "Intentaremos responder a las siguientes preguntas:\n",
    "1. ¿Han variado los precios de los productos en los años? Se podría analizar la evolución de los precios de los productos a lo largo del tiempo, por ejemplo, calculando el precio promedio por mes o por año.\n",
    "\n",
    "2. ¿Cuáles son los productos más vendidos? Se podría analizar la cantidad de veces que se ha vendido cada producto y determinar los productos más vendidos.\n",
    "\n",
    "3. ¿Cuáles son los menos populares? Se podría analizar la cantidad de veces que se ha vendido cada producto y determinar los productos menos vendidos.\n",
    "\n",
    "4. ¿Hay productos que se venden más en unos meses que en otros? Se podría agrupar las ventas por mes y analizar la cantidad de veces que se ha vendido cada producto en cada mes, para determinar si hay meses en los que algunos productos se venden más que en otros.\n",
    "\n",
    "5. ¿Hay productos que se venden juntos con frecuencia? Se podría analizar la frecuencia con la que se compran juntos ciertos productos para determinar si hay productos que suelen comprarse juntos con frecuencia, y utilizar esta información para mejorar la estrategia de ventas y marketing.\n",
    "\n",
    "6. ¿Qué productos son más populares entre los clientes habituales? Se podría analizar las compras de los clientes que han comprado más de una vez y determinar qué productos son más populares entre ellos, para mejorar la estrategia de fidelización de clientes y marketing."
   ]
  },
  {
   "cell_type": "markdown",
   "metadata": {},
   "source": [
    "### Responder a las siguientes hipótesis:\n",
    "1. Los clientes que compran más de una vez tienden a gastar más que los clientes que solo compran una vez.\n",
    "    - Agrupar los clientes en dos grupos: aquellos que solo han comprado una vez y aquellos que han comprado más de una vez.\n",
    "    - Calcular el gasto promedio por cliente para cada grupo.\n",
    "    - Realizar una prueba de hipótesis para determinar si hay una diferencia significativa entre los gastos promedio de los dos grupos.\n",
    "2. Los productos que se venden más en ciertos meses del año pueden estar relacionados con eventos o festividades que se celebran en esos meses.\n",
    "    - Identificar los productos que se venden más en ciertos meses del año.\n",
    "    - Investigar los eventos o festividades que se celebran en esos meses para determinar si existe una correlación entre los eventos y las ventas de los productos.\n",
    "    - Analizar las ventas de los mismos productos en diferentes años para determinar si la relación entre los eventos y las ventas se mantiene constante en el tiempo.\n",
    "3. Los clientes que realizan compras más grandes pueden ser más leales y propensos a realizar compras recurrentes.\n",
    "    - Agrupar los clientes en diferentes grupos según la cantidad de dinero que han gastado en compras anteriores.\n",
    "    - Comparar la frecuencia con la que cada grupo realiza compras recurrentes.\n",
    "    - Realizar una prueba de hipótesis para determinar si hay una relación significativa entre la cantidad de dinero gastado y la frecuencia de las compras recurrentes.\n",
    "4. El precio de los productos puede estar relacionado con su popularidad, es decir, los productos más populares pueden tener un precio más elevado.\n",
    "    - Calcular la popularidad de los productos en función de la cantidad de veces que se han vendido.\n",
    "    - Calcular el precio promedio de los productos más populares y compararlo con el precio promedio de los productos menos populares.\n",
    "    - Realizar una prueba de hipótesis para determinar si hay una diferencia significativa en los precios promedio de los dos grupos.\n",
    "5. Los clientes que han realizado compras más grandes pueden ser más propensos a realizar compras en el futuro debido a su inversión previa en los productos.\n",
    "    - Agrupar los clientes en diferentes grupos según la cantidad de dinero que han gastado en compras anteriores.\n",
    "    - Analizar la frecuencia con la que cada grupo realiza compras en el futuro.\n",
    "    - Realizar una prueba de hipótesis para determinar si hay una relación significativa entre la cantidad de dinero gastado y la frecuencia de las compras futuras."
   ]
  },
  {
   "cell_type": "markdown",
   "metadata": {},
   "source": [
    "### Conclusiones y Recomendaciones\n",
    "Mediante el análisis exhaustivo de los datos de ventas de la empresa en los últimos dos años, esperamos llegar a conclusiones sobre patrones y tendencias en el comportamiento de los clientes y productos. En base a estas conclusiones, realizaremos recomendaciones adecuadas para optimizar las estrategias de marketing y maximizar los ingresos de la empresa."
   ]
  }
 ],
 "metadata": {
  "kernelspec": {
   "display_name": "Python 3 (ipykernel)",
   "language": "python",
   "name": "python3"
  },
  "language_info": {
   "codemirror_mode": {
    "name": "ipython",
    "version": 3
   },
   "file_extension": ".py",
   "mimetype": "text/x-python",
   "name": "python",
   "nbconvert_exporter": "python",
   "pygments_lexer": "ipython3",
   "version": "3.9.12"
  },
  "toc": {
   "base_numbering": 1,
   "nav_menu": {},
   "number_sections": true,
   "sideBar": true,
   "skip_h1_title": true,
   "title_cell": "Table of Contents",
   "title_sidebar": "Contents",
   "toc_cell": false,
   "toc_position": {},
   "toc_section_display": true,
   "toc_window_display": false
  }
 },
 "nbformat": 4,
 "nbformat_minor": 2
}
