{
  "cells": [
    {
      "cell_type": "markdown",
      "metadata": {
        "id": "E0vqbgi9ay0H"
      },
      "source": [
        "# Yandex.Music"
      ]
    },
    {
      "cell_type": "markdown",
      "metadata": {
        "id": "Ml1hmfXC_Zcs"
      },
      "source": [
        "## Etapa 1. Descripción de los datos <a id='data_review'></a>\n"
      ]
    },
    {
      "cell_type": "code",
      "source": [
        "from google.colab import drive\n",
        "drive.mount('/content/drive')"
      ],
      "metadata": {
        "colab": {
          "base_uri": "https://localhost:8080/"
        },
        "id": "vN1uomx-Ld6a",
        "outputId": "849ef0d1-38fa-4038-8a53-513403dbbb0e"
      },
      "execution_count": 23,
      "outputs": [
        {
          "output_type": "stream",
          "name": "stdout",
          "text": [
            "Drive already mounted at /content/drive; to attempt to forcibly remount, call drive.mount(\"/content/drive\", force_remount=True).\n"
          ]
        }
      ]
    },
    {
      "cell_type": "code",
      "execution_count": 24,
      "metadata": {
        "id": "AXN7PHPN_Zcs"
      },
      "outputs": [],
      "source": [
        "import pandas as pd"
      ]
    },
    {
      "cell_type": "code",
      "execution_count": 25,
      "metadata": {
        "id": "fFVu7vqh_Zct",
        "colab": {
          "base_uri": "https://localhost:8080/",
          "height": 175
        },
        "outputId": "648c2efa-9a67-4547-d648-84e8afb76910"
      },
      "outputs": [
        {
          "output_type": "execute_result",
          "data": {
            "text/plain": [
              "          userID  Track     artist  genre       City        time     Day\n",
              "count      65079  63736      57512  63881        65079     65079   65079\n",
              "unique     41748  39666      37806    268            2     20392       3\n",
              "top     A8AE9169  Brand  Kartvelli    pop  Springfield  08:14:07  Friday\n",
              "freq          76    136        136   8850        45360        14   23149"
            ],
            "text/html": [
              "\n",
              "  <div id=\"df-ae699fbb-9ef7-4baf-a860-5f5d3fa35212\">\n",
              "    <div class=\"colab-df-container\">\n",
              "      <div>\n",
              "<style scoped>\n",
              "    .dataframe tbody tr th:only-of-type {\n",
              "        vertical-align: middle;\n",
              "    }\n",
              "\n",
              "    .dataframe tbody tr th {\n",
              "        vertical-align: top;\n",
              "    }\n",
              "\n",
              "    .dataframe thead th {\n",
              "        text-align: right;\n",
              "    }\n",
              "</style>\n",
              "<table border=\"1\" class=\"dataframe\">\n",
              "  <thead>\n",
              "    <tr style=\"text-align: right;\">\n",
              "      <th></th>\n",
              "      <th>userID</th>\n",
              "      <th>Track</th>\n",
              "      <th>artist</th>\n",
              "      <th>genre</th>\n",
              "      <th>City</th>\n",
              "      <th>time</th>\n",
              "      <th>Day</th>\n",
              "    </tr>\n",
              "  </thead>\n",
              "  <tbody>\n",
              "    <tr>\n",
              "      <th>count</th>\n",
              "      <td>65079</td>\n",
              "      <td>63736</td>\n",
              "      <td>57512</td>\n",
              "      <td>63881</td>\n",
              "      <td>65079</td>\n",
              "      <td>65079</td>\n",
              "      <td>65079</td>\n",
              "    </tr>\n",
              "    <tr>\n",
              "      <th>unique</th>\n",
              "      <td>41748</td>\n",
              "      <td>39666</td>\n",
              "      <td>37806</td>\n",
              "      <td>268</td>\n",
              "      <td>2</td>\n",
              "      <td>20392</td>\n",
              "      <td>3</td>\n",
              "    </tr>\n",
              "    <tr>\n",
              "      <th>top</th>\n",
              "      <td>A8AE9169</td>\n",
              "      <td>Brand</td>\n",
              "      <td>Kartvelli</td>\n",
              "      <td>pop</td>\n",
              "      <td>Springfield</td>\n",
              "      <td>08:14:07</td>\n",
              "      <td>Friday</td>\n",
              "    </tr>\n",
              "    <tr>\n",
              "      <th>freq</th>\n",
              "      <td>76</td>\n",
              "      <td>136</td>\n",
              "      <td>136</td>\n",
              "      <td>8850</td>\n",
              "      <td>45360</td>\n",
              "      <td>14</td>\n",
              "      <td>23149</td>\n",
              "    </tr>\n",
              "  </tbody>\n",
              "</table>\n",
              "</div>\n",
              "      <button class=\"colab-df-convert\" onclick=\"convertToInteractive('df-ae699fbb-9ef7-4baf-a860-5f5d3fa35212')\"\n",
              "              title=\"Convert this dataframe to an interactive table.\"\n",
              "              style=\"display:none;\">\n",
              "        \n",
              "  <svg xmlns=\"http://www.w3.org/2000/svg\" height=\"24px\"viewBox=\"0 0 24 24\"\n",
              "       width=\"24px\">\n",
              "    <path d=\"M0 0h24v24H0V0z\" fill=\"none\"/>\n",
              "    <path d=\"M18.56 5.44l.94 2.06.94-2.06 2.06-.94-2.06-.94-.94-2.06-.94 2.06-2.06.94zm-11 1L8.5 8.5l.94-2.06 2.06-.94-2.06-.94L8.5 2.5l-.94 2.06-2.06.94zm10 10l.94 2.06.94-2.06 2.06-.94-2.06-.94-.94-2.06-.94 2.06-2.06.94z\"/><path d=\"M17.41 7.96l-1.37-1.37c-.4-.4-.92-.59-1.43-.59-.52 0-1.04.2-1.43.59L10.3 9.45l-7.72 7.72c-.78.78-.78 2.05 0 2.83L4 21.41c.39.39.9.59 1.41.59.51 0 1.02-.2 1.41-.59l7.78-7.78 2.81-2.81c.8-.78.8-2.07 0-2.86zM5.41 20L4 18.59l7.72-7.72 1.47 1.35L5.41 20z\"/>\n",
              "  </svg>\n",
              "      </button>\n",
              "      \n",
              "  <style>\n",
              "    .colab-df-container {\n",
              "      display:flex;\n",
              "      flex-wrap:wrap;\n",
              "      gap: 12px;\n",
              "    }\n",
              "\n",
              "    .colab-df-convert {\n",
              "      background-color: #E8F0FE;\n",
              "      border: none;\n",
              "      border-radius: 50%;\n",
              "      cursor: pointer;\n",
              "      display: none;\n",
              "      fill: #1967D2;\n",
              "      height: 32px;\n",
              "      padding: 0 0 0 0;\n",
              "      width: 32px;\n",
              "    }\n",
              "\n",
              "    .colab-df-convert:hover {\n",
              "      background-color: #E2EBFA;\n",
              "      box-shadow: 0px 1px 2px rgba(60, 64, 67, 0.3), 0px 1px 3px 1px rgba(60, 64, 67, 0.15);\n",
              "      fill: #174EA6;\n",
              "    }\n",
              "\n",
              "    [theme=dark] .colab-df-convert {\n",
              "      background-color: #3B4455;\n",
              "      fill: #D2E3FC;\n",
              "    }\n",
              "\n",
              "    [theme=dark] .colab-df-convert:hover {\n",
              "      background-color: #434B5C;\n",
              "      box-shadow: 0px 1px 3px 1px rgba(0, 0, 0, 0.15);\n",
              "      filter: drop-shadow(0px 1px 2px rgba(0, 0, 0, 0.3));\n",
              "      fill: #FFFFFF;\n",
              "    }\n",
              "  </style>\n",
              "\n",
              "      <script>\n",
              "        const buttonEl =\n",
              "          document.querySelector('#df-ae699fbb-9ef7-4baf-a860-5f5d3fa35212 button.colab-df-convert');\n",
              "        buttonEl.style.display =\n",
              "          google.colab.kernel.accessAllowed ? 'block' : 'none';\n",
              "\n",
              "        async function convertToInteractive(key) {\n",
              "          const element = document.querySelector('#df-ae699fbb-9ef7-4baf-a860-5f5d3fa35212');\n",
              "          const dataTable =\n",
              "            await google.colab.kernel.invokeFunction('convertToInteractive',\n",
              "                                                     [key], {});\n",
              "          if (!dataTable) return;\n",
              "\n",
              "          const docLinkHtml = 'Like what you see? Visit the ' +\n",
              "            '<a target=\"_blank\" href=https://colab.research.google.com/notebooks/data_table.ipynb>data table notebook</a>'\n",
              "            + ' to learn more about interactive tables.';\n",
              "          element.innerHTML = '';\n",
              "          dataTable['output_type'] = 'display_data';\n",
              "          await google.colab.output.renderOutput(dataTable, element);\n",
              "          const docLink = document.createElement('div');\n",
              "          docLink.innerHTML = docLinkHtml;\n",
              "          element.appendChild(docLink);\n",
              "        }\n",
              "      </script>\n",
              "    </div>\n",
              "  </div>\n",
              "  "
            ]
          },
          "metadata": {},
          "execution_count": 25
        }
      ],
      "source": [
        "df = pd.read_csv('/content/drive/MyDrive/Colab Notebooks/01 - Python Básico/01 - Tarea/music_project_en.csv')\n",
        "df.describe()"
      ]
    },
    {
      "cell_type": "markdown",
      "metadata": {
        "id": "rDoOMd3uTqnZ"
      },
      "source": [
        "Imprimí las 10 primeras lineas de la tabla para poder hacer un primer análisis."
      ]
    },
    {
      "cell_type": "code",
      "execution_count": 26,
      "metadata": {
        "id": "oWTVX3gW_Zct",
        "colab": {
          "base_uri": "https://localhost:8080/"
        },
        "outputId": "266409ad-8a4d-4398-ba57-894ea9da2399"
      },
      "outputs": [
        {
          "output_type": "stream",
          "name": "stdout",
          "text": [
            "     userID                        Track            artist   genre  \\\n",
            "0  FFB692EC            Kamigata To Boots  The Mass Missile    rock   \n",
            "1  55204538  Delayed Because of Accident  Andreas Rönnberg    rock   \n",
            "2    20EC38            Funiculì funiculà       Mario Lanza     pop   \n",
            "3  A3DD03C9        Dragons in the Sunset        Fire + Ice    folk   \n",
            "4  E2DC1FAE                  Soul People        Space Echo   dance   \n",
            "5  842029A1                       Chains          Obladaet  rusrap   \n",
            "6  4CB90AA5                         True      Roman Messer   dance   \n",
            "7  F03E1C1F             Feeling This Way   Polina Griffith   dance   \n",
            "8  8FA1D3BE                     L’estate       Julia Dalia  ruspop   \n",
            "9  E772D5C0                    Pessimist               NaN   dance   \n",
            "\n",
            "        City        time        Day  \n",
            "0  Shelbyville  20:28:33  Wednesday  \n",
            "1  Springfield  14:07:09     Friday  \n",
            "2  Shelbyville  20:58:07  Wednesday  \n",
            "3  Shelbyville  08:37:09     Monday  \n",
            "4  Springfield  08:34:34     Monday  \n",
            "5  Shelbyville  13:09:41     Friday  \n",
            "6  Springfield  13:00:07  Wednesday  \n",
            "7  Springfield  20:47:49  Wednesday  \n",
            "8  Springfield  09:17:40     Friday  \n",
            "9  Shelbyville  21:20:49  Wednesday  \n"
          ]
        }
      ],
      "source": [
        "print(df.head(10))"
      ]
    },
    {
      "cell_type": "markdown",
      "metadata": {
        "id": "EO73Kwic_Zct"
      },
      "source": [
        "Obtener la información general sobre la tabla con un comando:"
      ]
    },
    {
      "cell_type": "code",
      "execution_count": 27,
      "metadata": {
        "id": "DSf2kIb-_Zct",
        "colab": {
          "base_uri": "https://localhost:8080/"
        },
        "outputId": "dd232c78-f6ce-4ae5-e881-69c5b27fef7e"
      },
      "outputs": [
        {
          "output_type": "stream",
          "name": "stdout",
          "text": [
            "<class 'pandas.core.frame.DataFrame'>\n",
            "RangeIndex: 65079 entries, 0 to 65078\n",
            "Data columns (total 7 columns):\n",
            " #   Column    Non-Null Count  Dtype \n",
            "---  ------    --------------  ----- \n",
            " 0     userID  65079 non-null  object\n",
            " 1   Track     63736 non-null  object\n",
            " 2   artist    57512 non-null  object\n",
            " 3   genre     63881 non-null  object\n",
            " 4     City    65079 non-null  object\n",
            " 5   time      65079 non-null  object\n",
            " 6   Day       65079 non-null  object\n",
            "dtypes: object(7)\n",
            "memory usage: 3.5+ MB\n"
          ]
        }
      ],
      "source": [
        "df.info()"
      ]
    },
    {
      "cell_type": "markdown",
      "metadata": {
        "id": "TaQ2Iwbr_Zct"
      },
      "source": [
        "De acuerdo con la documentación:\n",
        "- `'userID'` — identificador del usuario\n",
        "- `'Track'` — título de la pista\n",
        "- `'artist'` — nombre del artista\n",
        "- `'genre'` — género\n",
        "- `'City'` — ciudad del usuario\n",
        "- `'time'` — el periodo de tiempo exacto en que se reprodujo la pista\n",
        "- `'Day'` — día de la semana"
      ]
    },
    {
      "cell_type": "markdown",
      "metadata": {
        "id": "SjYF6Ub9_Zct"
      },
      "source": [
        "## Etapa 2. Preprocesamiento de datos <a id='data_preprocessing'></a>\n"
      ]
    },
    {
      "cell_type": "markdown",
      "metadata": {
        "id": "dIaKXr29_Zct"
      },
      "source": [
        "### Estilo del encabezado <a id='header_style'></a>\n"
      ]
    },
    {
      "cell_type": "code",
      "execution_count": 28,
      "metadata": {
        "colab": {
          "base_uri": "https://localhost:8080/"
        },
        "id": "uIu19VRYJuc6",
        "outputId": "3c6a0d6d-1713-42a3-9a43-56e2457f80ed"
      },
      "outputs": [
        {
          "output_type": "execute_result",
          "data": {
            "text/plain": [
              "Index(['  userID', 'Track', 'artist', 'genre', '  City  ', 'time', 'Day'], dtype='object')"
            ]
          },
          "metadata": {},
          "execution_count": 28
        }
      ],
      "source": [
        "df.columns"
      ]
    },
    {
      "cell_type": "markdown",
      "metadata": {
        "id": "zj5534cv_Zct"
      },
      "source": [
        "Se cambia el nombre de las columnas:"
      ]
    },
    {
      "cell_type": "code",
      "execution_count": 29,
      "metadata": {
        "id": "ISlFqs5y_Zct"
      },
      "outputs": [],
      "source": [
        "df = df.rename(\n",
        "columns={\n",
        "    '  userID': 'user_id', \n",
        "    'Track': 'track_name', \n",
        "    'artist': 'track_artist', \n",
        "    'genre': 'track_genre', \n",
        "    '  City  ': 'user_city', \n",
        "    'time': 'time_track_played', \n",
        "    'Day': 'weekday_track_played'\n",
        "}\n",
        ")"
      ]
    },
    {
      "cell_type": "markdown",
      "metadata": {
        "id": "1dqbh00J_Zct"
      },
      "source": [
        "Se comprueba el resultado:"
      ]
    },
    {
      "cell_type": "code",
      "execution_count": 30,
      "metadata": {
        "id": "d4NOAmTW_Zct",
        "colab": {
          "base_uri": "https://localhost:8080/"
        },
        "outputId": "49283376-bf7d-4a50-9e5e-586cd695c1ca"
      },
      "outputs": [
        {
          "output_type": "stream",
          "name": "stdout",
          "text": [
            "Index(['user_id', 'track_name', 'track_artist', 'track_genre', 'user_city',\n",
            "       'time_track_played', 'weekday_track_played'],\n",
            "      dtype='object')\n"
          ]
        }
      ],
      "source": [
        "print(df.columns)"
      ]
    },
    {
      "cell_type": "markdown",
      "metadata": {
        "id": "5ISfbcfY_Zct"
      },
      "source": [
        "### Valores ausentes <a id='missing_values'></a>"
      ]
    },
    {
      "cell_type": "code",
      "execution_count": 31,
      "metadata": {
        "id": "RskX29qr_Zct",
        "colab": {
          "base_uri": "https://localhost:8080/"
        },
        "outputId": "d0627dfd-77b1-4312-d775-ba4f61ad70fb"
      },
      "outputs": [
        {
          "output_type": "stream",
          "name": "stdout",
          "text": [
            "user_id                    0\n",
            "track_name              1343\n",
            "track_artist            7567\n",
            "track_genre             1198\n",
            "user_city                  0\n",
            "time_track_played          0\n",
            "weekday_track_played       0\n",
            "dtype: int64\n",
            "\n",
            "user_id                    0\n",
            "track_name              1343\n",
            "track_artist            7567\n",
            "track_genre             1198\n",
            "user_city                  0\n",
            "time_track_played          0\n",
            "weekday_track_played       0\n",
            "dtype: int64\n"
          ]
        }
      ],
      "source": [
        "print(df.isna().sum())\n",
        "print()\n",
        "print(df.isnull().sum())"
      ]
    },
    {
      "cell_type": "markdown",
      "metadata": {
        "id": "fSv2laPA_Zct"
      },
      "source": [
        "Se reemplazan los valores ausentes en `'track'`, `'artist'`, y `'genre'` con la string `'unknown':"
      ]
    },
    {
      "cell_type": "code",
      "execution_count": 32,
      "metadata": {
        "colab": {
          "base_uri": "https://localhost:8080/"
        },
        "id": "GXwvpc9HJuc8",
        "outputId": "b49c9149-4928-4de0-ff87-78a2c0f53787"
      },
      "outputs": [
        {
          "output_type": "stream",
          "name": "stdout",
          "text": [
            "['track_name', 'track_artist', 'track_genre']\n"
          ]
        }
      ],
      "source": [
        "columns_to_replace = ['track_name', 'track_artist', 'track_genre']\n",
        "for columns in columns_to_replace:\n",
        "    df[columns] = df[columns].fillna('unknown')\n",
        "    \n",
        "print(columns_to_replace)"
      ]
    },
    {
      "cell_type": "markdown",
      "metadata": {
        "id": "Ilsm-MZo_Zct"
      },
      "source": [
        "Confirmación de que la tabla no contiene más valores ausentes.\n"
      ]
    },
    {
      "cell_type": "code",
      "execution_count": 33,
      "metadata": {
        "id": "Tq4nYRX4_Zct",
        "colab": {
          "base_uri": "https://localhost:8080/"
        },
        "outputId": "0bcfab41-e303-4604-f0f2-a8de0ea9c8cb"
      },
      "outputs": [
        {
          "output_type": "stream",
          "name": "stdout",
          "text": [
            "user_id                 0\n",
            "track_name              0\n",
            "track_artist            0\n",
            "track_genre             0\n",
            "user_city               0\n",
            "time_track_played       0\n",
            "weekday_track_played    0\n",
            "dtype: int64\n"
          ]
        }
      ],
      "source": [
        "print(df.isna().sum())"
      ]
    },
    {
      "cell_type": "markdown",
      "metadata": {
        "id": "BWKRtBJ3_Zct"
      },
      "source": [
        "### Duplicados <a id='duplicates'></a>"
      ]
    },
    {
      "cell_type": "code",
      "execution_count": 34,
      "metadata": {
        "id": "36eES_S0_Zct",
        "colab": {
          "base_uri": "https://localhost:8080/"
        },
        "outputId": "b33fc34a-f034-4716-b505-f7e6c6032a9f"
      },
      "outputs": [
        {
          "output_type": "stream",
          "name": "stdout",
          "text": [
            "3826\n"
          ]
        }
      ],
      "source": [
        "print(df.duplicated().sum())"
      ]
    },
    {
      "cell_type": "code",
      "execution_count": 35,
      "metadata": {
        "id": "Z2KMA-aNJuc9"
      },
      "outputs": [],
      "source": [
        "df = df.drop_duplicates().reset_index(drop=True)"
      ]
    },
    {
      "cell_type": "markdown",
      "metadata": {
        "id": "Im2YwBEG_Zct"
      },
      "source": [
        "Comprobación de que los duplicados obvios fueron eliminados:"
      ]
    },
    {
      "cell_type": "code",
      "execution_count": 36,
      "metadata": {
        "id": "-8PuNWQ0_Zct",
        "colab": {
          "base_uri": "https://localhost:8080/"
        },
        "outputId": "01172567-e680-4856-8386-d3d2cd5b6a1a"
      },
      "outputs": [
        {
          "output_type": "stream",
          "name": "stdout",
          "text": [
            "0\n"
          ]
        }
      ],
      "source": [
        "print(df.duplicated().sum())"
      ]
    },
    {
      "cell_type": "markdown",
      "source": [
        "### Duplicados Implicitos:"
      ],
      "metadata": {
        "id": "Gu0YK_lYOYto"
      }
    },
    {
      "cell_type": "code",
      "execution_count": 37,
      "metadata": {
        "colab": {
          "base_uri": "https://localhost:8080/"
        },
        "id": "wfsMUI1HJuc-",
        "outputId": "4c6a94ae-f261-45e9-b093-d478c7da827d"
      },
      "outputs": [
        {
          "output_type": "stream",
          "name": "stdout",
          "text": [
            "['acid', 'acoustic', 'action', 'adult', 'africa', 'afrikaans', 'alternative', 'ambient', 'americana', 'animated', 'anime', 'arabesk', 'arabic', 'arena', 'argentinetango', 'art', 'audiobook', 'avantgarde', 'axé', 'baile', 'balkan', 'beats', 'bigroom', 'black', 'bluegrass', 'blues', 'bollywood', 'bossa', 'brazilian', 'breakbeat', 'breaks', 'broadway', 'cantautori', 'cantopop', 'canzone', 'caribbean', 'caucasian', 'celtic', 'chamber', 'children', 'chill', 'chinese', 'choral', 'christian', 'christmas', 'classical', 'classicmetal', 'club', 'colombian', 'comedy', 'conjazz', 'contemporary', 'country', 'cuban', 'dance', 'dancehall', 'dancepop', 'dark', 'death', 'deep', 'deutschrock', 'deutschspr', 'dirty', 'disco', 'dnb', 'documentary', 'downbeat', 'downtempo', 'drum', 'dub', 'dubstep', 'eastern', 'easy', 'electronic', 'electropop', 'emo', 'entehno', 'epicmetal', 'estrada', 'ethnic', 'eurofolk', 'european', 'experimental', 'extrememetal', 'fado', 'film', 'fitness', 'flamenco', 'folk', 'folklore', 'folkmetal', 'folkrock', 'folktronica', 'forró', 'frankreich', 'französisch', 'french', 'funk', 'future', 'gangsta', 'garage', 'german', 'ghazal', 'gitarre', 'glitch', 'gospel', 'gothic', 'grime', 'grunge', 'gypsy', 'handsup', \"hard'n'heavy\", 'hardcore', 'hardstyle', 'hardtechno', 'hip', 'hip-hop', 'hiphop', 'historisch', 'holiday', 'hop', 'horror', 'house', 'idm', 'independent', 'indian', 'indie', 'indipop', 'industrial', 'inspirational', 'instrumental', 'international', 'irish', 'jam', 'japanese', 'jazz', 'jewish', 'jpop', 'jungle', 'k-pop', 'karadeniz', 'karaoke', 'kayokyoku', 'korean', 'laiko', 'latin', 'latino', 'leftfield', 'local', 'lounge', 'loungeelectronic', 'lovers', 'malaysian', 'mandopop', 'marschmusik', 'meditative', 'mediterranean', 'melodic', 'metal', 'metalcore', 'mexican', 'middle', 'minimal', 'miscellaneous', 'modern', 'mood', 'mpb', 'muslim', 'native', 'neoklassik', 'neue', 'new', 'newage', 'newwave', 'nu', 'nujazz', 'numetal', 'oceania', 'old', 'opera', 'orchestral', 'other', 'piano', 'pop', 'popelectronic', 'popeurodance', 'post', 'posthardcore', 'postrock', 'power', 'progmetal', 'progressive', 'psychedelic', 'punjabi', 'punk', 'quebecois', 'ragga', 'ram', 'rancheras', 'rap', 'rave', 'reggae', 'reggaeton', 'regional', 'relax', 'religious', 'retro', 'rhythm', 'rnb', 'rnr', 'rock', 'rockabilly', 'romance', 'roots', 'ruspop', 'rusrap', 'rusrock', 'salsa', 'samba', 'schlager', 'self', 'sertanejo', 'shoegazing', 'showtunes', 'singer', 'ska', 'slow', 'smooth', 'soul', 'soulful', 'sound', 'soundtrack', 'southern', 'specialty', 'speech', 'spiritual', 'sport', 'stonerrock', 'surf', 'swing', 'synthpop', 'sängerportrait', 'tango', 'tanzorchester', 'taraftar', 'tech', 'techno', 'thrash', 'top', 'traditional', 'tradjazz', 'trance', 'tribal', 'trip', 'triphop', 'tropical', 'türk', 'türkçe', 'unknown', 'urban', 'uzbek', 'variété', 'vi', 'videogame', 'vocal', 'western', 'world', 'worldbeat', 'ïîï']\n"
          ]
        }
      ],
      "source": [
        "print(sorted(df['track_genre'].unique()))"
      ]
    },
    {
      "cell_type": "code",
      "execution_count": 38,
      "metadata": {
        "id": "uOQUBb50Juc-"
      },
      "outputs": [],
      "source": [
        "def replace_wrong_values(wrong_genres, correct_genre):\n",
        "    for wrong_genre in wrong_genres:\n",
        "        df['track_genre'] = df['track_genre'].replace(wrong_genre, correct_genre)"
      ]
    },
    {
      "cell_type": "markdown",
      "source": [
        "Comprobación de que se eliminaron los duplicados implicitos."
      ],
      "metadata": {
        "id": "2_HTS8jeOzWD"
      }
    },
    {
      "cell_type": "code",
      "execution_count": 39,
      "metadata": {
        "colab": {
          "base_uri": "https://localhost:8080/"
        },
        "id": "IuXuxoOcJuc_",
        "outputId": "2c6d82a3-f087-4f17-9b14-d695074b98e6"
      },
      "outputs": [
        {
          "output_type": "stream",
          "name": "stdout",
          "text": [
            "['acid', 'acoustic', 'action', 'adult', 'africa', 'afrikaans', 'alternative', 'ambient', 'americana', 'animated', 'anime', 'arabesk', 'arabic', 'arena', 'argentinetango', 'art', 'audiobook', 'avantgarde', 'axé', 'baile', 'balkan', 'beats', 'bigroom', 'black', 'bluegrass', 'blues', 'bollywood', 'bossa', 'brazilian', 'breakbeat', 'breaks', 'broadway', 'cantautori', 'cantopop', 'canzone', 'caribbean', 'caucasian', 'celtic', 'chamber', 'children', 'chill', 'chinese', 'choral', 'christian', 'christmas', 'classical', 'classicmetal', 'club', 'colombian', 'comedy', 'conjazz', 'contemporary', 'country', 'cuban', 'dance', 'dancehall', 'dancepop', 'dark', 'death', 'deep', 'deutschrock', 'deutschspr', 'dirty', 'disco', 'dnb', 'documentary', 'downbeat', 'downtempo', 'drum', 'dub', 'dubstep', 'eastern', 'easy', 'electronic', 'electropop', 'emo', 'entehno', 'epicmetal', 'estrada', 'ethnic', 'eurofolk', 'european', 'experimental', 'extrememetal', 'fado', 'film', 'fitness', 'flamenco', 'folk', 'folklore', 'folkmetal', 'folkrock', 'folktronica', 'forró', 'frankreich', 'französisch', 'french', 'funk', 'future', 'gangsta', 'garage', 'german', 'ghazal', 'gitarre', 'glitch', 'gospel', 'gothic', 'grime', 'grunge', 'gypsy', 'handsup', \"hard'n'heavy\", 'hardcore', 'hardstyle', 'hardtechno', 'hip', 'hip-hop', 'hiphop', 'historisch', 'holiday', 'hop', 'horror', 'house', 'idm', 'independent', 'indian', 'indie', 'indipop', 'industrial', 'inspirational', 'instrumental', 'international', 'irish', 'jam', 'japanese', 'jazz', 'jewish', 'jpop', 'jungle', 'k-pop', 'karadeniz', 'karaoke', 'kayokyoku', 'korean', 'laiko', 'latin', 'latino', 'leftfield', 'local', 'lounge', 'loungeelectronic', 'lovers', 'malaysian', 'mandopop', 'marschmusik', 'meditative', 'mediterranean', 'melodic', 'metal', 'metalcore', 'mexican', 'middle', 'minimal', 'miscellaneous', 'modern', 'mood', 'mpb', 'muslim', 'native', 'neoklassik', 'neue', 'new', 'newage', 'newwave', 'nu', 'nujazz', 'numetal', 'oceania', 'old', 'opera', 'orchestral', 'other', 'piano', 'pop', 'popelectronic', 'popeurodance', 'post', 'posthardcore', 'postrock', 'power', 'progmetal', 'progressive', 'psychedelic', 'punjabi', 'punk', 'quebecois', 'ragga', 'ram', 'rancheras', 'rap', 'rave', 'reggae', 'reggaeton', 'regional', 'relax', 'religious', 'retro', 'rhythm', 'rnb', 'rnr', 'rock', 'rockabilly', 'romance', 'roots', 'ruspop', 'rusrap', 'rusrock', 'salsa', 'samba', 'schlager', 'self', 'sertanejo', 'shoegazing', 'showtunes', 'singer', 'ska', 'slow', 'smooth', 'soul', 'soulful', 'sound', 'soundtrack', 'southern', 'specialty', 'speech', 'spiritual', 'sport', 'stonerrock', 'surf', 'swing', 'synthpop', 'sängerportrait', 'tango', 'tanzorchester', 'taraftar', 'tech', 'techno', 'thrash', 'top', 'traditional', 'tradjazz', 'trance', 'tribal', 'trip', 'triphop', 'tropical', 'türk', 'türkçe', 'unknown', 'urban', 'uzbek', 'variété', 'vi', 'videogame', 'vocal', 'western', 'world', 'worldbeat', 'ïîï']\n"
          ]
        }
      ],
      "source": [
        "print(sorted(df['track_genre'].unique()))"
      ]
    },
    {
      "cell_type": "markdown",
      "metadata": {
        "id": "WttZHXH0SqKk"
      },
      "source": [
        "## Etapa 3. Prueba de hipótesis <a id='hypotheses'></a>"
      ]
    },
    {
      "cell_type": "markdown",
      "metadata": {
        "id": "Im936VVi_Zcu"
      },
      "source": [
        "### Hipótesis 1: comparar el comportamiento del usuario en las dos ciudades <a id='activity'></a>"
      ]
    },
    {
      "cell_type": "code",
      "execution_count": null,
      "metadata": {
        "id": "0_Qs96oh_Zcu",
        "outputId": "110a171f-a4e3-4f7f-90e7-944b702552eb"
      },
      "outputs": [
        {
          "name": "stdout",
          "output_type": "stream",
          "text": [
            "user_city\n",
            "Shelbyville    18512\n",
            "Springfield    42741\n",
            "Name: weekday_track_played, dtype: int64\n"
          ]
        }
      ],
      "source": [
        "# contando las pistas reproducidas en cada ciudad\n",
        "number_of_cities = (df.groupby('user_city')['weekday_track_played']).count()\n",
        "print(number_of_cities)"
      ]
    },
    {
      "cell_type": "code",
      "execution_count": null,
      "metadata": {
        "id": "uZMKjiJz_Zcu",
        "outputId": "167843b8-8a9b-43d1-fa70-9550881acb0a"
      },
      "outputs": [
        {
          "data": {
            "text/plain": [
              "weekday_track_played\n",
              "Friday       21840\n",
              "Monday       21354\n",
              "Wednesday    18059\n",
              "Name: track_name, dtype: int64"
            ]
          },
          "execution_count": 27,
          "metadata": {},
          "output_type": "execute_result"
        }
      ],
      "source": [
        "# calculando las pistas reproducidas en cada uno de los tres días\n",
        "df.groupby('weekday_track_played')['track_name'].count()\n"
      ]
    },
    {
      "cell_type": "code",
      "execution_count": null,
      "metadata": {
        "id": "UU5AV1j8JudA",
        "outputId": "a60b604f-7a15-4fbf-abc2-edb41495c905"
      },
      "outputs": [
        {
          "name": "stdout",
          "output_type": "stream",
          "text": [
            "El número de pistas reproducidas los Lunes es: 21354\n",
            "El número de pistas reproducidas los Miercoles es: 18059\n",
            "El número de pistas reproducidas los Viernes es: 21840\n"
          ]
        }
      ],
      "source": [
        "# método largo\n",
        "week_day_monday = []\n",
        "week_day_wednesday = []\n",
        "week_day_friday = []\n",
        "\n",
        "for index in range(len(df)):\n",
        "    if df['weekday_track_played'][index] == 'Monday':\n",
        "        week_day_monday.append(df['weekday_track_played'][index])\n",
        "    elif df['weekday_track_played'][index] == 'Wednesday':\n",
        "        week_day_wednesday.append(df['weekday_track_played'][index])\n",
        "    elif df['weekday_track_played'][index] == 'Friday':\n",
        "        week_day_friday.append(df['weekday_track_played'][index])\n",
        "\n",
        "print('El número de pistas reproducidas los Lunes es:', len(week_day_monday))\n",
        "print('El número de pistas reproducidas los Miercoles es:', len(week_day_wednesday))\n",
        "print('El número de pistas reproducidas los Viernes es:', len(week_day_friday))"
      ]
    },
    {
      "cell_type": "markdown",
      "source": [
        "Se crea una función para calcular el número de canciones reproducidas en un determinado día y ciudad:"
      ],
      "metadata": {
        "id": "lou_daOTPNX1"
      }
    },
    {
      "cell_type": "code",
      "execution_count": 40,
      "metadata": {
        "id": "Nz3GdQB1_Zcu",
        "colab": {
          "base_uri": "https://localhost:8080/"
        },
        "outputId": "97e8de75-e91f-4c4c-c454-27c782c82c12"
      },
      "outputs": [
        {
          "output_type": "stream",
          "name": "stdout",
          "text": [
            "0\n",
            "15740\n"
          ]
        }
      ],
      "source": [
        "def number_tracks(day_lk='Monday', city_lk='Santiago'):\n",
        "    track_list = df[(df['weekday_track_played'] == day_lk) & (df['user_city'] == city_lk)]\n",
        "    track_list_count = track_list['user_id'].count()\n",
        "    return(track_list_count)\n",
        "\n",
        "print(number_tracks()) # Retorna 0 porque porque defecto se ingresó Santiago y esta ciudad no está en la tabla\n",
        "print(number_tracks('Monday', 'Springfield'))"
      ]
    },
    {
      "cell_type": "markdown",
      "metadata": {
        "id": "ytf7xFrFJQ2r"
      },
      "source": [
        "Recuperamos los datos de ambas ciudades para cada uno de los tres días."
      ]
    },
    {
      "cell_type": "code",
      "execution_count": 41,
      "metadata": {
        "id": "rJcRATNQ_Zcu",
        "colab": {
          "base_uri": "https://localhost:8080/"
        },
        "outputId": "199c60c1-c81d-4e0f-c9be-2d466a6b1e18"
      },
      "outputs": [
        {
          "output_type": "stream",
          "name": "stdout",
          "text": [
            "15740\n"
          ]
        }
      ],
      "source": [
        "print(number_tracks('Monday', 'Springfield'))"
      ]
    },
    {
      "cell_type": "code",
      "execution_count": 42,
      "metadata": {
        "id": "hq_ncZ5T_Zcu",
        "colab": {
          "base_uri": "https://localhost:8080/"
        },
        "outputId": "afb0d3fb-1e97-4f80-9028-5d287a22599f"
      },
      "outputs": [
        {
          "output_type": "stream",
          "name": "stdout",
          "text": [
            "5614\n"
          ]
        }
      ],
      "source": [
        "print(number_tracks('Monday', 'Shelbyville'))"
      ]
    },
    {
      "cell_type": "code",
      "execution_count": 43,
      "metadata": {
        "id": "_NTy2VPU_Zcu",
        "colab": {
          "base_uri": "https://localhost:8080/"
        },
        "outputId": "41ba7d9e-51c2-4971-99c9-eaa2eab90e6c"
      },
      "outputs": [
        {
          "output_type": "stream",
          "name": "stdout",
          "text": [
            "11056\n"
          ]
        }
      ],
      "source": [
        "print(number_tracks('Wednesday', 'Springfield'))"
      ]
    },
    {
      "cell_type": "code",
      "execution_count": 44,
      "metadata": {
        "id": "j2y3TAwo_Zcu",
        "colab": {
          "base_uri": "https://localhost:8080/"
        },
        "outputId": "5d815e72-6b8d-4eea-ac1a-7375bd9c51dd"
      },
      "outputs": [
        {
          "output_type": "stream",
          "name": "stdout",
          "text": [
            "7003\n"
          ]
        }
      ],
      "source": [
        "print(number_tracks('Wednesday', 'Shelbyville'))"
      ]
    },
    {
      "cell_type": "code",
      "execution_count": 45,
      "metadata": {
        "id": "vYDw5u_K_Zcu",
        "colab": {
          "base_uri": "https://localhost:8080/"
        },
        "outputId": "a9ef5a55-d8d2-43ba-9140-0e2e7c52105b"
      },
      "outputs": [
        {
          "output_type": "stream",
          "name": "stdout",
          "text": [
            "15945\n"
          ]
        }
      ],
      "source": [
        "print(number_tracks('Friday', 'Springfield'))"
      ]
    },
    {
      "cell_type": "code",
      "execution_count": 46,
      "metadata": {
        "id": "8_yzFtW3_Zcu",
        "colab": {
          "base_uri": "https://localhost:8080/"
        },
        "outputId": "f2b496df-dc4a-4e81-f662-077a720c81da"
      },
      "outputs": [
        {
          "output_type": "stream",
          "name": "stdout",
          "text": [
            "5895\n"
          ]
        }
      ],
      "source": [
        "print(number_tracks('Friday', 'Shelbyville'))"
      ]
    },
    {
      "cell_type": "markdown",
      "metadata": {
        "id": "7QXffbO-_Zcu"
      },
      "source": [
        "Creamos entonces una tabla con los datos encontrados:"
      ]
    },
    {
      "cell_type": "code",
      "execution_count": 47,
      "metadata": {
        "id": "fI1BdhrmJudC"
      },
      "outputs": [],
      "source": [
        "resultado = [\n",
        "    ['Spingfield', 15740, 11056, 159450],\n",
        "    ['Shelbyville', 5614, 7003, 5895]\n",
        "]\n",
        "\n",
        "columnas = ['city', 'monday', 'wednesday', 'friday']\n",
        "\n",
        "ciudades_dias = pd.DataFrame(data=resultado, columns=columnas)"
      ]
    },
    {
      "cell_type": "code",
      "execution_count": 48,
      "metadata": {
        "id": "APAcLpOr_Zcu",
        "colab": {
          "base_uri": "https://localhost:8080/"
        },
        "outputId": "abb3e6a4-c7f7-4943-dcb7-bbb2c6ac09e4"
      },
      "outputs": [
        {
          "output_type": "stream",
          "name": "stdout",
          "text": [
            "          city  monday  wednesday  friday\n",
            "0   Spingfield   15740      11056  159450\n",
            "1  Shelbyville    5614       7003    5895\n"
          ]
        }
      ],
      "source": [
        "print(ciudades_dias)"
      ]
    },
    {
      "cell_type": "markdown",
      "metadata": {
        "id": "atZAxtq4_Zcu"
      },
      "source": [
        "### Hipótesis 2: música al principio y al final de la semana <a id='week'></a>"
      ]
    },
    {
      "cell_type": "markdown",
      "metadata": {
        "id": "eXrQqXFH_Zcu"
      },
      "source": [
        "De acuerdo con la segunda hipótesis, los lunes por la mañana y los viernes por la noche los ciudadanos de Springfield escuchan géneros que difieren de aquellos que los usuarios de Shelbyville disfrutan."
      ]
    },
    {
      "cell_type": "code",
      "execution_count": 58,
      "metadata": {
        "id": "qeaFfM_P_Zcu"
      },
      "outputs": [],
      "source": [
        "spr_general = df.loc[df.loc[:,'user_city'] == 'Springfield']"
      ]
    },
    {
      "cell_type": "code",
      "execution_count": 59,
      "metadata": {
        "id": "ORaVRKto_Zcu"
      },
      "outputs": [],
      "source": [
        "shel_general = df.loc[df.loc[:,'user_city'] == 'Shelbyville']"
      ]
    },
    {
      "cell_type": "code",
      "execution_count": 60,
      "metadata": {
        "id": "FCgm8V-4JudD"
      },
      "outputs": [],
      "source": [
        "def genre_weekday(df, day, time1, time2):\n",
        "    genre_df = df[(df['weekday_track_played'] == day) & (df['time_track_played'] <= time2) & (df['time_track_played'] >= time1)]\n",
        "    genre_df_grouped = genre_df.groupby('track_genre')['track_genre'].count()\n",
        "    genre_df_sorted = genre_df_grouped.sort_values(ascending=False)\n",
        "    return genre_df_sorted[:15]"
      ]
    },
    {
      "cell_type": "markdown",
      "metadata": {
        "id": "la2s2_PF_Zcu"
      },
      "source": [
        "Comparación de los resultados:"
      ]
    },
    {
      "cell_type": "code",
      "execution_count": 61,
      "metadata": {
        "colab": {
          "base_uri": "https://localhost:8080/"
        },
        "id": "QMS_MshQJudD",
        "outputId": "381c4fba-0897-4f7b-da83-c4b06364e3f0"
      },
      "outputs": [
        {
          "output_type": "stream",
          "name": "stdout",
          "text": [
            "track_genre\n",
            "pop            781\n",
            "dance          549\n",
            "electronic     480\n",
            "rock           474\n",
            "hip            281\n",
            "ruspop         186\n",
            "world          181\n",
            "rusrap         175\n",
            "alternative    164\n",
            "unknown        161\n",
            "classical      157\n",
            "metal          120\n",
            "jazz           100\n",
            "folk            97\n",
            "soundtrack      95\n",
            "Name: track_genre, dtype: int64\n"
          ]
        }
      ],
      "source": [
        "print(genre_weekday(spr_general, 'Monday', '07:00', '11:00'))"
      ]
    },
    {
      "cell_type": "code",
      "execution_count": 62,
      "metadata": {
        "id": "kwUcHPdy_Zcu",
        "colab": {
          "base_uri": "https://localhost:8080/"
        },
        "outputId": "45ef8404-83f3-4f6d-c471-9528df33d26f"
      },
      "outputs": [
        {
          "output_type": "stream",
          "name": "stdout",
          "text": [
            "track_genre\n",
            "pop            218\n",
            "dance          182\n",
            "rock           162\n",
            "electronic     147\n",
            "hip             79\n",
            "ruspop          64\n",
            "alternative     58\n",
            "rusrap          55\n",
            "jazz            44\n",
            "classical       40\n",
            "world           36\n",
            "rap             32\n",
            "soundtrack      31\n",
            "rnb             27\n",
            "metal           27\n",
            "Name: track_genre, dtype: int64\n"
          ]
        }
      ],
      "source": [
        "print(genre_weekday(shel_general, 'Monday', '07:00', '11:00'))"
      ]
    },
    {
      "cell_type": "code",
      "execution_count": 63,
      "metadata": {
        "id": "EzXVRE1o_Zcu",
        "colab": {
          "base_uri": "https://localhost:8080/"
        },
        "outputId": "93ac5bd9-abb8-41ce-c5c3-2998d49091e1"
      },
      "outputs": [
        {
          "output_type": "stream",
          "name": "stdout",
          "text": [
            "track_genre\n",
            "pop            713\n",
            "rock           517\n",
            "dance          495\n",
            "electronic     482\n",
            "hip            267\n",
            "world          208\n",
            "ruspop         170\n",
            "classical      163\n",
            "alternative    163\n",
            "rusrap         142\n",
            "jazz           111\n",
            "unknown        110\n",
            "soundtrack     105\n",
            "rnb             90\n",
            "metal           88\n",
            "Name: track_genre, dtype: int64\n"
          ]
        }
      ],
      "source": [
        "print(genre_weekday(spr_general, 'Friday', '17:00', '23:00'))"
      ]
    },
    {
      "cell_type": "code",
      "execution_count": 64,
      "metadata": {
        "id": "JZaEKu5v_Zcu",
        "colab": {
          "base_uri": "https://localhost:8080/"
        },
        "outputId": "949def3f-38fb-4068-9125-2365d353ad2a"
      },
      "outputs": [
        {
          "output_type": "stream",
          "name": "stdout",
          "text": [
            "track_genre\n",
            "pop            218\n",
            "dance          182\n",
            "rock           162\n",
            "electronic     147\n",
            "hip             79\n",
            "ruspop          64\n",
            "alternative     58\n",
            "rusrap          55\n",
            "jazz            44\n",
            "classical       40\n",
            "world           36\n",
            "rap             32\n",
            "soundtrack      31\n",
            "rnb             27\n",
            "metal           27\n",
            "Name: track_genre, dtype: int64\n"
          ]
        }
      ],
      "source": [
        "print(genre_weekday(shel_general, 'Monday', '07:00', '11:00'))"
      ]
    },
    {
      "cell_type": "markdown",
      "metadata": {
        "id": "JolODAqr_Zcu"
      },
      "source": [
        "### Hipótesis 3: preferencias de género en Springfield y Shelbyville <a id='genre'></a>"
      ]
    },
    {
      "cell_type": "markdown",
      "metadata": {
        "id": "DlegSvaT_Zcu"
      },
      "source": [
        "Buscaremos entonces el número de canciones reproducidas de cada género:"
      ]
    },
    {
      "cell_type": "code",
      "execution_count": 65,
      "metadata": {
        "id": "VNmX5WQVJudE"
      },
      "outputs": [],
      "source": [
        "spr_general = (df.loc[df.loc[:,'user_city'] == 'Springfield']).groupby('track_genre')['track_genre']\n",
        "\n",
        "spr_counted = spr_general.count()\n",
        "\n",
        "spr_genres = spr_counted.sort_values(ascending = False)"
      ]
    },
    {
      "cell_type": "code",
      "execution_count": 66,
      "metadata": {
        "id": "WhCSooF8_Zcv",
        "colab": {
          "base_uri": "https://localhost:8080/"
        },
        "outputId": "2cfe47b5-4073-49b6-d7b3-c37719af499e"
      },
      "outputs": [
        {
          "output_type": "stream",
          "name": "stdout",
          "text": [
            "track_genre\n",
            "pop            5892\n",
            "dance          4435\n",
            "rock           3965\n",
            "electronic     3786\n",
            "hip            2041\n",
            "classical      1616\n",
            "world          1432\n",
            "alternative    1379\n",
            "ruspop         1372\n",
            "rusrap         1161\n",
            "Name: track_genre, dtype: int64\n"
          ]
        }
      ],
      "source": [
        "print(spr_genres.head(10))"
      ]
    },
    {
      "cell_type": "markdown",
      "metadata": {
        "id": "cnPG2vnN_Zcv"
      },
      "source": [
        "Ahora lo mismo con los datos de Shelbyville."
      ]
    },
    {
      "cell_type": "code",
      "execution_count": 67,
      "metadata": {
        "id": "NrjNZZU3JudF"
      },
      "outputs": [],
      "source": [
        "shel_general = (df.loc[df.loc[:,'user_city'] == 'Shelbyville']).groupby('track_genre')['track_genre']\n",
        "\n",
        "shel_counted = shel_general.count()\n",
        "\n",
        "shel_genres = shel_counted.sort_values(ascending = False)"
      ]
    },
    {
      "cell_type": "code",
      "execution_count": 68,
      "metadata": {
        "id": "uaGJHjVU_Zcv",
        "colab": {
          "base_uri": "https://localhost:8080/"
        },
        "outputId": "94b98ebc-9111-4059-d4cc-51f596918338"
      },
      "outputs": [
        {
          "output_type": "stream",
          "name": "stdout",
          "text": [
            "track_genre\n",
            "pop            2431\n",
            "dance          1932\n",
            "rock           1879\n",
            "electronic     1736\n",
            "hip             934\n",
            "alternative     649\n",
            "classical       646\n",
            "rusrap          564\n",
            "ruspop          538\n",
            "world           515\n",
            "Name: track_genre, dtype: int64\n"
          ]
        }
      ],
      "source": [
        "print(shel_genres.head(10))"
      ]
    },
    {
      "cell_type": "markdown",
      "metadata": {
        "id": "ykKQ0N65_Zcv"
      },
      "source": [
        "# Conclusiones <a id='end'></a>"
      ]
    },
    {
      "cell_type": "markdown",
      "metadata": {
        "id": "tjUwbHb3_Zcv"
      },
      "source": [
        "Se prueba entonces las tres hipótesis."
      ]
    }
  ],
  "metadata": {
    "ExecuteTimeLog": [
      {
        "duration": 405,
        "start_time": "2022-07-30T21:03:01.836Z"
      },
      {
        "duration": 315,
        "start_time": "2022-07-30T21:03:05.454Z"
      },
      {
        "duration": 6,
        "start_time": "2022-07-30T21:03:13.610Z"
      },
      {
        "duration": 25,
        "start_time": "2022-07-30T21:03:57.472Z"
      },
      {
        "duration": 3,
        "start_time": "2022-07-30T21:04:07.186Z"
      },
      {
        "duration": 14,
        "start_time": "2022-07-30T21:04:12.950Z"
      },
      {
        "duration": 4,
        "start_time": "2022-07-30T21:04:16.671Z"
      },
      {
        "duration": 20,
        "start_time": "2022-07-30T21:21:00.249Z"
      },
      {
        "duration": 37,
        "start_time": "2022-07-30T21:22:44.093Z"
      },
      {
        "duration": 40,
        "start_time": "2022-07-30T21:22:57.280Z"
      },
      {
        "duration": 29,
        "start_time": "2022-07-30T22:00:36.704Z"
      },
      {
        "duration": 21,
        "start_time": "2022-07-30T22:00:40.987Z"
      },
      {
        "duration": 55,
        "start_time": "2022-07-30T22:02:23.848Z"
      },
      {
        "duration": 68,
        "start_time": "2022-07-30T22:08:09.573Z"
      },
      {
        "duration": 56,
        "start_time": "2022-07-30T22:08:13.725Z"
      },
      {
        "duration": 1540,
        "start_time": "2022-07-30T22:10:02.648Z"
      },
      {
        "duration": 7,
        "start_time": "2022-07-30T22:11:28.389Z"
      },
      {
        "duration": 3,
        "start_time": "2022-07-30T22:17:19.193Z"
      },
      {
        "duration": 9,
        "start_time": "2022-07-30T22:18:56.345Z"
      },
      {
        "duration": 3,
        "start_time": "2022-07-30T22:35:21.336Z"
      },
      {
        "duration": 10,
        "start_time": "2022-07-30T22:35:25.158Z"
      },
      {
        "duration": 13,
        "start_time": "2022-07-30T22:35:40.271Z"
      },
      {
        "duration": 4,
        "start_time": "2022-07-30T22:37:33.472Z"
      },
      {
        "duration": 1260,
        "start_time": "2022-07-30T22:37:36.454Z"
      },
      {
        "duration": 4,
        "start_time": "2022-07-30T22:38:22.472Z"
      },
      {
        "duration": 18,
        "start_time": "2022-07-30T22:38:25.273Z"
      },
      {
        "duration": 15,
        "start_time": "2022-07-30T22:39:30.875Z"
      },
      {
        "duration": 24,
        "start_time": "2022-07-30T22:40:23.730Z"
      },
      {
        "duration": 6,
        "start_time": "2022-07-30T22:40:30.270Z"
      },
      {
        "duration": 24,
        "start_time": "2022-07-30T22:42:39.167Z"
      },
      {
        "duration": 7,
        "start_time": "2022-07-30T22:42:43.624Z"
      },
      {
        "duration": 6,
        "start_time": "2022-07-31T22:59:03.902Z"
      },
      {
        "duration": 8,
        "start_time": "2022-07-31T22:59:29.571Z"
      },
      {
        "duration": 7,
        "start_time": "2022-07-31T23:00:19.310Z"
      },
      {
        "duration": 17,
        "start_time": "2022-07-31T23:00:52.869Z"
      },
      {
        "duration": 40,
        "start_time": "2022-07-31T23:01:10.964Z"
      },
      {
        "duration": 9,
        "start_time": "2022-07-31T23:02:25.812Z"
      },
      {
        "duration": 10,
        "start_time": "2022-07-31T23:06:41.503Z"
      },
      {
        "duration": 7,
        "start_time": "2022-07-31T23:07:13.427Z"
      },
      {
        "duration": 3,
        "start_time": "2022-07-31T23:09:55.207Z"
      },
      {
        "duration": 3,
        "start_time": "2022-07-31T23:10:05.415Z"
      },
      {
        "duration": 7,
        "start_time": "2022-07-31T23:28:12.261Z"
      },
      {
        "duration": 6,
        "start_time": "2022-07-31T23:28:28.843Z"
      },
      {
        "duration": 2,
        "start_time": "2022-07-31T23:28:54.059Z"
      },
      {
        "duration": 4,
        "start_time": "2022-07-31T23:29:07.977Z"
      },
      {
        "duration": 3,
        "start_time": "2022-07-31T23:29:19.578Z"
      },
      {
        "duration": 48,
        "start_time": "2022-08-04T02:20:12.952Z"
      },
      {
        "duration": 7,
        "start_time": "2022-08-04T02:21:05.241Z"
      },
      {
        "duration": 7,
        "start_time": "2022-08-04T02:21:30.862Z"
      },
      {
        "duration": 6,
        "start_time": "2022-08-04T02:23:12.666Z"
      },
      {
        "duration": 7,
        "start_time": "2022-08-04T02:23:55.736Z"
      },
      {
        "duration": 7,
        "start_time": "2022-08-04T02:24:26.539Z"
      },
      {
        "duration": 3,
        "start_time": "2022-08-04T02:24:49.640Z"
      },
      {
        "duration": 7,
        "start_time": "2022-08-04T02:25:09.029Z"
      },
      {
        "duration": 6,
        "start_time": "2022-08-04T02:25:37.434Z"
      },
      {
        "duration": 6,
        "start_time": "2022-08-04T02:26:49.434Z"
      },
      {
        "duration": 6,
        "start_time": "2022-08-04T02:28:10.731Z"
      },
      {
        "duration": 7,
        "start_time": "2022-08-04T02:28:40.643Z"
      },
      {
        "duration": 331,
        "start_time": "2022-08-04T02:29:05.155Z"
      },
      {
        "duration": 310,
        "start_time": "2022-08-04T02:29:09.035Z"
      },
      {
        "duration": 31,
        "start_time": "2022-08-04T02:29:33.931Z"
      },
      {
        "duration": 3,
        "start_time": "2022-08-04T02:30:02.994Z"
      },
      {
        "duration": 11,
        "start_time": "2022-08-04T02:30:11.085Z"
      },
      {
        "duration": 4,
        "start_time": "2022-08-04T02:30:15.435Z"
      },
      {
        "duration": 50,
        "start_time": "2022-08-04T02:30:18.653Z"
      },
      {
        "duration": 30,
        "start_time": "2022-08-04T02:30:26.436Z"
      },
      {
        "duration": 21,
        "start_time": "2022-08-04T02:30:30.090Z"
      },
      {
        "duration": 53,
        "start_time": "2022-08-04T02:30:34.897Z"
      },
      {
        "duration": 67,
        "start_time": "2022-08-04T02:30:37.244Z"
      },
      {
        "duration": 55,
        "start_time": "2022-08-04T02:30:40.128Z"
      },
      {
        "duration": 7,
        "start_time": "2022-08-04T02:30:45.135Z"
      },
      {
        "duration": 3,
        "start_time": "2022-08-04T02:30:50.804Z"
      },
      {
        "duration": 24,
        "start_time": "2022-08-04T02:30:53.535Z"
      },
      {
        "duration": 6,
        "start_time": "2022-08-04T02:30:59.851Z"
      },
      {
        "duration": 9,
        "start_time": "2022-08-04T02:31:05.854Z"
      },
      {
        "duration": 9,
        "start_time": "2022-08-04T02:31:10.268Z"
      },
      {
        "duration": 77,
        "start_time": "2022-08-04T02:47:45.201Z"
      },
      {
        "duration": 78,
        "start_time": "2022-08-04T02:48:06.658Z"
      },
      {
        "duration": 7,
        "start_time": "2022-08-04T02:58:23.094Z"
      },
      {
        "duration": 8,
        "start_time": "2022-08-04T02:58:41.696Z"
      },
      {
        "duration": 12,
        "start_time": "2022-08-04T02:58:56.935Z"
      },
      {
        "duration": 23,
        "start_time": "2022-08-04T03:00:13.034Z"
      },
      {
        "duration": 13,
        "start_time": "2022-08-04T03:01:06.803Z"
      },
      {
        "duration": 16,
        "start_time": "2022-08-04T03:01:32.356Z"
      },
      {
        "duration": 25,
        "start_time": "2022-08-04T03:01:40.896Z"
      },
      {
        "duration": 3,
        "start_time": "2022-08-04T03:04:37.505Z"
      },
      {
        "duration": 4,
        "start_time": "2022-08-04T03:04:55.323Z"
      },
      {
        "duration": 4,
        "start_time": "2022-08-04T03:05:03.693Z"
      },
      {
        "duration": 77,
        "start_time": "2022-08-04T03:06:43.000Z"
      },
      {
        "duration": 9,
        "start_time": "2022-08-04T03:13:16.025Z"
      },
      {
        "duration": 301,
        "start_time": "2022-08-04T03:13:46.982Z"
      },
      {
        "duration": 8,
        "start_time": "2022-08-04T03:16:08.695Z"
      },
      {
        "duration": 208,
        "start_time": "2022-08-04T03:16:25.989Z"
      },
      {
        "duration": 272,
        "start_time": "2022-08-04T03:16:43.043Z"
      },
      {
        "duration": 276,
        "start_time": "2022-08-04T03:17:34.476Z"
      },
      {
        "duration": 228,
        "start_time": "2022-08-04T03:21:18.383Z"
      },
      {
        "duration": 245,
        "start_time": "2022-08-04T03:21:59.521Z"
      },
      {
        "duration": 8,
        "start_time": "2022-08-04T03:24:01.402Z"
      },
      {
        "duration": 306,
        "start_time": "2022-08-04T03:24:16.460Z"
      },
      {
        "duration": 302,
        "start_time": "2022-08-04T03:24:32.167Z"
      },
      {
        "duration": 300,
        "start_time": "2022-08-04T03:24:45.407Z"
      },
      {
        "duration": 322,
        "start_time": "2022-08-04T03:24:56.221Z"
      },
      {
        "duration": 302,
        "start_time": "2022-08-04T03:28:15.675Z"
      },
      {
        "duration": 507,
        "start_time": "2022-08-04T03:28:25.096Z"
      },
      {
        "duration": 560,
        "start_time": "2022-08-04T03:28:42.443Z"
      },
      {
        "duration": 568,
        "start_time": "2022-08-04T03:29:26.706Z"
      },
      {
        "duration": 523,
        "start_time": "2022-08-04T03:29:39.895Z"
      },
      {
        "duration": 501,
        "start_time": "2022-08-04T03:29:57.411Z"
      },
      {
        "duration": 563,
        "start_time": "2022-08-04T03:31:17.158Z"
      },
      {
        "duration": 353,
        "start_time": "2022-08-04T03:32:51.338Z"
      },
      {
        "duration": 303,
        "start_time": "2022-08-04T03:33:14.298Z"
      },
      {
        "duration": 312,
        "start_time": "2022-08-04T03:33:39.929Z"
      },
      {
        "duration": 587,
        "start_time": "2022-08-04T03:34:15.662Z"
      },
      {
        "duration": 316,
        "start_time": "2022-08-04T03:36:05.993Z"
      },
      {
        "duration": 622,
        "start_time": "2022-08-04T03:36:18.249Z"
      },
      {
        "duration": 10,
        "start_time": "2022-08-04T03:41:06.936Z"
      },
      {
        "duration": 8,
        "start_time": "2022-08-04T03:41:30.761Z"
      },
      {
        "duration": 10,
        "start_time": "2022-08-04T03:41:55.479Z"
      },
      {
        "duration": 71,
        "start_time": "2022-08-04T03:42:25.366Z"
      },
      {
        "duration": 72,
        "start_time": "2022-08-04T03:44:16.680Z"
      },
      {
        "duration": 120,
        "start_time": "2022-08-04T03:44:32.976Z"
      },
      {
        "duration": 306,
        "start_time": "2022-08-04T03:46:03.781Z"
      },
      {
        "duration": 685,
        "start_time": "2022-08-04T03:48:31.056Z"
      },
      {
        "duration": 672,
        "start_time": "2022-08-04T03:49:12.958Z"
      },
      {
        "duration": 392,
        "start_time": "2022-08-04T23:26:01.783Z"
      },
      {
        "duration": 321,
        "start_time": "2022-08-04T23:26:03.029Z"
      },
      {
        "duration": 6,
        "start_time": "2022-08-04T23:26:03.459Z"
      },
      {
        "duration": 25,
        "start_time": "2022-08-04T23:26:03.870Z"
      },
      {
        "duration": 4,
        "start_time": "2022-08-04T23:26:05.119Z"
      },
      {
        "duration": 13,
        "start_time": "2022-08-04T23:26:05.591Z"
      },
      {
        "duration": 4,
        "start_time": "2022-08-04T23:26:06.082Z"
      },
      {
        "duration": 39,
        "start_time": "2022-08-04T23:26:06.867Z"
      },
      {
        "duration": 29,
        "start_time": "2022-08-04T23:26:07.601Z"
      },
      {
        "duration": 20,
        "start_time": "2022-08-04T23:26:08.179Z"
      },
      {
        "duration": 57,
        "start_time": "2022-08-04T23:26:09.117Z"
      },
      {
        "duration": 69,
        "start_time": "2022-08-04T23:26:09.741Z"
      },
      {
        "duration": 55,
        "start_time": "2022-08-04T23:26:10.219Z"
      },
      {
        "duration": 9,
        "start_time": "2022-08-04T23:26:10.855Z"
      },
      {
        "duration": 4,
        "start_time": "2022-08-04T23:26:11.524Z"
      },
      {
        "duration": 23,
        "start_time": "2022-08-04T23:26:12.119Z"
      },
      {
        "duration": 7,
        "start_time": "2022-08-04T23:26:13.197Z"
      },
      {
        "duration": 10,
        "start_time": "2022-08-04T23:26:17.229Z"
      },
      {
        "duration": 30,
        "start_time": "2022-08-04T23:26:51.402Z"
      },
      {
        "duration": 12,
        "start_time": "2022-08-04T23:28:22.268Z"
      },
      {
        "duration": 28,
        "start_time": "2022-08-04T23:30:26.929Z"
      },
      {
        "duration": 632,
        "start_time": "2022-08-04T23:33:18.904Z"
      },
      {
        "duration": 10,
        "start_time": "2022-08-04T23:33:35.550Z"
      },
      {
        "duration": 51,
        "start_time": "2022-08-06T15:42:32.321Z"
      },
      {
        "duration": 408,
        "start_time": "2022-08-06T15:42:50.724Z"
      },
      {
        "duration": 326,
        "start_time": "2022-08-06T15:42:52.173Z"
      },
      {
        "duration": 7,
        "start_time": "2022-08-06T15:42:53.226Z"
      },
      {
        "duration": 28,
        "start_time": "2022-08-06T15:42:54.581Z"
      },
      {
        "duration": 3,
        "start_time": "2022-08-06T15:42:57.611Z"
      },
      {
        "duration": 13,
        "start_time": "2022-08-06T15:42:58.055Z"
      },
      {
        "duration": 3,
        "start_time": "2022-08-06T15:42:58.497Z"
      },
      {
        "duration": 45,
        "start_time": "2022-08-06T15:42:59.171Z"
      },
      {
        "duration": 33,
        "start_time": "2022-08-06T15:42:59.944Z"
      },
      {
        "duration": 24,
        "start_time": "2022-08-06T15:43:00.797Z"
      },
      {
        "duration": 62,
        "start_time": "2022-08-06T15:43:02.618Z"
      },
      {
        "duration": 71,
        "start_time": "2022-08-06T15:43:03.311Z"
      },
      {
        "duration": 56,
        "start_time": "2022-08-06T15:43:03.893Z"
      },
      {
        "duration": 7,
        "start_time": "2022-08-06T15:43:04.615Z"
      },
      {
        "duration": 4,
        "start_time": "2022-08-06T15:43:05.698Z"
      },
      {
        "duration": 28,
        "start_time": "2022-08-06T15:43:06.819Z"
      },
      {
        "duration": 7,
        "start_time": "2022-08-06T15:43:08.332Z"
      },
      {
        "duration": 10,
        "start_time": "2022-08-06T15:43:13.079Z"
      },
      {
        "duration": 12,
        "start_time": "2022-08-06T15:43:15.753Z"
      },
      {
        "duration": 745,
        "start_time": "2022-08-06T15:43:17.032Z"
      },
      {
        "duration": 9,
        "start_time": "2022-08-07T14:30:33.484Z"
      },
      {
        "duration": 14,
        "start_time": "2022-08-07T14:30:50.427Z"
      },
      {
        "duration": 10,
        "start_time": "2022-08-07T14:31:07.509Z"
      },
      {
        "duration": 8,
        "start_time": "2022-08-07T14:31:32.464Z"
      },
      {
        "duration": 10,
        "start_time": "2022-08-07T14:31:39.068Z"
      },
      {
        "duration": 10,
        "start_time": "2022-08-07T14:31:49.399Z"
      },
      {
        "duration": 8,
        "start_time": "2022-08-07T14:31:58.025Z"
      },
      {
        "duration": 71,
        "start_time": "2022-08-07T14:32:37.121Z"
      },
      {
        "duration": 12,
        "start_time": "2022-08-07T14:32:42.221Z"
      },
      {
        "duration": 14,
        "start_time": "2022-08-07T14:32:51.976Z"
      },
      {
        "duration": 9,
        "start_time": "2022-08-07T14:33:12.576Z"
      },
      {
        "duration": 13,
        "start_time": "2022-08-07T14:33:40.034Z"
      },
      {
        "duration": 23,
        "start_time": "2022-08-07T14:34:11.660Z"
      },
      {
        "duration": 55,
        "start_time": "2022-08-07T14:35:01.327Z"
      },
      {
        "duration": 24,
        "start_time": "2022-08-07T14:35:50.711Z"
      },
      {
        "duration": 77,
        "start_time": "2022-08-07T14:38:08.449Z"
      },
      {
        "duration": 33,
        "start_time": "2022-08-07T14:38:15.672Z"
      },
      {
        "duration": 21,
        "start_time": "2022-08-07T14:39:39.186Z"
      },
      {
        "duration": 11,
        "start_time": "2022-08-07T14:40:23.511Z"
      },
      {
        "duration": 6,
        "start_time": "2022-08-07T14:40:27.569Z"
      },
      {
        "duration": 7,
        "start_time": "2022-08-07T14:40:37.038Z"
      },
      {
        "duration": 7,
        "start_time": "2022-08-07T14:40:44.273Z"
      },
      {
        "duration": 6,
        "start_time": "2022-08-07T14:41:06.099Z"
      },
      {
        "duration": 3,
        "start_time": "2022-08-07T14:41:29.106Z"
      },
      {
        "duration": 281,
        "start_time": "2022-08-07T14:41:29.729Z"
      },
      {
        "duration": 7,
        "start_time": "2022-08-07T14:41:30.149Z"
      },
      {
        "duration": 28,
        "start_time": "2022-08-07T14:41:30.592Z"
      },
      {
        "duration": 3,
        "start_time": "2022-08-07T14:41:31.834Z"
      },
      {
        "duration": 8,
        "start_time": "2022-08-07T14:41:32.258Z"
      },
      {
        "duration": 3,
        "start_time": "2022-08-07T14:41:32.697Z"
      },
      {
        "duration": 64,
        "start_time": "2022-08-07T14:41:33.362Z"
      },
      {
        "duration": 31,
        "start_time": "2022-08-07T14:41:34.369Z"
      },
      {
        "duration": 23,
        "start_time": "2022-08-07T14:41:34.810Z"
      },
      {
        "duration": 60,
        "start_time": "2022-08-07T14:41:35.406Z"
      },
      {
        "duration": 67,
        "start_time": "2022-08-07T14:41:35.818Z"
      },
      {
        "duration": 77,
        "start_time": "2022-08-07T14:41:36.205Z"
      },
      {
        "duration": 7,
        "start_time": "2022-08-07T14:41:37.886Z"
      },
      {
        "duration": 3,
        "start_time": "2022-08-07T14:41:38.501Z"
      },
      {
        "duration": 36,
        "start_time": "2022-08-07T14:41:39.007Z"
      },
      {
        "duration": 7,
        "start_time": "2022-08-07T14:41:39.818Z"
      },
      {
        "duration": 13,
        "start_time": "2022-08-07T14:41:42.581Z"
      },
      {
        "duration": 13,
        "start_time": "2022-08-07T14:41:43.781Z"
      },
      {
        "duration": 744,
        "start_time": "2022-08-07T14:41:44.287Z"
      },
      {
        "duration": 23,
        "start_time": "2022-08-07T14:41:47.574Z"
      },
      {
        "duration": 10,
        "start_time": "2022-08-07T14:42:01.637Z"
      },
      {
        "duration": 6,
        "start_time": "2022-08-07T14:42:19.499Z"
      },
      {
        "duration": 6,
        "start_time": "2022-08-07T14:42:24.117Z"
      },
      {
        "duration": 7,
        "start_time": "2022-08-07T14:42:51.943Z"
      },
      {
        "duration": 5,
        "start_time": "2022-08-07T14:43:05.510Z"
      },
      {
        "duration": 2182,
        "start_time": "2022-08-07T14:46:51.150Z"
      },
      {
        "duration": 1259,
        "start_time": "2022-08-07T14:46:55.779Z"
      },
      {
        "duration": 1256,
        "start_time": "2022-08-07T14:47:38.182Z"
      },
      {
        "duration": 7,
        "start_time": "2022-08-07T14:51:13.352Z"
      },
      {
        "duration": 6,
        "start_time": "2022-08-07T14:52:54.753Z"
      },
      {
        "duration": 3,
        "start_time": "2022-08-07T14:53:25.989Z"
      },
      {
        "duration": 293,
        "start_time": "2022-08-07T14:53:27.331Z"
      },
      {
        "duration": 7,
        "start_time": "2022-08-07T14:53:28.814Z"
      },
      {
        "duration": 29,
        "start_time": "2022-08-07T14:53:29.458Z"
      },
      {
        "duration": 4,
        "start_time": "2022-08-07T14:53:31.155Z"
      },
      {
        "duration": 8,
        "start_time": "2022-08-07T14:53:31.803Z"
      },
      {
        "duration": 4,
        "start_time": "2022-08-07T14:53:32.354Z"
      },
      {
        "duration": 63,
        "start_time": "2022-08-07T14:53:33.195Z"
      },
      {
        "duration": 33,
        "start_time": "2022-08-07T14:53:33.972Z"
      },
      {
        "duration": 33,
        "start_time": "2022-08-07T14:53:34.429Z"
      },
      {
        "duration": 60,
        "start_time": "2022-08-07T14:53:35.099Z"
      },
      {
        "duration": 80,
        "start_time": "2022-08-07T14:53:35.571Z"
      },
      {
        "duration": 105,
        "start_time": "2022-08-07T14:53:36.024Z"
      },
      {
        "duration": 10,
        "start_time": "2022-08-07T14:53:36.704Z"
      },
      {
        "duration": 3,
        "start_time": "2022-08-07T14:53:37.230Z"
      },
      {
        "duration": 42,
        "start_time": "2022-08-07T14:53:37.680Z"
      },
      {
        "duration": 11,
        "start_time": "2022-08-07T14:53:38.169Z"
      },
      {
        "duration": 19,
        "start_time": "2022-08-07T14:53:49.674Z"
      },
      {
        "duration": 1315,
        "start_time": "2022-08-07T14:54:59.380Z"
      },
      {
        "duration": 1697,
        "start_time": "2022-08-07T14:55:14.489Z"
      },
      {
        "duration": 31,
        "start_time": "2022-08-07T14:55:32.548Z"
      },
      {
        "duration": 26,
        "start_time": "2022-08-07T14:56:05.676Z"
      },
      {
        "duration": 26,
        "start_time": "2022-08-07T14:56:15.970Z"
      },
      {
        "duration": 21,
        "start_time": "2022-08-07T14:57:37.909Z"
      },
      {
        "duration": 15,
        "start_time": "2022-08-07T14:57:52.054Z"
      },
      {
        "duration": 13,
        "start_time": "2022-08-07T14:58:16.259Z"
      },
      {
        "duration": 113,
        "start_time": "2022-08-07T15:17:00.869Z"
      },
      {
        "duration": 29,
        "start_time": "2022-08-07T15:17:07.345Z"
      },
      {
        "duration": 52,
        "start_time": "2022-08-07T15:20:02.203Z"
      },
      {
        "duration": 55,
        "start_time": "2022-08-07T15:20:18.785Z"
      },
      {
        "duration": 72,
        "start_time": "2022-08-07T15:20:33.983Z"
      },
      {
        "duration": 58,
        "start_time": "2022-08-07T15:21:51.813Z"
      },
      {
        "duration": 65,
        "start_time": "2022-08-07T15:22:09.269Z"
      },
      {
        "duration": 17,
        "start_time": "2022-08-07T15:23:44.591Z"
      },
      {
        "duration": 71,
        "start_time": "2022-08-07T15:24:23.711Z"
      },
      {
        "duration": 66,
        "start_time": "2022-08-07T15:24:58.105Z"
      },
      {
        "duration": 13,
        "start_time": "2022-08-07T15:28:28.958Z"
      },
      {
        "duration": 2,
        "start_time": "2022-08-07T15:29:28.287Z"
      },
      {
        "duration": 346,
        "start_time": "2022-08-07T15:29:28.987Z"
      },
      {
        "duration": 7,
        "start_time": "2022-08-07T15:29:29.596Z"
      },
      {
        "duration": 29,
        "start_time": "2022-08-07T15:29:30.004Z"
      },
      {
        "duration": 5,
        "start_time": "2022-08-07T15:29:31.266Z"
      },
      {
        "duration": 10,
        "start_time": "2022-08-07T15:29:31.668Z"
      },
      {
        "duration": 4,
        "start_time": "2022-08-07T15:29:32.053Z"
      },
      {
        "duration": 43,
        "start_time": "2022-08-07T15:29:32.656Z"
      },
      {
        "duration": 30,
        "start_time": "2022-08-07T15:29:33.270Z"
      },
      {
        "duration": 47,
        "start_time": "2022-08-07T15:29:33.706Z"
      },
      {
        "duration": 67,
        "start_time": "2022-08-07T15:29:34.382Z"
      },
      {
        "duration": 68,
        "start_time": "2022-08-07T15:29:34.782Z"
      },
      {
        "duration": 57,
        "start_time": "2022-08-07T15:29:35.154Z"
      },
      {
        "duration": 17,
        "start_time": "2022-08-07T15:29:36.138Z"
      },
      {
        "duration": 3,
        "start_time": "2022-08-07T15:29:36.753Z"
      },
      {
        "duration": 36,
        "start_time": "2022-08-07T15:29:37.356Z"
      },
      {
        "duration": 11,
        "start_time": "2022-08-07T15:29:37.876Z"
      },
      {
        "duration": 16,
        "start_time": "2022-08-07T15:29:40.772Z"
      },
      {
        "duration": 14,
        "start_time": "2022-08-07T15:29:42.252Z"
      },
      {
        "duration": 807,
        "start_time": "2022-08-07T15:29:43.001Z"
      },
      {
        "duration": 4,
        "start_time": "2022-08-07T15:29:45.948Z"
      },
      {
        "duration": 14,
        "start_time": "2022-08-07T15:29:47.329Z"
      },
      {
        "duration": 15,
        "start_time": "2022-08-07T15:32:23.798Z"
      },
      {
        "duration": 11,
        "start_time": "2022-08-07T15:34:39.308Z"
      },
      {
        "duration": 18,
        "start_time": "2022-08-07T15:36:42.140Z"
      },
      {
        "duration": 27,
        "start_time": "2022-08-07T15:38:03.254Z"
      },
      {
        "duration": 29,
        "start_time": "2022-08-07T15:39:03.327Z"
      },
      {
        "duration": 15,
        "start_time": "2022-08-07T15:39:53.139Z"
      },
      {
        "duration": 20,
        "start_time": "2022-08-07T15:39:55.155Z"
      },
      {
        "duration": 748,
        "start_time": "2022-08-07T15:39:56.436Z"
      },
      {
        "duration": 27,
        "start_time": "2022-08-07T15:40:01.852Z"
      },
      {
        "duration": 19,
        "start_time": "2022-08-07T15:42:30.072Z"
      },
      {
        "duration": 14,
        "start_time": "2022-08-07T15:43:43.899Z"
      },
      {
        "duration": 19,
        "start_time": "2022-08-07T15:44:14.500Z"
      },
      {
        "duration": 12,
        "start_time": "2022-08-07T15:45:00.348Z"
      },
      {
        "duration": 14,
        "start_time": "2022-08-07T15:45:17.667Z"
      },
      {
        "duration": 5,
        "start_time": "2022-08-07T15:47:31.875Z"
      },
      {
        "duration": 4,
        "start_time": "2022-08-07T15:49:40.706Z"
      },
      {
        "duration": 91,
        "start_time": "2022-08-07T15:50:10.019Z"
      },
      {
        "duration": 4,
        "start_time": "2022-08-07T15:50:31.402Z"
      },
      {
        "duration": 26,
        "start_time": "2022-08-07T15:51:15.708Z"
      },
      {
        "duration": 23,
        "start_time": "2022-08-07T15:51:22.794Z"
      },
      {
        "duration": 17,
        "start_time": "2022-08-07T15:51:26.397Z"
      },
      {
        "duration": 20,
        "start_time": "2022-08-07T15:51:29.969Z"
      },
      {
        "duration": 16,
        "start_time": "2022-08-07T15:51:32.582Z"
      },
      {
        "duration": 18,
        "start_time": "2022-08-07T15:51:35.462Z"
      },
      {
        "duration": 20,
        "start_time": "2022-08-07T15:51:39.523Z"
      },
      {
        "duration": 4,
        "start_time": "2022-08-07T15:51:46.528Z"
      },
      {
        "duration": 16,
        "start_time": "2022-08-07T15:52:17.638Z"
      },
      {
        "duration": 37,
        "start_time": "2022-08-07T15:53:01.330Z"
      },
      {
        "duration": 4,
        "start_time": "2022-08-07T16:16:13.508Z"
      },
      {
        "duration": 6,
        "start_time": "2022-08-07T16:16:36.944Z"
      },
      {
        "duration": 15,
        "start_time": "2022-08-07T16:22:53.504Z"
      },
      {
        "duration": 20,
        "start_time": "2022-08-07T16:23:16.250Z"
      },
      {
        "duration": 16,
        "start_time": "2022-08-07T16:23:29.148Z"
      },
      {
        "duration": 13,
        "start_time": "2022-08-07T16:24:01.067Z"
      },
      {
        "duration": 10,
        "start_time": "2022-08-07T16:24:02.174Z"
      },
      {
        "duration": 78,
        "start_time": "2022-08-07T16:39:08.134Z"
      },
      {
        "duration": 76,
        "start_time": "2022-08-07T16:39:42.991Z"
      },
      {
        "duration": 4,
        "start_time": "2022-08-07T16:40:59.000Z"
      },
      {
        "duration": 374,
        "start_time": "2022-08-07T16:48:56.755Z"
      },
      {
        "duration": 135,
        "start_time": "2022-08-07T16:50:01.547Z"
      },
      {
        "duration": 81,
        "start_time": "2022-08-07T16:50:35.642Z"
      },
      {
        "duration": 37,
        "start_time": "2022-08-07T16:51:58.620Z"
      },
      {
        "duration": 4,
        "start_time": "2022-08-07T16:53:05.764Z"
      },
      {
        "duration": 45,
        "start_time": "2022-08-07T16:53:09.716Z"
      },
      {
        "duration": 13,
        "start_time": "2022-08-07T16:56:12.658Z"
      },
      {
        "duration": 18,
        "start_time": "2022-08-07T17:00:50.190Z"
      },
      {
        "duration": 4,
        "start_time": "2022-08-07T17:01:46.698Z"
      },
      {
        "duration": 42,
        "start_time": "2022-08-07T17:01:50.461Z"
      },
      {
        "duration": 4,
        "start_time": "2022-08-07T17:04:04.232Z"
      },
      {
        "duration": 39,
        "start_time": "2022-08-07T17:04:08.668Z"
      },
      {
        "duration": 4,
        "start_time": "2022-08-07T17:06:14.313Z"
      },
      {
        "duration": 47,
        "start_time": "2022-08-07T17:06:16.830Z"
      },
      {
        "duration": 4,
        "start_time": "2022-08-07T17:06:27.045Z"
      },
      {
        "duration": 41,
        "start_time": "2022-08-07T17:06:28.246Z"
      },
      {
        "duration": 94,
        "start_time": "2022-08-07T17:07:29.443Z"
      },
      {
        "duration": 4,
        "start_time": "2022-08-07T17:07:52.348Z"
      },
      {
        "duration": 39,
        "start_time": "2022-08-07T17:07:57.301Z"
      },
      {
        "duration": 159,
        "start_time": "2022-08-07T17:22:02.976Z"
      },
      {
        "duration": 36,
        "start_time": "2022-08-07T17:23:09.775Z"
      },
      {
        "duration": 4,
        "start_time": "2022-08-07T17:24:56.677Z"
      },
      {
        "duration": 2246,
        "start_time": "2022-08-07T17:25:01.861Z"
      },
      {
        "duration": 14,
        "start_time": "2022-08-07T17:25:30.401Z"
      },
      {
        "duration": 40,
        "start_time": "2022-08-07T17:25:32.443Z"
      },
      {
        "duration": 4,
        "start_time": "2022-08-07T17:25:49.323Z"
      },
      {
        "duration": 57,
        "start_time": "2022-08-07T17:25:51.036Z"
      },
      {
        "duration": 5,
        "start_time": "2022-08-07T18:39:07.099Z"
      },
      {
        "duration": 57,
        "start_time": "2022-08-07T18:39:09.712Z"
      },
      {
        "duration": 146,
        "start_time": "2022-08-07T21:11:30.845Z"
      },
      {
        "duration": 41,
        "start_time": "2022-08-07T21:11:46.832Z"
      },
      {
        "duration": 35,
        "start_time": "2022-08-07T22:59:26.553Z"
      },
      {
        "duration": 1384,
        "start_time": "2022-08-07T23:01:31.811Z"
      },
      {
        "duration": 36,
        "start_time": "2022-08-07T23:01:56.930Z"
      },
      {
        "duration": 72,
        "start_time": "2022-08-07T23:02:36.201Z"
      },
      {
        "duration": 37,
        "start_time": "2022-08-07T23:02:43.385Z"
      },
      {
        "duration": 5,
        "start_time": "2022-08-07T23:03:21.750Z"
      },
      {
        "duration": 4,
        "start_time": "2022-08-07T23:03:39.195Z"
      },
      {
        "duration": 46,
        "start_time": "2022-08-07T23:03:40.633Z"
      },
      {
        "duration": 5,
        "start_time": "2022-08-07T23:04:00.288Z"
      },
      {
        "duration": 34,
        "start_time": "2022-08-07T23:04:01.234Z"
      },
      {
        "duration": 32,
        "start_time": "2022-08-07T23:05:25.556Z"
      },
      {
        "duration": 45,
        "start_time": "2022-08-07T23:06:18.695Z"
      },
      {
        "duration": 47,
        "start_time": "2022-08-07T23:06:36.339Z"
      },
      {
        "duration": 48,
        "start_time": "2022-08-07T23:11:32.587Z"
      },
      {
        "duration": 86,
        "start_time": "2022-08-07T23:12:31.870Z"
      },
      {
        "duration": 40,
        "start_time": "2022-08-07T23:12:44.028Z"
      },
      {
        "duration": 35,
        "start_time": "2022-08-07T23:15:17.434Z"
      },
      {
        "duration": 38,
        "start_time": "2022-08-07T23:16:14.224Z"
      },
      {
        "duration": 29,
        "start_time": "2022-08-07T23:28:06.525Z"
      },
      {
        "duration": 25,
        "start_time": "2022-08-07T23:28:38.544Z"
      },
      {
        "duration": 26,
        "start_time": "2022-08-07T23:29:11.378Z"
      },
      {
        "duration": 25,
        "start_time": "2022-08-07T23:29:36.863Z"
      },
      {
        "duration": 12,
        "start_time": "2022-08-07T23:34:40.246Z"
      },
      {
        "duration": 9,
        "start_time": "2022-08-07T23:35:12.900Z"
      },
      {
        "duration": 13,
        "start_time": "2022-08-07T23:38:41.252Z"
      },
      {
        "duration": 17,
        "start_time": "2022-08-07T23:39:08.493Z"
      },
      {
        "duration": 12,
        "start_time": "2022-08-07T23:39:14.887Z"
      },
      {
        "duration": 8,
        "start_time": "2022-08-07T23:39:48.870Z"
      },
      {
        "duration": 9,
        "start_time": "2022-08-07T23:39:57.096Z"
      },
      {
        "duration": 5,
        "start_time": "2022-08-07T23:40:05.655Z"
      },
      {
        "duration": 10,
        "start_time": "2022-08-07T23:43:53.687Z"
      },
      {
        "duration": 19,
        "start_time": "2022-08-07T23:45:59.001Z"
      },
      {
        "duration": 30,
        "start_time": "2022-08-07T23:46:18.631Z"
      },
      {
        "duration": 5,
        "start_time": "2022-08-07T23:46:22.167Z"
      },
      {
        "duration": 38,
        "start_time": "2022-08-07T23:47:08.614Z"
      },
      {
        "duration": 6,
        "start_time": "2022-08-07T23:47:09.851Z"
      },
      {
        "duration": 37,
        "start_time": "2022-08-07T23:56:38.233Z"
      },
      {
        "duration": 75,
        "start_time": "2022-08-07T23:59:41.303Z"
      },
      {
        "duration": 24,
        "start_time": "2022-08-08T00:23:41.447Z"
      },
      {
        "duration": 6,
        "start_time": "2022-08-08T00:24:47.507Z"
      },
      {
        "duration": 22,
        "start_time": "2022-08-08T00:25:43.954Z"
      },
      {
        "duration": 4,
        "start_time": "2022-08-08T00:25:48.425Z"
      },
      {
        "duration": 16,
        "start_time": "2022-08-08T00:28:13.135Z"
      },
      {
        "duration": 4,
        "start_time": "2022-08-08T00:28:30.540Z"
      },
      {
        "duration": 133,
        "start_time": "2022-08-08T01:32:38.836Z"
      },
      {
        "duration": 47,
        "start_time": "2022-08-08T02:21:56.303Z"
      },
      {
        "duration": 506,
        "start_time": "2022-08-08T02:22:11.350Z"
      },
      {
        "duration": 339,
        "start_time": "2022-08-08T02:22:12.258Z"
      },
      {
        "duration": 6,
        "start_time": "2022-08-08T02:22:13.123Z"
      },
      {
        "duration": 30,
        "start_time": "2022-08-08T02:22:14.309Z"
      },
      {
        "duration": 4,
        "start_time": "2022-08-08T02:22:17.683Z"
      },
      {
        "duration": 1690,
        "start_time": "2022-08-08T13:57:43.024Z"
      },
      {
        "duration": 1168,
        "start_time": "2022-08-08T13:58:52.331Z"
      },
      {
        "duration": 7,
        "start_time": "2022-08-08T13:59:22.750Z"
      },
      {
        "duration": 1460,
        "start_time": "2022-08-08T14:01:35.040Z"
      },
      {
        "duration": 3,
        "start_time": "2022-08-08T14:02:05.573Z"
      },
      {
        "duration": 271,
        "start_time": "2022-08-08T14:02:06.496Z"
      },
      {
        "duration": 7,
        "start_time": "2022-08-08T14:02:07.296Z"
      },
      {
        "duration": 29,
        "start_time": "2022-08-08T14:02:08.107Z"
      },
      {
        "duration": 3,
        "start_time": "2022-08-08T14:02:12.925Z"
      },
      {
        "duration": 12,
        "start_time": "2022-08-08T14:02:14.580Z"
      },
      {
        "duration": 4,
        "start_time": "2022-08-08T14:02:15.718Z"
      },
      {
        "duration": 39,
        "start_time": "2022-08-08T14:02:18.754Z"
      },
      {
        "duration": 3,
        "start_time": "2022-08-08T14:02:21.537Z"
      },
      {
        "duration": 5,
        "start_time": "2022-08-08T14:02:22.990Z"
      },
      {
        "duration": 1631,
        "start_time": "2022-08-08T14:02:41.829Z"
      },
      {
        "duration": 6,
        "start_time": "2022-08-08T14:03:13.781Z"
      },
      {
        "duration": 9,
        "start_time": "2022-08-08T14:05:47.450Z"
      },
      {
        "duration": 21,
        "start_time": "2022-08-08T14:06:07.172Z"
      },
      {
        "duration": 20,
        "start_time": "2022-08-08T14:08:21.804Z"
      },
      {
        "duration": 22,
        "start_time": "2022-08-08T14:08:29.595Z"
      },
      {
        "duration": 15,
        "start_time": "2022-08-08T14:08:50.184Z"
      },
      {
        "duration": 22,
        "start_time": "2022-08-08T14:09:02.002Z"
      },
      {
        "duration": 88,
        "start_time": "2022-08-08T14:10:14.430Z"
      },
      {
        "duration": 20,
        "start_time": "2022-08-08T14:10:51.140Z"
      },
      {
        "duration": 21,
        "start_time": "2022-08-08T14:11:01.830Z"
      },
      {
        "duration": 21,
        "start_time": "2022-08-08T14:13:55.804Z"
      },
      {
        "duration": 22,
        "start_time": "2022-08-08T14:14:00.048Z"
      },
      {
        "duration": 21,
        "start_time": "2022-08-08T14:14:12.066Z"
      },
      {
        "duration": 109,
        "start_time": "2022-08-08T14:15:08.335Z"
      },
      {
        "duration": 22,
        "start_time": "2022-08-08T14:15:21.575Z"
      },
      {
        "duration": 21,
        "start_time": "2022-08-08T14:15:24.050Z"
      },
      {
        "duration": 65,
        "start_time": "2022-08-08T14:19:40.347Z"
      },
      {
        "duration": 48,
        "start_time": "2022-08-08T14:19:44.747Z"
      },
      {
        "duration": 6,
        "start_time": "2022-08-08T14:19:50.420Z"
      },
      {
        "duration": 12,
        "start_time": "2022-08-08T14:21:05.608Z"
      },
      {
        "duration": 3,
        "start_time": "2022-08-08T14:27:30.607Z"
      },
      {
        "duration": 12,
        "start_time": "2022-08-08T14:27:35.377Z"
      },
      {
        "duration": 6,
        "start_time": "2022-08-08T14:30:41.535Z"
      },
      {
        "duration": 3,
        "start_time": "2022-08-08T14:32:13.941Z"
      },
      {
        "duration": 82,
        "start_time": "2022-08-08T14:32:14.966Z"
      },
      {
        "duration": 4,
        "start_time": "2022-08-08T14:33:36.408Z"
      },
      {
        "duration": 79,
        "start_time": "2022-08-08T14:33:37.192Z"
      },
      {
        "duration": 93,
        "start_time": "2022-08-08T14:33:50.175Z"
      },
      {
        "duration": 127,
        "start_time": "2022-08-08T14:34:28.109Z"
      },
      {
        "duration": 2,
        "start_time": "2022-08-08T14:37:03.215Z"
      },
      {
        "duration": 3,
        "start_time": "2022-08-08T14:37:11.059Z"
      },
      {
        "duration": 2,
        "start_time": "2022-08-08T14:37:14.424Z"
      },
      {
        "duration": 6,
        "start_time": "2022-08-08T14:37:15.810Z"
      },
      {
        "duration": 4,
        "start_time": "2022-08-08T14:37:32.998Z"
      },
      {
        "duration": 20,
        "start_time": "2022-08-08T14:38:14.178Z"
      },
      {
        "duration": 21,
        "start_time": "2022-08-08T14:38:17.841Z"
      },
      {
        "duration": 3,
        "start_time": "2022-08-08T14:43:22.350Z"
      },
      {
        "duration": 6,
        "start_time": "2022-08-08T14:43:32.473Z"
      },
      {
        "duration": 2,
        "start_time": "2022-08-08T14:44:11.658Z"
      },
      {
        "duration": 6,
        "start_time": "2022-08-08T14:44:16.219Z"
      },
      {
        "duration": 2,
        "start_time": "2022-08-08T14:44:51.269Z"
      },
      {
        "duration": 2,
        "start_time": "2022-08-08T14:46:14.316Z"
      },
      {
        "duration": 3,
        "start_time": "2022-08-08T14:46:15.566Z"
      },
      {
        "duration": 11,
        "start_time": "2022-08-08T14:46:18.516Z"
      },
      {
        "duration": 2,
        "start_time": "2022-08-08T14:46:21.193Z"
      },
      {
        "duration": 6,
        "start_time": "2022-08-08T14:46:22.462Z"
      },
      {
        "duration": 3,
        "start_time": "2022-08-08T19:37:55.422Z"
      },
      {
        "duration": 3,
        "start_time": "2022-08-08T19:37:59.324Z"
      },
      {
        "duration": 18,
        "start_time": "2022-08-08T19:38:01.845Z"
      },
      {
        "duration": 12,
        "start_time": "2022-08-08T19:38:20.149Z"
      },
      {
        "duration": 11,
        "start_time": "2022-08-08T19:38:20.554Z"
      },
      {
        "duration": 3,
        "start_time": "2022-08-08T19:38:21.964Z"
      },
      {
        "duration": 4,
        "start_time": "2022-08-08T19:38:23.087Z"
      },
      {
        "duration": 43,
        "start_time": "2022-08-08T19:38:24.330Z"
      },
      {
        "duration": 4,
        "start_time": "2022-08-08T19:40:23.476Z"
      },
      {
        "duration": 13,
        "start_time": "2022-08-08T19:41:46.202Z"
      },
      {
        "duration": 4,
        "start_time": "2022-08-08T22:11:24.994Z"
      },
      {
        "duration": 2,
        "start_time": "2022-08-08T22:11:26.514Z"
      },
      {
        "duration": 9,
        "start_time": "2022-08-08T22:11:27.127Z"
      },
      {
        "duration": 25,
        "start_time": "2022-08-08T22:12:13.324Z"
      },
      {
        "duration": 10,
        "start_time": "2022-08-08T22:13:12.405Z"
      },
      {
        "duration": 16,
        "start_time": "2022-08-08T22:13:59.957Z"
      },
      {
        "duration": 11,
        "start_time": "2022-08-08T22:14:20.427Z"
      },
      {
        "duration": 17,
        "start_time": "2022-08-09T00:23:34.668Z"
      },
      {
        "duration": 23,
        "start_time": "2022-08-09T00:23:58.908Z"
      },
      {
        "duration": 17,
        "start_time": "2022-08-09T00:24:00.884Z"
      },
      {
        "duration": 14,
        "start_time": "2022-08-09T00:26:36.399Z"
      },
      {
        "duration": 18,
        "start_time": "2022-08-09T00:29:23.208Z"
      },
      {
        "duration": 18,
        "start_time": "2022-08-09T00:29:39.057Z"
      },
      {
        "duration": 18,
        "start_time": "2022-08-09T00:33:38.467Z"
      },
      {
        "duration": 20,
        "start_time": "2022-08-09T00:35:34.418Z"
      },
      {
        "duration": 18,
        "start_time": "2022-08-09T00:38:07.463Z"
      },
      {
        "duration": 4,
        "start_time": "2022-08-09T00:38:28.766Z"
      },
      {
        "duration": 16,
        "start_time": "2022-08-09T00:38:34.711Z"
      },
      {
        "duration": 3,
        "start_time": "2022-08-09T00:38:37.168Z"
      },
      {
        "duration": 14,
        "start_time": "2022-08-09T00:38:46.789Z"
      },
      {
        "duration": 3,
        "start_time": "2022-08-09T00:38:49.190Z"
      },
      {
        "duration": 2,
        "start_time": "2022-08-09T00:39:01.481Z"
      },
      {
        "duration": 14,
        "start_time": "2022-08-09T00:43:08.577Z"
      },
      {
        "duration": 4,
        "start_time": "2022-08-09T00:43:09.834Z"
      },
      {
        "duration": 3,
        "start_time": "2022-08-09T22:51:27.129Z"
      },
      {
        "duration": 260,
        "start_time": "2022-08-09T22:51:28.115Z"
      },
      {
        "duration": 7,
        "start_time": "2022-08-09T22:51:29.620Z"
      },
      {
        "duration": 26,
        "start_time": "2022-08-09T22:51:30.809Z"
      },
      {
        "duration": 2,
        "start_time": "2022-08-09T22:51:34.699Z"
      },
      {
        "duration": 4,
        "start_time": "2022-08-09T22:51:36.496Z"
      },
      {
        "duration": 9,
        "start_time": "2022-08-09T22:51:37.682Z"
      },
      {
        "duration": 3,
        "start_time": "2022-08-09T22:51:38.451Z"
      },
      {
        "duration": 40,
        "start_time": "2022-08-09T22:51:40.658Z"
      },
      {
        "duration": 2,
        "start_time": "2022-08-09T22:51:43.251Z"
      },
      {
        "duration": 19,
        "start_time": "2022-08-09T22:51:45.087Z"
      },
      {
        "duration": 23,
        "start_time": "2022-08-09T22:51:49.385Z"
      },
      {
        "duration": 20,
        "start_time": "2022-08-09T22:52:06.512Z"
      },
      {
        "duration": 21,
        "start_time": "2022-08-09T22:52:10.310Z"
      },
      {
        "duration": 49,
        "start_time": "2022-08-09T22:52:12.680Z"
      },
      {
        "duration": 2,
        "start_time": "2022-08-09T22:52:16.282Z"
      },
      {
        "duration": 66,
        "start_time": "2022-08-09T22:52:17.992Z"
      },
      {
        "duration": 50,
        "start_time": "2022-08-09T22:52:20.144Z"
      },
      {
        "duration": 2,
        "start_time": "2022-08-09T22:52:21.350Z"
      },
      {
        "duration": 8,
        "start_time": "2022-08-09T22:52:22.189Z"
      },
      {
        "duration": 2,
        "start_time": "2022-08-09T22:52:22.856Z"
      },
      {
        "duration": 3,
        "start_time": "2022-08-09T22:52:25.162Z"
      },
      {
        "duration": 16,
        "start_time": "2022-08-09T22:52:26.666Z"
      },
      {
        "duration": 2,
        "start_time": "2022-08-09T22:52:28.351Z"
      },
      {
        "duration": 355,
        "start_time": "2022-08-10T20:20:55.295Z"
      },
      {
        "duration": 368,
        "start_time": "2022-08-10T20:20:56.256Z"
      },
      {
        "duration": 8,
        "start_time": "2022-08-10T20:20:57.839Z"
      },
      {
        "duration": 54,
        "start_time": "2022-08-10T20:20:59.000Z"
      },
      {
        "duration": 3,
        "start_time": "2022-08-10T20:21:01.960Z"
      },
      {
        "duration": 5,
        "start_time": "2022-08-10T20:21:02.931Z"
      },
      {
        "duration": 18,
        "start_time": "2022-08-10T20:21:04.033Z"
      },
      {
        "duration": 3,
        "start_time": "2022-08-10T20:21:05.810Z"
      },
      {
        "duration": 83,
        "start_time": "2022-08-10T20:21:08.139Z"
      },
      {
        "duration": 3,
        "start_time": "2022-08-10T20:21:09.715Z"
      },
      {
        "duration": 39,
        "start_time": "2022-08-10T20:21:12.126Z"
      },
      {
        "duration": 73,
        "start_time": "2022-08-10T20:21:14.089Z"
      },
      {
        "duration": 25,
        "start_time": "2022-08-10T20:22:32.977Z"
      },
      {
        "duration": 28,
        "start_time": "2022-08-10T20:22:34.626Z"
      },
      {
        "duration": 69,
        "start_time": "2022-08-10T20:22:59.618Z"
      },
      {
        "duration": 3,
        "start_time": "2022-08-10T20:23:01.415Z"
      },
      {
        "duration": 108,
        "start_time": "2022-08-10T20:23:02.183Z"
      },
      {
        "duration": 53,
        "start_time": "2022-08-10T20:23:13.776Z"
      },
      {
        "duration": 3,
        "start_time": "2022-08-10T20:23:15.995Z"
      },
      {
        "duration": 9,
        "start_time": "2022-08-10T20:23:17.376Z"
      },
      {
        "duration": 3,
        "start_time": "2022-08-10T20:23:33.717Z"
      },
      {
        "duration": 7,
        "start_time": "2022-08-10T20:23:35.238Z"
      },
      {
        "duration": 25,
        "start_time": "2022-08-10T20:23:36.935Z"
      },
      {
        "duration": 7,
        "start_time": "2022-08-10T20:23:40.692Z"
      },
      {
        "duration": 9,
        "start_time": "2022-08-10T20:23:41.625Z"
      },
      {
        "duration": 20,
        "start_time": "2022-08-10T20:23:46.033Z"
      },
      {
        "duration": 20,
        "start_time": "2022-08-10T20:23:47.303Z"
      },
      {
        "duration": 955,
        "start_time": "2022-08-10T20:23:47.840Z"
      },
      {
        "duration": 41,
        "start_time": "2022-08-10T20:23:48.864Z"
      },
      {
        "duration": 23,
        "start_time": "2022-08-10T20:23:49.801Z"
      },
      {
        "duration": 20,
        "start_time": "2022-08-10T20:23:50.084Z"
      },
      {
        "duration": 23,
        "start_time": "2022-08-10T20:23:50.364Z"
      },
      {
        "duration": 20,
        "start_time": "2022-08-10T20:23:50.607Z"
      },
      {
        "duration": 23,
        "start_time": "2022-08-10T20:23:50.882Z"
      },
      {
        "duration": 17,
        "start_time": "2022-08-10T20:23:51.170Z"
      },
      {
        "duration": 6,
        "start_time": "2022-08-10T20:23:52.031Z"
      },
      {
        "duration": 7,
        "start_time": "2022-08-10T20:23:52.460Z"
      },
      {
        "duration": 18,
        "start_time": "2022-08-10T20:23:56.877Z"
      },
      {
        "duration": 22,
        "start_time": "2022-08-10T20:23:57.730Z"
      },
      {
        "duration": 10,
        "start_time": "2022-08-10T20:23:59.695Z"
      },
      {
        "duration": 5,
        "start_time": "2022-08-10T20:24:00.688Z"
      },
      {
        "duration": 5,
        "start_time": "2022-08-10T20:24:01.966Z"
      },
      {
        "duration": 23,
        "start_time": "2022-08-10T20:24:02.684Z"
      },
      {
        "duration": 24,
        "start_time": "2022-08-10T20:24:03.225Z"
      },
      {
        "duration": 33,
        "start_time": "2022-08-10T20:24:03.686Z"
      },
      {
        "duration": 16,
        "start_time": "2022-08-10T20:24:04.106Z"
      },
      {
        "duration": 7,
        "start_time": "2022-08-10T20:24:07.748Z"
      },
      {
        "duration": 41,
        "start_time": "2022-08-10T20:24:08.629Z"
      },
      {
        "duration": 9,
        "start_time": "2022-08-10T20:24:09.311Z"
      },
      {
        "duration": 3,
        "start_time": "2022-08-10T20:24:09.968Z"
      },
      {
        "duration": 26,
        "start_time": "2022-08-10T20:24:10.635Z"
      },
      {
        "duration": 9,
        "start_time": "2022-08-10T20:24:11.295Z"
      },
      {
        "duration": 3,
        "start_time": "2022-08-10T21:29:35.239Z"
      },
      {
        "duration": 325,
        "start_time": "2022-08-10T21:29:36.000Z"
      },
      {
        "duration": 6,
        "start_time": "2022-08-10T21:29:36.701Z"
      },
      {
        "duration": 53,
        "start_time": "2022-08-10T21:29:37.431Z"
      },
      {
        "duration": 3,
        "start_time": "2022-08-10T21:29:39.716Z"
      },
      {
        "duration": 9,
        "start_time": "2022-08-10T21:29:40.274Z"
      },
      {
        "duration": 8,
        "start_time": "2022-08-10T21:29:40.813Z"
      },
      {
        "duration": 4,
        "start_time": "2022-08-10T21:29:41.401Z"
      },
      {
        "duration": 70,
        "start_time": "2022-08-10T21:29:42.529Z"
      },
      {
        "duration": 3,
        "start_time": "2022-08-10T21:29:43.402Z"
      },
      {
        "duration": 21,
        "start_time": "2022-08-10T21:29:44.083Z"
      },
      {
        "duration": 2,
        "start_time": "2022-08-10T21:31:52.898Z"
      },
      {
        "duration": 23,
        "start_time": "2022-08-10T21:31:58.999Z"
      },
      {
        "duration": 35,
        "start_time": "2022-08-10T21:32:06.638Z"
      },
      {
        "duration": 59,
        "start_time": "2022-08-10T21:32:19.639Z"
      },
      {
        "duration": 2,
        "start_time": "2022-08-10T21:32:20.633Z"
      },
      {
        "duration": 2,
        "start_time": "2022-08-10T21:32:20.926Z"
      },
      {
        "duration": 21,
        "start_time": "2022-08-10T21:32:22.228Z"
      },
      {
        "duration": 37,
        "start_time": "2022-08-10T21:32:23.327Z"
      },
      {
        "duration": 51,
        "start_time": "2022-08-10T21:32:24.864Z"
      },
      {
        "duration": 3,
        "start_time": "2022-08-10T21:32:32.566Z"
      },
      {
        "duration": 74,
        "start_time": "2022-08-10T21:32:34.116Z"
      },
      {
        "duration": 52,
        "start_time": "2022-08-10T21:32:34.766Z"
      },
      {
        "duration": 2,
        "start_time": "2022-08-10T21:32:35.703Z"
      },
      {
        "duration": 5,
        "start_time": "2022-08-10T21:32:36.829Z"
      },
      {
        "duration": 2,
        "start_time": "2022-08-10T21:32:38.560Z"
      },
      {
        "duration": 4,
        "start_time": "2022-08-10T21:32:39.074Z"
      },
      {
        "duration": 14,
        "start_time": "2022-08-10T21:32:39.619Z"
      },
      {
        "duration": 3,
        "start_time": "2022-08-10T21:32:40.179Z"
      },
      {
        "duration": 6,
        "start_time": "2022-08-10T21:32:40.708Z"
      }
    ],
    "colab": {
      "collapsed_sections": [
        "E0vqbgi9ay0H",
        "VUC88oWjTJw2",
        "atZAxtq4_Zcu"
      ],
      "provenance": []
    },
    "kernelspec": {
      "display_name": "Python 3 (ipykernel)",
      "language": "python",
      "name": "python3"
    },
    "language_info": {
      "codemirror_mode": {
        "name": "ipython",
        "version": 3
      },
      "file_extension": ".py",
      "mimetype": "text/x-python",
      "name": "python",
      "nbconvert_exporter": "python",
      "pygments_lexer": "ipython3",
      "version": "3.9.5"
    },
    "toc": {
      "base_numbering": 1,
      "nav_menu": {},
      "number_sections": true,
      "sideBar": true,
      "skip_h1_title": true,
      "title_cell": "Table of Contents",
      "title_sidebar": "Contents",
      "toc_cell": false,
      "toc_position": {},
      "toc_section_display": true,
      "toc_window_display": false
    }
  },
  "nbformat": 4,
  "nbformat_minor": 0
}