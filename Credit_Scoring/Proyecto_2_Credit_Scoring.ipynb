{
      {
      "cell_type": "markdown",
      "metadata": {
        "id": "LJkKopbldvHy"
      },
      "source": [
        "# Análisis del riesgo de incumplimiento de los prestatarios\n"
      ]
    },
    {
      "cell_type": "markdown",
      "metadata": {
        "id": "59zt60hIdvHz"
      },
      "source": [
        "## Revisión del archivo de datos y observación de la información general. \n",
        "\n"
      ]
    },
    {
      "cell_type": "code",
      "execution_count": 14,
      "metadata": {
        "id": "a6wMnsfGdvHz"
      },
      "outputs": [],
      "source": [
        "import pandas as pd\n",
        "\n",
        "\n",
        "credit_scoring_data = pd.read_csv('/content/drive/MyDrive/Colab Notebooks/02 - Preprocesamiento de datos/02 - Tarea/credit_scoring_eng.csv')"
      ]
    },
    {
      "cell_type": "markdown",
      "metadata": {
        "id": "-kYWHkKodvH0"
      },
      "source": [
        "## Ejercicio 1. Exploración de datos\n",
        "\n",
        "**Descripción de los datos**\n",
        "- `children` - el número de hijos en la familia\n",
        "- `days_employed` - experiencia laboral en días\n",
        "- `dob_years` - la edad del cliente en años\n",
        "- `education` - la educación del cliente\n",
        "- `education_id` - identificador de educación\n",
        "- `family_status` - estado civil\n",
        "- `family_status_id` - identificador de estado civil\n",
        "- `gender` - género del cliente\n",
        "- `income_type` - tipo de empleo\n",
        "- `debt` - ¿había alguna deuda en el pago de un préstamo?\n",
        "- `total_income` - ingreso mensual\n",
        "- `purpose` - el propósito de obtener un préstamo\n"
      ]
    },
    {
      "cell_type": "code",
      "execution_count": 15,
      "metadata": {
        "colab": {
          "base_uri": "https://localhost:8080/"
        },
        "id": "t3th4MUtdvH1",
        "outputId": "82f90288-d6e3-410d-fc78-63ac4cecc327"
      },
      "outputs": [
        {
          "output_type": "stream",
          "name": "stdout",
          "text": [
            "Presentación de las columnas del DataFrame:\n",
            "Index(['children', 'days_employed', 'dob_years', 'education', 'education_id',\n",
            "       'family_status', 'family_status_id', 'gender', 'income_type', 'debt',\n",
            "       'total_income', 'purpose'],\n",
            "      dtype='object')\n",
            "Tenemos 13 columnas en total.\n",
            "\n",
            "Revisión del número de líneas del DataFrame:\n",
            "21525 líneas.\n"
          ]
        }
      ],
      "source": [
        "print('Presentación de las columnas del DataFrame:')\n",
        "print(credit_scoring_data.columns)\n",
        "print('Tenemos 13 columnas en total.')\n",
        "print()\n",
        "print('Revisión del número de líneas del DataFrame:')\n",
        "print(len(credit_scoring_data), 'líneas.')"
      ]
    },
    {
      "cell_type": "code",
      "execution_count": 16,
      "metadata": {
        "scrolled": true,
        "colab": {
          "base_uri": "https://localhost:8080/",
          "height": 407
        },
        "id": "oZF737OhdvH2",
        "outputId": "d0d1eca9-ec87-44db-a5a3-f18aa0dc9aa0"
      },
      "outputs": [
        {
          "output_type": "execute_result",
          "data": {
            "text/plain": [
              "   children  days_employed  dob_years            education  education_id  \\\n",
              "0         1   -8437.673028         42    bachelor's degree             0   \n",
              "1         1   -4024.803754         36  secondary education             1   \n",
              "2         0   -5623.422610         33  Secondary Education             1   \n",
              "3         3   -4124.747207         32  secondary education             1   \n",
              "4         0  340266.072047         53  secondary education             1   \n",
              "5         0    -926.185831         27    bachelor's degree             0   \n",
              "6         0   -2879.202052         43    bachelor's degree             0   \n",
              "7         0    -152.779569         50  SECONDARY EDUCATION             1   \n",
              "8         2   -6929.865299         35    BACHELOR'S DEGREE             0   \n",
              "9         0   -2188.756445         41  secondary education             1   \n",
              "\n",
              "       family_status  family_status_id gender income_type  debt  total_income  \\\n",
              "0            married                 0      F    employee     0     40620.102   \n",
              "1            married                 0      F    employee     0     17932.802   \n",
              "2            married                 0      M    employee     0     23341.752   \n",
              "3            married                 0      M    employee     0     42820.568   \n",
              "4  civil partnership                 1      F     retiree     0     25378.572   \n",
              "5  civil partnership                 1      M    business     0     40922.170   \n",
              "6            married                 0      F    business     0     38484.156   \n",
              "7            married                 0      M    employee     0     21731.829   \n",
              "8  civil partnership                 1      F    employee     0     15337.093   \n",
              "9            married                 0      M    employee     0     23108.150   \n",
              "\n",
              "                               purpose  \n",
              "0                purchase of the house  \n",
              "1                         car purchase  \n",
              "2                purchase of the house  \n",
              "3              supplementary education  \n",
              "4                    to have a wedding  \n",
              "5                purchase of the house  \n",
              "6                 housing transactions  \n",
              "7                            education  \n",
              "8                     having a wedding  \n",
              "9  purchase of the house for my family  "
            ],
            "text/html": [
              "\n",
              "  <div id=\"df-52ae7e85-ee09-4ed4-83a0-722e1ebe2739\">\n",
              "    <div class=\"colab-df-container\">\n",
              "      <div>\n",
              "<style scoped>\n",
              "    .dataframe tbody tr th:only-of-type {\n",
              "        vertical-align: middle;\n",
              "    }\n",
              "\n",
              "    .dataframe tbody tr th {\n",
              "        vertical-align: top;\n",
              "    }\n",
              "\n",
              "    .dataframe thead th {\n",
              "        text-align: right;\n",
              "    }\n",
              "</style>\n",
              "<table border=\"1\" class=\"dataframe\">\n",
              "  <thead>\n",
              "    <tr style=\"text-align: right;\">\n",
              "      <th></th>\n",
              "      <th>children</th>\n",
              "      <th>days_employed</th>\n",
              "      <th>dob_years</th>\n",
              "      <th>education</th>\n",
              "      <th>education_id</th>\n",
              "      <th>family_status</th>\n",
              "      <th>family_status_id</th>\n",
              "      <th>gender</th>\n",
              "      <th>income_type</th>\n",
              "      <th>debt</th>\n",
              "      <th>total_income</th>\n",
              "      <th>purpose</th>\n",
              "    </tr>\n",
              "  </thead>\n",
              "  <tbody>\n",
              "    <tr>\n",
              "      <th>0</th>\n",
              "      <td>1</td>\n",
              "      <td>-8437.673028</td>\n",
              "      <td>42</td>\n",
              "      <td>bachelor's degree</td>\n",
              "      <td>0</td>\n",
              "      <td>married</td>\n",
              "      <td>0</td>\n",
              "      <td>F</td>\n",
              "      <td>employee</td>\n",
              "      <td>0</td>\n",
              "      <td>40620.102</td>\n",
              "      <td>purchase of the house</td>\n",
              "    </tr>\n",
              "    <tr>\n",
              "      <th>1</th>\n",
              "      <td>1</td>\n",
              "      <td>-4024.803754</td>\n",
              "      <td>36</td>\n",
              "      <td>secondary education</td>\n",
              "      <td>1</td>\n",
              "      <td>married</td>\n",
              "      <td>0</td>\n",
              "      <td>F</td>\n",
              "      <td>employee</td>\n",
              "      <td>0</td>\n",
              "      <td>17932.802</td>\n",
              "      <td>car purchase</td>\n",
              "    </tr>\n",
              "    <tr>\n",
              "      <th>2</th>\n",
              "      <td>0</td>\n",
              "      <td>-5623.422610</td>\n",
              "      <td>33</td>\n",
              "      <td>Secondary Education</td>\n",
              "      <td>1</td>\n",
              "      <td>married</td>\n",
              "      <td>0</td>\n",
              "      <td>M</td>\n",
              "      <td>employee</td>\n",
              "      <td>0</td>\n",
              "      <td>23341.752</td>\n",
              "      <td>purchase of the house</td>\n",
              "    </tr>\n",
              "    <tr>\n",
              "      <th>3</th>\n",
              "      <td>3</td>\n",
              "      <td>-4124.747207</td>\n",
              "      <td>32</td>\n",
              "      <td>secondary education</td>\n",
              "      <td>1</td>\n",
              "      <td>married</td>\n",
              "      <td>0</td>\n",
              "      <td>M</td>\n",
              "      <td>employee</td>\n",
              "      <td>0</td>\n",
              "      <td>42820.568</td>\n",
              "      <td>supplementary education</td>\n",
              "    </tr>\n",
              "    <tr>\n",
              "      <th>4</th>\n",
              "      <td>0</td>\n",
              "      <td>340266.072047</td>\n",
              "      <td>53</td>\n",
              "      <td>secondary education</td>\n",
              "      <td>1</td>\n",
              "      <td>civil partnership</td>\n",
              "      <td>1</td>\n",
              "      <td>F</td>\n",
              "      <td>retiree</td>\n",
              "      <td>0</td>\n",
              "      <td>25378.572</td>\n",
              "      <td>to have a wedding</td>\n",
              "    </tr>\n",
              "    <tr>\n",
              "      <th>5</th>\n",
              "      <td>0</td>\n",
              "      <td>-926.185831</td>\n",
              "      <td>27</td>\n",
              "      <td>bachelor's degree</td>\n",
              "      <td>0</td>\n",
              "      <td>civil partnership</td>\n",
              "      <td>1</td>\n",
              "      <td>M</td>\n",
              "      <td>business</td>\n",
              "      <td>0</td>\n",
              "      <td>40922.170</td>\n",
              "      <td>purchase of the house</td>\n",
              "    </tr>\n",
              "    <tr>\n",
              "      <th>6</th>\n",
              "      <td>0</td>\n",
              "      <td>-2879.202052</td>\n",
              "      <td>43</td>\n",
              "      <td>bachelor's degree</td>\n",
              "      <td>0</td>\n",
              "      <td>married</td>\n",
              "      <td>0</td>\n",
              "      <td>F</td>\n",
              "      <td>business</td>\n",
              "      <td>0</td>\n",
              "      <td>38484.156</td>\n",
              "      <td>housing transactions</td>\n",
              "    </tr>\n",
              "    <tr>\n",
              "      <th>7</th>\n",
              "      <td>0</td>\n",
              "      <td>-152.779569</td>\n",
              "      <td>50</td>\n",
              "      <td>SECONDARY EDUCATION</td>\n",
              "      <td>1</td>\n",
              "      <td>married</td>\n",
              "      <td>0</td>\n",
              "      <td>M</td>\n",
              "      <td>employee</td>\n",
              "      <td>0</td>\n",
              "      <td>21731.829</td>\n",
              "      <td>education</td>\n",
              "    </tr>\n",
              "    <tr>\n",
              "      <th>8</th>\n",
              "      <td>2</td>\n",
              "      <td>-6929.865299</td>\n",
              "      <td>35</td>\n",
              "      <td>BACHELOR'S DEGREE</td>\n",
              "      <td>0</td>\n",
              "      <td>civil partnership</td>\n",
              "      <td>1</td>\n",
              "      <td>F</td>\n",
              "      <td>employee</td>\n",
              "      <td>0</td>\n",
              "      <td>15337.093</td>\n",
              "      <td>having a wedding</td>\n",
              "    </tr>\n",
              "    <tr>\n",
              "      <th>9</th>\n",
              "      <td>0</td>\n",
              "      <td>-2188.756445</td>\n",
              "      <td>41</td>\n",
              "      <td>secondary education</td>\n",
              "      <td>1</td>\n",
              "      <td>married</td>\n",
              "      <td>0</td>\n",
              "      <td>M</td>\n",
              "      <td>employee</td>\n",
              "      <td>0</td>\n",
              "      <td>23108.150</td>\n",
              "      <td>purchase of the house for my family</td>\n",
              "    </tr>\n",
              "  </tbody>\n",
              "</table>\n",
              "</div>\n",
              "      <button class=\"colab-df-convert\" onclick=\"convertToInteractive('df-52ae7e85-ee09-4ed4-83a0-722e1ebe2739')\"\n",
              "              title=\"Convert this dataframe to an interactive table.\"\n",
              "              style=\"display:none;\">\n",
              "        \n",
              "  <svg xmlns=\"http://www.w3.org/2000/svg\" height=\"24px\"viewBox=\"0 0 24 24\"\n",
              "       width=\"24px\">\n",
              "    <path d=\"M0 0h24v24H0V0z\" fill=\"none\"/>\n",
              "    <path d=\"M18.56 5.44l.94 2.06.94-2.06 2.06-.94-2.06-.94-.94-2.06-.94 2.06-2.06.94zm-11 1L8.5 8.5l.94-2.06 2.06-.94-2.06-.94L8.5 2.5l-.94 2.06-2.06.94zm10 10l.94 2.06.94-2.06 2.06-.94-2.06-.94-.94-2.06-.94 2.06-2.06.94z\"/><path d=\"M17.41 7.96l-1.37-1.37c-.4-.4-.92-.59-1.43-.59-.52 0-1.04.2-1.43.59L10.3 9.45l-7.72 7.72c-.78.78-.78 2.05 0 2.83L4 21.41c.39.39.9.59 1.41.59.51 0 1.02-.2 1.41-.59l7.78-7.78 2.81-2.81c.8-.78.8-2.07 0-2.86zM5.41 20L4 18.59l7.72-7.72 1.47 1.35L5.41 20z\"/>\n",
              "  </svg>\n",
              "      </button>\n",
              "      \n",
              "  <style>\n",
              "    .colab-df-container {\n",
              "      display:flex;\n",
              "      flex-wrap:wrap;\n",
              "      gap: 12px;\n",
              "    }\n",
              "\n",
              "    .colab-df-convert {\n",
              "      background-color: #E8F0FE;\n",
              "      border: none;\n",
              "      border-radius: 50%;\n",
              "      cursor: pointer;\n",
              "      display: none;\n",
              "      fill: #1967D2;\n",
              "      height: 32px;\n",
              "      padding: 0 0 0 0;\n",
              "      width: 32px;\n",
              "    }\n",
              "\n",
              "    .colab-df-convert:hover {\n",
              "      background-color: #E2EBFA;\n",
              "      box-shadow: 0px 1px 2px rgba(60, 64, 67, 0.3), 0px 1px 3px 1px rgba(60, 64, 67, 0.15);\n",
              "      fill: #174EA6;\n",
              "    }\n",
              "\n",
              "    [theme=dark] .colab-df-convert {\n",
              "      background-color: #3B4455;\n",
              "      fill: #D2E3FC;\n",
              "    }\n",
              "\n",
              "    [theme=dark] .colab-df-convert:hover {\n",
              "      background-color: #434B5C;\n",
              "      box-shadow: 0px 1px 3px 1px rgba(0, 0, 0, 0.15);\n",
              "      filter: drop-shadow(0px 1px 2px rgba(0, 0, 0, 0.3));\n",
              "      fill: #FFFFFF;\n",
              "    }\n",
              "  </style>\n",
              "\n",
              "      <script>\n",
              "        const buttonEl =\n",
              "          document.querySelector('#df-52ae7e85-ee09-4ed4-83a0-722e1ebe2739 button.colab-df-convert');\n",
              "        buttonEl.style.display =\n",
              "          google.colab.kernel.accessAllowed ? 'block' : 'none';\n",
              "\n",
              "        async function convertToInteractive(key) {\n",
              "          const element = document.querySelector('#df-52ae7e85-ee09-4ed4-83a0-722e1ebe2739');\n",
              "          const dataTable =\n",
              "            await google.colab.kernel.invokeFunction('convertToInteractive',\n",
              "                                                     [key], {});\n",
              "          if (!dataTable) return;\n",
              "\n",
              "          const docLinkHtml = 'Like what you see? Visit the ' +\n",
              "            '<a target=\"_blank\" href=https://colab.research.google.com/notebooks/data_table.ipynb>data table notebook</a>'\n",
              "            + ' to learn more about interactive tables.';\n",
              "          element.innerHTML = '';\n",
              "          dataTable['output_type'] = 'display_data';\n",
              "          await google.colab.output.renderOutput(dataTable, element);\n",
              "          const docLink = document.createElement('div');\n",
              "          docLink.innerHTML = docLinkHtml;\n",
              "          element.appendChild(docLink);\n",
              "        }\n",
              "      </script>\n",
              "    </div>\n",
              "  </div>\n",
              "  "
            ]
          },
          "metadata": {},
          "execution_count": 16
        }
      ],
      "source": [
        "credit_scoring_data.head(10)\n",
        "\n"
      ]
    },
    {
      "cell_type": "markdown",
      "metadata": {
        "id": "UB72x1EXdvH2"
      },
      "source": [
        "La tabla contiene 12 columnas, el estilo de los nombres me parece bastante correcto. Lo único que valdría la pena revisar es que no parece haber una columna que indique el nombre o código de la persona, esto con el fin de evitar duplicados. Como existe la posibilidad de que dos personas con la misma edad, hayan estudiado lo mismo, esten casados y tengan 2 hijos. No sería raro que tuviesen el mismo sueldo y que esten pidiendo su prestamo por la misma razón (por ejemplo comprar una casa). Si al momento de buscar duplicados aparecen líneas estos no serían evidentes. \n",
        "\n",
        "Por otro lado, al analizar las líneas algunos temas saltan a la vista de inmediato. Me parece raro que la columna 'days_employed' tenga valores negativos y booleanos, tendremos que analizar como se están mostrando esos datos o que representan realmente. La columna 'education' tiene datos en mayuscula y minuscula, esto se tendrá que revisar antes de empezar cualquier analisis."
      ]
    },
    {
      "cell_type": "code",
      "execution_count": 17,
      "metadata": {
        "scrolled": false,
        "colab": {
          "base_uri": "https://localhost:8080/"
        },
        "id": "EdBCN2evdvH3",
        "outputId": "e0977a42-3d62-457a-d8c7-ff9ba11a4d94"
      },
      "outputs": [
        {
          "output_type": "stream",
          "name": "stdout",
          "text": [
            "<class 'pandas.core.frame.DataFrame'>\n",
            "RangeIndex: 21525 entries, 0 to 21524\n",
            "Data columns (total 12 columns):\n",
            " #   Column            Non-Null Count  Dtype  \n",
            "---  ------            --------------  -----  \n",
            " 0   children          21525 non-null  int64  \n",
            " 1   days_employed     19351 non-null  float64\n",
            " 2   dob_years         21525 non-null  int64  \n",
            " 3   education         21525 non-null  object \n",
            " 4   education_id      21525 non-null  int64  \n",
            " 5   family_status     21525 non-null  object \n",
            " 6   family_status_id  21525 non-null  int64  \n",
            " 7   gender            21525 non-null  object \n",
            " 8   income_type       21525 non-null  object \n",
            " 9   debt              21525 non-null  int64  \n",
            " 10  total_income      19351 non-null  float64\n",
            " 11  purpose           21525 non-null  object \n",
            "dtypes: float64(2), int64(5), object(5)\n",
            "memory usage: 2.0+ MB\n"
          ]
        }
      ],
      "source": [
        "credit_scoring_data.info()"
      ]
    },
    {
      "cell_type": "markdown",
      "metadata": {
        "id": "C6khqa9gdvH3"
      },
      "source": [
        "Las columnas 'days_employed' y 'total_income' tienen valores ausentes que tendremos que revisar a fondo. A nivel de tipo de datos, las columnas tienen los tipos correctos en general. La columna 'days_employed' tiene el tipo float64 que es raro para la cantidad de días y la columna 'total_income' imagino que será en dolares con lo cual es normal que sea un float64, hay que confirmar la divisa."
      ]
    },
    {
      "cell_type": "code",
      "source": [
        "credit_scoring_data_filtered_nan = credit_scoring_data[credit_scoring_data['days_employed'].isna()]"
      ],
      "metadata": {
        "id": "qmqJJ4kcj2a6"
      },
      "execution_count": 18,
      "outputs": []
    },
    {
      "cell_type": "code",
      "execution_count": 19,
      "metadata": {
        "scrolled": true,
        "colab": {
          "base_uri": "https://localhost:8080/"
        },
        "id": "YfUK7qeydvH4",
        "outputId": "59c11941-c2de-419a-ab05-1cd9d155e4c5"
      },
      "outputs": [
        {
          "output_type": "stream",
          "name": "stdout",
          "text": [
            "       children  days_employed  dob_years            education  education_id  \\\n",
            "12            0            NaN         65  secondary education             1   \n",
            "26            0            NaN         41  secondary education             1   \n",
            "29            0            NaN         63  secondary education             1   \n",
            "41            0            NaN         50  secondary education             1   \n",
            "55            0            NaN         54  secondary education             1   \n",
            "...         ...            ...        ...                  ...           ...   \n",
            "21489         2            NaN         47  Secondary Education             1   \n",
            "21495         1            NaN         50  secondary education             1   \n",
            "21497         0            NaN         48    BACHELOR'S DEGREE             0   \n",
            "21502         1            NaN         42  secondary education             1   \n",
            "21510         2            NaN         28  secondary education             1   \n",
            "\n",
            "           family_status  family_status_id gender    income_type  debt  \\\n",
            "12     civil partnership                 1      M        retiree     0   \n",
            "26               married                 0      M  civil servant     0   \n",
            "29             unmarried                 4      F        retiree     0   \n",
            "41               married                 0      F  civil servant     0   \n",
            "55     civil partnership                 1      F        retiree     1   \n",
            "...                  ...               ...    ...            ...   ...   \n",
            "21489            married                 0      M       business     0   \n",
            "21495  civil partnership                 1      F       employee     0   \n",
            "21497            married                 0      F       business     0   \n",
            "21502            married                 0      F       employee     0   \n",
            "21510            married                 0      F       employee     0   \n",
            "\n",
            "       total_income                   purpose  \n",
            "12              NaN         to have a wedding  \n",
            "26              NaN                 education  \n",
            "29              NaN    building a real estate  \n",
            "41              NaN  second-hand car purchase  \n",
            "55              NaN         to have a wedding  \n",
            "...             ...                       ...  \n",
            "21489           NaN         purchase of a car  \n",
            "21495           NaN          wedding ceremony  \n",
            "21497           NaN       building a property  \n",
            "21502           NaN    building a real estate  \n",
            "21510           NaN              car purchase  \n",
            "\n",
            "[2174 rows x 12 columns]\n"
          ]
        }
      ],
      "source": [
        "credit_scoring_data_filtered_nan = credit_scoring_data[credit_scoring_data['days_employed'].fillna('x') == 'x']\n",
        "print(credit_scoring_data_filtered_nan)"
      ]
    },
    {
      "cell_type": "markdown",
      "metadata": {
        "id": "9jmMC60jdvH4"
      },
      "source": [
        "Al observar las lineas filtradas por NaN en la columna 'days_employed' se puede apreciar que la columna 'total_income' también presenta solo valores ausentes. Seria bueno comprobar este supuesto, antes de sacar más conclusiones."
      ]
    },
    {
      "cell_type": "code",
      "execution_count": 20,
      "metadata": {
        "colab": {
          "base_uri": "https://localhost:8080/"
        },
        "id": "wGYM3pEvdvH4",
        "outputId": "16d89895-5308-40a5-e96b-12cc114e2dbe"
      },
      "outputs": [
        {
          "output_type": "stream",
          "name": "stdout",
          "text": [
            "       children  days_employed  dob_years            education  education_id  \\\n",
            "12            0            NaN         65  secondary education             1   \n",
            "26            0            NaN         41  secondary education             1   \n",
            "29            0            NaN         63  secondary education             1   \n",
            "41            0            NaN         50  secondary education             1   \n",
            "55            0            NaN         54  secondary education             1   \n",
            "...         ...            ...        ...                  ...           ...   \n",
            "21489         2            NaN         47  Secondary Education             1   \n",
            "21495         1            NaN         50  secondary education             1   \n",
            "21497         0            NaN         48    BACHELOR'S DEGREE             0   \n",
            "21502         1            NaN         42  secondary education             1   \n",
            "21510         2            NaN         28  secondary education             1   \n",
            "\n",
            "           family_status  family_status_id gender    income_type  debt  \\\n",
            "12     civil partnership                 1      M        retiree     0   \n",
            "26               married                 0      M  civil servant     0   \n",
            "29             unmarried                 4      F        retiree     0   \n",
            "41               married                 0      F  civil servant     0   \n",
            "55     civil partnership                 1      F        retiree     1   \n",
            "...                  ...               ...    ...            ...   ...   \n",
            "21489            married                 0      M       business     0   \n",
            "21495  civil partnership                 1      F       employee     0   \n",
            "21497            married                 0      F       business     0   \n",
            "21502            married                 0      F       employee     0   \n",
            "21510            married                 0      F       employee     0   \n",
            "\n",
            "       total_income                   purpose  \n",
            "12              NaN         to have a wedding  \n",
            "26              NaN                 education  \n",
            "29              NaN    building a real estate  \n",
            "41              NaN  second-hand car purchase  \n",
            "55              NaN         to have a wedding  \n",
            "...             ...                       ...  \n",
            "21489           NaN         purchase of a car  \n",
            "21495           NaN          wedding ceremony  \n",
            "21497           NaN       building a property  \n",
            "21502           NaN    building a real estate  \n",
            "21510           NaN              car purchase  \n",
            "\n",
            "[2174 rows x 12 columns]\n"
          ]
        }
      ],
      "source": [
        "print(credit_scoring_data[(credit_scoring_data['days_employed'].isna()) & (credit_scoring_data['total_income'].isna())])"
      ]
    },
    {
      "cell_type": "markdown",
      "metadata": {
        "id": "z0kCIaM3dvH4"
      },
      "source": [
        "De esta forma estamos comprobando que tanto 'days_employed' como 'total_income' tienen el mismo número de líneas, lo que confirma que los valores son símetricos."
      ]
    },
    {
      "cell_type": "code",
      "execution_count": 21,
      "metadata": {
        "colab": {
          "base_uri": "https://localhost:8080/"
        },
        "id": "sjJapzwSdvH5",
        "outputId": "eb51141d-248c-4d88-bcff-cf6cd0c136a0"
      },
      "outputs": [
        {
          "output_type": "stream",
          "name": "stdout",
          "text": [
            "Empty DataFrame\n",
            "Columns: [children, days_employed, dob_years, education, education_id, family_status, family_status_id, gender, income_type, debt, total_income, purpose]\n",
            "Index: []\n"
          ]
        }
      ],
      "source": [
        "test_sincronize_nan = pd.read_csv('/content/drive/MyDrive/Colab Notebooks/02 - Preprocesamiento de datos/02 - Tarea/credit_scoring_eng.csv', keep_default_na = False)\n",
        "\n",
        "comparison = test_sincronize_nan.loc[(test_sincronize_nan['days_employed'] == '') & test_sincronize_nan['total_income'] == '']\n",
        "\n",
        "print(comparison)"
      ]
    },
    {
      "cell_type": "markdown",
      "metadata": {
        "id": "rdsVCpt4dvH5"
      },
      "source": [
        "Otra manera de comprobar lo mismo, el DataFrame obtenido está vació. Los valores ausentes entonces son simetricos. "
      ]
    },
    {
      "cell_type": "code",
      "execution_count": 22,
      "metadata": {
        "colab": {
          "base_uri": "https://localhost:8080/"
        },
        "id": "OArPtlI1dvH5",
        "outputId": "c7c88e28-2175-4ac0-e4a6-ee2a732ee6d0"
      },
      "outputs": [
        {
          "output_type": "stream",
          "name": "stdout",
          "text": [
            "Porcentage of NaN = 10 % on columns \"days_employed\" and \"total_income\".\n"
          ]
        }
      ],
      "source": [
        "print('Porcentage of NaN =', int((credit_scoring_data['days_employed'].isna().sum() * 100) / credit_scoring_data['children'].count()),'% on columns \"days_employed\" and \"total_income\".')"
      ]
    },
    {
      "cell_type": "markdown",
      "metadata": {
        "id": "kLnLoI-tdvH5"
      },
      "source": [
        "**Conclusión intermedia**\n",
        "\n",
        "Hemos podido comprobar que los valores ausentes son sincrónicos. El ingreso total puede efectivamente estar relacionado a los días de \"experiencia laboral\". \n",
        "\n",
        "Los valores ausentes en las columnas \"days_employed\" y \"total_income\" corresponden al 10% del total, lo que nos permitirá estudiarlos y seguramente poder rellenar los valores ausentes.\n",
        "\n",
        "Tanto los \"days_employed\" como el \"total_income\" podrían estar relacionados a la edad de la persona (si es muy joven puede no tener trabajo, o tener su primer trabajo con un sueldo menor, si tiene sobre 65 años podría estar jubilado, etc). También la educación es un factor relevante a analizar ya que una persona sin carrera universitario puede entrar antes a trabajar pero es probable que su ingreso sea menor, y a su vez una persona con una carrera universitaria y post grados puede que entre más tarde al mundo laboral reduciendo su experiencia pero aumentando su ingreso.\n",
        "\n",
        "En consecuencia, creo que será importante revisar las columnas de edad y de educación para ver como se relacionan con con las otras columnas y a partir de ahí poder ver si podemos sacar algún patrón que nos ayude a completar los valores ausentes."
      ]
    },
    {
      "cell_type": "code",
      "execution_count": 23,
      "metadata": {
        "colab": {
          "base_uri": "https://localhost:8080/"
        },
        "id": "8PWUKFOgdvH5",
        "outputId": "6dfe570b-256d-4486-decd-fc7cfb2ea880"
      },
      "outputs": [
        {
          "output_type": "stream",
          "name": "stdout",
          "text": [
            "children\n",
            " 0     1439\n",
            " 1      475\n",
            " 2      204\n",
            " 3       36\n",
            " 20       9\n",
            " 4        7\n",
            "-1        3\n",
            " 5        1\n",
            "Name: dob_years, dtype: int64\n"
          ]
        }
      ],
      "source": [
        "def nan_counting(columns_to_groupby, in_columns):\n",
        "  nan_counted_data = credit_scoring_data_filtered_nan.groupby(columns_to_groupby)[in_columns].count()\n",
        "  return nan_counted_data.sort_values(ascending=False)\n",
        "\n",
        "print(nan_counting('children', 'dob_years'))"
      ]
    },
    {
      "cell_type": "markdown",
      "metadata": {
        "id": "vSOLJ2JgdvH6"
      },
      "source": [
        "En el caso de la columna 'children' podemos notar que la mayoría de los valores ausentes se encuentran en las personas con cero hijos, luego con uno y finalmente con dos. El resto de los valores son bastante menores, pero valdría la pena revisar los datos con 20 hijos y con menos 1 hijo."
      ]
    },
    {
      "cell_type": "code",
      "execution_count": 24,
      "metadata": {
        "colab": {
          "base_uri": "https://localhost:8080/"
        },
        "id": "hMAm7-TqdvH6",
        "outputId": "0f659deb-9190-4354-c7a4-b329ab1385d9"
      },
      "outputs": [
        {
          "output_type": "stream",
          "name": "stdout",
          "text": [
            "dob_years\n",
            "34    69\n",
            "40    66\n",
            "31    65\n",
            "42    65\n",
            "35    64\n",
            "36    63\n",
            "47    59\n",
            "41    59\n",
            "30    58\n",
            "28    57\n",
            "58    56\n",
            "57    56\n",
            "54    55\n",
            "38    54\n",
            "56    54\n",
            "52    53\n",
            "37    53\n",
            "33    51\n",
            "50    51\n",
            "39    51\n",
            "51    50\n",
            "49    50\n",
            "45    50\n",
            "29    50\n",
            "43    50\n",
            "55    48\n",
            "46    48\n",
            "48    46\n",
            "44    44\n",
            "53    44\n",
            "60    39\n",
            "62    38\n",
            "61    38\n",
            "64    37\n",
            "32    37\n",
            "27    36\n",
            "23    36\n",
            "26    35\n",
            "59    34\n",
            "63    29\n",
            "25    23\n",
            "24    21\n",
            "66    20\n",
            "65    20\n",
            "21    18\n",
            "22    17\n",
            "67    16\n",
            "0     10\n",
            "68     9\n",
            "20     5\n",
            "69     5\n",
            "71     5\n",
            "70     3\n",
            "72     2\n",
            "19     1\n",
            "73     1\n",
            "Name: education, dtype: int64\n"
          ]
        }
      ],
      "source": [
        "print(nan_counting('dob_years', 'education'))"
      ]
    },
    {
      "cell_type": "markdown",
      "metadata": {
        "id": "ULv9xfTDdvH6"
      },
      "source": [
        "En el caso de la edad ('dob_years') nos encontramos que la mayor cantidad de valores ausentes se encuentran entre los 30 y 40 años. En este caso quizás deberíamos agrupar las edades para ver si hay datos más concluyentes."
      ]
    },
    {
      "cell_type": "code",
      "execution_count": 25,
      "metadata": {
        "colab": {
          "base_uri": "https://localhost:8080/"
        },
        "id": "Li-q1gMzdvH6",
        "outputId": "9ed4c1c1-0265-4105-adc5-5223f797f3a5"
      },
      "outputs": [
        {
          "output_type": "stream",
          "name": "stdout",
          "text": [
            "education\n",
            "secondary education    1408\n",
            "bachelor's degree       496\n",
            "SECONDARY EDUCATION      67\n",
            "Secondary Education      65\n",
            "some college             55\n",
            "Bachelor's Degree        25\n",
            "BACHELOR'S DEGREE        23\n",
            "primary education        19\n",
            "SOME COLLEGE              7\n",
            "Some College              7\n",
            "PRIMARY EDUCATION         1\n",
            "Primary Education         1\n",
            "Name: dob_years, dtype: int64\n"
          ]
        }
      ],
      "source": [
        "print(nan_counting('education', 'dob_years'))"
      ]
    },
    {
      "cell_type": "markdown",
      "metadata": {
        "id": "jh1rNHgzdvH6"
      },
      "source": [
        "En la columna de 'education' lo primero a notar es la cantidad de nombres duplicados, pero además nos encontramos con que la gran mayoría de los valores ausentes se encuentran en la sección de educación secundaria."
      ]
    },
    {
      "cell_type": "code",
      "execution_count": 26,
      "metadata": {
        "colab": {
          "base_uri": "https://localhost:8080/"
        },
        "id": "TSYMc6jzdvH6",
        "outputId": "15b490b1-8d3a-4edd-ac26-af76b3149230"
      },
      "outputs": [
        {
          "output_type": "stream",
          "name": "stdout",
          "text": [
            "family_status\n",
            "married              1237\n",
            "civil partnership     442\n",
            "unmarried             288\n",
            "divorced              112\n",
            "widow / widower        95\n",
            "Name: dob_years, dtype: int64\n"
          ]
        }
      ],
      "source": [
        "print(nan_counting('family_status', 'dob_years'))"
      ]
    },
    {
      "cell_type": "markdown",
      "metadata": {
        "id": "DkZyhuindvH6"
      },
      "source": [
        "Para la columna de 'family_status' la gran mayoría de valores ausentes se encuentran en la sección de casados."
      ]
    },
    {
      "cell_type": "code",
      "execution_count": 27,
      "metadata": {
        "colab": {
          "base_uri": "https://localhost:8080/"
        },
        "id": "mpR0e5pxdvH7",
        "outputId": "619119f7-079e-44f5-e7cb-e8b7cf7a833b"
      },
      "outputs": [
        {
          "output_type": "stream",
          "name": "stdout",
          "text": [
            "gender\n",
            "F    1484\n",
            "M     690\n",
            "Name: dob_years, dtype: int64\n"
          ]
        }
      ],
      "source": [
        "print(nan_counting('gender', 'dob_years'))"
      ]
    },
    {
      "cell_type": "markdown",
      "metadata": {
        "id": "v5CrMjapdvH7"
      },
      "source": [
        "En la columna de 'gender' la mayoría de valores ausentes se encuentra en las mujeres."
      ]
    },
    {
      "cell_type": "code",
      "execution_count": 28,
      "metadata": {
        "colab": {
          "base_uri": "https://localhost:8080/"
        },
        "id": "5XVYM9NmdvH7",
        "outputId": "8b36cbc2-1e5d-4a81-dab4-d2bd6dc7a67e"
      },
      "outputs": [
        {
          "output_type": "stream",
          "name": "stdout",
          "text": [
            "income_type\n",
            "employee         1105\n",
            "business          508\n",
            "retiree           413\n",
            "civil servant     147\n",
            "entrepreneur        1\n",
            "Name: dob_years, dtype: int64\n"
          ]
        }
      ],
      "source": [
        "print(nan_counting('income_type', 'dob_years'))"
      ]
    },
    {
      "cell_type": "markdown",
      "metadata": {
        "id": "8Dh4EdjvdvH7"
      },
      "source": [
        "Para la columna 'income_type' vemos que 2/4 de los valores ausentes se encuentran entre las personas empleadas."
      ]
    },
    {
      "cell_type": "code",
      "execution_count": 29,
      "metadata": {
        "colab": {
          "base_uri": "https://localhost:8080/"
        },
        "id": "BCudYPnMdvH7",
        "outputId": "5efc74a5-85cc-4518-ab1f-a9723e402e2e"
      },
      "outputs": [
        {
          "output_type": "stream",
          "name": "stdout",
          "text": [
            "debt\n",
            "0    2004\n",
            "1     170\n",
            "Name: dob_years, dtype: int64\n"
          ]
        }
      ],
      "source": [
        "print(nan_counting('debt', 'dob_years'))"
      ]
    },
    {
      "cell_type": "markdown",
      "metadata": {
        "id": "frafO0SzdvH7"
      },
      "source": [
        "Casi todos los valores ausentes corresponden a personas sin deudas."
      ]
    },
    {
      "cell_type": "code",
      "execution_count": 30,
      "metadata": {
        "colab": {
          "base_uri": "https://localhost:8080/"
        },
        "id": "j8mkp4krdvH7",
        "outputId": "d1b84331-9022-4213-ccab-e06ebdb34cd2"
      },
      "outputs": [
        {
          "output_type": "stream",
          "name": "stdout",
          "text": [
            "purpose\n",
            "having a wedding                            92\n",
            "to have a wedding                           81\n",
            "wedding ceremony                            76\n",
            "construction of own property                75\n",
            "housing transactions                        74\n",
            "buy real estate                             72\n",
            "transactions with my real estate            71\n",
            "purchase of the house for my family         71\n",
            "transactions with commercial real estate    70\n",
            "housing renovation                          70\n",
            "buy commercial real estate                  67\n",
            "buying property for renting out             65\n",
            "property                                    62\n",
            "buy residential real estate                 61\n",
            "real estate transactions                    61\n",
            "housing                                     60\n",
            "building a property                         59\n",
            "cars                                        57\n",
            "going to university                         56\n",
            "to become educated                          55\n",
            "second-hand car purchase                    54\n",
            "buying my own car                           53\n",
            "to own a car                                52\n",
            "purchase of the house                       52\n",
            "to get a supplementary education            51\n",
            "getting an education                        50\n",
            "supplementary education                     48\n",
            "profile education                           47\n",
            "purchase of a car                           46\n",
            "building a real estate                      46\n",
            "purchase of my own house                    46\n",
            "car purchase                                43\n",
            "education                                   42\n",
            "buying a second-hand car                    42\n",
            "car                                         41\n",
            "university education                        40\n",
            "getting higher education                    36\n",
            "to buy a car                                30\n",
            "Name: dob_years, dtype: int64\n"
          ]
        }
      ],
      "source": [
        "print(nan_counting('purpose', 'dob_years'))"
      ]
    },
    {
      "cell_type": "markdown",
      "metadata": {
        "id": "EYsQjUpNdvH7"
      },
      "source": [
        "Finalmente, la columna 'purpose' vemos que está llena de valores duplicados, sin embargo, se puede apreciar que la mayoría de los valores ausentes se encuentran entre las personas que quieren financiar su boda o invertir en real state."
      ]
    },
    {
      "cell_type": "markdown",
      "metadata": {
        "id": "pptE6DNxdvH7"
      },
      "source": [
        "En base al conteo de valores ausentes por columnas podemos identificar las siguientes columnas que valdría la pena revisar más a fondo: children, education, family_status, gender, income_type y debt"
      ]
    },
    {
      "cell_type": "code",
      "execution_count": 31,
      "metadata": {
        "colab": {
          "base_uri": "https://localhost:8080/"
        },
        "id": "hyovsKgpdvH8",
        "outputId": "59ab4655-0eb8-4071-820e-f9b50c7ac946"
      },
      "outputs": [
        {
          "output_type": "execute_result",
          "data": {
            "text/plain": [
              " 0     0.657329\n",
              " 1     0.223833\n",
              " 2     0.095470\n",
              " 3     0.015331\n",
              " 20    0.003531\n",
              "-1     0.002184\n",
              " 4     0.001905\n",
              " 5     0.000418\n",
              "Name: children, dtype: float64"
            ]
          },
          "metadata": {},
          "execution_count": 31
        }
      ],
      "source": [
        "# Comprobación de la distribución\n",
        "credit_scoring_data['children'].value_counts(normalize=True)"
      ]
    },
    {
      "cell_type": "markdown",
      "metadata": {
        "id": "stQ-IVb2dvH8"
      },
      "source": [
        "Como se puede apreciar el 65% corresponde a personas sin hijos."
      ]
    },
    {
      "cell_type": "code",
      "execution_count": 32,
      "metadata": {
        "colab": {
          "base_uri": "https://localhost:8080/"
        },
        "id": "U322CrtHdvH8",
        "outputId": "a039db4d-c60f-4ffc-d7be-5ac84688c77d"
      },
      "outputs": [
        {
          "output_type": "execute_result",
          "data": {
            "text/plain": [
              "secondary education    0.638792\n",
              "bachelor's degree      0.219187\n",
              "SECONDARY EDUCATION    0.035865\n",
              "Secondary Education    0.033031\n",
              "some college           0.031034\n",
              "BACHELOR'S DEGREE      0.012729\n",
              "Bachelor's Degree      0.012451\n",
              "primary education      0.011614\n",
              "Some College           0.002184\n",
              "SOME COLLEGE           0.001347\n",
              "PRIMARY EDUCATION      0.000790\n",
              "Primary Education      0.000697\n",
              "graduate degree        0.000186\n",
              "Graduate Degree        0.000046\n",
              "GRADUATE DEGREE        0.000046\n",
              "Name: education, dtype: float64"
            ]
          },
          "metadata": {},
          "execution_count": 32
        }
      ],
      "source": [
        "credit_scoring_data['education'].value_counts(normalize=True)"
      ]
    },
    {
      "cell_type": "markdown",
      "metadata": {
        "id": "YBFJ-pUCdvH8"
      },
      "source": [
        "En la columna de educación el 63% corresponde a secondary education, pero este valor podría aumentar ya que la columna tiene claramente atributos duplicados."
      ]
    },
    {
      "cell_type": "code",
      "execution_count": 33,
      "metadata": {
        "colab": {
          "base_uri": "https://localhost:8080/"
        },
        "id": "j1RGo1C_dvH8",
        "outputId": "f15c14d4-da43-4b8b-f68a-7eb8afd91f6c"
      },
      "outputs": [
        {
          "output_type": "execute_result",
          "data": {
            "text/plain": [
              "married              0.575145\n",
              "civil partnership    0.194053\n",
              "unmarried            0.130685\n",
              "divorced             0.055517\n",
              "widow / widower      0.044599\n",
              "Name: family_status, dtype: float64"
            ]
          },
          "metadata": {},
          "execution_count": 33
        }
      ],
      "source": [
        "credit_scoring_data['family_status'].value_counts(normalize=True)"
      ]
    },
    {
      "cell_type": "markdown",
      "metadata": {
        "id": "-hRU68_GdvH8"
      },
      "source": [
        "Para la columna family status encontramos que el 57% de personas están casadas."
      ]
    },
    {
      "cell_type": "code",
      "execution_count": 34,
      "metadata": {
        "colab": {
          "base_uri": "https://localhost:8080/"
        },
        "id": "BSiYtFF-dvH8",
        "outputId": "851bd99f-fd0d-4852-b14c-9e817540a01c"
      },
      "outputs": [
        {
          "output_type": "execute_result",
          "data": {
            "text/plain": [
              "F      0.661370\n",
              "M      0.338583\n",
              "XNA    0.000046\n",
              "Name: gender, dtype: float64"
            ]
          },
          "metadata": {},
          "execution_count": 34
        }
      ],
      "source": [
        "credit_scoring_data['gender'].value_counts(normalize=True)"
      ]
    },
    {
      "cell_type": "markdown",
      "metadata": {
        "id": "Ll2Gr6AXdvH8"
      },
      "source": [
        "El 66% son mujeres para la columna Gender."
      ]
    },
    {
      "cell_type": "code",
      "execution_count": 35,
      "metadata": {
        "colab": {
          "base_uri": "https://localhost:8080/"
        },
        "id": "ZM3bHwF8dvH8",
        "outputId": "c28111ec-c9d1-4656-9548-91754b00f78e"
      },
      "outputs": [
        {
          "output_type": "execute_result",
          "data": {
            "text/plain": [
              "employee                       0.516562\n",
              "business                       0.236237\n",
              "retiree                        0.179141\n",
              "civil servant                  0.067782\n",
              "unemployed                     0.000093\n",
              "entrepreneur                   0.000093\n",
              "student                        0.000046\n",
              "paternity / maternity leave    0.000046\n",
              "Name: income_type, dtype: float64"
            ]
          },
          "metadata": {},
          "execution_count": 35
        }
      ],
      "source": [
        "credit_scoring_data['income_type'].value_counts(normalize=True)"
      ]
    },
    {
      "cell_type": "markdown",
      "metadata": {
        "id": "wF2Exb__dvH8"
      },
      "source": [
        "Para la columna Income Type el 51% corresponden a empleados."
      ]
    },
    {
      "cell_type": "code",
      "execution_count": 36,
      "metadata": {
        "colab": {
          "base_uri": "https://localhost:8080/"
        },
        "id": "XwRWTH_HdvH8",
        "outputId": "15f6b397-901f-4406-b0d8-9549a57f1a01"
      },
      "outputs": [
        {
          "output_type": "execute_result",
          "data": {
            "text/plain": [
              "0    0.919117\n",
              "1    0.080883\n",
              "Name: debt, dtype: float64"
            ]
          },
          "metadata": {},
          "execution_count": 36
        }
      ],
      "source": [
        "credit_scoring_data['debt'].value_counts(normalize=True)"
      ]
    },
    {
      "cell_type": "markdown",
      "metadata": {
        "id": "qrEOVQuldvH9"
      },
      "source": [
        "Y para la columna debt, el 91% corresponde al valor 0 que usualmente quiere decir sin deuda."
      ]
    },
    {
      "cell_type": "markdown",
      "metadata": {
        "id": "k4KPeAajdvH9"
      },
      "source": [
        "Al revisar la distribución de datos más a fondo, podemos ver que la columna debt con 91% de valores de un tipo es muy relevante. Luego tenemos columnas que también valdría la pena analizar por su alto porcentaje: Gender, Children y Education. Cada una de ellas sobrepasa el 60% en un atributo en particular. Finalmente tenemos family status y Income Type que podemos mirar ya que tienen atributos sobre el 50%.\n",
        "\n",
        "**Posibles razones por las que hay valores ausentes en los datos**\n",
        "\n",
        "Los valores ausentes en la columna 'days_employed' podrían tener que ver con la edad (pero la distribución de datos era bastante escasa), otra alternativa podría ser en base a la educación y el genero. Por otro lado, los valores ausentes en la columna 'total_income' seguramente tendrán que ver con el genero y el número de hijos."
      ]
    },
    {
      "cell_type": "code",
      "execution_count": 37,
      "metadata": {
        "colab": {
          "base_uri": "https://localhost:8080/"
        },
        "id": "WxlgXHrpdvH9",
        "outputId": "4c3fe7d8-77bd-4888-93e8-e99222e24e17"
      },
      "outputs": [
        {
          "output_type": "stream",
          "name": "stdout",
          "text": [
            "<class 'pandas.core.frame.DataFrame'>\n",
            "Int64Index: 19351 entries, 0 to 21524\n",
            "Data columns (total 12 columns):\n",
            " #   Column            Non-Null Count  Dtype  \n",
            "---  ------            --------------  -----  \n",
            " 0   children          19351 non-null  int64  \n",
            " 1   days_employed     19351 non-null  float64\n",
            " 2   dob_years         19351 non-null  int64  \n",
            " 3   education         19351 non-null  object \n",
            " 4   education_id      19351 non-null  int64  \n",
            " 5   family_status     19351 non-null  object \n",
            " 6   family_status_id  19351 non-null  int64  \n",
            " 7   gender            19351 non-null  object \n",
            " 8   income_type       19351 non-null  object \n",
            " 9   debt              19351 non-null  int64  \n",
            " 10  total_income      19351 non-null  float64\n",
            " 11  purpose           19351 non-null  object \n",
            "dtypes: float64(2), int64(5), object(5)\n",
            "memory usage: 1.9+ MB\n"
          ]
        }
      ],
      "source": [
        "credit_scoring_data_dropna = credit_scoring_data.dropna()\n",
        "\n",
        "credit_scoring_data_dropna.info()"
      ]
    },
    {
      "cell_type": "markdown",
      "metadata": {
        "id": "157Y9WTsdvH9"
      },
      "source": [
        "Ahora revisaremos la distribución de los datos en las columnas mencionadas sin tomar en consideración los valores ausentes:"
      ]
    },
    {
      "cell_type": "code",
      "execution_count": 38,
      "metadata": {
        "colab": {
          "base_uri": "https://localhost:8080/"
        },
        "id": "Cy2XCKW2dvH9",
        "outputId": "d8659106-4984-4265-fcfb-175cfb1dbaa2"
      },
      "outputs": [
        {
          "output_type": "execute_result",
          "data": {
            "text/plain": [
              "0    0.918816\n",
              "1    0.081184\n",
              "Name: debt, dtype: float64"
            ]
          },
          "metadata": {},
          "execution_count": 38
        }
      ],
      "source": [
        "credit_scoring_data_dropna['debt'].value_counts(normalize=True)"
      ]
    },
    {
      "cell_type": "code",
      "execution_count": 39,
      "metadata": {
        "colab": {
          "base_uri": "https://localhost:8080/"
        },
        "id": "8iShCllgdvH9",
        "outputId": "71111a17-2f35-4a68-8def-de67293e9dfd"
      },
      "outputs": [
        {
          "output_type": "execute_result",
          "data": {
            "text/plain": [
              "F      0.658984\n",
              "M      0.340964\n",
              "XNA    0.000052\n",
              "Name: gender, dtype: float64"
            ]
          },
          "metadata": {},
          "execution_count": 39
        }
      ],
      "source": [
        "credit_scoring_data_dropna['gender'].value_counts(normalize=True)"
      ]
    },
    {
      "cell_type": "code",
      "execution_count": 40,
      "metadata": {
        "colab": {
          "base_uri": "https://localhost:8080/"
        },
        "id": "D9a0WnVvdvH9",
        "outputId": "e9aff307-3032-4e33-a29b-95468e296418"
      },
      "outputs": [
        {
          "output_type": "execute_result",
          "data": {
            "text/plain": [
              " 0     0.656814\n",
              " 1     0.224433\n",
              " 2     0.095654\n",
              " 3     0.015193\n",
              " 20    0.003462\n",
              "-1     0.002274\n",
              " 4     0.001757\n",
              " 5     0.000413\n",
              "Name: children, dtype: float64"
            ]
          },
          "metadata": {},
          "execution_count": 40
        }
      ],
      "source": [
        "credit_scoring_data_dropna['children'].value_counts(normalize=True)"
      ]
    },
    {
      "cell_type": "code",
      "execution_count": 41,
      "metadata": {
        "colab": {
          "base_uri": "https://localhost:8080/"
        },
        "id": "6aEXnFo0dvH9",
        "outputId": "bd59e866-8434-4b1f-d655-e619f456e45e"
      },
      "outputs": [
        {
          "output_type": "execute_result",
          "data": {
            "text/plain": [
              "secondary education    0.637796\n",
              "bachelor's degree      0.218180\n",
              "SECONDARY EDUCATION    0.036432\n",
              "Secondary Education    0.033383\n",
              "some college           0.031678\n",
              "BACHELOR'S DEGREE      0.012971\n",
              "Bachelor's Degree      0.012557\n",
              "primary education      0.011937\n",
              "Some College           0.002067\n",
              "SOME COLLEGE           0.001137\n",
              "PRIMARY EDUCATION      0.000827\n",
              "Primary Education      0.000723\n",
              "graduate degree        0.000207\n",
              "Graduate Degree        0.000052\n",
              "GRADUATE DEGREE        0.000052\n",
              "Name: education, dtype: float64"
            ]
          },
          "metadata": {},
          "execution_count": 41
        }
      ],
      "source": [
        "credit_scoring_data_dropna['education'].value_counts(normalize=True)"
      ]
    },
    {
      "cell_type": "code",
      "execution_count": 42,
      "metadata": {
        "colab": {
          "base_uri": "https://localhost:8080/"
        },
        "id": "_pfTa0vjdvH9",
        "outputId": "bb0669d8-7e8a-4e01-e3b6-5eda02f2ac16"
      },
      "outputs": [
        {
          "output_type": "execute_result",
          "data": {
            "text/plain": [
              "married              0.575836\n",
              "civil partnership    0.193013\n",
              "unmarried            0.130484\n",
              "divorced             0.055966\n",
              "widow / widower      0.044701\n",
              "Name: family_status, dtype: float64"
            ]
          },
          "metadata": {},
          "execution_count": 42
        }
      ],
      "source": [
        "credit_scoring_data_dropna['family_status'].value_counts(normalize=True)"
      ]
    },
    {
      "cell_type": "code",
      "execution_count": 43,
      "metadata": {
        "colab": {
          "base_uri": "https://localhost:8080/"
        },
        "id": "wdYnwVl-dvH9",
        "outputId": "8771de60-3233-4e65-d95f-2621e93abf70"
      },
      "outputs": [
        {
          "output_type": "execute_result",
          "data": {
            "text/plain": [
              "employee                       0.517493\n",
              "business                       0.236525\n",
              "retiree                        0.177924\n",
              "civil servant                  0.067800\n",
              "unemployed                     0.000103\n",
              "student                        0.000052\n",
              "entrepreneur                   0.000052\n",
              "paternity / maternity leave    0.000052\n",
              "Name: income_type, dtype: float64"
            ]
          },
          "metadata": {},
          "execution_count": 43
        }
      ],
      "source": [
        "credit_scoring_data_dropna['income_type'].value_counts(normalize=True)"
      ]
    },
    {
      "cell_type": "markdown",
      "metadata": {
        "id": "cfRe71QvdvH-"
      },
      "source": [
        "Los porcentajes para la base de datos filtrada sin valores ausentes son los siguientes:\n",
        "- debt = 91,8816% atributo 0\n",
        "- gender = 65,8984% atributo F\n",
        "- children = 65,6814% atributo 0\n",
        "- education = 63,7796% atributo secondary education\n",
        "- family_status = 57,5836% atributo married\n",
        "- income_type = 51,7493% atributo employee\n",
        "\n",
        "Los valores son bastante cercanos, pero si analizamos la diferencia entre la base de datos completa menos los valores de la base de datos sin valores ausentes obtenemos los siguientes resultados:"
      ]
    },
    {
      "cell_type": "code",
      "execution_count": 44,
      "metadata": {
        "id": "Fo3503gqdvH-"
      },
      "outputs": [],
      "source": [
        "def value_counts_normalize_difference(column):\n",
        "  difference = credit_scoring_data[column].value_counts(normalize=True) - credit_scoring_data_dropna[column].value_counts(normalize=True)\n",
        "  return difference"
      ]
    },
    {
      "cell_type": "code",
      "execution_count": 45,
      "metadata": {
        "colab": {
          "base_uri": "https://localhost:8080/"
        },
        "id": "0ZeZ9bwFdvH-",
        "outputId": "a513048e-4db1-41c1-9a94-ae0f42be5052"
      },
      "outputs": [
        {
          "output_type": "execute_result",
          "data": {
            "text/plain": [
              "0    0.000302\n",
              "1   -0.000302\n",
              "Name: debt, dtype: float64"
            ]
          },
          "metadata": {},
          "execution_count": 45
        }
      ],
      "source": [
        "value_counts_normalize_difference('debt')"
      ]
    },
    {
      "cell_type": "code",
      "execution_count": 46,
      "metadata": {
        "colab": {
          "base_uri": "https://localhost:8080/"
        },
        "id": "f0qsm6kydvH-",
        "outputId": "7c2494b1-e157-4ce7-e156-db4e676ba0ec"
      },
      "outputs": [
        {
          "output_type": "execute_result",
          "data": {
            "text/plain": [
              "F      0.002386\n",
              "M     -0.002381\n",
              "XNA   -0.000005\n",
              "Name: gender, dtype: float64"
            ]
          },
          "metadata": {},
          "execution_count": 46
        }
      ],
      "source": [
        "value_counts_normalize_difference('gender')"
      ]
    },
    {
      "cell_type": "code",
      "execution_count": 47,
      "metadata": {
        "colab": {
          "base_uri": "https://localhost:8080/"
        },
        "id": "yCUlH4D7dvH-",
        "outputId": "0fa7e53f-4c93-4fa7-85ed-a1ce5843fa2d"
      },
      "outputs": [
        {
          "output_type": "execute_result",
          "data": {
            "text/plain": [
              " 0     0.000515\n",
              " 1    -0.000600\n",
              " 2    -0.000184\n",
              " 3     0.000138\n",
              " 20    0.000068\n",
              "-1    -0.000090\n",
              " 4     0.000148\n",
              " 5     0.000005\n",
              "Name: children, dtype: float64"
            ]
          },
          "metadata": {},
          "execution_count": 47
        }
      ],
      "source": [
        "value_counts_normalize_difference('children')"
      ]
    },
    {
      "cell_type": "code",
      "execution_count": 48,
      "metadata": {
        "colab": {
          "base_uri": "https://localhost:8080/"
        },
        "id": "g2-yMHVidvH-",
        "outputId": "1bddf279-355a-49bb-8825-d012f40c0c85"
      },
      "outputs": [
        {
          "output_type": "execute_result",
          "data": {
            "text/plain": [
              "secondary education    0.000996\n",
              "bachelor's degree      0.001007\n",
              "SECONDARY EDUCATION   -0.000567\n",
              "Secondary Education   -0.000352\n",
              "some college          -0.000644\n",
              "BACHELOR'S DEGREE     -0.000242\n",
              "Bachelor's Degree     -0.000107\n",
              "primary education     -0.000323\n",
              "Some College           0.000116\n",
              "SOME COLLEGE           0.000210\n",
              "PRIMARY EDUCATION     -0.000037\n",
              "Primary Education     -0.000027\n",
              "graduate degree       -0.000021\n",
              "Graduate Degree       -0.000005\n",
              "GRADUATE DEGREE       -0.000005\n",
              "Name: education, dtype: float64"
            ]
          },
          "metadata": {},
          "execution_count": 48
        }
      ],
      "source": [
        "value_counts_normalize_difference('education')"
      ]
    },
    {
      "cell_type": "code",
      "execution_count": 49,
      "metadata": {
        "colab": {
          "base_uri": "https://localhost:8080/"
        },
        "id": "r204RKnSdvH-",
        "outputId": "1cc25164-c126-4700-e549-e400694007e3"
      },
      "outputs": [
        {
          "output_type": "execute_result",
          "data": {
            "text/plain": [
              "married             -0.000691\n",
              "civil partnership    0.001040\n",
              "unmarried            0.000201\n",
              "divorced            -0.000449\n",
              "widow / widower     -0.000101\n",
              "Name: family_status, dtype: float64"
            ]
          },
          "metadata": {},
          "execution_count": 49
        }
      ],
      "source": [
        "value_counts_normalize_difference('family_status')"
      ]
    },
    {
      "cell_type": "code",
      "execution_count": 50,
      "metadata": {
        "colab": {
          "base_uri": "https://localhost:8080/"
        },
        "id": "muArap5rdvH-",
        "outputId": "c7ef1ee5-67e3-4b12-9d52-baca71d06379"
      },
      "outputs": [
        {
          "output_type": "execute_result",
          "data": {
            "text/plain": [
              "business                      -0.000288\n",
              "civil servant                 -0.000018\n",
              "employee                      -0.000930\n",
              "entrepreneur                   0.000041\n",
              "paternity / maternity leave   -0.000005\n",
              "retiree                        0.001217\n",
              "student                       -0.000005\n",
              "unemployed                    -0.000010\n",
              "Name: income_type, dtype: float64"
            ]
          },
          "metadata": {},
          "execution_count": 50
        }
      ],
      "source": [
        "value_counts_normalize_difference('income_type')"
      ]
    },
    {
      "cell_type": "markdown",
      "metadata": {
        "id": "b26z7uH_dvH-"
      },
      "source": [
        "**Conclusión intermedia**\n",
        "\n",
        "Al revisar las diferencias de distribución entre los datos enteros y los que están filtrados sacando los valores ausentes, notamos que la columna 'gender' tiene una diferencia de 23% para ambos sexos. Esta es la mayor diferencia entre columnas. Un caso interesante a tener en consideración es la columna de 'education' que si bien a primera vista tiene una diferencia menor de solo 2,42% si sumamos todos los valores que corresponden a 'Bachelor's Degree' encontramos una diferencia de 13,56%. Esto nos indica que valores ausentes influyen bastante en estás columnas."
      ]
    },
    {
      "cell_type": "code",
      "execution_count": 51,
      "metadata": {
        "colab": {
          "base_uri": "https://localhost:8080/"
        },
        "id": "-3naYuR_dvH_",
        "outputId": "be05c04c-04d5-4a44-ee7f-0a5c7864ba51"
      },
      "outputs": [
        {
          "output_type": "execute_result",
          "data": {
            "text/plain": [
              "array([-8437.67302776, -4024.80375385, -5623.42261023, ...,\n",
              "       -2113.3468877 , -3112.4817052 , -1984.50758853])"
            ]
          },
          "metadata": {},
          "execution_count": 51
        }
      ],
      "source": [
        "credit_scoring_data_dropna['days_employed'].unique()"
      ]
    },
    {
      "cell_type": "code",
      "execution_count": 52,
      "metadata": {
        "colab": {
          "base_uri": "https://localhost:8080/"
        },
        "id": "BCggWSfKdvH_",
        "outputId": "715714a9-d98b-498c-e5ed-5736d4c6e957"
      },
      "outputs": [
        {
          "output_type": "execute_result",
          "data": {
            "text/plain": [
              "array([40620.102, 17932.802, 23341.752, ..., 14347.61 , 39054.888,\n",
              "       13127.587])"
            ]
          },
          "metadata": {},
          "execution_count": 52
        }
      ],
      "source": [
        "credit_scoring_data_dropna['total_income'].unique()"
      ]
    },
    {
      "cell_type": "markdown",
      "metadata": {
        "id": "4v_SN5CFdvH_"
      },
      "source": [
        "Al revisar la distribución tanto de la columna de 'days_employed' como de 'total_income' en el DataFrame sin los valores ausentes, nos podemos percatar de que estos tienen solo valores unicos. \n",
        "Al mirar los valores notamos que su formato parece estar incorrecto, es algo que deberíamos revisar más a fondo. Quizás la columna de 'total_income' se podría rellenar con un promedio o mediana en base a los montos que tengan mujeres con educación secundaria. La columna de 'days_employed' requiere un mayor estudio."
      ]
    },
    {
      "cell_type": "code",
      "execution_count": 53,
      "metadata": {
        "id": "-7itSK06dvH_"
      },
      "outputs": [],
      "source": [
        "# Comprueba otras razones y patrones que podrían llevar a valores ausentes\n",
        "\n",
        "# Comprobando por rango de edad:\n",
        "def age_group(age):\n",
        "    if age <= 18:\n",
        "        return 'children'\n",
        "    if 19 <= age <= 25:\n",
        "        return '19_to_25'\n",
        "    if  26 <= age <= 30:\n",
        "        return '26_to_30'\n",
        "    if  31 <= age <= 40:\n",
        "        return '31_to_40'\n",
        "    if  41 <= age <= 50:\n",
        "        return '41_to_50'\n",
        "    if  51 <= age <= 60:\n",
        "        return '51_to_64'\n",
        "    return 'retired'"
      ]
    },
    {
      "cell_type": "code",
      "execution_count": 54,
      "metadata": {
        "colab": {
          "base_uri": "https://localhost:8080/"
        },
        "id": "VeGhvtvVdvH_",
        "outputId": "fe4c3d9d-739e-49f7-a1ac-3d87ad862d60"
      },
      "outputs": [
        {
          "output_type": "stream",
          "name": "stdout",
          "text": [
            "Comprobación de la fórmula:\n",
            "children\n",
            "19_to_25\n",
            "26_to_30\n",
            "31_to_40\n",
            "41_to_50\n",
            "51_to_64\n",
            "51_to_64\n",
            "retired\n"
          ]
        }
      ],
      "source": [
        "print('Comprobación de la fórmula:')\n",
        "print(age_group(18))\n",
        "print(age_group(24))\n",
        "print(age_group(30))\n",
        "print(age_group(37))\n",
        "print(age_group(45))\n",
        "print(age_group(56))\n",
        "print(age_group(60))\n",
        "print(age_group(75))"
      ]
    },
    {
      "cell_type": "code",
      "execution_count": 55,
      "metadata": {
        "colab": {
          "base_uri": "https://localhost:8080/"
        },
        "id": "42shLMwmdvH_",
        "outputId": "b4b66800-5e68-438b-9251-bfd3c16ae7e2"
      },
      "outputs": [
        {
          "output_type": "stream",
          "name": "stdout",
          "text": [
            "Value count by age groups for the DataFrame:\n",
            "31_to_40    5743\n",
            "41_to_50    5276\n",
            "51_to_64    4542\n",
            "26_to_30    2489\n",
            "retired     2140\n",
            "19_to_25    1234\n",
            "children     101\n",
            "Name: age_group, dtype: int64\n",
            "\n",
            "Proof of no nan on this column:\n",
            "0\n",
            "\n",
            "Cantidad de \"children\" en age_group:\n",
            "       children  days_employed  dob_years            education  education_id  \\\n",
            "99            0  346541.618895          0  Secondary Education             1   \n",
            "149           0   -2664.273168          0  secondary education             1   \n",
            "270           3   -1872.663186          0  secondary education             1   \n",
            "578           0  397856.565013          0  secondary education             1   \n",
            "1040          0   -1158.029561          0    bachelor's degree             0   \n",
            "...         ...            ...        ...                  ...           ...   \n",
            "19829         0            NaN          0  secondary education             1   \n",
            "20462         0  338734.868540          0  secondary education             1   \n",
            "20577         0  331741.271455          0  secondary education             1   \n",
            "21179         2    -108.967042          0    bachelor's degree             0   \n",
            "21313         0   -1268.487728          0  secondary education             1   \n",
            "\n",
            "      family_status  family_status_id gender income_type  debt  total_income  \\\n",
            "99          married                 0      F     retiree     0     11406.644   \n",
            "149        divorced                 3      F    employee     0     11228.230   \n",
            "270         married                 0      F    employee     0     16346.633   \n",
            "578         married                 0      F     retiree     0     15619.310   \n",
            "1040       divorced                 3      F    business     0     48639.062   \n",
            "...             ...               ...    ...         ...   ...           ...   \n",
            "19829       married                 0      F    employee     0           NaN   \n",
            "20462       married                 0      F     retiree     0     41471.027   \n",
            "20577     unmarried                 4      F     retiree     0     20766.202   \n",
            "21179       married                 0      M    business     0     38512.321   \n",
            "21313     unmarried                 4      M    employee     0     24387.070   \n",
            "\n",
            "                            purpose age_group  \n",
            "99                              car  children  \n",
            "149            housing transactions  children  \n",
            "270              housing renovation  children  \n",
            "578    construction of own property  children  \n",
            "1040                   to own a car  children  \n",
            "...                             ...       ...  \n",
            "19829                       housing  children  \n",
            "20462      purchase of my own house  children  \n",
            "20577                      property  children  \n",
            "21179        building a real estate  children  \n",
            "21313          housing transactions  children  \n",
            "\n",
            "[101 rows x 13 columns]\n"
          ]
        }
      ],
      "source": [
        "credit_scoring_data['age_group'] = credit_scoring_data['dob_years'].apply(age_group)\n",
        "\n",
        "print('Value count by age groups for the DataFrame:')\n",
        "print(credit_scoring_data['age_group'].value_counts())\n",
        "print()\n",
        "print('Proof of no nan on this column:')\n",
        "print(credit_scoring_data['age_group'].isna().sum())\n",
        "print()\n",
        "print('Cantidad de \"children\" en age_group:')\n",
        "print(credit_scoring_data[credit_scoring_data['age_group'] == 'children'])"
      ]
    },
    {
      "cell_type": "code",
      "execution_count": 56,
      "metadata": {
        "colab": {
          "base_uri": "https://localhost:8080/"
        },
        "id": "4JycqhPgdvH_",
        "outputId": "17913245-4cd2-4491-d402-e9eeb09e3d8a"
      },
      "outputs": [
        {
          "output_type": "stream",
          "name": "stdout",
          "text": [
            "       children  days_employed  dob_years            education  education_id  \\\n",
            "99            0  346541.618895          0  Secondary Education             1   \n",
            "149           0   -2664.273168          0  secondary education             1   \n",
            "270           3   -1872.663186          0  secondary education             1   \n",
            "578           0  397856.565013          0  secondary education             1   \n",
            "1040          0   -1158.029561          0    bachelor's degree             0   \n",
            "...         ...            ...        ...                  ...           ...   \n",
            "19829         0            NaN          0  secondary education             1   \n",
            "20462         0  338734.868540          0  secondary education             1   \n",
            "20577         0  331741.271455          0  secondary education             1   \n",
            "21179         2    -108.967042          0    bachelor's degree             0   \n",
            "21313         0   -1268.487728          0  secondary education             1   \n",
            "\n",
            "      family_status  family_status_id gender income_type  debt  total_income  \\\n",
            "99          married                 0      F     retiree     0     11406.644   \n",
            "149        divorced                 3      F    employee     0     11228.230   \n",
            "270         married                 0      F    employee     0     16346.633   \n",
            "578         married                 0      F     retiree     0     15619.310   \n",
            "1040       divorced                 3      F    business     0     48639.062   \n",
            "...             ...               ...    ...         ...   ...           ...   \n",
            "19829       married                 0      F    employee     0           NaN   \n",
            "20462       married                 0      F     retiree     0     41471.027   \n",
            "20577     unmarried                 4      F     retiree     0     20766.202   \n",
            "21179       married                 0      M    business     0     38512.321   \n",
            "21313     unmarried                 4      M    employee     0     24387.070   \n",
            "\n",
            "                            purpose age_group  \n",
            "99                              car  children  \n",
            "149            housing transactions  children  \n",
            "270              housing renovation  children  \n",
            "578    construction of own property  children  \n",
            "1040                   to own a car  children  \n",
            "...                             ...       ...  \n",
            "19829                       housing  children  \n",
            "20462      purchase of my own house  children  \n",
            "20577                      property  children  \n",
            "21179        building a real estate  children  \n",
            "21313          housing transactions  children  \n",
            "\n",
            "[101 rows x 13 columns]\n"
          ]
        }
      ],
      "source": [
        "print(credit_scoring_data[credit_scoring_data['dob_years'] == 0])"
      ]
    },
    {
      "cell_type": "markdown",
      "metadata": {
        "id": "lBeZJjNwdvH_"
      },
      "source": [
        "**Conclusiones**\n",
        "\n",
        "Hasta ahora, hemos descubierto que los valores ausentes obvios se encuentran en dos columnas ('days_employed' y 'total_income'), además logramos descubrir que estos valores ausentes si hacen una diferencia en las columnas de 'gender' y 'education', con lo cual es necesario tratarlos. Ambas columnas tienen el tipo de datos float, y la columna 'days_employed' tiene tanto valores negativos como positivos. Estos son temas que tendrán que ser revisados.\n",
        "Como se pudo apreciar hay 101 líneas clasificadas como niños ('children' son los menores de 18 años), no debería haber ninguna en principio porque los niños no piden préstamos. Al analizar el DataFrame filtrado por 'children' comprobamos que en realidad el valor es siempre 0. Esto quiere decir que lo más probable es que en realidad este valor corresponda a un valor ausente, que tendrá que ser tratado.\n",
        "\n",
        "Creo que para abordar los valores ausentes, primero revisaré los 101 valores en cero de los niños ya que este está bastante claro y se podría definir reemplazar por ejemplo en base a si la persona es un empleado o está retirado.\n",
        "Luego, creo que es necesario limpiar los valores duplicados de algunas columnas que son relevantes para el trato de los valores ausentes en nuestras dos columnas principales. Con lo cual, es importante revisar y limpiar las columnas 'gender' y 'education'.\n",
        "Finalmente, revisaremos las columnas 'days_employed' y 'total_income' revisando el tipo de datos y sus valores negativos. Una vez revisado eso, buscaremos patrones en base a las columnas 'gender' y 'education' para ver si podemos completar los datos ausentes."
      ]
    },
    {
      "cell_type": "markdown",
      "metadata": {
        "id": "9-bVi8hfdvIA"
      },
      "source": [
        "## Transformación de datos\n"
      ]
    },
    {
      "cell_type": "markdown",
      "metadata": {
        "id": "O5o7q63BdvIA"
      },
      "source": [
        "### La columna 'education'"
      ]
    },
    {
      "cell_type": "code",
      "execution_count": 57,
      "metadata": {
        "colab": {
          "base_uri": "https://localhost:8080/"
        },
        "id": "6utdc0OJdvIA",
        "outputId": "9b659b8d-b39b-46eb-9658-90bd69b91d39"
      },
      "outputs": [
        {
          "output_type": "execute_result",
          "data": {
            "text/plain": [
              "array([\"bachelor's degree\", 'secondary education', 'Secondary Education',\n",
              "       'SECONDARY EDUCATION', \"BACHELOR'S DEGREE\", 'some college',\n",
              "       'primary education', \"Bachelor's Degree\", 'SOME COLLEGE',\n",
              "       'Some College', 'PRIMARY EDUCATION', 'Primary Education',\n",
              "       'Graduate Degree', 'GRADUATE DEGREE', 'graduate degree'],\n",
              "      dtype=object)"
            ]
          },
          "metadata": {},
          "execution_count": 57
        }
      ],
      "source": [
        "credit_scoring_data['education'].unique()"
      ]
    },
    {
      "cell_type": "code",
      "execution_count": 58,
      "metadata": {
        "scrolled": true,
        "id": "dhVpYDBodvIA"
      },
      "outputs": [],
      "source": [
        "credit_scoring_data['education'] = credit_scoring_data['education'].str.lower()"
      ]
    },
    {
      "cell_type": "code",
      "execution_count": 59,
      "metadata": {
        "colab": {
          "base_uri": "https://localhost:8080/"
        },
        "id": "iJshcwjidvIA",
        "outputId": "36045cc3-a541-4ff2-c8a6-d852a36d8600"
      },
      "outputs": [
        {
          "output_type": "execute_result",
          "data": {
            "text/plain": [
              "array([\"bachelor's degree\", 'secondary education', 'some college',\n",
              "       'primary education', 'graduate degree'], dtype=object)"
            ]
          },
          "metadata": {},
          "execution_count": 59
        }
      ],
      "source": [
        "credit_scoring_data['education'].unique()\n"
      ]
    },
    {
      "cell_type": "markdown",
      "metadata": {
        "id": "4ayE_cfVdvIB"
      },
      "source": [
        "Ahora cambiaremos los nombres de estas colunas ya que tienen espacios en blanco y apostrofes que más adelante podrían causar errores en las fórmulas."
      ]
    },
    {
      "cell_type": "code",
      "execution_count": 60,
      "metadata": {
        "id": "nuklEDvxdvIB"
      },
      "outputs": [],
      "source": [
        "def replace_value(data, column, wrong, right):\n",
        "    data[column] = data[column].replace(wrong, right)\n",
        "\n",
        "replace_value(credit_scoring_data, 'education', \"bachelor's degree\", \"bachelors_degree\")\n",
        "\n",
        "replace_value(credit_scoring_data, 'education', \"secondary education\", \"secondary_education\")\n",
        "\n",
        "replace_value(credit_scoring_data, 'education', \"some college\", \"some_college\")\n",
        "\n",
        "replace_value(credit_scoring_data, 'education', \"primary education\", \"primary_education\")\n",
        "\n",
        "replace_value(credit_scoring_data, 'education', \"graduate degree\", \"graduate_degree\")"
      ]
    },
    {
      "cell_type": "markdown",
      "metadata": {
        "id": "GoO9i7AndvIB"
      },
      "source": [
        "Comprobamos los cambios:"
      ]
    },
    {
      "cell_type": "code",
      "execution_count": 61,
      "metadata": {
        "colab": {
          "base_uri": "https://localhost:8080/"
        },
        "id": "2_tW1GTGdvIB",
        "outputId": "97266b1c-16fe-4bc0-ffba-a5dfb6dbc014"
      },
      "outputs": [
        {
          "output_type": "execute_result",
          "data": {
            "text/plain": [
              "array(['bachelors_degree', 'secondary_education', 'some_college',\n",
              "       'primary_education', 'graduate_degree'], dtype=object)"
            ]
          },
          "metadata": {},
          "execution_count": 61
        }
      ],
      "source": [
        "credit_scoring_data['education'].unique()"
      ]
    },
    {
      "cell_type": "markdown",
      "metadata": {
        "id": "90RTeLR0dvIB"
      },
      "source": [
        "Como se puede apreciar, pasando todos los valores a minúscula la columna 'education' pasó a tener 5 categorías unicas y ahora no tiene valores extraños."
      ]
    },
    {
      "cell_type": "markdown",
      "metadata": {
        "id": "iXvt7yuSdvIB"
      },
      "source": [
        "### La columna 'children'"
      ]
    },
    {
      "cell_type": "code",
      "execution_count": 62,
      "metadata": {
        "colab": {
          "base_uri": "https://localhost:8080/"
        },
        "id": "4LWa1K0EdvIB",
        "outputId": "19a10bfe-b959-44e9-e8cb-eeb4d506e958"
      },
      "outputs": [
        {
          "output_type": "stream",
          "name": "stdout",
          "text": [
            "Valores únicos en la columna \"children\":\n",
            "[ 1  0  3  2 -1  4 20  5]\n",
            "\n",
            "Cantidad de datos por número de niños:\n",
            " 0     14149\n",
            " 1      4818\n",
            " 2      2055\n",
            " 3       330\n",
            " 20       76\n",
            "-1        47\n",
            " 4        41\n",
            " 5         9\n",
            "Name: children, dtype: int64\n"
          ]
        }
      ],
      "source": [
        "print('Valores únicos en la columna \"children\":')\n",
        "print(credit_scoring_data['children'].unique())\n",
        "print()\n",
        "print('Cantidad de datos por número de niños:')\n",
        "print(credit_scoring_data['children'].value_counts())"
      ]
    },
    {
      "cell_type": "markdown",
      "metadata": {
        "id": "hRYJUOXBdvIB"
      },
      "source": [
        "Como se puede apreciar, la columna 'children' tiene el número 20 y el menos 1, ambos valores parecen extraños y valdría la pena revisarlos en profundidad. Estos valores son mínimos en comparación al total, pero valdría la pena limpiarlos. Podría ser que 20 sea simplemente un error de tipeo y corresponda al número dos, lo mismo con el menos 1. \n",
        "\n",
        "Vamos revisar a fondo cada caso para ver si podemos limpiar un poco esta columna."
      ]
    },
    {
      "cell_type": "code",
      "execution_count": 63,
      "metadata": {
        "colab": {
          "base_uri": "https://localhost:8080/"
        },
        "id": "udHdM6zTdvIC",
        "outputId": "7b81260e-6380-4d67-a159-01fd0fe35e82"
      },
      "outputs": [
        {
          "output_type": "stream",
          "name": "stdout",
          "text": [
            "Primero analizaremos las filas que contienen el valor 20 en la columna \"children\":\n",
            "La mediana de edad para el rango de 20 niños es: 41.5\n",
            "La mayoria de las personas que tienen 20 niños tiene el \"family_status\": ['married' 'widow / widower' 'unmarried' 'civil partnership' 'divorced']\n",
            "La mediana de \"total_income\" para el rango de 20 niños es: 23127.125\n",
            "\n",
            "Podemos comparar esto con los datos de las personas que tienen 2 niños:\n",
            "La mediana de edad para el rango de 2 niños es: 35.0\n",
            "La mayoria de las personas que tienen 2 niños tiene el \"family_status\": ['civil partnership' 'married' 'widow / widower' 'divorced' 'unmarried']\n",
            "La mediana de \"total_income\" para el rango de 2 niños es: 23143.77\n",
            "\n",
            "La mediana de edad para el rango de -1 niños es: 41.0\n",
            "La mayoria de las personas que tienen -1 niños tiene el \"family_status\": ['civil partnership' 'married' 'unmarried' 'divorced' 'widow / widower']\n",
            "La mediana de \"total_income\" para el rango de -1 niños es: 23086.907\n",
            "\n",
            "Podemos comparar esto con los datos de las personas que tienen 2 niños:\n",
            "La mediana de edad para el rango de 1 niños es: 38.0\n",
            "La mayoria de las personas que tienen 1 niños tiene el \"family_status\": ['married' 'civil partnership' 'unmarried' 'divorced' 'widow / widower']\n",
            "La mediana de \"total_income\" para el rango de 1 niños es: 23670.884\n"
          ]
        }
      ],
      "source": [
        "print('Primero analizaremos las filas que contienen el valor 20 en la columna \"children\":')\n",
        "credit_scoring_data_20_children = credit_scoring_data[credit_scoring_data['children'] == 20]\n",
        "credit_scoring_data_2_children = credit_scoring_data[credit_scoring_data['children'] == 2]\n",
        "print('La mediana de edad para el rango de 20 niños es:', credit_scoring_data_20_children['dob_years'].median())\n",
        "print('La mayoria de las personas que tienen 20 niños tiene el \"family_status\":', credit_scoring_data_20_children['family_status'].unique())\n",
        "print('La mediana de \"total_income\" para el rango de 20 niños es:', credit_scoring_data_20_children['total_income'].median())\n",
        "print()\n",
        "print('Podemos comparar esto con los datos de las personas que tienen 2 niños:')\n",
        "print('La mediana de edad para el rango de 2 niños es:', credit_scoring_data_2_children['dob_years'].median())\n",
        "print('La mayoria de las personas que tienen 2 niños tiene el \"family_status\":', credit_scoring_data_2_children['family_status'].unique())\n",
        "print('La mediana de \"total_income\" para el rango de 2 niños es:', credit_scoring_data_2_children['total_income'].median())\n",
        "print()\n",
        "credit_scoring_data_1_children = credit_scoring_data[credit_scoring_data['children'] == 1]\n",
        "credit_scoring_data_minus_children = credit_scoring_data[credit_scoring_data['children'] == -1]\n",
        "print('La mediana de edad para el rango de -1 niños es:', credit_scoring_data_minus_children['dob_years'].median())\n",
        "print('La mayoria de las personas que tienen -1 niños tiene el \"family_status\":', credit_scoring_data_minus_children['family_status'].unique())\n",
        "print('La mediana de \"total_income\" para el rango de -1 niños es:', credit_scoring_data_minus_children['total_income'].median())\n",
        "print()\n",
        "print('Podemos comparar esto con los datos de las personas que tienen 2 niños:')\n",
        "print('La mediana de edad para el rango de 1 niños es:', credit_scoring_data_1_children['dob_years'].median())\n",
        "print('La mayoria de las personas que tienen 1 niños tiene el \"family_status\":', credit_scoring_data_1_children['family_status'].unique())\n",
        "print('La mediana de \"total_income\" para el rango de 1 niños es:', credit_scoring_data_1_children['total_income'].median())\n"
      ]
    },
    {
      "cell_type": "markdown",
      "metadata": {
        "id": "-fMKHn5mdvIC"
      },
      "source": [
        "En el analisis realizado se ve que los valores 20 y -1 efectivamente pueden corresponder a errores de tipeo y además no afectarían mayormente el analisis de esta columna. Entonces, vamos a corregir estos datos cambiando el número 20 por 2 y el número -1 por 1."
      ]
    },
    {
      "cell_type": "code",
      "execution_count": 64,
      "metadata": {
        "id": "aJBP7X-bdvIC"
      },
      "outputs": [],
      "source": [
        "credit_scoring_data['children'] = credit_scoring_data['children'].replace(20, 2)\n",
        "credit_scoring_data['children'] = credit_scoring_data['children'].replace(-1, 1)"
      ]
    },
    {
      "cell_type": "code",
      "execution_count": 65,
      "metadata": {
        "colab": {
          "base_uri": "https://localhost:8080/"
        },
        "id": "xVLj55a1dvIC",
        "outputId": "7eb478c8-1f1b-48f7-8352-d6a1e4bc34cf"
      },
      "outputs": [
        {
          "output_type": "stream",
          "name": "stdout",
          "text": [
            "0    14149\n",
            "1     4865\n",
            "2     2131\n",
            "3      330\n",
            "4       41\n",
            "5        9\n",
            "Name: children, dtype: int64\n"
          ]
        }
      ],
      "source": [
        "print(credit_scoring_data['children'].value_counts())"
      ]
    },
    {
      "cell_type": "markdown",
      "metadata": {
        "id": "j5ZLOKu3dvIC"
      },
      "source": [
        "### La columna 'days_employed'"
      ]
    },
    {
      "cell_type": "code",
      "execution_count": 66,
      "metadata": {
        "colab": {
          "base_uri": "https://localhost:8080/"
        },
        "id": "dDCX2ngLdvIC",
        "outputId": "908854e4-02b0-4b88-ae03-9869e7764227"
      },
      "outputs": [
        {
          "output_type": "stream",
          "name": "stdout",
          "text": [
            "Valores únicos en la columna \"days_employed\":\n",
            "[-8437.67302776 -4024.80375385 -5623.42261023 ... -2113.3468877\n",
            " -3112.4817052  -1984.50758853]\n",
            "\n",
            "Cantidad de datos agrupados:\n",
            "-8437.673028      1\n",
            "-3507.818775      1\n",
            " 354500.415854    1\n",
            "-769.717438       1\n",
            "-3963.590317      1\n",
            "                 ..\n",
            "-1099.957609      1\n",
            "-209.984794       1\n",
            " 398099.392433    1\n",
            "-1271.038880      1\n",
            "-1984.507589      1\n",
            "Name: days_employed, Length: 19351, dtype: int64\n"
          ]
        }
      ],
      "source": [
        "print('Valores únicos en la columna \"days_employed\":')\n",
        "print(credit_scoring_data['days_employed'].unique())\n",
        "print()\n",
        "print('Cantidad de datos agrupados:')\n",
        "print(credit_scoring_data['days_employed'].value_counts())"
      ]
    },
    {
      "cell_type": "code",
      "execution_count": 67,
      "metadata": {
        "colab": {
          "base_uri": "https://localhost:8080/"
        },
        "id": "FE0E2qDudvIC",
        "outputId": "ed69dfd3-7545-4a17-ad11-f0489cf7f796"
      },
      "outputs": [
        {
          "output_type": "stream",
          "name": "stdout",
          "text": [
            "Valores ausentes en la columna \"days_employed\":\n",
            "2174\n"
          ]
        }
      ],
      "source": [
        "print('Valores ausentes en la columna \"days_employed\":')\n",
        "print(credit_scoring_data['days_employed'].isna().sum())"
      ]
    },
    {
      "cell_type": "markdown",
      "metadata": {
        "id": "rhh8z-gxdvID"
      },
      "source": [
        "### Sustituir positivos por valores ausentes"
      ]
    },
    {
      "cell_type": "code",
      "execution_count": 68,
      "metadata": {
        "colab": {
          "base_uri": "https://localhost:8080/"
        },
        "id": "mLzaD9LkdvID",
        "outputId": "2c4319bb-48ca-4333-c1aa-a38206039425"
      },
      "outputs": [
        {
          "output_type": "execute_result",
          "data": {
            "text/plain": [
              "4        340266.072047\n",
              "18       400281.136913\n",
              "24       338551.952911\n",
              "25       363548.489348\n",
              "30       335581.668515\n",
              "             ...      \n",
              "21505    338904.866406\n",
              "21508    386497.714078\n",
              "21509    362161.054124\n",
              "21518    373995.710838\n",
              "21521    343937.404131\n",
              "Name: days_employed, Length: 3445, dtype: float64"
            ]
          },
          "metadata": {},
          "execution_count": 68
        }
      ],
      "source": [
        "credit_scoring_data.loc[credit_scoring_data['days_employed'] >= 0, 'days_employed']"
      ]
    },
    {
      "cell_type": "code",
      "execution_count": 69,
      "metadata": {
        "colab": {
          "base_uri": "https://localhost:8080/"
        },
        "id": "Dz-yKIWIdvID",
        "outputId": "3d0f7d15-3785-47a2-a7dd-01bf3d6406f3"
      },
      "outputs": [
        {
          "output_type": "execute_result",
          "data": {
            "text/plain": [
              "count      3445.000000\n",
              "mean     365004.309916\n",
              "std       21075.016396\n",
              "min      328728.720605\n",
              "25%      346639.413916\n",
              "50%      365213.306266\n",
              "75%      383246.444219\n",
              "max      401755.400475\n",
              "Name: days_employed, dtype: float64"
            ]
          },
          "metadata": {},
          "execution_count": 69
        }
      ],
      "source": [
        "credit_scoring_data.loc[credit_scoring_data['days_employed'] >= 0, 'days_employed'].describe()"
      ]
    },
    {
      "cell_type": "markdown",
      "metadata": {
        "id": "FG9CyCpBdvID"
      },
      "source": [
        "Como se puede apreciar los valores positivos, son valores demasiado grandes. En la primera línea se ven 340266,072047 días o sea 932 años. vamos a transformar estos valores en valores ausentes ya que parecen estar mal ingresados."
      ]
    },
    {
      "cell_type": "code",
      "execution_count": 70,
      "metadata": {
        "colab": {
          "base_uri": "https://localhost:8080/"
        },
        "id": "hPZzd0RDdvID",
        "outputId": "f63114dd-3f0d-41fd-85a2-3c94afb8dc36"
      },
      "outputs": [
        {
          "output_type": "execute_result",
          "data": {
            "text/plain": [
              "children               0\n",
              "days_employed       5619\n",
              "dob_years              0\n",
              "education              0\n",
              "education_id           0\n",
              "family_status          0\n",
              "family_status_id       0\n",
              "gender                 0\n",
              "income_type            0\n",
              "debt                   0\n",
              "total_income        2174\n",
              "purpose                0\n",
              "age_group              0\n",
              "dtype: int64"
            ]
          },
          "metadata": {},
          "execution_count": 70
        }
      ],
      "source": [
        "credit_scoring_data.loc[credit_scoring_data['days_employed'] >= 0, 'days_employed'] = float('nan')\n",
        "\n",
        "credit_scoring_data.isna().sum()"
      ]
    },
    {
      "cell_type": "code",
      "execution_count": 71,
      "metadata": {
        "colab": {
          "base_uri": "https://localhost:8080/"
        },
        "id": "nUd5Ev4udvID",
        "outputId": "c6e531c8-f35d-4ff6-f516-9fdb1d412d70"
      },
      "outputs": [
        {
          "output_type": "execute_result",
          "data": {
            "text/plain": [
              "Series([], Name: days_employed, dtype: float64)"
            ]
          },
          "metadata": {},
          "execution_count": 71
        }
      ],
      "source": [
        "credit_scoring_data.loc[credit_scoring_data['days_employed'] >= 0, 'days_employed']"
      ]
    },
    {
      "cell_type": "markdown",
      "metadata": {
        "id": "ap11p9pAdvIE"
      },
      "source": [
        "#### Valores Negativos"
      ]
    },
    {
      "cell_type": "code",
      "execution_count": 72,
      "metadata": {
        "colab": {
          "base_uri": "https://localhost:8080/"
        },
        "id": "Q0tLM13udvIE",
        "outputId": "5d55926b-0aef-448a-88fc-f9bffc9e8723"
      },
      "outputs": [
        {
          "output_type": "stream",
          "name": "stdout",
          "text": [
            "<class 'pandas.core.frame.DataFrame'>\n",
            "Int64Index: 15906 entries, 0 to 21524\n",
            "Data columns (total 13 columns):\n",
            " #   Column            Non-Null Count  Dtype  \n",
            "---  ------            --------------  -----  \n",
            " 0   children          15906 non-null  int64  \n",
            " 1   days_employed     15906 non-null  float64\n",
            " 2   dob_years         15906 non-null  int64  \n",
            " 3   education         15906 non-null  object \n",
            " 4   education_id      15906 non-null  int64  \n",
            " 5   family_status     15906 non-null  object \n",
            " 6   family_status_id  15906 non-null  int64  \n",
            " 7   gender            15906 non-null  object \n",
            " 8   income_type       15906 non-null  object \n",
            " 9   debt              15906 non-null  int64  \n",
            " 10  total_income      15906 non-null  float64\n",
            " 11  purpose           15906 non-null  object \n",
            " 12  age_group         15906 non-null  object \n",
            "dtypes: float64(2), int64(5), object(6)\n",
            "memory usage: 1.7+ MB\n"
          ]
        }
      ],
      "source": [
        "negative_days = credit_scoring_data[credit_scoring_data['days_employed'] <= 0]\n",
        "\n",
        "negative_days.info()"
      ]
    },
    {
      "cell_type": "markdown",
      "metadata": {
        "id": "VIzzok9KdvIE"
      },
      "source": [
        "Descubrimos que tenemos más de 15mil líneas con valores negativos (un 82% del total), esto quiere decir que probablemente es un error. Vamos a transformar estos valores en valores positivos."
      ]
    },
    {
      "cell_type": "code",
      "execution_count": 73,
      "metadata": {
        "id": "r63-Imu3dvIE"
      },
      "outputs": [],
      "source": [
        "for value in credit_scoring_data['days_employed']:\n",
        "    if value <= 0:\n",
        "        credit_scoring_data['days_employed'] = credit_scoring_data['days_employed'].replace(value, (value* (-1)))"
      ]
    },
    {
      "cell_type": "code",
      "execution_count": 74,
      "metadata": {
        "colab": {
          "base_uri": "https://localhost:8080/"
        },
        "id": "eN09G09_dvIE",
        "outputId": "a4fd062a-11ff-4bd9-b56d-a71fc0c58ad3"
      },
      "outputs": [
        {
          "output_type": "stream",
          "name": "stdout",
          "text": [
            "¿Cuantos valores negativos tiene esta columna?:\n",
            "Series([], dtype: int64)\n"
          ]
        }
      ],
      "source": [
        "print('¿Cuantos valores negativos tiene esta columna?:')\n",
        "credit_scoring_data_negative_days = credit_scoring_data[credit_scoring_data['days_employed'] <= 0]\n",
        "print(credit_scoring_data_negative_days.value_counts())"
      ]
    },
    {
      "cell_type": "markdown",
      "metadata": {
        "id": "B5-zU7VWdvIE"
      },
      "source": [
        "Ya no tenemos días negativos. Vamos a revisar la cantidad de valores únicos:"
      ]
    },
    {
      "cell_type": "code",
      "execution_count": 75,
      "metadata": {
        "colab": {
          "base_uri": "https://localhost:8080/"
        },
        "id": "QTBmAbaldvIE",
        "outputId": "d9d28d4c-0922-40de-8084-b05359c36289"
      },
      "outputs": [
        {
          "output_type": "stream",
          "name": "stdout",
          "text": [
            "Valores únicos en la columna \"days_employed\":\n",
            "[8437.67302776 4024.80375385 5623.42261023 ... 2113.3468877  3112.4817052\n",
            " 1984.50758853]\n",
            "\n",
            "Cantidad de datos agrupados:\n",
            "8437.673028    1\n",
            "1343.447252    1\n",
            "1122.320892    1\n",
            "114.463945     1\n",
            "5135.928528    1\n",
            "              ..\n",
            "1133.987382    1\n",
            "5730.178239    1\n",
            "429.448441     1\n",
            "1645.706859    1\n",
            "1984.507589    1\n",
            "Name: days_employed, Length: 15906, dtype: int64\n"
          ]
        }
      ],
      "source": [
        "print('Valores únicos en la columna \"days_employed\":')\n",
        "print(credit_scoring_data['days_employed'].unique())\n",
        "print()\n",
        "print('Cantidad de datos agrupados:')\n",
        "print(credit_scoring_data['days_employed'].value_counts())"
      ]
    },
    {
      "cell_type": "markdown",
      "metadata": {
        "id": "_tN_wW2bdvIF"
      },
      "source": [
        "Ahora nos falta revisar nuestros valores ausentes. Vamos a crear una tabla dinamica para comparar la cantidad de valores de 'days_employed' filtrado por las columnas más relevantes 'gender' y 'education', pero primero tenemos que limpiar estas tablas para asegurarnos de tener los datos más claros."
      ]
    },
    {
      "cell_type": "markdown",
      "metadata": {
        "id": "VoT6HAmtdvIF"
      },
      "source": [
        "### La columna 'dob_years'"
      ]
    },
    {
      "cell_type": "markdown",
      "metadata": {
        "id": "r2yIxNC7dvIF"
      },
      "source": [
        "Ahora echemos un vistazo a la edad de clientes para ver si hay algún problema allí. Una vez más, piensa qué datos pueden ser extraños en esta columna, es decir, qué dato no puede ser la edad de alguien.]"
      ]
    },
    {
      "cell_type": "code",
      "execution_count": 76,
      "metadata": {
        "scrolled": true,
        "colab": {
          "base_uri": "https://localhost:8080/"
        },
        "id": "A-ed31NjdvIF",
        "outputId": "990e2c00-2dd8-43f7-9bae-b0d60521eb8b"
      },
      "outputs": [
        {
          "output_type": "stream",
          "name": "stdout",
          "text": [
            "Valores únicos en la columna \"dob_years\":\n",
            "[42 36 33 32 53 27 43 50 35 41 40 65 54 56 26 48 24 21 57 67 28 63 62 47\n",
            " 34 68 25 31 30 20 49 37 45 61 64 44 52 46 23 38 39 51  0 59 29 60 55 58\n",
            " 71 22 73 66 69 19 72 70 74 75]\n",
            "\n",
            "Revisión de filas con cero años:\n",
            "       children  days_employed  dob_years            education  education_id  \\\n",
            "99            0            NaN          0  secondary_education             1   \n",
            "149           0    2664.273168          0  secondary_education             1   \n",
            "270           3    1872.663186          0  secondary_education             1   \n",
            "578           0            NaN          0  secondary_education             1   \n",
            "1040          0    1158.029561          0     bachelors_degree             0   \n",
            "...         ...            ...        ...                  ...           ...   \n",
            "19829         0            NaN          0  secondary_education             1   \n",
            "20462         0            NaN          0  secondary_education             1   \n",
            "20577         0            NaN          0  secondary_education             1   \n",
            "21179         2     108.967042          0     bachelors_degree             0   \n",
            "21313         0    1268.487728          0  secondary_education             1   \n",
            "\n",
            "      family_status  family_status_id gender income_type  debt  total_income  \\\n",
            "99          married                 0      F     retiree     0     11406.644   \n",
            "149        divorced                 3      F    employee     0     11228.230   \n",
            "270         married                 0      F    employee     0     16346.633   \n",
            "578         married                 0      F     retiree     0     15619.310   \n",
            "1040       divorced                 3      F    business     0     48639.062   \n",
            "...             ...               ...    ...         ...   ...           ...   \n",
            "19829       married                 0      F    employee     0           NaN   \n",
            "20462       married                 0      F     retiree     0     41471.027   \n",
            "20577     unmarried                 4      F     retiree     0     20766.202   \n",
            "21179       married                 0      M    business     0     38512.321   \n",
            "21313     unmarried                 4      M    employee     0     24387.070   \n",
            "\n",
            "                            purpose age_group  \n",
            "99                              car  children  \n",
            "149            housing transactions  children  \n",
            "270              housing renovation  children  \n",
            "578    construction of own property  children  \n",
            "1040                   to own a car  children  \n",
            "...                             ...       ...  \n",
            "19829                       housing  children  \n",
            "20462      purchase of my own house  children  \n",
            "20577                      property  children  \n",
            "21179        building a real estate  children  \n",
            "21313          housing transactions  children  \n",
            "\n",
            "[101 rows x 13 columns]\n"
          ]
        }
      ],
      "source": [
        "print('Valores únicos en la columna \"dob_years\":')\n",
        "print(credit_scoring_data['dob_years'].unique())\n",
        "print()\n",
        "print('Revisión de filas con cero años:')\n",
        "print(credit_scoring_data[credit_scoring_data['dob_years'] == 0])"
      ]
    },
    {
      "cell_type": "markdown",
      "metadata": {
        "id": "Xny_BMWcdvIF"
      },
      "source": [
        "Se puede apreciar que hay varios 'retiree' y el resto son gente adulta. Creo que lo mejor será reemplazar a los que tienen retiree por la edad media dentro de ese grupo y al resto con la edad media de por ejemplo employee que es el grupo más grande. Son solo 101 líneas con lo que el impacto en el estudio no debería ser mayor."
      ]
    },
    {
      "cell_type": "markdown",
      "metadata": {
        "id": "dwlTsLrjdvIF"
      },
      "source": [
        "El primer paso será calcular la mediana de edad para cada tipo de income:"
      ]
    },
    {
      "cell_type": "code",
      "execution_count": 77,
      "metadata": {
        "colab": {
          "base_uri": "https://localhost:8080/",
          "height": 332
        },
        "id": "E9ThMEGtdvIF",
        "outputId": "f3307c84-153f-4756-f4e2-fecd57aef314"
      },
      "outputs": [
        {
          "output_type": "execute_result",
          "data": {
            "text/plain": [
              "                             dob_years\n",
              "income_type                           \n",
              "business                          39.0\n",
              "civil servant                     40.0\n",
              "employee                          39.0\n",
              "entrepreneur                      42.5\n",
              "paternity / maternity leave       39.0\n",
              "retiree                           60.0\n",
              "student                           22.0\n",
              "unemployed                        38.0"
            ],
            "text/html": [
              "\n",
              "  <div id=\"df-1dfd824a-fec1-4480-b34a-f43d01807029\">\n",
              "    <div class=\"colab-df-container\">\n",
              "      <div>\n",
              "<style scoped>\n",
              "    .dataframe tbody tr th:only-of-type {\n",
              "        vertical-align: middle;\n",
              "    }\n",
              "\n",
              "    .dataframe tbody tr th {\n",
              "        vertical-align: top;\n",
              "    }\n",
              "\n",
              "    .dataframe thead th {\n",
              "        text-align: right;\n",
              "    }\n",
              "</style>\n",
              "<table border=\"1\" class=\"dataframe\">\n",
              "  <thead>\n",
              "    <tr style=\"text-align: right;\">\n",
              "      <th></th>\n",
              "      <th>dob_years</th>\n",
              "    </tr>\n",
              "    <tr>\n",
              "      <th>income_type</th>\n",
              "      <th></th>\n",
              "    </tr>\n",
              "  </thead>\n",
              "  <tbody>\n",
              "    <tr>\n",
              "      <th>business</th>\n",
              "      <td>39.0</td>\n",
              "    </tr>\n",
              "    <tr>\n",
              "      <th>civil servant</th>\n",
              "      <td>40.0</td>\n",
              "    </tr>\n",
              "    <tr>\n",
              "      <th>employee</th>\n",
              "      <td>39.0</td>\n",
              "    </tr>\n",
              "    <tr>\n",
              "      <th>entrepreneur</th>\n",
              "      <td>42.5</td>\n",
              "    </tr>\n",
              "    <tr>\n",
              "      <th>paternity / maternity leave</th>\n",
              "      <td>39.0</td>\n",
              "    </tr>\n",
              "    <tr>\n",
              "      <th>retiree</th>\n",
              "      <td>60.0</td>\n",
              "    </tr>\n",
              "    <tr>\n",
              "      <th>student</th>\n",
              "      <td>22.0</td>\n",
              "    </tr>\n",
              "    <tr>\n",
              "      <th>unemployed</th>\n",
              "      <td>38.0</td>\n",
              "    </tr>\n",
              "  </tbody>\n",
              "</table>\n",
              "</div>\n",
              "      <button class=\"colab-df-convert\" onclick=\"convertToInteractive('df-1dfd824a-fec1-4480-b34a-f43d01807029')\"\n",
              "              title=\"Convert this dataframe to an interactive table.\"\n",
              "              style=\"display:none;\">\n",
              "        \n",
              "  <svg xmlns=\"http://www.w3.org/2000/svg\" height=\"24px\"viewBox=\"0 0 24 24\"\n",
              "       width=\"24px\">\n",
              "    <path d=\"M0 0h24v24H0V0z\" fill=\"none\"/>\n",
              "    <path d=\"M18.56 5.44l.94 2.06.94-2.06 2.06-.94-2.06-.94-.94-2.06-.94 2.06-2.06.94zm-11 1L8.5 8.5l.94-2.06 2.06-.94-2.06-.94L8.5 2.5l-.94 2.06-2.06.94zm10 10l.94 2.06.94-2.06 2.06-.94-2.06-.94-.94-2.06-.94 2.06-2.06.94z\"/><path d=\"M17.41 7.96l-1.37-1.37c-.4-.4-.92-.59-1.43-.59-.52 0-1.04.2-1.43.59L10.3 9.45l-7.72 7.72c-.78.78-.78 2.05 0 2.83L4 21.41c.39.39.9.59 1.41.59.51 0 1.02-.2 1.41-.59l7.78-7.78 2.81-2.81c.8-.78.8-2.07 0-2.86zM5.41 20L4 18.59l7.72-7.72 1.47 1.35L5.41 20z\"/>\n",
              "  </svg>\n",
              "      </button>\n",
              "      \n",
              "  <style>\n",
              "    .colab-df-container {\n",
              "      display:flex;\n",
              "      flex-wrap:wrap;\n",
              "      gap: 12px;\n",
              "    }\n",
              "\n",
              "    .colab-df-convert {\n",
              "      background-color: #E8F0FE;\n",
              "      border: none;\n",
              "      border-radius: 50%;\n",
              "      cursor: pointer;\n",
              "      display: none;\n",
              "      fill: #1967D2;\n",
              "      height: 32px;\n",
              "      padding: 0 0 0 0;\n",
              "      width: 32px;\n",
              "    }\n",
              "\n",
              "    .colab-df-convert:hover {\n",
              "      background-color: #E2EBFA;\n",
              "      box-shadow: 0px 1px 2px rgba(60, 64, 67, 0.3), 0px 1px 3px 1px rgba(60, 64, 67, 0.15);\n",
              "      fill: #174EA6;\n",
              "    }\n",
              "\n",
              "    [theme=dark] .colab-df-convert {\n",
              "      background-color: #3B4455;\n",
              "      fill: #D2E3FC;\n",
              "    }\n",
              "\n",
              "    [theme=dark] .colab-df-convert:hover {\n",
              "      background-color: #434B5C;\n",
              "      box-shadow: 0px 1px 3px 1px rgba(0, 0, 0, 0.15);\n",
              "      filter: drop-shadow(0px 1px 2px rgba(0, 0, 0, 0.3));\n",
              "      fill: #FFFFFF;\n",
              "    }\n",
              "  </style>\n",
              "\n",
              "      <script>\n",
              "        const buttonEl =\n",
              "          document.querySelector('#df-1dfd824a-fec1-4480-b34a-f43d01807029 button.colab-df-convert');\n",
              "        buttonEl.style.display =\n",
              "          google.colab.kernel.accessAllowed ? 'block' : 'none';\n",
              "\n",
              "        async function convertToInteractive(key) {\n",
              "          const element = document.querySelector('#df-1dfd824a-fec1-4480-b34a-f43d01807029');\n",
              "          const dataTable =\n",
              "            await google.colab.kernel.invokeFunction('convertToInteractive',\n",
              "                                                     [key], {});\n",
              "          if (!dataTable) return;\n",
              "\n",
              "          const docLinkHtml = 'Like what you see? Visit the ' +\n",
              "            '<a target=\"_blank\" href=https://colab.research.google.com/notebooks/data_table.ipynb>data table notebook</a>'\n",
              "            + ' to learn more about interactive tables.';\n",
              "          element.innerHTML = '';\n",
              "          dataTable['output_type'] = 'display_data';\n",
              "          await google.colab.output.renderOutput(dataTable, element);\n",
              "          const docLink = document.createElement('div');\n",
              "          docLink.innerHTML = docLinkHtml;\n",
              "          element.appendChild(docLink);\n",
              "        }\n",
              "      </script>\n",
              "    </div>\n",
              "  </div>\n",
              "  "
            ]
          },
          "metadata": {},
          "execution_count": 77
        }
      ],
      "source": [
        "ages_non_zero = credit_scoring_data[ credit_scoring_data['dob_years']!=0 ]\n",
        "\n",
        "pivot_income_median = ages_non_zero.pivot_table(index=['income_type'], values='dob_years', aggfunc= 'median')\n",
        "\n",
        "pivot_income_median"
      ]
    },
    {
      "cell_type": "markdown",
      "metadata": {
        "id": "FY08g9vYdvIG"
      },
      "source": [
        "En segundo lugar, crearemos una función para reemplazar la edad en cero por las medianas:"
      ]
    },
    {
      "cell_type": "code",
      "execution_count": 78,
      "metadata": {
        "id": "kOl-0aIldvIG"
      },
      "outputs": [],
      "source": [
        "def dob_median_replacement(row):\n",
        "  income_type = row['income_type']\n",
        "  dob_years = row['dob_years']\n",
        "  if dob_years == 0:\n",
        "    return pivot_income_median['dob_years'][income_type]\n",
        "  return dob_years"
      ]
    },
    {
      "cell_type": "markdown",
      "metadata": {
        "id": "wPD4jHu3dvIG"
      },
      "source": [
        "Ahora aplicamos la formula:"
      ]
    },
    {
      "cell_type": "code",
      "execution_count": 79,
      "metadata": {
        "id": "aYcxh53VdvIG"
      },
      "outputs": [],
      "source": [
        "credit_scoring_data['dob_years'] = credit_scoring_data.apply(dob_median_replacement, axis=1)"
      ]
    },
    {
      "cell_type": "code",
      "execution_count": 80,
      "metadata": {
        "colab": {
          "base_uri": "https://localhost:8080/"
        },
        "id": "p4iCMxAYdvIG",
        "outputId": "bfc47756-6729-4775-bd40-cf2fd527e86c"
      },
      "outputs": [
        {
          "output_type": "stream",
          "name": "stdout",
          "text": [
            "Cantidad de datos agrupados:\n",
            "39.0    648\n",
            "35.0    617\n",
            "40.0    615\n",
            "41.0    607\n",
            "34.0    603\n",
            "38.0    598\n",
            "42.0    597\n",
            "33.0    581\n",
            "31.0    560\n",
            "36.0    555\n",
            "44.0    547\n",
            "29.0    545\n",
            "30.0    540\n",
            "48.0    538\n",
            "37.0    537\n",
            "50.0    514\n",
            "43.0    513\n",
            "32.0    510\n",
            "49.0    508\n",
            "28.0    503\n",
            "45.0    497\n",
            "27.0    493\n",
            "56.0    487\n",
            "52.0    484\n",
            "47.0    480\n",
            "54.0    479\n",
            "46.0    475\n",
            "58.0    461\n",
            "57.0    460\n",
            "53.0    459\n",
            "51.0    448\n",
            "59.0    444\n",
            "55.0    443\n",
            "26.0    408\n",
            "60.0    397\n",
            "25.0    357\n",
            "61.0    355\n",
            "62.0    352\n",
            "63.0    269\n",
            "64.0    265\n",
            "24.0    264\n",
            "23.0    254\n",
            "65.0    194\n",
            "22.0    183\n",
            "66.0    183\n",
            "67.0    167\n",
            "21.0    111\n",
            "68.0     99\n",
            "69.0     85\n",
            "70.0     65\n",
            "71.0     58\n",
            "20.0     51\n",
            "72.0     33\n",
            "19.0     14\n",
            "73.0      8\n",
            "74.0      6\n",
            "75.0      1\n",
            "Name: dob_years, dtype: int64\n"
          ]
        }
      ],
      "source": [
        "print('Cantidad de datos agrupados:')\n",
        "print(credit_scoring_data['dob_years'].value_counts())"
      ]
    },
    {
      "cell_type": "code",
      "execution_count": 81,
      "metadata": {
        "colab": {
          "base_uri": "https://localhost:8080/"
        },
        "id": "JPQuPAgXdvIH",
        "outputId": "ca1ff00b-44f8-4ac7-e3d4-88ad4804c92b"
      },
      "outputs": [
        {
          "output_type": "stream",
          "name": "stdout",
          "text": [
            "Value count by age groups for the DataFrame:\n",
            "31_to_40    5824\n",
            "41_to_50    5276\n",
            "51_to_64    4562\n",
            "26_to_30    2489\n",
            "retired     2140\n",
            "19_to_25    1234\n",
            "Name: age_group, dtype: int64\n"
          ]
        }
      ],
      "source": [
        "credit_scoring_data['age_group'] = credit_scoring_data['dob_years'].apply(age_group)\n",
        "\n",
        "print('Value count by age groups for the DataFrame:')\n",
        "print(credit_scoring_data['age_group'].value_counts())"
      ]
    },
    {
      "cell_type": "markdown",
      "metadata": {
        "id": "r_MShglhdvIH"
      },
      "source": [
        "### La columna 'family_status'"
      ]
    },
    {
      "cell_type": "code",
      "execution_count": 82,
      "metadata": {
        "colab": {
          "base_uri": "https://localhost:8080/"
        },
        "id": "S9XkMTybdvIH",
        "outputId": "25275aae-b852-485d-8948-8555ebf041ba"
      },
      "outputs": [
        {
          "output_type": "execute_result",
          "data": {
            "text/plain": [
              "array(['married', 'civil partnership', 'widow / widower', 'divorced',\n",
              "       'unmarried'], dtype=object)"
            ]
          },
          "metadata": {},
          "execution_count": 82
        }
      ],
      "source": [
        "credit_scoring_data['family_status'].unique()"
      ]
    },
    {
      "cell_type": "markdown",
      "metadata": {
        "id": "fs9c-dHDdvIH"
      },
      "source": [
        "Hay diferencias porcentuales no menores en los datos obtenidos, sin embargo cada valor es bastante representativo de su categoría. Vamos a borrar los espacios entre palabras para facilitar la visualización más adelante.."
      ]
    },
    {
      "cell_type": "code",
      "execution_count": 83,
      "metadata": {
        "id": "myAZtMmTdvIH"
      },
      "outputs": [],
      "source": [
        "credit_scoring_data['family_status'] = credit_scoring_data['family_status'].replace('civil partnership', 'civil_partnership')\n",
        "credit_scoring_data['family_status'] = credit_scoring_data['family_status'].replace('widow / widower', 'widow_er')"
      ]
    },
    {
      "cell_type": "code",
      "execution_count": 84,
      "metadata": {
        "colab": {
          "base_uri": "https://localhost:8080/"
        },
        "id": "TDrDTOv0dvIH",
        "outputId": "c89e53d7-fd75-4391-f79e-3b978e93960f"
      },
      "outputs": [
        {
          "output_type": "execute_result",
          "data": {
            "text/plain": [
              "array(['married', 'civil_partnership', 'widow_er', 'divorced',\n",
              "       'unmarried'], dtype=object)"
            ]
          },
          "metadata": {},
          "execution_count": 84
        }
      ],
      "source": [
        "credit_scoring_data['family_status'].unique()"
      ]
    },
    {
      "cell_type": "markdown",
      "metadata": {
        "id": "k9YUg9XkdvIH"
      },
      "source": [
        "### La columna 'gender'"
      ]
    },
    {
      "cell_type": "code",
      "execution_count": 85,
      "metadata": {
        "colab": {
          "base_uri": "https://localhost:8080/"
        },
        "id": "qxESPl_hdvIH",
        "outputId": "0cf5bf11-79a2-4b9c-86f9-b30314d07ed6"
      },
      "outputs": [
        {
          "output_type": "stream",
          "name": "stdout",
          "text": [
            "Valores únicos en la columna \"gender\":\n",
            "['F' 'M' 'XNA']\n",
            "\n",
            "Cantidad de filas por atributo:\n",
            "F      14236\n",
            "M       7288\n",
            "XNA        1\n",
            "Name: gender, dtype: int64\n",
            "\n",
            "Revisión de filas con XNA:\n",
            "       children  days_employed  dob_years     education  education_id  \\\n",
            "10701         0    2358.600502       24.0  some_college             2   \n",
            "\n",
            "           family_status  family_status_id gender income_type  debt  \\\n",
            "10701  civil_partnership                 1    XNA    business     0   \n",
            "\n",
            "       total_income          purpose age_group  \n",
            "10701     32624.825  buy real estate  19_to_25  \n"
          ]
        }
      ],
      "source": [
        "print('Valores únicos en la columna \"gender\":')\n",
        "print(credit_scoring_data['gender'].unique())\n",
        "print()\n",
        "print('Cantidad de filas por atributo:')\n",
        "print(credit_scoring_data['gender'].value_counts())\n",
        "print()\n",
        "print('Revisión de filas con XNA:')\n",
        "print(credit_scoring_data[credit_scoring_data['gender'] == 'XNA'])"
      ]
    },
    {
      "cell_type": "markdown",
      "metadata": {
        "id": "QfTHzFTVdvII"
      },
      "source": [
        "Al ser solo un valor XNA (que consideramos como mal ingresado o ausente), el porcentaje de distribución no varia en nada si lo pasamos a uno u otro valor. Como el genero en esta base de datos tiene siempre más F que M cambiaremos el único valor ausente en Gender a F."
      ]
    },
    {
      "cell_type": "code",
      "execution_count": 86,
      "metadata": {
        "id": "H4sIsuYOdvII"
      },
      "outputs": [],
      "source": [
        "credit_scoring_data.loc[10701, 'gender'] = 'F'"
      ]
    },
    {
      "cell_type": "code",
      "execution_count": 87,
      "metadata": {
        "colab": {
          "base_uri": "https://localhost:8080/"
        },
        "id": "UObtI5-HdvII",
        "outputId": "cdee2e45-48a1-4da2-9526-ed00d0733ea0"
      },
      "outputs": [
        {
          "output_type": "stream",
          "name": "stdout",
          "text": [
            "['F' 'M']\n"
          ]
        }
      ],
      "source": [
        "print(credit_scoring_data['gender'].unique())"
      ]
    },
    {
      "cell_type": "markdown",
      "metadata": {
        "id": "SlioCIitdvII"
      },
      "source": [
        "### La columna 'income_type'"
      ]
    },
    {
      "cell_type": "code",
      "execution_count": 88,
      "metadata": {
        "colab": {
          "base_uri": "https://localhost:8080/"
        },
        "id": "NOo-YL3-dvII",
        "outputId": "1ba89f35-c2c8-4c20-a59c-25b3c0b0cb5e"
      },
      "outputs": [
        {
          "output_type": "execute_result",
          "data": {
            "text/plain": [
              "employee                       0.516562\n",
              "business                       0.236237\n",
              "retiree                        0.179141\n",
              "civil servant                  0.067782\n",
              "unemployed                     0.000093\n",
              "entrepreneur                   0.000093\n",
              "student                        0.000046\n",
              "paternity / maternity leave    0.000046\n",
              "Name: income_type, dtype: float64"
            ]
          },
          "metadata": {},
          "execution_count": 88
        }
      ],
      "source": [
        "credit_scoring_data['income_type'].value_counts(normalize=True)"
      ]
    },
    {
      "cell_type": "markdown",
      "metadata": {
        "id": "WhpBkVl7dvII"
      },
      "source": [
        "Al ver la distribución de los valores en la columna 'income_type' vemos que los 4 valores con menor porcentaje (entrepeneur, unemployed, student y paternity / maternity leave) suman 0.0279% del total y civil servant hace un 6,7% de los valores. En este caso, las columnas con solo 1 o 2 datos podrían eliminarse, pero quizás se podrían unir a otras columnas que son más representativas. Así, entrepreneur podría pasar a la columna de business (ya que esta comprende las grandes, medianas y pequeñas empresas). Student y paternity, maternity leave podrían pasar a employee. "
      ]
    },
    {
      "cell_type": "code",
      "execution_count": 89,
      "metadata": {
        "id": "dBBFuxb7dvII"
      },
      "outputs": [],
      "source": [
        "credit_scoring_data['income_type'] = credit_scoring_data['income_type'].replace('entrepreneur', 'business')\n",
        "credit_scoring_data['income_type'] = credit_scoring_data['income_type'].replace('student', 'employee')\n",
        "credit_scoring_data['income_type'] = credit_scoring_data['income_type'].replace('paternity / maternity leave', 'employee')"
      ]
    },
    {
      "cell_type": "code",
      "execution_count": 90,
      "metadata": {
        "colab": {
          "base_uri": "https://localhost:8080/"
        },
        "id": "6WT92H__dvII",
        "outputId": "62b8b2e6-e915-4430-de5c-586a1afd856e"
      },
      "outputs": [
        {
          "output_type": "stream",
          "name": "stdout",
          "text": [
            "Valores únicos en la columna \"income_type\":\n",
            "['employee' 'retiree' 'business' 'civil servant' 'unemployed']\n"
          ]
        }
      ],
      "source": [
        "print('Valores únicos en la columna \"income_type\":')\n",
        "print(credit_scoring_data['income_type'].unique())"
      ]
    },
    {
      "cell_type": "markdown",
      "metadata": {
        "id": "XAmjzI_HdvII"
      },
      "source": [
        "Queda entonces el valor 'unemployed', sin embargo este lo dejaría ya que es un dato que si bien no tiene muchos valores valdría la pena guardarlo a futuro e ir alimentando la base de datos con este valor.  "
      ]
    },
    {
      "cell_type": "markdown",
      "metadata": {
        "id": "8LREyvLfdvII"
      },
      "source": [
        "### La columna 'purpose'"
      ]
    },
    {
      "cell_type": "code",
      "execution_count": 91,
      "metadata": {
        "colab": {
          "base_uri": "https://localhost:8080/"
        },
        "id": "xOw5Q_8_dvII",
        "outputId": "2a5cfcd9-bcfc-4420-ce7c-1b067e3cb640"
      },
      "outputs": [
        {
          "output_type": "execute_result",
          "data": {
            "text/plain": [
              "wedding ceremony                            0.037027\n",
              "having a wedding                            0.036098\n",
              "to have a wedding                           0.035958\n",
              "real estate transactions                    0.031405\n",
              "buy commercial real estate                  0.030848\n",
              "buying property for renting out             0.030337\n",
              "housing transactions                        0.030337\n",
              "transactions with commercial real estate    0.030244\n",
              "purchase of the house                       0.030058\n",
              "housing                                     0.030058\n",
              "purchase of the house for my family         0.029779\n",
              "construction of own property                0.029501\n",
              "property                                    0.029454\n",
              "transactions with my real estate            0.029268\n",
              "building a real estate                      0.029082\n",
              "buy real estate                             0.028990\n",
              "building a property                         0.028804\n",
              "purchase of my own house                    0.028804\n",
              "housing renovation                          0.028432\n",
              "buy residential real estate                 0.028200\n",
              "buying my own car                           0.023461\n",
              "going to university                         0.023043\n",
              "car                                         0.022997\n",
              "second-hand car purchase                    0.022718\n",
              "to own a car                                0.022300\n",
              "buying a second-hand car                    0.022253\n",
              "cars                                        0.022207\n",
              "to buy a car                                0.021928\n",
              "supplementary education                     0.021463\n",
              "car purchase                                0.021463\n",
              "purchase of a car                           0.021138\n",
              "university education                        0.021045\n",
              "education                                   0.020767\n",
              "to get a supplementary education            0.020767\n",
              "getting an education                        0.020581\n",
              "profile education                           0.020256\n",
              "getting higher education                    0.019791\n",
              "to become educated                          0.019141\n",
              "Name: purpose, dtype: float64"
            ]
          },
          "metadata": {},
          "execution_count": 91
        }
      ],
      "source": [
        "credit_scoring_data['purpose'].value_counts(normalize=True)"
      ]
    },
    {
      "cell_type": "markdown",
      "metadata": {
        "id": "NW81dE-3dvIJ"
      },
      "source": [
        "Como habiamos descubierto encontramos varios nombres similares, estos los podriamos agrupar de la siguiente manera:\n",
        "\n",
        "* wedding (wedding ceremony, having a wedding, to have a wedding)\n",
        "* property_buying (purchase of the house for my family, construction of own property, property, purchase of my own house, building a property, purchase of the house, housing renovation, buy residential real estate)\n",
        "* comercial_real_estate (real estate transactions, buy commercial real estate, buying property for renting out, housing transactions, transactions with commercial real estate, housing, transactions with my real estate, building a real estate, buy real estate)\n",
        "* car (buying my own car, car, second-hand car purchase, to own a car, buying a second-hand car, cars, to buy a car, car purchase, purchase of a car)\n",
        "* education (going to university, supplementary education, university education, education, to get a supplementary education, getting an education, profile education, getting higher education, to become educated)\n",
        "\n"
      ]
    },
    {
      "cell_type": "markdown",
      "metadata": {
        "id": "bmb-n1zTdvIJ"
      },
      "source": [
        "Primero vamos a cambiar manualmente los valores no estandar:\n",
        "En property_buying este sería: buy residential real estate - ya que podría quedar en la sección 'comercial_real_estate'\n",
        "En cambio en 'comercial_real_estate' serian: buying property for renting out, housing transactions,  housing"
      ]
    },
    {
      "cell_type": "code",
      "execution_count": 92,
      "metadata": {
        "id": "EWm-n6ScdvIJ"
      },
      "outputs": [],
      "source": [
        "credit_scoring_data['purpose'] = credit_scoring_data['purpose'].replace('buy residential real estate', 'property_buying')\n",
        "credit_scoring_data['purpose'] = credit_scoring_data['purpose'].replace('construction of own property', 'property_buying')\n",
        "credit_scoring_data['purpose'] = credit_scoring_data['purpose'].replace('property', 'property_buying')\n",
        "credit_scoring_data['purpose'] = credit_scoring_data['purpose'].replace('building a property', 'property_buying')\n",
        "credit_scoring_data['purpose'] = credit_scoring_data['purpose'].replace('buying property for renting out', 'comercial_real_estate')\n",
        "credit_scoring_data['purpose'] = credit_scoring_data['purpose'].replace('housing transactions', 'comercial_real_estate')\n",
        "credit_scoring_data['purpose'] = credit_scoring_data['purpose'].replace('housing', 'comercial_real_estate')\n",
        "credit_scoring_data['purpose'] = credit_scoring_data['purpose'].replace('housing renovation', 'comercial_real_estate')\n",
        "credit_scoring_data['purpose'] = credit_scoring_data['purpose'].replace('to become educated', 'education')\n",
        "credit_scoring_data['purpose'] = credit_scoring_data['purpose'].replace('going to university', 'education')"
      ]
    },
    {
      "cell_type": "code",
      "execution_count": 93,
      "metadata": {
        "colab": {
          "base_uri": "https://localhost:8080/"
        },
        "id": "nYz3yIF5dvIJ",
        "outputId": "afa84f8b-a66c-448f-94b8-c4425fe9e1d0"
      },
      "outputs": [
        {
          "output_type": "execute_result",
          "data": {
            "text/plain": [
              "array(['purchase of the house', 'car purchase', 'supplementary education',\n",
              "       'to have a wedding', 'comercial_real_estate', 'education',\n",
              "       'having a wedding', 'purchase of the house for my family',\n",
              "       'buy real estate', 'buy commercial real estate', 'property_buying',\n",
              "       'buying a second-hand car', 'buying my own car',\n",
              "       'transactions with commercial real estate',\n",
              "       'building a real estate', 'transactions with my real estate',\n",
              "       'cars', 'second-hand car purchase', 'getting an education', 'car',\n",
              "       'wedding ceremony', 'to get a supplementary education',\n",
              "       'purchase of my own house', 'real estate transactions',\n",
              "       'getting higher education', 'to own a car', 'purchase of a car',\n",
              "       'profile education', 'university education', 'to buy a car'],\n",
              "      dtype=object)"
            ]
          },
          "metadata": {},
          "execution_count": 93
        }
      ],
      "source": [
        "credit_scoring_data['purpose'].unique()"
      ]
    },
    {
      "cell_type": "code",
      "execution_count": 94,
      "metadata": {
        "scrolled": true,
        "id": "0e_W2MdKdvIJ"
      },
      "outputs": [],
      "source": [
        "def change_purpose(x):\n",
        "    if type(x) == str:\n",
        "        if 'wedding' in x:\n",
        "            return 'wedding'\n",
        "        elif 'car' in x:\n",
        "            return 'car'\n",
        "        elif 'education' in x:\n",
        "            return 'education'\n",
        "        elif 'house' in x:\n",
        "            return 'property_buying'\n",
        "        elif 'estate' in x:\n",
        "            return 'comercial_real_estate'\n",
        "        else:\n",
        "            return x"
      ]
    },
    {
      "cell_type": "code",
      "execution_count": 95,
      "metadata": {
        "id": "9pq2vByxdvIJ"
      },
      "outputs": [],
      "source": [
        "credit_scoring_data['purpose'] = credit_scoring_data['purpose'].apply(change_purpose)"
      ]
    },
    {
      "cell_type": "code",
      "execution_count": 96,
      "metadata": {
        "colab": {
          "base_uri": "https://localhost:8080/"
        },
        "id": "ITg4fiELdvIJ",
        "outputId": "6bc71502-4471-4c58-b3d2-08b538a88249"
      },
      "outputs": [
        {
          "output_type": "execute_result",
          "data": {
            "text/plain": [
              "array(['property_buying', 'car', 'education', 'wedding',\n",
              "       'comercial_real_estate'], dtype=object)"
            ]
          },
          "metadata": {},
          "execution_count": 96
        }
      ],
      "source": [
        "credit_scoring_data['purpose'].unique()"
      ]
    },
    {
      "cell_type": "markdown",
      "metadata": {
        "id": "Rqnn46dKdvIJ"
      },
      "source": [
        "### Valores duplicados"
      ]
    },
    {
      "cell_type": "code",
      "execution_count": 97,
      "metadata": {
        "colab": {
          "base_uri": "https://localhost:8080/"
        },
        "id": "tVRtpmfXdvIJ",
        "outputId": "363c2dc2-ccf4-483a-d9f8-6c6e2b3f2df1"
      },
      "outputs": [
        {
          "output_type": "stream",
          "name": "stdout",
          "text": [
            "Encontramos 316 duplicados aparentemente.\n"
          ]
        }
      ],
      "source": [
        "print('Encontramos' ,credit_scoring_data.duplicated().sum(), 'duplicados aparentemente.')"
      ]
    },
    {
      "cell_type": "code",
      "execution_count": 98,
      "metadata": {
        "id": "TisUvcj1dvIK"
      },
      "outputs": [],
      "source": [
        "credit_scoring_data = credit_scoring_data.drop_duplicates().reset_index(drop = True)"
      ]
    },
    {
      "cell_type": "code",
      "execution_count": 99,
      "metadata": {
        "colab": {
          "base_uri": "https://localhost:8080/"
        },
        "id": "H-xNyo1wdvIK",
        "outputId": "9ce1e900-382a-41f1-c286-5e35c2784aea"
      },
      "outputs": [
        {
          "output_type": "stream",
          "name": "stdout",
          "text": [
            "Quedan entonces, 0 duplicados.\n"
          ]
        }
      ],
      "source": [
        "print('Quedan entonces,' ,credit_scoring_data.duplicated().sum(), 'duplicados.')"
      ]
    },
    {
      "cell_type": "code",
      "execution_count": 100,
      "metadata": {
        "colab": {
          "base_uri": "https://localhost:8080/"
        },
        "id": "2_Zaone-dvIK",
        "outputId": "c897cfb3-fd21-4fa0-f4bd-0d993c26ba77"
      },
      "outputs": [
        {
          "output_type": "stream",
          "name": "stdout",
          "text": [
            "<class 'pandas.core.frame.DataFrame'>\n",
            "RangeIndex: 21209 entries, 0 to 21208\n",
            "Data columns (total 13 columns):\n",
            " #   Column            Non-Null Count  Dtype  \n",
            "---  ------            --------------  -----  \n",
            " 0   children          21209 non-null  int64  \n",
            " 1   days_employed     15906 non-null  float64\n",
            " 2   dob_years         21209 non-null  float64\n",
            " 3   education         21209 non-null  object \n",
            " 4   education_id      21209 non-null  int64  \n",
            " 5   family_status     21209 non-null  object \n",
            " 6   family_status_id  21209 non-null  int64  \n",
            " 7   gender            21209 non-null  object \n",
            " 8   income_type       21209 non-null  object \n",
            " 9   debt              21209 non-null  int64  \n",
            " 10  total_income      19351 non-null  float64\n",
            " 11  purpose           21209 non-null  object \n",
            " 12  age_group         21209 non-null  object \n",
            "dtypes: float64(3), int64(4), object(6)\n",
            "memory usage: 2.1+ MB\n"
          ]
        }
      ],
      "source": [
        "credit_scoring_data.info()"
      ]
    },
    {
      "cell_type": "markdown",
      "metadata": {
        "id": "KUbYn5XIdvIK"
      },
      "source": [
        "Nuestro DataFrame \"credit_scoring_data\" tiene 21209 filas y 13 columnas. Este dataframe a sido limpiado de duplicados y valores ausentes para casi todas las columnas. Sin embargo, nos quedan 19351 valores ausentes en la columna \"total_income\" que equivale a al 8,77% de los valores de la columna. Este número sigue siendo muy grande así que tendremos que revisarlo."
      ]
    },
    {
      "cell_type": "markdown",
      "metadata": {
        "id": "N_3N-hqIdvIK"
      },
      "source": [
        "# Trabajar con valores ausentes"
      ]
    },
    {
      "cell_type": "code",
      "execution_count": 101,
      "metadata": {
        "colab": {
          "base_uri": "https://localhost:8080/"
        },
        "id": "9DrnRtgKdvIK",
        "outputId": "a5b20d27-cf3c-4741-c1e3-f1216d726b5c"
      },
      "outputs": [
        {
          "output_type": "stream",
          "name": "stdout",
          "text": [
            "Diccionario para Family_Status:\n",
            "{0: 'married', 1: 'civil_partnership', 2: 'widow_er', 3: 'divorced', 4: 'unmarried'}\n",
            "\n",
            "Diccionario para Education:\n",
            "{0: 'bachelors_degree', 1: 'secondary_education', 2: 'some_college', 3: 'primary_education', 4: 'graduate_degree'}\n"
          ]
        }
      ],
      "source": [
        "# Posibles diccionarios a utilizar en el futuro\n",
        "print('Diccionario para Family_Status:')\n",
        "family_status_dict = {\n",
        "    0 : 'married',\n",
        "    1: 'civil_partnership',\n",
        "    2: 'widow_er',\n",
        "    3: 'divorced',\n",
        "    4: 'unmarried'\n",
        "}\n",
        "print(family_status_dict)\n",
        "print()\n",
        "print('Diccionario para Education:')\n",
        "education_dict = {\n",
        "    0 : 'bachelors_degree',\n",
        "    1: 'secondary_education',\n",
        "    2: 'some_college',\n",
        "    3: 'primary_education',\n",
        "    4: 'graduate_degree'\n",
        "}\n",
        "\n",
        "print(education_dict)"
      ]
    },
    {
      "cell_type": "markdown",
      "metadata": {
        "id": "a7RB5AyidvIK"
      },
      "source": [
        "### Restaurar valores ausentes en `total_income`"
      ]
    },
    {
      "cell_type": "markdown",
      "metadata": {
        "id": "wLyB_fI7dvIK"
      },
      "source": [
        "Recordemos que habiamos creado nuestra columna 'age_group' esta fue probada y agregada al DataFrame. Esta nos servirá para abordar los valores ausentes en la columna total_income."
      ]
    },
    {
      "cell_type": "code",
      "execution_count": 102,
      "metadata": {
        "colab": {
          "base_uri": "https://localhost:8080/",
          "height": 206
        },
        "id": "_TNQPnVWdvIL",
        "outputId": "15ae2ffd-7738-40eb-fcea-c8301bd993b7"
      },
      "outputs": [
        {
          "output_type": "execute_result",
          "data": {
            "text/plain": [
              "   children  days_employed  dob_years            education  education_id  \\\n",
              "0         1    8437.673028       42.0     bachelors_degree             0   \n",
              "1         1    4024.803754       36.0  secondary_education             1   \n",
              "2         0    5623.422610       33.0  secondary_education             1   \n",
              "3         3    4124.747207       32.0  secondary_education             1   \n",
              "5         0     926.185831       27.0     bachelors_degree             0   \n",
              "\n",
              "       family_status  family_status_id gender income_type  debt  total_income  \\\n",
              "0            married                 0      F    employee     0     40620.102   \n",
              "1            married                 0      F    employee     0     17932.802   \n",
              "2            married                 0      M    employee     0     23341.752   \n",
              "3            married                 0      M    employee     0     42820.568   \n",
              "5  civil_partnership                 1      M    business     0     40922.170   \n",
              "\n",
              "           purpose age_group  \n",
              "0  property_buying  41_to_50  \n",
              "1              car  31_to_40  \n",
              "2  property_buying  31_to_40  \n",
              "3        education  31_to_40  \n",
              "5  property_buying  26_to_30  "
            ],
            "text/html": [
              "\n",
              "  <div id=\"df-18ccdac2-1e05-4514-8b62-dc514c5424d0\">\n",
              "    <div class=\"colab-df-container\">\n",
              "      <div>\n",
              "<style scoped>\n",
              "    .dataframe tbody tr th:only-of-type {\n",
              "        vertical-align: middle;\n",
              "    }\n",
              "\n",
              "    .dataframe tbody tr th {\n",
              "        vertical-align: top;\n",
              "    }\n",
              "\n",
              "    .dataframe thead th {\n",
              "        text-align: right;\n",
              "    }\n",
              "</style>\n",
              "<table border=\"1\" class=\"dataframe\">\n",
              "  <thead>\n",
              "    <tr style=\"text-align: right;\">\n",
              "      <th></th>\n",
              "      <th>children</th>\n",
              "      <th>days_employed</th>\n",
              "      <th>dob_years</th>\n",
              "      <th>education</th>\n",
              "      <th>education_id</th>\n",
              "      <th>family_status</th>\n",
              "      <th>family_status_id</th>\n",
              "      <th>gender</th>\n",
              "      <th>income_type</th>\n",
              "      <th>debt</th>\n",
              "      <th>total_income</th>\n",
              "      <th>purpose</th>\n",
              "      <th>age_group</th>\n",
              "    </tr>\n",
              "  </thead>\n",
              "  <tbody>\n",
              "    <tr>\n",
              "      <th>0</th>\n",
              "      <td>1</td>\n",
              "      <td>8437.673028</td>\n",
              "      <td>42.0</td>\n",
              "      <td>bachelors_degree</td>\n",
              "      <td>0</td>\n",
              "      <td>married</td>\n",
              "      <td>0</td>\n",
              "      <td>F</td>\n",
              "      <td>employee</td>\n",
              "      <td>0</td>\n",
              "      <td>40620.102</td>\n",
              "      <td>property_buying</td>\n",
              "      <td>41_to_50</td>\n",
              "    </tr>\n",
              "    <tr>\n",
              "      <th>1</th>\n",
              "      <td>1</td>\n",
              "      <td>4024.803754</td>\n",
              "      <td>36.0</td>\n",
              "      <td>secondary_education</td>\n",
              "      <td>1</td>\n",
              "      <td>married</td>\n",
              "      <td>0</td>\n",
              "      <td>F</td>\n",
              "      <td>employee</td>\n",
              "      <td>0</td>\n",
              "      <td>17932.802</td>\n",
              "      <td>car</td>\n",
              "      <td>31_to_40</td>\n",
              "    </tr>\n",
              "    <tr>\n",
              "      <th>2</th>\n",
              "      <td>0</td>\n",
              "      <td>5623.422610</td>\n",
              "      <td>33.0</td>\n",
              "      <td>secondary_education</td>\n",
              "      <td>1</td>\n",
              "      <td>married</td>\n",
              "      <td>0</td>\n",
              "      <td>M</td>\n",
              "      <td>employee</td>\n",
              "      <td>0</td>\n",
              "      <td>23341.752</td>\n",
              "      <td>property_buying</td>\n",
              "      <td>31_to_40</td>\n",
              "    </tr>\n",
              "    <tr>\n",
              "      <th>3</th>\n",
              "      <td>3</td>\n",
              "      <td>4124.747207</td>\n",
              "      <td>32.0</td>\n",
              "      <td>secondary_education</td>\n",
              "      <td>1</td>\n",
              "      <td>married</td>\n",
              "      <td>0</td>\n",
              "      <td>M</td>\n",
              "      <td>employee</td>\n",
              "      <td>0</td>\n",
              "      <td>42820.568</td>\n",
              "      <td>education</td>\n",
              "      <td>31_to_40</td>\n",
              "    </tr>\n",
              "    <tr>\n",
              "      <th>5</th>\n",
              "      <td>0</td>\n",
              "      <td>926.185831</td>\n",
              "      <td>27.0</td>\n",
              "      <td>bachelors_degree</td>\n",
              "      <td>0</td>\n",
              "      <td>civil_partnership</td>\n",
              "      <td>1</td>\n",
              "      <td>M</td>\n",
              "      <td>business</td>\n",
              "      <td>0</td>\n",
              "      <td>40922.170</td>\n",
              "      <td>property_buying</td>\n",
              "      <td>26_to_30</td>\n",
              "    </tr>\n",
              "  </tbody>\n",
              "</table>\n",
              "</div>\n",
              "      <button class=\"colab-df-convert\" onclick=\"convertToInteractive('df-18ccdac2-1e05-4514-8b62-dc514c5424d0')\"\n",
              "              title=\"Convert this dataframe to an interactive table.\"\n",
              "              style=\"display:none;\">\n",
              "        \n",
              "  <svg xmlns=\"http://www.w3.org/2000/svg\" height=\"24px\"viewBox=\"0 0 24 24\"\n",
              "       width=\"24px\">\n",
              "    <path d=\"M0 0h24v24H0V0z\" fill=\"none\"/>\n",
              "    <path d=\"M18.56 5.44l.94 2.06.94-2.06 2.06-.94-2.06-.94-.94-2.06-.94 2.06-2.06.94zm-11 1L8.5 8.5l.94-2.06 2.06-.94-2.06-.94L8.5 2.5l-.94 2.06-2.06.94zm10 10l.94 2.06.94-2.06 2.06-.94-2.06-.94-.94-2.06-.94 2.06-2.06.94z\"/><path d=\"M17.41 7.96l-1.37-1.37c-.4-.4-.92-.59-1.43-.59-.52 0-1.04.2-1.43.59L10.3 9.45l-7.72 7.72c-.78.78-.78 2.05 0 2.83L4 21.41c.39.39.9.59 1.41.59.51 0 1.02-.2 1.41-.59l7.78-7.78 2.81-2.81c.8-.78.8-2.07 0-2.86zM5.41 20L4 18.59l7.72-7.72 1.47 1.35L5.41 20z\"/>\n",
              "  </svg>\n",
              "      </button>\n",
              "      \n",
              "  <style>\n",
              "    .colab-df-container {\n",
              "      display:flex;\n",
              "      flex-wrap:wrap;\n",
              "      gap: 12px;\n",
              "    }\n",
              "\n",
              "    .colab-df-convert {\n",
              "      background-color: #E8F0FE;\n",
              "      border: none;\n",
              "      border-radius: 50%;\n",
              "      cursor: pointer;\n",
              "      display: none;\n",
              "      fill: #1967D2;\n",
              "      height: 32px;\n",
              "      padding: 0 0 0 0;\n",
              "      width: 32px;\n",
              "    }\n",
              "\n",
              "    .colab-df-convert:hover {\n",
              "      background-color: #E2EBFA;\n",
              "      box-shadow: 0px 1px 2px rgba(60, 64, 67, 0.3), 0px 1px 3px 1px rgba(60, 64, 67, 0.15);\n",
              "      fill: #174EA6;\n",
              "    }\n",
              "\n",
              "    [theme=dark] .colab-df-convert {\n",
              "      background-color: #3B4455;\n",
              "      fill: #D2E3FC;\n",
              "    }\n",
              "\n",
              "    [theme=dark] .colab-df-convert:hover {\n",
              "      background-color: #434B5C;\n",
              "      box-shadow: 0px 1px 3px 1px rgba(0, 0, 0, 0.15);\n",
              "      filter: drop-shadow(0px 1px 2px rgba(0, 0, 0, 0.3));\n",
              "      fill: #FFFFFF;\n",
              "    }\n",
              "  </style>\n",
              "\n",
              "      <script>\n",
              "        const buttonEl =\n",
              "          document.querySelector('#df-18ccdac2-1e05-4514-8b62-dc514c5424d0 button.colab-df-convert');\n",
              "        buttonEl.style.display =\n",
              "          google.colab.kernel.accessAllowed ? 'block' : 'none';\n",
              "\n",
              "        async function convertToInteractive(key) {\n",
              "          const element = document.querySelector('#df-18ccdac2-1e05-4514-8b62-dc514c5424d0');\n",
              "          const dataTable =\n",
              "            await google.colab.kernel.invokeFunction('convertToInteractive',\n",
              "                                                     [key], {});\n",
              "          if (!dataTable) return;\n",
              "\n",
              "          const docLinkHtml = 'Like what you see? Visit the ' +\n",
              "            '<a target=\"_blank\" href=https://colab.research.google.com/notebooks/data_table.ipynb>data table notebook</a>'\n",
              "            + ' to learn more about interactive tables.';\n",
              "          element.innerHTML = '';\n",
              "          dataTable['output_type'] = 'display_data';\n",
              "          await google.colab.output.renderOutput(dataTable, element);\n",
              "          const docLink = document.createElement('div');\n",
              "          docLink.innerHTML = docLinkHtml;\n",
              "          element.appendChild(docLink);\n",
              "        }\n",
              "      </script>\n",
              "    </div>\n",
              "  </div>\n",
              "  "
            ]
          },
          "metadata": {},
          "execution_count": 102
        }
      ],
      "source": [
        "credit_scoring_data_no_nan = credit_scoring_data.dropna()\n",
        "\n",
        "credit_scoring_data_no_nan.head()"
      ]
    },
    {
      "cell_type": "code",
      "execution_count": 103,
      "metadata": {
        "colab": {
          "base_uri": "https://localhost:8080/",
          "height": 394
        },
        "id": "s7glC-YYdvIL",
        "outputId": "238ef999-5e03-4363-9958-f08612a5e9fa"
      },
      "outputs": [
        {
          "output_type": "execute_result",
          "data": {
            "text/plain": [
              "age_group                       19_to_25      26_to_30      31_to_40  \\\n",
              "gender education                                                       \n",
              "F      bachelors_degree     24707.061851  28605.931263  30826.308490   \n",
              "       graduate_degree               NaN           NaN  17822.757000   \n",
              "       primary_education    26381.103200  16665.507333  20428.717433   \n",
              "       secondary_education  19646.387785  21402.874494  23210.703528   \n",
              "       some_college         20488.639638  24846.307456  29581.565262   \n",
              "M      bachelors_degree     29032.640594  37174.140431  40276.359866   \n",
              "       graduate_degree               NaN           NaN  18551.846000   \n",
              "       primary_education    27235.789800  27669.105250  22692.502205   \n",
              "       secondary_education  24985.427113  27517.712144  29941.296939   \n",
              "       some_college         28345.545172  32824.834228  36009.967300   \n",
              "\n",
              "age_group                       41_to_50      51_to_64       retired  \n",
              "gender education                                                      \n",
              "F      bachelors_degree     32296.105167  34951.969506  32772.491338  \n",
              "       graduate_degree               NaN           NaN           NaN  \n",
              "       primary_education    22444.753474  17281.376692  25740.812500  \n",
              "       secondary_education  23722.313800  24376.195362  27317.518359  \n",
              "       some_college         33826.400778  28900.295250  32065.378750  \n",
              "M      bachelors_degree     43231.193720  41429.575880  38953.771673  \n",
              "       graduate_degree      31771.321000  42945.794000           NaN  \n",
              "       primary_education    26363.030440  21666.185714  19490.938500  \n",
              "       secondary_education  30505.624420  27648.416841  26109.930094  \n",
              "       some_college         36364.299971  35011.119308  38344.565333  "
            ],
            "text/html": [
              "\n",
              "  <div id=\"df-cc9c240c-61cd-4ab3-bda0-9b5f3e932701\">\n",
              "    <div class=\"colab-df-container\">\n",
              "      <div>\n",
              "<style scoped>\n",
              "    .dataframe tbody tr th:only-of-type {\n",
              "        vertical-align: middle;\n",
              "    }\n",
              "\n",
              "    .dataframe tbody tr th {\n",
              "        vertical-align: top;\n",
              "    }\n",
              "\n",
              "    .dataframe thead th {\n",
              "        text-align: right;\n",
              "    }\n",
              "</style>\n",
              "<table border=\"1\" class=\"dataframe\">\n",
              "  <thead>\n",
              "    <tr style=\"text-align: right;\">\n",
              "      <th></th>\n",
              "      <th>age_group</th>\n",
              "      <th>19_to_25</th>\n",
              "      <th>26_to_30</th>\n",
              "      <th>31_to_40</th>\n",
              "      <th>41_to_50</th>\n",
              "      <th>51_to_64</th>\n",
              "      <th>retired</th>\n",
              "    </tr>\n",
              "    <tr>\n",
              "      <th>gender</th>\n",
              "      <th>education</th>\n",
              "      <th></th>\n",
              "      <th></th>\n",
              "      <th></th>\n",
              "      <th></th>\n",
              "      <th></th>\n",
              "      <th></th>\n",
              "    </tr>\n",
              "  </thead>\n",
              "  <tbody>\n",
              "    <tr>\n",
              "      <th rowspan=\"5\" valign=\"top\">F</th>\n",
              "      <th>bachelors_degree</th>\n",
              "      <td>24707.061851</td>\n",
              "      <td>28605.931263</td>\n",
              "      <td>30826.308490</td>\n",
              "      <td>32296.105167</td>\n",
              "      <td>34951.969506</td>\n",
              "      <td>32772.491338</td>\n",
              "    </tr>\n",
              "    <tr>\n",
              "      <th>graduate_degree</th>\n",
              "      <td>NaN</td>\n",
              "      <td>NaN</td>\n",
              "      <td>17822.757000</td>\n",
              "      <td>NaN</td>\n",
              "      <td>NaN</td>\n",
              "      <td>NaN</td>\n",
              "    </tr>\n",
              "    <tr>\n",
              "      <th>primary_education</th>\n",
              "      <td>26381.103200</td>\n",
              "      <td>16665.507333</td>\n",
              "      <td>20428.717433</td>\n",
              "      <td>22444.753474</td>\n",
              "      <td>17281.376692</td>\n",
              "      <td>25740.812500</td>\n",
              "    </tr>\n",
              "    <tr>\n",
              "      <th>secondary_education</th>\n",
              "      <td>19646.387785</td>\n",
              "      <td>21402.874494</td>\n",
              "      <td>23210.703528</td>\n",
              "      <td>23722.313800</td>\n",
              "      <td>24376.195362</td>\n",
              "      <td>27317.518359</td>\n",
              "    </tr>\n",
              "    <tr>\n",
              "      <th>some_college</th>\n",
              "      <td>20488.639638</td>\n",
              "      <td>24846.307456</td>\n",
              "      <td>29581.565262</td>\n",
              "      <td>33826.400778</td>\n",
              "      <td>28900.295250</td>\n",
              "      <td>32065.378750</td>\n",
              "    </tr>\n",
              "    <tr>\n",
              "      <th rowspan=\"5\" valign=\"top\">M</th>\n",
              "      <th>bachelors_degree</th>\n",
              "      <td>29032.640594</td>\n",
              "      <td>37174.140431</td>\n",
              "      <td>40276.359866</td>\n",
              "      <td>43231.193720</td>\n",
              "      <td>41429.575880</td>\n",
              "      <td>38953.771673</td>\n",
              "    </tr>\n",
              "    <tr>\n",
              "      <th>graduate_degree</th>\n",
              "      <td>NaN</td>\n",
              "      <td>NaN</td>\n",
              "      <td>18551.846000</td>\n",
              "      <td>31771.321000</td>\n",
              "      <td>42945.794000</td>\n",
              "      <td>NaN</td>\n",
              "    </tr>\n",
              "    <tr>\n",
              "      <th>primary_education</th>\n",
              "      <td>27235.789800</td>\n",
              "      <td>27669.105250</td>\n",
              "      <td>22692.502205</td>\n",
              "      <td>26363.030440</td>\n",
              "      <td>21666.185714</td>\n",
              "      <td>19490.938500</td>\n",
              "    </tr>\n",
              "    <tr>\n",
              "      <th>secondary_education</th>\n",
              "      <td>24985.427113</td>\n",
              "      <td>27517.712144</td>\n",
              "      <td>29941.296939</td>\n",
              "      <td>30505.624420</td>\n",
              "      <td>27648.416841</td>\n",
              "      <td>26109.930094</td>\n",
              "    </tr>\n",
              "    <tr>\n",
              "      <th>some_college</th>\n",
              "      <td>28345.545172</td>\n",
              "      <td>32824.834228</td>\n",
              "      <td>36009.967300</td>\n",
              "      <td>36364.299971</td>\n",
              "      <td>35011.119308</td>\n",
              "      <td>38344.565333</td>\n",
              "    </tr>\n",
              "  </tbody>\n",
              "</table>\n",
              "</div>\n",
              "      <button class=\"colab-df-convert\" onclick=\"convertToInteractive('df-cc9c240c-61cd-4ab3-bda0-9b5f3e932701')\"\n",
              "              title=\"Convert this dataframe to an interactive table.\"\n",
              "              style=\"display:none;\">\n",
              "        \n",
              "  <svg xmlns=\"http://www.w3.org/2000/svg\" height=\"24px\"viewBox=\"0 0 24 24\"\n",
              "       width=\"24px\">\n",
              "    <path d=\"M0 0h24v24H0V0z\" fill=\"none\"/>\n",
              "    <path d=\"M18.56 5.44l.94 2.06.94-2.06 2.06-.94-2.06-.94-.94-2.06-.94 2.06-2.06.94zm-11 1L8.5 8.5l.94-2.06 2.06-.94-2.06-.94L8.5 2.5l-.94 2.06-2.06.94zm10 10l.94 2.06.94-2.06 2.06-.94-2.06-.94-.94-2.06-.94 2.06-2.06.94z\"/><path d=\"M17.41 7.96l-1.37-1.37c-.4-.4-.92-.59-1.43-.59-.52 0-1.04.2-1.43.59L10.3 9.45l-7.72 7.72c-.78.78-.78 2.05 0 2.83L4 21.41c.39.39.9.59 1.41.59.51 0 1.02-.2 1.41-.59l7.78-7.78 2.81-2.81c.8-.78.8-2.07 0-2.86zM5.41 20L4 18.59l7.72-7.72 1.47 1.35L5.41 20z\"/>\n",
              "  </svg>\n",
              "      </button>\n",
              "      \n",
              "  <style>\n",
              "    .colab-df-container {\n",
              "      display:flex;\n",
              "      flex-wrap:wrap;\n",
              "      gap: 12px;\n",
              "    }\n",
              "\n",
              "    .colab-df-convert {\n",
              "      background-color: #E8F0FE;\n",
              "      border: none;\n",
              "      border-radius: 50%;\n",
              "      cursor: pointer;\n",
              "      display: none;\n",
              "      fill: #1967D2;\n",
              "      height: 32px;\n",
              "      padding: 0 0 0 0;\n",
              "      width: 32px;\n",
              "    }\n",
              "\n",
              "    .colab-df-convert:hover {\n",
              "      background-color: #E2EBFA;\n",
              "      box-shadow: 0px 1px 2px rgba(60, 64, 67, 0.3), 0px 1px 3px 1px rgba(60, 64, 67, 0.15);\n",
              "      fill: #174EA6;\n",
              "    }\n",
              "\n",
              "    [theme=dark] .colab-df-convert {\n",
              "      background-color: #3B4455;\n",
              "      fill: #D2E3FC;\n",
              "    }\n",
              "\n",
              "    [theme=dark] .colab-df-convert:hover {\n",
              "      background-color: #434B5C;\n",
              "      box-shadow: 0px 1px 3px 1px rgba(0, 0, 0, 0.15);\n",
              "      filter: drop-shadow(0px 1px 2px rgba(0, 0, 0, 0.3));\n",
              "      fill: #FFFFFF;\n",
              "    }\n",
              "  </style>\n",
              "\n",
              "      <script>\n",
              "        const buttonEl =\n",
              "          document.querySelector('#df-cc9c240c-61cd-4ab3-bda0-9b5f3e932701 button.colab-df-convert');\n",
              "        buttonEl.style.display =\n",
              "          google.colab.kernel.accessAllowed ? 'block' : 'none';\n",
              "\n",
              "        async function convertToInteractive(key) {\n",
              "          const element = document.querySelector('#df-cc9c240c-61cd-4ab3-bda0-9b5f3e932701');\n",
              "          const dataTable =\n",
              "            await google.colab.kernel.invokeFunction('convertToInteractive',\n",
              "                                                     [key], {});\n",
              "          if (!dataTable) return;\n",
              "\n",
              "          const docLinkHtml = 'Like what you see? Visit the ' +\n",
              "            '<a target=\"_blank\" href=https://colab.research.google.com/notebooks/data_table.ipynb>data table notebook</a>'\n",
              "            + ' to learn more about interactive tables.';\n",
              "          element.innerHTML = '';\n",
              "          dataTable['output_type'] = 'display_data';\n",
              "          await google.colab.output.renderOutput(dataTable, element);\n",
              "          const docLink = document.createElement('div');\n",
              "          docLink.innerHTML = docLinkHtml;\n",
              "          element.appendChild(docLink);\n",
              "        }\n",
              "      </script>\n",
              "    </div>\n",
              "  </div>\n",
              "  "
            ]
          },
          "metadata": {},
          "execution_count": 103
        }
      ],
      "source": [
        "pivot_table_nonan_mean =  credit_scoring_data_no_nan.pivot_table(index=['gender', 'education'], columns='age_group', values='total_income', aggfunc='mean')\n",
        "\n",
        "pivot_table_nonan_mean"
      ]
    },
    {
      "cell_type": "code",
      "execution_count": 104,
      "metadata": {
        "scrolled": true,
        "colab": {
          "base_uri": "https://localhost:8080/",
          "height": 394
        },
        "id": "HjLyYne0dvIL",
        "outputId": "a911f9f5-7a00-462b-d38f-4e42d4dfebd5"
      },
      "outputs": [
        {
          "output_type": "execute_result",
          "data": {
            "text/plain": [
              "age_group                     19_to_25    26_to_30    31_to_40    41_to_50  \\\n",
              "gender education                                                             \n",
              "F      bachelors_degree     21477.9765  25277.6890  26535.3245  27631.7065   \n",
              "       graduate_degree             NaN         NaN  17822.7570         NaN   \n",
              "       primary_education    17781.3660  19507.1640  18195.0890  21859.4680   \n",
              "       secondary_education  17665.9835  19175.7910  20770.0925  21001.8680   \n",
              "       some_college         19636.5115  21435.1590  25431.7585  29661.7065   \n",
              "M      bachelors_degree     27220.0380  33475.2905  33744.5040  35017.2470   \n",
              "       graduate_degree             NaN         NaN  18551.8460  31771.3210   \n",
              "       primary_education    27119.0240  25710.4890  20378.7500  21887.8250   \n",
              "       secondary_education  23483.5340  25152.9340  26723.3175  26804.6105   \n",
              "       some_college         25571.4005  29751.2190  35819.3895  30965.6450   \n",
              "\n",
              "age_group                     51_to_64     retired  \n",
              "gender education                                    \n",
              "F      bachelors_degree     28700.9075  27969.0405  \n",
              "       graduate_degree             NaN         NaN  \n",
              "       primary_education    15518.3460  27561.4865  \n",
              "       secondary_education  21635.3815  22815.2960  \n",
              "       some_college         26247.2875  33793.1560  \n",
              "M      bachelors_degree     35202.4675  31984.6160  \n",
              "       graduate_degree      42945.7940         NaN  \n",
              "       primary_education    23361.5090  19490.9385  \n",
              "       secondary_education  24515.1370  24843.3020  \n",
              "       some_college         25889.1720  36694.2720  "
            ],
            "text/html": [
              "\n",
              "  <div id=\"df-90f66603-e6ea-40e7-828d-5e577162286f\">\n",
              "    <div class=\"colab-df-container\">\n",
              "      <div>\n",
              "<style scoped>\n",
              "    .dataframe tbody tr th:only-of-type {\n",
              "        vertical-align: middle;\n",
              "    }\n",
              "\n",
              "    .dataframe tbody tr th {\n",
              "        vertical-align: top;\n",
              "    }\n",
              "\n",
              "    .dataframe thead th {\n",
              "        text-align: right;\n",
              "    }\n",
              "</style>\n",
              "<table border=\"1\" class=\"dataframe\">\n",
              "  <thead>\n",
              "    <tr style=\"text-align: right;\">\n",
              "      <th></th>\n",
              "      <th>age_group</th>\n",
              "      <th>19_to_25</th>\n",
              "      <th>26_to_30</th>\n",
              "      <th>31_to_40</th>\n",
              "      <th>41_to_50</th>\n",
              "      <th>51_to_64</th>\n",
              "      <th>retired</th>\n",
              "    </tr>\n",
              "    <tr>\n",
              "      <th>gender</th>\n",
              "      <th>education</th>\n",
              "      <th></th>\n",
              "      <th></th>\n",
              "      <th></th>\n",
              "      <th></th>\n",
              "      <th></th>\n",
              "      <th></th>\n",
              "    </tr>\n",
              "  </thead>\n",
              "  <tbody>\n",
              "    <tr>\n",
              "      <th rowspan=\"5\" valign=\"top\">F</th>\n",
              "      <th>bachelors_degree</th>\n",
              "      <td>21477.9765</td>\n",
              "      <td>25277.6890</td>\n",
              "      <td>26535.3245</td>\n",
              "      <td>27631.7065</td>\n",
              "      <td>28700.9075</td>\n",
              "      <td>27969.0405</td>\n",
              "    </tr>\n",
              "    <tr>\n",
              "      <th>graduate_degree</th>\n",
              "      <td>NaN</td>\n",
              "      <td>NaN</td>\n",
              "      <td>17822.7570</td>\n",
              "      <td>NaN</td>\n",
              "      <td>NaN</td>\n",
              "      <td>NaN</td>\n",
              "    </tr>\n",
              "    <tr>\n",
              "      <th>primary_education</th>\n",
              "      <td>17781.3660</td>\n",
              "      <td>19507.1640</td>\n",
              "      <td>18195.0890</td>\n",
              "      <td>21859.4680</td>\n",
              "      <td>15518.3460</td>\n",
              "      <td>27561.4865</td>\n",
              "    </tr>\n",
              "    <tr>\n",
              "      <th>secondary_education</th>\n",
              "      <td>17665.9835</td>\n",
              "      <td>19175.7910</td>\n",
              "      <td>20770.0925</td>\n",
              "      <td>21001.8680</td>\n",
              "      <td>21635.3815</td>\n",
              "      <td>22815.2960</td>\n",
              "    </tr>\n",
              "    <tr>\n",
              "      <th>some_college</th>\n",
              "      <td>19636.5115</td>\n",
              "      <td>21435.1590</td>\n",
              "      <td>25431.7585</td>\n",
              "      <td>29661.7065</td>\n",
              "      <td>26247.2875</td>\n",
              "      <td>33793.1560</td>\n",
              "    </tr>\n",
              "    <tr>\n",
              "      <th rowspan=\"5\" valign=\"top\">M</th>\n",
              "      <th>bachelors_degree</th>\n",
              "      <td>27220.0380</td>\n",
              "      <td>33475.2905</td>\n",
              "      <td>33744.5040</td>\n",
              "      <td>35017.2470</td>\n",
              "      <td>35202.4675</td>\n",
              "      <td>31984.6160</td>\n",
              "    </tr>\n",
              "    <tr>\n",
              "      <th>graduate_degree</th>\n",
              "      <td>NaN</td>\n",
              "      <td>NaN</td>\n",
              "      <td>18551.8460</td>\n",
              "      <td>31771.3210</td>\n",
              "      <td>42945.7940</td>\n",
              "      <td>NaN</td>\n",
              "    </tr>\n",
              "    <tr>\n",
              "      <th>primary_education</th>\n",
              "      <td>27119.0240</td>\n",
              "      <td>25710.4890</td>\n",
              "      <td>20378.7500</td>\n",
              "      <td>21887.8250</td>\n",
              "      <td>23361.5090</td>\n",
              "      <td>19490.9385</td>\n",
              "    </tr>\n",
              "    <tr>\n",
              "      <th>secondary_education</th>\n",
              "      <td>23483.5340</td>\n",
              "      <td>25152.9340</td>\n",
              "      <td>26723.3175</td>\n",
              "      <td>26804.6105</td>\n",
              "      <td>24515.1370</td>\n",
              "      <td>24843.3020</td>\n",
              "    </tr>\n",
              "    <tr>\n",
              "      <th>some_college</th>\n",
              "      <td>25571.4005</td>\n",
              "      <td>29751.2190</td>\n",
              "      <td>35819.3895</td>\n",
              "      <td>30965.6450</td>\n",
              "      <td>25889.1720</td>\n",
              "      <td>36694.2720</td>\n",
              "    </tr>\n",
              "  </tbody>\n",
              "</table>\n",
              "</div>\n",
              "      <button class=\"colab-df-convert\" onclick=\"convertToInteractive('df-90f66603-e6ea-40e7-828d-5e577162286f')\"\n",
              "              title=\"Convert this dataframe to an interactive table.\"\n",
              "              style=\"display:none;\">\n",
              "        \n",
              "  <svg xmlns=\"http://www.w3.org/2000/svg\" height=\"24px\"viewBox=\"0 0 24 24\"\n",
              "       width=\"24px\">\n",
              "    <path d=\"M0 0h24v24H0V0z\" fill=\"none\"/>\n",
              "    <path d=\"M18.56 5.44l.94 2.06.94-2.06 2.06-.94-2.06-.94-.94-2.06-.94 2.06-2.06.94zm-11 1L8.5 8.5l.94-2.06 2.06-.94-2.06-.94L8.5 2.5l-.94 2.06-2.06.94zm10 10l.94 2.06.94-2.06 2.06-.94-2.06-.94-.94-2.06-.94 2.06-2.06.94z\"/><path d=\"M17.41 7.96l-1.37-1.37c-.4-.4-.92-.59-1.43-.59-.52 0-1.04.2-1.43.59L10.3 9.45l-7.72 7.72c-.78.78-.78 2.05 0 2.83L4 21.41c.39.39.9.59 1.41.59.51 0 1.02-.2 1.41-.59l7.78-7.78 2.81-2.81c.8-.78.8-2.07 0-2.86zM5.41 20L4 18.59l7.72-7.72 1.47 1.35L5.41 20z\"/>\n",
              "  </svg>\n",
              "      </button>\n",
              "      \n",
              "  <style>\n",
              "    .colab-df-container {\n",
              "      display:flex;\n",
              "      flex-wrap:wrap;\n",
              "      gap: 12px;\n",
              "    }\n",
              "\n",
              "    .colab-df-convert {\n",
              "      background-color: #E8F0FE;\n",
              "      border: none;\n",
              "      border-radius: 50%;\n",
              "      cursor: pointer;\n",
              "      display: none;\n",
              "      fill: #1967D2;\n",
              "      height: 32px;\n",
              "      padding: 0 0 0 0;\n",
              "      width: 32px;\n",
              "    }\n",
              "\n",
              "    .colab-df-convert:hover {\n",
              "      background-color: #E2EBFA;\n",
              "      box-shadow: 0px 1px 2px rgba(60, 64, 67, 0.3), 0px 1px 3px 1px rgba(60, 64, 67, 0.15);\n",
              "      fill: #174EA6;\n",
              "    }\n",
              "\n",
              "    [theme=dark] .colab-df-convert {\n",
              "      background-color: #3B4455;\n",
              "      fill: #D2E3FC;\n",
              "    }\n",
              "\n",
              "    [theme=dark] .colab-df-convert:hover {\n",
              "      background-color: #434B5C;\n",
              "      box-shadow: 0px 1px 3px 1px rgba(0, 0, 0, 0.15);\n",
              "      filter: drop-shadow(0px 1px 2px rgba(0, 0, 0, 0.3));\n",
              "      fill: #FFFFFF;\n",
              "    }\n",
              "  </style>\n",
              "\n",
              "      <script>\n",
              "        const buttonEl =\n",
              "          document.querySelector('#df-90f66603-e6ea-40e7-828d-5e577162286f button.colab-df-convert');\n",
              "        buttonEl.style.display =\n",
              "          google.colab.kernel.accessAllowed ? 'block' : 'none';\n",
              "\n",
              "        async function convertToInteractive(key) {\n",
              "          const element = document.querySelector('#df-90f66603-e6ea-40e7-828d-5e577162286f');\n",
              "          const dataTable =\n",
              "            await google.colab.kernel.invokeFunction('convertToInteractive',\n",
              "                                                     [key], {});\n",
              "          if (!dataTable) return;\n",
              "\n",
              "          const docLinkHtml = 'Like what you see? Visit the ' +\n",
              "            '<a target=\"_blank\" href=https://colab.research.google.com/notebooks/data_table.ipynb>data table notebook</a>'\n",
              "            + ' to learn more about interactive tables.';\n",
              "          element.innerHTML = '';\n",
              "          dataTable['output_type'] = 'display_data';\n",
              "          await google.colab.output.renderOutput(dataTable, element);\n",
              "          const docLink = document.createElement('div');\n",
              "          docLink.innerHTML = docLinkHtml;\n",
              "          element.appendChild(docLink);\n",
              "        }\n",
              "      </script>\n",
              "    </div>\n",
              "  </div>\n",
              "  "
            ]
          },
          "metadata": {},
          "execution_count": 104
        }
      ],
      "source": [
        "pivot_table_nonan_median =  credit_scoring_data_no_nan.pivot_table(index=['gender', 'education'], columns='age_group', values='total_income', aggfunc='median')\n",
        "\n",
        "pivot_table_nonan_median"
      ]
    },
    {
      "cell_type": "code",
      "execution_count": 105,
      "metadata": {
        "colab": {
          "base_uri": "https://localhost:8080/"
        },
        "id": "q9xyiUYKdvIL",
        "outputId": "12d588a9-d7e7-450c-d5af-b0e2d0814c99"
      },
      "outputs": [
        {
          "output_type": "stream",
          "name": "stdout",
          "text": [
            "El valor medio de ingreso para mujeres de entre 19 a 25 años con \"primary_education\" es:\n",
            "26381.1032 dias.\n",
            "El valor de la mediana de ingreso para mujeres de entre 19 a 25 años con \"primary_education\" es:\n",
            "17781.366 dias.\n",
            "\n",
            "El valor medio de ingreso para hombres de entre 26 a 30 años con \"some_college\" es:\n",
            "32824.834228070176 dias.\n",
            "El valor de la mediana de ingreso para hombres de entre 26 a 30 años con \"some_college\" es:\n",
            "29751.219 dias.\n",
            "\n",
            "El valor medio de ingreso para hombres de entre 51 a 64 años con \"bachelors_degree\" es:\n",
            "35011.11930769231 dias.\n",
            "El valor de la mediana de ingreso para hombres de entre 51 a 64 años con \"bachelors_degree\" es:\n",
            "25889.172 dias.\n"
          ]
        }
      ],
      "source": [
        "print('El valor medio de ingreso para mujeres de entre 19 a 25 años con \"primary_education\" es:')\n",
        "print(pivot_table_nonan_mean.loc[('F', 'primary_education'), '19_to_25'], 'dias.')\n",
        "print('El valor de la mediana de ingreso para mujeres de entre 19 a 25 años con \"primary_education\" es:')\n",
        "print(pivot_table_nonan_median.loc[('F', 'primary_education'), '19_to_25'], 'dias.')\n",
        "print()\n",
        "print('El valor medio de ingreso para hombres de entre 26 a 30 años con \"some_college\" es:')\n",
        "print(pivot_table_nonan_mean.loc[('M', 'some_college'), '26_to_30'], 'dias.')\n",
        "print('El valor de la mediana de ingreso para hombres de entre 26 a 30 años con \"some_college\" es:')\n",
        "print(pivot_table_nonan_median.loc[('M', 'some_college'), '26_to_30'], 'dias.')\n",
        "print()\n",
        "print('El valor medio de ingreso para hombres de entre 51 a 64 años con \"bachelors_degree\" es:')\n",
        "print(pivot_table_nonan_mean.loc[('M', 'some_college'), '51_to_64'], 'dias.')\n",
        "print('El valor de la mediana de ingreso para hombres de entre 51 a 64 años con \"bachelors_degree\" es:')\n",
        "print(pivot_table_nonan_median.loc[('M', 'some_college'), '51_to_64'], 'dias.')"
      ]
    },
    {
      "cell_type": "markdown",
      "metadata": {
        "id": "jfda5HV6dvIL"
      },
      "source": [
        "Como se puede apreciar, la media tiene un sesgo positivo para todos los valores. Esto debe corresponder a que es normal que los sueldos no siempre sean iguales para todos, hay muchas ocasiones en las que priman varios otros factores. Es por esta razón que considero mejor utilizar la mediana para reemplazar los valores ausentes en la columna de 'total_income'."
      ]
    },
    {
      "cell_type": "code",
      "execution_count": 106,
      "metadata": {
        "colab": {
          "base_uri": "https://localhost:8080/"
        },
        "id": "nwJI0kECdvIL",
        "outputId": "da83989c-e39f-4674-d5bb-4178d7a3ddcf"
      },
      "outputs": [
        {
          "output_type": "execute_result",
          "data": {
            "text/plain": [
              "17781.366"
            ]
          },
          "metadata": {},
          "execution_count": 106
        }
      ],
      "source": [
        "pivot_table_nonan_median['19_to_25']['F']['primary_education']"
      ]
    },
    {
      "cell_type": "code",
      "execution_count": null,
      "metadata": {
        "id": "NUgP11hidvIL"
      },
      "outputs": [],
      "source": [
        "def replace_nan_income(row):\n",
        "    gender = row['gender']\n",
        "    education = row['education']\n",
        "    age_group = row['age_group']\n",
        "    total_income = row['total_income']\n",
        "    if pd.isna(total_income):\n",
        "        return pivot_table_nonan_median[age_group][gender][education]\n",
        "    else:\n",
        "        return total_income        "
      ]
    },
    {
      "cell_type": "code",
      "execution_count": null,
      "metadata": {
        "id": "WQh4DHYWdvIM"
      },
      "outputs": [],
      "source": [
        "credit_scoring_data['total_income'] = credit_scoring_data.apply(replace_nan_income, axis=1)"
      ]
    },
    {
      "cell_type": "code",
      "execution_count": null,
      "metadata": {
        "id": "1zk340N-dvIM",
        "outputId": "3f4493a7-40a5-419c-fb1d-54322ca5e628"
      },
      "outputs": [
        {
          "data": {
            "text/plain": [
              "children               0\n",
              "days_employed       5303\n",
              "dob_years              0\n",
              "education              0\n",
              "education_id           0\n",
              "family_status          0\n",
              "family_status_id       0\n",
              "gender                 0\n",
              "income_type            0\n",
              "debt                   0\n",
              "total_income           0\n",
              "purpose                0\n",
              "age_group              0\n",
              "dtype: int64"
            ]
          },
          "execution_count": 96,
          "metadata": {},
          "output_type": "execute_result"
        }
      ],
      "source": [
        "credit_scoring_data.isna().sum()"
      ]
    },
    {
      "cell_type": "code",
      "execution_count": null,
      "metadata": {
        "id": "uj7TAYA1dvIM",
        "outputId": "ea0cf697-74a8-4413-9a7a-ea4dca158ac9"
      },
      "outputs": [
        {
          "name": "stdout",
          "output_type": "stream",
          "text": [
            "Finalmente, cambiaremos los elementos en la columna de Float a Int:\n",
            "0        40620\n",
            "1        17932\n",
            "2        23341\n",
            "3        42820\n",
            "4        25378\n",
            "         ...  \n",
            "21204    35966\n",
            "21205    24959\n",
            "21206    14347\n",
            "21207    39054\n",
            "21208    13127\n",
            "Name: total_income, Length: 21209, dtype: int64\n"
          ]
        }
      ],
      "source": [
        "print('Finalmente, cambiaremos los elementos en la columna de Float a Int:')\n",
        "credit_scoring_data['total_income'] = credit_scoring_data['total_income'].astype(int)\n",
        "print(credit_scoring_data['total_income'])"
      ]
    },
    {
      "cell_type": "code",
      "execution_count": null,
      "metadata": {
        "id": "upMgjDYCdvIM",
        "outputId": "986dd960-1e1d-4307-ba75-1da3044cf5d8"
      },
      "outputs": [
        {
          "data": {
            "text/plain": [
              "count     21209.000000\n",
              "mean      26594.990947\n",
              "std       15798.226043\n",
              "min        3306.000000\n",
              "25%       17113.000000\n",
              "50%       23285.000000\n",
              "75%       31818.000000\n",
              "max      362496.000000\n",
              "Name: total_income, dtype: float64"
            ]
          },
          "execution_count": 98,
          "metadata": {},
          "output_type": "execute_result"
        }
      ],
      "source": [
        "credit_scoring_data['total_income'].describe()"
      ]
    },
    {
      "cell_type": "code",
      "execution_count": null,
      "metadata": {
        "id": "xVGF00kldvIM",
        "outputId": "a2120d7e-3100-49f4-fa47-5e1b87d5acf4"
      },
      "outputs": [
        {
          "name": "stdout",
          "output_type": "stream",
          "text": [
            "<class 'pandas.core.frame.DataFrame'>\n",
            "RangeIndex: 21209 entries, 0 to 21208\n",
            "Data columns (total 13 columns):\n",
            " #   Column            Non-Null Count  Dtype  \n",
            "---  ------            --------------  -----  \n",
            " 0   children          21209 non-null  int64  \n",
            " 1   days_employed     15906 non-null  float64\n",
            " 2   dob_years         21209 non-null  float64\n",
            " 3   education         21209 non-null  object \n",
            " 4   education_id      21209 non-null  int64  \n",
            " 5   family_status     21209 non-null  object \n",
            " 6   family_status_id  21209 non-null  int64  \n",
            " 7   gender            21209 non-null  object \n",
            " 8   income_type       21209 non-null  object \n",
            " 9   debt              21209 non-null  int64  \n",
            " 10  total_income      21209 non-null  int64  \n",
            " 11  purpose           21209 non-null  object \n",
            " 12  age_group         21209 non-null  object \n",
            "dtypes: float64(2), int64(5), object(6)\n",
            "memory usage: 2.1+ MB\n"
          ]
        }
      ],
      "source": [
        "credit_scoring_data.info()"
      ]
    },
    {
      "cell_type": "markdown",
      "metadata": {
        "id": "8iHLeuC7dvIM"
      },
      "source": [
        "### Restaurar valores ausentes en `days_employed`"
      ]
    },
    {
      "cell_type": "markdown",
      "metadata": {
        "id": "QKFbmmKFdvIM"
      },
      "source": [
        "#### Revisando los valores nan"
      ]
    },
    {
      "cell_type": "markdown",
      "metadata": {
        "id": "-em2SDihdvIM"
      },
      "source": [
        "Vamos a hacer un recuento de los valores ingresados en days_employed filtrados por education y gender:"
      ]
    },
    {
      "cell_type": "code",
      "execution_count": null,
      "metadata": {
        "id": "zVzWQOzmdvIM",
        "outputId": "23499bfd-4b00-46c6-e1cf-391689b58248"
      },
      "outputs": [
        {
          "data": {
            "text/html": [
              "<div>\n",
              "<style scoped>\n",
              "    .dataframe tbody tr th:only-of-type {\n",
              "        vertical-align: middle;\n",
              "    }\n",
              "\n",
              "    .dataframe tbody tr th {\n",
              "        vertical-align: top;\n",
              "    }\n",
              "\n",
              "    .dataframe thead tr th {\n",
              "        text-align: left;\n",
              "    }\n",
              "\n",
              "    .dataframe thead tr:last-of-type th {\n",
              "        text-align: right;\n",
              "    }\n",
              "</style>\n",
              "<table border=\"1\" class=\"dataframe\">\n",
              "  <thead>\n",
              "    <tr>\n",
              "      <th></th>\n",
              "      <th colspan=\"2\" halign=\"left\">days_employed</th>\n",
              "    </tr>\n",
              "    <tr>\n",
              "      <th>gender</th>\n",
              "      <th>F</th>\n",
              "      <th>M</th>\n",
              "    </tr>\n",
              "    <tr>\n",
              "      <th>education</th>\n",
              "      <th></th>\n",
              "      <th></th>\n",
              "    </tr>\n",
              "  </thead>\n",
              "  <tbody>\n",
              "    <tr>\n",
              "      <th>bachelors_degree</th>\n",
              "      <td>2782</td>\n",
              "      <td>1413</td>\n",
              "    </tr>\n",
              "    <tr>\n",
              "      <th>graduate_degree</th>\n",
              "      <td>1</td>\n",
              "      <td>3</td>\n",
              "    </tr>\n",
              "    <tr>\n",
              "      <th>primary_education</th>\n",
              "      <td>74</td>\n",
              "      <td>94</td>\n",
              "    </tr>\n",
              "    <tr>\n",
              "      <th>secondary_education</th>\n",
              "      <td>6701</td>\n",
              "      <td>4198</td>\n",
              "    </tr>\n",
              "    <tr>\n",
              "      <th>some_college</th>\n",
              "      <td>388</td>\n",
              "      <td>252</td>\n",
              "    </tr>\n",
              "  </tbody>\n",
              "</table>\n",
              "</div>"
            ],
            "text/plain": [
              "                    days_employed      \n",
              "gender                          F     M\n",
              "education                              \n",
              "bachelors_degree             2782  1413\n",
              "graduate_degree                 1     3\n",
              "primary_education              74    94\n",
              "secondary_education          6701  4198\n",
              "some_college                  388   252"
            ]
          },
          "execution_count": 100,
          "metadata": {},
          "output_type": "execute_result"
        }
      ],
      "source": [
        "pivot_days_employed = credit_scoring_data.pivot_table(index=['education'], columns=('gender'), values=['days_employed'], aggfunc='count')\n",
        "\n",
        "pivot_days_employed"
      ]
    },
    {
      "cell_type": "markdown",
      "metadata": {
        "id": "sLa81rkkdvIM"
      },
      "source": [
        "Ahora revisaremos la tabla en base a los rangos étareos:"
      ]
    },
    {
      "cell_type": "code",
      "execution_count": null,
      "metadata": {
        "id": "jjMHVTA3dvIM",
        "outputId": "dd198c5b-4e26-453c-eded-01c85b46790d"
      },
      "outputs": [
        {
          "data": {
            "text/html": [
              "<div>\n",
              "<style scoped>\n",
              "    .dataframe tbody tr th:only-of-type {\n",
              "        vertical-align: middle;\n",
              "    }\n",
              "\n",
              "    .dataframe tbody tr th {\n",
              "        vertical-align: top;\n",
              "    }\n",
              "\n",
              "    .dataframe thead tr th {\n",
              "        text-align: left;\n",
              "    }\n",
              "\n",
              "    .dataframe thead tr:last-of-type th {\n",
              "        text-align: right;\n",
              "    }\n",
              "</style>\n",
              "<table border=\"1\" class=\"dataframe\">\n",
              "  <thead>\n",
              "    <tr>\n",
              "      <th></th>\n",
              "      <th colspan=\"2\" halign=\"left\">days_employed</th>\n",
              "    </tr>\n",
              "    <tr>\n",
              "      <th>gender</th>\n",
              "      <th>F</th>\n",
              "      <th>M</th>\n",
              "    </tr>\n",
              "    <tr>\n",
              "      <th>age_group</th>\n",
              "      <th></th>\n",
              "      <th></th>\n",
              "    </tr>\n",
              "  </thead>\n",
              "  <tbody>\n",
              "    <tr>\n",
              "      <th>19_to_25</th>\n",
              "      <td>637</td>\n",
              "      <td>475</td>\n",
              "    </tr>\n",
              "    <tr>\n",
              "      <th>26_to_30</th>\n",
              "      <td>1315</td>\n",
              "      <td>932</td>\n",
              "    </tr>\n",
              "    <tr>\n",
              "      <th>31_to_40</th>\n",
              "      <td>3193</td>\n",
              "      <td>2014</td>\n",
              "    </tr>\n",
              "    <tr>\n",
              "      <th>41_to_50</th>\n",
              "      <td>2993</td>\n",
              "      <td>1579</td>\n",
              "    </tr>\n",
              "    <tr>\n",
              "      <th>51_to_64</th>\n",
              "      <td>1551</td>\n",
              "      <td>821</td>\n",
              "    </tr>\n",
              "    <tr>\n",
              "      <th>retired</th>\n",
              "      <td>257</td>\n",
              "      <td>139</td>\n",
              "    </tr>\n",
              "  </tbody>\n",
              "</table>\n",
              "</div>"
            ],
            "text/plain": [
              "          days_employed      \n",
              "gender                F     M\n",
              "age_group                    \n",
              "19_to_25            637   475\n",
              "26_to_30           1315   932\n",
              "31_to_40           3193  2014\n",
              "41_to_50           2993  1579\n",
              "51_to_64           1551   821\n",
              "retired             257   139"
            ]
          },
          "execution_count": 101,
          "metadata": {},
          "output_type": "execute_result"
        }
      ],
      "source": [
        "pivot_days_employed_agegroup = credit_scoring_data.pivot_table(index=['age_group'], columns=('gender'), values=['days_employed'], aggfunc='count')\n",
        "\n",
        "pivot_days_employed_agegroup"
      ]
    },
    {
      "cell_type": "markdown",
      "metadata": {
        "id": "JXMIb_pcdvIN"
      },
      "source": [
        "Como podemos ver, la tabla en base a rangos étareos es más certera."
      ]
    },
    {
      "cell_type": "code",
      "execution_count": null,
      "metadata": {
        "id": "h2vidotGdvIN",
        "outputId": "e93251cb-35fa-4efa-90be-858a9bb1d2fd"
      },
      "outputs": [
        {
          "data": {
            "text/html": [
              "<div>\n",
              "<style scoped>\n",
              "    .dataframe tbody tr th:only-of-type {\n",
              "        vertical-align: middle;\n",
              "    }\n",
              "\n",
              "    .dataframe tbody tr th {\n",
              "        vertical-align: top;\n",
              "    }\n",
              "\n",
              "    .dataframe thead tr th {\n",
              "        text-align: left;\n",
              "    }\n",
              "\n",
              "    .dataframe thead tr:last-of-type th {\n",
              "        text-align: right;\n",
              "    }\n",
              "</style>\n",
              "<table border=\"1\" class=\"dataframe\">\n",
              "  <thead>\n",
              "    <tr>\n",
              "      <th></th>\n",
              "      <th colspan=\"2\" halign=\"left\">days_employed</th>\n",
              "    </tr>\n",
              "    <tr>\n",
              "      <th>gender</th>\n",
              "      <th>F</th>\n",
              "      <th>M</th>\n",
              "    </tr>\n",
              "    <tr>\n",
              "      <th>age_group</th>\n",
              "      <th></th>\n",
              "      <th></th>\n",
              "    </tr>\n",
              "  </thead>\n",
              "  <tbody>\n",
              "    <tr>\n",
              "      <th>19_to_25</th>\n",
              "      <td>799.454693</td>\n",
              "      <td>783.679223</td>\n",
              "    </tr>\n",
              "    <tr>\n",
              "      <th>26_to_30</th>\n",
              "      <td>1303.957795</td>\n",
              "      <td>1119.579716</td>\n",
              "    </tr>\n",
              "    <tr>\n",
              "      <th>31_to_40</th>\n",
              "      <td>1693.069607</td>\n",
              "      <td>1489.296378</td>\n",
              "    </tr>\n",
              "    <tr>\n",
              "      <th>41_to_50</th>\n",
              "      <td>2281.700261</td>\n",
              "      <td>1800.580667</td>\n",
              "    </tr>\n",
              "    <tr>\n",
              "      <th>51_to_64</th>\n",
              "      <td>2534.240778</td>\n",
              "      <td>1929.913775</td>\n",
              "    </tr>\n",
              "    <tr>\n",
              "      <th>retired</th>\n",
              "      <td>3258.836029</td>\n",
              "      <td>1928.123732</td>\n",
              "    </tr>\n",
              "  </tbody>\n",
              "</table>\n",
              "</div>"
            ],
            "text/plain": [
              "          days_employed             \n",
              "gender                F            M\n",
              "age_group                           \n",
              "19_to_25     799.454693   783.679223\n",
              "26_to_30    1303.957795  1119.579716\n",
              "31_to_40    1693.069607  1489.296378\n",
              "41_to_50    2281.700261  1800.580667\n",
              "51_to_64    2534.240778  1929.913775\n",
              "retired     3258.836029  1928.123732"
            ]
          },
          "execution_count": 102,
          "metadata": {},
          "output_type": "execute_result"
        }
      ],
      "source": [
        "pivot_days_employed_median = credit_scoring_data.pivot_table(index=['age_group'], columns=('gender'), values=['days_employed'], aggfunc='median')\n",
        "\n",
        "pivot_days_employed_median"
      ]
    },
    {
      "cell_type": "markdown",
      "metadata": {
        "id": "WPafP7dwdvIN"
      },
      "source": [
        "Crearemos una función para reemplazar los valores ausentes:"
      ]
    },
    {
      "cell_type": "code",
      "execution_count": null,
      "metadata": {
        "id": "ICaWLOwbdvIN"
      },
      "outputs": [],
      "source": [
        "def replace_nan_days(row):\n",
        "  gender = row['gender']\n",
        "  age_group = row['age_group']\n",
        "  days_employed = row['days_employed']\n",
        "  if pd.isna(days_employed):\n",
        "    return pivot_days_employed_median['days_employed'][gender][age_group]\n",
        "  return days_employed"
      ]
    },
    {
      "cell_type": "markdown",
      "metadata": {
        "id": "9H6atSxEdvIQ"
      },
      "source": [
        "Aplicaremos nuestra función ahora:"
      ]
    },
    {
      "cell_type": "code",
      "execution_count": null,
      "metadata": {
        "id": "szI0AoJPdvIQ"
      },
      "outputs": [],
      "source": [
        "credit_scoring_data['days_employed'] = credit_scoring_data.apply(replace_nan_days, axis=1)"
      ]
    },
    {
      "cell_type": "markdown",
      "metadata": {
        "id": "77atIQOKdvIQ"
      },
      "source": [
        "Y ahora podemos comprobar que nuestra columna quedó limpia de valores ausentes:"
      ]
    },
    {
      "cell_type": "code",
      "execution_count": null,
      "metadata": {
        "id": "DE-1QBosdvIQ",
        "outputId": "0a87d1e7-5568-4bc8-9860-a9c912fffc62"
      },
      "outputs": [
        {
          "data": {
            "text/plain": [
              "0"
            ]
          },
          "execution_count": 105,
          "metadata": {},
          "output_type": "execute_result"
        }
      ],
      "source": [
        "credit_scoring_data['days_employed'].isna().sum()"
      ]
    },
    {
      "cell_type": "markdown",
      "metadata": {
        "id": "mc3PTZOydvIQ"
      },
      "source": [
        "#### Pasar valores float a Int"
      ]
    },
    {
      "cell_type": "code",
      "execution_count": null,
      "metadata": {
        "id": "MK-yQWM7dvIQ",
        "outputId": "021a7d25-8ade-4ef1-9583-658cbf604f47"
      },
      "outputs": [
        {
          "name": "stdout",
          "output_type": "stream",
          "text": [
            "Finalmente, cambiaremos los elementos en la columna de Float a Int:\n",
            "0        8437\n",
            "1        4024\n",
            "2        5623\n",
            "3        4124\n",
            "4        2534\n",
            "         ... \n",
            "21204    4529\n",
            "21205    3258\n",
            "21206    2113\n",
            "21207    3112\n",
            "21208    1984\n",
            "Name: days_employed, Length: 21209, dtype: int64\n"
          ]
        }
      ],
      "source": [
        "print('Finalmente, cambiaremos los elementos en la columna de Float a Int:')\n",
        "credit_scoring_data['days_employed'] = credit_scoring_data['days_employed'].astype(int)\n",
        "print(credit_scoring_data['days_employed'])"
      ]
    },
    {
      "cell_type": "code",
      "execution_count": null,
      "metadata": {
        "id": "oLE2SQm2dvIQ",
        "outputId": "66490ac0-6a1d-44be-940d-ae68935ff1e2"
      },
      "outputs": [
        {
          "name": "stdout",
          "output_type": "stream",
          "text": [
            "<class 'pandas.core.frame.DataFrame'>\n",
            "RangeIndex: 21209 entries, 0 to 21208\n",
            "Data columns (total 13 columns):\n",
            " #   Column            Non-Null Count  Dtype  \n",
            "---  ------            --------------  -----  \n",
            " 0   children          21209 non-null  int64  \n",
            " 1   days_employed     21209 non-null  int64  \n",
            " 2   dob_years         21209 non-null  float64\n",
            " 3   education         21209 non-null  object \n",
            " 4   education_id      21209 non-null  int64  \n",
            " 5   family_status     21209 non-null  object \n",
            " 6   family_status_id  21209 non-null  int64  \n",
            " 7   gender            21209 non-null  object \n",
            " 8   income_type       21209 non-null  object \n",
            " 9   debt              21209 non-null  int64  \n",
            " 10  total_income      21209 non-null  int64  \n",
            " 11  purpose           21209 non-null  object \n",
            " 12  age_group         21209 non-null  object \n",
            "dtypes: float64(1), int64(6), object(6)\n",
            "memory usage: 2.1+ MB\n"
          ]
        }
      ],
      "source": [
        "# Comprobación de eliminación de valores ausentes\n",
        "credit_scoring_data.info()"
      ]
    },
    {
      "cell_type": "markdown",
      "metadata": {
        "id": "X9RTpaD0dvIQ"
      },
      "source": [
        "## Clasificación de datos"
      ]
    },
    {
      "cell_type": "code",
      "execution_count": null,
      "metadata": {
        "scrolled": true,
        "id": "zYWCWY1_dvIQ",
        "outputId": "e3228d61-efaf-4af3-9c68-0c13a20c3738"
      },
      "outputs": [
        {
          "data": {
            "text/plain": [
              "0                  married\n",
              "1                  married\n",
              "2                  married\n",
              "3                  married\n",
              "4        civil_partnership\n",
              "               ...        \n",
              "21204    civil_partnership\n",
              "21205              married\n",
              "21206    civil_partnership\n",
              "21207              married\n",
              "21208              married\n",
              "Name: family_status, Length: 21209, dtype: object"
            ]
          },
          "execution_count": 108,
          "metadata": {},
          "output_type": "execute_result"
        }
      ],
      "source": [
        "credit_scoring_data['family_status']\n"
      ]
    },
    {
      "cell_type": "code",
      "execution_count": null,
      "metadata": {
        "id": "eSeiP7g2dvIQ",
        "outputId": "7fe40d29-c548-4413-efe1-5354f203a446"
      },
      "outputs": [
        {
          "data": {
            "text/plain": [
              "array(['married', 'civil_partnership', 'widow_er', 'divorced',\n",
              "       'unmarried'], dtype=object)"
            ]
          },
          "execution_count": 109,
          "metadata": {},
          "output_type": "execute_result"
        }
      ],
      "source": [
        "credit_scoring_data['family_status'].unique()"
      ]
    },
    {
      "cell_type": "code",
      "execution_count": null,
      "metadata": {
        "id": "_uVU0enkdvIR",
        "outputId": "1c908748-246c-4582-d74e-343adfc52a7a"
      },
      "outputs": [
        {
          "data": {
            "text/html": [
              "<div>\n",
              "<style scoped>\n",
              "    .dataframe tbody tr th:only-of-type {\n",
              "        vertical-align: middle;\n",
              "    }\n",
              "\n",
              "    .dataframe tbody tr th {\n",
              "        vertical-align: top;\n",
              "    }\n",
              "\n",
              "    .dataframe thead th {\n",
              "        text-align: right;\n",
              "    }\n",
              "</style>\n",
              "<table border=\"1\" class=\"dataframe\">\n",
              "  <thead>\n",
              "    <tr style=\"text-align: right;\">\n",
              "      <th></th>\n",
              "      <th></th>\n",
              "      <th>debt</th>\n",
              "    </tr>\n",
              "    <tr>\n",
              "      <th>gender</th>\n",
              "      <th>family_status</th>\n",
              "      <th></th>\n",
              "    </tr>\n",
              "  </thead>\n",
              "  <tbody>\n",
              "    <tr>\n",
              "      <th rowspan=\"5\" valign=\"top\">F</th>\n",
              "      <th>civil_partnership</th>\n",
              "      <td>233</td>\n",
              "    </tr>\n",
              "    <tr>\n",
              "      <th>divorced</th>\n",
              "      <td>61</td>\n",
              "    </tr>\n",
              "    <tr>\n",
              "      <th>married</th>\n",
              "      <td>529</td>\n",
              "    </tr>\n",
              "    <tr>\n",
              "      <th>unmarried</th>\n",
              "      <td>118</td>\n",
              "    </tr>\n",
              "    <tr>\n",
              "      <th>widow_er</th>\n",
              "      <td>52</td>\n",
              "    </tr>\n",
              "    <tr>\n",
              "      <th rowspan=\"5\" valign=\"top\">M</th>\n",
              "      <th>civil_partnership</th>\n",
              "      <td>155</td>\n",
              "    </tr>\n",
              "    <tr>\n",
              "      <th>divorced</th>\n",
              "      <td>24</td>\n",
              "    </tr>\n",
              "    <tr>\n",
              "      <th>married</th>\n",
              "      <td>400</td>\n",
              "    </tr>\n",
              "    <tr>\n",
              "      <th>unmarried</th>\n",
              "      <td>156</td>\n",
              "    </tr>\n",
              "    <tr>\n",
              "      <th>widow_er</th>\n",
              "      <td>11</td>\n",
              "    </tr>\n",
              "  </tbody>\n",
              "</table>\n",
              "</div>"
            ],
            "text/plain": [
              "                          debt\n",
              "gender family_status          \n",
              "F      civil_partnership   233\n",
              "       divorced             61\n",
              "       married             529\n",
              "       unmarried           118\n",
              "       widow_er             52\n",
              "M      civil_partnership   155\n",
              "       divorced             24\n",
              "       married             400\n",
              "       unmarried           156\n",
              "       widow_er             11"
            ]
          },
          "execution_count": 110,
          "metadata": {},
          "output_type": "execute_result"
        }
      ],
      "source": [
        "pivot_table_family_status =  credit_scoring_data.pivot_table(index=['gender', 'family_status'], values='debt', aggfunc='sum')\n",
        "\n",
        "pivot_table_family_status"
      ]
    },
    {
      "cell_type": "code",
      "execution_count": null,
      "metadata": {
        "id": "ftLzRCa4dvIR",
        "outputId": "6b8b73d5-31b3-4701-b342-7a13fd781697"
      },
      "outputs": [
        {
          "data": {
            "text/plain": [
              "count     21209.000000\n",
              "mean      26594.990947\n",
              "std       15798.226043\n",
              "min        3306.000000\n",
              "25%       17113.000000\n",
              "50%       23285.000000\n",
              "75%       31818.000000\n",
              "max      362496.000000\n",
              "Name: total_income, dtype: float64"
            ]
          },
          "execution_count": 111,
          "metadata": {},
          "output_type": "execute_result"
        }
      ],
      "source": [
        "credit_scoring_data['total_income'].describe()\n"
      ]
    },
    {
      "cell_type": "markdown",
      "metadata": {
        "id": "blU3snPvdvIR"
      },
      "source": [
        "**¿Existe una correlación entre tener hijos y pagar a tiempo?**"
      ]
    },
    {
      "cell_type": "code",
      "execution_count": null,
      "metadata": {
        "id": "GxepUBZfdvIR",
        "outputId": "9acf586b-7a97-4b4f-b98c-5dfc0aee6618"
      },
      "outputs": [
        {
          "name": "stdout",
          "output_type": "stream",
          "text": [
            "         debt                    \n",
            "children    0    1    2   3  4  5\n",
            "gender                           \n",
            "F         591  246  138  17  1  0\n",
            "M         470  199   64  10  3  0\n",
            "\n",
            "           debt       default_rate\n",
            "          count   sum             \n",
            "children                          \n",
            "0         13893  1061     0.076369\n",
            "1          4817   445     0.092381\n",
            "2          2121   202     0.095238\n",
            "3           329    27     0.082067\n",
            "4            40     4     0.100000\n",
            "5             9     0     0.000000\n"
          ]
        }
      ],
      "source": [
        "pivot_table_kids_vs_debt =  credit_scoring_data.pivot_table(index=['gender'], columns=('children'), values=['debt'], aggfunc='sum')\n",
        "\n",
        "pivot_table_kids_vs_debt\n",
        "\n",
        "debt_grouped = credit_scoring_data.groupby('children').agg({'debt' : ['count', 'sum']})\n",
        "\n",
        "debt_grouped['default_rate'] = debt_grouped['debt']['sum'] / debt_grouped['debt']['count'] \n",
        "\n",
        "print(pivot_table_kids_vs_debt)\n",
        "print()\n",
        "print(debt_grouped)"
      ]
    },
    {
      "cell_type": "markdown",
      "metadata": {
        "id": "1VReyJZndvIR"
      },
      "source": [
        "**Conclusión**\n",
        "\n",
        "Revisando las dos tablas podemos ver que no hay muchas variaciones en base al número de niños. Sin embargo, si se puede apreciar un leve aumento en la taza de incumplimiento de las personas con hijos (9,3%) versus las sin hijos (7,6%). "
      ]
    },
    {
      "cell_type": "markdown",
      "metadata": {
        "id": "C_qwpC_TdvIR"
      },
      "source": [
        "**¿Existe una correlación entre la situación familiar y el pago a tiempo?**"
      ]
    },
    {
      "cell_type": "code",
      "execution_count": null,
      "metadata": {
        "id": "zU-S80DddvIR",
        "outputId": "0019d02a-4be0-4790-e943-c5386fc3e168"
      },
      "outputs": [
        {
          "name": "stdout",
          "output_type": "stream",
          "text": [
            "                           debt                                    \n",
            "family_status civil_partnership divorced married unmarried widow_er\n",
            "gender                                                             \n",
            "F                           233       61     529       118       52\n",
            "M                           155       24     400       156       11\n",
            "\n",
            "                    debt      default_rate\n",
            "                   count  sum             \n",
            "family_status                             \n",
            "civil_partnership   4126  388     0.094038\n",
            "divorced            1193   85     0.071249\n",
            "married            12154  929     0.076436\n",
            "unmarried           2788  274     0.098278\n",
            "widow_er             948   63     0.066456\n"
          ]
        }
      ],
      "source": [
        "pivot_table_family_status_vs_debt =  credit_scoring_data.pivot_table(index=['gender'], columns=('family_status'), values=['debt'], aggfunc='sum')\n",
        "\n",
        "pivot_table_family_status_vs_debt\n",
        "\n",
        "debt_grouped_family = credit_scoring_data.groupby('family_status').agg({'debt' : ['count', 'sum']})\n",
        "\n",
        "debt_grouped_family['default_rate'] = debt_grouped_family['debt']['sum'] / debt_grouped_family['debt']['count'] \n",
        "\n",
        "print(pivot_table_family_status_vs_debt)\n",
        "print()\n",
        "print(debt_grouped_family)\n"
      ]
    },
    {
      "cell_type": "markdown",
      "metadata": {
        "id": "1E-ZBZW8dvIR"
      },
      "source": [
        "**Conclusión**\n",
        "\n",
        "En estás tablas podemos notar ciertas correlaciones interesantes. Por un lado, married y civil_partnership deberían tener porcentajes similares, sin embargo se ve una tasa notablemente mayor de deuda para civil_partnership. De hecho, la tasa se parece bastante a la de unmarried. Por otro lado, los divorciados se comportan ligeramente mejor que los casados. "
      ]
    },
    {
      "cell_type": "markdown",
      "metadata": {
        "id": "8hDSeNjkdvIS"
      },
      "source": [
        "**¿Existe una correlación entre el nivel de ingresos y el pago a tiempo?**"
      ]
    },
    {
      "cell_type": "code",
      "execution_count": null,
      "metadata": {
        "id": "x1DWS5G0dvIS",
        "outputId": "95237f91-7720-40cd-e1d9-472144ab60a5"
      },
      "outputs": [
        {
          "data": {
            "text/html": [
              "<div>\n",
              "<style scoped>\n",
              "    .dataframe tbody tr th:only-of-type {\n",
              "        vertical-align: middle;\n",
              "    }\n",
              "\n",
              "    .dataframe tbody tr th {\n",
              "        vertical-align: top;\n",
              "    }\n",
              "\n",
              "    .dataframe thead tr th {\n",
              "        text-align: left;\n",
              "    }\n",
              "\n",
              "    .dataframe thead tr:last-of-type th {\n",
              "        text-align: right;\n",
              "    }\n",
              "</style>\n",
              "<table border=\"1\" class=\"dataframe\">\n",
              "  <thead>\n",
              "    <tr>\n",
              "      <th></th>\n",
              "      <th colspan=\"2\" halign=\"left\">min</th>\n",
              "      <th colspan=\"2\" halign=\"left\">mean</th>\n",
              "      <th colspan=\"2\" halign=\"left\">max</th>\n",
              "    </tr>\n",
              "    <tr>\n",
              "      <th></th>\n",
              "      <th colspan=\"2\" halign=\"left\">total_income</th>\n",
              "      <th colspan=\"2\" halign=\"left\">total_income</th>\n",
              "      <th colspan=\"2\" halign=\"left\">total_income</th>\n",
              "    </tr>\n",
              "    <tr>\n",
              "      <th>debt</th>\n",
              "      <th>0</th>\n",
              "      <th>1</th>\n",
              "      <th>0</th>\n",
              "      <th>1</th>\n",
              "      <th>0</th>\n",
              "      <th>1</th>\n",
              "    </tr>\n",
              "    <tr>\n",
              "      <th>education</th>\n",
              "      <th></th>\n",
              "      <th></th>\n",
              "      <th></th>\n",
              "      <th></th>\n",
              "      <th></th>\n",
              "      <th></th>\n",
              "    </tr>\n",
              "  </thead>\n",
              "  <tbody>\n",
              "    <tr>\n",
              "      <th>bachelors_degree</th>\n",
              "      <td>5148.0</td>\n",
              "      <td>6689.0</td>\n",
              "      <td>32800.492420</td>\n",
              "      <td>31828.755396</td>\n",
              "      <td>362496.0</td>\n",
              "      <td>352136.0</td>\n",
              "    </tr>\n",
              "    <tr>\n",
              "      <th>graduate_degree</th>\n",
              "      <td>15800.0</td>\n",
              "      <td>NaN</td>\n",
              "      <td>27959.500000</td>\n",
              "      <td>NaN</td>\n",
              "      <td>42945.0</td>\n",
              "      <td>NaN</td>\n",
              "    </tr>\n",
              "    <tr>\n",
              "      <th>primary_education</th>\n",
              "      <td>4049.0</td>\n",
              "      <td>11755.0</td>\n",
              "      <td>21065.063745</td>\n",
              "      <td>22003.806452</td>\n",
              "      <td>78410.0</td>\n",
              "      <td>45488.0</td>\n",
              "    </tr>\n",
              "    <tr>\n",
              "      <th>secondary_education</th>\n",
              "      <td>3392.0</td>\n",
              "      <td>3306.0</td>\n",
              "      <td>24439.553569</td>\n",
              "      <td>24347.168135</td>\n",
              "      <td>276204.0</td>\n",
              "      <td>164943.0</td>\n",
              "    </tr>\n",
              "    <tr>\n",
              "      <th>some_college</th>\n",
              "      <td>5514.0</td>\n",
              "      <td>8154.0</td>\n",
              "      <td>28385.084320</td>\n",
              "      <td>34129.911765</td>\n",
              "      <td>153349.0</td>\n",
              "      <td>131588.0</td>\n",
              "    </tr>\n",
              "  </tbody>\n",
              "</table>\n",
              "</div>"
            ],
            "text/plain": [
              "                             min                   mean                \\\n",
              "                    total_income           total_income                 \n",
              "debt                           0        1             0             1   \n",
              "education                                                               \n",
              "bachelors_degree          5148.0   6689.0  32800.492420  31828.755396   \n",
              "graduate_degree          15800.0      NaN  27959.500000           NaN   \n",
              "primary_education         4049.0  11755.0  21065.063745  22003.806452   \n",
              "secondary_education       3392.0   3306.0  24439.553569  24347.168135   \n",
              "some_college              5514.0   8154.0  28385.084320  34129.911765   \n",
              "\n",
              "                             max            \n",
              "                    total_income            \n",
              "debt                           0         1  \n",
              "education                                   \n",
              "bachelors_degree        362496.0  352136.0  \n",
              "graduate_degree          42945.0       NaN  \n",
              "primary_education        78410.0   45488.0  \n",
              "secondary_education     276204.0  164943.0  \n",
              "some_college            153349.0  131588.0  "
            ]
          },
          "execution_count": 114,
          "metadata": {},
          "output_type": "execute_result"
        }
      ],
      "source": [
        "pivot_table_total_income_vs_debt =  credit_scoring_data.pivot_table(index=['education'], columns=('debt'), values=['total_income'], aggfunc=['min','mean','max'])\n",
        "\n",
        "pivot_table_total_income_vs_debt"
      ]
    },
    {
      "cell_type": "markdown",
      "metadata": {
        "id": "KHDlx87odvIS"
      },
      "source": [
        "En esta tabla, se puede apreciar que para los ingresos mínimos en cada categoría de educación los que tiene un sueldo un poco más alto, también son los que tienen más deuda (con la única excepción para secondary_education).\n",
        "Por otro lado para los valores maxímos se ve el comportamiento opuesto, para cada categoría de educación los valores máximos son los que no contraen deuda. \n",
        "Finalmente, en los valores intermedios, notamos que los bachelors_degree y secondary educatión se comportan como los máximos y los primary_education y some_college se comportan más como los mínimos.\n",
        "Esto nos indica que efectivamente hay una relación entre ingresos y pago a tiempo, pero deberiamos estudiarlo un poco más."
      ]
    },
    {
      "cell_type": "code",
      "execution_count": null,
      "metadata": {
        "id": "acRqED11dvIS"
      },
      "outputs": [],
      "source": [
        "def cat_income(income):\n",
        "    if income <= 20000:\n",
        "        return '0_to_20000'\n",
        "    if 20001 <= income <= 40000:\n",
        "        return '20000_to_40000'\n",
        "    if 40001 <= income <= 60000:\n",
        "        return '40000_to_60000'\n",
        "    if 60001 <= income <= 80000:\n",
        "        return '60000_to_80000'\n",
        "    if 80001 <= income <= 100000:\n",
        "        return '80000_to_100000'\n",
        "    if 100001 <= income <= 200000:\n",
        "        return '100000_to_200000'\n",
        "    if 200001 <= income:\n",
        "        return '200000_plus'        "
      ]
    },
    {
      "cell_type": "code",
      "execution_count": null,
      "metadata": {
        "id": "7IkrHhhedvIS",
        "outputId": "fe5ae8a0-c7a8-4443-8077-25a7c6f46fba"
      },
      "outputs": [
        {
          "name": "stdout",
          "output_type": "stream",
          "text": [
            "0_to_20000\n",
            "20000_to_40000\n",
            "100000_to_200000\n"
          ]
        }
      ],
      "source": [
        "print(cat_income(3503))\n",
        "print(cat_income(24462))\n",
        "print(cat_income(138685))"
      ]
    },
    {
      "cell_type": "code",
      "execution_count": null,
      "metadata": {
        "id": "bX-XchcVdvIS"
      },
      "outputs": [],
      "source": [
        "credit_scoring_data['income_category'] = credit_scoring_data['total_income'].apply(cat_income)"
      ]
    },
    {
      "cell_type": "code",
      "execution_count": null,
      "metadata": {
        "id": "__TDvV4pdvIS",
        "outputId": "81772f49-caa2-4af1-9ee6-177bc4d533d1"
      },
      "outputs": [
        {
          "data": {
            "text/html": [
              "<div>\n",
              "<style scoped>\n",
              "    .dataframe tbody tr th:only-of-type {\n",
              "        vertical-align: middle;\n",
              "    }\n",
              "\n",
              "    .dataframe tbody tr th {\n",
              "        vertical-align: top;\n",
              "    }\n",
              "\n",
              "    .dataframe thead tr th {\n",
              "        text-align: left;\n",
              "    }\n",
              "\n",
              "    .dataframe thead tr:last-of-type th {\n",
              "        text-align: right;\n",
              "    }\n",
              "</style>\n",
              "<table border=\"1\" class=\"dataframe\">\n",
              "  <thead>\n",
              "    <tr>\n",
              "      <th></th>\n",
              "      <th colspan=\"2\" halign=\"left\">total_income</th>\n",
              "    </tr>\n",
              "    <tr>\n",
              "      <th>debt</th>\n",
              "      <th>0</th>\n",
              "      <th>1</th>\n",
              "    </tr>\n",
              "    <tr>\n",
              "      <th>income_category</th>\n",
              "      <th></th>\n",
              "      <th></th>\n",
              "    </tr>\n",
              "  </thead>\n",
              "  <tbody>\n",
              "    <tr>\n",
              "      <th>0_to_20000</th>\n",
              "      <td>14504.042990</td>\n",
              "      <td>14866.666667</td>\n",
              "    </tr>\n",
              "    <tr>\n",
              "      <th>100000_to_200000</th>\n",
              "      <td>126086.963855</td>\n",
              "      <td>130188.600000</td>\n",
              "    </tr>\n",
              "    <tr>\n",
              "      <th>200000_plus</th>\n",
              "      <td>254560.400000</td>\n",
              "      <td>352136.000000</td>\n",
              "    </tr>\n",
              "    <tr>\n",
              "      <th>20000_to_40000</th>\n",
              "      <td>27426.325025</td>\n",
              "      <td>27080.388708</td>\n",
              "    </tr>\n",
              "    <tr>\n",
              "      <th>40000_to_60000</th>\n",
              "      <td>47137.113407</td>\n",
              "      <td>47851.641026</td>\n",
              "    </tr>\n",
              "    <tr>\n",
              "      <th>60000_to_80000</th>\n",
              "      <td>67846.798122</td>\n",
              "      <td>67644.000000</td>\n",
              "    </tr>\n",
              "    <tr>\n",
              "      <th>80000_to_100000</th>\n",
              "      <td>87753.504348</td>\n",
              "      <td>87870.000000</td>\n",
              "    </tr>\n",
              "  </tbody>\n",
              "</table>\n",
              "</div>"
            ],
            "text/plain": [
              "                   total_income               \n",
              "debt                          0              1\n",
              "income_category                               \n",
              "0_to_20000         14504.042990   14866.666667\n",
              "100000_to_200000  126086.963855  130188.600000\n",
              "200000_plus       254560.400000  352136.000000\n",
              "20000_to_40000     27426.325025   27080.388708\n",
              "40000_to_60000     47137.113407   47851.641026\n",
              "60000_to_80000     67846.798122   67644.000000\n",
              "80000_to_100000    87753.504348   87870.000000"
            ]
          },
          "execution_count": 118,
          "metadata": {},
          "output_type": "execute_result"
        }
      ],
      "source": [
        "pivot_table_total_income_cat_vs_debt =  credit_scoring_data.pivot_table(index=['income_category'], columns=('debt'), values=['total_income'], aggfunc='mean')\n",
        "\n",
        "pivot_table_total_income_cat_vs_debt"
      ]
    },
    {
      "cell_type": "code",
      "execution_count": null,
      "metadata": {
        "id": "Be1jcR3CdvIS",
        "outputId": "47887fe5-9e2d-4d63-c593-48fbb5abe2b4"
      },
      "outputs": [
        {
          "name": "stdout",
          "output_type": "stream",
          "text": [
            "                   debt      default_rate\n",
            "                  count  sum             \n",
            "income_category                          \n",
            "0_to_20000         7486  624     0.083356\n",
            "100000_to_200000     88    5     0.056818\n",
            "200000_plus          11    1     0.090909\n",
            "20000_to_40000    10911  921     0.084410\n",
            "40000_to_60000     2140  156     0.072897\n",
            "60000_to_80000      450   24     0.053333\n",
            "80000_to_100000     123    8     0.065041\n"
          ]
        }
      ],
      "source": [
        "debt_grouped_income_category = credit_scoring_data.groupby('income_category').agg({'debt' : ['count', 'sum']})\n",
        "\n",
        "debt_grouped_income_category['default_rate'] = debt_grouped_income_category['debt']['sum'] / debt_grouped_income_category['debt']['count'] \n",
        "\n",
        "print(debt_grouped_income_category)\n"
      ]
    },
    {
      "cell_type": "markdown",
      "metadata": {
        "id": "vZJI69N6dvIS"
      },
      "source": [
        "Esta tabla nos presenta los ingresos agrupados en ciertas categorías y ya nos muestra algunas cosas interesantes. La mayor tasa de deudas la tiene los sueldos mayor a 200.000 - ojo que en ese rango tenemos 11 valores y una persona con deuda-. Esto podría ser entonces anecdotico. Luego, se ve que los ingresos entre 0 a 20.000 y de 20.000 a 40.000 son los que tienen las mayores tasas de deudas. Las tasas comienzan a bajar a mayores ingresos siendo la menor (solo 5,33%) la taza de 60.000 a 80.000. \n",
        "\n",
        "Un tema no menor, es que la tasa de 20.000 a 40.000 que es una de las que tiene las mayores tasas, también es la que tiene la mayor cantidad de datos ya que corresponde a los valores cercanos a la mediana. Esta se podría dividir en sub_categorías para analizarla más a fondo, o ver en un gráfico como se comportan los valores.\n",
        "\n",
        "Pero en todo caso, si queda comprobado que el ingreso tiene una correlación con la deuda."
      ]
    },
    {
      "cell_type": "markdown",
      "metadata": {
        "id": "hnvqFZoAdvIS"
      },
      "source": [
        "**¿Cómo afecta el propósito del crédito a la tasa de incumplimiento?**"
      ]
    },
    {
      "cell_type": "code",
      "execution_count": null,
      "metadata": {
        "id": "FoHObp_ZdvIT",
        "outputId": "b51e5686-501d-4513-f9f0-94b81e36233b"
      },
      "outputs": [
        {
          "data": {
            "text/html": [
              "<div>\n",
              "<style scoped>\n",
              "    .dataframe tbody tr th:only-of-type {\n",
              "        vertical-align: middle;\n",
              "    }\n",
              "\n",
              "    .dataframe tbody tr th {\n",
              "        vertical-align: top;\n",
              "    }\n",
              "\n",
              "    .dataframe thead tr th {\n",
              "        text-align: left;\n",
              "    }\n",
              "\n",
              "    .dataframe thead tr:last-of-type th {\n",
              "        text-align: right;\n",
              "    }\n",
              "</style>\n",
              "<table border=\"1\" class=\"dataframe\">\n",
              "  <thead>\n",
              "    <tr>\n",
              "      <th></th>\n",
              "      <th>sum</th>\n",
              "      <th>count</th>\n",
              "    </tr>\n",
              "    <tr>\n",
              "      <th></th>\n",
              "      <th>debt</th>\n",
              "      <th>debt</th>\n",
              "    </tr>\n",
              "    <tr>\n",
              "      <th>purpose</th>\n",
              "      <th></th>\n",
              "      <th></th>\n",
              "    </tr>\n",
              "  </thead>\n",
              "  <tbody>\n",
              "    <tr>\n",
              "      <th>car</th>\n",
              "      <td>402</td>\n",
              "      <td>4272</td>\n",
              "    </tr>\n",
              "    <tr>\n",
              "      <th>comercial_real_estate</th>\n",
              "      <td>476</td>\n",
              "      <td>6323</td>\n",
              "    </tr>\n",
              "    <tr>\n",
              "      <th>education</th>\n",
              "      <td>370</td>\n",
              "      <td>3964</td>\n",
              "    </tr>\n",
              "    <tr>\n",
              "      <th>property_buying</th>\n",
              "      <td>305</td>\n",
              "      <td>4344</td>\n",
              "    </tr>\n",
              "    <tr>\n",
              "      <th>wedding</th>\n",
              "      <td>186</td>\n",
              "      <td>2306</td>\n",
              "    </tr>\n",
              "  </tbody>\n",
              "</table>\n",
              "</div>"
            ],
            "text/plain": [
              "                       sum count\n",
              "                      debt  debt\n",
              "purpose                         \n",
              "car                    402  4272\n",
              "comercial_real_estate  476  6323\n",
              "education              370  3964\n",
              "property_buying        305  4344\n",
              "wedding                186  2306"
            ]
          },
          "execution_count": 120,
          "metadata": {},
          "output_type": "execute_result"
        }
      ],
      "source": [
        "pivot_table_total_purpose_vs_debt =  credit_scoring_data.pivot_table(index=['purpose'], values=['debt'], aggfunc=['sum', 'count'])\n",
        "\n",
        "pivot_table_total_purpose_vs_debt\n"
      ]
    },
    {
      "cell_type": "code",
      "execution_count": null,
      "metadata": {
        "id": "XYJoXDQzdvIT",
        "outputId": "4dfc2b31-0e3e-41b7-aa48-71e68ba53180"
      },
      "outputs": [
        {
          "name": "stdout",
          "output_type": "stream",
          "text": [
            "Tasa de incumplimiento para la compra de un auto:\n",
            "debt    0.094101\n",
            "Name: car, dtype: float64\n",
            "\n",
            "Tasa de incumplimiento para la compra de una propiedad comercial:\n",
            "debt    0.075281\n",
            "Name: comercial_real_estate, dtype: float64\n",
            "\n",
            "Tasa de incumplimiento para invertir en su educación:\n",
            "debt    0.09334\n",
            "Name: education, dtype: float64\n",
            "\n",
            "Tasa de incumplimiento para la compra de una casa:\n",
            "debt    0.070212\n",
            "Name: property_buying, dtype: float64\n",
            "\n",
            "Tasa de incumplimiento para gastos de boda:\n",
            "debt    0.080659\n",
            "Name: wedding, dtype: float64\n"
          ]
        }
      ],
      "source": [
        "pivot_table_total_purpose_vs_debt_car_range = pivot_table_total_purpose_vs_debt.loc['car']['sum'] / pivot_table_total_purpose_vs_debt.loc['car']['count']\n",
        "pivot_table_total_purpose_vs_debt_comercial_range = pivot_table_total_purpose_vs_debt.loc['comercial_real_estate']['sum'] / pivot_table_total_purpose_vs_debt.loc['comercial_real_estate']['count']\n",
        "pivot_table_total_purpose_vs_debt_education_range = pivot_table_total_purpose_vs_debt.loc['education']['sum'] / pivot_table_total_purpose_vs_debt.loc['education']['count']\n",
        "pivot_table_total_purpose_vs_debt_house_range = pivot_table_total_purpose_vs_debt.loc['property_buying']['sum'] / pivot_table_total_purpose_vs_debt.loc['property_buying']['count']\n",
        "pivot_table_total_purpose_vs_debt_wedding_range = pivot_table_total_purpose_vs_debt.loc['wedding']['sum'] / pivot_table_total_purpose_vs_debt.loc['wedding']['count']\n",
        "\n",
        "\n",
        "print('Tasa de incumplimiento para la compra de un auto:')\n",
        "print(pivot_table_total_purpose_vs_debt_car_range)\n",
        "print()\n",
        "print('Tasa de incumplimiento para la compra de una propiedad comercial:')\n",
        "print(pivot_table_total_purpose_vs_debt_comercial_range)\n",
        "print()\n",
        "print('Tasa de incumplimiento para invertir en su educación:')\n",
        "print(pivot_table_total_purpose_vs_debt_education_range)\n",
        "print()\n",
        "print('Tasa de incumplimiento para la compra de una casa:')\n",
        "print(pivot_table_total_purpose_vs_debt_house_range)\n",
        "print()\n",
        "print('Tasa de incumplimiento para gastos de boda:')\n",
        "print(pivot_table_total_purpose_vs_debt_wedding_range)"
      ]
    },
    {
      "cell_type": "markdown",
      "metadata": {
        "id": "o5znkHL7dvIT"
      },
      "source": [
        "**Conclusión**\n",
        "\n",
        "Con respecto a la tabla anterior, podemos ver que tanto la compra de un auto como invertir en educación tienen las tasas más altas de deuda, les sigue las bodas y finalmente las compras de propiedades sea para comercial o casa propia. La menor tasa la tiene la compra de casa propia."
      ]
    },
    {
      "cell_type": "markdown",
      "metadata": {
        "id": "O9rtQeCndvIT"
      },
      "source": [
        "# Conclusión general \n",
        "\n",
        "Al principio de esta investigación se nos entregó un dataframe bastante grande con 21.525 líneas y 12 columnas. El tamaño es perfecto para el estudio, pero la base de datos contaba con un número muy grande de datos ausentes (19.351) en las dos columnas más relevantes para nuestro estudio (days_employed y total_income). El resto de las columnas contaba con ligeros problemas que iremos enumerando a continuación:\n",
        "* La columna 'education' tenía números duplicados debidos a atributos escritos en mayuscula o minuscula, además algunos de ellos tenían comillas o espacios que fueron corregidos.\n",
        "* La columna 'children' contaba con dos valores extraños (-1 hijos y 20 hijos), se revisaron los datos y se concluyó que esto era probablemente errores de tipeo con lo cual se corrigieron a 1 hijo y 2 hijos respectivamente.\n",
        "* La columna 'days_employed' contaba con 3 problemas bastante grandes. Primero tenía valores negativos (números de días) y valores positivos extremadamente altos. Estos valores positivos se concluyó que correspondían a valores incorrectos y se transformaron en valores ausentes. Los valores ausentes se trataron en base a la agrupación por edad sacando la mediana de los días. Además los días venían ingresados en el typo float (con comas). Se corrigieron los valores ausentes, se pasaron los valores negativos a positivos y los valores typo float se pasaron a valores enteros.\n",
        "* En la columna 'dob_years' encontramos varios valores en cero estos fueron corregidos en base al typo de ingreso ya que la mayoría correspondía a personas retiradas y habías unos pocos empleados y solo dos desempleados.\n",
        "* La columna 'family_status' no tenía mayores complicaciones, sin embargo se corrigieron los nombres para facilitar la visualización y creación de tablas.\n",
        "* La columna 'gender' tenía un valor categorizado como XNA se cambió al genero fememino ya que la mayoría de los datos corresponden a ese genero. Se comprobó que el cambiar este dato no causaba ninguna implicancia en los porcentajes.\n",
        "* En la columna 'income_type' se redujo de 8 a 5 atributos ya que muchos de ellos eran valores unicos o redundantes.\n",
        "* En la columna purpose, habían demasiados atributos, se redujieron a 5 categorías para facilitar la lectura de datos.\n",
        "* Finalmente, a la columna 'total_income' se le corrigieron los avlores ausentes tomando en consideración las medianas de los ingresos por grupo etareo y sexo.\n",
        "\n",
        "Además se crearon las columnas 'age_goup' que agrupa en base a la edad y la columna 'income_category' que agrupa por valores de ingresos.\n",
        "\n",
        "Con todos los datos trabajados se encontraron 316 valores duplicados que se limpiaron.\n",
        "\n",
        "Habiendo realizado todo esto, obtuvimos una tabla completa sin valores ausentes con 21.209 líneas y 14 columnas.\n",
        "\n",
        "\n",
        "\n",
        "De esta tabla, pudimos descubrir que que efectivamente hay una diferencia de 1.7 puntos porcentuales entre las tasas de personas con hijos versus las sin hijos. Las personas con hijos tienden a tener más deudas.\n",
        "\n",
        "Por otro lado, encontramos que las personas con unión civil tienden a tener más deudas que las personas casadas. De hecho, las personas con unión civil tienen números muy similares a los de las personas solteras. Otro punto interesante, fue comprobar que las personas separadas se comportan ligeramente mejor que las casadas.\n",
        "\n",
        "Con respecto a los ingresos, pudimos comprobar que a menores ingresos mayor tasa de deudas.\n",
        "\n",
        "Finalmente, la razón para adeudarse también tiene correlaciones interesantes, la compra de automoviles y la educación tienen las tasas más altas, mientras que la compra de casa propia es la menor, sin embargo las variaciones entre el valor más alto y el más bajo no superan los 2 puntos porcentuales.\n"
      ]
    }
  ],
  "metadata": {
    "ExecuteTimeLog": [
      {
        "duration": 2741,
        "start_time": "2021-10-21T01:08:49.480Z"
      },
      {
        "duration": 52,
        "start_time": "2021-10-21T01:08:53.315Z"
      },
      {
        "duration": 49,
        "start_time": "2021-10-21T01:08:57.432Z"
      },
      {
        "duration": 70,
        "start_time": "2021-10-21T01:09:07.706Z"
      },
      {
        "duration": 385,
        "start_time": "2022-08-18T20:23:07.090Z"
      },
      {
        "duration": 220,
        "start_time": "2022-08-18T20:26:46.391Z"
      },
      {
        "duration": 50,
        "start_time": "2022-08-18T20:27:05.547Z"
      },
      {
        "duration": 13,
        "start_time": "2022-08-18T20:28:32.255Z"
      },
      {
        "duration": 12,
        "start_time": "2022-08-18T20:31:01.394Z"
      },
      {
        "duration": 2,
        "start_time": "2022-08-18T20:31:02.382Z"
      },
      {
        "duration": 15,
        "start_time": "2022-08-18T20:31:29.304Z"
      },
      {
        "duration": 43,
        "start_time": "2022-08-18T23:49:15.934Z"
      },
      {
        "duration": 594,
        "start_time": "2022-08-18T23:49:22.397Z"
      },
      {
        "duration": 27,
        "start_time": "2022-08-18T23:49:24.088Z"
      },
      {
        "duration": 14,
        "start_time": "2022-08-18T23:49:25.880Z"
      },
      {
        "duration": 15,
        "start_time": "2022-08-18T23:54:37.896Z"
      },
      {
        "duration": 4,
        "start_time": "2022-08-19T00:31:19.594Z"
      },
      {
        "duration": 11,
        "start_time": "2022-08-19T00:36:06.148Z"
      },
      {
        "duration": 13,
        "start_time": "2022-08-19T00:36:26.616Z"
      },
      {
        "duration": 17,
        "start_time": "2022-08-19T00:37:15.903Z"
      },
      {
        "duration": 44,
        "start_time": "2022-08-19T13:25:35.038Z"
      },
      {
        "duration": 706,
        "start_time": "2022-08-19T13:25:42.181Z"
      },
      {
        "duration": 37,
        "start_time": "2022-08-19T13:25:43.409Z"
      },
      {
        "duration": 4,
        "start_time": "2022-08-19T13:26:17.605Z"
      },
      {
        "duration": 13,
        "start_time": "2022-08-19T13:26:18.759Z"
      },
      {
        "duration": 13,
        "start_time": "2022-08-19T14:18:17.929Z"
      },
      {
        "duration": 13,
        "start_time": "2022-08-19T14:18:57.982Z"
      },
      {
        "duration": 16,
        "start_time": "2022-08-19T14:29:49.071Z"
      },
      {
        "duration": 3,
        "start_time": "2022-08-19T14:30:22.531Z"
      },
      {
        "duration": 27,
        "start_time": "2022-08-19T14:32:19.259Z"
      },
      {
        "duration": 8,
        "start_time": "2022-08-19T14:32:40.016Z"
      },
      {
        "duration": 7,
        "start_time": "2022-08-19T14:45:35.361Z"
      },
      {
        "duration": 204,
        "start_time": "2022-08-19T14:46:11.495Z"
      },
      {
        "duration": 17,
        "start_time": "2022-08-19T14:47:17.540Z"
      },
      {
        "duration": 7,
        "start_time": "2022-08-19T14:48:45.968Z"
      },
      {
        "duration": 10,
        "start_time": "2022-08-19T14:49:06.366Z"
      },
      {
        "duration": 11,
        "start_time": "2022-08-19T14:49:21.703Z"
      },
      {
        "duration": 5,
        "start_time": "2022-08-19T14:50:40.525Z"
      },
      {
        "duration": 6,
        "start_time": "2022-08-19T14:56:59.307Z"
      },
      {
        "duration": 7,
        "start_time": "2022-08-19T14:57:07.948Z"
      },
      {
        "duration": 7,
        "start_time": "2022-08-19T14:57:36.754Z"
      },
      {
        "duration": 7,
        "start_time": "2022-08-19T14:58:36.613Z"
      },
      {
        "duration": 29,
        "start_time": "2022-08-19T15:04:01.482Z"
      },
      {
        "duration": 101,
        "start_time": "2022-08-19T15:06:33.200Z"
      },
      {
        "duration": 160,
        "start_time": "2022-08-19T15:06:43.014Z"
      },
      {
        "duration": 11,
        "start_time": "2022-08-19T15:07:11.454Z"
      },
      {
        "duration": 6,
        "start_time": "2022-08-19T15:07:43.244Z"
      },
      {
        "duration": 3,
        "start_time": "2022-08-19T15:08:01.903Z"
      },
      {
        "duration": 44,
        "start_time": "2022-08-19T18:45:43.810Z"
      },
      {
        "duration": 548,
        "start_time": "2022-08-19T18:45:56.494Z"
      },
      {
        "duration": 9,
        "start_time": "2022-08-19T18:45:57.045Z"
      },
      {
        "duration": 31,
        "start_time": "2022-08-19T18:45:57.056Z"
      },
      {
        "duration": 16,
        "start_time": "2022-08-19T18:45:57.088Z"
      },
      {
        "duration": 6,
        "start_time": "2022-08-19T18:45:57.107Z"
      },
      {
        "duration": 9,
        "start_time": "2022-08-19T18:45:57.114Z"
      },
      {
        "duration": 6,
        "start_time": "2022-08-19T18:45:57.125Z"
      },
      {
        "duration": 8,
        "start_time": "2022-08-19T18:45:57.133Z"
      },
      {
        "duration": 22,
        "start_time": "2022-08-19T18:45:57.142Z"
      },
      {
        "duration": 11,
        "start_time": "2022-08-19T18:45:57.166Z"
      },
      {
        "duration": 5,
        "start_time": "2022-08-19T18:45:57.179Z"
      },
      {
        "duration": 4,
        "start_time": "2022-08-19T18:45:57.186Z"
      },
      {
        "duration": 5,
        "start_time": "2022-08-19T18:45:57.192Z"
      },
      {
        "duration": 6,
        "start_time": "2022-08-19T18:45:57.201Z"
      },
      {
        "duration": 7,
        "start_time": "2022-08-19T18:45:57.208Z"
      },
      {
        "duration": 45,
        "start_time": "2022-08-19T18:45:57.216Z"
      },
      {
        "duration": 8,
        "start_time": "2022-08-19T18:45:57.263Z"
      },
      {
        "duration": 10,
        "start_time": "2022-08-19T18:45:57.273Z"
      },
      {
        "duration": 5,
        "start_time": "2022-08-19T18:45:57.285Z"
      },
      {
        "duration": 5,
        "start_time": "2022-08-19T18:45:57.291Z"
      },
      {
        "duration": 11,
        "start_time": "2022-08-19T18:45:57.298Z"
      },
      {
        "duration": 6,
        "start_time": "2022-08-19T18:45:57.310Z"
      },
      {
        "duration": 4,
        "start_time": "2022-08-19T18:45:57.317Z"
      },
      {
        "duration": 13,
        "start_time": "2022-08-19T18:45:57.323Z"
      },
      {
        "duration": 12,
        "start_time": "2022-08-19T18:45:57.338Z"
      },
      {
        "duration": 6,
        "start_time": "2022-08-19T18:45:57.351Z"
      },
      {
        "duration": 5,
        "start_time": "2022-08-19T18:45:57.359Z"
      },
      {
        "duration": 4,
        "start_time": "2022-08-19T18:45:57.366Z"
      },
      {
        "duration": 5,
        "start_time": "2022-08-19T18:45:57.371Z"
      },
      {
        "duration": 9,
        "start_time": "2022-08-19T18:45:57.378Z"
      },
      {
        "duration": 5,
        "start_time": "2022-08-19T18:45:57.389Z"
      },
      {
        "duration": 6,
        "start_time": "2022-08-19T18:45:57.395Z"
      },
      {
        "duration": 9,
        "start_time": "2022-08-19T18:45:57.402Z"
      },
      {
        "duration": 7,
        "start_time": "2022-08-19T18:45:57.412Z"
      },
      {
        "duration": 35,
        "start_time": "2022-08-19T18:45:57.421Z"
      },
      {
        "duration": 13,
        "start_time": "2022-08-19T18:45:57.458Z"
      },
      {
        "duration": 5,
        "start_time": "2022-08-19T18:45:57.473Z"
      },
      {
        "duration": 33,
        "start_time": "2022-08-19T18:45:57.480Z"
      },
      {
        "duration": 5,
        "start_time": "2022-08-19T18:45:57.515Z"
      },
      {
        "duration": 12,
        "start_time": "2022-08-19T18:45:57.522Z"
      },
      {
        "duration": 4,
        "start_time": "2022-08-19T18:45:57.539Z"
      },
      {
        "duration": 11,
        "start_time": "2022-08-19T18:45:57.545Z"
      },
      {
        "duration": 8,
        "start_time": "2022-08-19T18:45:57.557Z"
      },
      {
        "duration": 26,
        "start_time": "2022-08-19T18:45:57.567Z"
      },
      {
        "duration": 10,
        "start_time": "2022-08-19T18:45:57.595Z"
      },
      {
        "duration": 5,
        "start_time": "2022-08-19T18:45:57.607Z"
      },
      {
        "duration": 5,
        "start_time": "2022-08-19T18:45:57.613Z"
      },
      {
        "duration": 4,
        "start_time": "2022-08-19T18:45:57.620Z"
      },
      {
        "duration": 14,
        "start_time": "2022-08-19T18:45:57.625Z"
      },
      {
        "duration": 6,
        "start_time": "2022-08-19T18:45:57.641Z"
      },
      {
        "duration": 7,
        "start_time": "2022-08-19T18:45:57.649Z"
      },
      {
        "duration": 14,
        "start_time": "2022-08-19T18:45:57.657Z"
      },
      {
        "duration": 17,
        "start_time": "2022-08-19T18:45:57.673Z"
      },
      {
        "duration": 13,
        "start_time": "2022-08-19T18:45:57.691Z"
      },
      {
        "duration": 5,
        "start_time": "2022-08-19T18:45:57.705Z"
      },
      {
        "duration": 8,
        "start_time": "2022-08-19T18:45:57.712Z"
      },
      {
        "duration": 5,
        "start_time": "2022-08-19T18:45:57.722Z"
      },
      {
        "duration": 8,
        "start_time": "2022-08-19T18:45:57.728Z"
      },
      {
        "duration": 11,
        "start_time": "2022-08-19T18:45:57.737Z"
      },
      {
        "duration": 5,
        "start_time": "2022-08-19T18:45:57.750Z"
      },
      {
        "duration": 10,
        "start_time": "2022-08-19T18:45:57.756Z"
      },
      {
        "duration": 10,
        "start_time": "2022-08-19T18:45:57.768Z"
      },
      {
        "duration": 12,
        "start_time": "2022-08-19T18:45:57.780Z"
      },
      {
        "duration": 8,
        "start_time": "2022-08-19T18:45:57.794Z"
      },
      {
        "duration": 7,
        "start_time": "2022-08-19T18:45:57.804Z"
      },
      {
        "duration": 18,
        "start_time": "2022-08-19T18:45:57.812Z"
      },
      {
        "duration": 12,
        "start_time": "2022-08-19T18:45:57.832Z"
      },
      {
        "duration": 5,
        "start_time": "2022-08-19T18:45:57.846Z"
      },
      {
        "duration": 9,
        "start_time": "2022-08-19T18:45:57.853Z"
      },
      {
        "duration": 9,
        "start_time": "2022-08-19T18:45:57.863Z"
      },
      {
        "duration": 5,
        "start_time": "2022-08-19T18:45:57.874Z"
      },
      {
        "duration": 7,
        "start_time": "2022-08-19T18:46:30.254Z"
      },
      {
        "duration": 31,
        "start_time": "2022-08-19T18:46:46.388Z"
      },
      {
        "duration": 6,
        "start_time": "2022-08-19T18:47:03.601Z"
      },
      {
        "duration": 24,
        "start_time": "2022-08-19T18:47:10.083Z"
      },
      {
        "duration": 9,
        "start_time": "2022-08-19T18:47:29.661Z"
      },
      {
        "duration": 7,
        "start_time": "2022-08-19T18:48:33.796Z"
      },
      {
        "duration": 1444,
        "start_time": "2022-08-19T19:02:40.229Z"
      },
      {
        "duration": 15,
        "start_time": "2022-08-19T19:03:21.339Z"
      },
      {
        "duration": 16,
        "start_time": "2022-08-19T19:03:28.008Z"
      },
      {
        "duration": 31,
        "start_time": "2022-08-19T19:03:47.621Z"
      },
      {
        "duration": 22,
        "start_time": "2022-08-19T19:04:39.915Z"
      },
      {
        "duration": 30,
        "start_time": "2022-08-19T19:04:48.153Z"
      },
      {
        "duration": 3,
        "start_time": "2022-08-19T19:05:36.053Z"
      },
      {
        "duration": 39,
        "start_time": "2022-08-19T19:05:50.029Z"
      },
      {
        "duration": 78,
        "start_time": "2022-08-19T19:11:04.398Z"
      },
      {
        "duration": 31,
        "start_time": "2022-08-19T19:11:15.453Z"
      },
      {
        "duration": 1336,
        "start_time": "2022-08-19T19:11:38.890Z"
      },
      {
        "duration": 30,
        "start_time": "2022-08-19T19:11:46.151Z"
      },
      {
        "duration": 14,
        "start_time": "2022-08-19T19:12:56.813Z"
      },
      {
        "duration": 11,
        "start_time": "2022-08-19T19:35:20.871Z"
      },
      {
        "duration": 11,
        "start_time": "2022-08-19T22:06:24.621Z"
      },
      {
        "duration": 9,
        "start_time": "2022-08-19T22:08:45.379Z"
      },
      {
        "duration": 12,
        "start_time": "2022-08-19T22:10:08.834Z"
      },
      {
        "duration": 16,
        "start_time": "2022-08-19T22:12:33.681Z"
      },
      {
        "duration": 18,
        "start_time": "2022-08-19T22:13:03.525Z"
      },
      {
        "duration": 9,
        "start_time": "2022-08-19T22:34:20.596Z"
      },
      {
        "duration": 9,
        "start_time": "2022-08-19T22:34:31.459Z"
      },
      {
        "duration": 13,
        "start_time": "2022-08-19T22:34:40.680Z"
      },
      {
        "duration": 1134,
        "start_time": "2022-08-19T23:03:30.024Z"
      },
      {
        "duration": 79,
        "start_time": "2022-08-19T23:04:37.219Z"
      },
      {
        "duration": 185,
        "start_time": "2022-08-19T23:05:27.562Z"
      },
      {
        "duration": 76,
        "start_time": "2022-08-19T23:05:34.270Z"
      },
      {
        "duration": 77,
        "start_time": "2022-08-19T23:06:20.621Z"
      },
      {
        "duration": 1093,
        "start_time": "2022-08-19T23:07:12.121Z"
      },
      {
        "duration": 82,
        "start_time": "2022-08-19T23:07:46.426Z"
      },
      {
        "duration": 71,
        "start_time": "2022-08-19T23:10:06.727Z"
      },
      {
        "duration": 75,
        "start_time": "2022-08-19T23:10:40.058Z"
      },
      {
        "duration": 844,
        "start_time": "2022-08-19T23:11:24.922Z"
      },
      {
        "duration": 928,
        "start_time": "2022-08-19T23:12:06.379Z"
      },
      {
        "duration": 71,
        "start_time": "2022-08-19T23:12:14.463Z"
      },
      {
        "duration": 71,
        "start_time": "2022-08-19T23:12:34.262Z"
      },
      {
        "duration": 83,
        "start_time": "2022-08-19T23:14:27.837Z"
      },
      {
        "duration": 595,
        "start_time": "2022-08-21T14:57:48.972Z"
      },
      {
        "duration": 9,
        "start_time": "2022-08-21T14:57:49.568Z"
      },
      {
        "duration": 17,
        "start_time": "2022-08-21T14:57:49.578Z"
      },
      {
        "duration": 14,
        "start_time": "2022-08-21T14:57:49.597Z"
      },
      {
        "duration": 13,
        "start_time": "2022-08-21T14:57:49.613Z"
      },
      {
        "duration": 66,
        "start_time": "2022-08-21T14:57:49.628Z"
      },
      {
        "duration": 64,
        "start_time": "2022-08-21T15:00:09.295Z"
      },
      {
        "duration": 7,
        "start_time": "2022-08-21T15:00:53.573Z"
      },
      {
        "duration": 12,
        "start_time": "2022-08-21T15:01:15.230Z"
      },
      {
        "duration": 6,
        "start_time": "2022-08-21T15:01:34.330Z"
      },
      {
        "duration": 10,
        "start_time": "2022-08-21T15:01:54.119Z"
      },
      {
        "duration": 4,
        "start_time": "2022-08-21T15:02:28.273Z"
      },
      {
        "duration": 4,
        "start_time": "2022-08-21T15:05:20.058Z"
      },
      {
        "duration": 5,
        "start_time": "2022-08-21T15:05:46.316Z"
      },
      {
        "duration": 9,
        "start_time": "2022-08-21T15:06:14.150Z"
      },
      {
        "duration": 4,
        "start_time": "2022-08-21T15:06:25.307Z"
      },
      {
        "duration": 11,
        "start_time": "2022-08-21T15:32:23.846Z"
      },
      {
        "duration": 4,
        "start_time": "2022-08-21T15:32:35.221Z"
      },
      {
        "duration": 7,
        "start_time": "2022-08-21T15:33:49.811Z"
      },
      {
        "duration": 12,
        "start_time": "2022-08-21T15:36:05.041Z"
      },
      {
        "duration": 18,
        "start_time": "2022-08-21T15:37:54.812Z"
      },
      {
        "duration": 22,
        "start_time": "2022-08-21T15:39:12.640Z"
      },
      {
        "duration": 28,
        "start_time": "2022-08-21T15:39:40.968Z"
      },
      {
        "duration": 18,
        "start_time": "2022-08-21T16:02:02.022Z"
      },
      {
        "duration": 6,
        "start_time": "2022-08-21T16:09:47.916Z"
      },
      {
        "duration": 18,
        "start_time": "2022-08-21T16:10:06.974Z"
      },
      {
        "duration": 6,
        "start_time": "2022-08-21T16:11:53.014Z"
      },
      {
        "duration": 5,
        "start_time": "2022-08-21T16:12:07.120Z"
      },
      {
        "duration": 10,
        "start_time": "2022-08-21T16:17:03.961Z"
      },
      {
        "duration": 7,
        "start_time": "2022-08-21T16:17:31.117Z"
      },
      {
        "duration": 8,
        "start_time": "2022-08-21T16:18:07.900Z"
      },
      {
        "duration": 8,
        "start_time": "2022-08-21T16:19:23.898Z"
      },
      {
        "duration": 7,
        "start_time": "2022-08-21T16:19:29.264Z"
      },
      {
        "duration": 745,
        "start_time": "2022-08-22T13:29:37.725Z"
      },
      {
        "duration": 8,
        "start_time": "2022-08-22T13:29:38.472Z"
      },
      {
        "duration": 34,
        "start_time": "2022-08-22T13:29:38.481Z"
      },
      {
        "duration": 13,
        "start_time": "2022-08-22T13:29:38.517Z"
      },
      {
        "duration": 13,
        "start_time": "2022-08-22T13:29:38.532Z"
      },
      {
        "duration": 51,
        "start_time": "2022-08-22T13:29:38.546Z"
      },
      {
        "duration": 10,
        "start_time": "2022-08-22T13:29:38.603Z"
      },
      {
        "duration": 22,
        "start_time": "2022-08-22T13:29:38.615Z"
      },
      {
        "duration": 2,
        "start_time": "2022-08-22T13:29:38.639Z"
      },
      {
        "duration": 7,
        "start_time": "2022-08-22T13:29:38.643Z"
      },
      {
        "duration": 5,
        "start_time": "2022-08-22T13:29:38.652Z"
      },
      {
        "duration": 8,
        "start_time": "2022-08-22T13:29:38.659Z"
      },
      {
        "duration": 19,
        "start_time": "2022-08-22T13:29:38.669Z"
      },
      {
        "duration": 6,
        "start_time": "2022-08-22T13:29:38.694Z"
      },
      {
        "duration": 17,
        "start_time": "2022-08-22T13:29:38.702Z"
      },
      {
        "duration": 9,
        "start_time": "2022-08-22T13:29:38.720Z"
      },
      {
        "duration": 6,
        "start_time": "2022-08-22T13:29:38.730Z"
      },
      {
        "duration": 5,
        "start_time": "2022-08-22T13:29:38.737Z"
      },
      {
        "duration": 4,
        "start_time": "2022-08-22T13:29:38.743Z"
      },
      {
        "duration": 5,
        "start_time": "2022-08-22T13:29:38.748Z"
      },
      {
        "duration": 6,
        "start_time": "2022-08-22T13:29:38.754Z"
      },
      {
        "duration": 9,
        "start_time": "2022-08-22T13:29:38.761Z"
      },
      {
        "duration": 11,
        "start_time": "2022-08-22T13:29:38.771Z"
      },
      {
        "duration": 29,
        "start_time": "2022-08-22T13:29:38.783Z"
      },
      {
        "duration": 13,
        "start_time": "2022-08-22T13:29:38.814Z"
      },
      {
        "duration": 5,
        "start_time": "2022-08-22T13:29:38.828Z"
      },
      {
        "duration": 5,
        "start_time": "2022-08-22T13:29:38.834Z"
      },
      {
        "duration": 4,
        "start_time": "2022-08-22T13:29:38.840Z"
      },
      {
        "duration": 5,
        "start_time": "2022-08-22T13:29:38.845Z"
      },
      {
        "duration": 4,
        "start_time": "2022-08-22T13:29:38.852Z"
      },
      {
        "duration": 7,
        "start_time": "2022-08-22T13:29:38.857Z"
      },
      {
        "duration": 8,
        "start_time": "2022-08-22T13:29:38.865Z"
      },
      {
        "duration": 4,
        "start_time": "2022-08-22T13:29:38.874Z"
      },
      {
        "duration": 12,
        "start_time": "2022-08-22T13:29:38.879Z"
      },
      {
        "duration": 15,
        "start_time": "2022-08-22T13:29:38.893Z"
      },
      {
        "duration": 5,
        "start_time": "2022-08-22T13:29:38.910Z"
      },
      {
        "duration": 7,
        "start_time": "2022-08-22T13:29:38.918Z"
      },
      {
        "duration": 6,
        "start_time": "2022-08-22T13:29:38.926Z"
      },
      {
        "duration": 4,
        "start_time": "2022-08-22T13:29:38.933Z"
      },
      {
        "duration": 4,
        "start_time": "2022-08-22T13:29:38.939Z"
      },
      {
        "duration": 3,
        "start_time": "2022-08-22T13:29:38.947Z"
      },
      {
        "duration": 4,
        "start_time": "2022-08-22T13:29:38.951Z"
      },
      {
        "duration": 4,
        "start_time": "2022-08-22T13:29:38.957Z"
      },
      {
        "duration": 6,
        "start_time": "2022-08-22T13:29:38.963Z"
      },
      {
        "duration": 10,
        "start_time": "2022-08-22T13:29:38.970Z"
      },
      {
        "duration": 27,
        "start_time": "2022-08-22T13:29:38.981Z"
      },
      {
        "duration": 6,
        "start_time": "2022-08-22T13:29:39.010Z"
      },
      {
        "duration": 6,
        "start_time": "2022-08-22T13:29:39.018Z"
      },
      {
        "duration": 5,
        "start_time": "2022-08-22T13:29:39.026Z"
      },
      {
        "duration": 6,
        "start_time": "2022-08-22T13:29:39.034Z"
      },
      {
        "duration": 7,
        "start_time": "2022-08-22T13:29:39.042Z"
      },
      {
        "duration": 7,
        "start_time": "2022-08-22T13:29:39.050Z"
      },
      {
        "duration": 6,
        "start_time": "2022-08-22T13:29:39.058Z"
      },
      {
        "duration": 6,
        "start_time": "2022-08-22T13:29:39.065Z"
      },
      {
        "duration": 6,
        "start_time": "2022-08-22T13:29:39.072Z"
      },
      {
        "duration": 5,
        "start_time": "2022-08-22T13:29:39.079Z"
      },
      {
        "duration": 28,
        "start_time": "2022-08-22T13:29:39.086Z"
      },
      {
        "duration": 7,
        "start_time": "2022-08-22T13:29:39.116Z"
      },
      {
        "duration": 6,
        "start_time": "2022-08-22T13:29:39.124Z"
      },
      {
        "duration": 5,
        "start_time": "2022-08-22T13:29:39.132Z"
      },
      {
        "duration": 8,
        "start_time": "2022-08-22T13:29:39.138Z"
      },
      {
        "duration": 5,
        "start_time": "2022-08-22T13:29:39.147Z"
      },
      {
        "duration": 13,
        "start_time": "2022-08-22T13:29:39.154Z"
      },
      {
        "duration": 5,
        "start_time": "2022-08-22T13:29:39.168Z"
      },
      {
        "duration": 5,
        "start_time": "2022-08-22T13:29:39.175Z"
      },
      {
        "duration": 13,
        "start_time": "2022-08-22T13:29:39.181Z"
      },
      {
        "duration": 20,
        "start_time": "2022-08-22T13:29:39.195Z"
      },
      {
        "duration": 6,
        "start_time": "2022-08-22T13:29:39.216Z"
      },
      {
        "duration": 8,
        "start_time": "2022-08-22T13:29:39.223Z"
      },
      {
        "duration": 5,
        "start_time": "2022-08-22T13:29:39.232Z"
      },
      {
        "duration": 9,
        "start_time": "2022-08-22T13:29:39.239Z"
      },
      {
        "duration": 9,
        "start_time": "2022-08-22T13:29:39.249Z"
      },
      {
        "duration": 21,
        "start_time": "2022-08-22T18:03:20.960Z"
      },
      {
        "duration": 83,
        "start_time": "2022-08-22T18:10:31.242Z"
      },
      {
        "duration": 7,
        "start_time": "2022-08-22T18:11:20.475Z"
      },
      {
        "duration": 93,
        "start_time": "2022-08-22T18:12:05.812Z"
      },
      {
        "duration": 4,
        "start_time": "2022-08-22T18:12:05.907Z"
      },
      {
        "duration": 16,
        "start_time": "2022-08-22T18:12:05.913Z"
      },
      {
        "duration": 15,
        "start_time": "2022-08-22T18:12:05.930Z"
      },
      {
        "duration": 12,
        "start_time": "2022-08-22T18:12:05.947Z"
      },
      {
        "duration": 61,
        "start_time": "2022-08-22T18:12:05.961Z"
      },
      {
        "duration": 7,
        "start_time": "2022-08-22T18:12:06.024Z"
      },
      {
        "duration": 26,
        "start_time": "2022-08-22T18:12:06.032Z"
      },
      {
        "duration": 2,
        "start_time": "2022-08-22T18:12:06.059Z"
      },
      {
        "duration": 8,
        "start_time": "2022-08-22T18:12:06.062Z"
      },
      {
        "duration": 34,
        "start_time": "2022-08-22T18:12:06.071Z"
      },
      {
        "duration": 11,
        "start_time": "2022-08-22T18:12:06.106Z"
      },
      {
        "duration": 19,
        "start_time": "2022-08-22T18:12:06.119Z"
      },
      {
        "duration": 3,
        "start_time": "2022-08-22T18:12:06.141Z"
      },
      {
        "duration": 6,
        "start_time": "2022-08-22T18:12:06.145Z"
      },
      {
        "duration": 5,
        "start_time": "2022-08-22T18:12:06.153Z"
      },
      {
        "duration": 10,
        "start_time": "2022-08-22T18:12:06.159Z"
      },
      {
        "duration": 6,
        "start_time": "2022-08-22T18:12:06.171Z"
      },
      {
        "duration": 16,
        "start_time": "2022-08-22T18:12:06.179Z"
      },
      {
        "duration": 14,
        "start_time": "2022-08-22T18:12:06.204Z"
      },
      {
        "duration": 7,
        "start_time": "2022-08-22T18:12:06.220Z"
      },
      {
        "duration": 9,
        "start_time": "2022-08-22T18:12:06.229Z"
      },
      {
        "duration": 7,
        "start_time": "2022-08-22T18:12:06.239Z"
      },
      {
        "duration": 6,
        "start_time": "2022-08-22T18:12:06.247Z"
      },
      {
        "duration": 4,
        "start_time": "2022-08-22T18:12:06.255Z"
      },
      {
        "duration": 6,
        "start_time": "2022-08-22T18:12:06.261Z"
      },
      {
        "duration": 4,
        "start_time": "2022-08-22T18:12:06.269Z"
      },
      {
        "duration": 5,
        "start_time": "2022-08-22T18:12:06.274Z"
      },
      {
        "duration": 16,
        "start_time": "2022-08-22T18:12:06.280Z"
      },
      {
        "duration": 15,
        "start_time": "2022-08-22T18:12:06.301Z"
      },
      {
        "duration": 6,
        "start_time": "2022-08-22T18:12:06.317Z"
      },
      {
        "duration": 5,
        "start_time": "2022-08-22T18:12:06.324Z"
      },
      {
        "duration": 8,
        "start_time": "2022-08-22T18:12:06.330Z"
      },
      {
        "duration": 11,
        "start_time": "2022-08-22T18:12:06.339Z"
      },
      {
        "duration": 8,
        "start_time": "2022-08-22T18:12:09.129Z"
      },
      {
        "duration": 2354,
        "start_time": "2022-08-22T18:42:10.300Z"
      },
      {
        "duration": 17,
        "start_time": "2022-08-22T18:45:02.474Z"
      },
      {
        "duration": 17,
        "start_time": "2022-08-22T18:46:08.356Z"
      },
      {
        "duration": 18,
        "start_time": "2022-08-22T18:46:27.218Z"
      },
      {
        "duration": 16,
        "start_time": "2022-08-22T18:49:56.030Z"
      },
      {
        "duration": 125,
        "start_time": "2022-08-22T19:06:40.347Z"
      },
      {
        "duration": 14,
        "start_time": "2022-08-22T19:07:13.839Z"
      },
      {
        "duration": 16,
        "start_time": "2022-08-22T19:07:41.927Z"
      },
      {
        "duration": 1861,
        "start_time": "2022-08-22T19:10:45.813Z"
      },
      {
        "duration": 1752,
        "start_time": "2022-08-22T19:12:00.183Z"
      },
      {
        "duration": 12,
        "start_time": "2022-08-22T19:13:31.947Z"
      },
      {
        "duration": 9,
        "start_time": "2022-08-22T19:13:54.329Z"
      },
      {
        "duration": 13,
        "start_time": "2022-08-22T19:14:09.236Z"
      },
      {
        "duration": 30,
        "start_time": "2022-08-22T19:21:01.225Z"
      },
      {
        "duration": 7,
        "start_time": "2022-08-22T19:23:55.707Z"
      },
      {
        "duration": 7,
        "start_time": "2022-08-22T19:24:15.349Z"
      },
      {
        "duration": 9,
        "start_time": "2022-08-22T19:24:40.413Z"
      },
      {
        "duration": 8,
        "start_time": "2022-08-22T19:25:11.138Z"
      },
      {
        "duration": 8,
        "start_time": "2022-08-22T19:25:38.414Z"
      },
      {
        "duration": 13,
        "start_time": "2022-08-22T19:26:04.984Z"
      },
      {
        "duration": 7,
        "start_time": "2022-08-22T19:26:19.011Z"
      },
      {
        "duration": 10,
        "start_time": "2022-08-22T19:28:06.428Z"
      },
      {
        "duration": 9,
        "start_time": "2022-08-22T19:28:44.412Z"
      },
      {
        "duration": 6,
        "start_time": "2022-08-22T19:29:13.814Z"
      },
      {
        "duration": 8,
        "start_time": "2022-08-22T19:29:35.310Z"
      },
      {
        "duration": 8,
        "start_time": "2022-08-22T19:31:59.998Z"
      },
      {
        "duration": 8,
        "start_time": "2022-08-22T19:32:36.025Z"
      },
      {
        "duration": 7,
        "start_time": "2022-08-22T19:32:47.749Z"
      },
      {
        "duration": 8,
        "start_time": "2022-08-22T19:33:47.132Z"
      },
      {
        "duration": 9,
        "start_time": "2022-08-22T19:34:24.425Z"
      },
      {
        "duration": 10,
        "start_time": "2022-08-22T19:34:38.141Z"
      },
      {
        "duration": 7,
        "start_time": "2022-08-22T19:34:47.975Z"
      },
      {
        "duration": 7,
        "start_time": "2022-08-22T19:34:54.042Z"
      },
      {
        "duration": 12,
        "start_time": "2022-08-22T19:54:47.381Z"
      },
      {
        "duration": 10,
        "start_time": "2022-08-22T19:59:22.869Z"
      },
      {
        "duration": 9,
        "start_time": "2022-08-22T20:05:41.585Z"
      },
      {
        "duration": 7,
        "start_time": "2022-08-22T20:14:46.854Z"
      },
      {
        "duration": 13,
        "start_time": "2022-08-22T20:15:34.576Z"
      },
      {
        "duration": 14,
        "start_time": "2022-08-22T20:18:18.378Z"
      },
      {
        "duration": 8,
        "start_time": "2022-08-22T20:19:00.711Z"
      },
      {
        "duration": 8,
        "start_time": "2022-08-22T20:19:23.962Z"
      },
      {
        "duration": 1059,
        "start_time": "2022-08-22T23:33:41.601Z"
      },
      {
        "duration": 9,
        "start_time": "2022-08-22T23:33:42.663Z"
      },
      {
        "duration": 27,
        "start_time": "2022-08-22T23:33:42.674Z"
      },
      {
        "duration": 29,
        "start_time": "2022-08-22T23:33:42.703Z"
      },
      {
        "duration": 18,
        "start_time": "2022-08-22T23:33:42.734Z"
      },
      {
        "duration": 52,
        "start_time": "2022-08-22T23:33:42.754Z"
      },
      {
        "duration": 8,
        "start_time": "2022-08-22T23:33:42.808Z"
      },
      {
        "duration": 37,
        "start_time": "2022-08-22T23:33:42.818Z"
      },
      {
        "duration": 10,
        "start_time": "2022-08-22T23:33:42.857Z"
      },
      {
        "duration": 36,
        "start_time": "2022-08-22T23:33:42.869Z"
      },
      {
        "duration": 17,
        "start_time": "2022-08-22T23:33:42.906Z"
      },
      {
        "duration": 15,
        "start_time": "2022-08-22T23:33:42.925Z"
      },
      {
        "duration": 15,
        "start_time": "2022-08-22T23:33:42.941Z"
      },
      {
        "duration": 16,
        "start_time": "2022-08-22T23:33:42.959Z"
      },
      {
        "duration": 20,
        "start_time": "2022-08-22T23:33:42.977Z"
      },
      {
        "duration": 13,
        "start_time": "2022-08-22T23:33:42.999Z"
      },
      {
        "duration": 13,
        "start_time": "2022-08-22T23:33:43.013Z"
      },
      {
        "duration": 15,
        "start_time": "2022-08-22T23:33:43.028Z"
      },
      {
        "duration": 14,
        "start_time": "2022-08-22T23:33:43.045Z"
      },
      {
        "duration": 12,
        "start_time": "2022-08-22T23:33:43.061Z"
      },
      {
        "duration": 11,
        "start_time": "2022-08-22T23:33:43.075Z"
      },
      {
        "duration": 10,
        "start_time": "2022-08-22T23:33:43.087Z"
      },
      {
        "duration": 20,
        "start_time": "2022-08-22T23:33:43.099Z"
      },
      {
        "duration": 13,
        "start_time": "2022-08-22T23:33:43.120Z"
      },
      {
        "duration": 12,
        "start_time": "2022-08-22T23:33:43.135Z"
      },
      {
        "duration": 7,
        "start_time": "2022-08-22T23:33:43.149Z"
      },
      {
        "duration": 19,
        "start_time": "2022-08-22T23:33:43.157Z"
      },
      {
        "duration": 18,
        "start_time": "2022-08-22T23:33:43.177Z"
      },
      {
        "duration": 20,
        "start_time": "2022-08-22T23:33:43.197Z"
      },
      {
        "duration": 15,
        "start_time": "2022-08-22T23:33:43.219Z"
      },
      {
        "duration": 20,
        "start_time": "2022-08-22T23:33:43.236Z"
      },
      {
        "duration": 6,
        "start_time": "2022-08-22T23:33:43.258Z"
      },
      {
        "duration": 22,
        "start_time": "2022-08-22T23:33:43.266Z"
      },
      {
        "duration": 80,
        "start_time": "2022-08-22T23:33:43.290Z"
      },
      {
        "duration": 0,
        "start_time": "2022-08-22T23:33:43.373Z"
      },
      {
        "duration": 0,
        "start_time": "2022-08-22T23:33:43.375Z"
      },
      {
        "duration": 0,
        "start_time": "2022-08-22T23:33:43.376Z"
      },
      {
        "duration": 0,
        "start_time": "2022-08-22T23:33:43.377Z"
      },
      {
        "duration": 0,
        "start_time": "2022-08-22T23:33:43.378Z"
      },
      {
        "duration": 0,
        "start_time": "2022-08-22T23:33:43.379Z"
      },
      {
        "duration": 0,
        "start_time": "2022-08-22T23:33:43.391Z"
      },
      {
        "duration": 0,
        "start_time": "2022-08-22T23:33:43.392Z"
      },
      {
        "duration": 0,
        "start_time": "2022-08-22T23:33:43.393Z"
      },
      {
        "duration": 0,
        "start_time": "2022-08-22T23:33:43.394Z"
      },
      {
        "duration": 0,
        "start_time": "2022-08-22T23:33:43.395Z"
      },
      {
        "duration": 0,
        "start_time": "2022-08-22T23:33:43.396Z"
      },
      {
        "duration": 0,
        "start_time": "2022-08-22T23:33:43.398Z"
      },
      {
        "duration": 0,
        "start_time": "2022-08-22T23:33:43.399Z"
      },
      {
        "duration": 0,
        "start_time": "2022-08-22T23:33:43.400Z"
      },
      {
        "duration": 0,
        "start_time": "2022-08-22T23:33:43.401Z"
      },
      {
        "duration": 0,
        "start_time": "2022-08-22T23:33:43.402Z"
      },
      {
        "duration": 0,
        "start_time": "2022-08-22T23:33:43.403Z"
      },
      {
        "duration": 0,
        "start_time": "2022-08-22T23:33:43.404Z"
      },
      {
        "duration": 0,
        "start_time": "2022-08-22T23:33:43.405Z"
      },
      {
        "duration": 0,
        "start_time": "2022-08-22T23:33:43.406Z"
      },
      {
        "duration": 0,
        "start_time": "2022-08-22T23:33:43.407Z"
      },
      {
        "duration": 0,
        "start_time": "2022-08-22T23:33:43.408Z"
      },
      {
        "duration": 0,
        "start_time": "2022-08-22T23:33:43.409Z"
      },
      {
        "duration": 0,
        "start_time": "2022-08-22T23:33:43.410Z"
      },
      {
        "duration": 0,
        "start_time": "2022-08-22T23:33:43.411Z"
      },
      {
        "duration": 0,
        "start_time": "2022-08-22T23:33:43.412Z"
      },
      {
        "duration": 0,
        "start_time": "2022-08-22T23:33:43.413Z"
      },
      {
        "duration": 0,
        "start_time": "2022-08-22T23:33:43.414Z"
      },
      {
        "duration": 0,
        "start_time": "2022-08-22T23:33:43.415Z"
      },
      {
        "duration": 0,
        "start_time": "2022-08-22T23:33:43.416Z"
      },
      {
        "duration": 0,
        "start_time": "2022-08-22T23:33:43.417Z"
      },
      {
        "duration": 0,
        "start_time": "2022-08-22T23:33:43.418Z"
      },
      {
        "duration": 0,
        "start_time": "2022-08-22T23:33:43.419Z"
      },
      {
        "duration": 0,
        "start_time": "2022-08-22T23:33:43.420Z"
      },
      {
        "duration": 0,
        "start_time": "2022-08-22T23:33:43.421Z"
      },
      {
        "duration": 0,
        "start_time": "2022-08-22T23:33:43.422Z"
      },
      {
        "duration": 0,
        "start_time": "2022-08-22T23:33:43.423Z"
      },
      {
        "duration": 8,
        "start_time": "2022-08-22T23:34:02.356Z"
      },
      {
        "duration": 27,
        "start_time": "2022-08-22T23:39:14.506Z"
      },
      {
        "duration": 2,
        "start_time": "2022-08-22T23:40:01.477Z"
      },
      {
        "duration": 10,
        "start_time": "2022-08-22T23:42:37.393Z"
      },
      {
        "duration": 8,
        "start_time": "2022-08-22T23:43:22.037Z"
      },
      {
        "duration": 15,
        "start_time": "2022-08-22T23:43:55.513Z"
      },
      {
        "duration": 24,
        "start_time": "2022-08-22T23:46:12.100Z"
      },
      {
        "duration": 112,
        "start_time": "2022-08-22T23:46:34.564Z"
      },
      {
        "duration": 109,
        "start_time": "2022-08-22T23:46:44.577Z"
      },
      {
        "duration": 108,
        "start_time": "2022-08-22T23:46:51.283Z"
      },
      {
        "duration": 15,
        "start_time": "2022-08-22T23:47:10.684Z"
      },
      {
        "duration": 9,
        "start_time": "2022-08-22T23:47:36.870Z"
      },
      {
        "duration": 13,
        "start_time": "2022-08-22T23:47:55.719Z"
      },
      {
        "duration": 10,
        "start_time": "2022-08-22T23:48:31.038Z"
      },
      {
        "duration": 5,
        "start_time": "2022-08-22T23:48:56.558Z"
      },
      {
        "duration": 9,
        "start_time": "2022-08-22T23:49:27.293Z"
      },
      {
        "duration": 4,
        "start_time": "2022-08-22T23:49:38.388Z"
      },
      {
        "duration": 8,
        "start_time": "2022-08-22T23:50:10.069Z"
      },
      {
        "duration": 6,
        "start_time": "2022-08-22T23:50:25.435Z"
      },
      {
        "duration": 9,
        "start_time": "2022-08-22T23:50:41.105Z"
      },
      {
        "duration": 9,
        "start_time": "2022-08-22T23:50:51.342Z"
      },
      {
        "duration": 10,
        "start_time": "2022-08-22T23:51:03.481Z"
      },
      {
        "duration": 9,
        "start_time": "2022-08-22T23:51:10.015Z"
      },
      {
        "duration": 8,
        "start_time": "2022-08-22T23:51:22.439Z"
      },
      {
        "duration": 1785,
        "start_time": "2022-08-22T23:51:33.652Z"
      },
      {
        "duration": 7,
        "start_time": "2022-08-22T23:51:42.148Z"
      },
      {
        "duration": 9,
        "start_time": "2022-08-22T23:52:06.454Z"
      },
      {
        "duration": 5,
        "start_time": "2022-08-22T23:52:12.745Z"
      },
      {
        "duration": 10,
        "start_time": "2022-08-22T23:52:21.480Z"
      },
      {
        "duration": 7,
        "start_time": "2022-08-22T23:52:31.454Z"
      },
      {
        "duration": 9,
        "start_time": "2022-08-22T23:52:51.271Z"
      },
      {
        "duration": 5,
        "start_time": "2022-08-22T23:52:59.481Z"
      },
      {
        "duration": 48,
        "start_time": "2022-08-23T12:52:24.467Z"
      },
      {
        "duration": 9,
        "start_time": "2022-08-23T12:52:34.251Z"
      },
      {
        "duration": 538,
        "start_time": "2022-08-23T12:52:38.791Z"
      },
      {
        "duration": 9,
        "start_time": "2022-08-23T12:52:39.330Z"
      },
      {
        "duration": 18,
        "start_time": "2022-08-23T12:52:39.340Z"
      },
      {
        "duration": 14,
        "start_time": "2022-08-23T12:52:39.359Z"
      },
      {
        "duration": 11,
        "start_time": "2022-08-23T12:52:39.375Z"
      },
      {
        "duration": 41,
        "start_time": "2022-08-23T12:52:39.388Z"
      },
      {
        "duration": 7,
        "start_time": "2022-08-23T12:52:39.431Z"
      },
      {
        "duration": 19,
        "start_time": "2022-08-23T12:52:39.457Z"
      },
      {
        "duration": 7,
        "start_time": "2022-08-23T12:52:39.478Z"
      },
      {
        "duration": 7,
        "start_time": "2022-08-23T12:53:37.770Z"
      },
      {
        "duration": 8,
        "start_time": "2022-08-23T12:54:57.198Z"
      },
      {
        "duration": 8,
        "start_time": "2022-08-23T12:55:06.321Z"
      },
      {
        "duration": 8,
        "start_time": "2022-08-23T14:17:57.366Z"
      },
      {
        "duration": 4,
        "start_time": "2022-08-23T14:20:02.109Z"
      },
      {
        "duration": 20,
        "start_time": "2022-08-23T14:22:06.782Z"
      },
      {
        "duration": 10,
        "start_time": "2022-08-23T14:22:40.851Z"
      },
      {
        "duration": 11,
        "start_time": "2022-08-23T14:24:40.274Z"
      },
      {
        "duration": 35,
        "start_time": "2022-08-23T14:26:33.713Z"
      },
      {
        "duration": 14,
        "start_time": "2022-08-23T14:28:01.223Z"
      },
      {
        "duration": 11,
        "start_time": "2022-08-23T14:29:42.951Z"
      },
      {
        "duration": 5,
        "start_time": "2022-08-23T14:42:50.579Z"
      },
      {
        "duration": 6,
        "start_time": "2022-08-23T14:45:01.277Z"
      },
      {
        "duration": 8,
        "start_time": "2022-08-23T15:30:13.633Z"
      },
      {
        "duration": 5,
        "start_time": "2022-08-23T15:30:49.761Z"
      },
      {
        "duration": 139,
        "start_time": "2022-08-23T15:31:03.012Z"
      },
      {
        "duration": 5,
        "start_time": "2022-08-23T15:31:04.763Z"
      },
      {
        "duration": 6,
        "start_time": "2022-08-23T15:31:17.536Z"
      },
      {
        "duration": 12,
        "start_time": "2022-08-23T15:32:05.184Z"
      },
      {
        "duration": 4,
        "start_time": "2022-08-23T16:32:41.770Z"
      },
      {
        "duration": 4,
        "start_time": "2022-08-23T16:33:41.031Z"
      },
      {
        "duration": 5,
        "start_time": "2022-08-23T19:09:33.317Z"
      },
      {
        "duration": 5,
        "start_time": "2022-08-23T19:44:50.352Z"
      },
      {
        "duration": 5,
        "start_time": "2022-08-23T20:10:06.493Z"
      },
      {
        "duration": 14,
        "start_time": "2022-08-23T20:10:37.984Z"
      },
      {
        "duration": 15,
        "start_time": "2022-08-23T20:29:36.989Z"
      },
      {
        "duration": 57,
        "start_time": "2022-08-23T23:05:23.868Z"
      },
      {
        "duration": 609,
        "start_time": "2022-08-23T23:05:31.848Z"
      },
      {
        "duration": 5,
        "start_time": "2022-08-23T23:05:32.459Z"
      },
      {
        "duration": 27,
        "start_time": "2022-08-23T23:05:32.465Z"
      },
      {
        "duration": 26,
        "start_time": "2022-08-23T23:05:32.493Z"
      },
      {
        "duration": 6,
        "start_time": "2022-08-23T23:05:32.522Z"
      },
      {
        "duration": 20,
        "start_time": "2022-08-23T23:05:32.530Z"
      },
      {
        "duration": 14,
        "start_time": "2022-08-23T23:05:32.552Z"
      },
      {
        "duration": 77,
        "start_time": "2022-08-23T23:05:32.568Z"
      },
      {
        "duration": 31,
        "start_time": "2022-08-23T23:05:32.647Z"
      },
      {
        "duration": 0,
        "start_time": "2022-08-23T23:05:32.681Z"
      },
      {
        "duration": 0,
        "start_time": "2022-08-23T23:05:32.682Z"
      },
      {
        "duration": 0,
        "start_time": "2022-08-23T23:05:32.684Z"
      },
      {
        "duration": 0,
        "start_time": "2022-08-23T23:05:32.685Z"
      },
      {
        "duration": 0,
        "start_time": "2022-08-23T23:05:32.686Z"
      },
      {
        "duration": 0,
        "start_time": "2022-08-23T23:05:32.699Z"
      },
      {
        "duration": 0,
        "start_time": "2022-08-23T23:05:32.700Z"
      },
      {
        "duration": 0,
        "start_time": "2022-08-23T23:05:32.703Z"
      },
      {
        "duration": 0,
        "start_time": "2022-08-23T23:05:32.703Z"
      },
      {
        "duration": 0,
        "start_time": "2022-08-23T23:05:32.704Z"
      },
      {
        "duration": 0,
        "start_time": "2022-08-23T23:05:32.707Z"
      },
      {
        "duration": 0,
        "start_time": "2022-08-23T23:05:32.708Z"
      },
      {
        "duration": 0,
        "start_time": "2022-08-23T23:05:32.708Z"
      },
      {
        "duration": 0,
        "start_time": "2022-08-23T23:05:32.709Z"
      },
      {
        "duration": 0,
        "start_time": "2022-08-23T23:05:32.710Z"
      },
      {
        "duration": 0,
        "start_time": "2022-08-23T23:05:32.711Z"
      },
      {
        "duration": 0,
        "start_time": "2022-08-23T23:05:32.711Z"
      },
      {
        "duration": 0,
        "start_time": "2022-08-23T23:05:32.712Z"
      },
      {
        "duration": 0,
        "start_time": "2022-08-23T23:05:32.712Z"
      },
      {
        "duration": 0,
        "start_time": "2022-08-23T23:05:32.715Z"
      },
      {
        "duration": 0,
        "start_time": "2022-08-23T23:05:32.715Z"
      },
      {
        "duration": 0,
        "start_time": "2022-08-23T23:05:32.719Z"
      },
      {
        "duration": 0,
        "start_time": "2022-08-23T23:05:32.720Z"
      },
      {
        "duration": 0,
        "start_time": "2022-08-23T23:05:32.721Z"
      },
      {
        "duration": 0,
        "start_time": "2022-08-23T23:05:32.721Z"
      },
      {
        "duration": 0,
        "start_time": "2022-08-23T23:05:32.722Z"
      },
      {
        "duration": 0,
        "start_time": "2022-08-23T23:05:32.728Z"
      },
      {
        "duration": 0,
        "start_time": "2022-08-23T23:05:32.730Z"
      },
      {
        "duration": 0,
        "start_time": "2022-08-23T23:05:32.731Z"
      },
      {
        "duration": 0,
        "start_time": "2022-08-23T23:05:32.732Z"
      },
      {
        "duration": 0,
        "start_time": "2022-08-23T23:05:32.734Z"
      },
      {
        "duration": 0,
        "start_time": "2022-08-23T23:05:32.735Z"
      },
      {
        "duration": 0,
        "start_time": "2022-08-23T23:05:32.737Z"
      },
      {
        "duration": 0,
        "start_time": "2022-08-23T23:05:32.739Z"
      },
      {
        "duration": 0,
        "start_time": "2022-08-23T23:05:32.741Z"
      },
      {
        "duration": 0,
        "start_time": "2022-08-23T23:05:32.742Z"
      },
      {
        "duration": 0,
        "start_time": "2022-08-23T23:05:32.743Z"
      },
      {
        "duration": 0,
        "start_time": "2022-08-23T23:05:32.745Z"
      },
      {
        "duration": 0,
        "start_time": "2022-08-23T23:05:32.746Z"
      },
      {
        "duration": 0,
        "start_time": "2022-08-23T23:05:32.748Z"
      },
      {
        "duration": 0,
        "start_time": "2022-08-23T23:05:32.749Z"
      },
      {
        "duration": 0,
        "start_time": "2022-08-23T23:05:32.751Z"
      },
      {
        "duration": 0,
        "start_time": "2022-08-23T23:05:32.752Z"
      },
      {
        "duration": 0,
        "start_time": "2022-08-23T23:05:32.802Z"
      },
      {
        "duration": 0,
        "start_time": "2022-08-23T23:05:32.804Z"
      },
      {
        "duration": 0,
        "start_time": "2022-08-23T23:05:32.805Z"
      },
      {
        "duration": 0,
        "start_time": "2022-08-23T23:05:32.806Z"
      },
      {
        "duration": 1,
        "start_time": "2022-08-23T23:05:32.807Z"
      },
      {
        "duration": 0,
        "start_time": "2022-08-23T23:05:32.809Z"
      },
      {
        "duration": 0,
        "start_time": "2022-08-23T23:05:32.811Z"
      },
      {
        "duration": 0,
        "start_time": "2022-08-23T23:05:32.813Z"
      },
      {
        "duration": 0,
        "start_time": "2022-08-23T23:05:32.814Z"
      },
      {
        "duration": 0,
        "start_time": "2022-08-23T23:05:32.815Z"
      },
      {
        "duration": 0,
        "start_time": "2022-08-23T23:05:32.816Z"
      },
      {
        "duration": 0,
        "start_time": "2022-08-23T23:05:32.824Z"
      },
      {
        "duration": 0,
        "start_time": "2022-08-23T23:05:32.826Z"
      },
      {
        "duration": 0,
        "start_time": "2022-08-23T23:05:32.827Z"
      },
      {
        "duration": 0,
        "start_time": "2022-08-23T23:05:32.828Z"
      },
      {
        "duration": 0,
        "start_time": "2022-08-23T23:05:32.830Z"
      },
      {
        "duration": 0,
        "start_time": "2022-08-23T23:05:32.831Z"
      },
      {
        "duration": 0,
        "start_time": "2022-08-23T23:05:32.832Z"
      },
      {
        "duration": 0,
        "start_time": "2022-08-23T23:05:32.833Z"
      },
      {
        "duration": 0,
        "start_time": "2022-08-23T23:05:32.834Z"
      },
      {
        "duration": 0,
        "start_time": "2022-08-23T23:05:32.835Z"
      },
      {
        "duration": 0,
        "start_time": "2022-08-23T23:05:32.837Z"
      },
      {
        "duration": 0,
        "start_time": "2022-08-23T23:05:32.837Z"
      },
      {
        "duration": 15,
        "start_time": "2022-08-23T23:08:04.451Z"
      },
      {
        "duration": 13,
        "start_time": "2022-08-23T23:08:59.449Z"
      },
      {
        "duration": 81,
        "start_time": "2022-08-23T23:10:34.639Z"
      },
      {
        "duration": 5,
        "start_time": "2022-08-23T23:13:01.830Z"
      },
      {
        "duration": 5,
        "start_time": "2022-08-23T23:14:20.121Z"
      },
      {
        "duration": 22,
        "start_time": "2022-08-23T23:14:58.795Z"
      },
      {
        "duration": 5,
        "start_time": "2022-08-23T23:15:11.749Z"
      },
      {
        "duration": 5,
        "start_time": "2022-08-23T23:15:49.935Z"
      },
      {
        "duration": 9,
        "start_time": "2022-08-23T23:16:05.018Z"
      },
      {
        "duration": 5,
        "start_time": "2022-08-23T23:16:16.441Z"
      },
      {
        "duration": 9,
        "start_time": "2022-08-23T23:52:25.983Z"
      },
      {
        "duration": 4,
        "start_time": "2022-08-23T23:52:47.333Z"
      },
      {
        "duration": 9,
        "start_time": "2022-08-23T23:52:49.429Z"
      },
      {
        "duration": 18,
        "start_time": "2022-08-23T23:54:09.472Z"
      },
      {
        "duration": 23,
        "start_time": "2022-08-23T23:54:11.004Z"
      },
      {
        "duration": 89,
        "start_time": "2022-08-23T23:54:12.461Z"
      },
      {
        "duration": 4,
        "start_time": "2022-08-23T23:54:14.191Z"
      },
      {
        "duration": 5,
        "start_time": "2022-08-23T23:54:16.039Z"
      },
      {
        "duration": 11,
        "start_time": "2022-08-23T23:55:06.421Z"
      },
      {
        "duration": 5,
        "start_time": "2022-08-23T23:55:49.031Z"
      },
      {
        "duration": 7,
        "start_time": "2022-08-23T23:56:31.734Z"
      },
      {
        "duration": 5,
        "start_time": "2022-08-23T23:57:05.065Z"
      },
      {
        "duration": 7,
        "start_time": "2022-08-23T23:58:03.029Z"
      },
      {
        "duration": 5,
        "start_time": "2022-08-23T23:58:29.719Z"
      },
      {
        "duration": 7,
        "start_time": "2022-08-23T23:58:55.322Z"
      },
      {
        "duration": 10,
        "start_time": "2022-08-24T00:19:50.378Z"
      },
      {
        "duration": 8,
        "start_time": "2022-08-24T00:20:01.823Z"
      },
      {
        "duration": 5,
        "start_time": "2022-08-24T00:20:33.818Z"
      },
      {
        "duration": 6,
        "start_time": "2022-08-24T00:20:38.789Z"
      },
      {
        "duration": 12,
        "start_time": "2022-08-24T00:20:39.896Z"
      },
      {
        "duration": 7,
        "start_time": "2022-08-24T00:20:40.925Z"
      },
      {
        "duration": 7,
        "start_time": "2022-08-24T00:20:41.926Z"
      },
      {
        "duration": 6,
        "start_time": "2022-08-24T00:20:42.924Z"
      },
      {
        "duration": 5,
        "start_time": "2022-08-24T00:20:43.766Z"
      },
      {
        "duration": 6,
        "start_time": "2022-08-24T00:31:45.883Z"
      },
      {
        "duration": 609,
        "start_time": "2022-08-24T02:32:15.429Z"
      },
      {
        "duration": 6,
        "start_time": "2022-08-24T02:32:16.043Z"
      },
      {
        "duration": 21,
        "start_time": "2022-08-24T02:32:16.051Z"
      },
      {
        "duration": 16,
        "start_time": "2022-08-24T02:32:16.073Z"
      },
      {
        "duration": 5,
        "start_time": "2022-08-24T02:32:16.092Z"
      },
      {
        "duration": 61,
        "start_time": "2022-08-24T02:32:16.103Z"
      },
      {
        "duration": 16,
        "start_time": "2022-08-24T02:32:16.166Z"
      },
      {
        "duration": 59,
        "start_time": "2022-08-24T02:32:16.183Z"
      },
      {
        "duration": 5,
        "start_time": "2022-08-24T02:32:16.243Z"
      },
      {
        "duration": 17,
        "start_time": "2022-08-24T02:32:16.250Z"
      },
      {
        "duration": 8,
        "start_time": "2022-08-24T02:32:16.269Z"
      },
      {
        "duration": 7,
        "start_time": "2022-08-24T02:32:16.279Z"
      },
      {
        "duration": 18,
        "start_time": "2022-08-24T02:32:16.288Z"
      },
      {
        "duration": 43,
        "start_time": "2022-08-24T02:32:16.308Z"
      },
      {
        "duration": 7,
        "start_time": "2022-08-24T02:32:16.353Z"
      },
      {
        "duration": 6,
        "start_time": "2022-08-24T02:32:16.361Z"
      },
      {
        "duration": 6,
        "start_time": "2022-08-24T02:32:16.369Z"
      },
      {
        "duration": 76,
        "start_time": "2022-08-24T02:32:20.927Z"
      },
      {
        "duration": 15,
        "start_time": "2022-08-24T02:33:05.332Z"
      },
      {
        "duration": 7,
        "start_time": "2022-08-24T02:34:30.647Z"
      },
      {
        "duration": 8,
        "start_time": "2022-08-24T02:34:57.570Z"
      },
      {
        "duration": 7,
        "start_time": "2022-08-24T02:36:57.788Z"
      },
      {
        "duration": 10,
        "start_time": "2022-08-24T02:40:07.386Z"
      },
      {
        "duration": 8,
        "start_time": "2022-08-24T02:41:05.270Z"
      },
      {
        "duration": 6,
        "start_time": "2022-08-24T02:41:53.633Z"
      },
      {
        "duration": 9,
        "start_time": "2022-08-24T02:42:25.350Z"
      },
      {
        "duration": 8,
        "start_time": "2022-08-24T02:45:41.674Z"
      },
      {
        "duration": 9,
        "start_time": "2022-08-24T02:48:35.667Z"
      },
      {
        "duration": 8,
        "start_time": "2022-08-24T02:49:43.597Z"
      },
      {
        "duration": 12,
        "start_time": "2022-08-24T02:51:54.549Z"
      },
      {
        "duration": 5,
        "start_time": "2022-08-24T02:52:15.926Z"
      },
      {
        "duration": 11,
        "start_time": "2022-08-24T02:52:45.272Z"
      },
      {
        "duration": 5,
        "start_time": "2022-08-24T02:52:48.815Z"
      },
      {
        "duration": 5,
        "start_time": "2022-08-24T02:57:17.641Z"
      },
      {
        "duration": 7,
        "start_time": "2022-08-24T02:57:33.725Z"
      },
      {
        "duration": 17,
        "start_time": "2022-08-24T02:57:52.528Z"
      },
      {
        "duration": 6,
        "start_time": "2022-08-24T02:58:35.217Z"
      },
      {
        "duration": 16,
        "start_time": "2022-08-24T02:59:08.119Z"
      },
      {
        "duration": 33,
        "start_time": "2022-08-24T03:05:59.527Z"
      },
      {
        "duration": 15,
        "start_time": "2022-08-24T03:08:22.120Z"
      },
      {
        "duration": 42,
        "start_time": "2022-08-24T03:10:25.498Z"
      },
      {
        "duration": 18,
        "start_time": "2022-08-24T03:15:21.498Z"
      },
      {
        "duration": 21,
        "start_time": "2022-08-24T03:15:29.619Z"
      },
      {
        "duration": 19,
        "start_time": "2022-08-24T03:18:28.421Z"
      },
      {
        "duration": 4,
        "start_time": "2022-08-24T03:18:34.114Z"
      },
      {
        "duration": 22,
        "start_time": "2022-08-24T03:18:35.294Z"
      },
      {
        "duration": 8,
        "start_time": "2022-08-24T03:19:52.036Z"
      },
      {
        "duration": 15,
        "start_time": "2022-08-24T03:20:33.622Z"
      },
      {
        "duration": 946,
        "start_time": "2022-08-24T14:40:03.936Z"
      },
      {
        "duration": 10,
        "start_time": "2022-08-24T14:40:04.884Z"
      },
      {
        "duration": 41,
        "start_time": "2022-08-24T14:40:04.898Z"
      },
      {
        "duration": 18,
        "start_time": "2022-08-24T14:40:04.942Z"
      },
      {
        "duration": 5,
        "start_time": "2022-08-24T14:40:04.963Z"
      },
      {
        "duration": 28,
        "start_time": "2022-08-24T14:40:04.970Z"
      },
      {
        "duration": 21,
        "start_time": "2022-08-24T14:40:05.000Z"
      },
      {
        "duration": 80,
        "start_time": "2022-08-24T14:40:05.022Z"
      },
      {
        "duration": 6,
        "start_time": "2022-08-24T14:40:05.113Z"
      },
      {
        "duration": 12,
        "start_time": "2022-08-24T14:40:05.121Z"
      },
      {
        "duration": 8,
        "start_time": "2022-08-24T14:40:05.136Z"
      },
      {
        "duration": 9,
        "start_time": "2022-08-24T14:40:05.146Z"
      },
      {
        "duration": 10,
        "start_time": "2022-08-24T14:40:05.156Z"
      },
      {
        "duration": 26,
        "start_time": "2022-08-24T14:40:05.169Z"
      },
      {
        "duration": 15,
        "start_time": "2022-08-24T14:40:05.196Z"
      },
      {
        "duration": 16,
        "start_time": "2022-08-24T14:40:05.212Z"
      },
      {
        "duration": 14,
        "start_time": "2022-08-24T14:40:05.231Z"
      },
      {
        "duration": 25,
        "start_time": "2022-08-24T14:40:05.248Z"
      },
      {
        "duration": 30,
        "start_time": "2022-08-24T14:40:05.275Z"
      },
      {
        "duration": 15,
        "start_time": "2022-08-24T14:40:05.307Z"
      },
      {
        "duration": 4,
        "start_time": "2022-08-24T14:40:05.324Z"
      },
      {
        "duration": 35,
        "start_time": "2022-08-24T14:40:05.330Z"
      },
      {
        "duration": 22,
        "start_time": "2022-08-24T14:40:05.367Z"
      },
      {
        "duration": 34,
        "start_time": "2022-08-24T14:40:05.391Z"
      },
      {
        "duration": 9,
        "start_time": "2022-08-24T14:40:15.536Z"
      },
      {
        "duration": 3,
        "start_time": "2022-08-24T16:47:40.060Z"
      },
      {
        "duration": 34,
        "start_time": "2022-08-24T16:47:49.976Z"
      },
      {
        "duration": 11,
        "start_time": "2022-08-24T16:47:50.901Z"
      },
      {
        "duration": 11,
        "start_time": "2022-08-24T16:47:51.612Z"
      },
      {
        "duration": 11,
        "start_time": "2022-08-24T16:50:14.541Z"
      },
      {
        "duration": 8,
        "start_time": "2022-08-24T16:50:59.212Z"
      },
      {
        "duration": 20,
        "start_time": "2022-08-24T16:51:08.585Z"
      },
      {
        "duration": 25,
        "start_time": "2022-08-24T16:51:28.609Z"
      },
      {
        "duration": 15,
        "start_time": "2022-08-24T16:52:19.975Z"
      },
      {
        "duration": 3,
        "start_time": "2022-08-24T16:52:30.519Z"
      },
      {
        "duration": 21,
        "start_time": "2022-08-24T16:52:35.312Z"
      },
      {
        "duration": 16,
        "start_time": "2022-08-24T16:52:37.299Z"
      },
      {
        "duration": 13,
        "start_time": "2022-08-24T16:52:38.661Z"
      },
      {
        "duration": 13,
        "start_time": "2022-08-24T16:54:23.710Z"
      },
      {
        "duration": 11,
        "start_time": "2022-08-24T16:55:11.708Z"
      },
      {
        "duration": 22,
        "start_time": "2022-08-24T16:58:35.769Z"
      },
      {
        "duration": 25,
        "start_time": "2022-08-24T16:58:58.549Z"
      },
      {
        "duration": 12,
        "start_time": "2022-08-24T16:59:24.699Z"
      },
      {
        "duration": 7,
        "start_time": "2022-08-24T17:15:58.918Z"
      },
      {
        "duration": 7,
        "start_time": "2022-08-24T17:16:14.790Z"
      },
      {
        "duration": 22,
        "start_time": "2022-08-24T18:25:56.669Z"
      },
      {
        "duration": 5,
        "start_time": "2022-08-24T18:26:33.331Z"
      },
      {
        "duration": 72,
        "start_time": "2022-08-24T18:26:43.924Z"
      },
      {
        "duration": 8,
        "start_time": "2022-08-24T18:27:04.227Z"
      },
      {
        "duration": 6,
        "start_time": "2022-08-24T18:27:35.257Z"
      },
      {
        "duration": 10,
        "start_time": "2022-08-24T18:27:57.312Z"
      },
      {
        "duration": 6,
        "start_time": "2022-08-24T18:28:03.388Z"
      },
      {
        "duration": 28,
        "start_time": "2022-08-24T19:59:00.030Z"
      },
      {
        "duration": 8,
        "start_time": "2022-08-24T19:59:10.640Z"
      },
      {
        "duration": 30,
        "start_time": "2022-08-24T19:59:11.470Z"
      },
      {
        "duration": 6,
        "start_time": "2022-08-24T19:59:20.822Z"
      },
      {
        "duration": 5,
        "start_time": "2022-08-24T19:59:41.320Z"
      },
      {
        "duration": 7,
        "start_time": "2022-08-24T19:59:56.329Z"
      },
      {
        "duration": 5,
        "start_time": "2022-08-24T20:02:11.879Z"
      },
      {
        "duration": 6,
        "start_time": "2022-08-24T20:21:08.017Z"
      },
      {
        "duration": 12,
        "start_time": "2022-08-24T20:27:00.670Z"
      },
      {
        "duration": 13,
        "start_time": "2022-08-24T20:27:15.441Z"
      },
      {
        "duration": 14,
        "start_time": "2022-08-24T20:27:31.713Z"
      },
      {
        "duration": 17,
        "start_time": "2022-08-24T20:27:54.906Z"
      },
      {
        "duration": 5,
        "start_time": "2022-08-24T20:28:12.939Z"
      },
      {
        "duration": 9,
        "start_time": "2022-08-24T20:28:24.748Z"
      },
      {
        "duration": 6,
        "start_time": "2022-08-24T20:28:26.425Z"
      },
      {
        "duration": 5,
        "start_time": "2022-08-24T20:30:36.296Z"
      },
      {
        "duration": 102,
        "start_time": "2022-08-24T20:31:36.607Z"
      },
      {
        "duration": 5,
        "start_time": "2022-08-24T20:31:46.194Z"
      },
      {
        "duration": 7,
        "start_time": "2022-08-24T20:32:16.672Z"
      },
      {
        "duration": 7,
        "start_time": "2022-08-24T20:33:06.863Z"
      },
      {
        "duration": 15,
        "start_time": "2022-08-24T20:37:47.540Z"
      },
      {
        "duration": 11,
        "start_time": "2022-08-24T20:39:17.874Z"
      },
      {
        "duration": 17,
        "start_time": "2022-08-24T20:41:29.437Z"
      },
      {
        "duration": 21,
        "start_time": "2022-08-24T20:41:37.952Z"
      },
      {
        "duration": 13,
        "start_time": "2022-08-24T20:44:51.023Z"
      },
      {
        "duration": 13,
        "start_time": "2022-08-24T20:45:55.142Z"
      },
      {
        "duration": 128,
        "start_time": "2022-08-24T20:47:02.810Z"
      },
      {
        "duration": 9,
        "start_time": "2022-08-24T20:47:17.030Z"
      },
      {
        "duration": 15,
        "start_time": "2022-08-24T20:49:10.278Z"
      },
      {
        "duration": 12,
        "start_time": "2022-08-24T20:50:15.882Z"
      },
      {
        "duration": 25,
        "start_time": "2022-08-24T20:53:03.685Z"
      },
      {
        "duration": 25,
        "start_time": "2022-08-24T20:53:15.331Z"
      },
      {
        "duration": 5,
        "start_time": "2022-08-24T22:15:13.395Z"
      },
      {
        "duration": 5,
        "start_time": "2022-08-24T22:15:14.315Z"
      },
      {
        "duration": 11,
        "start_time": "2022-08-24T22:17:12.288Z"
      },
      {
        "duration": 5,
        "start_time": "2022-08-24T22:20:33.939Z"
      },
      {
        "duration": 40,
        "start_time": "2022-08-24T22:24:28.369Z"
      },
      {
        "duration": 13,
        "start_time": "2022-08-24T22:24:47.116Z"
      },
      {
        "duration": 48,
        "start_time": "2022-08-24T22:24:52.984Z"
      },
      {
        "duration": 123,
        "start_time": "2022-08-24T22:25:57.132Z"
      },
      {
        "duration": 110,
        "start_time": "2022-08-24T22:26:24.827Z"
      },
      {
        "duration": 17,
        "start_time": "2022-08-24T22:26:28.735Z"
      },
      {
        "duration": 16,
        "start_time": "2022-08-25T01:42:32.397Z"
      },
      {
        "duration": 5,
        "start_time": "2022-08-25T01:43:15.380Z"
      },
      {
        "duration": 465,
        "start_time": "2022-08-25T01:43:24.323Z"
      },
      {
        "duration": 14,
        "start_time": "2022-08-25T01:43:51.438Z"
      },
      {
        "duration": 6,
        "start_time": "2022-08-25T01:43:58.072Z"
      },
      {
        "duration": 52,
        "start_time": "2022-08-25T01:46:08.188Z"
      },
      {
        "duration": 5532,
        "start_time": "2022-08-25T01:50:41.520Z"
      },
      {
        "duration": 14,
        "start_time": "2022-08-25T01:50:52.528Z"
      },
      {
        "duration": 11,
        "start_time": "2022-08-25T01:51:20.609Z"
      },
      {
        "duration": 11,
        "start_time": "2022-08-25T01:52:10.515Z"
      },
      {
        "duration": 10,
        "start_time": "2022-08-25T01:53:41.176Z"
      },
      {
        "duration": 7,
        "start_time": "2022-08-25T01:55:47.909Z"
      },
      {
        "duration": 5,
        "start_time": "2022-08-25T01:55:56.760Z"
      },
      {
        "duration": 6,
        "start_time": "2022-08-25T01:56:17.738Z"
      },
      {
        "duration": 9,
        "start_time": "2022-08-25T01:57:10.857Z"
      },
      {
        "duration": 6,
        "start_time": "2022-08-25T01:57:17.012Z"
      },
      {
        "duration": 5,
        "start_time": "2022-08-25T01:57:35.644Z"
      },
      {
        "duration": 5,
        "start_time": "2022-08-25T01:57:37.509Z"
      },
      {
        "duration": 6,
        "start_time": "2022-08-25T01:58:46.436Z"
      },
      {
        "duration": 10,
        "start_time": "2022-08-25T01:58:48.694Z"
      },
      {
        "duration": 5,
        "start_time": "2022-08-25T01:58:53.835Z"
      },
      {
        "duration": 5,
        "start_time": "2022-08-25T01:58:56.236Z"
      },
      {
        "duration": 7,
        "start_time": "2022-08-25T02:00:26.132Z"
      },
      {
        "duration": 743,
        "start_time": "2022-08-25T02:00:30.502Z"
      },
      {
        "duration": 13,
        "start_time": "2022-08-25T02:00:34.269Z"
      },
      {
        "duration": 5,
        "start_time": "2022-08-25T02:00:35.818Z"
      },
      {
        "duration": 11,
        "start_time": "2022-08-25T02:00:56.032Z"
      },
      {
        "duration": 7,
        "start_time": "2022-08-25T02:00:58.043Z"
      },
      {
        "duration": 5,
        "start_time": "2022-08-25T02:03:57.819Z"
      },
      {
        "duration": 661,
        "start_time": "2022-08-25T13:35:12.582Z"
      },
      {
        "duration": 5,
        "start_time": "2022-08-25T13:35:13.245Z"
      },
      {
        "duration": 25,
        "start_time": "2022-08-25T13:35:13.252Z"
      },
      {
        "duration": 16,
        "start_time": "2022-08-25T13:35:13.279Z"
      },
      {
        "duration": 4,
        "start_time": "2022-08-25T13:35:13.297Z"
      },
      {
        "duration": 21,
        "start_time": "2022-08-25T13:35:13.302Z"
      },
      {
        "duration": 14,
        "start_time": "2022-08-25T13:35:13.324Z"
      },
      {
        "duration": 80,
        "start_time": "2022-08-25T13:35:13.340Z"
      },
      {
        "duration": 5,
        "start_time": "2022-08-25T13:35:13.421Z"
      },
      {
        "duration": 7,
        "start_time": "2022-08-25T13:35:13.427Z"
      },
      {
        "duration": 7,
        "start_time": "2022-08-25T13:35:13.436Z"
      },
      {
        "duration": 38,
        "start_time": "2022-08-25T13:35:13.444Z"
      },
      {
        "duration": 7,
        "start_time": "2022-08-25T13:35:13.484Z"
      },
      {
        "duration": 5,
        "start_time": "2022-08-25T13:35:13.494Z"
      },
      {
        "duration": 6,
        "start_time": "2022-08-25T13:35:13.501Z"
      },
      {
        "duration": 4,
        "start_time": "2022-08-25T13:35:13.509Z"
      },
      {
        "duration": 8,
        "start_time": "2022-08-25T13:35:13.515Z"
      },
      {
        "duration": 9,
        "start_time": "2022-08-25T13:35:13.524Z"
      },
      {
        "duration": 38,
        "start_time": "2022-08-25T13:35:13.534Z"
      },
      {
        "duration": 12,
        "start_time": "2022-08-25T13:35:13.573Z"
      },
      {
        "duration": 13,
        "start_time": "2022-08-25T13:35:13.587Z"
      },
      {
        "duration": 4,
        "start_time": "2022-08-25T13:35:13.601Z"
      },
      {
        "duration": 22,
        "start_time": "2022-08-25T13:35:13.606Z"
      },
      {
        "duration": 48,
        "start_time": "2022-08-25T13:35:13.629Z"
      },
      {
        "duration": 12,
        "start_time": "2022-08-25T13:35:13.679Z"
      },
      {
        "duration": 21,
        "start_time": "2022-08-25T13:35:13.693Z"
      },
      {
        "duration": 5,
        "start_time": "2022-08-25T13:35:13.716Z"
      },
      {
        "duration": 51,
        "start_time": "2022-08-25T13:35:13.722Z"
      },
      {
        "duration": 12,
        "start_time": "2022-08-25T13:35:13.775Z"
      },
      {
        "duration": 13,
        "start_time": "2022-08-25T13:35:13.789Z"
      },
      {
        "duration": 18,
        "start_time": "2022-08-25T13:35:13.804Z"
      },
      {
        "duration": 5,
        "start_time": "2022-08-25T13:35:13.824Z"
      },
      {
        "duration": 12,
        "start_time": "2022-08-25T13:35:13.830Z"
      },
      {
        "duration": 10,
        "start_time": "2022-08-25T13:35:13.871Z"
      },
      {
        "duration": 6,
        "start_time": "2022-08-25T13:35:13.883Z"
      },
      {
        "duration": 24,
        "start_time": "2022-08-25T13:35:13.891Z"
      },
      {
        "duration": 6,
        "start_time": "2022-08-25T13:35:13.917Z"
      },
      {
        "duration": 9,
        "start_time": "2022-08-25T13:35:13.925Z"
      },
      {
        "duration": 43,
        "start_time": "2022-08-25T13:35:13.936Z"
      },
      {
        "duration": 9,
        "start_time": "2022-08-25T13:35:13.981Z"
      },
      {
        "duration": 6,
        "start_time": "2022-08-25T13:35:13.994Z"
      },
      {
        "duration": 2593,
        "start_time": "2022-08-25T13:35:14.002Z"
      },
      {
        "duration": 14,
        "start_time": "2022-08-25T13:35:16.597Z"
      },
      {
        "duration": 31,
        "start_time": "2022-08-25T13:35:16.613Z"
      },
      {
        "duration": 16,
        "start_time": "2022-08-25T13:35:16.646Z"
      },
      {
        "duration": 22,
        "start_time": "2022-08-25T13:35:21.565Z"
      },
      {
        "duration": 15,
        "start_time": "2022-08-25T13:39:45.155Z"
      },
      {
        "duration": 64,
        "start_time": "2022-08-25T13:40:12.056Z"
      },
      {
        "duration": 8,
        "start_time": "2022-08-25T13:40:30.181Z"
      },
      {
        "duration": 1330,
        "start_time": "2022-08-25T13:40:40.045Z"
      },
      {
        "duration": 14,
        "start_time": "2022-08-25T13:40:49.696Z"
      },
      {
        "duration": 11,
        "start_time": "2022-08-25T13:41:24.961Z"
      },
      {
        "duration": 10,
        "start_time": "2022-08-25T13:41:50.949Z"
      },
      {
        "duration": 9,
        "start_time": "2022-08-25T13:42:07.077Z"
      },
      {
        "duration": 11,
        "start_time": "2022-08-25T13:42:27.610Z"
      },
      {
        "duration": 110,
        "start_time": "2022-08-25T13:44:02.441Z"
      },
      {
        "duration": 131,
        "start_time": "2022-08-25T13:44:08.621Z"
      },
      {
        "duration": 115,
        "start_time": "2022-08-25T13:44:31.093Z"
      },
      {
        "duration": 109,
        "start_time": "2022-08-25T13:44:44.908Z"
      },
      {
        "duration": 7,
        "start_time": "2022-08-25T13:44:56.537Z"
      },
      {
        "duration": 8,
        "start_time": "2022-08-25T13:44:58.771Z"
      },
      {
        "duration": 7,
        "start_time": "2022-08-25T13:45:01.092Z"
      },
      {
        "duration": 8,
        "start_time": "2022-08-25T13:45:25.538Z"
      },
      {
        "duration": 107,
        "start_time": "2022-08-25T13:46:03.479Z"
      },
      {
        "duration": 9,
        "start_time": "2022-08-25T13:46:20.604Z"
      },
      {
        "duration": 14,
        "start_time": "2022-08-25T13:47:32.216Z"
      },
      {
        "duration": 14,
        "start_time": "2022-08-25T13:47:42.990Z"
      },
      {
        "duration": 27,
        "start_time": "2022-08-25T13:50:48.183Z"
      },
      {
        "duration": 485,
        "start_time": "2022-08-25T13:51:06.412Z"
      },
      {
        "duration": 14,
        "start_time": "2022-08-25T13:52:02.262Z"
      },
      {
        "duration": 11,
        "start_time": "2022-08-25T13:55:59.317Z"
      },
      {
        "duration": 901,
        "start_time": "2022-08-25T13:56:22.733Z"
      },
      {
        "duration": 13,
        "start_time": "2022-08-25T13:56:50.558Z"
      },
      {
        "duration": 9,
        "start_time": "2022-08-25T14:01:45.089Z"
      },
      {
        "duration": 11,
        "start_time": "2022-08-25T14:03:07.655Z"
      },
      {
        "duration": 28,
        "start_time": "2022-08-25T14:04:38.899Z"
      },
      {
        "duration": 40,
        "start_time": "2022-08-25T14:05:00.242Z"
      },
      {
        "duration": 11,
        "start_time": "2022-08-25T14:05:23.927Z"
      },
      {
        "duration": 1023,
        "start_time": "2022-08-25T14:05:30.761Z"
      },
      {
        "duration": 125,
        "start_time": "2022-08-25T14:05:44.087Z"
      },
      {
        "duration": 13,
        "start_time": "2022-08-25T14:06:13.990Z"
      },
      {
        "duration": 10,
        "start_time": "2022-08-25T14:06:25.735Z"
      },
      {
        "duration": 9,
        "start_time": "2022-08-25T14:06:55.609Z"
      },
      {
        "duration": 29,
        "start_time": "2022-08-25T14:09:49.133Z"
      },
      {
        "duration": 2650,
        "start_time": "2022-08-25T14:11:02.559Z"
      },
      {
        "duration": 6,
        "start_time": "2022-08-25T14:13:59.919Z"
      },
      {
        "duration": 5,
        "start_time": "2022-08-25T14:14:20.346Z"
      },
      {
        "duration": 4,
        "start_time": "2022-08-25T14:14:34.685Z"
      },
      {
        "duration": 5,
        "start_time": "2022-08-25T14:18:06.983Z"
      },
      {
        "duration": 5,
        "start_time": "2022-08-25T14:18:16.430Z"
      },
      {
        "duration": 9,
        "start_time": "2022-08-25T14:18:54.130Z"
      },
      {
        "duration": 0,
        "start_time": "2022-08-25T14:20:14.442Z"
      },
      {
        "duration": 3037,
        "start_time": "2022-08-25T14:20:21.804Z"
      },
      {
        "duration": 4,
        "start_time": "2022-08-25T14:20:44.756Z"
      },
      {
        "duration": 3146,
        "start_time": "2022-08-25T14:21:02.652Z"
      },
      {
        "duration": 13,
        "start_time": "2022-08-25T14:21:16.791Z"
      },
      {
        "duration": 8,
        "start_time": "2022-08-25T14:21:21.304Z"
      },
      {
        "duration": 13,
        "start_time": "2022-08-25T14:22:19.908Z"
      },
      {
        "duration": 8,
        "start_time": "2022-08-25T14:22:50.819Z"
      },
      {
        "duration": 7,
        "start_time": "2022-08-25T14:23:24.785Z"
      },
      {
        "duration": 15,
        "start_time": "2022-08-25T14:24:12.082Z"
      },
      {
        "duration": 6,
        "start_time": "2022-08-25T14:24:16.698Z"
      },
      {
        "duration": 6,
        "start_time": "2022-08-25T14:25:17.114Z"
      },
      {
        "duration": 138,
        "start_time": "2022-08-25T14:26:14.501Z"
      },
      {
        "duration": 139,
        "start_time": "2022-08-25T14:26:37.720Z"
      },
      {
        "duration": 5,
        "start_time": "2022-08-25T14:27:32.385Z"
      },
      {
        "duration": 4,
        "start_time": "2022-08-25T14:27:33.898Z"
      },
      {
        "duration": 11,
        "start_time": "2022-08-25T14:28:37.163Z"
      },
      {
        "duration": 4,
        "start_time": "2022-08-25T14:28:38.565Z"
      },
      {
        "duration": 5,
        "start_time": "2022-08-25T14:29:35.011Z"
      },
      {
        "duration": 151,
        "start_time": "2022-08-25T14:30:08.096Z"
      },
      {
        "duration": 11,
        "start_time": "2022-08-25T14:30:17.642Z"
      },
      {
        "duration": 3,
        "start_time": "2022-08-25T14:31:28.887Z"
      },
      {
        "duration": 4,
        "start_time": "2022-08-25T14:31:48.100Z"
      },
      {
        "duration": 4,
        "start_time": "2022-08-25T14:31:52.639Z"
      },
      {
        "duration": 135,
        "start_time": "2022-08-25T14:40:20.298Z"
      },
      {
        "duration": 10,
        "start_time": "2022-08-25T14:43:50.940Z"
      },
      {
        "duration": 14,
        "start_time": "2022-08-25T14:44:11.579Z"
      },
      {
        "duration": 2410,
        "start_time": "2022-08-25T14:44:48.055Z"
      },
      {
        "duration": 0,
        "start_time": "2022-08-25T14:44:50.467Z"
      },
      {
        "duration": 1862,
        "start_time": "2022-08-25T14:45:50.388Z"
      },
      {
        "duration": 1971,
        "start_time": "2022-08-25T14:45:57.871Z"
      },
      {
        "duration": 12,
        "start_time": "2022-08-25T14:50:05.621Z"
      },
      {
        "duration": 9,
        "start_time": "2022-08-25T14:50:32.725Z"
      },
      {
        "duration": 10,
        "start_time": "2022-08-25T14:50:38.489Z"
      },
      {
        "duration": 3,
        "start_time": "2022-08-25T14:51:16.037Z"
      },
      {
        "duration": 11,
        "start_time": "2022-08-25T14:51:28.822Z"
      },
      {
        "duration": 9,
        "start_time": "2022-08-25T14:52:02.093Z"
      },
      {
        "duration": 8,
        "start_time": "2022-08-25T14:52:42.879Z"
      },
      {
        "duration": 12,
        "start_time": "2022-08-25T14:53:05.531Z"
      },
      {
        "duration": 1636,
        "start_time": "2022-08-25T14:57:37.826Z"
      },
      {
        "duration": 11,
        "start_time": "2022-08-25T14:57:57.750Z"
      },
      {
        "duration": 869,
        "start_time": "2022-08-25T14:58:13.626Z"
      },
      {
        "duration": 14,
        "start_time": "2022-08-25T15:01:04.517Z"
      },
      {
        "duration": 14,
        "start_time": "2022-08-25T15:01:22.207Z"
      },
      {
        "duration": 19,
        "start_time": "2022-08-25T15:32:05.093Z"
      },
      {
        "duration": 11,
        "start_time": "2022-08-25T15:33:51.903Z"
      },
      {
        "duration": 20,
        "start_time": "2022-08-25T15:34:52.797Z"
      },
      {
        "duration": 10,
        "start_time": "2022-08-25T15:50:59.108Z"
      },
      {
        "duration": 8,
        "start_time": "2022-08-25T15:51:03.429Z"
      },
      {
        "duration": 18,
        "start_time": "2022-08-25T15:51:25.888Z"
      },
      {
        "duration": 9,
        "start_time": "2022-08-25T15:51:30.025Z"
      },
      {
        "duration": 8,
        "start_time": "2022-08-25T15:51:36.206Z"
      },
      {
        "duration": 7,
        "start_time": "2022-08-25T15:52:15.787Z"
      },
      {
        "duration": 9,
        "start_time": "2022-08-25T15:52:21.526Z"
      },
      {
        "duration": 21,
        "start_time": "2022-08-25T15:52:22.593Z"
      },
      {
        "duration": 14,
        "start_time": "2022-08-25T15:53:06.387Z"
      },
      {
        "duration": 111,
        "start_time": "2022-08-25T15:54:29.839Z"
      },
      {
        "duration": 97,
        "start_time": "2022-08-25T15:54:53.368Z"
      },
      {
        "duration": 12,
        "start_time": "2022-08-25T15:55:02.502Z"
      },
      {
        "duration": 773,
        "start_time": "2022-08-25T17:11:27.937Z"
      },
      {
        "duration": 5,
        "start_time": "2022-08-25T17:11:28.712Z"
      },
      {
        "duration": 27,
        "start_time": "2022-08-25T17:11:28.718Z"
      },
      {
        "duration": 16,
        "start_time": "2022-08-25T17:11:28.747Z"
      },
      {
        "duration": 4,
        "start_time": "2022-08-25T17:11:28.765Z"
      },
      {
        "duration": 34,
        "start_time": "2022-08-25T17:11:28.771Z"
      },
      {
        "duration": 14,
        "start_time": "2022-08-25T17:11:28.806Z"
      },
      {
        "duration": 60,
        "start_time": "2022-08-25T17:11:28.821Z"
      },
      {
        "duration": 5,
        "start_time": "2022-08-25T17:11:28.883Z"
      },
      {
        "duration": 8,
        "start_time": "2022-08-25T17:11:28.891Z"
      },
      {
        "duration": 15,
        "start_time": "2022-08-25T17:11:28.901Z"
      },
      {
        "duration": 8,
        "start_time": "2022-08-25T17:11:28.917Z"
      },
      {
        "duration": 11,
        "start_time": "2022-08-25T17:11:28.927Z"
      },
      {
        "duration": 4,
        "start_time": "2022-08-25T17:11:28.940Z"
      },
      {
        "duration": 25,
        "start_time": "2022-08-25T17:11:28.946Z"
      },
      {
        "duration": 14,
        "start_time": "2022-08-25T17:11:28.973Z"
      },
      {
        "duration": 10,
        "start_time": "2022-08-25T17:11:28.988Z"
      },
      {
        "duration": 11,
        "start_time": "2022-08-25T17:11:28.999Z"
      },
      {
        "duration": 12,
        "start_time": "2022-08-25T17:11:29.011Z"
      },
      {
        "duration": 8,
        "start_time": "2022-08-25T17:11:29.025Z"
      },
      {
        "duration": 33,
        "start_time": "2022-08-25T17:11:29.035Z"
      },
      {
        "duration": 12,
        "start_time": "2022-08-25T17:11:29.070Z"
      },
      {
        "duration": 19,
        "start_time": "2022-08-25T17:11:29.084Z"
      },
      {
        "duration": 10,
        "start_time": "2022-08-25T17:11:29.105Z"
      },
      {
        "duration": 15,
        "start_time": "2022-08-25T17:11:29.117Z"
      },
      {
        "duration": 44,
        "start_time": "2022-08-25T17:11:29.134Z"
      },
      {
        "duration": 6,
        "start_time": "2022-08-25T17:11:29.180Z"
      },
      {
        "duration": 24,
        "start_time": "2022-08-25T17:11:29.190Z"
      },
      {
        "duration": 5,
        "start_time": "2022-08-25T17:11:29.215Z"
      },
      {
        "duration": 49,
        "start_time": "2022-08-25T17:11:29.222Z"
      },
      {
        "duration": 17,
        "start_time": "2022-08-25T17:11:29.273Z"
      },
      {
        "duration": 6,
        "start_time": "2022-08-25T17:11:29.292Z"
      },
      {
        "duration": 11,
        "start_time": "2022-08-25T17:11:29.299Z"
      },
      {
        "duration": 12,
        "start_time": "2022-08-25T17:11:29.312Z"
      },
      {
        "duration": 9,
        "start_time": "2022-08-25T17:11:29.325Z"
      },
      {
        "duration": 54,
        "start_time": "2022-08-25T17:11:29.335Z"
      },
      {
        "duration": 4,
        "start_time": "2022-08-25T17:11:29.391Z"
      },
      {
        "duration": 6,
        "start_time": "2022-08-25T17:11:29.396Z"
      },
      {
        "duration": 10,
        "start_time": "2022-08-25T17:11:29.404Z"
      },
      {
        "duration": 5,
        "start_time": "2022-08-25T17:11:29.415Z"
      },
      {
        "duration": 7,
        "start_time": "2022-08-25T17:11:29.422Z"
      },
      {
        "duration": 2598,
        "start_time": "2022-08-25T17:11:29.430Z"
      },
      {
        "duration": 11,
        "start_time": "2022-08-25T17:11:32.030Z"
      },
      {
        "duration": 27,
        "start_time": "2022-08-25T17:11:32.043Z"
      },
      {
        "duration": 8,
        "start_time": "2022-08-25T17:11:32.072Z"
      },
      {
        "duration": 21,
        "start_time": "2022-08-25T17:11:32.082Z"
      },
      {
        "duration": 71,
        "start_time": "2022-08-25T17:13:15.192Z"
      },
      {
        "duration": 7,
        "start_time": "2022-08-25T17:13:26.800Z"
      },
      {
        "duration": 10,
        "start_time": "2022-08-25T17:13:27.883Z"
      },
      {
        "duration": 9,
        "start_time": "2022-08-25T17:14:32.539Z"
      },
      {
        "duration": 5,
        "start_time": "2022-08-25T17:15:08.594Z"
      },
      {
        "duration": 59,
        "start_time": "2022-08-25T17:16:02.136Z"
      },
      {
        "duration": 4,
        "start_time": "2022-08-25T17:16:02.198Z"
      },
      {
        "duration": 18,
        "start_time": "2022-08-25T17:16:02.203Z"
      },
      {
        "duration": 46,
        "start_time": "2022-08-25T17:16:02.223Z"
      },
      {
        "duration": 4,
        "start_time": "2022-08-25T17:16:02.271Z"
      },
      {
        "duration": 21,
        "start_time": "2022-08-25T17:16:02.277Z"
      },
      {
        "duration": 14,
        "start_time": "2022-08-25T17:16:02.299Z"
      },
      {
        "duration": 73,
        "start_time": "2022-08-25T17:16:02.315Z"
      },
      {
        "duration": 5,
        "start_time": "2022-08-25T17:16:02.390Z"
      },
      {
        "duration": 11,
        "start_time": "2022-08-25T17:16:02.397Z"
      },
      {
        "duration": 16,
        "start_time": "2022-08-25T17:16:02.409Z"
      },
      {
        "duration": 8,
        "start_time": "2022-08-25T17:16:02.426Z"
      },
      {
        "duration": 12,
        "start_time": "2022-08-25T17:16:02.439Z"
      },
      {
        "duration": 17,
        "start_time": "2022-08-25T17:16:02.454Z"
      },
      {
        "duration": 12,
        "start_time": "2022-08-25T17:16:02.473Z"
      },
      {
        "duration": 8,
        "start_time": "2022-08-25T17:16:02.486Z"
      },
      {
        "duration": 10,
        "start_time": "2022-08-25T17:16:02.495Z"
      },
      {
        "duration": 16,
        "start_time": "2022-08-25T17:16:02.506Z"
      },
      {
        "duration": 9,
        "start_time": "2022-08-25T17:16:02.524Z"
      },
      {
        "duration": 40,
        "start_time": "2022-08-25T17:16:02.535Z"
      },
      {
        "duration": 10,
        "start_time": "2022-08-25T17:16:02.577Z"
      },
      {
        "duration": 6,
        "start_time": "2022-08-25T17:16:02.589Z"
      },
      {
        "duration": 23,
        "start_time": "2022-08-25T17:16:02.596Z"
      },
      {
        "duration": 11,
        "start_time": "2022-08-25T17:16:02.621Z"
      },
      {
        "duration": 41,
        "start_time": "2022-08-25T17:16:02.634Z"
      },
      {
        "duration": 20,
        "start_time": "2022-08-25T17:16:02.676Z"
      },
      {
        "duration": 4,
        "start_time": "2022-08-25T17:16:02.698Z"
      },
      {
        "duration": 21,
        "start_time": "2022-08-25T17:16:02.704Z"
      },
      {
        "duration": 43,
        "start_time": "2022-08-25T17:16:02.726Z"
      },
      {
        "duration": 13,
        "start_time": "2022-08-25T17:16:02.770Z"
      },
      {
        "duration": 18,
        "start_time": "2022-08-25T17:16:02.784Z"
      },
      {
        "duration": 12,
        "start_time": "2022-08-25T17:16:02.804Z"
      },
      {
        "duration": 19,
        "start_time": "2022-08-25T17:16:02.818Z"
      },
      {
        "duration": 29,
        "start_time": "2022-08-25T17:16:02.839Z"
      },
      {
        "duration": 6,
        "start_time": "2022-08-25T17:16:02.871Z"
      },
      {
        "duration": 21,
        "start_time": "2022-08-25T17:16:02.879Z"
      },
      {
        "duration": 7,
        "start_time": "2022-08-25T17:16:02.901Z"
      },
      {
        "duration": 14,
        "start_time": "2022-08-25T17:16:02.910Z"
      },
      {
        "duration": 10,
        "start_time": "2022-08-25T17:16:02.926Z"
      },
      {
        "duration": 31,
        "start_time": "2022-08-25T17:16:02.938Z"
      },
      {
        "duration": 34,
        "start_time": "2022-08-25T17:16:02.973Z"
      },
      {
        "duration": 2543,
        "start_time": "2022-08-25T17:16:03.009Z"
      },
      {
        "duration": 21,
        "start_time": "2022-08-25T17:16:05.554Z"
      },
      {
        "duration": 12,
        "start_time": "2022-08-25T17:16:05.578Z"
      },
      {
        "duration": 8,
        "start_time": "2022-08-25T17:16:05.591Z"
      },
      {
        "duration": 33,
        "start_time": "2022-08-25T17:16:05.601Z"
      },
      {
        "duration": 12,
        "start_time": "2022-08-25T17:16:05.636Z"
      },
      {
        "duration": 20,
        "start_time": "2022-08-25T17:16:05.650Z"
      },
      {
        "duration": 10,
        "start_time": "2022-08-25T17:16:05.672Z"
      },
      {
        "duration": 5,
        "start_time": "2022-08-25T17:16:09.491Z"
      },
      {
        "duration": 7,
        "start_time": "2022-08-25T17:17:34.659Z"
      },
      {
        "duration": 12,
        "start_time": "2022-08-25T17:17:52.315Z"
      },
      {
        "duration": 8,
        "start_time": "2022-08-25T17:17:54.402Z"
      },
      {
        "duration": 8,
        "start_time": "2022-08-25T17:17:58.001Z"
      },
      {
        "duration": 59,
        "start_time": "2022-08-25T17:18:19.100Z"
      },
      {
        "duration": 5,
        "start_time": "2022-08-25T17:18:22.105Z"
      },
      {
        "duration": 16,
        "start_time": "2022-08-25T17:18:31.881Z"
      },
      {
        "duration": 20,
        "start_time": "2022-08-25T17:18:38.275Z"
      },
      {
        "duration": 4,
        "start_time": "2022-08-25T17:18:40.251Z"
      },
      {
        "duration": 18,
        "start_time": "2022-08-25T17:18:54.656Z"
      },
      {
        "duration": 13,
        "start_time": "2022-08-25T17:19:09.926Z"
      },
      {
        "duration": 77,
        "start_time": "2022-08-25T17:19:25.723Z"
      },
      {
        "duration": 5,
        "start_time": "2022-08-25T17:19:28.056Z"
      },
      {
        "duration": 7,
        "start_time": "2022-08-25T17:19:34.045Z"
      },
      {
        "duration": 6,
        "start_time": "2022-08-25T17:19:39.383Z"
      },
      {
        "duration": 5,
        "start_time": "2022-08-25T17:19:41.222Z"
      },
      {
        "duration": 6,
        "start_time": "2022-08-25T17:20:04.922Z"
      },
      {
        "duration": 6,
        "start_time": "2022-08-25T17:20:06.274Z"
      },
      {
        "duration": 5,
        "start_time": "2022-08-25T17:20:07.700Z"
      },
      {
        "duration": 5,
        "start_time": "2022-08-25T17:20:08.794Z"
      },
      {
        "duration": 6,
        "start_time": "2022-08-25T17:20:10.063Z"
      },
      {
        "duration": 9,
        "start_time": "2022-08-25T17:20:12.541Z"
      },
      {
        "duration": 10,
        "start_time": "2022-08-25T17:20:14.233Z"
      },
      {
        "duration": 12,
        "start_time": "2022-08-25T17:20:15.349Z"
      },
      {
        "duration": 11,
        "start_time": "2022-08-25T17:20:17.601Z"
      },
      {
        "duration": 3,
        "start_time": "2022-08-25T17:20:22.078Z"
      },
      {
        "duration": 19,
        "start_time": "2022-08-25T17:20:22.692Z"
      },
      {
        "duration": 13,
        "start_time": "2022-08-25T17:20:23.415Z"
      },
      {
        "duration": 12,
        "start_time": "2022-08-25T17:20:23.988Z"
      },
      {
        "duration": 24,
        "start_time": "2022-08-25T17:20:25.361Z"
      },
      {
        "duration": 5,
        "start_time": "2022-08-25T17:20:26.224Z"
      },
      {
        "duration": 21,
        "start_time": "2022-08-25T17:20:27.165Z"
      },
      {
        "duration": 5,
        "start_time": "2022-08-25T17:20:28.233Z"
      },
      {
        "duration": 16,
        "start_time": "2022-08-25T17:20:35.187Z"
      },
      {
        "duration": 19,
        "start_time": "2022-08-25T17:20:36.508Z"
      },
      {
        "duration": 6,
        "start_time": "2022-08-25T17:20:43.667Z"
      },
      {
        "duration": 10,
        "start_time": "2022-08-25T17:20:44.964Z"
      },
      {
        "duration": 6,
        "start_time": "2022-08-25T17:20:45.573Z"
      },
      {
        "duration": 7,
        "start_time": "2022-08-25T17:20:52.127Z"
      },
      {
        "duration": 22,
        "start_time": "2022-08-25T17:20:55.201Z"
      },
      {
        "duration": 4,
        "start_time": "2022-08-25T17:20:58.394Z"
      },
      {
        "duration": 5,
        "start_time": "2022-08-25T17:20:59.998Z"
      },
      {
        "duration": 9,
        "start_time": "2022-08-25T17:21:02.243Z"
      },
      {
        "duration": 4,
        "start_time": "2022-08-25T17:21:03.155Z"
      },
      {
        "duration": 6,
        "start_time": "2022-08-25T17:21:04.907Z"
      },
      {
        "duration": 2536,
        "start_time": "2022-08-25T17:21:30.492Z"
      },
      {
        "duration": 12,
        "start_time": "2022-08-25T17:21:34.240Z"
      },
      {
        "duration": 13,
        "start_time": "2022-08-25T17:21:39.874Z"
      },
      {
        "duration": 8,
        "start_time": "2022-08-25T17:21:49.757Z"
      },
      {
        "duration": 729,
        "start_time": "2022-08-25T17:22:59.117Z"
      },
      {
        "duration": 13,
        "start_time": "2022-08-25T17:23:00.060Z"
      },
      {
        "duration": 9,
        "start_time": "2022-08-25T17:23:15.974Z"
      },
      {
        "duration": 16,
        "start_time": "2022-08-25T17:23:21.836Z"
      },
      {
        "duration": 12,
        "start_time": "2022-08-25T17:23:36.183Z"
      },
      {
        "duration": 12,
        "start_time": "2022-08-25T17:24:28.370Z"
      },
      {
        "duration": 10,
        "start_time": "2022-08-25T17:24:53.844Z"
      },
      {
        "duration": 8,
        "start_time": "2022-08-25T17:25:15.961Z"
      },
      {
        "duration": 10,
        "start_time": "2022-08-25T17:26:07.783Z"
      },
      {
        "duration": 8,
        "start_time": "2022-08-25T17:26:12.133Z"
      },
      {
        "duration": 11,
        "start_time": "2022-08-25T17:27:12.496Z"
      },
      {
        "duration": 11,
        "start_time": "2022-08-25T17:27:41.749Z"
      },
      {
        "duration": 14,
        "start_time": "2022-08-25T17:28:31.524Z"
      },
      {
        "duration": 5,
        "start_time": "2022-08-25T17:28:57.434Z"
      },
      {
        "duration": 13,
        "start_time": "2022-08-25T17:32:56.129Z"
      },
      {
        "duration": 7,
        "start_time": "2022-08-25T17:33:27.693Z"
      },
      {
        "duration": 57,
        "start_time": "2022-08-25T17:33:40.168Z"
      },
      {
        "duration": 5,
        "start_time": "2022-08-25T17:33:40.227Z"
      },
      {
        "duration": 18,
        "start_time": "2022-08-25T17:33:40.233Z"
      },
      {
        "duration": 16,
        "start_time": "2022-08-25T17:33:40.267Z"
      },
      {
        "duration": 5,
        "start_time": "2022-08-25T17:33:40.285Z"
      },
      {
        "duration": 20,
        "start_time": "2022-08-25T17:33:40.292Z"
      },
      {
        "duration": 14,
        "start_time": "2022-08-25T17:33:40.314Z"
      },
      {
        "duration": 85,
        "start_time": "2022-08-25T17:33:40.329Z"
      },
      {
        "duration": 5,
        "start_time": "2022-08-25T17:33:40.416Z"
      },
      {
        "duration": 9,
        "start_time": "2022-08-25T17:33:40.422Z"
      },
      {
        "duration": 6,
        "start_time": "2022-08-25T17:33:40.434Z"
      },
      {
        "duration": 7,
        "start_time": "2022-08-25T17:33:40.442Z"
      },
      {
        "duration": 7,
        "start_time": "2022-08-25T17:33:40.468Z"
      },
      {
        "duration": 12,
        "start_time": "2022-08-25T17:33:40.479Z"
      },
      {
        "duration": 7,
        "start_time": "2022-08-25T17:33:40.492Z"
      },
      {
        "duration": 7,
        "start_time": "2022-08-25T17:33:40.501Z"
      },
      {
        "duration": 9,
        "start_time": "2022-08-25T17:33:40.509Z"
      },
      {
        "duration": 12,
        "start_time": "2022-08-25T17:33:40.519Z"
      },
      {
        "duration": 37,
        "start_time": "2022-08-25T17:33:40.532Z"
      },
      {
        "duration": 9,
        "start_time": "2022-08-25T17:33:40.571Z"
      },
      {
        "duration": 11,
        "start_time": "2022-08-25T17:33:40.582Z"
      },
      {
        "duration": 3,
        "start_time": "2022-08-25T17:33:40.595Z"
      },
      {
        "duration": 23,
        "start_time": "2022-08-25T17:33:40.600Z"
      },
      {
        "duration": 47,
        "start_time": "2022-08-25T17:33:40.625Z"
      },
      {
        "duration": 16,
        "start_time": "2022-08-25T17:33:40.674Z"
      },
      {
        "duration": 25,
        "start_time": "2022-08-25T17:33:40.691Z"
      },
      {
        "duration": 5,
        "start_time": "2022-08-25T17:33:40.717Z"
      },
      {
        "duration": 58,
        "start_time": "2022-08-25T17:33:40.723Z"
      },
      {
        "duration": 5,
        "start_time": "2022-08-25T17:33:40.783Z"
      },
      {
        "duration": 16,
        "start_time": "2022-08-25T17:33:40.790Z"
      },
      {
        "duration": 16,
        "start_time": "2022-08-25T17:33:40.808Z"
      },
      {
        "duration": 5,
        "start_time": "2022-08-25T17:33:40.825Z"
      },
      {
        "duration": 38,
        "start_time": "2022-08-25T17:33:40.832Z"
      },
      {
        "duration": 9,
        "start_time": "2022-08-25T17:33:40.872Z"
      },
      {
        "duration": 6,
        "start_time": "2022-08-25T17:33:40.883Z"
      },
      {
        "duration": 23,
        "start_time": "2022-08-25T17:33:40.891Z"
      },
      {
        "duration": 4,
        "start_time": "2022-08-25T17:33:40.916Z"
      },
      {
        "duration": 7,
        "start_time": "2022-08-25T17:33:40.921Z"
      },
      {
        "duration": 9,
        "start_time": "2022-08-25T17:33:40.968Z"
      },
      {
        "duration": 5,
        "start_time": "2022-08-25T17:33:40.978Z"
      },
      {
        "duration": 6,
        "start_time": "2022-08-25T17:33:40.986Z"
      },
      {
        "duration": 2460,
        "start_time": "2022-08-25T17:33:40.994Z"
      },
      {
        "duration": 16,
        "start_time": "2022-08-25T17:33:43.456Z"
      },
      {
        "duration": 8,
        "start_time": "2022-08-25T17:33:43.473Z"
      },
      {
        "duration": 19,
        "start_time": "2022-08-25T17:33:52.654Z"
      },
      {
        "duration": 15,
        "start_time": "2022-08-25T17:35:09.394Z"
      },
      {
        "duration": 11,
        "start_time": "2022-08-25T17:35:44.307Z"
      },
      {
        "duration": 4,
        "start_time": "2022-08-25T17:36:10.949Z"
      },
      {
        "duration": 11,
        "start_time": "2022-08-25T17:36:28.994Z"
      },
      {
        "duration": 5,
        "start_time": "2022-08-25T17:36:30.116Z"
      },
      {
        "duration": 3,
        "start_time": "2022-08-25T17:37:53.972Z"
      },
      {
        "duration": 60,
        "start_time": "2022-08-25T17:55:11.927Z"
      },
      {
        "duration": 4,
        "start_time": "2022-08-25T17:55:11.990Z"
      },
      {
        "duration": 17,
        "start_time": "2022-08-25T17:55:11.996Z"
      },
      {
        "duration": 16,
        "start_time": "2022-08-25T17:55:12.014Z"
      },
      {
        "duration": 5,
        "start_time": "2022-08-25T17:55:12.032Z"
      },
      {
        "duration": 18,
        "start_time": "2022-08-25T17:55:12.068Z"
      },
      {
        "duration": 14,
        "start_time": "2022-08-25T17:55:12.088Z"
      },
      {
        "duration": 87,
        "start_time": "2022-08-25T17:55:12.104Z"
      },
      {
        "duration": 5,
        "start_time": "2022-08-25T17:55:12.193Z"
      },
      {
        "duration": 10,
        "start_time": "2022-08-25T17:55:12.199Z"
      },
      {
        "duration": 8,
        "start_time": "2022-08-25T17:55:12.211Z"
      },
      {
        "duration": 8,
        "start_time": "2022-08-25T17:55:12.221Z"
      },
      {
        "duration": 8,
        "start_time": "2022-08-25T17:55:12.231Z"
      },
      {
        "duration": 6,
        "start_time": "2022-08-25T17:55:12.267Z"
      },
      {
        "duration": 10,
        "start_time": "2022-08-25T17:55:12.275Z"
      },
      {
        "duration": 6,
        "start_time": "2022-08-25T17:55:12.287Z"
      },
      {
        "duration": 7,
        "start_time": "2022-08-25T17:55:12.295Z"
      },
      {
        "duration": 13,
        "start_time": "2022-08-25T17:55:12.304Z"
      },
      {
        "duration": 9,
        "start_time": "2022-08-25T17:55:12.319Z"
      },
      {
        "duration": 38,
        "start_time": "2022-08-25T17:55:12.330Z"
      },
      {
        "duration": 11,
        "start_time": "2022-08-25T17:55:12.369Z"
      },
      {
        "duration": 3,
        "start_time": "2022-08-25T17:55:12.382Z"
      },
      {
        "duration": 21,
        "start_time": "2022-08-25T17:55:12.387Z"
      },
      {
        "duration": 13,
        "start_time": "2022-08-25T17:55:12.410Z"
      },
      {
        "duration": 49,
        "start_time": "2022-08-25T17:55:12.425Z"
      },
      {
        "duration": 22,
        "start_time": "2022-08-25T17:55:12.475Z"
      },
      {
        "duration": 6,
        "start_time": "2022-08-25T17:55:12.499Z"
      },
      {
        "duration": 61,
        "start_time": "2022-08-25T17:55:12.507Z"
      },
      {
        "duration": 6,
        "start_time": "2022-08-25T17:55:12.570Z"
      },
      {
        "duration": 18,
        "start_time": "2022-08-25T17:55:12.578Z"
      },
      {
        "duration": 18,
        "start_time": "2022-08-25T17:55:12.598Z"
      },
      {
        "duration": 6,
        "start_time": "2022-08-25T17:55:12.618Z"
      },
      {
        "duration": 54,
        "start_time": "2022-08-25T17:55:12.625Z"
      },
      {
        "duration": 11,
        "start_time": "2022-08-25T17:55:12.681Z"
      },
      {
        "duration": 8,
        "start_time": "2022-08-25T17:55:12.694Z"
      },
      {
        "duration": 30,
        "start_time": "2022-08-25T17:55:12.705Z"
      },
      {
        "duration": 5,
        "start_time": "2022-08-25T17:55:12.768Z"
      },
      {
        "duration": 13,
        "start_time": "2022-08-25T17:55:12.775Z"
      },
      {
        "duration": 15,
        "start_time": "2022-08-25T17:55:12.790Z"
      },
      {
        "duration": 5,
        "start_time": "2022-08-25T17:55:12.806Z"
      },
      {
        "duration": 7,
        "start_time": "2022-08-25T17:55:12.815Z"
      },
      {
        "duration": 2720,
        "start_time": "2022-08-25T17:55:12.824Z"
      },
      {
        "duration": 12,
        "start_time": "2022-08-25T17:55:15.545Z"
      },
      {
        "duration": 27,
        "start_time": "2022-08-25T17:55:15.559Z"
      },
      {
        "duration": 20,
        "start_time": "2022-08-25T17:55:15.588Z"
      },
      {
        "duration": 24,
        "start_time": "2022-08-25T17:55:15.609Z"
      },
      {
        "duration": 24,
        "start_time": "2022-08-25T17:55:15.635Z"
      },
      {
        "duration": 123,
        "start_time": "2022-08-25T17:55:31.872Z"
      },
      {
        "duration": 10,
        "start_time": "2022-08-25T17:55:37.931Z"
      },
      {
        "duration": 112,
        "start_time": "2022-08-25T18:01:55.010Z"
      },
      {
        "duration": 12,
        "start_time": "2022-08-25T18:02:10.806Z"
      },
      {
        "duration": 11,
        "start_time": "2022-08-25T18:03:37.889Z"
      },
      {
        "duration": 6,
        "start_time": "2022-08-25T18:03:46.486Z"
      },
      {
        "duration": 12,
        "start_time": "2022-08-25T18:05:18.672Z"
      },
      {
        "duration": 420,
        "start_time": "2022-08-25T18:05:28.426Z"
      },
      {
        "duration": 98,
        "start_time": "2022-08-25T18:06:55.848Z"
      },
      {
        "duration": 5,
        "start_time": "2022-08-25T18:07:40.774Z"
      },
      {
        "duration": 5,
        "start_time": "2022-08-25T18:07:47.178Z"
      },
      {
        "duration": 13,
        "start_time": "2022-08-25T18:08:22.074Z"
      },
      {
        "duration": 4,
        "start_time": "2022-08-25T18:09:59.458Z"
      },
      {
        "duration": 6,
        "start_time": "2022-08-25T18:10:35.265Z"
      },
      {
        "duration": 8,
        "start_time": "2022-08-25T18:12:43.951Z"
      },
      {
        "duration": 7,
        "start_time": "2022-08-25T18:13:41.042Z"
      },
      {
        "duration": 5,
        "start_time": "2022-08-25T18:13:56.214Z"
      },
      {
        "duration": 7,
        "start_time": "2022-08-25T18:14:05.131Z"
      },
      {
        "duration": 6,
        "start_time": "2022-08-25T18:14:15.631Z"
      },
      {
        "duration": 5,
        "start_time": "2022-08-25T18:14:19.600Z"
      },
      {
        "duration": 6,
        "start_time": "2022-08-25T18:14:59.274Z"
      },
      {
        "duration": 6,
        "start_time": "2022-08-25T18:15:07.010Z"
      },
      {
        "duration": 5,
        "start_time": "2022-08-25T18:16:03.099Z"
      },
      {
        "duration": 12,
        "start_time": "2022-08-25T20:47:40.574Z"
      },
      {
        "duration": 18,
        "start_time": "2022-08-25T20:54:01.352Z"
      },
      {
        "duration": 14,
        "start_time": "2022-08-25T20:54:18.468Z"
      },
      {
        "duration": 8,
        "start_time": "2022-08-25T20:55:52.596Z"
      },
      {
        "duration": 14,
        "start_time": "2022-08-25T21:35:58.681Z"
      },
      {
        "duration": 14,
        "start_time": "2022-08-25T21:36:33.982Z"
      },
      {
        "duration": 8,
        "start_time": "2022-08-25T21:39:40.546Z"
      },
      {
        "duration": 12,
        "start_time": "2022-08-25T21:40:43.121Z"
      },
      {
        "duration": 4,
        "start_time": "2022-08-25T21:44:21.681Z"
      },
      {
        "duration": 128,
        "start_time": "2022-08-25T21:44:48.412Z"
      },
      {
        "duration": 3,
        "start_time": "2022-08-25T21:45:22.512Z"
      },
      {
        "duration": 7,
        "start_time": "2022-08-25T21:45:37.848Z"
      },
      {
        "duration": 4,
        "start_time": "2022-08-25T21:45:44.462Z"
      },
      {
        "duration": 4,
        "start_time": "2022-08-25T21:46:06.945Z"
      },
      {
        "duration": 6,
        "start_time": "2022-08-25T21:48:03.034Z"
      },
      {
        "duration": 5,
        "start_time": "2022-08-25T21:48:13.577Z"
      },
      {
        "duration": 8,
        "start_time": "2022-08-25T22:07:44.778Z"
      },
      {
        "duration": 116,
        "start_time": "2022-08-25T22:14:21.808Z"
      },
      {
        "duration": 8,
        "start_time": "2022-08-25T22:14:30.537Z"
      },
      {
        "duration": 18,
        "start_time": "2022-08-25T22:14:53.426Z"
      },
      {
        "duration": 20,
        "start_time": "2022-08-25T23:34:27.657Z"
      },
      {
        "duration": 7,
        "start_time": "2022-08-26T00:58:23.269Z"
      },
      {
        "duration": 10,
        "start_time": "2022-08-26T01:05:38.444Z"
      },
      {
        "duration": 62,
        "start_time": "2022-08-26T01:06:05.204Z"
      },
      {
        "duration": 4,
        "start_time": "2022-08-26T01:06:05.268Z"
      },
      {
        "duration": 16,
        "start_time": "2022-08-26T01:06:05.274Z"
      },
      {
        "duration": 17,
        "start_time": "2022-08-26T01:06:05.292Z"
      },
      {
        "duration": 4,
        "start_time": "2022-08-26T01:06:05.310Z"
      },
      {
        "duration": 24,
        "start_time": "2022-08-26T01:06:05.316Z"
      },
      {
        "duration": 15,
        "start_time": "2022-08-26T01:06:05.368Z"
      },
      {
        "duration": 49,
        "start_time": "2022-08-26T01:06:05.384Z"
      },
      {
        "duration": 4,
        "start_time": "2022-08-26T01:06:05.435Z"
      },
      {
        "duration": 30,
        "start_time": "2022-08-26T01:06:05.441Z"
      },
      {
        "duration": 11,
        "start_time": "2022-08-26T01:06:05.473Z"
      },
      {
        "duration": 9,
        "start_time": "2022-08-26T01:06:05.485Z"
      },
      {
        "duration": 12,
        "start_time": "2022-08-26T01:06:05.495Z"
      },
      {
        "duration": 17,
        "start_time": "2022-08-26T01:06:05.509Z"
      },
      {
        "duration": 12,
        "start_time": "2022-08-26T01:06:05.528Z"
      },
      {
        "duration": 8,
        "start_time": "2022-08-26T01:06:05.542Z"
      },
      {
        "duration": 6,
        "start_time": "2022-08-26T01:06:05.568Z"
      },
      {
        "duration": 7,
        "start_time": "2022-08-26T01:06:11.273Z"
      },
      {
        "duration": 8,
        "start_time": "2022-08-26T01:06:18.357Z"
      },
      {
        "duration": 7,
        "start_time": "2022-08-26T01:07:30.525Z"
      },
      {
        "duration": 7,
        "start_time": "2022-08-26T01:11:59.129Z"
      },
      {
        "duration": 8,
        "start_time": "2022-08-26T01:13:02.820Z"
      },
      {
        "duration": 6,
        "start_time": "2022-08-26T01:13:58.462Z"
      },
      {
        "duration": 10,
        "start_time": "2022-08-26T01:26:36.781Z"
      },
      {
        "duration": 21,
        "start_time": "2022-08-26T01:26:57.349Z"
      },
      {
        "duration": 6,
        "start_time": "2022-08-26T01:28:54.460Z"
      },
      {
        "duration": 8,
        "start_time": "2022-08-26T01:29:19.760Z"
      },
      {
        "duration": 6,
        "start_time": "2022-08-26T01:30:27.364Z"
      },
      {
        "duration": 7,
        "start_time": "2022-08-26T01:30:46.839Z"
      },
      {
        "duration": 7,
        "start_time": "2022-08-26T01:31:14.161Z"
      },
      {
        "duration": 7,
        "start_time": "2022-08-26T01:31:34.119Z"
      },
      {
        "duration": 3,
        "start_time": "2022-08-26T01:50:17.826Z"
      },
      {
        "duration": 3,
        "start_time": "2022-08-26T01:50:22.784Z"
      },
      {
        "duration": 8,
        "start_time": "2022-08-26T01:50:40.742Z"
      },
      {
        "duration": 7,
        "start_time": "2022-08-26T01:50:48.798Z"
      },
      {
        "duration": 7,
        "start_time": "2022-08-26T01:51:02.324Z"
      },
      {
        "duration": 10,
        "start_time": "2022-08-26T01:51:13.568Z"
      },
      {
        "duration": 11,
        "start_time": "2022-08-26T01:51:22.995Z"
      },
      {
        "duration": 10,
        "start_time": "2022-08-26T01:51:34.356Z"
      },
      {
        "duration": 10,
        "start_time": "2022-08-26T01:51:46.058Z"
      },
      {
        "duration": 159,
        "start_time": "2022-08-26T14:17:21.150Z"
      },
      {
        "duration": 21,
        "start_time": "2022-08-26T14:18:07.020Z"
      },
      {
        "duration": 4,
        "start_time": "2022-08-26T15:52:24.775Z"
      },
      {
        "duration": 14,
        "start_time": "2022-08-26T16:03:07.027Z"
      },
      {
        "duration": 6,
        "start_time": "2022-08-26T16:33:59.338Z"
      },
      {
        "duration": 6,
        "start_time": "2022-08-26T16:34:24.411Z"
      },
      {
        "duration": 8,
        "start_time": "2022-08-26T16:45:37.801Z"
      },
      {
        "duration": 9,
        "start_time": "2022-08-26T18:17:33.484Z"
      },
      {
        "duration": 6,
        "start_time": "2022-08-26T18:17:36.294Z"
      },
      {
        "duration": 18,
        "start_time": "2022-08-26T18:20:10.282Z"
      },
      {
        "duration": 23,
        "start_time": "2022-08-26T19:14:54.321Z"
      },
      {
        "duration": 57,
        "start_time": "2022-08-26T19:15:32.725Z"
      },
      {
        "duration": 4,
        "start_time": "2022-08-26T19:15:32.784Z"
      },
      {
        "duration": 14,
        "start_time": "2022-08-26T19:15:32.790Z"
      },
      {
        "duration": 17,
        "start_time": "2022-08-26T19:15:32.806Z"
      },
      {
        "duration": 3,
        "start_time": "2022-08-26T19:15:32.825Z"
      },
      {
        "duration": 40,
        "start_time": "2022-08-26T19:15:32.829Z"
      },
      {
        "duration": 13,
        "start_time": "2022-08-26T19:15:32.870Z"
      },
      {
        "duration": 46,
        "start_time": "2022-08-26T19:15:32.885Z"
      },
      {
        "duration": 4,
        "start_time": "2022-08-26T19:15:32.932Z"
      },
      {
        "duration": 32,
        "start_time": "2022-08-26T19:15:32.938Z"
      },
      {
        "duration": 10,
        "start_time": "2022-08-26T19:15:32.971Z"
      },
      {
        "duration": 7,
        "start_time": "2022-08-26T19:15:32.982Z"
      },
      {
        "duration": 6,
        "start_time": "2022-08-26T19:15:32.990Z"
      },
      {
        "duration": 9,
        "start_time": "2022-08-26T19:15:32.999Z"
      },
      {
        "duration": 16,
        "start_time": "2022-08-26T19:15:33.010Z"
      },
      {
        "duration": 11,
        "start_time": "2022-08-26T19:15:33.028Z"
      },
      {
        "duration": 18,
        "start_time": "2022-08-26T19:15:33.040Z"
      },
      {
        "duration": 12,
        "start_time": "2022-08-26T19:15:33.059Z"
      },
      {
        "duration": 15,
        "start_time": "2022-08-26T19:15:33.073Z"
      },
      {
        "duration": 10,
        "start_time": "2022-08-26T19:15:33.089Z"
      },
      {
        "duration": 14,
        "start_time": "2022-08-26T19:15:33.101Z"
      },
      {
        "duration": 14,
        "start_time": "2022-08-26T19:15:33.117Z"
      },
      {
        "duration": 6,
        "start_time": "2022-08-26T19:15:33.133Z"
      },
      {
        "duration": 35,
        "start_time": "2022-08-26T19:15:33.141Z"
      },
      {
        "duration": 5,
        "start_time": "2022-08-26T19:15:33.178Z"
      },
      {
        "duration": 10,
        "start_time": "2022-08-26T19:15:33.184Z"
      },
      {
        "duration": 7,
        "start_time": "2022-08-26T19:15:33.196Z"
      },
      {
        "duration": 14,
        "start_time": "2022-08-26T19:15:33.204Z"
      },
      {
        "duration": 8,
        "start_time": "2022-08-26T19:15:33.220Z"
      },
      {
        "duration": 43,
        "start_time": "2022-08-26T19:15:33.229Z"
      },
      {
        "duration": 5,
        "start_time": "2022-08-26T19:15:33.273Z"
      },
      {
        "duration": 14,
        "start_time": "2022-08-26T19:15:33.280Z"
      },
      {
        "duration": 10,
        "start_time": "2022-08-26T19:15:33.295Z"
      },
      {
        "duration": 15,
        "start_time": "2022-08-26T19:15:33.306Z"
      },
      {
        "duration": 10,
        "start_time": "2022-08-26T19:15:33.323Z"
      },
      {
        "duration": 10,
        "start_time": "2022-08-26T19:15:33.335Z"
      },
      {
        "duration": 29,
        "start_time": "2022-08-26T19:15:33.347Z"
      },
      {
        "duration": 7,
        "start_time": "2022-08-26T19:15:33.378Z"
      },
      {
        "duration": 6,
        "start_time": "2022-08-26T19:15:33.387Z"
      },
      {
        "duration": 13,
        "start_time": "2022-08-26T19:15:33.394Z"
      },
      {
        "duration": 13,
        "start_time": "2022-08-26T19:15:33.412Z"
      },
      {
        "duration": 6,
        "start_time": "2022-08-26T19:15:33.426Z"
      },
      {
        "duration": 38,
        "start_time": "2022-08-26T19:15:33.433Z"
      },
      {
        "duration": 9,
        "start_time": "2022-08-26T19:15:33.473Z"
      },
      {
        "duration": 6,
        "start_time": "2022-08-26T19:15:33.483Z"
      },
      {
        "duration": 23,
        "start_time": "2022-08-26T19:15:33.491Z"
      },
      {
        "duration": 4,
        "start_time": "2022-08-26T19:15:33.515Z"
      },
      {
        "duration": 7,
        "start_time": "2022-08-26T19:15:33.520Z"
      },
      {
        "duration": 40,
        "start_time": "2022-08-26T19:15:33.528Z"
      },
      {
        "duration": 4,
        "start_time": "2022-08-26T19:15:33.569Z"
      },
      {
        "duration": 8,
        "start_time": "2022-08-26T19:15:33.575Z"
      },
      {
        "duration": 2387,
        "start_time": "2022-08-26T19:15:33.585Z"
      },
      {
        "duration": 11,
        "start_time": "2022-08-26T19:15:35.974Z"
      },
      {
        "duration": 6,
        "start_time": "2022-08-26T19:15:35.986Z"
      },
      {
        "duration": 22,
        "start_time": "2022-08-26T19:15:35.993Z"
      },
      {
        "duration": 12,
        "start_time": "2022-08-26T19:15:36.016Z"
      },
      {
        "duration": 43,
        "start_time": "2022-08-26T19:15:36.029Z"
      },
      {
        "duration": 3,
        "start_time": "2022-08-26T19:15:36.074Z"
      },
      {
        "duration": 14,
        "start_time": "2022-08-26T19:15:36.078Z"
      },
      {
        "duration": 5,
        "start_time": "2022-08-26T19:15:36.093Z"
      },
      {
        "duration": 7,
        "start_time": "2022-08-26T19:15:36.100Z"
      },
      {
        "duration": 8,
        "start_time": "2022-08-26T19:15:36.108Z"
      },
      {
        "duration": 14,
        "start_time": "2022-08-26T19:15:36.117Z"
      },
      {
        "duration": 3,
        "start_time": "2022-08-26T19:15:36.132Z"
      },
      {
        "duration": 36,
        "start_time": "2022-08-26T19:15:36.136Z"
      },
      {
        "duration": 8,
        "start_time": "2022-08-26T19:15:36.174Z"
      },
      {
        "duration": 9,
        "start_time": "2022-08-26T19:15:36.184Z"
      },
      {
        "duration": 4,
        "start_time": "2022-08-26T19:15:36.194Z"
      },
      {
        "duration": 18,
        "start_time": "2022-08-26T19:15:36.199Z"
      },
      {
        "duration": 2,
        "start_time": "2022-08-26T19:15:36.218Z"
      },
      {
        "duration": 7,
        "start_time": "2022-08-26T19:15:36.221Z"
      },
      {
        "duration": 5,
        "start_time": "2022-08-26T19:15:36.229Z"
      },
      {
        "duration": 5,
        "start_time": "2022-08-26T19:15:36.236Z"
      },
      {
        "duration": 27,
        "start_time": "2022-08-26T19:15:36.242Z"
      },
      {
        "duration": 6,
        "start_time": "2022-08-26T19:15:36.271Z"
      },
      {
        "duration": 7,
        "start_time": "2022-08-26T19:15:36.278Z"
      },
      {
        "duration": 7,
        "start_time": "2022-08-26T19:15:36.286Z"
      },
      {
        "duration": 6,
        "start_time": "2022-08-26T19:15:36.294Z"
      },
      {
        "duration": 4,
        "start_time": "2022-08-26T19:15:36.301Z"
      },
      {
        "duration": 5,
        "start_time": "2022-08-26T19:15:36.307Z"
      },
      {
        "duration": 5,
        "start_time": "2022-08-26T19:15:36.313Z"
      },
      {
        "duration": 7,
        "start_time": "2022-08-26T19:15:36.319Z"
      },
      {
        "duration": 3,
        "start_time": "2022-08-26T19:15:36.328Z"
      },
      {
        "duration": 3,
        "start_time": "2022-08-26T19:15:36.333Z"
      },
      {
        "duration": 4,
        "start_time": "2022-08-26T19:15:36.338Z"
      },
      {
        "duration": 6,
        "start_time": "2022-08-26T19:15:36.343Z"
      },
      {
        "duration": 20,
        "start_time": "2022-08-26T19:15:36.351Z"
      },
      {
        "duration": 10,
        "start_time": "2022-08-26T19:15:36.374Z"
      },
      {
        "duration": 5,
        "start_time": "2022-08-26T19:15:36.386Z"
      },
      {
        "duration": 4,
        "start_time": "2022-08-26T19:15:36.393Z"
      },
      {
        "duration": 4,
        "start_time": "2022-08-26T19:15:36.399Z"
      },
      {
        "duration": 5,
        "start_time": "2022-08-26T19:15:36.405Z"
      },
      {
        "duration": 5,
        "start_time": "2022-08-26T19:15:36.411Z"
      },
      {
        "duration": 5,
        "start_time": "2022-08-26T19:15:36.417Z"
      },
      {
        "duration": 4,
        "start_time": "2022-08-26T19:15:36.424Z"
      },
      {
        "duration": 5,
        "start_time": "2022-08-26T19:15:36.429Z"
      },
      {
        "duration": 5,
        "start_time": "2022-08-26T19:15:36.436Z"
      },
      {
        "duration": 5,
        "start_time": "2022-08-26T19:15:36.442Z"
      },
      {
        "duration": 5,
        "start_time": "2022-08-26T19:15:36.448Z"
      },
      {
        "duration": 3,
        "start_time": "2022-08-26T19:15:36.468Z"
      },
      {
        "duration": 15,
        "start_time": "2022-08-26T19:15:36.472Z"
      },
      {
        "duration": 8,
        "start_time": "2022-08-26T19:15:36.489Z"
      },
      {
        "duration": 10,
        "start_time": "2022-08-26T19:15:36.499Z"
      },
      {
        "duration": 11,
        "start_time": "2022-08-26T19:15:36.510Z"
      },
      {
        "duration": 12,
        "start_time": "2022-08-26T19:15:36.523Z"
      },
      {
        "duration": 9,
        "start_time": "2022-08-26T19:15:36.537Z"
      },
      {
        "duration": 10,
        "start_time": "2022-08-26T19:15:36.548Z"
      },
      {
        "duration": 12,
        "start_time": "2022-08-26T19:16:27.769Z"
      },
      {
        "duration": 4,
        "start_time": "2022-08-26T19:16:29.169Z"
      },
      {
        "duration": 4,
        "start_time": "2022-08-26T19:16:29.999Z"
      },
      {
        "duration": 19,
        "start_time": "2022-08-26T19:16:38.691Z"
      },
      {
        "duration": 17,
        "start_time": "2022-08-26T19:17:25.546Z"
      },
      {
        "duration": 24,
        "start_time": "2022-08-26T19:18:23.858Z"
      },
      {
        "duration": 21,
        "start_time": "2022-08-26T19:40:12.814Z"
      },
      {
        "duration": 18,
        "start_time": "2022-08-26T19:41:24.002Z"
      },
      {
        "duration": 24,
        "start_time": "2022-08-26T19:42:55.802Z"
      },
      {
        "duration": 18,
        "start_time": "2022-08-26T19:46:13.979Z"
      },
      {
        "duration": 31,
        "start_time": "2022-08-26T19:49:43.082Z"
      },
      {
        "duration": 26,
        "start_time": "2022-08-26T19:49:49.432Z"
      },
      {
        "duration": 37,
        "start_time": "2022-08-26T19:51:08.953Z"
      },
      {
        "duration": 36,
        "start_time": "2022-08-26T19:56:13.422Z"
      },
      {
        "duration": 7,
        "start_time": "2022-08-26T19:57:20.499Z"
      },
      {
        "duration": 4,
        "start_time": "2022-08-26T20:52:18.002Z"
      },
      {
        "duration": 3,
        "start_time": "2022-08-26T20:52:25.337Z"
      },
      {
        "duration": 176,
        "start_time": "2022-08-26T20:53:11.736Z"
      },
      {
        "duration": 5,
        "start_time": "2022-08-26T20:53:27.416Z"
      },
      {
        "duration": 8,
        "start_time": "2022-08-26T21:21:35.834Z"
      },
      {
        "duration": 5,
        "start_time": "2022-08-26T21:22:22.065Z"
      },
      {
        "duration": 6,
        "start_time": "2022-08-26T21:22:49.254Z"
      },
      {
        "duration": 8,
        "start_time": "2022-08-26T21:23:04.395Z"
      },
      {
        "duration": 118,
        "start_time": "2022-08-26T21:23:05.913Z"
      },
      {
        "duration": 7,
        "start_time": "2022-08-26T21:23:19.111Z"
      },
      {
        "duration": 13,
        "start_time": "2022-08-26T21:24:55.892Z"
      },
      {
        "duration": 9,
        "start_time": "2022-08-26T21:25:11.782Z"
      },
      {
        "duration": 5,
        "start_time": "2022-08-26T21:25:34.490Z"
      },
      {
        "duration": 6,
        "start_time": "2022-08-26T21:25:37.237Z"
      },
      {
        "duration": 13,
        "start_time": "2022-08-26T21:27:23.787Z"
      },
      {
        "duration": 5,
        "start_time": "2022-08-26T21:27:25.434Z"
      },
      {
        "duration": 5,
        "start_time": "2022-08-26T21:27:54.841Z"
      },
      {
        "duration": 19,
        "start_time": "2022-08-26T21:27:56.005Z"
      },
      {
        "duration": 4,
        "start_time": "2022-08-26T21:27:57.241Z"
      },
      {
        "duration": 4,
        "start_time": "2022-08-26T21:27:57.611Z"
      },
      {
        "duration": 7,
        "start_time": "2022-08-26T21:27:58.291Z"
      },
      {
        "duration": 3,
        "start_time": "2022-08-26T21:27:58.542Z"
      },
      {
        "duration": 6,
        "start_time": "2022-08-26T21:27:59.312Z"
      },
      {
        "duration": 708,
        "start_time": "2022-08-26T21:27:59.788Z"
      },
      {
        "duration": 10,
        "start_time": "2022-08-26T21:28:00.499Z"
      },
      {
        "duration": 13,
        "start_time": "2022-08-26T21:28:00.511Z"
      },
      {
        "duration": 7,
        "start_time": "2022-08-26T21:28:01.158Z"
      },
      {
        "duration": 14,
        "start_time": "2022-08-26T21:28:01.907Z"
      },
      {
        "duration": 3,
        "start_time": "2022-08-26T21:28:02.526Z"
      },
      {
        "duration": 191,
        "start_time": "2022-08-26T21:28:04.543Z"
      },
      {
        "duration": 5,
        "start_time": "2022-08-26T21:28:05.325Z"
      },
      {
        "duration": 7,
        "start_time": "2022-08-26T21:28:36.508Z"
      },
      {
        "duration": 3,
        "start_time": "2022-08-26T21:28:41.802Z"
      },
      {
        "duration": 183,
        "start_time": "2022-08-26T21:28:43.730Z"
      },
      {
        "duration": 5,
        "start_time": "2022-08-26T21:28:48.596Z"
      },
      {
        "duration": 7,
        "start_time": "2022-08-26T21:28:54.649Z"
      },
      {
        "duration": 5,
        "start_time": "2022-08-26T21:29:12.767Z"
      },
      {
        "duration": 59,
        "start_time": "2022-08-26T21:29:31.018Z"
      },
      {
        "duration": 5,
        "start_time": "2022-08-26T21:29:31.079Z"
      },
      {
        "duration": 18,
        "start_time": "2022-08-26T21:29:31.086Z"
      },
      {
        "duration": 17,
        "start_time": "2022-08-26T21:29:31.106Z"
      },
      {
        "duration": 4,
        "start_time": "2022-08-26T21:29:31.126Z"
      },
      {
        "duration": 16,
        "start_time": "2022-08-26T21:29:31.167Z"
      },
      {
        "duration": 17,
        "start_time": "2022-08-26T21:29:31.184Z"
      },
      {
        "duration": 78,
        "start_time": "2022-08-26T21:29:31.203Z"
      },
      {
        "duration": 5,
        "start_time": "2022-08-26T21:29:31.283Z"
      },
      {
        "duration": 9,
        "start_time": "2022-08-26T21:29:31.290Z"
      },
      {
        "duration": 15,
        "start_time": "2022-08-26T21:29:31.301Z"
      },
      {
        "duration": 18,
        "start_time": "2022-08-26T21:29:31.318Z"
      },
      {
        "duration": 9,
        "start_time": "2022-08-26T21:29:31.338Z"
      },
      {
        "duration": 12,
        "start_time": "2022-08-26T21:29:31.350Z"
      },
      {
        "duration": 10,
        "start_time": "2022-08-26T21:29:31.367Z"
      },
      {
        "duration": 11,
        "start_time": "2022-08-26T21:29:31.378Z"
      },
      {
        "duration": 9,
        "start_time": "2022-08-26T21:29:31.391Z"
      },
      {
        "duration": 11,
        "start_time": "2022-08-26T21:29:31.401Z"
      },
      {
        "duration": 10,
        "start_time": "2022-08-26T21:29:31.414Z"
      },
      {
        "duration": 19,
        "start_time": "2022-08-26T21:29:31.425Z"
      },
      {
        "duration": 22,
        "start_time": "2022-08-26T21:29:31.446Z"
      },
      {
        "duration": 41,
        "start_time": "2022-08-26T21:29:31.469Z"
      },
      {
        "duration": 23,
        "start_time": "2022-08-26T21:29:31.512Z"
      },
      {
        "duration": 33,
        "start_time": "2022-08-26T21:29:31.537Z"
      },
      {
        "duration": 7,
        "start_time": "2022-08-26T21:29:31.571Z"
      },
      {
        "duration": 10,
        "start_time": "2022-08-26T21:29:31.579Z"
      },
      {
        "duration": 15,
        "start_time": "2022-08-26T21:29:31.592Z"
      },
      {
        "duration": 8,
        "start_time": "2022-08-26T21:29:31.609Z"
      },
      {
        "duration": 8,
        "start_time": "2022-08-26T21:29:31.618Z"
      },
      {
        "duration": 11,
        "start_time": "2022-08-26T21:29:31.628Z"
      },
      {
        "duration": 6,
        "start_time": "2022-08-26T21:29:31.641Z"
      },
      {
        "duration": 6,
        "start_time": "2022-08-26T21:29:31.669Z"
      },
      {
        "duration": 10,
        "start_time": "2022-08-26T21:29:31.677Z"
      },
      {
        "duration": 9,
        "start_time": "2022-08-26T21:29:31.689Z"
      },
      {
        "duration": 10,
        "start_time": "2022-08-26T21:29:31.700Z"
      },
      {
        "duration": 11,
        "start_time": "2022-08-26T21:29:31.711Z"
      },
      {
        "duration": 45,
        "start_time": "2022-08-26T21:29:31.723Z"
      },
      {
        "duration": 6,
        "start_time": "2022-08-26T21:29:31.770Z"
      },
      {
        "duration": 9,
        "start_time": "2022-08-26T21:29:31.778Z"
      },
      {
        "duration": 16,
        "start_time": "2022-08-26T21:29:31.789Z"
      },
      {
        "duration": 13,
        "start_time": "2022-08-26T21:29:31.809Z"
      },
      {
        "duration": 5,
        "start_time": "2022-08-26T21:29:31.824Z"
      },
      {
        "duration": 38,
        "start_time": "2022-08-26T21:29:31.831Z"
      },
      {
        "duration": 5,
        "start_time": "2022-08-26T21:29:31.871Z"
      },
      {
        "duration": 15,
        "start_time": "2022-08-26T21:29:31.878Z"
      },
      {
        "duration": 7,
        "start_time": "2022-08-26T21:29:31.894Z"
      },
      {
        "duration": 7,
        "start_time": "2022-08-26T21:29:31.902Z"
      },
      {
        "duration": 20,
        "start_time": "2022-08-26T21:29:31.911Z"
      },
      {
        "duration": 37,
        "start_time": "2022-08-26T21:29:31.933Z"
      },
      {
        "duration": 11,
        "start_time": "2022-08-26T21:29:31.972Z"
      },
      {
        "duration": 10,
        "start_time": "2022-08-26T21:29:31.985Z"
      },
      {
        "duration": 5,
        "start_time": "2022-08-26T21:29:31.996Z"
      },
      {
        "duration": 8,
        "start_time": "2022-08-26T21:29:32.003Z"
      },
      {
        "duration": 2497,
        "start_time": "2022-08-26T21:29:32.013Z"
      },
      {
        "duration": 12,
        "start_time": "2022-08-26T21:29:34.511Z"
      },
      {
        "duration": 6,
        "start_time": "2022-08-26T21:29:34.525Z"
      },
      {
        "duration": 36,
        "start_time": "2022-08-26T21:29:34.533Z"
      },
      {
        "duration": 17,
        "start_time": "2022-08-26T21:29:38.147Z"
      },
      {
        "duration": 3,
        "start_time": "2022-08-26T21:29:40.071Z"
      },
      {
        "duration": 175,
        "start_time": "2022-08-26T21:29:41.737Z"
      },
      {
        "duration": 5,
        "start_time": "2022-08-26T21:29:43.076Z"
      },
      {
        "duration": 4,
        "start_time": "2022-08-26T21:32:40.071Z"
      },
      {
        "duration": 196,
        "start_time": "2022-08-26T21:32:41.677Z"
      },
      {
        "duration": 6,
        "start_time": "2022-08-26T21:32:45.019Z"
      },
      {
        "duration": 61,
        "start_time": "2022-08-26T21:33:59.695Z"
      },
      {
        "duration": 5,
        "start_time": "2022-08-26T21:33:59.757Z"
      },
      {
        "duration": 16,
        "start_time": "2022-08-26T21:33:59.764Z"
      },
      {
        "duration": 24,
        "start_time": "2022-08-26T21:33:59.781Z"
      },
      {
        "duration": 3,
        "start_time": "2022-08-26T21:33:59.808Z"
      },
      {
        "duration": 22,
        "start_time": "2022-08-26T21:33:59.813Z"
      },
      {
        "duration": 31,
        "start_time": "2022-08-26T21:33:59.837Z"
      },
      {
        "duration": 48,
        "start_time": "2022-08-26T21:33:59.870Z"
      },
      {
        "duration": 5,
        "start_time": "2022-08-26T21:33:59.920Z"
      },
      {
        "duration": 7,
        "start_time": "2022-08-26T21:33:59.926Z"
      },
      {
        "duration": 36,
        "start_time": "2022-08-26T21:33:59.935Z"
      },
      {
        "duration": 6,
        "start_time": "2022-08-26T21:33:59.973Z"
      },
      {
        "duration": 6,
        "start_time": "2022-08-26T21:33:59.980Z"
      },
      {
        "duration": 5,
        "start_time": "2022-08-26T21:33:59.990Z"
      },
      {
        "duration": 10,
        "start_time": "2022-08-26T21:33:59.997Z"
      },
      {
        "duration": 12,
        "start_time": "2022-08-26T21:34:00.009Z"
      },
      {
        "duration": 13,
        "start_time": "2022-08-26T21:34:00.024Z"
      },
      {
        "duration": 32,
        "start_time": "2022-08-26T21:34:00.039Z"
      },
      {
        "duration": 10,
        "start_time": "2022-08-26T21:34:00.073Z"
      },
      {
        "duration": 13,
        "start_time": "2022-08-26T21:34:00.085Z"
      },
      {
        "duration": 14,
        "start_time": "2022-08-26T21:34:00.100Z"
      },
      {
        "duration": 17,
        "start_time": "2022-08-26T21:34:00.116Z"
      },
      {
        "duration": 35,
        "start_time": "2022-08-26T21:34:00.134Z"
      },
      {
        "duration": 32,
        "start_time": "2022-08-26T21:34:00.171Z"
      },
      {
        "duration": 7,
        "start_time": "2022-08-26T21:34:00.205Z"
      },
      {
        "duration": 20,
        "start_time": "2022-08-26T21:34:00.214Z"
      },
      {
        "duration": 12,
        "start_time": "2022-08-26T21:34:00.236Z"
      },
      {
        "duration": 21,
        "start_time": "2022-08-26T21:34:00.250Z"
      },
      {
        "duration": 12,
        "start_time": "2022-08-26T21:34:00.273Z"
      },
      {
        "duration": 9,
        "start_time": "2022-08-26T21:34:00.287Z"
      },
      {
        "duration": 4,
        "start_time": "2022-08-26T21:34:00.298Z"
      },
      {
        "duration": 10,
        "start_time": "2022-08-26T21:34:00.304Z"
      },
      {
        "duration": 12,
        "start_time": "2022-08-26T21:34:00.316Z"
      },
      {
        "duration": 15,
        "start_time": "2022-08-26T21:34:00.330Z"
      },
      {
        "duration": 27,
        "start_time": "2022-08-26T21:34:00.347Z"
      },
      {
        "duration": 11,
        "start_time": "2022-08-26T21:34:00.376Z"
      },
      {
        "duration": 16,
        "start_time": "2022-08-26T21:34:00.388Z"
      },
      {
        "duration": 13,
        "start_time": "2022-08-26T21:34:00.406Z"
      },
      {
        "duration": 10,
        "start_time": "2022-08-26T21:34:00.421Z"
      },
      {
        "duration": 13,
        "start_time": "2022-08-26T21:34:00.433Z"
      },
      {
        "duration": 13,
        "start_time": "2022-08-26T21:34:00.468Z"
      },
      {
        "duration": 6,
        "start_time": "2022-08-26T21:34:00.483Z"
      },
      {
        "duration": 14,
        "start_time": "2022-08-26T21:34:00.491Z"
      },
      {
        "duration": 11,
        "start_time": "2022-08-26T21:34:00.507Z"
      },
      {
        "duration": 21,
        "start_time": "2022-08-26T21:34:00.520Z"
      },
      {
        "duration": 28,
        "start_time": "2022-08-26T21:34:00.543Z"
      },
      {
        "duration": 8,
        "start_time": "2022-08-26T21:34:00.573Z"
      },
      {
        "duration": 21,
        "start_time": "2022-08-26T21:34:00.583Z"
      },
      {
        "duration": 5,
        "start_time": "2022-08-26T21:34:00.605Z"
      },
      {
        "duration": 6,
        "start_time": "2022-08-26T21:34:00.612Z"
      },
      {
        "duration": 11,
        "start_time": "2022-08-26T21:34:00.620Z"
      },
      {
        "duration": 4,
        "start_time": "2022-08-26T21:34:00.668Z"
      },
      {
        "duration": 11,
        "start_time": "2022-08-26T21:34:00.674Z"
      },
      {
        "duration": 2411,
        "start_time": "2022-08-26T21:34:00.687Z"
      },
      {
        "duration": 11,
        "start_time": "2022-08-26T21:34:03.100Z"
      },
      {
        "duration": 7,
        "start_time": "2022-08-26T21:34:03.113Z"
      },
      {
        "duration": 14,
        "start_time": "2022-08-26T21:34:03.121Z"
      },
      {
        "duration": 40,
        "start_time": "2022-08-26T21:34:03.137Z"
      },
      {
        "duration": 5,
        "start_time": "2022-08-26T21:34:03.178Z"
      },
      {
        "duration": 199,
        "start_time": "2022-08-26T21:34:03.185Z"
      },
      {
        "duration": 6,
        "start_time": "2022-08-26T21:34:03.386Z"
      },
      {
        "duration": 11,
        "start_time": "2022-08-26T21:34:03.393Z"
      },
      {
        "duration": 7,
        "start_time": "2022-08-26T21:34:03.406Z"
      },
      {
        "duration": 5,
        "start_time": "2022-08-26T21:34:03.415Z"
      },
      {
        "duration": 18,
        "start_time": "2022-08-26T21:34:03.421Z"
      },
      {
        "duration": 3,
        "start_time": "2022-08-26T21:34:03.441Z"
      },
      {
        "duration": 4,
        "start_time": "2022-08-26T21:34:03.467Z"
      },
      {
        "duration": 11,
        "start_time": "2022-08-26T21:34:03.473Z"
      },
      {
        "duration": 8,
        "start_time": "2022-08-26T21:34:03.486Z"
      },
      {
        "duration": 7,
        "start_time": "2022-08-26T21:34:03.495Z"
      },
      {
        "duration": 11,
        "start_time": "2022-08-26T21:34:03.504Z"
      },
      {
        "duration": 5,
        "start_time": "2022-08-26T21:34:03.516Z"
      },
      {
        "duration": 20,
        "start_time": "2022-08-26T21:34:03.523Z"
      },
      {
        "duration": 17,
        "start_time": "2022-08-26T21:34:03.568Z"
      },
      {
        "duration": 20,
        "start_time": "2022-08-26T21:34:03.587Z"
      },
      {
        "duration": 3,
        "start_time": "2022-08-26T21:34:03.609Z"
      },
      {
        "duration": 21,
        "start_time": "2022-08-26T21:34:03.613Z"
      },
      {
        "duration": 0,
        "start_time": "2022-08-26T21:34:03.636Z"
      },
      {
        "duration": 0,
        "start_time": "2022-08-26T21:34:03.636Z"
      },
      {
        "duration": 0,
        "start_time": "2022-08-26T21:34:03.637Z"
      },
      {
        "duration": 0,
        "start_time": "2022-08-26T21:34:03.638Z"
      },
      {
        "duration": 0,
        "start_time": "2022-08-26T21:34:03.668Z"
      },
      {
        "duration": 0,
        "start_time": "2022-08-26T21:34:03.669Z"
      },
      {
        "duration": 0,
        "start_time": "2022-08-26T21:34:03.670Z"
      },
      {
        "duration": 0,
        "start_time": "2022-08-26T21:34:03.671Z"
      },
      {
        "duration": 0,
        "start_time": "2022-08-26T21:34:03.672Z"
      },
      {
        "duration": 0,
        "start_time": "2022-08-26T21:34:03.674Z"
      },
      {
        "duration": 0,
        "start_time": "2022-08-26T21:34:03.674Z"
      },
      {
        "duration": 0,
        "start_time": "2022-08-26T21:34:03.676Z"
      },
      {
        "duration": 0,
        "start_time": "2022-08-26T21:34:03.677Z"
      },
      {
        "duration": 0,
        "start_time": "2022-08-26T21:34:03.678Z"
      },
      {
        "duration": 0,
        "start_time": "2022-08-26T21:34:03.679Z"
      },
      {
        "duration": 0,
        "start_time": "2022-08-26T21:34:03.680Z"
      },
      {
        "duration": 0,
        "start_time": "2022-08-26T21:34:03.681Z"
      },
      {
        "duration": 0,
        "start_time": "2022-08-26T21:34:03.682Z"
      },
      {
        "duration": 0,
        "start_time": "2022-08-26T21:34:03.683Z"
      },
      {
        "duration": 0,
        "start_time": "2022-08-26T21:34:03.683Z"
      },
      {
        "duration": 0,
        "start_time": "2022-08-26T21:34:03.684Z"
      },
      {
        "duration": 0,
        "start_time": "2022-08-26T21:34:03.686Z"
      },
      {
        "duration": 0,
        "start_time": "2022-08-26T21:34:03.687Z"
      },
      {
        "duration": 0,
        "start_time": "2022-08-26T21:34:03.688Z"
      },
      {
        "duration": 0,
        "start_time": "2022-08-26T21:34:03.689Z"
      },
      {
        "duration": 0,
        "start_time": "2022-08-26T21:34:03.690Z"
      },
      {
        "duration": 1,
        "start_time": "2022-08-26T21:34:03.690Z"
      },
      {
        "duration": 0,
        "start_time": "2022-08-26T21:34:03.691Z"
      },
      {
        "duration": 0,
        "start_time": "2022-08-26T21:34:03.693Z"
      },
      {
        "duration": 0,
        "start_time": "2022-08-26T21:34:03.693Z"
      },
      {
        "duration": 0,
        "start_time": "2022-08-26T21:34:03.694Z"
      },
      {
        "duration": 0,
        "start_time": "2022-08-26T21:34:03.695Z"
      },
      {
        "duration": 0,
        "start_time": "2022-08-26T21:34:03.696Z"
      },
      {
        "duration": 0,
        "start_time": "2022-08-26T21:34:03.697Z"
      },
      {
        "duration": 0,
        "start_time": "2022-08-26T21:34:03.699Z"
      },
      {
        "duration": 0,
        "start_time": "2022-08-26T21:34:03.700Z"
      },
      {
        "duration": 0,
        "start_time": "2022-08-26T21:34:03.701Z"
      },
      {
        "duration": 0,
        "start_time": "2022-08-26T21:34:03.703Z"
      },
      {
        "duration": 0,
        "start_time": "2022-08-26T21:34:03.704Z"
      },
      {
        "duration": 0,
        "start_time": "2022-08-26T21:34:03.767Z"
      },
      {
        "duration": 4,
        "start_time": "2022-08-26T21:34:33.932Z"
      },
      {
        "duration": 4,
        "start_time": "2022-08-26T21:35:43.052Z"
      },
      {
        "duration": 194,
        "start_time": "2022-08-26T21:35:54.895Z"
      },
      {
        "duration": 5,
        "start_time": "2022-08-26T21:35:58.587Z"
      },
      {
        "duration": 7,
        "start_time": "2022-08-26T21:36:20.850Z"
      },
      {
        "duration": 159,
        "start_time": "2022-08-26T21:39:34.124Z"
      },
      {
        "duration": 119,
        "start_time": "2022-08-26T21:39:44.492Z"
      },
      {
        "duration": 3,
        "start_time": "2022-08-26T21:39:53.323Z"
      },
      {
        "duration": 22,
        "start_time": "2022-08-26T21:40:13.872Z"
      },
      {
        "duration": 4,
        "start_time": "2022-08-26T21:40:30.397Z"
      },
      {
        "duration": 3,
        "start_time": "2022-08-26T21:42:49.116Z"
      },
      {
        "duration": 751,
        "start_time": "2022-08-26T21:42:51.389Z"
      },
      {
        "duration": 7,
        "start_time": "2022-08-26T21:42:57.386Z"
      },
      {
        "duration": 22,
        "start_time": "2022-08-26T22:08:35.848Z"
      },
      {
        "duration": 16,
        "start_time": "2022-08-26T22:10:35.718Z"
      },
      {
        "duration": 107,
        "start_time": "2022-08-26T22:12:43.008Z"
      },
      {
        "duration": 109,
        "start_time": "2022-08-26T22:12:55.768Z"
      },
      {
        "duration": 107,
        "start_time": "2022-08-26T22:13:12.254Z"
      },
      {
        "duration": 160,
        "start_time": "2022-08-26T22:14:14.665Z"
      },
      {
        "duration": 165,
        "start_time": "2022-08-26T22:14:50.755Z"
      },
      {
        "duration": 117,
        "start_time": "2022-08-26T22:15:05.716Z"
      },
      {
        "duration": 102,
        "start_time": "2022-08-26T22:15:27.680Z"
      },
      {
        "duration": 103,
        "start_time": "2022-08-26T22:15:40.758Z"
      },
      {
        "duration": 119,
        "start_time": "2022-08-26T22:17:07.043Z"
      },
      {
        "duration": 8,
        "start_time": "2022-08-26T22:18:53.538Z"
      },
      {
        "duration": 13,
        "start_time": "2022-08-26T22:19:00.095Z"
      },
      {
        "duration": 17,
        "start_time": "2022-08-26T22:19:26.823Z"
      },
      {
        "duration": 98,
        "start_time": "2022-08-26T22:19:59.997Z"
      },
      {
        "duration": 7,
        "start_time": "2022-08-26T22:20:18.283Z"
      },
      {
        "duration": 100,
        "start_time": "2022-08-26T22:20:33.420Z"
      },
      {
        "duration": 97,
        "start_time": "2022-08-26T22:20:48.616Z"
      },
      {
        "duration": 8,
        "start_time": "2022-08-26T22:20:50.016Z"
      },
      {
        "duration": 109,
        "start_time": "2022-08-26T22:22:21.448Z"
      },
      {
        "duration": 111,
        "start_time": "2022-08-26T22:22:31.477Z"
      },
      {
        "duration": 8,
        "start_time": "2022-08-26T22:22:32.944Z"
      },
      {
        "duration": 4,
        "start_time": "2022-08-26T22:23:01.609Z"
      },
      {
        "duration": 12,
        "start_time": "2022-08-26T22:25:17.980Z"
      },
      {
        "duration": 11,
        "start_time": "2022-08-26T22:25:59.950Z"
      },
      {
        "duration": 10,
        "start_time": "2022-08-26T22:31:26.134Z"
      },
      {
        "duration": 10,
        "start_time": "2022-08-26T22:32:21.345Z"
      },
      {
        "duration": 112,
        "start_time": "2022-08-26T22:33:45.818Z"
      },
      {
        "duration": 8,
        "start_time": "2022-08-26T22:33:54.010Z"
      },
      {
        "duration": 274,
        "start_time": "2022-08-26T22:37:23.938Z"
      },
      {
        "duration": 2565,
        "start_time": "2022-08-26T22:43:23.940Z"
      },
      {
        "duration": 7,
        "start_time": "2022-08-26T22:54:57.587Z"
      },
      {
        "duration": 8,
        "start_time": "2022-08-26T22:55:06.364Z"
      },
      {
        "duration": 7,
        "start_time": "2022-08-26T22:55:25.322Z"
      },
      {
        "duration": 8,
        "start_time": "2022-08-26T22:55:36.874Z"
      },
      {
        "duration": 103,
        "start_time": "2022-08-26T22:56:41.379Z"
      },
      {
        "duration": 134,
        "start_time": "2022-08-26T22:58:07.989Z"
      },
      {
        "duration": 3,
        "start_time": "2022-08-26T22:58:21.204Z"
      },
      {
        "duration": 15,
        "start_time": "2022-08-26T22:59:35.651Z"
      },
      {
        "duration": 10,
        "start_time": "2022-08-26T23:00:05.591Z"
      },
      {
        "duration": 4,
        "start_time": "2022-08-26T23:00:36.361Z"
      },
      {
        "duration": 152,
        "start_time": "2022-08-26T23:00:37.936Z"
      },
      {
        "duration": 8,
        "start_time": "2022-08-26T23:00:40.480Z"
      },
      {
        "duration": 5,
        "start_time": "2022-08-26T23:01:05.086Z"
      },
      {
        "duration": 8,
        "start_time": "2022-08-26T23:01:28.810Z"
      },
      {
        "duration": 2511,
        "start_time": "2022-08-26T23:03:07.060Z"
      },
      {
        "duration": 2204,
        "start_time": "2022-08-26T23:03:42.002Z"
      },
      {
        "duration": 6,
        "start_time": "2022-08-26T23:04:07.183Z"
      },
      {
        "duration": 8,
        "start_time": "2022-08-26T23:04:25.654Z"
      },
      {
        "duration": 59,
        "start_time": "2022-08-26T23:04:37.907Z"
      },
      {
        "duration": 5,
        "start_time": "2022-08-26T23:04:37.968Z"
      },
      {
        "duration": 16,
        "start_time": "2022-08-26T23:04:37.974Z"
      },
      {
        "duration": 15,
        "start_time": "2022-08-26T23:04:37.992Z"
      },
      {
        "duration": 3,
        "start_time": "2022-08-26T23:04:38.009Z"
      },
      {
        "duration": 54,
        "start_time": "2022-08-26T23:04:38.014Z"
      },
      {
        "duration": 13,
        "start_time": "2022-08-26T23:04:38.070Z"
      },
      {
        "duration": 59,
        "start_time": "2022-08-26T23:04:38.085Z"
      },
      {
        "duration": 5,
        "start_time": "2022-08-26T23:04:38.167Z"
      },
      {
        "duration": 8,
        "start_time": "2022-08-26T23:04:38.175Z"
      },
      {
        "duration": 8,
        "start_time": "2022-08-26T23:04:38.185Z"
      },
      {
        "duration": 7,
        "start_time": "2022-08-26T23:04:38.194Z"
      },
      {
        "duration": 7,
        "start_time": "2022-08-26T23:04:38.202Z"
      },
      {
        "duration": 7,
        "start_time": "2022-08-26T23:04:38.211Z"
      },
      {
        "duration": 6,
        "start_time": "2022-08-26T23:04:38.220Z"
      },
      {
        "duration": 6,
        "start_time": "2022-08-26T23:04:38.228Z"
      },
      {
        "duration": 35,
        "start_time": "2022-08-26T23:04:38.236Z"
      },
      {
        "duration": 9,
        "start_time": "2022-08-26T23:04:38.273Z"
      },
      {
        "duration": 11,
        "start_time": "2022-08-26T23:04:38.283Z"
      },
      {
        "duration": 10,
        "start_time": "2022-08-26T23:04:38.295Z"
      },
      {
        "duration": 10,
        "start_time": "2022-08-26T23:04:38.306Z"
      },
      {
        "duration": 11,
        "start_time": "2022-08-26T23:04:38.317Z"
      },
      {
        "duration": 7,
        "start_time": "2022-08-26T23:04:38.330Z"
      },
      {
        "duration": 45,
        "start_time": "2022-08-26T23:04:38.338Z"
      },
      {
        "duration": 7,
        "start_time": "2022-08-26T23:04:38.385Z"
      },
      {
        "duration": 7,
        "start_time": "2022-08-26T23:04:38.394Z"
      },
      {
        "duration": 9,
        "start_time": "2022-08-26T23:04:38.403Z"
      },
      {
        "duration": 8,
        "start_time": "2022-08-26T23:04:38.416Z"
      },
      {
        "duration": 10,
        "start_time": "2022-08-26T23:04:38.426Z"
      },
      {
        "duration": 35,
        "start_time": "2022-08-26T23:04:38.438Z"
      },
      {
        "duration": 5,
        "start_time": "2022-08-26T23:04:38.475Z"
      },
      {
        "duration": 10,
        "start_time": "2022-08-26T23:04:38.481Z"
      },
      {
        "duration": 15,
        "start_time": "2022-08-26T23:04:38.492Z"
      },
      {
        "duration": 7,
        "start_time": "2022-08-26T23:04:38.509Z"
      },
      {
        "duration": 11,
        "start_time": "2022-08-26T23:04:38.517Z"
      },
      {
        "duration": 40,
        "start_time": "2022-08-26T23:04:38.529Z"
      },
      {
        "duration": 14,
        "start_time": "2022-08-26T23:04:38.570Z"
      },
      {
        "duration": 6,
        "start_time": "2022-08-26T23:04:38.586Z"
      },
      {
        "duration": 6,
        "start_time": "2022-08-26T23:04:38.593Z"
      },
      {
        "duration": 19,
        "start_time": "2022-08-26T23:04:38.600Z"
      },
      {
        "duration": 12,
        "start_time": "2022-08-26T23:04:38.621Z"
      },
      {
        "duration": 34,
        "start_time": "2022-08-26T23:04:38.634Z"
      },
      {
        "duration": 9,
        "start_time": "2022-08-26T23:04:38.670Z"
      },
      {
        "duration": 9,
        "start_time": "2022-08-26T23:04:38.680Z"
      },
      {
        "duration": 13,
        "start_time": "2022-08-26T23:04:38.691Z"
      },
      {
        "duration": 5,
        "start_time": "2022-08-26T23:04:38.706Z"
      },
      {
        "duration": 6,
        "start_time": "2022-08-26T23:04:38.712Z"
      },
      {
        "duration": 52,
        "start_time": "2022-08-26T23:04:38.720Z"
      },
      {
        "duration": 4,
        "start_time": "2022-08-26T23:04:38.774Z"
      },
      {
        "duration": 6,
        "start_time": "2022-08-26T23:04:38.779Z"
      },
      {
        "duration": 10,
        "start_time": "2022-08-26T23:04:38.787Z"
      },
      {
        "duration": 4,
        "start_time": "2022-08-26T23:04:38.799Z"
      },
      {
        "duration": 8,
        "start_time": "2022-08-26T23:04:38.805Z"
      },
      {
        "duration": 2576,
        "start_time": "2022-08-26T23:04:38.815Z"
      },
      {
        "duration": 12,
        "start_time": "2022-08-26T23:04:41.393Z"
      },
      {
        "duration": 7,
        "start_time": "2022-08-26T23:04:41.406Z"
      },
      {
        "duration": 14,
        "start_time": "2022-08-26T23:04:41.415Z"
      },
      {
        "duration": 43,
        "start_time": "2022-08-26T23:04:41.430Z"
      },
      {
        "duration": 3,
        "start_time": "2022-08-26T23:04:41.475Z"
      },
      {
        "duration": 199,
        "start_time": "2022-08-26T23:04:41.479Z"
      },
      {
        "duration": 6,
        "start_time": "2022-08-26T23:04:41.681Z"
      },
      {
        "duration": 49,
        "start_time": "2022-08-26T23:04:41.689Z"
      },
      {
        "duration": 30,
        "start_time": "2022-08-26T23:04:41.739Z"
      },
      {
        "duration": 21,
        "start_time": "2022-08-26T23:04:41.770Z"
      },
      {
        "duration": 29,
        "start_time": "2022-08-26T23:04:41.793Z"
      },
      {
        "duration": 4,
        "start_time": "2022-08-26T23:04:41.824Z"
      },
      {
        "duration": 26,
        "start_time": "2022-08-26T23:04:41.829Z"
      },
      {
        "duration": 23,
        "start_time": "2022-08-26T23:04:41.857Z"
      },
      {
        "duration": 15,
        "start_time": "2022-08-26T23:04:41.881Z"
      },
      {
        "duration": 7,
        "start_time": "2022-08-26T23:04:44.068Z"
      },
      {
        "duration": 8,
        "start_time": "2022-08-26T23:04:50.343Z"
      },
      {
        "duration": 6,
        "start_time": "2022-08-26T23:04:51.680Z"
      },
      {
        "duration": 2632,
        "start_time": "2022-08-26T23:08:20.247Z"
      },
      {
        "duration": 2678,
        "start_time": "2022-08-26T23:08:45.927Z"
      },
      {
        "duration": 5,
        "start_time": "2022-08-26T23:09:44.701Z"
      },
      {
        "duration": 5,
        "start_time": "2022-08-27T00:21:30.947Z"
      },
      {
        "duration": 3,
        "start_time": "2022-08-27T00:21:42.052Z"
      },
      {
        "duration": 2641,
        "start_time": "2022-08-27T00:21:43.144Z"
      },
      {
        "duration": 5,
        "start_time": "2022-08-27T00:21:51.047Z"
      },
      {
        "duration": 15,
        "start_time": "2022-08-27T00:21:56.232Z"
      },
      {
        "duration": 3,
        "start_time": "2022-08-27T00:27:45.216Z"
      },
      {
        "duration": 15,
        "start_time": "2022-08-27T00:27:46.370Z"
      },
      {
        "duration": 5,
        "start_time": "2022-08-27T00:30:11.708Z"
      },
      {
        "duration": 108,
        "start_time": "2022-08-27T00:30:25.905Z"
      },
      {
        "duration": 4,
        "start_time": "2022-08-27T00:37:53.484Z"
      },
      {
        "duration": 155,
        "start_time": "2022-08-27T00:37:56.536Z"
      },
      {
        "duration": 6,
        "start_time": "2022-08-27T00:38:00.713Z"
      },
      {
        "duration": 59,
        "start_time": "2022-08-27T00:38:18.956Z"
      },
      {
        "duration": 5,
        "start_time": "2022-08-27T00:38:19.017Z"
      },
      {
        "duration": 20,
        "start_time": "2022-08-27T00:38:19.023Z"
      },
      {
        "duration": 32,
        "start_time": "2022-08-27T00:38:19.045Z"
      },
      {
        "duration": 5,
        "start_time": "2022-08-27T00:38:19.079Z"
      },
      {
        "duration": 18,
        "start_time": "2022-08-27T00:38:19.085Z"
      },
      {
        "duration": 11,
        "start_time": "2022-08-27T00:38:19.104Z"
      },
      {
        "duration": 85,
        "start_time": "2022-08-27T00:38:19.117Z"
      },
      {
        "duration": 6,
        "start_time": "2022-08-27T00:38:19.203Z"
      },
      {
        "duration": 8,
        "start_time": "2022-08-27T00:38:19.210Z"
      },
      {
        "duration": 8,
        "start_time": "2022-08-27T00:38:19.219Z"
      },
      {
        "duration": 6,
        "start_time": "2022-08-27T00:38:19.229Z"
      },
      {
        "duration": 7,
        "start_time": "2022-08-27T00:38:19.236Z"
      },
      {
        "duration": 28,
        "start_time": "2022-08-27T00:38:19.245Z"
      },
      {
        "duration": 8,
        "start_time": "2022-08-27T00:38:19.274Z"
      },
      {
        "duration": 5,
        "start_time": "2022-08-27T00:38:19.283Z"
      },
      {
        "duration": 5,
        "start_time": "2022-08-27T00:38:19.290Z"
      },
      {
        "duration": 7,
        "start_time": "2022-08-27T00:38:19.297Z"
      },
      {
        "duration": 9,
        "start_time": "2022-08-27T00:38:19.306Z"
      },
      {
        "duration": 9,
        "start_time": "2022-08-27T00:38:19.316Z"
      },
      {
        "duration": 47,
        "start_time": "2022-08-27T00:38:19.327Z"
      },
      {
        "duration": 9,
        "start_time": "2022-08-27T00:38:19.376Z"
      },
      {
        "duration": 9,
        "start_time": "2022-08-27T00:38:19.386Z"
      },
      {
        "duration": 28,
        "start_time": "2022-08-27T00:38:19.397Z"
      },
      {
        "duration": 5,
        "start_time": "2022-08-27T00:38:19.427Z"
      },
      {
        "duration": 9,
        "start_time": "2022-08-27T00:38:19.433Z"
      },
      {
        "duration": 25,
        "start_time": "2022-08-27T00:38:19.444Z"
      },
      {
        "duration": 10,
        "start_time": "2022-08-27T00:38:19.470Z"
      },
      {
        "duration": 11,
        "start_time": "2022-08-27T00:38:19.481Z"
      },
      {
        "duration": 15,
        "start_time": "2022-08-27T00:38:19.494Z"
      },
      {
        "duration": 6,
        "start_time": "2022-08-27T00:38:19.511Z"
      },
      {
        "duration": 8,
        "start_time": "2022-08-27T00:38:19.519Z"
      },
      {
        "duration": 9,
        "start_time": "2022-08-27T00:38:19.528Z"
      },
      {
        "duration": 30,
        "start_time": "2022-08-27T00:38:19.539Z"
      },
      {
        "duration": 12,
        "start_time": "2022-08-27T00:38:19.571Z"
      },
      {
        "duration": 13,
        "start_time": "2022-08-27T00:38:19.585Z"
      },
      {
        "duration": 16,
        "start_time": "2022-08-27T00:38:19.600Z"
      },
      {
        "duration": 11,
        "start_time": "2022-08-27T00:38:19.618Z"
      },
      {
        "duration": 9,
        "start_time": "2022-08-27T00:38:19.631Z"
      },
      {
        "duration": 43,
        "start_time": "2022-08-27T00:38:19.642Z"
      },
      {
        "duration": 12,
        "start_time": "2022-08-27T00:38:19.689Z"
      },
      {
        "duration": 5,
        "start_time": "2022-08-27T00:38:19.703Z"
      },
      {
        "duration": 10,
        "start_time": "2022-08-27T00:38:19.710Z"
      },
      {
        "duration": 6,
        "start_time": "2022-08-27T00:38:19.721Z"
      },
      {
        "duration": 13,
        "start_time": "2022-08-27T00:38:19.728Z"
      },
      {
        "duration": 29,
        "start_time": "2022-08-27T00:38:19.742Z"
      },
      {
        "duration": 30,
        "start_time": "2022-08-27T00:38:19.773Z"
      },
      {
        "duration": 20,
        "start_time": "2022-08-27T00:38:19.805Z"
      },
      {
        "duration": 4,
        "start_time": "2022-08-27T00:38:19.826Z"
      },
      {
        "duration": 5,
        "start_time": "2022-08-27T00:38:19.832Z"
      },
      {
        "duration": 9,
        "start_time": "2022-08-27T00:38:19.839Z"
      },
      {
        "duration": 18,
        "start_time": "2022-08-27T00:38:19.851Z"
      },
      {
        "duration": 8,
        "start_time": "2022-08-27T00:38:19.871Z"
      },
      {
        "duration": 2490,
        "start_time": "2022-08-27T00:38:19.881Z"
      },
      {
        "duration": 11,
        "start_time": "2022-08-27T00:38:22.373Z"
      },
      {
        "duration": 7,
        "start_time": "2022-08-27T00:38:22.385Z"
      },
      {
        "duration": 20,
        "start_time": "2022-08-27T00:38:22.394Z"
      },
      {
        "duration": 19,
        "start_time": "2022-08-27T00:38:22.416Z"
      },
      {
        "duration": 3,
        "start_time": "2022-08-27T00:38:22.437Z"
      },
      {
        "duration": 203,
        "start_time": "2022-08-27T00:38:22.468Z"
      },
      {
        "duration": 6,
        "start_time": "2022-08-27T00:38:22.672Z"
      },
      {
        "duration": 11,
        "start_time": "2022-08-27T00:38:22.680Z"
      },
      {
        "duration": 6,
        "start_time": "2022-08-27T00:38:22.693Z"
      },
      {
        "duration": 6,
        "start_time": "2022-08-27T00:38:22.700Z"
      },
      {
        "duration": 16,
        "start_time": "2022-08-27T00:38:22.707Z"
      },
      {
        "duration": 3,
        "start_time": "2022-08-27T00:38:22.725Z"
      },
      {
        "duration": 7,
        "start_time": "2022-08-27T00:38:22.730Z"
      },
      {
        "duration": 10,
        "start_time": "2022-08-27T00:38:22.768Z"
      },
      {
        "duration": 8,
        "start_time": "2022-08-27T00:38:22.780Z"
      },
      {
        "duration": 5,
        "start_time": "2022-08-27T00:38:22.790Z"
      },
      {
        "duration": 9,
        "start_time": "2022-08-27T00:38:22.796Z"
      },
      {
        "duration": 9,
        "start_time": "2022-08-27T00:38:22.807Z"
      },
      {
        "duration": 50,
        "start_time": "2022-08-27T00:38:22.818Z"
      },
      {
        "duration": 4,
        "start_time": "2022-08-27T00:38:22.870Z"
      },
      {
        "duration": 3,
        "start_time": "2022-08-27T00:38:36.122Z"
      },
      {
        "duration": 152,
        "start_time": "2022-08-27T00:38:36.933Z"
      },
      {
        "duration": 6,
        "start_time": "2022-08-27T00:38:37.712Z"
      },
      {
        "duration": 4,
        "start_time": "2022-08-27T01:09:38.638Z"
      },
      {
        "duration": 188,
        "start_time": "2022-08-27T01:09:39.294Z"
      },
      {
        "duration": 5,
        "start_time": "2022-08-27T01:09:39.903Z"
      },
      {
        "duration": 62,
        "start_time": "2022-08-27T01:09:51.698Z"
      },
      {
        "duration": 4,
        "start_time": "2022-08-27T01:09:51.762Z"
      },
      {
        "duration": 16,
        "start_time": "2022-08-27T01:09:51.768Z"
      },
      {
        "duration": 18,
        "start_time": "2022-08-27T01:09:51.785Z"
      },
      {
        "duration": 4,
        "start_time": "2022-08-27T01:09:51.805Z"
      },
      {
        "duration": 18,
        "start_time": "2022-08-27T01:09:51.810Z"
      },
      {
        "duration": 44,
        "start_time": "2022-08-27T01:09:51.830Z"
      },
      {
        "duration": 46,
        "start_time": "2022-08-27T01:09:51.876Z"
      },
      {
        "duration": 4,
        "start_time": "2022-08-27T01:09:51.924Z"
      },
      {
        "duration": 6,
        "start_time": "2022-08-27T01:09:51.930Z"
      },
      {
        "duration": 31,
        "start_time": "2022-08-27T01:09:51.937Z"
      },
      {
        "duration": 6,
        "start_time": "2022-08-27T01:09:51.969Z"
      },
      {
        "duration": 13,
        "start_time": "2022-08-27T01:09:51.976Z"
      },
      {
        "duration": 10,
        "start_time": "2022-08-27T01:09:51.992Z"
      },
      {
        "duration": 13,
        "start_time": "2022-08-27T01:09:52.004Z"
      },
      {
        "duration": 10,
        "start_time": "2022-08-27T01:09:52.018Z"
      },
      {
        "duration": 11,
        "start_time": "2022-08-27T01:09:52.029Z"
      },
      {
        "duration": 6,
        "start_time": "2022-08-27T01:09:52.042Z"
      },
      {
        "duration": 23,
        "start_time": "2022-08-27T01:09:52.050Z"
      },
      {
        "duration": 15,
        "start_time": "2022-08-27T01:09:52.075Z"
      },
      {
        "duration": 11,
        "start_time": "2022-08-27T01:09:52.092Z"
      },
      {
        "duration": 14,
        "start_time": "2022-08-27T01:09:52.104Z"
      },
      {
        "duration": 14,
        "start_time": "2022-08-27T01:09:52.120Z"
      },
      {
        "duration": 24,
        "start_time": "2022-08-27T01:09:52.135Z"
      },
      {
        "duration": 6,
        "start_time": "2022-08-27T01:09:52.168Z"
      },
      {
        "duration": 9,
        "start_time": "2022-08-27T01:09:52.176Z"
      },
      {
        "duration": 7,
        "start_time": "2022-08-27T01:09:52.187Z"
      },
      {
        "duration": 13,
        "start_time": "2022-08-27T01:09:52.196Z"
      },
      {
        "duration": 10,
        "start_time": "2022-08-27T01:09:52.211Z"
      },
      {
        "duration": 12,
        "start_time": "2022-08-27T01:09:52.222Z"
      },
      {
        "duration": 12,
        "start_time": "2022-08-27T01:09:52.236Z"
      },
      {
        "duration": 19,
        "start_time": "2022-08-27T01:09:52.249Z"
      },
      {
        "duration": 8,
        "start_time": "2022-08-27T01:09:52.270Z"
      },
      {
        "duration": 8,
        "start_time": "2022-08-27T01:09:52.280Z"
      },
      {
        "duration": 8,
        "start_time": "2022-08-27T01:09:52.290Z"
      },
      {
        "duration": 10,
        "start_time": "2022-08-27T01:09:52.300Z"
      },
      {
        "duration": 12,
        "start_time": "2022-08-27T01:09:52.311Z"
      },
      {
        "duration": 7,
        "start_time": "2022-08-27T01:09:52.324Z"
      },
      {
        "duration": 9,
        "start_time": "2022-08-27T01:09:52.333Z"
      },
      {
        "duration": 12,
        "start_time": "2022-08-27T01:09:52.368Z"
      },
      {
        "duration": 14,
        "start_time": "2022-08-27T01:09:52.384Z"
      },
      {
        "duration": 5,
        "start_time": "2022-08-27T01:09:52.399Z"
      },
      {
        "duration": 14,
        "start_time": "2022-08-27T01:09:52.405Z"
      },
      {
        "duration": 4,
        "start_time": "2022-08-27T01:09:52.421Z"
      },
      {
        "duration": 19,
        "start_time": "2022-08-27T01:09:52.427Z"
      },
      {
        "duration": 5,
        "start_time": "2022-08-27T01:09:52.467Z"
      },
      {
        "duration": 10,
        "start_time": "2022-08-27T01:09:52.474Z"
      },
      {
        "duration": 23,
        "start_time": "2022-08-27T01:09:52.486Z"
      },
      {
        "duration": 4,
        "start_time": "2022-08-27T01:09:52.511Z"
      },
      {
        "duration": 5,
        "start_time": "2022-08-27T01:09:52.516Z"
      },
      {
        "duration": 13,
        "start_time": "2022-08-27T01:09:52.523Z"
      },
      {
        "duration": 3,
        "start_time": "2022-08-27T01:09:52.537Z"
      },
      {
        "duration": 29,
        "start_time": "2022-08-27T01:09:52.542Z"
      },
      {
        "duration": 2307,
        "start_time": "2022-08-27T01:09:52.572Z"
      },
      {
        "duration": 10,
        "start_time": "2022-08-27T01:09:54.881Z"
      },
      {
        "duration": 8,
        "start_time": "2022-08-27T01:09:54.893Z"
      },
      {
        "duration": 11,
        "start_time": "2022-08-27T01:09:54.903Z"
      },
      {
        "duration": 14,
        "start_time": "2022-08-27T01:09:54.916Z"
      },
      {
        "duration": 3,
        "start_time": "2022-08-27T01:09:54.931Z"
      },
      {
        "duration": 182,
        "start_time": "2022-08-27T01:09:54.967Z"
      },
      {
        "duration": 6,
        "start_time": "2022-08-27T01:09:55.150Z"
      },
      {
        "duration": 13,
        "start_time": "2022-08-27T01:09:55.157Z"
      },
      {
        "duration": 6,
        "start_time": "2022-08-27T01:09:55.172Z"
      },
      {
        "duration": 8,
        "start_time": "2022-08-27T01:09:55.179Z"
      },
      {
        "duration": 16,
        "start_time": "2022-08-27T01:09:55.189Z"
      },
      {
        "duration": 3,
        "start_time": "2022-08-27T01:09:55.206Z"
      },
      {
        "duration": 10,
        "start_time": "2022-08-27T01:09:55.210Z"
      },
      {
        "duration": 11,
        "start_time": "2022-08-27T01:09:55.221Z"
      },
      {
        "duration": 12,
        "start_time": "2022-08-27T01:09:55.233Z"
      },
      {
        "duration": 21,
        "start_time": "2022-08-27T01:09:55.246Z"
      },
      {
        "duration": 6,
        "start_time": "2022-08-27T01:09:55.269Z"
      },
      {
        "duration": 13,
        "start_time": "2022-08-27T01:09:55.277Z"
      },
      {
        "duration": 9,
        "start_time": "2022-08-27T01:09:55.292Z"
      },
      {
        "duration": 2396,
        "start_time": "2022-08-27T01:09:57.280Z"
      },
      {
        "duration": 5,
        "start_time": "2022-08-27T01:10:04.696Z"
      },
      {
        "duration": 4,
        "start_time": "2022-08-27T01:10:09.615Z"
      },
      {
        "duration": 180,
        "start_time": "2022-08-27T01:10:13.023Z"
      },
      {
        "duration": 5,
        "start_time": "2022-08-27T01:10:14.618Z"
      },
      {
        "duration": 59,
        "start_time": "2022-08-27T01:10:23.120Z"
      },
      {
        "duration": 4,
        "start_time": "2022-08-27T01:10:23.181Z"
      },
      {
        "duration": 18,
        "start_time": "2022-08-27T01:10:23.186Z"
      },
      {
        "duration": 16,
        "start_time": "2022-08-27T01:10:23.205Z"
      },
      {
        "duration": 4,
        "start_time": "2022-08-27T01:10:23.223Z"
      },
      {
        "duration": 48,
        "start_time": "2022-08-27T01:10:23.229Z"
      },
      {
        "duration": 16,
        "start_time": "2022-08-27T01:10:23.279Z"
      },
      {
        "duration": 75,
        "start_time": "2022-08-27T01:10:23.297Z"
      },
      {
        "duration": 4,
        "start_time": "2022-08-27T01:10:23.374Z"
      },
      {
        "duration": 9,
        "start_time": "2022-08-27T01:10:23.379Z"
      },
      {
        "duration": 12,
        "start_time": "2022-08-27T01:10:23.389Z"
      },
      {
        "duration": 7,
        "start_time": "2022-08-27T01:10:23.402Z"
      },
      {
        "duration": 7,
        "start_time": "2022-08-27T01:10:23.411Z"
      },
      {
        "duration": 6,
        "start_time": "2022-08-27T01:10:23.421Z"
      },
      {
        "duration": 5,
        "start_time": "2022-08-27T01:10:23.429Z"
      },
      {
        "duration": 34,
        "start_time": "2022-08-27T01:10:23.436Z"
      },
      {
        "duration": 6,
        "start_time": "2022-08-27T01:10:23.472Z"
      },
      {
        "duration": 8,
        "start_time": "2022-08-27T01:10:23.480Z"
      },
      {
        "duration": 11,
        "start_time": "2022-08-27T01:10:23.490Z"
      },
      {
        "duration": 12,
        "start_time": "2022-08-27T01:10:23.502Z"
      },
      {
        "duration": 10,
        "start_time": "2022-08-27T01:10:23.515Z"
      },
      {
        "duration": 11,
        "start_time": "2022-08-27T01:10:23.527Z"
      },
      {
        "duration": 7,
        "start_time": "2022-08-27T01:10:23.568Z"
      },
      {
        "duration": 21,
        "start_time": "2022-08-27T01:10:23.577Z"
      },
      {
        "duration": 6,
        "start_time": "2022-08-27T01:10:23.600Z"
      },
      {
        "duration": 12,
        "start_time": "2022-08-27T01:10:23.608Z"
      },
      {
        "duration": 10,
        "start_time": "2022-08-27T01:10:23.621Z"
      },
      {
        "duration": 37,
        "start_time": "2022-08-27T01:10:23.632Z"
      },
      {
        "duration": 9,
        "start_time": "2022-08-27T01:10:23.671Z"
      },
      {
        "duration": 9,
        "start_time": "2022-08-27T01:10:23.681Z"
      },
      {
        "duration": 5,
        "start_time": "2022-08-27T01:10:23.692Z"
      },
      {
        "duration": 11,
        "start_time": "2022-08-27T01:10:23.699Z"
      },
      {
        "duration": 9,
        "start_time": "2022-08-27T01:10:23.711Z"
      },
      {
        "duration": 14,
        "start_time": "2022-08-27T01:10:23.722Z"
      },
      {
        "duration": 32,
        "start_time": "2022-08-27T01:10:23.737Z"
      },
      {
        "duration": 9,
        "start_time": "2022-08-27T01:10:23.771Z"
      },
      {
        "duration": 14,
        "start_time": "2022-08-27T01:10:23.781Z"
      },
      {
        "duration": 7,
        "start_time": "2022-08-27T01:10:23.797Z"
      },
      {
        "duration": 5,
        "start_time": "2022-08-27T01:10:23.806Z"
      },
      {
        "duration": 12,
        "start_time": "2022-08-27T01:10:23.813Z"
      },
      {
        "duration": 46,
        "start_time": "2022-08-27T01:10:23.830Z"
      },
      {
        "duration": 6,
        "start_time": "2022-08-27T01:10:23.877Z"
      },
      {
        "duration": 18,
        "start_time": "2022-08-27T01:10:23.885Z"
      },
      {
        "duration": 13,
        "start_time": "2022-08-27T01:10:23.905Z"
      },
      {
        "duration": 17,
        "start_time": "2022-08-27T01:10:23.919Z"
      },
      {
        "duration": 5,
        "start_time": "2022-08-27T01:10:23.938Z"
      },
      {
        "duration": 24,
        "start_time": "2022-08-27T01:10:23.944Z"
      },
      {
        "duration": 20,
        "start_time": "2022-08-27T01:10:23.970Z"
      },
      {
        "duration": 5,
        "start_time": "2022-08-27T01:10:23.992Z"
      },
      {
        "duration": 7,
        "start_time": "2022-08-27T01:10:23.999Z"
      },
      {
        "duration": 10,
        "start_time": "2022-08-27T01:10:24.008Z"
      },
      {
        "duration": 4,
        "start_time": "2022-08-27T01:10:24.021Z"
      },
      {
        "duration": 44,
        "start_time": "2022-08-27T01:10:24.027Z"
      },
      {
        "duration": 2474,
        "start_time": "2022-08-27T01:10:24.073Z"
      },
      {
        "duration": 35,
        "start_time": "2022-08-27T01:10:26.549Z"
      },
      {
        "duration": 8,
        "start_time": "2022-08-27T01:10:26.587Z"
      },
      {
        "duration": 26,
        "start_time": "2022-08-27T01:10:26.597Z"
      },
      {
        "duration": 16,
        "start_time": "2022-08-27T01:10:26.624Z"
      },
      {
        "duration": 3,
        "start_time": "2022-08-27T01:10:26.642Z"
      },
      {
        "duration": 215,
        "start_time": "2022-08-27T01:10:26.646Z"
      },
      {
        "duration": 8,
        "start_time": "2022-08-27T01:10:26.863Z"
      },
      {
        "duration": 12,
        "start_time": "2022-08-27T01:10:26.873Z"
      },
      {
        "duration": 9,
        "start_time": "2022-08-27T01:10:26.886Z"
      },
      {
        "duration": 7,
        "start_time": "2022-08-27T01:10:26.896Z"
      },
      {
        "duration": 22,
        "start_time": "2022-08-27T01:10:26.905Z"
      },
      {
        "duration": 4,
        "start_time": "2022-08-27T01:10:26.928Z"
      },
      {
        "duration": 7,
        "start_time": "2022-08-27T01:10:26.934Z"
      },
      {
        "duration": 31,
        "start_time": "2022-08-27T01:10:26.943Z"
      },
      {
        "duration": 10,
        "start_time": "2022-08-27T01:10:26.976Z"
      },
      {
        "duration": 7,
        "start_time": "2022-08-27T01:10:26.988Z"
      },
      {
        "duration": 15,
        "start_time": "2022-08-27T01:10:26.997Z"
      },
      {
        "duration": 18,
        "start_time": "2022-08-27T01:10:27.013Z"
      },
      {
        "duration": 7,
        "start_time": "2022-08-27T01:10:27.032Z"
      },
      {
        "duration": 4,
        "start_time": "2022-08-27T01:10:27.040Z"
      },
      {
        "duration": 6,
        "start_time": "2022-08-27T01:10:28.476Z"
      },
      {
        "duration": 3,
        "start_time": "2022-08-27T01:17:45.726Z"
      },
      {
        "duration": 14,
        "start_time": "2022-08-27T01:17:47.338Z"
      },
      {
        "duration": 4,
        "start_time": "2022-08-27T01:23:36.973Z"
      },
      {
        "duration": 155,
        "start_time": "2022-08-27T01:23:38.578Z"
      },
      {
        "duration": 6,
        "start_time": "2022-08-27T01:23:40.438Z"
      },
      {
        "duration": 59,
        "start_time": "2022-08-27T01:24:47.557Z"
      },
      {
        "duration": 4,
        "start_time": "2022-08-27T01:24:47.618Z"
      },
      {
        "duration": 21,
        "start_time": "2022-08-27T01:24:47.624Z"
      },
      {
        "duration": 31,
        "start_time": "2022-08-27T01:24:47.647Z"
      },
      {
        "duration": 3,
        "start_time": "2022-08-27T01:24:47.680Z"
      },
      {
        "duration": 19,
        "start_time": "2022-08-27T01:24:47.685Z"
      },
      {
        "duration": 11,
        "start_time": "2022-08-27T01:24:47.705Z"
      },
      {
        "duration": 72,
        "start_time": "2022-08-27T01:24:47.718Z"
      },
      {
        "duration": 4,
        "start_time": "2022-08-27T01:24:47.792Z"
      },
      {
        "duration": 9,
        "start_time": "2022-08-27T01:24:47.797Z"
      },
      {
        "duration": 6,
        "start_time": "2022-08-27T01:24:47.808Z"
      },
      {
        "duration": 6,
        "start_time": "2022-08-27T01:24:47.816Z"
      },
      {
        "duration": 5,
        "start_time": "2022-08-27T01:24:47.823Z"
      },
      {
        "duration": 6,
        "start_time": "2022-08-27T01:24:47.831Z"
      },
      {
        "duration": 6,
        "start_time": "2022-08-27T01:24:47.867Z"
      },
      {
        "duration": 4,
        "start_time": "2022-08-27T01:24:47.875Z"
      },
      {
        "duration": 7,
        "start_time": "2022-08-27T01:24:47.881Z"
      },
      {
        "duration": 7,
        "start_time": "2022-08-27T01:24:47.889Z"
      },
      {
        "duration": 8,
        "start_time": "2022-08-27T01:24:47.898Z"
      },
      {
        "duration": 10,
        "start_time": "2022-08-27T01:24:47.907Z"
      },
      {
        "duration": 8,
        "start_time": "2022-08-27T01:24:47.918Z"
      },
      {
        "duration": 41,
        "start_time": "2022-08-27T01:24:47.928Z"
      },
      {
        "duration": 6,
        "start_time": "2022-08-27T01:24:47.970Z"
      },
      {
        "duration": 20,
        "start_time": "2022-08-27T01:24:47.977Z"
      },
      {
        "duration": 5,
        "start_time": "2022-08-27T01:24:47.999Z"
      },
      {
        "duration": 7,
        "start_time": "2022-08-27T01:24:48.005Z"
      },
      {
        "duration": 6,
        "start_time": "2022-08-27T01:24:48.014Z"
      },
      {
        "duration": 9,
        "start_time": "2022-08-27T01:24:48.021Z"
      },
      {
        "duration": 38,
        "start_time": "2022-08-27T01:24:48.031Z"
      },
      {
        "duration": 9,
        "start_time": "2022-08-27T01:24:48.071Z"
      },
      {
        "duration": 4,
        "start_time": "2022-08-27T01:24:48.081Z"
      },
      {
        "duration": 8,
        "start_time": "2022-08-27T01:24:48.087Z"
      },
      {
        "duration": 8,
        "start_time": "2022-08-27T01:24:48.096Z"
      },
      {
        "duration": 9,
        "start_time": "2022-08-27T01:24:48.105Z"
      },
      {
        "duration": 9,
        "start_time": "2022-08-27T01:24:48.115Z"
      },
      {
        "duration": 11,
        "start_time": "2022-08-27T01:24:48.125Z"
      },
      {
        "duration": 40,
        "start_time": "2022-08-27T01:24:48.137Z"
      },
      {
        "duration": 8,
        "start_time": "2022-08-27T01:24:48.179Z"
      },
      {
        "duration": 6,
        "start_time": "2022-08-27T01:24:48.189Z"
      },
      {
        "duration": 16,
        "start_time": "2022-08-27T01:24:48.196Z"
      },
      {
        "duration": 13,
        "start_time": "2022-08-27T01:24:48.216Z"
      },
      {
        "duration": 5,
        "start_time": "2022-08-27T01:24:48.231Z"
      },
      {
        "duration": 9,
        "start_time": "2022-08-27T01:24:48.267Z"
      },
      {
        "duration": 8,
        "start_time": "2022-08-27T01:24:48.278Z"
      },
      {
        "duration": 12,
        "start_time": "2022-08-27T01:24:48.288Z"
      },
      {
        "duration": 6,
        "start_time": "2022-08-27T01:24:48.302Z"
      },
      {
        "duration": 7,
        "start_time": "2022-08-27T01:24:48.309Z"
      },
      {
        "duration": 59,
        "start_time": "2022-08-27T01:24:48.318Z"
      },
      {
        "duration": 4,
        "start_time": "2022-08-27T01:24:48.379Z"
      },
      {
        "duration": 6,
        "start_time": "2022-08-27T01:24:48.385Z"
      },
      {
        "duration": 11,
        "start_time": "2022-08-27T01:24:48.392Z"
      },
      {
        "duration": 4,
        "start_time": "2022-08-27T01:24:48.404Z"
      },
      {
        "duration": 9,
        "start_time": "2022-08-27T01:24:48.409Z"
      },
      {
        "duration": 2427,
        "start_time": "2022-08-27T01:24:48.419Z"
      },
      {
        "duration": 20,
        "start_time": "2022-08-27T01:24:50.848Z"
      },
      {
        "duration": 7,
        "start_time": "2022-08-27T01:24:50.869Z"
      },
      {
        "duration": 16,
        "start_time": "2022-08-27T01:24:50.878Z"
      },
      {
        "duration": 17,
        "start_time": "2022-08-27T01:24:50.896Z"
      },
      {
        "duration": 3,
        "start_time": "2022-08-27T01:24:50.914Z"
      },
      {
        "duration": 218,
        "start_time": "2022-08-27T01:24:50.919Z"
      },
      {
        "duration": 7,
        "start_time": "2022-08-27T01:24:51.138Z"
      },
      {
        "duration": 8,
        "start_time": "2022-08-27T01:24:51.146Z"
      },
      {
        "duration": 6,
        "start_time": "2022-08-27T01:24:51.168Z"
      },
      {
        "duration": 9,
        "start_time": "2022-08-27T01:24:51.175Z"
      },
      {
        "duration": 15,
        "start_time": "2022-08-27T01:24:51.185Z"
      },
      {
        "duration": 4,
        "start_time": "2022-08-27T01:24:51.201Z"
      },
      {
        "duration": 13,
        "start_time": "2022-08-27T01:24:51.206Z"
      },
      {
        "duration": 11,
        "start_time": "2022-08-27T01:24:51.220Z"
      },
      {
        "duration": 7,
        "start_time": "2022-08-27T01:24:51.233Z"
      },
      {
        "duration": 6,
        "start_time": "2022-08-27T01:24:51.267Z"
      },
      {
        "duration": 11,
        "start_time": "2022-08-27T01:24:51.274Z"
      },
      {
        "duration": 9,
        "start_time": "2022-08-27T01:24:51.287Z"
      },
      {
        "duration": 10,
        "start_time": "2022-08-27T01:24:51.298Z"
      },
      {
        "duration": 8,
        "start_time": "2022-08-27T01:24:51.309Z"
      },
      {
        "duration": 60,
        "start_time": "2022-08-27T01:30:18.923Z"
      },
      {
        "duration": 4,
        "start_time": "2022-08-27T01:30:18.985Z"
      },
      {
        "duration": 19,
        "start_time": "2022-08-27T01:30:18.991Z"
      },
      {
        "duration": 16,
        "start_time": "2022-08-27T01:30:19.011Z"
      },
      {
        "duration": 39,
        "start_time": "2022-08-27T01:30:19.029Z"
      },
      {
        "duration": 16,
        "start_time": "2022-08-27T01:30:19.069Z"
      },
      {
        "duration": 12,
        "start_time": "2022-08-27T01:30:19.086Z"
      },
      {
        "duration": 70,
        "start_time": "2022-08-27T01:30:19.099Z"
      },
      {
        "duration": 4,
        "start_time": "2022-08-27T01:30:19.171Z"
      },
      {
        "duration": 6,
        "start_time": "2022-08-27T01:30:19.177Z"
      },
      {
        "duration": 8,
        "start_time": "2022-08-27T01:30:19.184Z"
      },
      {
        "duration": 6,
        "start_time": "2022-08-27T01:30:19.193Z"
      },
      {
        "duration": 8,
        "start_time": "2022-08-27T01:30:19.201Z"
      },
      {
        "duration": 6,
        "start_time": "2022-08-27T01:30:19.212Z"
      },
      {
        "duration": 5,
        "start_time": "2022-08-27T01:30:19.220Z"
      },
      {
        "duration": 6,
        "start_time": "2022-08-27T01:30:19.226Z"
      },
      {
        "duration": 36,
        "start_time": "2022-08-27T01:30:19.234Z"
      },
      {
        "duration": 6,
        "start_time": "2022-08-27T01:30:19.271Z"
      },
      {
        "duration": 9,
        "start_time": "2022-08-27T01:30:19.278Z"
      },
      {
        "duration": 8,
        "start_time": "2022-08-27T01:30:19.289Z"
      },
      {
        "duration": 8,
        "start_time": "2022-08-27T01:30:19.298Z"
      },
      {
        "duration": 7,
        "start_time": "2022-08-27T01:30:19.307Z"
      },
      {
        "duration": 7,
        "start_time": "2022-08-27T01:30:19.315Z"
      },
      {
        "duration": 47,
        "start_time": "2022-08-27T01:30:19.323Z"
      },
      {
        "duration": 6,
        "start_time": "2022-08-27T01:30:19.372Z"
      },
      {
        "duration": 11,
        "start_time": "2022-08-27T01:30:19.379Z"
      },
      {
        "duration": 47,
        "start_time": "2022-08-27T01:30:19.392Z"
      },
      {
        "duration": 51,
        "start_time": "2022-08-27T01:30:19.441Z"
      },
      {
        "duration": 42,
        "start_time": "2022-08-27T01:30:19.493Z"
      },
      {
        "duration": 16,
        "start_time": "2022-08-27T01:30:19.536Z"
      },
      {
        "duration": 9,
        "start_time": "2022-08-27T01:30:19.554Z"
      },
      {
        "duration": 13,
        "start_time": "2022-08-27T01:30:19.564Z"
      },
      {
        "duration": 9,
        "start_time": "2022-08-27T01:30:19.579Z"
      },
      {
        "duration": 16,
        "start_time": "2022-08-27T01:30:19.590Z"
      },
      {
        "duration": 10,
        "start_time": "2022-08-27T01:30:19.608Z"
      },
      {
        "duration": 28,
        "start_time": "2022-08-27T01:30:19.620Z"
      },
      {
        "duration": 14,
        "start_time": "2022-08-27T01:30:19.649Z"
      },
      {
        "duration": 6,
        "start_time": "2022-08-27T01:30:19.665Z"
      },
      {
        "duration": 5,
        "start_time": "2022-08-27T01:30:19.673Z"
      },
      {
        "duration": 11,
        "start_time": "2022-08-27T01:30:19.680Z"
      },
      {
        "duration": 13,
        "start_time": "2022-08-27T01:30:19.696Z"
      },
      {
        "duration": 5,
        "start_time": "2022-08-27T01:30:19.711Z"
      },
      {
        "duration": 11,
        "start_time": "2022-08-27T01:30:19.718Z"
      },
      {
        "duration": 7,
        "start_time": "2022-08-27T01:30:19.768Z"
      },
      {
        "duration": 14,
        "start_time": "2022-08-27T01:30:19.776Z"
      },
      {
        "duration": 5,
        "start_time": "2022-08-27T01:30:19.791Z"
      },
      {
        "duration": 7,
        "start_time": "2022-08-27T01:30:19.797Z"
      },
      {
        "duration": 19,
        "start_time": "2022-08-27T01:30:19.805Z"
      },
      {
        "duration": 4,
        "start_time": "2022-08-27T01:30:19.825Z"
      },
      {
        "duration": 40,
        "start_time": "2022-08-27T01:30:19.830Z"
      },
      {
        "duration": 9,
        "start_time": "2022-08-27T01:30:19.872Z"
      },
      {
        "duration": 3,
        "start_time": "2022-08-27T01:30:19.883Z"
      },
      {
        "duration": 10,
        "start_time": "2022-08-27T01:30:19.887Z"
      },
      {
        "duration": 2406,
        "start_time": "2022-08-27T01:30:19.898Z"
      },
      {
        "duration": 10,
        "start_time": "2022-08-27T01:30:22.306Z"
      },
      {
        "duration": 7,
        "start_time": "2022-08-27T01:30:22.317Z"
      },
      {
        "duration": 13,
        "start_time": "2022-08-27T01:30:22.325Z"
      },
      {
        "duration": 34,
        "start_time": "2022-08-27T01:30:22.340Z"
      },
      {
        "duration": 3,
        "start_time": "2022-08-27T01:30:22.376Z"
      },
      {
        "duration": 195,
        "start_time": "2022-08-27T01:30:22.380Z"
      },
      {
        "duration": 6,
        "start_time": "2022-08-27T01:30:22.577Z"
      },
      {
        "duration": 8,
        "start_time": "2022-08-27T01:30:22.584Z"
      },
      {
        "duration": 7,
        "start_time": "2022-08-27T01:30:22.594Z"
      },
      {
        "duration": 5,
        "start_time": "2022-08-27T01:30:22.603Z"
      },
      {
        "duration": 14,
        "start_time": "2022-08-27T01:30:22.610Z"
      },
      {
        "duration": 3,
        "start_time": "2022-08-27T01:30:22.626Z"
      },
      {
        "duration": 7,
        "start_time": "2022-08-27T01:30:22.630Z"
      },
      {
        "duration": 7,
        "start_time": "2022-08-27T01:30:22.668Z"
      },
      {
        "duration": 8,
        "start_time": "2022-08-27T01:30:22.677Z"
      },
      {
        "duration": 5,
        "start_time": "2022-08-27T01:30:22.686Z"
      },
      {
        "duration": 8,
        "start_time": "2022-08-27T01:30:22.693Z"
      },
      {
        "duration": 8,
        "start_time": "2022-08-27T01:30:22.703Z"
      },
      {
        "duration": 6,
        "start_time": "2022-08-27T01:30:22.712Z"
      },
      {
        "duration": 7,
        "start_time": "2022-08-27T01:30:22.719Z"
      },
      {
        "duration": 2644,
        "start_time": "2022-08-27T01:30:22.727Z"
      },
      {
        "duration": 3,
        "start_time": "2022-08-27T01:30:25.396Z"
      },
      {
        "duration": 19,
        "start_time": "2022-08-27T01:30:25.400Z"
      },
      {
        "duration": 57,
        "start_time": "2022-08-27T01:33:18.011Z"
      },
      {
        "duration": 5,
        "start_time": "2022-08-27T01:33:18.071Z"
      },
      {
        "duration": 20,
        "start_time": "2022-08-27T01:33:18.078Z"
      },
      {
        "duration": 19,
        "start_time": "2022-08-27T01:33:18.100Z"
      },
      {
        "duration": 3,
        "start_time": "2022-08-27T01:33:18.121Z"
      },
      {
        "duration": 49,
        "start_time": "2022-08-27T01:33:18.126Z"
      },
      {
        "duration": 11,
        "start_time": "2022-08-27T01:33:18.176Z"
      },
      {
        "duration": 48,
        "start_time": "2022-08-27T01:33:18.188Z"
      },
      {
        "duration": 4,
        "start_time": "2022-08-27T01:33:18.238Z"
      },
      {
        "duration": 5,
        "start_time": "2022-08-27T01:33:18.269Z"
      },
      {
        "duration": 6,
        "start_time": "2022-08-27T01:33:18.276Z"
      },
      {
        "duration": 5,
        "start_time": "2022-08-27T01:33:18.283Z"
      },
      {
        "duration": 6,
        "start_time": "2022-08-27T01:33:18.290Z"
      },
      {
        "duration": 5,
        "start_time": "2022-08-27T01:33:18.297Z"
      },
      {
        "duration": 6,
        "start_time": "2022-08-27T01:33:18.303Z"
      },
      {
        "duration": 4,
        "start_time": "2022-08-27T01:33:18.310Z"
      },
      {
        "duration": 5,
        "start_time": "2022-08-27T01:33:18.316Z"
      },
      {
        "duration": 46,
        "start_time": "2022-08-27T01:33:18.323Z"
      },
      {
        "duration": 10,
        "start_time": "2022-08-27T01:33:18.371Z"
      },
      {
        "duration": 9,
        "start_time": "2022-08-27T01:33:18.382Z"
      },
      {
        "duration": 11,
        "start_time": "2022-08-27T01:33:18.392Z"
      },
      {
        "duration": 13,
        "start_time": "2022-08-27T01:33:18.405Z"
      },
      {
        "duration": 10,
        "start_time": "2022-08-27T01:33:18.420Z"
      },
      {
        "duration": 37,
        "start_time": "2022-08-27T01:33:18.432Z"
      },
      {
        "duration": 6,
        "start_time": "2022-08-27T01:33:18.470Z"
      },
      {
        "duration": 12,
        "start_time": "2022-08-27T01:33:18.477Z"
      },
      {
        "duration": 8,
        "start_time": "2022-08-27T01:33:18.490Z"
      },
      {
        "duration": 7,
        "start_time": "2022-08-27T01:33:18.502Z"
      },
      {
        "duration": 8,
        "start_time": "2022-08-27T01:33:18.511Z"
      },
      {
        "duration": 8,
        "start_time": "2022-08-27T01:33:18.520Z"
      },
      {
        "duration": 4,
        "start_time": "2022-08-27T01:33:18.529Z"
      },
      {
        "duration": 37,
        "start_time": "2022-08-27T01:33:18.534Z"
      },
      {
        "duration": 9,
        "start_time": "2022-08-27T01:33:18.573Z"
      },
      {
        "duration": 10,
        "start_time": "2022-08-27T01:33:18.583Z"
      },
      {
        "duration": 10,
        "start_time": "2022-08-27T01:33:18.595Z"
      },
      {
        "duration": 9,
        "start_time": "2022-08-27T01:33:18.607Z"
      },
      {
        "duration": 11,
        "start_time": "2022-08-27T01:33:18.618Z"
      },
      {
        "duration": 37,
        "start_time": "2022-08-27T01:33:18.631Z"
      },
      {
        "duration": 5,
        "start_time": "2022-08-27T01:33:18.670Z"
      },
      {
        "duration": 12,
        "start_time": "2022-08-27T01:33:18.677Z"
      },
      {
        "duration": 16,
        "start_time": "2022-08-27T01:33:18.691Z"
      },
      {
        "duration": 4,
        "start_time": "2022-08-27T01:33:18.709Z"
      },
      {
        "duration": 10,
        "start_time": "2022-08-27T01:33:18.715Z"
      },
      {
        "duration": 8,
        "start_time": "2022-08-27T01:33:18.726Z"
      },
      {
        "duration": 13,
        "start_time": "2022-08-27T01:33:18.768Z"
      },
      {
        "duration": 5,
        "start_time": "2022-08-27T01:33:18.783Z"
      },
      {
        "duration": 5,
        "start_time": "2022-08-27T01:33:18.790Z"
      },
      {
        "duration": 22,
        "start_time": "2022-08-27T01:33:18.797Z"
      },
      {
        "duration": 4,
        "start_time": "2022-08-27T01:33:18.820Z"
      },
      {
        "duration": 5,
        "start_time": "2022-08-27T01:33:18.825Z"
      },
      {
        "duration": 8,
        "start_time": "2022-08-27T01:33:18.869Z"
      },
      {
        "duration": 4,
        "start_time": "2022-08-27T01:33:18.878Z"
      },
      {
        "duration": 9,
        "start_time": "2022-08-27T01:33:18.883Z"
      },
      {
        "duration": 2417,
        "start_time": "2022-08-27T01:33:18.893Z"
      },
      {
        "duration": 10,
        "start_time": "2022-08-27T01:33:21.312Z"
      },
      {
        "duration": 5,
        "start_time": "2022-08-27T01:33:21.324Z"
      },
      {
        "duration": 12,
        "start_time": "2022-08-27T01:33:21.331Z"
      },
      {
        "duration": 35,
        "start_time": "2022-08-27T01:33:21.345Z"
      },
      {
        "duration": 3,
        "start_time": "2022-08-27T01:33:21.381Z"
      },
      {
        "duration": 206,
        "start_time": "2022-08-27T01:33:21.385Z"
      },
      {
        "duration": 6,
        "start_time": "2022-08-27T01:33:21.593Z"
      },
      {
        "duration": 8,
        "start_time": "2022-08-27T01:33:21.601Z"
      },
      {
        "duration": 8,
        "start_time": "2022-08-27T01:33:21.610Z"
      },
      {
        "duration": 5,
        "start_time": "2022-08-27T01:33:21.620Z"
      },
      {
        "duration": 14,
        "start_time": "2022-08-27T01:33:21.626Z"
      },
      {
        "duration": 27,
        "start_time": "2022-08-27T01:33:21.642Z"
      },
      {
        "duration": 6,
        "start_time": "2022-08-27T01:33:21.671Z"
      },
      {
        "duration": 9,
        "start_time": "2022-08-27T01:33:21.678Z"
      },
      {
        "duration": 8,
        "start_time": "2022-08-27T01:33:21.688Z"
      },
      {
        "duration": 4,
        "start_time": "2022-08-27T01:33:21.698Z"
      },
      {
        "duration": 10,
        "start_time": "2022-08-27T01:33:21.704Z"
      },
      {
        "duration": 10,
        "start_time": "2022-08-27T01:33:21.716Z"
      },
      {
        "duration": 6,
        "start_time": "2022-08-27T01:33:21.728Z"
      },
      {
        "duration": 4,
        "start_time": "2022-08-27T01:33:21.768Z"
      },
      {
        "duration": 2726,
        "start_time": "2022-08-27T01:33:21.773Z"
      },
      {
        "duration": 5,
        "start_time": "2022-08-27T01:33:31.819Z"
      },
      {
        "duration": 17,
        "start_time": "2022-08-27T01:34:03.670Z"
      },
      {
        "duration": 60,
        "start_time": "2022-08-27T01:37:24.848Z"
      },
      {
        "duration": 4,
        "start_time": "2022-08-27T01:37:24.910Z"
      },
      {
        "duration": 15,
        "start_time": "2022-08-27T01:37:24.916Z"
      },
      {
        "duration": 39,
        "start_time": "2022-08-27T01:37:24.933Z"
      },
      {
        "duration": 4,
        "start_time": "2022-08-27T01:37:24.974Z"
      },
      {
        "duration": 16,
        "start_time": "2022-08-27T01:37:24.979Z"
      },
      {
        "duration": 11,
        "start_time": "2022-08-27T01:37:24.997Z"
      },
      {
        "duration": 75,
        "start_time": "2022-08-27T01:37:25.010Z"
      },
      {
        "duration": 4,
        "start_time": "2022-08-27T01:37:25.087Z"
      },
      {
        "duration": 6,
        "start_time": "2022-08-27T01:37:25.094Z"
      },
      {
        "duration": 6,
        "start_time": "2022-08-27T01:37:25.102Z"
      },
      {
        "duration": 11,
        "start_time": "2022-08-27T01:37:25.109Z"
      },
      {
        "duration": 11,
        "start_time": "2022-08-27T01:37:25.121Z"
      },
      {
        "duration": 7,
        "start_time": "2022-08-27T01:37:25.133Z"
      },
      {
        "duration": 29,
        "start_time": "2022-08-27T01:37:25.142Z"
      },
      {
        "duration": 6,
        "start_time": "2022-08-27T01:37:25.173Z"
      },
      {
        "duration": 6,
        "start_time": "2022-08-27T01:37:25.181Z"
      },
      {
        "duration": 16,
        "start_time": "2022-08-27T01:37:25.188Z"
      },
      {
        "duration": 19,
        "start_time": "2022-08-27T01:37:25.206Z"
      },
      {
        "duration": 28,
        "start_time": "2022-08-27T01:37:25.227Z"
      },
      {
        "duration": 16,
        "start_time": "2022-08-27T01:37:25.257Z"
      },
      {
        "duration": 22,
        "start_time": "2022-08-27T01:37:25.275Z"
      },
      {
        "duration": 21,
        "start_time": "2022-08-27T01:37:25.298Z"
      },
      {
        "duration": 33,
        "start_time": "2022-08-27T01:37:25.321Z"
      },
      {
        "duration": 19,
        "start_time": "2022-08-27T01:37:25.355Z"
      },
      {
        "duration": 25,
        "start_time": "2022-08-27T01:37:25.376Z"
      },
      {
        "duration": 21,
        "start_time": "2022-08-27T01:37:25.402Z"
      },
      {
        "duration": 10,
        "start_time": "2022-08-27T01:37:25.428Z"
      },
      {
        "duration": 35,
        "start_time": "2022-08-27T01:37:25.439Z"
      },
      {
        "duration": 18,
        "start_time": "2022-08-27T01:37:25.476Z"
      },
      {
        "duration": 18,
        "start_time": "2022-08-27T01:37:25.496Z"
      },
      {
        "duration": 22,
        "start_time": "2022-08-27T01:37:25.516Z"
      },
      {
        "duration": 20,
        "start_time": "2022-08-27T01:37:25.540Z"
      },
      {
        "duration": 25,
        "start_time": "2022-08-27T01:37:25.562Z"
      },
      {
        "duration": 14,
        "start_time": "2022-08-27T01:37:25.589Z"
      },
      {
        "duration": 12,
        "start_time": "2022-08-27T01:37:25.604Z"
      },
      {
        "duration": 13,
        "start_time": "2022-08-27T01:37:25.617Z"
      },
      {
        "duration": 16,
        "start_time": "2022-08-27T01:37:25.631Z"
      },
      {
        "duration": 5,
        "start_time": "2022-08-27T01:37:25.648Z"
      },
      {
        "duration": 15,
        "start_time": "2022-08-27T01:37:25.655Z"
      },
      {
        "duration": 15,
        "start_time": "2022-08-27T01:37:25.672Z"
      },
      {
        "duration": 5,
        "start_time": "2022-08-27T01:37:25.689Z"
      },
      {
        "duration": 19,
        "start_time": "2022-08-27T01:37:25.695Z"
      },
      {
        "duration": 6,
        "start_time": "2022-08-27T01:37:25.716Z"
      },
      {
        "duration": 15,
        "start_time": "2022-08-27T01:37:25.723Z"
      },
      {
        "duration": 30,
        "start_time": "2022-08-27T01:37:25.739Z"
      },
      {
        "duration": 7,
        "start_time": "2022-08-27T01:37:25.770Z"
      },
      {
        "duration": 23,
        "start_time": "2022-08-27T01:37:25.778Z"
      },
      {
        "duration": 5,
        "start_time": "2022-08-27T01:37:25.802Z"
      },
      {
        "duration": 8,
        "start_time": "2022-08-27T01:37:25.808Z"
      },
      {
        "duration": 13,
        "start_time": "2022-08-27T01:37:25.817Z"
      },
      {
        "duration": 38,
        "start_time": "2022-08-27T01:37:25.831Z"
      },
      {
        "duration": 20,
        "start_time": "2022-08-27T01:37:25.871Z"
      },
      {
        "duration": 2489,
        "start_time": "2022-08-27T01:37:25.892Z"
      },
      {
        "duration": 11,
        "start_time": "2022-08-27T01:37:28.383Z"
      },
      {
        "duration": 7,
        "start_time": "2022-08-27T01:37:28.396Z"
      },
      {
        "duration": 15,
        "start_time": "2022-08-27T01:37:28.405Z"
      },
      {
        "duration": 16,
        "start_time": "2022-08-27T01:37:28.421Z"
      },
      {
        "duration": 3,
        "start_time": "2022-08-27T01:37:28.468Z"
      },
      {
        "duration": 199,
        "start_time": "2022-08-27T01:37:28.473Z"
      },
      {
        "duration": 7,
        "start_time": "2022-08-27T01:37:28.674Z"
      },
      {
        "duration": 8,
        "start_time": "2022-08-27T01:37:28.682Z"
      },
      {
        "duration": 10,
        "start_time": "2022-08-27T01:37:28.691Z"
      },
      {
        "duration": 13,
        "start_time": "2022-08-27T01:37:28.703Z"
      },
      {
        "duration": 15,
        "start_time": "2022-08-27T01:37:28.718Z"
      },
      {
        "duration": 4,
        "start_time": "2022-08-27T01:37:28.735Z"
      },
      {
        "duration": 30,
        "start_time": "2022-08-27T01:37:28.740Z"
      },
      {
        "duration": 8,
        "start_time": "2022-08-27T01:37:28.772Z"
      },
      {
        "duration": 8,
        "start_time": "2022-08-27T01:37:28.782Z"
      },
      {
        "duration": 4,
        "start_time": "2022-08-27T01:37:28.792Z"
      },
      {
        "duration": 9,
        "start_time": "2022-08-27T01:37:28.797Z"
      },
      {
        "duration": 12,
        "start_time": "2022-08-27T01:37:28.808Z"
      },
      {
        "duration": 7,
        "start_time": "2022-08-27T01:37:28.822Z"
      },
      {
        "duration": 4,
        "start_time": "2022-08-27T01:37:28.830Z"
      },
      {
        "duration": 662,
        "start_time": "2022-08-28T15:06:14.293Z"
      },
      {
        "duration": 5,
        "start_time": "2022-08-28T15:06:14.957Z"
      },
      {
        "duration": 21,
        "start_time": "2022-08-28T15:06:14.963Z"
      },
      {
        "duration": 15,
        "start_time": "2022-08-28T15:06:14.986Z"
      },
      {
        "duration": 4,
        "start_time": "2022-08-28T15:06:15.003Z"
      },
      {
        "duration": 18,
        "start_time": "2022-08-28T15:06:15.008Z"
      },
      {
        "duration": 12,
        "start_time": "2022-08-28T15:06:15.028Z"
      },
      {
        "duration": 67,
        "start_time": "2022-08-28T15:06:15.042Z"
      },
      {
        "duration": 4,
        "start_time": "2022-08-28T15:06:15.111Z"
      },
      {
        "duration": 13,
        "start_time": "2022-08-28T15:06:15.117Z"
      },
      {
        "duration": 9,
        "start_time": "2022-08-28T15:06:15.132Z"
      },
      {
        "duration": 12,
        "start_time": "2022-08-28T15:06:15.142Z"
      },
      {
        "duration": 37,
        "start_time": "2022-08-28T15:06:15.156Z"
      },
      {
        "duration": 6,
        "start_time": "2022-08-28T15:06:15.196Z"
      },
      {
        "duration": 9,
        "start_time": "2022-08-28T15:06:15.204Z"
      },
      {
        "duration": 8,
        "start_time": "2022-08-28T15:06:15.215Z"
      },
      {
        "duration": 13,
        "start_time": "2022-08-28T15:06:15.224Z"
      },
      {
        "duration": 9,
        "start_time": "2022-08-28T15:06:15.239Z"
      },
      {
        "duration": 10,
        "start_time": "2022-08-28T15:06:15.249Z"
      },
      {
        "duration": 9,
        "start_time": "2022-08-28T15:06:15.292Z"
      },
      {
        "duration": 16,
        "start_time": "2022-08-28T15:06:15.303Z"
      },
      {
        "duration": 13,
        "start_time": "2022-08-28T15:06:15.322Z"
      },
      {
        "duration": 9,
        "start_time": "2022-08-28T15:06:15.337Z"
      },
      {
        "duration": 52,
        "start_time": "2022-08-28T15:06:15.348Z"
      },
      {
        "duration": 7,
        "start_time": "2022-08-28T15:06:15.402Z"
      },
      {
        "duration": 9,
        "start_time": "2022-08-28T15:06:15.411Z"
      },
      {
        "duration": 9,
        "start_time": "2022-08-28T15:06:15.423Z"
      },
      {
        "duration": 11,
        "start_time": "2022-08-28T15:06:15.434Z"
      },
      {
        "duration": 10,
        "start_time": "2022-08-28T15:06:15.446Z"
      },
      {
        "duration": 53,
        "start_time": "2022-08-28T15:06:15.458Z"
      },
      {
        "duration": 5,
        "start_time": "2022-08-28T15:06:15.513Z"
      },
      {
        "duration": 10,
        "start_time": "2022-08-28T15:06:15.520Z"
      },
      {
        "duration": 12,
        "start_time": "2022-08-28T15:06:15.532Z"
      },
      {
        "duration": 9,
        "start_time": "2022-08-28T15:06:15.546Z"
      },
      {
        "duration": 12,
        "start_time": "2022-08-28T15:06:15.558Z"
      },
      {
        "duration": 25,
        "start_time": "2022-08-28T15:06:15.573Z"
      },
      {
        "duration": 14,
        "start_time": "2022-08-28T15:06:15.599Z"
      },
      {
        "duration": 9,
        "start_time": "2022-08-28T15:06:15.615Z"
      },
      {
        "duration": 6,
        "start_time": "2022-08-28T15:06:15.626Z"
      },
      {
        "duration": 14,
        "start_time": "2022-08-28T15:06:15.633Z"
      },
      {
        "duration": 49,
        "start_time": "2022-08-28T15:06:15.651Z"
      },
      {
        "duration": 8,
        "start_time": "2022-08-28T15:06:15.702Z"
      },
      {
        "duration": 18,
        "start_time": "2022-08-28T15:06:15.712Z"
      },
      {
        "duration": 12,
        "start_time": "2022-08-28T15:06:15.732Z"
      },
      {
        "duration": 13,
        "start_time": "2022-08-28T15:06:15.746Z"
      },
      {
        "duration": 34,
        "start_time": "2022-08-28T15:06:15.761Z"
      },
      {
        "duration": 12,
        "start_time": "2022-08-28T15:06:15.797Z"
      },
      {
        "duration": 21,
        "start_time": "2022-08-28T15:06:15.811Z"
      },
      {
        "duration": 5,
        "start_time": "2022-08-28T15:06:15.834Z"
      },
      {
        "duration": 11,
        "start_time": "2022-08-28T15:06:15.841Z"
      },
      {
        "duration": 37,
        "start_time": "2022-08-28T15:06:15.855Z"
      },
      {
        "duration": 5,
        "start_time": "2022-08-28T15:06:15.894Z"
      },
      {
        "duration": 13,
        "start_time": "2022-08-28T15:06:15.901Z"
      },
      {
        "duration": 2556,
        "start_time": "2022-08-28T15:06:15.916Z"
      },
      {
        "duration": 17,
        "start_time": "2022-08-28T15:06:18.474Z"
      },
      {
        "duration": 7,
        "start_time": "2022-08-28T15:06:18.493Z"
      },
      {
        "duration": 22,
        "start_time": "2022-08-28T15:06:18.502Z"
      },
      {
        "duration": 21,
        "start_time": "2022-08-28T15:06:18.527Z"
      },
      {
        "duration": 3,
        "start_time": "2022-08-28T15:06:18.549Z"
      },
      {
        "duration": 236,
        "start_time": "2022-08-28T15:06:18.554Z"
      },
      {
        "duration": 7,
        "start_time": "2022-08-28T15:06:18.791Z"
      },
      {
        "duration": 8,
        "start_time": "2022-08-28T15:06:18.799Z"
      },
      {
        "duration": 9,
        "start_time": "2022-08-28T15:06:18.809Z"
      },
      {
        "duration": 9,
        "start_time": "2022-08-28T15:06:18.819Z"
      },
      {
        "duration": 16,
        "start_time": "2022-08-28T15:06:18.830Z"
      },
      {
        "duration": 4,
        "start_time": "2022-08-28T15:06:18.848Z"
      },
      {
        "duration": 39,
        "start_time": "2022-08-28T15:06:18.853Z"
      },
      {
        "duration": 8,
        "start_time": "2022-08-28T15:06:18.894Z"
      },
      {
        "duration": 10,
        "start_time": "2022-08-28T15:06:18.904Z"
      },
      {
        "duration": 5,
        "start_time": "2022-08-28T15:06:22.742Z"
      },
      {
        "duration": 9,
        "start_time": "2022-08-28T15:06:30.774Z"
      },
      {
        "duration": 8,
        "start_time": "2022-08-28T15:06:39.090Z"
      },
      {
        "duration": 7,
        "start_time": "2022-08-28T15:06:40.655Z"
      },
      {
        "duration": 4,
        "start_time": "2022-08-28T15:07:17.215Z"
      },
      {
        "duration": 90,
        "start_time": "2022-08-28T15:07:23.046Z"
      },
      {
        "duration": 4,
        "start_time": "2022-08-28T15:08:31.454Z"
      },
      {
        "duration": 80,
        "start_time": "2022-08-28T15:08:37.467Z"
      },
      {
        "duration": 5,
        "start_time": "2022-08-28T15:08:39.952Z"
      },
      {
        "duration": 71,
        "start_time": "2022-08-28T15:09:01.784Z"
      },
      {
        "duration": 6,
        "start_time": "2022-08-28T15:09:01.858Z"
      },
      {
        "duration": 51,
        "start_time": "2022-08-28T15:09:01.866Z"
      },
      {
        "duration": 26,
        "start_time": "2022-08-28T15:09:01.920Z"
      },
      {
        "duration": 14,
        "start_time": "2022-08-28T15:09:01.949Z"
      },
      {
        "duration": 35,
        "start_time": "2022-08-28T15:09:01.965Z"
      },
      {
        "duration": 17,
        "start_time": "2022-08-28T15:09:02.003Z"
      },
      {
        "duration": 81,
        "start_time": "2022-08-28T15:09:02.023Z"
      },
      {
        "duration": 6,
        "start_time": "2022-08-28T15:09:02.106Z"
      },
      {
        "duration": 10,
        "start_time": "2022-08-28T15:09:02.114Z"
      },
      {
        "duration": 11,
        "start_time": "2022-08-28T15:09:02.126Z"
      },
      {
        "duration": 14,
        "start_time": "2022-08-28T15:09:02.139Z"
      },
      {
        "duration": 12,
        "start_time": "2022-08-28T15:09:02.155Z"
      },
      {
        "duration": 7,
        "start_time": "2022-08-28T15:09:02.193Z"
      },
      {
        "duration": 15,
        "start_time": "2022-08-28T15:09:02.202Z"
      },
      {
        "duration": 11,
        "start_time": "2022-08-28T15:09:02.219Z"
      },
      {
        "duration": 10,
        "start_time": "2022-08-28T15:09:02.232Z"
      },
      {
        "duration": 9,
        "start_time": "2022-08-28T15:09:02.244Z"
      },
      {
        "duration": 9,
        "start_time": "2022-08-28T15:09:02.255Z"
      },
      {
        "duration": 27,
        "start_time": "2022-08-28T15:09:02.266Z"
      },
      {
        "duration": 8,
        "start_time": "2022-08-28T15:09:02.294Z"
      },
      {
        "duration": 14,
        "start_time": "2022-08-28T15:09:02.304Z"
      },
      {
        "duration": 9,
        "start_time": "2022-08-28T15:09:02.320Z"
      },
      {
        "duration": 23,
        "start_time": "2022-08-28T15:09:02.330Z"
      },
      {
        "duration": 6,
        "start_time": "2022-08-28T15:09:02.354Z"
      },
      {
        "duration": 36,
        "start_time": "2022-08-28T15:09:02.361Z"
      },
      {
        "duration": 7,
        "start_time": "2022-08-28T15:09:02.399Z"
      },
      {
        "duration": 9,
        "start_time": "2022-08-28T15:09:02.407Z"
      },
      {
        "duration": 11,
        "start_time": "2022-08-28T15:09:02.418Z"
      },
      {
        "duration": 9,
        "start_time": "2022-08-28T15:09:02.431Z"
      },
      {
        "duration": 6,
        "start_time": "2022-08-28T15:09:02.442Z"
      },
      {
        "duration": 14,
        "start_time": "2022-08-28T15:09:02.449Z"
      },
      {
        "duration": 36,
        "start_time": "2022-08-28T15:09:02.465Z"
      },
      {
        "duration": 9,
        "start_time": "2022-08-28T15:09:02.502Z"
      },
      {
        "duration": 11,
        "start_time": "2022-08-28T15:09:02.513Z"
      },
      {
        "duration": 11,
        "start_time": "2022-08-28T15:09:02.526Z"
      },
      {
        "duration": 12,
        "start_time": "2022-08-28T15:09:02.538Z"
      },
      {
        "duration": 41,
        "start_time": "2022-08-28T15:09:02.551Z"
      },
      {
        "duration": 5,
        "start_time": "2022-08-28T15:09:02.594Z"
      },
      {
        "duration": 14,
        "start_time": "2022-08-28T15:09:02.601Z"
      },
      {
        "duration": 14,
        "start_time": "2022-08-28T15:09:02.619Z"
      },
      {
        "duration": 6,
        "start_time": "2022-08-28T15:09:02.634Z"
      },
      {
        "duration": 12,
        "start_time": "2022-08-28T15:09:02.642Z"
      },
      {
        "duration": 37,
        "start_time": "2022-08-28T15:09:02.656Z"
      },
      {
        "duration": 14,
        "start_time": "2022-08-28T15:09:02.695Z"
      },
      {
        "duration": 7,
        "start_time": "2022-08-28T15:09:02.711Z"
      },
      {
        "duration": 6,
        "start_time": "2022-08-28T15:09:02.719Z"
      },
      {
        "duration": 20,
        "start_time": "2022-08-28T15:09:02.727Z"
      },
      {
        "duration": 44,
        "start_time": "2022-08-28T15:09:02.749Z"
      },
      {
        "duration": 6,
        "start_time": "2022-08-28T15:09:02.794Z"
      },
      {
        "duration": 12,
        "start_time": "2022-08-28T15:09:02.802Z"
      },
      {
        "duration": 5,
        "start_time": "2022-08-28T15:09:02.816Z"
      },
      {
        "duration": 7,
        "start_time": "2022-08-28T15:09:02.823Z"
      },
      {
        "duration": 2484,
        "start_time": "2022-08-28T15:09:02.831Z"
      },
      {
        "duration": 13,
        "start_time": "2022-08-28T15:09:05.317Z"
      },
      {
        "duration": 7,
        "start_time": "2022-08-28T15:09:05.331Z"
      },
      {
        "duration": 14,
        "start_time": "2022-08-28T15:09:05.340Z"
      },
      {
        "duration": 47,
        "start_time": "2022-08-28T15:09:05.356Z"
      },
      {
        "duration": 3,
        "start_time": "2022-08-28T15:09:05.404Z"
      },
      {
        "duration": 210,
        "start_time": "2022-08-28T15:09:05.409Z"
      },
      {
        "duration": 5,
        "start_time": "2022-08-28T15:09:05.621Z"
      },
      {
        "duration": 12,
        "start_time": "2022-08-28T15:09:05.628Z"
      },
      {
        "duration": 5,
        "start_time": "2022-08-28T15:09:05.642Z"
      },
      {
        "duration": 14,
        "start_time": "2022-08-28T15:09:05.649Z"
      },
      {
        "duration": 37,
        "start_time": "2022-08-28T15:09:05.665Z"
      },
      {
        "duration": 3,
        "start_time": "2022-08-28T15:09:05.704Z"
      },
      {
        "duration": 6,
        "start_time": "2022-08-28T15:09:05.709Z"
      },
      {
        "duration": 11,
        "start_time": "2022-08-28T15:09:05.716Z"
      },
      {
        "duration": 9,
        "start_time": "2022-08-28T15:09:05.729Z"
      },
      {
        "duration": 4,
        "start_time": "2022-08-28T15:09:05.740Z"
      },
      {
        "duration": 46,
        "start_time": "2022-08-28T15:09:05.746Z"
      },
      {
        "duration": 9,
        "start_time": "2022-08-28T15:09:05.794Z"
      },
      {
        "duration": 3,
        "start_time": "2022-08-28T15:10:24.090Z"
      },
      {
        "duration": 83,
        "start_time": "2022-08-28T15:10:24.899Z"
      },
      {
        "duration": 6,
        "start_time": "2022-08-28T15:10:25.858Z"
      },
      {
        "duration": 64,
        "start_time": "2022-08-28T15:10:33.890Z"
      },
      {
        "duration": 17,
        "start_time": "2022-08-28T15:10:33.957Z"
      },
      {
        "duration": 52,
        "start_time": "2022-08-28T15:10:33.977Z"
      },
      {
        "duration": 39,
        "start_time": "2022-08-28T15:10:34.032Z"
      },
      {
        "duration": 17,
        "start_time": "2022-08-28T15:10:34.073Z"
      },
      {
        "duration": 35,
        "start_time": "2022-08-28T15:10:34.092Z"
      },
      {
        "duration": 20,
        "start_time": "2022-08-28T15:10:34.129Z"
      },
      {
        "duration": 65,
        "start_time": "2022-08-28T15:10:34.151Z"
      },
      {
        "duration": 6,
        "start_time": "2022-08-28T15:10:34.219Z"
      },
      {
        "duration": 15,
        "start_time": "2022-08-28T15:10:34.227Z"
      },
      {
        "duration": 17,
        "start_time": "2022-08-28T15:10:34.244Z"
      },
      {
        "duration": 48,
        "start_time": "2022-08-28T15:10:34.263Z"
      },
      {
        "duration": 15,
        "start_time": "2022-08-28T15:10:34.312Z"
      },
      {
        "duration": 16,
        "start_time": "2022-08-28T15:10:34.329Z"
      },
      {
        "duration": 16,
        "start_time": "2022-08-28T15:10:34.346Z"
      },
      {
        "duration": 18,
        "start_time": "2022-08-28T15:10:34.363Z"
      },
      {
        "duration": 15,
        "start_time": "2022-08-28T15:10:34.383Z"
      },
      {
        "duration": 21,
        "start_time": "2022-08-28T15:10:34.399Z"
      },
      {
        "duration": 12,
        "start_time": "2022-08-28T15:10:34.422Z"
      },
      {
        "duration": 19,
        "start_time": "2022-08-28T15:10:34.435Z"
      },
      {
        "duration": 12,
        "start_time": "2022-08-28T15:10:34.456Z"
      },
      {
        "duration": 24,
        "start_time": "2022-08-28T15:10:34.470Z"
      },
      {
        "duration": 21,
        "start_time": "2022-08-28T15:10:34.496Z"
      },
      {
        "duration": 44,
        "start_time": "2022-08-28T15:10:34.519Z"
      },
      {
        "duration": 15,
        "start_time": "2022-08-28T15:10:34.564Z"
      },
      {
        "duration": 18,
        "start_time": "2022-08-28T15:10:34.580Z"
      },
      {
        "duration": 18,
        "start_time": "2022-08-28T15:10:34.600Z"
      },
      {
        "duration": 17,
        "start_time": "2022-08-28T15:10:34.622Z"
      },
      {
        "duration": 19,
        "start_time": "2022-08-28T15:10:34.640Z"
      },
      {
        "duration": 18,
        "start_time": "2022-08-28T15:10:34.661Z"
      },
      {
        "duration": 23,
        "start_time": "2022-08-28T15:10:34.681Z"
      },
      {
        "duration": 22,
        "start_time": "2022-08-28T15:10:34.706Z"
      },
      {
        "duration": 19,
        "start_time": "2022-08-28T15:10:34.729Z"
      },
      {
        "duration": 18,
        "start_time": "2022-08-28T15:10:34.750Z"
      },
      {
        "duration": 26,
        "start_time": "2022-08-28T15:10:34.770Z"
      },
      {
        "duration": 26,
        "start_time": "2022-08-28T15:10:34.798Z"
      },
      {
        "duration": 35,
        "start_time": "2022-08-28T15:10:34.826Z"
      },
      {
        "duration": 19,
        "start_time": "2022-08-28T15:10:34.863Z"
      },
      {
        "duration": 10,
        "start_time": "2022-08-28T15:10:34.884Z"
      },
      {
        "duration": 23,
        "start_time": "2022-08-28T15:10:34.896Z"
      },
      {
        "duration": 15,
        "start_time": "2022-08-28T15:10:34.922Z"
      },
      {
        "duration": 17,
        "start_time": "2022-08-28T15:10:34.939Z"
      },
      {
        "duration": 15,
        "start_time": "2022-08-28T15:10:34.958Z"
      },
      {
        "duration": 30,
        "start_time": "2022-08-28T15:10:34.975Z"
      },
      {
        "duration": 16,
        "start_time": "2022-08-28T15:10:35.006Z"
      },
      {
        "duration": 10,
        "start_time": "2022-08-28T15:10:35.024Z"
      },
      {
        "duration": 13,
        "start_time": "2022-08-28T15:10:35.036Z"
      },
      {
        "duration": 36,
        "start_time": "2022-08-28T15:10:35.051Z"
      },
      {
        "duration": 5,
        "start_time": "2022-08-28T15:10:35.092Z"
      },
      {
        "duration": 9,
        "start_time": "2022-08-28T15:10:35.100Z"
      },
      {
        "duration": 12,
        "start_time": "2022-08-28T15:10:35.112Z"
      },
      {
        "duration": 5,
        "start_time": "2022-08-28T15:10:35.126Z"
      },
      {
        "duration": 7,
        "start_time": "2022-08-28T15:10:35.133Z"
      },
      {
        "duration": 2584,
        "start_time": "2022-08-28T15:10:35.142Z"
      },
      {
        "duration": 12,
        "start_time": "2022-08-28T15:10:37.728Z"
      },
      {
        "duration": 10,
        "start_time": "2022-08-28T15:10:37.743Z"
      },
      {
        "duration": 36,
        "start_time": "2022-08-28T15:10:37.756Z"
      },
      {
        "duration": 16,
        "start_time": "2022-08-28T15:10:37.795Z"
      },
      {
        "duration": 3,
        "start_time": "2022-08-28T15:10:37.814Z"
      },
      {
        "duration": 237,
        "start_time": "2022-08-28T15:10:37.819Z"
      },
      {
        "duration": 8,
        "start_time": "2022-08-28T15:10:38.057Z"
      },
      {
        "duration": 6,
        "start_time": "2022-08-28T15:10:38.066Z"
      },
      {
        "duration": 22,
        "start_time": "2022-08-28T15:10:38.073Z"
      },
      {
        "duration": 10,
        "start_time": "2022-08-28T15:10:38.097Z"
      },
      {
        "duration": 17,
        "start_time": "2022-08-28T15:10:38.109Z"
      },
      {
        "duration": 4,
        "start_time": "2022-08-28T15:10:38.127Z"
      },
      {
        "duration": 7,
        "start_time": "2022-08-28T15:10:38.132Z"
      },
      {
        "duration": 10,
        "start_time": "2022-08-28T15:10:38.141Z"
      },
      {
        "duration": 40,
        "start_time": "2022-08-28T15:10:38.152Z"
      },
      {
        "duration": 5,
        "start_time": "2022-08-28T15:10:38.194Z"
      },
      {
        "duration": 16,
        "start_time": "2022-08-28T15:10:38.201Z"
      },
      {
        "duration": 11,
        "start_time": "2022-08-28T15:10:38.219Z"
      },
      {
        "duration": 3,
        "start_time": "2022-08-28T15:10:50.285Z"
      },
      {
        "duration": 79,
        "start_time": "2022-08-28T15:10:52.070Z"
      },
      {
        "duration": 8,
        "start_time": "2022-08-28T15:10:53.185Z"
      },
      {
        "duration": 62,
        "start_time": "2022-08-28T15:11:00.263Z"
      },
      {
        "duration": 5,
        "start_time": "2022-08-28T15:11:00.328Z"
      },
      {
        "duration": 23,
        "start_time": "2022-08-28T15:11:00.335Z"
      },
      {
        "duration": 43,
        "start_time": "2022-08-28T15:11:00.359Z"
      },
      {
        "duration": 14,
        "start_time": "2022-08-28T15:11:00.404Z"
      },
      {
        "duration": 24,
        "start_time": "2022-08-28T15:11:00.419Z"
      },
      {
        "duration": 14,
        "start_time": "2022-08-28T15:11:00.446Z"
      },
      {
        "duration": 76,
        "start_time": "2022-08-28T15:11:00.462Z"
      },
      {
        "duration": 5,
        "start_time": "2022-08-28T15:11:00.540Z"
      },
      {
        "duration": 67,
        "start_time": "2022-08-28T15:11:00.547Z"
      },
      {
        "duration": 14,
        "start_time": "2022-08-28T15:11:00.616Z"
      },
      {
        "duration": 24,
        "start_time": "2022-08-28T15:11:00.632Z"
      },
      {
        "duration": 40,
        "start_time": "2022-08-28T15:11:00.658Z"
      },
      {
        "duration": 29,
        "start_time": "2022-08-28T15:11:00.701Z"
      },
      {
        "duration": 11,
        "start_time": "2022-08-28T15:11:00.732Z"
      },
      {
        "duration": 46,
        "start_time": "2022-08-28T15:11:00.745Z"
      },
      {
        "duration": 29,
        "start_time": "2022-08-28T15:11:00.793Z"
      },
      {
        "duration": 19,
        "start_time": "2022-08-28T15:11:00.824Z"
      },
      {
        "duration": 18,
        "start_time": "2022-08-28T15:11:00.845Z"
      },
      {
        "duration": 15,
        "start_time": "2022-08-28T15:11:00.865Z"
      },
      {
        "duration": 14,
        "start_time": "2022-08-28T15:11:00.882Z"
      },
      {
        "duration": 17,
        "start_time": "2022-08-28T15:11:00.899Z"
      },
      {
        "duration": 15,
        "start_time": "2022-08-28T15:11:00.918Z"
      },
      {
        "duration": 39,
        "start_time": "2022-08-28T15:11:00.935Z"
      },
      {
        "duration": 17,
        "start_time": "2022-08-28T15:11:00.976Z"
      },
      {
        "duration": 36,
        "start_time": "2022-08-28T15:11:00.994Z"
      },
      {
        "duration": 25,
        "start_time": "2022-08-28T15:11:01.032Z"
      },
      {
        "duration": 17,
        "start_time": "2022-08-28T15:11:01.059Z"
      },
      {
        "duration": 29,
        "start_time": "2022-08-28T15:11:01.078Z"
      },
      {
        "duration": 35,
        "start_time": "2022-08-28T15:11:01.109Z"
      },
      {
        "duration": 30,
        "start_time": "2022-08-28T15:11:01.146Z"
      },
      {
        "duration": 26,
        "start_time": "2022-08-28T15:11:01.178Z"
      },
      {
        "duration": 19,
        "start_time": "2022-08-28T15:11:01.206Z"
      },
      {
        "duration": 25,
        "start_time": "2022-08-28T15:11:01.226Z"
      },
      {
        "duration": 23,
        "start_time": "2022-08-28T15:11:01.253Z"
      },
      {
        "duration": 18,
        "start_time": "2022-08-28T15:11:01.277Z"
      },
      {
        "duration": 18,
        "start_time": "2022-08-28T15:11:01.296Z"
      },
      {
        "duration": 14,
        "start_time": "2022-08-28T15:11:01.316Z"
      },
      {
        "duration": 12,
        "start_time": "2022-08-28T15:11:01.332Z"
      },
      {
        "duration": 18,
        "start_time": "2022-08-28T15:11:01.345Z"
      },
      {
        "duration": 14,
        "start_time": "2022-08-28T15:11:01.367Z"
      },
      {
        "duration": 21,
        "start_time": "2022-08-28T15:11:01.391Z"
      },
      {
        "duration": 20,
        "start_time": "2022-08-28T15:11:01.413Z"
      },
      {
        "duration": 7,
        "start_time": "2022-08-28T15:11:01.435Z"
      },
      {
        "duration": 18,
        "start_time": "2022-08-28T15:11:01.444Z"
      },
      {
        "duration": 14,
        "start_time": "2022-08-28T15:11:01.464Z"
      },
      {
        "duration": 8,
        "start_time": "2022-08-28T15:11:01.480Z"
      },
      {
        "duration": 29,
        "start_time": "2022-08-28T15:11:01.490Z"
      },
      {
        "duration": 33,
        "start_time": "2022-08-28T15:11:01.520Z"
      },
      {
        "duration": 15,
        "start_time": "2022-08-28T15:11:01.555Z"
      },
      {
        "duration": 17,
        "start_time": "2022-08-28T15:11:01.572Z"
      },
      {
        "duration": 10,
        "start_time": "2022-08-28T15:11:01.591Z"
      },
      {
        "duration": 11,
        "start_time": "2022-08-28T15:11:01.603Z"
      },
      {
        "duration": 2593,
        "start_time": "2022-08-28T15:11:01.615Z"
      },
      {
        "duration": 13,
        "start_time": "2022-08-28T15:11:04.210Z"
      },
      {
        "duration": 6,
        "start_time": "2022-08-28T15:11:04.226Z"
      },
      {
        "duration": 13,
        "start_time": "2022-08-28T15:11:04.234Z"
      },
      {
        "duration": 44,
        "start_time": "2022-08-28T15:11:04.249Z"
      },
      {
        "duration": 3,
        "start_time": "2022-08-28T15:11:04.295Z"
      },
      {
        "duration": 208,
        "start_time": "2022-08-28T15:11:04.300Z"
      },
      {
        "duration": 7,
        "start_time": "2022-08-28T15:11:04.510Z"
      },
      {
        "duration": 5,
        "start_time": "2022-08-28T15:11:04.519Z"
      },
      {
        "duration": 7,
        "start_time": "2022-08-28T15:11:04.525Z"
      },
      {
        "duration": 8,
        "start_time": "2022-08-28T15:11:04.533Z"
      },
      {
        "duration": 15,
        "start_time": "2022-08-28T15:11:04.542Z"
      },
      {
        "duration": 3,
        "start_time": "2022-08-28T15:11:04.592Z"
      },
      {
        "duration": 10,
        "start_time": "2022-08-28T15:11:04.597Z"
      },
      {
        "duration": 11,
        "start_time": "2022-08-28T15:11:04.609Z"
      },
      {
        "duration": 9,
        "start_time": "2022-08-28T15:11:04.622Z"
      },
      {
        "duration": 5,
        "start_time": "2022-08-28T15:11:04.633Z"
      },
      {
        "duration": 11,
        "start_time": "2022-08-28T15:11:04.639Z"
      },
      {
        "duration": 48,
        "start_time": "2022-08-28T15:11:04.652Z"
      },
      {
        "duration": 6,
        "start_time": "2022-08-28T15:11:04.706Z"
      },
      {
        "duration": 4,
        "start_time": "2022-08-28T15:11:50.684Z"
      },
      {
        "duration": 74,
        "start_time": "2022-08-28T15:13:21.509Z"
      },
      {
        "duration": 6,
        "start_time": "2022-08-28T15:13:23.139Z"
      },
      {
        "duration": 60,
        "start_time": "2022-08-28T15:13:34.652Z"
      },
      {
        "duration": 5,
        "start_time": "2022-08-28T15:13:34.714Z"
      },
      {
        "duration": 23,
        "start_time": "2022-08-28T15:13:34.721Z"
      },
      {
        "duration": 59,
        "start_time": "2022-08-28T15:13:34.746Z"
      },
      {
        "duration": 5,
        "start_time": "2022-08-28T15:13:34.808Z"
      },
      {
        "duration": 16,
        "start_time": "2022-08-28T15:13:34.815Z"
      },
      {
        "duration": 13,
        "start_time": "2022-08-28T15:13:34.832Z"
      },
      {
        "duration": 89,
        "start_time": "2022-08-28T15:13:34.847Z"
      },
      {
        "duration": 5,
        "start_time": "2022-08-28T15:13:34.937Z"
      },
      {
        "duration": 15,
        "start_time": "2022-08-28T15:13:34.944Z"
      },
      {
        "duration": 15,
        "start_time": "2022-08-28T15:13:34.960Z"
      },
      {
        "duration": 14,
        "start_time": "2022-08-28T15:13:34.977Z"
      },
      {
        "duration": 6,
        "start_time": "2022-08-28T15:13:34.993Z"
      },
      {
        "duration": 11,
        "start_time": "2022-08-28T15:13:35.002Z"
      },
      {
        "duration": 9,
        "start_time": "2022-08-28T15:13:35.015Z"
      },
      {
        "duration": 17,
        "start_time": "2022-08-28T15:13:35.025Z"
      },
      {
        "duration": 7,
        "start_time": "2022-08-28T15:13:35.044Z"
      },
      {
        "duration": 6,
        "start_time": "2022-08-28T15:13:35.053Z"
      },
      {
        "duration": 31,
        "start_time": "2022-08-28T15:13:35.060Z"
      },
      {
        "duration": 11,
        "start_time": "2022-08-28T15:13:35.093Z"
      },
      {
        "duration": 10,
        "start_time": "2022-08-28T15:13:35.106Z"
      },
      {
        "duration": 12,
        "start_time": "2022-08-28T15:13:35.118Z"
      },
      {
        "duration": 10,
        "start_time": "2022-08-28T15:13:35.131Z"
      },
      {
        "duration": 26,
        "start_time": "2022-08-28T15:13:35.143Z"
      },
      {
        "duration": 25,
        "start_time": "2022-08-28T15:13:35.171Z"
      },
      {
        "duration": 13,
        "start_time": "2022-08-28T15:13:35.197Z"
      },
      {
        "duration": 9,
        "start_time": "2022-08-28T15:13:35.211Z"
      },
      {
        "duration": 10,
        "start_time": "2022-08-28T15:13:35.221Z"
      },
      {
        "duration": 11,
        "start_time": "2022-08-28T15:13:35.232Z"
      },
      {
        "duration": 10,
        "start_time": "2022-08-28T15:13:35.245Z"
      },
      {
        "duration": 11,
        "start_time": "2022-08-28T15:13:35.256Z"
      },
      {
        "duration": 7,
        "start_time": "2022-08-28T15:13:35.292Z"
      },
      {
        "duration": 11,
        "start_time": "2022-08-28T15:13:35.300Z"
      },
      {
        "duration": 10,
        "start_time": "2022-08-28T15:13:35.312Z"
      },
      {
        "duration": 14,
        "start_time": "2022-08-28T15:13:35.324Z"
      },
      {
        "duration": 13,
        "start_time": "2022-08-28T15:13:35.340Z"
      },
      {
        "duration": 44,
        "start_time": "2022-08-28T15:13:35.355Z"
      },
      {
        "duration": 7,
        "start_time": "2022-08-28T15:13:35.400Z"
      },
      {
        "duration": 8,
        "start_time": "2022-08-28T15:13:35.409Z"
      },
      {
        "duration": 14,
        "start_time": "2022-08-28T15:13:35.418Z"
      },
      {
        "duration": 15,
        "start_time": "2022-08-28T15:13:35.436Z"
      },
      {
        "duration": 40,
        "start_time": "2022-08-28T15:13:35.452Z"
      },
      {
        "duration": 17,
        "start_time": "2022-08-28T15:13:35.494Z"
      },
      {
        "duration": 13,
        "start_time": "2022-08-28T15:13:35.514Z"
      },
      {
        "duration": 19,
        "start_time": "2022-08-28T15:13:35.529Z"
      },
      {
        "duration": 8,
        "start_time": "2022-08-28T15:13:35.550Z"
      },
      {
        "duration": 35,
        "start_time": "2022-08-28T15:13:35.560Z"
      },
      {
        "duration": 29,
        "start_time": "2022-08-28T15:13:35.597Z"
      },
      {
        "duration": 6,
        "start_time": "2022-08-28T15:13:35.628Z"
      },
      {
        "duration": 9,
        "start_time": "2022-08-28T15:13:35.635Z"
      },
      {
        "duration": 16,
        "start_time": "2022-08-28T15:13:35.646Z"
      },
      {
        "duration": 5,
        "start_time": "2022-08-28T15:13:35.691Z"
      },
      {
        "duration": 11,
        "start_time": "2022-08-28T15:13:35.698Z"
      },
      {
        "duration": 2484,
        "start_time": "2022-08-28T15:13:35.711Z"
      },
      {
        "duration": 12,
        "start_time": "2022-08-28T15:13:38.197Z"
      },
      {
        "duration": 8,
        "start_time": "2022-08-28T15:13:38.210Z"
      },
      {
        "duration": 14,
        "start_time": "2022-08-28T15:13:38.220Z"
      },
      {
        "duration": 16,
        "start_time": "2022-08-28T15:13:38.236Z"
      },
      {
        "duration": 3,
        "start_time": "2022-08-28T15:13:38.253Z"
      },
      {
        "duration": 224,
        "start_time": "2022-08-28T15:13:38.258Z"
      },
      {
        "duration": 12,
        "start_time": "2022-08-28T15:13:38.484Z"
      },
      {
        "duration": 5,
        "start_time": "2022-08-28T15:13:38.498Z"
      },
      {
        "duration": 8,
        "start_time": "2022-08-28T15:13:38.505Z"
      },
      {
        "duration": 6,
        "start_time": "2022-08-28T15:13:38.515Z"
      },
      {
        "duration": 16,
        "start_time": "2022-08-28T15:13:38.523Z"
      },
      {
        "duration": 3,
        "start_time": "2022-08-28T15:13:38.540Z"
      },
      {
        "duration": 7,
        "start_time": "2022-08-28T15:13:38.545Z"
      },
      {
        "duration": 42,
        "start_time": "2022-08-28T15:13:38.553Z"
      },
      {
        "duration": 7,
        "start_time": "2022-08-28T15:13:38.598Z"
      },
      {
        "duration": 6,
        "start_time": "2022-08-28T15:13:38.607Z"
      },
      {
        "duration": 9,
        "start_time": "2022-08-28T15:13:38.614Z"
      },
      {
        "duration": 10,
        "start_time": "2022-08-28T15:13:38.624Z"
      },
      {
        "duration": 5,
        "start_time": "2022-08-28T15:13:39.320Z"
      },
      {
        "duration": 19,
        "start_time": "2022-08-28T15:15:03.829Z"
      },
      {
        "duration": 26,
        "start_time": "2022-08-28T15:15:05.402Z"
      },
      {
        "duration": 24,
        "start_time": "2022-08-28T15:15:06.854Z"
      },
      {
        "duration": 4,
        "start_time": "2022-08-28T15:15:08.486Z"
      },
      {
        "duration": 886,
        "start_time": "2022-08-28T15:15:09.771Z"
      },
      {
        "duration": 9,
        "start_time": "2022-08-28T15:15:11.987Z"
      },
      {
        "duration": 29,
        "start_time": "2022-08-28T15:15:25.330Z"
      },
      {
        "duration": 31,
        "start_time": "2022-08-28T15:17:13.005Z"
      },
      {
        "duration": 20,
        "start_time": "2022-08-28T15:20:58.884Z"
      },
      {
        "duration": 460,
        "start_time": "2022-08-28T15:23:13.948Z"
      },
      {
        "duration": 8,
        "start_time": "2022-08-28T15:23:14.869Z"
      },
      {
        "duration": 16,
        "start_time": "2022-08-28T15:23:24.689Z"
      },
      {
        "duration": 5,
        "start_time": "2022-08-28T15:23:26.422Z"
      },
      {
        "duration": 7,
        "start_time": "2022-08-28T15:23:42.724Z"
      },
      {
        "duration": 14,
        "start_time": "2022-08-28T15:28:38.257Z"
      },
      {
        "duration": 5,
        "start_time": "2022-08-28T15:28:39.727Z"
      },
      {
        "duration": 16,
        "start_time": "2022-08-28T15:29:12.352Z"
      },
      {
        "duration": 5,
        "start_time": "2022-08-28T15:29:12.785Z"
      },
      {
        "duration": 65,
        "start_time": "2022-08-28T15:29:19.218Z"
      },
      {
        "duration": 5,
        "start_time": "2022-08-28T15:29:19.285Z"
      },
      {
        "duration": 33,
        "start_time": "2022-08-28T15:29:19.292Z"
      },
      {
        "duration": 24,
        "start_time": "2022-08-28T15:29:19.326Z"
      },
      {
        "duration": 31,
        "start_time": "2022-08-28T15:29:19.353Z"
      },
      {
        "duration": 26,
        "start_time": "2022-08-28T15:29:19.386Z"
      },
      {
        "duration": 14,
        "start_time": "2022-08-28T15:29:19.413Z"
      },
      {
        "duration": 71,
        "start_time": "2022-08-28T15:29:19.429Z"
      },
      {
        "duration": 5,
        "start_time": "2022-08-28T15:29:19.502Z"
      },
      {
        "duration": 11,
        "start_time": "2022-08-28T15:29:19.508Z"
      },
      {
        "duration": 9,
        "start_time": "2022-08-28T15:29:19.521Z"
      },
      {
        "duration": 11,
        "start_time": "2022-08-28T15:29:19.533Z"
      },
      {
        "duration": 8,
        "start_time": "2022-08-28T15:29:19.546Z"
      },
      {
        "duration": 35,
        "start_time": "2022-08-28T15:29:19.557Z"
      },
      {
        "duration": 7,
        "start_time": "2022-08-28T15:29:19.594Z"
      },
      {
        "duration": 18,
        "start_time": "2022-08-28T15:29:19.603Z"
      },
      {
        "duration": 12,
        "start_time": "2022-08-28T15:29:19.623Z"
      },
      {
        "duration": 11,
        "start_time": "2022-08-28T15:29:19.637Z"
      },
      {
        "duration": 11,
        "start_time": "2022-08-28T15:29:19.650Z"
      },
      {
        "duration": 32,
        "start_time": "2022-08-28T15:29:19.663Z"
      },
      {
        "duration": 19,
        "start_time": "2022-08-28T15:29:19.697Z"
      },
      {
        "duration": 14,
        "start_time": "2022-08-28T15:29:19.718Z"
      },
      {
        "duration": 12,
        "start_time": "2022-08-28T15:29:19.735Z"
      },
      {
        "duration": 55,
        "start_time": "2022-08-28T15:29:19.749Z"
      },
      {
        "duration": 7,
        "start_time": "2022-08-28T15:29:19.807Z"
      },
      {
        "duration": 11,
        "start_time": "2022-08-28T15:29:19.815Z"
      },
      {
        "duration": 13,
        "start_time": "2022-08-28T15:29:19.828Z"
      },
      {
        "duration": 10,
        "start_time": "2022-08-28T15:29:19.843Z"
      },
      {
        "duration": 9,
        "start_time": "2022-08-28T15:29:19.855Z"
      },
      {
        "duration": 27,
        "start_time": "2022-08-28T15:29:19.866Z"
      },
      {
        "duration": 17,
        "start_time": "2022-08-28T15:29:19.895Z"
      },
      {
        "duration": 15,
        "start_time": "2022-08-28T15:29:19.914Z"
      },
      {
        "duration": 18,
        "start_time": "2022-08-28T15:29:19.931Z"
      },
      {
        "duration": 20,
        "start_time": "2022-08-28T15:29:19.951Z"
      },
      {
        "duration": 19,
        "start_time": "2022-08-28T15:29:19.974Z"
      },
      {
        "duration": 31,
        "start_time": "2022-08-28T15:29:19.995Z"
      },
      {
        "duration": 26,
        "start_time": "2022-08-28T15:29:20.028Z"
      },
      {
        "duration": 9,
        "start_time": "2022-08-28T15:29:20.057Z"
      },
      {
        "duration": 7,
        "start_time": "2022-08-28T15:29:20.068Z"
      },
      {
        "duration": 21,
        "start_time": "2022-08-28T15:29:20.077Z"
      },
      {
        "duration": 15,
        "start_time": "2022-08-28T15:29:20.103Z"
      },
      {
        "duration": 7,
        "start_time": "2022-08-28T15:29:20.120Z"
      },
      {
        "duration": 9,
        "start_time": "2022-08-28T15:29:20.129Z"
      },
      {
        "duration": 8,
        "start_time": "2022-08-28T15:29:20.140Z"
      },
      {
        "duration": 48,
        "start_time": "2022-08-28T15:29:20.150Z"
      },
      {
        "duration": 6,
        "start_time": "2022-08-28T15:29:20.200Z"
      },
      {
        "duration": 8,
        "start_time": "2022-08-28T15:29:20.208Z"
      },
      {
        "duration": 20,
        "start_time": "2022-08-28T15:29:20.218Z"
      },
      {
        "duration": 5,
        "start_time": "2022-08-28T15:29:20.240Z"
      },
      {
        "duration": 47,
        "start_time": "2022-08-28T15:29:20.246Z"
      },
      {
        "duration": 19,
        "start_time": "2022-08-28T15:29:20.294Z"
      },
      {
        "duration": 5,
        "start_time": "2022-08-28T15:29:20.315Z"
      },
      {
        "duration": 16,
        "start_time": "2022-08-28T15:29:20.322Z"
      },
      {
        "duration": 2611,
        "start_time": "2022-08-28T15:29:20.339Z"
      },
      {
        "duration": 13,
        "start_time": "2022-08-28T15:29:22.952Z"
      },
      {
        "duration": 10,
        "start_time": "2022-08-28T15:29:22.966Z"
      },
      {
        "duration": 25,
        "start_time": "2022-08-28T15:29:22.978Z"
      },
      {
        "duration": 17,
        "start_time": "2022-08-28T15:29:23.004Z"
      },
      {
        "duration": 3,
        "start_time": "2022-08-28T15:29:23.023Z"
      },
      {
        "duration": 218,
        "start_time": "2022-08-28T15:29:23.028Z"
      },
      {
        "duration": 7,
        "start_time": "2022-08-28T15:29:23.248Z"
      },
      {
        "duration": 7,
        "start_time": "2022-08-28T15:29:23.256Z"
      },
      {
        "duration": 7,
        "start_time": "2022-08-28T15:29:23.265Z"
      },
      {
        "duration": 7,
        "start_time": "2022-08-28T15:29:23.292Z"
      },
      {
        "duration": 17,
        "start_time": "2022-08-28T15:29:23.300Z"
      },
      {
        "duration": 3,
        "start_time": "2022-08-28T15:29:23.319Z"
      },
      {
        "duration": 8,
        "start_time": "2022-08-28T15:29:23.324Z"
      },
      {
        "duration": 13,
        "start_time": "2022-08-28T15:29:23.334Z"
      },
      {
        "duration": 14,
        "start_time": "2022-08-28T15:29:23.349Z"
      },
      {
        "duration": 30,
        "start_time": "2022-08-28T15:29:23.365Z"
      },
      {
        "duration": 9,
        "start_time": "2022-08-28T15:29:23.397Z"
      },
      {
        "duration": 16,
        "start_time": "2022-08-28T15:29:25.868Z"
      },
      {
        "duration": 6,
        "start_time": "2022-08-28T15:29:26.315Z"
      },
      {
        "duration": 4,
        "start_time": "2022-08-28T15:29:27.619Z"
      },
      {
        "duration": 10,
        "start_time": "2022-08-28T15:29:28.791Z"
      },
      {
        "duration": 6,
        "start_time": "2022-08-28T15:29:29.636Z"
      },
      {
        "duration": 20,
        "start_time": "2022-08-28T15:29:32.874Z"
      },
      {
        "duration": 18,
        "start_time": "2022-08-28T15:29:43.382Z"
      },
      {
        "duration": 103,
        "start_time": "2022-08-28T15:32:12.880Z"
      },
      {
        "duration": 25,
        "start_time": "2022-08-28T15:32:38.188Z"
      },
      {
        "duration": 51,
        "start_time": "2022-08-28T15:34:30.427Z"
      },
      {
        "duration": 38,
        "start_time": "2022-08-28T16:00:48.429Z"
      },
      {
        "duration": 33,
        "start_time": "2022-08-28T16:01:05.031Z"
      },
      {
        "duration": 40,
        "start_time": "2022-08-28T16:01:16.313Z"
      },
      {
        "duration": 24,
        "start_time": "2022-08-28T16:02:07.106Z"
      },
      {
        "duration": 31,
        "start_time": "2022-08-28T16:02:30.479Z"
      },
      {
        "duration": 22,
        "start_time": "2022-08-28T16:02:32.979Z"
      },
      {
        "duration": 29,
        "start_time": "2022-08-28T16:02:47.582Z"
      },
      {
        "duration": 56,
        "start_time": "2022-08-28T16:03:01.596Z"
      },
      {
        "duration": 17,
        "start_time": "2022-08-28T16:03:12.305Z"
      },
      {
        "duration": 5,
        "start_time": "2022-08-28T16:04:13.900Z"
      },
      {
        "duration": 21,
        "start_time": "2022-08-28T16:04:21.423Z"
      },
      {
        "duration": 17,
        "start_time": "2022-08-28T16:04:22.829Z"
      },
      {
        "duration": 7,
        "start_time": "2022-08-28T16:04:37.047Z"
      },
      {
        "duration": 16,
        "start_time": "2022-08-28T16:05:13.670Z"
      },
      {
        "duration": 22,
        "start_time": "2022-08-28T16:12:00.503Z"
      },
      {
        "duration": 16,
        "start_time": "2022-08-28T16:12:12.318Z"
      },
      {
        "duration": 20,
        "start_time": "2022-08-28T16:12:22.488Z"
      },
      {
        "duration": 112,
        "start_time": "2022-08-28T16:26:05.837Z"
      },
      {
        "duration": 101,
        "start_time": "2022-08-28T16:27:12.714Z"
      },
      {
        "duration": 177,
        "start_time": "2022-08-28T16:27:36.780Z"
      },
      {
        "duration": 102,
        "start_time": "2022-08-28T16:27:56.594Z"
      },
      {
        "duration": 19,
        "start_time": "2022-08-28T16:30:10.031Z"
      },
      {
        "duration": 18,
        "start_time": "2022-08-28T16:30:24.443Z"
      },
      {
        "duration": 24,
        "start_time": "2022-08-28T16:30:54.383Z"
      },
      {
        "duration": 19,
        "start_time": "2022-08-28T16:31:22.135Z"
      },
      {
        "duration": 4,
        "start_time": "2022-08-28T16:35:30.571Z"
      },
      {
        "duration": 27,
        "start_time": "2022-08-28T16:36:21.483Z"
      },
      {
        "duration": 457,
        "start_time": "2022-08-28T16:37:15.315Z"
      },
      {
        "duration": 8,
        "start_time": "2022-08-28T16:37:21.902Z"
      },
      {
        "duration": 4,
        "start_time": "2022-08-28T16:39:01.255Z"
      },
      {
        "duration": 4,
        "start_time": "2022-08-28T16:39:25.023Z"
      },
      {
        "duration": 4,
        "start_time": "2022-08-28T16:39:27.312Z"
      },
      {
        "duration": 15,
        "start_time": "2022-08-28T16:39:33.467Z"
      },
      {
        "duration": 7,
        "start_time": "2022-08-28T16:39:48.406Z"
      },
      {
        "duration": 4,
        "start_time": "2022-08-28T16:40:10.013Z"
      },
      {
        "duration": 5,
        "start_time": "2022-08-28T16:50:24.804Z"
      },
      {
        "duration": 7,
        "start_time": "2022-08-28T16:51:19.380Z"
      },
      {
        "duration": 7,
        "start_time": "2022-08-28T16:51:50.553Z"
      },
      {
        "duration": 26,
        "start_time": "2022-08-28T16:51:57.768Z"
      },
      {
        "duration": 7,
        "start_time": "2022-08-28T16:52:03.488Z"
      },
      {
        "duration": 13,
        "start_time": "2022-08-28T16:57:38.571Z"
      },
      {
        "duration": 17,
        "start_time": "2022-08-28T16:58:08.857Z"
      },
      {
        "duration": 33,
        "start_time": "2022-08-28T16:58:29.731Z"
      },
      {
        "duration": 26,
        "start_time": "2022-08-28T17:09:09.266Z"
      },
      {
        "duration": 31,
        "start_time": "2022-08-28T17:09:58.995Z"
      },
      {
        "duration": 27,
        "start_time": "2022-08-28T17:13:06.811Z"
      },
      {
        "duration": 41,
        "start_time": "2022-08-28T17:13:19.486Z"
      },
      {
        "duration": 99,
        "start_time": "2022-08-28T18:13:38.575Z"
      },
      {
        "duration": 14,
        "start_time": "2022-08-28T18:13:45.457Z"
      },
      {
        "duration": 15,
        "start_time": "2022-08-28T18:15:31.879Z"
      },
      {
        "duration": 15,
        "start_time": "2022-08-28T18:15:45.590Z"
      },
      {
        "duration": 16,
        "start_time": "2022-08-28T18:15:56.874Z"
      },
      {
        "duration": 20,
        "start_time": "2022-08-28T18:16:02.293Z"
      },
      {
        "duration": 15,
        "start_time": "2022-08-28T18:16:09.479Z"
      },
      {
        "duration": 14,
        "start_time": "2022-08-28T18:16:15.894Z"
      },
      {
        "duration": 17,
        "start_time": "2022-08-28T18:50:13.068Z"
      },
      {
        "duration": 4,
        "start_time": "2022-08-28T18:50:35.421Z"
      },
      {
        "duration": 4,
        "start_time": "2022-08-28T18:51:07.842Z"
      },
      {
        "duration": 4,
        "start_time": "2022-08-28T18:51:25.450Z"
      },
      {
        "duration": 8,
        "start_time": "2022-08-28T18:51:51.700Z"
      },
      {
        "duration": 9,
        "start_time": "2022-08-28T18:52:16.095Z"
      },
      {
        "duration": 19,
        "start_time": "2022-08-28T18:52:44.470Z"
      },
      {
        "duration": 11,
        "start_time": "2022-08-28T18:53:38.733Z"
      },
      {
        "duration": 25,
        "start_time": "2022-08-28T18:54:54.984Z"
      },
      {
        "duration": 62,
        "start_time": "2022-08-28T18:55:37.916Z"
      },
      {
        "duration": 6,
        "start_time": "2022-08-28T18:55:37.981Z"
      },
      {
        "duration": 25,
        "start_time": "2022-08-28T18:55:37.988Z"
      },
      {
        "duration": 17,
        "start_time": "2022-08-28T18:55:38.015Z"
      },
      {
        "duration": 3,
        "start_time": "2022-08-28T18:55:38.035Z"
      },
      {
        "duration": 18,
        "start_time": "2022-08-28T18:55:38.040Z"
      },
      {
        "duration": 41,
        "start_time": "2022-08-28T18:55:38.059Z"
      },
      {
        "duration": 56,
        "start_time": "2022-08-28T18:55:38.102Z"
      },
      {
        "duration": 5,
        "start_time": "2022-08-28T18:55:38.160Z"
      },
      {
        "duration": 28,
        "start_time": "2022-08-28T18:55:38.167Z"
      },
      {
        "duration": 6,
        "start_time": "2022-08-28T18:55:38.199Z"
      },
      {
        "duration": 13,
        "start_time": "2022-08-28T18:55:38.207Z"
      },
      {
        "duration": 5,
        "start_time": "2022-08-28T18:55:38.222Z"
      },
      {
        "duration": 7,
        "start_time": "2022-08-28T18:55:38.231Z"
      },
      {
        "duration": 6,
        "start_time": "2022-08-28T18:55:38.240Z"
      },
      {
        "duration": 7,
        "start_time": "2022-08-28T18:55:38.248Z"
      },
      {
        "duration": 45,
        "start_time": "2022-08-28T18:55:38.257Z"
      },
      {
        "duration": 12,
        "start_time": "2022-08-28T18:55:38.309Z"
      },
      {
        "duration": 9,
        "start_time": "2022-08-28T18:55:38.323Z"
      },
      {
        "duration": 11,
        "start_time": "2022-08-28T18:55:38.333Z"
      },
      {
        "duration": 11,
        "start_time": "2022-08-28T18:55:38.346Z"
      },
      {
        "duration": 11,
        "start_time": "2022-08-28T18:55:38.359Z"
      },
      {
        "duration": 8,
        "start_time": "2022-08-28T18:55:38.394Z"
      },
      {
        "duration": 35,
        "start_time": "2022-08-28T18:55:38.403Z"
      },
      {
        "duration": 7,
        "start_time": "2022-08-28T18:55:38.440Z"
      },
      {
        "duration": 11,
        "start_time": "2022-08-28T18:55:38.449Z"
      },
      {
        "duration": 7,
        "start_time": "2022-08-28T18:55:38.462Z"
      },
      {
        "duration": 13,
        "start_time": "2022-08-28T18:55:38.494Z"
      },
      {
        "duration": 15,
        "start_time": "2022-08-28T18:55:38.511Z"
      },
      {
        "duration": 13,
        "start_time": "2022-08-28T18:55:38.529Z"
      },
      {
        "duration": 8,
        "start_time": "2022-08-28T18:55:38.544Z"
      },
      {
        "duration": 11,
        "start_time": "2022-08-28T18:55:38.553Z"
      },
      {
        "duration": 30,
        "start_time": "2022-08-28T18:55:38.565Z"
      },
      {
        "duration": 24,
        "start_time": "2022-08-28T18:55:38.597Z"
      },
      {
        "duration": 16,
        "start_time": "2022-08-28T18:55:38.624Z"
      },
      {
        "duration": 13,
        "start_time": "2022-08-28T18:55:38.642Z"
      },
      {
        "duration": 13,
        "start_time": "2022-08-28T18:55:38.657Z"
      },
      {
        "duration": 28,
        "start_time": "2022-08-28T18:55:38.672Z"
      },
      {
        "duration": 19,
        "start_time": "2022-08-28T18:55:38.707Z"
      },
      {
        "duration": 6,
        "start_time": "2022-08-28T18:55:38.728Z"
      },
      {
        "duration": 6,
        "start_time": "2022-08-28T18:55:38.740Z"
      },
      {
        "duration": 20,
        "start_time": "2022-08-28T18:55:38.747Z"
      },
      {
        "duration": 41,
        "start_time": "2022-08-28T18:55:38.769Z"
      },
      {
        "duration": 6,
        "start_time": "2022-08-28T18:55:38.812Z"
      },
      {
        "duration": 14,
        "start_time": "2022-08-28T18:55:38.820Z"
      },
      {
        "duration": 7,
        "start_time": "2022-08-28T18:55:38.836Z"
      },
      {
        "duration": 16,
        "start_time": "2022-08-28T18:55:38.844Z"
      },
      {
        "duration": 32,
        "start_time": "2022-08-28T18:55:38.861Z"
      },
      {
        "duration": 16,
        "start_time": "2022-08-28T18:55:38.895Z"
      },
      {
        "duration": 26,
        "start_time": "2022-08-28T18:55:38.914Z"
      },
      {
        "duration": 4,
        "start_time": "2022-08-28T18:55:38.942Z"
      },
      {
        "duration": 11,
        "start_time": "2022-08-28T18:55:38.948Z"
      },
      {
        "duration": 34,
        "start_time": "2022-08-28T18:55:38.961Z"
      },
      {
        "duration": 6,
        "start_time": "2022-08-28T18:55:38.996Z"
      },
      {
        "duration": 13,
        "start_time": "2022-08-28T18:55:39.010Z"
      },
      {
        "duration": 2781,
        "start_time": "2022-08-28T18:55:39.024Z"
      },
      {
        "duration": 21,
        "start_time": "2022-08-28T18:55:41.812Z"
      },
      {
        "duration": 17,
        "start_time": "2022-08-28T18:55:41.837Z"
      },
      {
        "duration": 38,
        "start_time": "2022-08-28T18:55:41.857Z"
      },
      {
        "duration": 54,
        "start_time": "2022-08-28T18:55:41.897Z"
      },
      {
        "duration": 6,
        "start_time": "2022-08-28T18:55:41.954Z"
      },
      {
        "duration": 285,
        "start_time": "2022-08-28T18:55:41.962Z"
      },
      {
        "duration": 9,
        "start_time": "2022-08-28T18:55:42.250Z"
      },
      {
        "duration": 16,
        "start_time": "2022-08-28T18:55:42.261Z"
      },
      {
        "duration": 20,
        "start_time": "2022-08-28T18:55:42.280Z"
      },
      {
        "duration": 35,
        "start_time": "2022-08-28T18:55:42.303Z"
      },
      {
        "duration": 19,
        "start_time": "2022-08-28T18:55:42.341Z"
      },
      {
        "duration": 10,
        "start_time": "2022-08-28T18:55:42.362Z"
      },
      {
        "duration": 9,
        "start_time": "2022-08-28T18:55:42.375Z"
      },
      {
        "duration": 21,
        "start_time": "2022-08-28T18:55:42.386Z"
      },
      {
        "duration": 22,
        "start_time": "2022-08-28T18:55:42.409Z"
      },
      {
        "duration": 15,
        "start_time": "2022-08-28T18:55:42.433Z"
      },
      {
        "duration": 23,
        "start_time": "2022-08-28T18:55:42.450Z"
      },
      {
        "duration": 35,
        "start_time": "2022-08-28T18:55:42.475Z"
      },
      {
        "duration": 11,
        "start_time": "2022-08-28T18:55:42.512Z"
      },
      {
        "duration": 4,
        "start_time": "2022-08-28T18:55:42.525Z"
      },
      {
        "duration": 16,
        "start_time": "2022-08-28T18:55:42.531Z"
      },
      {
        "duration": 8,
        "start_time": "2022-08-28T18:55:42.549Z"
      },
      {
        "duration": 39,
        "start_time": "2022-08-28T18:55:42.558Z"
      },
      {
        "duration": 22,
        "start_time": "2022-08-28T18:55:42.598Z"
      },
      {
        "duration": 26,
        "start_time": "2022-08-28T18:55:42.622Z"
      },
      {
        "duration": 5,
        "start_time": "2022-08-28T18:55:48.033Z"
      },
      {
        "duration": 11,
        "start_time": "2022-08-28T18:55:49.076Z"
      },
      {
        "duration": 17,
        "start_time": "2022-08-28T18:55:49.872Z"
      },
      {
        "duration": 27,
        "start_time": "2022-08-28T18:56:19.672Z"
      },
      {
        "duration": 26,
        "start_time": "2022-08-28T18:56:21.236Z"
      },
      {
        "duration": 26,
        "start_time": "2022-08-28T18:56:22.059Z"
      },
      {
        "duration": 17,
        "start_time": "2022-08-28T18:56:23.551Z"
      },
      {
        "duration": 18,
        "start_time": "2022-08-28T18:56:27.921Z"
      },
      {
        "duration": 34,
        "start_time": "2022-08-28T18:56:31.788Z"
      },
      {
        "duration": 32,
        "start_time": "2022-08-28T18:56:32.962Z"
      },
      {
        "duration": 38,
        "start_time": "2022-08-28T18:56:34.124Z"
      },
      {
        "duration": 39,
        "start_time": "2022-08-28T19:03:24.308Z"
      },
      {
        "duration": 1886,
        "start_time": "2022-08-28T19:04:06.640Z"
      },
      {
        "duration": 1664,
        "start_time": "2022-08-28T19:04:24.514Z"
      },
      {
        "duration": 1783,
        "start_time": "2022-08-28T19:04:54.010Z"
      },
      {
        "duration": 1858,
        "start_time": "2022-08-28T19:05:17.151Z"
      },
      {
        "duration": 25,
        "start_time": "2022-08-28T19:06:43.729Z"
      },
      {
        "duration": 28,
        "start_time": "2022-08-28T19:06:44.953Z"
      },
      {
        "duration": 4,
        "start_time": "2022-08-28T19:06:47.074Z"
      },
      {
        "duration": 2136,
        "start_time": "2022-08-28T19:06:57.802Z"
      },
      {
        "duration": 1956,
        "start_time": "2022-08-28T19:07:18.211Z"
      },
      {
        "duration": 1952,
        "start_time": "2022-08-28T19:08:14.425Z"
      },
      {
        "duration": 1769,
        "start_time": "2022-08-28T19:09:05.662Z"
      },
      {
        "duration": 1897,
        "start_time": "2022-08-28T19:09:26.143Z"
      },
      {
        "duration": 6,
        "start_time": "2022-08-28T19:09:42.375Z"
      },
      {
        "duration": 15,
        "start_time": "2022-08-28T19:10:04.602Z"
      },
      {
        "duration": 5,
        "start_time": "2022-08-28T19:16:06.860Z"
      },
      {
        "duration": 5,
        "start_time": "2022-08-28T19:16:26.151Z"
      },
      {
        "duration": 6,
        "start_time": "2022-08-28T19:17:05.610Z"
      },
      {
        "duration": 9,
        "start_time": "2022-08-28T19:19:36.265Z"
      },
      {
        "duration": 11,
        "start_time": "2022-08-28T19:21:25.028Z"
      },
      {
        "duration": 72,
        "start_time": "2022-08-28T19:27:42.687Z"
      },
      {
        "duration": 5,
        "start_time": "2022-08-28T19:27:42.761Z"
      },
      {
        "duration": 17,
        "start_time": "2022-08-28T19:27:42.768Z"
      },
      {
        "duration": 21,
        "start_time": "2022-08-28T19:27:42.794Z"
      },
      {
        "duration": 7,
        "start_time": "2022-08-28T19:27:42.818Z"
      },
      {
        "duration": 18,
        "start_time": "2022-08-28T19:27:42.827Z"
      },
      {
        "duration": 50,
        "start_time": "2022-08-28T19:27:42.847Z"
      },
      {
        "duration": 57,
        "start_time": "2022-08-28T19:27:42.905Z"
      },
      {
        "duration": 5,
        "start_time": "2022-08-28T19:27:42.964Z"
      },
      {
        "duration": 24,
        "start_time": "2022-08-28T19:27:42.971Z"
      },
      {
        "duration": 6,
        "start_time": "2022-08-28T19:27:43.001Z"
      },
      {
        "duration": 11,
        "start_time": "2022-08-28T19:27:43.008Z"
      },
      {
        "duration": 8,
        "start_time": "2022-08-28T19:27:43.021Z"
      },
      {
        "duration": 7,
        "start_time": "2022-08-28T19:27:43.035Z"
      },
      {
        "duration": 8,
        "start_time": "2022-08-28T19:27:43.044Z"
      },
      {
        "duration": 6,
        "start_time": "2022-08-28T19:27:43.054Z"
      },
      {
        "duration": 40,
        "start_time": "2022-08-28T19:27:43.062Z"
      },
      {
        "duration": 13,
        "start_time": "2022-08-28T19:27:43.107Z"
      },
      {
        "duration": 12,
        "start_time": "2022-08-28T19:27:43.122Z"
      },
      {
        "duration": 12,
        "start_time": "2022-08-28T19:27:43.135Z"
      },
      {
        "duration": 11,
        "start_time": "2022-08-28T19:27:43.149Z"
      },
      {
        "duration": 11,
        "start_time": "2022-08-28T19:27:43.161Z"
      },
      {
        "duration": 23,
        "start_time": "2022-08-28T19:27:43.174Z"
      },
      {
        "duration": 37,
        "start_time": "2022-08-28T19:27:43.199Z"
      },
      {
        "duration": 6,
        "start_time": "2022-08-28T19:27:43.238Z"
      },
      {
        "duration": 13,
        "start_time": "2022-08-28T19:27:43.246Z"
      },
      {
        "duration": 9,
        "start_time": "2022-08-28T19:27:43.261Z"
      },
      {
        "duration": 30,
        "start_time": "2022-08-28T19:27:43.271Z"
      },
      {
        "duration": 18,
        "start_time": "2022-08-28T19:27:43.306Z"
      },
      {
        "duration": 13,
        "start_time": "2022-08-28T19:27:43.327Z"
      },
      {
        "duration": 7,
        "start_time": "2022-08-28T19:27:43.342Z"
      },
      {
        "duration": 10,
        "start_time": "2022-08-28T19:27:43.351Z"
      },
      {
        "duration": 12,
        "start_time": "2022-08-28T19:27:43.363Z"
      },
      {
        "duration": 12,
        "start_time": "2022-08-28T19:27:43.392Z"
      },
      {
        "duration": 21,
        "start_time": "2022-08-28T19:27:43.406Z"
      },
      {
        "duration": 15,
        "start_time": "2022-08-28T19:27:43.429Z"
      },
      {
        "duration": 14,
        "start_time": "2022-08-28T19:27:43.446Z"
      },
      {
        "duration": 11,
        "start_time": "2022-08-28T19:27:43.461Z"
      },
      {
        "duration": 24,
        "start_time": "2022-08-28T19:27:43.474Z"
      },
      {
        "duration": 6,
        "start_time": "2022-08-28T19:27:43.499Z"
      },
      {
        "duration": 13,
        "start_time": "2022-08-28T19:27:43.511Z"
      },
      {
        "duration": 20,
        "start_time": "2022-08-28T19:27:43.525Z"
      },
      {
        "duration": 17,
        "start_time": "2022-08-28T19:27:43.547Z"
      },
      {
        "duration": 42,
        "start_time": "2022-08-28T19:27:43.566Z"
      },
      {
        "duration": 15,
        "start_time": "2022-08-28T19:27:43.610Z"
      },
      {
        "duration": 14,
        "start_time": "2022-08-28T19:27:43.626Z"
      },
      {
        "duration": 15,
        "start_time": "2022-08-28T19:27:43.642Z"
      },
      {
        "duration": 5,
        "start_time": "2022-08-28T19:27:43.659Z"
      },
      {
        "duration": 29,
        "start_time": "2022-08-28T19:27:43.666Z"
      },
      {
        "duration": 30,
        "start_time": "2022-08-28T19:27:43.697Z"
      },
      {
        "duration": 17,
        "start_time": "2022-08-28T19:27:43.729Z"
      },
      {
        "duration": 22,
        "start_time": "2022-08-28T19:27:43.748Z"
      },
      {
        "duration": 11,
        "start_time": "2022-08-28T19:27:43.772Z"
      },
      {
        "duration": 8,
        "start_time": "2022-08-28T19:27:43.785Z"
      },
      {
        "duration": 28,
        "start_time": "2022-08-28T19:27:43.797Z"
      },
      {
        "duration": 2595,
        "start_time": "2022-08-28T19:27:43.827Z"
      },
      {
        "duration": 13,
        "start_time": "2022-08-28T19:27:46.424Z"
      },
      {
        "duration": 9,
        "start_time": "2022-08-28T19:27:46.439Z"
      },
      {
        "duration": 43,
        "start_time": "2022-08-28T19:27:46.450Z"
      },
      {
        "duration": 25,
        "start_time": "2022-08-28T19:27:46.496Z"
      },
      {
        "duration": 4,
        "start_time": "2022-08-28T19:27:46.523Z"
      },
      {
        "duration": 234,
        "start_time": "2022-08-28T19:27:46.529Z"
      },
      {
        "duration": 8,
        "start_time": "2022-08-28T19:27:46.764Z"
      },
      {
        "duration": 38,
        "start_time": "2022-08-28T19:27:46.774Z"
      },
      {
        "duration": 10,
        "start_time": "2022-08-28T19:27:46.815Z"
      },
      {
        "duration": 8,
        "start_time": "2022-08-28T19:27:46.827Z"
      },
      {
        "duration": 40,
        "start_time": "2022-08-28T19:27:46.837Z"
      },
      {
        "duration": 6,
        "start_time": "2022-08-28T19:27:46.879Z"
      },
      {
        "duration": 32,
        "start_time": "2022-08-28T19:27:46.887Z"
      },
      {
        "duration": 16,
        "start_time": "2022-08-28T19:27:46.921Z"
      },
      {
        "duration": 9,
        "start_time": "2022-08-28T19:27:46.939Z"
      },
      {
        "duration": 8,
        "start_time": "2022-08-28T19:27:46.950Z"
      },
      {
        "duration": 14,
        "start_time": "2022-08-28T19:27:46.960Z"
      },
      {
        "duration": 29,
        "start_time": "2022-08-28T19:27:46.977Z"
      },
      {
        "duration": 10,
        "start_time": "2022-08-28T19:27:47.008Z"
      },
      {
        "duration": 4,
        "start_time": "2022-08-28T19:27:47.020Z"
      },
      {
        "duration": 15,
        "start_time": "2022-08-28T19:27:47.026Z"
      },
      {
        "duration": 5,
        "start_time": "2022-08-28T19:27:47.044Z"
      },
      {
        "duration": 59,
        "start_time": "2022-08-28T19:27:47.051Z"
      },
      {
        "duration": 25,
        "start_time": "2022-08-28T19:27:47.112Z"
      },
      {
        "duration": 32,
        "start_time": "2022-08-28T19:27:47.139Z"
      },
      {
        "duration": 7,
        "start_time": "2022-08-28T19:27:48.290Z"
      },
      {
        "duration": 896,
        "start_time": "2022-08-28T19:27:49.741Z"
      },
      {
        "duration": 7,
        "start_time": "2022-08-28T19:27:51.058Z"
      },
      {
        "duration": 21,
        "start_time": "2022-08-28T19:27:54.571Z"
      },
      {
        "duration": 23,
        "start_time": "2022-08-28T19:27:55.217Z"
      },
      {
        "duration": 20,
        "start_time": "2022-08-28T19:27:55.707Z"
      },
      {
        "duration": 23,
        "start_time": "2022-08-28T19:28:01.313Z"
      },
      {
        "duration": 6,
        "start_time": "2022-08-28T19:31:20.561Z"
      },
      {
        "duration": 31,
        "start_time": "2022-08-28T19:32:28.495Z"
      },
      {
        "duration": 21,
        "start_time": "2022-08-28T19:32:44.287Z"
      },
      {
        "duration": 44,
        "start_time": "2022-08-28T19:32:55.463Z"
      },
      {
        "duration": 17,
        "start_time": "2022-08-28T19:33:15.754Z"
      },
      {
        "duration": 21,
        "start_time": "2022-08-28T19:34:03.723Z"
      },
      {
        "duration": 10,
        "start_time": "2022-08-28T19:34:11.450Z"
      },
      {
        "duration": 23,
        "start_time": "2022-08-28T19:35:00.232Z"
      },
      {
        "duration": 11,
        "start_time": "2022-08-28T19:35:27.859Z"
      },
      {
        "duration": 12,
        "start_time": "2022-08-28T19:35:48.630Z"
      },
      {
        "duration": 12,
        "start_time": "2022-08-28T19:36:18.967Z"
      },
      {
        "duration": 2876,
        "start_time": "2022-08-28T19:36:30.457Z"
      },
      {
        "duration": 8,
        "start_time": "2022-08-28T19:36:55.677Z"
      },
      {
        "duration": 6,
        "start_time": "2022-08-28T19:37:13.761Z"
      },
      {
        "duration": 15,
        "start_time": "2022-08-28T19:37:31.367Z"
      },
      {
        "duration": 8,
        "start_time": "2022-08-28T19:37:42.541Z"
      },
      {
        "duration": 2068,
        "start_time": "2022-08-28T19:37:59.075Z"
      },
      {
        "duration": 5,
        "start_time": "2022-08-28T19:39:07.313Z"
      },
      {
        "duration": 5,
        "start_time": "2022-08-28T19:40:33.850Z"
      },
      {
        "duration": 28,
        "start_time": "2022-08-28T19:40:35.953Z"
      },
      {
        "duration": 11,
        "start_time": "2022-08-28T19:40:40.322Z"
      },
      {
        "duration": 2260,
        "start_time": "2022-08-28T19:41:38.988Z"
      },
      {
        "duration": 2217,
        "start_time": "2022-08-28T19:42:45.752Z"
      },
      {
        "duration": 2404,
        "start_time": "2022-08-28T19:43:09.991Z"
      },
      {
        "duration": 2132,
        "start_time": "2022-08-28T19:43:27.711Z"
      },
      {
        "duration": 11,
        "start_time": "2022-08-28T19:43:39.451Z"
      },
      {
        "duration": 14,
        "start_time": "2022-08-28T19:44:58.011Z"
      },
      {
        "duration": 2749,
        "start_time": "2022-08-28T19:45:07.971Z"
      },
      {
        "duration": 2141,
        "start_time": "2022-08-28T19:45:56.232Z"
      },
      {
        "duration": 10,
        "start_time": "2022-08-28T20:02:42.366Z"
      },
      {
        "duration": 5,
        "start_time": "2022-08-28T20:05:47.556Z"
      },
      {
        "duration": 23,
        "start_time": "2022-08-28T20:05:49.001Z"
      },
      {
        "duration": 6,
        "start_time": "2022-08-28T20:06:01.774Z"
      },
      {
        "duration": 11,
        "start_time": "2022-08-28T20:06:05.721Z"
      },
      {
        "duration": 4,
        "start_time": "2022-08-28T20:06:53.099Z"
      },
      {
        "duration": 17,
        "start_time": "2022-08-28T20:06:54.247Z"
      },
      {
        "duration": 5,
        "start_time": "2022-08-28T20:06:55.247Z"
      },
      {
        "duration": 1597,
        "start_time": "2022-08-28T20:06:56.286Z"
      },
      {
        "duration": 146,
        "start_time": "2022-08-28T20:09:18.539Z"
      },
      {
        "duration": 4,
        "start_time": "2022-08-28T20:09:25.792Z"
      },
      {
        "duration": 19,
        "start_time": "2022-08-28T20:09:27.970Z"
      },
      {
        "duration": 4,
        "start_time": "2022-08-28T20:09:29.175Z"
      },
      {
        "duration": 10,
        "start_time": "2022-08-28T20:09:31.453Z"
      },
      {
        "duration": 704,
        "start_time": "2022-08-28T22:28:09.648Z"
      },
      {
        "duration": 5,
        "start_time": "2022-08-28T22:28:10.354Z"
      },
      {
        "duration": 22,
        "start_time": "2022-08-28T22:28:10.360Z"
      },
      {
        "duration": 13,
        "start_time": "2022-08-28T22:28:10.383Z"
      },
      {
        "duration": 4,
        "start_time": "2022-08-28T22:28:10.398Z"
      },
      {
        "duration": 20,
        "start_time": "2022-08-28T22:28:10.403Z"
      },
      {
        "duration": 13,
        "start_time": "2022-08-28T22:28:10.424Z"
      },
      {
        "duration": 70,
        "start_time": "2022-08-28T22:28:10.438Z"
      },
      {
        "duration": 4,
        "start_time": "2022-08-28T22:28:10.510Z"
      },
      {
        "duration": 12,
        "start_time": "2022-08-28T22:28:10.516Z"
      },
      {
        "duration": 10,
        "start_time": "2022-08-28T22:28:10.529Z"
      },
      {
        "duration": 10,
        "start_time": "2022-08-28T22:28:10.540Z"
      },
      {
        "duration": 8,
        "start_time": "2022-08-28T22:28:10.551Z"
      },
      {
        "duration": 26,
        "start_time": "2022-08-28T22:28:10.562Z"
      },
      {
        "duration": 6,
        "start_time": "2022-08-28T22:28:10.590Z"
      },
      {
        "duration": 6,
        "start_time": "2022-08-28T22:28:10.598Z"
      },
      {
        "duration": 7,
        "start_time": "2022-08-28T22:28:10.605Z"
      },
      {
        "duration": 10,
        "start_time": "2022-08-28T22:28:10.613Z"
      },
      {
        "duration": 13,
        "start_time": "2022-08-28T22:28:10.624Z"
      },
      {
        "duration": 11,
        "start_time": "2022-08-28T22:28:10.639Z"
      },
      {
        "duration": 35,
        "start_time": "2022-08-28T22:28:10.651Z"
      },
      {
        "duration": 10,
        "start_time": "2022-08-28T22:28:10.688Z"
      },
      {
        "duration": 10,
        "start_time": "2022-08-28T22:28:10.700Z"
      },
      {
        "duration": 22,
        "start_time": "2022-08-28T22:28:10.712Z"
      },
      {
        "duration": 6,
        "start_time": "2022-08-28T22:28:10.735Z"
      },
      {
        "duration": 13,
        "start_time": "2022-08-28T22:28:10.743Z"
      },
      {
        "duration": 29,
        "start_time": "2022-08-28T22:28:10.757Z"
      },
      {
        "duration": 7,
        "start_time": "2022-08-28T22:28:10.788Z"
      },
      {
        "duration": 8,
        "start_time": "2022-08-28T22:28:10.797Z"
      },
      {
        "duration": 8,
        "start_time": "2022-08-28T22:28:10.807Z"
      },
      {
        "duration": 8,
        "start_time": "2022-08-28T22:28:10.816Z"
      },
      {
        "duration": 13,
        "start_time": "2022-08-28T22:28:10.825Z"
      },
      {
        "duration": 10,
        "start_time": "2022-08-28T22:28:10.840Z"
      },
      {
        "duration": 8,
        "start_time": "2022-08-28T22:28:10.851Z"
      },
      {
        "duration": 34,
        "start_time": "2022-08-28T22:28:10.860Z"
      },
      {
        "duration": 11,
        "start_time": "2022-08-28T22:28:10.896Z"
      },
      {
        "duration": 10,
        "start_time": "2022-08-28T22:28:10.908Z"
      },
      {
        "duration": 5,
        "start_time": "2022-08-28T22:28:10.920Z"
      },
      {
        "duration": 5,
        "start_time": "2022-08-28T22:28:10.927Z"
      },
      {
        "duration": 4,
        "start_time": "2022-08-28T22:28:10.933Z"
      },
      {
        "duration": 6,
        "start_time": "2022-08-28T22:28:10.943Z"
      },
      {
        "duration": 14,
        "start_time": "2022-08-28T22:28:10.985Z"
      },
      {
        "duration": 16,
        "start_time": "2022-08-28T22:28:11.001Z"
      },
      {
        "duration": 4,
        "start_time": "2022-08-28T22:28:11.018Z"
      },
      {
        "duration": 16,
        "start_time": "2022-08-28T22:28:11.024Z"
      },
      {
        "duration": 6,
        "start_time": "2022-08-28T22:28:11.041Z"
      },
      {
        "duration": 36,
        "start_time": "2022-08-28T22:28:11.049Z"
      },
      {
        "duration": 5,
        "start_time": "2022-08-28T22:28:11.086Z"
      },
      {
        "duration": 6,
        "start_time": "2022-08-28T22:28:11.092Z"
      },
      {
        "duration": 17,
        "start_time": "2022-08-28T22:28:11.100Z"
      },
      {
        "duration": 4,
        "start_time": "2022-08-28T22:28:11.119Z"
      },
      {
        "duration": 5,
        "start_time": "2022-08-28T22:28:11.124Z"
      },
      {
        "duration": 9,
        "start_time": "2022-08-28T22:28:11.130Z"
      },
      {
        "duration": 4,
        "start_time": "2022-08-28T22:28:11.184Z"
      },
      {
        "duration": 10,
        "start_time": "2022-08-28T22:28:11.190Z"
      },
      {
        "duration": 2316,
        "start_time": "2022-08-28T22:28:11.201Z"
      },
      {
        "duration": 11,
        "start_time": "2022-08-28T22:28:13.519Z"
      },
      {
        "duration": 6,
        "start_time": "2022-08-28T22:28:13.532Z"
      },
      {
        "duration": 12,
        "start_time": "2022-08-28T22:28:13.539Z"
      },
      {
        "duration": 43,
        "start_time": "2022-08-28T22:28:13.552Z"
      },
      {
        "duration": 3,
        "start_time": "2022-08-28T22:28:13.596Z"
      },
      {
        "duration": 203,
        "start_time": "2022-08-28T22:28:13.601Z"
      },
      {
        "duration": 7,
        "start_time": "2022-08-28T22:28:13.805Z"
      },
      {
        "duration": 8,
        "start_time": "2022-08-28T22:28:13.814Z"
      },
      {
        "duration": 7,
        "start_time": "2022-08-28T22:28:13.823Z"
      },
      {
        "duration": 7,
        "start_time": "2022-08-28T22:28:13.832Z"
      },
      {
        "duration": 45,
        "start_time": "2022-08-28T22:28:13.840Z"
      },
      {
        "duration": 4,
        "start_time": "2022-08-28T22:28:13.887Z"
      },
      {
        "duration": 9,
        "start_time": "2022-08-28T22:28:13.893Z"
      },
      {
        "duration": 9,
        "start_time": "2022-08-28T22:28:13.904Z"
      },
      {
        "duration": 10,
        "start_time": "2022-08-28T22:28:13.914Z"
      },
      {
        "duration": 4,
        "start_time": "2022-08-28T22:28:13.926Z"
      },
      {
        "duration": 11,
        "start_time": "2022-08-28T22:28:13.931Z"
      },
      {
        "duration": 41,
        "start_time": "2022-08-28T22:28:13.944Z"
      },
      {
        "duration": 6,
        "start_time": "2022-08-28T22:28:13.987Z"
      },
      {
        "duration": 5,
        "start_time": "2022-08-28T22:28:13.995Z"
      },
      {
        "duration": 17,
        "start_time": "2022-08-28T22:28:14.003Z"
      },
      {
        "duration": 8,
        "start_time": "2022-08-28T22:28:14.022Z"
      },
      {
        "duration": 25,
        "start_time": "2022-08-28T22:28:14.031Z"
      },
      {
        "duration": 41,
        "start_time": "2022-08-28T22:28:14.058Z"
      },
      {
        "duration": 24,
        "start_time": "2022-08-28T22:28:14.101Z"
      },
      {
        "duration": 6,
        "start_time": "2022-08-28T22:28:14.127Z"
      },
      {
        "duration": 797,
        "start_time": "2022-08-28T22:28:14.135Z"
      },
      {
        "duration": 6,
        "start_time": "2022-08-28T22:28:14.933Z"
      },
      {
        "duration": 17,
        "start_time": "2022-08-28T22:28:14.940Z"
      },
      {
        "duration": 38,
        "start_time": "2022-08-28T22:28:14.959Z"
      },
      {
        "duration": 15,
        "start_time": "2022-08-28T22:28:14.999Z"
      },
      {
        "duration": 13,
        "start_time": "2022-08-28T22:28:15.016Z"
      },
      {
        "duration": 75,
        "start_time": "2022-08-28T22:28:15.030Z"
      },
      {
        "duration": 32,
        "start_time": "2022-08-28T22:28:15.107Z"
      },
      {
        "duration": 26,
        "start_time": "2022-08-28T22:28:15.141Z"
      },
      {
        "duration": 24,
        "start_time": "2022-08-28T22:28:15.185Z"
      },
      {
        "duration": 9,
        "start_time": "2022-08-28T22:28:15.210Z"
      },
      {
        "duration": 8,
        "start_time": "2022-08-28T22:28:15.221Z"
      },
      {
        "duration": 12,
        "start_time": "2022-08-28T22:28:15.231Z"
      },
      {
        "duration": 33,
        "start_time": "2022-08-28T22:28:15.244Z"
      },
      {
        "duration": 10,
        "start_time": "2022-08-28T22:28:15.284Z"
      },
      {
        "duration": 59,
        "start_time": "2022-08-28T22:28:15.296Z"
      },
      {
        "duration": 0,
        "start_time": "2022-08-28T22:28:15.357Z"
      },
      {
        "duration": 0,
        "start_time": "2022-08-28T22:28:15.358Z"
      },
      {
        "duration": 0,
        "start_time": "2022-08-28T22:28:15.360Z"
      },
      {
        "duration": 0,
        "start_time": "2022-08-28T22:28:15.361Z"
      },
      {
        "duration": 0,
        "start_time": "2022-08-28T22:28:15.362Z"
      },
      {
        "duration": 1,
        "start_time": "2022-08-28T22:28:15.363Z"
      },
      {
        "duration": 0,
        "start_time": "2022-08-28T22:28:15.365Z"
      },
      {
        "duration": 0,
        "start_time": "2022-08-28T22:28:15.366Z"
      },
      {
        "duration": 0,
        "start_time": "2022-08-28T22:28:15.386Z"
      },
      {
        "duration": 0,
        "start_time": "2022-08-28T22:28:15.387Z"
      },
      {
        "duration": 0,
        "start_time": "2022-08-28T22:28:15.388Z"
      },
      {
        "duration": 0,
        "start_time": "2022-08-28T22:28:15.390Z"
      },
      {
        "duration": 0,
        "start_time": "2022-08-28T22:28:15.391Z"
      },
      {
        "duration": 0,
        "start_time": "2022-08-28T22:28:15.393Z"
      },
      {
        "duration": 0,
        "start_time": "2022-08-28T22:28:15.395Z"
      },
      {
        "duration": 0,
        "start_time": "2022-08-28T22:28:15.396Z"
      },
      {
        "duration": 0,
        "start_time": "2022-08-28T22:28:15.398Z"
      },
      {
        "duration": 0,
        "start_time": "2022-08-28T22:28:15.399Z"
      },
      {
        "duration": 0,
        "start_time": "2022-08-28T22:28:15.400Z"
      },
      {
        "duration": 0,
        "start_time": "2022-08-28T22:28:15.402Z"
      },
      {
        "duration": 0,
        "start_time": "2022-08-28T22:28:15.403Z"
      },
      {
        "duration": 0,
        "start_time": "2022-08-28T22:28:15.405Z"
      },
      {
        "duration": 0,
        "start_time": "2022-08-28T22:28:15.406Z"
      },
      {
        "duration": 0,
        "start_time": "2022-08-28T22:28:15.407Z"
      },
      {
        "duration": 0,
        "start_time": "2022-08-28T22:28:15.409Z"
      },
      {
        "duration": 8,
        "start_time": "2022-08-28T22:30:37.980Z"
      },
      {
        "duration": 56,
        "start_time": "2022-08-28T22:30:49.994Z"
      },
      {
        "duration": 5,
        "start_time": "2022-08-28T22:30:50.052Z"
      },
      {
        "duration": 33,
        "start_time": "2022-08-28T22:30:50.059Z"
      },
      {
        "duration": 25,
        "start_time": "2022-08-28T22:30:50.094Z"
      },
      {
        "duration": 5,
        "start_time": "2022-08-28T22:30:50.122Z"
      },
      {
        "duration": 65,
        "start_time": "2022-08-28T22:30:50.129Z"
      },
      {
        "duration": 18,
        "start_time": "2022-08-28T22:30:50.197Z"
      },
      {
        "duration": 73,
        "start_time": "2022-08-28T22:30:50.216Z"
      },
      {
        "duration": 6,
        "start_time": "2022-08-28T22:30:50.291Z"
      },
      {
        "duration": 8,
        "start_time": "2022-08-28T22:30:50.299Z"
      },
      {
        "duration": 8,
        "start_time": "2022-08-28T22:30:50.309Z"
      },
      {
        "duration": 7,
        "start_time": "2022-08-28T22:30:50.319Z"
      },
      {
        "duration": 9,
        "start_time": "2022-08-28T22:30:50.329Z"
      },
      {
        "duration": 7,
        "start_time": "2022-08-28T22:30:50.341Z"
      },
      {
        "duration": 13,
        "start_time": "2022-08-28T22:30:50.387Z"
      },
      {
        "duration": 7,
        "start_time": "2022-08-28T22:30:50.403Z"
      },
      {
        "duration": 7,
        "start_time": "2022-08-28T22:30:50.412Z"
      },
      {
        "duration": 7,
        "start_time": "2022-08-28T22:30:50.421Z"
      },
      {
        "duration": 8,
        "start_time": "2022-08-28T22:30:50.430Z"
      },
      {
        "duration": 47,
        "start_time": "2022-08-28T22:30:50.439Z"
      },
      {
        "duration": 10,
        "start_time": "2022-08-28T22:30:50.488Z"
      },
      {
        "duration": 15,
        "start_time": "2022-08-28T22:30:50.499Z"
      },
      {
        "duration": 18,
        "start_time": "2022-08-28T22:30:50.516Z"
      },
      {
        "duration": 59,
        "start_time": "2022-08-28T22:30:50.536Z"
      },
      {
        "duration": 9,
        "start_time": "2022-08-28T22:30:50.597Z"
      },
      {
        "duration": 21,
        "start_time": "2022-08-28T22:30:50.609Z"
      },
      {
        "duration": 13,
        "start_time": "2022-08-28T22:30:50.633Z"
      },
      {
        "duration": 18,
        "start_time": "2022-08-28T22:30:50.649Z"
      },
      {
        "duration": 11,
        "start_time": "2022-08-28T22:30:50.687Z"
      },
      {
        "duration": 12,
        "start_time": "2022-08-28T22:30:50.700Z"
      },
      {
        "duration": 7,
        "start_time": "2022-08-28T22:30:50.714Z"
      },
      {
        "duration": 16,
        "start_time": "2022-08-28T22:30:50.722Z"
      },
      {
        "duration": 15,
        "start_time": "2022-08-28T22:30:50.741Z"
      },
      {
        "duration": 9,
        "start_time": "2022-08-28T22:30:50.786Z"
      },
      {
        "duration": 11,
        "start_time": "2022-08-28T22:30:50.797Z"
      },
      {
        "duration": 22,
        "start_time": "2022-08-28T22:30:50.810Z"
      },
      {
        "duration": 18,
        "start_time": "2022-08-28T22:30:50.834Z"
      },
      {
        "duration": 33,
        "start_time": "2022-08-28T22:30:50.856Z"
      },
      {
        "duration": 5,
        "start_time": "2022-08-28T22:30:50.891Z"
      },
      {
        "duration": 5,
        "start_time": "2022-08-28T22:30:50.897Z"
      },
      {
        "duration": 5,
        "start_time": "2022-08-28T22:30:50.907Z"
      },
      {
        "duration": 23,
        "start_time": "2022-08-28T22:30:50.913Z"
      },
      {
        "duration": 13,
        "start_time": "2022-08-28T22:30:50.937Z"
      },
      {
        "duration": 6,
        "start_time": "2022-08-28T22:30:50.985Z"
      },
      {
        "duration": 12,
        "start_time": "2022-08-28T22:30:50.993Z"
      },
      {
        "duration": 5,
        "start_time": "2022-08-28T22:30:51.007Z"
      },
      {
        "duration": 13,
        "start_time": "2022-08-28T22:30:51.014Z"
      },
      {
        "duration": 5,
        "start_time": "2022-08-28T22:30:51.028Z"
      },
      {
        "duration": 7,
        "start_time": "2022-08-28T22:30:51.035Z"
      },
      {
        "duration": 52,
        "start_time": "2022-08-28T22:30:51.044Z"
      },
      {
        "duration": 4,
        "start_time": "2022-08-28T22:30:51.097Z"
      },
      {
        "duration": 8,
        "start_time": "2022-08-28T22:30:51.103Z"
      },
      {
        "duration": 11,
        "start_time": "2022-08-28T22:30:51.113Z"
      },
      {
        "duration": 5,
        "start_time": "2022-08-28T22:30:51.125Z"
      },
      {
        "duration": 7,
        "start_time": "2022-08-28T22:30:51.131Z"
      },
      {
        "duration": 2386,
        "start_time": "2022-08-28T22:30:51.140Z"
      },
      {
        "duration": 11,
        "start_time": "2022-08-28T22:30:53.527Z"
      },
      {
        "duration": 6,
        "start_time": "2022-08-28T22:30:53.540Z"
      },
      {
        "duration": 13,
        "start_time": "2022-08-28T22:30:53.548Z"
      },
      {
        "duration": 35,
        "start_time": "2022-08-28T22:30:53.562Z"
      },
      {
        "duration": 3,
        "start_time": "2022-08-28T22:30:53.599Z"
      },
      {
        "duration": 198,
        "start_time": "2022-08-28T22:30:53.603Z"
      },
      {
        "duration": 6,
        "start_time": "2022-08-28T22:30:53.803Z"
      },
      {
        "duration": 8,
        "start_time": "2022-08-28T22:30:53.810Z"
      },
      {
        "duration": 5,
        "start_time": "2022-08-28T22:30:53.820Z"
      },
      {
        "duration": 5,
        "start_time": "2022-08-28T22:30:53.827Z"
      },
      {
        "duration": 15,
        "start_time": "2022-08-28T22:30:53.833Z"
      },
      {
        "duration": 3,
        "start_time": "2022-08-28T22:30:53.849Z"
      },
      {
        "duration": 5,
        "start_time": "2022-08-28T22:30:53.885Z"
      },
      {
        "duration": 10,
        "start_time": "2022-08-28T22:30:53.892Z"
      },
      {
        "duration": 7,
        "start_time": "2022-08-28T22:30:53.904Z"
      },
      {
        "duration": 5,
        "start_time": "2022-08-28T22:30:53.912Z"
      },
      {
        "duration": 8,
        "start_time": "2022-08-28T22:30:53.919Z"
      },
      {
        "duration": 17,
        "start_time": "2022-08-28T22:30:53.928Z"
      },
      {
        "duration": 5,
        "start_time": "2022-08-28T22:30:53.985Z"
      },
      {
        "duration": 4,
        "start_time": "2022-08-28T22:30:53.992Z"
      },
      {
        "duration": 17,
        "start_time": "2022-08-28T22:30:53.997Z"
      },
      {
        "duration": 6,
        "start_time": "2022-08-28T22:30:54.016Z"
      },
      {
        "duration": 20,
        "start_time": "2022-08-28T22:30:54.023Z"
      },
      {
        "duration": 43,
        "start_time": "2022-08-28T22:30:54.044Z"
      },
      {
        "duration": 24,
        "start_time": "2022-08-28T22:30:54.089Z"
      },
      {
        "duration": 4,
        "start_time": "2022-08-28T22:30:54.115Z"
      },
      {
        "duration": 839,
        "start_time": "2022-08-28T22:30:54.121Z"
      },
      {
        "duration": 8,
        "start_time": "2022-08-28T22:30:54.961Z"
      },
      {
        "duration": 30,
        "start_time": "2022-08-28T22:30:54.970Z"
      },
      {
        "duration": 24,
        "start_time": "2022-08-28T22:30:55.002Z"
      },
      {
        "duration": 15,
        "start_time": "2022-08-28T22:30:55.027Z"
      },
      {
        "duration": 13,
        "start_time": "2022-08-28T22:30:55.043Z"
      },
      {
        "duration": 41,
        "start_time": "2022-08-28T22:30:55.057Z"
      },
      {
        "duration": 20,
        "start_time": "2022-08-28T22:30:55.100Z"
      },
      {
        "duration": 23,
        "start_time": "2022-08-28T22:30:55.122Z"
      },
      {
        "duration": 53,
        "start_time": "2022-08-28T22:30:55.146Z"
      },
      {
        "duration": 9,
        "start_time": "2022-08-28T22:30:55.201Z"
      },
      {
        "duration": 5,
        "start_time": "2022-08-28T22:30:59.679Z"
      },
      {
        "duration": 11,
        "start_time": "2022-08-28T22:31:05.167Z"
      },
      {
        "duration": 10,
        "start_time": "2022-08-28T22:31:31.812Z"
      },
      {
        "duration": 15,
        "start_time": "2022-08-28T22:31:37.259Z"
      },
      {
        "duration": 7,
        "start_time": "2022-08-28T22:32:26.991Z"
      },
      {
        "duration": 7,
        "start_time": "2022-08-28T22:32:39.328Z"
      },
      {
        "duration": 7,
        "start_time": "2022-08-28T22:32:54.194Z"
      },
      {
        "duration": 89,
        "start_time": "2022-08-28T22:33:08.905Z"
      },
      {
        "duration": 7,
        "start_time": "2022-08-28T22:33:59.355Z"
      },
      {
        "duration": 8,
        "start_time": "2022-08-28T22:34:12.897Z"
      },
      {
        "duration": 8,
        "start_time": "2022-08-28T22:34:26.881Z"
      },
      {
        "duration": 61,
        "start_time": "2022-08-28T22:34:42.766Z"
      },
      {
        "duration": 4,
        "start_time": "2022-08-28T22:34:44.737Z"
      },
      {
        "duration": 12,
        "start_time": "2022-08-28T22:34:45.794Z"
      },
      {
        "duration": 16,
        "start_time": "2022-08-28T22:34:47.262Z"
      },
      {
        "duration": 5,
        "start_time": "2022-08-28T22:34:48.518Z"
      },
      {
        "duration": 15,
        "start_time": "2022-08-28T22:34:49.199Z"
      },
      {
        "duration": 20,
        "start_time": "2022-08-28T22:34:50.606Z"
      },
      {
        "duration": 77,
        "start_time": "2022-08-28T22:34:52.974Z"
      },
      {
        "duration": 5,
        "start_time": "2022-08-28T22:34:54.236Z"
      },
      {
        "duration": 7,
        "start_time": "2022-08-28T22:34:55.532Z"
      },
      {
        "duration": 5,
        "start_time": "2022-08-28T22:34:56.657Z"
      },
      {
        "duration": 6,
        "start_time": "2022-08-28T22:34:57.840Z"
      },
      {
        "duration": 5,
        "start_time": "2022-08-28T22:34:58.893Z"
      },
      {
        "duration": 5,
        "start_time": "2022-08-28T22:34:59.914Z"
      },
      {
        "duration": 5,
        "start_time": "2022-08-28T22:35:00.812Z"
      },
      {
        "duration": 4,
        "start_time": "2022-08-28T22:35:01.525Z"
      },
      {
        "duration": 6,
        "start_time": "2022-08-28T22:35:02.198Z"
      },
      {
        "duration": 7,
        "start_time": "2022-08-28T22:35:03.158Z"
      },
      {
        "duration": 7,
        "start_time": "2022-08-28T22:35:04.266Z"
      },
      {
        "duration": 7,
        "start_time": "2022-08-28T22:35:05.082Z"
      },
      {
        "duration": 7,
        "start_time": "2022-08-28T22:35:06.015Z"
      },
      {
        "duration": 7,
        "start_time": "2022-08-28T22:35:06.886Z"
      },
      {
        "duration": 7,
        "start_time": "2022-08-28T22:35:07.661Z"
      },
      {
        "duration": 22,
        "start_time": "2022-08-28T22:35:08.634Z"
      },
      {
        "duration": 7,
        "start_time": "2022-08-28T22:35:09.278Z"
      },
      {
        "duration": 8,
        "start_time": "2022-08-28T22:35:09.604Z"
      },
      {
        "duration": 7,
        "start_time": "2022-08-28T22:35:09.903Z"
      },
      {
        "duration": 7,
        "start_time": "2022-08-28T22:35:10.228Z"
      },
      {
        "duration": 7,
        "start_time": "2022-08-28T22:35:10.539Z"
      },
      {
        "duration": 7,
        "start_time": "2022-08-28T22:35:10.826Z"
      },
      {
        "duration": 2,
        "start_time": "2022-08-28T22:35:12.658Z"
      },
      {
        "duration": 6,
        "start_time": "2022-08-28T22:35:13.693Z"
      },
      {
        "duration": 9,
        "start_time": "2022-08-28T22:35:14.199Z"
      },
      {
        "duration": 6,
        "start_time": "2022-08-28T22:35:14.811Z"
      },
      {
        "duration": 11,
        "start_time": "2022-08-28T22:35:15.553Z"
      },
      {
        "duration": 9,
        "start_time": "2022-08-28T22:35:16.227Z"
      },
      {
        "duration": 11,
        "start_time": "2022-08-28T22:35:17.293Z"
      },
      {
        "duration": 5,
        "start_time": "2022-08-28T22:35:19.010Z"
      },
      {
        "duration": 5,
        "start_time": "2022-08-28T22:35:19.590Z"
      },
      {
        "duration": 4,
        "start_time": "2022-08-28T22:35:20.434Z"
      },
      {
        "duration": 6,
        "start_time": "2022-08-28T22:35:21.428Z"
      },
      {
        "duration": 14,
        "start_time": "2022-08-28T22:35:22.052Z"
      },
      {
        "duration": 20,
        "start_time": "2022-08-28T22:35:22.781Z"
      },
      {
        "duration": 7,
        "start_time": "2022-08-28T22:35:24.553Z"
      },
      {
        "duration": 8,
        "start_time": "2022-08-28T22:35:25.519Z"
      },
      {
        "duration": 5,
        "start_time": "2022-08-28T22:35:25.926Z"
      },
      {
        "duration": 11,
        "start_time": "2022-08-28T22:35:27.406Z"
      },
      {
        "duration": 5,
        "start_time": "2022-08-28T22:35:28.765Z"
      },
      {
        "duration": 6,
        "start_time": "2022-08-28T22:35:30.750Z"
      },
      {
        "duration": 20,
        "start_time": "2022-08-28T22:35:32.579Z"
      },
      {
        "duration": 6,
        "start_time": "2022-08-28T22:35:33.822Z"
      },
      {
        "duration": 5,
        "start_time": "2022-08-28T22:35:34.678Z"
      },
      {
        "duration": 12,
        "start_time": "2022-08-28T22:35:39.026Z"
      },
      {
        "duration": 4,
        "start_time": "2022-08-28T22:35:39.922Z"
      },
      {
        "duration": 7,
        "start_time": "2022-08-28T22:35:41.698Z"
      },
      {
        "duration": 2566,
        "start_time": "2022-08-28T22:35:43.117Z"
      },
      {
        "duration": 14,
        "start_time": "2022-08-28T22:35:45.685Z"
      },
      {
        "duration": 7,
        "start_time": "2022-08-28T22:35:53.854Z"
      },
      {
        "duration": 13,
        "start_time": "2022-08-28T22:35:56.295Z"
      },
      {
        "duration": 17,
        "start_time": "2022-08-28T22:35:59.126Z"
      },
      {
        "duration": 4,
        "start_time": "2022-08-28T22:36:00.565Z"
      },
      {
        "duration": 183,
        "start_time": "2022-08-28T22:36:01.606Z"
      },
      {
        "duration": 6,
        "start_time": "2022-08-28T22:36:03.210Z"
      },
      {
        "duration": 8,
        "start_time": "2022-08-28T22:36:11.334Z"
      },
      {
        "duration": 7,
        "start_time": "2022-08-28T22:36:12.562Z"
      },
      {
        "duration": 6,
        "start_time": "2022-08-28T22:36:13.038Z"
      },
      {
        "duration": 25,
        "start_time": "2022-08-28T22:36:14.360Z"
      },
      {
        "duration": 4,
        "start_time": "2022-08-28T22:36:18.709Z"
      },
      {
        "duration": 5,
        "start_time": "2022-08-28T22:36:19.699Z"
      },
      {
        "duration": 7,
        "start_time": "2022-08-28T22:36:22.229Z"
      },
      {
        "duration": 7,
        "start_time": "2022-08-28T22:36:24.694Z"
      },
      {
        "duration": 5,
        "start_time": "2022-08-28T22:36:25.346Z"
      },
      {
        "duration": 7,
        "start_time": "2022-08-28T22:36:27.764Z"
      },
      {
        "duration": 16,
        "start_time": "2022-08-28T22:36:30.236Z"
      },
      {
        "duration": 6,
        "start_time": "2022-08-28T22:36:31.919Z"
      },
      {
        "duration": 4,
        "start_time": "2022-08-28T22:36:34.143Z"
      },
      {
        "duration": 9,
        "start_time": "2022-08-28T22:36:36.229Z"
      },
      {
        "duration": 6,
        "start_time": "2022-08-28T22:36:44.168Z"
      },
      {
        "duration": 27,
        "start_time": "2022-08-28T22:36:46.733Z"
      },
      {
        "duration": 16,
        "start_time": "2022-08-28T22:36:58.201Z"
      },
      {
        "duration": 22,
        "start_time": "2022-08-28T22:37:01.546Z"
      },
      {
        "duration": 3,
        "start_time": "2022-08-28T22:37:20.463Z"
      },
      {
        "duration": 768,
        "start_time": "2022-08-28T22:37:21.804Z"
      },
      {
        "duration": 7,
        "start_time": "2022-08-28T22:37:23.500Z"
      },
      {
        "duration": 17,
        "start_time": "2022-08-28T22:37:40.539Z"
      },
      {
        "duration": 16,
        "start_time": "2022-08-28T22:37:43.923Z"
      },
      {
        "duration": 17,
        "start_time": "2022-08-28T22:37:44.519Z"
      },
      {
        "duration": 13,
        "start_time": "2022-08-28T22:37:46.664Z"
      },
      {
        "duration": 18,
        "start_time": "2022-08-28T22:37:50.641Z"
      },
      {
        "duration": 21,
        "start_time": "2022-08-28T22:38:06.688Z"
      },
      {
        "duration": 25,
        "start_time": "2022-08-28T22:38:17.290Z"
      },
      {
        "duration": 27,
        "start_time": "2022-08-28T22:38:23.777Z"
      },
      {
        "duration": 11,
        "start_time": "2022-08-28T22:38:26.688Z"
      },
      {
        "duration": 5,
        "start_time": "2022-08-28T22:38:34.194Z"
      },
      {
        "duration": 7,
        "start_time": "2022-08-28T22:38:45.742Z"
      },
      {
        "duration": 37,
        "start_time": "2022-08-28T22:39:05.719Z"
      },
      {
        "duration": 22,
        "start_time": "2022-08-28T22:39:13.591Z"
      },
      {
        "duration": 73,
        "start_time": "2022-08-28T22:39:56.283Z"
      },
      {
        "duration": 1956,
        "start_time": "2022-08-28T22:40:02.034Z"
      },
      {
        "duration": 1667,
        "start_time": "2022-08-28T22:40:22.304Z"
      },
      {
        "duration": 1314,
        "start_time": "2022-08-28T22:41:01.188Z"
      },
      {
        "duration": 1602,
        "start_time": "2022-08-28T22:41:12.480Z"
      },
      {
        "duration": 1360,
        "start_time": "2022-08-28T22:41:43.230Z"
      },
      {
        "duration": 1335,
        "start_time": "2022-08-28T22:41:58.515Z"
      },
      {
        "duration": 2472,
        "start_time": "2022-08-28T22:42:20.400Z"
      },
      {
        "duration": 4,
        "start_time": "2022-08-28T22:42:32.222Z"
      },
      {
        "duration": 4,
        "start_time": "2022-08-28T22:42:40.695Z"
      },
      {
        "duration": 10,
        "start_time": "2022-08-28T22:43:17.220Z"
      },
      {
        "duration": 10,
        "start_time": "2022-08-28T22:44:01.299Z"
      },
      {
        "duration": 7,
        "start_time": "2022-08-28T22:44:19.838Z"
      },
      {
        "duration": 115,
        "start_time": "2022-08-28T22:44:30.185Z"
      },
      {
        "duration": 9,
        "start_time": "2022-08-28T22:44:37.517Z"
      },
      {
        "duration": 7,
        "start_time": "2022-08-28T22:44:50.370Z"
      },
      {
        "duration": 7,
        "start_time": "2022-08-28T22:48:23.916Z"
      },
      {
        "duration": 3,
        "start_time": "2022-08-28T22:49:43.175Z"
      },
      {
        "duration": 3,
        "start_time": "2022-08-28T22:49:57.280Z"
      },
      {
        "duration": 82,
        "start_time": "2022-08-28T22:50:54.603Z"
      },
      {
        "duration": 3,
        "start_time": "2022-08-28T22:51:14.763Z"
      },
      {
        "duration": 21,
        "start_time": "2022-08-28T22:51:58.327Z"
      },
      {
        "duration": 3,
        "start_time": "2022-08-28T22:52:51.460Z"
      },
      {
        "duration": 4,
        "start_time": "2022-08-28T22:53:34.664Z"
      },
      {
        "duration": 3,
        "start_time": "2022-08-28T22:53:47.489Z"
      },
      {
        "duration": 5,
        "start_time": "2022-08-28T22:54:37.672Z"
      },
      {
        "duration": 173,
        "start_time": "2022-08-28T22:54:51.820Z"
      },
      {
        "duration": 3,
        "start_time": "2022-08-28T22:55:23.516Z"
      },
      {
        "duration": 3,
        "start_time": "2022-08-28T22:57:06.526Z"
      },
      {
        "duration": 3,
        "start_time": "2022-08-28T22:57:27.558Z"
      },
      {
        "duration": 4,
        "start_time": "2022-08-28T22:57:48.402Z"
      },
      {
        "duration": 14,
        "start_time": "2022-08-28T22:58:29.026Z"
      },
      {
        "duration": 231,
        "start_time": "2022-08-28T22:58:55.571Z"
      },
      {
        "duration": 23,
        "start_time": "2022-08-28T22:59:41.393Z"
      },
      {
        "duration": 20,
        "start_time": "2022-08-28T22:59:42.789Z"
      },
      {
        "duration": 59,
        "start_time": "2022-08-28T22:59:55.499Z"
      },
      {
        "duration": 5,
        "start_time": "2022-08-28T22:59:55.560Z"
      },
      {
        "duration": 18,
        "start_time": "2022-08-28T22:59:55.567Z"
      },
      {
        "duration": 15,
        "start_time": "2022-08-28T22:59:55.587Z"
      },
      {
        "duration": 4,
        "start_time": "2022-08-28T22:59:55.604Z"
      },
      {
        "duration": 17,
        "start_time": "2022-08-28T22:59:55.609Z"
      },
      {
        "duration": 12,
        "start_time": "2022-08-28T22:59:55.627Z"
      },
      {
        "duration": 88,
        "start_time": "2022-08-28T22:59:55.641Z"
      },
      {
        "duration": 4,
        "start_time": "2022-08-28T22:59:55.731Z"
      },
      {
        "duration": 8,
        "start_time": "2022-08-28T22:59:55.737Z"
      },
      {
        "duration": 8,
        "start_time": "2022-08-28T22:59:55.747Z"
      },
      {
        "duration": 28,
        "start_time": "2022-08-28T22:59:55.757Z"
      },
      {
        "duration": 4,
        "start_time": "2022-08-28T22:59:55.787Z"
      },
      {
        "duration": 5,
        "start_time": "2022-08-28T22:59:55.794Z"
      },
      {
        "duration": 5,
        "start_time": "2022-08-28T22:59:55.800Z"
      },
      {
        "duration": 5,
        "start_time": "2022-08-28T22:59:55.807Z"
      },
      {
        "duration": 6,
        "start_time": "2022-08-28T22:59:55.813Z"
      },
      {
        "duration": 7,
        "start_time": "2022-08-28T22:59:55.820Z"
      },
      {
        "duration": 8,
        "start_time": "2022-08-28T22:59:55.828Z"
      },
      {
        "duration": 48,
        "start_time": "2022-08-28T22:59:55.837Z"
      },
      {
        "duration": 7,
        "start_time": "2022-08-28T22:59:55.887Z"
      },
      {
        "duration": 9,
        "start_time": "2022-08-28T22:59:55.896Z"
      },
      {
        "duration": 7,
        "start_time": "2022-08-28T22:59:55.907Z"
      },
      {
        "duration": 20,
        "start_time": "2022-08-28T22:59:55.916Z"
      },
      {
        "duration": 7,
        "start_time": "2022-08-28T22:59:55.938Z"
      },
      {
        "duration": 40,
        "start_time": "2022-08-28T22:59:55.946Z"
      },
      {
        "duration": 9,
        "start_time": "2022-08-28T22:59:55.987Z"
      },
      {
        "duration": 11,
        "start_time": "2022-08-28T22:59:55.998Z"
      },
      {
        "duration": 12,
        "start_time": "2022-08-28T22:59:56.011Z"
      },
      {
        "duration": 11,
        "start_time": "2022-08-28T22:59:56.024Z"
      },
      {
        "duration": 4,
        "start_time": "2022-08-28T22:59:56.036Z"
      },
      {
        "duration": 14,
        "start_time": "2022-08-28T22:59:56.042Z"
      },
      {
        "duration": 35,
        "start_time": "2022-08-28T22:59:56.058Z"
      },
      {
        "duration": 7,
        "start_time": "2022-08-28T22:59:56.096Z"
      },
      {
        "duration": 10,
        "start_time": "2022-08-28T22:59:56.105Z"
      },
      {
        "duration": 22,
        "start_time": "2022-08-28T22:59:56.117Z"
      },
      {
        "duration": 13,
        "start_time": "2022-08-28T22:59:56.143Z"
      },
      {
        "duration": 28,
        "start_time": "2022-08-28T22:59:56.158Z"
      },
      {
        "duration": 9,
        "start_time": "2022-08-28T22:59:56.188Z"
      },
      {
        "duration": 4,
        "start_time": "2022-08-28T22:59:56.199Z"
      },
      {
        "duration": 4,
        "start_time": "2022-08-28T22:59:56.209Z"
      },
      {
        "duration": 16,
        "start_time": "2022-08-28T22:59:56.215Z"
      },
      {
        "duration": 14,
        "start_time": "2022-08-28T22:59:56.233Z"
      },
      {
        "duration": 6,
        "start_time": "2022-08-28T22:59:56.286Z"
      },
      {
        "duration": 13,
        "start_time": "2022-08-28T22:59:56.293Z"
      },
      {
        "duration": 12,
        "start_time": "2022-08-28T22:59:56.307Z"
      },
      {
        "duration": 14,
        "start_time": "2022-08-28T22:59:56.320Z"
      },
      {
        "duration": 5,
        "start_time": "2022-08-28T22:59:56.336Z"
      },
      {
        "duration": 17,
        "start_time": "2022-08-28T22:59:56.343Z"
      },
      {
        "duration": 45,
        "start_time": "2022-08-28T22:59:56.361Z"
      },
      {
        "duration": 5,
        "start_time": "2022-08-28T22:59:56.408Z"
      },
      {
        "duration": 8,
        "start_time": "2022-08-28T22:59:56.415Z"
      },
      {
        "duration": 14,
        "start_time": "2022-08-28T22:59:56.425Z"
      },
      {
        "duration": 4,
        "start_time": "2022-08-28T22:59:56.440Z"
      },
      {
        "duration": 7,
        "start_time": "2022-08-28T22:59:56.445Z"
      },
      {
        "duration": 2441,
        "start_time": "2022-08-28T22:59:56.454Z"
      },
      {
        "duration": 12,
        "start_time": "2022-08-28T22:59:58.897Z"
      },
      {
        "duration": 6,
        "start_time": "2022-08-28T22:59:58.910Z"
      },
      {
        "duration": 12,
        "start_time": "2022-08-28T22:59:58.918Z"
      },
      {
        "duration": 18,
        "start_time": "2022-08-28T22:59:58.931Z"
      },
      {
        "duration": 35,
        "start_time": "2022-08-28T22:59:58.950Z"
      },
      {
        "duration": 188,
        "start_time": "2022-08-28T22:59:58.987Z"
      },
      {
        "duration": 8,
        "start_time": "2022-08-28T22:59:59.176Z"
      },
      {
        "duration": 6,
        "start_time": "2022-08-28T22:59:59.186Z"
      },
      {
        "duration": 5,
        "start_time": "2022-08-28T22:59:59.193Z"
      },
      {
        "duration": 6,
        "start_time": "2022-08-28T22:59:59.200Z"
      },
      {
        "duration": 13,
        "start_time": "2022-08-28T22:59:59.207Z"
      },
      {
        "duration": 3,
        "start_time": "2022-08-28T22:59:59.222Z"
      },
      {
        "duration": 5,
        "start_time": "2022-08-28T22:59:59.226Z"
      },
      {
        "duration": 53,
        "start_time": "2022-08-28T22:59:59.233Z"
      },
      {
        "duration": 6,
        "start_time": "2022-08-28T22:59:59.288Z"
      },
      {
        "duration": 6,
        "start_time": "2022-08-28T22:59:59.296Z"
      },
      {
        "duration": 8,
        "start_time": "2022-08-28T22:59:59.303Z"
      },
      {
        "duration": 13,
        "start_time": "2022-08-28T22:59:59.313Z"
      },
      {
        "duration": 5,
        "start_time": "2022-08-28T22:59:59.327Z"
      },
      {
        "duration": 3,
        "start_time": "2022-08-28T22:59:59.333Z"
      },
      {
        "duration": 49,
        "start_time": "2022-08-28T22:59:59.338Z"
      },
      {
        "duration": 4,
        "start_time": "2022-08-28T22:59:59.389Z"
      },
      {
        "duration": 19,
        "start_time": "2022-08-28T22:59:59.395Z"
      },
      {
        "duration": 16,
        "start_time": "2022-08-28T22:59:59.415Z"
      },
      {
        "duration": 19,
        "start_time": "2022-08-28T22:59:59.432Z"
      },
      {
        "duration": 3,
        "start_time": "2022-08-28T22:59:59.485Z"
      },
      {
        "duration": 776,
        "start_time": "2022-08-28T22:59:59.490Z"
      },
      {
        "duration": 6,
        "start_time": "2022-08-28T23:00:00.268Z"
      },
      {
        "duration": 29,
        "start_time": "2022-08-28T23:00:00.276Z"
      },
      {
        "duration": 20,
        "start_time": "2022-08-28T23:00:00.307Z"
      },
      {
        "duration": 19,
        "start_time": "2022-08-28T23:00:00.329Z"
      },
      {
        "duration": 46,
        "start_time": "2022-08-28T23:00:00.350Z"
      },
      {
        "duration": 24,
        "start_time": "2022-08-28T23:00:00.398Z"
      },
      {
        "duration": 25,
        "start_time": "2022-08-28T23:00:00.424Z"
      },
      {
        "duration": 38,
        "start_time": "2022-08-28T23:00:00.452Z"
      },
      {
        "duration": 7,
        "start_time": "2022-08-28T23:00:40.393Z"
      },
      {
        "duration": 5,
        "start_time": "2022-08-28T23:00:41.768Z"
      },
      {
        "duration": 8,
        "start_time": "2022-08-28T23:00:42.617Z"
      },
      {
        "duration": 7,
        "start_time": "2022-08-28T23:00:48.462Z"
      },
      {
        "duration": 9,
        "start_time": "2022-08-28T23:01:03.383Z"
      },
      {
        "duration": 13,
        "start_time": "2022-08-28T23:01:54.706Z"
      },
      {
        "duration": 3,
        "start_time": "2022-08-28T23:01:57.629Z"
      },
      {
        "duration": 181,
        "start_time": "2022-08-28T23:01:59.466Z"
      },
      {
        "duration": 7,
        "start_time": "2022-08-28T23:02:00.927Z"
      },
      {
        "duration": 5,
        "start_time": "2022-08-28T23:02:04.906Z"
      },
      {
        "duration": 5,
        "start_time": "2022-08-28T23:02:05.928Z"
      },
      {
        "duration": 5,
        "start_time": "2022-08-28T23:02:06.434Z"
      },
      {
        "duration": 10,
        "start_time": "2022-08-28T23:02:07.936Z"
      },
      {
        "duration": 9,
        "start_time": "2022-08-28T23:02:41.299Z"
      },
      {
        "duration": 4,
        "start_time": "2022-08-28T23:02:42.340Z"
      },
      {
        "duration": 5,
        "start_time": "2022-08-28T23:02:54.890Z"
      },
      {
        "duration": 6,
        "start_time": "2022-08-28T23:03:02.273Z"
      },
      {
        "duration": 8,
        "start_time": "2022-08-28T23:03:08.248Z"
      },
      {
        "duration": 7,
        "start_time": "2022-08-28T23:03:21.737Z"
      },
      {
        "duration": 7,
        "start_time": "2022-08-28T23:03:38.381Z"
      },
      {
        "duration": 54,
        "start_time": "2022-08-28T23:04:06.712Z"
      },
      {
        "duration": 4,
        "start_time": "2022-08-28T23:04:07.788Z"
      },
      {
        "duration": 13,
        "start_time": "2022-08-28T23:04:09.306Z"
      },
      {
        "duration": 13,
        "start_time": "2022-08-28T23:04:10.349Z"
      },
      {
        "duration": 4,
        "start_time": "2022-08-28T23:04:11.538Z"
      },
      {
        "duration": 17,
        "start_time": "2022-08-28T23:04:12.232Z"
      },
      {
        "duration": 13,
        "start_time": "2022-08-28T23:04:13.015Z"
      },
      {
        "duration": 79,
        "start_time": "2022-08-28T23:04:14.395Z"
      },
      {
        "duration": 4,
        "start_time": "2022-08-28T23:04:16.089Z"
      },
      {
        "duration": 5,
        "start_time": "2022-08-28T23:04:18.786Z"
      },
      {
        "duration": 5,
        "start_time": "2022-08-28T23:04:20.201Z"
      },
      {
        "duration": 5,
        "start_time": "2022-08-28T23:04:21.978Z"
      },
      {
        "duration": 5,
        "start_time": "2022-08-28T23:04:23.144Z"
      },
      {
        "duration": 6,
        "start_time": "2022-08-28T23:04:24.205Z"
      },
      {
        "duration": 5,
        "start_time": "2022-08-28T23:04:25.427Z"
      },
      {
        "duration": 5,
        "start_time": "2022-08-28T23:04:26.406Z"
      },
      {
        "duration": 6,
        "start_time": "2022-08-28T23:04:27.536Z"
      },
      {
        "duration": 5,
        "start_time": "2022-08-28T23:04:28.793Z"
      },
      {
        "duration": 7,
        "start_time": "2022-08-28T23:04:29.440Z"
      },
      {
        "duration": 8,
        "start_time": "2022-08-28T23:04:30.304Z"
      },
      {
        "duration": 8,
        "start_time": "2022-08-28T23:04:31.009Z"
      },
      {
        "duration": 8,
        "start_time": "2022-08-28T23:04:31.741Z"
      },
      {
        "duration": 6,
        "start_time": "2022-08-28T23:04:32.730Z"
      },
      {
        "duration": 24,
        "start_time": "2022-08-28T23:04:35.329Z"
      },
      {
        "duration": 6,
        "start_time": "2022-08-28T23:04:37.044Z"
      },
      {
        "duration": 7,
        "start_time": "2022-08-28T23:04:37.456Z"
      },
      {
        "duration": 7,
        "start_time": "2022-08-28T23:04:38.001Z"
      },
      {
        "duration": 8,
        "start_time": "2022-08-28T23:04:38.505Z"
      },
      {
        "duration": 7,
        "start_time": "2022-08-28T23:04:39.608Z"
      },
      {
        "duration": 7,
        "start_time": "2022-08-28T23:04:39.922Z"
      },
      {
        "duration": 4,
        "start_time": "2022-08-28T23:04:41.086Z"
      },
      {
        "duration": 7,
        "start_time": "2022-08-28T23:04:56.159Z"
      },
      {
        "duration": 11,
        "start_time": "2022-08-28T23:05:01.049Z"
      },
      {
        "duration": 7,
        "start_time": "2022-08-28T23:05:01.674Z"
      },
      {
        "duration": 10,
        "start_time": "2022-08-28T23:05:02.354Z"
      },
      {
        "duration": 10,
        "start_time": "2022-08-28T23:05:03.174Z"
      },
      {
        "duration": 10,
        "start_time": "2022-08-28T23:05:03.870Z"
      },
      {
        "duration": 6,
        "start_time": "2022-08-28T23:05:05.846Z"
      },
      {
        "duration": 6,
        "start_time": "2022-08-28T23:05:06.635Z"
      },
      {
        "duration": 4,
        "start_time": "2022-08-28T23:05:09.952Z"
      },
      {
        "duration": 4,
        "start_time": "2022-08-28T23:05:27.914Z"
      },
      {
        "duration": 13,
        "start_time": "2022-08-28T23:05:46.276Z"
      },
      {
        "duration": 13,
        "start_time": "2022-08-28T23:05:54.588Z"
      },
      {
        "duration": 5,
        "start_time": "2022-08-28T23:06:27.669Z"
      },
      {
        "duration": 9,
        "start_time": "2022-08-28T23:06:29.377Z"
      },
      {
        "duration": 5,
        "start_time": "2022-08-28T23:06:30.415Z"
      },
      {
        "duration": 12,
        "start_time": "2022-08-28T23:06:33.176Z"
      },
      {
        "duration": 5,
        "start_time": "2022-08-28T23:06:35.560Z"
      },
      {
        "duration": 6,
        "start_time": "2022-08-28T23:06:48.020Z"
      },
      {
        "duration": 21,
        "start_time": "2022-08-28T23:06:49.883Z"
      },
      {
        "duration": 5,
        "start_time": "2022-08-28T23:06:51.417Z"
      },
      {
        "duration": 5,
        "start_time": "2022-08-28T23:06:52.196Z"
      },
      {
        "duration": 8,
        "start_time": "2022-08-28T23:06:54.422Z"
      },
      {
        "duration": 4,
        "start_time": "2022-08-28T23:06:59.708Z"
      },
      {
        "duration": 5,
        "start_time": "2022-08-28T23:07:12.649Z"
      },
      {
        "duration": 2294,
        "start_time": "2022-08-28T23:07:20.933Z"
      },
      {
        "duration": 10,
        "start_time": "2022-08-28T23:07:30.913Z"
      },
      {
        "duration": 7,
        "start_time": "2022-08-28T23:07:56.840Z"
      },
      {
        "duration": 13,
        "start_time": "2022-08-28T23:08:00.326Z"
      },
      {
        "duration": 14,
        "start_time": "2022-08-28T23:08:36.369Z"
      },
      {
        "duration": 3,
        "start_time": "2022-08-28T23:08:46.700Z"
      },
      {
        "duration": 173,
        "start_time": "2022-08-28T23:08:52.038Z"
      },
      {
        "duration": 7,
        "start_time": "2022-08-28T23:08:52.761Z"
      },
      {
        "duration": 6,
        "start_time": "2022-08-28T23:08:54.466Z"
      },
      {
        "duration": 6,
        "start_time": "2022-08-28T23:08:57.089Z"
      },
      {
        "duration": 5,
        "start_time": "2022-08-28T23:11:08.287Z"
      },
      {
        "duration": 13,
        "start_time": "2022-08-28T23:11:10.356Z"
      },
      {
        "duration": 3,
        "start_time": "2022-08-28T23:11:17.060Z"
      },
      {
        "duration": 4,
        "start_time": "2022-08-28T23:11:17.877Z"
      },
      {
        "duration": 7,
        "start_time": "2022-08-28T23:11:19.709Z"
      },
      {
        "duration": 7,
        "start_time": "2022-08-28T23:11:20.791Z"
      },
      {
        "duration": 4,
        "start_time": "2022-08-28T23:11:21.206Z"
      },
      {
        "duration": 7,
        "start_time": "2022-08-28T23:11:23.115Z"
      },
      {
        "duration": 13,
        "start_time": "2022-08-28T23:11:31.278Z"
      },
      {
        "duration": 5,
        "start_time": "2022-08-28T23:11:31.992Z"
      },
      {
        "duration": 3,
        "start_time": "2022-08-28T23:11:32.723Z"
      },
      {
        "duration": 9,
        "start_time": "2022-08-28T23:11:33.241Z"
      },
      {
        "duration": 5,
        "start_time": "2022-08-28T23:11:33.672Z"
      },
      {
        "duration": 17,
        "start_time": "2022-08-28T23:11:34.903Z"
      },
      {
        "duration": 17,
        "start_time": "2022-08-28T23:15:36.979Z"
      },
      {
        "duration": 21,
        "start_time": "2022-08-28T23:15:38.814Z"
      },
      {
        "duration": 3,
        "start_time": "2022-08-28T23:15:41.280Z"
      },
      {
        "duration": 791,
        "start_time": "2022-08-28T23:15:42.819Z"
      },
      {
        "duration": 7,
        "start_time": "2022-08-28T23:15:44.372Z"
      },
      {
        "duration": 16,
        "start_time": "2022-08-28T23:15:46.958Z"
      },
      {
        "duration": 18,
        "start_time": "2022-08-28T23:15:47.956Z"
      },
      {
        "duration": 16,
        "start_time": "2022-08-28T23:15:48.535Z"
      },
      {
        "duration": 16,
        "start_time": "2022-08-28T23:15:50.156Z"
      },
      {
        "duration": 21,
        "start_time": "2022-08-28T23:16:12.439Z"
      },
      {
        "duration": 26,
        "start_time": "2022-08-28T23:16:15.033Z"
      },
      {
        "duration": 27,
        "start_time": "2022-08-28T23:16:16.237Z"
      },
      {
        "duration": 10,
        "start_time": "2022-08-28T23:16:23.086Z"
      },
      {
        "duration": 11,
        "start_time": "2022-08-28T23:17:00.421Z"
      },
      {
        "duration": 4,
        "start_time": "2022-08-28T23:17:11.864Z"
      },
      {
        "duration": 3,
        "start_time": "2022-08-28T23:17:25.947Z"
      },
      {
        "duration": 9,
        "start_time": "2022-08-28T23:17:41.843Z"
      },
      {
        "duration": 4,
        "start_time": "2022-08-28T23:18:14.481Z"
      },
      {
        "duration": 73,
        "start_time": "2022-08-28T23:19:07.291Z"
      },
      {
        "duration": 84,
        "start_time": "2022-08-28T23:19:14.269Z"
      },
      {
        "duration": 78,
        "start_time": "2022-08-28T23:19:31.212Z"
      },
      {
        "duration": 73,
        "start_time": "2022-08-28T23:19:39.334Z"
      },
      {
        "duration": 81,
        "start_time": "2022-08-28T23:19:46.886Z"
      },
      {
        "duration": 77,
        "start_time": "2022-08-28T23:20:08.032Z"
      },
      {
        "duration": 108,
        "start_time": "2022-08-28T23:20:19.536Z"
      },
      {
        "duration": 127,
        "start_time": "2022-08-28T23:21:03.682Z"
      },
      {
        "duration": 184,
        "start_time": "2022-08-28T23:21:08.849Z"
      },
      {
        "duration": 87,
        "start_time": "2022-08-28T23:22:16.689Z"
      },
      {
        "duration": 9,
        "start_time": "2022-08-28T23:22:27.338Z"
      },
      {
        "duration": 12,
        "start_time": "2022-08-28T23:22:39.203Z"
      },
      {
        "duration": 16,
        "start_time": "2022-08-28T23:22:56.213Z"
      },
      {
        "duration": 14,
        "start_time": "2022-08-28T23:23:09.253Z"
      },
      {
        "duration": 8,
        "start_time": "2022-08-28T23:24:28.045Z"
      },
      {
        "duration": 6,
        "start_time": "2022-08-28T23:26:42.156Z"
      },
      {
        "duration": 7,
        "start_time": "2022-08-28T23:26:55.996Z"
      },
      {
        "duration": 298,
        "start_time": "2022-08-28T23:41:19.541Z"
      },
      {
        "duration": 328,
        "start_time": "2022-08-28T23:41:30.318Z"
      },
      {
        "duration": 3,
        "start_time": "2022-08-28T23:42:39.609Z"
      },
      {
        "duration": 55,
        "start_time": "2022-08-28T23:56:10.249Z"
      },
      {
        "duration": 5,
        "start_time": "2022-08-28T23:56:10.306Z"
      },
      {
        "duration": 14,
        "start_time": "2022-08-28T23:56:10.313Z"
      },
      {
        "duration": 13,
        "start_time": "2022-08-28T23:56:10.328Z"
      },
      {
        "duration": 3,
        "start_time": "2022-08-28T23:56:10.343Z"
      },
      {
        "duration": 15,
        "start_time": "2022-08-28T23:56:10.385Z"
      },
      {
        "duration": 12,
        "start_time": "2022-08-28T23:56:10.401Z"
      },
      {
        "duration": 47,
        "start_time": "2022-08-28T23:56:10.415Z"
      },
      {
        "duration": 4,
        "start_time": "2022-08-28T23:56:10.484Z"
      },
      {
        "duration": 5,
        "start_time": "2022-08-28T23:56:10.490Z"
      },
      {
        "duration": 4,
        "start_time": "2022-08-28T23:56:10.497Z"
      },
      {
        "duration": 8,
        "start_time": "2022-08-28T23:56:10.502Z"
      },
      {
        "duration": 8,
        "start_time": "2022-08-28T23:56:10.511Z"
      },
      {
        "duration": 6,
        "start_time": "2022-08-28T23:56:10.520Z"
      },
      {
        "duration": 12,
        "start_time": "2022-08-28T23:56:10.527Z"
      },
      {
        "duration": 6,
        "start_time": "2022-08-28T23:56:10.540Z"
      },
      {
        "duration": 6,
        "start_time": "2022-08-28T23:56:10.547Z"
      },
      {
        "duration": 31,
        "start_time": "2022-08-28T23:56:10.554Z"
      },
      {
        "duration": 6,
        "start_time": "2022-08-28T23:56:10.587Z"
      },
      {
        "duration": 7,
        "start_time": "2022-08-28T23:56:10.594Z"
      },
      {
        "duration": 8,
        "start_time": "2022-08-28T23:56:10.602Z"
      },
      {
        "duration": 8,
        "start_time": "2022-08-28T23:56:10.611Z"
      },
      {
        "duration": 6,
        "start_time": "2022-08-28T23:56:10.620Z"
      },
      {
        "duration": 20,
        "start_time": "2022-08-28T23:56:10.627Z"
      },
      {
        "duration": 5,
        "start_time": "2022-08-28T23:56:10.648Z"
      },
      {
        "duration": 35,
        "start_time": "2022-08-28T23:56:10.655Z"
      },
      {
        "duration": 10,
        "start_time": "2022-08-28T23:56:10.691Z"
      },
      {
        "duration": 6,
        "start_time": "2022-08-28T23:56:10.705Z"
      },
      {
        "duration": 9,
        "start_time": "2022-08-28T23:56:10.712Z"
      },
      {
        "duration": 10,
        "start_time": "2022-08-28T23:56:10.723Z"
      },
      {
        "duration": 6,
        "start_time": "2022-08-28T23:56:10.734Z"
      },
      {
        "duration": 10,
        "start_time": "2022-08-28T23:56:10.742Z"
      },
      {
        "duration": 33,
        "start_time": "2022-08-28T23:56:10.753Z"
      },
      {
        "duration": 7,
        "start_time": "2022-08-28T23:56:10.787Z"
      },
      {
        "duration": 9,
        "start_time": "2022-08-28T23:56:10.796Z"
      },
      {
        "duration": 10,
        "start_time": "2022-08-28T23:56:10.806Z"
      },
      {
        "duration": 10,
        "start_time": "2022-08-28T23:56:10.818Z"
      },
      {
        "duration": 8,
        "start_time": "2022-08-28T23:56:10.829Z"
      },
      {
        "duration": 4,
        "start_time": "2022-08-28T23:56:10.839Z"
      },
      {
        "duration": 6,
        "start_time": "2022-08-28T23:56:10.844Z"
      },
      {
        "duration": 6,
        "start_time": "2022-08-28T23:56:10.886Z"
      },
      {
        "duration": 18,
        "start_time": "2022-08-28T23:56:10.894Z"
      },
      {
        "duration": 12,
        "start_time": "2022-08-28T23:56:10.914Z"
      },
      {
        "duration": 4,
        "start_time": "2022-08-28T23:56:10.928Z"
      },
      {
        "duration": 9,
        "start_time": "2022-08-28T23:56:10.933Z"
      },
      {
        "duration": 5,
        "start_time": "2022-08-28T23:56:10.944Z"
      },
      {
        "duration": 39,
        "start_time": "2022-08-28T23:56:10.951Z"
      },
      {
        "duration": 4,
        "start_time": "2022-08-28T23:56:10.992Z"
      },
      {
        "duration": 7,
        "start_time": "2022-08-28T23:56:10.997Z"
      },
      {
        "duration": 18,
        "start_time": "2022-08-28T23:56:11.006Z"
      },
      {
        "duration": 4,
        "start_time": "2022-08-28T23:56:11.025Z"
      },
      {
        "duration": 8,
        "start_time": "2022-08-28T23:56:11.031Z"
      },
      {
        "duration": 9,
        "start_time": "2022-08-28T23:56:11.041Z"
      },
      {
        "duration": 34,
        "start_time": "2022-08-28T23:56:11.052Z"
      },
      {
        "duration": 8,
        "start_time": "2022-08-28T23:56:11.087Z"
      },
      {
        "duration": 2331,
        "start_time": "2022-08-28T23:56:11.096Z"
      },
      {
        "duration": 10,
        "start_time": "2022-08-28T23:56:13.428Z"
      },
      {
        "duration": 5,
        "start_time": "2022-08-28T23:56:13.440Z"
      },
      {
        "duration": 13,
        "start_time": "2022-08-28T23:56:13.446Z"
      },
      {
        "duration": 34,
        "start_time": "2022-08-28T23:56:13.461Z"
      },
      {
        "duration": 2,
        "start_time": "2022-08-28T23:56:13.497Z"
      },
      {
        "duration": 178,
        "start_time": "2022-08-28T23:56:13.501Z"
      },
      {
        "duration": 8,
        "start_time": "2022-08-28T23:56:13.680Z"
      },
      {
        "duration": 5,
        "start_time": "2022-08-28T23:56:13.690Z"
      },
      {
        "duration": 7,
        "start_time": "2022-08-28T23:56:13.696Z"
      },
      {
        "duration": 8,
        "start_time": "2022-08-28T23:56:13.704Z"
      },
      {
        "duration": 13,
        "start_time": "2022-08-28T23:56:13.714Z"
      },
      {
        "duration": 3,
        "start_time": "2022-08-28T23:56:13.728Z"
      },
      {
        "duration": 5,
        "start_time": "2022-08-28T23:56:13.733Z"
      },
      {
        "duration": 9,
        "start_time": "2022-08-28T23:56:13.739Z"
      },
      {
        "duration": 36,
        "start_time": "2022-08-28T23:56:13.749Z"
      },
      {
        "duration": 4,
        "start_time": "2022-08-28T23:56:13.787Z"
      },
      {
        "duration": 12,
        "start_time": "2022-08-28T23:56:13.793Z"
      },
      {
        "duration": 14,
        "start_time": "2022-08-28T23:56:13.807Z"
      },
      {
        "duration": 5,
        "start_time": "2022-08-28T23:56:13.822Z"
      },
      {
        "duration": 3,
        "start_time": "2022-08-28T23:56:13.828Z"
      },
      {
        "duration": 12,
        "start_time": "2022-08-28T23:56:13.832Z"
      },
      {
        "duration": 4,
        "start_time": "2022-08-28T23:56:13.845Z"
      },
      {
        "duration": 43,
        "start_time": "2022-08-28T23:56:13.850Z"
      },
      {
        "duration": 14,
        "start_time": "2022-08-28T23:56:13.894Z"
      },
      {
        "duration": 18,
        "start_time": "2022-08-28T23:56:13.909Z"
      },
      {
        "duration": 3,
        "start_time": "2022-08-28T23:56:13.930Z"
      },
      {
        "duration": 831,
        "start_time": "2022-08-28T23:56:13.934Z"
      },
      {
        "duration": 6,
        "start_time": "2022-08-28T23:56:14.766Z"
      },
      {
        "duration": 23,
        "start_time": "2022-08-28T23:56:14.773Z"
      },
      {
        "duration": 15,
        "start_time": "2022-08-28T23:56:14.798Z"
      },
      {
        "duration": 15,
        "start_time": "2022-08-28T23:56:14.815Z"
      },
      {
        "duration": 12,
        "start_time": "2022-08-28T23:56:14.831Z"
      },
      {
        "duration": 21,
        "start_time": "2022-08-28T23:56:21.719Z"
      },
      {
        "duration": 30,
        "start_time": "2022-08-28T23:56:22.873Z"
      },
      {
        "duration": 25,
        "start_time": "2022-08-28T23:56:31.144Z"
      },
      {
        "duration": 24,
        "start_time": "2022-08-28T23:56:38.245Z"
      },
      {
        "duration": 3,
        "start_time": "2022-08-28T23:57:01.934Z"
      },
      {
        "duration": 4,
        "start_time": "2022-08-28T23:57:03.948Z"
      },
      {
        "duration": 18,
        "start_time": "2022-08-28T23:57:05.019Z"
      },
      {
        "duration": 5,
        "start_time": "2022-08-28T23:57:05.731Z"
      },
      {
        "duration": 14,
        "start_time": "2022-08-28T23:57:33.903Z"
      },
      {
        "duration": 20,
        "start_time": "2022-08-28T23:57:36.859Z"
      },
      {
        "duration": 26,
        "start_time": "2022-08-28T23:57:38.390Z"
      },
      {
        "duration": 24,
        "start_time": "2022-08-28T23:57:40.549Z"
      },
      {
        "duration": 4,
        "start_time": "2022-08-28T23:57:47.331Z"
      },
      {
        "duration": 4,
        "start_time": "2022-08-29T00:00:14.875Z"
      },
      {
        "duration": 4,
        "start_time": "2022-08-29T00:01:27.101Z"
      },
      {
        "duration": 5,
        "start_time": "2022-08-29T00:01:46.723Z"
      },
      {
        "duration": 22,
        "start_time": "2022-08-29T00:06:29.023Z"
      },
      {
        "duration": 8,
        "start_time": "2022-08-29T00:09:42.512Z"
      },
      {
        "duration": 76,
        "start_time": "2022-08-29T00:10:11.880Z"
      },
      {
        "duration": 7,
        "start_time": "2022-08-29T00:10:22.888Z"
      },
      {
        "duration": 7,
        "start_time": "2022-08-29T00:10:39.409Z"
      },
      {
        "duration": 3,
        "start_time": "2022-08-29T00:14:10.334Z"
      },
      {
        "duration": 22,
        "start_time": "2022-08-29T00:20:04.883Z"
      },
      {
        "duration": 3,
        "start_time": "2022-08-29T00:20:06.561Z"
      },
      {
        "duration": 213,
        "start_time": "2022-08-29T00:20:10.439Z"
      },
      {
        "duration": 6,
        "start_time": "2022-08-29T00:20:12.030Z"
      },
      {
        "duration": 7,
        "start_time": "2022-08-29T00:21:03.752Z"
      },
      {
        "duration": 6,
        "start_time": "2022-08-29T00:21:11.249Z"
      },
      {
        "duration": 7,
        "start_time": "2022-08-29T00:21:36.427Z"
      },
      {
        "duration": 7,
        "start_time": "2022-08-29T00:22:22.563Z"
      },
      {
        "duration": 7,
        "start_time": "2022-08-29T00:22:53.397Z"
      },
      {
        "duration": 7,
        "start_time": "2022-08-29T00:23:12.975Z"
      },
      {
        "duration": 78,
        "start_time": "2022-08-29T00:27:58.888Z"
      },
      {
        "duration": 8,
        "start_time": "2022-08-29T00:28:07.041Z"
      },
      {
        "duration": 19,
        "start_time": "2022-08-29T00:29:23.318Z"
      },
      {
        "duration": 67,
        "start_time": "2022-08-29T00:30:23.047Z"
      },
      {
        "duration": 8,
        "start_time": "2022-08-29T00:30:40.475Z"
      },
      {
        "duration": 7,
        "start_time": "2022-08-29T00:32:25.387Z"
      },
      {
        "duration": 8,
        "start_time": "2022-08-29T00:33:33.029Z"
      },
      {
        "duration": 8,
        "start_time": "2022-08-29T00:33:40.553Z"
      },
      {
        "duration": 22,
        "start_time": "2022-08-29T00:41:26.768Z"
      },
      {
        "duration": 13,
        "start_time": "2022-08-29T00:41:43.578Z"
      },
      {
        "duration": 15,
        "start_time": "2022-08-29T00:45:13.344Z"
      },
      {
        "duration": 14,
        "start_time": "2022-08-29T00:45:28.068Z"
      },
      {
        "duration": 13,
        "start_time": "2022-08-29T00:48:45.850Z"
      },
      {
        "duration": 13,
        "start_time": "2022-08-29T00:49:00.680Z"
      },
      {
        "duration": 22,
        "start_time": "2022-08-29T00:49:10.904Z"
      },
      {
        "duration": 1391,
        "start_time": "2022-08-29T00:52:40.897Z"
      },
      {
        "duration": 1268,
        "start_time": "2022-08-29T00:53:05.043Z"
      },
      {
        "duration": 4,
        "start_time": "2022-08-29T00:53:18.817Z"
      },
      {
        "duration": 6,
        "start_time": "2022-08-29T00:54:35.534Z"
      },
      {
        "duration": 4,
        "start_time": "2022-08-29T00:54:58.415Z"
      },
      {
        "duration": 1224,
        "start_time": "2022-08-29T00:55:56.547Z"
      },
      {
        "duration": 4,
        "start_time": "2022-08-29T00:56:32.060Z"
      },
      {
        "duration": 4,
        "start_time": "2022-08-29T00:56:43.808Z"
      },
      {
        "duration": 13,
        "start_time": "2022-08-29T00:57:12.209Z"
      },
      {
        "duration": 4,
        "start_time": "2022-08-29T00:58:14.657Z"
      },
      {
        "duration": 7,
        "start_time": "2022-08-29T01:00:21.000Z"
      },
      {
        "duration": 16,
        "start_time": "2022-08-29T01:00:32.086Z"
      },
      {
        "duration": 4,
        "start_time": "2022-08-29T01:01:51.629Z"
      },
      {
        "duration": 17,
        "start_time": "2022-08-29T01:01:52.761Z"
      },
      {
        "duration": 14,
        "start_time": "2022-08-29T01:02:16.214Z"
      },
      {
        "duration": 21,
        "start_time": "2022-08-29T01:02:18.349Z"
      },
      {
        "duration": 4,
        "start_time": "2022-08-29T01:02:19.396Z"
      },
      {
        "duration": 15,
        "start_time": "2022-08-29T01:02:22.376Z"
      },
      {
        "duration": 14,
        "start_time": "2022-08-29T01:03:27.128Z"
      },
      {
        "duration": 59,
        "start_time": "2022-08-29T01:03:43.541Z"
      },
      {
        "duration": 5,
        "start_time": "2022-08-29T01:03:43.602Z"
      },
      {
        "duration": 17,
        "start_time": "2022-08-29T01:03:43.608Z"
      },
      {
        "duration": 14,
        "start_time": "2022-08-29T01:03:43.626Z"
      },
      {
        "duration": 4,
        "start_time": "2022-08-29T01:03:43.642Z"
      },
      {
        "duration": 44,
        "start_time": "2022-08-29T01:03:43.647Z"
      },
      {
        "duration": 14,
        "start_time": "2022-08-29T01:03:43.693Z"
      },
      {
        "duration": 77,
        "start_time": "2022-08-29T01:03:43.708Z"
      },
      {
        "duration": 5,
        "start_time": "2022-08-29T01:03:43.787Z"
      },
      {
        "duration": 14,
        "start_time": "2022-08-29T01:03:43.793Z"
      },
      {
        "duration": 10,
        "start_time": "2022-08-29T01:03:43.808Z"
      },
      {
        "duration": 5,
        "start_time": "2022-08-29T01:03:43.819Z"
      },
      {
        "duration": 6,
        "start_time": "2022-08-29T01:03:43.825Z"
      },
      {
        "duration": 6,
        "start_time": "2022-08-29T01:03:43.833Z"
      },
      {
        "duration": 8,
        "start_time": "2022-08-29T01:03:43.840Z"
      },
      {
        "duration": 7,
        "start_time": "2022-08-29T01:03:43.849Z"
      },
      {
        "duration": 31,
        "start_time": "2022-08-29T01:03:43.857Z"
      },
      {
        "duration": 11,
        "start_time": "2022-08-29T01:03:43.889Z"
      },
      {
        "duration": 10,
        "start_time": "2022-08-29T01:03:43.901Z"
      },
      {
        "duration": 9,
        "start_time": "2022-08-29T01:03:43.913Z"
      },
      {
        "duration": 8,
        "start_time": "2022-08-29T01:03:43.923Z"
      },
      {
        "duration": 9,
        "start_time": "2022-08-29T01:03:43.933Z"
      },
      {
        "duration": 6,
        "start_time": "2022-08-29T01:03:43.944Z"
      },
      {
        "duration": 28,
        "start_time": "2022-08-29T01:03:43.985Z"
      },
      {
        "duration": 5,
        "start_time": "2022-08-29T01:03:44.015Z"
      },
      {
        "duration": 15,
        "start_time": "2022-08-29T01:03:44.022Z"
      },
      {
        "duration": 7,
        "start_time": "2022-08-29T01:03:44.039Z"
      },
      {
        "duration": 15,
        "start_time": "2022-08-29T01:03:44.048Z"
      },
      {
        "duration": 21,
        "start_time": "2022-08-29T01:03:44.065Z"
      },
      {
        "duration": 18,
        "start_time": "2022-08-29T01:03:44.087Z"
      },
      {
        "duration": 5,
        "start_time": "2022-08-29T01:03:44.107Z"
      },
      {
        "duration": 10,
        "start_time": "2022-08-29T01:03:44.113Z"
      },
      {
        "duration": 9,
        "start_time": "2022-08-29T01:03:44.125Z"
      },
      {
        "duration": 11,
        "start_time": "2022-08-29T01:03:44.135Z"
      },
      {
        "duration": 9,
        "start_time": "2022-08-29T01:03:44.147Z"
      },
      {
        "duration": 30,
        "start_time": "2022-08-29T01:03:44.157Z"
      },
      {
        "duration": 12,
        "start_time": "2022-08-29T01:03:44.189Z"
      },
      {
        "duration": 7,
        "start_time": "2022-08-29T01:03:44.203Z"
      },
      {
        "duration": 6,
        "start_time": "2022-08-29T01:03:44.211Z"
      },
      {
        "duration": 3,
        "start_time": "2022-08-29T01:03:44.218Z"
      },
      {
        "duration": 4,
        "start_time": "2022-08-29T01:03:44.225Z"
      },
      {
        "duration": 14,
        "start_time": "2022-08-29T01:03:44.231Z"
      },
      {
        "duration": 39,
        "start_time": "2022-08-29T01:03:44.246Z"
      },
      {
        "duration": 5,
        "start_time": "2022-08-29T01:03:44.287Z"
      },
      {
        "duration": 20,
        "start_time": "2022-08-29T01:03:44.294Z"
      },
      {
        "duration": 19,
        "start_time": "2022-08-29T01:03:44.316Z"
      },
      {
        "duration": 11,
        "start_time": "2022-08-29T01:03:44.337Z"
      },
      {
        "duration": 5,
        "start_time": "2022-08-29T01:03:44.349Z"
      },
      {
        "duration": 6,
        "start_time": "2022-08-29T01:03:44.356Z"
      },
      {
        "duration": 39,
        "start_time": "2022-08-29T01:03:44.364Z"
      },
      {
        "duration": 9,
        "start_time": "2022-08-29T01:03:44.405Z"
      },
      {
        "duration": 12,
        "start_time": "2022-08-29T01:03:44.416Z"
      },
      {
        "duration": 12,
        "start_time": "2022-08-29T01:03:44.429Z"
      },
      {
        "duration": 13,
        "start_time": "2022-08-29T01:03:44.443Z"
      },
      {
        "duration": 12,
        "start_time": "2022-08-29T01:03:44.459Z"
      },
      {
        "duration": 2347,
        "start_time": "2022-08-29T01:03:44.473Z"
      },
      {
        "duration": 12,
        "start_time": "2022-08-29T01:03:46.821Z"
      },
      {
        "duration": 8,
        "start_time": "2022-08-29T01:03:46.835Z"
      },
      {
        "duration": 13,
        "start_time": "2022-08-29T01:03:46.844Z"
      },
      {
        "duration": 44,
        "start_time": "2022-08-29T01:03:46.859Z"
      },
      {
        "duration": 8,
        "start_time": "2022-08-29T01:03:46.904Z"
      },
      {
        "duration": 214,
        "start_time": "2022-08-29T01:03:46.914Z"
      },
      {
        "duration": 7,
        "start_time": "2022-08-29T01:03:47.130Z"
      },
      {
        "duration": 9,
        "start_time": "2022-08-29T01:03:47.139Z"
      },
      {
        "duration": 6,
        "start_time": "2022-08-29T01:03:47.150Z"
      },
      {
        "duration": 28,
        "start_time": "2022-08-29T01:03:47.158Z"
      },
      {
        "duration": 18,
        "start_time": "2022-08-29T01:03:47.187Z"
      },
      {
        "duration": 3,
        "start_time": "2022-08-29T01:03:47.206Z"
      },
      {
        "duration": 7,
        "start_time": "2022-08-29T01:03:47.211Z"
      },
      {
        "duration": 8,
        "start_time": "2022-08-29T01:03:47.219Z"
      },
      {
        "duration": 7,
        "start_time": "2022-08-29T01:03:47.229Z"
      },
      {
        "duration": 8,
        "start_time": "2022-08-29T01:03:47.238Z"
      },
      {
        "duration": 8,
        "start_time": "2022-08-29T01:03:47.248Z"
      },
      {
        "duration": 18,
        "start_time": "2022-08-29T01:03:47.284Z"
      },
      {
        "duration": 6,
        "start_time": "2022-08-29T01:03:47.304Z"
      },
      {
        "duration": 4,
        "start_time": "2022-08-29T01:03:47.312Z"
      },
      {
        "duration": 12,
        "start_time": "2022-08-29T01:03:47.318Z"
      },
      {
        "duration": 6,
        "start_time": "2022-08-29T01:03:47.331Z"
      },
      {
        "duration": 52,
        "start_time": "2022-08-29T01:03:47.338Z"
      },
      {
        "duration": 19,
        "start_time": "2022-08-29T01:03:47.392Z"
      },
      {
        "duration": 23,
        "start_time": "2022-08-29T01:03:47.413Z"
      },
      {
        "duration": 3,
        "start_time": "2022-08-29T01:03:47.437Z"
      },
      {
        "duration": 835,
        "start_time": "2022-08-29T01:03:47.442Z"
      },
      {
        "duration": 8,
        "start_time": "2022-08-29T01:03:48.278Z"
      },
      {
        "duration": 23,
        "start_time": "2022-08-29T01:03:48.288Z"
      },
      {
        "duration": 16,
        "start_time": "2022-08-29T01:03:48.313Z"
      },
      {
        "duration": 15,
        "start_time": "2022-08-29T01:03:48.330Z"
      },
      {
        "duration": 38,
        "start_time": "2022-08-29T01:03:48.347Z"
      },
      {
        "duration": 20,
        "start_time": "2022-08-29T01:03:48.387Z"
      },
      {
        "duration": 25,
        "start_time": "2022-08-29T01:03:48.409Z"
      },
      {
        "duration": 23,
        "start_time": "2022-08-29T01:03:48.435Z"
      },
      {
        "duration": 46,
        "start_time": "2022-08-29T01:03:48.460Z"
      },
      {
        "duration": 10,
        "start_time": "2022-08-29T01:03:48.507Z"
      },
      {
        "duration": 10,
        "start_time": "2022-08-29T01:03:48.518Z"
      },
      {
        "duration": 4,
        "start_time": "2022-08-29T01:03:48.530Z"
      },
      {
        "duration": 6,
        "start_time": "2022-08-29T01:03:48.535Z"
      },
      {
        "duration": 1223,
        "start_time": "2022-08-29T01:03:48.542Z"
      },
      {
        "duration": 0,
        "start_time": "2022-08-29T01:03:49.767Z"
      },
      {
        "duration": 0,
        "start_time": "2022-08-29T01:03:49.769Z"
      },
      {
        "duration": 0,
        "start_time": "2022-08-29T01:03:49.770Z"
      },
      {
        "duration": 0,
        "start_time": "2022-08-29T01:03:49.771Z"
      },
      {
        "duration": 0,
        "start_time": "2022-08-29T01:03:49.772Z"
      },
      {
        "duration": 0,
        "start_time": "2022-08-29T01:03:49.774Z"
      },
      {
        "duration": 58,
        "start_time": "2022-08-29T01:03:51.429Z"
      },
      {
        "duration": 8,
        "start_time": "2022-08-29T01:03:51.491Z"
      },
      {
        "duration": 17,
        "start_time": "2022-08-29T01:03:51.501Z"
      },
      {
        "duration": 14,
        "start_time": "2022-08-29T01:03:51.520Z"
      },
      {
        "duration": 3,
        "start_time": "2022-08-29T01:03:51.536Z"
      },
      {
        "duration": 54,
        "start_time": "2022-08-29T01:03:51.540Z"
      },
      {
        "duration": 13,
        "start_time": "2022-08-29T01:03:51.599Z"
      },
      {
        "duration": 47,
        "start_time": "2022-08-29T01:03:51.614Z"
      },
      {
        "duration": 32,
        "start_time": "2022-08-29T01:03:51.663Z"
      },
      {
        "duration": 10,
        "start_time": "2022-08-29T01:03:51.696Z"
      },
      {
        "duration": 6,
        "start_time": "2022-08-29T01:03:51.707Z"
      },
      {
        "duration": 6,
        "start_time": "2022-08-29T01:03:51.715Z"
      },
      {
        "duration": 6,
        "start_time": "2022-08-29T01:03:51.722Z"
      },
      {
        "duration": 5,
        "start_time": "2022-08-29T01:03:51.732Z"
      },
      {
        "duration": 7,
        "start_time": "2022-08-29T01:03:51.739Z"
      },
      {
        "duration": 41,
        "start_time": "2022-08-29T01:03:51.748Z"
      },
      {
        "duration": 17,
        "start_time": "2022-08-29T01:03:51.790Z"
      },
      {
        "duration": 8,
        "start_time": "2022-08-29T01:03:51.809Z"
      },
      {
        "duration": 7,
        "start_time": "2022-08-29T01:03:51.818Z"
      },
      {
        "duration": 8,
        "start_time": "2022-08-29T01:03:51.826Z"
      },
      {
        "duration": 7,
        "start_time": "2022-08-29T01:03:51.836Z"
      },
      {
        "duration": 12,
        "start_time": "2022-08-29T01:03:51.844Z"
      },
      {
        "duration": 7,
        "start_time": "2022-08-29T01:03:51.857Z"
      },
      {
        "duration": 42,
        "start_time": "2022-08-29T01:03:51.865Z"
      },
      {
        "duration": 5,
        "start_time": "2022-08-29T01:03:51.909Z"
      },
      {
        "duration": 14,
        "start_time": "2022-08-29T01:03:51.916Z"
      },
      {
        "duration": 20,
        "start_time": "2022-08-29T01:03:51.931Z"
      },
      {
        "duration": 23,
        "start_time": "2022-08-29T01:03:51.952Z"
      },
      {
        "duration": 12,
        "start_time": "2022-08-29T01:03:51.976Z"
      },
      {
        "duration": 29,
        "start_time": "2022-08-29T01:03:51.990Z"
      },
      {
        "duration": 20,
        "start_time": "2022-08-29T01:03:52.021Z"
      },
      {
        "duration": 22,
        "start_time": "2022-08-29T01:03:52.042Z"
      },
      {
        "duration": 11,
        "start_time": "2022-08-29T01:03:52.066Z"
      },
      {
        "duration": 23,
        "start_time": "2022-08-29T01:03:52.079Z"
      },
      {
        "duration": 15,
        "start_time": "2022-08-29T01:03:52.104Z"
      },
      {
        "duration": 13,
        "start_time": "2022-08-29T01:03:52.121Z"
      },
      {
        "duration": 18,
        "start_time": "2022-08-29T01:03:52.136Z"
      },
      {
        "duration": 26,
        "start_time": "2022-08-29T01:03:52.156Z"
      },
      {
        "duration": 27,
        "start_time": "2022-08-29T01:03:52.183Z"
      },
      {
        "duration": 6,
        "start_time": "2022-08-29T01:03:52.212Z"
      },
      {
        "duration": 13,
        "start_time": "2022-08-29T01:03:52.222Z"
      },
      {
        "duration": 38,
        "start_time": "2022-08-29T01:03:52.237Z"
      },
      {
        "duration": 29,
        "start_time": "2022-08-29T01:03:52.277Z"
      },
      {
        "duration": 5,
        "start_time": "2022-08-29T01:03:52.307Z"
      },
      {
        "duration": 29,
        "start_time": "2022-08-29T01:03:52.313Z"
      },
      {
        "duration": 18,
        "start_time": "2022-08-29T01:03:52.344Z"
      },
      {
        "duration": 44,
        "start_time": "2022-08-29T01:03:52.364Z"
      },
      {
        "duration": 22,
        "start_time": "2022-08-29T01:03:52.410Z"
      },
      {
        "duration": 27,
        "start_time": "2022-08-29T01:03:52.433Z"
      },
      {
        "duration": 29,
        "start_time": "2022-08-29T01:03:52.462Z"
      },
      {
        "duration": 16,
        "start_time": "2022-08-29T01:03:52.493Z"
      },
      {
        "duration": 13,
        "start_time": "2022-08-29T01:03:52.511Z"
      },
      {
        "duration": 24,
        "start_time": "2022-08-29T01:03:52.525Z"
      },
      {
        "duration": 13,
        "start_time": "2022-08-29T01:03:52.551Z"
      },
      {
        "duration": 20,
        "start_time": "2022-08-29T01:03:52.565Z"
      },
      {
        "duration": 2440,
        "start_time": "2022-08-29T01:03:52.587Z"
      },
      {
        "duration": 10,
        "start_time": "2022-08-29T01:03:55.028Z"
      },
      {
        "duration": 23,
        "start_time": "2022-08-29T01:03:55.040Z"
      },
      {
        "duration": 25,
        "start_time": "2022-08-29T01:03:55.064Z"
      },
      {
        "duration": 39,
        "start_time": "2022-08-29T01:03:55.091Z"
      },
      {
        "duration": 4,
        "start_time": "2022-08-29T01:03:55.131Z"
      },
      {
        "duration": 204,
        "start_time": "2022-08-29T01:03:55.136Z"
      },
      {
        "duration": 6,
        "start_time": "2022-08-29T01:03:55.341Z"
      },
      {
        "duration": 28,
        "start_time": "2022-08-29T01:03:55.348Z"
      },
      {
        "duration": 29,
        "start_time": "2022-08-29T01:03:55.377Z"
      },
      {
        "duration": 20,
        "start_time": "2022-08-29T01:03:55.408Z"
      },
      {
        "duration": 18,
        "start_time": "2022-08-29T01:03:55.429Z"
      },
      {
        "duration": 8,
        "start_time": "2022-08-29T01:03:55.449Z"
      },
      {
        "duration": 13,
        "start_time": "2022-08-29T01:03:55.459Z"
      },
      {
        "duration": 44,
        "start_time": "2022-08-29T01:03:55.473Z"
      },
      {
        "duration": 15,
        "start_time": "2022-08-29T01:03:55.519Z"
      },
      {
        "duration": 14,
        "start_time": "2022-08-29T01:03:55.536Z"
      },
      {
        "duration": 8,
        "start_time": "2022-08-29T01:03:55.551Z"
      },
      {
        "duration": 15,
        "start_time": "2022-08-29T01:03:55.561Z"
      },
      {
        "duration": 37,
        "start_time": "2022-08-29T01:03:55.578Z"
      },
      {
        "duration": 11,
        "start_time": "2022-08-29T01:03:55.616Z"
      },
      {
        "duration": 35,
        "start_time": "2022-08-29T01:03:55.628Z"
      },
      {
        "duration": 37,
        "start_time": "2022-08-29T01:03:55.665Z"
      },
      {
        "duration": 24,
        "start_time": "2022-08-29T01:03:55.703Z"
      },
      {
        "duration": 15,
        "start_time": "2022-08-29T01:03:55.728Z"
      },
      {
        "duration": 28,
        "start_time": "2022-08-29T01:03:55.744Z"
      },
      {
        "duration": 3,
        "start_time": "2022-08-29T01:03:55.773Z"
      },
      {
        "duration": 757,
        "start_time": "2022-08-29T01:03:55.778Z"
      },
      {
        "duration": 7,
        "start_time": "2022-08-29T01:03:56.536Z"
      },
      {
        "duration": 16,
        "start_time": "2022-08-29T01:03:56.544Z"
      },
      {
        "duration": 41,
        "start_time": "2022-08-29T01:03:56.562Z"
      },
      {
        "duration": 22,
        "start_time": "2022-08-29T01:03:56.604Z"
      },
      {
        "duration": 12,
        "start_time": "2022-08-29T01:03:56.628Z"
      },
      {
        "duration": 15,
        "start_time": "2022-08-29T01:03:56.642Z"
      },
      {
        "duration": 47,
        "start_time": "2022-08-29T01:03:56.659Z"
      },
      {
        "duration": 23,
        "start_time": "2022-08-29T01:03:56.708Z"
      },
      {
        "duration": 24,
        "start_time": "2022-08-29T01:03:56.733Z"
      },
      {
        "duration": 32,
        "start_time": "2022-08-29T01:03:56.759Z"
      },
      {
        "duration": 14,
        "start_time": "2022-08-29T01:03:56.793Z"
      },
      {
        "duration": 4,
        "start_time": "2022-08-29T01:03:56.808Z"
      },
      {
        "duration": 7,
        "start_time": "2022-08-29T01:03:56.813Z"
      },
      {
        "duration": 1380,
        "start_time": "2022-08-29T01:03:56.821Z"
      },
      {
        "duration": 0,
        "start_time": "2022-08-29T01:03:58.203Z"
      },
      {
        "duration": 0,
        "start_time": "2022-08-29T01:03:58.204Z"
      },
      {
        "duration": 0,
        "start_time": "2022-08-29T01:03:58.205Z"
      },
      {
        "duration": 0,
        "start_time": "2022-08-29T01:03:58.206Z"
      },
      {
        "duration": 0,
        "start_time": "2022-08-29T01:03:58.207Z"
      },
      {
        "duration": 0,
        "start_time": "2022-08-29T01:03:58.207Z"
      },
      {
        "duration": 0,
        "start_time": "2022-08-29T01:03:58.208Z"
      },
      {
        "duration": 23,
        "start_time": "2022-08-29T01:04:09.028Z"
      },
      {
        "duration": 15,
        "start_time": "2022-08-29T01:04:10.912Z"
      },
      {
        "duration": 18,
        "start_time": "2022-08-29T01:04:13.941Z"
      },
      {
        "duration": 6,
        "start_time": "2022-08-29T01:04:14.996Z"
      },
      {
        "duration": 13,
        "start_time": "2022-08-29T01:04:18.331Z"
      },
      {
        "duration": 4,
        "start_time": "2022-08-29T01:04:41.003Z"
      },
      {
        "duration": 4,
        "start_time": "2022-08-29T01:05:28.513Z"
      },
      {
        "duration": 810,
        "start_time": "2022-08-29T13:19:24.274Z"
      },
      {
        "duration": 5,
        "start_time": "2022-08-29T13:19:25.775Z"
      },
      {
        "duration": 31,
        "start_time": "2022-08-29T13:19:26.719Z"
      },
      {
        "duration": 29,
        "start_time": "2022-08-29T13:19:27.922Z"
      },
      {
        "duration": 8,
        "start_time": "2022-08-29T13:19:28.820Z"
      },
      {
        "duration": 16,
        "start_time": "2022-08-29T13:19:29.263Z"
      },
      {
        "duration": 18,
        "start_time": "2022-08-29T13:19:30.018Z"
      },
      {
        "duration": 98,
        "start_time": "2022-08-29T13:19:30.737Z"
      },
      {
        "duration": 5,
        "start_time": "2022-08-29T13:19:31.475Z"
      },
      {
        "duration": 7,
        "start_time": "2022-08-29T13:19:32.219Z"
      },
      {
        "duration": 6,
        "start_time": "2022-08-29T13:19:33.045Z"
      },
      {
        "duration": 20,
        "start_time": "2022-08-29T13:19:34.030Z"
      },
      {
        "duration": 6,
        "start_time": "2022-08-29T13:19:35.143Z"
      },
      {
        "duration": 9,
        "start_time": "2022-08-29T13:19:36.134Z"
      },
      {
        "duration": 6,
        "start_time": "2022-08-29T13:19:37.156Z"
      },
      {
        "duration": 8,
        "start_time": "2022-08-29T13:19:38.017Z"
      },
      {
        "duration": 6,
        "start_time": "2022-08-29T13:19:38.965Z"
      },
      {
        "duration": 7,
        "start_time": "2022-08-29T13:19:40.656Z"
      },
      {
        "duration": 8,
        "start_time": "2022-08-29T13:19:41.667Z"
      },
      {
        "duration": 8,
        "start_time": "2022-08-29T13:19:42.777Z"
      },
      {
        "duration": 14,
        "start_time": "2022-08-29T13:19:43.722Z"
      },
      {
        "duration": 9,
        "start_time": "2022-08-29T13:19:44.682Z"
      },
      {
        "duration": 7,
        "start_time": "2022-08-29T13:19:45.540Z"
      },
      {
        "duration": 35,
        "start_time": "2022-08-29T13:19:47.027Z"
      },
      {
        "duration": 12,
        "start_time": "2022-08-29T13:19:48.334Z"
      },
      {
        "duration": 7,
        "start_time": "2022-08-29T13:19:48.679Z"
      },
      {
        "duration": 6,
        "start_time": "2022-08-29T13:19:48.956Z"
      },
      {
        "duration": 14,
        "start_time": "2022-08-29T13:19:49.211Z"
      },
      {
        "duration": 20,
        "start_time": "2022-08-29T13:19:49.419Z"
      },
      {
        "duration": 10,
        "start_time": "2022-08-29T13:19:49.640Z"
      },
      {
        "duration": 4,
        "start_time": "2022-08-29T13:19:50.122Z"
      },
      {
        "duration": 10,
        "start_time": "2022-08-29T13:19:50.337Z"
      },
      {
        "duration": 16,
        "start_time": "2022-08-29T13:19:50.585Z"
      },
      {
        "duration": 6,
        "start_time": "2022-08-29T13:19:50.841Z"
      },
      {
        "duration": 14,
        "start_time": "2022-08-29T13:19:51.083Z"
      },
      {
        "duration": 13,
        "start_time": "2022-08-29T13:19:51.340Z"
      },
      {
        "duration": 11,
        "start_time": "2022-08-29T13:19:52.047Z"
      },
      {
        "duration": 7,
        "start_time": "2022-08-29T13:19:53.423Z"
      },
      {
        "duration": 9,
        "start_time": "2022-08-29T13:19:53.758Z"
      },
      {
        "duration": 28,
        "start_time": "2022-08-29T13:19:54.518Z"
      },
      {
        "duration": 10,
        "start_time": "2022-08-29T13:19:54.940Z"
      },
      {
        "duration": 42,
        "start_time": "2022-08-29T13:19:55.680Z"
      },
      {
        "duration": 23,
        "start_time": "2022-08-29T13:19:56.530Z"
      },
      {
        "duration": 5,
        "start_time": "2022-08-29T13:20:00.155Z"
      },
      {
        "duration": 23,
        "start_time": "2022-08-29T13:20:00.788Z"
      },
      {
        "duration": 6,
        "start_time": "2022-08-29T13:20:01.143Z"
      },
      {
        "duration": 13,
        "start_time": "2022-08-29T13:20:01.647Z"
      },
      {
        "duration": 7,
        "start_time": "2022-08-29T13:20:02.158Z"
      },
      {
        "duration": 5,
        "start_time": "2022-08-29T13:20:03.166Z"
      },
      {
        "duration": 49,
        "start_time": "2022-08-29T13:20:03.698Z"
      },
      {
        "duration": 9,
        "start_time": "2022-08-29T13:20:04.222Z"
      },
      {
        "duration": 5,
        "start_time": "2022-08-29T13:20:04.475Z"
      },
      {
        "duration": 11,
        "start_time": "2022-08-29T13:20:05.343Z"
      },
      {
        "duration": 6,
        "start_time": "2022-08-29T13:20:05.615Z"
      },
      {
        "duration": 7,
        "start_time": "2022-08-29T13:20:06.454Z"
      },
      {
        "duration": 3244,
        "start_time": "2022-08-29T13:20:06.948Z"
      },
      {
        "duration": 19,
        "start_time": "2022-08-29T13:20:10.195Z"
      },
      {
        "duration": 51,
        "start_time": "2022-08-29T13:20:10.216Z"
      },
      {
        "duration": 20,
        "start_time": "2022-08-29T13:20:10.269Z"
      },
      {
        "duration": 94,
        "start_time": "2022-08-29T13:20:10.292Z"
      },
      {
        "duration": 4,
        "start_time": "2022-08-29T13:20:10.387Z"
      },
      {
        "duration": 356,
        "start_time": "2022-08-29T13:20:10.394Z"
      },
      {
        "duration": 8,
        "start_time": "2022-08-29T13:20:10.752Z"
      },
      {
        "duration": 16,
        "start_time": "2022-08-29T13:20:11.386Z"
      },
      {
        "duration": 8,
        "start_time": "2022-08-29T13:20:12.241Z"
      },
      {
        "duration": 9,
        "start_time": "2022-08-29T13:20:12.499Z"
      },
      {
        "duration": 44,
        "start_time": "2022-08-29T13:20:13.391Z"
      },
      {
        "duration": 3,
        "start_time": "2022-08-29T13:20:13.939Z"
      },
      {
        "duration": 5,
        "start_time": "2022-08-29T13:20:14.163Z"
      },
      {
        "duration": 16,
        "start_time": "2022-08-29T13:20:15.124Z"
      },
      {
        "duration": 8,
        "start_time": "2022-08-29T13:20:15.758Z"
      },
      {
        "duration": 8,
        "start_time": "2022-08-29T13:20:16.047Z"
      },
      {
        "duration": 16,
        "start_time": "2022-08-29T13:20:17.292Z"
      },
      {
        "duration": 20,
        "start_time": "2022-08-29T13:20:19.127Z"
      },
      {
        "duration": 13,
        "start_time": "2022-08-29T13:20:19.426Z"
      },
      {
        "duration": 3,
        "start_time": "2022-08-29T13:20:19.745Z"
      },
      {
        "duration": 23,
        "start_time": "2022-08-29T13:20:20.288Z"
      },
      {
        "duration": 8,
        "start_time": "2022-08-29T13:20:20.843Z"
      },
      {
        "duration": 21,
        "start_time": "2022-08-29T13:20:22.541Z"
      },
      {
        "duration": 24,
        "start_time": "2022-08-29T13:20:23.426Z"
      },
      {
        "duration": 53,
        "start_time": "2022-08-29T13:20:24.188Z"
      },
      {
        "duration": 7,
        "start_time": "2022-08-29T13:20:25.027Z"
      },
      {
        "duration": 1199,
        "start_time": "2022-08-29T13:20:25.663Z"
      },
      {
        "duration": 6,
        "start_time": "2022-08-29T13:20:26.865Z"
      },
      {
        "duration": 17,
        "start_time": "2022-08-29T13:20:27.051Z"
      },
      {
        "duration": 18,
        "start_time": "2022-08-29T13:20:27.356Z"
      },
      {
        "duration": 37,
        "start_time": "2022-08-29T13:20:28.387Z"
      },
      {
        "duration": 18,
        "start_time": "2022-08-29T13:20:29.345Z"
      },
      {
        "duration": 25,
        "start_time": "2022-08-29T13:20:32.130Z"
      },
      {
        "duration": 48,
        "start_time": "2022-08-29T13:20:35.889Z"
      },
      {
        "duration": 32,
        "start_time": "2022-08-29T13:20:41.134Z"
      },
      {
        "duration": 81,
        "start_time": "2022-08-29T13:20:46.243Z"
      },
      {
        "duration": 34,
        "start_time": "2022-08-29T13:21:13.577Z"
      },
      {
        "duration": 32,
        "start_time": "2022-08-29T13:21:14.431Z"
      },
      {
        "duration": 40,
        "start_time": "2022-08-29T13:21:17.938Z"
      },
      {
        "duration": 37,
        "start_time": "2022-08-29T13:21:40.279Z"
      },
      {
        "duration": 39,
        "start_time": "2022-08-29T13:21:42.730Z"
      },
      {
        "duration": 16,
        "start_time": "2022-08-29T13:21:44.633Z"
      },
      {
        "duration": 5,
        "start_time": "2022-08-29T13:21:50.493Z"
      },
      {
        "duration": 5,
        "start_time": "2022-08-29T13:22:40.468Z"
      },
      {
        "duration": 28,
        "start_time": "2022-08-29T13:22:45.826Z"
      },
      {
        "duration": 18,
        "start_time": "2022-08-29T13:25:13.435Z"
      },
      {
        "duration": 31,
        "start_time": "2022-08-29T13:25:24.222Z"
      },
      {
        "duration": 17,
        "start_time": "2022-08-29T13:25:48.573Z"
      },
      {
        "duration": 6,
        "start_time": "2022-08-29T13:29:18.439Z"
      },
      {
        "duration": 10,
        "start_time": "2022-08-29T13:29:38.426Z"
      },
      {
        "duration": 17,
        "start_time": "2022-08-29T13:29:39.169Z"
      },
      {
        "duration": 99,
        "start_time": "2022-08-29T13:30:36.950Z"
      },
      {
        "duration": 7,
        "start_time": "2022-08-29T13:30:37.891Z"
      },
      {
        "duration": 14,
        "start_time": "2022-08-29T13:30:38.364Z"
      },
      {
        "duration": 35,
        "start_time": "2022-08-29T13:30:38.928Z"
      },
      {
        "duration": 6,
        "start_time": "2022-08-29T13:30:39.363Z"
      },
      {
        "duration": 32,
        "start_time": "2022-08-29T13:30:39.587Z"
      },
      {
        "duration": 21,
        "start_time": "2022-08-29T13:30:39.980Z"
      },
      {
        "duration": 134,
        "start_time": "2022-08-29T13:30:40.406Z"
      },
      {
        "duration": 6,
        "start_time": "2022-08-29T13:30:40.807Z"
      },
      {
        "duration": 14,
        "start_time": "2022-08-29T13:30:41.233Z"
      },
      {
        "duration": 7,
        "start_time": "2022-08-29T13:30:42.881Z"
      },
      {
        "duration": 65,
        "start_time": "2022-08-29T13:30:42.891Z"
      },
      {
        "duration": 19,
        "start_time": "2022-08-29T13:30:42.958Z"
      },
      {
        "duration": 31,
        "start_time": "2022-08-29T13:30:42.979Z"
      },
      {
        "duration": 7,
        "start_time": "2022-08-29T13:30:43.238Z"
      },
      {
        "duration": 6,
        "start_time": "2022-08-29T13:30:43.658Z"
      },
      {
        "duration": 6,
        "start_time": "2022-08-29T13:30:44.074Z"
      },
      {
        "duration": 7,
        "start_time": "2022-08-29T13:30:44.656Z"
      },
      {
        "duration": 9,
        "start_time": "2022-08-29T13:30:45.277Z"
      },
      {
        "duration": 22,
        "start_time": "2022-08-29T13:30:45.734Z"
      },
      {
        "duration": 11,
        "start_time": "2022-08-29T13:30:46.153Z"
      },
      {
        "duration": 12,
        "start_time": "2022-08-29T13:30:46.563Z"
      },
      {
        "duration": 8,
        "start_time": "2022-08-29T13:30:46.976Z"
      },
      {
        "duration": 42,
        "start_time": "2022-08-29T13:30:47.635Z"
      },
      {
        "duration": 12,
        "start_time": "2022-08-29T13:30:48.048Z"
      },
      {
        "duration": 17,
        "start_time": "2022-08-29T13:30:48.248Z"
      },
      {
        "duration": 8,
        "start_time": "2022-08-29T13:30:48.481Z"
      },
      {
        "duration": 10,
        "start_time": "2022-08-29T13:30:48.678Z"
      },
      {
        "duration": 12,
        "start_time": "2022-08-29T13:30:48.922Z"
      },
      {
        "duration": 12,
        "start_time": "2022-08-29T13:30:49.146Z"
      },
      {
        "duration": 3,
        "start_time": "2022-08-29T13:30:49.550Z"
      },
      {
        "duration": 8,
        "start_time": "2022-08-29T13:30:49.773Z"
      },
      {
        "duration": 15,
        "start_time": "2022-08-29T13:30:50.006Z"
      },
      {
        "duration": 10,
        "start_time": "2022-08-29T13:30:50.222Z"
      },
      {
        "duration": 13,
        "start_time": "2022-08-29T13:30:50.443Z"
      },
      {
        "duration": 11,
        "start_time": "2022-08-29T13:30:50.678Z"
      },
      {
        "duration": 12,
        "start_time": "2022-08-29T13:30:50.881Z"
      },
      {
        "duration": 10,
        "start_time": "2022-08-29T13:30:51.322Z"
      },
      {
        "duration": 7,
        "start_time": "2022-08-29T13:30:51.559Z"
      },
      {
        "duration": 12,
        "start_time": "2022-08-29T13:30:52.192Z"
      },
      {
        "duration": 8,
        "start_time": "2022-08-29T13:30:52.426Z"
      },
      {
        "duration": 17,
        "start_time": "2022-08-29T13:30:52.663Z"
      },
      {
        "duration": 30,
        "start_time": "2022-08-29T13:30:52.894Z"
      },
      {
        "duration": 6,
        "start_time": "2022-08-29T13:30:55.482Z"
      },
      {
        "duration": 10,
        "start_time": "2022-08-29T13:30:55.750Z"
      },
      {
        "duration": 6,
        "start_time": "2022-08-29T13:30:55.958Z"
      },
      {
        "duration": 12,
        "start_time": "2022-08-29T13:30:56.343Z"
      },
      {
        "duration": 5,
        "start_time": "2022-08-29T13:30:56.743Z"
      },
      {
        "duration": 6,
        "start_time": "2022-08-29T13:30:57.543Z"
      },
      {
        "duration": 24,
        "start_time": "2022-08-29T13:30:57.952Z"
      },
      {
        "duration": 5,
        "start_time": "2022-08-29T13:30:58.342Z"
      },
      {
        "duration": 5,
        "start_time": "2022-08-29T13:30:58.544Z"
      },
      {
        "duration": 10,
        "start_time": "2022-08-29T13:30:59.168Z"
      },
      {
        "duration": 4,
        "start_time": "2022-08-29T13:30:59.379Z"
      },
      {
        "duration": 8,
        "start_time": "2022-08-29T13:31:00.036Z"
      },
      {
        "duration": 3154,
        "start_time": "2022-08-29T13:31:00.466Z"
      },
      {
        "duration": 23,
        "start_time": "2022-08-29T13:31:03.623Z"
      },
      {
        "duration": 13,
        "start_time": "2022-08-29T13:31:03.651Z"
      },
      {
        "duration": 13,
        "start_time": "2022-08-29T13:31:03.666Z"
      },
      {
        "duration": 26,
        "start_time": "2022-08-29T13:31:03.680Z"
      },
      {
        "duration": 43,
        "start_time": "2022-08-29T13:31:03.708Z"
      },
      {
        "duration": 264,
        "start_time": "2022-08-29T13:31:03.753Z"
      },
      {
        "duration": 13,
        "start_time": "2022-08-29T13:31:04.021Z"
      },
      {
        "duration": 6,
        "start_time": "2022-08-29T13:31:04.582Z"
      },
      {
        "duration": 9,
        "start_time": "2022-08-29T13:31:05.341Z"
      },
      {
        "duration": 8,
        "start_time": "2022-08-29T13:31:05.631Z"
      },
      {
        "duration": 15,
        "start_time": "2022-08-29T13:31:06.342Z"
      },
      {
        "duration": 5,
        "start_time": "2022-08-29T13:31:06.822Z"
      },
      {
        "duration": 5,
        "start_time": "2022-08-29T13:31:07.058Z"
      },
      {
        "duration": 15,
        "start_time": "2022-08-29T13:31:07.822Z"
      },
      {
        "duration": 10,
        "start_time": "2022-08-29T13:31:13.419Z"
      },
      {
        "duration": 15,
        "start_time": "2022-08-29T13:31:13.830Z"
      },
      {
        "duration": 12,
        "start_time": "2022-08-29T13:31:16.624Z"
      },
      {
        "duration": 15,
        "start_time": "2022-08-29T13:31:17.861Z"
      },
      {
        "duration": 9,
        "start_time": "2022-08-29T13:31:18.118Z"
      },
      {
        "duration": 9,
        "start_time": "2022-08-29T13:31:18.623Z"
      },
      {
        "duration": 18,
        "start_time": "2022-08-29T13:31:19.390Z"
      },
      {
        "duration": 19,
        "start_time": "2022-08-29T13:31:19.697Z"
      },
      {
        "duration": 23,
        "start_time": "2022-08-29T13:31:20.832Z"
      },
      {
        "duration": 26,
        "start_time": "2022-08-29T13:31:21.406Z"
      },
      {
        "duration": 34,
        "start_time": "2022-08-29T13:31:21.919Z"
      },
      {
        "duration": 10,
        "start_time": "2022-08-29T13:31:22.821Z"
      },
      {
        "duration": 1080,
        "start_time": "2022-08-29T13:31:23.657Z"
      },
      {
        "duration": 8,
        "start_time": "2022-08-29T13:31:24.739Z"
      },
      {
        "duration": 20,
        "start_time": "2022-08-29T13:31:25.939Z"
      },
      {
        "duration": 47,
        "start_time": "2022-08-29T13:31:26.395Z"
      },
      {
        "duration": 19,
        "start_time": "2022-08-29T13:31:26.864Z"
      },
      {
        "duration": 18,
        "start_time": "2022-08-29T13:31:27.954Z"
      },
      {
        "duration": 18,
        "start_time": "2022-08-29T13:31:34.450Z"
      },
      {
        "duration": 42,
        "start_time": "2022-08-29T13:31:38.306Z"
      },
      {
        "duration": 30,
        "start_time": "2022-08-29T13:31:41.740Z"
      },
      {
        "duration": 27,
        "start_time": "2022-08-29T13:31:43.048Z"
      },
      {
        "duration": 9,
        "start_time": "2022-08-29T13:31:45.367Z"
      },
      {
        "duration": 7,
        "start_time": "2022-08-29T13:31:48.036Z"
      },
      {
        "duration": 13,
        "start_time": "2022-08-29T13:31:59.935Z"
      },
      {
        "duration": 23,
        "start_time": "2022-08-29T13:32:03.647Z"
      },
      {
        "duration": 33,
        "start_time": "2022-08-29T13:32:27.131Z"
      },
      {
        "duration": 4,
        "start_time": "2022-08-29T13:33:22.719Z"
      },
      {
        "duration": 19,
        "start_time": "2022-08-29T13:33:24.247Z"
      },
      {
        "duration": 10,
        "start_time": "2022-08-29T13:34:11.888Z"
      },
      {
        "duration": 11,
        "start_time": "2022-08-29T13:34:12.779Z"
      },
      {
        "duration": 25,
        "start_time": "2022-08-29T13:35:53.754Z"
      },
      {
        "duration": 31,
        "start_time": "2022-08-29T13:36:17.318Z"
      },
      {
        "duration": 21,
        "start_time": "2022-08-29T13:42:51.152Z"
      },
      {
        "duration": 256,
        "start_time": "2022-08-29T13:43:24.360Z"
      },
      {
        "duration": 41,
        "start_time": "2022-08-29T13:43:36.471Z"
      },
      {
        "duration": 3157,
        "start_time": "2022-08-29T13:46:11.863Z"
      },
      {
        "duration": 28,
        "start_time": "2022-08-29T13:47:33.141Z"
      },
      {
        "duration": 3165,
        "start_time": "2022-08-29T13:47:51.374Z"
      },
      {
        "duration": 2751,
        "start_time": "2022-08-29T13:48:08.619Z"
      },
      {
        "duration": 3328,
        "start_time": "2022-08-29T13:48:45.866Z"
      },
      {
        "duration": 3377,
        "start_time": "2022-08-29T13:48:58.035Z"
      },
      {
        "duration": 30,
        "start_time": "2022-08-29T13:49:56.047Z"
      },
      {
        "duration": 44,
        "start_time": "2022-08-29T13:50:12.674Z"
      },
      {
        "duration": 47,
        "start_time": "2022-08-29T13:52:44.015Z"
      },
      {
        "duration": 49,
        "start_time": "2022-08-29T13:52:51.490Z"
      },
      {
        "duration": 39,
        "start_time": "2022-08-29T13:53:06.923Z"
      },
      {
        "duration": 3061,
        "start_time": "2022-08-29T13:54:51.761Z"
      },
      {
        "duration": 2626,
        "start_time": "2022-08-29T13:55:18.619Z"
      },
      {
        "duration": 2580,
        "start_time": "2022-08-29T13:55:30.919Z"
      },
      {
        "duration": 2648,
        "start_time": "2022-08-29T13:55:48.011Z"
      },
      {
        "duration": 32,
        "start_time": "2022-08-29T14:46:43.738Z"
      },
      {
        "duration": 10,
        "start_time": "2022-08-29T15:00:13.171Z"
      },
      {
        "duration": 24,
        "start_time": "2022-08-29T15:01:12.128Z"
      },
      {
        "duration": 15,
        "start_time": "2022-08-29T15:01:33.510Z"
      },
      {
        "duration": 7,
        "start_time": "2022-08-29T15:01:47.121Z"
      },
      {
        "duration": 15,
        "start_time": "2022-08-29T15:02:22.083Z"
      },
      {
        "duration": 21,
        "start_time": "2022-08-29T15:02:34.084Z"
      },
      {
        "duration": 2377,
        "start_time": "2022-08-29T15:03:30.095Z"
      },
      {
        "duration": 2056,
        "start_time": "2022-08-29T15:03:55.226Z"
      },
      {
        "duration": 2226,
        "start_time": "2022-08-29T15:04:16.587Z"
      },
      {
        "duration": 7,
        "start_time": "2022-08-29T15:04:29.256Z"
      },
      {
        "duration": 2293,
        "start_time": "2022-08-29T15:06:34.838Z"
      },
      {
        "duration": 41,
        "start_time": "2022-08-29T15:06:50.493Z"
      },
      {
        "duration": 7,
        "start_time": "2022-08-29T15:06:59.379Z"
      },
      {
        "duration": 2359,
        "start_time": "2022-08-29T15:08:33.917Z"
      },
      {
        "duration": 7,
        "start_time": "2022-08-29T15:08:48.332Z"
      },
      {
        "duration": 62,
        "start_time": "2022-08-29T15:09:17.717Z"
      },
      {
        "duration": 6,
        "start_time": "2022-08-29T15:12:06.181Z"
      },
      {
        "duration": 7,
        "start_time": "2022-08-29T15:12:07.914Z"
      },
      {
        "duration": 24,
        "start_time": "2022-08-29T15:13:25.128Z"
      },
      {
        "duration": 14,
        "start_time": "2022-08-29T16:01:47.619Z"
      },
      {
        "duration": 79,
        "start_time": "2022-08-29T16:04:20.584Z"
      },
      {
        "duration": 5,
        "start_time": "2022-08-29T16:04:21.886Z"
      },
      {
        "duration": 16,
        "start_time": "2022-08-29T16:04:22.867Z"
      },
      {
        "duration": 15,
        "start_time": "2022-08-29T16:04:23.833Z"
      },
      {
        "duration": 4,
        "start_time": "2022-08-29T16:04:24.929Z"
      },
      {
        "duration": 19,
        "start_time": "2022-08-29T16:04:25.875Z"
      },
      {
        "duration": 15,
        "start_time": "2022-08-29T16:04:28.622Z"
      },
      {
        "duration": 90,
        "start_time": "2022-08-29T16:04:30.088Z"
      },
      {
        "duration": 8,
        "start_time": "2022-08-29T16:04:31.299Z"
      },
      {
        "duration": 6,
        "start_time": "2022-08-29T16:04:32.306Z"
      },
      {
        "duration": 6,
        "start_time": "2022-08-29T16:04:33.320Z"
      },
      {
        "duration": 5,
        "start_time": "2022-08-29T16:04:34.483Z"
      },
      {
        "duration": 6,
        "start_time": "2022-08-29T16:04:35.259Z"
      },
      {
        "duration": 6,
        "start_time": "2022-08-29T16:04:35.922Z"
      },
      {
        "duration": 5,
        "start_time": "2022-08-29T16:04:36.569Z"
      },
      {
        "duration": 5,
        "start_time": "2022-08-29T16:04:37.230Z"
      },
      {
        "duration": 10,
        "start_time": "2022-08-29T16:04:37.896Z"
      },
      {
        "duration": 7,
        "start_time": "2022-08-29T16:04:38.872Z"
      },
      {
        "duration": 9,
        "start_time": "2022-08-29T16:04:39.462Z"
      },
      {
        "duration": 12,
        "start_time": "2022-08-29T16:04:40.111Z"
      },
      {
        "duration": 8,
        "start_time": "2022-08-29T16:04:40.831Z"
      },
      {
        "duration": 12,
        "start_time": "2022-08-29T16:04:41.507Z"
      },
      {
        "duration": 7,
        "start_time": "2022-08-29T16:04:42.617Z"
      },
      {
        "duration": 22,
        "start_time": "2022-08-29T16:04:43.166Z"
      },
      {
        "duration": 9,
        "start_time": "2022-08-29T16:04:44.390Z"
      },
      {
        "duration": 11,
        "start_time": "2022-08-29T16:04:45.052Z"
      },
      {
        "duration": 7,
        "start_time": "2022-08-29T16:04:45.714Z"
      },
      {
        "duration": 8,
        "start_time": "2022-08-29T16:04:46.156Z"
      },
      {
        "duration": 9,
        "start_time": "2022-08-29T16:04:46.823Z"
      },
      {
        "duration": 9,
        "start_time": "2022-08-29T16:04:47.338Z"
      },
      {
        "duration": 4,
        "start_time": "2022-08-29T16:04:48.730Z"
      },
      {
        "duration": 7,
        "start_time": "2022-08-29T16:04:49.268Z"
      },
      {
        "duration": 11,
        "start_time": "2022-08-29T16:04:49.744Z"
      },
      {
        "duration": 7,
        "start_time": "2022-08-29T16:04:50.417Z"
      },
      {
        "duration": 11,
        "start_time": "2022-08-29T16:04:50.916Z"
      },
      {
        "duration": 11,
        "start_time": "2022-08-29T16:04:51.518Z"
      },
      {
        "duration": 15,
        "start_time": "2022-08-29T16:04:52.122Z"
      },
      {
        "duration": 6,
        "start_time": "2022-08-29T16:04:53.383Z"
      },
      {
        "duration": 5,
        "start_time": "2022-08-29T16:04:54.069Z"
      },
      {
        "duration": 5,
        "start_time": "2022-08-29T16:04:55.610Z"
      },
      {
        "duration": 5,
        "start_time": "2022-08-29T16:04:56.726Z"
      },
      {
        "duration": 33,
        "start_time": "2022-08-29T16:04:57.591Z"
      },
      {
        "duration": 13,
        "start_time": "2022-08-29T16:04:58.321Z"
      },
      {
        "duration": 7,
        "start_time": "2022-08-29T16:05:01.218Z"
      },
      {
        "duration": 21,
        "start_time": "2022-08-29T16:05:01.885Z"
      },
      {
        "duration": 6,
        "start_time": "2022-08-29T16:05:02.354Z"
      },
      {
        "duration": 12,
        "start_time": "2022-08-29T16:05:03.532Z"
      },
      {
        "duration": 6,
        "start_time": "2022-08-29T16:05:04.585Z"
      },
      {
        "duration": 9,
        "start_time": "2022-08-29T16:05:06.915Z"
      },
      {
        "duration": 22,
        "start_time": "2022-08-29T16:05:08.031Z"
      },
      {
        "duration": 4,
        "start_time": "2022-08-29T16:05:09.139Z"
      },
      {
        "duration": 6,
        "start_time": "2022-08-29T16:05:09.534Z"
      },
      {
        "duration": 9,
        "start_time": "2022-08-29T16:05:11.231Z"
      },
      {
        "duration": 11,
        "start_time": "2022-08-29T16:05:11.889Z"
      },
      {
        "duration": 6,
        "start_time": "2022-08-29T16:05:13.115Z"
      },
      {
        "duration": 2968,
        "start_time": "2022-08-29T16:05:14.191Z"
      },
      {
        "duration": 13,
        "start_time": "2022-08-29T16:05:17.161Z"
      },
      {
        "duration": 19,
        "start_time": "2022-08-29T16:05:17.176Z"
      },
      {
        "duration": 15,
        "start_time": "2022-08-29T16:05:18.251Z"
      },
      {
        "duration": 19,
        "start_time": "2022-08-29T16:05:19.489Z"
      },
      {
        "duration": 5,
        "start_time": "2022-08-29T16:05:20.238Z"
      },
      {
        "duration": 221,
        "start_time": "2022-08-29T16:05:21.019Z"
      },
      {
        "duration": 7,
        "start_time": "2022-08-29T16:05:21.332Z"
      },
      {
        "duration": 6,
        "start_time": "2022-08-29T16:05:22.581Z"
      },
      {
        "duration": 7,
        "start_time": "2022-08-29T16:05:24.135Z"
      },
      {
        "duration": 4,
        "start_time": "2022-08-29T16:05:24.736Z"
      },
      {
        "duration": 15,
        "start_time": "2022-08-29T16:05:26.250Z"
      },
      {
        "duration": 4,
        "start_time": "2022-08-29T16:05:27.206Z"
      },
      {
        "duration": 4,
        "start_time": "2022-08-29T16:05:27.535Z"
      },
      {
        "duration": 13,
        "start_time": "2022-08-29T16:05:28.710Z"
      },
      {
        "duration": 7,
        "start_time": "2022-08-29T16:05:29.537Z"
      },
      {
        "duration": 8,
        "start_time": "2022-08-29T16:05:29.886Z"
      },
      {
        "duration": 12,
        "start_time": "2022-08-29T16:05:31.852Z"
      },
      {
        "duration": 16,
        "start_time": "2022-08-29T16:05:33.427Z"
      },
      {
        "duration": 16,
        "start_time": "2022-08-29T16:05:34.011Z"
      },
      {
        "duration": 4,
        "start_time": "2022-08-29T16:05:34.418Z"
      },
      {
        "duration": 16,
        "start_time": "2022-08-29T16:05:35.007Z"
      },
      {
        "duration": 6,
        "start_time": "2022-08-29T16:05:35.417Z"
      },
      {
        "duration": 23,
        "start_time": "2022-08-29T16:05:37.230Z"
      },
      {
        "duration": 18,
        "start_time": "2022-08-29T16:05:39.026Z"
      },
      {
        "duration": 23,
        "start_time": "2022-08-29T16:05:40.917Z"
      },
      {
        "duration": 3,
        "start_time": "2022-08-29T16:06:39.862Z"
      },
      {
        "duration": 1019,
        "start_time": "2022-08-29T16:06:41.041Z"
      },
      {
        "duration": 6,
        "start_time": "2022-08-29T16:06:42.433Z"
      },
      {
        "duration": 24,
        "start_time": "2022-08-29T16:07:01.846Z"
      },
      {
        "duration": 34,
        "start_time": "2022-08-29T18:44:42.443Z"
      },
      {
        "duration": 29,
        "start_time": "2022-08-29T18:44:48.699Z"
      },
      {
        "duration": 10,
        "start_time": "2022-08-29T18:48:58.562Z"
      },
      {
        "duration": 75,
        "start_time": "2022-08-29T18:49:19.297Z"
      },
      {
        "duration": 7,
        "start_time": "2022-08-29T18:49:19.374Z"
      },
      {
        "duration": 19,
        "start_time": "2022-08-29T18:49:19.392Z"
      },
      {
        "duration": 26,
        "start_time": "2022-08-29T18:49:19.413Z"
      },
      {
        "duration": 4,
        "start_time": "2022-08-29T18:49:19.443Z"
      },
      {
        "duration": 53,
        "start_time": "2022-08-29T18:49:19.449Z"
      },
      {
        "duration": 16,
        "start_time": "2022-08-29T18:49:19.505Z"
      },
      {
        "duration": 82,
        "start_time": "2022-08-29T18:49:19.523Z"
      },
      {
        "duration": 5,
        "start_time": "2022-08-29T18:49:19.607Z"
      },
      {
        "duration": 9,
        "start_time": "2022-08-29T18:49:19.614Z"
      },
      {
        "duration": 13,
        "start_time": "2022-08-29T18:49:19.625Z"
      },
      {
        "duration": 10,
        "start_time": "2022-08-29T18:49:19.640Z"
      },
      {
        "duration": 7,
        "start_time": "2022-08-29T18:49:19.652Z"
      },
      {
        "duration": 31,
        "start_time": "2022-08-29T18:49:19.663Z"
      },
      {
        "duration": 6,
        "start_time": "2022-08-29T18:49:19.697Z"
      },
      {
        "duration": 9,
        "start_time": "2022-08-29T18:49:19.705Z"
      },
      {
        "duration": 11,
        "start_time": "2022-08-29T18:49:19.716Z"
      },
      {
        "duration": 9,
        "start_time": "2022-08-29T18:49:19.729Z"
      },
      {
        "duration": 11,
        "start_time": "2022-08-29T18:49:19.740Z"
      },
      {
        "duration": 40,
        "start_time": "2022-08-29T18:49:19.753Z"
      },
      {
        "duration": 11,
        "start_time": "2022-08-29T18:49:19.795Z"
      },
      {
        "duration": 17,
        "start_time": "2022-08-29T18:49:19.809Z"
      },
      {
        "duration": 9,
        "start_time": "2022-08-29T18:49:19.828Z"
      },
      {
        "duration": 25,
        "start_time": "2022-08-29T18:49:19.839Z"
      },
      {
        "duration": 29,
        "start_time": "2022-08-29T18:49:19.866Z"
      },
      {
        "duration": 9,
        "start_time": "2022-08-29T18:49:19.897Z"
      },
      {
        "duration": 9,
        "start_time": "2022-08-29T18:49:19.908Z"
      },
      {
        "duration": 13,
        "start_time": "2022-08-29T18:49:19.919Z"
      },
      {
        "duration": 10,
        "start_time": "2022-08-29T18:49:19.934Z"
      },
      {
        "duration": 11,
        "start_time": "2022-08-29T18:49:19.946Z"
      },
      {
        "duration": 35,
        "start_time": "2022-08-29T18:49:19.959Z"
      },
      {
        "duration": 12,
        "start_time": "2022-08-29T18:49:19.997Z"
      },
      {
        "duration": 12,
        "start_time": "2022-08-29T18:49:20.011Z"
      },
      {
        "duration": 13,
        "start_time": "2022-08-29T18:49:20.025Z"
      },
      {
        "duration": 18,
        "start_time": "2022-08-29T18:49:20.040Z"
      },
      {
        "duration": 41,
        "start_time": "2022-08-29T18:49:20.060Z"
      },
      {
        "duration": 15,
        "start_time": "2022-08-29T18:49:20.103Z"
      },
      {
        "duration": 16,
        "start_time": "2022-08-29T18:49:20.120Z"
      },
      {
        "duration": 6,
        "start_time": "2022-08-29T18:49:20.138Z"
      },
      {
        "duration": 11,
        "start_time": "2022-08-29T18:49:20.146Z"
      },
      {
        "duration": 6,
        "start_time": "2022-08-29T18:49:20.161Z"
      },
      {
        "duration": 37,
        "start_time": "2022-08-29T18:49:20.169Z"
      },
      {
        "duration": 14,
        "start_time": "2022-08-29T18:49:25.230Z"
      },
      {
        "duration": 7,
        "start_time": "2022-08-29T18:49:27.200Z"
      },
      {
        "duration": 12,
        "start_time": "2022-08-29T18:49:27.982Z"
      },
      {
        "duration": 8,
        "start_time": "2022-08-29T18:49:28.772Z"
      },
      {
        "duration": 17,
        "start_time": "2022-08-29T18:49:29.975Z"
      },
      {
        "duration": 8,
        "start_time": "2022-08-29T18:49:31.324Z"
      },
      {
        "duration": 6,
        "start_time": "2022-08-29T18:49:33.224Z"
      },
      {
        "duration": 36,
        "start_time": "2022-08-29T18:49:34.051Z"
      },
      {
        "duration": 5,
        "start_time": "2022-08-29T18:49:35.105Z"
      },
      {
        "duration": 6,
        "start_time": "2022-08-29T18:49:35.461Z"
      },
      {
        "duration": 11,
        "start_time": "2022-08-29T18:49:37.123Z"
      },
      {
        "duration": 5,
        "start_time": "2022-08-29T18:49:37.796Z"
      },
      {
        "duration": 8,
        "start_time": "2022-08-29T18:49:38.953Z"
      },
      {
        "duration": 2729,
        "start_time": "2022-08-29T18:49:40.022Z"
      },
      {
        "duration": 11,
        "start_time": "2022-08-29T18:49:42.754Z"
      },
      {
        "duration": 25,
        "start_time": "2022-08-29T18:49:42.767Z"
      },
      {
        "duration": 14,
        "start_time": "2022-08-29T18:49:43.868Z"
      },
      {
        "duration": 23,
        "start_time": "2022-08-29T18:49:47.107Z"
      },
      {
        "duration": 4,
        "start_time": "2022-08-29T18:49:48.354Z"
      },
      {
        "duration": 256,
        "start_time": "2022-08-29T18:49:49.124Z"
      },
      {
        "duration": 9,
        "start_time": "2022-08-29T18:49:49.818Z"
      },
      {
        "duration": 6,
        "start_time": "2022-08-29T18:49:51.029Z"
      },
      {
        "duration": 7,
        "start_time": "2022-08-29T18:49:51.659Z"
      },
      {
        "duration": 7,
        "start_time": "2022-08-29T18:49:51.992Z"
      },
      {
        "duration": 23,
        "start_time": "2022-08-29T18:49:53.579Z"
      },
      {
        "duration": 4,
        "start_time": "2022-08-29T18:49:54.516Z"
      },
      {
        "duration": 6,
        "start_time": "2022-08-29T18:49:54.889Z"
      },
      {
        "duration": 8,
        "start_time": "2022-08-29T18:49:56.288Z"
      },
      {
        "duration": 8,
        "start_time": "2022-08-29T18:49:57.310Z"
      },
      {
        "duration": 5,
        "start_time": "2022-08-29T18:49:57.642Z"
      },
      {
        "duration": 12,
        "start_time": "2022-08-29T18:49:59.565Z"
      },
      {
        "duration": 17,
        "start_time": "2022-08-29T18:50:01.230Z"
      },
      {
        "duration": 7,
        "start_time": "2022-08-29T18:50:01.977Z"
      },
      {
        "duration": 5,
        "start_time": "2022-08-29T18:50:02.636Z"
      },
      {
        "duration": 9,
        "start_time": "2022-08-29T18:50:02.995Z"
      },
      {
        "duration": 6,
        "start_time": "2022-08-29T18:50:03.350Z"
      },
      {
        "duration": 21,
        "start_time": "2022-08-29T18:50:04.852Z"
      },
      {
        "duration": 21,
        "start_time": "2022-08-29T18:50:06.067Z"
      },
      {
        "duration": 29,
        "start_time": "2022-08-29T18:50:07.230Z"
      },
      {
        "duration": 4,
        "start_time": "2022-08-29T18:50:08.452Z"
      },
      {
        "duration": 905,
        "start_time": "2022-08-29T18:50:09.422Z"
      },
      {
        "duration": 7,
        "start_time": "2022-08-29T18:50:10.722Z"
      },
      {
        "duration": 26,
        "start_time": "2022-08-29T18:50:11.957Z"
      },
      {
        "duration": 27,
        "start_time": "2022-08-29T18:50:12.452Z"
      },
      {
        "duration": 19,
        "start_time": "2022-08-29T18:50:12.979Z"
      },
      {
        "duration": 21,
        "start_time": "2022-08-29T18:50:13.618Z"
      },
      {
        "duration": 20,
        "start_time": "2022-08-29T18:50:16.306Z"
      },
      {
        "duration": 36,
        "start_time": "2022-08-29T18:50:20.617Z"
      },
      {
        "duration": 40,
        "start_time": "2022-08-29T18:50:22.470Z"
      },
      {
        "duration": 44,
        "start_time": "2022-08-29T18:50:24.930Z"
      },
      {
        "duration": 59,
        "start_time": "2022-08-29T18:50:54.412Z"
      },
      {
        "duration": 6,
        "start_time": "2022-08-29T18:50:55.661Z"
      },
      {
        "duration": 29,
        "start_time": "2022-08-29T18:50:55.990Z"
      },
      {
        "duration": 18,
        "start_time": "2022-08-29T18:50:56.740Z"
      },
      {
        "duration": 6,
        "start_time": "2022-08-29T18:50:57.420Z"
      },
      {
        "duration": 17,
        "start_time": "2022-08-29T18:50:57.759Z"
      },
      {
        "duration": 16,
        "start_time": "2022-08-29T18:50:58.467Z"
      },
      {
        "duration": 115,
        "start_time": "2022-08-29T18:50:59.274Z"
      },
      {
        "duration": 10,
        "start_time": "2022-08-29T18:50:59.941Z"
      },
      {
        "duration": 7,
        "start_time": "2022-08-29T18:51:00.561Z"
      },
      {
        "duration": 6,
        "start_time": "2022-08-29T18:51:01.217Z"
      },
      {
        "duration": 7,
        "start_time": "2022-08-29T18:51:01.832Z"
      },
      {
        "duration": 7,
        "start_time": "2022-08-29T18:51:02.445Z"
      },
      {
        "duration": 7,
        "start_time": "2022-08-29T18:51:03.037Z"
      },
      {
        "duration": 6,
        "start_time": "2022-08-29T18:51:03.608Z"
      },
      {
        "duration": 5,
        "start_time": "2022-08-29T18:51:04.179Z"
      },
      {
        "duration": 6,
        "start_time": "2022-08-29T18:51:04.784Z"
      },
      {
        "duration": 7,
        "start_time": "2022-08-29T18:51:05.768Z"
      },
      {
        "duration": 8,
        "start_time": "2022-08-29T18:51:06.370Z"
      },
      {
        "duration": 8,
        "start_time": "2022-08-29T18:51:06.981Z"
      },
      {
        "duration": 12,
        "start_time": "2022-08-29T18:51:07.575Z"
      },
      {
        "duration": 13,
        "start_time": "2022-08-29T18:51:08.242Z"
      },
      {
        "duration": 10,
        "start_time": "2022-08-29T18:51:08.850Z"
      },
      {
        "duration": 36,
        "start_time": "2022-08-29T18:51:09.797Z"
      },
      {
        "duration": 7,
        "start_time": "2022-08-29T18:51:10.562Z"
      },
      {
        "duration": 14,
        "start_time": "2022-08-29T18:51:10.832Z"
      },
      {
        "duration": 8,
        "start_time": "2022-08-29T18:51:11.142Z"
      },
      {
        "duration": 9,
        "start_time": "2022-08-29T18:51:11.424Z"
      },
      {
        "duration": 12,
        "start_time": "2022-08-29T18:51:11.734Z"
      },
      {
        "duration": 12,
        "start_time": "2022-08-29T18:51:12.008Z"
      },
      {
        "duration": 4,
        "start_time": "2022-08-29T18:51:12.637Z"
      },
      {
        "duration": 10,
        "start_time": "2022-08-29T18:51:12.937Z"
      },
      {
        "duration": 13,
        "start_time": "2022-08-29T18:51:13.242Z"
      },
      {
        "duration": 10,
        "start_time": "2022-08-29T18:51:13.528Z"
      },
      {
        "duration": 12,
        "start_time": "2022-08-29T18:51:13.848Z"
      },
      {
        "duration": 12,
        "start_time": "2022-08-29T18:51:14.145Z"
      },
      {
        "duration": 17,
        "start_time": "2022-08-29T18:51:14.424Z"
      },
      {
        "duration": 9,
        "start_time": "2022-08-29T18:51:14.995Z"
      },
      {
        "duration": 7,
        "start_time": "2022-08-29T18:51:15.292Z"
      },
      {
        "duration": 5,
        "start_time": "2022-08-29T18:51:15.805Z"
      },
      {
        "duration": 7,
        "start_time": "2022-08-29T18:51:16.096Z"
      },
      {
        "duration": 28,
        "start_time": "2022-08-29T18:51:16.363Z"
      },
      {
        "duration": 22,
        "start_time": "2022-08-29T18:51:16.642Z"
      },
      {
        "duration": 8,
        "start_time": "2022-08-29T18:51:18.374Z"
      },
      {
        "duration": 17,
        "start_time": "2022-08-29T18:51:18.751Z"
      },
      {
        "duration": 9,
        "start_time": "2022-08-29T18:51:19.063Z"
      },
      {
        "duration": 19,
        "start_time": "2022-08-29T18:51:19.664Z"
      },
      {
        "duration": 7,
        "start_time": "2022-08-29T18:51:20.271Z"
      },
      {
        "duration": 8,
        "start_time": "2022-08-29T18:51:21.479Z"
      },
      {
        "duration": 26,
        "start_time": "2022-08-29T18:51:22.883Z"
      },
      {
        "duration": 6,
        "start_time": "2022-08-29T18:51:25.559Z"
      },
      {
        "duration": 6,
        "start_time": "2022-08-29T18:51:26.077Z"
      },
      {
        "duration": 13,
        "start_time": "2022-08-29T18:51:39.327Z"
      },
      {
        "duration": 8,
        "start_time": "2022-08-29T18:51:40.447Z"
      },
      {
        "duration": 9,
        "start_time": "2022-08-29T18:51:42.521Z"
      },
      {
        "duration": 2650,
        "start_time": "2022-08-29T18:51:43.800Z"
      },
      {
        "duration": 18,
        "start_time": "2022-08-29T18:51:46.453Z"
      },
      {
        "duration": 10,
        "start_time": "2022-08-29T18:51:48.176Z"
      },
      {
        "duration": 19,
        "start_time": "2022-08-29T18:51:50.757Z"
      },
      {
        "duration": 25,
        "start_time": "2022-08-29T18:51:52.621Z"
      },
      {
        "duration": 5,
        "start_time": "2022-08-29T18:51:53.679Z"
      },
      {
        "duration": 256,
        "start_time": "2022-08-29T18:51:54.551Z"
      },
      {
        "duration": 11,
        "start_time": "2022-08-29T18:51:55.300Z"
      },
      {
        "duration": 7,
        "start_time": "2022-08-29T18:51:57.234Z"
      },
      {
        "duration": 7,
        "start_time": "2022-08-29T18:51:58.343Z"
      },
      {
        "duration": 8,
        "start_time": "2022-08-29T18:51:58.751Z"
      },
      {
        "duration": 22,
        "start_time": "2022-08-29T18:52:00.824Z"
      },
      {
        "duration": 6,
        "start_time": "2022-08-29T18:52:01.931Z"
      },
      {
        "duration": 6,
        "start_time": "2022-08-29T18:52:02.383Z"
      },
      {
        "duration": 13,
        "start_time": "2022-08-29T18:52:04.138Z"
      },
      {
        "duration": 9,
        "start_time": "2022-08-29T18:52:06.269Z"
      },
      {
        "duration": 7,
        "start_time": "2022-08-29T18:52:06.767Z"
      },
      {
        "duration": 10,
        "start_time": "2022-08-29T18:52:16.240Z"
      },
      {
        "duration": 24,
        "start_time": "2022-08-29T18:52:17.906Z"
      },
      {
        "duration": 7,
        "start_time": "2022-08-29T18:52:18.612Z"
      },
      {
        "duration": 5,
        "start_time": "2022-08-29T18:52:19.311Z"
      },
      {
        "duration": 12,
        "start_time": "2022-08-29T18:52:22.642Z"
      },
      {
        "duration": 8,
        "start_time": "2022-08-29T18:52:24.719Z"
      },
      {
        "duration": 26,
        "start_time": "2022-08-29T18:52:32.161Z"
      },
      {
        "duration": 28,
        "start_time": "2022-08-29T18:52:33.266Z"
      },
      {
        "duration": 32,
        "start_time": "2022-08-29T18:52:34.483Z"
      },
      {
        "duration": 4,
        "start_time": "2022-08-29T18:52:35.951Z"
      },
      {
        "duration": 896,
        "start_time": "2022-08-29T18:52:36.716Z"
      },
      {
        "duration": 9,
        "start_time": "2022-08-29T18:52:38.432Z"
      },
      {
        "duration": 28,
        "start_time": "2022-08-29T18:52:41.267Z"
      },
      {
        "duration": 21,
        "start_time": "2022-08-29T18:52:42.783Z"
      },
      {
        "duration": 20,
        "start_time": "2022-08-29T18:52:43.694Z"
      },
      {
        "duration": 27,
        "start_time": "2022-08-29T18:52:44.416Z"
      },
      {
        "duration": 35,
        "start_time": "2022-08-29T18:53:14.509Z"
      },
      {
        "duration": 30,
        "start_time": "2022-08-29T18:53:17.205Z"
      },
      {
        "duration": 5,
        "start_time": "2022-08-29T18:53:57.097Z"
      },
      {
        "duration": 6,
        "start_time": "2022-08-29T18:53:57.669Z"
      },
      {
        "duration": 31,
        "start_time": "2022-08-29T18:53:59.397Z"
      },
      {
        "duration": 35,
        "start_time": "2022-08-29T18:55:06.068Z"
      },
      {
        "duration": 7,
        "start_time": "2022-08-29T18:55:30.413Z"
      },
      {
        "duration": 43,
        "start_time": "2022-08-29T18:55:48.748Z"
      },
      {
        "duration": 6,
        "start_time": "2022-08-29T19:09:17.958Z"
      },
      {
        "duration": 33,
        "start_time": "2022-08-29T19:10:27.229Z"
      },
      {
        "duration": 26,
        "start_time": "2022-08-29T19:11:15.762Z"
      },
      {
        "duration": 6,
        "start_time": "2022-08-29T19:11:16.230Z"
      },
      {
        "duration": 8,
        "start_time": "2022-08-29T19:11:18.525Z"
      },
      {
        "duration": 9,
        "start_time": "2022-08-29T19:11:19.224Z"
      },
      {
        "duration": 6,
        "start_time": "2022-08-29T19:11:19.652Z"
      },
      {
        "duration": 12,
        "start_time": "2022-08-29T19:11:20.234Z"
      },
      {
        "duration": 7,
        "start_time": "2022-08-29T19:11:20.747Z"
      },
      {
        "duration": 7,
        "start_time": "2022-08-29T19:11:21.731Z"
      },
      {
        "duration": 21,
        "start_time": "2022-08-29T19:11:22.175Z"
      },
      {
        "duration": 5,
        "start_time": "2022-08-29T19:11:22.614Z"
      },
      {
        "duration": 6,
        "start_time": "2022-08-29T19:11:22.854Z"
      },
      {
        "duration": 12,
        "start_time": "2022-08-29T19:11:23.558Z"
      },
      {
        "duration": 5,
        "start_time": "2022-08-29T19:11:23.829Z"
      },
      {
        "duration": 9,
        "start_time": "2022-08-29T19:11:24.621Z"
      },
      {
        "duration": 8,
        "start_time": "2022-08-29T19:11:25.376Z"
      },
      {
        "duration": 13,
        "start_time": "2022-08-29T19:11:25.590Z"
      },
      {
        "duration": 10,
        "start_time": "2022-08-29T19:11:26.048Z"
      },
      {
        "duration": 10,
        "start_time": "2022-08-29T19:11:26.920Z"
      },
      {
        "duration": 22,
        "start_time": "2022-08-29T19:11:27.614Z"
      },
      {
        "duration": 3,
        "start_time": "2022-08-29T19:11:28.127Z"
      },
      {
        "duration": 219,
        "start_time": "2022-08-29T19:11:28.666Z"
      },
      {
        "duration": 9,
        "start_time": "2022-08-29T19:11:28.924Z"
      },
      {
        "duration": 7,
        "start_time": "2022-08-29T19:11:30.175Z"
      },
      {
        "duration": 8,
        "start_time": "2022-08-29T19:11:30.730Z"
      },
      {
        "duration": 7,
        "start_time": "2022-08-29T19:11:30.956Z"
      },
      {
        "duration": 16,
        "start_time": "2022-08-29T19:11:31.705Z"
      },
      {
        "duration": 4,
        "start_time": "2022-08-29T19:11:32.222Z"
      },
      {
        "duration": 5,
        "start_time": "2022-08-29T19:11:32.487Z"
      },
      {
        "duration": 8,
        "start_time": "2022-08-29T19:11:33.300Z"
      },
      {
        "duration": 9,
        "start_time": "2022-08-29T19:11:33.904Z"
      },
      {
        "duration": 6,
        "start_time": "2022-08-29T19:11:34.211Z"
      },
      {
        "duration": 11,
        "start_time": "2022-08-29T19:11:37.129Z"
      },
      {
        "duration": 21,
        "start_time": "2022-08-29T19:11:38.570Z"
      },
      {
        "duration": 7,
        "start_time": "2022-08-29T19:11:39.227Z"
      },
      {
        "duration": 4,
        "start_time": "2022-08-29T19:11:39.753Z"
      },
      {
        "duration": 11,
        "start_time": "2022-08-29T19:11:40.288Z"
      },
      {
        "duration": 6,
        "start_time": "2022-08-29T19:11:40.828Z"
      },
      {
        "duration": 24,
        "start_time": "2022-08-29T19:11:45.996Z"
      },
      {
        "duration": 21,
        "start_time": "2022-08-29T19:11:47.083Z"
      },
      {
        "duration": 33,
        "start_time": "2022-08-29T19:11:48.762Z"
      },
      {
        "duration": 3,
        "start_time": "2022-08-29T19:11:53.349Z"
      },
      {
        "duration": 247,
        "start_time": "2022-08-29T19:11:54.893Z"
      },
      {
        "duration": 6,
        "start_time": "2022-08-29T19:11:56.051Z"
      },
      {
        "duration": 21,
        "start_time": "2022-08-29T19:12:02.222Z"
      },
      {
        "duration": 24,
        "start_time": "2022-08-29T19:12:02.639Z"
      },
      {
        "duration": 18,
        "start_time": "2022-08-29T19:12:03.072Z"
      },
      {
        "duration": 21,
        "start_time": "2022-08-29T19:12:03.871Z"
      },
      {
        "duration": 31,
        "start_time": "2022-08-29T19:14:06.610Z"
      },
      {
        "duration": 32,
        "start_time": "2022-08-29T19:14:12.294Z"
      },
      {
        "duration": 29,
        "start_time": "2022-08-29T19:14:12.770Z"
      },
      {
        "duration": 28,
        "start_time": "2022-08-29T19:14:14.372Z"
      },
      {
        "duration": 3,
        "start_time": "2022-08-29T21:42:51.032Z"
      },
      {
        "duration": 730,
        "start_time": "2022-08-29T21:42:59.759Z"
      },
      {
        "duration": 14,
        "start_time": "2022-08-29T21:43:12.295Z"
      },
      {
        "duration": 19,
        "start_time": "2022-08-29T21:43:32.490Z"
      },
      {
        "duration": 7,
        "start_time": "2022-08-30T00:56:28.604Z"
      },
      {
        "duration": 4,
        "start_time": "2022-08-30T00:56:46.894Z"
      },
      {
        "duration": 59,
        "start_time": "2022-08-30T00:56:59.846Z"
      },
      {
        "duration": 5,
        "start_time": "2022-08-30T00:56:59.907Z"
      },
      {
        "duration": 17,
        "start_time": "2022-08-30T00:56:59.913Z"
      },
      {
        "duration": 18,
        "start_time": "2022-08-30T00:56:59.932Z"
      },
      {
        "duration": 5,
        "start_time": "2022-08-30T00:56:59.953Z"
      },
      {
        "duration": 46,
        "start_time": "2022-08-30T00:56:59.959Z"
      },
      {
        "duration": 13,
        "start_time": "2022-08-30T00:57:00.007Z"
      },
      {
        "duration": 73,
        "start_time": "2022-08-30T00:57:00.021Z"
      },
      {
        "duration": 6,
        "start_time": "2022-08-30T00:57:00.095Z"
      },
      {
        "duration": 11,
        "start_time": "2022-08-30T00:57:00.102Z"
      },
      {
        "duration": 15,
        "start_time": "2022-08-30T00:57:00.115Z"
      },
      {
        "duration": 15,
        "start_time": "2022-08-30T00:57:00.132Z"
      },
      {
        "duration": 12,
        "start_time": "2022-08-30T00:57:00.149Z"
      },
      {
        "duration": 28,
        "start_time": "2022-08-30T00:57:00.165Z"
      },
      {
        "duration": 19,
        "start_time": "2022-08-30T00:57:00.195Z"
      },
      {
        "duration": 14,
        "start_time": "2022-08-30T00:57:00.215Z"
      },
      {
        "duration": 21,
        "start_time": "2022-08-30T00:57:00.231Z"
      },
      {
        "duration": 10,
        "start_time": "2022-08-30T00:57:00.254Z"
      },
      {
        "duration": 12,
        "start_time": "2022-08-30T00:57:00.266Z"
      },
      {
        "duration": 34,
        "start_time": "2022-08-30T00:57:00.280Z"
      },
      {
        "duration": 37,
        "start_time": "2022-08-30T00:57:00.316Z"
      },
      {
        "duration": 66,
        "start_time": "2022-08-30T00:57:00.355Z"
      },
      {
        "duration": 55,
        "start_time": "2022-08-30T00:57:00.423Z"
      },
      {
        "duration": 111,
        "start_time": "2022-08-30T00:57:00.480Z"
      },
      {
        "duration": 11,
        "start_time": "2022-08-30T00:57:00.593Z"
      },
      {
        "duration": 18,
        "start_time": "2022-08-30T00:57:00.605Z"
      },
      {
        "duration": 9,
        "start_time": "2022-08-30T00:57:00.624Z"
      },
      {
        "duration": 11,
        "start_time": "2022-08-30T00:57:00.636Z"
      },
      {
        "duration": 11,
        "start_time": "2022-08-30T00:57:00.648Z"
      },
      {
        "duration": 14,
        "start_time": "2022-08-30T00:57:00.661Z"
      },
      {
        "duration": 6,
        "start_time": "2022-08-30T00:57:00.676Z"
      },
      {
        "duration": 10,
        "start_time": "2022-08-30T00:57:00.692Z"
      },
      {
        "duration": 15,
        "start_time": "2022-08-30T00:57:00.703Z"
      },
      {
        "duration": 9,
        "start_time": "2022-08-30T00:57:00.720Z"
      },
      {
        "duration": 10,
        "start_time": "2022-08-30T00:57:00.731Z"
      },
      {
        "duration": 13,
        "start_time": "2022-08-30T00:57:00.743Z"
      },
      {
        "duration": 39,
        "start_time": "2022-08-30T00:57:00.758Z"
      },
      {
        "duration": 14,
        "start_time": "2022-08-30T00:57:00.799Z"
      },
      {
        "duration": 10,
        "start_time": "2022-08-30T00:57:00.814Z"
      },
      {
        "duration": 12,
        "start_time": "2022-08-30T00:57:00.825Z"
      },
      {
        "duration": 28,
        "start_time": "2022-08-30T00:57:00.841Z"
      },
      {
        "duration": 36,
        "start_time": "2022-08-30T00:57:00.871Z"
      },
      {
        "duration": 14,
        "start_time": "2022-08-30T00:57:00.909Z"
      },
      {
        "duration": 18,
        "start_time": "2022-08-30T00:57:00.924Z"
      },
      {
        "duration": 23,
        "start_time": "2022-08-30T00:57:00.944Z"
      },
      {
        "duration": 11,
        "start_time": "2022-08-30T00:57:00.969Z"
      },
      {
        "duration": 46,
        "start_time": "2022-08-30T00:57:00.982Z"
      },
      {
        "duration": 6,
        "start_time": "2022-08-30T00:57:01.030Z"
      },
      {
        "duration": 13,
        "start_time": "2022-08-30T00:57:01.038Z"
      },
      {
        "duration": 37,
        "start_time": "2022-08-30T00:57:01.053Z"
      },
      {
        "duration": 50,
        "start_time": "2022-08-30T00:57:01.091Z"
      },
      {
        "duration": 33,
        "start_time": "2022-08-30T00:57:01.145Z"
      },
      {
        "duration": 4,
        "start_time": "2022-08-30T00:57:05.213Z"
      },
      {
        "duration": 7,
        "start_time": "2022-08-30T01:00:06.102Z"
      },
      {
        "duration": 13,
        "start_time": "2022-08-30T01:00:45.886Z"
      },
      {
        "duration": 6,
        "start_time": "2022-08-30T01:02:04.608Z"
      },
      {
        "duration": 18,
        "start_time": "2022-08-30T01:02:21.404Z"
      },
      {
        "duration": 5453,
        "start_time": "2022-08-30T01:04:36.385Z"
      },
      {
        "duration": 9,
        "start_time": "2022-08-30T01:04:52.606Z"
      },
      {
        "duration": 8,
        "start_time": "2022-08-30T01:05:43.794Z"
      },
      {
        "duration": 22,
        "start_time": "2022-08-30T01:07:17.768Z"
      },
      {
        "duration": 23,
        "start_time": "2022-08-30T01:07:50.123Z"
      },
      {
        "duration": 21,
        "start_time": "2022-08-30T01:08:24.464Z"
      },
      {
        "duration": 3,
        "start_time": "2022-08-30T01:09:08.971Z"
      },
      {
        "duration": 1654,
        "start_time": "2022-08-30T01:09:33.964Z"
      },
      {
        "duration": 5,
        "start_time": "2022-08-30T01:09:55.210Z"
      },
      {
        "duration": 7,
        "start_time": "2022-08-30T01:10:30.414Z"
      },
      {
        "duration": 16,
        "start_time": "2022-08-30T01:10:58.200Z"
      },
      {
        "duration": 18,
        "start_time": "2022-08-30T01:11:22.653Z"
      },
      {
        "duration": 13,
        "start_time": "2022-08-30T01:11:28.469Z"
      },
      {
        "duration": 15,
        "start_time": "2022-08-30T01:11:34.512Z"
      },
      {
        "duration": 3,
        "start_time": "2022-08-30T01:11:35.829Z"
      },
      {
        "duration": 184,
        "start_time": "2022-08-30T01:11:37.033Z"
      },
      {
        "duration": 7,
        "start_time": "2022-08-30T01:11:37.898Z"
      },
      {
        "duration": 7,
        "start_time": "2022-08-30T01:11:41.055Z"
      },
      {
        "duration": 7,
        "start_time": "2022-08-30T01:11:41.999Z"
      },
      {
        "duration": 6,
        "start_time": "2022-08-30T01:11:42.503Z"
      },
      {
        "duration": 15,
        "start_time": "2022-08-30T01:11:45.087Z"
      },
      {
        "duration": 4,
        "start_time": "2022-08-30T01:11:46.027Z"
      },
      {
        "duration": 5,
        "start_time": "2022-08-30T01:11:46.512Z"
      },
      {
        "duration": 8,
        "start_time": "2022-08-30T01:11:48.713Z"
      },
      {
        "duration": 7,
        "start_time": "2022-08-30T01:11:50.678Z"
      },
      {
        "duration": 5,
        "start_time": "2022-08-30T01:11:51.184Z"
      },
      {
        "duration": 9,
        "start_time": "2022-08-30T01:12:07.011Z"
      },
      {
        "duration": 16,
        "start_time": "2022-08-30T01:12:08.695Z"
      },
      {
        "duration": 6,
        "start_time": "2022-08-30T01:12:09.454Z"
      },
      {
        "duration": 4,
        "start_time": "2022-08-30T01:12:10.085Z"
      },
      {
        "duration": 10,
        "start_time": "2022-08-30T01:12:10.959Z"
      },
      {
        "duration": 5,
        "start_time": "2022-08-30T01:12:11.431Z"
      },
      {
        "duration": 18,
        "start_time": "2022-08-30T01:12:12.906Z"
      },
      {
        "duration": 18,
        "start_time": "2022-08-30T01:12:14.014Z"
      },
      {
        "duration": 18,
        "start_time": "2022-08-30T01:12:16.601Z"
      },
      {
        "duration": 16,
        "start_time": "2022-08-30T01:12:17.652Z"
      },
      {
        "duration": 18,
        "start_time": "2022-08-30T01:12:28.140Z"
      },
      {
        "duration": 15,
        "start_time": "2022-08-30T01:13:25.918Z"
      },
      {
        "duration": 14,
        "start_time": "2022-08-30T01:17:06.967Z"
      },
      {
        "duration": 5,
        "start_time": "2022-08-30T01:19:04.731Z"
      },
      {
        "duration": 5,
        "start_time": "2022-08-30T01:20:12.529Z"
      },
      {
        "duration": 4,
        "start_time": "2022-08-30T01:20:22.396Z"
      },
      {
        "duration": 5,
        "start_time": "2022-08-30T01:20:49.315Z"
      },
      {
        "duration": 22,
        "start_time": "2022-08-30T01:21:04.018Z"
      },
      {
        "duration": 28,
        "start_time": "2022-08-30T01:21:04.963Z"
      },
      {
        "duration": 29,
        "start_time": "2022-08-30T01:21:05.518Z"
      },
      {
        "duration": 11,
        "start_time": "2022-08-30T01:21:07.240Z"
      },
      {
        "duration": 6,
        "start_time": "2022-08-30T01:21:09.053Z"
      },
      {
        "duration": 4,
        "start_time": "2022-08-30T01:21:10.607Z"
      },
      {
        "duration": 666,
        "start_time": "2022-08-30T01:21:11.875Z"
      },
      {
        "duration": 11,
        "start_time": "2022-08-30T01:21:13.496Z"
      },
      {
        "duration": 297,
        "start_time": "2022-08-30T01:21:17.840Z"
      },
      {
        "duration": 19,
        "start_time": "2022-08-30T01:23:01.884Z"
      },
      {
        "duration": 16,
        "start_time": "2022-08-30T01:26:38.136Z"
      },
      {
        "duration": 6,
        "start_time": "2022-08-30T01:27:05.745Z"
      },
      {
        "duration": 8,
        "start_time": "2022-08-30T01:30:03.696Z"
      },
      {
        "duration": 5,
        "start_time": "2022-08-30T01:38:56.180Z"
      },
      {
        "duration": 5,
        "start_time": "2022-08-30T01:39:19.059Z"
      },
      {
        "duration": 17,
        "start_time": "2022-08-30T01:41:19.448Z"
      },
      {
        "duration": 18,
        "start_time": "2022-08-30T01:42:17.298Z"
      },
      {
        "duration": 152,
        "start_time": "2022-08-30T01:44:46.557Z"
      },
      {
        "duration": 1878,
        "start_time": "2022-08-30T01:45:19.789Z"
      },
      {
        "duration": 8,
        "start_time": "2022-08-30T01:46:53.576Z"
      },
      {
        "duration": 23,
        "start_time": "2022-08-30T01:46:59.876Z"
      },
      {
        "duration": 1826,
        "start_time": "2022-08-30T01:49:37.239Z"
      },
      {
        "duration": 1736,
        "start_time": "2022-08-30T01:50:11.308Z"
      },
      {
        "duration": 29,
        "start_time": "2022-08-30T01:50:46.408Z"
      },
      {
        "duration": 8,
        "start_time": "2022-08-30T01:53:08.239Z"
      },
      {
        "duration": 10,
        "start_time": "2022-08-30T01:53:17.332Z"
      },
      {
        "duration": 10,
        "start_time": "2022-08-30T01:55:10.113Z"
      },
      {
        "duration": 16,
        "start_time": "2022-08-30T02:00:30.902Z"
      },
      {
        "duration": 145,
        "start_time": "2022-08-30T02:02:18.793Z"
      },
      {
        "duration": 180,
        "start_time": "2022-08-30T02:03:52.032Z"
      },
      {
        "duration": 156,
        "start_time": "2022-08-30T02:04:11.634Z"
      },
      {
        "duration": 19,
        "start_time": "2022-08-30T02:04:29.932Z"
      },
      {
        "duration": 109,
        "start_time": "2022-08-30T02:05:07.711Z"
      },
      {
        "duration": 8,
        "start_time": "2022-08-30T02:05:24.441Z"
      },
      {
        "duration": 20,
        "start_time": "2022-08-30T02:05:37.153Z"
      },
      {
        "duration": 24,
        "start_time": "2022-08-30T02:06:57.535Z"
      },
      {
        "duration": 23,
        "start_time": "2022-08-30T02:26:59.493Z"
      },
      {
        "duration": 28,
        "start_time": "2022-08-30T03:14:23.553Z"
      },
      {
        "duration": 26,
        "start_time": "2022-08-30T03:15:21.246Z"
      },
      {
        "duration": 30,
        "start_time": "2022-08-30T03:18:04.346Z"
      },
      {
        "duration": 29,
        "start_time": "2022-08-30T03:18:25.986Z"
      },
      {
        "duration": 70,
        "start_time": "2022-08-30T03:19:42.241Z"
      },
      {
        "duration": 21,
        "start_time": "2022-08-30T03:20:44.252Z"
      },
      {
        "duration": 42,
        "start_time": "2022-08-30T03:25:18.562Z"
      },
      {
        "duration": 21,
        "start_time": "2022-08-30T03:26:26.944Z"
      },
      {
        "duration": 587,
        "start_time": "2022-08-30T12:38:02.022Z"
      },
      {
        "duration": 5,
        "start_time": "2022-08-30T12:38:04.300Z"
      },
      {
        "duration": 19,
        "start_time": "2022-08-30T12:38:05.263Z"
      },
      {
        "duration": 15,
        "start_time": "2022-08-30T12:38:06.741Z"
      },
      {
        "duration": 4,
        "start_time": "2022-08-30T12:38:08.130Z"
      },
      {
        "duration": 16,
        "start_time": "2022-08-30T12:38:09.645Z"
      },
      {
        "duration": 13,
        "start_time": "2022-08-30T12:38:10.969Z"
      },
      {
        "duration": 68,
        "start_time": "2022-08-30T12:38:12.425Z"
      },
      {
        "duration": 4,
        "start_time": "2022-08-30T12:38:14.070Z"
      },
      {
        "duration": 6,
        "start_time": "2022-08-30T12:38:15.541Z"
      },
      {
        "duration": 5,
        "start_time": "2022-08-30T12:38:17.229Z"
      },
      {
        "duration": 5,
        "start_time": "2022-08-30T12:38:18.620Z"
      },
      {
        "duration": 5,
        "start_time": "2022-08-30T12:38:19.921Z"
      },
      {
        "duration": 5,
        "start_time": "2022-08-30T12:38:21.283Z"
      },
      {
        "duration": 6,
        "start_time": "2022-08-30T12:38:22.637Z"
      },
      {
        "duration": 4,
        "start_time": "2022-08-30T12:38:23.980Z"
      },
      {
        "duration": 6,
        "start_time": "2022-08-30T12:38:25.473Z"
      },
      {
        "duration": 7,
        "start_time": "2022-08-30T12:38:27.765Z"
      },
      {
        "duration": 7,
        "start_time": "2022-08-30T12:38:29.342Z"
      },
      {
        "duration": 8,
        "start_time": "2022-08-30T12:38:30.656Z"
      },
      {
        "duration": 8,
        "start_time": "2022-08-30T12:38:32.098Z"
      },
      {
        "duration": 8,
        "start_time": "2022-08-30T12:38:33.481Z"
      },
      {
        "duration": 5,
        "start_time": "2022-08-30T12:38:34.881Z"
      },
      {
        "duration": 21,
        "start_time": "2022-08-30T12:38:36.890Z"
      },
      {
        "duration": 6,
        "start_time": "2022-08-30T12:38:38.161Z"
      },
      {
        "duration": 7,
        "start_time": "2022-08-30T12:38:38.700Z"
      },
      {
        "duration": 6,
        "start_time": "2022-08-30T12:38:39.393Z"
      },
      {
        "duration": 7,
        "start_time": "2022-08-30T12:38:39.998Z"
      },
      {
        "duration": 6,
        "start_time": "2022-08-30T12:38:40.729Z"
      },
      {
        "duration": 7,
        "start_time": "2022-08-30T12:38:41.405Z"
      },
      {
        "duration": 3,
        "start_time": "2022-08-30T12:38:42.721Z"
      },
      {
        "duration": 7,
        "start_time": "2022-08-30T12:38:43.373Z"
      },
      {
        "duration": 9,
        "start_time": "2022-08-30T12:38:44.022Z"
      },
      {
        "duration": 6,
        "start_time": "2022-08-30T12:38:44.675Z"
      },
      {
        "duration": 10,
        "start_time": "2022-08-30T12:38:45.636Z"
      },
      {
        "duration": 9,
        "start_time": "2022-08-30T12:38:46.381Z"
      },
      {
        "duration": 10,
        "start_time": "2022-08-30T12:38:47.232Z"
      },
      {
        "duration": 5,
        "start_time": "2022-08-30T12:38:49.077Z"
      },
      {
        "duration": 5,
        "start_time": "2022-08-30T12:38:49.919Z"
      },
      {
        "duration": 3,
        "start_time": "2022-08-30T12:38:51.476Z"
      },
      {
        "duration": 5,
        "start_time": "2022-08-30T12:38:52.519Z"
      },
      {
        "duration": 28,
        "start_time": "2022-08-30T12:38:53.239Z"
      },
      {
        "duration": 12,
        "start_time": "2022-08-30T12:38:53.921Z"
      },
      {
        "duration": 4,
        "start_time": "2022-08-30T12:38:57.288Z"
      },
      {
        "duration": 9,
        "start_time": "2022-08-30T12:38:58.000Z"
      },
      {
        "duration": 5,
        "start_time": "2022-08-30T12:38:58.635Z"
      },
      {
        "duration": 12,
        "start_time": "2022-08-30T12:39:00.276Z"
      },
      {
        "duration": 6,
        "start_time": "2022-08-30T12:39:01.663Z"
      },
      {
        "duration": 5,
        "start_time": "2022-08-30T12:39:04.521Z"
      },
      {
        "duration": 21,
        "start_time": "2022-08-30T12:39:05.986Z"
      },
      {
        "duration": 5,
        "start_time": "2022-08-30T12:39:07.319Z"
      },
      {
        "duration": 5,
        "start_time": "2022-08-30T12:39:07.933Z"
      },
      {
        "duration": 8,
        "start_time": "2022-08-30T12:39:09.970Z"
      },
      {
        "duration": 4,
        "start_time": "2022-08-30T12:39:10.693Z"
      },
      {
        "duration": 6,
        "start_time": "2022-08-30T12:39:12.125Z"
      },
      {
        "duration": 13,
        "start_time": "2022-08-30T12:39:13.555Z"
      },
      {
        "duration": 5,
        "start_time": "2022-08-30T12:39:14.488Z"
      },
      {
        "duration": 16,
        "start_time": "2022-08-30T12:39:16.270Z"
      },
      {
        "duration": 4945,
        "start_time": "2022-08-30T12:39:18.610Z"
      },
      {
        "duration": 8,
        "start_time": "2022-08-30T12:39:23.557Z"
      },
      {
        "duration": 10,
        "start_time": "2022-08-30T12:39:23.567Z"
      },
      {
        "duration": 23,
        "start_time": "2022-08-30T12:39:23.850Z"
      },
      {
        "duration": 20,
        "start_time": "2022-08-30T12:39:25.301Z"
      },
      {
        "duration": 23,
        "start_time": "2022-08-30T12:39:26.837Z"
      },
      {
        "duration": 3,
        "start_time": "2022-08-30T12:39:28.622Z"
      },
      {
        "duration": 1508,
        "start_time": "2022-08-30T12:39:30.247Z"
      },
      {
        "duration": 4,
        "start_time": "2022-08-30T12:39:31.985Z"
      },
      {
        "duration": 6,
        "start_time": "2022-08-30T12:39:34.717Z"
      },
      {
        "duration": 15,
        "start_time": "2022-08-30T12:39:35.649Z"
      },
      {
        "duration": 13,
        "start_time": "2022-08-30T12:39:39.036Z"
      },
      {
        "duration": 14,
        "start_time": "2022-08-30T12:39:41.122Z"
      },
      {
        "duration": 3,
        "start_time": "2022-08-30T12:39:42.485Z"
      },
      {
        "duration": 175,
        "start_time": "2022-08-30T12:39:43.976Z"
      },
      {
        "duration": 6,
        "start_time": "2022-08-30T12:39:44.791Z"
      },
      {
        "duration": 6,
        "start_time": "2022-08-30T12:39:47.756Z"
      },
      {
        "duration": 6,
        "start_time": "2022-08-30T12:39:49.032Z"
      },
      {
        "duration": 5,
        "start_time": "2022-08-30T12:39:49.892Z"
      },
      {
        "duration": 15,
        "start_time": "2022-08-30T12:39:52.027Z"
      },
      {
        "duration": 3,
        "start_time": "2022-08-30T12:39:53.569Z"
      },
      {
        "duration": 4,
        "start_time": "2022-08-30T12:39:54.288Z"
      },
      {
        "duration": 7,
        "start_time": "2022-08-30T12:39:56.989Z"
      },
      {
        "duration": 6,
        "start_time": "2022-08-30T12:40:00.129Z"
      },
      {
        "duration": 5,
        "start_time": "2022-08-30T12:40:00.891Z"
      },
      {
        "duration": 8,
        "start_time": "2022-08-30T12:40:04.200Z"
      },
      {
        "duration": 14,
        "start_time": "2022-08-30T12:40:05.930Z"
      },
      {
        "duration": 5,
        "start_time": "2022-08-30T12:40:06.649Z"
      },
      {
        "duration": 3,
        "start_time": "2022-08-30T12:40:07.203Z"
      },
      {
        "duration": 8,
        "start_time": "2022-08-30T12:40:08.030Z"
      },
      {
        "duration": 5,
        "start_time": "2022-08-30T12:40:08.647Z"
      },
      {
        "duration": 18,
        "start_time": "2022-08-30T12:40:10.467Z"
      },
      {
        "duration": 18,
        "start_time": "2022-08-30T12:40:11.345Z"
      },
      {
        "duration": 16,
        "start_time": "2022-08-30T12:40:12.165Z"
      },
      {
        "duration": 14,
        "start_time": "2022-08-30T12:40:13.139Z"
      },
      {
        "duration": 5,
        "start_time": "2022-08-30T12:40:18.050Z"
      },
      {
        "duration": 22,
        "start_time": "2022-08-30T12:40:22.737Z"
      },
      {
        "duration": 24,
        "start_time": "2022-08-30T12:40:24.091Z"
      },
      {
        "duration": 25,
        "start_time": "2022-08-30T12:40:25.750Z"
      },
      {
        "duration": 9,
        "start_time": "2022-08-30T12:40:28.100Z"
      },
      {
        "duration": 3,
        "start_time": "2022-08-30T12:41:06.730Z"
      },
      {
        "duration": 600,
        "start_time": "2022-08-30T12:41:07.778Z"
      },
      {
        "duration": 11,
        "start_time": "2022-08-30T12:41:08.698Z"
      },
      {
        "duration": 6,
        "start_time": "2022-08-30T12:41:09.751Z"
      },
      {
        "duration": 8,
        "start_time": "2022-08-30T12:41:11.526Z"
      },
      {
        "duration": 16,
        "start_time": "2022-08-30T12:41:13.224Z"
      },
      {
        "duration": 5,
        "start_time": "2022-08-30T12:41:15.610Z"
      },
      {
        "duration": 5,
        "start_time": "2022-08-30T12:41:17.355Z"
      },
      {
        "duration": 16,
        "start_time": "2022-08-30T12:41:19.110Z"
      },
      {
        "duration": 2,
        "start_time": "2022-08-30T12:41:20.559Z"
      },
      {
        "duration": 7,
        "start_time": "2022-08-30T12:41:21.490Z"
      },
      {
        "duration": 2,
        "start_time": "2022-08-30T12:41:22.640Z"
      },
      {
        "duration": 2,
        "start_time": "2022-08-30T12:41:23.085Z"
      },
      {
        "duration": 3,
        "start_time": "2022-08-30T12:41:23.698Z"
      },
      {
        "duration": 24,
        "start_time": "2022-08-30T12:41:29.752Z"
      },
      {
        "duration": 97,
        "start_time": "2022-08-30T12:51:10.294Z"
      },
      {
        "duration": 33,
        "start_time": "2022-08-30T12:51:20.225Z"
      },
      {
        "duration": 547,
        "start_time": "2022-08-30T16:28:48.228Z"
      },
      {
        "duration": 5,
        "start_time": "2022-08-30T16:28:49.071Z"
      },
      {
        "duration": 21,
        "start_time": "2022-08-30T16:28:49.316Z"
      },
      {
        "duration": 14,
        "start_time": "2022-08-30T16:28:49.753Z"
      },
      {
        "duration": 5,
        "start_time": "2022-08-30T16:28:50.161Z"
      },
      {
        "duration": 16,
        "start_time": "2022-08-30T16:28:50.407Z"
      },
      {
        "duration": 12,
        "start_time": "2022-08-30T16:28:50.819Z"
      },
      {
        "duration": 70,
        "start_time": "2022-08-30T16:28:51.220Z"
      },
      {
        "duration": 4,
        "start_time": "2022-08-30T16:28:51.637Z"
      },
      {
        "duration": 7,
        "start_time": "2022-08-30T16:28:52.041Z"
      },
      {
        "duration": 5,
        "start_time": "2022-08-30T16:28:52.448Z"
      },
      {
        "duration": 8,
        "start_time": "2022-08-30T16:28:52.835Z"
      },
      {
        "duration": 6,
        "start_time": "2022-08-30T16:28:53.249Z"
      },
      {
        "duration": 7,
        "start_time": "2022-08-30T16:28:53.658Z"
      },
      {
        "duration": 6,
        "start_time": "2022-08-30T16:28:54.077Z"
      },
      {
        "duration": 7,
        "start_time": "2022-08-30T16:28:54.445Z"
      },
      {
        "duration": 5,
        "start_time": "2022-08-30T16:28:54.858Z"
      },
      {
        "duration": 9,
        "start_time": "2022-08-30T16:28:55.500Z"
      },
      {
        "duration": 11,
        "start_time": "2022-08-30T16:28:55.908Z"
      },
      {
        "duration": 9,
        "start_time": "2022-08-30T16:28:56.323Z"
      },
      {
        "duration": 10,
        "start_time": "2022-08-30T16:28:56.733Z"
      },
      {
        "duration": 11,
        "start_time": "2022-08-30T16:28:57.138Z"
      },
      {
        "duration": 8,
        "start_time": "2022-08-30T16:28:57.546Z"
      },
      {
        "duration": 22,
        "start_time": "2022-08-30T16:28:58.162Z"
      },
      {
        "duration": 7,
        "start_time": "2022-08-30T16:28:58.552Z"
      },
      {
        "duration": 8,
        "start_time": "2022-08-30T16:28:58.720Z"
      },
      {
        "duration": 8,
        "start_time": "2022-08-30T16:28:58.951Z"
      },
      {
        "duration": 8,
        "start_time": "2022-08-30T16:28:59.204Z"
      },
      {
        "duration": 7,
        "start_time": "2022-08-30T16:28:59.402Z"
      },
      {
        "duration": 7,
        "start_time": "2022-08-30T16:28:59.630Z"
      },
      {
        "duration": 3,
        "start_time": "2022-08-30T16:29:00.035Z"
      },
      {
        "duration": 7,
        "start_time": "2022-08-30T16:29:00.283Z"
      },
      {
        "duration": 9,
        "start_time": "2022-08-30T16:29:00.500Z"
      },
      {
        "duration": 7,
        "start_time": "2022-08-30T16:29:00.743Z"
      },
      {
        "duration": 9,
        "start_time": "2022-08-30T16:29:00.982Z"
      },
      {
        "duration": 10,
        "start_time": "2022-08-30T16:29:01.186Z"
      },
      {
        "duration": 11,
        "start_time": "2022-08-30T16:29:01.411Z"
      },
      {
        "duration": 5,
        "start_time": "2022-08-30T16:29:01.870Z"
      },
      {
        "duration": 6,
        "start_time": "2022-08-30T16:29:02.092Z"
      },
      {
        "duration": 4,
        "start_time": "2022-08-30T16:29:02.542Z"
      },
      {
        "duration": 5,
        "start_time": "2022-08-30T16:29:02.783Z"
      },
      {
        "duration": 28,
        "start_time": "2022-08-30T16:29:03.017Z"
      },
      {
        "duration": 13,
        "start_time": "2022-08-30T16:29:03.245Z"
      },
      {
        "duration": 6,
        "start_time": "2022-08-30T16:29:04.185Z"
      },
      {
        "duration": 13,
        "start_time": "2022-08-30T16:29:04.424Z"
      },
      {
        "duration": 6,
        "start_time": "2022-08-30T16:29:04.621Z"
      },
      {
        "duration": 12,
        "start_time": "2022-08-30T16:29:05.064Z"
      },
      {
        "duration": 5,
        "start_time": "2022-08-30T16:29:05.552Z"
      },
      {
        "duration": 7,
        "start_time": "2022-08-30T16:29:06.477Z"
      },
      {
        "duration": 21,
        "start_time": "2022-08-30T16:29:06.925Z"
      },
      {
        "duration": 4,
        "start_time": "2022-08-30T16:29:07.403Z"
      },
      {
        "duration": 5,
        "start_time": "2022-08-30T16:29:07.608Z"
      },
      {
        "duration": 10,
        "start_time": "2022-08-30T16:29:08.287Z"
      },
      {
        "duration": 4,
        "start_time": "2022-08-30T16:29:08.523Z"
      },
      {
        "duration": 6,
        "start_time": "2022-08-30T16:29:08.968Z"
      },
      {
        "duration": 15,
        "start_time": "2022-08-30T16:29:09.450Z"
      },
      {
        "duration": 6,
        "start_time": "2022-08-30T16:29:09.654Z"
      },
      {
        "duration": 21,
        "start_time": "2022-08-30T16:29:10.101Z"
      },
      {
        "duration": 5473,
        "start_time": "2022-08-30T16:29:10.757Z"
      },
      {
        "duration": 9,
        "start_time": "2022-08-30T16:29:16.232Z"
      },
      {
        "duration": 16,
        "start_time": "2022-08-30T16:29:16.243Z"
      },
      {
        "duration": 38,
        "start_time": "2022-08-30T16:29:16.262Z"
      },
      {
        "duration": 23,
        "start_time": "2022-08-30T16:29:16.302Z"
      },
      {
        "duration": 22,
        "start_time": "2022-08-30T16:29:16.327Z"
      },
      {
        "duration": 3,
        "start_time": "2022-08-30T16:29:16.351Z"
      },
      {
        "duration": 1610,
        "start_time": "2022-08-30T16:29:16.384Z"
      },
      {
        "duration": 5,
        "start_time": "2022-08-30T16:29:17.996Z"
      },
      {
        "duration": 14,
        "start_time": "2022-08-30T16:29:18.004Z"
      },
      {
        "duration": 26,
        "start_time": "2022-08-30T16:29:18.019Z"
      },
      {
        "duration": 13,
        "start_time": "2022-08-30T16:29:18.047Z"
      },
      {
        "duration": 35,
        "start_time": "2022-08-30T16:29:18.062Z"
      },
      {
        "duration": 3,
        "start_time": "2022-08-30T16:29:18.099Z"
      },
      {
        "duration": 235,
        "start_time": "2022-08-30T16:29:18.104Z"
      },
      {
        "duration": 7,
        "start_time": "2022-08-30T16:29:18.341Z"
      },
      {
        "duration": 6,
        "start_time": "2022-08-30T16:29:18.384Z"
      },
      {
        "duration": 7,
        "start_time": "2022-08-30T16:29:18.847Z"
      },
      {
        "duration": 6,
        "start_time": "2022-08-30T16:29:19.087Z"
      },
      {
        "duration": 15,
        "start_time": "2022-08-30T16:29:19.792Z"
      },
      {
        "duration": 4,
        "start_time": "2022-08-30T16:29:20.205Z"
      },
      {
        "duration": 5,
        "start_time": "2022-08-30T16:29:20.435Z"
      },
      {
        "duration": 7,
        "start_time": "2022-08-30T16:29:21.365Z"
      },
      {
        "duration": 7,
        "start_time": "2022-08-30T16:29:21.855Z"
      },
      {
        "duration": 7,
        "start_time": "2022-08-30T16:29:22.068Z"
      },
      {
        "duration": 8,
        "start_time": "2022-08-30T16:29:22.943Z"
      },
      {
        "duration": 20,
        "start_time": "2022-08-30T16:29:23.649Z"
      },
      {
        "duration": 7,
        "start_time": "2022-08-30T16:29:23.865Z"
      },
      {
        "duration": 5,
        "start_time": "2022-08-30T16:29:24.098Z"
      },
      {
        "duration": 10,
        "start_time": "2022-08-30T16:29:24.360Z"
      },
      {
        "duration": 6,
        "start_time": "2022-08-30T16:29:24.603Z"
      },
      {
        "duration": 19,
        "start_time": "2022-08-30T16:29:25.075Z"
      },
      {
        "duration": 18,
        "start_time": "2022-08-30T16:29:25.300Z"
      },
      {
        "duration": 15,
        "start_time": "2022-08-30T16:29:25.528Z"
      },
      {
        "duration": 15,
        "start_time": "2022-08-30T16:29:25.736Z"
      },
      {
        "duration": 5,
        "start_time": "2022-08-30T16:29:26.662Z"
      },
      {
        "duration": 22,
        "start_time": "2022-08-30T16:29:28.912Z"
      },
      {
        "duration": 27,
        "start_time": "2022-08-30T16:29:29.156Z"
      },
      {
        "duration": 29,
        "start_time": "2022-08-30T16:29:29.415Z"
      },
      {
        "duration": 11,
        "start_time": "2022-08-30T16:29:29.945Z"
      },
      {
        "duration": 5,
        "start_time": "2022-08-30T16:29:30.615Z"
      },
      {
        "duration": 4,
        "start_time": "2022-08-30T16:29:30.927Z"
      },
      {
        "duration": 659,
        "start_time": "2022-08-30T16:29:31.310Z"
      },
      {
        "duration": 15,
        "start_time": "2022-08-30T16:29:31.970Z"
      },
      {
        "duration": 5,
        "start_time": "2022-08-30T16:29:31.991Z"
      },
      {
        "duration": 9,
        "start_time": "2022-08-30T16:29:32.748Z"
      },
      {
        "duration": 15,
        "start_time": "2022-08-30T16:29:33.740Z"
      },
      {
        "duration": 5,
        "start_time": "2022-08-30T16:29:38.077Z"
      },
      {
        "duration": 4,
        "start_time": "2022-08-30T16:29:38.734Z"
      },
      {
        "duration": 19,
        "start_time": "2022-08-30T16:29:39.377Z"
      },
      {
        "duration": 3,
        "start_time": "2022-08-30T16:29:40.027Z"
      },
      {
        "duration": 8,
        "start_time": "2022-08-30T16:29:40.484Z"
      },
      {
        "duration": 28,
        "start_time": "2022-08-30T16:32:47.541Z"
      },
      {
        "duration": 29,
        "start_time": "2022-08-30T17:43:30.176Z"
      },
      {
        "duration": 75,
        "start_time": "2022-08-30T18:45:57.228Z"
      },
      {
        "duration": 7,
        "start_time": "2022-08-30T18:49:50.022Z"
      },
      {
        "duration": 9,
        "start_time": "2022-08-30T18:49:55.063Z"
      },
      {
        "duration": 93,
        "start_time": "2022-08-30T18:50:08.821Z"
      },
      {
        "duration": 36,
        "start_time": "2022-08-30T18:50:28.402Z"
      },
      {
        "duration": 6,
        "start_time": "2022-08-30T18:50:31.756Z"
      },
      {
        "duration": 1341,
        "start_time": "2022-08-30T18:50:44.798Z"
      },
      {
        "duration": 74,
        "start_time": "2022-08-30T18:50:52.170Z"
      },
      {
        "duration": 6,
        "start_time": "2022-08-30T18:50:58.702Z"
      },
      {
        "duration": 5,
        "start_time": "2022-08-30T18:51:20.085Z"
      },
      {
        "duration": 136,
        "start_time": "2022-08-30T18:54:54.255Z"
      },
      {
        "duration": 171,
        "start_time": "2022-08-30T18:55:11.938Z"
      },
      {
        "duration": 128,
        "start_time": "2022-08-30T18:57:35.307Z"
      },
      {
        "duration": 144,
        "start_time": "2022-08-30T19:29:21.964Z"
      },
      {
        "duration": 7,
        "start_time": "2022-08-30T19:33:24.567Z"
      },
      {
        "duration": 6,
        "start_time": "2022-08-30T19:34:40.620Z"
      },
      {
        "duration": 6,
        "start_time": "2022-08-30T19:35:04.038Z"
      },
      {
        "duration": 66,
        "start_time": "2022-08-30T19:37:44.614Z"
      },
      {
        "duration": 59,
        "start_time": "2022-08-30T19:38:19.539Z"
      },
      {
        "duration": 53,
        "start_time": "2022-08-30T19:45:47.319Z"
      },
      {
        "duration": 46,
        "start_time": "2022-08-30T21:12:59.668Z"
      },
      {
        "duration": 9,
        "start_time": "2022-08-30T21:17:13.085Z"
      },
      {
        "duration": 4,
        "start_time": "2022-08-30T21:17:19.518Z"
      },
      {
        "duration": 4,
        "start_time": "2022-08-30T21:17:20.233Z"
      },
      {
        "duration": 9,
        "start_time": "2022-08-30T21:18:10.144Z"
      },
      {
        "duration": 24,
        "start_time": "2022-08-30T21:18:19.710Z"
      },
      {
        "duration": 23,
        "start_time": "2022-08-30T21:19:44.879Z"
      },
      {
        "duration": 19,
        "start_time": "2022-08-30T21:24:56.399Z"
      },
      {
        "duration": 18,
        "start_time": "2022-08-30T21:44:10.468Z"
      },
      {
        "duration": 24,
        "start_time": "2022-08-30T21:44:33.167Z"
      },
      {
        "duration": 17,
        "start_time": "2022-08-30T21:46:19.213Z"
      },
      {
        "duration": 96,
        "start_time": "2022-08-30T21:46:38.921Z"
      },
      {
        "duration": 37,
        "start_time": "2022-08-30T21:47:27.046Z"
      },
      {
        "duration": 1517,
        "start_time": "2022-08-30T21:48:30.101Z"
      },
      {
        "duration": 1230,
        "start_time": "2022-08-30T21:48:40.275Z"
      },
      {
        "duration": 1294,
        "start_time": "2022-08-30T21:48:50.590Z"
      },
      {
        "duration": 1340,
        "start_time": "2022-08-30T21:49:05.677Z"
      },
      {
        "duration": 7,
        "start_time": "2022-08-30T21:49:23.943Z"
      },
      {
        "duration": 8,
        "start_time": "2022-08-30T21:50:04.510Z"
      },
      {
        "duration": 7,
        "start_time": "2022-08-30T21:50:46.383Z"
      },
      {
        "duration": 10,
        "start_time": "2022-08-30T21:50:58.845Z"
      },
      {
        "duration": 9,
        "start_time": "2022-08-30T21:51:56.455Z"
      },
      {
        "duration": 32,
        "start_time": "2022-08-30T21:54:23.411Z"
      },
      {
        "duration": 13,
        "start_time": "2022-08-30T21:55:28.732Z"
      },
      {
        "duration": 10,
        "start_time": "2022-08-30T21:56:58.709Z"
      },
      {
        "duration": 14,
        "start_time": "2022-08-30T21:57:49.885Z"
      },
      {
        "duration": 22,
        "start_time": "2022-08-30T22:56:46.578Z"
      },
      {
        "duration": 17,
        "start_time": "2022-08-30T22:58:39.559Z"
      },
      {
        "duration": 448,
        "start_time": "2022-08-31T17:09:17.355Z"
      },
      {
        "duration": 7,
        "start_time": "2022-08-31T17:09:17.806Z"
      },
      {
        "duration": 28,
        "start_time": "2022-08-31T17:09:17.814Z"
      },
      {
        "duration": 16,
        "start_time": "2022-08-31T17:09:17.844Z"
      },
      {
        "duration": 4,
        "start_time": "2022-08-31T17:09:17.863Z"
      },
      {
        "duration": 47,
        "start_time": "2022-08-31T17:09:17.869Z"
      },
      {
        "duration": 19,
        "start_time": "2022-08-31T17:09:17.918Z"
      },
      {
        "duration": 76,
        "start_time": "2022-08-31T17:09:17.939Z"
      },
      {
        "duration": 4,
        "start_time": "2022-08-31T17:09:18.017Z"
      },
      {
        "duration": 7,
        "start_time": "2022-08-31T17:09:18.023Z"
      },
      {
        "duration": 8,
        "start_time": "2022-08-31T17:09:18.033Z"
      },
      {
        "duration": 7,
        "start_time": "2022-08-31T17:09:18.043Z"
      },
      {
        "duration": 7,
        "start_time": "2022-08-31T17:09:18.052Z"
      },
      {
        "duration": 6,
        "start_time": "2022-08-31T17:09:18.107Z"
      },
      {
        "duration": 9,
        "start_time": "2022-08-31T17:09:18.115Z"
      },
      {
        "duration": 11,
        "start_time": "2022-08-31T17:09:18.126Z"
      },
      {
        "duration": 15,
        "start_time": "2022-08-31T17:09:18.138Z"
      },
      {
        "duration": 13,
        "start_time": "2022-08-31T17:09:18.155Z"
      },
      {
        "duration": 33,
        "start_time": "2022-08-31T17:09:18.170Z"
      },
      {
        "duration": 8,
        "start_time": "2022-08-31T17:09:18.205Z"
      },
      {
        "duration": 20,
        "start_time": "2022-08-31T17:09:18.214Z"
      },
      {
        "duration": 11,
        "start_time": "2022-08-31T17:09:18.237Z"
      },
      {
        "duration": 8,
        "start_time": "2022-08-31T17:09:18.250Z"
      },
      {
        "duration": 57,
        "start_time": "2022-08-31T17:09:18.261Z"
      },
      {
        "duration": 6,
        "start_time": "2022-08-31T17:09:18.319Z"
      },
      {
        "duration": 11,
        "start_time": "2022-08-31T17:09:18.327Z"
      },
      {
        "duration": 10,
        "start_time": "2022-08-31T17:09:18.340Z"
      },
      {
        "duration": 13,
        "start_time": "2022-08-31T17:09:18.352Z"
      },
      {
        "duration": 40,
        "start_time": "2022-08-31T17:09:18.367Z"
      },
      {
        "duration": 16,
        "start_time": "2022-08-31T17:09:18.409Z"
      },
      {
        "duration": 12,
        "start_time": "2022-08-31T17:09:18.428Z"
      },
      {
        "duration": 32,
        "start_time": "2022-08-31T17:09:18.443Z"
      },
      {
        "duration": 20,
        "start_time": "2022-08-31T17:09:18.477Z"
      },
      {
        "duration": 22,
        "start_time": "2022-08-31T17:09:18.499Z"
      },
      {
        "duration": 11,
        "start_time": "2022-08-31T17:09:18.523Z"
      },
      {
        "duration": 22,
        "start_time": "2022-08-31T17:09:18.537Z"
      },
      {
        "duration": 19,
        "start_time": "2022-08-31T17:09:18.560Z"
      },
      {
        "duration": 13,
        "start_time": "2022-08-31T17:09:18.582Z"
      },
      {
        "duration": 7,
        "start_time": "2022-08-31T17:09:18.604Z"
      },
      {
        "duration": 8,
        "start_time": "2022-08-31T17:09:18.613Z"
      },
      {
        "duration": 15,
        "start_time": "2022-08-31T17:09:18.625Z"
      },
      {
        "duration": 36,
        "start_time": "2022-08-31T17:09:18.642Z"
      },
      {
        "duration": 35,
        "start_time": "2022-08-31T17:09:18.680Z"
      },
      {
        "duration": 15,
        "start_time": "2022-08-31T17:09:18.718Z"
      },
      {
        "duration": 12,
        "start_time": "2022-08-31T17:09:18.735Z"
      },
      {
        "duration": 7,
        "start_time": "2022-08-31T17:09:18.748Z"
      },
      {
        "duration": 48,
        "start_time": "2022-08-31T17:09:18.757Z"
      },
      {
        "duration": 6,
        "start_time": "2022-08-31T17:09:18.808Z"
      },
      {
        "duration": 13,
        "start_time": "2022-08-31T17:09:18.816Z"
      },
      {
        "duration": 26,
        "start_time": "2022-08-31T17:09:18.831Z"
      },
      {
        "duration": 22,
        "start_time": "2022-08-31T17:09:18.859Z"
      },
      {
        "duration": 48,
        "start_time": "2022-08-31T17:09:18.883Z"
      },
      {
        "duration": 22,
        "start_time": "2022-08-31T17:09:18.933Z"
      },
      {
        "duration": 5,
        "start_time": "2022-08-31T17:09:18.958Z"
      },
      {
        "duration": 20,
        "start_time": "2022-08-31T17:09:18.965Z"
      },
      {
        "duration": 28,
        "start_time": "2022-08-31T17:09:18.987Z"
      },
      {
        "duration": 18,
        "start_time": "2022-08-31T17:09:19.018Z"
      },
      {
        "duration": 32,
        "start_time": "2022-08-31T17:09:19.038Z"
      },
      {
        "duration": 5674,
        "start_time": "2022-08-31T17:09:19.072Z"
      },
      {
        "duration": 14,
        "start_time": "2022-08-31T17:09:24.748Z"
      },
      {
        "duration": 16,
        "start_time": "2022-08-31T17:09:24.764Z"
      },
      {
        "duration": 53,
        "start_time": "2022-08-31T17:09:24.782Z"
      },
      {
        "duration": 29,
        "start_time": "2022-08-31T17:09:24.838Z"
      },
      {
        "duration": 44,
        "start_time": "2022-08-31T17:09:24.869Z"
      },
      {
        "duration": 4,
        "start_time": "2022-08-31T17:09:24.916Z"
      },
      {
        "duration": 1786,
        "start_time": "2022-08-31T17:09:24.927Z"
      },
      {
        "duration": 5,
        "start_time": "2022-08-31T17:09:26.715Z"
      },
      {
        "duration": 15,
        "start_time": "2022-08-31T17:09:26.722Z"
      },
      {
        "duration": 15,
        "start_time": "2022-08-31T17:09:26.739Z"
      },
      {
        "duration": 14,
        "start_time": "2022-08-31T17:09:26.756Z"
      },
      {
        "duration": 52,
        "start_time": "2022-08-31T17:09:26.772Z"
      },
      {
        "duration": 3,
        "start_time": "2022-08-31T17:09:26.826Z"
      },
      {
        "duration": 218,
        "start_time": "2022-08-31T17:09:26.831Z"
      },
      {
        "duration": 7,
        "start_time": "2022-08-31T17:09:27.051Z"
      },
      {
        "duration": 6,
        "start_time": "2022-08-31T17:09:27.060Z"
      },
      {
        "duration": 9,
        "start_time": "2022-08-31T17:09:27.068Z"
      },
      {
        "duration": 25,
        "start_time": "2022-08-31T17:09:27.079Z"
      },
      {
        "duration": 14,
        "start_time": "2022-08-31T17:09:27.106Z"
      },
      {
        "duration": 4,
        "start_time": "2022-08-31T17:09:27.122Z"
      },
      {
        "duration": 7,
        "start_time": "2022-08-31T17:09:27.128Z"
      },
      {
        "duration": 12,
        "start_time": "2022-08-31T17:09:27.137Z"
      },
      {
        "duration": 8,
        "start_time": "2022-08-31T17:09:27.151Z"
      },
      {
        "duration": 5,
        "start_time": "2022-08-31T17:09:27.161Z"
      },
      {
        "duration": 41,
        "start_time": "2022-08-31T17:09:27.168Z"
      },
      {
        "duration": 18,
        "start_time": "2022-08-31T17:09:27.211Z"
      },
      {
        "duration": 5,
        "start_time": "2022-08-31T17:09:27.231Z"
      },
      {
        "duration": 4,
        "start_time": "2022-08-31T17:09:27.238Z"
      },
      {
        "duration": 14,
        "start_time": "2022-08-31T17:09:27.244Z"
      },
      {
        "duration": 6,
        "start_time": "2022-08-31T17:09:27.259Z"
      },
      {
        "duration": 57,
        "start_time": "2022-08-31T17:09:27.266Z"
      },
      {
        "duration": 18,
        "start_time": "2022-08-31T17:09:27.325Z"
      },
      {
        "duration": 16,
        "start_time": "2022-08-31T17:09:27.345Z"
      },
      {
        "duration": 14,
        "start_time": "2022-08-31T17:09:27.363Z"
      },
      {
        "duration": 6,
        "start_time": "2022-08-31T17:09:27.402Z"
      },
      {
        "duration": 27,
        "start_time": "2022-08-31T17:09:27.409Z"
      },
      {
        "duration": 29,
        "start_time": "2022-08-31T17:09:27.438Z"
      },
      {
        "duration": 56,
        "start_time": "2022-08-31T17:09:27.470Z"
      },
      {
        "duration": 11,
        "start_time": "2022-08-31T17:09:27.528Z"
      },
      {
        "duration": 21,
        "start_time": "2022-08-31T17:09:27.541Z"
      },
      {
        "duration": 8,
        "start_time": "2022-08-31T17:09:27.564Z"
      },
      {
        "duration": 728,
        "start_time": "2022-08-31T17:09:27.574Z"
      },
      {
        "duration": 10,
        "start_time": "2022-08-31T17:09:28.304Z"
      },
      {
        "duration": 15,
        "start_time": "2022-08-31T17:09:28.316Z"
      },
      {
        "duration": 8,
        "start_time": "2022-08-31T17:09:28.333Z"
      },
      {
        "duration": 15,
        "start_time": "2022-08-31T17:09:28.343Z"
      },
      {
        "duration": 7,
        "start_time": "2022-08-31T17:09:28.361Z"
      },
      {
        "duration": 34,
        "start_time": "2022-08-31T17:09:28.370Z"
      },
      {
        "duration": 29,
        "start_time": "2022-08-31T17:09:28.405Z"
      },
      {
        "duration": 3,
        "start_time": "2022-08-31T17:09:28.435Z"
      },
      {
        "duration": 26,
        "start_time": "2022-08-31T17:09:28.440Z"
      },
      {
        "duration": 3,
        "start_time": "2022-08-31T17:09:28.467Z"
      },
      {
        "duration": 9,
        "start_time": "2022-08-31T17:09:28.472Z"
      },
      {
        "duration": 5,
        "start_time": "2022-08-31T17:09:28.483Z"
      },
      {
        "duration": 74,
        "start_time": "2022-08-31T17:09:28.490Z"
      },
      {
        "duration": 47,
        "start_time": "2022-08-31T17:09:28.566Z"
      },
      {
        "duration": 48,
        "start_time": "2022-08-31T17:09:28.615Z"
      },
      {
        "duration": 4,
        "start_time": "2022-08-31T17:09:28.665Z"
      },
      {
        "duration": 9,
        "start_time": "2022-08-31T17:09:28.670Z"
      },
      {
        "duration": 28,
        "start_time": "2022-08-31T17:09:28.681Z"
      },
      {
        "duration": 23,
        "start_time": "2022-08-31T17:09:28.711Z"
      },
      {
        "duration": 13,
        "start_time": "2022-08-31T17:09:28.735Z"
      },
      {
        "duration": 23,
        "start_time": "2022-08-31T17:09:28.750Z"
      },
      {
        "duration": 45,
        "start_time": "2022-08-31T17:09:28.774Z"
      },
      {
        "duration": 60,
        "start_time": "2022-08-31T17:11:44.655Z"
      },
      {
        "duration": 5,
        "start_time": "2022-08-31T17:11:44.717Z"
      },
      {
        "duration": 26,
        "start_time": "2022-08-31T17:11:44.724Z"
      },
      {
        "duration": 17,
        "start_time": "2022-08-31T17:11:44.751Z"
      },
      {
        "duration": 4,
        "start_time": "2022-08-31T17:11:44.770Z"
      },
      {
        "duration": 16,
        "start_time": "2022-08-31T17:11:44.802Z"
      },
      {
        "duration": 14,
        "start_time": "2022-08-31T17:11:44.819Z"
      },
      {
        "duration": 77,
        "start_time": "2022-08-31T17:11:44.835Z"
      },
      {
        "duration": 5,
        "start_time": "2022-08-31T17:11:44.914Z"
      },
      {
        "duration": 15,
        "start_time": "2022-08-31T17:11:44.921Z"
      },
      {
        "duration": 11,
        "start_time": "2022-08-31T17:11:44.937Z"
      },
      {
        "duration": 7,
        "start_time": "2022-08-31T17:11:44.949Z"
      },
      {
        "duration": 12,
        "start_time": "2022-08-31T17:11:44.958Z"
      },
      {
        "duration": 31,
        "start_time": "2022-08-31T17:11:44.975Z"
      },
      {
        "duration": 8,
        "start_time": "2022-08-31T17:11:45.009Z"
      },
      {
        "duration": 19,
        "start_time": "2022-08-31T17:11:45.019Z"
      },
      {
        "duration": 8,
        "start_time": "2022-08-31T17:11:45.040Z"
      },
      {
        "duration": 11,
        "start_time": "2022-08-31T17:11:45.050Z"
      },
      {
        "duration": 11,
        "start_time": "2022-08-31T17:11:45.063Z"
      },
      {
        "duration": 33,
        "start_time": "2022-08-31T17:11:45.076Z"
      },
      {
        "duration": 13,
        "start_time": "2022-08-31T17:11:45.111Z"
      },
      {
        "duration": 12,
        "start_time": "2022-08-31T17:11:45.126Z"
      },
      {
        "duration": 9,
        "start_time": "2022-08-31T17:11:45.140Z"
      },
      {
        "duration": 59,
        "start_time": "2022-08-31T17:11:45.152Z"
      },
      {
        "duration": 7,
        "start_time": "2022-08-31T17:11:45.214Z"
      },
      {
        "duration": 10,
        "start_time": "2022-08-31T17:11:45.223Z"
      },
      {
        "duration": 9,
        "start_time": "2022-08-31T17:11:45.234Z"
      },
      {
        "duration": 16,
        "start_time": "2022-08-31T17:11:45.244Z"
      },
      {
        "duration": 10,
        "start_time": "2022-08-31T17:11:45.261Z"
      },
      {
        "duration": 31,
        "start_time": "2022-08-31T17:11:45.273Z"
      },
      {
        "duration": 16,
        "start_time": "2022-08-31T17:11:45.306Z"
      },
      {
        "duration": 12,
        "start_time": "2022-08-31T17:11:45.323Z"
      },
      {
        "duration": 11,
        "start_time": "2022-08-31T17:11:45.336Z"
      },
      {
        "duration": 12,
        "start_time": "2022-08-31T17:11:45.349Z"
      },
      {
        "duration": 12,
        "start_time": "2022-08-31T17:11:45.363Z"
      },
      {
        "duration": 30,
        "start_time": "2022-08-31T17:11:45.377Z"
      },
      {
        "duration": 28,
        "start_time": "2022-08-31T17:11:45.409Z"
      },
      {
        "duration": 18,
        "start_time": "2022-08-31T17:11:45.438Z"
      },
      {
        "duration": 30,
        "start_time": "2022-08-31T17:11:45.458Z"
      },
      {
        "duration": 24,
        "start_time": "2022-08-31T17:11:45.489Z"
      },
      {
        "duration": 32,
        "start_time": "2022-08-31T17:11:45.518Z"
      },
      {
        "duration": 56,
        "start_time": "2022-08-31T17:11:45.552Z"
      },
      {
        "duration": 15,
        "start_time": "2022-08-31T17:11:45.609Z"
      },
      {
        "duration": 22,
        "start_time": "2022-08-31T17:11:45.625Z"
      },
      {
        "duration": 26,
        "start_time": "2022-08-31T17:11:45.649Z"
      },
      {
        "duration": 18,
        "start_time": "2022-08-31T17:11:45.677Z"
      },
      {
        "duration": 37,
        "start_time": "2022-08-31T17:11:45.697Z"
      },
      {
        "duration": 19,
        "start_time": "2022-08-31T17:11:45.736Z"
      },
      {
        "duration": 20,
        "start_time": "2022-08-31T17:11:45.757Z"
      },
      {
        "duration": 33,
        "start_time": "2022-08-31T17:11:45.779Z"
      },
      {
        "duration": 12,
        "start_time": "2022-08-31T17:11:45.814Z"
      },
      {
        "duration": 11,
        "start_time": "2022-08-31T17:11:45.828Z"
      },
      {
        "duration": 26,
        "start_time": "2022-08-31T17:11:45.841Z"
      },
      {
        "duration": 17,
        "start_time": "2022-08-31T17:11:45.869Z"
      },
      {
        "duration": 13,
        "start_time": "2022-08-31T17:11:45.889Z"
      },
      {
        "duration": 19,
        "start_time": "2022-08-31T17:11:45.904Z"
      },
      {
        "duration": 10,
        "start_time": "2022-08-31T17:12:38.495Z"
      },
      {
        "duration": 10,
        "start_time": "2022-08-31T17:12:50.075Z"
      },
      {
        "duration": 8,
        "start_time": "2022-08-31T17:13:32.234Z"
      },
      {
        "duration": 8,
        "start_time": "2022-08-31T17:13:48.645Z"
      },
      {
        "duration": 528,
        "start_time": "2022-08-31T19:47:07.562Z"
      },
      {
        "duration": 5,
        "start_time": "2022-08-31T19:47:08.268Z"
      },
      {
        "duration": 20,
        "start_time": "2022-08-31T19:47:08.652Z"
      },
      {
        "duration": 16,
        "start_time": "2022-08-31T19:47:10.799Z"
      },
      {
        "duration": 5,
        "start_time": "2022-08-31T19:47:13.160Z"
      },
      {
        "duration": 16,
        "start_time": "2022-08-31T19:47:16.027Z"
      },
      {
        "duration": 5,
        "start_time": "2022-08-31T19:48:40.569Z"
      },
      {
        "duration": 16,
        "start_time": "2022-08-31T19:48:40.881Z"
      },
      {
        "duration": 14,
        "start_time": "2022-08-31T19:50:04.359Z"
      },
      {
        "duration": 74,
        "start_time": "2022-08-31T19:50:10.596Z"
      },
      {
        "duration": 5,
        "start_time": "2022-08-31T19:50:21.810Z"
      },
      {
        "duration": 7,
        "start_time": "2022-08-31T19:50:28.364Z"
      },
      {
        "duration": 6,
        "start_time": "2022-08-31T19:50:32.198Z"
      },
      {
        "duration": 5,
        "start_time": "2022-08-31T19:50:34.776Z"
      },
      {
        "duration": 6,
        "start_time": "2022-08-31T19:50:35.672Z"
      },
      {
        "duration": 6,
        "start_time": "2022-08-31T19:50:36.615Z"
      },
      {
        "duration": 5,
        "start_time": "2022-08-31T19:50:37.622Z"
      },
      {
        "duration": 5,
        "start_time": "2022-08-31T19:50:38.551Z"
      },
      {
        "duration": 6,
        "start_time": "2022-08-31T19:50:39.777Z"
      },
      {
        "duration": 8,
        "start_time": "2022-08-31T19:50:47.725Z"
      },
      {
        "duration": 9,
        "start_time": "2022-08-31T19:50:49.022Z"
      },
      {
        "duration": 8,
        "start_time": "2022-08-31T19:50:50.215Z"
      },
      {
        "duration": 8,
        "start_time": "2022-08-31T19:50:51.224Z"
      },
      {
        "duration": 8,
        "start_time": "2022-08-31T19:50:52.301Z"
      },
      {
        "duration": 7,
        "start_time": "2022-08-31T19:50:54.272Z"
      },
      {
        "duration": 22,
        "start_time": "2022-08-31T19:51:10.526Z"
      },
      {
        "duration": 5,
        "start_time": "2022-08-31T19:51:26.626Z"
      },
      {
        "duration": 8,
        "start_time": "2022-08-31T19:51:27.176Z"
      },
      {
        "duration": 7,
        "start_time": "2022-08-31T19:51:27.655Z"
      },
      {
        "duration": 8,
        "start_time": "2022-08-31T19:51:28.200Z"
      },
      {
        "duration": 9,
        "start_time": "2022-08-31T19:51:28.878Z"
      },
      {
        "duration": 7,
        "start_time": "2022-08-31T19:51:29.506Z"
      },
      {
        "duration": 3,
        "start_time": "2022-08-31T19:51:30.923Z"
      },
      {
        "duration": 7,
        "start_time": "2022-08-31T19:51:31.992Z"
      },
      {
        "duration": 9,
        "start_time": "2022-08-31T19:51:32.676Z"
      },
      {
        "duration": 7,
        "start_time": "2022-08-31T19:51:33.512Z"
      },
      {
        "duration": 9,
        "start_time": "2022-08-31T19:51:34.201Z"
      },
      {
        "duration": 10,
        "start_time": "2022-08-31T19:51:34.831Z"
      },
      {
        "duration": 10,
        "start_time": "2022-08-31T19:51:40.644Z"
      },
      {
        "duration": 681,
        "start_time": "2022-08-31T22:58:35.088Z"
      },
      {
        "duration": 5,
        "start_time": "2022-08-31T22:58:35.771Z"
      },
      {
        "duration": 19,
        "start_time": "2022-08-31T22:58:35.874Z"
      },
      {
        "duration": 14,
        "start_time": "2022-08-31T22:58:37.130Z"
      },
      {
        "duration": 4,
        "start_time": "2022-08-31T22:58:39.967Z"
      },
      {
        "duration": 16,
        "start_time": "2022-08-31T22:58:40.397Z"
      },
      {
        "duration": 12,
        "start_time": "2022-08-31T22:58:45.965Z"
      },
      {
        "duration": 68,
        "start_time": "2022-08-31T22:58:48.465Z"
      },
      {
        "duration": 5,
        "start_time": "2022-08-31T22:58:49.741Z"
      },
      {
        "duration": 5,
        "start_time": "2022-08-31T22:58:51.145Z"
      },
      {
        "duration": 5,
        "start_time": "2022-08-31T22:58:52.361Z"
      },
      {
        "duration": 6,
        "start_time": "2022-08-31T22:58:52.811Z"
      },
      {
        "duration": 5,
        "start_time": "2022-08-31T22:58:53.253Z"
      },
      {
        "duration": 5,
        "start_time": "2022-08-31T22:58:53.720Z"
      },
      {
        "duration": 6,
        "start_time": "2022-08-31T22:58:54.286Z"
      },
      {
        "duration": 5,
        "start_time": "2022-08-31T22:58:54.883Z"
      },
      {
        "duration": 5,
        "start_time": "2022-08-31T22:58:55.606Z"
      },
      {
        "duration": 7,
        "start_time": "2022-08-31T22:58:57.454Z"
      },
      {
        "duration": 6,
        "start_time": "2022-08-31T22:58:58.212Z"
      },
      {
        "duration": 7,
        "start_time": "2022-08-31T22:58:58.894Z"
      },
      {
        "duration": 7,
        "start_time": "2022-08-31T22:58:59.830Z"
      },
      {
        "duration": 7,
        "start_time": "2022-08-31T22:59:00.809Z"
      },
      {
        "duration": 6,
        "start_time": "2022-08-31T22:59:02.109Z"
      },
      {
        "duration": 23,
        "start_time": "2022-08-31T22:59:04.917Z"
      },
      {
        "duration": 5,
        "start_time": "2022-08-31T22:59:05.942Z"
      },
      {
        "duration": 6,
        "start_time": "2022-08-31T22:59:06.350Z"
      },
      {
        "duration": 5,
        "start_time": "2022-08-31T22:59:06.667Z"
      },
      {
        "duration": 6,
        "start_time": "2022-08-31T22:59:06.935Z"
      },
      {
        "duration": 7,
        "start_time": "2022-08-31T22:59:07.207Z"
      },
      {
        "duration": 7,
        "start_time": "2022-08-31T22:59:07.453Z"
      },
      {
        "duration": 3,
        "start_time": "2022-08-31T22:59:08.021Z"
      },
      {
        "duration": 6,
        "start_time": "2022-08-31T22:59:08.465Z"
      },
      {
        "duration": 8,
        "start_time": "2022-08-31T22:59:08.821Z"
      },
      {
        "duration": 6,
        "start_time": "2022-08-31T22:59:09.482Z"
      },
      {
        "duration": 9,
        "start_time": "2022-08-31T22:59:09.909Z"
      },
      {
        "duration": 8,
        "start_time": "2022-08-31T22:59:10.418Z"
      },
      {
        "duration": 10,
        "start_time": "2022-08-31T22:59:11.232Z"
      },
      {
        "duration": 5,
        "start_time": "2022-08-31T23:05:09.595Z"
      },
      {
        "duration": 6,
        "start_time": "2022-08-31T23:05:10.229Z"
      },
      {
        "duration": 4,
        "start_time": "2022-08-31T23:05:11.338Z"
      },
      {
        "duration": 3,
        "start_time": "2022-08-31T23:05:17.607Z"
      },
      {
        "duration": 40,
        "start_time": "2022-08-31T23:05:18.521Z"
      },
      {
        "duration": 11,
        "start_time": "2022-08-31T23:05:19.042Z"
      },
      {
        "duration": 56,
        "start_time": "2022-08-31T23:07:50.391Z"
      },
      {
        "duration": 8,
        "start_time": "2022-08-31T23:10:18.242Z"
      },
      {
        "duration": 4,
        "start_time": "2022-08-31T23:10:24.577Z"
      },
      {
        "duration": 6,
        "start_time": "2022-08-31T23:10:25.752Z"
      },
      {
        "duration": 48,
        "start_time": "2022-08-31T23:11:41.745Z"
      },
      {
        "duration": 8,
        "start_time": "2022-08-31T23:12:02.718Z"
      },
      {
        "duration": 34,
        "start_time": "2022-08-31T23:14:22.711Z"
      },
      {
        "duration": 53,
        "start_time": "2022-08-31T23:14:41.504Z"
      },
      {
        "duration": 4,
        "start_time": "2022-08-31T23:14:42.378Z"
      },
      {
        "duration": 12,
        "start_time": "2022-08-31T23:14:42.926Z"
      },
      {
        "duration": 14,
        "start_time": "2022-08-31T23:14:44.996Z"
      },
      {
        "duration": 4,
        "start_time": "2022-08-31T23:14:46.667Z"
      },
      {
        "duration": 15,
        "start_time": "2022-08-31T23:14:47.025Z"
      },
      {
        "duration": 11,
        "start_time": "2022-08-31T23:14:48.815Z"
      },
      {
        "duration": 76,
        "start_time": "2022-08-31T23:14:50.234Z"
      },
      {
        "duration": 4,
        "start_time": "2022-08-31T23:14:51.679Z"
      },
      {
        "duration": 5,
        "start_time": "2022-08-31T23:14:52.865Z"
      },
      {
        "duration": 5,
        "start_time": "2022-08-31T23:14:53.981Z"
      },
      {
        "duration": 5,
        "start_time": "2022-08-31T23:14:54.736Z"
      },
      {
        "duration": 5,
        "start_time": "2022-08-31T23:14:55.479Z"
      },
      {
        "duration": 5,
        "start_time": "2022-08-31T23:14:56.236Z"
      },
      {
        "duration": 5,
        "start_time": "2022-08-31T23:14:56.968Z"
      },
      {
        "duration": 5,
        "start_time": "2022-08-31T23:14:57.686Z"
      },
      {
        "duration": 5,
        "start_time": "2022-08-31T23:14:58.407Z"
      },
      {
        "duration": 6,
        "start_time": "2022-08-31T23:14:59.905Z"
      },
      {
        "duration": 7,
        "start_time": "2022-08-31T23:15:00.736Z"
      },
      {
        "duration": 7,
        "start_time": "2022-08-31T23:15:01.509Z"
      },
      {
        "duration": 7,
        "start_time": "2022-08-31T23:15:02.230Z"
      },
      {
        "duration": 7,
        "start_time": "2022-08-31T23:15:02.944Z"
      },
      {
        "duration": 5,
        "start_time": "2022-08-31T23:15:03.653Z"
      },
      {
        "duration": 19,
        "start_time": "2022-08-31T23:15:05.118Z"
      },
      {
        "duration": 6,
        "start_time": "2022-08-31T23:15:05.912Z"
      },
      {
        "duration": 7,
        "start_time": "2022-08-31T23:15:06.326Z"
      },
      {
        "duration": 6,
        "start_time": "2022-08-31T23:15:06.775Z"
      },
      {
        "duration": 7,
        "start_time": "2022-08-31T23:15:07.568Z"
      },
      {
        "duration": 7,
        "start_time": "2022-08-31T23:15:08.193Z"
      },
      {
        "duration": 7,
        "start_time": "2022-08-31T23:15:08.615Z"
      },
      {
        "duration": 3,
        "start_time": "2022-08-31T23:15:09.393Z"
      },
      {
        "duration": 6,
        "start_time": "2022-08-31T23:15:09.768Z"
      },
      {
        "duration": 8,
        "start_time": "2022-08-31T23:15:10.080Z"
      },
      {
        "duration": 7,
        "start_time": "2022-08-31T23:15:10.404Z"
      },
      {
        "duration": 10,
        "start_time": "2022-08-31T23:15:10.719Z"
      },
      {
        "duration": 9,
        "start_time": "2022-08-31T23:15:11.042Z"
      },
      {
        "duration": 9,
        "start_time": "2022-08-31T23:15:11.437Z"
      },
      {
        "duration": 5,
        "start_time": "2022-08-31T23:15:15.113Z"
      },
      {
        "duration": 4,
        "start_time": "2022-08-31T23:15:15.757Z"
      },
      {
        "duration": 3,
        "start_time": "2022-08-31T23:15:16.734Z"
      },
      {
        "duration": 5,
        "start_time": "2022-08-31T23:15:17.551Z"
      },
      {
        "duration": 25,
        "start_time": "2022-08-31T23:15:18.284Z"
      },
      {
        "duration": 12,
        "start_time": "2022-08-31T23:15:18.694Z"
      },
      {
        "duration": 6,
        "start_time": "2022-08-31T23:15:23.438Z"
      },
      {
        "duration": 8,
        "start_time": "2022-08-31T23:15:23.790Z"
      },
      {
        "duration": 7,
        "start_time": "2022-08-31T23:15:24.553Z"
      },
      {
        "duration": 10,
        "start_time": "2022-08-31T23:15:25.328Z"
      },
      {
        "duration": 5,
        "start_time": "2022-08-31T23:15:26.319Z"
      },
      {
        "duration": 5,
        "start_time": "2022-08-31T23:15:27.547Z"
      },
      {
        "duration": 16,
        "start_time": "2022-08-31T23:15:28.639Z"
      },
      {
        "duration": 5,
        "start_time": "2022-08-31T23:15:29.935Z"
      },
      {
        "duration": 4,
        "start_time": "2022-08-31T23:15:30.932Z"
      },
      {
        "duration": 8,
        "start_time": "2022-08-31T23:15:32.068Z"
      },
      {
        "duration": 4,
        "start_time": "2022-08-31T23:15:32.452Z"
      },
      {
        "duration": 6,
        "start_time": "2022-08-31T23:15:33.840Z"
      },
      {
        "duration": 9,
        "start_time": "2022-08-31T23:15:41.529Z"
      },
      {
        "duration": 8,
        "start_time": "2022-08-31T23:16:08.428Z"
      },
      {
        "duration": 11,
        "start_time": "2022-08-31T23:16:09.268Z"
      },
      {
        "duration": 4,
        "start_time": "2022-08-31T23:16:09.982Z"
      },
      {
        "duration": 20,
        "start_time": "2022-08-31T23:16:12.231Z"
      },
      {
        "duration": 4095,
        "start_time": "2022-08-31T23:16:14.107Z"
      },
      {
        "duration": 9,
        "start_time": "2022-08-31T23:16:18.203Z"
      },
      {
        "duration": 8,
        "start_time": "2022-08-31T23:16:20.024Z"
      },
      {
        "duration": 2,
        "start_time": "2022-08-31T23:25:49.770Z"
      },
      {
        "duration": 68,
        "start_time": "2022-08-31T23:27:53.651Z"
      },
      {
        "duration": 4,
        "start_time": "2022-08-31T23:27:53.720Z"
      },
      {
        "duration": 17,
        "start_time": "2022-08-31T23:27:53.725Z"
      },
      {
        "duration": 13,
        "start_time": "2022-08-31T23:27:53.743Z"
      },
      {
        "duration": 3,
        "start_time": "2022-08-31T23:27:53.757Z"
      },
      {
        "duration": 47,
        "start_time": "2022-08-31T23:27:53.762Z"
      },
      {
        "duration": 12,
        "start_time": "2022-08-31T23:27:53.811Z"
      },
      {
        "duration": 51,
        "start_time": "2022-08-31T23:27:53.824Z"
      },
      {
        "duration": 5,
        "start_time": "2022-08-31T23:27:53.876Z"
      },
      {
        "duration": 14,
        "start_time": "2022-08-31T23:27:53.897Z"
      },
      {
        "duration": 8,
        "start_time": "2022-08-31T23:27:53.913Z"
      },
      {
        "duration": 6,
        "start_time": "2022-08-31T23:27:53.923Z"
      },
      {
        "duration": 17,
        "start_time": "2022-08-31T23:27:53.930Z"
      },
      {
        "duration": 16,
        "start_time": "2022-08-31T23:27:53.950Z"
      },
      {
        "duration": 23,
        "start_time": "2022-08-31T23:27:53.967Z"
      },
      {
        "duration": 24,
        "start_time": "2022-08-31T23:27:53.991Z"
      },
      {
        "duration": 11,
        "start_time": "2022-08-31T23:27:54.017Z"
      },
      {
        "duration": 6,
        "start_time": "2022-08-31T23:27:54.030Z"
      },
      {
        "duration": 9,
        "start_time": "2022-08-31T23:27:54.038Z"
      },
      {
        "duration": 8,
        "start_time": "2022-08-31T23:27:54.048Z"
      },
      {
        "duration": 7,
        "start_time": "2022-08-31T23:27:54.058Z"
      },
      {
        "duration": 8,
        "start_time": "2022-08-31T23:27:54.067Z"
      },
      {
        "duration": 6,
        "start_time": "2022-08-31T23:27:54.076Z"
      },
      {
        "duration": 24,
        "start_time": "2022-08-31T23:27:54.105Z"
      },
      {
        "duration": 5,
        "start_time": "2022-08-31T23:27:54.131Z"
      },
      {
        "duration": 6,
        "start_time": "2022-08-31T23:27:54.138Z"
      },
      {
        "duration": 9,
        "start_time": "2022-08-31T23:27:54.146Z"
      },
      {
        "duration": 15,
        "start_time": "2022-08-31T23:27:54.156Z"
      },
      {
        "duration": 6,
        "start_time": "2022-08-31T23:27:54.172Z"
      },
      {
        "duration": 30,
        "start_time": "2022-08-31T23:27:54.180Z"
      },
      {
        "duration": 29,
        "start_time": "2022-08-31T23:27:54.212Z"
      },
      {
        "duration": 7,
        "start_time": "2022-08-31T23:27:54.243Z"
      },
      {
        "duration": 8,
        "start_time": "2022-08-31T23:27:54.251Z"
      },
      {
        "duration": 6,
        "start_time": "2022-08-31T23:27:54.260Z"
      },
      {
        "duration": 10,
        "start_time": "2022-08-31T23:27:54.267Z"
      },
      {
        "duration": 10,
        "start_time": "2022-08-31T23:27:54.278Z"
      },
      {
        "duration": 24,
        "start_time": "2022-08-31T23:27:54.289Z"
      },
      {
        "duration": 7,
        "start_time": "2022-08-31T23:27:54.314Z"
      },
      {
        "duration": 6,
        "start_time": "2022-08-31T23:27:54.322Z"
      },
      {
        "duration": 5,
        "start_time": "2022-08-31T23:27:54.329Z"
      },
      {
        "duration": 4,
        "start_time": "2022-08-31T23:27:54.337Z"
      },
      {
        "duration": 23,
        "start_time": "2022-08-31T23:27:54.343Z"
      },
      {
        "duration": 10,
        "start_time": "2022-08-31T23:27:54.367Z"
      },
      {
        "duration": 22,
        "start_time": "2022-08-31T23:27:54.378Z"
      },
      {
        "duration": 16,
        "start_time": "2022-08-31T23:27:54.402Z"
      },
      {
        "duration": 10,
        "start_time": "2022-08-31T23:27:54.420Z"
      },
      {
        "duration": 14,
        "start_time": "2022-08-31T23:27:54.431Z"
      },
      {
        "duration": 15,
        "start_time": "2022-08-31T23:27:54.446Z"
      },
      {
        "duration": 13,
        "start_time": "2022-08-31T23:27:54.462Z"
      },
      {
        "duration": 39,
        "start_time": "2022-08-31T23:27:54.477Z"
      },
      {
        "duration": 11,
        "start_time": "2022-08-31T23:27:54.518Z"
      },
      {
        "duration": 5,
        "start_time": "2022-08-31T23:27:54.531Z"
      },
      {
        "duration": 14,
        "start_time": "2022-08-31T23:27:54.538Z"
      },
      {
        "duration": 5,
        "start_time": "2022-08-31T23:27:54.554Z"
      },
      {
        "duration": 16,
        "start_time": "2022-08-31T23:27:54.560Z"
      },
      {
        "duration": 10,
        "start_time": "2022-08-31T23:27:54.578Z"
      },
      {
        "duration": 36,
        "start_time": "2022-08-31T23:27:54.590Z"
      },
      {
        "duration": 5,
        "start_time": "2022-08-31T23:27:54.627Z"
      },
      {
        "duration": 21,
        "start_time": "2022-08-31T23:27:54.634Z"
      },
      {
        "duration": 4116,
        "start_time": "2022-08-31T23:27:54.657Z"
      },
      {
        "duration": 7,
        "start_time": "2022-08-31T23:27:58.775Z"
      },
      {
        "duration": 19,
        "start_time": "2022-08-31T23:27:58.783Z"
      },
      {
        "duration": 13,
        "start_time": "2022-08-31T23:28:00.534Z"
      },
      {
        "duration": 25,
        "start_time": "2022-08-31T23:28:02.789Z"
      },
      {
        "duration": 70,
        "start_time": "2022-08-31T23:29:22.171Z"
      },
      {
        "duration": 24,
        "start_time": "2022-08-31T23:30:05.484Z"
      },
      {
        "duration": 2,
        "start_time": "2022-08-31T23:30:46.637Z"
      },
      {
        "duration": 197,
        "start_time": "2022-08-31T23:30:48.595Z"
      },
      {
        "duration": 6,
        "start_time": "2022-08-31T23:30:51.238Z"
      },
      {
        "duration": 20,
        "start_time": "2022-08-31T23:32:56.685Z"
      },
      {
        "duration": 5,
        "start_time": "2022-08-31T23:32:57.187Z"
      },
      {
        "duration": 4,
        "start_time": "2022-08-31T23:32:59.330Z"
      },
      {
        "duration": 8,
        "start_time": "2022-08-31T23:32:59.649Z"
      },
      {
        "duration": 6,
        "start_time": "2022-08-31T23:33:00.365Z"
      },
      {
        "duration": 10,
        "start_time": "2022-08-31T23:33:01.111Z"
      },
      {
        "duration": 5,
        "start_time": "2022-08-31T23:33:01.853Z"
      },
      {
        "duration": 5,
        "start_time": "2022-08-31T23:33:03.291Z"
      },
      {
        "duration": 24,
        "start_time": "2022-08-31T23:33:04.294Z"
      },
      {
        "duration": 4,
        "start_time": "2022-08-31T23:33:05.429Z"
      },
      {
        "duration": 4,
        "start_time": "2022-08-31T23:33:06.241Z"
      },
      {
        "duration": 7,
        "start_time": "2022-08-31T23:33:07.154Z"
      },
      {
        "duration": 4,
        "start_time": "2022-08-31T23:33:07.569Z"
      },
      {
        "duration": 5,
        "start_time": "2022-08-31T23:33:08.575Z"
      },
      {
        "duration": 12,
        "start_time": "2022-08-31T23:33:12.304Z"
      },
      {
        "duration": 11,
        "start_time": "2022-08-31T23:33:13.494Z"
      },
      {
        "duration": 5,
        "start_time": "2022-08-31T23:33:14.021Z"
      },
      {
        "duration": 9,
        "start_time": "2022-08-31T23:33:15.643Z"
      },
      {
        "duration": 6,
        "start_time": "2022-08-31T23:33:19.473Z"
      },
      {
        "duration": 18,
        "start_time": "2022-08-31T23:33:21.894Z"
      },
      {
        "duration": 5,
        "start_time": "2022-08-31T23:33:23.356Z"
      },
      {
        "duration": 6,
        "start_time": "2022-08-31T23:33:26.770Z"
      },
      {
        "duration": 24,
        "start_time": "2022-08-31T23:33:28.487Z"
      },
      {
        "duration": 2,
        "start_time": "2022-08-31T23:33:35.036Z"
      },
      {
        "duration": 199,
        "start_time": "2022-08-31T23:33:35.837Z"
      },
      {
        "duration": 6,
        "start_time": "2022-08-31T23:33:36.877Z"
      },
      {
        "duration": 25,
        "start_time": "2022-08-31T23:33:43.887Z"
      },
      {
        "duration": 7,
        "start_time": "2022-08-31T23:34:05.252Z"
      },
      {
        "duration": 7,
        "start_time": "2022-08-31T23:34:10.074Z"
      },
      {
        "duration": 6,
        "start_time": "2022-08-31T23:34:10.922Z"
      },
      {
        "duration": 18,
        "start_time": "2022-08-31T23:34:18.855Z"
      },
      {
        "duration": 4,
        "start_time": "2022-08-31T23:34:20.577Z"
      },
      {
        "duration": 4,
        "start_time": "2022-08-31T23:34:21.191Z"
      },
      {
        "duration": 6,
        "start_time": "2022-08-31T23:34:30.132Z"
      },
      {
        "duration": 6,
        "start_time": "2022-08-31T23:34:32.848Z"
      },
      {
        "duration": 4,
        "start_time": "2022-08-31T23:34:35.149Z"
      },
      {
        "duration": 8,
        "start_time": "2022-08-31T23:34:45.620Z"
      },
      {
        "duration": 14,
        "start_time": "2022-08-31T23:34:47.619Z"
      },
      {
        "duration": 6,
        "start_time": "2022-08-31T23:34:48.315Z"
      },
      {
        "duration": 3,
        "start_time": "2022-08-31T23:34:48.831Z"
      },
      {
        "duration": 9,
        "start_time": "2022-08-31T23:34:49.735Z"
      },
      {
        "duration": 5,
        "start_time": "2022-08-31T23:34:50.316Z"
      },
      {
        "duration": 16,
        "start_time": "2022-08-31T23:34:58.017Z"
      },
      {
        "duration": 16,
        "start_time": "2022-08-31T23:36:34.873Z"
      },
      {
        "duration": 17,
        "start_time": "2022-08-31T23:36:39.498Z"
      },
      {
        "duration": 17,
        "start_time": "2022-08-31T23:36:40.382Z"
      },
      {
        "duration": 14,
        "start_time": "2022-08-31T23:36:41.336Z"
      },
      {
        "duration": 53,
        "start_time": "2022-08-31T23:37:14.329Z"
      },
      {
        "duration": 4,
        "start_time": "2022-08-31T23:37:47.992Z"
      },
      {
        "duration": 13,
        "start_time": "2022-08-31T23:38:36.255Z"
      },
      {
        "duration": 37,
        "start_time": "2022-08-31T23:38:49.754Z"
      },
      {
        "duration": 73,
        "start_time": "2022-08-31T23:39:40.176Z"
      },
      {
        "duration": 4,
        "start_time": "2022-08-31T23:39:41.741Z"
      },
      {
        "duration": 12,
        "start_time": "2022-08-31T23:39:42.439Z"
      },
      {
        "duration": 16,
        "start_time": "2022-08-31T23:39:44.212Z"
      },
      {
        "duration": 5,
        "start_time": "2022-08-31T23:39:46.258Z"
      },
      {
        "duration": 13,
        "start_time": "2022-08-31T23:39:46.706Z"
      },
      {
        "duration": 12,
        "start_time": "2022-08-31T23:39:48.606Z"
      },
      {
        "duration": 70,
        "start_time": "2022-08-31T23:39:49.976Z"
      },
      {
        "duration": 4,
        "start_time": "2022-08-31T23:39:51.190Z"
      },
      {
        "duration": 5,
        "start_time": "2022-08-31T23:39:52.375Z"
      },
      {
        "duration": 5,
        "start_time": "2022-08-31T23:39:53.494Z"
      },
      {
        "duration": 5,
        "start_time": "2022-08-31T23:39:54.275Z"
      },
      {
        "duration": 5,
        "start_time": "2022-08-31T23:39:54.947Z"
      },
      {
        "duration": 5,
        "start_time": "2022-08-31T23:39:55.634Z"
      },
      {
        "duration": 5,
        "start_time": "2022-08-31T23:39:56.327Z"
      },
      {
        "duration": 5,
        "start_time": "2022-08-31T23:39:56.980Z"
      },
      {
        "duration": 5,
        "start_time": "2022-08-31T23:39:57.636Z"
      },
      {
        "duration": 5,
        "start_time": "2022-08-31T23:39:59.138Z"
      },
      {
        "duration": 6,
        "start_time": "2022-08-31T23:39:59.893Z"
      },
      {
        "duration": 7,
        "start_time": "2022-08-31T23:40:00.648Z"
      },
      {
        "duration": 7,
        "start_time": "2022-08-31T23:40:01.422Z"
      },
      {
        "duration": 7,
        "start_time": "2022-08-31T23:40:02.165Z"
      },
      {
        "duration": 5,
        "start_time": "2022-08-31T23:40:02.937Z"
      },
      {
        "duration": 19,
        "start_time": "2022-08-31T23:40:04.743Z"
      },
      {
        "duration": 5,
        "start_time": "2022-08-31T23:40:05.553Z"
      },
      {
        "duration": 6,
        "start_time": "2022-08-31T23:40:05.896Z"
      },
      {
        "duration": 5,
        "start_time": "2022-08-31T23:40:06.282Z"
      },
      {
        "duration": 8,
        "start_time": "2022-08-31T23:40:06.702Z"
      },
      {
        "duration": 6,
        "start_time": "2022-08-31T23:40:07.451Z"
      },
      {
        "duration": 5,
        "start_time": "2022-08-31T23:40:07.484Z"
      },
      {
        "duration": 2,
        "start_time": "2022-08-31T23:40:08.304Z"
      },
      {
        "duration": 6,
        "start_time": "2022-08-31T23:40:08.636Z"
      },
      {
        "duration": 8,
        "start_time": "2022-08-31T23:40:09.040Z"
      },
      {
        "duration": 6,
        "start_time": "2022-08-31T23:40:09.467Z"
      },
      {
        "duration": 9,
        "start_time": "2022-08-31T23:40:09.839Z"
      },
      {
        "duration": 8,
        "start_time": "2022-08-31T23:40:10.262Z"
      },
      {
        "duration": 9,
        "start_time": "2022-08-31T23:40:10.683Z"
      },
      {
        "duration": 5,
        "start_time": "2022-08-31T23:40:12.657Z"
      },
      {
        "duration": 5,
        "start_time": "2022-08-31T23:40:13.036Z"
      },
      {
        "duration": 3,
        "start_time": "2022-08-31T23:40:13.751Z"
      },
      {
        "duration": 6,
        "start_time": "2022-08-31T23:40:14.500Z"
      },
      {
        "duration": 26,
        "start_time": "2022-08-31T23:40:14.867Z"
      },
      {
        "duration": 12,
        "start_time": "2022-08-31T23:40:15.275Z"
      },
      {
        "duration": 5,
        "start_time": "2022-08-31T23:40:18.067Z"
      },
      {
        "duration": 8,
        "start_time": "2022-08-31T23:40:18.455Z"
      },
      {
        "duration": 6,
        "start_time": "2022-08-31T23:40:19.197Z"
      },
      {
        "duration": 12,
        "start_time": "2022-08-31T23:40:19.959Z"
      },
      {
        "duration": 4,
        "start_time": "2022-08-31T23:40:20.701Z"
      },
      {
        "duration": 6,
        "start_time": "2022-08-31T23:40:21.763Z"
      },
      {
        "duration": 16,
        "start_time": "2022-08-31T23:40:22.508Z"
      },
      {
        "duration": 4,
        "start_time": "2022-08-31T23:40:23.538Z"
      },
      {
        "duration": 4,
        "start_time": "2022-08-31T23:40:24.280Z"
      },
      {
        "duration": 8,
        "start_time": "2022-08-31T23:40:25.013Z"
      },
      {
        "duration": 3,
        "start_time": "2022-08-31T23:40:25.386Z"
      },
      {
        "duration": 6,
        "start_time": "2022-08-31T23:40:26.079Z"
      },
      {
        "duration": 7,
        "start_time": "2022-08-31T23:40:27.883Z"
      },
      {
        "duration": 10,
        "start_time": "2022-08-31T23:40:28.223Z"
      },
      {
        "duration": 4,
        "start_time": "2022-08-31T23:40:28.582Z"
      },
      {
        "duration": 14,
        "start_time": "2022-08-31T23:40:29.701Z"
      },
      {
        "duration": 4201,
        "start_time": "2022-08-31T23:40:30.808Z"
      },
      {
        "duration": 8,
        "start_time": "2022-08-31T23:40:35.010Z"
      },
      {
        "duration": 35,
        "start_time": "2022-08-31T23:40:35.019Z"
      },
      {
        "duration": 11,
        "start_time": "2022-08-31T23:40:36.029Z"
      },
      {
        "duration": 16,
        "start_time": "2022-08-31T23:40:37.661Z"
      },
      {
        "duration": 2,
        "start_time": "2022-08-31T23:40:43.549Z"
      },
      {
        "duration": 185,
        "start_time": "2022-08-31T23:40:44.536Z"
      },
      {
        "duration": 5,
        "start_time": "2022-08-31T23:40:45.498Z"
      },
      {
        "duration": 16,
        "start_time": "2022-08-31T23:40:46.843Z"
      },
      {
        "duration": 5,
        "start_time": "2022-08-31T23:40:47.929Z"
      },
      {
        "duration": 5,
        "start_time": "2022-08-31T23:40:48.827Z"
      },
      {
        "duration": 5,
        "start_time": "2022-08-31T23:40:49.467Z"
      },
      {
        "duration": 13,
        "start_time": "2022-08-31T23:40:50.833Z"
      },
      {
        "duration": 3,
        "start_time": "2022-08-31T23:40:51.547Z"
      },
      {
        "duration": 4,
        "start_time": "2022-08-31T23:40:51.913Z"
      },
      {
        "duration": 7,
        "start_time": "2022-08-31T23:40:53.125Z"
      },
      {
        "duration": 7,
        "start_time": "2022-08-31T23:40:54.363Z"
      },
      {
        "duration": 4,
        "start_time": "2022-08-31T23:40:55.503Z"
      },
      {
        "duration": 7,
        "start_time": "2022-08-31T23:40:57.215Z"
      },
      {
        "duration": 14,
        "start_time": "2022-08-31T23:40:58.597Z"
      },
      {
        "duration": 5,
        "start_time": "2022-08-31T23:40:59.097Z"
      },
      {
        "duration": 3,
        "start_time": "2022-08-31T23:40:59.542Z"
      },
      {
        "duration": 9,
        "start_time": "2022-08-31T23:41:00.051Z"
      },
      {
        "duration": 5,
        "start_time": "2022-08-31T23:41:00.475Z"
      },
      {
        "duration": 17,
        "start_time": "2022-08-31T23:41:01.754Z"
      },
      {
        "duration": 16,
        "start_time": "2022-08-31T23:41:03.858Z"
      },
      {
        "duration": 18,
        "start_time": "2022-08-31T23:41:04.475Z"
      },
      {
        "duration": 13,
        "start_time": "2022-08-31T23:41:05.178Z"
      },
      {
        "duration": 4,
        "start_time": "2022-08-31T23:41:08.042Z"
      },
      {
        "duration": 18,
        "start_time": "2022-08-31T23:41:10.859Z"
      },
      {
        "duration": 21,
        "start_time": "2022-08-31T23:41:11.859Z"
      },
      {
        "duration": 22,
        "start_time": "2022-08-31T23:41:16.186Z"
      },
      {
        "duration": 8,
        "start_time": "2022-08-31T23:41:18.428Z"
      },
      {
        "duration": 5,
        "start_time": "2022-08-31T23:41:21.899Z"
      },
      {
        "duration": 3,
        "start_time": "2022-08-31T23:41:22.851Z"
      },
      {
        "duration": 587,
        "start_time": "2022-08-31T23:41:23.517Z"
      },
      {
        "duration": 10,
        "start_time": "2022-08-31T23:41:24.154Z"
      },
      {
        "duration": 5,
        "start_time": "2022-08-31T23:41:26.151Z"
      },
      {
        "duration": 8,
        "start_time": "2022-08-31T23:41:27.474Z"
      },
      {
        "duration": 13,
        "start_time": "2022-08-31T23:41:29.237Z"
      },
      {
        "duration": 18,
        "start_time": "2022-08-31T23:41:32.622Z"
      },
      {
        "duration": 16,
        "start_time": "2022-08-31T23:41:33.904Z"
      },
      {
        "duration": 17,
        "start_time": "2022-08-31T23:41:35.375Z"
      },
      {
        "duration": 3,
        "start_time": "2022-08-31T23:55:10.255Z"
      },
      {
        "duration": 1341,
        "start_time": "2022-08-31T23:55:14.348Z"
      },
      {
        "duration": 9,
        "start_time": "2022-08-31T23:55:15.690Z"
      },
      {
        "duration": 5,
        "start_time": "2022-08-31T23:55:17.833Z"
      },
      {
        "duration": 12,
        "start_time": "2022-08-31T23:55:19.146Z"
      },
      {
        "duration": 5,
        "start_time": "2022-09-01T00:05:37.781Z"
      },
      {
        "duration": 4,
        "start_time": "2022-09-01T00:05:49.389Z"
      },
      {
        "duration": 16,
        "start_time": "2022-09-01T00:05:58.396Z"
      },
      {
        "duration": 7,
        "start_time": "2022-09-01T00:06:14.582Z"
      },
      {
        "duration": 21,
        "start_time": "2022-09-01T00:06:24.777Z"
      },
      {
        "duration": 24,
        "start_time": "2022-09-01T00:06:42.130Z"
      },
      {
        "duration": 37,
        "start_time": "2022-09-01T00:06:56.802Z"
      },
      {
        "duration": 63,
        "start_time": "2022-09-01T00:08:19.838Z"
      },
      {
        "duration": 4,
        "start_time": "2022-09-01T00:08:30.007Z"
      },
      {
        "duration": 4,
        "start_time": "2022-09-01T00:08:31.811Z"
      },
      {
        "duration": 7,
        "start_time": "2022-09-01T00:08:33.019Z"
      },
      {
        "duration": 20,
        "start_time": "2022-09-01T00:08:34.830Z"
      },
      {
        "duration": 11,
        "start_time": "2022-09-01T00:08:35.604Z"
      },
      {
        "duration": 20,
        "start_time": "2022-09-01T00:08:41.545Z"
      },
      {
        "duration": 17,
        "start_time": "2022-09-01T00:08:43.922Z"
      },
      {
        "duration": 636,
        "start_time": "2022-09-01T03:31:15.982Z"
      },
      {
        "duration": 5,
        "start_time": "2022-09-01T03:31:16.620Z"
      },
      {
        "duration": 26,
        "start_time": "2022-09-01T03:31:16.627Z"
      },
      {
        "duration": 16,
        "start_time": "2022-09-01T03:31:16.655Z"
      },
      {
        "duration": 11,
        "start_time": "2022-09-01T03:31:16.673Z"
      },
      {
        "duration": 20,
        "start_time": "2022-09-01T03:31:16.686Z"
      },
      {
        "duration": 14,
        "start_time": "2022-09-01T03:31:16.708Z"
      },
      {
        "duration": 78,
        "start_time": "2022-09-01T03:31:16.724Z"
      },
      {
        "duration": 5,
        "start_time": "2022-09-01T03:31:16.804Z"
      },
      {
        "duration": 13,
        "start_time": "2022-09-01T03:31:16.810Z"
      },
      {
        "duration": 9,
        "start_time": "2022-09-01T03:31:16.825Z"
      },
      {
        "duration": 7,
        "start_time": "2022-09-01T03:31:16.836Z"
      },
      {
        "duration": 7,
        "start_time": "2022-09-01T03:31:16.845Z"
      },
      {
        "duration": 8,
        "start_time": "2022-09-01T03:31:16.855Z"
      },
      {
        "duration": 6,
        "start_time": "2022-09-01T03:31:16.892Z"
      },
      {
        "duration": 6,
        "start_time": "2022-09-01T03:31:16.900Z"
      },
      {
        "duration": 10,
        "start_time": "2022-09-01T03:31:16.907Z"
      },
      {
        "duration": 10,
        "start_time": "2022-09-01T03:31:16.918Z"
      },
      {
        "duration": 9,
        "start_time": "2022-09-01T03:31:16.929Z"
      },
      {
        "duration": 9,
        "start_time": "2022-09-01T03:31:16.940Z"
      },
      {
        "duration": 47,
        "start_time": "2022-09-01T03:31:16.951Z"
      },
      {
        "duration": 9,
        "start_time": "2022-09-01T03:31:17.000Z"
      },
      {
        "duration": 7,
        "start_time": "2022-09-01T03:31:17.011Z"
      },
      {
        "duration": 25,
        "start_time": "2022-09-01T03:31:17.020Z"
      },
      {
        "duration": 5,
        "start_time": "2022-09-01T03:31:17.048Z"
      },
      {
        "duration": 40,
        "start_time": "2022-09-01T03:31:17.055Z"
      },
      {
        "duration": 8,
        "start_time": "2022-09-01T03:31:17.097Z"
      },
      {
        "duration": 9,
        "start_time": "2022-09-01T03:31:17.106Z"
      },
      {
        "duration": 9,
        "start_time": "2022-09-01T03:31:17.117Z"
      },
      {
        "duration": 12,
        "start_time": "2022-09-01T03:31:17.128Z"
      },
      {
        "duration": 6,
        "start_time": "2022-09-01T03:31:17.142Z"
      },
      {
        "duration": 9,
        "start_time": "2022-09-01T03:31:17.150Z"
      },
      {
        "duration": 36,
        "start_time": "2022-09-01T03:31:17.161Z"
      },
      {
        "duration": 8,
        "start_time": "2022-09-01T03:31:17.199Z"
      },
      {
        "duration": 10,
        "start_time": "2022-09-01T03:31:17.209Z"
      },
      {
        "duration": 11,
        "start_time": "2022-09-01T03:31:17.220Z"
      },
      {
        "duration": 26,
        "start_time": "2022-09-01T03:31:17.233Z"
      },
      {
        "duration": 11,
        "start_time": "2022-09-01T03:31:17.261Z"
      },
      {
        "duration": 7,
        "start_time": "2022-09-01T03:31:17.291Z"
      },
      {
        "duration": 4,
        "start_time": "2022-09-01T03:31:17.300Z"
      },
      {
        "duration": 6,
        "start_time": "2022-09-01T03:31:17.309Z"
      },
      {
        "duration": 31,
        "start_time": "2022-09-01T03:31:17.317Z"
      },
      {
        "duration": 43,
        "start_time": "2022-09-01T03:31:17.350Z"
      },
      {
        "duration": 9,
        "start_time": "2022-09-01T03:31:17.395Z"
      },
      {
        "duration": 16,
        "start_time": "2022-09-01T03:31:17.405Z"
      },
      {
        "duration": 8,
        "start_time": "2022-09-01T03:31:17.423Z"
      },
      {
        "duration": 13,
        "start_time": "2022-09-01T03:31:17.433Z"
      },
      {
        "duration": 9,
        "start_time": "2022-09-01T03:31:17.448Z"
      },
      {
        "duration": 37,
        "start_time": "2022-09-01T03:31:17.458Z"
      },
      {
        "duration": 22,
        "start_time": "2022-09-01T03:31:17.497Z"
      },
      {
        "duration": 4,
        "start_time": "2022-09-01T03:31:17.521Z"
      },
      {
        "duration": 7,
        "start_time": "2022-09-01T03:31:17.527Z"
      },
      {
        "duration": 18,
        "start_time": "2022-09-01T03:31:17.536Z"
      },
      {
        "duration": 6,
        "start_time": "2022-09-01T03:31:17.556Z"
      },
      {
        "duration": 38,
        "start_time": "2022-09-01T03:31:17.563Z"
      },
      {
        "duration": 11,
        "start_time": "2022-09-01T03:31:17.603Z"
      },
      {
        "duration": 16,
        "start_time": "2022-09-01T03:31:17.616Z"
      },
      {
        "duration": 6,
        "start_time": "2022-09-01T03:31:17.634Z"
      },
      {
        "duration": 20,
        "start_time": "2022-09-01T03:31:17.642Z"
      },
      {
        "duration": 5413,
        "start_time": "2022-09-01T03:31:17.663Z"
      },
      {
        "duration": 14,
        "start_time": "2022-09-01T03:31:23.078Z"
      },
      {
        "duration": 12,
        "start_time": "2022-09-01T03:31:23.094Z"
      },
      {
        "duration": 14,
        "start_time": "2022-09-01T03:31:23.108Z"
      },
      {
        "duration": 20,
        "start_time": "2022-09-01T03:31:23.125Z"
      },
      {
        "duration": 4,
        "start_time": "2022-09-01T03:31:23.147Z"
      },
      {
        "duration": 236,
        "start_time": "2022-09-01T03:31:23.153Z"
      },
      {
        "duration": 8,
        "start_time": "2022-09-01T03:31:23.391Z"
      },
      {
        "duration": 19,
        "start_time": "2022-09-01T03:31:23.401Z"
      },
      {
        "duration": 9,
        "start_time": "2022-09-01T03:31:23.422Z"
      },
      {
        "duration": 7,
        "start_time": "2022-09-01T03:31:23.433Z"
      },
      {
        "duration": 9,
        "start_time": "2022-09-01T03:31:23.441Z"
      },
      {
        "duration": 51,
        "start_time": "2022-09-01T03:31:23.452Z"
      },
      {
        "duration": 4,
        "start_time": "2022-09-01T03:31:23.505Z"
      },
      {
        "duration": 6,
        "start_time": "2022-09-01T03:31:23.511Z"
      },
      {
        "duration": 8,
        "start_time": "2022-09-01T03:31:23.519Z"
      },
      {
        "duration": 8,
        "start_time": "2022-09-01T03:31:23.529Z"
      },
      {
        "duration": 6,
        "start_time": "2022-09-01T03:31:23.539Z"
      },
      {
        "duration": 48,
        "start_time": "2022-09-01T03:31:23.547Z"
      },
      {
        "duration": 16,
        "start_time": "2022-09-01T03:31:23.598Z"
      },
      {
        "duration": 7,
        "start_time": "2022-09-01T03:31:23.616Z"
      },
      {
        "duration": 4,
        "start_time": "2022-09-01T03:31:23.625Z"
      },
      {
        "duration": 14,
        "start_time": "2022-09-01T03:31:23.630Z"
      },
      {
        "duration": 8,
        "start_time": "2022-09-01T03:31:23.646Z"
      },
      {
        "duration": 53,
        "start_time": "2022-09-01T03:31:23.656Z"
      },
      {
        "duration": 22,
        "start_time": "2022-09-01T03:31:23.711Z"
      },
      {
        "duration": 17,
        "start_time": "2022-09-01T03:31:23.735Z"
      },
      {
        "duration": 41,
        "start_time": "2022-09-01T03:31:23.754Z"
      },
      {
        "duration": 4,
        "start_time": "2022-09-01T03:31:23.797Z"
      },
      {
        "duration": 28,
        "start_time": "2022-09-01T03:31:23.802Z"
      },
      {
        "duration": 71,
        "start_time": "2022-09-01T03:31:23.832Z"
      },
      {
        "duration": 24,
        "start_time": "2022-09-01T03:31:23.905Z"
      },
      {
        "duration": 9,
        "start_time": "2022-09-01T03:31:23.931Z"
      },
      {
        "duration": 6,
        "start_time": "2022-09-01T03:31:23.942Z"
      },
      {
        "duration": 6,
        "start_time": "2022-09-01T03:31:23.949Z"
      },
      {
        "duration": 690,
        "start_time": "2022-09-01T03:31:23.957Z"
      },
      {
        "duration": 11,
        "start_time": "2022-09-01T03:31:24.649Z"
      },
      {
        "duration": 9,
        "start_time": "2022-09-01T03:31:24.661Z"
      },
      {
        "duration": 22,
        "start_time": "2022-09-01T03:31:24.671Z"
      },
      {
        "duration": 17,
        "start_time": "2022-09-01T03:31:24.694Z"
      },
      {
        "duration": 22,
        "start_time": "2022-09-01T03:31:24.712Z"
      },
      {
        "duration": 19,
        "start_time": "2022-09-01T03:31:24.735Z"
      },
      {
        "duration": 50,
        "start_time": "2022-09-01T03:31:24.756Z"
      },
      {
        "duration": 3,
        "start_time": "2022-09-01T03:31:24.808Z"
      },
      {
        "duration": 1540,
        "start_time": "2022-09-01T03:31:24.812Z"
      },
      {
        "duration": 4,
        "start_time": "2022-09-01T03:31:26.354Z"
      },
      {
        "duration": 10,
        "start_time": "2022-09-01T03:31:26.360Z"
      },
      {
        "duration": 30,
        "start_time": "2022-09-01T03:31:26.371Z"
      },
      {
        "duration": 6,
        "start_time": "2022-09-01T03:31:26.402Z"
      },
      {
        "duration": 8,
        "start_time": "2022-09-01T03:31:26.409Z"
      },
      {
        "duration": 22,
        "start_time": "2022-09-01T03:31:26.418Z"
      },
      {
        "duration": 8,
        "start_time": "2022-09-01T03:31:26.441Z"
      },
      {
        "duration": 50,
        "start_time": "2022-09-01T03:31:26.450Z"
      },
      {
        "duration": 27,
        "start_time": "2022-09-01T03:31:26.502Z"
      },
      {
        "duration": 62,
        "start_time": "2022-09-01T03:31:26.531Z"
      },
      {
        "duration": 4,
        "start_time": "2022-09-01T03:31:26.594Z"
      },
      {
        "duration": 6,
        "start_time": "2022-09-01T03:31:26.600Z"
      },
      {
        "duration": 11,
        "start_time": "2022-09-01T03:31:26.608Z"
      },
      {
        "duration": 24,
        "start_time": "2022-09-01T03:31:26.621Z"
      },
      {
        "duration": 12,
        "start_time": "2022-09-01T03:31:26.646Z"
      },
      {
        "duration": 47,
        "start_time": "2022-09-01T03:31:26.659Z"
      },
      {
        "duration": 16,
        "start_time": "2022-09-01T03:31:26.708Z"
      }
    ],
    "kernelspec": {
      "display_name": "Python 3 (ipykernel)",
      "language": "python",
      "name": "python3"
    },
    "language_info": {
      "codemirror_mode": {
        "name": "ipython",
        "version": 3
      },
      "file_extension": ".py",
      "mimetype": "text/x-python",
      "name": "python",
      "nbconvert_exporter": "python",
      "pygments_lexer": "ipython3",
      "version": "3.9.5"
    },
    "toc": {
      "base_numbering": 1,
      "nav_menu": {},
      "number_sections": true,
      "sideBar": true,
      "skip_h1_title": true,
      "title_cell": "Table of Contents",
      "title_sidebar": "Contents",
      "toc_cell": false,
      "toc_position": {},
      "toc_section_display": true,
      "toc_window_display": false
    },
    "colab": {
      "provenance": []
    }
  },
  "nbformat": 4,
  "nbformat_minor": 0
}
