{
 "cells": [
  {
   "cell_type": "markdown",
   "metadata": {},
   "source": [
    "# Estudio de mercado sobre restaurantes en L.A."
   ]
  },
  {
   "cell_type": "markdown",
   "metadata": {},
   "source": [
    "La idea es abrir un pequeño café regentado por robots en Los Ángeles, California. El proyecto es prometedor pero caro, por lo que es necesario intentar atraer inversionistas. Tenemos datos procedentes de fuentes abiertas sobre restaurantes en L.A.\n",
    "\n",
    "Con estos datos realizaremos un estudio de mercado. Nos interesan las condiciones actuales del mercado, y intentaremos responder a la pregunta ¿seremos capaz de mantener el éxito de este restaurante cuando la novedad de los camareros robot desaparezca?\n",
    "\n",
    "Dividiremos este proyecto en dos partes:\n",
    "\n",
    "### **Análisis de datos**\n",
    "Recibimos el archivo *rest_data_us.csv.csv* que contiene datos de distintos restaurantes en Los Ángeles. Prepararemos los datos para el ánalisis. Con los datos revisados, realizaremos lo siguiente:\n",
    "\n",
    "- Investigaremos las proporciones de los distintos tipos de establecimientos.\n",
    "- Investigaremos las proporciones de los establecimientos que pertenecen a una cadena y de los que no.\n",
    "- Intentaremos responder a la siguiente pregunta: ¿Qué tipo de establecimiento es habitualmente una cadena?\n",
    "- Intentaremos responder a la siguiente pregunta: ¿Qué caracteriza a las cadenas: muchos establecimientos con un pequeño número de asientos o unos pocos establecimientos con un montón de asientos?\n",
    "- Determinaremos el promedio de número de asientos para cada tipo de restaurante. De promedio, ¿qué tipo de restaurante tiene el mayor número de asientos?\n",
    "- Trazaremos un gráfico de las diez mejores calles por número de restaurantes.\n",
    "- Encontraremos el número de calles que solo tienen un restaurante.\n",
    "- Para las calles con muchos restaurantes, analizaremos la distribución del número de asientos. Buscaremos las tendencias observables.\n",
    "\n",
    "\n",
    "\n",
    "### **Presentación de los datos**\n",
    "Prepararemos una presentación de nuestra investigación para compartir con el grupo de inversionistas."
   ]
  },
  {
   "cell_type": "markdown",
   "metadata": {},
   "source": [
    "# Contenido <a id='back'></a>\n",
    "\n",
    "* [1 Inicialización](#inicio)\n",
    "    * [1.1 Cargar datos](#carga_datos)\n",
    "    * [1.2 Explorar datos iniciales](#explorar_datos)\n",
    "    * [1.3 Revisión de valores ausentes y/o duplicados](#nan_duplicados)\n",
    "* [2 Análisis de datos](#data_analysis)\n",
    "    * [2.1 Proporciones de los distintos tipos de establecimientos](#prop_rest)\n",
    "    * [2.2 Proporciones de establecimientos que son o no cadenas](#prop_chain)\n",
    "    * [2.3 ¿Qué tipo de establecimiento es habitualmente una cadena?](#whats_chain)\n",
    "    * [2.4 ¿Qué caracteriza a las cadenas?](#seats_chain)\n",
    "    * [2.5 ¿Qué tipo de restaurante tiene el mayor número de asientos?](#more_seats)\n",
    "    * [2.6 Restaurantes por calle](#rest_streets)\n",
    "* [3 Conclusión](#conclution)\n",
    "* [4 Presentación](#presentation)"
   ]
  },
  {
   "cell_type": "markdown",
   "metadata": {},
   "source": [
    "## Inicialización <a id='inicio'></a>"
   ]
  },
  {
   "cell_type": "markdown",
   "metadata": {},
   "source": [
    "Con el fin de resolver nuestras dudas cargaremos las siguientes librerías:\n",
    "- Pandas\n",
    "- Matplotlib\n",
    "- Seaborn"
   ]
  },
  {
   "cell_type": "code",
   "execution_count": 772,
   "metadata": {},
   "outputs": [],
   "source": [
    "import pandas as pd\n",
    "import matplotlib.pyplot as plt\n",
    "import seaborn as sns\n",
    "import numpy as np\n",
    "import re"
   ]
  },
  {
   "cell_type": "markdown",
   "metadata": {},
   "source": [
    "### Cargas de datos: <a id='carga_datos'></a>"
   ]
  },
  {
   "cell_type": "markdown",
   "metadata": {},
   "source": [
    "Recibimos el siguiente archivos que vamos a obtimizar y luego cargaremos: *rest_data_us.csv*"
   ]
  },
  {
   "cell_type": "code",
   "execution_count": 773,
   "metadata": {},
   "outputs": [],
   "source": [
    "rest_data = pd.read_csv(\n",
    "    '/datasets/rest_data_us.csv',\n",
    "    dtype={'object_type':'category'},\n",
    ")"
   ]
  },
  {
   "cell_type": "markdown",
   "metadata": {},
   "source": [
    "### Explorar datos iniciales <a id='explorar_datos'></a>"
   ]
  },
  {
   "cell_type": "code",
   "execution_count": 774,
   "metadata": {},
   "outputs": [
    {
     "name": "stdout",
     "output_type": "stream",
     "text": [
      "<class 'pandas.core.frame.DataFrame'>\n",
      "RangeIndex: 9651 entries, 0 to 9650\n",
      "Data columns (total 6 columns):\n",
      " #   Column       Non-Null Count  Dtype   \n",
      "---  ------       --------------  -----   \n",
      " 0   id           9651 non-null   int64   \n",
      " 1   object_name  9651 non-null   object  \n",
      " 2   address      9651 non-null   object  \n",
      " 3   chain        9648 non-null   object  \n",
      " 4   object_type  9651 non-null   category\n",
      " 5   number       9651 non-null   int64   \n",
      "dtypes: category(1), int64(2), object(3)\n",
      "memory usage: 1.8 MB\n"
     ]
    }
   ],
   "source": [
    "rest_data.info(memory_usage='deep')"
   ]
  },
  {
   "cell_type": "code",
   "execution_count": 775,
   "metadata": {},
   "outputs": [],
   "source": [
    "rest_data.columns = ['rest_id', 'rest_name', 'rest_address', 'chain', 'rest_type', 'n_chairs'] "
   ]
  },
  {
   "cell_type": "code",
   "execution_count": 776,
   "metadata": {},
   "outputs": [
    {
     "data": {
      "text/html": [
       "<div>\n",
       "<style scoped>\n",
       "    .dataframe tbody tr th:only-of-type {\n",
       "        vertical-align: middle;\n",
       "    }\n",
       "\n",
       "    .dataframe tbody tr th {\n",
       "        vertical-align: top;\n",
       "    }\n",
       "\n",
       "    .dataframe thead th {\n",
       "        text-align: right;\n",
       "    }\n",
       "</style>\n",
       "<table border=\"1\" class=\"dataframe\">\n",
       "  <thead>\n",
       "    <tr style=\"text-align: right;\">\n",
       "      <th></th>\n",
       "      <th>rest_id</th>\n",
       "      <th>rest_name</th>\n",
       "      <th>rest_address</th>\n",
       "      <th>chain</th>\n",
       "      <th>rest_type</th>\n",
       "      <th>n_chairs</th>\n",
       "    </tr>\n",
       "  </thead>\n",
       "  <tbody>\n",
       "    <tr>\n",
       "      <th>0</th>\n",
       "      <td>11786</td>\n",
       "      <td>HABITAT COFFEE SHOP</td>\n",
       "      <td>3708 N EAGLE ROCK BLVD</td>\n",
       "      <td>False</td>\n",
       "      <td>Cafe</td>\n",
       "      <td>26</td>\n",
       "    </tr>\n",
       "    <tr>\n",
       "      <th>1</th>\n",
       "      <td>11787</td>\n",
       "      <td>REILLY'S</td>\n",
       "      <td>100 WORLD WAY # 120</td>\n",
       "      <td>False</td>\n",
       "      <td>Restaurant</td>\n",
       "      <td>9</td>\n",
       "    </tr>\n",
       "    <tr>\n",
       "      <th>2</th>\n",
       "      <td>11788</td>\n",
       "      <td>STREET CHURROS</td>\n",
       "      <td>6801 HOLLYWOOD BLVD # 253</td>\n",
       "      <td>False</td>\n",
       "      <td>Fast Food</td>\n",
       "      <td>20</td>\n",
       "    </tr>\n",
       "    <tr>\n",
       "      <th>3</th>\n",
       "      <td>11789</td>\n",
       "      <td>TRINITI ECHO PARK</td>\n",
       "      <td>1814 W SUNSET BLVD</td>\n",
       "      <td>False</td>\n",
       "      <td>Restaurant</td>\n",
       "      <td>22</td>\n",
       "    </tr>\n",
       "    <tr>\n",
       "      <th>4</th>\n",
       "      <td>11790</td>\n",
       "      <td>POLLEN</td>\n",
       "      <td>2100 ECHO PARK AVE</td>\n",
       "      <td>False</td>\n",
       "      <td>Restaurant</td>\n",
       "      <td>20</td>\n",
       "    </tr>\n",
       "  </tbody>\n",
       "</table>\n",
       "</div>"
      ],
      "text/plain": [
       "   rest_id            rest_name               rest_address  chain   rest_type  \\\n",
       "0    11786  HABITAT COFFEE SHOP     3708 N EAGLE ROCK BLVD  False        Cafe   \n",
       "1    11787             REILLY'S        100 WORLD WAY # 120  False  Restaurant   \n",
       "2    11788       STREET CHURROS  6801 HOLLYWOOD BLVD # 253  False   Fast Food   \n",
       "3    11789    TRINITI ECHO PARK         1814 W SUNSET BLVD  False  Restaurant   \n",
       "4    11790               POLLEN         2100 ECHO PARK AVE  False  Restaurant   \n",
       "\n",
       "   n_chairs  \n",
       "0        26  \n",
       "1         9  \n",
       "2        20  \n",
       "3        22  \n",
       "4        20  "
      ]
     },
     "execution_count": 776,
     "metadata": {},
     "output_type": "execute_result"
    }
   ],
   "source": [
    "rest_data.head(5)"
   ]
  },
  {
   "cell_type": "code",
   "execution_count": 777,
   "metadata": {},
   "outputs": [
    {
     "data": {
      "text/html": [
       "<div>\n",
       "<style scoped>\n",
       "    .dataframe tbody tr th:only-of-type {\n",
       "        vertical-align: middle;\n",
       "    }\n",
       "\n",
       "    .dataframe tbody tr th {\n",
       "        vertical-align: top;\n",
       "    }\n",
       "\n",
       "    .dataframe thead th {\n",
       "        text-align: right;\n",
       "    }\n",
       "</style>\n",
       "<table border=\"1\" class=\"dataframe\">\n",
       "  <thead>\n",
       "    <tr style=\"text-align: right;\">\n",
       "      <th></th>\n",
       "      <th>rest_id</th>\n",
       "      <th>rest_name</th>\n",
       "      <th>rest_address</th>\n",
       "      <th>chain</th>\n",
       "      <th>rest_type</th>\n",
       "      <th>n_chairs</th>\n",
       "    </tr>\n",
       "  </thead>\n",
       "  <tbody>\n",
       "    <tr>\n",
       "      <th>9646</th>\n",
       "      <td>21432</td>\n",
       "      <td>HALL OF JUSTICE</td>\n",
       "      <td>217 W TEMPLE AVE</td>\n",
       "      <td>False</td>\n",
       "      <td>Restaurant</td>\n",
       "      <td>122</td>\n",
       "    </tr>\n",
       "    <tr>\n",
       "      <th>9647</th>\n",
       "      <td>21433</td>\n",
       "      <td>FIN-MELROSE</td>\n",
       "      <td>5750 MELROSE AVE</td>\n",
       "      <td>False</td>\n",
       "      <td>Restaurant</td>\n",
       "      <td>93</td>\n",
       "    </tr>\n",
       "    <tr>\n",
       "      <th>9648</th>\n",
       "      <td>21434</td>\n",
       "      <td>JUICY WINGZ</td>\n",
       "      <td>6741 HOLLYWOOD BLVD</td>\n",
       "      <td>True</td>\n",
       "      <td>Fast Food</td>\n",
       "      <td>15</td>\n",
       "    </tr>\n",
       "    <tr>\n",
       "      <th>9649</th>\n",
       "      <td>21435</td>\n",
       "      <td>MEDIDATE COFFEE</td>\n",
       "      <td>548 S SPRING ST STE 100</td>\n",
       "      <td>False</td>\n",
       "      <td>Cafe</td>\n",
       "      <td>6</td>\n",
       "    </tr>\n",
       "    <tr>\n",
       "      <th>9650</th>\n",
       "      <td>21436</td>\n",
       "      <td>CAFE SPROUTS</td>\n",
       "      <td>1300 S SAN PEDRO ST STE 111</td>\n",
       "      <td>True</td>\n",
       "      <td>Restaurant</td>\n",
       "      <td>19</td>\n",
       "    </tr>\n",
       "  </tbody>\n",
       "</table>\n",
       "</div>"
      ],
      "text/plain": [
       "      rest_id        rest_name                 rest_address  chain  \\\n",
       "9646    21432  HALL OF JUSTICE             217 W TEMPLE AVE  False   \n",
       "9647    21433      FIN-MELROSE             5750 MELROSE AVE  False   \n",
       "9648    21434      JUICY WINGZ          6741 HOLLYWOOD BLVD   True   \n",
       "9649    21435  MEDIDATE COFFEE      548 S SPRING ST STE 100  False   \n",
       "9650    21436     CAFE SPROUTS  1300 S SAN PEDRO ST STE 111   True   \n",
       "\n",
       "       rest_type  n_chairs  \n",
       "9646  Restaurant       122  \n",
       "9647  Restaurant        93  \n",
       "9648   Fast Food        15  \n",
       "9649        Cafe         6  \n",
       "9650  Restaurant        19  "
      ]
     },
     "execution_count": 777,
     "metadata": {},
     "output_type": "execute_result"
    }
   ],
   "source": [
    "rest_data.tail(5)"
   ]
  },
  {
   "cell_type": "markdown",
   "metadata": {},
   "source": [
    "El archivo *rest_data_us.csv* inicial pesaba 2.4 MB, se realizó una ligera obtimización. *object_type* pasó al tipo category. Con este cambio se logró reducir el peso a 1.8 MB. El archivo consta de 6 columnas y 9651 líneas. Se cambiaron los nombres de las columnas de *id*, *object_name*, *address*, *chain*, *object_type*, *number* a  'rest_id', 'rest_name', 'rest_address', 'chain', 'rest_type', 'n_chairs' respectivamente para hacerlos más específicos.\n",
    "\n",
    "Finalmente, notamos que la columna 'chain' contiene 3 valores ausentes que tendremos que revisar."
   ]
  },
  {
   "cell_type": "markdown",
   "metadata": {},
   "source": [
    "### Revisión de valores ausentes y/o duplicados: <a id='nan_duplicados'></a>"
   ]
  },
  {
   "cell_type": "markdown",
   "metadata": {},
   "source": [
    "Tenemos 3 restoranes que no sabemos si son de una cadena o no. Vamos a ver si estos 3 datos influyen en nuestro estudio de alguna manera, primero contaremos los valores que tenemos para comprender los datos mejor:"
   ]
  },
  {
   "cell_type": "code",
   "execution_count": 778,
   "metadata": {},
   "outputs": [
    {
     "data": {
      "text/plain": [
       "False    5972\n",
       "True     3676\n",
       "Name: chain, dtype: int64"
      ]
     },
     "execution_count": 778,
     "metadata": {},
     "output_type": "execute_result"
    }
   ],
   "source": [
    "rest_data['chain'].value_counts()"
   ]
  },
  {
   "cell_type": "markdown",
   "metadata": {},
   "source": [
    "Luego podemos ver a que porcentaje de nuestro total corresponden los valores ausentes, para ver si vale la pena corregirlos:"
   ]
  },
  {
   "cell_type": "code",
   "execution_count": 779,
   "metadata": {},
   "outputs": [
    {
     "name": "stdout",
     "output_type": "stream",
     "text": [
      "Los valores ausentes en la columna chain corresponden al 0.03 porciento de los datos registrados.\n"
     ]
    }
   ],
   "source": [
    "nan_percentaje = rest_data['chain'].isna().sum() * 100 / rest_data['rest_id'].count()\n",
    "print('Los valores ausentes en la columna chain corresponden al', nan_percentaje.round(2), 'porciento de los datos registrados.')"
   ]
  },
  {
   "cell_type": "markdown",
   "metadata": {},
   "source": [
    "Revisaremos si los códigos de restoranes tienen duplicados:"
   ]
  },
  {
   "cell_type": "code",
   "execution_count": 780,
   "metadata": {},
   "outputs": [
    {
     "name": "stdout",
     "output_type": "stream",
     "text": [
      "La columna rest_id tiene 0 duplicados.\n"
     ]
    }
   ],
   "source": [
    "print('La columna rest_id tiene', rest_data['rest_id'].duplicated().sum(), 'duplicados.')"
   ]
  },
  {
   "cell_type": "markdown",
   "metadata": {},
   "source": [
    "Revisaremos si la columna de direcciones tiene duplicados ya que no deberían haber dos locales en la misma dirrección y un nombre similar, pero tendremos que tener cuidado porque es posible que hayan varios locales en un centro comercial:"
   ]
  },
  {
   "cell_type": "code",
   "execution_count": 781,
   "metadata": {},
   "outputs": [
    {
     "name": "stdout",
     "output_type": "stream",
     "text": [
      "La columna rest_address tiene 1134 duplicados.\n"
     ]
    }
   ],
   "source": [
    "print('La columna rest_address tiene', rest_data['rest_address'].duplicated().sum(), 'duplicados.')"
   ]
  },
  {
   "cell_type": "code",
   "execution_count": 782,
   "metadata": {},
   "outputs": [
    {
     "data": {
      "text/html": [
       "<div>\n",
       "<style scoped>\n",
       "    .dataframe tbody tr th:only-of-type {\n",
       "        vertical-align: middle;\n",
       "    }\n",
       "\n",
       "    .dataframe tbody tr th {\n",
       "        vertical-align: top;\n",
       "    }\n",
       "\n",
       "    .dataframe thead th {\n",
       "        text-align: right;\n",
       "    }\n",
       "</style>\n",
       "<table border=\"1\" class=\"dataframe\">\n",
       "  <thead>\n",
       "    <tr style=\"text-align: right;\">\n",
       "      <th></th>\n",
       "      <th>address</th>\n",
       "      <th>n_duplicates</th>\n",
       "    </tr>\n",
       "  </thead>\n",
       "  <tbody>\n",
       "    <tr>\n",
       "      <th>0</th>\n",
       "      <td>3607 TROUSDALE PKWY</td>\n",
       "      <td>11</td>\n",
       "    </tr>\n",
       "    <tr>\n",
       "      <th>1</th>\n",
       "      <td>135 N GRAND AVE</td>\n",
       "      <td>10</td>\n",
       "    </tr>\n",
       "    <tr>\n",
       "      <th>2</th>\n",
       "      <td>600 WORLD WAY</td>\n",
       "      <td>9</td>\n",
       "    </tr>\n",
       "    <tr>\n",
       "      <th>3</th>\n",
       "      <td>400 WORLD WAY</td>\n",
       "      <td>9</td>\n",
       "    </tr>\n",
       "    <tr>\n",
       "      <th>4</th>\n",
       "      <td>5151 STATE UNIVERSITY DR</td>\n",
       "      <td>9</td>\n",
       "    </tr>\n",
       "    <tr>\n",
       "      <th>...</th>\n",
       "      <td>...</td>\n",
       "      <td>...</td>\n",
       "    </tr>\n",
       "    <tr>\n",
       "      <th>908</th>\n",
       "      <td>5101 W PICO BLVD</td>\n",
       "      <td>2</td>\n",
       "    </tr>\n",
       "    <tr>\n",
       "      <th>909</th>\n",
       "      <td>2027 SAWTELLE BLVD</td>\n",
       "      <td>2</td>\n",
       "    </tr>\n",
       "    <tr>\n",
       "      <th>910</th>\n",
       "      <td>11267 NATIONAL BLVD</td>\n",
       "      <td>2</td>\n",
       "    </tr>\n",
       "    <tr>\n",
       "      <th>911</th>\n",
       "      <td>1010 GLENDON AVE</td>\n",
       "      <td>2</td>\n",
       "    </tr>\n",
       "    <tr>\n",
       "      <th>912</th>\n",
       "      <td>2518 S FIGUEROA ST</td>\n",
       "      <td>2</td>\n",
       "    </tr>\n",
       "  </tbody>\n",
       "</table>\n",
       "<p>913 rows × 2 columns</p>\n",
       "</div>"
      ],
      "text/plain": [
       "                      address  n_duplicates\n",
       "0         3607 TROUSDALE PKWY            11\n",
       "1             135 N GRAND AVE            10\n",
       "2               600 WORLD WAY             9\n",
       "3               400 WORLD WAY             9\n",
       "4    5151 STATE UNIVERSITY DR             9\n",
       "..                        ...           ...\n",
       "908          5101 W PICO BLVD             2\n",
       "909        2027 SAWTELLE BLVD             2\n",
       "910       11267 NATIONAL BLVD             2\n",
       "911          1010 GLENDON AVE             2\n",
       "912        2518 S FIGUEROA ST             2\n",
       "\n",
       "[913 rows x 2 columns]"
      ]
     },
     "execution_count": 782,
     "metadata": {},
     "output_type": "execute_result"
    }
   ],
   "source": [
    "duplicate_address = rest_data['rest_address'].value_counts().reset_index()\n",
    "duplicate_address.columns = ['address', 'n_duplicates']\n",
    "duplicate_address.query('n_duplicates != 1')"
   ]
  },
  {
   "cell_type": "markdown",
   "metadata": {},
   "source": [
    "De los 1134 duplicados, tenemos 913 dirrecciones duplicadas. Vamos a analizar esto un poco más a fondo."
   ]
  },
  {
   "cell_type": "markdown",
   "metadata": {},
   "source": [
    "Analizaremos los primeros 11 duplicados en la dirrección '3607 TROUSDALE PKWY':"
   ]
  },
  {
   "cell_type": "code",
   "execution_count": 783,
   "metadata": {},
   "outputs": [
    {
     "data": {
      "text/html": [
       "<div>\n",
       "<style scoped>\n",
       "    .dataframe tbody tr th:only-of-type {\n",
       "        vertical-align: middle;\n",
       "    }\n",
       "\n",
       "    .dataframe tbody tr th {\n",
       "        vertical-align: top;\n",
       "    }\n",
       "\n",
       "    .dataframe thead th {\n",
       "        text-align: right;\n",
       "    }\n",
       "</style>\n",
       "<table border=\"1\" class=\"dataframe\">\n",
       "  <thead>\n",
       "    <tr style=\"text-align: right;\">\n",
       "      <th></th>\n",
       "      <th>rest_id</th>\n",
       "      <th>rest_name</th>\n",
       "      <th>rest_address</th>\n",
       "      <th>chain</th>\n",
       "      <th>rest_type</th>\n",
       "      <th>n_chairs</th>\n",
       "    </tr>\n",
       "  </thead>\n",
       "  <tbody>\n",
       "    <tr>\n",
       "      <th>888</th>\n",
       "      <td>12674</td>\n",
       "      <td>CALIFORNIA PIZZA KITCHEN</td>\n",
       "      <td>3607 TROUSDALE PKWY</td>\n",
       "      <td>True</td>\n",
       "      <td>Pizza</td>\n",
       "      <td>44</td>\n",
       "    </tr>\n",
       "    <tr>\n",
       "      <th>7756</th>\n",
       "      <td>19542</td>\n",
       "      <td>COFFEE BEAN &amp; TEA LEAF</td>\n",
       "      <td>3607 TROUSDALE PKWY</td>\n",
       "      <td>True</td>\n",
       "      <td>Cafe</td>\n",
       "      <td>31</td>\n",
       "    </tr>\n",
       "    <tr>\n",
       "      <th>6311</th>\n",
       "      <td>18097</td>\n",
       "      <td>LEMONADE</td>\n",
       "      <td>3607 TROUSDALE PKWY</td>\n",
       "      <td>True</td>\n",
       "      <td>Restaurant</td>\n",
       "      <td>138</td>\n",
       "    </tr>\n",
       "    <tr>\n",
       "      <th>7698</th>\n",
       "      <td>19484</td>\n",
       "      <td>LEMONADES</td>\n",
       "      <td>3607 TROUSDALE PKWY</td>\n",
       "      <td>True</td>\n",
       "      <td>Restaurant</td>\n",
       "      <td>111</td>\n",
       "    </tr>\n",
       "    <tr>\n",
       "      <th>858</th>\n",
       "      <td>12644</td>\n",
       "      <td>MORETON FIGS RESTAURANT/BAR</td>\n",
       "      <td>3607 TROUSDALE PKWY</td>\n",
       "      <td>True</td>\n",
       "      <td>Bar</td>\n",
       "      <td>107</td>\n",
       "    </tr>\n",
       "    <tr>\n",
       "      <th>480</th>\n",
       "      <td>12266</td>\n",
       "      <td>PANDA  EXPRESS</td>\n",
       "      <td>3607 TROUSDALE PKWY</td>\n",
       "      <td>False</td>\n",
       "      <td>Fast Food</td>\n",
       "      <td>40</td>\n",
       "    </tr>\n",
       "    <tr>\n",
       "      <th>2610</th>\n",
       "      <td>14396</td>\n",
       "      <td>THE COFFEE BEAN &amp; TEA LEAF</td>\n",
       "      <td>3607 TROUSDALE PKWY</td>\n",
       "      <td>True</td>\n",
       "      <td>Cafe</td>\n",
       "      <td>43</td>\n",
       "    </tr>\n",
       "    <tr>\n",
       "      <th>3268</th>\n",
       "      <td>15054</td>\n",
       "      <td>THE HABIT BURGER GRILL</td>\n",
       "      <td>3607 TROUSDALE PKWY</td>\n",
       "      <td>False</td>\n",
       "      <td>Fast Food</td>\n",
       "      <td>43</td>\n",
       "    </tr>\n",
       "    <tr>\n",
       "      <th>462</th>\n",
       "      <td>12248</td>\n",
       "      <td>TRADITIONS PUB</td>\n",
       "      <td>3607 TROUSDALE PKWY</td>\n",
       "      <td>False</td>\n",
       "      <td>Restaurant</td>\n",
       "      <td>197</td>\n",
       "    </tr>\n",
       "    <tr>\n",
       "      <th>457</th>\n",
       "      <td>12243</td>\n",
       "      <td>USC MAIN KITCHEN-BASEMENT</td>\n",
       "      <td>3607 TROUSDALE PKWY</td>\n",
       "      <td>True</td>\n",
       "      <td>Restaurant</td>\n",
       "      <td>227</td>\n",
       "    </tr>\n",
       "    <tr>\n",
       "      <th>863</th>\n",
       "      <td>12649</td>\n",
       "      <td>VERDE</td>\n",
       "      <td>3607 TROUSDALE PKWY</td>\n",
       "      <td>False</td>\n",
       "      <td>Restaurant</td>\n",
       "      <td>39</td>\n",
       "    </tr>\n",
       "  </tbody>\n",
       "</table>\n",
       "</div>"
      ],
      "text/plain": [
       "      rest_id                    rest_name         rest_address  chain  \\\n",
       "888     12674     CALIFORNIA PIZZA KITCHEN  3607 TROUSDALE PKWY   True   \n",
       "7756    19542       COFFEE BEAN & TEA LEAF  3607 TROUSDALE PKWY   True   \n",
       "6311    18097                     LEMONADE  3607 TROUSDALE PKWY   True   \n",
       "7698    19484                    LEMONADES  3607 TROUSDALE PKWY   True   \n",
       "858     12644  MORETON FIGS RESTAURANT/BAR  3607 TROUSDALE PKWY   True   \n",
       "480     12266               PANDA  EXPRESS  3607 TROUSDALE PKWY  False   \n",
       "2610    14396   THE COFFEE BEAN & TEA LEAF  3607 TROUSDALE PKWY   True   \n",
       "3268    15054       THE HABIT BURGER GRILL  3607 TROUSDALE PKWY  False   \n",
       "462     12248               TRADITIONS PUB  3607 TROUSDALE PKWY  False   \n",
       "457     12243    USC MAIN KITCHEN-BASEMENT  3607 TROUSDALE PKWY   True   \n",
       "863     12649                        VERDE  3607 TROUSDALE PKWY  False   \n",
       "\n",
       "       rest_type  n_chairs  \n",
       "888        Pizza        44  \n",
       "7756        Cafe        31  \n",
       "6311  Restaurant       138  \n",
       "7698  Restaurant       111  \n",
       "858          Bar       107  \n",
       "480    Fast Food        40  \n",
       "2610        Cafe        43  \n",
       "3268   Fast Food        43  \n",
       "462   Restaurant       197  \n",
       "457   Restaurant       227  \n",
       "863   Restaurant        39  "
      ]
     },
     "execution_count": 783,
     "metadata": {},
     "output_type": "execute_result"
    }
   ],
   "source": [
    "rest_data.query('rest_address == \"3607 TROUSDALE PKWY\"').sort_values(by='rest_name')"
   ]
  },
  {
   "cell_type": "markdown",
   "metadata": {},
   "source": [
    "Como se puede apreciar en esta tabla, nos encontramos con dos duplicados no obvios el primero corresponde a los índices 7756 y 2610 (COFFEE BEAN & TEA LEAF y THE COFFEE BEAN & TEA LEAF) que como se puede apreciar son duplicados, pero varían el número de sillas. Hay muchas razones que se podrían especular para esta diferencia en sillas, pero lo que haremos en estos casos es sacar el promedio y dejar solo una línea. Lo mismo con los índices 6311 y 7698 (LEMONADE y LEMONADES) claramente puede ser un simple error de tipeo. Se seguirá el mismo patrón. A continuación borraremos todos los índices que encontramos duplicados no obvios."
   ]
  },
  {
   "cell_type": "code",
   "execution_count": 784,
   "metadata": {},
   "outputs": [],
   "source": [
    "rest_data = rest_data.drop([\n",
    "    5624,9444,5380,3317,9155,6701,7961,3337,6503,5194,2595,9274,9236,3920,9337,7586,4810,7108,9206,6483,6305,9181,7804,\n",
    "    4234,2694,559,5850,7784,6198,3637,7821,8950,7721,8055,9640,6858,1984,9080,7692,8698,739,9159,6857,5168,6363,6739,211,\n",
    "    8392,4984,2219,9360,444,794,9431,9331,9619,6662,4987,9534,9389,5004,6022,8563,8684,7113,8995,6076,5521,2995,8474,7159,\n",
    "    6215,5352,9269,5641,8612,7309,7324,9537,7909,7063,5864,8969,7072,535,7227,9099,8611,6585,9553,3464,2003,7684,9247,6985,\n",
    "    3479,3474,500,6638,3426,9497,3842,7131,5736,7695,7296,4409,3819,7698,2610,4077,4196,8328,9307,2236,3047,6386,9203,7095,\n",
    "    6165,6406,5643,3341,6654,8579,8528,6255,1281,8618,9581,5607,5290,9031,7886,6494,2095,343,5637,8470,2766,5249,6538,9322,\n",
    "    9305,4347,3773,7666,4062,8972,748,6213,7091,2909,9556,2590,7461,6747,5263,889,3897,4172,4208,2458,7104,3036,2239,6480,\n",
    "    9177,5080,4514,9149,4536,6622,1580,6535,4483,7115,1581,6360,3384,7652,9051,8459,8547,3216,7826,6551,4364,6859,3163,8445,\n",
    "    9067,6342,7933,9286,9062,9481,1494,3662,6440,254,1060,9042,7838,8861,8676,8771,4120,1195,6162,7454,6324,2124,9325,7642\n",
    "],axis=0)"
   ]
  },
  {
   "cell_type": "markdown",
   "metadata": {},
   "source": [
    "Encontramos 215 líneas que se eliminaron al ser considerados duplicados como explicado anteriormente. Las siguientes líneas corresponde a la correción de número de sillas ingresando los promedios de las líneas duplicadas:"
   ]
  },
  {
   "cell_type": "code",
   "execution_count": 785,
   "metadata": {},
   "outputs": [],
   "source": [
    "rest_data.loc[1588,'n_chairs'] =190\n",
    "rest_data.loc[9417,'n_chairs'] =82\n",
    "rest_data.loc[6045,'n_chairs'] =139\n",
    "rest_data.loc[714,'n_chairs'] =38\n",
    "rest_data.loc[7435,'n_chairs'] =24\n",
    "rest_data.loc[6792,'n_chairs'] =41\n",
    "rest_data.loc[5626,'n_chairs'] =20\n",
    "rest_data.loc[8286,'n_chairs'] =95\n",
    "rest_data.loc[5164,'n_chairs'] =8\n",
    "rest_data.loc[4998,'n_chairs'] =36\n",
    "rest_data.loc[4464,'n_chairs'] =10\n",
    "rest_data.loc[6257,'n_chairs'] =16\n",
    "rest_data.loc[5148,'n_chairs'] =102\n",
    "rest_data.loc[7508,'n_chairs'] =5\n",
    "rest_data.loc[8540,'n_chairs'] =18\n",
    "rest_data.loc[7839,'n_chairs'] =21\n",
    "rest_data.loc[6522,'n_chairs'] =40\n",
    "rest_data.loc[6435,'n_chairs'] =3\n",
    "rest_data.loc[8006,'n_chairs'] =23\n",
    "rest_data.loc[9101,'n_chairs'] =13\n",
    "rest_data.loc[7432,'n_chairs'] =23\n",
    "rest_data.loc[6485,'n_chairs'] =41\n",
    "rest_data.loc[2963,'n_chairs'] =24\n",
    "rest_data.loc[6800,'n_chairs'] =40\n",
    "rest_data.loc[6383,'n_chairs'] =127\n",
    "rest_data.loc[1147,'n_chairs'] =9\n",
    "rest_data.loc[8305,'n_chairs'] =8\n",
    "rest_data.loc[4255,'n_chairs'] =40\n",
    "rest_data.loc[6878,'n_chairs'] =17\n",
    "rest_data.loc[9153,'n_chairs'] =19\n",
    "rest_data.loc[4639,'n_chairs'] =11\n",
    "rest_data.loc[3215,'n_chairs'] =21\n",
    "rest_data.loc[5656,'n_chairs'] =119\n",
    "rest_data.loc[8499,'n_chairs'] =48\n",
    "rest_data.loc[161,'n_chairs'] =123\n",
    "rest_data.loc[6680,'n_chairs'] =23\n",
    "rest_data.loc[7526,'n_chairs'] =74\n",
    "rest_data.loc[9639,'n_chairs'] =137\n",
    "rest_data.loc[610,'n_chairs'] =4\n",
    "rest_data.loc[3148,'n_chairs'] =40\n",
    "rest_data.loc[1562,'n_chairs'] =19\n",
    "rest_data.loc[647,'n_chairs'] =124\n",
    "rest_data.loc[9330,'n_chairs'] =112\n",
    "rest_data.loc[6361,'n_chairs'] =41\n",
    "rest_data.loc[9301,'n_chairs'] =113\n",
    "rest_data.loc[8721,'n_chairs'] =43\n",
    "rest_data.loc[2148,'n_chairs'] =105\n",
    "rest_data.loc[6768,'n_chairs'] =13\n",
    "rest_data.loc[871,'n_chairs'] =102\n",
    "rest_data.loc[8916,'n_chairs'] =8\n",
    "rest_data.loc[4577,'n_chairs'] =103\n",
    "rest_data.loc[2085,'n_chairs'] =15\n",
    "rest_data.loc[6892,'n_chairs'] =91\n",
    "rest_data.loc[8797,'n_chairs'] =40\n",
    "rest_data.loc[280,'n_chairs'] =40\n",
    "rest_data.loc[5008,'n_chairs'] =20\n",
    "rest_data.loc[5812,'n_chairs'] =18\n",
    "rest_data.loc[7197,'n_chairs'] =35\n",
    "rest_data.loc[6608,'n_chairs'] =102\n",
    "rest_data.loc[7709,'n_chairs'] =142\n",
    "rest_data.loc[7448,'n_chairs'] =118\n",
    "rest_data.loc[9254,'n_chairs'] =39\n",
    "rest_data.loc[6258,'n_chairs'] =35\n",
    "rest_data.loc[7717,'n_chairs'] =18\n",
    "rest_data.loc[6487,'n_chairs'] =42\n",
    "rest_data.loc[7569,'n_chairs'] =12\n",
    "rest_data.loc[2246,'n_chairs'] =39\n",
    "rest_data.loc[7752,'n_chairs'] =8\n",
    "rest_data.loc[1523,'n_chairs'] =102\n",
    "rest_data.loc[5388,'n_chairs'] =181\n",
    "rest_data.loc[8868,'n_chairs'] =21\n",
    "rest_data.loc[8846,'n_chairs'] =18\n",
    "rest_data.loc[7211,'n_chairs'] =4\n",
    "rest_data.loc[6696,'n_chairs'] =41\n",
    "rest_data.loc[6740,'n_chairs'] =37\n",
    "rest_data.loc[5264,'n_chairs'] =190\n",
    "rest_data.loc[9084,'n_chairs'] =40\n",
    "rest_data.loc[7756,'n_chairs'] =37\n",
    "rest_data.loc[6311,'n_chairs'] =125\n",
    "rest_data.loc[6558,'n_chairs'] =136\n",
    "rest_data.loc[6873,'n_chairs'] =19\n",
    "rest_data.loc[9013,'n_chairs'] =40\n",
    "rest_data.loc[7216,'n_chairs'] =13\n",
    "rest_data.loc[8856,'n_chairs'] =119\n",
    "rest_data.loc[7706,'n_chairs'] =13\n",
    "rest_data.loc[9602,'n_chairs'] =21\n",
    "rest_data.loc[1204,'n_chairs'] =187\n",
    "rest_data.loc[6944,'n_chairs'] =20\n",
    "rest_data.loc[4680,'n_chairs'] =45\n",
    "rest_data.loc[8107,'n_chairs'] =117\n",
    "rest_data.loc[6281,'n_chairs'] =48\n",
    "rest_data.loc[5093,'n_chairs'] =33\n",
    "rest_data.loc[8613,'n_chairs'] =102\n",
    "rest_data.loc[9363,'n_chairs'] =21\n",
    "rest_data.loc[5932,'n_chairs'] =108\n",
    "rest_data.loc[7980,'n_chairs'] =11\n",
    "rest_data.loc[7364,'n_chairs'] =27\n",
    "rest_data.loc[1845,'n_chairs'] =105\n",
    "rest_data.loc[7735,'n_chairs'] =24\n",
    "rest_data.loc[8213,'n_chairs'] =17\n",
    "rest_data.loc[7312,'n_chairs'] =20\n",
    "rest_data.loc[8322,'n_chairs'] =128\n",
    "rest_data.loc[5968,'n_chairs'] =111\n",
    "rest_data.loc[2279,'n_chairs'] =35\n",
    "rest_data.loc[7973,'n_chairs'] =34\n",
    "rest_data.loc[7655,'n_chairs'] =21\n",
    "rest_data.loc[4761,'n_chairs'] =111\n",
    "rest_data.loc[1794,'n_chairs'] =39\n",
    "rest_data.loc[8175,'n_chairs'] =28\n",
    "rest_data.loc[8060,'n_chairs'] =25\n",
    "rest_data.loc[5286,'n_chairs'] =35\n",
    "rest_data.loc[7769,'n_chairs'] =43\n",
    "rest_data.loc[5299,'n_chairs'] =14\n",
    "rest_data.loc[7668,'n_chairs'] =43\n",
    "rest_data.loc[6874,'n_chairs'] =12\n",
    "rest_data.loc[959,'n_chairs'] =20\n",
    "rest_data.loc[8395,'n_chairs'] =14\n",
    "rest_data.loc[9546,'n_chairs'] =21\n",
    "rest_data.loc[6580,'n_chairs'] =26\n",
    "rest_data.loc[6907,'n_chairs'] =46\n",
    "rest_data.loc[4009,'n_chairs'] =12\n",
    "rest_data.loc[5067,'n_chairs'] =18\n",
    "rest_data.loc[3019,'n_chairs'] =14\n",
    "rest_data.loc[6582,'n_chairs'] =17\n",
    "rest_data.loc[7012,'n_chairs'] =11\n",
    "rest_data.loc[7010,'n_chairs'] =17\n",
    "rest_data.loc[7366,'n_chairs'] =39\n",
    "rest_data.loc[6824,'n_chairs'] =43\n",
    "rest_data.loc[918,'n_chairs'] =5\n",
    "rest_data.loc[6102,'n_chairs'] =101\n",
    "rest_data.loc[2235,'n_chairs'] =52\n",
    "rest_data.loc[648,'n_chairs'] =15\n",
    "rest_data.loc[6317,'n_chairs'] =33\n",
    "rest_data.loc[2948,'n_chairs'] =12\n",
    "rest_data.loc[7436,'n_chairs'] =14\n",
    "rest_data.loc[8076,'n_chairs'] =13\n",
    "rest_data.loc[7616,'n_chairs'] =173\n",
    "rest_data.loc[9300,'n_chairs'] =19\n",
    "rest_data.loc[4366,'n_chairs'] =11\n",
    "rest_data.loc[7142,'n_chairs'] =36\n",
    "rest_data.loc[2795,'n_chairs'] =35\n",
    "rest_data.loc[73,'n_chairs'] =24\n",
    "rest_data.loc[5680,'n_chairs'] =40\n",
    "rest_data.loc[1042,'n_chairs'] =46\n",
    "rest_data.loc[7004,'n_chairs'] =11\n",
    "rest_data.loc[9244,'n_chairs'] =12\n",
    "rest_data.loc[7201,'n_chairs'] =10\n",
    "rest_data.loc[7792,'n_chairs'] =41\n",
    "rest_data.loc[8711,'n_chairs'] =37\n",
    "rest_data.loc[7503,'n_chairs'] =113\n",
    "rest_data.loc[8593,'n_chairs'] =15\n",
    "rest_data.loc[6852,'n_chairs'] =16\n",
    "rest_data.loc[7388,'n_chairs'] =169\n",
    "rest_data.loc[4003,'n_chairs'] =20\n",
    "rest_data.loc[8256,'n_chairs'] =119\n",
    "rest_data.loc[8170,'n_chairs'] =25\n",
    "rest_data.loc[8498,'n_chairs'] =13\n",
    "rest_data.loc[7711,'n_chairs'] =12\n",
    "rest_data.loc[9517,'n_chairs'] =19\n",
    "rest_data.loc[9158,'n_chairs'] =4\n",
    "rest_data.loc[8136,'n_chairs'] =36\n",
    "rest_data.loc[6720,'n_chairs'] =45\n",
    "rest_data.loc[7152,'n_chairs'] =8\n",
    "rest_data.loc[8062,'n_chairs'] =40\n",
    "rest_data.loc[5406,'n_chairs'] =12\n",
    "rest_data.loc[6839,'n_chairs'] =44\n",
    "rest_data.loc[7449,'n_chairs'] =26\n",
    "rest_data.loc[3890,'n_chairs'] =46\n",
    "rest_data.loc[3542,'n_chairs'] =109\n",
    "rest_data.loc[8054,'n_chairs'] =17\n",
    "rest_data.loc[4824,'n_chairs'] =101\n",
    "rest_data.loc[7082,'n_chairs'] =18\n",
    "rest_data.loc[7294,'n_chairs'] =13\n",
    "rest_data.loc[2589,'n_chairs'] =12\n",
    "rest_data.loc[2308,'n_chairs'] =34\n",
    "rest_data.loc[1854,'n_chairs'] =82\n",
    "rest_data.loc[7736,'n_chairs'] =160\n",
    "rest_data.loc[7416,'n_chairs'] =6\n",
    "rest_data.loc[733,'n_chairs'] =105\n",
    "rest_data.loc[5733,'n_chairs'] =15\n",
    "rest_data.loc[7014,'n_chairs'] =15\n",
    "rest_data.loc[6712,'n_chairs'] =113\n",
    "rest_data.loc[9340,'n_chairs'] =5\n",
    "rest_data.loc[8353,'n_chairs'] =8"
   ]
  },
  {
   "cell_type": "markdown",
   "metadata": {},
   "source": [
    "Se cambiaron 179 números de sillas que corresponden a los promedios de los duplicados. Nos quedan 20 líneas en las que el promedio podría perjudicar más que aportar a nuestro estudio. Estos son casos en los que el duplicado tenía números de sillas demasiados extremos y no justificables. Por ejemplo, PANDA GARDEN (8800 y 6198) uno tiene 44 sillas el otro 3, no podemos realmente saber si hay dos locales en la misma calle con un nombre tan similar (esto es más bien raro), no sabemos, si será un local de dos ambientes uno más pequño que el otro. Como nos faltan datos, es mejor dejarlo con un valor ausente. Tenmos un caso similar con NANAY GLORIA RESTAURANT Y BAKESHOP (8612 y 8114) por un lado tiene 3 sillas y por otro 41. Como ambas líneas corresponden a restaurantes, el promedio podría sesgar el estudio. Estos 16 duplicados los dejaremos como valores nulos:"
   ]
  },
  {
   "cell_type": "code",
   "execution_count": 786,
   "metadata": {},
   "outputs": [],
   "source": [
    "rest_data.loc[7884,'n_chairs'] =np.NaN\n",
    "rest_data.loc[7390,'n_chairs'] =np.NaN\n",
    "rest_data.loc[3348,'n_chairs'] =np.NaN\n",
    "rest_data.loc[9380,'n_chairs'] =np.NaN\n",
    "rest_data.loc[9092,'n_chairs'] =np.NaN\n",
    "rest_data.loc[8800,'n_chairs'] =np.NaN\n",
    "rest_data.loc[802,'n_chairs'] =np.NaN\n",
    "rest_data.loc[6233,'n_chairs'] =np.NaN\n",
    "rest_data.loc[890,'n_chairs'] =np.NaN\n",
    "rest_data.loc[8127,'n_chairs'] =np.NaN\n",
    "rest_data.loc[8114,'n_chairs'] =np.NaN\n",
    "rest_data.loc[3561,'n_chairs'] =np.NaN\n",
    "rest_data.loc[8311,'n_chairs'] =np.NaN\n",
    "rest_data.loc[3766,'n_chairs'] =np.NaN\n",
    "rest_data.loc[5186,'n_chairs'] =np.NaN\n",
    "rest_data.loc[6061,'n_chairs'] =np.NaN"
   ]
  },
  {
   "cell_type": "markdown",
   "metadata": {},
   "source": [
    "Existen 6 duplicados que se eliminó una línea y no se hizo nada a la restante ya que los valores de sillas eran identicos o el promedio era igual al valor de la que quedó. Estos duplicados no necesariamente son duplicados identicos ya que tenían ligeras variaciones como por ejemplo (MR BOBA y MR. BOBA). El listado es:\n",
    "- YOGURT LAND (índice 7341 - 6483)\n",
    "- WINCHELL'S DONUT #9381 (índice 8302 - 8995)\n",
    "- VEGAN HOUSE (índice 7280 - 5864)\n",
    "- MR BOBA (índice 6012 - 2236)\n",
    "- THE SPICY CHICKEN (índice 3910 - 5290)\n",
    "- DRAGON LOCO (índice 6206 - 3317)"
   ]
  },
  {
   "cell_type": "markdown",
   "metadata": {},
   "source": [
    "Se revisaron las siguientes direcciones, pero no registraron duplicados obvios:\n",
    "\n",
    "\"100 WORLD WAY,\t1000 GAYLEY AVE,\t1000 VIN SCULLY AVE,\t1000 WILSHIRE BLVD,\t10004 NATIONAL BLVD,\t1001 WILSHIRE BLVD,\t10024 S FIGUEROA ST,\t1008 S ST ANDREWS PL,\t1010 GLENDON AVE,\t10101 WILSHIRE BLVD,\t1019 S SANTA FE AVE,\t1020 S FIGUEROA ST,\t10201 W PICO BLVD,\t10203 S CENTRAL AVE,\t1025 N STATE ST,\t1025 S FAIRFAX AVE,\t1025 W 34TH ST,\t10250 SANTA MONICA BLVD,\t10309 W OLYMPIC BLVD,\t1032 S WESTERN AVE,\t1040 S WESTERN AVE,\t10422 NATIONAL BLVD,\t10460 W PICO BLVD,\t1050 S HILL ST,\t10543 W PICO BLVD,\t1055 BROXTON AVE,\t1061 BROXTON AVE,\t1061 S HILL ST,\t10628 S SAN PEDRO ST,\t107 E 6TH ST,\t1070 WILSHIRE BLVD,\t10717 VENICE BLVD,\t10727 S CENTRAL AVE,\t108 W 2ND ST,\t10800 W PICO BLVD # 324,\t10821 VENICE BLVD,\t10823 VENICE BLVD,\t10833 LE CONTE AVE,\t10913 W PICO BLVD,\t10915 W PICO BLVD,\t10924 W PICO BLVD,\t10948 WEYBURN AVE,\t10967 WEYBURN AVE,\t10990 WILSHIRE BLVD STE 180,\t1101 GAYLEY AVE,\t11022 AVIATION BLVD,\t1105 S LA BREA AVE,\t111 S GRAND AVE,\t111 S GRAND AVE # #950,\t111 S SAN PEDRO ST,\t11102 W OLYMPIC BLVD,\t11110 W OLYMPIC BLVD,\t11127 VENICE BLVD,\t11267 NATIONAL BLVD,\t11270 LA GRANGE AVE,\t11301 W OLYMPIC BLVD,\t11301 W OLYMPIC BLVD # 106,\t11301 W OLYMPIC BLVD STE 204,\t11313 MISSISSIPPI AVE,\t1145 N MISSION RD,\t1145 S WESTERN AVE,\t11461 W SUNSET BLVD,\t1147 S WESTERN AVE,\t1149 N GOWER ST,\t1150 S BEVERLY DR,\t1156 N HIGHLAND AVE,\t11668 W PICO BLVD,\t11677 SAN VICENTE BLVD,\t11678 SAN VICENTE BLVD,\t11711 NATIONAL BLVD,\t11712 SAN VICENTE BLVD,\t11753 SAN VICENTE BLVD,\t11916 S FIGUEROA ST,\t11916 WILSHIRE BLVD,\t11925 SANTA MONICA BLVD,\t120 S LOS ANGELES ST,\t1200 GETTY CENTER DR,\t121 N LARCHMONT BLVD,\t12121 WILSHIRE BLVD # 110,\t1220 W 7TH ST,\t1225 W VENICE BLVD,\t123 ASTRONAUT E S ONIZUKA ST STE 203,\t123 ASTRONAUT E. S. ONIZUKA ST,\t123 N LARCHMONT BLVD,\t12326 1/2 VENICE BLVD,\t124 N WESTERN AVE,\t1240 S MAIN ST STE 404,\t1242 E FLORENCE AVE,\t1248 S FIGUEROA ST,\t125 W 5TH ST,\t1253 N VINE ST # 12,\t1253 VINE ST # 1,\t12746 W JEFFERSON BLVD,\t1275 S BRONSON AVE,\t1277 W JEFFERSON BLVD,\t129 N LA BREA AVE,\t130 E 6TH ST,\t130 W BRUNO ST,\t1308 N EDGEMONT ST,\t1321 WESTWOOD BLVD,\t133 N SUNOL DR,\t1330 E IMPERIAL HWY,\t1341 E FLORENCE AVE,\t135 N GRAND AVE,\t1356 ALLISON AVE,\t1375 W ADAMS BLVD,\t1378 W SUNSET BLVD,\t1400 W pico BLVD,\t1403 HOOPER AVE,\t1403 W 11TH ST,\t1412 S LORENA ST,\t143 N LA BREA AVE,\t1435 N HIGHLAND AVE,\t1436 S VERMONT AVE,\t1443 W 11TH ST,\t1457 E FLORENCE AVE # 113,\t1501 FIRESTONE BLVD,\t1501 N VINE ST,\t1511 N CAHUENGA BLVD,\t1520 W 7TH ST,\t1523 GRIFFITH PARK BLVD,\t1523 S BUNDY DR,\t1549 N VERMONT AVE,\t1552 N CAHUENGA BLVD,\t1556 N CAHUENGA BLVD,\t1603 N CAHUENGA BLVD,\t1625 E CESAR E CHAVEZ AVE,\t1634 N CAHUENGA BLVD,\t1643 N CAHUENGA BLVD,\t1651 1/2 N LA BREA AVE,\t1682 E VERNON AVE,\t1704 N EASTERN AVE,\t1720 S SOTO ST,\t1733 COLORADO BLVD,\t1735 W 6TH ST,\t1742 S LA CIENEGA BLVD,\t1743 COLORADO BLVD,\t1754 W SLAUSON AVE,\t1755 N HIGHLAND AVE,\t180 S LA BREA AVE,\t1801 COLORADO BLVD,\t1811 W 7TH ST,\t1820 N LAS PALMAS AVE,\t1822 W SUNSET BLVD,\t1830 W 8TH ST,\t1843 1/2 E 1ST ST,\t189 THE GROVE DR,\t1901 8TH AVE,\t1901 S ALAMEDA ST STE 115,\t1903 HYPERION AVE,\t1903 S MAPLE AVE,\t1913 E GAGE AVE,\t1917 S VERMONT AVE,\t1924 W OLYMPIC BLVD,\t1930 W OLYMPIC BLVD,\t1958 COLORADO BLVD,\t199 W OLYMPIC BLVD,\t1999 N SYCAMORE AVE,\t2000 E 7TH ST,\t2025 AVENUE OF THE STARS,\t2027 SAWTELLE BLVD,\t203 N WESTERN AVE,\t2030 S SAWTELLE BLVD,\t2040 HILLHURST AVE,\t205 S VERMONT AVE,\t208 E 8TH ST,\t209 S VERMONT AVE,\t210 E OLYMPIC BLVD STE 127,\t2100 ECHO PARK AVE,\t2114 COLORADO BLVD,\t2117 SAWTELLE BLVD,\t2119 SAWTELLE BLVD,\t2124 S CENTRAL AVE,\t2134 W SUNSET BLVD,\t2152 COLORADO BLVD,\t2157 W CENTURY BLVD,\t2166 W SLAUSON AVE,\t2201 S SAN PEDRO ST,\t2201 W PICO BLVD STE A,\t2202 W SUNSET BLVD,\t2215 S CENTRAL AVE,\t2215 WESTWOOD BLVD,\t222 W SLAUSON AVE,\t2222 SAWTELLE BLVD,\t2223 N BROADWAY,\t2224 SAWTELLE BLVD,\t223 W 6TH ST,\t225 W 7TH ST,\t2256 COLORADO BLVD,\t229 E 9TH ST,\t230 N LARCHMONT BLVD,\t2300 VENICE BLVD,\t231 N AVENUE 50,\t2312 1/2 W 48TH ST,\t2321 E 1ST ST,\t2321 S HOOVER ST,\t2331 E 4TH ST,\t2379 WESTWOOD BLVD,\t238 E 1ST ST,\t2400 W 7TH ST # 101,\t241 W ADAMS BLVD,\t2423 DALY ST,\t2424 S SAN PEDRO ST,\t2454 W PICO BLVD,\t2500 W 8TH ST # 108,\t251 S OLIVE ST,\t252 E MARTIN LUTHER KING JR BLVD,\t2520 GLENDALE BLVD,\t2536 OVERLAND AVE,\t254 W FLORENCE AVE,\t2585 W OLYMPIC BLVD,\t260 S LA BREA AVE,\t2600 S VERMONT AVE,\t2600 W 6TH ST,\t2619 W SUNSET BLVD,\t2622 N FIGUEROA ST,\t2635 E 4TH ST,\t2635 WHITTIER BLVD,\t2700 COLORADO BLVD,\t2700 N VERMONT AVE,\t2701 N SEPULVEDA BLVD,\t2716 N SAN FERNANDO RD,\t2734 N EASTERN AVE,\t2740 W OLYMPIC BLVD,\t2765 E OLYMPIC BLVD,\t2803 S FIGUEROA ST,\t2807 S FIGUEROA ST,\t2835 S ROBERTSON BLVD,\t2851 CRENSHAW BLVD,\t2903 W SUNSET BLVD,\t2904 S FIGUEROA ST,\t2930 BEVERLY BLVD,\t300 W FLORENCE AVE,\t300 WORLD WAY,\t301 S WESTERN AVE STE #201,\t3010 E 1ST ST,\t3019 S FIGUEROA ST,\t3054 W 8TH ST UNIT 101-3,\t3063 W 8TH ST,\t3068 W 8TH ST,\t3076 W 8TH ST,\t3077 W 8TH ST,\t308 WESTWOOD PLZ,\t3084 MOTOR AVE,\t310 E FLORENCE AVE,\t3100 N EASTERN AVE,\t3106 N EASTERN AVE,\t3118 S SEPULVEDA BLVD,\t3120 S SEPULVEDA BLVD,\t3122 W 8TH ST,\t3125 N SAN FERNANDO RD,\t313 E 1ST ST,\t3132 W OLYMPIC BLVD,\t3134 GLENDALE BLVD,\t3160 W 8TH ST,\t317 S BROADWAY STE #14,\t318 E 2ND ST STE A,\t3183 WILSHIRE BLVD STE 186,\t3200 E 4TH ST,\t3201 S HOOVER ST,\t3219 GLENDALE BLVD,\t3224 GLENDALE BLVD,\t3250 W OLYMPIC BLVD STE 314,\t3255 W 4TH ST,\t3277 N SAN FERNANDO RD,\t328 E 1ST ST,\t330 S HOPE ST,\t3300 W 6TH ST # 4,\t3324 W 6TH ST # A,\t333 S ALAMEDA ST # 100,\t333 S FIGUEROA ST,\t3345 N EASTERN AVE,\t3377 WILSHIRE BLVD # 200,\t3407 W 6TH ST UNIT 101B,\t3410 W 3RD ST,\t3411 W OLYMPIC BLVD,\t3417 W 6TH ST,\t3419 S SAN PEDRO ST,\t3425 E 1ST ST STE 110,\t3435 WILSHIRE BLVD STE 108,\t3446 WILSHIRE BLVD,\t3450 W 6TH ST # 107,\t3456 WILSHIRE BLVD,\t3470 W 6TH ST # 2B,\t3470 W 6TH ST STE 2A,\t349 N LA CIENEGA BLVD,\t350 E 1ST ST,\t3500 W 6TH ST,\t3500 W 6TH ST # 222,\t3500 W 6TH ST # 225,\t3500 W 6TH ST STE 228,\t3500 W SUNSET BLVD,\t3500 WILSHIRE BLVD,\t351 S BROADWAY,\t3520 N FIGUEROA ST,\t3525 W 3RD ST # 2,\t3525 W 8TH ST,\t3536 W SUNSET BLVD,\t3540 E 1ST ST,\t356 S WESTERN AVE # 203-4,\t359 E 1ST ST,\t3603 S SAN PEDRO ST,\t3608 W 3RD ST,\t3609 W PICO BLVD,\t361 S WESTERN AVE # 101,\t3617 S VERMONT AVE,\t3619 W OLYMPIC BLVD,\t3625 STOCKER ST,\t3627 W PICO BLVD,\t3650 W MLK BLVD,\t3670 BROADWAY PL,\t3680 WILSHIRE BLVD STE 201,\t3702 MEDFORD ST,\t3706 WHITTIER BLVD,\t3717 E 1ST ST,\t3719 W SUNSET BLVD,\t3725 W SUNSET BLVD,\t3726 W 6TH ST,\t3760 S CENTINELA AVE,\t3760 WILSHIRE BLVD,\t3782 S FIGUEROA ST,\t380 WORLD WAY,\t3800 BARHAM BLVD # 106,\t3804 BROADWAY PL,\t3806 S WESTERN AVE,\t3869 WILSHIRE BLVD,\t3871 WILSHIRE BLVD,\t3914 WHITTIER BLVD,\t3929 W OLYMPIC BLVD,\t3939 S FIGUEROA ST,\t3959 WILSHIRE BLVD # B5,\t3959 WILSHIRE BLVD STE B-1,\t3960 WHITTIER BLVD,\t3981 W 6TH ST,\t3986 WILSHIRE BLVD,\t400 WORLD WAY,\t401 S HOPE ST,\t4010 W 3RD ST,\t4030 S CENTINELA AVE,\t4031 W OLYMPIC BLVD,\t404 S FIGUEROA ST STE 418A,\t4103 BEVERLY BLVD,\t412 N FAIRFAX AVE,\t4134 CRENSHAW BLVD,\t4161 BEVERLY BLVD,\t418 1/2 N FAIRFAX AVE,\t421 W 7TH ST,\t4211 EAGLE ROCK BLVD,\t4216 MELROSE AVE,\t4251 W 3RD ST,\t4281 BEVERLY BLVD,\t429 E 11th ST,\t431 W 7TH ST,\t4317 W BEVERLY BLVD,\t432 E 2ND ST,\t4339 W SUNSET BLVD,\t440 N LA CIENEGA BLVD,\t4433 S ALAMEDA ST # B5,\t4448 W SLAUSON AVE,\t445 S FIGUEROA ST STE 100,\t4451 BEVERLY BLVD,\t4459 EAGLE ROCK BLVD,\t4462 E OLYMPIC BLVD,\t448 N FAIRFAX AVE,\t448 S HILL ST,\t4501 COLORADO BLVD,\t4503 N FIGUEROA ST,\t4518 HOLLYWOOD BLVD,\t4520 W SUNSET BLVD,\t4578 WHITTIER BLVD,\t4601 W PICO BLVD,\t4616 EAGLE ROCK BLVD,\t4626 AVALON BLVD,\t4626 W ADAMS BLVD,\t4641 W WASHINGTON BLVD,\t4648 HOLLYWOOD BLVD,\t465 S LA CIENEGA BLVD,\t4650 W SUNSET BLVD,\t4729 E OLYMPIC BLVD,\t4730 CRYSTAL SPRINGS DR,\t474 N WESTERN AVE,\t475 GIN LING WAY,\t476 N WESTERN AVE,\t4760 W PICO BLVD,\t4770 E CESAR CHAVEZ AVE,\t4801 HOOPER AVE,\t4874 SANTA MONICA BLVD,\t500 WORLD WAY,\t5000 WHITTIER BLVD,\t5003 MELROSE AVE,\t5007 W PICO BLVD,\t501 S SPRING ST,\t5022 YORK BLVD,\t5028 MELROSE AVE,\t505 S FLOWER ST,\t5065 HOLLYWOOD BLVD STE 102,\t5080 RODEO RD,\t5101 S FIGUEROA ST,\t5101 W PICO BLVD,\t5103 S FIGUEROA ST,\t5116 S CENTRAL AVE,\t5144 E BEVERLY BLVD,\t5150 HOLLYWOOD BLVD,\t5158 HOLLYWOOD BLVD,\t516 S WESTERN AVE,\t5161 POMONA BLVD STE 103,\t5165 E WHITTIER BLVD,\t517 E OLYMPIC BLVD,\t517 S SPRING ST,\t5173 W SUNSET BLVD,\t518 W 7TH ST,\t519 S FAIRFAX AVE,\t5209 W SUNSET BLVD,\t5216 W SUNSET BLVD,\t5223 WILSHIRE BLVD,\t523 W 6TH ST,\t5234 VALLEY BLVD,\t5245 W CENTINELA AVE,\t525 S FLOWER ST,\t5303 W PICO BLVD,\t534 S OCCIDENTAL BLVD,\t535 S GRAND AVE,\t5373 W PICO BLVD,\t538 S FLOWER ST,\t539 S WESTERN AVE,\t5400 W CENTURY BLVD,\t541 S SPRING ST,\t5420 HOLLYWOOD BLVD,\t543 S WESTERN AVE,\t5445 HOLLYWOOD BLVD STE A,\t5450 W PICO BLVD # 101,\t5455 N FIGUEROA ST,\t5515 WILSHIRE BLVD,\t5528 YORK BLVD,\t5545 W PICO BLVD,\t5547 SANTA MONICA BLVD,\t555 W 5TH ST,\t555 W TEMPLE ST,\t5567 N FIGUEROA ST,\t5601 WILSHIRE BLVD,\t5615 HOLLYWOOD BLVD,\t5616 E BEVERLY BLVD,\t5633 YORK BLVD,\t5656 W MANCHESTER AVE,\t5677 W PICO BLVD,\t5711 W CENTURY BLVD,\t5750 MELROSE AVE,\t5757 WILSHIRE BLVD STE 102,\t5800 W WEST BLVD,\t5801 N FIGUEROA ST,\t5801 S VERMONT AVE,\t5813 N FIGUEROA ST,\t5820 MELROSE AVE,\t5836 W MANCHESTER AVE,\t5855 W CENTURY BLVD,\t5900 S CENTRAL AVE,\t5901 S NORMANDIE AVE,\t5905 WILSHIRE BLVD,\t5907 HOLLYWOOD BLVD,\t5930 FRANKLIN AVE,\t5985 CENTURY BLVD,\t5985 W CENTURY BLVD,\t6001 S HOOPER AVE,\t6007 E OLYMPIC BLVD,\t6009 W 3RD ST,\t601 W 5TH ST,\t6015 W 3RD ST,\t6021 HOLLYWOOD BLVD,\t6022 AVION DR,\t6031 SAN VICENTE BLVD,\t607 S UNION AVE,\t608 E 59TH ST,\t6095 W SUNSET BLVD,\t6104 W SUNSET BLVD,\t611 EXPOSITION BLVD,\t611 N VIRGIL AVE,\t612 S FLOWER ST,\t620 S HARVARD BLVD,\t6201 HOLLYWOOD BLVD,\t6201 HOLLYWOOD BLVD # 118,\t6225 S SAN PEDRO ST,\t6250 HOLLYWOOD BLVD,\t6250 W HOLLYWOOD BLVD,\t626 S SPRING ST STE B,\t6300 YORK BLVD,\t632 S HILL ST,\t633 S SPRING ST,\t633 W 5TH ST,\t6333 W 3RD ST,\t6333 W 3RD ST # EK10,\t6333 W 3RD ST STE 330,\t6333 W 3RD ST STE# 175-E,\t6360 W SUNSET BLVD,\t639 E EL SEGUNDO BLVD,\t646 S MAIN ST,\t649 E MANCHESTER AVE,\t6500 SELMA AVE,\t6511 HOLLYWOOD BLVD,\t6520 CRENSHAW BLVD,\t654 E GAGE AVE,\t6541 HOLLYWOOD BLVD STE 101,\t6545 SANTA MONICA BLVD,\t655 S HOPE ST,\t6603 HOLLYWOOD BLVD,\t6613 HOLLYWOOD BLVD,\t670 S WESTERN AVE,\t6705 SANTA MONICA BLVD,\t6707 S BROADWAY,\t672 S LA BREA AVE,\t6751 SANTA MONICA BLVD,\t6785 SANTA MONICA BLVD,\t6801 HOLLYWOOD BLVD,\t6801 HOLLYWOOD BLVD # 419,\t6801 HOLLYWOOD BLVD STE 325,\t681 S WESTERN AVE,\t686 N SPRING ST,\t6909 MELROSE AVE,\t6913 LA TIJERA BLVD,\t692 S ALVARADO ST,\t6925 HOLLYWOOD BLVD,\t698 S VERMONT AVE # 106,\t698 S VERMONT AVE STE 103,\t698 S VERMONT AVE STE 111,\t700 W 7TH ST,\t700 WILSHIRE BLVD,\t700 WORLD WAY,\t7000 HOLLYWOOD BLVD,\t7001 S CENTRAL AVE,\t701 S ATLANTIC BLVD,\t701 S VERMONT AVE,\t701 STONE CANYON RD,\t703 S VERMONT AVE,\t710 N HELIOTROPE DR,\t710 S ALVARADO ST,\t7122 BEVERLY BLVD # C,\t7131 W SUNSET BLVD # B,\t7168 MELROSE AVE,\t7170 BEVERLY BLVD,\t7180 W SUNSET BLVD,\t7217 MELROSE AVE,\t7257 W SUNSET BLVD,\t727 N BROADWAY # 120,\t727 N BROADWAY STE 130,\t727 N VINE ST,\t727 S ALVARADO ST,\t7274 MELROSE AVE,\t7300 W SUNSET BLVD STE H,\t7311 N FIGUEROA ST,\t7311 W SUNSET BLVD,\t735 E 12TH ST # 406,\t7356 MELROSE AVE,\t7363 W SUNSET BLVD,\t7368 MELROSE AVE,\t7407 1/2 MELROSE AVE,\t741 S SOTO ST,\t742 N HIGHLAND AVE,\t7455 MELROSE AVE,\t7473 MELROSE AVE,\t7475 BEVERLY BLVD,\t7509 W SUNSET BLVD,\t751 ECHO PARK AVE,\t751 N VIRGIL AVE,\t752 S VERMONT AVE,\t754 S VERMONT AVE,\t755 N VIRGIL AVE,\t7563 BEVERLY BLVD,\t759 S LA BREA AVE,\t764 S WESTERN AVE,\t7651 S SAN PEDRO ST,\t7669 BEVERLY BLVD,\t7717 COMPTON AVE,\t7717 S WESTERN AVE,\t7751 1/2 MELROSE AVE,\t7800 BEVERLY BLVD,\t7825 S BROADWAY,\t7980 SUNSET BLVD,\t800 W OLYMPIC BLVD,\t800 W OLYMPIC BLVD STE A335,\t8001 S CENTRAL AVE,\t8010 MELROSE AVE,\t8022 3RD ST,\t8025 AVALON BLVD,\t8029 W SUNSET BLVD,\t8048 W 3RD ST,\t8054 W 3RD ST,\t807 E 12TH ST STE 249,\t807 S ARDMORE AVE,\t808 S WESTERN AVE # 207,\t808 W 7TH ST,\t8116 BEVERLY BLVD,\t8120 AVALON BLVD,\t815 W 7TH ST,\t816 S GRAND AVE,\t8180 MELROSE AVE,\t819 S FLOWER ST,\t826 E 3RD ST,\t8300 MELROSE AVE,\t832 JAMES M WOOD BLVD,\t8360 MELROSE AVE,\t838 S GRAND AVE,\t8385 BEVERLY BLVD,\t8424 BEVERLY BLVD,\t843 N BROADWAY,\t843 S LOS ANGELES ST,\t8451 S VERMONT AVE,\t850 S LA BREA AVE,\t8500 W OLYMPIC BLVD STE B,\t8509 S FIGUEROA ST,\t8511 S BROADWAY,\t855 N VERMONT AVE,\t8556 W 3RD ST,\t859 S WESTERN AVE,\t8639 LINCOLN BLVD,\t8647 W PICO BLVD,\t8657 W PICO BLVD,\t8700 BEVERLY BLVD,\t8701 LINCOLN BLVD,\t8744 W 3RD ST,\t8771 W PICO BLVD,\t8823 W PICO BLVD,\t8832 W PICO BLVD,\t8975 W PICO BLVD,\t8985 VENICE BLVD,\t900 W OLYMPIC BLVD,\t901 W OLYMPIC BLVD,\t923 FOREST AVE,\t928 S WESTERN AVE # 123,\t929 W JEFFERSON BLVD,\t935 BROXTON AVE,\t936 S VERMONT AVE,\t944 W FLORENCE AVE,\t949 S FIGUEROA ST,\t9575 W PICO BLVD,\t960 N HILL ST,\t9616 W PICO BLVD,\t970 N WESTERN AVE,\t9750 AIRPORT BLVD,\t980 S SAN PEDRO ST,\t9801 AIRPORT BLVD,\t984 S WESTERN AVE,\t9901 S LA CIENEGA BLVD,\""
   ]
  },
  {
   "cell_type": "markdown",
   "metadata": {},
   "source": [
    "### Justificación para estos datos eliminados del dataframe:"
   ]
  },
  {
   "cell_type": "markdown",
   "metadata": {},
   "source": [
    "Se revisaron línea a línea las dirrecciones que contenian más de un restaurante. Se analizó si era justificable que hubiesen varios restaurantes en aquella dirrección, por ejemplo si es un boulevar, un centro comerciall, cacino o incluso campus universitario, tiene sentido que hayan varios restaurantes e incluso que se repitan por ejemplo cadenas de café. \n",
    "\n",
    "Por otro lado, se consideraron datos inciertos los restauranes que tenían casi el mismo nombre con ligeras variaciones en la misma calle, por ejemplo *GET BBUL* y *GETBBUL RESTAURANT* es muy probable que sean el mismo restaurante sobre todo porque la dirrección es bastante espécifica *3189 1/2 W OLYMPIC BLVD*. Otro ejemplo, *Pollos al carbon restaurant* y *Restaurant Pollo al carbón*, los dos en *326 E PICO BLVD*, lo más probable es que haya sido ingresado dos veces. \n",
    "\n",
    "Otro punto a considerar es cuando los números de sillas no son exactamente iguales. Cuando son iguales es simple, se dejó un registro (lamentablemente solo encontramos 6 de estos casos). En la gran mayoría de los casos, el número de sillas no eran iguales, en los casos en que la diferencia era muy poca o se podía justificar se sacó un promedio para dejar un registro, en los casos en que las diferencias eran muy grandes y no había forma de justificar un promedio se dejó como valor ausente.\n",
    "\n",
    "Si bien, se podría considerar antojadiso el método utilizado ya que no podemos asegurar al 100% que los datos borrados efectivamente son duplicados (a menos que salgamos a terreno), podemos confirmar que los datos que quedaron en el dataset están 100% válidados, de manera manual y revisando diferentes variables tales como si los nombres eran similares o no (ya sea por traducción de nombres o mala orthografía y/o simbolos extraños), si la categoría era la misma o no y si resultaba cohorente que lo fuese (por ejemplo en el casino es normal tener un café en el primer piso y un restaurante en el último), se analizó la posibilidad de que hubiesen más de un restaurante en la misma calle (un carrito de tacos en Sunset Boulevard hace sentido que cada x metros se pueda poner otro, sobre todo si el número de sillas no es muy grande, en cambio dos JACK IN THE BOX # 370 en la misma calle es mucho menos probable), con todo este labor realizado estamos seguros de que los resultados que obtengamos serán más cercanos a la realidad que si no se hubiesen realizado estos cambios."
   ]
  },
  {
   "cell_type": "markdown",
   "metadata": {},
   "source": [
    "## Análisis de datos <a id='data_analysis'></a>"
   ]
  },
  {
   "cell_type": "markdown",
   "metadata": {},
   "source": [
    "En esta sección intentaremos responder nuestras preguntas iniciales con el fin de sacar conclusiones relevantes para nuestra presentación. Utilizaremos la siguiente paleta de colores:"
   ]
  },
  {
   "cell_type": "code",
   "execution_count": 787,
   "metadata": {},
   "outputs": [
    {
     "data": {
      "image/png": "[encoded data removed]",
      "text/plain": [
       "<Figure size 432x72 with 1 Axes>"
      ]
     },
     "metadata": {
      "needs_background": "light"
     },
     "output_type": "display_data"
    }
   ],
   "source": [
    "palette = sns.color_palette(\"RdBu\", 6)\n",
    "sns.palplot(palette)"
   ]
  },
  {
   "cell_type": "markdown",
   "metadata": {},
   "source": [
    "### Proporciones de los distintos tipos de establecimientos: <a id='prop_rest'></a>"
   ]
  },
  {
   "cell_type": "markdown",
   "metadata": {},
   "source": [
    "Para ver las proporciones de los distintos tipos de establecimientos, primero contaremos cuantos establecimientos hay por tipo, luego trazaremos un gráfico para visualizar estos datos mejor."
   ]
  },
  {
   "cell_type": "code",
   "execution_count": 788,
   "metadata": {},
   "outputs": [
    {
     "data": {
      "text/plain": [
       "Restaurant    0.752120\n",
       "Fast Food     0.110004\n",
       "Cafe          0.044616\n",
       "Pizza         0.032641\n",
       "Bar           0.030839\n",
       "Bakery        0.029780\n",
       "Name: rest_type, dtype: float64"
      ]
     },
     "execution_count": 788,
     "metadata": {},
     "output_type": "execute_result"
    }
   ],
   "source": [
    "rest_data['rest_type'].value_counts(normalize=True)"
   ]
  },
  {
   "cell_type": "code",
   "execution_count": 789,
   "metadata": {},
   "outputs": [
    {
     "data": {
      "image/png": "[encoded data removed]",
      "text/plain": [
       "<Figure size 936x648 with 1 Axes>"
      ]
     },
     "metadata": {
      "needs_background": "light"
     },
     "output_type": "display_data"
    }
   ],
   "source": [
    "dif_types = rest_data.groupby(by=['rest_type']).count().reset_index()\n",
    "plt.figure(figsize=(13,9))\n",
    "sns.set_palette(palette)\n",
    "ax = sns.barplot(x='rest_type', y='rest_id', data=dif_types, errwidth=0)\n",
    "plt.xlabel(\"Tipos de Establecimientos\")\n",
    "plt.ylabel(\"Número de Establecimientos\")\n",
    "plt.title(\"Tipos de Establecimientos en LA\")\n",
    "for index, row in dif_types.iterrows():\n",
    "    ax.text(row.name, row.chain, round(row.rest_id, 2),\n",
    "            color='black', ha='center')\n",
    "plt.show()"
   ]
  },
  {
   "cell_type": "markdown",
   "metadata": {},
   "source": [
    "Como se puede apreciar la mayoría de los establecimientos corresponden a restoranes (7097), son seguidos muy por debajo por los establecimientos de comida rápida (1038). El resto son números muy por debajo de los 500 establecimientos."
   ]
  },
  {
   "cell_type": "markdown",
   "metadata": {},
   "source": [
    "### Proporciones de establecimientos que son o no cadenas: <a id='prop_chain'></a>"
   ]
  },
  {
   "cell_type": "markdown",
   "metadata": {},
   "source": [
    "Para revisar esta proporción vamos a mostrar un nuevo gráfico:"
   ]
  },
  {
   "cell_type": "code",
   "execution_count": 790,
   "metadata": {},
   "outputs": [
    {
     "data": {
      "image/png": "[encoded data removed]",
      "text/plain": [
       "<Figure size 864x432 with 1 Axes>"
      ]
     },
     "metadata": {},
     "output_type": "display_data"
    }
   ],
   "source": [
    "palette_2 = sns.color_palette(\"RdBu\", 2)\n",
    "data = [5972, 3676]\n",
    "labels = ['Independientes', 'Cadenas']\n",
    "plt.figure(figsize=(12,6))\n",
    "plt.title(\"Proporción de Restaurantes Independientes versus Cadenas\")\n",
    "plt.pie(data, labels = labels, colors = palette_2, autopct='%.0f%%')\n",
    "plt.show()"
   ]
  },
  {
   "cell_type": "markdown",
   "metadata": {},
   "source": [
    "Podemos notar que el 62% de los establecimiontos en LA corresponden a locales independientes. ¿Podría ser que la gente prefiera locales más autenticos que cadenas en Los Ángeles?"
   ]
  },
  {
   "cell_type": "markdown",
   "metadata": {},
   "source": [
    "### ¿Qué tipo de establecimiento es habitualmente una cadena? <a id='whats_chain'></a>"
   ]
  },
  {
   "cell_type": "code",
   "execution_count": 791,
   "metadata": {},
   "outputs": [
    {
     "data": {
      "text/plain": [
       "Restaurant    0.621629\n",
       "Fast Food     0.165169\n",
       "Bakery        0.078933\n",
       "Cafe          0.071910\n",
       "Pizza         0.040730\n",
       "Bar           0.021629\n",
       "Name: rest_type, dtype: float64"
      ]
     },
     "execution_count": 791,
     "metadata": {},
     "output_type": "execute_result"
    }
   ],
   "source": [
    "rest_data.query('chain == True')['rest_type'].value_counts(normalize=True)"
   ]
  },
  {
   "cell_type": "code",
   "execution_count": 792,
   "metadata": {},
   "outputs": [
    {
     "data": {
      "image/png": "[encoded data removed]",
      "text/plain": [
       "<Figure size 936x648 with 1 Axes>"
      ]
     },
     "metadata": {
      "needs_background": "light"
     },
     "output_type": "display_data"
    }
   ],
   "source": [
    "chains = rest_data.query('chain == True')\n",
    "chains_types = chains.groupby(by=['rest_type']).count().reset_index()\n",
    "plt.figure(figsize=(13,9))\n",
    "ax = sns.barplot(x='rest_type', y='rest_id', data=chains_types, errwidth=0)\n",
    "plt.xlabel(\"Tipos de Establecimientos\")\n",
    "plt.ylabel(\"Número de Establecimientos\")\n",
    "plt.title(\"Tipos de cadenas en LA\")\n",
    "for index, row in chains_types.iterrows():\n",
    "    ax.text(row.name, row.chain, round(row.rest_id, 2),\n",
    "            color='black', ha='center')\n",
    "plt.show()"
   ]
  },
  {
   "cell_type": "markdown",
   "metadata": {},
   "source": [
    "Las cadenas siguen el mismo patrón, la mayoría de las cadenas corresponden a restoranes (2213), son seguidos muy por debajo por las cadenas de comida rápida (588). El resto son números por debajo de los 300."
   ]
  },
  {
   "cell_type": "markdown",
   "metadata": {},
   "source": [
    "### ¿Qué caracteriza a las cadenas: muchos establecimientos con un pequeño número de asientos o unos pocos establecimientos con un montón de asientos? <a id='seats_chain'></a>"
   ]
  },
  {
   "cell_type": "markdown",
   "metadata": {},
   "source": [
    "Para responder a esta pregunta primero haremos una mirada general de los datos:"
   ]
  },
  {
   "cell_type": "code",
   "execution_count": 827,
   "metadata": {},
   "outputs": [
    {
     "data": {
      "image/png": "[encoded data removed]",
      "text/plain": [
       "<Figure size 936x648 with 1 Axes>"
      ]
     },
     "metadata": {
      "needs_background": "light"
     },
     "output_type": "display_data"
    }
   ],
   "source": [
    "plt.figure(figsize=(13,9))\n",
    "palette_2 = sns.color_palette(\"RdBu\", 2)\n",
    "sns.set_palette(palette_2)\n",
    "sns.countplot(data=rest_data, x='rest_type', hue='chain')\n",
    "plt.xlabel(\"Tipos de Establecimientos\")\n",
    "plt.ylabel(\"Número de Establecimientos\")\n",
    "plt.title(\"Comparación de establecimientos para cadenas e independientes\")\n",
    "plt.show()"
   ]
  },
  {
   "cell_type": "markdown",
   "metadata": {},
   "source": [
    "Como se puede apreciar, acá encontramos algunos datos interesantes. Por ejemplo, las panaderías son todas cadenas (en nuestra base de datos no tenemos ninguna independiente). Los bares, en cambio, al menos en Los Ángeles tienden a ser locales independientes. Los cafés y los locales de comida rápida tienden a ser cadenas, mientras que las pizerias se encuentran bastante parejas. En lo que a restaurantes compete, hay más restaurantes independientes que cadenas. Vamos a analizar como se comporta el número de sillas para las cadenas:"
   ]
  },
  {
   "cell_type": "code",
   "execution_count": 794,
   "metadata": {},
   "outputs": [
    {
     "data": {
      "text/plain": [
       "count    3553.000000\n",
       "mean       39.559809\n",
       "std        43.302595\n",
       "min         1.000000\n",
       "25%        13.000000\n",
       "50%        25.000000\n",
       "75%        44.000000\n",
       "max       229.000000\n",
       "Name: n_chairs, dtype: float64"
      ]
     },
     "execution_count": 794,
     "metadata": {},
     "output_type": "execute_result"
    }
   ],
   "source": [
    "chains['n_chairs'].describe()"
   ]
  },
  {
   "cell_type": "markdown",
   "metadata": {},
   "source": [
    "Podemos visualizar la distribución de sillas con el siguiente gráfico:"
   ]
  },
  {
   "cell_type": "code",
   "execution_count": 795,
   "metadata": {},
   "outputs": [
    {
     "data": {
      "image/png": "[encoded data removed]",
      "text/plain": [
       "<Figure size 864x432 with 1 Axes>"
      ]
     },
     "metadata": {
      "needs_background": "light"
     },
     "output_type": "display_data"
    }
   ],
   "source": [
    "plt.figure(figsize=(12,6))\n",
    "sns.violinplot(y='n_chairs', data=chains, color=\"#89CFF0\")\n",
    "plt.ylabel(\"Número de sillas\")\n",
    "plt.title(\"Distribución del número de sillas en las Cadenas\")\n",
    "plt.show()"
   ]
  },
  {
   "cell_type": "markdown",
   "metadata": {},
   "source": [
    "Como podemos ver la media es de 40 sillas por establecimiento, sin embargo la desviación estándar es de 43 sillas, esto indica la diferencia entre el mínimo de sillas (1), el máximo de sillas (229) y la media que son 25. Creo que será mejor ver la distribución de estos valores para analizar las excepciones. Los extremos parecen bastante excepcionales. Lo primero que haremos es agregar una columna con los nombres de las grandes cadenas para porder así agruparlas y sacar mejores resultados:"
   ]
  },
  {
   "cell_type": "code",
   "execution_count": 796,
   "metadata": {},
   "outputs": [
    {
     "name": "stderr",
     "output_type": "stream",
     "text": [
      "/tmp/ipykernel_57/1492575286.py:1: SettingWithCopyWarning: \n",
      "A value is trying to be set on a copy of a slice from a DataFrame.\n",
      "Try using .loc[row_indexer,col_indexer] = value instead\n",
      "\n",
      "See the caveats in the documentation: https://pandas.pydata.org/pandas-docs/stable/user_guide/indexing.html#returning-a-view-versus-a-copy\n",
      "  chains['chain_name'] = chains['rest_name'].astype(str).str.extract(r'([A-Za-z]+(?: [A-Za-z]+)*)')\n",
      "/tmp/ipykernel_57/1492575286.py:3: SettingWithCopyWarning: \n",
      "A value is trying to be set on a copy of a slice from a DataFrame.\n",
      "Try using .loc[row_indexer,col_indexer] = value instead\n",
      "\n",
      "See the caveats in the documentation: https://pandas.pydata.org/pandas-docs/stable/user_guide/indexing.html#returning-a-view-versus-a-copy\n",
      "  chains['chain_name'] = chains['chain_name'].replace('SUBWAY SANDWICHES', 'SUBWAY')\n",
      "/tmp/ipykernel_57/1492575286.py:4: SettingWithCopyWarning: \n",
      "A value is trying to be set on a copy of a slice from a DataFrame.\n",
      "Try using .loc[row_indexer,col_indexer] = value instead\n",
      "\n",
      "See the caveats in the documentation: https://pandas.pydata.org/pandas-docs/stable/user_guide/indexing.html#returning-a-view-versus-a-copy\n",
      "  chains['chain_name'] = chains['chain_name'].replace('SUBWAY SANDWICH', 'SUBWAY')\n",
      "/tmp/ipykernel_57/1492575286.py:5: SettingWithCopyWarning: \n",
      "A value is trying to be set on a copy of a slice from a DataFrame.\n",
      "Try using .loc[row_indexer,col_indexer] = value instead\n",
      "\n",
      "See the caveats in the documentation: https://pandas.pydata.org/pandas-docs/stable/user_guide/indexing.html#returning-a-view-versus-a-copy\n",
      "  chains['chain_name'] = chains['chain_name'].replace('SUBWAY STORE', 'SUBWAY')\n",
      "/tmp/ipykernel_57/1492575286.py:6: SettingWithCopyWarning: \n",
      "A value is trying to be set on a copy of a slice from a DataFrame.\n",
      "Try using .loc[row_indexer,col_indexer] = value instead\n",
      "\n",
      "See the caveats in the documentation: https://pandas.pydata.org/pandas-docs/stable/user_guide/indexing.html#returning-a-view-versus-a-copy\n",
      "  chains['chain_name'] = chains['chain_name'].replace('SUBWAY SANDWICH SHOP', 'SUBWAY')\n",
      "/tmp/ipykernel_57/1492575286.py:7: SettingWithCopyWarning: \n",
      "A value is trying to be set on a copy of a slice from a DataFrame.\n",
      "Try using .loc[row_indexer,col_indexer] = value instead\n",
      "\n",
      "See the caveats in the documentation: https://pandas.pydata.org/pandas-docs/stable/user_guide/indexing.html#returning-a-view-versus-a-copy\n",
      "  chains['chain_name'] = chains['chain_name'].replace('SUBWAY SANDWICHES AND SALADS', 'SUBWAY')\n",
      "/tmp/ipykernel_57/1492575286.py:8: SettingWithCopyWarning: \n",
      "A value is trying to be set on a copy of a slice from a DataFrame.\n",
      "Try using .loc[row_indexer,col_indexer] = value instead\n",
      "\n",
      "See the caveats in the documentation: https://pandas.pydata.org/pandas-docs/stable/user_guide/indexing.html#returning-a-view-versus-a-copy\n",
      "  chains['chain_name'] = chains['chain_name'].replace('SUBWAY SANDWICHES SALADS', 'SUBWAY')\n",
      "/tmp/ipykernel_57/1492575286.py:9: SettingWithCopyWarning: \n",
      "A value is trying to be set on a copy of a slice from a DataFrame.\n",
      "Try using .loc[row_indexer,col_indexer] = value instead\n",
      "\n",
      "See the caveats in the documentation: https://pandas.pydata.org/pandas-docs/stable/user_guide/indexing.html#returning-a-view-versus-a-copy\n",
      "  chains['chain_name'] = chains['chain_name'].replace('SUBWAY SANWICHES', 'SUBWAY')\n",
      "/tmp/ipykernel_57/1492575286.py:11: SettingWithCopyWarning: \n",
      "A value is trying to be set on a copy of a slice from a DataFrame.\n",
      "Try using .loc[row_indexer,col_indexer] = value instead\n",
      "\n",
      "See the caveats in the documentation: https://pandas.pydata.org/pandas-docs/stable/user_guide/indexing.html#returning-a-view-versus-a-copy\n",
      "  chains['chain_name'] = chains['chain_name'].replace('STARBUCKS COFFEE', 'STARBUCKS')\n",
      "/tmp/ipykernel_57/1492575286.py:12: SettingWithCopyWarning: \n",
      "A value is trying to be set on a copy of a slice from a DataFrame.\n",
      "Try using .loc[row_indexer,col_indexer] = value instead\n",
      "\n",
      "See the caveats in the documentation: https://pandas.pydata.org/pandas-docs/stable/user_guide/indexing.html#returning-a-view-versus-a-copy\n",
      "  chains['chain_name'] = chains['chain_name'].replace('STARBUCKS CAFE', 'STARBUCKS')\n",
      "/tmp/ipykernel_57/1492575286.py:13: SettingWithCopyWarning: \n",
      "A value is trying to be set on a copy of a slice from a DataFrame.\n",
      "Try using .loc[row_indexer,col_indexer] = value instead\n",
      "\n",
      "See the caveats in the documentation: https://pandas.pydata.org/pandas-docs/stable/user_guide/indexing.html#returning-a-view-versus-a-copy\n",
      "  chains['chain_name'] = chains['chain_name'].replace('STARBUCKS COFFEE CORPORATION', 'STARBUCKS')\n",
      "/tmp/ipykernel_57/1492575286.py:14: SettingWithCopyWarning: \n",
      "A value is trying to be set on a copy of a slice from a DataFrame.\n",
      "Try using .loc[row_indexer,col_indexer] = value instead\n",
      "\n",
      "See the caveats in the documentation: https://pandas.pydata.org/pandas-docs/stable/user_guide/indexing.html#returning-a-view-versus-a-copy\n",
      "  chains['chain_name'] = chains['chain_name'].replace('STARBUCKS STORE', 'STARBUCKS')\n",
      "/tmp/ipykernel_57/1492575286.py:15: SettingWithCopyWarning: \n",
      "A value is trying to be set on a copy of a slice from a DataFrame.\n",
      "Try using .loc[row_indexer,col_indexer] = value instead\n",
      "\n",
      "See the caveats in the documentation: https://pandas.pydata.org/pandas-docs/stable/user_guide/indexing.html#returning-a-view-versus-a-copy\n",
      "  chains['chain_name'] = chains['chain_name'].replace('STARBUCKS EVENING', 'STARBUCKS')\n",
      "/tmp/ipykernel_57/1492575286.py:17: SettingWithCopyWarning: \n",
      "A value is trying to be set on a copy of a slice from a DataFrame.\n",
      "Try using .loc[row_indexer,col_indexer] = value instead\n",
      "\n",
      "See the caveats in the documentation: https://pandas.pydata.org/pandas-docs/stable/user_guide/indexing.html#returning-a-view-versus-a-copy\n",
      "  chains['chain_name'] = chains['chain_name'].replace('MCDONALD', 'MCDONALDS')\n",
      "/tmp/ipykernel_57/1492575286.py:18: SettingWithCopyWarning: \n",
      "A value is trying to be set on a copy of a slice from a DataFrame.\n",
      "Try using .loc[row_indexer,col_indexer] = value instead\n",
      "\n",
      "See the caveats in the documentation: https://pandas.pydata.org/pandas-docs/stable/user_guide/indexing.html#returning-a-view-versus-a-copy\n",
      "  chains['chain_name'] = chains['chain_name'].replace('MC DONALD', 'MCDONALDS')\n",
      "/tmp/ipykernel_57/1492575286.py:20: SettingWithCopyWarning: \n",
      "A value is trying to be set on a copy of a slice from a DataFrame.\n",
      "Try using .loc[row_indexer,col_indexer] = value instead\n",
      "\n",
      "See the caveats in the documentation: https://pandas.pydata.org/pandas-docs/stable/user_guide/indexing.html#returning-a-view-versus-a-copy\n",
      "  chains['chain_name'] = chains['chain_name'].replace('THE COFFEE BEAN', 'THE COFFEE BEAN AND TEA LEAF')\n",
      "/tmp/ipykernel_57/1492575286.py:21: SettingWithCopyWarning: \n",
      "A value is trying to be set on a copy of a slice from a DataFrame.\n",
      "Try using .loc[row_indexer,col_indexer] = value instead\n",
      "\n",
      "See the caveats in the documentation: https://pandas.pydata.org/pandas-docs/stable/user_guide/indexing.html#returning-a-view-versus-a-copy\n",
      "  chains['chain_name'] = chains['chain_name'].replace('COFFEE BEAN AND TEA LEAF', 'THE COFFEE BEAN AND TEA LEAF')\n",
      "/tmp/ipykernel_57/1492575286.py:22: SettingWithCopyWarning: \n",
      "A value is trying to be set on a copy of a slice from a DataFrame.\n",
      "Try using .loc[row_indexer,col_indexer] = value instead\n",
      "\n",
      "See the caveats in the documentation: https://pandas.pydata.org/pandas-docs/stable/user_guide/indexing.html#returning-a-view-versus-a-copy\n",
      "  chains['chain_name'] = chains['chain_name'].replace('COFFEE BEAN', 'THE COFFEE BEAN AND TEA LEAF')\n",
      "/tmp/ipykernel_57/1492575286.py:24: SettingWithCopyWarning: \n",
      "A value is trying to be set on a copy of a slice from a DataFrame.\n",
      "Try using .loc[row_indexer,col_indexer] = value instead\n",
      "\n",
      "See the caveats in the documentation: https://pandas.pydata.org/pandas-docs/stable/user_guide/indexing.html#returning-a-view-versus-a-copy\n",
      "  chains['chain_name'] = chains['chain_name'].replace('EL POLLO LOCO CSULA', 'EL POLLO LOCO')\n",
      "/tmp/ipykernel_57/1492575286.py:26: SettingWithCopyWarning: \n",
      "A value is trying to be set on a copy of a slice from a DataFrame.\n",
      "Try using .loc[row_indexer,col_indexer] = value instead\n",
      "\n",
      "See the caveats in the documentation: https://pandas.pydata.org/pandas-docs/stable/user_guide/indexing.html#returning-a-view-versus-a-copy\n",
      "  chains['chain_name'] = chains['chain_name'].replace('TACO BELL', 'KFC/TACO BELL')\n",
      "/tmp/ipykernel_57/1492575286.py:27: SettingWithCopyWarning: \n",
      "A value is trying to be set on a copy of a slice from a DataFrame.\n",
      "Try using .loc[row_indexer,col_indexer] = value instead\n",
      "\n",
      "See the caveats in the documentation: https://pandas.pydata.org/pandas-docs/stable/user_guide/indexing.html#returning-a-view-versus-a-copy\n",
      "  chains['chain_name'] = chains['chain_name'].replace('KFC TACO BELL E', 'KFC/TACO BELL')\n",
      "/tmp/ipykernel_57/1492575286.py:28: SettingWithCopyWarning: \n",
      "A value is trying to be set on a copy of a slice from a DataFrame.\n",
      "Try using .loc[row_indexer,col_indexer] = value instead\n",
      "\n",
      "See the caveats in the documentation: https://pandas.pydata.org/pandas-docs/stable/user_guide/indexing.html#returning-a-view-versus-a-copy\n",
      "  chains['chain_name'] = chains['chain_name'].replace('KFC', 'KFC/TACO BELL')\n",
      "/tmp/ipykernel_57/1492575286.py:29: SettingWithCopyWarning: \n",
      "A value is trying to be set on a copy of a slice from a DataFrame.\n",
      "Try using .loc[row_indexer,col_indexer] = value instead\n",
      "\n",
      "See the caveats in the documentation: https://pandas.pydata.org/pandas-docs/stable/user_guide/indexing.html#returning-a-view-versus-a-copy\n",
      "  chains['chain_name'] = chains['chain_name'].replace('KFC BROADWAY', 'KFC/TACO BELL')\n",
      "/tmp/ipykernel_57/1492575286.py:30: SettingWithCopyWarning: \n",
      "A value is trying to be set on a copy of a slice from a DataFrame.\n",
      "Try using .loc[row_indexer,col_indexer] = value instead\n",
      "\n",
      "See the caveats in the documentation: https://pandas.pydata.org/pandas-docs/stable/user_guide/indexing.html#returning-a-view-versus-a-copy\n",
      "  chains['chain_name'] = chains['chain_name'].replace('PIZZA HUT', 'KFC/TACO BELL')\n",
      "/tmp/ipykernel_57/1492575286.py:31: SettingWithCopyWarning: \n",
      "A value is trying to be set on a copy of a slice from a DataFrame.\n",
      "Try using .loc[row_indexer,col_indexer] = value instead\n",
      "\n",
      "See the caveats in the documentation: https://pandas.pydata.org/pandas-docs/stable/user_guide/indexing.html#returning-a-view-versus-a-copy\n",
      "  chains['chain_name'] = chains['chain_name'].replace('KENTUCKY FRIED CHICKEN', 'KFC/TACO BELL')\n",
      "/tmp/ipykernel_57/1492575286.py:32: SettingWithCopyWarning: \n",
      "A value is trying to be set on a copy of a slice from a DataFrame.\n",
      "Try using .loc[row_indexer,col_indexer] = value instead\n",
      "\n",
      "See the caveats in the documentation: https://pandas.pydata.org/pandas-docs/stable/user_guide/indexing.html#returning-a-view-versus-a-copy\n",
      "  chains['chain_name'] = chains['chain_name'].replace('KENTUCKY FRIED CHICKEN T', 'KFC/TACO BELL')\n",
      "/tmp/ipykernel_57/1492575286.py:34: SettingWithCopyWarning: \n",
      "A value is trying to be set on a copy of a slice from a DataFrame.\n",
      "Try using .loc[row_indexer,col_indexer] = value instead\n",
      "\n",
      "See the caveats in the documentation: https://pandas.pydata.org/pandas-docs/stable/user_guide/indexing.html#returning-a-view-versus-a-copy\n",
      "  chains['chain_name'] = chains['chain_name'].replace('DOMINO', 'DOMINOS PIZZA')\n",
      "/tmp/ipykernel_57/1492575286.py:36: SettingWithCopyWarning: \n",
      "A value is trying to be set on a copy of a slice from a DataFrame.\n",
      "Try using .loc[row_indexer,col_indexer] = value instead\n",
      "\n",
      "See the caveats in the documentation: https://pandas.pydata.org/pandas-docs/stable/user_guide/indexing.html#returning-a-view-versus-a-copy\n",
      "  chains['chain_name'] = chains['chain_name'].replace('YOSHINOYA BEEF BOWL', 'YOSHINOYA')\n",
      "/tmp/ipykernel_57/1492575286.py:38: SettingWithCopyWarning: \n",
      "A value is trying to be set on a copy of a slice from a DataFrame.\n",
      "Try using .loc[row_indexer,col_indexer] = value instead\n",
      "\n",
      "See the caveats in the documentation: https://pandas.pydata.org/pandas-docs/stable/user_guide/indexing.html#returning-a-view-versus-a-copy\n",
      "  chains['chain_name'] = chains['chain_name'].replace('ASHLAND BAR EARTH BAR', 'PANDA EXPRESS')\n",
      "/tmp/ipykernel_57/1492575286.py:39: SettingWithCopyWarning: \n",
      "A value is trying to be set on a copy of a slice from a DataFrame.\n",
      "Try using .loc[row_indexer,col_indexer] = value instead\n",
      "\n",
      "See the caveats in the documentation: https://pandas.pydata.org/pandas-docs/stable/user_guide/indexing.html#returning-a-view-versus-a-copy\n",
      "  chains['chain_name'] = chains['chain_name'].replace('PANDA EXPRESS INC', 'PANDA EXPRESS')\n",
      "/tmp/ipykernel_57/1492575286.py:40: SettingWithCopyWarning: \n",
      "A value is trying to be set on a copy of a slice from a DataFrame.\n",
      "Try using .loc[row_indexer,col_indexer] = value instead\n",
      "\n",
      "See the caveats in the documentation: https://pandas.pydata.org/pandas-docs/stable/user_guide/indexing.html#returning-a-view-versus-a-copy\n",
      "  chains['chain_name'] = chains['chain_name'].replace('EARTH BAR', 'PANDA EXPRESS')\n",
      "/tmp/ipykernel_57/1492575286.py:41: SettingWithCopyWarning: \n",
      "A value is trying to be set on a copy of a slice from a DataFrame.\n",
      "Try using .loc[row_indexer,col_indexer] = value instead\n",
      "\n",
      "See the caveats in the documentation: https://pandas.pydata.org/pandas-docs/stable/user_guide/indexing.html#returning-a-view-versus-a-copy\n",
      "  chains['chain_name'] = chains['chain_name'].replace('EARTH ORGANIC JUICE BAR', 'PANDA EXPRESS')\n",
      "/tmp/ipykernel_57/1492575286.py:43: SettingWithCopyWarning: \n",
      "A value is trying to be set on a copy of a slice from a DataFrame.\n",
      "Try using .loc[row_indexer,col_indexer] = value instead\n",
      "\n",
      "See the caveats in the documentation: https://pandas.pydata.org/pandas-docs/stable/user_guide/indexing.html#returning-a-view-versus-a-copy\n",
      "  chains['chain_name'] = chains['chain_name'].replace('JAMBA JUICE COMPANY', 'JAMBA JUICE')\n",
      "/tmp/ipykernel_57/1492575286.py:45: SettingWithCopyWarning: \n",
      "A value is trying to be set on a copy of a slice from a DataFrame.\n",
      "Try using .loc[row_indexer,col_indexer] = value instead\n",
      "\n",
      "See the caveats in the documentation: https://pandas.pydata.org/pandas-docs/stable/user_guide/indexing.html#returning-a-view-versus-a-copy\n",
      "  chains['chain_name'] = chains['chain_name'].replace('TOGO', 'BASKIN ROBBINS')\n",
      "/tmp/ipykernel_57/1492575286.py:47: SettingWithCopyWarning: \n",
      "A value is trying to be set on a copy of a slice from a DataFrame.\n",
      "Try using .loc[row_indexer,col_indexer] = value instead\n",
      "\n",
      "See the caveats in the documentation: https://pandas.pydata.org/pandas-docs/stable/user_guide/indexing.html#returning-a-view-versus-a-copy\n",
      "  chains['chain_name'] = chains['chain_name'].replace('CHINA BOWL AND LOUISIANA FRIED CHICKEN', 'LOUISIANA FRIED CHICKEN')\n",
      "/tmp/ipykernel_57/1492575286.py:48: SettingWithCopyWarning: \n",
      "A value is trying to be set on a copy of a slice from a DataFrame.\n",
      "Try using .loc[row_indexer,col_indexer] = value instead\n",
      "\n",
      "See the caveats in the documentation: https://pandas.pydata.org/pandas-docs/stable/user_guide/indexing.html#returning-a-view-versus-a-copy\n",
      "  chains['chain_name'] = chains['chain_name'].replace('PERFECT DONUT LOUISIANA FRIED CHICKEN', 'LOUISIANA FRIED CHICKEN')\n",
      "/tmp/ipykernel_57/1492575286.py:50: SettingWithCopyWarning: \n",
      "A value is trying to be set on a copy of a slice from a DataFrame.\n",
      "Try using .loc[row_indexer,col_indexer] = value instead\n",
      "\n",
      "See the caveats in the documentation: https://pandas.pydata.org/pandas-docs/stable/user_guide/indexing.html#returning-a-view-versus-a-copy\n",
      "  chains['chain_name'] = chains['chain_name'].replace('TRIMANA EXPRESS', 'TRIMANA')\n",
      "/tmp/ipykernel_57/1492575286.py:51: SettingWithCopyWarning: \n",
      "A value is trying to be set on a copy of a slice from a DataFrame.\n",
      "Try using .loc[row_indexer,col_indexer] = value instead\n",
      "\n",
      "See the caveats in the documentation: https://pandas.pydata.org/pandas-docs/stable/user_guide/indexing.html#returning-a-view-versus-a-copy\n",
      "  chains['chain_name'] = chains['chain_name'].replace('TRIMANA COMMONWEALTH', 'TRIMANA')\n",
      "/tmp/ipykernel_57/1492575286.py:52: SettingWithCopyWarning: \n",
      "A value is trying to be set on a copy of a slice from a DataFrame.\n",
      "Try using .loc[row_indexer,col_indexer] = value instead\n",
      "\n",
      "See the caveats in the documentation: https://pandas.pydata.org/pandas-docs/stable/user_guide/indexing.html#returning-a-view-versus-a-copy\n",
      "  chains['chain_name'] = chains['chain_name'].replace('TRIMANA OF HOPE ST', 'TRIMANA')\n",
      "/tmp/ipykernel_57/1492575286.py:53: SettingWithCopyWarning: \n",
      "A value is trying to be set on a copy of a slice from a DataFrame.\n",
      "Try using .loc[row_indexer,col_indexer] = value instead\n",
      "\n",
      "See the caveats in the documentation: https://pandas.pydata.org/pandas-docs/stable/user_guide/indexing.html#returning-a-view-versus-a-copy\n",
      "  chains['chain_name'] = chains['chain_name'].replace('TRIMANA GRILL', 'TRIMANA')\n",
      "/tmp/ipykernel_57/1492575286.py:54: SettingWithCopyWarning: \n",
      "A value is trying to be set on a copy of a slice from a DataFrame.\n",
      "Try using .loc[row_indexer,col_indexer] = value instead\n",
      "\n",
      "See the caveats in the documentation: https://pandas.pydata.org/pandas-docs/stable/user_guide/indexing.html#returning-a-view-versus-a-copy\n",
      "  chains['chain_name'] = chains['chain_name'].replace('GOODIES TRIMANA', 'TRIMANA')\n",
      "/tmp/ipykernel_57/1492575286.py:55: SettingWithCopyWarning: \n",
      "A value is trying to be set on a copy of a slice from a DataFrame.\n",
      "Try using .loc[row_indexer,col_indexer] = value instead\n",
      "\n",
      "See the caveats in the documentation: https://pandas.pydata.org/pandas-docs/stable/user_guide/indexing.html#returning-a-view-versus-a-copy\n",
      "  chains['chain_name'] = chains['chain_name'].replace('TRIMANA OF', 'TRIMANA')\n",
      "/tmp/ipykernel_57/1492575286.py:56: SettingWithCopyWarning: \n",
      "A value is trying to be set on a copy of a slice from a DataFrame.\n",
      "Try using .loc[row_indexer,col_indexer] = value instead\n",
      "\n",
      "See the caveats in the documentation: https://pandas.pydata.org/pandas-docs/stable/user_guide/indexing.html#returning-a-view-versus-a-copy\n",
      "  chains['chain_name'] = chains['chain_name'].replace('TRIMANA CITY HALL EAST', 'TRIMANA')\n",
      "/tmp/ipykernel_57/1492575286.py:57: SettingWithCopyWarning: \n",
      "A value is trying to be set on a copy of a slice from a DataFrame.\n",
      "Try using .loc[row_indexer,col_indexer] = value instead\n",
      "\n",
      "See the caveats in the documentation: https://pandas.pydata.org/pandas-docs/stable/user_guide/indexing.html#returning-a-view-versus-a-copy\n",
      "  chains['chain_name'] = chains['chain_name'].replace('TRIMANA RESTAURANT', 'TRIMANA')\n",
      "/tmp/ipykernel_57/1492575286.py:58: SettingWithCopyWarning: \n",
      "A value is trying to be set on a copy of a slice from a DataFrame.\n",
      "Try using .loc[row_indexer,col_indexer] = value instead\n",
      "\n",
      "See the caveats in the documentation: https://pandas.pydata.org/pandas-docs/stable/user_guide/indexing.html#returning-a-view-versus-a-copy\n",
      "  chains['chain_name'] = chains['chain_name'].replace('TRIMANA AT WATERIDGE', 'TRIMANA')\n",
      "/tmp/ipykernel_57/1492575286.py:59: SettingWithCopyWarning: \n",
      "A value is trying to be set on a copy of a slice from a DataFrame.\n",
      "Try using .loc[row_indexer,col_indexer] = value instead\n",
      "\n",
      "See the caveats in the documentation: https://pandas.pydata.org/pandas-docs/stable/user_guide/indexing.html#returning-a-view-versus-a-copy\n",
      "  chains['chain_name'] = chains['chain_name'].replace('TRIMANA OF CALIFORNIAMART', 'TRIMANA')\n",
      "/tmp/ipykernel_57/1492575286.py:61: SettingWithCopyWarning: \n",
      "A value is trying to be set on a copy of a slice from a DataFrame.\n",
      "Try using .loc[row_indexer,col_indexer] = value instead\n",
      "\n",
      "See the caveats in the documentation: https://pandas.pydata.org/pandas-docs/stable/user_guide/indexing.html#returning-a-view-versus-a-copy\n",
      "  chains['chain_name'] = chains['chain_name'].replace('WABA GRILL FIGUEROA', 'WABA GRILL')\n",
      "/tmp/ipykernel_57/1492575286.py:63: SettingWithCopyWarning: \n",
      "A value is trying to be set on a copy of a slice from a DataFrame.\n",
      "Try using .loc[row_indexer,col_indexer] = value instead\n",
      "\n",
      "See the caveats in the documentation: https://pandas.pydata.org/pandas-docs/stable/user_guide/indexing.html#returning-a-view-versus-a-copy\n",
      "  chains['chain_name'] = chains['chain_name'].replace('KING DONUTS', 'HONG KONG EXPRESS')\n",
      "/tmp/ipykernel_57/1492575286.py:64: SettingWithCopyWarning: \n",
      "A value is trying to be set on a copy of a slice from a DataFrame.\n",
      "Try using .loc[row_indexer,col_indexer] = value instead\n",
      "\n",
      "See the caveats in the documentation: https://pandas.pydata.org/pandas-docs/stable/user_guide/indexing.html#returning-a-view-versus-a-copy\n",
      "  chains['chain_name'] = chains['chain_name'].replace('NEW HONG KONG EXPRESS', 'HONG KONG EXPRESS')\n",
      "/tmp/ipykernel_57/1492575286.py:66: SettingWithCopyWarning: \n",
      "A value is trying to be set on a copy of a slice from a DataFrame.\n",
      "Try using .loc[row_indexer,col_indexer] = value instead\n",
      "\n",
      "See the caveats in the documentation: https://pandas.pydata.org/pandas-docs/stable/user_guide/indexing.html#returning-a-view-versus-a-copy\n",
      "  chains['chain_name'] = chains['chain_name'].replace('PAPA JOHN', 'PAPA JOHNS PIZZA')\n",
      "/tmp/ipykernel_57/1492575286.py:68: SettingWithCopyWarning: \n",
      "A value is trying to be set on a copy of a slice from a DataFrame.\n",
      "Try using .loc[row_indexer,col_indexer] = value instead\n",
      "\n",
      "See the caveats in the documentation: https://pandas.pydata.org/pandas-docs/stable/user_guide/indexing.html#returning-a-view-versus-a-copy\n",
      "  chains['chain_name'] = chains['chain_name'].replace('WINGSTOP REST', 'WINGSTOP')\n",
      "/tmp/ipykernel_57/1492575286.py:70: SettingWithCopyWarning: \n",
      "A value is trying to be set on a copy of a slice from a DataFrame.\n",
      "Try using .loc[row_indexer,col_indexer] = value instead\n",
      "\n",
      "See the caveats in the documentation: https://pandas.pydata.org/pandas-docs/stable/user_guide/indexing.html#returning-a-view-versus-a-copy\n",
      "  chains['chain_name'] = chains['chain_name'].replace('LITTLE CAESARS', 'LITTLE CAESARS PIZZA')\n",
      "/tmp/ipykernel_57/1492575286.py:71: SettingWithCopyWarning: \n",
      "A value is trying to be set on a copy of a slice from a DataFrame.\n",
      "Try using .loc[row_indexer,col_indexer] = value instead\n",
      "\n",
      "See the caveats in the documentation: https://pandas.pydata.org/pandas-docs/stable/user_guide/indexing.html#returning-a-view-versus-a-copy\n",
      "  chains['chain_name'] = chains['chain_name'].replace('LITTLE CAESAR', 'LITTLE CAESARS PIZZA')\n",
      "/tmp/ipykernel_57/1492575286.py:73: SettingWithCopyWarning: \n",
      "A value is trying to be set on a copy of a slice from a DataFrame.\n",
      "Try using .loc[row_indexer,col_indexer] = value instead\n",
      "\n",
      "See the caveats in the documentation: https://pandas.pydata.org/pandas-docs/stable/user_guide/indexing.html#returning-a-view-versus-a-copy\n",
      "  chains['chain_name'] = chains['chain_name'].replace('YUM YUM DONUTS FRANCHISE', 'YUM YUM DONUTS')\n",
      "/tmp/ipykernel_57/1492575286.py:74: SettingWithCopyWarning: \n",
      "A value is trying to be set on a copy of a slice from a DataFrame.\n",
      "Try using .loc[row_indexer,col_indexer] = value instead\n",
      "\n",
      "See the caveats in the documentation: https://pandas.pydata.org/pandas-docs/stable/user_guide/indexing.html#returning-a-view-versus-a-copy\n",
      "  chains['chain_name'] = chains['chain_name'].replace('YUM YUM CHINESE FOOD', 'YUM YUM DONUTS')\n",
      "/tmp/ipykernel_57/1492575286.py:76: SettingWithCopyWarning: \n",
      "A value is trying to be set on a copy of a slice from a DataFrame.\n",
      "Try using .loc[row_indexer,col_indexer] = value instead\n",
      "\n",
      "See the caveats in the documentation: https://pandas.pydata.org/pandas-docs/stable/user_guide/indexing.html#returning-a-view-versus-a-copy\n",
      "  chains['chain_name'] = chains['chain_name'].replace('YOGURTLAND WESTCHESTER', 'YOGURTLAND')\n",
      "/tmp/ipykernel_57/1492575286.py:77: SettingWithCopyWarning: \n",
      "A value is trying to be set on a copy of a slice from a DataFrame.\n",
      "Try using .loc[row_indexer,col_indexer] = value instead\n",
      "\n",
      "See the caveats in the documentation: https://pandas.pydata.org/pandas-docs/stable/user_guide/indexing.html#returning-a-view-versus-a-copy\n",
      "  chains['chain_name'] = chains['chain_name'].replace('YOGURTLAND LADERA HEIGHTS', 'YOGURTLAND')\n",
      "/tmp/ipykernel_57/1492575286.py:78: SettingWithCopyWarning: \n",
      "A value is trying to be set on a copy of a slice from a DataFrame.\n",
      "Try using .loc[row_indexer,col_indexer] = value instead\n",
      "\n",
      "See the caveats in the documentation: https://pandas.pydata.org/pandas-docs/stable/user_guide/indexing.html#returning-a-view-versus-a-copy\n",
      "  chains['chain_name'] = chains['chain_name'].replace('YOGURTLAND BALDWIN HILLS', 'YOGURTLAND')\n",
      "/tmp/ipykernel_57/1492575286.py:79: SettingWithCopyWarning: \n",
      "A value is trying to be set on a copy of a slice from a DataFrame.\n",
      "Try using .loc[row_indexer,col_indexer] = value instead\n",
      "\n",
      "See the caveats in the documentation: https://pandas.pydata.org/pandas-docs/stable/user_guide/indexing.html#returning-a-view-versus-a-copy\n",
      "  chains['chain_name'] = chains['chain_name'].replace('YOGURTLAND SUNSET', 'YOGURTLAND')\n",
      "/tmp/ipykernel_57/1492575286.py:80: SettingWithCopyWarning: \n",
      "A value is trying to be set on a copy of a slice from a DataFrame.\n",
      "Try using .loc[row_indexer,col_indexer] = value instead\n",
      "\n",
      "See the caveats in the documentation: https://pandas.pydata.org/pandas-docs/stable/user_guide/indexing.html#returning-a-view-versus-a-copy\n",
      "  chains['chain_name'] = chains['chain_name'].replace('YOGURTLAND BOYLE HEIGHTS', 'YOGURTLAND')\n",
      "/tmp/ipykernel_57/1492575286.py:81: SettingWithCopyWarning: \n",
      "A value is trying to be set on a copy of a slice from a DataFrame.\n",
      "Try using .loc[row_indexer,col_indexer] = value instead\n",
      "\n",
      "See the caveats in the documentation: https://pandas.pydata.org/pandas-docs/stable/user_guide/indexing.html#returning-a-view-versus-a-copy\n",
      "  chains['chain_name'] = chains['chain_name'].replace('YOGURTLAND CENTRAL', 'YOGURTLAND')\n",
      "/tmp/ipykernel_57/1492575286.py:82: SettingWithCopyWarning: \n",
      "A value is trying to be set on a copy of a slice from a DataFrame.\n",
      "Try using .loc[row_indexer,col_indexer] = value instead\n",
      "\n",
      "See the caveats in the documentation: https://pandas.pydata.org/pandas-docs/stable/user_guide/indexing.html#returning-a-view-versus-a-copy\n",
      "  chains['chain_name'] = chains['chain_name'].replace('YOGURTLAND LITTLE TOKYO', 'YOGURTLAND')\n",
      "/tmp/ipykernel_57/1492575286.py:83: SettingWithCopyWarning: \n",
      "A value is trying to be set on a copy of a slice from a DataFrame.\n",
      "Try using .loc[row_indexer,col_indexer] = value instead\n",
      "\n",
      "See the caveats in the documentation: https://pandas.pydata.org/pandas-docs/stable/user_guide/indexing.html#returning-a-view-versus-a-copy\n",
      "  chains['chain_name'] = chains['chain_name'].replace('YOGURTLAND USC GATEWAY', 'YOGURTLAND')\n",
      "/tmp/ipykernel_57/1492575286.py:85: SettingWithCopyWarning: \n",
      "A value is trying to be set on a copy of a slice from a DataFrame.\n",
      "Try using .loc[row_indexer,col_indexer] = value instead\n",
      "\n",
      "See the caveats in the documentation: https://pandas.pydata.org/pandas-docs/stable/user_guide/indexing.html#returning-a-view-versus-a-copy\n",
      "  chains['chain_name'] = chains['chain_name'].replace('FOOD', 'FOOD 4 LESS')\n",
      "/tmp/ipykernel_57/1492575286.py:87: SettingWithCopyWarning: \n",
      "A value is trying to be set on a copy of a slice from a DataFrame.\n",
      "Try using .loc[row_indexer,col_indexer] = value instead\n",
      "\n",
      "See the caveats in the documentation: https://pandas.pydata.org/pandas-docs/stable/user_guide/indexing.html#returning-a-view-versus-a-copy\n",
      "  chains['chain_name'] = chains['chain_name'].replace('PINKBERRY DEPARTURE', 'PINKBERRY')\n",
      "/tmp/ipykernel_57/1492575286.py:88: SettingWithCopyWarning: \n",
      "A value is trying to be set on a copy of a slice from a DataFrame.\n",
      "Try using .loc[row_indexer,col_indexer] = value instead\n",
      "\n",
      "See the caveats in the documentation: https://pandas.pydata.org/pandas-docs/stable/user_guide/indexing.html#returning-a-view-versus-a-copy\n",
      "  chains['chain_name'] = chains['chain_name'].replace('PINKBERRY ARRIVAL', 'PINKBERRY')\n",
      "/tmp/ipykernel_57/1492575286.py:89: SettingWithCopyWarning: \n",
      "A value is trying to be set on a copy of a slice from a DataFrame.\n",
      "Try using .loc[row_indexer,col_indexer] = value instead\n",
      "\n",
      "See the caveats in the documentation: https://pandas.pydata.org/pandas-docs/stable/user_guide/indexing.html#returning-a-view-versus-a-copy\n",
      "  chains['chain_name'] = chains['chain_name'].replace('PINKBERRY LITTLE TOKYO', 'PINKBERRY')\n",
      "/tmp/ipykernel_57/1492575286.py:91: SettingWithCopyWarning: \n",
      "A value is trying to be set on a copy of a slice from a DataFrame.\n",
      "Try using .loc[row_indexer,col_indexer] = value instead\n",
      "\n",
      "See the caveats in the documentation: https://pandas.pydata.org/pandas-docs/stable/user_guide/indexing.html#returning-a-view-versus-a-copy\n",
      "  chains['chain_name'] = chains['chain_name'].replace('FATBURGER', 'FATBURGERS')\n",
      "/tmp/ipykernel_57/1492575286.py:92: SettingWithCopyWarning: \n",
      "A value is trying to be set on a copy of a slice from a DataFrame.\n",
      "Try using .loc[row_indexer,col_indexer] = value instead\n",
      "\n",
      "See the caveats in the documentation: https://pandas.pydata.org/pandas-docs/stable/user_guide/indexing.html#returning-a-view-versus-a-copy\n",
      "  chains['chain_name'] = chains['chain_name'].replace('DOWNTOWN FATBURGER', 'FATBURGERS')\n",
      "/tmp/ipykernel_57/1492575286.py:93: SettingWithCopyWarning: \n",
      "A value is trying to be set on a copy of a slice from a DataFrame.\n",
      "Try using .loc[row_indexer,col_indexer] = value instead\n",
      "\n",
      "See the caveats in the documentation: https://pandas.pydata.org/pandas-docs/stable/user_guide/indexing.html#returning-a-view-versus-a-copy\n",
      "  chains['chain_name'] = chains['chain_name'].replace('CRENSHAW FATBURGER', 'FATBURGERS')\n",
      "/tmp/ipykernel_57/1492575286.py:95: SettingWithCopyWarning: \n",
      "A value is trying to be set on a copy of a slice from a DataFrame.\n",
      "Try using .loc[row_indexer,col_indexer] = value instead\n",
      "\n",
      "See the caveats in the documentation: https://pandas.pydata.org/pandas-docs/stable/user_guide/indexing.html#returning-a-view-versus-a-copy\n",
      "  chains['chain_name'] = chains['chain_name'].replace('POPEYES CHICKEN', 'POPEYES')\n",
      "/tmp/ipykernel_57/1492575286.py:97: SettingWithCopyWarning: \n",
      "A value is trying to be set on a copy of a slice from a DataFrame.\n",
      "Try using .loc[row_indexer,col_indexer] = value instead\n",
      "\n",
      "See the caveats in the documentation: https://pandas.pydata.org/pandas-docs/stable/user_guide/indexing.html#returning-a-view-versus-a-copy\n",
      "  chains['chain_name'] = chains['chain_name'].replace('LAS CHAMPAS RESTAURANT', 'LAS CHAMPAS')\n",
      "/tmp/ipykernel_57/1492575286.py:98: SettingWithCopyWarning: \n",
      "A value is trying to be set on a copy of a slice from a DataFrame.\n",
      "Try using .loc[row_indexer,col_indexer] = value instead\n",
      "\n",
      "See the caveats in the documentation: https://pandas.pydata.org/pandas-docs/stable/user_guide/indexing.html#returning-a-view-versus-a-copy\n",
      "  chains['chain_name'] = chains['chain_name'].replace('LAS CHAMPAS USA FOOD SERVICE', 'LAS CHAMPAS')\n",
      "/tmp/ipykernel_57/1492575286.py:100: SettingWithCopyWarning: \n",
      "A value is trying to be set on a copy of a slice from a DataFrame.\n",
      "Try using .loc[row_indexer,col_indexer] = value instead\n",
      "\n",
      "See the caveats in the documentation: https://pandas.pydata.org/pandas-docs/stable/user_guide/indexing.html#returning-a-view-versus-a-copy\n",
      "  chains['chain_name'] = chains['chain_name'].replace('BOBA TIME', 'ITS BOBA TIME')\n",
      "/tmp/ipykernel_57/1492575286.py:101: SettingWithCopyWarning: \n",
      "A value is trying to be set on a copy of a slice from a DataFrame.\n",
      "Try using .loc[row_indexer,col_indexer] = value instead\n",
      "\n",
      "See the caveats in the documentation: https://pandas.pydata.org/pandas-docs/stable/user_guide/indexing.html#returning-a-view-versus-a-copy\n",
      "  chains['chain_name'] = chains['chain_name'].replace('IT', 'ITS BOBA TIME')\n",
      "/tmp/ipykernel_57/1492575286.py:102: SettingWithCopyWarning: \n",
      "A value is trying to be set on a copy of a slice from a DataFrame.\n",
      "Try using .loc[row_indexer,col_indexer] = value instead\n",
      "\n",
      "See the caveats in the documentation: https://pandas.pydata.org/pandas-docs/stable/user_guide/indexing.html#returning-a-view-versus-a-copy\n",
      "  chains['chain_name'] = chains['chain_name'].replace('FRESH BOBA TIME', 'ITS BOBA TIME')\n",
      "/tmp/ipykernel_57/1492575286.py:104: SettingWithCopyWarning: \n",
      "A value is trying to be set on a copy of a slice from a DataFrame.\n",
      "Try using .loc[row_indexer,col_indexer] = value instead\n",
      "\n",
      "See the caveats in the documentation: https://pandas.pydata.org/pandas-docs/stable/user_guide/indexing.html#returning-a-view-versus-a-copy\n",
      "  chains['chain_name'] = chains['chain_name'].replace('WETZEL', 'WETZELS PRETZEL')\n",
      "/tmp/ipykernel_57/1492575286.py:105: SettingWithCopyWarning: \n",
      "A value is trying to be set on a copy of a slice from a DataFrame.\n",
      "Try using .loc[row_indexer,col_indexer] = value instead\n",
      "\n",
      "See the caveats in the documentation: https://pandas.pydata.org/pandas-docs/stable/user_guide/indexing.html#returning-a-view-versus-a-copy\n",
      "  chains['chain_name'] = chains['chain_name'].replace('WETZELS PRETZELS', 'WETZELS PRETZEL')\n",
      "/tmp/ipykernel_57/1492575286.py:107: SettingWithCopyWarning: \n",
      "A value is trying to be set on a copy of a slice from a DataFrame.\n",
      "Try using .loc[row_indexer,col_indexer] = value instead\n",
      "\n",
      "See the caveats in the documentation: https://pandas.pydata.org/pandas-docs/stable/user_guide/indexing.html#returning-a-view-versus-a-copy\n",
      "  chains['chain_name'] = chains['chain_name'].replace('PARIS BAGUETTE', 'PARIS BAGUETTE CAFE')\n",
      "/tmp/ipykernel_57/1492575286.py:109: SettingWithCopyWarning: \n",
      "A value is trying to be set on a copy of a slice from a DataFrame.\n",
      "Try using .loc[row_indexer,col_indexer] = value instead\n",
      "\n",
      "See the caveats in the documentation: https://pandas.pydata.org/pandas-docs/stable/user_guide/indexing.html#returning-a-view-versus-a-copy\n",
      "  chains['chain_name'] = chains['chain_name'].replace('DUNKIN', 'DUNKIN DONUTS')\n",
      "/tmp/ipykernel_57/1492575286.py:111: SettingWithCopyWarning: \n",
      "A value is trying to be set on a copy of a slice from a DataFrame.\n",
      "Try using .loc[row_indexer,col_indexer] = value instead\n",
      "\n",
      "See the caveats in the documentation: https://pandas.pydata.org/pandas-docs/stable/user_guide/indexing.html#returning-a-view-versus-a-copy\n",
      "  chains['chain_name'] = chains['chain_name'].replace('BELCAMPO MEAT CO', 'BELCAMPO MEAT COMAPNY')\n",
      "/tmp/ipykernel_57/1492575286.py:113: SettingWithCopyWarning: \n",
      "A value is trying to be set on a copy of a slice from a DataFrame.\n",
      "Try using .loc[row_indexer,col_indexer] = value instead\n",
      "\n",
      "See the caveats in the documentation: https://pandas.pydata.org/pandas-docs/stable/user_guide/indexing.html#returning-a-view-versus-a-copy\n",
      "  chains['chain_name'] = chains['chain_name'].replace('BLISS BAKERY', 'BLISS BAKERY INC')\n",
      "/tmp/ipykernel_57/1492575286.py:115: SettingWithCopyWarning: \n",
      "A value is trying to be set on a copy of a slice from a DataFrame.\n",
      "Try using .loc[row_indexer,col_indexer] = value instead\n",
      "\n",
      "See the caveats in the documentation: https://pandas.pydata.org/pandas-docs/stable/user_guide/indexing.html#returning-a-view-versus-a-copy\n",
      "  chains['chain_name'] = chains['chain_name'].replace('CHINA TOWN EXPRESS CO', 'CHINA TOWN EXPRESS')\n",
      "/tmp/ipykernel_57/1492575286.py:117: SettingWithCopyWarning: \n",
      "A value is trying to be set on a copy of a slice from a DataFrame.\n",
      "Try using .loc[row_indexer,col_indexer] = value instead\n",
      "\n",
      "See the caveats in the documentation: https://pandas.pydata.org/pandas-docs/stable/user_guide/indexing.html#returning-a-view-versus-a-copy\n",
      "  chains['chain_name'] = chains['chain_name'].replace('CHIPOTLE  MEXICAN GRILL', 'CHIPOTLE')\n",
      "/tmp/ipykernel_57/1492575286.py:119: SettingWithCopyWarning: \n",
      "A value is trying to be set on a copy of a slice from a DataFrame.\n",
      "Try using .loc[row_indexer,col_indexer] = value instead\n",
      "\n",
      "See the caveats in the documentation: https://pandas.pydata.org/pandas-docs/stable/user_guide/indexing.html#returning-a-view-versus-a-copy\n",
      "  chains['chain_name'] = chains['chain_name'].replace('CONCHITAS RESTAURANT', 'CONCHITAS')\n",
      "/tmp/ipykernel_57/1492575286.py:120: SettingWithCopyWarning: \n",
      "A value is trying to be set on a copy of a slice from a DataFrame.\n",
      "Try using .loc[row_indexer,col_indexer] = value instead\n",
      "\n",
      "See the caveats in the documentation: https://pandas.pydata.org/pandas-docs/stable/user_guide/indexing.html#returning-a-view-versus-a-copy\n",
      "  chains['chain_name'] = chains['chain_name'].replace('CONCHITAS RESTAURANTE Y PUPUSERIA', 'CONCHITAS')\n",
      "/tmp/ipykernel_57/1492575286.py:122: SettingWithCopyWarning: \n",
      "A value is trying to be set on a copy of a slice from a DataFrame.\n",
      "Try using .loc[row_indexer,col_indexer] = value instead\n",
      "\n",
      "See the caveats in the documentation: https://pandas.pydata.org/pandas-docs/stable/user_guide/indexing.html#returning-a-view-versus-a-copy\n",
      "  chains['chain_name'] = chains['chain_name'].replace('SKIRBALL BANQUET KITCHEN', 'SKIRBALL')\n",
      "/tmp/ipykernel_57/1492575286.py:123: SettingWithCopyWarning: \n",
      "A value is trying to be set on a copy of a slice from a DataFrame.\n",
      "Try using .loc[row_indexer,col_indexer] = value instead\n",
      "\n",
      "See the caveats in the documentation: https://pandas.pydata.org/pandas-docs/stable/user_guide/indexing.html#returning-a-view-versus-a-copy\n",
      "  chains['chain_name'] = chains['chain_name'].replace('SKIRBALL CENTER MAIN KITCHEN', 'SKIRBALL')\n",
      "/tmp/ipykernel_57/1492575286.py:124: SettingWithCopyWarning: \n",
      "A value is trying to be set on a copy of a slice from a DataFrame.\n",
      "Try using .loc[row_indexer,col_indexer] = value instead\n",
      "\n",
      "See the caveats in the documentation: https://pandas.pydata.org/pandas-docs/stable/user_guide/indexing.html#returning-a-view-versus-a-copy\n",
      "  chains['chain_name'] = chains['chain_name'].replace('SKIRBALL CENTER SUPPORT KITCHEN', 'SKIRBALL')\n",
      "/tmp/ipykernel_57/1492575286.py:126: SettingWithCopyWarning: \n",
      "A value is trying to be set on a copy of a slice from a DataFrame.\n",
      "Try using .loc[row_indexer,col_indexer] = value instead\n",
      "\n",
      "See the caveats in the documentation: https://pandas.pydata.org/pandas-docs/stable/user_guide/indexing.html#returning-a-view-versus-a-copy\n",
      "  chains['chain_name'] = chains['chain_name'].replace('INK SAK', 'INK SACK')\n"
     ]
    }
   ],
   "source": [
    "chains['chain_name'] = chains['rest_name'].astype(str).str.extract(r'([A-Za-z]+(?: [A-Za-z]+)*)')\n",
    "# Crear la cadena Subway\n",
    "chains['chain_name'] = chains['chain_name'].replace('SUBWAY SANDWICHES', 'SUBWAY')\n",
    "chains['chain_name'] = chains['chain_name'].replace('SUBWAY SANDWICH', 'SUBWAY')\n",
    "chains['chain_name'] = chains['chain_name'].replace('SUBWAY STORE', 'SUBWAY')\n",
    "chains['chain_name'] = chains['chain_name'].replace('SUBWAY SANDWICH SHOP', 'SUBWAY')\n",
    "chains['chain_name'] = chains['chain_name'].replace('SUBWAY SANDWICHES AND SALADS', 'SUBWAY')\n",
    "chains['chain_name'] = chains['chain_name'].replace('SUBWAY SANDWICHES SALADS', 'SUBWAY')\n",
    "chains['chain_name'] = chains['chain_name'].replace('SUBWAY SANWICHES', 'SUBWAY')\n",
    "# Crear la cadena Starbucks\n",
    "chains['chain_name'] = chains['chain_name'].replace('STARBUCKS COFFEE', 'STARBUCKS')\n",
    "chains['chain_name'] = chains['chain_name'].replace('STARBUCKS CAFE', 'STARBUCKS')\n",
    "chains['chain_name'] = chains['chain_name'].replace('STARBUCKS COFFEE CORPORATION', 'STARBUCKS')\n",
    "chains['chain_name'] = chains['chain_name'].replace('STARBUCKS STORE', 'STARBUCKS')\n",
    "chains['chain_name'] = chains['chain_name'].replace('STARBUCKS EVENING', 'STARBUCKS')\n",
    "# Crear la cadena McDonalds\n",
    "chains['chain_name'] = chains['chain_name'].replace('MCDONALD', 'MCDONALDS')\n",
    "chains['chain_name'] = chains['chain_name'].replace('MC DONALD', 'MCDONALDS')\n",
    "# Crear la cadena The Coffee Bean and Tea Leaf\n",
    "chains['chain_name'] = chains['chain_name'].replace('THE COFFEE BEAN', 'THE COFFEE BEAN AND TEA LEAF')\n",
    "chains['chain_name'] = chains['chain_name'].replace('COFFEE BEAN AND TEA LEAF', 'THE COFFEE BEAN AND TEA LEAF')\n",
    "chains['chain_name'] = chains['chain_name'].replace('COFFEE BEAN', 'THE COFFEE BEAN AND TEA LEAF')\n",
    "# Crear la cadena El Pollo Loco\n",
    "chains['chain_name'] = chains['chain_name'].replace('EL POLLO LOCO CSULA', 'EL POLLO LOCO')\n",
    "# Crear la cadena KFC / TACO BELL\n",
    "chains['chain_name'] = chains['chain_name'].replace('TACO BELL', 'KFC/TACO BELL')\n",
    "chains['chain_name'] = chains['chain_name'].replace('KFC TACO BELL E', 'KFC/TACO BELL')\n",
    "chains['chain_name'] = chains['chain_name'].replace('KFC', 'KFC/TACO BELL')\n",
    "chains['chain_name'] = chains['chain_name'].replace('KFC BROADWAY', 'KFC/TACO BELL')\n",
    "chains['chain_name'] = chains['chain_name'].replace('PIZZA HUT', 'KFC/TACO BELL')\n",
    "chains['chain_name'] = chains['chain_name'].replace('KENTUCKY FRIED CHICKEN', 'KFC/TACO BELL')\n",
    "chains['chain_name'] = chains['chain_name'].replace('KENTUCKY FRIED CHICKEN T', 'KFC/TACO BELL')\n",
    "# Crear la cadena DOMINOs\n",
    "chains['chain_name'] = chains['chain_name'].replace('DOMINO', 'DOMINOS PIZZA')\n",
    "# Crear la cadena YOSHINOYA\n",
    "chains['chain_name'] = chains['chain_name'].replace('YOSHINOYA BEEF BOWL', 'YOSHINOYA')\n",
    "# Crear la cadena PANDA EXPRESS\n",
    "chains['chain_name'] = chains['chain_name'].replace('ASHLAND BAR EARTH BAR', 'PANDA EXPRESS')\n",
    "chains['chain_name'] = chains['chain_name'].replace('PANDA EXPRESS INC', 'PANDA EXPRESS')\n",
    "chains['chain_name'] = chains['chain_name'].replace('EARTH BAR', 'PANDA EXPRESS')\n",
    "chains['chain_name'] = chains['chain_name'].replace('EARTH ORGANIC JUICE BAR', 'PANDA EXPRESS')\n",
    "# Crear la cadena JAMBA JUICE\n",
    "chains['chain_name'] = chains['chain_name'].replace('JAMBA JUICE COMPANY', 'JAMBA JUICE')\n",
    "# Crear la cadena BASKIN ROBBINS\n",
    "chains['chain_name'] = chains['chain_name'].replace('TOGO', 'BASKIN ROBBINS')\n",
    "# Crear la cadena LOUISIANA FRIED CHICKEN\n",
    "chains['chain_name'] = chains['chain_name'].replace('CHINA BOWL AND LOUISIANA FRIED CHICKEN', 'LOUISIANA FRIED CHICKEN')\n",
    "chains['chain_name'] = chains['chain_name'].replace('PERFECT DONUT LOUISIANA FRIED CHICKEN', 'LOUISIANA FRIED CHICKEN')\n",
    "# Crear la cadena TRIMANA\n",
    "chains['chain_name'] = chains['chain_name'].replace('TRIMANA EXPRESS', 'TRIMANA')\n",
    "chains['chain_name'] = chains['chain_name'].replace('TRIMANA COMMONWEALTH', 'TRIMANA')\n",
    "chains['chain_name'] = chains['chain_name'].replace('TRIMANA OF HOPE ST', 'TRIMANA')\n",
    "chains['chain_name'] = chains['chain_name'].replace('TRIMANA GRILL', 'TRIMANA')\n",
    "chains['chain_name'] = chains['chain_name'].replace('GOODIES TRIMANA', 'TRIMANA')\n",
    "chains['chain_name'] = chains['chain_name'].replace('TRIMANA OF', 'TRIMANA')\n",
    "chains['chain_name'] = chains['chain_name'].replace('TRIMANA CITY HALL EAST', 'TRIMANA')\n",
    "chains['chain_name'] = chains['chain_name'].replace('TRIMANA RESTAURANT', 'TRIMANA')\n",
    "chains['chain_name'] = chains['chain_name'].replace('TRIMANA AT WATERIDGE', 'TRIMANA')\n",
    "chains['chain_name'] = chains['chain_name'].replace('TRIMANA OF CALIFORNIAMART', 'TRIMANA')\n",
    "# Crear la cadena WABA GRILL\n",
    "chains['chain_name'] = chains['chain_name'].replace('WABA GRILL FIGUEROA', 'WABA GRILL')\n",
    "# Crear la cadena HONG KONG EXPRESS\n",
    "chains['chain_name'] = chains['chain_name'].replace('KING DONUTS', 'HONG KONG EXPRESS')\n",
    "chains['chain_name'] = chains['chain_name'].replace('NEW HONG KONG EXPRESS', 'HONG KONG EXPRESS')\n",
    "# Crear la cadena PAPA JOHNS\n",
    "chains['chain_name'] = chains['chain_name'].replace('PAPA JOHN', 'PAPA JOHNS PIZZA')\n",
    "# Crear la cadena WINGSTOP\n",
    "chains['chain_name'] = chains['chain_name'].replace('WINGSTOP REST', 'WINGSTOP')\n",
    "# Crear la cadena LITTLE CAESARS PIZZA\n",
    "chains['chain_name'] = chains['chain_name'].replace('LITTLE CAESARS', 'LITTLE CAESARS PIZZA')\n",
    "chains['chain_name'] = chains['chain_name'].replace('LITTLE CAESAR', 'LITTLE CAESARS PIZZA')\n",
    "# Crear la cadena YUM YUM DONUTS\n",
    "chains['chain_name'] = chains['chain_name'].replace('YUM YUM DONUTS FRANCHISE', 'YUM YUM DONUTS')\n",
    "chains['chain_name'] = chains['chain_name'].replace('YUM YUM CHINESE FOOD', 'YUM YUM DONUTS')\n",
    "# Crear la cadena YOGURTLAND\n",
    "chains['chain_name'] = chains['chain_name'].replace('YOGURTLAND WESTCHESTER', 'YOGURTLAND')\n",
    "chains['chain_name'] = chains['chain_name'].replace('YOGURTLAND LADERA HEIGHTS', 'YOGURTLAND')\n",
    "chains['chain_name'] = chains['chain_name'].replace('YOGURTLAND BALDWIN HILLS', 'YOGURTLAND')\n",
    "chains['chain_name'] = chains['chain_name'].replace('YOGURTLAND SUNSET', 'YOGURTLAND')\n",
    "chains['chain_name'] = chains['chain_name'].replace('YOGURTLAND BOYLE HEIGHTS', 'YOGURTLAND')\n",
    "chains['chain_name'] = chains['chain_name'].replace('YOGURTLAND CENTRAL', 'YOGURTLAND')\n",
    "chains['chain_name'] = chains['chain_name'].replace('YOGURTLAND LITTLE TOKYO', 'YOGURTLAND')\n",
    "chains['chain_name'] = chains['chain_name'].replace('YOGURTLAND USC GATEWAY', 'YOGURTLAND')\n",
    "# Crear la cadena FOOD 4 LESS\n",
    "chains['chain_name'] = chains['chain_name'].replace('FOOD', 'FOOD 4 LESS')\n",
    "# Crear la cadena PINKBERRY\n",
    "chains['chain_name'] = chains['chain_name'].replace('PINKBERRY DEPARTURE', 'PINKBERRY')\n",
    "chains['chain_name'] = chains['chain_name'].replace('PINKBERRY ARRIVAL', 'PINKBERRY')\n",
    "chains['chain_name'] = chains['chain_name'].replace('PINKBERRY LITTLE TOKYO', 'PINKBERRY')\n",
    "# Crear la cadena FATBURGERS\n",
    "chains['chain_name'] = chains['chain_name'].replace('FATBURGER', 'FATBURGERS')\n",
    "chains['chain_name'] = chains['chain_name'].replace('DOWNTOWN FATBURGER', 'FATBURGERS')\n",
    "chains['chain_name'] = chains['chain_name'].replace('CRENSHAW FATBURGER', 'FATBURGERS')\n",
    "# Crear la cadena POPEYES\n",
    "chains['chain_name'] = chains['chain_name'].replace('POPEYES CHICKEN', 'POPEYES')\n",
    "# Crear la cadena LAS CHAMPAS\n",
    "chains['chain_name'] = chains['chain_name'].replace('LAS CHAMPAS RESTAURANT', 'LAS CHAMPAS')\n",
    "chains['chain_name'] = chains['chain_name'].replace('LAS CHAMPAS USA FOOD SERVICE', 'LAS CHAMPAS')\n",
    "# Crear la cadena BOBA TIME\n",
    "chains['chain_name'] = chains['chain_name'].replace('BOBA TIME', 'ITS BOBA TIME')\n",
    "chains['chain_name'] = chains['chain_name'].replace('IT', 'ITS BOBA TIME')\n",
    "chains['chain_name'] = chains['chain_name'].replace('FRESH BOBA TIME', 'ITS BOBA TIME')\n",
    "# Crear la cadena WETZEL\n",
    "chains['chain_name'] = chains['chain_name'].replace('WETZEL', 'WETZELS PRETZEL')\n",
    "chains['chain_name'] = chains['chain_name'].replace('WETZELS PRETZELS', 'WETZELS PRETZEL')\n",
    "# Crear la cadena PARIS BAGUETTE\n",
    "chains['chain_name'] = chains['chain_name'].replace('PARIS BAGUETTE', 'PARIS BAGUETTE CAFE')\n",
    "# Crear la cadena DUNKIN DONUTS\n",
    "chains['chain_name'] = chains['chain_name'].replace('DUNKIN', 'DUNKIN DONUTS')\n",
    "# Crear la cadena BELCAMPO MEAT COMAPNY\n",
    "chains['chain_name'] = chains['chain_name'].replace('BELCAMPO MEAT CO', 'BELCAMPO MEAT COMAPNY')\n",
    "# Crear la cadena BLISS BAKERY INC\n",
    "chains['chain_name'] = chains['chain_name'].replace('BLISS BAKERY', 'BLISS BAKERY INC')\n",
    "# Crear la cadena CHINA TOWN EXPRESS CO\n",
    "chains['chain_name'] = chains['chain_name'].replace('CHINA TOWN EXPRESS CO', 'CHINA TOWN EXPRESS')\n",
    "# Crear la cadena CHIPOTLE\n",
    "chains['chain_name'] = chains['chain_name'].replace('CHIPOTLE  MEXICAN GRILL', 'CHIPOTLE')\n",
    "# Crear la cadena CONCHITAS\n",
    "chains['chain_name'] = chains['chain_name'].replace('CONCHITAS RESTAURANT', 'CONCHITAS')\n",
    "chains['chain_name'] = chains['chain_name'].replace('CONCHITAS RESTAURANTE Y PUPUSERIA', 'CONCHITAS')\n",
    "# Crear la cadena SKIRBALL\n",
    "chains['chain_name'] = chains['chain_name'].replace('SKIRBALL BANQUET KITCHEN', 'SKIRBALL')\n",
    "chains['chain_name'] = chains['chain_name'].replace('SKIRBALL CENTER MAIN KITCHEN', 'SKIRBALL')\n",
    "chains['chain_name'] = chains['chain_name'].replace('SKIRBALL CENTER SUPPORT KITCHEN', 'SKIRBALL')\n",
    "# Crear la cadena INK SACK\n",
    "chains['chain_name'] = chains['chain_name'].replace('INK SAK', 'INK SACK')\n",
    "\n"
   ]
  },
  {
   "cell_type": "code",
   "execution_count": 797,
   "metadata": {},
   "outputs": [
    {
     "data": {
      "text/html": [
       "<div>\n",
       "<style scoped>\n",
       "    .dataframe tbody tr th:only-of-type {\n",
       "        vertical-align: middle;\n",
       "    }\n",
       "\n",
       "    .dataframe tbody tr th {\n",
       "        vertical-align: top;\n",
       "    }\n",
       "\n",
       "    .dataframe thead th {\n",
       "        text-align: right;\n",
       "    }\n",
       "</style>\n",
       "<table border=\"1\" class=\"dataframe\">\n",
       "  <thead>\n",
       "    <tr style=\"text-align: right;\">\n",
       "      <th></th>\n",
       "      <th>rest_id</th>\n",
       "      <th>rest_name</th>\n",
       "      <th>rest_address</th>\n",
       "      <th>chain</th>\n",
       "      <th>rest_type</th>\n",
       "      <th>n_chairs</th>\n",
       "      <th>chain_name</th>\n",
       "    </tr>\n",
       "  </thead>\n",
       "  <tbody>\n",
       "    <tr>\n",
       "      <th>8</th>\n",
       "      <td>11794</td>\n",
       "      <td>ABC DONUTS</td>\n",
       "      <td>3027 N SAN FERNANDO RD UNIT 103</td>\n",
       "      <td>True</td>\n",
       "      <td>Fast Food</td>\n",
       "      <td>1.0</td>\n",
       "      <td>ABC DONUTS</td>\n",
       "    </tr>\n",
       "    <tr>\n",
       "      <th>10</th>\n",
       "      <td>11796</td>\n",
       "      <td>EL POLLO LOCO</td>\n",
       "      <td>5319 W SUNSET BLVD</td>\n",
       "      <td>True</td>\n",
       "      <td>Restaurant</td>\n",
       "      <td>38.0</td>\n",
       "      <td>EL POLLO LOCO</td>\n",
       "    </tr>\n",
       "    <tr>\n",
       "      <th>11</th>\n",
       "      <td>11797</td>\n",
       "      <td>POONG NYUN BAKERY</td>\n",
       "      <td>928 S WESTERN AVE STE 109</td>\n",
       "      <td>True</td>\n",
       "      <td>Bakery</td>\n",
       "      <td>17.0</td>\n",
       "      <td>POONG NYUN BAKERY</td>\n",
       "    </tr>\n",
       "    <tr>\n",
       "      <th>12</th>\n",
       "      <td>11798</td>\n",
       "      <td>EMC RESTAURANT GROUP LLC</td>\n",
       "      <td>3500 W 6TH ST STE 101</td>\n",
       "      <td>True</td>\n",
       "      <td>Restaurant</td>\n",
       "      <td>133.0</td>\n",
       "      <td>EMC RESTAURANT GROUP LLC</td>\n",
       "    </tr>\n",
       "    <tr>\n",
       "      <th>14</th>\n",
       "      <td>11800</td>\n",
       "      <td>CUSCATLECA BAKERY</td>\n",
       "      <td>2501 W SUNSET BLVD #A</td>\n",
       "      <td>True</td>\n",
       "      <td>Bakery</td>\n",
       "      <td>26.0</td>\n",
       "      <td>CUSCATLECA BAKERY</td>\n",
       "    </tr>\n",
       "  </tbody>\n",
       "</table>\n",
       "</div>"
      ],
      "text/plain": [
       "    rest_id                 rest_name                     rest_address chain  \\\n",
       "8     11794                ABC DONUTS  3027 N SAN FERNANDO RD UNIT 103  True   \n",
       "10    11796             EL POLLO LOCO               5319 W SUNSET BLVD  True   \n",
       "11    11797         POONG NYUN BAKERY        928 S WESTERN AVE STE 109  True   \n",
       "12    11798  EMC RESTAURANT GROUP LLC            3500 W 6TH ST STE 101  True   \n",
       "14    11800         CUSCATLECA BAKERY            2501 W SUNSET BLVD #A  True   \n",
       "\n",
       "     rest_type  n_chairs                chain_name  \n",
       "8    Fast Food       1.0                ABC DONUTS  \n",
       "10  Restaurant      38.0             EL POLLO LOCO  \n",
       "11      Bakery      17.0         POONG NYUN BAKERY  \n",
       "12  Restaurant     133.0  EMC RESTAURANT GROUP LLC  \n",
       "14      Bakery      26.0         CUSCATLECA BAKERY  "
      ]
     },
     "execution_count": 797,
     "metadata": {},
     "output_type": "execute_result"
    }
   ],
   "source": [
    "chains.head(5)"
   ]
  },
  {
   "cell_type": "markdown",
   "metadata": {},
   "source": [
    "Vamos a hacer una tabla agrupando las cadenas, contaremos el número de restoranes por cadena y obtendremos el promedio de sillas por cadena."
   ]
  },
  {
   "cell_type": "code",
   "execution_count": 798,
   "metadata": {
    "scrolled": true
   },
   "outputs": [
    {
     "data": {
      "text/html": [
       "<div>\n",
       "<style scoped>\n",
       "    .dataframe tbody tr th:only-of-type {\n",
       "        vertical-align: middle;\n",
       "    }\n",
       "\n",
       "    .dataframe tbody tr th {\n",
       "        vertical-align: top;\n",
       "    }\n",
       "\n",
       "    .dataframe thead th {\n",
       "        text-align: right;\n",
       "    }\n",
       "</style>\n",
       "<table border=\"1\" class=\"dataframe\">\n",
       "  <thead>\n",
       "    <tr style=\"text-align: right;\">\n",
       "      <th></th>\n",
       "      <th>n_chairs</th>\n",
       "      <th>n_rest</th>\n",
       "    </tr>\n",
       "    <tr>\n",
       "      <th>chain_name</th>\n",
       "      <th></th>\n",
       "      <th></th>\n",
       "    </tr>\n",
       "  </thead>\n",
       "  <tbody>\n",
       "    <tr>\n",
       "      <th>SUBWAY</th>\n",
       "      <td>17.466216</td>\n",
       "      <td>148</td>\n",
       "    </tr>\n",
       "    <tr>\n",
       "      <th>STARBUCKS</th>\n",
       "      <td>27.234375</td>\n",
       "      <td>128</td>\n",
       "    </tr>\n",
       "    <tr>\n",
       "      <th>KFC/TACO BELL</th>\n",
       "      <td>33.333333</td>\n",
       "      <td>90</td>\n",
       "    </tr>\n",
       "    <tr>\n",
       "      <th>MCDONALDS</th>\n",
       "      <td>91.666667</td>\n",
       "      <td>81</td>\n",
       "    </tr>\n",
       "    <tr>\n",
       "      <th>THE COFFEE BEAN AND TEA LEAF</th>\n",
       "      <td>24.241379</td>\n",
       "      <td>58</td>\n",
       "    </tr>\n",
       "    <tr>\n",
       "      <th>...</th>\n",
       "      <td>...</td>\n",
       "      <td>...</td>\n",
       "    </tr>\n",
       "    <tr>\n",
       "      <th>INKO NITO</th>\n",
       "      <td>122.000000</td>\n",
       "      <td>1</td>\n",
       "    </tr>\n",
       "    <tr>\n",
       "      <th>INDUSTRIAL RESTAURANT</th>\n",
       "      <td>65.000000</td>\n",
       "      <td>1</td>\n",
       "    </tr>\n",
       "    <tr>\n",
       "      <th>INDUS BY SAFFRON</th>\n",
       "      <td>21.000000</td>\n",
       "      <td>1</td>\n",
       "    </tr>\n",
       "    <tr>\n",
       "      <th>INDIA VEGAN</th>\n",
       "      <td>119.000000</td>\n",
       "      <td>1</td>\n",
       "    </tr>\n",
       "    <tr>\n",
       "      <th>ZIP SUSHI</th>\n",
       "      <td>98.000000</td>\n",
       "      <td>1</td>\n",
       "    </tr>\n",
       "  </tbody>\n",
       "</table>\n",
       "<p>1801 rows × 2 columns</p>\n",
       "</div>"
      ],
      "text/plain": [
       "                                n_chairs  n_rest\n",
       "chain_name                                      \n",
       "SUBWAY                         17.466216     148\n",
       "STARBUCKS                      27.234375     128\n",
       "KFC/TACO BELL                  33.333333      90\n",
       "MCDONALDS                      91.666667      81\n",
       "THE COFFEE BEAN AND TEA LEAF   24.241379      58\n",
       "...                                  ...     ...\n",
       "INKO NITO                     122.000000       1\n",
       "INDUSTRIAL RESTAURANT          65.000000       1\n",
       "INDUS BY SAFFRON               21.000000       1\n",
       "INDIA VEGAN                   119.000000       1\n",
       "ZIP SUSHI                      98.000000       1\n",
       "\n",
       "[1801 rows x 2 columns]"
      ]
     },
     "execution_count": 798,
     "metadata": {},
     "output_type": "execute_result"
    }
   ],
   "source": [
    "chains_pivot = pd.pivot_table(chains, index='chain_name', values=['rest_id','n_chairs'], aggfunc={'rest_id':'count', 'n_chairs':'mean'})\n",
    "chains_pivot.columns = ['n_chairs', 'n_rest']\n",
    "chains_pivot.sort_values(by='n_rest', ascending=False)"
   ]
  },
  {
   "cell_type": "markdown",
   "metadata": {},
   "source": [
    "Como podemos notar en nuestra tabla hay muchas cadenas que tiene solo un restaurante en el area. Vamos a analizar la distribución de esta tabla:"
   ]
  },
  {
   "cell_type": "code",
   "execution_count": 799,
   "metadata": {},
   "outputs": [
    {
     "data": {
      "text/html": [
       "<div>\n",
       "<style scoped>\n",
       "    .dataframe tbody tr th:only-of-type {\n",
       "        vertical-align: middle;\n",
       "    }\n",
       "\n",
       "    .dataframe tbody tr th {\n",
       "        vertical-align: top;\n",
       "    }\n",
       "\n",
       "    .dataframe thead th {\n",
       "        text-align: right;\n",
       "    }\n",
       "</style>\n",
       "<table border=\"1\" class=\"dataframe\">\n",
       "  <thead>\n",
       "    <tr style=\"text-align: right;\">\n",
       "      <th></th>\n",
       "      <th>n_chairs</th>\n",
       "      <th>n_rest</th>\n",
       "    </tr>\n",
       "  </thead>\n",
       "  <tbody>\n",
       "    <tr>\n",
       "      <th>count</th>\n",
       "      <td>1800.000000</td>\n",
       "      <td>1801.000000</td>\n",
       "    </tr>\n",
       "    <tr>\n",
       "      <th>mean</th>\n",
       "      <td>40.654208</td>\n",
       "      <td>1.976124</td>\n",
       "    </tr>\n",
       "    <tr>\n",
       "      <th>std</th>\n",
       "      <td>44.358246</td>\n",
       "      <td>6.134057</td>\n",
       "    </tr>\n",
       "    <tr>\n",
       "      <th>min</th>\n",
       "      <td>1.000000</td>\n",
       "      <td>1.000000</td>\n",
       "    </tr>\n",
       "    <tr>\n",
       "      <th>25%</th>\n",
       "      <td>14.250000</td>\n",
       "      <td>1.000000</td>\n",
       "    </tr>\n",
       "    <tr>\n",
       "      <th>50%</th>\n",
       "      <td>24.416667</td>\n",
       "      <td>1.000000</td>\n",
       "    </tr>\n",
       "    <tr>\n",
       "      <th>75%</th>\n",
       "      <td>44.000000</td>\n",
       "      <td>2.000000</td>\n",
       "    </tr>\n",
       "    <tr>\n",
       "      <th>max</th>\n",
       "      <td>229.000000</td>\n",
       "      <td>148.000000</td>\n",
       "    </tr>\n",
       "  </tbody>\n",
       "</table>\n",
       "</div>"
      ],
      "text/plain": [
       "          n_chairs       n_rest\n",
       "count  1800.000000  1801.000000\n",
       "mean     40.654208     1.976124\n",
       "std      44.358246     6.134057\n",
       "min       1.000000     1.000000\n",
       "25%      14.250000     1.000000\n",
       "50%      24.416667     1.000000\n",
       "75%      44.000000     2.000000\n",
       "max     229.000000   148.000000"
      ]
     },
     "execution_count": 799,
     "metadata": {},
     "output_type": "execute_result"
    }
   ],
   "source": [
    "chains_pivot.describe()"
   ]
  },
  {
   "cell_type": "markdown",
   "metadata": {},
   "source": [
    "El 50% de las cadenas tiene solo un restaurante, un 25% de ellas tiene solo 2 restaurantes y el resto tiene más. Vamos a gráficar este descubrimiento. "
   ]
  },
  {
   "cell_type": "code",
   "execution_count": 800,
   "metadata": {},
   "outputs": [
    {
     "data": {
      "image/png": "[encoded data removed]",
      "text/plain": [
       "<Figure size 864x432 with 1 Axes>"
      ]
     },
     "metadata": {
      "needs_background": "light"
     },
     "output_type": "display_data"
    }
   ],
   "source": [
    "chains_pivot.plot(x='n_rest', y='n_chairs', kind='scatter', alpha=0.3, color=\"blue\", figsize=(12,6))\n",
    "plt.xlabel(\"Número de restaurantes en la cadena\")\n",
    "plt.ylabel(\"Número de sillas promedio\")\n",
    "plt.title(\"Distribución de sillas por cadenas\")\n",
    "plt.show()"
   ]
  },
  {
   "cell_type": "markdown",
   "metadata": {},
   "source": [
    "Como se puede apreciar son casos muy excepcionales los que superan los 5 restaurantes. Sin embargo, podemos ver que las cadenas con más de 5 restaurantes en general no superan las 50 sillas. Hagamos zoom a nuestro gráfico:"
   ]
  },
  {
   "cell_type": "code",
   "execution_count": 801,
   "metadata": {},
   "outputs": [
    {
     "data": {
      "image/png": "[encoded data removed]",
      "text/plain": [
       "<Figure size 864x432 with 1 Axes>"
      ]
     },
     "metadata": {
      "needs_background": "light"
     },
     "output_type": "display_data"
    }
   ],
   "source": [
    "chains_pivot.plot(x='n_rest', y='n_chairs', kind='scatter', alpha=0.3, color=\"blue\",xlim=(0, 6), figsize=(12,6))\n",
    "plt.xlabel(\"Número de restaurantes en la cadena\")\n",
    "plt.ylabel(\"Número de sillas promedio\")\n",
    "plt.title(\"Distribución de sillas por cadenas\")\n",
    "plt.show()"
   ]
  },
  {
   "cell_type": "markdown",
   "metadata": {},
   "source": [
    "La mayoría de las cadenas tiene entre 1 y 3 restaurantes y en general a mayor número de restaurantes, menor número de sillas."
   ]
  },
  {
   "cell_type": "markdown",
   "metadata": {},
   "source": [
    "Vamos a mostrar está distribución observando las cadenas que no superan los 15 restauranes:"
   ]
  },
  {
   "cell_type": "code",
   "execution_count": 802,
   "metadata": {},
   "outputs": [],
   "source": [
    "chains_pivot_1_to_15 = chains_pivot.query('n_rest <= 15')"
   ]
  },
  {
   "cell_type": "code",
   "execution_count": 803,
   "metadata": {},
   "outputs": [
    {
     "data": {
      "image/png": "[encoded data removed]",
      "text/plain": [
       "<Figure size 720x720 with 3 Axes>"
      ]
     },
     "metadata": {
      "needs_background": "light"
     },
     "output_type": "display_data"
    }
   ],
   "source": [
    "ax = sns.jointplot(x='n_rest', y='n_chairs', data=chains_pivot_1_to_15, kind='reg', height= 10, color='blue')\n",
    "ax.fig.suptitle(\"Distribución de sillas por cadenas pequeñas y medianas\")\n",
    "ax.ax_joint.set_xlabel('Número de restaurantes en la cadena')\n",
    "ax.ax_joint.set_ylabel('Número de sillas promedio')\n",
    "plt.show()"
   ]
  },
  {
   "cell_type": "code",
   "execution_count": 804,
   "metadata": {},
   "outputs": [],
   "source": [
    "chains_pivot_15_plus = chains_pivot.query('n_rest >= 15')"
   ]
  },
  {
   "cell_type": "code",
   "execution_count": 805,
   "metadata": {},
   "outputs": [
    {
     "data": {
      "image/png": "[encoded data removed]",
      "text/plain": [
       "<Figure size 576x576 with 3 Axes>"
      ]
     },
     "metadata": {
      "needs_background": "light"
     },
     "output_type": "display_data"
    }
   ],
   "source": [
    "ax = sns.jointplot(x='n_rest', y='n_chairs', data=chains_pivot_15_plus, kind='reg', height= 8, color='blue')\n",
    "ax.fig.suptitle(\"Distribución de sillas por cadenas grandes\")\n",
    "ax.ax_joint.set_xlabel('Número de restaurantes en la cadena')\n",
    "ax.ax_joint.set_ylabel('Número de sillas promedio')\n",
    "plt.show()"
   ]
  },
  {
   "cell_type": "markdown",
   "metadata": {},
   "source": [
    "En conclusión podemos encontrar que las cadenas en general se caracterizan por tener pocos establecimientos, la gran mayoría no tiene más de 3 en el área. Además lo más normal es no tener más de 50 sillas por establecimiento. En las cadenas pequeñas de 1 a 3 locales en el área, notamos que por lo general no superan las 150 sillas. Por otro lado las cadenas con más de 20 locales tienden a tener menos de 40 sillas en promedio. \n",
    "\n",
    "Podemos concluir como regla general, que a mayor número de locales, menor número de sillas. "
   ]
  },
  {
   "cell_type": "markdown",
   "metadata": {},
   "source": [
    "### De promedio, ¿qué tipo de restaurante tiene el mayor número de asientos? <a id='more_seats'></a>"
   ]
  },
  {
   "cell_type": "markdown",
   "metadata": {},
   "source": [
    "Si vemos la distribución del número de sillas por tipo de restaurante ya podemos notar ciertas tendencias:"
   ]
  },
  {
   "cell_type": "code",
   "execution_count": 806,
   "metadata": {},
   "outputs": [
    {
     "data": {
      "image/png": "[encoded data removed]",
      "text/plain": [
       "<Figure size 864x432 with 1 Axes>"
      ]
     },
     "metadata": {
      "needs_background": "light"
     },
     "output_type": "display_data"
    }
   ],
   "source": [
    "plt.figure(figsize=(12,6))\n",
    "sns.stripplot(x='rest_type', y='n_chairs' , data=rest_data)\n",
    "plt.xlabel(\"Tipo de restaurante\")\n",
    "plt.ylabel(\"Número de sillas\")\n",
    "plt.rcParams['axes.facecolor'] = '#d6d6d6'\n",
    "plt.title(\"Distribución del número de sillas por tipo de restaurante\")\n",
    "plt.show()"
   ]
  },
  {
   "cell_type": "markdown",
   "metadata": {},
   "source": [
    "Por ejemplo, los bares y panaderías tienden a tener menos sillas que los restaurantes. Pero veamos los promedios para tener una mejor idea:"
   ]
  },
  {
   "cell_type": "code",
   "execution_count": 826,
   "metadata": {},
   "outputs": [
    {
     "data": {
      "text/html": [
       "<div>\n",
       "<style scoped>\n",
       "    .dataframe tbody tr th:only-of-type {\n",
       "        vertical-align: middle;\n",
       "    }\n",
       "\n",
       "    .dataframe tbody tr th {\n",
       "        vertical-align: top;\n",
       "    }\n",
       "\n",
       "    .dataframe thead th {\n",
       "        text-align: right;\n",
       "    }\n",
       "</style>\n",
       "<table border=\"1\" class=\"dataframe\">\n",
       "  <thead>\n",
       "    <tr style=\"text-align: right;\">\n",
       "      <th></th>\n",
       "      <th>rest_type</th>\n",
       "      <th>n_chairs</th>\n",
       "    </tr>\n",
       "  </thead>\n",
       "  <tbody>\n",
       "    <tr>\n",
       "      <th>5</th>\n",
       "      <td>Restaurant</td>\n",
       "      <td>48.114516</td>\n",
       "    </tr>\n",
       "    <tr>\n",
       "      <th>1</th>\n",
       "      <td>Bar</td>\n",
       "      <td>44.786942</td>\n",
       "    </tr>\n",
       "    <tr>\n",
       "      <th>3</th>\n",
       "      <td>Fast Food</td>\n",
       "      <td>31.777242</td>\n",
       "    </tr>\n",
       "    <tr>\n",
       "      <th>4</th>\n",
       "      <td>Pizza</td>\n",
       "      <td>27.951299</td>\n",
       "    </tr>\n",
       "    <tr>\n",
       "      <th>2</th>\n",
       "      <td>Cafe</td>\n",
       "      <td>25.002375</td>\n",
       "    </tr>\n",
       "    <tr>\n",
       "      <th>0</th>\n",
       "      <td>Bakery</td>\n",
       "      <td>21.839858</td>\n",
       "    </tr>\n",
       "  </tbody>\n",
       "</table>\n",
       "</div>"
      ],
      "text/plain": [
       "    rest_type   n_chairs\n",
       "5  Restaurant  48.114516\n",
       "1         Bar  44.786942\n",
       "3   Fast Food  31.777242\n",
       "4       Pizza  27.951299\n",
       "2        Cafe  25.002375\n",
       "0      Bakery  21.839858"
      ]
     },
     "execution_count": 826,
     "metadata": {},
     "output_type": "execute_result"
    }
   ],
   "source": [
    "rest_type_chairs = rest_data.groupby('rest_type').agg({'n_chairs':'mean'}).reset_index()\n",
    "rest_type_chairs.sort_values(by='n_chairs', ascending=False)"
   ]
  },
  {
   "cell_type": "code",
   "execution_count": 844,
   "metadata": {},
   "outputs": [
    {
     "data": {
      "text/plain": [
       "199.0"
      ]
     },
     "execution_count": 844,
     "metadata": {},
     "output_type": "execute_result"
    }
   ],
   "source": [
    "rest_type_chairs['n_chairs'].sum().round()"
   ]
  },
  {
   "cell_type": "code",
   "execution_count": 848,
   "metadata": {},
   "outputs": [
    {
     "data": {
      "image/png": "[encoded data removed]",
      "text/plain": [
       "<Figure size 1152x720 with 1 Axes>"
      ]
     },
     "metadata": {},
     "output_type": "display_data"
    }
   ],
   "source": [
    "palette = sns.color_palette(\"RdBu\", 6)\n",
    "data = rest_type_chairs['n_chairs']\n",
    "labels = rest_type_chairs['rest_type']\n",
    "plt.figure(figsize=(16,10))\n",
    "plt.title(\"Número de sillas promedio por tipo de restaurante\")\n",
    "plt.pie(data, labels = labels, colors = palette, autopct= lambda p:f'{p:.0f}%, {p*199/100 :.0f} chairs')\n",
    "plt.show()"
   ]
  },
  {
   "cell_type": "markdown",
   "metadata": {},
   "source": [
    "Como se puede apreciar, en promedio los restuarantes tiene del orden de 24 sillas, mientras que los bares 22, en el otro extremo las panaderías tienen del orden de 11 sillas y los café en general 13."
   ]
  },
  {
   "cell_type": "markdown",
   "metadata": {},
   "source": [
    "### Restaurantes por calle <a id='rest_streets'></a>"
   ]
  },
  {
   "cell_type": "markdown",
   "metadata": {},
   "source": [
    "Lo primero que haremos es crear una nueva columna que contenga solo los nombres de las calles:"
   ]
  },
  {
   "cell_type": "code",
   "execution_count": 809,
   "metadata": {},
   "outputs": [
    {
     "data": {
      "text/html": [
       "<div>\n",
       "<style scoped>\n",
       "    .dataframe tbody tr th:only-of-type {\n",
       "        vertical-align: middle;\n",
       "    }\n",
       "\n",
       "    .dataframe tbody tr th {\n",
       "        vertical-align: top;\n",
       "    }\n",
       "\n",
       "    .dataframe thead th {\n",
       "        text-align: right;\n",
       "    }\n",
       "</style>\n",
       "<table border=\"1\" class=\"dataframe\">\n",
       "  <thead>\n",
       "    <tr style=\"text-align: right;\">\n",
       "      <th></th>\n",
       "      <th>rest_id</th>\n",
       "      <th>rest_name</th>\n",
       "      <th>rest_address</th>\n",
       "      <th>chain</th>\n",
       "      <th>rest_type</th>\n",
       "      <th>n_chairs</th>\n",
       "      <th>new_rest_address</th>\n",
       "    </tr>\n",
       "  </thead>\n",
       "  <tbody>\n",
       "    <tr>\n",
       "      <th>0</th>\n",
       "      <td>11786</td>\n",
       "      <td>HABITAT COFFEE SHOP</td>\n",
       "      <td>3708 N EAGLE ROCK BLVD</td>\n",
       "      <td>False</td>\n",
       "      <td>Cafe</td>\n",
       "      <td>26.0</td>\n",
       "      <td>eagle rock blvd</td>\n",
       "    </tr>\n",
       "    <tr>\n",
       "      <th>1</th>\n",
       "      <td>11787</td>\n",
       "      <td>REILLY'S</td>\n",
       "      <td>100 WORLD WAY # 120</td>\n",
       "      <td>False</td>\n",
       "      <td>Restaurant</td>\n",
       "      <td>9.0</td>\n",
       "      <td>world way</td>\n",
       "    </tr>\n",
       "    <tr>\n",
       "      <th>2</th>\n",
       "      <td>11788</td>\n",
       "      <td>STREET CHURROS</td>\n",
       "      <td>6801 HOLLYWOOD BLVD # 253</td>\n",
       "      <td>False</td>\n",
       "      <td>Fast Food</td>\n",
       "      <td>20.0</td>\n",
       "      <td>hollywood blvd</td>\n",
       "    </tr>\n",
       "    <tr>\n",
       "      <th>3</th>\n",
       "      <td>11789</td>\n",
       "      <td>TRINITI ECHO PARK</td>\n",
       "      <td>1814 W SUNSET BLVD</td>\n",
       "      <td>False</td>\n",
       "      <td>Restaurant</td>\n",
       "      <td>22.0</td>\n",
       "      <td>sunset blvd</td>\n",
       "    </tr>\n",
       "    <tr>\n",
       "      <th>4</th>\n",
       "      <td>11790</td>\n",
       "      <td>POLLEN</td>\n",
       "      <td>2100 ECHO PARK AVE</td>\n",
       "      <td>False</td>\n",
       "      <td>Restaurant</td>\n",
       "      <td>20.0</td>\n",
       "      <td>echo park ave</td>\n",
       "    </tr>\n",
       "  </tbody>\n",
       "</table>\n",
       "</div>"
      ],
      "text/plain": [
       "   rest_id            rest_name               rest_address  chain   rest_type  \\\n",
       "0    11786  HABITAT COFFEE SHOP     3708 N EAGLE ROCK BLVD  False        Cafe   \n",
       "1    11787             REILLY'S        100 WORLD WAY # 120  False  Restaurant   \n",
       "2    11788       STREET CHURROS  6801 HOLLYWOOD BLVD # 253  False   Fast Food   \n",
       "3    11789    TRINITI ECHO PARK         1814 W SUNSET BLVD  False  Restaurant   \n",
       "4    11790               POLLEN         2100 ECHO PARK AVE  False  Restaurant   \n",
       "\n",
       "   n_chairs  new_rest_address  \n",
       "0      26.0   eagle rock blvd  \n",
       "1       9.0        world way   \n",
       "2      20.0   hollywood blvd   \n",
       "3      22.0       sunset blvd  \n",
       "4      20.0     echo park ave  "
      ]
     },
     "execution_count": 809,
     "metadata": {},
     "output_type": "execute_result"
    }
   ],
   "source": [
    "rest_data['new_rest_address'] = rest_data['rest_address'].replace('#', '')\n",
    "rest_data['new_rest_address'] = rest_data['rest_address'].str.extract(r'([A-z ]+)')\n",
    "rest_data['new_rest_address'] = rest_data['new_rest_address'].str.lower()\n",
    "rest_data['new_rest_address'] = rest_data['new_rest_address'].str.replace(' n ', '')\n",
    "rest_data['new_rest_address'] = rest_data['new_rest_address'].str.replace(' s ', '')\n",
    "rest_data['new_rest_address'] = rest_data['new_rest_address'].str.replace(' e ', '')\n",
    "rest_data['new_rest_address'] = rest_data['new_rest_address'].str.replace(' w ', '')\n",
    "rest_data['new_rest_address'] = rest_data['new_rest_address'].replace(r'^\\s*$', np.nan, regex=True)\n",
    "rest_data['new_rest_address_2'] = rest_data['rest_address'].str.extract(r'(\\dST ST|\\dRD ST|\\dTH ST)')\n",
    "rest_data = rest_data.assign(**{\n",
    "    'new_rest_address': rest_data['new_rest_address'].fillna(rest_data['new_rest_address_2'])})\n",
    "rest_data = rest_data.drop('new_rest_address_2', axis=1)\n",
    "rest_data.head(5)"
   ]
  },
  {
   "cell_type": "markdown",
   "metadata": {},
   "source": [
    "Ahora podemos hacer una tabla agrupando los restaurantes por calles:"
   ]
  },
  {
   "cell_type": "code",
   "execution_count": 810,
   "metadata": {},
   "outputs": [
    {
     "data": {
      "text/html": [
       "<div>\n",
       "<style scoped>\n",
       "    .dataframe tbody tr th:only-of-type {\n",
       "        vertical-align: middle;\n",
       "    }\n",
       "\n",
       "    .dataframe tbody tr th {\n",
       "        vertical-align: top;\n",
       "    }\n",
       "\n",
       "    .dataframe thead th {\n",
       "        text-align: right;\n",
       "    }\n",
       "</style>\n",
       "<table border=\"1\" class=\"dataframe\">\n",
       "  <thead>\n",
       "    <tr style=\"text-align: right;\">\n",
       "      <th></th>\n",
       "      <th>rest_address</th>\n",
       "      <th>n_rest</th>\n",
       "      <th>ave_chairs</th>\n",
       "    </tr>\n",
       "  </thead>\n",
       "  <tbody>\n",
       "    <tr>\n",
       "      <th>1049</th>\n",
       "      <td>sunset blvd</td>\n",
       "      <td>292</td>\n",
       "      <td>51.619863</td>\n",
       "    </tr>\n",
       "    <tr>\n",
       "      <th>970</th>\n",
       "      <td>pico blvd</td>\n",
       "      <td>289</td>\n",
       "      <td>40.536332</td>\n",
       "    </tr>\n",
       "    <tr>\n",
       "      <th>563</th>\n",
       "      <td>3RD ST</td>\n",
       "      <td>266</td>\n",
       "      <td>40.484962</td>\n",
       "    </tr>\n",
       "    <tr>\n",
       "      <th>566</th>\n",
       "      <td>6TH ST</td>\n",
       "      <td>231</td>\n",
       "      <td>40.626087</td>\n",
       "    </tr>\n",
       "    <tr>\n",
       "      <th>724</th>\n",
       "      <td>figueroa st</td>\n",
       "      <td>209</td>\n",
       "      <td>45.502392</td>\n",
       "    </tr>\n",
       "    <tr>\n",
       "      <th>...</th>\n",
       "      <td>...</td>\n",
       "      <td>...</td>\n",
       "      <td>...</td>\n",
       "    </tr>\n",
       "    <tr>\n",
       "      <th>474</th>\n",
       "      <td>vermont ave</td>\n",
       "      <td>1</td>\n",
       "      <td>16.000000</td>\n",
       "    </tr>\n",
       "    <tr>\n",
       "      <th>475</th>\n",
       "      <td>vermont ave n</td>\n",
       "      <td>1</td>\n",
       "      <td>2.000000</td>\n",
       "    </tr>\n",
       "    <tr>\n",
       "      <th>477</th>\n",
       "      <td>victoria ave</td>\n",
       "      <td>1</td>\n",
       "      <td>6.000000</td>\n",
       "    </tr>\n",
       "    <tr>\n",
       "      <th>479</th>\n",
       "      <td>vine</td>\n",
       "      <td>1</td>\n",
       "      <td>46.000000</td>\n",
       "    </tr>\n",
       "    <tr>\n",
       "      <th>1149</th>\n",
       "      <td>york blvd</td>\n",
       "      <td>1</td>\n",
       "      <td>39.000000</td>\n",
       "    </tr>\n",
       "  </tbody>\n",
       "</table>\n",
       "<p>1150 rows × 3 columns</p>\n",
       "</div>"
      ],
      "text/plain": [
       "        rest_address  n_rest  ave_chairs\n",
       "1049     sunset blvd     292   51.619863\n",
       "970        pico blvd     289   40.536332\n",
       "563           3RD ST     266   40.484962\n",
       "566           6TH ST     231   40.626087\n",
       "724      figueroa st     209   45.502392\n",
       "...              ...     ...         ...\n",
       "474      vermont ave       1   16.000000\n",
       "475    vermont ave n       1    2.000000\n",
       "477     victoria ave       1    6.000000\n",
       "479             vine       1   46.000000\n",
       "1149      york blvd        1   39.000000\n",
       "\n",
       "[1150 rows x 3 columns]"
      ]
     },
     "execution_count": 810,
     "metadata": {},
     "output_type": "execute_result"
    }
   ],
   "source": [
    "rest_by_street = rest_data.groupby(by='new_rest_address').agg({'rest_name':'count','n_chairs':'mean'}).reset_index()\n",
    "rest_by_street.columns = ['rest_address', 'n_rest', 'ave_chairs']\n",
    "rest_by_street.sort_values(by='n_rest', ascending=False)"
   ]
  },
  {
   "cell_type": "code",
   "execution_count": 821,
   "metadata": {},
   "outputs": [
    {
     "data": {
      "image/png": "[encoded data removed]",
      "text/plain": [
       "<Figure size 936x648 with 1 Axes>"
      ]
     },
     "metadata": {
      "needs_background": "light"
     },
     "output_type": "display_data"
    }
   ],
   "source": [
    "top_10_streets = rest_by_street.sort_values(by='n_rest', ascending=False).head(10)\n",
    "plt.figure(figsize=(13,9))\n",
    "palette = sns.color_palette(\"RdBu\", 10)\n",
    "sns.set_palette(palette)\n",
    "ax = sns.barplot(x='rest_address', y='n_rest', data=top_10_streets)\n",
    "plt.xlabel(\"Nombre de la calle\")\n",
    "plt.ylabel(\"Número de Establecimientos\")\n",
    "plt.title(\"Las 10 calles con más establecimientos\")\n",
    "plt.show()"
   ]
  },
  {
   "cell_type": "markdown",
   "metadata": {},
   "source": [
    "Por otro lado, podemos ver que las calles con solo un establecimiento son:"
   ]
  },
  {
   "cell_type": "code",
   "execution_count": 824,
   "metadata": {},
   "outputs": [
    {
     "name": "stdout",
     "output_type": "stream",
     "text": [
      "Encontramos 619 calles que tienen solo un establecimiento.\n"
     ]
    }
   ],
   "source": [
    "one_rest_streets = rest_by_street.query('n_rest == 1')\n",
    "print('Encontramos', one_rest_streets['n_rest'].sum(), 'calles que tienen solo un establecimiento.')"
   ]
  },
  {
   "cell_type": "code",
   "execution_count": 850,
   "metadata": {},
   "outputs": [
    {
     "data": {
      "text/html": [
       "<div>\n",
       "<style scoped>\n",
       "    .dataframe tbody tr th:only-of-type {\n",
       "        vertical-align: middle;\n",
       "    }\n",
       "\n",
       "    .dataframe tbody tr th {\n",
       "        vertical-align: top;\n",
       "    }\n",
       "\n",
       "    .dataframe thead th {\n",
       "        text-align: right;\n",
       "    }\n",
       "</style>\n",
       "<table border=\"1\" class=\"dataframe\">\n",
       "  <thead>\n",
       "    <tr style=\"text-align: right;\">\n",
       "      <th></th>\n",
       "      <th>rest_address</th>\n",
       "      <th>n_rest</th>\n",
       "      <th>ave_chairs</th>\n",
       "    </tr>\n",
       "  </thead>\n",
       "  <tbody>\n",
       "    <tr>\n",
       "      <th>1049</th>\n",
       "      <td>sunset blvd</td>\n",
       "      <td>292</td>\n",
       "      <td>51.619863</td>\n",
       "    </tr>\n",
       "    <tr>\n",
       "      <th>970</th>\n",
       "      <td>pico blvd</td>\n",
       "      <td>289</td>\n",
       "      <td>40.536332</td>\n",
       "    </tr>\n",
       "    <tr>\n",
       "      <th>563</th>\n",
       "      <td>3RD ST</td>\n",
       "      <td>266</td>\n",
       "      <td>40.484962</td>\n",
       "    </tr>\n",
       "    <tr>\n",
       "      <th>566</th>\n",
       "      <td>6TH ST</td>\n",
       "      <td>231</td>\n",
       "      <td>40.626087</td>\n",
       "    </tr>\n",
       "    <tr>\n",
       "      <th>724</th>\n",
       "      <td>figueroa st</td>\n",
       "      <td>209</td>\n",
       "      <td>45.502392</td>\n",
       "    </tr>\n",
       "    <tr>\n",
       "      <th>1077</th>\n",
       "      <td>vermont ave</td>\n",
       "      <td>199</td>\n",
       "      <td>48.075758</td>\n",
       "    </tr>\n",
       "    <tr>\n",
       "      <th>1118</th>\n",
       "      <td>western ave</td>\n",
       "      <td>179</td>\n",
       "      <td>43.446927</td>\n",
       "    </tr>\n",
       "    <tr>\n",
       "      <th>952</th>\n",
       "      <td>olympic blvd</td>\n",
       "      <td>173</td>\n",
       "      <td>55.838150</td>\n",
       "    </tr>\n",
       "    <tr>\n",
       "      <th>198</th>\n",
       "      <td>hollywood blvd</td>\n",
       "      <td>166</td>\n",
       "      <td>53.885542</td>\n",
       "    </tr>\n",
       "    <tr>\n",
       "      <th>516</th>\n",
       "      <td>wilshire blvd</td>\n",
       "      <td>160</td>\n",
       "      <td>62.250000</td>\n",
       "    </tr>\n",
       "  </tbody>\n",
       "</table>\n",
       "</div>"
      ],
      "text/plain": [
       "         rest_address  n_rest  ave_chairs\n",
       "1049      sunset blvd     292   51.619863\n",
       "970         pico blvd     289   40.536332\n",
       "563            3RD ST     266   40.484962\n",
       "566            6TH ST     231   40.626087\n",
       "724       figueroa st     209   45.502392\n",
       "1077      vermont ave     199   48.075758\n",
       "1118      western ave     179   43.446927\n",
       "952      olympic blvd     173   55.838150\n",
       "198    hollywood blvd     166   53.885542\n",
       "516     wilshire blvd     160   62.250000"
      ]
     },
     "execution_count": 850,
     "metadata": {},
     "output_type": "execute_result"
    }
   ],
   "source": [
    "top_10_streets"
   ]
  },
  {
   "cell_type": "code",
   "execution_count": 825,
   "metadata": {},
   "outputs": [
    {
     "data": {
      "image/png": "[encoded data removed]",
      "text/plain": [
       "<Figure size 936x648 with 1 Axes>"
      ]
     },
     "metadata": {
      "needs_background": "light"
     },
     "output_type": "display_data"
    }
   ],
   "source": [
    "plt.figure(figsize=(13,9))\n",
    "palette = sns.color_palette(\"RdBu\", 10)\n",
    "sns.set_palette(palette)\n",
    "ax = sns.barplot(x='rest_address', y='ave_chairs', data=top_10_streets)\n",
    "plt.xlabel(\"Nombre de la calle\")\n",
    "plt.ylabel(\"Promedio de sillas por establecimiento\")\n",
    "plt.title(\"Promedio de sillas en las 10 calles más populares\")\n",
    "plt.show()"
   ]
  },
  {
   "cell_type": "markdown",
   "metadata": {},
   "source": [
    "## Conclusiones Generales <a id='conclusiones'></a>"
   ]
  },
  {
   "cell_type": "markdown",
   "metadata": {},
   "source": [
    "Recibimos el archivo *rest_data_us.csv*. Este archivo consta de 6 columnas y 9651 líneas. Realizamos una ligera obtimización del mismo y se cambiaron los nombres de las columnas por unos más apropriados. Encontramos tres valores ausentes en la columna *chain* (verdadero o falso para definir si el establecimiento corresponde a una cadena o no), estos representan solo 0.03% de los datos totales así que se decidió dejarlos como estaban. No encotramos duplicados en la columna *rest_id* (columna con los id únicos de restaurantes). Cuando revisamos la columna *rest_address* (con las direcciónes particulares de los restaurantes), nos encontramos con 913 direcciones que generaban 1134 datos duplicados. La base de datos estaba llena de duplicados no obvios que debimos limpiar. Se revisaron línea a línea las dirrecciones que contenian más de un restaurante. Se analizó si era justificable que hubiesen varios restaurantes en aquella dirrección, por ejemplo si es un boulevar, un centro comercial, cacino o incluso campus universitario, tiene sentido que hayan varios restaurantes e incluso que se repitan por ejemplo cadenas de café. Por otro lado, se consideraron datos inciertos los restauranes que tenían casi el mismo nombre con ligeras variaciones en la misma calle, por ejemplo GET BBUL y GETBBUL RESTAURANT es muy probable que sean el mismo restaurante sobre todo porque la dirrección es bastante espécifica 3189 1/2 W OLYMPIC BLVD. Otro ejemplo, Pollos al carbon restaurant y Restaurant Pollo al carbón, los dos en 326 E PICO BLVD, lo más probable es que haya sido ingresado dos veces.\n",
    "\n",
    "Con la base limpia, pudimos comenzar nuestro análisis y encontramos que la mayoría de los establecimientos en nuestra base de datos corresponden a restaurantes (7097), seguidos muy por debajo por los establecimientos de comida rápida (1038). El resto son números muy bajos, menos de 500 establecimientos. Encontramos además que el 62% de los establecimiontos en LA corresponden a locales independientes.\n",
    "\n",
    "A primera vista, las cadenas siguen el mismo patrón que la base completa. La mayoría de las cadenas corresponden a restaurantes (2213), seguidos muy por debajo por las cadenas de comida rápida (588). El resto son números por debajo de los 300. Nos preguntamos entonces, ¿Qué caracteriza a las cadenas?\n",
    "\n",
    "En nuestra base de datos notamos que las panaderías son todas cadenas (no encontramos ninguna independiente en nuestros datos). Los cafés y los locales de comida rápida tienden a ser cadenas, mientras que las pizerias se encuentran bastante parejas (son tanto cadenas como independientes). Los bares, en cambio, al menos en Los Ángeles tienden a ser locales independientes. En lo que a restaurantes compete, hay más restaurantes independientes que cadenas. \n",
    "\n",
    "Luego analizamos la cantidad de sillas para los distintos establecimientos de las cadenas. La media es de 40 sillas por establecimiento, sin embargo la desviación estándar es de 43 sillas, esto indica la diferencia entre el mínimo de sillas (1), el máximo de sillas (229) y la media que son 25. Logramos comprobar que los establecimientos en general no superan las 50 sillas, salvo casos excepcionales. También comprobamos que la mayoría de las cadenas tienen entre 1 y 3 establecimientos.  En las cadenas pequeñas de 1 a 3 locales en el área, notamos que por lo general no superan las 150 sillas. Por otro lado las cadenas con más de 20 locales tienden a tener menos de 40 sillas en promedio. Encontramos como regla general que a mayor número de establecimientos, menor número de sillas.\n",
    "\n",
    "Revisamos entonces el número de sillas por establecimiento y encontramos que en promedio los restaurantes tiene del orden de 24 sillas, mientras que los bares 22, en el otro extremo las panaderías tienen del orden de 11 sillas y los café en general 13.\n",
    "\n",
    "\n",
    "Finalmente, encontramos las calles con más establecimientos. Estas son Sunset Blvd, Pico Blvd y 3rd Street (250 +).\n",
    "Luego tenemos 6th Street, Figueroa Street y Vernont Avenue con más de 200 establecimientos.\n",
    "Las últimas 4 calles tienen sobre los 150 establecimientos y son Western Avenue, Olympic Boulevard, Hollywood Boulevard y Wilshire Boulevard. En el otro extremo encontramos 169 calles que tienen solo un establecimiento.\n",
    "\n",
    "Para concluir nuestro reporte, revisamos los promedios de sillas para las calles más populares. Sunset Blvd tiene en promedio 52 sillas por establecimiento. Pico Blvd, 3rd Street y 6th Street tienen en promedio 40 sillas. Figueroa Street y Vernont Avenue ambas tienen del orden de 45 a 48 sillas en promedio. Western Avenue promedia 43 sillas. Olympic Boulevard (55), Hollywood Boulevard (53) y Wilshire Boulevard (62).\n",
    "\n",
    "Con nuestro estudio entonces, recomendamos: \n",
    "- Abrir restaurantes, estos son claramente los líderes del mercado en L.A. \n",
    "- No debería haber más de 3 locales en el área. \n",
    "- Cada local debería tener un promedio de 40 sillas.\n",
    "- Idealmente, deberían estar en Sunset Boulevard, Pico Boulevard y 3rd Street que son las áreas que atraen a la mayor cantidad de público."
   ]
  },
  {
   "cell_type": "markdown",
   "metadata": {},
   "source": [
    "## Presentación <a id='presentation'></a>"
   ]
  },
  {
   "cell_type": "markdown",
   "metadata": {},
   "source": [
    "Presentation: <https://github.com/emalbran/Practicum-Data-Analyst/blob/93d3708084fa9ff30666704105649434ddde20cb/market_study/Estudio%20de%20Mercado.pdf>"
   ]
  }
 ],
 "metadata": {
  "kernelspec": {
   "display_name": "Python 3 (ipykernel)",
   "language": "python",
   "name": "python3"
  },
  "language_info": {
   "codemirror_mode": {
    "name": "ipython",
    "version": 3
   },
   "file_extension": ".py",
   "mimetype": "text/x-python",
   "name": "python",
   "nbconvert_exporter": "python",
   "pygments_lexer": "ipython3",
   "version": "3.9.5"
  },
  "toc": {
   "base_numbering": 1,
   "nav_menu": {},
   "number_sections": true,
   "sideBar": true,
   "skip_h1_title": true,
   "title_cell": "Table of Contents",
   "title_sidebar": "Contents",
   "toc_cell": false,
   "toc_position": {},
   "toc_section_display": true,
   "toc_window_display": false
  }
 },
 "nbformat": 4,
 "nbformat_minor": 2
}
