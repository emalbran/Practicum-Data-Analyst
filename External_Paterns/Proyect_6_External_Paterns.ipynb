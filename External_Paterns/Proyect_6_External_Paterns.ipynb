{
 "cells": [
  {
   "cell_type": "markdown",
   "metadata": {},
   "source": [
    "# Detección de preferencias e impacto de factores externos "
   ]
  },
  {
   "cell_type": "markdown",
   "metadata": {},
   "source": [
    "Zuber es una nueva empresa de viajes compartidos que se está lanzando en Chicago. Nuestra tarea es encontrar patrones en la información disponible. Queremos comprender las preferencias de los pasajeros y el impacto de los factores externos en los viajes.\n",
    "\n",
    "Además, analizaremos los datos de los competidores y probaremos la siguiente hipótesis:\n",
    "\n",
    "- La duración promedio de los viajes desde el Loop hasta el Aeropuerto Internacional O'Hare cambia los sábados lluviosos."
   ]
  },
  {
   "cell_type": "markdown",
   "metadata": {},
   "source": [
    "Lo primero que realizamos para obtener los datos fue analizar los datos sobre el clima en Chicago en noviembre 2017 desde el siguiente sitio web: https://code.s3.yandex.net/data-analyst-eng/chicago_weather_2017.html\n",
    "\n",
    "Obtuvimos los datos utilizando la librería **BeautifullSoup**. Luego con **SQL** realizamos un análisis exploratorio de datos para encontrar el número de viajes en taxi para cada empresa de taxis del 15 al 16 de noviembre 2017. Nombramos el campo resultante *trips_amount* y lo mostramos junto con el campo *company_name*.\n",
    "\n",
    "Encontramos la cantidad de viajes para cada empresa de taxis cuyo nombre contenía las palabras \"Yellow\" o \"Blue\" del 1 al 7 de noviembre de 2017. Nombramos la variable resultante *trips_amount*. Agrupamos los resultados por el campo *company_name*. El archivo resultante no será utilizado en este notebook.\n",
    "\n",
    "Descubrimos que en noviembre de 2017 las empresas de taxis más populares fueron **Flash Cab** y **Taxi Affiliation Services**. Encuentramos el número de viajes de estas dos empresas y asignamos a la variable resultante el nombre *trips_amount*. Juntamos los viajes de todas las demás empresas en el grupo *\"Other\"*. Agrupamos los datos por nombres de empresas de taxis y nombramos el campo con nombres de empresas de taxis *company*.\n",
    "\n",
    "Un tercer paso, fue probar la hipótesis de que la duración de los viajes desde el Loop hasta el Aeropuerto Internacional O'Hare cambia los sábados lluviosos. Para ello, siempre con **SQL**, recuperamos los identificadores de los barrios *O'Hare* y *Loop* de la tabla *neighborhoods*. Para cada hora recuperamos los registros de condiciones meteorológicas de la tabla *weather_records*. Dividimos todas las horas en dos grupos: \"Bad\" si el campo description contiene las palabras \"rain\" o \"storm\" y \"Good\" para los demás. Nombramos el campo resultante *weather_conditions*. La tabla final incluye dos campos: fecha y hora (ts) y weather_conditions. \n",
    "\n",
    "Recuperamos de la tabla *trips* todos los viajes que comenzaron en el Loop (*neighborhood_id*: 50) y finalizaron en O'Hare (*neighborhood_id*: 63) un sábado. Obtuvimos las condiciones climáticas para cada viaje. Recuperamos también la duración de cada viaje ignorando los viajes para los que no hay datos disponibles sobre las condiciones climáticas.\n",
    "\n",
    "Comenzaremos entonces nuestro análisis de los datos obtenidos."
   ]
  },
  {
   "cell_type": "markdown",
   "metadata": {},
   "source": [
    "# Contenido <a id='back'></a>\n",
    "\n",
    "* [1 Inicialización](#inicio)\n",
    "    * [1.1 Cargar datos](#carga_datos)\n",
    "    * [1.2 Explorar datos iniciales](#explorar_datos)\n",
    "        * [1.2.1 Tabla company_trips](#vexplorar_datos_company)\n",
    "        * [1.2.2 Tabla dropoff](#explorar_datos_dropoff)\n",
    "        * [1.2.3 Tabla trips_to_airport](#explorar_datos_airport)\n",
    "* [2 Analisis de datos](#analisis_datos)\n",
    "    * [2.1 Los 10 barrios principales](#analisis_datos_barrios)\n",
    "    * [2.2 Cantidad de viajes por compañía](#analisis_datos_company)\n",
    "* [3 Comprobación de Hipotesis](#hipotesis)\n",
    "* [4 Conclusión General](#conclusion)\n"
   ]
  },
  {
   "cell_type": "markdown",
   "metadata": {},
   "source": [
    "## Inicialización <a id='inicio'></a>"
   ]
  },
  {
   "cell_type": "markdown",
   "metadata": {},
   "source": [
    "Con el fin de resolver nuestras dudas cargaremos las siguientes librerías:\n",
    "- Pandas\n",
    "- Matplotlib\n",
    "- numpy\n",
    "- scipy.stats"
   ]
  },
  {
   "cell_type": "code",
   "execution_count": 44,
   "metadata": {},
   "outputs": [],
   "source": [
    "import pandas as pd\n",
    "import matplotlib.pyplot as plt\n",
    "import seaborn as sns\n",
    "import numpy as np\n",
    "from scipy.stats import ttest_ind"
   ]
  },
  {
   "cell_type": "markdown",
   "metadata": {},
   "source": [
    "### Cargas de datos: <a id='carga_datos'></a>"
   ]
  },
  {
   "cell_type": "markdown",
   "metadata": {},
   "source": [
    "Recibimos los siguientes archivos que cargaremos a continuación:\n",
    "- project_sql_result_01.csv\n",
    "- project_sql_result_04.csv\n",
    "- project_sql_result_07.csv"
   ]
  },
  {
   "cell_type": "code",
   "execution_count": 45,
   "metadata": {},
   "outputs": [],
   "source": [
    "company_trips = pd.read_csv('/datasets/project_sql_result_01.csv')"
   ]
  },
  {
   "cell_type": "code",
   "execution_count": 46,
   "metadata": {},
   "outputs": [],
   "source": [
    "dropoff = pd.read_csv('/datasets/project_sql_result_04.csv')"
   ]
  },
  {
   "cell_type": "code",
   "execution_count": 47,
   "metadata": {},
   "outputs": [],
   "source": [
    "trips_to_airport = pd.read_csv('/datasets/project_sql_result_07.csv')"
   ]
  },
  {
   "cell_type": "markdown",
   "metadata": {},
   "source": [
    "### Explorar datos iniciales <a id='explorar_datos'></a>"
   ]
  },
  {
   "cell_type": "markdown",
   "metadata": {},
   "source": [
    "#### Tabla company_trips <a id='explorar_datos_company'></a>"
   ]
  },
  {
   "cell_type": "markdown",
   "metadata": {},
   "source": [
    "La tabla company_trips contiene los siguientes datos:\n",
    "- company_name: nombre de la empresa de taxis\n",
    "- trips_amount: el número de viajes de cada compañía de taxis el 15 y 16 de noviembre de 2017"
   ]
  },
  {
   "cell_type": "code",
   "execution_count": 48,
   "metadata": {},
   "outputs": [
    {
     "name": "stdout",
     "output_type": "stream",
     "text": [
      "Presentación de las columnas de company_trips:\n",
      "Index(['company_name', 'trips_amount'], dtype='object')\n",
      "\n",
      "Revisión del número de líneas de company_trips:\n",
      "64 líneas.\n"
     ]
    }
   ],
   "source": [
    "print('Presentación de las columnas de company_trips:')\n",
    "print(company_trips.columns)\n",
    "print()\n",
    "print('Revisión del número de líneas de company_trips:')\n",
    "print(len(company_trips), 'líneas.')"
   ]
  },
  {
   "cell_type": "code",
   "execution_count": 49,
   "metadata": {},
   "outputs": [
    {
     "name": "stdout",
     "output_type": "stream",
     "text": [
      "<class 'pandas.core.frame.DataFrame'>\n",
      "RangeIndex: 64 entries, 0 to 63\n",
      "Data columns (total 2 columns):\n",
      " #   Column        Non-Null Count  Dtype \n",
      "---  ------        --------------  ----- \n",
      " 0   company_name  64 non-null     object\n",
      " 1   trips_amount  64 non-null     int64 \n",
      "dtypes: int64(1), object(1)\n",
      "memory usage: 1.1+ KB\n"
     ]
    }
   ],
   "source": [
    "company_trips.info()"
   ]
  },
  {
   "cell_type": "code",
   "execution_count": 50,
   "metadata": {},
   "outputs": [
    {
     "data": {
      "text/html": [
       "<div>\n",
       "<style scoped>\n",
       "    .dataframe tbody tr th:only-of-type {\n",
       "        vertical-align: middle;\n",
       "    }\n",
       "\n",
       "    .dataframe tbody tr th {\n",
       "        vertical-align: top;\n",
       "    }\n",
       "\n",
       "    .dataframe thead th {\n",
       "        text-align: right;\n",
       "    }\n",
       "</style>\n",
       "<table border=\"1\" class=\"dataframe\">\n",
       "  <thead>\n",
       "    <tr style=\"text-align: right;\">\n",
       "      <th></th>\n",
       "      <th>company_name</th>\n",
       "      <th>trips_amount</th>\n",
       "    </tr>\n",
       "  </thead>\n",
       "  <tbody>\n",
       "    <tr>\n",
       "      <th>0</th>\n",
       "      <td>Flash Cab</td>\n",
       "      <td>19558</td>\n",
       "    </tr>\n",
       "    <tr>\n",
       "      <th>1</th>\n",
       "      <td>Taxi Affiliation Services</td>\n",
       "      <td>11422</td>\n",
       "    </tr>\n",
       "    <tr>\n",
       "      <th>2</th>\n",
       "      <td>Medallion Leasing</td>\n",
       "      <td>10367</td>\n",
       "    </tr>\n",
       "    <tr>\n",
       "      <th>3</th>\n",
       "      <td>Yellow Cab</td>\n",
       "      <td>9888</td>\n",
       "    </tr>\n",
       "    <tr>\n",
       "      <th>4</th>\n",
       "      <td>Taxi Affiliation Service Yellow</td>\n",
       "      <td>9299</td>\n",
       "    </tr>\n",
       "  </tbody>\n",
       "</table>\n",
       "</div>"
      ],
      "text/plain": [
       "                      company_name  trips_amount\n",
       "0                        Flash Cab         19558\n",
       "1        Taxi Affiliation Services         11422\n",
       "2                Medallion Leasing         10367\n",
       "3                       Yellow Cab          9888\n",
       "4  Taxi Affiliation Service Yellow          9299"
      ]
     },
     "execution_count": 50,
     "metadata": {},
     "output_type": "execute_result"
    }
   ],
   "source": [
    "company_trips.head()"
   ]
  },
  {
   "cell_type": "markdown",
   "metadata": {},
   "source": [
    "La tabla company_trips consta de 2 columnas (company_name y trips_amount) y 64 líneas. Los nombres de las columnas son adecuados, no hay valores ausentes y los tipos de datos están correctos."
   ]
  },
  {
   "cell_type": "markdown",
   "metadata": {},
   "source": [
    "#### Tabla dropoff <a id='explorar_datos_dropoff'></a>"
   ]
  },
  {
   "cell_type": "markdown",
   "metadata": {},
   "source": [
    "La tabla dropoff contiene los siguientes datos:\n",
    "- dropoff_location_name: barrios de Chicago donde finalizaron los viajes\n",
    "- average_trips: el promedio de viajes que terminaron en cada barrio en noviembre de 2017"
   ]
  },
  {
   "cell_type": "code",
   "execution_count": 51,
   "metadata": {},
   "outputs": [
    {
     "name": "stdout",
     "output_type": "stream",
     "text": [
      "Presentación de las columnas de dropoff:\n",
      "Index(['dropoff_location_name', 'average_trips'], dtype='object')\n",
      "\n",
      "Revisión del número de líneas de dropoff:\n",
      "94 líneas.\n"
     ]
    }
   ],
   "source": [
    "print('Presentación de las columnas de dropoff:')\n",
    "print(dropoff.columns)\n",
    "print()\n",
    "print('Revisión del número de líneas de dropoff:')\n",
    "print(len(dropoff), 'líneas.')"
   ]
  },
  {
   "cell_type": "code",
   "execution_count": 52,
   "metadata": {},
   "outputs": [
    {
     "name": "stdout",
     "output_type": "stream",
     "text": [
      "<class 'pandas.core.frame.DataFrame'>\n",
      "RangeIndex: 94 entries, 0 to 93\n",
      "Data columns (total 2 columns):\n",
      " #   Column                 Non-Null Count  Dtype  \n",
      "---  ------                 --------------  -----  \n",
      " 0   dropoff_location_name  94 non-null     object \n",
      " 1   average_trips          94 non-null     float64\n",
      "dtypes: float64(1), object(1)\n",
      "memory usage: 1.6+ KB\n"
     ]
    }
   ],
   "source": [
    "dropoff.info()"
   ]
  },
  {
   "cell_type": "code",
   "execution_count": 53,
   "metadata": {},
   "outputs": [
    {
     "data": {
      "text/html": [
       "<div>\n",
       "<style scoped>\n",
       "    .dataframe tbody tr th:only-of-type {\n",
       "        vertical-align: middle;\n",
       "    }\n",
       "\n",
       "    .dataframe tbody tr th {\n",
       "        vertical-align: top;\n",
       "    }\n",
       "\n",
       "    .dataframe thead th {\n",
       "        text-align: right;\n",
       "    }\n",
       "</style>\n",
       "<table border=\"1\" class=\"dataframe\">\n",
       "  <thead>\n",
       "    <tr style=\"text-align: right;\">\n",
       "      <th></th>\n",
       "      <th>dropoff_location_name</th>\n",
       "      <th>average_trips</th>\n",
       "    </tr>\n",
       "  </thead>\n",
       "  <tbody>\n",
       "    <tr>\n",
       "      <th>0</th>\n",
       "      <td>Loop</td>\n",
       "      <td>10727.466667</td>\n",
       "    </tr>\n",
       "    <tr>\n",
       "      <th>1</th>\n",
       "      <td>River North</td>\n",
       "      <td>9523.666667</td>\n",
       "    </tr>\n",
       "    <tr>\n",
       "      <th>2</th>\n",
       "      <td>Streeterville</td>\n",
       "      <td>6664.666667</td>\n",
       "    </tr>\n",
       "    <tr>\n",
       "      <th>3</th>\n",
       "      <td>West Loop</td>\n",
       "      <td>5163.666667</td>\n",
       "    </tr>\n",
       "    <tr>\n",
       "      <th>4</th>\n",
       "      <td>O'Hare</td>\n",
       "      <td>2546.900000</td>\n",
       "    </tr>\n",
       "  </tbody>\n",
       "</table>\n",
       "</div>"
      ],
      "text/plain": [
       "  dropoff_location_name  average_trips\n",
       "0                  Loop   10727.466667\n",
       "1           River North    9523.666667\n",
       "2         Streeterville    6664.666667\n",
       "3             West Loop    5163.666667\n",
       "4                O'Hare    2546.900000"
      ]
     },
     "execution_count": 53,
     "metadata": {},
     "output_type": "execute_result"
    }
   ],
   "source": [
    "dropoff.head()"
   ]
  },
  {
   "cell_type": "markdown",
   "metadata": {},
   "source": [
    "La tabla dropoff también consta de 2 columnas (dropoff_location_name y average_trips) y 94 líneas. Los nombres de las columnas son correctos, no hay valores ausentes y los tipos de datos son correctos, sin embargo pasaremos los promedios a valores enteros para facilitar su lectura."
   ]
  },
  {
   "cell_type": "markdown",
   "metadata": {},
   "source": [
    "**Convertir la columna average_trips al tipo correcto:**"
   ]
  },
  {
   "cell_type": "code",
   "execution_count": 54,
   "metadata": {},
   "outputs": [
    {
     "data": {
      "text/html": [
       "<div>\n",
       "<style scoped>\n",
       "    .dataframe tbody tr th:only-of-type {\n",
       "        vertical-align: middle;\n",
       "    }\n",
       "\n",
       "    .dataframe tbody tr th {\n",
       "        vertical-align: top;\n",
       "    }\n",
       "\n",
       "    .dataframe thead th {\n",
       "        text-align: right;\n",
       "    }\n",
       "</style>\n",
       "<table border=\"1\" class=\"dataframe\">\n",
       "  <thead>\n",
       "    <tr style=\"text-align: right;\">\n",
       "      <th></th>\n",
       "      <th>dropoff_location_name</th>\n",
       "      <th>average_trips</th>\n",
       "    </tr>\n",
       "  </thead>\n",
       "  <tbody>\n",
       "    <tr>\n",
       "      <th>0</th>\n",
       "      <td>Loop</td>\n",
       "      <td>10727</td>\n",
       "    </tr>\n",
       "    <tr>\n",
       "      <th>1</th>\n",
       "      <td>River North</td>\n",
       "      <td>9523</td>\n",
       "    </tr>\n",
       "    <tr>\n",
       "      <th>2</th>\n",
       "      <td>Streeterville</td>\n",
       "      <td>6664</td>\n",
       "    </tr>\n",
       "    <tr>\n",
       "      <th>3</th>\n",
       "      <td>West Loop</td>\n",
       "      <td>5163</td>\n",
       "    </tr>\n",
       "    <tr>\n",
       "      <th>4</th>\n",
       "      <td>O'Hare</td>\n",
       "      <td>2546</td>\n",
       "    </tr>\n",
       "  </tbody>\n",
       "</table>\n",
       "</div>"
      ],
      "text/plain": [
       "  dropoff_location_name  average_trips\n",
       "0                  Loop          10727\n",
       "1           River North           9523\n",
       "2         Streeterville           6664\n",
       "3             West Loop           5163\n",
       "4                O'Hare           2546"
      ]
     },
     "execution_count": 54,
     "metadata": {},
     "output_type": "execute_result"
    }
   ],
   "source": [
    "dropoff['average_trips'] = dropoff['average_trips'].astype('int')\n",
    "dropoff.head()"
   ]
  },
  {
   "cell_type": "markdown",
   "metadata": {},
   "source": [
    "#### Tabla trips_to_airport <a id='explorar_datos_airport'></a>"
   ]
  },
  {
   "cell_type": "markdown",
   "metadata": {},
   "source": [
    "La tabla trips_to_airport contiene los siguientes datos:\n",
    "- start_ts: fecha y hora de recogida\n",
    "- weather_conditions: condiciones climáticas en el momento en el que comenzó el viaje\n",
    "- duration_seconds: duración del viaje en segundos "
   ]
  },
  {
   "cell_type": "code",
   "execution_count": 55,
   "metadata": {},
   "outputs": [
    {
     "name": "stdout",
     "output_type": "stream",
     "text": [
      "Presentación de las columnas de trips_to_airport:\n",
      "Index(['start_ts', 'weather_conditions', 'duration_seconds'], dtype='object')\n",
      "\n",
      "Revisión del número de líneas de trips_to_airport:\n",
      "1068 líneas.\n"
     ]
    }
   ],
   "source": [
    "print('Presentación de las columnas de trips_to_airport:')\n",
    "print(trips_to_airport.columns)\n",
    "print()\n",
    "print('Revisión del número de líneas de trips_to_airport:')\n",
    "print(len(trips_to_airport), 'líneas.')"
   ]
  },
  {
   "cell_type": "code",
   "execution_count": 56,
   "metadata": {},
   "outputs": [
    {
     "name": "stdout",
     "output_type": "stream",
     "text": [
      "<class 'pandas.core.frame.DataFrame'>\n",
      "RangeIndex: 1068 entries, 0 to 1067\n",
      "Data columns (total 3 columns):\n",
      " #   Column              Non-Null Count  Dtype  \n",
      "---  ------              --------------  -----  \n",
      " 0   start_ts            1068 non-null   object \n",
      " 1   weather_conditions  1068 non-null   object \n",
      " 2   duration_seconds    1068 non-null   float64\n",
      "dtypes: float64(1), object(2)\n",
      "memory usage: 25.2+ KB\n"
     ]
    }
   ],
   "source": [
    "trips_to_airport.info()"
   ]
  },
  {
   "cell_type": "code",
   "execution_count": 57,
   "metadata": {},
   "outputs": [
    {
     "data": {
      "text/html": [
       "<div>\n",
       "<style scoped>\n",
       "    .dataframe tbody tr th:only-of-type {\n",
       "        vertical-align: middle;\n",
       "    }\n",
       "\n",
       "    .dataframe tbody tr th {\n",
       "        vertical-align: top;\n",
       "    }\n",
       "\n",
       "    .dataframe thead th {\n",
       "        text-align: right;\n",
       "    }\n",
       "</style>\n",
       "<table border=\"1\" class=\"dataframe\">\n",
       "  <thead>\n",
       "    <tr style=\"text-align: right;\">\n",
       "      <th></th>\n",
       "      <th>start_ts</th>\n",
       "      <th>weather_conditions</th>\n",
       "      <th>duration_seconds</th>\n",
       "    </tr>\n",
       "  </thead>\n",
       "  <tbody>\n",
       "    <tr>\n",
       "      <th>0</th>\n",
       "      <td>2017-11-25 16:00:00</td>\n",
       "      <td>Good</td>\n",
       "      <td>2410.0</td>\n",
       "    </tr>\n",
       "    <tr>\n",
       "      <th>1</th>\n",
       "      <td>2017-11-25 14:00:00</td>\n",
       "      <td>Good</td>\n",
       "      <td>1920.0</td>\n",
       "    </tr>\n",
       "    <tr>\n",
       "      <th>2</th>\n",
       "      <td>2017-11-25 12:00:00</td>\n",
       "      <td>Good</td>\n",
       "      <td>1543.0</td>\n",
       "    </tr>\n",
       "    <tr>\n",
       "      <th>3</th>\n",
       "      <td>2017-11-04 10:00:00</td>\n",
       "      <td>Good</td>\n",
       "      <td>2512.0</td>\n",
       "    </tr>\n",
       "    <tr>\n",
       "      <th>4</th>\n",
       "      <td>2017-11-11 07:00:00</td>\n",
       "      <td>Good</td>\n",
       "      <td>1440.0</td>\n",
       "    </tr>\n",
       "  </tbody>\n",
       "</table>\n",
       "</div>"
      ],
      "text/plain": [
       "              start_ts weather_conditions  duration_seconds\n",
       "0  2017-11-25 16:00:00               Good            2410.0\n",
       "1  2017-11-25 14:00:00               Good            1920.0\n",
       "2  2017-11-25 12:00:00               Good            1543.0\n",
       "3  2017-11-04 10:00:00               Good            2512.0\n",
       "4  2017-11-11 07:00:00               Good            1440.0"
      ]
     },
     "execution_count": 57,
     "metadata": {},
     "output_type": "execute_result"
    }
   ],
   "source": [
    "trips_to_airport.head()"
   ]
  },
  {
   "cell_type": "markdown",
   "metadata": {},
   "source": [
    "La tabla trips_to_airport consta de 3 columnas (start_ts, weather_conditions y duration_seconds) y 1068 líneas. Los nombres de las columnas son correctos y no hay valores ausentes. Los tipos de datos deben ser cambiados para la columna star_ts para hacerlos del tipo DateTime, el resto está correcto."
   ]
  },
  {
   "cell_type": "markdown",
   "metadata": {},
   "source": [
    "**Convertir la columna start_ts al tipo correcto:**"
   ]
  },
  {
   "cell_type": "code",
   "execution_count": 58,
   "metadata": {},
   "outputs": [
    {
     "name": "stdout",
     "output_type": "stream",
     "text": [
      "<class 'pandas.core.frame.DataFrame'>\n",
      "RangeIndex: 1068 entries, 0 to 1067\n",
      "Data columns (total 3 columns):\n",
      " #   Column              Non-Null Count  Dtype         \n",
      "---  ------              --------------  -----         \n",
      " 0   start_ts            1068 non-null   datetime64[ns]\n",
      " 1   weather_conditions  1068 non-null   object        \n",
      " 2   duration_seconds    1068 non-null   float64       \n",
      "dtypes: datetime64[ns](1), float64(1), object(1)\n",
      "memory usage: 25.2+ KB\n"
     ]
    }
   ],
   "source": [
    "trips_to_airport['start_ts'] = pd.to_datetime(trips_to_airport['start_ts'], format='%Y-%m-%d %H:%M:%S')\n",
    "trips_to_airport.info()"
   ]
  },
  {
   "cell_type": "markdown",
   "metadata": {},
   "source": [
    "## Analisis de datos <a id='analisis_datos'></a>"
   ]
  },
  {
   "cell_type": "markdown",
   "metadata": {},
   "source": [
    "En este apartado identificaremos los 10 principales barrios en términos de finalización del recorrido. Luego revisaremos el comportamiento de las empresas de taxis con respecto al número de viajes y los 10 barrios principales por número de finalizaciones. En base a estos datos sacaremos conclusiones basadas en lo descubierto."
   ]
  },
  {
   "cell_type": "markdown",
   "metadata": {},
   "source": [
    "### Los 10 barrios principales <a id='analisis_datos_barrios'></a>"
   ]
  },
  {
   "cell_type": "code",
   "execution_count": 59,
   "metadata": {},
   "outputs": [
    {
     "name": "stdout",
     "output_type": "stream",
     "text": [
      "  dropoff_location_name  average_trips\n",
      "0                  Loop          10727\n",
      "1           River North           9523\n",
      "2         Streeterville           6664\n",
      "3             West Loop           5163\n",
      "4                O'Hare           2546\n",
      "5             Lake View           2420\n",
      "6            Grant Park           2068\n",
      "7         Museum Campus           1510\n",
      "8            Gold Coast           1364\n",
      "9    Sheffield & DePaul           1259\n"
     ]
    }
   ],
   "source": [
    "top_dropoff = dropoff.sort_values(by='average_trips', ascending=False).head(10)\n",
    "print(top_dropoff)"
   ]
  },
  {
   "cell_type": "code",
   "execution_count": 60,
   "metadata": {},
   "outputs": [
    {
     "data": {
      "image/png": "[encoded data removed]",
      "text/plain": [
       "<Figure size 864x432 with 1 Axes>"
      ]
     },
     "metadata": {
      "needs_background": "light"
     },
     "output_type": "display_data"
    }
   ],
   "source": [
    "top_dropoff.plot(x='dropoff_location_name', kind='bar', figsize=(12,6))\n",
    "plt.xlabel('dropoff_location_name')\n",
    "plt.xticks(rotation=60)\n",
    "plt.ylabel('average_trips')\n",
    "plt.title('Los principales barrios en términos de finalización de recorrido')\n",
    "plt.show(block=False)"
   ]
  },
  {
   "cell_type": "markdown",
   "metadata": {},
   "source": [
    "### Cantidad de viajes por compañía <a id='analisis_datos_company'></a>"
   ]
  },
  {
   "cell_type": "markdown",
   "metadata": {},
   "source": [
    "En esta sección analizaremos la cantidad de viajes por compañía. Para esto, revisaremos el gráfico siguiente:"
   ]
  },
  {
   "cell_type": "code",
   "execution_count": 61,
   "metadata": {},
   "outputs": [
    {
     "data": {
      "image/png": "[encoded data removed]",
      "text/plain": [
       "<Figure size 864x432 with 1 Axes>"
      ]
     },
     "metadata": {
      "needs_background": "light"
     },
     "output_type": "display_data"
    }
   ],
   "source": [
    "company_trips.plot(kind='bar', figsize=(12,6))\n",
    "plt.xlabel('Company')\n",
    "plt.ylabel('Trips Amount')\n",
    "plt.title('Cantidad de viajes por compañía')\n",
    "plt.show(block=False)"
   ]
  },
  {
   "cell_type": "markdown",
   "metadata": {},
   "source": [
    "Como se puede ver, tenemos 63 compañías en la tabla, sin embargo, la mayoría de ellas a realizado mucho menos de 5000 viajes. Vamos a acotar nuestra tabla a solo las compañías que hicieron más de 5000 viajes:"
   ]
  },
  {
   "cell_type": "code",
   "execution_count": 62,
   "metadata": {},
   "outputs": [
    {
     "data": {
      "image/png": "[encoded data removed]",
      "text/plain": [
       "<Figure size 864x432 with 1 Axes>"
      ]
     },
     "metadata": {
      "needs_background": "light"
     },
     "output_type": "display_data"
    }
   ],
   "source": [
    "company_trips.query('trips_amount > 5000').plot(x='company_name', kind='bar', figsize=(12,6))\n",
    "plt.xlabel('Company')\n",
    "plt.xticks(rotation=60)\n",
    "plt.ylabel('Trips Amount')\n",
    "plt.title('Cantidad de viajes por compañía')\n",
    "plt.show(block=False)"
   ]
  },
  {
   "cell_type": "markdown",
   "metadata": {},
   "source": [
    "Como se puede apreciar, Flash Cab es la compañía que hizo más viajes con diferencia (casi 20000). Le sigue Taxi Affiliation Services con un poco más de 10000. En total tenemos solo 11 compañías que tienen más de 5000 viajes, y la mayoría de estas hicieron entre 7500 y 10000 viajes. "
   ]
  },
  {
   "cell_type": "markdown",
   "metadata": {},
   "source": [
    "## Comprobación de Hipótesis:<a id='hipotesis'></a>"
   ]
  },
  {
   "cell_type": "markdown",
   "metadata": {},
   "source": [
    "A continuación nos concentraremos en estudiar nuestra hipótesis inicial:\n",
    "\n",
    "\"La duración promedio de los viajes desde el Loop hasta el Aeropuerto Internacional O'Hare cambia los sábados lluviosos\". Para ello generaremos las dos sentencias siguientes:\n",
    "\n",
    "H0: La duración promedio de los viajes no cambia en los sábados lluviosos\n",
    "\n",
    "Ha: La duración promedio cambia\n",
    "\n",
    "Para nuestro estudio tomaremos un umbral de significancia de 5%. Este umbral del 5 % (2.5 % en cada lado) es una medida común de significancia estadística."
   ]
  },
  {
   "cell_type": "code",
   "execution_count": 63,
   "metadata": {},
   "outputs": [],
   "source": [
    "significance = 0.05"
   ]
  },
  {
   "cell_type": "markdown",
   "metadata": {},
   "source": [
    "Antes de realizar la comprobación en si. Revisaremos si la varianza es la misma para el buen clima y el mal clima:"
   ]
  },
  {
   "cell_type": "code",
   "execution_count": 68,
   "metadata": {},
   "outputs": [
    {
     "name": "stdout",
     "output_type": "stream",
     "text": [
      "La varianza cuando el clima es malo es de: 520294.086002483\n",
      "La varianza cuando el clima es buenos es de: 576382.009689509\n"
     ]
    }
   ],
   "source": [
    "bad_weather_var = trips_to_airport.loc[trips_to_airport[\"weather_conditions\"] == 'Bad', \"duration_seconds\"].var()\n",
    "good_weather_var = trips_to_airport.loc[trips_to_airport[\"weather_conditions\"] == 'Good', \"duration_seconds\"].var()\n",
    "print('La varianza cuando el clima es malo es de:', bad_weather_var)\n",
    "print('La varianza cuando el clima es buenos es de:', good_weather_var)"
   ]
  },
  {
   "cell_type": "markdown",
   "metadata": {},
   "source": [
    "Como se puede apreciar, la varianza para ambos climas es distinta."
   ]
  },
  {
   "cell_type": "code",
   "execution_count": 70,
   "metadata": {},
   "outputs": [
    {
     "name": "stdout",
     "output_type": "stream",
     "text": [
      "\n",
      "    La duración promedio de los viajes en días lluviosos es de: 2427.2055555555557\n",
      "    La duración promedio de los viajes en días soleados es de: 1999.6756756756756\n",
      "\n",
      "    t-statistic: 7.186034288068629\n",
      "    p-value: 6.738994326108734e-12\n",
      "\n",
      "Rechazamos nuestra hipótesis nula\n"
     ]
    }
   ],
   "source": [
    "stat, p_value = ttest_ind(\n",
    "    trips_to_airport.loc[trips_to_airport[\"weather_conditions\"] == 'Bad', \"duration_seconds\"],\n",
    "    trips_to_airport.loc[trips_to_airport[\"weather_conditions\"] == 'Good', \"duration_seconds\"],\n",
    "    equal_var = False\n",
    ")\n",
    "print(f\"\"\"\n",
    "    La duración promedio de los viajes en días lluviosos es de: {trips_to_airport.loc[trips_to_airport[\"weather_conditions\"] == 'Bad', \"duration_seconds\"].mean()}\n",
    "    La duración promedio de los viajes en días soleados es de: {trips_to_airport.loc[trips_to_airport[\"weather_conditions\"] == 'Good', \"duration_seconds\"].mean()}\n",
    "\n",
    "    t-statistic: {stat}\n",
    "    p-value: {p_value}\n",
    "\"\"\")\n",
    "\n",
    "if p_value < significance:\n",
    "    print('Rechazamos nuestra hipótesis nula')\n",
    "else:\n",
    "    print('No rechazamos nuestra hipótesis nula')"
   ]
  },
  {
   "cell_type": "markdown",
   "metadata": {},
   "source": [
    "## Conclusión General:<a id='conclusion'></a>"
   ]
  },
  {
   "cell_type": "markdown",
   "metadata": {},
   "source": [
    "Para este estudio recibimos tres tablas.\n",
    "La tabla **company_trips** que consta de 2 columnas (*company_name* y *trips_amount*) y 64 líneas.La tabla **dropoff** que también consta de 2 columnas (dropoff_location_name y average_trips) y 94 líneas. Ambas tablas venían sin valores ausentes y los datos correctamente presentados. Pasamos los datos de *average_trips* a valores enteros para simplificar la lectura de los mismos. Finalmente, la tabla **trips_to_airport** que consta de 3 columnas (start_ts, weather_conditions y duration_seconds) y 1068 líneas. Para esta tabla los nombres de las columnas son correctos y no hay valores ausentes. Pero tuvimos que cambiar los tipos de datos de la columna *star_ts* para hacerlos del tipo DateTime.\n",
    "\n",
    "De las tablas pudimos rescatar las siguientes conclusiones: \n",
    "Los diez barrios principales en términos de finalización del recorrido corresponden a:\n",
    "- Loop\n",
    "- River North\n",
    "- Streeterville\n",
    "- West Loop\n",
    "- O'Hare\n",
    "- Lake View\n",
    "- Grant Park\n",
    "- Museum Campus\n",
    "- Gold Coast\n",
    "- Sheffield & DePaul\n",
    "Ordenamos los nombres de mayor a menor número de viajes.\n",
    "\n",
    "Con respecto a las empresas de taxis, tenemos un universo de 63 compañías en la tabla, sin embargo, la mayoría de ellas a realizado mucho menos de 5000 viajes en los días estudiados (el 15 y 16 de noviembre de 2017). **Flash Cab** es la compañía que hizo más viajes (casi 20000). Le sigue **Taxi Affiliation Services** con un poco más de 10000. En total tenemos solo 11 compañías que tienen más de 5000 viajes, y la mayoría de estas hicieron entre 7500 y 10000 viajes.\n",
    "\n",
    "Finalmente, revisamos nuestra hipótesis:\n",
    "\"La duración promedio de los viajes desde el Loop hasta el Aeropuerto Internacional O'Hare cambia los sábados lluviosos\". Con el fin de comprobar esta hipotesis, creamos la hipótesis nula siguiente: *La duración promedio de los viajes no cambia en los sábados lluviosos*, pero de acuerdo a nuestro estudio rechazamos nuestra hipotesis nula."
   ]
  }
 ],
 "metadata": {
  "kernelspec": {
   "display_name": "Python 3 (ipykernel)",
   "language": "python",
   "name": "python3"
  },
  "language_info": {
   "codemirror_mode": {
    "name": "ipython",
    "version": 3
   },
   "file_extension": ".py",
   "mimetype": "text/x-python",
   "name": "python",
   "nbconvert_exporter": "python",
   "pygments_lexer": "ipython3",
   "version": "3.9.5"
  },
  "toc": {
   "base_numbering": 1,
   "nav_menu": {},
   "number_sections": true,
   "sideBar": true,
   "skip_h1_title": true,
   "title_cell": "Table of Contents",
   "title_sidebar": "Contents",
   "toc_cell": false,
   "toc_position": {},
   "toc_section_display": true,
   "toc_window_display": false
  }
 },
 "nbformat": 4,
 "nbformat_minor": 2
}
