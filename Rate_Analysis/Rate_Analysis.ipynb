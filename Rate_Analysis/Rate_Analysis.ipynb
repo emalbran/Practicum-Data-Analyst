{
  "cells": [
    {
      "cell_type": "markdown",
      "metadata": {
        "id": "t07UtnLC70d_"
      },
      "source": [
        "# Análisis preliminar de las tarifas de prepago Surf y Ultimate\n",
        "\n",
        "La empresa de telecomunicaciones Megaline, ofrece a sus clientes dos tarifas de prepago, Surf y Ultimate. El departamento comercial quiere saber cuál de los planes genera más ingresos para ajustar el presupuesto de publicidad.\n",
        "\n",
        "Nos entregaron los datos de 500 clientes de Megaline: quiénes son los clientes, de dónde son, qué tarifa usan y la cantidad de llamadas que hicieron y los mensajes de texto que enviaron en 2018. Nuestro trabajo será analizar el comportamiento de los clientes y determinar qué tarifa de prepago genera más ingresos.\n",
        "\n",
        "Describiremos entonces, el comportamiento de los clientes. Buscaremos los minutos, SMS y volumen de datos que requieren los datos que requieren los usuarios de cada tarifa por mes. Calcularemos, la varianza y la desviación estándar. Trazaremos histogramas para visualizar mejor estos datos y describiremos las distribuciones.\n",
        "\n",
        "Además, buscaremos probar las siguientes hipótesis:\n",
        "1. El ingreso promedio de los usuarios de las tarifas Ultimate y Surf difiere.\n",
        "2. El ingreso promedio de los usuarios en el área de estados Nueva York - Nueva Jersey es diferente al de los usuarios de otras regiones del país."
      ]
    },
    {
      "cell_type": "markdown",
      "metadata": {
        "id": "-OaqKhgU70d_"
      },
      "source": [
        "# Contenido <a id='back'></a>\n",
        "\n",
        "* [1 Inicialización](#inicio)\n",
        "    * [1.1 Cargar datos](#carga_datos)\n",
        "    * [1.2 Explorar datos iniciales](#explorar_datos)\n",
        "        * [1.2.1 La tabla megaline_calls](#tabla_megaline_calls)\n",
        "        * [1.2.2 La tabla megaline_internet](#tabla_megaline_internet) \n",
        "        * [1.2.3 La tabla megaline_messages](#tabla_megaline_messages) \n",
        "        * [1.2.4 La tabla megaline_plans](#tabla_megaline_plans)\n",
        "        * [1.2.5 La tabla megaline_users](#tabla_megaline_users)\n",
        "        * [1.2.6 Recapitulación de las tablas importadas](#recapitulacion_intro)\n",
        "    * [1.3 Convertir los datos en los tipos necesarios](#convertir_datos)\n",
        "    * [1.4 Revisar duplicados](#revisar_duplicados)\n",
        "    * [1.5 Revisión de valores en cero o ausentes](#valores_cero)\n",
        "    * [1.6 Preparación de las tablas](#preparación_tablas)\n",
        "        * [1.6.1 megaline_calls mejorada](#preparación_calls)\n",
        "        * [1.6.2 megaline_internet mejorada](#preparación_internet)\n",
        "        * [1.6.3 megaline_messages mejorada](#preparación_messages)\n",
        "        * [1.6.4 megaline_monthly_revenue](#preparación_revenue)\n",
        "* [2 Analisis de las tablas](#analisis_tablas)\n",
        "    * [2.1 Analisis de minutos por plan](#analisis_minutos)\n",
        "    * [2.2 Analisis de gigas utilizados](#analisis_sesiones)\n",
        "    * [2.3 Analisis de mensajes por plan](#analisis_mensajes)\n",
        "    * [2.4 Comportamiento de los usuarios por plan](#comportamiento_usuario)\n",
        "* [3 Comprobación de hipótesis](#comprobación_hipotesis)\n",
        "     * [3.1 Hipótesis I](#comprobación_hipotesis_1)\n",
        "     * [3.2 Hipótesis II](#comprobación_hipotesis_2)\n",
        "* [4 Conclusión general](#conclusion)\n",
        "\n",
        "    \n"
      ]
    },
    {
      "cell_type": "markdown",
      "metadata": {
        "id": "4iltana270d_"
      },
      "source": [
        "## Inicialización <a id='inicio'></a>"
      ]
    },
    {
      "cell_type": "markdown",
      "metadata": {
        "id": "91qKbjdb70d_"
      },
      "source": [
        "Con el fin de resolver nuestras dudas cargaremos las siguientes librerías:\n",
        "- Pandas\n",
        "- Matplotlib\n",
        "- numpy\n",
        "- scipy.stats"
      ]
    },
    {
      "cell_type": "code",
      "execution_count": null,
      "metadata": {
        "id": "wV43YLlz70d_"
      },
      "outputs": [],
      "source": [
        "import pandas as pd\n",
        "import matplotlib.pyplot as plt\n",
        "import numpy as np\n",
        "from scipy.stats import ttest_ind"
      ]
    },
    {
      "cell_type": "markdown",
      "metadata": {
        "id": "8NOabs-o70eA"
      },
      "source": [
        "### Cargas de datos: <a id='carga_datos'></a>"
      ]
    },
    {
      "cell_type": "markdown",
      "metadata": {
        "id": "NM1VB99H70eA"
      },
      "source": [
        "Recibimos cinco archivos que cargaremos a continuación, para luego poder comenzar a revisarlos y preparar los datos. El primer archivo contiene las llamadas, el segundo los datos de internet, luego tenemos uno con los datos de los mensajes, un cuarto archivo con los planes y el último con los usuarios. Revisaremos cada uno de ellos y crearemos una base única con todos los datos. Los cargaremos en líneas separadas por si necesitamos correr una celda individual a lo largo del estudio."
      ]
    },
    {
      "cell_type": "code",
      "execution_count": null,
      "metadata": {
        "id": "O-gtSLqv70eA"
      },
      "outputs": [],
      "source": [
        "megaline_calls = pd.read_csv('/datasets/megaline_calls.csv')"
      ]
    },
    {
      "cell_type": "code",
      "execution_count": null,
      "metadata": {
        "id": "IICpxq5P70eA"
      },
      "outputs": [],
      "source": [
        "megaline_internet = pd.read_csv('/datasets/megaline_internet.csv')"
      ]
    },
    {
      "cell_type": "code",
      "execution_count": null,
      "metadata": {
        "id": "m7NxBj_I70eA"
      },
      "outputs": [],
      "source": [
        "megaline_messages = pd.read_csv('/datasets/megaline_messages.csv')"
      ]
    },
    {
      "cell_type": "code",
      "execution_count": null,
      "metadata": {
        "id": "0p4LeJq070eA"
      },
      "outputs": [],
      "source": [
        "megaline_plans = pd.read_csv('/datasets/megaline_plans.csv')"
      ]
    },
    {
      "cell_type": "code",
      "execution_count": null,
      "metadata": {
        "id": "qPorB0sv70eA"
      },
      "outputs": [],
      "source": [
        "megaline_users = pd.read_csv('/datasets/megaline_users.csv')"
      ]
    },
    {
      "cell_type": "markdown",
      "metadata": {
        "id": "ZKDhmZdo70eB"
      },
      "source": [
        "### Explorar datos iniciales <a id='explorar_datos'></a>"
      ]
    },
    {
      "cell_type": "markdown",
      "metadata": {
        "id": "kFS6K8OQ70eB"
      },
      "source": [
        "#### La tabla megaline_calls <a id='tabla_megaline_calls'></a>"
      ]
    },
    {
      "cell_type": "markdown",
      "metadata": {
        "id": "Tc3OD_-W70eB"
      },
      "source": [
        "La tabla **megaline_calls** contiene los siguientes datos:\n",
        "- id — identificador único de la llamada\n",
        "- call_date — fecha de la llamada\n",
        "- duration — duración de la llamada (en minutos)\n",
        "- user_id — el identificador del usuario que realiza la llamada"
      ]
    },
    {
      "cell_type": "code",
      "execution_count": null,
      "metadata": {
        "id": "LCx9W_zR70eB",
        "outputId": "59158b12-8203-4355-8139-ca89ef944e2d"
      },
      "outputs": [
        {
          "name": "stdout",
          "output_type": "stream",
          "text": [
            "Presentación de las columnas de megaline_calls:\n",
            "Index(['id', 'user_id', 'call_date', 'duration'], dtype='object')\n",
            "\n",
            "Revisión del número de líneas de megaline_calls:\n",
            "137735 líneas.\n"
          ]
        }
      ],
      "source": [
        "print('Presentación de las columnas de megaline_calls:')\n",
        "print(megaline_calls.columns)\n",
        "print()\n",
        "print('Revisión del número de líneas de megaline_calls:')\n",
        "print(len(megaline_calls), 'líneas.')"
      ]
    },
    {
      "cell_type": "code",
      "execution_count": null,
      "metadata": {
        "id": "qGQIpn7270eB",
        "outputId": "97e36791-dde0-4d80-8c87-23a65f6a53e6"
      },
      "outputs": [
        {
          "name": "stdout",
          "output_type": "stream",
          "text": [
            "<class 'pandas.core.frame.DataFrame'>\n",
            "RangeIndex: 137735 entries, 0 to 137734\n",
            "Data columns (total 4 columns):\n",
            " #   Column     Non-Null Count   Dtype  \n",
            "---  ------     --------------   -----  \n",
            " 0   id         137735 non-null  object \n",
            " 1   user_id    137735 non-null  int64  \n",
            " 2   call_date  137735 non-null  object \n",
            " 3   duration   137735 non-null  float64\n",
            "dtypes: float64(1), int64(1), object(2)\n",
            "memory usage: 4.2+ MB\n"
          ]
        }
      ],
      "source": [
        "megaline_calls.info()"
      ]
    },
    {
      "cell_type": "code",
      "execution_count": null,
      "metadata": {
        "id": "4teOMsPc70eB",
        "outputId": "728297d2-9158-4f4c-dc19-605fcce35795"
      },
      "outputs": [
        {
          "data": {
            "text/html": [
              "<div>\n",
              "<style scoped>\n",
              "    .dataframe tbody tr th:only-of-type {\n",
              "        vertical-align: middle;\n",
              "    }\n",
              "\n",
              "    .dataframe tbody tr th {\n",
              "        vertical-align: top;\n",
              "    }\n",
              "\n",
              "    .dataframe thead th {\n",
              "        text-align: right;\n",
              "    }\n",
              "</style>\n",
              "<table border=\"1\" class=\"dataframe\">\n",
              "  <thead>\n",
              "    <tr style=\"text-align: right;\">\n",
              "      <th></th>\n",
              "      <th>id</th>\n",
              "      <th>user_id</th>\n",
              "      <th>call_date</th>\n",
              "      <th>duration</th>\n",
              "    </tr>\n",
              "  </thead>\n",
              "  <tbody>\n",
              "    <tr>\n",
              "      <th>0</th>\n",
              "      <td>1000_93</td>\n",
              "      <td>1000</td>\n",
              "      <td>2018-12-27</td>\n",
              "      <td>8.52</td>\n",
              "    </tr>\n",
              "    <tr>\n",
              "      <th>1</th>\n",
              "      <td>1000_145</td>\n",
              "      <td>1000</td>\n",
              "      <td>2018-12-27</td>\n",
              "      <td>13.66</td>\n",
              "    </tr>\n",
              "    <tr>\n",
              "      <th>2</th>\n",
              "      <td>1000_247</td>\n",
              "      <td>1000</td>\n",
              "      <td>2018-12-27</td>\n",
              "      <td>14.48</td>\n",
              "    </tr>\n",
              "    <tr>\n",
              "      <th>3</th>\n",
              "      <td>1000_309</td>\n",
              "      <td>1000</td>\n",
              "      <td>2018-12-28</td>\n",
              "      <td>5.76</td>\n",
              "    </tr>\n",
              "    <tr>\n",
              "      <th>4</th>\n",
              "      <td>1000_380</td>\n",
              "      <td>1000</td>\n",
              "      <td>2018-12-30</td>\n",
              "      <td>4.22</td>\n",
              "    </tr>\n",
              "  </tbody>\n",
              "</table>\n",
              "</div>"
            ],
            "text/plain": [
              "         id  user_id   call_date  duration\n",
              "0   1000_93     1000  2018-12-27      8.52\n",
              "1  1000_145     1000  2018-12-27     13.66\n",
              "2  1000_247     1000  2018-12-27     14.48\n",
              "3  1000_309     1000  2018-12-28      5.76\n",
              "4  1000_380     1000  2018-12-30      4.22"
            ]
          },
          "execution_count": 9,
          "metadata": {},
          "output_type": "execute_result"
        }
      ],
      "source": [
        "megaline_calls.head()"
      ]
    },
    {
      "cell_type": "code",
      "execution_count": null,
      "metadata": {
        "id": "8I5QW45c70eC",
        "outputId": "49f4d6ee-4004-4c5b-bff5-0e5a2893b07d"
      },
      "outputs": [
        {
          "data": {
            "text/html": [
              "<div>\n",
              "<style scoped>\n",
              "    .dataframe tbody tr th:only-of-type {\n",
              "        vertical-align: middle;\n",
              "    }\n",
              "\n",
              "    .dataframe tbody tr th {\n",
              "        vertical-align: top;\n",
              "    }\n",
              "\n",
              "    .dataframe thead th {\n",
              "        text-align: right;\n",
              "    }\n",
              "</style>\n",
              "<table border=\"1\" class=\"dataframe\">\n",
              "  <thead>\n",
              "    <tr style=\"text-align: right;\">\n",
              "      <th></th>\n",
              "      <th>id</th>\n",
              "      <th>user_id</th>\n",
              "      <th>call_date</th>\n",
              "      <th>duration</th>\n",
              "    </tr>\n",
              "  </thead>\n",
              "  <tbody>\n",
              "    <tr>\n",
              "      <th>137730</th>\n",
              "      <td>1499_199</td>\n",
              "      <td>1499</td>\n",
              "      <td>2018-11-21</td>\n",
              "      <td>8.72</td>\n",
              "    </tr>\n",
              "    <tr>\n",
              "      <th>137731</th>\n",
              "      <td>1499_200</td>\n",
              "      <td>1499</td>\n",
              "      <td>2018-10-20</td>\n",
              "      <td>10.89</td>\n",
              "    </tr>\n",
              "    <tr>\n",
              "      <th>137732</th>\n",
              "      <td>1499_201</td>\n",
              "      <td>1499</td>\n",
              "      <td>2018-09-21</td>\n",
              "      <td>8.12</td>\n",
              "    </tr>\n",
              "    <tr>\n",
              "      <th>137733</th>\n",
              "      <td>1499_202</td>\n",
              "      <td>1499</td>\n",
              "      <td>2018-10-10</td>\n",
              "      <td>0.37</td>\n",
              "    </tr>\n",
              "    <tr>\n",
              "      <th>137734</th>\n",
              "      <td>1499_203</td>\n",
              "      <td>1499</td>\n",
              "      <td>2018-12-29</td>\n",
              "      <td>13.86</td>\n",
              "    </tr>\n",
              "  </tbody>\n",
              "</table>\n",
              "</div>"
            ],
            "text/plain": [
              "              id  user_id   call_date  duration\n",
              "137730  1499_199     1499  2018-11-21      8.72\n",
              "137731  1499_200     1499  2018-10-20     10.89\n",
              "137732  1499_201     1499  2018-09-21      8.12\n",
              "137733  1499_202     1499  2018-10-10      0.37\n",
              "137734  1499_203     1499  2018-12-29     13.86"
            ]
          },
          "execution_count": 10,
          "metadata": {},
          "output_type": "execute_result"
        }
      ],
      "source": [
        "megaline_calls.tail()"
      ]
    },
    {
      "cell_type": "markdown",
      "metadata": {
        "id": "lnImzRuh70eC"
      },
      "source": [
        "La tabla **megaline_calls** tiene 4 columnas, los nombres de cada una tienen un formato correcto. Esta tabla consta de 137 mil 735 líneas y no tiene valores ausentes. Si analisamos rápidamente cada columna encontramos lo siguiente:\n",
        " - id : Esta columna es del tipo object, y no parece tener problemas, quizás valdría la pena analizar si hay duplicados en ella ya que en esta el identificador debería ser único.\n",
        " - user_id : Es una columna del tipo int64, pero creo que debería ser object ya que es más bien el nombre del usuario no un valor a calcular.\n",
        " - call_date : Esta columna es del tipo object pero la pasaremos a DateTime para poder utilizarla como fecha en nuestra investigación.\n",
        " - duration : Es una columna del tipo float64, está columna se ve correcta."
      ]
    },
    {
      "cell_type": "markdown",
      "metadata": {
        "id": "iSCGCgNx70eC"
      },
      "source": [
        "#### La tabla megaline_internet <a id='tabla_megaline_internet'></a>"
      ]
    },
    {
      "cell_type": "markdown",
      "metadata": {
        "id": "_oL-ms6J70eC"
      },
      "source": [
        "La tabla **megaline_internet** contiene los siguientes datos:\n",
        "- id — identificador único de la sesión\n",
        "- mb_used — el volumen de datos gastados durante la sesión (en megabytes)\n",
        "- session_date — fecha de la sesión web\n",
        "- user_id — identificador del usuario"
      ]
    },
    {
      "cell_type": "code",
      "execution_count": null,
      "metadata": {
        "id": "0n1ds3fX70eC",
        "outputId": "2b00377a-27d4-446e-f4a6-74d0fdb077a5"
      },
      "outputs": [
        {
          "name": "stdout",
          "output_type": "stream",
          "text": [
            "Presentación de las columnas de megaline_internet:\n",
            "Index(['id', 'user_id', 'session_date', 'mb_used'], dtype='object')\n",
            "\n",
            "Revisión del número de líneas de megaline_calls:\n",
            "104825 líneas.\n"
          ]
        }
      ],
      "source": [
        "print('Presentación de las columnas de megaline_internet:')\n",
        "print(megaline_internet.columns)\n",
        "print()\n",
        "print('Revisión del número de líneas de megaline_calls:')\n",
        "print(len(megaline_internet), 'líneas.')"
      ]
    },
    {
      "cell_type": "code",
      "execution_count": null,
      "metadata": {
        "id": "stv9afec70eC",
        "outputId": "0bfa01cd-2394-4b53-8a1e-797ddb699af1"
      },
      "outputs": [
        {
          "name": "stdout",
          "output_type": "stream",
          "text": [
            "<class 'pandas.core.frame.DataFrame'>\n",
            "RangeIndex: 104825 entries, 0 to 104824\n",
            "Data columns (total 4 columns):\n",
            " #   Column        Non-Null Count   Dtype  \n",
            "---  ------        --------------   -----  \n",
            " 0   id            104825 non-null  object \n",
            " 1   user_id       104825 non-null  int64  \n",
            " 2   session_date  104825 non-null  object \n",
            " 3   mb_used       104825 non-null  float64\n",
            "dtypes: float64(1), int64(1), object(2)\n",
            "memory usage: 3.2+ MB\n"
          ]
        }
      ],
      "source": [
        "megaline_internet.info()"
      ]
    },
    {
      "cell_type": "code",
      "execution_count": null,
      "metadata": {
        "id": "jJcCxXOx70eC",
        "outputId": "02aa5435-0050-4048-921e-f6442d6e93c3"
      },
      "outputs": [
        {
          "data": {
            "text/html": [
              "<div>\n",
              "<style scoped>\n",
              "    .dataframe tbody tr th:only-of-type {\n",
              "        vertical-align: middle;\n",
              "    }\n",
              "\n",
              "    .dataframe tbody tr th {\n",
              "        vertical-align: top;\n",
              "    }\n",
              "\n",
              "    .dataframe thead th {\n",
              "        text-align: right;\n",
              "    }\n",
              "</style>\n",
              "<table border=\"1\" class=\"dataframe\">\n",
              "  <thead>\n",
              "    <tr style=\"text-align: right;\">\n",
              "      <th></th>\n",
              "      <th>id</th>\n",
              "      <th>user_id</th>\n",
              "      <th>session_date</th>\n",
              "      <th>mb_used</th>\n",
              "    </tr>\n",
              "  </thead>\n",
              "  <tbody>\n",
              "    <tr>\n",
              "      <th>0</th>\n",
              "      <td>1000_13</td>\n",
              "      <td>1000</td>\n",
              "      <td>2018-12-29</td>\n",
              "      <td>89.86</td>\n",
              "    </tr>\n",
              "    <tr>\n",
              "      <th>1</th>\n",
              "      <td>1000_204</td>\n",
              "      <td>1000</td>\n",
              "      <td>2018-12-31</td>\n",
              "      <td>0.00</td>\n",
              "    </tr>\n",
              "    <tr>\n",
              "      <th>2</th>\n",
              "      <td>1000_379</td>\n",
              "      <td>1000</td>\n",
              "      <td>2018-12-28</td>\n",
              "      <td>660.40</td>\n",
              "    </tr>\n",
              "    <tr>\n",
              "      <th>3</th>\n",
              "      <td>1000_413</td>\n",
              "      <td>1000</td>\n",
              "      <td>2018-12-26</td>\n",
              "      <td>270.99</td>\n",
              "    </tr>\n",
              "    <tr>\n",
              "      <th>4</th>\n",
              "      <td>1000_442</td>\n",
              "      <td>1000</td>\n",
              "      <td>2018-12-27</td>\n",
              "      <td>880.22</td>\n",
              "    </tr>\n",
              "  </tbody>\n",
              "</table>\n",
              "</div>"
            ],
            "text/plain": [
              "         id  user_id session_date  mb_used\n",
              "0   1000_13     1000   2018-12-29    89.86\n",
              "1  1000_204     1000   2018-12-31     0.00\n",
              "2  1000_379     1000   2018-12-28   660.40\n",
              "3  1000_413     1000   2018-12-26   270.99\n",
              "4  1000_442     1000   2018-12-27   880.22"
            ]
          },
          "execution_count": 13,
          "metadata": {},
          "output_type": "execute_result"
        }
      ],
      "source": [
        "megaline_internet.head()"
      ]
    },
    {
      "cell_type": "code",
      "execution_count": null,
      "metadata": {
        "id": "whvn_qab70eD",
        "outputId": "51c06e31-f447-42f4-a8c6-19cc57f40a2c"
      },
      "outputs": [
        {
          "data": {
            "text/html": [
              "<div>\n",
              "<style scoped>\n",
              "    .dataframe tbody tr th:only-of-type {\n",
              "        vertical-align: middle;\n",
              "    }\n",
              "\n",
              "    .dataframe tbody tr th {\n",
              "        vertical-align: top;\n",
              "    }\n",
              "\n",
              "    .dataframe thead th {\n",
              "        text-align: right;\n",
              "    }\n",
              "</style>\n",
              "<table border=\"1\" class=\"dataframe\">\n",
              "  <thead>\n",
              "    <tr style=\"text-align: right;\">\n",
              "      <th></th>\n",
              "      <th>id</th>\n",
              "      <th>user_id</th>\n",
              "      <th>session_date</th>\n",
              "      <th>mb_used</th>\n",
              "    </tr>\n",
              "  </thead>\n",
              "  <tbody>\n",
              "    <tr>\n",
              "      <th>104820</th>\n",
              "      <td>1499_215</td>\n",
              "      <td>1499</td>\n",
              "      <td>2018-10-20</td>\n",
              "      <td>218.06</td>\n",
              "    </tr>\n",
              "    <tr>\n",
              "      <th>104821</th>\n",
              "      <td>1499_216</td>\n",
              "      <td>1499</td>\n",
              "      <td>2018-12-30</td>\n",
              "      <td>304.72</td>\n",
              "    </tr>\n",
              "    <tr>\n",
              "      <th>104822</th>\n",
              "      <td>1499_217</td>\n",
              "      <td>1499</td>\n",
              "      <td>2018-09-22</td>\n",
              "      <td>292.75</td>\n",
              "    </tr>\n",
              "    <tr>\n",
              "      <th>104823</th>\n",
              "      <td>1499_218</td>\n",
              "      <td>1499</td>\n",
              "      <td>2018-12-07</td>\n",
              "      <td>0.00</td>\n",
              "    </tr>\n",
              "    <tr>\n",
              "      <th>104824</th>\n",
              "      <td>1499_219</td>\n",
              "      <td>1499</td>\n",
              "      <td>2018-12-24</td>\n",
              "      <td>758.31</td>\n",
              "    </tr>\n",
              "  </tbody>\n",
              "</table>\n",
              "</div>"
            ],
            "text/plain": [
              "              id  user_id session_date  mb_used\n",
              "104820  1499_215     1499   2018-10-20   218.06\n",
              "104821  1499_216     1499   2018-12-30   304.72\n",
              "104822  1499_217     1499   2018-09-22   292.75\n",
              "104823  1499_218     1499   2018-12-07     0.00\n",
              "104824  1499_219     1499   2018-12-24   758.31"
            ]
          },
          "execution_count": 14,
          "metadata": {},
          "output_type": "execute_result"
        }
      ],
      "source": [
        "megaline_internet.tail()"
      ]
    },
    {
      "cell_type": "markdown",
      "metadata": {
        "id": "gMIAOWoy70eD"
      },
      "source": [
        "La tabla **megaline_internet** tiene 4 columnas también, los nombres de cada una tienen un formato correcto. Esta tabla consta de 104 mil 825 líneas y no tiene valores ausentes. Si analisamos rápidamente cada columna encontramos lo siguiente:\n",
        "\n",
        "- id : Esta columna es del tipo object, y no parece tener problemas, quizás valdría la pena analizar si hay duplicados en ella ya que en esta el identificador debería ser único.\n",
        "- user_id : Es una columna del tipo int64, pero creo que debería ser object ya que es más bien el nombre del usuario no un valor a calcular.\n",
        "- session_date : Esta columna es del tipo object pero la pasaremos a DateTime para poder utilizarla como fecha en nuestra investigación.\n",
        "- mb_used : Es una columna del tipo float64, está columna se ve correcta, sin embargo podemos notar tanto en la línea 1 como en la 104823 que el valor es 0.00 megabytes. Tendremos que analizar esos valores."
      ]
    },
    {
      "cell_type": "markdown",
      "metadata": {
        "id": "ncyzdUx370eD"
      },
      "source": [
        "#### La tabla megaline_messages <a id='tabla_megaline_messages'></a>"
      ]
    },
    {
      "cell_type": "markdown",
      "metadata": {
        "id": "tf-7Vxsk70eD"
      },
      "source": [
        "La tabla **megaline_messages** contiene los siguientes datos:\n",
        "- id — identificador único del SMS\n",
        "- message_date — fecha del SMS\n",
        "- user_id — el identificador del usuario que manda el SMS"
      ]
    },
    {
      "cell_type": "code",
      "execution_count": null,
      "metadata": {
        "id": "tcD98gva70eD",
        "outputId": "c04b53e1-e428-488d-dcf0-30abb8b6f549"
      },
      "outputs": [
        {
          "name": "stdout",
          "output_type": "stream",
          "text": [
            "Presentación de las columnas de megaline_internet:\n",
            "Index(['id', 'user_id', 'message_date'], dtype='object')\n",
            "\n",
            "Revisión del número de líneas de megaline_calls:\n",
            "76051 líneas.\n"
          ]
        }
      ],
      "source": [
        "print('Presentación de las columnas de megaline_internet:')\n",
        "print(megaline_messages.columns)\n",
        "print()\n",
        "print('Revisión del número de líneas de megaline_calls:')\n",
        "print(len(megaline_messages), 'líneas.')"
      ]
    },
    {
      "cell_type": "code",
      "execution_count": null,
      "metadata": {
        "id": "TTTbU2wE70eD",
        "outputId": "72363643-8502-48a6-d343-4cd9d6a3e636"
      },
      "outputs": [
        {
          "name": "stdout",
          "output_type": "stream",
          "text": [
            "<class 'pandas.core.frame.DataFrame'>\n",
            "RangeIndex: 76051 entries, 0 to 76050\n",
            "Data columns (total 3 columns):\n",
            " #   Column        Non-Null Count  Dtype \n",
            "---  ------        --------------  ----- \n",
            " 0   id            76051 non-null  object\n",
            " 1   user_id       76051 non-null  int64 \n",
            " 2   message_date  76051 non-null  object\n",
            "dtypes: int64(1), object(2)\n",
            "memory usage: 1.7+ MB\n"
          ]
        }
      ],
      "source": [
        "megaline_messages.info()"
      ]
    },
    {
      "cell_type": "code",
      "execution_count": null,
      "metadata": {
        "id": "UQnp01Q470eD",
        "outputId": "d06c21eb-03c9-41a3-a64a-a0bf8a28aee7"
      },
      "outputs": [
        {
          "data": {
            "text/html": [
              "<div>\n",
              "<style scoped>\n",
              "    .dataframe tbody tr th:only-of-type {\n",
              "        vertical-align: middle;\n",
              "    }\n",
              "\n",
              "    .dataframe tbody tr th {\n",
              "        vertical-align: top;\n",
              "    }\n",
              "\n",
              "    .dataframe thead th {\n",
              "        text-align: right;\n",
              "    }\n",
              "</style>\n",
              "<table border=\"1\" class=\"dataframe\">\n",
              "  <thead>\n",
              "    <tr style=\"text-align: right;\">\n",
              "      <th></th>\n",
              "      <th>id</th>\n",
              "      <th>user_id</th>\n",
              "      <th>message_date</th>\n",
              "    </tr>\n",
              "  </thead>\n",
              "  <tbody>\n",
              "    <tr>\n",
              "      <th>0</th>\n",
              "      <td>1000_125</td>\n",
              "      <td>1000</td>\n",
              "      <td>2018-12-27</td>\n",
              "    </tr>\n",
              "    <tr>\n",
              "      <th>1</th>\n",
              "      <td>1000_160</td>\n",
              "      <td>1000</td>\n",
              "      <td>2018-12-31</td>\n",
              "    </tr>\n",
              "    <tr>\n",
              "      <th>2</th>\n",
              "      <td>1000_223</td>\n",
              "      <td>1000</td>\n",
              "      <td>2018-12-31</td>\n",
              "    </tr>\n",
              "    <tr>\n",
              "      <th>3</th>\n",
              "      <td>1000_251</td>\n",
              "      <td>1000</td>\n",
              "      <td>2018-12-27</td>\n",
              "    </tr>\n",
              "    <tr>\n",
              "      <th>4</th>\n",
              "      <td>1000_255</td>\n",
              "      <td>1000</td>\n",
              "      <td>2018-12-26</td>\n",
              "    </tr>\n",
              "  </tbody>\n",
              "</table>\n",
              "</div>"
            ],
            "text/plain": [
              "         id  user_id message_date\n",
              "0  1000_125     1000   2018-12-27\n",
              "1  1000_160     1000   2018-12-31\n",
              "2  1000_223     1000   2018-12-31\n",
              "3  1000_251     1000   2018-12-27\n",
              "4  1000_255     1000   2018-12-26"
            ]
          },
          "execution_count": 17,
          "metadata": {},
          "output_type": "execute_result"
        }
      ],
      "source": [
        "megaline_messages.head()"
      ]
    },
    {
      "cell_type": "code",
      "execution_count": null,
      "metadata": {
        "id": "7vKG9Jq970eD",
        "outputId": "d5f4fe20-d5ba-4696-ef2a-7b62e9c1b5a2"
      },
      "outputs": [
        {
          "data": {
            "text/html": [
              "<div>\n",
              "<style scoped>\n",
              "    .dataframe tbody tr th:only-of-type {\n",
              "        vertical-align: middle;\n",
              "    }\n",
              "\n",
              "    .dataframe tbody tr th {\n",
              "        vertical-align: top;\n",
              "    }\n",
              "\n",
              "    .dataframe thead th {\n",
              "        text-align: right;\n",
              "    }\n",
              "</style>\n",
              "<table border=\"1\" class=\"dataframe\">\n",
              "  <thead>\n",
              "    <tr style=\"text-align: right;\">\n",
              "      <th></th>\n",
              "      <th>id</th>\n",
              "      <th>user_id</th>\n",
              "      <th>message_date</th>\n",
              "    </tr>\n",
              "  </thead>\n",
              "  <tbody>\n",
              "    <tr>\n",
              "      <th>76046</th>\n",
              "      <td>1497_526</td>\n",
              "      <td>1497</td>\n",
              "      <td>2018-12-24</td>\n",
              "    </tr>\n",
              "    <tr>\n",
              "      <th>76047</th>\n",
              "      <td>1497_536</td>\n",
              "      <td>1497</td>\n",
              "      <td>2018-12-24</td>\n",
              "    </tr>\n",
              "    <tr>\n",
              "      <th>76048</th>\n",
              "      <td>1497_547</td>\n",
              "      <td>1497</td>\n",
              "      <td>2018-12-31</td>\n",
              "    </tr>\n",
              "    <tr>\n",
              "      <th>76049</th>\n",
              "      <td>1497_558</td>\n",
              "      <td>1497</td>\n",
              "      <td>2018-12-24</td>\n",
              "    </tr>\n",
              "    <tr>\n",
              "      <th>76050</th>\n",
              "      <td>1497_613</td>\n",
              "      <td>1497</td>\n",
              "      <td>2018-12-23</td>\n",
              "    </tr>\n",
              "  </tbody>\n",
              "</table>\n",
              "</div>"
            ],
            "text/plain": [
              "             id  user_id message_date\n",
              "76046  1497_526     1497   2018-12-24\n",
              "76047  1497_536     1497   2018-12-24\n",
              "76048  1497_547     1497   2018-12-31\n",
              "76049  1497_558     1497   2018-12-24\n",
              "76050  1497_613     1497   2018-12-23"
            ]
          },
          "execution_count": 18,
          "metadata": {},
          "output_type": "execute_result"
        }
      ],
      "source": [
        "megaline_messages.tail()"
      ]
    },
    {
      "cell_type": "markdown",
      "metadata": {
        "id": "RpqAyaoB70eE"
      },
      "source": [
        "La tabla **megaline_messages** tiene 3 columnas, los nombres de cada una tienen un formato correcto. Esta tabla consta de 76 mil 051 líneas y no tiene valores ausentes. Si analisamos rápidamente cada columna encontramos lo siguiente:\n",
        "\n",
        "- id : Esta columna es del tipo object, y no parece tener problemas, quizás valdría la pena analizar si hay duplicados en ella ya que en esta el identificador debería ser único.\n",
        "- user_id : Es una columna del tipo int64, pero creo que debería ser object ya que es más bien el nombre del usuario no un valor a calcular.\n",
        "- message_date : Esta columna es del tipo object pero la pasaremos a DateTime para poder utilizarla como fecha en nuestra investigación."
      ]
    },
    {
      "cell_type": "markdown",
      "metadata": {
        "id": "8LbsfyH170eE"
      },
      "source": [
        "#### La tabla megaline_plans <a id='tabla_megaline_plans'></a>"
      ]
    },
    {
      "cell_type": "markdown",
      "metadata": {
        "id": "ddKwz7aa70eE"
      },
      "source": [
        "La tabla **megaline_plans** contiene los siguientes datos:\n",
        "- plan_name — nombre de la tarifa\n",
        "- usd_monthly_fee — pago mensual en dólares estadounidenses\n",
        "- minutes_included — minutos incluidos al mes\n",
        "- messages_included — SMS incluidos al mes\n",
        "- mb_per_month_included — datos incluidos al mes (en megabytes)\n",
        "- usd_per_minute — precio por minuto tras exceder los límites del paquete (por ejemplo, si el paquete incluye 100 minutos el operador cobrará el minuto 101)\n",
        "- usd_per_message — precio por SMS tras exceder los límites del paquete\n",
        "- usd_per_gb — precio por gigabyte de los datos extra tras exceder los límites del paquete (1 GB = 1024 megabytes)"
      ]
    },
    {
      "cell_type": "code",
      "execution_count": null,
      "metadata": {
        "id": "T32x1CD870eE",
        "outputId": "76cebf86-a570-427f-d6b4-0e412fad7c39"
      },
      "outputs": [
        {
          "name": "stdout",
          "output_type": "stream",
          "text": [
            "Presentación de las columnas de megaline_internet:\n",
            "Index(['messages_included', 'mb_per_month_included', 'minutes_included',\n",
            "       'usd_monthly_pay', 'usd_per_gb', 'usd_per_message', 'usd_per_minute',\n",
            "       'plan_name'],\n",
            "      dtype='object')\n",
            "\n",
            "Revisión del número de líneas de megaline_calls:\n",
            "2 líneas.\n"
          ]
        }
      ],
      "source": [
        "print('Presentación de las columnas de megaline_internet:')\n",
        "print(megaline_plans.columns)\n",
        "print()\n",
        "print('Revisión del número de líneas de megaline_calls:')\n",
        "print(len(megaline_plans), 'líneas.')"
      ]
    },
    {
      "cell_type": "code",
      "execution_count": null,
      "metadata": {
        "id": "bGjwmaYK70eE",
        "outputId": "587be07c-c220-4ecc-990d-a8945a1201de"
      },
      "outputs": [
        {
          "name": "stdout",
          "output_type": "stream",
          "text": [
            "<class 'pandas.core.frame.DataFrame'>\n",
            "RangeIndex: 2 entries, 0 to 1\n",
            "Data columns (total 8 columns):\n",
            " #   Column                 Non-Null Count  Dtype  \n",
            "---  ------                 --------------  -----  \n",
            " 0   messages_included      2 non-null      int64  \n",
            " 1   mb_per_month_included  2 non-null      int64  \n",
            " 2   minutes_included       2 non-null      int64  \n",
            " 3   usd_monthly_pay        2 non-null      int64  \n",
            " 4   usd_per_gb             2 non-null      int64  \n",
            " 5   usd_per_message        2 non-null      float64\n",
            " 6   usd_per_minute         2 non-null      float64\n",
            " 7   plan_name              2 non-null      object \n",
            "dtypes: float64(2), int64(5), object(1)\n",
            "memory usage: 256.0+ bytes\n"
          ]
        }
      ],
      "source": [
        "megaline_plans.info()"
      ]
    },
    {
      "cell_type": "code",
      "execution_count": null,
      "metadata": {
        "id": "58Vw0v6-70eE",
        "outputId": "6fccd607-0f99-4e9a-da7b-cbd5cc9d3520"
      },
      "outputs": [
        {
          "data": {
            "text/html": [
              "<div>\n",
              "<style scoped>\n",
              "    .dataframe tbody tr th:only-of-type {\n",
              "        vertical-align: middle;\n",
              "    }\n",
              "\n",
              "    .dataframe tbody tr th {\n",
              "        vertical-align: top;\n",
              "    }\n",
              "\n",
              "    .dataframe thead th {\n",
              "        text-align: right;\n",
              "    }\n",
              "</style>\n",
              "<table border=\"1\" class=\"dataframe\">\n",
              "  <thead>\n",
              "    <tr style=\"text-align: right;\">\n",
              "      <th></th>\n",
              "      <th>messages_included</th>\n",
              "      <th>mb_per_month_included</th>\n",
              "      <th>minutes_included</th>\n",
              "      <th>usd_monthly_pay</th>\n",
              "      <th>usd_per_gb</th>\n",
              "      <th>usd_per_message</th>\n",
              "      <th>usd_per_minute</th>\n",
              "      <th>plan_name</th>\n",
              "    </tr>\n",
              "  </thead>\n",
              "  <tbody>\n",
              "    <tr>\n",
              "      <th>0</th>\n",
              "      <td>50</td>\n",
              "      <td>15360</td>\n",
              "      <td>500</td>\n",
              "      <td>20</td>\n",
              "      <td>10</td>\n",
              "      <td>0.03</td>\n",
              "      <td>0.03</td>\n",
              "      <td>surf</td>\n",
              "    </tr>\n",
              "    <tr>\n",
              "      <th>1</th>\n",
              "      <td>1000</td>\n",
              "      <td>30720</td>\n",
              "      <td>3000</td>\n",
              "      <td>70</td>\n",
              "      <td>7</td>\n",
              "      <td>0.01</td>\n",
              "      <td>0.01</td>\n",
              "      <td>ultimate</td>\n",
              "    </tr>\n",
              "  </tbody>\n",
              "</table>\n",
              "</div>"
            ],
            "text/plain": [
              "   messages_included  mb_per_month_included  minutes_included  \\\n",
              "0                 50                  15360               500   \n",
              "1               1000                  30720              3000   \n",
              "\n",
              "   usd_monthly_pay  usd_per_gb  usd_per_message  usd_per_minute plan_name  \n",
              "0               20          10             0.03            0.03      surf  \n",
              "1               70           7             0.01            0.01  ultimate  "
            ]
          },
          "execution_count": 21,
          "metadata": {},
          "output_type": "execute_result"
        }
      ],
      "source": [
        "megaline_plans.head()"
      ]
    },
    {
      "cell_type": "markdown",
      "metadata": {
        "id": "pyvdwrbV70eE"
      },
      "source": [
        "La tabla **megaline_plans** tiene 8 columnas, los nombres de cada una tienen un formato correcto. Esta tabla consta de 2 líneas y no tiene valores ausentes. Los datos recibidos se ven en el tipo correcto para cada columna. "
      ]
    },
    {
      "cell_type": "markdown",
      "metadata": {
        "id": "Juh8otoe70eE"
      },
      "source": [
        "#### La tabla megaline_users <a id='tabla_megaline_users'></a>"
      ]
    },
    {
      "cell_type": "markdown",
      "metadata": {
        "id": "yZUPBuv070eE"
      },
      "source": [
        "La tabla **megaline_users** contiene los siguientes datos:\n",
        "- user_id — identificador único del usuario\n",
        "- first_name — nombre del usuario\n",
        "- last_name — apellido del usuario\n",
        "- age — edad del usuario (en años)\n",
        "- reg_date — fecha de suscripción (dd, mm, aa)\n",
        "- churn_date — la fecha en que el usuario dejó de usar el servicio (si el valor es ausente, la tarifa se estaba usando cuando se recuperaron estos datos)\n",
        "- city — ciudad de residencia del usuario\n",
        "- plan — nombre de la tarifa"
      ]
    },
    {
      "cell_type": "code",
      "execution_count": null,
      "metadata": {
        "id": "s_c7fItO70eE",
        "outputId": "a75b975b-6e79-4707-c9cd-6cf5dd222cc8"
      },
      "outputs": [
        {
          "name": "stdout",
          "output_type": "stream",
          "text": [
            "Presentación de las columnas de megaline_internet:\n",
            "Index(['user_id', 'first_name', 'last_name', 'age', 'city', 'reg_date', 'plan',\n",
            "       'churn_date'],\n",
            "      dtype='object')\n",
            "\n",
            "Revisión del número de líneas de megaline_calls:\n",
            "500 líneas.\n"
          ]
        }
      ],
      "source": [
        "print('Presentación de las columnas de megaline_internet:')\n",
        "print(megaline_users.columns)\n",
        "print()\n",
        "print('Revisión del número de líneas de megaline_calls:')\n",
        "print(len(megaline_users), 'líneas.')"
      ]
    },
    {
      "cell_type": "code",
      "execution_count": null,
      "metadata": {
        "id": "hgy1qn6F70eE",
        "outputId": "a074fd37-0363-4289-9886-c066a51efc9c"
      },
      "outputs": [
        {
          "name": "stdout",
          "output_type": "stream",
          "text": [
            "<class 'pandas.core.frame.DataFrame'>\n",
            "RangeIndex: 500 entries, 0 to 499\n",
            "Data columns (total 8 columns):\n",
            " #   Column      Non-Null Count  Dtype \n",
            "---  ------      --------------  ----- \n",
            " 0   user_id     500 non-null    int64 \n",
            " 1   first_name  500 non-null    object\n",
            " 2   last_name   500 non-null    object\n",
            " 3   age         500 non-null    int64 \n",
            " 4   city        500 non-null    object\n",
            " 5   reg_date    500 non-null    object\n",
            " 6   plan        500 non-null    object\n",
            " 7   churn_date  34 non-null     object\n",
            "dtypes: int64(2), object(6)\n",
            "memory usage: 31.4+ KB\n"
          ]
        }
      ],
      "source": [
        "megaline_users.info()"
      ]
    },
    {
      "cell_type": "code",
      "execution_count": null,
      "metadata": {
        "id": "QpcBBZig70eF",
        "outputId": "7ffdaf56-9703-43ce-87db-6959835f2d53"
      },
      "outputs": [
        {
          "data": {
            "text/html": [
              "<div>\n",
              "<style scoped>\n",
              "    .dataframe tbody tr th:only-of-type {\n",
              "        vertical-align: middle;\n",
              "    }\n",
              "\n",
              "    .dataframe tbody tr th {\n",
              "        vertical-align: top;\n",
              "    }\n",
              "\n",
              "    .dataframe thead th {\n",
              "        text-align: right;\n",
              "    }\n",
              "</style>\n",
              "<table border=\"1\" class=\"dataframe\">\n",
              "  <thead>\n",
              "    <tr style=\"text-align: right;\">\n",
              "      <th></th>\n",
              "      <th>user_id</th>\n",
              "      <th>first_name</th>\n",
              "      <th>last_name</th>\n",
              "      <th>age</th>\n",
              "      <th>city</th>\n",
              "      <th>reg_date</th>\n",
              "      <th>plan</th>\n",
              "      <th>churn_date</th>\n",
              "    </tr>\n",
              "  </thead>\n",
              "  <tbody>\n",
              "    <tr>\n",
              "      <th>0</th>\n",
              "      <td>1000</td>\n",
              "      <td>Anamaria</td>\n",
              "      <td>Bauer</td>\n",
              "      <td>45</td>\n",
              "      <td>Atlanta-Sandy Springs-Roswell, GA MSA</td>\n",
              "      <td>2018-12-24</td>\n",
              "      <td>ultimate</td>\n",
              "      <td>NaN</td>\n",
              "    </tr>\n",
              "    <tr>\n",
              "      <th>1</th>\n",
              "      <td>1001</td>\n",
              "      <td>Mickey</td>\n",
              "      <td>Wilkerson</td>\n",
              "      <td>28</td>\n",
              "      <td>Seattle-Tacoma-Bellevue, WA MSA</td>\n",
              "      <td>2018-08-13</td>\n",
              "      <td>surf</td>\n",
              "      <td>NaN</td>\n",
              "    </tr>\n",
              "    <tr>\n",
              "      <th>2</th>\n",
              "      <td>1002</td>\n",
              "      <td>Carlee</td>\n",
              "      <td>Hoffman</td>\n",
              "      <td>36</td>\n",
              "      <td>Las Vegas-Henderson-Paradise, NV MSA</td>\n",
              "      <td>2018-10-21</td>\n",
              "      <td>surf</td>\n",
              "      <td>NaN</td>\n",
              "    </tr>\n",
              "    <tr>\n",
              "      <th>3</th>\n",
              "      <td>1003</td>\n",
              "      <td>Reynaldo</td>\n",
              "      <td>Jenkins</td>\n",
              "      <td>52</td>\n",
              "      <td>Tulsa, OK MSA</td>\n",
              "      <td>2018-01-28</td>\n",
              "      <td>surf</td>\n",
              "      <td>NaN</td>\n",
              "    </tr>\n",
              "    <tr>\n",
              "      <th>4</th>\n",
              "      <td>1004</td>\n",
              "      <td>Leonila</td>\n",
              "      <td>Thompson</td>\n",
              "      <td>40</td>\n",
              "      <td>Seattle-Tacoma-Bellevue, WA MSA</td>\n",
              "      <td>2018-05-23</td>\n",
              "      <td>surf</td>\n",
              "      <td>NaN</td>\n",
              "    </tr>\n",
              "  </tbody>\n",
              "</table>\n",
              "</div>"
            ],
            "text/plain": [
              "   user_id first_name  last_name  age                                   city  \\\n",
              "0     1000   Anamaria      Bauer   45  Atlanta-Sandy Springs-Roswell, GA MSA   \n",
              "1     1001     Mickey  Wilkerson   28        Seattle-Tacoma-Bellevue, WA MSA   \n",
              "2     1002     Carlee    Hoffman   36   Las Vegas-Henderson-Paradise, NV MSA   \n",
              "3     1003   Reynaldo    Jenkins   52                          Tulsa, OK MSA   \n",
              "4     1004    Leonila   Thompson   40        Seattle-Tacoma-Bellevue, WA MSA   \n",
              "\n",
              "     reg_date      plan churn_date  \n",
              "0  2018-12-24  ultimate        NaN  \n",
              "1  2018-08-13      surf        NaN  \n",
              "2  2018-10-21      surf        NaN  \n",
              "3  2018-01-28      surf        NaN  \n",
              "4  2018-05-23      surf        NaN  "
            ]
          },
          "execution_count": 24,
          "metadata": {},
          "output_type": "execute_result"
        }
      ],
      "source": [
        "megaline_users.head()"
      ]
    },
    {
      "cell_type": "code",
      "execution_count": null,
      "metadata": {
        "id": "cI2l0sne70eF",
        "outputId": "c6193c88-9bcc-4db6-9c2c-b7491aa4505f"
      },
      "outputs": [
        {
          "data": {
            "text/html": [
              "<div>\n",
              "<style scoped>\n",
              "    .dataframe tbody tr th:only-of-type {\n",
              "        vertical-align: middle;\n",
              "    }\n",
              "\n",
              "    .dataframe tbody tr th {\n",
              "        vertical-align: top;\n",
              "    }\n",
              "\n",
              "    .dataframe thead th {\n",
              "        text-align: right;\n",
              "    }\n",
              "</style>\n",
              "<table border=\"1\" class=\"dataframe\">\n",
              "  <thead>\n",
              "    <tr style=\"text-align: right;\">\n",
              "      <th></th>\n",
              "      <th>user_id</th>\n",
              "      <th>first_name</th>\n",
              "      <th>last_name</th>\n",
              "      <th>age</th>\n",
              "      <th>city</th>\n",
              "      <th>reg_date</th>\n",
              "      <th>plan</th>\n",
              "      <th>churn_date</th>\n",
              "    </tr>\n",
              "  </thead>\n",
              "  <tbody>\n",
              "    <tr>\n",
              "      <th>495</th>\n",
              "      <td>1495</td>\n",
              "      <td>Fidel</td>\n",
              "      <td>Sharpe</td>\n",
              "      <td>67</td>\n",
              "      <td>New York-Newark-Jersey City, NY-NJ-PA MSA</td>\n",
              "      <td>2018-09-04</td>\n",
              "      <td>surf</td>\n",
              "      <td>NaN</td>\n",
              "    </tr>\n",
              "    <tr>\n",
              "      <th>496</th>\n",
              "      <td>1496</td>\n",
              "      <td>Ariel</td>\n",
              "      <td>Shepherd</td>\n",
              "      <td>49</td>\n",
              "      <td>New Orleans-Metairie, LA MSA</td>\n",
              "      <td>2018-02-20</td>\n",
              "      <td>surf</td>\n",
              "      <td>NaN</td>\n",
              "    </tr>\n",
              "    <tr>\n",
              "      <th>497</th>\n",
              "      <td>1497</td>\n",
              "      <td>Donte</td>\n",
              "      <td>Barrera</td>\n",
              "      <td>49</td>\n",
              "      <td>Los Angeles-Long Beach-Anaheim, CA MSA</td>\n",
              "      <td>2018-12-10</td>\n",
              "      <td>ultimate</td>\n",
              "      <td>NaN</td>\n",
              "    </tr>\n",
              "    <tr>\n",
              "      <th>498</th>\n",
              "      <td>1498</td>\n",
              "      <td>Scot</td>\n",
              "      <td>Williamson</td>\n",
              "      <td>51</td>\n",
              "      <td>New York-Newark-Jersey City, NY-NJ-PA MSA</td>\n",
              "      <td>2018-02-04</td>\n",
              "      <td>surf</td>\n",
              "      <td>NaN</td>\n",
              "    </tr>\n",
              "    <tr>\n",
              "      <th>499</th>\n",
              "      <td>1499</td>\n",
              "      <td>Shena</td>\n",
              "      <td>Dickson</td>\n",
              "      <td>37</td>\n",
              "      <td>Orlando-Kissimmee-Sanford, FL MSA</td>\n",
              "      <td>2018-05-06</td>\n",
              "      <td>surf</td>\n",
              "      <td>NaN</td>\n",
              "    </tr>\n",
              "  </tbody>\n",
              "</table>\n",
              "</div>"
            ],
            "text/plain": [
              "     user_id first_name   last_name  age  \\\n",
              "495     1495      Fidel      Sharpe   67   \n",
              "496     1496      Ariel    Shepherd   49   \n",
              "497     1497      Donte     Barrera   49   \n",
              "498     1498       Scot  Williamson   51   \n",
              "499     1499      Shena     Dickson   37   \n",
              "\n",
              "                                          city    reg_date      plan  \\\n",
              "495  New York-Newark-Jersey City, NY-NJ-PA MSA  2018-09-04      surf   \n",
              "496               New Orleans-Metairie, LA MSA  2018-02-20      surf   \n",
              "497     Los Angeles-Long Beach-Anaheim, CA MSA  2018-12-10  ultimate   \n",
              "498  New York-Newark-Jersey City, NY-NJ-PA MSA  2018-02-04      surf   \n",
              "499          Orlando-Kissimmee-Sanford, FL MSA  2018-05-06      surf   \n",
              "\n",
              "    churn_date  \n",
              "495        NaN  \n",
              "496        NaN  \n",
              "497        NaN  \n",
              "498        NaN  \n",
              "499        NaN  "
            ]
          },
          "execution_count": 25,
          "metadata": {},
          "output_type": "execute_result"
        }
      ],
      "source": [
        "megaline_users.tail()"
      ]
    },
    {
      "cell_type": "markdown",
      "metadata": {
        "id": "tnl96-mZ70eF"
      },
      "source": [
        "La tabla **megaline_users** tiene 8 columnas, los nombres de cada una tienen un formato correcto. Esta tabla consta de 500 y solo tiene valores ausentes en la columna *churn_date*. Si analisamos rápidamente cada columna encontramos lo siguiente:\n",
        "\n",
        "- user_id : Es una columna del tipo int64, pero creo que debería ser object ya que es más bien el nombre del usuario no un valor a calcular.\n",
        "- first_name y last_name : Son las columnas correspondientes a los nombres y ambas son tipo object. \n",
        "- age : Esta columna es del tipo int64.\n",
        "- city : Esta columna corresponde a la ciudad e incluye el código postal, es del tipo object.\n",
        "- reg_date : Esta columna es del tipo object pero la transformaremos al tipo DateTime ya que es una fecha.\n",
        "- plan : Esta columna es del tipo object y está bien.\n",
        "- churn_date : contiene solo 34 datos que corresponde a usuario que fueron dados de baja, los valores ausentes entonces corresponde a usuarios aún vigentes. "
      ]
    },
    {
      "cell_type": "markdown",
      "metadata": {
        "id": "fa_OpIOJ70eF"
      },
      "source": [
        "#### Recapitulación de las tablas importadas <a id='recapitulacion_intro'></a>"
      ]
    },
    {
      "cell_type": "markdown",
      "metadata": {
        "id": "JW0yW2KT70eF"
      },
      "source": [
        "Al revisar nuestros 5 datasets podemos notar que *megaline_calls*, *megaline_internet*, *megaline_messages* y *megaline_users* tienen en común la columna *user_id* (que pasaremos en todas las bases del tipo int64 a object), además estas cinco bases tienen fechas que pasaremos del tipo object a DateTime. Notamos también que *megaline_users* tiene la columna *plan* que coincide con *plan_name* en *megaline_plans*. Entonces, para que las tablas sean congruentes, nos conviene cambiar el nombre de la columna 'plan_name' a solo 'plan'.\n",
        "\n",
        "Solo, por precausión, vamos a revisar si hay duplicados en las columnas *id* de *megaline_calls*, *megaline_internet* y *megaline_messages*, también revisaremos duplicados en la columna *user_id* de *megaline_users*.\n",
        "\n",
        "Algunos puntos a tener en consideración con ciertas columnas, en base a los reglamentos tarifarios de Megaline:\n",
        "\"Megaline redondea los segundos a minutos y los megabytes a gigabytes. Para llamadas, cada llamada individual se redondea: incluso si la llamada duró solo un segundo, se contará como un minuto. Para tráfico web, las sesiones web individuales no se redondean. En vez de esto, el total del mes se redondea hacia arriba. Si alguien usa 1025 megabytes este mes, se le cobrarán 2 gigabytes.\"\n",
        "- megaline_calls / duration: La tabla nos presenta los datos en minutos (8.52), por lo tanto podría ser mejor redondear los resultados hacia arriba (9 en el ejemplo).\n",
        "- megaline_internet / mb_used: la tabla nos presenta los megabytes usados en la sessión. Entonces, tendremos que agrupar las sesiones del mes y el resultado redondearlo hacia arriba.\n",
        "\n",
        "Finalmente, tendremos que revisar las columnas de *duration* y *mb_used* (arriba mencionada) para analizar los valores en 0, lo mismo con la columna *churn_data* (de *megaline_users*) para ver la repercusión de los valores ausentes (si es que la hay)."
      ]
    },
    {
      "cell_type": "markdown",
      "metadata": {
        "id": "sHmIXlh670eF"
      },
      "source": [
        "### Convertir los datos en los tipos necesarios <a id='convertir_datos'></a>"
      ]
    },
    {
      "cell_type": "markdown",
      "metadata": {
        "id": "eruxeYsp70eF"
      },
      "source": [
        "Lo primero será pasar nuestras cuatro columnas de 'user_id' del tipo int64 a object: "
      ]
    },
    {
      "cell_type": "code",
      "execution_count": null,
      "metadata": {
        "id": "TvL9Ice370eF"
      },
      "outputs": [],
      "source": [
        "megaline_calls['user_id'] = megaline_calls['user_id'].astype('object')\n",
        "megaline_internet['user_id'] = megaline_internet['user_id'].astype('object')\n",
        "megaline_messages['user_id'] = megaline_messages['user_id'].astype('object')\n",
        "megaline_users['user_id'] = megaline_users['user_id'].astype('object')"
      ]
    },
    {
      "cell_type": "markdown",
      "metadata": {
        "id": "xnj4qMhn70eF"
      },
      "source": [
        "Ahora pasaremos las fechas a formato DateTIme:"
      ]
    },
    {
      "cell_type": "code",
      "execution_count": null,
      "metadata": {
        "id": "AG4i1SMT70eG"
      },
      "outputs": [],
      "source": [
        "megaline_calls['call_date'] = pd.to_datetime(megaline_calls['call_date'], format='%Y-%m-%d')\n",
        "megaline_internet['session_date'] = pd.to_datetime(megaline_internet['session_date'], format='%Y-%m-%d')\n",
        "megaline_messages['message_date'] = pd.to_datetime(megaline_messages['message_date'], format='%Y-%m-%d')\n",
        "megaline_users['reg_date'] = pd.to_datetime(megaline_users['reg_date'], format='%Y-%m-%d')"
      ]
    },
    {
      "cell_type": "markdown",
      "metadata": {
        "id": "q3u-e2OG70eG"
      },
      "source": [
        "Comprobaremos los cambios realizados:"
      ]
    },
    {
      "cell_type": "code",
      "execution_count": null,
      "metadata": {
        "id": "vFwzHxfO70eG",
        "outputId": "d3c2ca9f-e719-4f8c-b35a-d3c5dfd729c2"
      },
      "outputs": [
        {
          "name": "stdout",
          "output_type": "stream",
          "text": [
            "<class 'pandas.core.frame.DataFrame'>\n",
            "RangeIndex: 137735 entries, 0 to 137734\n",
            "Data columns (total 4 columns):\n",
            " #   Column     Non-Null Count   Dtype         \n",
            "---  ------     --------------   -----         \n",
            " 0   id         137735 non-null  object        \n",
            " 1   user_id    137735 non-null  object        \n",
            " 2   call_date  137735 non-null  datetime64[ns]\n",
            " 3   duration   137735 non-null  float64       \n",
            "dtypes: datetime64[ns](1), float64(1), object(2)\n",
            "memory usage: 4.2+ MB\n"
          ]
        }
      ],
      "source": [
        "megaline_calls.info()"
      ]
    },
    {
      "cell_type": "code",
      "execution_count": null,
      "metadata": {
        "id": "Rw0O07kC70eG",
        "outputId": "46605aff-5b5b-4947-e62c-e70d3ff5dff3"
      },
      "outputs": [
        {
          "name": "stdout",
          "output_type": "stream",
          "text": [
            "<class 'pandas.core.frame.DataFrame'>\n",
            "RangeIndex: 104825 entries, 0 to 104824\n",
            "Data columns (total 4 columns):\n",
            " #   Column        Non-Null Count   Dtype         \n",
            "---  ------        --------------   -----         \n",
            " 0   id            104825 non-null  object        \n",
            " 1   user_id       104825 non-null  object        \n",
            " 2   session_date  104825 non-null  datetime64[ns]\n",
            " 3   mb_used       104825 non-null  float64       \n",
            "dtypes: datetime64[ns](1), float64(1), object(2)\n",
            "memory usage: 3.2+ MB\n"
          ]
        }
      ],
      "source": [
        "megaline_internet.info()"
      ]
    },
    {
      "cell_type": "code",
      "execution_count": null,
      "metadata": {
        "id": "hvqxl_Id70eG",
        "outputId": "fec22aa2-ee45-4a85-b418-bece61c777d1"
      },
      "outputs": [
        {
          "name": "stdout",
          "output_type": "stream",
          "text": [
            "<class 'pandas.core.frame.DataFrame'>\n",
            "RangeIndex: 76051 entries, 0 to 76050\n",
            "Data columns (total 3 columns):\n",
            " #   Column        Non-Null Count  Dtype         \n",
            "---  ------        --------------  -----         \n",
            " 0   id            76051 non-null  object        \n",
            " 1   user_id       76051 non-null  object        \n",
            " 2   message_date  76051 non-null  datetime64[ns]\n",
            "dtypes: datetime64[ns](1), object(2)\n",
            "memory usage: 1.7+ MB\n"
          ]
        }
      ],
      "source": [
        "megaline_messages.info()"
      ]
    },
    {
      "cell_type": "code",
      "execution_count": null,
      "metadata": {
        "id": "QRPf4Q9S70eG",
        "outputId": "ae2c1621-dc56-46d3-bca8-5c2430671096"
      },
      "outputs": [
        {
          "name": "stdout",
          "output_type": "stream",
          "text": [
            "<class 'pandas.core.frame.DataFrame'>\n",
            "RangeIndex: 500 entries, 0 to 499\n",
            "Data columns (total 8 columns):\n",
            " #   Column      Non-Null Count  Dtype         \n",
            "---  ------      --------------  -----         \n",
            " 0   user_id     500 non-null    object        \n",
            " 1   first_name  500 non-null    object        \n",
            " 2   last_name   500 non-null    object        \n",
            " 3   age         500 non-null    int64         \n",
            " 4   city        500 non-null    object        \n",
            " 5   reg_date    500 non-null    datetime64[ns]\n",
            " 6   plan        500 non-null    object        \n",
            " 7   churn_date  34 non-null     object        \n",
            "dtypes: datetime64[ns](1), int64(1), object(6)\n",
            "memory usage: 31.4+ KB\n"
          ]
        }
      ],
      "source": [
        "megaline_users.info()"
      ]
    },
    {
      "cell_type": "markdown",
      "metadata": {
        "id": "I06zy2O070eG"
      },
      "source": [
        "Se regularizaron las columnas de 'user_id' y las columnas de fechas de los datasets *megaline_calls*, *megaline_internet*, *megaline_messages* y *megaline_users*. Ahora estas son del tipo object y datetime64 respectivamente."
      ]
    },
    {
      "cell_type": "markdown",
      "metadata": {
        "id": "JZQgrgfw70eG"
      },
      "source": [
        "### Revisar duplicados <a id='revisar_duplicados'></a>"
      ]
    },
    {
      "cell_type": "markdown",
      "metadata": {
        "id": "HfN5Knig70eG"
      },
      "source": [
        "Revisaremos si hay duplicados en las columnas *id* de *megaline_calls*, *megaline_internet* y *megaline_messages*, también revisaremos duplicados en la columna *user_id* de *megaline_users*."
      ]
    },
    {
      "cell_type": "code",
      "execution_count": null,
      "metadata": {
        "id": "JATKlsLo70eH",
        "outputId": "139f2c8c-afaa-49c5-99ef-88c52ce8dcbd"
      },
      "outputs": [
        {
          "data": {
            "text/plain": [
              "0"
            ]
          },
          "execution_count": 32,
          "metadata": {},
          "output_type": "execute_result"
        }
      ],
      "source": [
        "megaline_calls['id'].duplicated().sum()"
      ]
    },
    {
      "cell_type": "code",
      "execution_count": null,
      "metadata": {
        "id": "RzzsXSLg70eH",
        "outputId": "e4a6c5da-0e6d-48f6-c354-3d4111332257"
      },
      "outputs": [
        {
          "data": {
            "text/plain": [
              "0"
            ]
          },
          "execution_count": 33,
          "metadata": {},
          "output_type": "execute_result"
        }
      ],
      "source": [
        "megaline_internet['id'].duplicated().sum()"
      ]
    },
    {
      "cell_type": "code",
      "execution_count": null,
      "metadata": {
        "id": "M9sJAqhi70eH",
        "outputId": "2b3ba5c1-ba4d-4dc5-eb4f-e3298122e719"
      },
      "outputs": [
        {
          "data": {
            "text/plain": [
              "0"
            ]
          },
          "execution_count": 34,
          "metadata": {},
          "output_type": "execute_result"
        }
      ],
      "source": [
        "megaline_messages['id'].duplicated().sum()"
      ]
    },
    {
      "cell_type": "code",
      "execution_count": null,
      "metadata": {
        "id": "1wQJO4AB70eH",
        "outputId": "636f03f8-e1a3-4ddf-d74b-5728b11b9d9e"
      },
      "outputs": [
        {
          "data": {
            "text/plain": [
              "0"
            ]
          },
          "execution_count": 35,
          "metadata": {},
          "output_type": "execute_result"
        }
      ],
      "source": [
        "megaline_users['user_id'].duplicated().sum()"
      ]
    },
    {
      "cell_type": "markdown",
      "metadata": {
        "id": "mW8JHx9a70eH"
      },
      "source": [
        "En ninguna de las columnas relevantes encontramos códigos duplicados, efectivamente tenemos solo identificadores unicos."
      ]
    },
    {
      "cell_type": "markdown",
      "metadata": {
        "id": "PISugDkp70eH"
      },
      "source": [
        "### Revisión de valores en cero o ausentes <a id='valores_cero'></a>"
      ]
    },
    {
      "cell_type": "markdown",
      "metadata": {
        "id": "K8vD6fTy70eH"
      },
      "source": [
        "En esta sección nos enfocaremos en la columna 'churn_date' de megaline_users que tiene muchos valores ausentes, y las columnas de duration y mb_used de magaline_calls y megaline_internet respectivamente, para definir si los valores en cero corresponden a valores extraños y obviables o si podrían afectar de alguna manera nuestro estudio. Lo primero que analizaremos es el porcentaje de valores ausentes que tiene la columna 'churn_date':"
      ]
    },
    {
      "cell_type": "code",
      "execution_count": null,
      "metadata": {
        "id": "QqhlCdjB70eH",
        "outputId": "8bf0f678-a5b0-448e-fc29-f10c3af1c1e2"
      },
      "outputs": [
        {
          "data": {
            "text/plain": [
              "93.2"
            ]
          },
          "execution_count": 36,
          "metadata": {},
          "output_type": "execute_result"
        }
      ],
      "source": [
        "percentaje_of_nan = (megaline_users['churn_date'].isna().sum() * 100)/len(megaline_users)\n",
        "percentaje_of_nan"
      ]
    },
    {
      "cell_type": "markdown",
      "metadata": {
        "id": "bXmJPI2q70eH"
      },
      "source": [
        "Como se puede apreciar el 93.2% de los valores corresponden a valores ausentes, esto quiere decir que solo el 6.8% de la columna tiene datos. Esto no es de extrañar, ya que esta columna nos muestra los usuarios no vigentes. Vamos a ver más de cerca a estos usuarios."
      ]
    },
    {
      "cell_type": "code",
      "execution_count": null,
      "metadata": {
        "id": "LJV01xRC70eH",
        "outputId": "59172b91-da42-4e37-cc12-4a91e8d6d18f"
      },
      "outputs": [
        {
          "data": {
            "text/html": [
              "<div>\n",
              "<style scoped>\n",
              "    .dataframe tbody tr th:only-of-type {\n",
              "        vertical-align: middle;\n",
              "    }\n",
              "\n",
              "    .dataframe tbody tr th {\n",
              "        vertical-align: top;\n",
              "    }\n",
              "\n",
              "    .dataframe thead th {\n",
              "        text-align: right;\n",
              "    }\n",
              "</style>\n",
              "<table border=\"1\" class=\"dataframe\">\n",
              "  <thead>\n",
              "    <tr style=\"text-align: right;\">\n",
              "      <th></th>\n",
              "      <th>user_id</th>\n",
              "      <th>first_name</th>\n",
              "      <th>last_name</th>\n",
              "      <th>age</th>\n",
              "      <th>city</th>\n",
              "      <th>reg_date</th>\n",
              "      <th>plan</th>\n",
              "      <th>churn_date</th>\n",
              "    </tr>\n",
              "  </thead>\n",
              "  <tbody>\n",
              "    <tr>\n",
              "      <th>6</th>\n",
              "      <td>1006</td>\n",
              "      <td>Jesusa</td>\n",
              "      <td>Bradford</td>\n",
              "      <td>73</td>\n",
              "      <td>San Francisco-Oakland-Berkeley, CA MSA</td>\n",
              "      <td>2018-11-27</td>\n",
              "      <td>ultimate</td>\n",
              "      <td>2018-12-18</td>\n",
              "    </tr>\n",
              "    <tr>\n",
              "      <th>12</th>\n",
              "      <td>1012</td>\n",
              "      <td>Jonelle</td>\n",
              "      <td>Mcbride</td>\n",
              "      <td>59</td>\n",
              "      <td>Chicago-Naperville-Elgin, IL-IN-WI MSA</td>\n",
              "      <td>2018-06-28</td>\n",
              "      <td>surf</td>\n",
              "      <td>2018-11-16</td>\n",
              "    </tr>\n",
              "    <tr>\n",
              "      <th>22</th>\n",
              "      <td>1022</td>\n",
              "      <td>Bo</td>\n",
              "      <td>Snow</td>\n",
              "      <td>73</td>\n",
              "      <td>New York-Newark-Jersey City, NY-NJ-PA MSA</td>\n",
              "      <td>2018-04-20</td>\n",
              "      <td>surf</td>\n",
              "      <td>2018-09-07</td>\n",
              "    </tr>\n",
              "    <tr>\n",
              "      <th>40</th>\n",
              "      <td>1040</td>\n",
              "      <td>Paris</td>\n",
              "      <td>Santos</td>\n",
              "      <td>72</td>\n",
              "      <td>Philadelphia-Camden-Wilmington, PA-NJ-DE-MD MSA</td>\n",
              "      <td>2018-12-23</td>\n",
              "      <td>surf</td>\n",
              "      <td>2018-12-30</td>\n",
              "    </tr>\n",
              "    <tr>\n",
              "      <th>50</th>\n",
              "      <td>1050</td>\n",
              "      <td>Jone</td>\n",
              "      <td>Owen</td>\n",
              "      <td>23</td>\n",
              "      <td>Miami-Fort Lauderdale-West Palm Beach, FL MSA</td>\n",
              "      <td>2018-03-20</td>\n",
              "      <td>ultimate</td>\n",
              "      <td>2018-10-07</td>\n",
              "    </tr>\n",
              "    <tr>\n",
              "      <th>54</th>\n",
              "      <td>1054</td>\n",
              "      <td>Denis</td>\n",
              "      <td>Frost</td>\n",
              "      <td>50</td>\n",
              "      <td>Phoenix-Mesa-Chandler, AZ MSA</td>\n",
              "      <td>2018-04-21</td>\n",
              "      <td>surf</td>\n",
              "      <td>2018-12-31</td>\n",
              "    </tr>\n",
              "    <tr>\n",
              "      <th>67</th>\n",
              "      <td>1067</td>\n",
              "      <td>Robt</td>\n",
              "      <td>Allen</td>\n",
              "      <td>37</td>\n",
              "      <td>Grand Rapids-Kentwood, MI MSA</td>\n",
              "      <td>2018-09-24</td>\n",
              "      <td>surf</td>\n",
              "      <td>2018-11-24</td>\n",
              "    </tr>\n",
              "    <tr>\n",
              "      <th>83</th>\n",
              "      <td>1083</td>\n",
              "      <td>Lyndia</td>\n",
              "      <td>Acevedo</td>\n",
              "      <td>65</td>\n",
              "      <td>Los Angeles-Long Beach-Anaheim, CA MSA</td>\n",
              "      <td>2018-10-26</td>\n",
              "      <td>surf</td>\n",
              "      <td>2018-12-18</td>\n",
              "    </tr>\n",
              "    <tr>\n",
              "      <th>84</th>\n",
              "      <td>1084</td>\n",
              "      <td>Wiley</td>\n",
              "      <td>Mckinney</td>\n",
              "      <td>21</td>\n",
              "      <td>Miami-Fort Lauderdale-West Palm Beach, FL MSA</td>\n",
              "      <td>2018-06-04</td>\n",
              "      <td>surf</td>\n",
              "      <td>2018-11-11</td>\n",
              "    </tr>\n",
              "    <tr>\n",
              "      <th>94</th>\n",
              "      <td>1094</td>\n",
              "      <td>Walter</td>\n",
              "      <td>Petersen</td>\n",
              "      <td>54</td>\n",
              "      <td>Los Angeles-Long Beach-Anaheim, CA MSA</td>\n",
              "      <td>2018-10-30</td>\n",
              "      <td>surf</td>\n",
              "      <td>2018-12-12</td>\n",
              "    </tr>\n",
              "    <tr>\n",
              "      <th>106</th>\n",
              "      <td>1106</td>\n",
              "      <td>Eddy</td>\n",
              "      <td>Garrison</td>\n",
              "      <td>47</td>\n",
              "      <td>New York-Newark-Jersey City, NY-NJ-PA MSA</td>\n",
              "      <td>2018-05-10</td>\n",
              "      <td>surf</td>\n",
              "      <td>2018-11-14</td>\n",
              "    </tr>\n",
              "    <tr>\n",
              "      <th>129</th>\n",
              "      <td>1129</td>\n",
              "      <td>Marin</td>\n",
              "      <td>Bolton</td>\n",
              "      <td>70</td>\n",
              "      <td>Baton Rouge, LA MSA</td>\n",
              "      <td>2018-11-10</td>\n",
              "      <td>surf</td>\n",
              "      <td>2018-12-27</td>\n",
              "    </tr>\n",
              "    <tr>\n",
              "      <th>172</th>\n",
              "      <td>1172</td>\n",
              "      <td>Weldon</td>\n",
              "      <td>Robinson</td>\n",
              "      <td>72</td>\n",
              "      <td>Boston-Cambridge-Newton, MA-NH MSA</td>\n",
              "      <td>2018-03-30</td>\n",
              "      <td>surf</td>\n",
              "      <td>2018-11-29</td>\n",
              "    </tr>\n",
              "    <tr>\n",
              "      <th>180</th>\n",
              "      <td>1180</td>\n",
              "      <td>Wonda</td>\n",
              "      <td>Hays</td>\n",
              "      <td>24</td>\n",
              "      <td>New York-Newark-Jersey City, NY-NJ-PA MSA</td>\n",
              "      <td>2018-12-01</td>\n",
              "      <td>surf</td>\n",
              "      <td>2018-12-22</td>\n",
              "    </tr>\n",
              "    <tr>\n",
              "      <th>186</th>\n",
              "      <td>1186</td>\n",
              "      <td>Josiah</td>\n",
              "      <td>Douglas</td>\n",
              "      <td>55</td>\n",
              "      <td>Las Vegas-Henderson-Paradise, NV MSA</td>\n",
              "      <td>2018-12-22</td>\n",
              "      <td>ultimate</td>\n",
              "      <td>2018-12-31</td>\n",
              "    </tr>\n",
              "    <tr>\n",
              "      <th>191</th>\n",
              "      <td>1191</td>\n",
              "      <td>Zack</td>\n",
              "      <td>Waters</td>\n",
              "      <td>75</td>\n",
              "      <td>St. Louis, MO-IL MSA</td>\n",
              "      <td>2018-01-21</td>\n",
              "      <td>ultimate</td>\n",
              "      <td>2018-11-30</td>\n",
              "    </tr>\n",
              "    <tr>\n",
              "      <th>220</th>\n",
              "      <td>1220</td>\n",
              "      <td>Jack</td>\n",
              "      <td>Strong</td>\n",
              "      <td>26</td>\n",
              "      <td>Cincinnati, OH-KY-IN MSA</td>\n",
              "      <td>2018-04-22</td>\n",
              "      <td>surf</td>\n",
              "      <td>2018-10-13</td>\n",
              "    </tr>\n",
              "    <tr>\n",
              "      <th>246</th>\n",
              "      <td>1246</td>\n",
              "      <td>Stevie</td>\n",
              "      <td>Moran</td>\n",
              "      <td>69</td>\n",
              "      <td>Tampa-St. Petersburg-Clearwater, FL MSA</td>\n",
              "      <td>2018-01-09</td>\n",
              "      <td>ultimate</td>\n",
              "      <td>2018-07-31</td>\n",
              "    </tr>\n",
              "    <tr>\n",
              "      <th>269</th>\n",
              "      <td>1269</td>\n",
              "      <td>Irving</td>\n",
              "      <td>Thompson</td>\n",
              "      <td>39</td>\n",
              "      <td>Dallas-Fort Worth-Arlington, TX MSA</td>\n",
              "      <td>2018-09-13</td>\n",
              "      <td>ultimate</td>\n",
              "      <td>2018-12-15</td>\n",
              "    </tr>\n",
              "    <tr>\n",
              "      <th>281</th>\n",
              "      <td>1281</td>\n",
              "      <td>Zack</td>\n",
              "      <td>Hardy</td>\n",
              "      <td>39</td>\n",
              "      <td>Charlotte-Concord-Gastonia, NC-SC MSA</td>\n",
              "      <td>2018-07-23</td>\n",
              "      <td>surf</td>\n",
              "      <td>2018-11-14</td>\n",
              "    </tr>\n",
              "    <tr>\n",
              "      <th>296</th>\n",
              "      <td>1296</td>\n",
              "      <td>Weston</td>\n",
              "      <td>Conley</td>\n",
              "      <td>36</td>\n",
              "      <td>Miami-Fort Lauderdale-West Palm Beach, FL MSA</td>\n",
              "      <td>2018-10-20</td>\n",
              "      <td>ultimate</td>\n",
              "      <td>2018-12-18</td>\n",
              "    </tr>\n",
              "    <tr>\n",
              "      <th>298</th>\n",
              "      <td>1298</td>\n",
              "      <td>Loyce</td>\n",
              "      <td>Cooley</td>\n",
              "      <td>53</td>\n",
              "      <td>Nashville-Davidson–Murfreesboro–Franklin, TN MSA</td>\n",
              "      <td>2018-09-21</td>\n",
              "      <td>surf</td>\n",
              "      <td>2018-12-19</td>\n",
              "    </tr>\n",
              "    <tr>\n",
              "      <th>300</th>\n",
              "      <td>1300</td>\n",
              "      <td>Rene</td>\n",
              "      <td>Frost</td>\n",
              "      <td>23</td>\n",
              "      <td>New York-Newark-Jersey City, NY-NJ-PA MSA</td>\n",
              "      <td>2018-10-21</td>\n",
              "      <td>surf</td>\n",
              "      <td>2018-12-19</td>\n",
              "    </tr>\n",
              "    <tr>\n",
              "      <th>315</th>\n",
              "      <td>1315</td>\n",
              "      <td>Mora</td>\n",
              "      <td>Schroeder</td>\n",
              "      <td>45</td>\n",
              "      <td>Raleigh-Cary, NC MSA</td>\n",
              "      <td>2018-04-26</td>\n",
              "      <td>surf</td>\n",
              "      <td>2018-10-03</td>\n",
              "    </tr>\n",
              "    <tr>\n",
              "      <th>358</th>\n",
              "      <td>1358</td>\n",
              "      <td>Vaughn</td>\n",
              "      <td>Maldonado</td>\n",
              "      <td>20</td>\n",
              "      <td>New York-Newark-Jersey City, NY-NJ-PA MSA</td>\n",
              "      <td>2018-04-26</td>\n",
              "      <td>surf</td>\n",
              "      <td>2018-10-22</td>\n",
              "    </tr>\n",
              "    <tr>\n",
              "      <th>363</th>\n",
              "      <td>1363</td>\n",
              "      <td>Sandee</td>\n",
              "      <td>Lott</td>\n",
              "      <td>33</td>\n",
              "      <td>Seattle-Tacoma-Bellevue, WA MSA</td>\n",
              "      <td>2018-01-05</td>\n",
              "      <td>ultimate</td>\n",
              "      <td>2018-08-16</td>\n",
              "    </tr>\n",
              "    <tr>\n",
              "      <th>402</th>\n",
              "      <td>1402</td>\n",
              "      <td>Jesus</td>\n",
              "      <td>Berry</td>\n",
              "      <td>25</td>\n",
              "      <td>New York-Newark-Jersey City, NY-NJ-PA MSA</td>\n",
              "      <td>2018-06-11</td>\n",
              "      <td>surf</td>\n",
              "      <td>2018-12-26</td>\n",
              "    </tr>\n",
              "    <tr>\n",
              "      <th>414</th>\n",
              "      <td>1414</td>\n",
              "      <td>Georgianne</td>\n",
              "      <td>Herring</td>\n",
              "      <td>30</td>\n",
              "      <td>Urban Honolulu, HI MSA</td>\n",
              "      <td>2018-03-03</td>\n",
              "      <td>surf</td>\n",
              "      <td>2018-09-01</td>\n",
              "    </tr>\n",
              "    <tr>\n",
              "      <th>416</th>\n",
              "      <td>1416</td>\n",
              "      <td>Deja</td>\n",
              "      <td>Moss</td>\n",
              "      <td>25</td>\n",
              "      <td>Minneapolis-St. Paul-Bloomington, MN-WI MSA</td>\n",
              "      <td>2018-10-03</td>\n",
              "      <td>surf</td>\n",
              "      <td>2018-11-21</td>\n",
              "    </tr>\n",
              "    <tr>\n",
              "      <th>441</th>\n",
              "      <td>1441</td>\n",
              "      <td>Piedad</td>\n",
              "      <td>Myers</td>\n",
              "      <td>23</td>\n",
              "      <td>Atlanta-Sandy Springs-Roswell, GA MSA</td>\n",
              "      <td>2018-03-08</td>\n",
              "      <td>ultimate</td>\n",
              "      <td>2018-08-19</td>\n",
              "    </tr>\n",
              "    <tr>\n",
              "      <th>451</th>\n",
              "      <td>1451</td>\n",
              "      <td>Lenard</td>\n",
              "      <td>Harding</td>\n",
              "      <td>53</td>\n",
              "      <td>Charlotte-Concord-Gastonia, NC-SC MSA</td>\n",
              "      <td>2018-02-15</td>\n",
              "      <td>ultimate</td>\n",
              "      <td>2018-12-10</td>\n",
              "    </tr>\n",
              "    <tr>\n",
              "      <th>466</th>\n",
              "      <td>1466</td>\n",
              "      <td>Alphonse</td>\n",
              "      <td>Harmon</td>\n",
              "      <td>56</td>\n",
              "      <td>Los Angeles-Long Beach-Anaheim, CA MSA</td>\n",
              "      <td>2018-01-26</td>\n",
              "      <td>surf</td>\n",
              "      <td>2018-09-17</td>\n",
              "    </tr>\n",
              "    <tr>\n",
              "      <th>467</th>\n",
              "      <td>1467</td>\n",
              "      <td>Nickolas</td>\n",
              "      <td>Deleon</td>\n",
              "      <td>64</td>\n",
              "      <td>Atlanta-Sandy Springs-Roswell, GA MSA</td>\n",
              "      <td>2018-01-31</td>\n",
              "      <td>ultimate</td>\n",
              "      <td>2018-11-18</td>\n",
              "    </tr>\n",
              "    <tr>\n",
              "      <th>491</th>\n",
              "      <td>1491</td>\n",
              "      <td>Terina</td>\n",
              "      <td>Jensen</td>\n",
              "      <td>22</td>\n",
              "      <td>Grand Rapids-Kentwood, MI MSA</td>\n",
              "      <td>2018-04-27</td>\n",
              "      <td>surf</td>\n",
              "      <td>2018-09-18</td>\n",
              "    </tr>\n",
              "  </tbody>\n",
              "</table>\n",
              "</div>"
            ],
            "text/plain": [
              "    user_id  first_name  last_name  age  \\\n",
              "6      1006      Jesusa   Bradford   73   \n",
              "12     1012     Jonelle    Mcbride   59   \n",
              "22     1022          Bo       Snow   73   \n",
              "40     1040       Paris     Santos   72   \n",
              "50     1050        Jone       Owen   23   \n",
              "54     1054       Denis      Frost   50   \n",
              "67     1067        Robt      Allen   37   \n",
              "83     1083      Lyndia    Acevedo   65   \n",
              "84     1084       Wiley   Mckinney   21   \n",
              "94     1094      Walter   Petersen   54   \n",
              "106    1106        Eddy   Garrison   47   \n",
              "129    1129       Marin     Bolton   70   \n",
              "172    1172      Weldon   Robinson   72   \n",
              "180    1180       Wonda       Hays   24   \n",
              "186    1186      Josiah    Douglas   55   \n",
              "191    1191        Zack     Waters   75   \n",
              "220    1220        Jack     Strong   26   \n",
              "246    1246      Stevie      Moran   69   \n",
              "269    1269      Irving   Thompson   39   \n",
              "281    1281        Zack      Hardy   39   \n",
              "296    1296      Weston     Conley   36   \n",
              "298    1298       Loyce     Cooley   53   \n",
              "300    1300        Rene      Frost   23   \n",
              "315    1315        Mora  Schroeder   45   \n",
              "358    1358      Vaughn  Maldonado   20   \n",
              "363    1363      Sandee       Lott   33   \n",
              "402    1402       Jesus      Berry   25   \n",
              "414    1414  Georgianne    Herring   30   \n",
              "416    1416        Deja       Moss   25   \n",
              "441    1441      Piedad      Myers   23   \n",
              "451    1451      Lenard    Harding   53   \n",
              "466    1466    Alphonse     Harmon   56   \n",
              "467    1467    Nickolas     Deleon   64   \n",
              "491    1491      Terina     Jensen   22   \n",
              "\n",
              "                                                 city   reg_date      plan  \\\n",
              "6              San Francisco-Oakland-Berkeley, CA MSA 2018-11-27  ultimate   \n",
              "12             Chicago-Naperville-Elgin, IL-IN-WI MSA 2018-06-28      surf   \n",
              "22          New York-Newark-Jersey City, NY-NJ-PA MSA 2018-04-20      surf   \n",
              "40    Philadelphia-Camden-Wilmington, PA-NJ-DE-MD MSA 2018-12-23      surf   \n",
              "50      Miami-Fort Lauderdale-West Palm Beach, FL MSA 2018-03-20  ultimate   \n",
              "54                      Phoenix-Mesa-Chandler, AZ MSA 2018-04-21      surf   \n",
              "67                      Grand Rapids-Kentwood, MI MSA 2018-09-24      surf   \n",
              "83             Los Angeles-Long Beach-Anaheim, CA MSA 2018-10-26      surf   \n",
              "84      Miami-Fort Lauderdale-West Palm Beach, FL MSA 2018-06-04      surf   \n",
              "94             Los Angeles-Long Beach-Anaheim, CA MSA 2018-10-30      surf   \n",
              "106         New York-Newark-Jersey City, NY-NJ-PA MSA 2018-05-10      surf   \n",
              "129                               Baton Rouge, LA MSA 2018-11-10      surf   \n",
              "172                Boston-Cambridge-Newton, MA-NH MSA 2018-03-30      surf   \n",
              "180         New York-Newark-Jersey City, NY-NJ-PA MSA 2018-12-01      surf   \n",
              "186              Las Vegas-Henderson-Paradise, NV MSA 2018-12-22  ultimate   \n",
              "191                              St. Louis, MO-IL MSA 2018-01-21  ultimate   \n",
              "220                          Cincinnati, OH-KY-IN MSA 2018-04-22      surf   \n",
              "246           Tampa-St. Petersburg-Clearwater, FL MSA 2018-01-09  ultimate   \n",
              "269               Dallas-Fort Worth-Arlington, TX MSA 2018-09-13  ultimate   \n",
              "281             Charlotte-Concord-Gastonia, NC-SC MSA 2018-07-23      surf   \n",
              "296     Miami-Fort Lauderdale-West Palm Beach, FL MSA 2018-10-20  ultimate   \n",
              "298  Nashville-Davidson–Murfreesboro–Franklin, TN MSA 2018-09-21      surf   \n",
              "300         New York-Newark-Jersey City, NY-NJ-PA MSA 2018-10-21      surf   \n",
              "315                              Raleigh-Cary, NC MSA 2018-04-26      surf   \n",
              "358         New York-Newark-Jersey City, NY-NJ-PA MSA 2018-04-26      surf   \n",
              "363                   Seattle-Tacoma-Bellevue, WA MSA 2018-01-05  ultimate   \n",
              "402         New York-Newark-Jersey City, NY-NJ-PA MSA 2018-06-11      surf   \n",
              "414                            Urban Honolulu, HI MSA 2018-03-03      surf   \n",
              "416       Minneapolis-St. Paul-Bloomington, MN-WI MSA 2018-10-03      surf   \n",
              "441             Atlanta-Sandy Springs-Roswell, GA MSA 2018-03-08  ultimate   \n",
              "451             Charlotte-Concord-Gastonia, NC-SC MSA 2018-02-15  ultimate   \n",
              "466            Los Angeles-Long Beach-Anaheim, CA MSA 2018-01-26      surf   \n",
              "467             Atlanta-Sandy Springs-Roswell, GA MSA 2018-01-31  ultimate   \n",
              "491                     Grand Rapids-Kentwood, MI MSA 2018-04-27      surf   \n",
              "\n",
              "     churn_date  \n",
              "6    2018-12-18  \n",
              "12   2018-11-16  \n",
              "22   2018-09-07  \n",
              "40   2018-12-30  \n",
              "50   2018-10-07  \n",
              "54   2018-12-31  \n",
              "67   2018-11-24  \n",
              "83   2018-12-18  \n",
              "84   2018-11-11  \n",
              "94   2018-12-12  \n",
              "106  2018-11-14  \n",
              "129  2018-12-27  \n",
              "172  2018-11-29  \n",
              "180  2018-12-22  \n",
              "186  2018-12-31  \n",
              "191  2018-11-30  \n",
              "220  2018-10-13  \n",
              "246  2018-07-31  \n",
              "269  2018-12-15  \n",
              "281  2018-11-14  \n",
              "296  2018-12-18  \n",
              "298  2018-12-19  \n",
              "300  2018-12-19  \n",
              "315  2018-10-03  \n",
              "358  2018-10-22  \n",
              "363  2018-08-16  \n",
              "402  2018-12-26  \n",
              "414  2018-09-01  \n",
              "416  2018-11-21  \n",
              "441  2018-08-19  \n",
              "451  2018-12-10  \n",
              "466  2018-09-17  \n",
              "467  2018-11-18  \n",
              "491  2018-09-18  "
            ]
          },
          "execution_count": 37,
          "metadata": {},
          "output_type": "execute_result"
        }
      ],
      "source": [
        "no_vigentes = pd.notnull(megaline_users['churn_date'])\n",
        "megaline_users[no_vigentes]"
      ]
    },
    {
      "cell_type": "markdown",
      "metadata": {
        "id": "rLuWJ1Iy70eI"
      },
      "source": [
        "Al observar esta tabla, podemos ver que estos usuarios varián en el número de meses en los que se encuentran vigentes. Esto quiere decir que nuestro porcentaje de usuarios no vigentes varian segun los meses. El usuario que estuvo menos meses fueron solo 7 días mientras que otro usuario estuvo más de 10 meses. Estos datos podrían ser interesantes para nuestro estudio, y como los valores entregados en las otras tablas son mensuales. Guardaremos estas filas. Solamente pasaremos los valores ausentes a 0."
      ]
    },
    {
      "cell_type": "code",
      "execution_count": null,
      "metadata": {
        "id": "_vT_Sc-c70eI",
        "outputId": "9731e236-be81-4185-9f67-35d4baa19bd4"
      },
      "outputs": [
        {
          "data": {
            "text/plain": [
              "0"
            ]
          },
          "execution_count": 38,
          "metadata": {},
          "output_type": "execute_result"
        }
      ],
      "source": [
        "megaline_users['churn_date'] = megaline_users['churn_date'].fillna(0)\n",
        "megaline_users['churn_date'].isna().sum()"
      ]
    },
    {
      "cell_type": "markdown",
      "metadata": {
        "id": "HtSel9Pw70eI"
      },
      "source": [
        "Revisaremos entonces nuestra columna 'duration' en magaline_calls para revisar los valores en cero:"
      ]
    },
    {
      "cell_type": "code",
      "execution_count": null,
      "metadata": {
        "id": "Bu0cPhqx70eI",
        "outputId": "6cc94520-5532-4cdb-f1ce-b3c5816e6e7e"
      },
      "outputs": [
        {
          "data": {
            "text/plain": [
              "19.48233927469416"
            ]
          },
          "execution_count": 39,
          "metadata": {},
          "output_type": "execute_result"
        }
      ],
      "source": [
        "percentaje_of_ceros = (len(megaline_calls.query('duration == 0')) *100)/len(megaline_calls)\n",
        "percentaje_of_ceros"
      ]
    },
    {
      "cell_type": "markdown",
      "metadata": {
        "id": "oS5PdHqt70eI"
      },
      "source": [
        "Como se ve, tenemos un 19,5% de datos que tienen este valor! Es un monto bastante alto que valdría la pena guardar. Revisemos, rápidamente su distribución para estar seguros: "
      ]
    },
    {
      "cell_type": "code",
      "execution_count": null,
      "metadata": {
        "id": "xc20BH2a70eI",
        "outputId": "a5056d59-3c24-4705-af6b-36c1d3a784a8"
      },
      "outputs": [
        {
          "data": {
            "text/plain": [
              "Text(0, 0.5, 'Minutos')"
            ]
          },
          "execution_count": 40,
          "metadata": {},
          "output_type": "execute_result"
        },
        {
          "data": {
            "image/png": "[encoded data removed]",
            "text/plain": [
              "<Figure size 1080x432 with 1 Axes>"
            ]
          },
          "metadata": {
            "needs_background": "light"
          },
          "output_type": "display_data"
        }
      ],
      "source": [
        "Q1 = megaline_calls['duration'].quantile(0.25)\n",
        "Q3 = megaline_calls['duration'].quantile(0.75)\n",
        "IQR = Q3 - Q1\n",
        "megaline_calls.boxplot(column='duration', figsize=(15,6))\n",
        "plt.hlines(y=(Q3+1.5*IQR), xmin=0.9, xmax=1.1, color='red')\n",
        "plt.hlines(y=(Q1-1.5*IQR), xmin=0.9, xmax=1.1, color='red')\n",
        "plt.title('Distribución de la duración de llamadas de megaline_calls')\n",
        "plt.ylabel('Minutos')"
      ]
    },
    {
      "cell_type": "markdown",
      "metadata": {
        "id": "uIyCnWTq70eI"
      },
      "source": [
        "Como se ve en la imagen el límite inferior está muy por debajo de cero, con lo cual creo que será prudente guardar estos datos para nuestro estudio. Ahora, revisaremos nuestra columna de mb_used en megaline_internet:"
      ]
    },
    {
      "cell_type": "code",
      "execution_count": null,
      "metadata": {
        "id": "0q6nmd2o70eI",
        "outputId": "261d3299-90ad-4e46-8e6d-1be6e6102b96"
      },
      "outputs": [
        {
          "data": {
            "text/plain": [
              "13.11423801574052"
            ]
          },
          "execution_count": 41,
          "metadata": {},
          "output_type": "execute_result"
        }
      ],
      "source": [
        "percentaje_of_ceros = (len(megaline_internet.query('mb_used == 0')) *100)/len(megaline_internet)\n",
        "percentaje_of_ceros"
      ]
    },
    {
      "cell_type": "markdown",
      "metadata": {
        "id": "Xh9LoC2K70eI"
      },
      "source": [
        "Como podemos ver, el porcentaje es menor que en la columna duration, sin embargo es un monto grande. Veamos su distribución:"
      ]
    },
    {
      "cell_type": "code",
      "execution_count": null,
      "metadata": {
        "id": "EbWw3g6170eJ",
        "outputId": "4dc87ebd-61c4-4328-a7e1-388dc0e61a45"
      },
      "outputs": [
        {
          "data": {
            "text/plain": [
              "Text(0, 0.5, 'Megabytes')"
            ]
          },
          "execution_count": 42,
          "metadata": {},
          "output_type": "execute_result"
        },
        {
          "data": {
            "image/png": "[encoded data removed]",
            "text/plain": [
              "<Figure size 1080x432 with 1 Axes>"
            ]
          },
          "metadata": {
            "needs_background": "light"
          },
          "output_type": "display_data"
        }
      ],
      "source": [
        "Q1 = megaline_internet['mb_used'].quantile(0.25)\n",
        "Q3 = megaline_internet['mb_used'].quantile(0.75)\n",
        "IQR = Q3 - Q1\n",
        "megaline_internet.boxplot(column='mb_used', figsize=(15,6))\n",
        "plt.hlines(y=(Q3+1.5*IQR), xmin=0.9, xmax=1.1, color='red')\n",
        "plt.hlines(y=(Q1-1.5*IQR), xmin=0.9, xmax=1.1, color='red')\n",
        "plt.title('Distribución del uso de megabytes en megaline_internet')\n",
        "plt.ylabel('Megabytes')"
      ]
    },
    {
      "cell_type": "markdown",
      "metadata": {
        "id": "hJEKm-Se70eJ"
      },
      "source": [
        "Como en el caso anterior, nuestro bigote inferior está muy por debajo del valor 0. En consecuencia guardaremos estos valores ya que nos pueden dar datos interesantes en el estudio."
      ]
    },
    {
      "cell_type": "markdown",
      "metadata": {
        "id": "V2WmZvPM70eJ"
      },
      "source": [
        "**Conclusión**\n",
        "Revisamos la columna 'churn_date' de megaline_users que es la que contenía más valores ausentes. Decidimos mantener la columna y pasar los valores ausentes a 0, ya que la columna nos muestra a los usuarios de baja. Es importante destacar que como las otras tablas nos presentan los montos mensuales, los usuarios dados de baja si nos sirven para nuestro estudio general.\n",
        "\n",
        "Por otro lado, revisamos las columnas de duration y mb_used de magaline_calls y megaline_internet respectivamente, definimos que los valores en cero corresponden a valores utiles que se encuentran en los parámetros que influyen en nuestro estudio, con lo cual se mantuvieron todos."
      ]
    },
    {
      "cell_type": "markdown",
      "metadata": {
        "id": "cPeDqhkf70eJ"
      },
      "source": [
        "### Preparación de las tablas <a id='preparación_tablas'></a>"
      ]
    },
    {
      "cell_type": "markdown",
      "metadata": {
        "id": "TlFxWcib70eJ"
      },
      "source": [
        "En este punto vamos a preparar tres tablas (una para las llamadas, una para el internet y una para los mensajes) con todos los datos relevantes para nuestro estudio. Con estás tres tablas preparadas podremos crear una cuarta tabla que las una a todas que contendrá las siguientes columnas:\n",
        "- User ID\n",
        "- City\n",
        "- Month\n",
        "- Plan\n",
        "- USD_montly_pay (megaline_plans_head)\n",
        "- Llamadas totales por mes\n",
        "- Ingresos totales por llamadas extras al mes\n",
        "- Megas totales por mes\n",
        "- Ingresos totales por megas extras al mes\n",
        "- Mensajes totales por mes\n",
        "- Ingresos totales por mensajes extras al mes\n",
        "- Total de Ingresos totales por plan por mes\n",
        "\n",
        "Con estas nueva tabla esperamos poder responder a nuestras hipótesis iniciales. Lo primero que haremos es cambiar el nombre de la columna 'plan_name' a 'plan' en el dataset *megaline_plans*:"
      ]
    },
    {
      "cell_type": "code",
      "execution_count": null,
      "metadata": {
        "id": "UR_PZWH370eJ"
      },
      "outputs": [],
      "source": [
        "megaline_plans = megaline_plans.rename(columns={\"plan_name\": \"plan\"})"
      ]
    },
    {
      "cell_type": "markdown",
      "metadata": {
        "id": "3M6WlQti70eJ"
      },
      "source": [
        "#### megaline_calls mejorada <a id='preparación_calls'></a>"
      ]
    },
    {
      "cell_type": "markdown",
      "metadata": {
        "id": "D4Liu-3f70eK"
      },
      "source": [
        "Con esta tabla, primero vamos a redondear las duración de llamadas de acuerdo a la descripción tarifaria de Megaline:"
      ]
    },
    {
      "cell_type": "code",
      "execution_count": null,
      "metadata": {
        "id": "tYl-gSD770eK"
      },
      "outputs": [],
      "source": [
        "megaline_calls['duration'] = megaline_calls['duration'].apply(np.ceil)"
      ]
    },
    {
      "cell_type": "markdown",
      "metadata": {
        "id": "F_P7YFs170eK"
      },
      "source": [
        "Luego agregaremos una columna para obtener el mes de llamada:"
      ]
    },
    {
      "cell_type": "code",
      "execution_count": null,
      "metadata": {
        "id": "i_jToa_Z70eK"
      },
      "outputs": [],
      "source": [
        "megaline_calls['month'] = megaline_calls['call_date'].astype('datetime64[M]')"
      ]
    },
    {
      "cell_type": "code",
      "execution_count": null,
      "metadata": {
        "id": "IAwNMZRG70eK",
        "outputId": "34b1eb69-6fcf-477d-e50f-d4a7791e271a"
      },
      "outputs": [
        {
          "data": {
            "text/html": [
              "<div>\n",
              "<style scoped>\n",
              "    .dataframe tbody tr th:only-of-type {\n",
              "        vertical-align: middle;\n",
              "    }\n",
              "\n",
              "    .dataframe tbody tr th {\n",
              "        vertical-align: top;\n",
              "    }\n",
              "\n",
              "    .dataframe thead th {\n",
              "        text-align: right;\n",
              "    }\n",
              "</style>\n",
              "<table border=\"1\" class=\"dataframe\">\n",
              "  <thead>\n",
              "    <tr style=\"text-align: right;\">\n",
              "      <th></th>\n",
              "      <th>id</th>\n",
              "      <th>user_id</th>\n",
              "      <th>call_date</th>\n",
              "      <th>duration</th>\n",
              "      <th>month</th>\n",
              "    </tr>\n",
              "  </thead>\n",
              "  <tbody>\n",
              "    <tr>\n",
              "      <th>0</th>\n",
              "      <td>1000_93</td>\n",
              "      <td>1000</td>\n",
              "      <td>2018-12-27</td>\n",
              "      <td>9.0</td>\n",
              "      <td>2018-12-01</td>\n",
              "    </tr>\n",
              "    <tr>\n",
              "      <th>1</th>\n",
              "      <td>1000_145</td>\n",
              "      <td>1000</td>\n",
              "      <td>2018-12-27</td>\n",
              "      <td>14.0</td>\n",
              "      <td>2018-12-01</td>\n",
              "    </tr>\n",
              "    <tr>\n",
              "      <th>2</th>\n",
              "      <td>1000_247</td>\n",
              "      <td>1000</td>\n",
              "      <td>2018-12-27</td>\n",
              "      <td>15.0</td>\n",
              "      <td>2018-12-01</td>\n",
              "    </tr>\n",
              "    <tr>\n",
              "      <th>3</th>\n",
              "      <td>1000_309</td>\n",
              "      <td>1000</td>\n",
              "      <td>2018-12-28</td>\n",
              "      <td>6.0</td>\n",
              "      <td>2018-12-01</td>\n",
              "    </tr>\n",
              "    <tr>\n",
              "      <th>4</th>\n",
              "      <td>1000_380</td>\n",
              "      <td>1000</td>\n",
              "      <td>2018-12-30</td>\n",
              "      <td>5.0</td>\n",
              "      <td>2018-12-01</td>\n",
              "    </tr>\n",
              "  </tbody>\n",
              "</table>\n",
              "</div>"
            ],
            "text/plain": [
              "         id user_id  call_date  duration      month\n",
              "0   1000_93    1000 2018-12-27       9.0 2018-12-01\n",
              "1  1000_145    1000 2018-12-27      14.0 2018-12-01\n",
              "2  1000_247    1000 2018-12-27      15.0 2018-12-01\n",
              "3  1000_309    1000 2018-12-28       6.0 2018-12-01\n",
              "4  1000_380    1000 2018-12-30       5.0 2018-12-01"
            ]
          },
          "execution_count": 46,
          "metadata": {},
          "output_type": "execute_result"
        }
      ],
      "source": [
        "megaline_calls.head()"
      ]
    },
    {
      "cell_type": "markdown",
      "metadata": {
        "id": "LqRiwwo870eK"
      },
      "source": [
        "Con esta tabla, ya podemos agrupar nuestros datos por usuario y por mes:"
      ]
    },
    {
      "cell_type": "code",
      "execution_count": null,
      "metadata": {
        "id": "qmcXwlnr70eK",
        "outputId": "a885b093-8a72-4e41-f7e0-b391692f6c49"
      },
      "outputs": [
        {
          "data": {
            "text/html": [
              "<div>\n",
              "<style scoped>\n",
              "    .dataframe tbody tr th:only-of-type {\n",
              "        vertical-align: middle;\n",
              "    }\n",
              "\n",
              "    .dataframe tbody tr th {\n",
              "        vertical-align: top;\n",
              "    }\n",
              "\n",
              "    .dataframe thead th {\n",
              "        text-align: right;\n",
              "    }\n",
              "</style>\n",
              "<table border=\"1\" class=\"dataframe\">\n",
              "  <thead>\n",
              "    <tr style=\"text-align: right;\">\n",
              "      <th></th>\n",
              "      <th>user_id</th>\n",
              "      <th>month</th>\n",
              "      <th>number_of_calls</th>\n",
              "      <th>monthly_duration</th>\n",
              "    </tr>\n",
              "  </thead>\n",
              "  <tbody>\n",
              "    <tr>\n",
              "      <th>0</th>\n",
              "      <td>1000</td>\n",
              "      <td>2018-12-01</td>\n",
              "      <td>16</td>\n",
              "      <td>124.0</td>\n",
              "    </tr>\n",
              "    <tr>\n",
              "      <th>1</th>\n",
              "      <td>1001</td>\n",
              "      <td>2018-08-01</td>\n",
              "      <td>27</td>\n",
              "      <td>182.0</td>\n",
              "    </tr>\n",
              "    <tr>\n",
              "      <th>2</th>\n",
              "      <td>1001</td>\n",
              "      <td>2018-09-01</td>\n",
              "      <td>49</td>\n",
              "      <td>315.0</td>\n",
              "    </tr>\n",
              "    <tr>\n",
              "      <th>3</th>\n",
              "      <td>1001</td>\n",
              "      <td>2018-10-01</td>\n",
              "      <td>65</td>\n",
              "      <td>393.0</td>\n",
              "    </tr>\n",
              "    <tr>\n",
              "      <th>4</th>\n",
              "      <td>1001</td>\n",
              "      <td>2018-11-01</td>\n",
              "      <td>64</td>\n",
              "      <td>426.0</td>\n",
              "    </tr>\n",
              "    <tr>\n",
              "      <th>...</th>\n",
              "      <td>...</td>\n",
              "      <td>...</td>\n",
              "      <td>...</td>\n",
              "      <td>...</td>\n",
              "    </tr>\n",
              "    <tr>\n",
              "      <th>2253</th>\n",
              "      <td>1498</td>\n",
              "      <td>2018-12-01</td>\n",
              "      <td>39</td>\n",
              "      <td>339.0</td>\n",
              "    </tr>\n",
              "    <tr>\n",
              "      <th>2254</th>\n",
              "      <td>1499</td>\n",
              "      <td>2018-09-01</td>\n",
              "      <td>41</td>\n",
              "      <td>346.0</td>\n",
              "    </tr>\n",
              "    <tr>\n",
              "      <th>2255</th>\n",
              "      <td>1499</td>\n",
              "      <td>2018-10-01</td>\n",
              "      <td>53</td>\n",
              "      <td>385.0</td>\n",
              "    </tr>\n",
              "    <tr>\n",
              "      <th>2256</th>\n",
              "      <td>1499</td>\n",
              "      <td>2018-11-01</td>\n",
              "      <td>45</td>\n",
              "      <td>308.0</td>\n",
              "    </tr>\n",
              "    <tr>\n",
              "      <th>2257</th>\n",
              "      <td>1499</td>\n",
              "      <td>2018-12-01</td>\n",
              "      <td>65</td>\n",
              "      <td>496.0</td>\n",
              "    </tr>\n",
              "  </tbody>\n",
              "</table>\n",
              "<p>2258 rows × 4 columns</p>\n",
              "</div>"
            ],
            "text/plain": [
              "      user_id      month  number_of_calls  monthly_duration\n",
              "0        1000 2018-12-01               16             124.0\n",
              "1        1001 2018-08-01               27             182.0\n",
              "2        1001 2018-09-01               49             315.0\n",
              "3        1001 2018-10-01               65             393.0\n",
              "4        1001 2018-11-01               64             426.0\n",
              "...       ...        ...              ...               ...\n",
              "2253     1498 2018-12-01               39             339.0\n",
              "2254     1499 2018-09-01               41             346.0\n",
              "2255     1499 2018-10-01               53             385.0\n",
              "2256     1499 2018-11-01               45             308.0\n",
              "2257     1499 2018-12-01               65             496.0\n",
              "\n",
              "[2258 rows x 4 columns]"
            ]
          },
          "execution_count": 47,
          "metadata": {},
          "output_type": "execute_result"
        }
      ],
      "source": [
        "calls_by_user_by_month = megaline_calls.groupby([\"user_id\", \"month\"]).agg({\"id\": \"count\", \"duration\": \"sum\"}).reset_index()\n",
        "calls_by_user_by_month.columns = ['user_id', 'month', 'number_of_calls', 'monthly_duration']\n",
        "calls_by_user_by_month"
      ]
    },
    {
      "cell_type": "markdown",
      "metadata": {
        "id": "_KS0gOjk70eK"
      },
      "source": [
        "Ya tenemos nuestra tabla agrupada por usuario y mes, podemos ver en ella el número de llamadas mensuales y la duración total de las mismas. Vamos a sacar de la tabla megaline users las columnas que nos pueden servir para este estudio ('user_id', 'age', 'city' y 'plan'):"
      ]
    },
    {
      "cell_type": "code",
      "execution_count": null,
      "metadata": {
        "id": "VD7wmw5x70eK",
        "outputId": "f89fed07-fa3a-4413-f1c4-e0a507b9ac51"
      },
      "outputs": [
        {
          "data": {
            "text/html": [
              "<div>\n",
              "<style scoped>\n",
              "    .dataframe tbody tr th:only-of-type {\n",
              "        vertical-align: middle;\n",
              "    }\n",
              "\n",
              "    .dataframe tbody tr th {\n",
              "        vertical-align: top;\n",
              "    }\n",
              "\n",
              "    .dataframe thead th {\n",
              "        text-align: right;\n",
              "    }\n",
              "</style>\n",
              "<table border=\"1\" class=\"dataframe\">\n",
              "  <thead>\n",
              "    <tr style=\"text-align: right;\">\n",
              "      <th></th>\n",
              "      <th>user_id</th>\n",
              "      <th>age</th>\n",
              "      <th>city</th>\n",
              "      <th>plan</th>\n",
              "    </tr>\n",
              "  </thead>\n",
              "  <tbody>\n",
              "    <tr>\n",
              "      <th>0</th>\n",
              "      <td>1000</td>\n",
              "      <td>45</td>\n",
              "      <td>Atlanta-Sandy Springs-Roswell, GA MSA</td>\n",
              "      <td>ultimate</td>\n",
              "    </tr>\n",
              "    <tr>\n",
              "      <th>1</th>\n",
              "      <td>1001</td>\n",
              "      <td>28</td>\n",
              "      <td>Seattle-Tacoma-Bellevue, WA MSA</td>\n",
              "      <td>surf</td>\n",
              "    </tr>\n",
              "    <tr>\n",
              "      <th>2</th>\n",
              "      <td>1002</td>\n",
              "      <td>36</td>\n",
              "      <td>Las Vegas-Henderson-Paradise, NV MSA</td>\n",
              "      <td>surf</td>\n",
              "    </tr>\n",
              "    <tr>\n",
              "      <th>3</th>\n",
              "      <td>1003</td>\n",
              "      <td>52</td>\n",
              "      <td>Tulsa, OK MSA</td>\n",
              "      <td>surf</td>\n",
              "    </tr>\n",
              "    <tr>\n",
              "      <th>4</th>\n",
              "      <td>1004</td>\n",
              "      <td>40</td>\n",
              "      <td>Seattle-Tacoma-Bellevue, WA MSA</td>\n",
              "      <td>surf</td>\n",
              "    </tr>\n",
              "  </tbody>\n",
              "</table>\n",
              "</div>"
            ],
            "text/plain": [
              "  user_id  age                                   city      plan\n",
              "0    1000   45  Atlanta-Sandy Springs-Roswell, GA MSA  ultimate\n",
              "1    1001   28        Seattle-Tacoma-Bellevue, WA MSA      surf\n",
              "2    1002   36   Las Vegas-Henderson-Paradise, NV MSA      surf\n",
              "3    1003   52                          Tulsa, OK MSA      surf\n",
              "4    1004   40        Seattle-Tacoma-Bellevue, WA MSA      surf"
            ]
          },
          "execution_count": 48,
          "metadata": {},
          "output_type": "execute_result"
        }
      ],
      "source": [
        "calls_expanded = megaline_users.loc[:,['user_id','age','city','plan']]\n",
        "calls_expanded.head()"
      ]
    },
    {
      "cell_type": "markdown",
      "metadata": {
        "id": "r2MVK3YT70eK"
      },
      "source": [
        "A esta tabla le añadiremos los datos relevantes del dataset *megaline_plans* ('minutes_included' y 'usd_per_minute'):"
      ]
    },
    {
      "cell_type": "code",
      "execution_count": null,
      "metadata": {
        "id": "0dqTtizN70eK",
        "outputId": "479c3f56-f730-4a0d-80fa-56dbab740ca0"
      },
      "outputs": [
        {
          "data": {
            "text/html": [
              "<div>\n",
              "<style scoped>\n",
              "    .dataframe tbody tr th:only-of-type {\n",
              "        vertical-align: middle;\n",
              "    }\n",
              "\n",
              "    .dataframe tbody tr th {\n",
              "        vertical-align: top;\n",
              "    }\n",
              "\n",
              "    .dataframe thead th {\n",
              "        text-align: right;\n",
              "    }\n",
              "</style>\n",
              "<table border=\"1\" class=\"dataframe\">\n",
              "  <thead>\n",
              "    <tr style=\"text-align: right;\">\n",
              "      <th></th>\n",
              "      <th>plan</th>\n",
              "      <th>minutes_included</th>\n",
              "      <th>usd_per_minute</th>\n",
              "    </tr>\n",
              "  </thead>\n",
              "  <tbody>\n",
              "    <tr>\n",
              "      <th>0</th>\n",
              "      <td>surf</td>\n",
              "      <td>500</td>\n",
              "      <td>0.03</td>\n",
              "    </tr>\n",
              "    <tr>\n",
              "      <th>1</th>\n",
              "      <td>ultimate</td>\n",
              "      <td>3000</td>\n",
              "      <td>0.01</td>\n",
              "    </tr>\n",
              "  </tbody>\n",
              "</table>\n",
              "</div>"
            ],
            "text/plain": [
              "       plan  minutes_included  usd_per_minute\n",
              "0      surf               500            0.03\n",
              "1  ultimate              3000            0.01"
            ]
          },
          "execution_count": 49,
          "metadata": {},
          "output_type": "execute_result"
        }
      ],
      "source": [
        "calls_plans = megaline_plans.loc[:,['plan','minutes_included','usd_per_minute']]\n",
        "calls_plans"
      ]
    },
    {
      "cell_type": "markdown",
      "metadata": {
        "id": "cTD7lGcn70eK"
      },
      "source": [
        "Con estas tablas crearemos una nueva que una a las tres:"
      ]
    },
    {
      "cell_type": "code",
      "execution_count": null,
      "metadata": {
        "id": "d_DSOB3O70eL",
        "outputId": "78096f83-22b8-49ee-93b8-f75278eeb031"
      },
      "outputs": [
        {
          "data": {
            "text/html": [
              "<div>\n",
              "<style scoped>\n",
              "    .dataframe tbody tr th:only-of-type {\n",
              "        vertical-align: middle;\n",
              "    }\n",
              "\n",
              "    .dataframe tbody tr th {\n",
              "        vertical-align: top;\n",
              "    }\n",
              "\n",
              "    .dataframe thead th {\n",
              "        text-align: right;\n",
              "    }\n",
              "</style>\n",
              "<table border=\"1\" class=\"dataframe\">\n",
              "  <thead>\n",
              "    <tr style=\"text-align: right;\">\n",
              "      <th></th>\n",
              "      <th>user_id</th>\n",
              "      <th>age</th>\n",
              "      <th>city</th>\n",
              "      <th>plan</th>\n",
              "      <th>minutes_included</th>\n",
              "      <th>usd_per_minute</th>\n",
              "      <th>month</th>\n",
              "      <th>number_of_calls</th>\n",
              "      <th>monthly_duration</th>\n",
              "    </tr>\n",
              "  </thead>\n",
              "  <tbody>\n",
              "    <tr>\n",
              "      <th>0</th>\n",
              "      <td>1000</td>\n",
              "      <td>45</td>\n",
              "      <td>Atlanta-Sandy Springs-Roswell, GA MSA</td>\n",
              "      <td>ultimate</td>\n",
              "      <td>3000</td>\n",
              "      <td>0.01</td>\n",
              "      <td>2018-12-01</td>\n",
              "      <td>16</td>\n",
              "      <td>124.0</td>\n",
              "    </tr>\n",
              "    <tr>\n",
              "      <th>1</th>\n",
              "      <td>1006</td>\n",
              "      <td>73</td>\n",
              "      <td>San Francisco-Oakland-Berkeley, CA MSA</td>\n",
              "      <td>ultimate</td>\n",
              "      <td>3000</td>\n",
              "      <td>0.01</td>\n",
              "      <td>2018-11-01</td>\n",
              "      <td>2</td>\n",
              "      <td>10.0</td>\n",
              "    </tr>\n",
              "    <tr>\n",
              "      <th>2</th>\n",
              "      <td>1006</td>\n",
              "      <td>73</td>\n",
              "      <td>San Francisco-Oakland-Berkeley, CA MSA</td>\n",
              "      <td>ultimate</td>\n",
              "      <td>3000</td>\n",
              "      <td>0.01</td>\n",
              "      <td>2018-12-01</td>\n",
              "      <td>9</td>\n",
              "      <td>59.0</td>\n",
              "    </tr>\n",
              "    <tr>\n",
              "      <th>3</th>\n",
              "      <td>1008</td>\n",
              "      <td>53</td>\n",
              "      <td>Orlando-Kissimmee-Sanford, FL MSA</td>\n",
              "      <td>ultimate</td>\n",
              "      <td>3000</td>\n",
              "      <td>0.01</td>\n",
              "      <td>2018-10-01</td>\n",
              "      <td>71</td>\n",
              "      <td>476.0</td>\n",
              "    </tr>\n",
              "    <tr>\n",
              "      <th>4</th>\n",
              "      <td>1008</td>\n",
              "      <td>53</td>\n",
              "      <td>Orlando-Kissimmee-Sanford, FL MSA</td>\n",
              "      <td>ultimate</td>\n",
              "      <td>3000</td>\n",
              "      <td>0.01</td>\n",
              "      <td>2018-11-01</td>\n",
              "      <td>63</td>\n",
              "      <td>446.0</td>\n",
              "    </tr>\n",
              "  </tbody>\n",
              "</table>\n",
              "</div>"
            ],
            "text/plain": [
              "  user_id  age                                    city      plan  \\\n",
              "0    1000   45   Atlanta-Sandy Springs-Roswell, GA MSA  ultimate   \n",
              "1    1006   73  San Francisco-Oakland-Berkeley, CA MSA  ultimate   \n",
              "2    1006   73  San Francisco-Oakland-Berkeley, CA MSA  ultimate   \n",
              "3    1008   53       Orlando-Kissimmee-Sanford, FL MSA  ultimate   \n",
              "4    1008   53       Orlando-Kissimmee-Sanford, FL MSA  ultimate   \n",
              "\n",
              "   minutes_included  usd_per_minute      month  number_of_calls  \\\n",
              "0              3000            0.01 2018-12-01               16   \n",
              "1              3000            0.01 2018-11-01                2   \n",
              "2              3000            0.01 2018-12-01                9   \n",
              "3              3000            0.01 2018-10-01               71   \n",
              "4              3000            0.01 2018-11-01               63   \n",
              "\n",
              "   monthly_duration  \n",
              "0             124.0  \n",
              "1              10.0  \n",
              "2              59.0  \n",
              "3             476.0  \n",
              "4             446.0  "
            ]
          },
          "execution_count": 50,
          "metadata": {},
          "output_type": "execute_result"
        }
      ],
      "source": [
        "calls_monthly = calls_expanded.merge(calls_plans, on='plan')\n",
        "calls_monthly = calls_monthly.merge(calls_by_user_by_month, on='user_id')\n",
        "calls_monthly.head()"
      ]
    },
    {
      "cell_type": "markdown",
      "metadata": {
        "id": "-c8mF_fD70eL"
      },
      "source": [
        "Vamos a añadir la columna 'extra_minutes' que como su nombre lo indica corresponde a los minutos que se pasaron los usuarios cada mes por plan:"
      ]
    },
    {
      "cell_type": "code",
      "execution_count": null,
      "metadata": {
        "id": "dvKVQGkR70eL",
        "outputId": "27e22899-2a79-4819-d15e-fb09445a4a83"
      },
      "outputs": [
        {
          "data": {
            "text/html": [
              "<div>\n",
              "<style scoped>\n",
              "    .dataframe tbody tr th:only-of-type {\n",
              "        vertical-align: middle;\n",
              "    }\n",
              "\n",
              "    .dataframe tbody tr th {\n",
              "        vertical-align: top;\n",
              "    }\n",
              "\n",
              "    .dataframe thead th {\n",
              "        text-align: right;\n",
              "    }\n",
              "</style>\n",
              "<table border=\"1\" class=\"dataframe\">\n",
              "  <thead>\n",
              "    <tr style=\"text-align: right;\">\n",
              "      <th></th>\n",
              "      <th>user_id</th>\n",
              "      <th>age</th>\n",
              "      <th>city</th>\n",
              "      <th>plan</th>\n",
              "      <th>minutes_included</th>\n",
              "      <th>usd_per_minute</th>\n",
              "      <th>month</th>\n",
              "      <th>number_of_calls</th>\n",
              "      <th>monthly_duration</th>\n",
              "      <th>extra_minutes</th>\n",
              "    </tr>\n",
              "  </thead>\n",
              "  <tbody>\n",
              "    <tr>\n",
              "      <th>0</th>\n",
              "      <td>1000</td>\n",
              "      <td>45</td>\n",
              "      <td>Atlanta-Sandy Springs-Roswell, GA MSA</td>\n",
              "      <td>ultimate</td>\n",
              "      <td>3000</td>\n",
              "      <td>0.01</td>\n",
              "      <td>2018-12-01</td>\n",
              "      <td>16</td>\n",
              "      <td>124.0</td>\n",
              "      <td>-2876.0</td>\n",
              "    </tr>\n",
              "    <tr>\n",
              "      <th>1</th>\n",
              "      <td>1006</td>\n",
              "      <td>73</td>\n",
              "      <td>San Francisco-Oakland-Berkeley, CA MSA</td>\n",
              "      <td>ultimate</td>\n",
              "      <td>3000</td>\n",
              "      <td>0.01</td>\n",
              "      <td>2018-11-01</td>\n",
              "      <td>2</td>\n",
              "      <td>10.0</td>\n",
              "      <td>-2990.0</td>\n",
              "    </tr>\n",
              "    <tr>\n",
              "      <th>2</th>\n",
              "      <td>1006</td>\n",
              "      <td>73</td>\n",
              "      <td>San Francisco-Oakland-Berkeley, CA MSA</td>\n",
              "      <td>ultimate</td>\n",
              "      <td>3000</td>\n",
              "      <td>0.01</td>\n",
              "      <td>2018-12-01</td>\n",
              "      <td>9</td>\n",
              "      <td>59.0</td>\n",
              "      <td>-2941.0</td>\n",
              "    </tr>\n",
              "    <tr>\n",
              "      <th>3</th>\n",
              "      <td>1008</td>\n",
              "      <td>53</td>\n",
              "      <td>Orlando-Kissimmee-Sanford, FL MSA</td>\n",
              "      <td>ultimate</td>\n",
              "      <td>3000</td>\n",
              "      <td>0.01</td>\n",
              "      <td>2018-10-01</td>\n",
              "      <td>71</td>\n",
              "      <td>476.0</td>\n",
              "      <td>-2524.0</td>\n",
              "    </tr>\n",
              "    <tr>\n",
              "      <th>4</th>\n",
              "      <td>1008</td>\n",
              "      <td>53</td>\n",
              "      <td>Orlando-Kissimmee-Sanford, FL MSA</td>\n",
              "      <td>ultimate</td>\n",
              "      <td>3000</td>\n",
              "      <td>0.01</td>\n",
              "      <td>2018-11-01</td>\n",
              "      <td>63</td>\n",
              "      <td>446.0</td>\n",
              "      <td>-2554.0</td>\n",
              "    </tr>\n",
              "  </tbody>\n",
              "</table>\n",
              "</div>"
            ],
            "text/plain": [
              "  user_id  age                                    city      plan  \\\n",
              "0    1000   45   Atlanta-Sandy Springs-Roswell, GA MSA  ultimate   \n",
              "1    1006   73  San Francisco-Oakland-Berkeley, CA MSA  ultimate   \n",
              "2    1006   73  San Francisco-Oakland-Berkeley, CA MSA  ultimate   \n",
              "3    1008   53       Orlando-Kissimmee-Sanford, FL MSA  ultimate   \n",
              "4    1008   53       Orlando-Kissimmee-Sanford, FL MSA  ultimate   \n",
              "\n",
              "   minutes_included  usd_per_minute      month  number_of_calls  \\\n",
              "0              3000            0.01 2018-12-01               16   \n",
              "1              3000            0.01 2018-11-01                2   \n",
              "2              3000            0.01 2018-12-01                9   \n",
              "3              3000            0.01 2018-10-01               71   \n",
              "4              3000            0.01 2018-11-01               63   \n",
              "\n",
              "   monthly_duration  extra_minutes  \n",
              "0             124.0        -2876.0  \n",
              "1              10.0        -2990.0  \n",
              "2              59.0        -2941.0  \n",
              "3             476.0        -2524.0  \n",
              "4             446.0        -2554.0  "
            ]
          },
          "execution_count": 51,
          "metadata": {},
          "output_type": "execute_result"
        }
      ],
      "source": [
        "calls_monthly['extra_minutes'] = calls_monthly['monthly_duration'] - calls_monthly['minutes_included']\n",
        "calls_monthly.query('extra_minutes < 0').head()"
      ]
    },
    {
      "cell_type": "markdown",
      "metadata": {
        "id": "bzj3G0Xh70eL"
      },
      "source": [
        "Como se puede ver hay muchos valores negativos, los vamos a pasar a cero:"
      ]
    },
    {
      "cell_type": "code",
      "execution_count": null,
      "metadata": {
        "id": "TmVpKQd770eL"
      },
      "outputs": [],
      "source": [
        "calls_monthly['extra_minutes'] = np.where(calls_monthly['extra_minutes'] < 0, 0, calls_monthly['extra_minutes'])"
      ]
    },
    {
      "cell_type": "markdown",
      "metadata": {
        "id": "0IlJfVSM70eL"
      },
      "source": [
        "Vamos a comprobar que ya no tenemos valores negativos:"
      ]
    },
    {
      "cell_type": "code",
      "execution_count": null,
      "metadata": {
        "id": "1Tig5Wcg70eL",
        "outputId": "6ea21b8c-9722-4e91-8ffa-db8a9dfca66e"
      },
      "outputs": [
        {
          "data": {
            "text/html": [
              "<div>\n",
              "<style scoped>\n",
              "    .dataframe tbody tr th:only-of-type {\n",
              "        vertical-align: middle;\n",
              "    }\n",
              "\n",
              "    .dataframe tbody tr th {\n",
              "        vertical-align: top;\n",
              "    }\n",
              "\n",
              "    .dataframe thead th {\n",
              "        text-align: right;\n",
              "    }\n",
              "</style>\n",
              "<table border=\"1\" class=\"dataframe\">\n",
              "  <thead>\n",
              "    <tr style=\"text-align: right;\">\n",
              "      <th></th>\n",
              "      <th>user_id</th>\n",
              "      <th>age</th>\n",
              "      <th>city</th>\n",
              "      <th>plan</th>\n",
              "      <th>minutes_included</th>\n",
              "      <th>usd_per_minute</th>\n",
              "      <th>month</th>\n",
              "      <th>number_of_calls</th>\n",
              "      <th>monthly_duration</th>\n",
              "      <th>extra_minutes</th>\n",
              "    </tr>\n",
              "  </thead>\n",
              "  <tbody>\n",
              "  </tbody>\n",
              "</table>\n",
              "</div>"
            ],
            "text/plain": [
              "Empty DataFrame\n",
              "Columns: [user_id, age, city, plan, minutes_included, usd_per_minute, month, number_of_calls, monthly_duration, extra_minutes]\n",
              "Index: []"
            ]
          },
          "execution_count": 53,
          "metadata": {},
          "output_type": "execute_result"
        }
      ],
      "source": [
        "calls_monthly.query('extra_minutes < 0')"
      ]
    },
    {
      "cell_type": "markdown",
      "metadata": {
        "id": "uBs_xlDx70eL"
      },
      "source": [
        "Pasaremos nuestras columnas de minutos a valores enteros:"
      ]
    },
    {
      "cell_type": "code",
      "execution_count": null,
      "metadata": {
        "id": "vzEqlD9B70eL"
      },
      "outputs": [],
      "source": [
        "calls_monthly['monthly_duration'] = calls_monthly['monthly_duration'].astype('int')\n",
        "calls_monthly['extra_minutes'] = calls_monthly['extra_minutes'].astype('int')"
      ]
    },
    {
      "cell_type": "markdown",
      "metadata": {
        "id": "Adce9TZe70eL"
      },
      "source": [
        "Ahora, podemos crear nuestra columna con el valor extra que pagó cada usuario mensualmente:"
      ]
    },
    {
      "cell_type": "code",
      "execution_count": null,
      "metadata": {
        "id": "BSyzxYGj70eL"
      },
      "outputs": [],
      "source": [
        "calls_monthly['extracalls_revenue'] = calls_monthly['extra_minutes'] * calls_monthly['usd_per_minute']"
      ]
    },
    {
      "cell_type": "code",
      "execution_count": null,
      "metadata": {
        "id": "9ru2EY5k70eL",
        "outputId": "521bd0b2-1086-43fa-fc15-f3ab2c9b7013"
      },
      "outputs": [
        {
          "data": {
            "text/html": [
              "<div>\n",
              "<style scoped>\n",
              "    .dataframe tbody tr th:only-of-type {\n",
              "        vertical-align: middle;\n",
              "    }\n",
              "\n",
              "    .dataframe tbody tr th {\n",
              "        vertical-align: top;\n",
              "    }\n",
              "\n",
              "    .dataframe thead th {\n",
              "        text-align: right;\n",
              "    }\n",
              "</style>\n",
              "<table border=\"1\" class=\"dataframe\">\n",
              "  <thead>\n",
              "    <tr style=\"text-align: right;\">\n",
              "      <th></th>\n",
              "      <th>user_id</th>\n",
              "      <th>age</th>\n",
              "      <th>city</th>\n",
              "      <th>plan</th>\n",
              "      <th>minutes_included</th>\n",
              "      <th>usd_per_minute</th>\n",
              "      <th>month</th>\n",
              "      <th>number_of_calls</th>\n",
              "      <th>monthly_duration</th>\n",
              "      <th>extra_minutes</th>\n",
              "      <th>extracalls_revenue</th>\n",
              "    </tr>\n",
              "  </thead>\n",
              "  <tbody>\n",
              "    <tr>\n",
              "      <th>0</th>\n",
              "      <td>1000</td>\n",
              "      <td>45</td>\n",
              "      <td>Atlanta-Sandy Springs-Roswell, GA MSA</td>\n",
              "      <td>ultimate</td>\n",
              "      <td>3000</td>\n",
              "      <td>0.01</td>\n",
              "      <td>2018-12-01</td>\n",
              "      <td>16</td>\n",
              "      <td>124</td>\n",
              "      <td>0</td>\n",
              "      <td>0.0</td>\n",
              "    </tr>\n",
              "    <tr>\n",
              "      <th>1</th>\n",
              "      <td>1006</td>\n",
              "      <td>73</td>\n",
              "      <td>San Francisco-Oakland-Berkeley, CA MSA</td>\n",
              "      <td>ultimate</td>\n",
              "      <td>3000</td>\n",
              "      <td>0.01</td>\n",
              "      <td>2018-11-01</td>\n",
              "      <td>2</td>\n",
              "      <td>10</td>\n",
              "      <td>0</td>\n",
              "      <td>0.0</td>\n",
              "    </tr>\n",
              "    <tr>\n",
              "      <th>2</th>\n",
              "      <td>1006</td>\n",
              "      <td>73</td>\n",
              "      <td>San Francisco-Oakland-Berkeley, CA MSA</td>\n",
              "      <td>ultimate</td>\n",
              "      <td>3000</td>\n",
              "      <td>0.01</td>\n",
              "      <td>2018-12-01</td>\n",
              "      <td>9</td>\n",
              "      <td>59</td>\n",
              "      <td>0</td>\n",
              "      <td>0.0</td>\n",
              "    </tr>\n",
              "    <tr>\n",
              "      <th>3</th>\n",
              "      <td>1008</td>\n",
              "      <td>53</td>\n",
              "      <td>Orlando-Kissimmee-Sanford, FL MSA</td>\n",
              "      <td>ultimate</td>\n",
              "      <td>3000</td>\n",
              "      <td>0.01</td>\n",
              "      <td>2018-10-01</td>\n",
              "      <td>71</td>\n",
              "      <td>476</td>\n",
              "      <td>0</td>\n",
              "      <td>0.0</td>\n",
              "    </tr>\n",
              "    <tr>\n",
              "      <th>4</th>\n",
              "      <td>1008</td>\n",
              "      <td>53</td>\n",
              "      <td>Orlando-Kissimmee-Sanford, FL MSA</td>\n",
              "      <td>ultimate</td>\n",
              "      <td>3000</td>\n",
              "      <td>0.01</td>\n",
              "      <td>2018-11-01</td>\n",
              "      <td>63</td>\n",
              "      <td>446</td>\n",
              "      <td>0</td>\n",
              "      <td>0.0</td>\n",
              "    </tr>\n",
              "  </tbody>\n",
              "</table>\n",
              "</div>"
            ],
            "text/plain": [
              "  user_id  age                                    city      plan  \\\n",
              "0    1000   45   Atlanta-Sandy Springs-Roswell, GA MSA  ultimate   \n",
              "1    1006   73  San Francisco-Oakland-Berkeley, CA MSA  ultimate   \n",
              "2    1006   73  San Francisco-Oakland-Berkeley, CA MSA  ultimate   \n",
              "3    1008   53       Orlando-Kissimmee-Sanford, FL MSA  ultimate   \n",
              "4    1008   53       Orlando-Kissimmee-Sanford, FL MSA  ultimate   \n",
              "\n",
              "   minutes_included  usd_per_minute      month  number_of_calls  \\\n",
              "0              3000            0.01 2018-12-01               16   \n",
              "1              3000            0.01 2018-11-01                2   \n",
              "2              3000            0.01 2018-12-01                9   \n",
              "3              3000            0.01 2018-10-01               71   \n",
              "4              3000            0.01 2018-11-01               63   \n",
              "\n",
              "   monthly_duration  extra_minutes  extracalls_revenue  \n",
              "0               124              0                 0.0  \n",
              "1                10              0                 0.0  \n",
              "2                59              0                 0.0  \n",
              "3               476              0                 0.0  \n",
              "4               446              0                 0.0  "
            ]
          },
          "execution_count": 56,
          "metadata": {},
          "output_type": "execute_result"
        }
      ],
      "source": [
        "calls_monthly.head()"
      ]
    },
    {
      "cell_type": "markdown",
      "metadata": {
        "id": "Gd8hd30270eM"
      },
      "source": [
        "Hemos logrado obtener entonces nuestra base **\"calls_monthly\"** que contiene las llamadas mensuales y los costos extras. Utilizaremos esta tabla de nuevo al crear nuestra tabla final."
      ]
    },
    {
      "cell_type": "markdown",
      "metadata": {
        "id": "Sr3HNkW-70eM"
      },
      "source": [
        "#### megaline_internet mejorada <a id='preparación_internet'></a>"
      ]
    },
    {
      "cell_type": "markdown",
      "metadata": {
        "id": "RycOlwOm70eM"
      },
      "source": [
        "Lo primero que vamos a hacer, es regularizar todos los valores ya sea a megabytes o gigabytes. Como el precio extra está considerado por gigabyte lo mejor es homologar todo a este valor, ya que modificar el precio podría cambiar los valores. Primero crearemos una columna en megaline_plans que sea 'gb_per_month_included':"
      ]
    },
    {
      "cell_type": "code",
      "execution_count": null,
      "metadata": {
        "id": "bGgyT7tu70eM",
        "outputId": "b8b5f0d8-2a26-40d7-bc3b-418429a1fea4"
      },
      "outputs": [
        {
          "data": {
            "text/html": [
              "<div>\n",
              "<style scoped>\n",
              "    .dataframe tbody tr th:only-of-type {\n",
              "        vertical-align: middle;\n",
              "    }\n",
              "\n",
              "    .dataframe tbody tr th {\n",
              "        vertical-align: top;\n",
              "    }\n",
              "\n",
              "    .dataframe thead th {\n",
              "        text-align: right;\n",
              "    }\n",
              "</style>\n",
              "<table border=\"1\" class=\"dataframe\">\n",
              "  <thead>\n",
              "    <tr style=\"text-align: right;\">\n",
              "      <th></th>\n",
              "      <th>messages_included</th>\n",
              "      <th>mb_per_month_included</th>\n",
              "      <th>minutes_included</th>\n",
              "      <th>usd_monthly_pay</th>\n",
              "      <th>usd_per_gb</th>\n",
              "      <th>usd_per_message</th>\n",
              "      <th>usd_per_minute</th>\n",
              "      <th>plan</th>\n",
              "      <th>gb_per_month_included</th>\n",
              "    </tr>\n",
              "  </thead>\n",
              "  <tbody>\n",
              "    <tr>\n",
              "      <th>0</th>\n",
              "      <td>50</td>\n",
              "      <td>15360</td>\n",
              "      <td>500</td>\n",
              "      <td>20</td>\n",
              "      <td>10</td>\n",
              "      <td>0.03</td>\n",
              "      <td>0.03</td>\n",
              "      <td>surf</td>\n",
              "      <td>15.0</td>\n",
              "    </tr>\n",
              "    <tr>\n",
              "      <th>1</th>\n",
              "      <td>1000</td>\n",
              "      <td>30720</td>\n",
              "      <td>3000</td>\n",
              "      <td>70</td>\n",
              "      <td>7</td>\n",
              "      <td>0.01</td>\n",
              "      <td>0.01</td>\n",
              "      <td>ultimate</td>\n",
              "      <td>30.0</td>\n",
              "    </tr>\n",
              "  </tbody>\n",
              "</table>\n",
              "</div>"
            ],
            "text/plain": [
              "   messages_included  mb_per_month_included  minutes_included  \\\n",
              "0                 50                  15360               500   \n",
              "1               1000                  30720              3000   \n",
              "\n",
              "   usd_monthly_pay  usd_per_gb  usd_per_message  usd_per_minute      plan  \\\n",
              "0               20          10             0.03            0.03      surf   \n",
              "1               70           7             0.01            0.01  ultimate   \n",
              "\n",
              "   gb_per_month_included  \n",
              "0                   15.0  \n",
              "1                   30.0  "
            ]
          },
          "execution_count": 57,
          "metadata": {},
          "output_type": "execute_result"
        }
      ],
      "source": [
        "megaline_plans['gb_per_month_included'] = megaline_plans['mb_per_month_included'] / 1024\n",
        "megaline_plans"
      ]
    },
    {
      "cell_type": "markdown",
      "metadata": {
        "id": "6tiaLczL70eM"
      },
      "source": [
        "Realizaremos lo mismo con la columna 'mb_used' de *megaline_internet*, creando 'gb_used':"
      ]
    },
    {
      "cell_type": "code",
      "execution_count": null,
      "metadata": {
        "id": "BoF_BxOT70eM"
      },
      "outputs": [],
      "source": [
        "megaline_internet['gb_used'] = megaline_internet['mb_used'] / 1024"
      ]
    },
    {
      "cell_type": "markdown",
      "metadata": {
        "id": "1G0GBVCL70eM"
      },
      "source": [
        "Agregaremos nuestra columna para obtener el mes de la llamada:"
      ]
    },
    {
      "cell_type": "code",
      "execution_count": null,
      "metadata": {
        "id": "Kp-cyBXA70eM",
        "outputId": "d4fdb75c-950f-4b92-9fbd-895f3b30f5b0"
      },
      "outputs": [
        {
          "data": {
            "text/html": [
              "<div>\n",
              "<style scoped>\n",
              "    .dataframe tbody tr th:only-of-type {\n",
              "        vertical-align: middle;\n",
              "    }\n",
              "\n",
              "    .dataframe tbody tr th {\n",
              "        vertical-align: top;\n",
              "    }\n",
              "\n",
              "    .dataframe thead th {\n",
              "        text-align: right;\n",
              "    }\n",
              "</style>\n",
              "<table border=\"1\" class=\"dataframe\">\n",
              "  <thead>\n",
              "    <tr style=\"text-align: right;\">\n",
              "      <th></th>\n",
              "      <th>id</th>\n",
              "      <th>user_id</th>\n",
              "      <th>session_date</th>\n",
              "      <th>mb_used</th>\n",
              "      <th>gb_used</th>\n",
              "      <th>month</th>\n",
              "    </tr>\n",
              "  </thead>\n",
              "  <tbody>\n",
              "    <tr>\n",
              "      <th>0</th>\n",
              "      <td>1000_13</td>\n",
              "      <td>1000</td>\n",
              "      <td>2018-12-29</td>\n",
              "      <td>89.86</td>\n",
              "      <td>0.087754</td>\n",
              "      <td>2018-12-01</td>\n",
              "    </tr>\n",
              "    <tr>\n",
              "      <th>1</th>\n",
              "      <td>1000_204</td>\n",
              "      <td>1000</td>\n",
              "      <td>2018-12-31</td>\n",
              "      <td>0.00</td>\n",
              "      <td>0.000000</td>\n",
              "      <td>2018-12-01</td>\n",
              "    </tr>\n",
              "    <tr>\n",
              "      <th>2</th>\n",
              "      <td>1000_379</td>\n",
              "      <td>1000</td>\n",
              "      <td>2018-12-28</td>\n",
              "      <td>660.40</td>\n",
              "      <td>0.644922</td>\n",
              "      <td>2018-12-01</td>\n",
              "    </tr>\n",
              "    <tr>\n",
              "      <th>3</th>\n",
              "      <td>1000_413</td>\n",
              "      <td>1000</td>\n",
              "      <td>2018-12-26</td>\n",
              "      <td>270.99</td>\n",
              "      <td>0.264639</td>\n",
              "      <td>2018-12-01</td>\n",
              "    </tr>\n",
              "    <tr>\n",
              "      <th>4</th>\n",
              "      <td>1000_442</td>\n",
              "      <td>1000</td>\n",
              "      <td>2018-12-27</td>\n",
              "      <td>880.22</td>\n",
              "      <td>0.859590</td>\n",
              "      <td>2018-12-01</td>\n",
              "    </tr>\n",
              "  </tbody>\n",
              "</table>\n",
              "</div>"
            ],
            "text/plain": [
              "         id user_id session_date  mb_used   gb_used      month\n",
              "0   1000_13    1000   2018-12-29    89.86  0.087754 2018-12-01\n",
              "1  1000_204    1000   2018-12-31     0.00  0.000000 2018-12-01\n",
              "2  1000_379    1000   2018-12-28   660.40  0.644922 2018-12-01\n",
              "3  1000_413    1000   2018-12-26   270.99  0.264639 2018-12-01\n",
              "4  1000_442    1000   2018-12-27   880.22  0.859590 2018-12-01"
            ]
          },
          "execution_count": 59,
          "metadata": {},
          "output_type": "execute_result"
        }
      ],
      "source": [
        "megaline_internet['month'] = megaline_internet['session_date'].astype('datetime64[M]')\n",
        "megaline_internet.head()"
      ]
    },
    {
      "cell_type": "markdown",
      "metadata": {
        "id": "09SIWwj570eN"
      },
      "source": [
        "Con esta tabla, ya podemos agrupar nuestros datos por usuario y por mes:"
      ]
    },
    {
      "cell_type": "code",
      "execution_count": null,
      "metadata": {
        "id": "ijitmQmN70eN",
        "outputId": "3f160d9e-48bc-461d-d79d-950aaede995c"
      },
      "outputs": [
        {
          "data": {
            "text/html": [
              "<div>\n",
              "<style scoped>\n",
              "    .dataframe tbody tr th:only-of-type {\n",
              "        vertical-align: middle;\n",
              "    }\n",
              "\n",
              "    .dataframe tbody tr th {\n",
              "        vertical-align: top;\n",
              "    }\n",
              "\n",
              "    .dataframe thead th {\n",
              "        text-align: right;\n",
              "    }\n",
              "</style>\n",
              "<table border=\"1\" class=\"dataframe\">\n",
              "  <thead>\n",
              "    <tr style=\"text-align: right;\">\n",
              "      <th></th>\n",
              "      <th>user_id</th>\n",
              "      <th>month</th>\n",
              "      <th>number_of_sessions</th>\n",
              "      <th>monthly_gb_used</th>\n",
              "    </tr>\n",
              "  </thead>\n",
              "  <tbody>\n",
              "    <tr>\n",
              "      <th>0</th>\n",
              "      <td>1000</td>\n",
              "      <td>2018-12-01</td>\n",
              "      <td>5</td>\n",
              "      <td>1.856904</td>\n",
              "    </tr>\n",
              "    <tr>\n",
              "      <th>1</th>\n",
              "      <td>1001</td>\n",
              "      <td>2018-08-01</td>\n",
              "      <td>25</td>\n",
              "      <td>6.756982</td>\n",
              "    </tr>\n",
              "    <tr>\n",
              "      <th>2</th>\n",
              "      <td>1001</td>\n",
              "      <td>2018-09-01</td>\n",
              "      <td>53</td>\n",
              "      <td>13.002754</td>\n",
              "    </tr>\n",
              "    <tr>\n",
              "      <th>3</th>\n",
              "      <td>1001</td>\n",
              "      <td>2018-10-01</td>\n",
              "      <td>56</td>\n",
              "      <td>21.807119</td>\n",
              "    </tr>\n",
              "    <tr>\n",
              "      <th>4</th>\n",
              "      <td>1001</td>\n",
              "      <td>2018-11-01</td>\n",
              "      <td>51</td>\n",
              "      <td>18.070605</td>\n",
              "    </tr>\n",
              "    <tr>\n",
              "      <th>...</th>\n",
              "      <td>...</td>\n",
              "      <td>...</td>\n",
              "      <td>...</td>\n",
              "      <td>...</td>\n",
              "    </tr>\n",
              "    <tr>\n",
              "      <th>2272</th>\n",
              "      <td>1498</td>\n",
              "      <td>2018-12-01</td>\n",
              "      <td>65</td>\n",
              "      <td>22.595400</td>\n",
              "    </tr>\n",
              "    <tr>\n",
              "      <th>2273</th>\n",
              "      <td>1499</td>\n",
              "      <td>2018-09-01</td>\n",
              "      <td>45</td>\n",
              "      <td>12.680430</td>\n",
              "    </tr>\n",
              "    <tr>\n",
              "      <th>2274</th>\n",
              "      <td>1499</td>\n",
              "      <td>2018-10-01</td>\n",
              "      <td>61</td>\n",
              "      <td>19.035576</td>\n",
              "    </tr>\n",
              "    <tr>\n",
              "      <th>2275</th>\n",
              "      <td>1499</td>\n",
              "      <td>2018-11-01</td>\n",
              "      <td>49</td>\n",
              "      <td>16.419756</td>\n",
              "    </tr>\n",
              "    <tr>\n",
              "      <th>2276</th>\n",
              "      <td>1499</td>\n",
              "      <td>2018-12-01</td>\n",
              "      <td>65</td>\n",
              "      <td>21.542197</td>\n",
              "    </tr>\n",
              "  </tbody>\n",
              "</table>\n",
              "<p>2277 rows × 4 columns</p>\n",
              "</div>"
            ],
            "text/plain": [
              "      user_id      month  number_of_sessions  monthly_gb_used\n",
              "0        1000 2018-12-01                   5         1.856904\n",
              "1        1001 2018-08-01                  25         6.756982\n",
              "2        1001 2018-09-01                  53        13.002754\n",
              "3        1001 2018-10-01                  56        21.807119\n",
              "4        1001 2018-11-01                  51        18.070605\n",
              "...       ...        ...                 ...              ...\n",
              "2272     1498 2018-12-01                  65        22.595400\n",
              "2273     1499 2018-09-01                  45        12.680430\n",
              "2274     1499 2018-10-01                  61        19.035576\n",
              "2275     1499 2018-11-01                  49        16.419756\n",
              "2276     1499 2018-12-01                  65        21.542197\n",
              "\n",
              "[2277 rows x 4 columns]"
            ]
          },
          "execution_count": 60,
          "metadata": {},
          "output_type": "execute_result"
        }
      ],
      "source": [
        "internet_by_user_by_month = megaline_internet.groupby([\"user_id\", \"month\"]).agg({\"id\": \"count\", \"gb_used\": \"sum\"}).reset_index()\n",
        "internet_by_user_by_month.columns = ['user_id', 'month', 'number_of_sessions', 'monthly_gb_used']\n",
        "internet_by_user_by_month"
      ]
    },
    {
      "cell_type": "markdown",
      "metadata": {
        "id": "kN7s7TJN70eN"
      },
      "source": [
        "Ahora, de acuerdo a la descripcion tarifaria de Megaline, redondearemos los gb utilizados al mes:"
      ]
    },
    {
      "cell_type": "code",
      "execution_count": null,
      "metadata": {
        "id": "p61N4STw70eN"
      },
      "outputs": [],
      "source": [
        "internet_by_user_by_month['monthly_gb_used'] = internet_by_user_by_month['monthly_gb_used'].apply(np.ceil)\n",
        "internet_by_user_by_month['monthly_gb_used'] = internet_by_user_by_month['monthly_gb_used'].astype('int')"
      ]
    },
    {
      "cell_type": "code",
      "execution_count": null,
      "metadata": {
        "id": "JNbu2DRK70eN",
        "outputId": "e2d4e987-8a70-4ba6-cc4b-e07d8c6c5665"
      },
      "outputs": [
        {
          "data": {
            "text/html": [
              "<div>\n",
              "<style scoped>\n",
              "    .dataframe tbody tr th:only-of-type {\n",
              "        vertical-align: middle;\n",
              "    }\n",
              "\n",
              "    .dataframe tbody tr th {\n",
              "        vertical-align: top;\n",
              "    }\n",
              "\n",
              "    .dataframe thead th {\n",
              "        text-align: right;\n",
              "    }\n",
              "</style>\n",
              "<table border=\"1\" class=\"dataframe\">\n",
              "  <thead>\n",
              "    <tr style=\"text-align: right;\">\n",
              "      <th></th>\n",
              "      <th>user_id</th>\n",
              "      <th>month</th>\n",
              "      <th>number_of_sessions</th>\n",
              "      <th>monthly_gb_used</th>\n",
              "    </tr>\n",
              "  </thead>\n",
              "  <tbody>\n",
              "    <tr>\n",
              "      <th>0</th>\n",
              "      <td>1000</td>\n",
              "      <td>2018-12-01</td>\n",
              "      <td>5</td>\n",
              "      <td>2</td>\n",
              "    </tr>\n",
              "    <tr>\n",
              "      <th>1</th>\n",
              "      <td>1001</td>\n",
              "      <td>2018-08-01</td>\n",
              "      <td>25</td>\n",
              "      <td>7</td>\n",
              "    </tr>\n",
              "    <tr>\n",
              "      <th>2</th>\n",
              "      <td>1001</td>\n",
              "      <td>2018-09-01</td>\n",
              "      <td>53</td>\n",
              "      <td>14</td>\n",
              "    </tr>\n",
              "    <tr>\n",
              "      <th>3</th>\n",
              "      <td>1001</td>\n",
              "      <td>2018-10-01</td>\n",
              "      <td>56</td>\n",
              "      <td>22</td>\n",
              "    </tr>\n",
              "    <tr>\n",
              "      <th>4</th>\n",
              "      <td>1001</td>\n",
              "      <td>2018-11-01</td>\n",
              "      <td>51</td>\n",
              "      <td>19</td>\n",
              "    </tr>\n",
              "    <tr>\n",
              "      <th>...</th>\n",
              "      <td>...</td>\n",
              "      <td>...</td>\n",
              "      <td>...</td>\n",
              "      <td>...</td>\n",
              "    </tr>\n",
              "    <tr>\n",
              "      <th>2272</th>\n",
              "      <td>1498</td>\n",
              "      <td>2018-12-01</td>\n",
              "      <td>65</td>\n",
              "      <td>23</td>\n",
              "    </tr>\n",
              "    <tr>\n",
              "      <th>2273</th>\n",
              "      <td>1499</td>\n",
              "      <td>2018-09-01</td>\n",
              "      <td>45</td>\n",
              "      <td>13</td>\n",
              "    </tr>\n",
              "    <tr>\n",
              "      <th>2274</th>\n",
              "      <td>1499</td>\n",
              "      <td>2018-10-01</td>\n",
              "      <td>61</td>\n",
              "      <td>20</td>\n",
              "    </tr>\n",
              "    <tr>\n",
              "      <th>2275</th>\n",
              "      <td>1499</td>\n",
              "      <td>2018-11-01</td>\n",
              "      <td>49</td>\n",
              "      <td>17</td>\n",
              "    </tr>\n",
              "    <tr>\n",
              "      <th>2276</th>\n",
              "      <td>1499</td>\n",
              "      <td>2018-12-01</td>\n",
              "      <td>65</td>\n",
              "      <td>22</td>\n",
              "    </tr>\n",
              "  </tbody>\n",
              "</table>\n",
              "<p>2277 rows × 4 columns</p>\n",
              "</div>"
            ],
            "text/plain": [
              "      user_id      month  number_of_sessions  monthly_gb_used\n",
              "0        1000 2018-12-01                   5                2\n",
              "1        1001 2018-08-01                  25                7\n",
              "2        1001 2018-09-01                  53               14\n",
              "3        1001 2018-10-01                  56               22\n",
              "4        1001 2018-11-01                  51               19\n",
              "...       ...        ...                 ...              ...\n",
              "2272     1498 2018-12-01                  65               23\n",
              "2273     1499 2018-09-01                  45               13\n",
              "2274     1499 2018-10-01                  61               20\n",
              "2275     1499 2018-11-01                  49               17\n",
              "2276     1499 2018-12-01                  65               22\n",
              "\n",
              "[2277 rows x 4 columns]"
            ]
          },
          "execution_count": 62,
          "metadata": {},
          "output_type": "execute_result"
        }
      ],
      "source": [
        "internet_by_user_by_month"
      ]
    },
    {
      "cell_type": "markdown",
      "metadata": {
        "id": "tTATuG6k70eN"
      },
      "source": [
        "Ya tenemos nuestra tabla agrupada por usuario y mes, podemos ver en ella el número de sesiones mensuales y los gigas totales utilizados. Como en el punto anterior, vamos a crear una tabla expandida:"
      ]
    },
    {
      "cell_type": "code",
      "execution_count": null,
      "metadata": {
        "id": "aJSCcoxe70eN",
        "outputId": "4e9173e0-37b9-43c3-f736-29485261ff89"
      },
      "outputs": [
        {
          "data": {
            "text/html": [
              "<div>\n",
              "<style scoped>\n",
              "    .dataframe tbody tr th:only-of-type {\n",
              "        vertical-align: middle;\n",
              "    }\n",
              "\n",
              "    .dataframe tbody tr th {\n",
              "        vertical-align: top;\n",
              "    }\n",
              "\n",
              "    .dataframe thead th {\n",
              "        text-align: right;\n",
              "    }\n",
              "</style>\n",
              "<table border=\"1\" class=\"dataframe\">\n",
              "  <thead>\n",
              "    <tr style=\"text-align: right;\">\n",
              "      <th></th>\n",
              "      <th>user_id</th>\n",
              "      <th>age</th>\n",
              "      <th>city</th>\n",
              "      <th>plan</th>\n",
              "    </tr>\n",
              "  </thead>\n",
              "  <tbody>\n",
              "    <tr>\n",
              "      <th>0</th>\n",
              "      <td>1000</td>\n",
              "      <td>45</td>\n",
              "      <td>Atlanta-Sandy Springs-Roswell, GA MSA</td>\n",
              "      <td>ultimate</td>\n",
              "    </tr>\n",
              "    <tr>\n",
              "      <th>1</th>\n",
              "      <td>1001</td>\n",
              "      <td>28</td>\n",
              "      <td>Seattle-Tacoma-Bellevue, WA MSA</td>\n",
              "      <td>surf</td>\n",
              "    </tr>\n",
              "    <tr>\n",
              "      <th>2</th>\n",
              "      <td>1002</td>\n",
              "      <td>36</td>\n",
              "      <td>Las Vegas-Henderson-Paradise, NV MSA</td>\n",
              "      <td>surf</td>\n",
              "    </tr>\n",
              "    <tr>\n",
              "      <th>3</th>\n",
              "      <td>1003</td>\n",
              "      <td>52</td>\n",
              "      <td>Tulsa, OK MSA</td>\n",
              "      <td>surf</td>\n",
              "    </tr>\n",
              "    <tr>\n",
              "      <th>4</th>\n",
              "      <td>1004</td>\n",
              "      <td>40</td>\n",
              "      <td>Seattle-Tacoma-Bellevue, WA MSA</td>\n",
              "      <td>surf</td>\n",
              "    </tr>\n",
              "  </tbody>\n",
              "</table>\n",
              "</div>"
            ],
            "text/plain": [
              "  user_id  age                                   city      plan\n",
              "0    1000   45  Atlanta-Sandy Springs-Roswell, GA MSA  ultimate\n",
              "1    1001   28        Seattle-Tacoma-Bellevue, WA MSA      surf\n",
              "2    1002   36   Las Vegas-Henderson-Paradise, NV MSA      surf\n",
              "3    1003   52                          Tulsa, OK MSA      surf\n",
              "4    1004   40        Seattle-Tacoma-Bellevue, WA MSA      surf"
            ]
          },
          "execution_count": 63,
          "metadata": {},
          "output_type": "execute_result"
        }
      ],
      "source": [
        "internet_expanded = megaline_users.loc[:,['user_id','age','city','plan']]\n",
        "internet_expanded.head()"
      ]
    },
    {
      "cell_type": "code",
      "execution_count": null,
      "metadata": {
        "id": "HctrYLao70eN",
        "outputId": "8339e71b-028e-4ab9-a093-0b999289f100"
      },
      "outputs": [
        {
          "data": {
            "text/html": [
              "<div>\n",
              "<style scoped>\n",
              "    .dataframe tbody tr th:only-of-type {\n",
              "        vertical-align: middle;\n",
              "    }\n",
              "\n",
              "    .dataframe tbody tr th {\n",
              "        vertical-align: top;\n",
              "    }\n",
              "\n",
              "    .dataframe thead th {\n",
              "        text-align: right;\n",
              "    }\n",
              "</style>\n",
              "<table border=\"1\" class=\"dataframe\">\n",
              "  <thead>\n",
              "    <tr style=\"text-align: right;\">\n",
              "      <th></th>\n",
              "      <th>plan</th>\n",
              "      <th>gb_per_month_included</th>\n",
              "      <th>usd_per_gb</th>\n",
              "    </tr>\n",
              "  </thead>\n",
              "  <tbody>\n",
              "    <tr>\n",
              "      <th>0</th>\n",
              "      <td>surf</td>\n",
              "      <td>15.0</td>\n",
              "      <td>10</td>\n",
              "    </tr>\n",
              "    <tr>\n",
              "      <th>1</th>\n",
              "      <td>ultimate</td>\n",
              "      <td>30.0</td>\n",
              "      <td>7</td>\n",
              "    </tr>\n",
              "  </tbody>\n",
              "</table>\n",
              "</div>"
            ],
            "text/plain": [
              "       plan  gb_per_month_included  usd_per_gb\n",
              "0      surf                   15.0          10\n",
              "1  ultimate                   30.0           7"
            ]
          },
          "execution_count": 64,
          "metadata": {},
          "output_type": "execute_result"
        }
      ],
      "source": [
        "internet_plans = megaline_plans.loc[:,['plan','gb_per_month_included','usd_per_gb']]\n",
        "internet_plans.head()"
      ]
    },
    {
      "cell_type": "code",
      "execution_count": null,
      "metadata": {
        "id": "ZsgmJ59x70eN",
        "outputId": "0328a648-e369-4463-f1d0-1b4490535068"
      },
      "outputs": [
        {
          "data": {
            "text/html": [
              "<div>\n",
              "<style scoped>\n",
              "    .dataframe tbody tr th:only-of-type {\n",
              "        vertical-align: middle;\n",
              "    }\n",
              "\n",
              "    .dataframe tbody tr th {\n",
              "        vertical-align: top;\n",
              "    }\n",
              "\n",
              "    .dataframe thead th {\n",
              "        text-align: right;\n",
              "    }\n",
              "</style>\n",
              "<table border=\"1\" class=\"dataframe\">\n",
              "  <thead>\n",
              "    <tr style=\"text-align: right;\">\n",
              "      <th></th>\n",
              "      <th>user_id</th>\n",
              "      <th>age</th>\n",
              "      <th>city</th>\n",
              "      <th>plan</th>\n",
              "      <th>gb_per_month_included</th>\n",
              "      <th>usd_per_gb</th>\n",
              "      <th>month</th>\n",
              "      <th>number_of_sessions</th>\n",
              "      <th>monthly_gb_used</th>\n",
              "    </tr>\n",
              "  </thead>\n",
              "  <tbody>\n",
              "    <tr>\n",
              "      <th>0</th>\n",
              "      <td>1000</td>\n",
              "      <td>45</td>\n",
              "      <td>Atlanta-Sandy Springs-Roswell, GA MSA</td>\n",
              "      <td>ultimate</td>\n",
              "      <td>30.0</td>\n",
              "      <td>7</td>\n",
              "      <td>2018-12-01</td>\n",
              "      <td>5</td>\n",
              "      <td>2</td>\n",
              "    </tr>\n",
              "    <tr>\n",
              "      <th>1</th>\n",
              "      <td>1006</td>\n",
              "      <td>73</td>\n",
              "      <td>San Francisco-Oakland-Berkeley, CA MSA</td>\n",
              "      <td>ultimate</td>\n",
              "      <td>30.0</td>\n",
              "      <td>7</td>\n",
              "      <td>2018-11-01</td>\n",
              "      <td>7</td>\n",
              "      <td>3</td>\n",
              "    </tr>\n",
              "    <tr>\n",
              "      <th>2</th>\n",
              "      <td>1006</td>\n",
              "      <td>73</td>\n",
              "      <td>San Francisco-Oakland-Berkeley, CA MSA</td>\n",
              "      <td>ultimate</td>\n",
              "      <td>30.0</td>\n",
              "      <td>7</td>\n",
              "      <td>2018-12-01</td>\n",
              "      <td>63</td>\n",
              "      <td>32</td>\n",
              "    </tr>\n",
              "    <tr>\n",
              "      <th>3</th>\n",
              "      <td>1008</td>\n",
              "      <td>53</td>\n",
              "      <td>Orlando-Kissimmee-Sanford, FL MSA</td>\n",
              "      <td>ultimate</td>\n",
              "      <td>30.0</td>\n",
              "      <td>7</td>\n",
              "      <td>2018-10-01</td>\n",
              "      <td>57</td>\n",
              "      <td>17</td>\n",
              "    </tr>\n",
              "    <tr>\n",
              "      <th>4</th>\n",
              "      <td>1008</td>\n",
              "      <td>53</td>\n",
              "      <td>Orlando-Kissimmee-Sanford, FL MSA</td>\n",
              "      <td>ultimate</td>\n",
              "      <td>30.0</td>\n",
              "      <td>7</td>\n",
              "      <td>2018-11-01</td>\n",
              "      <td>72</td>\n",
              "      <td>24</td>\n",
              "    </tr>\n",
              "  </tbody>\n",
              "</table>\n",
              "</div>"
            ],
            "text/plain": [
              "  user_id  age                                    city      plan  \\\n",
              "0    1000   45   Atlanta-Sandy Springs-Roswell, GA MSA  ultimate   \n",
              "1    1006   73  San Francisco-Oakland-Berkeley, CA MSA  ultimate   \n",
              "2    1006   73  San Francisco-Oakland-Berkeley, CA MSA  ultimate   \n",
              "3    1008   53       Orlando-Kissimmee-Sanford, FL MSA  ultimate   \n",
              "4    1008   53       Orlando-Kissimmee-Sanford, FL MSA  ultimate   \n",
              "\n",
              "   gb_per_month_included  usd_per_gb      month  number_of_sessions  \\\n",
              "0                   30.0           7 2018-12-01                   5   \n",
              "1                   30.0           7 2018-11-01                   7   \n",
              "2                   30.0           7 2018-12-01                  63   \n",
              "3                   30.0           7 2018-10-01                  57   \n",
              "4                   30.0           7 2018-11-01                  72   \n",
              "\n",
              "   monthly_gb_used  \n",
              "0                2  \n",
              "1                3  \n",
              "2               32  \n",
              "3               17  \n",
              "4               24  "
            ]
          },
          "execution_count": 65,
          "metadata": {},
          "output_type": "execute_result"
        }
      ],
      "source": [
        "internet_monthly = internet_expanded.merge(internet_plans, on='plan')\n",
        "internet_monthly = internet_monthly.merge(internet_by_user_by_month, on='user_id')\n",
        "internet_monthly.head()"
      ]
    },
    {
      "cell_type": "markdown",
      "metadata": {
        "id": "B3FAo34s70eO"
      },
      "source": [
        "Añadiremos la columna 'extra_gb' que correspondera al monto en gigas pasado lo incluido en el plan, también transformaremos los valores negativos en cero:"
      ]
    },
    {
      "cell_type": "code",
      "execution_count": null,
      "metadata": {
        "id": "HSKAhRvd70eO"
      },
      "outputs": [],
      "source": [
        "internet_monthly['extra_gb'] = internet_monthly['monthly_gb_used'] - internet_monthly['gb_per_month_included']\n",
        "internet_monthly['extra_gb'] = np.where(internet_monthly['extra_gb'] < 0, 0, internet_monthly['extra_gb'])"
      ]
    },
    {
      "cell_type": "code",
      "execution_count": null,
      "metadata": {
        "id": "a7ufyJ8E70eO",
        "outputId": "d66606c2-c7eb-414c-819d-3c5279ba5657"
      },
      "outputs": [
        {
          "data": {
            "text/html": [
              "<div>\n",
              "<style scoped>\n",
              "    .dataframe tbody tr th:only-of-type {\n",
              "        vertical-align: middle;\n",
              "    }\n",
              "\n",
              "    .dataframe tbody tr th {\n",
              "        vertical-align: top;\n",
              "    }\n",
              "\n",
              "    .dataframe thead th {\n",
              "        text-align: right;\n",
              "    }\n",
              "</style>\n",
              "<table border=\"1\" class=\"dataframe\">\n",
              "  <thead>\n",
              "    <tr style=\"text-align: right;\">\n",
              "      <th></th>\n",
              "      <th>user_id</th>\n",
              "      <th>age</th>\n",
              "      <th>city</th>\n",
              "      <th>plan</th>\n",
              "      <th>gb_per_month_included</th>\n",
              "      <th>usd_per_gb</th>\n",
              "      <th>month</th>\n",
              "      <th>number_of_sessions</th>\n",
              "      <th>monthly_gb_used</th>\n",
              "      <th>extra_gb</th>\n",
              "    </tr>\n",
              "  </thead>\n",
              "  <tbody>\n",
              "    <tr>\n",
              "      <th>0</th>\n",
              "      <td>1000</td>\n",
              "      <td>45</td>\n",
              "      <td>Atlanta-Sandy Springs-Roswell, GA MSA</td>\n",
              "      <td>ultimate</td>\n",
              "      <td>30.0</td>\n",
              "      <td>7</td>\n",
              "      <td>2018-12-01</td>\n",
              "      <td>5</td>\n",
              "      <td>2</td>\n",
              "      <td>0.0</td>\n",
              "    </tr>\n",
              "    <tr>\n",
              "      <th>1</th>\n",
              "      <td>1006</td>\n",
              "      <td>73</td>\n",
              "      <td>San Francisco-Oakland-Berkeley, CA MSA</td>\n",
              "      <td>ultimate</td>\n",
              "      <td>30.0</td>\n",
              "      <td>7</td>\n",
              "      <td>2018-11-01</td>\n",
              "      <td>7</td>\n",
              "      <td>3</td>\n",
              "      <td>0.0</td>\n",
              "    </tr>\n",
              "    <tr>\n",
              "      <th>2</th>\n",
              "      <td>1006</td>\n",
              "      <td>73</td>\n",
              "      <td>San Francisco-Oakland-Berkeley, CA MSA</td>\n",
              "      <td>ultimate</td>\n",
              "      <td>30.0</td>\n",
              "      <td>7</td>\n",
              "      <td>2018-12-01</td>\n",
              "      <td>63</td>\n",
              "      <td>32</td>\n",
              "      <td>2.0</td>\n",
              "    </tr>\n",
              "    <tr>\n",
              "      <th>3</th>\n",
              "      <td>1008</td>\n",
              "      <td>53</td>\n",
              "      <td>Orlando-Kissimmee-Sanford, FL MSA</td>\n",
              "      <td>ultimate</td>\n",
              "      <td>30.0</td>\n",
              "      <td>7</td>\n",
              "      <td>2018-10-01</td>\n",
              "      <td>57</td>\n",
              "      <td>17</td>\n",
              "      <td>0.0</td>\n",
              "    </tr>\n",
              "    <tr>\n",
              "      <th>4</th>\n",
              "      <td>1008</td>\n",
              "      <td>53</td>\n",
              "      <td>Orlando-Kissimmee-Sanford, FL MSA</td>\n",
              "      <td>ultimate</td>\n",
              "      <td>30.0</td>\n",
              "      <td>7</td>\n",
              "      <td>2018-11-01</td>\n",
              "      <td>72</td>\n",
              "      <td>24</td>\n",
              "      <td>0.0</td>\n",
              "    </tr>\n",
              "  </tbody>\n",
              "</table>\n",
              "</div>"
            ],
            "text/plain": [
              "  user_id  age                                    city      plan  \\\n",
              "0    1000   45   Atlanta-Sandy Springs-Roswell, GA MSA  ultimate   \n",
              "1    1006   73  San Francisco-Oakland-Berkeley, CA MSA  ultimate   \n",
              "2    1006   73  San Francisco-Oakland-Berkeley, CA MSA  ultimate   \n",
              "3    1008   53       Orlando-Kissimmee-Sanford, FL MSA  ultimate   \n",
              "4    1008   53       Orlando-Kissimmee-Sanford, FL MSA  ultimate   \n",
              "\n",
              "   gb_per_month_included  usd_per_gb      month  number_of_sessions  \\\n",
              "0                   30.0           7 2018-12-01                   5   \n",
              "1                   30.0           7 2018-11-01                   7   \n",
              "2                   30.0           7 2018-12-01                  63   \n",
              "3                   30.0           7 2018-10-01                  57   \n",
              "4                   30.0           7 2018-11-01                  72   \n",
              "\n",
              "   monthly_gb_used  extra_gb  \n",
              "0                2       0.0  \n",
              "1                3       0.0  \n",
              "2               32       2.0  \n",
              "3               17       0.0  \n",
              "4               24       0.0  "
            ]
          },
          "execution_count": 67,
          "metadata": {},
          "output_type": "execute_result"
        }
      ],
      "source": [
        "internet_monthly.head()"
      ]
    },
    {
      "cell_type": "markdown",
      "metadata": {
        "id": "pH50sQbI70eO"
      },
      "source": [
        "Finalmente sacaremos el monto extra a pagar por excederse en los gigabytes:"
      ]
    },
    {
      "cell_type": "code",
      "execution_count": null,
      "metadata": {
        "id": "sxg3ojg370eO",
        "outputId": "9b4980c5-c215-4767-9880-4018dd2f1a63"
      },
      "outputs": [
        {
          "data": {
            "text/html": [
              "<div>\n",
              "<style scoped>\n",
              "    .dataframe tbody tr th:only-of-type {\n",
              "        vertical-align: middle;\n",
              "    }\n",
              "\n",
              "    .dataframe tbody tr th {\n",
              "        vertical-align: top;\n",
              "    }\n",
              "\n",
              "    .dataframe thead th {\n",
              "        text-align: right;\n",
              "    }\n",
              "</style>\n",
              "<table border=\"1\" class=\"dataframe\">\n",
              "  <thead>\n",
              "    <tr style=\"text-align: right;\">\n",
              "      <th></th>\n",
              "      <th>user_id</th>\n",
              "      <th>age</th>\n",
              "      <th>city</th>\n",
              "      <th>plan</th>\n",
              "      <th>gb_per_month_included</th>\n",
              "      <th>usd_per_gb</th>\n",
              "      <th>month</th>\n",
              "      <th>number_of_sessions</th>\n",
              "      <th>monthly_gb_used</th>\n",
              "      <th>extra_gb</th>\n",
              "      <th>extragigas_revenue</th>\n",
              "    </tr>\n",
              "  </thead>\n",
              "  <tbody>\n",
              "    <tr>\n",
              "      <th>0</th>\n",
              "      <td>1000</td>\n",
              "      <td>45</td>\n",
              "      <td>Atlanta-Sandy Springs-Roswell, GA MSA</td>\n",
              "      <td>ultimate</td>\n",
              "      <td>30.0</td>\n",
              "      <td>7</td>\n",
              "      <td>2018-12-01</td>\n",
              "      <td>5</td>\n",
              "      <td>2</td>\n",
              "      <td>0.0</td>\n",
              "      <td>0.0</td>\n",
              "    </tr>\n",
              "    <tr>\n",
              "      <th>1</th>\n",
              "      <td>1006</td>\n",
              "      <td>73</td>\n",
              "      <td>San Francisco-Oakland-Berkeley, CA MSA</td>\n",
              "      <td>ultimate</td>\n",
              "      <td>30.0</td>\n",
              "      <td>7</td>\n",
              "      <td>2018-11-01</td>\n",
              "      <td>7</td>\n",
              "      <td>3</td>\n",
              "      <td>0.0</td>\n",
              "      <td>0.0</td>\n",
              "    </tr>\n",
              "    <tr>\n",
              "      <th>2</th>\n",
              "      <td>1006</td>\n",
              "      <td>73</td>\n",
              "      <td>San Francisco-Oakland-Berkeley, CA MSA</td>\n",
              "      <td>ultimate</td>\n",
              "      <td>30.0</td>\n",
              "      <td>7</td>\n",
              "      <td>2018-12-01</td>\n",
              "      <td>63</td>\n",
              "      <td>32</td>\n",
              "      <td>2.0</td>\n",
              "      <td>14.0</td>\n",
              "    </tr>\n",
              "    <tr>\n",
              "      <th>3</th>\n",
              "      <td>1008</td>\n",
              "      <td>53</td>\n",
              "      <td>Orlando-Kissimmee-Sanford, FL MSA</td>\n",
              "      <td>ultimate</td>\n",
              "      <td>30.0</td>\n",
              "      <td>7</td>\n",
              "      <td>2018-10-01</td>\n",
              "      <td>57</td>\n",
              "      <td>17</td>\n",
              "      <td>0.0</td>\n",
              "      <td>0.0</td>\n",
              "    </tr>\n",
              "    <tr>\n",
              "      <th>4</th>\n",
              "      <td>1008</td>\n",
              "      <td>53</td>\n",
              "      <td>Orlando-Kissimmee-Sanford, FL MSA</td>\n",
              "      <td>ultimate</td>\n",
              "      <td>30.0</td>\n",
              "      <td>7</td>\n",
              "      <td>2018-11-01</td>\n",
              "      <td>72</td>\n",
              "      <td>24</td>\n",
              "      <td>0.0</td>\n",
              "      <td>0.0</td>\n",
              "    </tr>\n",
              "  </tbody>\n",
              "</table>\n",
              "</div>"
            ],
            "text/plain": [
              "  user_id  age                                    city      plan  \\\n",
              "0    1000   45   Atlanta-Sandy Springs-Roswell, GA MSA  ultimate   \n",
              "1    1006   73  San Francisco-Oakland-Berkeley, CA MSA  ultimate   \n",
              "2    1006   73  San Francisco-Oakland-Berkeley, CA MSA  ultimate   \n",
              "3    1008   53       Orlando-Kissimmee-Sanford, FL MSA  ultimate   \n",
              "4    1008   53       Orlando-Kissimmee-Sanford, FL MSA  ultimate   \n",
              "\n",
              "   gb_per_month_included  usd_per_gb      month  number_of_sessions  \\\n",
              "0                   30.0           7 2018-12-01                   5   \n",
              "1                   30.0           7 2018-11-01                   7   \n",
              "2                   30.0           7 2018-12-01                  63   \n",
              "3                   30.0           7 2018-10-01                  57   \n",
              "4                   30.0           7 2018-11-01                  72   \n",
              "\n",
              "   monthly_gb_used  extra_gb  extragigas_revenue  \n",
              "0                2       0.0                 0.0  \n",
              "1                3       0.0                 0.0  \n",
              "2               32       2.0                14.0  \n",
              "3               17       0.0                 0.0  \n",
              "4               24       0.0                 0.0  "
            ]
          },
          "execution_count": 68,
          "metadata": {},
          "output_type": "execute_result"
        }
      ],
      "source": [
        "internet_monthly['extragigas_revenue'] = internet_monthly['extra_gb'] * internet_monthly['usd_per_gb']\n",
        "internet_monthly.head()"
      ]
    },
    {
      "cell_type": "markdown",
      "metadata": {
        "id": "PMVj1MFg70eO"
      },
      "source": [
        "Con esto terminamos nuestra tabla base **\"internet_monthly\"**."
      ]
    },
    {
      "cell_type": "markdown",
      "metadata": {
        "id": "Y5MEo19I70eP"
      },
      "source": [
        "#### megaline_messages mejorada <a id='preparación_messages'></a>"
      ]
    },
    {
      "cell_type": "markdown",
      "metadata": {
        "id": "ZmU43TEh70eP"
      },
      "source": [
        "Con nuestra tabla de mensajes, vamos a crear la columna del mes, para a posteriori realizar la agrupación por usuario y mes:"
      ]
    },
    {
      "cell_type": "code",
      "execution_count": null,
      "metadata": {
        "id": "IUygE6dG70eP"
      },
      "outputs": [],
      "source": [
        "megaline_messages['month'] = megaline_messages['message_date'].astype('datetime64[M]')"
      ]
    },
    {
      "cell_type": "code",
      "execution_count": null,
      "metadata": {
        "id": "Nfho1_2V70eQ",
        "outputId": "10966059-1621-44e5-c373-3336cc5c31cb"
      },
      "outputs": [
        {
          "data": {
            "text/html": [
              "<div>\n",
              "<style scoped>\n",
              "    .dataframe tbody tr th:only-of-type {\n",
              "        vertical-align: middle;\n",
              "    }\n",
              "\n",
              "    .dataframe tbody tr th {\n",
              "        vertical-align: top;\n",
              "    }\n",
              "\n",
              "    .dataframe thead th {\n",
              "        text-align: right;\n",
              "    }\n",
              "</style>\n",
              "<table border=\"1\" class=\"dataframe\">\n",
              "  <thead>\n",
              "    <tr style=\"text-align: right;\">\n",
              "      <th></th>\n",
              "      <th>user_id</th>\n",
              "      <th>month</th>\n",
              "      <th>number_of_messages</th>\n",
              "    </tr>\n",
              "  </thead>\n",
              "  <tbody>\n",
              "    <tr>\n",
              "      <th>0</th>\n",
              "      <td>1000</td>\n",
              "      <td>2018-12-01</td>\n",
              "      <td>11</td>\n",
              "    </tr>\n",
              "    <tr>\n",
              "      <th>1</th>\n",
              "      <td>1001</td>\n",
              "      <td>2018-08-01</td>\n",
              "      <td>30</td>\n",
              "    </tr>\n",
              "    <tr>\n",
              "      <th>2</th>\n",
              "      <td>1001</td>\n",
              "      <td>2018-09-01</td>\n",
              "      <td>44</td>\n",
              "    </tr>\n",
              "    <tr>\n",
              "      <th>3</th>\n",
              "      <td>1001</td>\n",
              "      <td>2018-10-01</td>\n",
              "      <td>53</td>\n",
              "    </tr>\n",
              "    <tr>\n",
              "      <th>4</th>\n",
              "      <td>1001</td>\n",
              "      <td>2018-11-01</td>\n",
              "      <td>36</td>\n",
              "    </tr>\n",
              "  </tbody>\n",
              "</table>\n",
              "</div>"
            ],
            "text/plain": [
              "   user_id      month  number_of_messages\n",
              "0     1000 2018-12-01                  11\n",
              "1     1001 2018-08-01                  30\n",
              "2     1001 2018-09-01                  44\n",
              "3     1001 2018-10-01                  53\n",
              "4     1001 2018-11-01                  36"
            ]
          },
          "execution_count": 70,
          "metadata": {},
          "output_type": "execute_result"
        }
      ],
      "source": [
        "messages_by_user_by_month = megaline_messages.groupby([\"user_id\", \"month\"]).agg({\"id\": \"count\"}).reset_index()\n",
        "messages_by_user_by_month.columns = ['user_id', 'month', 'number_of_messages']\n",
        "messages_by_user_by_month.head()"
      ]
    },
    {
      "cell_type": "markdown",
      "metadata": {
        "id": "I7ug2sEx70eQ"
      },
      "source": [
        "Ya tenemos nuestra tabla agrupada por usuario y mes, podemos ver en ella el número de mensajes mensuales. Crearemos entonces nuestra tabla de mensajes mensuales:"
      ]
    },
    {
      "cell_type": "code",
      "execution_count": null,
      "metadata": {
        "id": "iGP6gHji70eQ"
      },
      "outputs": [],
      "source": [
        "messages_expanded = megaline_users.loc[:,['user_id','age','city','plan']]"
      ]
    },
    {
      "cell_type": "code",
      "execution_count": null,
      "metadata": {
        "id": "gyem0s9-70eQ"
      },
      "outputs": [],
      "source": [
        "messages_plans = megaline_plans.loc[:,['plan','messages_included','usd_per_message']]"
      ]
    },
    {
      "cell_type": "code",
      "execution_count": null,
      "metadata": {
        "id": "1r2VSigl70eQ",
        "outputId": "ac662eb9-ca06-4ca5-bd9d-8f8fc950aaef"
      },
      "outputs": [
        {
          "data": {
            "text/html": [
              "<div>\n",
              "<style scoped>\n",
              "    .dataframe tbody tr th:only-of-type {\n",
              "        vertical-align: middle;\n",
              "    }\n",
              "\n",
              "    .dataframe tbody tr th {\n",
              "        vertical-align: top;\n",
              "    }\n",
              "\n",
              "    .dataframe thead th {\n",
              "        text-align: right;\n",
              "    }\n",
              "</style>\n",
              "<table border=\"1\" class=\"dataframe\">\n",
              "  <thead>\n",
              "    <tr style=\"text-align: right;\">\n",
              "      <th></th>\n",
              "      <th>user_id</th>\n",
              "      <th>age</th>\n",
              "      <th>city</th>\n",
              "      <th>plan</th>\n",
              "      <th>messages_included</th>\n",
              "      <th>usd_per_message</th>\n",
              "      <th>month</th>\n",
              "      <th>number_of_messages</th>\n",
              "    </tr>\n",
              "  </thead>\n",
              "  <tbody>\n",
              "    <tr>\n",
              "      <th>0</th>\n",
              "      <td>1000</td>\n",
              "      <td>45</td>\n",
              "      <td>Atlanta-Sandy Springs-Roswell, GA MSA</td>\n",
              "      <td>ultimate</td>\n",
              "      <td>1000</td>\n",
              "      <td>0.01</td>\n",
              "      <td>2018-12-01</td>\n",
              "      <td>11</td>\n",
              "    </tr>\n",
              "    <tr>\n",
              "      <th>1</th>\n",
              "      <td>1006</td>\n",
              "      <td>73</td>\n",
              "      <td>San Francisco-Oakland-Berkeley, CA MSA</td>\n",
              "      <td>ultimate</td>\n",
              "      <td>1000</td>\n",
              "      <td>0.01</td>\n",
              "      <td>2018-11-01</td>\n",
              "      <td>15</td>\n",
              "    </tr>\n",
              "    <tr>\n",
              "      <th>2</th>\n",
              "      <td>1006</td>\n",
              "      <td>73</td>\n",
              "      <td>San Francisco-Oakland-Berkeley, CA MSA</td>\n",
              "      <td>ultimate</td>\n",
              "      <td>1000</td>\n",
              "      <td>0.01</td>\n",
              "      <td>2018-12-01</td>\n",
              "      <td>139</td>\n",
              "    </tr>\n",
              "    <tr>\n",
              "      <th>3</th>\n",
              "      <td>1008</td>\n",
              "      <td>53</td>\n",
              "      <td>Orlando-Kissimmee-Sanford, FL MSA</td>\n",
              "      <td>ultimate</td>\n",
              "      <td>1000</td>\n",
              "      <td>0.01</td>\n",
              "      <td>2018-10-01</td>\n",
              "      <td>21</td>\n",
              "    </tr>\n",
              "    <tr>\n",
              "      <th>4</th>\n",
              "      <td>1008</td>\n",
              "      <td>53</td>\n",
              "      <td>Orlando-Kissimmee-Sanford, FL MSA</td>\n",
              "      <td>ultimate</td>\n",
              "      <td>1000</td>\n",
              "      <td>0.01</td>\n",
              "      <td>2018-11-01</td>\n",
              "      <td>37</td>\n",
              "    </tr>\n",
              "  </tbody>\n",
              "</table>\n",
              "</div>"
            ],
            "text/plain": [
              "  user_id  age                                    city      plan  \\\n",
              "0    1000   45   Atlanta-Sandy Springs-Roswell, GA MSA  ultimate   \n",
              "1    1006   73  San Francisco-Oakland-Berkeley, CA MSA  ultimate   \n",
              "2    1006   73  San Francisco-Oakland-Berkeley, CA MSA  ultimate   \n",
              "3    1008   53       Orlando-Kissimmee-Sanford, FL MSA  ultimate   \n",
              "4    1008   53       Orlando-Kissimmee-Sanford, FL MSA  ultimate   \n",
              "\n",
              "   messages_included  usd_per_message      month  number_of_messages  \n",
              "0               1000             0.01 2018-12-01                  11  \n",
              "1               1000             0.01 2018-11-01                  15  \n",
              "2               1000             0.01 2018-12-01                 139  \n",
              "3               1000             0.01 2018-10-01                  21  \n",
              "4               1000             0.01 2018-11-01                  37  "
            ]
          },
          "execution_count": 73,
          "metadata": {},
          "output_type": "execute_result"
        }
      ],
      "source": [
        "messages_monthly = messages_expanded.merge(messages_plans, on='plan')\n",
        "messages_monthly = messages_monthly.merge(messages_by_user_by_month, on='user_id')\n",
        "messages_monthly.head()"
      ]
    },
    {
      "cell_type": "markdown",
      "metadata": {
        "id": "9IZK3PiZ70eQ"
      },
      "source": [
        "Añadiremos la columna 'extra_messages' y luego 'extramessages_revenue':"
      ]
    },
    {
      "cell_type": "code",
      "execution_count": null,
      "metadata": {
        "id": "elWd49a-70eQ"
      },
      "outputs": [],
      "source": [
        "messages_monthly['extra_messages'] = messages_monthly['number_of_messages'] - messages_monthly['messages_included']\n",
        "messages_monthly['extra_messages'] = np.where(messages_monthly['extra_messages'] < 0, 0, messages_monthly['extra_messages'])"
      ]
    },
    {
      "cell_type": "code",
      "execution_count": null,
      "metadata": {
        "id": "IOtceQIs70eQ",
        "outputId": "9dcb1a14-6d22-4688-f3b8-f2929381d3b9"
      },
      "outputs": [
        {
          "data": {
            "text/html": [
              "<div>\n",
              "<style scoped>\n",
              "    .dataframe tbody tr th:only-of-type {\n",
              "        vertical-align: middle;\n",
              "    }\n",
              "\n",
              "    .dataframe tbody tr th {\n",
              "        vertical-align: top;\n",
              "    }\n",
              "\n",
              "    .dataframe thead th {\n",
              "        text-align: right;\n",
              "    }\n",
              "</style>\n",
              "<table border=\"1\" class=\"dataframe\">\n",
              "  <thead>\n",
              "    <tr style=\"text-align: right;\">\n",
              "      <th></th>\n",
              "      <th>user_id</th>\n",
              "      <th>age</th>\n",
              "      <th>city</th>\n",
              "      <th>plan</th>\n",
              "      <th>messages_included</th>\n",
              "      <th>usd_per_message</th>\n",
              "      <th>month</th>\n",
              "      <th>number_of_messages</th>\n",
              "      <th>extra_messages</th>\n",
              "      <th>extramessages_revenue</th>\n",
              "    </tr>\n",
              "  </thead>\n",
              "  <tbody>\n",
              "    <tr>\n",
              "      <th>0</th>\n",
              "      <td>1000</td>\n",
              "      <td>45</td>\n",
              "      <td>Atlanta-Sandy Springs-Roswell, GA MSA</td>\n",
              "      <td>ultimate</td>\n",
              "      <td>1000</td>\n",
              "      <td>0.01</td>\n",
              "      <td>2018-12-01</td>\n",
              "      <td>11</td>\n",
              "      <td>0</td>\n",
              "      <td>0.0</td>\n",
              "    </tr>\n",
              "    <tr>\n",
              "      <th>1</th>\n",
              "      <td>1006</td>\n",
              "      <td>73</td>\n",
              "      <td>San Francisco-Oakland-Berkeley, CA MSA</td>\n",
              "      <td>ultimate</td>\n",
              "      <td>1000</td>\n",
              "      <td>0.01</td>\n",
              "      <td>2018-11-01</td>\n",
              "      <td>15</td>\n",
              "      <td>0</td>\n",
              "      <td>0.0</td>\n",
              "    </tr>\n",
              "    <tr>\n",
              "      <th>2</th>\n",
              "      <td>1006</td>\n",
              "      <td>73</td>\n",
              "      <td>San Francisco-Oakland-Berkeley, CA MSA</td>\n",
              "      <td>ultimate</td>\n",
              "      <td>1000</td>\n",
              "      <td>0.01</td>\n",
              "      <td>2018-12-01</td>\n",
              "      <td>139</td>\n",
              "      <td>0</td>\n",
              "      <td>0.0</td>\n",
              "    </tr>\n",
              "    <tr>\n",
              "      <th>3</th>\n",
              "      <td>1008</td>\n",
              "      <td>53</td>\n",
              "      <td>Orlando-Kissimmee-Sanford, FL MSA</td>\n",
              "      <td>ultimate</td>\n",
              "      <td>1000</td>\n",
              "      <td>0.01</td>\n",
              "      <td>2018-10-01</td>\n",
              "      <td>21</td>\n",
              "      <td>0</td>\n",
              "      <td>0.0</td>\n",
              "    </tr>\n",
              "    <tr>\n",
              "      <th>4</th>\n",
              "      <td>1008</td>\n",
              "      <td>53</td>\n",
              "      <td>Orlando-Kissimmee-Sanford, FL MSA</td>\n",
              "      <td>ultimate</td>\n",
              "      <td>1000</td>\n",
              "      <td>0.01</td>\n",
              "      <td>2018-11-01</td>\n",
              "      <td>37</td>\n",
              "      <td>0</td>\n",
              "      <td>0.0</td>\n",
              "    </tr>\n",
              "  </tbody>\n",
              "</table>\n",
              "</div>"
            ],
            "text/plain": [
              "  user_id  age                                    city      plan  \\\n",
              "0    1000   45   Atlanta-Sandy Springs-Roswell, GA MSA  ultimate   \n",
              "1    1006   73  San Francisco-Oakland-Berkeley, CA MSA  ultimate   \n",
              "2    1006   73  San Francisco-Oakland-Berkeley, CA MSA  ultimate   \n",
              "3    1008   53       Orlando-Kissimmee-Sanford, FL MSA  ultimate   \n",
              "4    1008   53       Orlando-Kissimmee-Sanford, FL MSA  ultimate   \n",
              "\n",
              "   messages_included  usd_per_message      month  number_of_messages  \\\n",
              "0               1000             0.01 2018-12-01                  11   \n",
              "1               1000             0.01 2018-11-01                  15   \n",
              "2               1000             0.01 2018-12-01                 139   \n",
              "3               1000             0.01 2018-10-01                  21   \n",
              "4               1000             0.01 2018-11-01                  37   \n",
              "\n",
              "   extra_messages  extramessages_revenue  \n",
              "0               0                    0.0  \n",
              "1               0                    0.0  \n",
              "2               0                    0.0  \n",
              "3               0                    0.0  \n",
              "4               0                    0.0  "
            ]
          },
          "execution_count": 75,
          "metadata": {},
          "output_type": "execute_result"
        }
      ],
      "source": [
        "messages_monthly['extramessages_revenue'] = messages_monthly['extra_messages'] * messages_monthly['usd_per_message']\n",
        "messages_monthly.head()"
      ]
    },
    {
      "cell_type": "markdown",
      "metadata": {
        "id": "jdtzSJqx70eQ"
      },
      "source": [
        "Con esto, completamos nuestra tercera tabla **\"messages_monthly\"**. Ahora podemos juntar las tres en una tabla que nos entregue los ingresos totales por mes."
      ]
    },
    {
      "cell_type": "markdown",
      "metadata": {
        "id": "VpnttaXX70eQ"
      },
      "source": [
        "#### megaline_monthly_revenue <a id='preparación_revenue'></a>"
      ]
    },
    {
      "cell_type": "markdown",
      "metadata": {
        "id": "b74ywYmm70eQ"
      },
      "source": [
        "Con las tres tablas creada ya podemos realizar un analisis interesante del la cantidad de llamadas, megas y mensajes mensuales. Con ellas comprenderemos el comportamiento de los clientes, pero nos gustaría poder analizar los planes con el fin de responder a nuestras hipótesis iniciales. Crearemos entonces una tabla que se llamará *megaline_monthly_revenue* que una a las tres."
      ]
    },
    {
      "cell_type": "code",
      "execution_count": null,
      "metadata": {
        "id": "0Fd939Zb70eR",
        "outputId": "1a2ac8b0-b454-463f-b952-9fbe318c566e"
      },
      "outputs": [
        {
          "data": {
            "text/html": [
              "<div>\n",
              "<style scoped>\n",
              "    .dataframe tbody tr th:only-of-type {\n",
              "        vertical-align: middle;\n",
              "    }\n",
              "\n",
              "    .dataframe tbody tr th {\n",
              "        vertical-align: top;\n",
              "    }\n",
              "\n",
              "    .dataframe thead th {\n",
              "        text-align: right;\n",
              "    }\n",
              "</style>\n",
              "<table border=\"1\" class=\"dataframe\">\n",
              "  <thead>\n",
              "    <tr style=\"text-align: right;\">\n",
              "      <th></th>\n",
              "      <th>user_id</th>\n",
              "      <th>city</th>\n",
              "      <th>plan</th>\n",
              "      <th>usd_monthly_pay</th>\n",
              "    </tr>\n",
              "  </thead>\n",
              "  <tbody>\n",
              "    <tr>\n",
              "      <th>0</th>\n",
              "      <td>1000</td>\n",
              "      <td>Atlanta-Sandy Springs-Roswell, GA MSA</td>\n",
              "      <td>ultimate</td>\n",
              "      <td>70</td>\n",
              "    </tr>\n",
              "    <tr>\n",
              "      <th>1</th>\n",
              "      <td>1006</td>\n",
              "      <td>San Francisco-Oakland-Berkeley, CA MSA</td>\n",
              "      <td>ultimate</td>\n",
              "      <td>70</td>\n",
              "    </tr>\n",
              "    <tr>\n",
              "      <th>2</th>\n",
              "      <td>1008</td>\n",
              "      <td>Orlando-Kissimmee-Sanford, FL MSA</td>\n",
              "      <td>ultimate</td>\n",
              "      <td>70</td>\n",
              "    </tr>\n",
              "    <tr>\n",
              "      <th>3</th>\n",
              "      <td>1011</td>\n",
              "      <td>Cleveland-Elyria, OH MSA</td>\n",
              "      <td>ultimate</td>\n",
              "      <td>70</td>\n",
              "    </tr>\n",
              "    <tr>\n",
              "      <th>4</th>\n",
              "      <td>1013</td>\n",
              "      <td>Knoxville, TN MSA</td>\n",
              "      <td>ultimate</td>\n",
              "      <td>70</td>\n",
              "    </tr>\n",
              "  </tbody>\n",
              "</table>\n",
              "</div>"
            ],
            "text/plain": [
              "  user_id                                    city      plan  usd_monthly_pay\n",
              "0    1000   Atlanta-Sandy Springs-Roswell, GA MSA  ultimate               70\n",
              "1    1006  San Francisco-Oakland-Berkeley, CA MSA  ultimate               70\n",
              "2    1008       Orlando-Kissimmee-Sanford, FL MSA  ultimate               70\n",
              "3    1011                Cleveland-Elyria, OH MSA  ultimate               70\n",
              "4    1013                       Knoxville, TN MSA  ultimate               70"
            ]
          },
          "execution_count": 76,
          "metadata": {},
          "output_type": "execute_result"
        }
      ],
      "source": [
        "monthly_revenue_expanded = megaline_users.loc[:,['user_id','city','plan']]\n",
        "monthly_revenue_plans = megaline_plans.loc[:,['plan','usd_monthly_pay']]\n",
        "monthly_revenue = monthly_revenue_expanded.merge(monthly_revenue_plans, on='plan')\n",
        "monthly_revenue.head()"
      ]
    },
    {
      "cell_type": "markdown",
      "metadata": {
        "id": "3HGtUffM70eR"
      },
      "source": [
        "A nuestra tabla inicial 'monthly_id' le añadiremos primero las llamadas:"
      ]
    },
    {
      "cell_type": "code",
      "execution_count": null,
      "metadata": {
        "id": "Pm7JUwjp70eR",
        "outputId": "728110d3-8c1e-4818-c43b-60224ad3e062"
      },
      "outputs": [
        {
          "data": {
            "text/plain": [
              "2258"
            ]
          },
          "execution_count": 77,
          "metadata": {},
          "output_type": "execute_result"
        }
      ],
      "source": [
        "calls_revenue = calls_monthly.loc[:,['user_id','month','number_of_calls','extracalls_revenue']]\n",
        "len(calls_revenue)"
      ]
    },
    {
      "cell_type": "code",
      "execution_count": null,
      "metadata": {
        "id": "cOscCo6j70eR",
        "outputId": "a6e0a090-2f30-49e5-a412-c11a1a960ed0"
      },
      "outputs": [
        {
          "data": {
            "text/html": [
              "<div>\n",
              "<style scoped>\n",
              "    .dataframe tbody tr th:only-of-type {\n",
              "        vertical-align: middle;\n",
              "    }\n",
              "\n",
              "    .dataframe tbody tr th {\n",
              "        vertical-align: top;\n",
              "    }\n",
              "\n",
              "    .dataframe thead th {\n",
              "        text-align: right;\n",
              "    }\n",
              "</style>\n",
              "<table border=\"1\" class=\"dataframe\">\n",
              "  <thead>\n",
              "    <tr style=\"text-align: right;\">\n",
              "      <th></th>\n",
              "      <th>user_id</th>\n",
              "      <th>city</th>\n",
              "      <th>plan</th>\n",
              "      <th>usd_monthly_pay</th>\n",
              "      <th>month</th>\n",
              "      <th>number_of_calls</th>\n",
              "      <th>extracalls_revenue</th>\n",
              "    </tr>\n",
              "  </thead>\n",
              "  <tbody>\n",
              "    <tr>\n",
              "      <th>0</th>\n",
              "      <td>1000</td>\n",
              "      <td>Atlanta-Sandy Springs-Roswell, GA MSA</td>\n",
              "      <td>ultimate</td>\n",
              "      <td>70</td>\n",
              "      <td>2018-12-01</td>\n",
              "      <td>16</td>\n",
              "      <td>0.0</td>\n",
              "    </tr>\n",
              "    <tr>\n",
              "      <th>1</th>\n",
              "      <td>1006</td>\n",
              "      <td>San Francisco-Oakland-Berkeley, CA MSA</td>\n",
              "      <td>ultimate</td>\n",
              "      <td>70</td>\n",
              "      <td>2018-11-01</td>\n",
              "      <td>2</td>\n",
              "      <td>0.0</td>\n",
              "    </tr>\n",
              "    <tr>\n",
              "      <th>2</th>\n",
              "      <td>1006</td>\n",
              "      <td>San Francisco-Oakland-Berkeley, CA MSA</td>\n",
              "      <td>ultimate</td>\n",
              "      <td>70</td>\n",
              "      <td>2018-12-01</td>\n",
              "      <td>9</td>\n",
              "      <td>0.0</td>\n",
              "    </tr>\n",
              "    <tr>\n",
              "      <th>3</th>\n",
              "      <td>1008</td>\n",
              "      <td>Orlando-Kissimmee-Sanford, FL MSA</td>\n",
              "      <td>ultimate</td>\n",
              "      <td>70</td>\n",
              "      <td>2018-10-01</td>\n",
              "      <td>71</td>\n",
              "      <td>0.0</td>\n",
              "    </tr>\n",
              "    <tr>\n",
              "      <th>4</th>\n",
              "      <td>1008</td>\n",
              "      <td>Orlando-Kissimmee-Sanford, FL MSA</td>\n",
              "      <td>ultimate</td>\n",
              "      <td>70</td>\n",
              "      <td>2018-11-01</td>\n",
              "      <td>63</td>\n",
              "      <td>0.0</td>\n",
              "    </tr>\n",
              "    <tr>\n",
              "      <th>...</th>\n",
              "      <td>...</td>\n",
              "      <td>...</td>\n",
              "      <td>...</td>\n",
              "      <td>...</td>\n",
              "      <td>...</td>\n",
              "      <td>...</td>\n",
              "      <td>...</td>\n",
              "    </tr>\n",
              "    <tr>\n",
              "      <th>2253</th>\n",
              "      <td>1498</td>\n",
              "      <td>New York-Newark-Jersey City, NY-NJ-PA MSA</td>\n",
              "      <td>surf</td>\n",
              "      <td>20</td>\n",
              "      <td>2018-12-01</td>\n",
              "      <td>39</td>\n",
              "      <td>0.0</td>\n",
              "    </tr>\n",
              "    <tr>\n",
              "      <th>2254</th>\n",
              "      <td>1499</td>\n",
              "      <td>Orlando-Kissimmee-Sanford, FL MSA</td>\n",
              "      <td>surf</td>\n",
              "      <td>20</td>\n",
              "      <td>2018-09-01</td>\n",
              "      <td>41</td>\n",
              "      <td>0.0</td>\n",
              "    </tr>\n",
              "    <tr>\n",
              "      <th>2255</th>\n",
              "      <td>1499</td>\n",
              "      <td>Orlando-Kissimmee-Sanford, FL MSA</td>\n",
              "      <td>surf</td>\n",
              "      <td>20</td>\n",
              "      <td>2018-10-01</td>\n",
              "      <td>53</td>\n",
              "      <td>0.0</td>\n",
              "    </tr>\n",
              "    <tr>\n",
              "      <th>2256</th>\n",
              "      <td>1499</td>\n",
              "      <td>Orlando-Kissimmee-Sanford, FL MSA</td>\n",
              "      <td>surf</td>\n",
              "      <td>20</td>\n",
              "      <td>2018-11-01</td>\n",
              "      <td>45</td>\n",
              "      <td>0.0</td>\n",
              "    </tr>\n",
              "    <tr>\n",
              "      <th>2257</th>\n",
              "      <td>1499</td>\n",
              "      <td>Orlando-Kissimmee-Sanford, FL MSA</td>\n",
              "      <td>surf</td>\n",
              "      <td>20</td>\n",
              "      <td>2018-12-01</td>\n",
              "      <td>65</td>\n",
              "      <td>0.0</td>\n",
              "    </tr>\n",
              "  </tbody>\n",
              "</table>\n",
              "<p>2258 rows × 7 columns</p>\n",
              "</div>"
            ],
            "text/plain": [
              "     user_id                                       city      plan  \\\n",
              "0       1000      Atlanta-Sandy Springs-Roswell, GA MSA  ultimate   \n",
              "1       1006     San Francisco-Oakland-Berkeley, CA MSA  ultimate   \n",
              "2       1006     San Francisco-Oakland-Berkeley, CA MSA  ultimate   \n",
              "3       1008          Orlando-Kissimmee-Sanford, FL MSA  ultimate   \n",
              "4       1008          Orlando-Kissimmee-Sanford, FL MSA  ultimate   \n",
              "...      ...                                        ...       ...   \n",
              "2253    1498  New York-Newark-Jersey City, NY-NJ-PA MSA      surf   \n",
              "2254    1499          Orlando-Kissimmee-Sanford, FL MSA      surf   \n",
              "2255    1499          Orlando-Kissimmee-Sanford, FL MSA      surf   \n",
              "2256    1499          Orlando-Kissimmee-Sanford, FL MSA      surf   \n",
              "2257    1499          Orlando-Kissimmee-Sanford, FL MSA      surf   \n",
              "\n",
              "      usd_monthly_pay      month  number_of_calls  extracalls_revenue  \n",
              "0                  70 2018-12-01               16                 0.0  \n",
              "1                  70 2018-11-01                2                 0.0  \n",
              "2                  70 2018-12-01                9                 0.0  \n",
              "3                  70 2018-10-01               71                 0.0  \n",
              "4                  70 2018-11-01               63                 0.0  \n",
              "...               ...        ...              ...                 ...  \n",
              "2253               20 2018-12-01               39                 0.0  \n",
              "2254               20 2018-09-01               41                 0.0  \n",
              "2255               20 2018-10-01               53                 0.0  \n",
              "2256               20 2018-11-01               45                 0.0  \n",
              "2257               20 2018-12-01               65                 0.0  \n",
              "\n",
              "[2258 rows x 7 columns]"
            ]
          },
          "execution_count": 78,
          "metadata": {},
          "output_type": "execute_result"
        }
      ],
      "source": [
        "monthly_revenue_calls = monthly_revenue.merge(calls_revenue, on='user_id')\n",
        "monthly_revenue_calls"
      ]
    },
    {
      "cell_type": "markdown",
      "metadata": {
        "id": "w5kWdemq70eR"
      },
      "source": [
        "Ahora crearemos la misma tabla para los gigas utilizados:"
      ]
    },
    {
      "cell_type": "code",
      "execution_count": null,
      "metadata": {
        "id": "Dp30Xe6N70eR",
        "outputId": "25f32ea9-e4c3-4e4c-f74f-e2dd56df5e6c"
      },
      "outputs": [
        {
          "data": {
            "text/plain": [
              "2277"
            ]
          },
          "execution_count": 79,
          "metadata": {},
          "output_type": "execute_result"
        }
      ],
      "source": [
        "internet_revenue = internet_monthly.loc[:,['user_id','month','number_of_sessions','extragigas_revenue']]\n",
        "len(internet_revenue)"
      ]
    },
    {
      "cell_type": "code",
      "execution_count": null,
      "metadata": {
        "id": "lO4F40By70eR",
        "outputId": "1ff00582-6bfd-4bd1-fbe9-7b50c8bdc3f2"
      },
      "outputs": [
        {
          "data": {
            "text/html": [
              "<div>\n",
              "<style scoped>\n",
              "    .dataframe tbody tr th:only-of-type {\n",
              "        vertical-align: middle;\n",
              "    }\n",
              "\n",
              "    .dataframe tbody tr th {\n",
              "        vertical-align: top;\n",
              "    }\n",
              "\n",
              "    .dataframe thead th {\n",
              "        text-align: right;\n",
              "    }\n",
              "</style>\n",
              "<table border=\"1\" class=\"dataframe\">\n",
              "  <thead>\n",
              "    <tr style=\"text-align: right;\">\n",
              "      <th></th>\n",
              "      <th>user_id</th>\n",
              "      <th>city</th>\n",
              "      <th>plan</th>\n",
              "      <th>usd_monthly_pay</th>\n",
              "      <th>month</th>\n",
              "      <th>number_of_sessions</th>\n",
              "      <th>extragigas_revenue</th>\n",
              "    </tr>\n",
              "  </thead>\n",
              "  <tbody>\n",
              "    <tr>\n",
              "      <th>0</th>\n",
              "      <td>1000</td>\n",
              "      <td>Atlanta-Sandy Springs-Roswell, GA MSA</td>\n",
              "      <td>ultimate</td>\n",
              "      <td>70</td>\n",
              "      <td>2018-12-01</td>\n",
              "      <td>5</td>\n",
              "      <td>0.0</td>\n",
              "    </tr>\n",
              "    <tr>\n",
              "      <th>1</th>\n",
              "      <td>1006</td>\n",
              "      <td>San Francisco-Oakland-Berkeley, CA MSA</td>\n",
              "      <td>ultimate</td>\n",
              "      <td>70</td>\n",
              "      <td>2018-11-01</td>\n",
              "      <td>7</td>\n",
              "      <td>0.0</td>\n",
              "    </tr>\n",
              "    <tr>\n",
              "      <th>2</th>\n",
              "      <td>1006</td>\n",
              "      <td>San Francisco-Oakland-Berkeley, CA MSA</td>\n",
              "      <td>ultimate</td>\n",
              "      <td>70</td>\n",
              "      <td>2018-12-01</td>\n",
              "      <td>63</td>\n",
              "      <td>14.0</td>\n",
              "    </tr>\n",
              "    <tr>\n",
              "      <th>3</th>\n",
              "      <td>1008</td>\n",
              "      <td>Orlando-Kissimmee-Sanford, FL MSA</td>\n",
              "      <td>ultimate</td>\n",
              "      <td>70</td>\n",
              "      <td>2018-10-01</td>\n",
              "      <td>57</td>\n",
              "      <td>0.0</td>\n",
              "    </tr>\n",
              "    <tr>\n",
              "      <th>4</th>\n",
              "      <td>1008</td>\n",
              "      <td>Orlando-Kissimmee-Sanford, FL MSA</td>\n",
              "      <td>ultimate</td>\n",
              "      <td>70</td>\n",
              "      <td>2018-11-01</td>\n",
              "      <td>72</td>\n",
              "      <td>0.0</td>\n",
              "    </tr>\n",
              "    <tr>\n",
              "      <th>...</th>\n",
              "      <td>...</td>\n",
              "      <td>...</td>\n",
              "      <td>...</td>\n",
              "      <td>...</td>\n",
              "      <td>...</td>\n",
              "      <td>...</td>\n",
              "      <td>...</td>\n",
              "    </tr>\n",
              "    <tr>\n",
              "      <th>2272</th>\n",
              "      <td>1498</td>\n",
              "      <td>New York-Newark-Jersey City, NY-NJ-PA MSA</td>\n",
              "      <td>surf</td>\n",
              "      <td>20</td>\n",
              "      <td>2018-12-01</td>\n",
              "      <td>65</td>\n",
              "      <td>80.0</td>\n",
              "    </tr>\n",
              "    <tr>\n",
              "      <th>2273</th>\n",
              "      <td>1499</td>\n",
              "      <td>Orlando-Kissimmee-Sanford, FL MSA</td>\n",
              "      <td>surf</td>\n",
              "      <td>20</td>\n",
              "      <td>2018-09-01</td>\n",
              "      <td>45</td>\n",
              "      <td>0.0</td>\n",
              "    </tr>\n",
              "    <tr>\n",
              "      <th>2274</th>\n",
              "      <td>1499</td>\n",
              "      <td>Orlando-Kissimmee-Sanford, FL MSA</td>\n",
              "      <td>surf</td>\n",
              "      <td>20</td>\n",
              "      <td>2018-10-01</td>\n",
              "      <td>61</td>\n",
              "      <td>50.0</td>\n",
              "    </tr>\n",
              "    <tr>\n",
              "      <th>2275</th>\n",
              "      <td>1499</td>\n",
              "      <td>Orlando-Kissimmee-Sanford, FL MSA</td>\n",
              "      <td>surf</td>\n",
              "      <td>20</td>\n",
              "      <td>2018-11-01</td>\n",
              "      <td>49</td>\n",
              "      <td>20.0</td>\n",
              "    </tr>\n",
              "    <tr>\n",
              "      <th>2276</th>\n",
              "      <td>1499</td>\n",
              "      <td>Orlando-Kissimmee-Sanford, FL MSA</td>\n",
              "      <td>surf</td>\n",
              "      <td>20</td>\n",
              "      <td>2018-12-01</td>\n",
              "      <td>65</td>\n",
              "      <td>70.0</td>\n",
              "    </tr>\n",
              "  </tbody>\n",
              "</table>\n",
              "<p>2277 rows × 7 columns</p>\n",
              "</div>"
            ],
            "text/plain": [
              "     user_id                                       city      plan  \\\n",
              "0       1000      Atlanta-Sandy Springs-Roswell, GA MSA  ultimate   \n",
              "1       1006     San Francisco-Oakland-Berkeley, CA MSA  ultimate   \n",
              "2       1006     San Francisco-Oakland-Berkeley, CA MSA  ultimate   \n",
              "3       1008          Orlando-Kissimmee-Sanford, FL MSA  ultimate   \n",
              "4       1008          Orlando-Kissimmee-Sanford, FL MSA  ultimate   \n",
              "...      ...                                        ...       ...   \n",
              "2272    1498  New York-Newark-Jersey City, NY-NJ-PA MSA      surf   \n",
              "2273    1499          Orlando-Kissimmee-Sanford, FL MSA      surf   \n",
              "2274    1499          Orlando-Kissimmee-Sanford, FL MSA      surf   \n",
              "2275    1499          Orlando-Kissimmee-Sanford, FL MSA      surf   \n",
              "2276    1499          Orlando-Kissimmee-Sanford, FL MSA      surf   \n",
              "\n",
              "      usd_monthly_pay      month  number_of_sessions  extragigas_revenue  \n",
              "0                  70 2018-12-01                   5                 0.0  \n",
              "1                  70 2018-11-01                   7                 0.0  \n",
              "2                  70 2018-12-01                  63                14.0  \n",
              "3                  70 2018-10-01                  57                 0.0  \n",
              "4                  70 2018-11-01                  72                 0.0  \n",
              "...               ...        ...                 ...                 ...  \n",
              "2272               20 2018-12-01                  65                80.0  \n",
              "2273               20 2018-09-01                  45                 0.0  \n",
              "2274               20 2018-10-01                  61                50.0  \n",
              "2275               20 2018-11-01                  49                20.0  \n",
              "2276               20 2018-12-01                  65                70.0  \n",
              "\n",
              "[2277 rows x 7 columns]"
            ]
          },
          "execution_count": 80,
          "metadata": {},
          "output_type": "execute_result"
        }
      ],
      "source": [
        "monthly_revenue_internet = monthly_revenue.merge(internet_revenue, on=['user_id'])\n",
        "monthly_revenue_internet"
      ]
    },
    {
      "cell_type": "markdown",
      "metadata": {
        "id": "FnFmqTxj70eR"
      },
      "source": [
        "Ahora haremos lo mismo para los mensajes:"
      ]
    },
    {
      "cell_type": "code",
      "execution_count": null,
      "metadata": {
        "id": "ANRojVTL70eR",
        "outputId": "3e65380a-65e1-4bac-9461-72c537e82e83"
      },
      "outputs": [
        {
          "data": {
            "text/plain": [
              "1806"
            ]
          },
          "execution_count": 81,
          "metadata": {},
          "output_type": "execute_result"
        }
      ],
      "source": [
        "messages_revenue = messages_monthly.loc[:,['user_id','month','number_of_messages','extramessages_revenue']]\n",
        "len(messages_revenue)"
      ]
    },
    {
      "cell_type": "code",
      "execution_count": null,
      "metadata": {
        "id": "PpgKiq6A70eS",
        "outputId": "4de08c20-87e4-4374-fc6e-9c2e6b940326"
      },
      "outputs": [
        {
          "data": {
            "text/html": [
              "<div>\n",
              "<style scoped>\n",
              "    .dataframe tbody tr th:only-of-type {\n",
              "        vertical-align: middle;\n",
              "    }\n",
              "\n",
              "    .dataframe tbody tr th {\n",
              "        vertical-align: top;\n",
              "    }\n",
              "\n",
              "    .dataframe thead th {\n",
              "        text-align: right;\n",
              "    }\n",
              "</style>\n",
              "<table border=\"1\" class=\"dataframe\">\n",
              "  <thead>\n",
              "    <tr style=\"text-align: right;\">\n",
              "      <th></th>\n",
              "      <th>user_id</th>\n",
              "      <th>city</th>\n",
              "      <th>plan</th>\n",
              "      <th>usd_monthly_pay</th>\n",
              "      <th>month</th>\n",
              "      <th>number_of_messages</th>\n",
              "      <th>extramessages_revenue</th>\n",
              "    </tr>\n",
              "  </thead>\n",
              "  <tbody>\n",
              "    <tr>\n",
              "      <th>0</th>\n",
              "      <td>1000</td>\n",
              "      <td>Atlanta-Sandy Springs-Roswell, GA MSA</td>\n",
              "      <td>ultimate</td>\n",
              "      <td>70</td>\n",
              "      <td>2018-12-01</td>\n",
              "      <td>11</td>\n",
              "      <td>0.0</td>\n",
              "    </tr>\n",
              "    <tr>\n",
              "      <th>1</th>\n",
              "      <td>1006</td>\n",
              "      <td>San Francisco-Oakland-Berkeley, CA MSA</td>\n",
              "      <td>ultimate</td>\n",
              "      <td>70</td>\n",
              "      <td>2018-11-01</td>\n",
              "      <td>15</td>\n",
              "      <td>0.0</td>\n",
              "    </tr>\n",
              "    <tr>\n",
              "      <th>2</th>\n",
              "      <td>1006</td>\n",
              "      <td>San Francisco-Oakland-Berkeley, CA MSA</td>\n",
              "      <td>ultimate</td>\n",
              "      <td>70</td>\n",
              "      <td>2018-12-01</td>\n",
              "      <td>139</td>\n",
              "      <td>0.0</td>\n",
              "    </tr>\n",
              "    <tr>\n",
              "      <th>3</th>\n",
              "      <td>1008</td>\n",
              "      <td>Orlando-Kissimmee-Sanford, FL MSA</td>\n",
              "      <td>ultimate</td>\n",
              "      <td>70</td>\n",
              "      <td>2018-10-01</td>\n",
              "      <td>21</td>\n",
              "      <td>0.0</td>\n",
              "    </tr>\n",
              "    <tr>\n",
              "      <th>4</th>\n",
              "      <td>1008</td>\n",
              "      <td>Orlando-Kissimmee-Sanford, FL MSA</td>\n",
              "      <td>ultimate</td>\n",
              "      <td>70</td>\n",
              "      <td>2018-11-01</td>\n",
              "      <td>37</td>\n",
              "      <td>0.0</td>\n",
              "    </tr>\n",
              "    <tr>\n",
              "      <th>...</th>\n",
              "      <td>...</td>\n",
              "      <td>...</td>\n",
              "      <td>...</td>\n",
              "      <td>...</td>\n",
              "      <td>...</td>\n",
              "      <td>...</td>\n",
              "      <td>...</td>\n",
              "    </tr>\n",
              "    <tr>\n",
              "      <th>1801</th>\n",
              "      <td>1496</td>\n",
              "      <td>New Orleans-Metairie, LA MSA</td>\n",
              "      <td>surf</td>\n",
              "      <td>20</td>\n",
              "      <td>2018-08-01</td>\n",
              "      <td>2</td>\n",
              "      <td>0.0</td>\n",
              "    </tr>\n",
              "    <tr>\n",
              "      <th>1802</th>\n",
              "      <td>1496</td>\n",
              "      <td>New Orleans-Metairie, LA MSA</td>\n",
              "      <td>surf</td>\n",
              "      <td>20</td>\n",
              "      <td>2018-09-01</td>\n",
              "      <td>21</td>\n",
              "      <td>0.0</td>\n",
              "    </tr>\n",
              "    <tr>\n",
              "      <th>1803</th>\n",
              "      <td>1496</td>\n",
              "      <td>New Orleans-Metairie, LA MSA</td>\n",
              "      <td>surf</td>\n",
              "      <td>20</td>\n",
              "      <td>2018-10-01</td>\n",
              "      <td>18</td>\n",
              "      <td>0.0</td>\n",
              "    </tr>\n",
              "    <tr>\n",
              "      <th>1804</th>\n",
              "      <td>1496</td>\n",
              "      <td>New Orleans-Metairie, LA MSA</td>\n",
              "      <td>surf</td>\n",
              "      <td>20</td>\n",
              "      <td>2018-11-01</td>\n",
              "      <td>13</td>\n",
              "      <td>0.0</td>\n",
              "    </tr>\n",
              "    <tr>\n",
              "      <th>1805</th>\n",
              "      <td>1496</td>\n",
              "      <td>New Orleans-Metairie, LA MSA</td>\n",
              "      <td>surf</td>\n",
              "      <td>20</td>\n",
              "      <td>2018-12-01</td>\n",
              "      <td>11</td>\n",
              "      <td>0.0</td>\n",
              "    </tr>\n",
              "  </tbody>\n",
              "</table>\n",
              "<p>1806 rows × 7 columns</p>\n",
              "</div>"
            ],
            "text/plain": [
              "     user_id                                    city      plan  \\\n",
              "0       1000   Atlanta-Sandy Springs-Roswell, GA MSA  ultimate   \n",
              "1       1006  San Francisco-Oakland-Berkeley, CA MSA  ultimate   \n",
              "2       1006  San Francisco-Oakland-Berkeley, CA MSA  ultimate   \n",
              "3       1008       Orlando-Kissimmee-Sanford, FL MSA  ultimate   \n",
              "4       1008       Orlando-Kissimmee-Sanford, FL MSA  ultimate   \n",
              "...      ...                                     ...       ...   \n",
              "1801    1496            New Orleans-Metairie, LA MSA      surf   \n",
              "1802    1496            New Orleans-Metairie, LA MSA      surf   \n",
              "1803    1496            New Orleans-Metairie, LA MSA      surf   \n",
              "1804    1496            New Orleans-Metairie, LA MSA      surf   \n",
              "1805    1496            New Orleans-Metairie, LA MSA      surf   \n",
              "\n",
              "      usd_monthly_pay      month  number_of_messages  extramessages_revenue  \n",
              "0                  70 2018-12-01                  11                    0.0  \n",
              "1                  70 2018-11-01                  15                    0.0  \n",
              "2                  70 2018-12-01                 139                    0.0  \n",
              "3                  70 2018-10-01                  21                    0.0  \n",
              "4                  70 2018-11-01                  37                    0.0  \n",
              "...               ...        ...                 ...                    ...  \n",
              "1801               20 2018-08-01                   2                    0.0  \n",
              "1802               20 2018-09-01                  21                    0.0  \n",
              "1803               20 2018-10-01                  18                    0.0  \n",
              "1804               20 2018-11-01                  13                    0.0  \n",
              "1805               20 2018-12-01                  11                    0.0  \n",
              "\n",
              "[1806 rows x 7 columns]"
            ]
          },
          "execution_count": 82,
          "metadata": {},
          "output_type": "execute_result"
        }
      ],
      "source": [
        "monthly_revenue_messages = monthly_revenue.merge(messages_revenue, on=['user_id'])\n",
        "monthly_revenue_messages"
      ]
    },
    {
      "cell_type": "markdown",
      "metadata": {
        "id": "Vc34aXlA70eS"
      },
      "source": [
        "Ahora que tenemos las tres tablas con nombres de usuarios y sus respectivos meses asociados las podemos unir en una:"
      ]
    },
    {
      "cell_type": "code",
      "execution_count": null,
      "metadata": {
        "id": "Wxe50wpf70eS",
        "outputId": "544d21cb-bac9-43a7-b8bc-675d818b7cc3"
      },
      "outputs": [
        {
          "data": {
            "text/html": [
              "<div>\n",
              "<style scoped>\n",
              "    .dataframe tbody tr th:only-of-type {\n",
              "        vertical-align: middle;\n",
              "    }\n",
              "\n",
              "    .dataframe tbody tr th {\n",
              "        vertical-align: top;\n",
              "    }\n",
              "\n",
              "    .dataframe thead th {\n",
              "        text-align: right;\n",
              "    }\n",
              "</style>\n",
              "<table border=\"1\" class=\"dataframe\">\n",
              "  <thead>\n",
              "    <tr style=\"text-align: right;\">\n",
              "      <th></th>\n",
              "      <th>user_id</th>\n",
              "      <th>city</th>\n",
              "      <th>plan</th>\n",
              "      <th>usd_monthly_pay</th>\n",
              "      <th>month</th>\n",
              "      <th>number_of_calls</th>\n",
              "      <th>extracalls_revenue</th>\n",
              "      <th>number_of_sessions</th>\n",
              "      <th>extragigas_revenue</th>\n",
              "    </tr>\n",
              "  </thead>\n",
              "  <tbody>\n",
              "    <tr>\n",
              "      <th>0</th>\n",
              "      <td>1000.0</td>\n",
              "      <td>Atlanta-Sandy Springs-Roswell, GA MSA</td>\n",
              "      <td>ultimate</td>\n",
              "      <td>70</td>\n",
              "      <td>2018-12-01</td>\n",
              "      <td>16.0</td>\n",
              "      <td>0.0</td>\n",
              "      <td>5.0</td>\n",
              "      <td>0.0</td>\n",
              "    </tr>\n",
              "    <tr>\n",
              "      <th>1</th>\n",
              "      <td>1006.0</td>\n",
              "      <td>San Francisco-Oakland-Berkeley, CA MSA</td>\n",
              "      <td>ultimate</td>\n",
              "      <td>70</td>\n",
              "      <td>2018-11-01</td>\n",
              "      <td>2.0</td>\n",
              "      <td>0.0</td>\n",
              "      <td>7.0</td>\n",
              "      <td>0.0</td>\n",
              "    </tr>\n",
              "    <tr>\n",
              "      <th>2</th>\n",
              "      <td>1006.0</td>\n",
              "      <td>San Francisco-Oakland-Berkeley, CA MSA</td>\n",
              "      <td>ultimate</td>\n",
              "      <td>70</td>\n",
              "      <td>2018-12-01</td>\n",
              "      <td>9.0</td>\n",
              "      <td>0.0</td>\n",
              "      <td>63.0</td>\n",
              "      <td>14.0</td>\n",
              "    </tr>\n",
              "    <tr>\n",
              "      <th>3</th>\n",
              "      <td>1008.0</td>\n",
              "      <td>Orlando-Kissimmee-Sanford, FL MSA</td>\n",
              "      <td>ultimate</td>\n",
              "      <td>70</td>\n",
              "      <td>2018-10-01</td>\n",
              "      <td>71.0</td>\n",
              "      <td>0.0</td>\n",
              "      <td>57.0</td>\n",
              "      <td>0.0</td>\n",
              "    </tr>\n",
              "    <tr>\n",
              "      <th>4</th>\n",
              "      <td>1008.0</td>\n",
              "      <td>Orlando-Kissimmee-Sanford, FL MSA</td>\n",
              "      <td>ultimate</td>\n",
              "      <td>70</td>\n",
              "      <td>2018-11-01</td>\n",
              "      <td>63.0</td>\n",
              "      <td>0.0</td>\n",
              "      <td>72.0</td>\n",
              "      <td>0.0</td>\n",
              "    </tr>\n",
              "  </tbody>\n",
              "</table>\n",
              "</div>"
            ],
            "text/plain": [
              "   user_id                                    city      plan  usd_monthly_pay  \\\n",
              "0   1000.0   Atlanta-Sandy Springs-Roswell, GA MSA  ultimate               70   \n",
              "1   1006.0  San Francisco-Oakland-Berkeley, CA MSA  ultimate               70   \n",
              "2   1006.0  San Francisco-Oakland-Berkeley, CA MSA  ultimate               70   \n",
              "3   1008.0       Orlando-Kissimmee-Sanford, FL MSA  ultimate               70   \n",
              "4   1008.0       Orlando-Kissimmee-Sanford, FL MSA  ultimate               70   \n",
              "\n",
              "       month  number_of_calls  extracalls_revenue  number_of_sessions  \\\n",
              "0 2018-12-01             16.0                 0.0                 5.0   \n",
              "1 2018-11-01              2.0                 0.0                 7.0   \n",
              "2 2018-12-01              9.0                 0.0                63.0   \n",
              "3 2018-10-01             71.0                 0.0                57.0   \n",
              "4 2018-11-01             63.0                 0.0                72.0   \n",
              "\n",
              "   extragigas_revenue  \n",
              "0                 0.0  \n",
              "1                 0.0  \n",
              "2                14.0  \n",
              "3                 0.0  \n",
              "4                 0.0  "
            ]
          },
          "execution_count": 83,
          "metadata": {},
          "output_type": "execute_result"
        }
      ],
      "source": [
        "monthly_revenue = monthly_revenue_calls\n",
        "monthly_revenue = monthly_revenue.merge(monthly_revenue_internet, on=['user_id', 'city', 'plan', 'usd_monthly_pay', 'month'], how='outer')\n",
        "monthly_revenue.head()"
      ]
    },
    {
      "cell_type": "code",
      "execution_count": null,
      "metadata": {
        "scrolled": true,
        "id": "DPApvSsc70eS",
        "outputId": "b86ebcd1-e14f-41cd-b60c-f8627fdb505a"
      },
      "outputs": [
        {
          "data": {
            "text/html": [
              "<div>\n",
              "<style scoped>\n",
              "    .dataframe tbody tr th:only-of-type {\n",
              "        vertical-align: middle;\n",
              "    }\n",
              "\n",
              "    .dataframe tbody tr th {\n",
              "        vertical-align: top;\n",
              "    }\n",
              "\n",
              "    .dataframe thead th {\n",
              "        text-align: right;\n",
              "    }\n",
              "</style>\n",
              "<table border=\"1\" class=\"dataframe\">\n",
              "  <thead>\n",
              "    <tr style=\"text-align: right;\">\n",
              "      <th></th>\n",
              "      <th>user_id</th>\n",
              "      <th>city</th>\n",
              "      <th>plan</th>\n",
              "      <th>usd_monthly_pay</th>\n",
              "      <th>month</th>\n",
              "      <th>number_of_calls</th>\n",
              "      <th>extracalls_revenue</th>\n",
              "      <th>number_of_sessions</th>\n",
              "      <th>extragigas_revenue</th>\n",
              "      <th>number_of_messages</th>\n",
              "      <th>extramessages_revenue</th>\n",
              "    </tr>\n",
              "  </thead>\n",
              "  <tbody>\n",
              "    <tr>\n",
              "      <th>0</th>\n",
              "      <td>1000.0</td>\n",
              "      <td>Atlanta-Sandy Springs-Roswell, GA MSA</td>\n",
              "      <td>ultimate</td>\n",
              "      <td>70</td>\n",
              "      <td>2018-12-01</td>\n",
              "      <td>16.0</td>\n",
              "      <td>0.0</td>\n",
              "      <td>5.0</td>\n",
              "      <td>0.0</td>\n",
              "      <td>11.0</td>\n",
              "      <td>0.0</td>\n",
              "    </tr>\n",
              "    <tr>\n",
              "      <th>1</th>\n",
              "      <td>1006.0</td>\n",
              "      <td>San Francisco-Oakland-Berkeley, CA MSA</td>\n",
              "      <td>ultimate</td>\n",
              "      <td>70</td>\n",
              "      <td>2018-11-01</td>\n",
              "      <td>2.0</td>\n",
              "      <td>0.0</td>\n",
              "      <td>7.0</td>\n",
              "      <td>0.0</td>\n",
              "      <td>15.0</td>\n",
              "      <td>0.0</td>\n",
              "    </tr>\n",
              "    <tr>\n",
              "      <th>2</th>\n",
              "      <td>1006.0</td>\n",
              "      <td>San Francisco-Oakland-Berkeley, CA MSA</td>\n",
              "      <td>ultimate</td>\n",
              "      <td>70</td>\n",
              "      <td>2018-12-01</td>\n",
              "      <td>9.0</td>\n",
              "      <td>0.0</td>\n",
              "      <td>63.0</td>\n",
              "      <td>14.0</td>\n",
              "      <td>139.0</td>\n",
              "      <td>0.0</td>\n",
              "    </tr>\n",
              "    <tr>\n",
              "      <th>3</th>\n",
              "      <td>1008.0</td>\n",
              "      <td>Orlando-Kissimmee-Sanford, FL MSA</td>\n",
              "      <td>ultimate</td>\n",
              "      <td>70</td>\n",
              "      <td>2018-10-01</td>\n",
              "      <td>71.0</td>\n",
              "      <td>0.0</td>\n",
              "      <td>57.0</td>\n",
              "      <td>0.0</td>\n",
              "      <td>21.0</td>\n",
              "      <td>0.0</td>\n",
              "    </tr>\n",
              "    <tr>\n",
              "      <th>4</th>\n",
              "      <td>1008.0</td>\n",
              "      <td>Orlando-Kissimmee-Sanford, FL MSA</td>\n",
              "      <td>ultimate</td>\n",
              "      <td>70</td>\n",
              "      <td>2018-11-01</td>\n",
              "      <td>63.0</td>\n",
              "      <td>0.0</td>\n",
              "      <td>72.0</td>\n",
              "      <td>0.0</td>\n",
              "      <td>37.0</td>\n",
              "      <td>0.0</td>\n",
              "    </tr>\n",
              "  </tbody>\n",
              "</table>\n",
              "</div>"
            ],
            "text/plain": [
              "   user_id                                    city      plan  usd_monthly_pay  \\\n",
              "0   1000.0   Atlanta-Sandy Springs-Roswell, GA MSA  ultimate               70   \n",
              "1   1006.0  San Francisco-Oakland-Berkeley, CA MSA  ultimate               70   \n",
              "2   1006.0  San Francisco-Oakland-Berkeley, CA MSA  ultimate               70   \n",
              "3   1008.0       Orlando-Kissimmee-Sanford, FL MSA  ultimate               70   \n",
              "4   1008.0       Orlando-Kissimmee-Sanford, FL MSA  ultimate               70   \n",
              "\n",
              "       month  number_of_calls  extracalls_revenue  number_of_sessions  \\\n",
              "0 2018-12-01             16.0                 0.0                 5.0   \n",
              "1 2018-11-01              2.0                 0.0                 7.0   \n",
              "2 2018-12-01              9.0                 0.0                63.0   \n",
              "3 2018-10-01             71.0                 0.0                57.0   \n",
              "4 2018-11-01             63.0                 0.0                72.0   \n",
              "\n",
              "   extragigas_revenue  number_of_messages  extramessages_revenue  \n",
              "0                 0.0                11.0                    0.0  \n",
              "1                 0.0                15.0                    0.0  \n",
              "2                14.0               139.0                    0.0  \n",
              "3                 0.0                21.0                    0.0  \n",
              "4                 0.0                37.0                    0.0  "
            ]
          },
          "execution_count": 84,
          "metadata": {},
          "output_type": "execute_result"
        }
      ],
      "source": [
        "monthly_revenue = monthly_revenue.merge(monthly_revenue_messages, on=['user_id', 'city', 'plan', 'usd_monthly_pay', 'month'], how='outer')\n",
        "monthly_revenue.head()"
      ]
    },
    {
      "cell_type": "markdown",
      "metadata": {
        "id": "rsKeFjqv70eS"
      },
      "source": [
        "Vamos a comprobar la información en nuestra nueva tabla:"
      ]
    },
    {
      "cell_type": "code",
      "execution_count": null,
      "metadata": {
        "id": "xY-KW_7X70eS",
        "outputId": "04cf9343-2c45-46d7-8e2a-33ccead276af"
      },
      "outputs": [
        {
          "name": "stdout",
          "output_type": "stream",
          "text": [
            "<class 'pandas.core.frame.DataFrame'>\n",
            "Int64Index: 2293 entries, 0 to 2292\n",
            "Data columns (total 11 columns):\n",
            " #   Column                 Non-Null Count  Dtype         \n",
            "---  ------                 --------------  -----         \n",
            " 0   user_id                2293 non-null   float64       \n",
            " 1   city                   2293 non-null   object        \n",
            " 2   plan                   2293 non-null   object        \n",
            " 3   usd_monthly_pay        2293 non-null   int64         \n",
            " 4   month                  2293 non-null   datetime64[ns]\n",
            " 5   number_of_calls        2258 non-null   float64       \n",
            " 6   extracalls_revenue     2258 non-null   float64       \n",
            " 7   number_of_sessions     2277 non-null   float64       \n",
            " 8   extragigas_revenue     2277 non-null   float64       \n",
            " 9   number_of_messages     1806 non-null   float64       \n",
            " 10  extramessages_revenue  1806 non-null   float64       \n",
            "dtypes: datetime64[ns](1), float64(7), int64(1), object(2)\n",
            "memory usage: 215.0+ KB\n"
          ]
        }
      ],
      "source": [
        "monthly_revenue.info()"
      ]
    },
    {
      "cell_type": "markdown",
      "metadata": {
        "id": "AG34gsdk70eS"
      },
      "source": [
        "Podemos notar que tenemos valores ausentes en los numeros de llamadas, sessiones y mensajes, estos se deben a los valores en cero. Vamos a rellenar estos valores de inmediato para proseguir:"
      ]
    },
    {
      "cell_type": "code",
      "execution_count": null,
      "metadata": {
        "id": "G2urE62h70eS",
        "outputId": "325ed6f6-f040-4356-903f-7c0eb3b17ca7"
      },
      "outputs": [
        {
          "name": "stdout",
          "output_type": "stream",
          "text": [
            "<class 'pandas.core.frame.DataFrame'>\n",
            "Int64Index: 2293 entries, 0 to 2292\n",
            "Data columns (total 11 columns):\n",
            " #   Column                 Non-Null Count  Dtype         \n",
            "---  ------                 --------------  -----         \n",
            " 0   user_id                2293 non-null   float64       \n",
            " 1   city                   2293 non-null   object        \n",
            " 2   plan                   2293 non-null   object        \n",
            " 3   usd_monthly_pay        2293 non-null   int64         \n",
            " 4   month                  2293 non-null   datetime64[ns]\n",
            " 5   number_of_calls        2293 non-null   float64       \n",
            " 6   extracalls_revenue     2293 non-null   float64       \n",
            " 7   number_of_sessions     2293 non-null   float64       \n",
            " 8   extragigas_revenue     2293 non-null   float64       \n",
            " 9   number_of_messages     2293 non-null   float64       \n",
            " 10  extramessages_revenue  2293 non-null   float64       \n",
            "dtypes: datetime64[ns](1), float64(7), int64(1), object(2)\n",
            "memory usage: 215.0+ KB\n"
          ]
        }
      ],
      "source": [
        "monthly_revenue = monthly_revenue.fillna(0)\n",
        "monthly_revenue.info()"
      ]
    },
    {
      "cell_type": "markdown",
      "metadata": {
        "id": "1wmJucb870eS"
      },
      "source": [
        "Ahora que tenemos nuestro consolidado, será facil obtener el valor total por usuario y por mes."
      ]
    },
    {
      "cell_type": "code",
      "execution_count": null,
      "metadata": {
        "id": "EiJmazoA70eS",
        "outputId": "98e6ef55-1aa4-4942-a901-a9381e026f83"
      },
      "outputs": [
        {
          "data": {
            "text/html": [
              "<div>\n",
              "<style scoped>\n",
              "    .dataframe tbody tr th:only-of-type {\n",
              "        vertical-align: middle;\n",
              "    }\n",
              "\n",
              "    .dataframe tbody tr th {\n",
              "        vertical-align: top;\n",
              "    }\n",
              "\n",
              "    .dataframe thead th {\n",
              "        text-align: right;\n",
              "    }\n",
              "</style>\n",
              "<table border=\"1\" class=\"dataframe\">\n",
              "  <thead>\n",
              "    <tr style=\"text-align: right;\">\n",
              "      <th></th>\n",
              "      <th>user_id</th>\n",
              "      <th>city</th>\n",
              "      <th>plan</th>\n",
              "      <th>usd_monthly_pay</th>\n",
              "      <th>month</th>\n",
              "      <th>number_of_calls</th>\n",
              "      <th>extracalls_revenue</th>\n",
              "      <th>number_of_sessions</th>\n",
              "      <th>extragigas_revenue</th>\n",
              "      <th>number_of_messages</th>\n",
              "      <th>extramessages_revenue</th>\n",
              "      <th>total_revenue</th>\n",
              "    </tr>\n",
              "  </thead>\n",
              "  <tbody>\n",
              "    <tr>\n",
              "      <th>0</th>\n",
              "      <td>1000.0</td>\n",
              "      <td>Atlanta-Sandy Springs-Roswell, GA MSA</td>\n",
              "      <td>ultimate</td>\n",
              "      <td>70</td>\n",
              "      <td>2018-12-01</td>\n",
              "      <td>16.0</td>\n",
              "      <td>0.0</td>\n",
              "      <td>5.0</td>\n",
              "      <td>0.0</td>\n",
              "      <td>11.0</td>\n",
              "      <td>0.0</td>\n",
              "      <td>70.0</td>\n",
              "    </tr>\n",
              "    <tr>\n",
              "      <th>1</th>\n",
              "      <td>1006.0</td>\n",
              "      <td>San Francisco-Oakland-Berkeley, CA MSA</td>\n",
              "      <td>ultimate</td>\n",
              "      <td>70</td>\n",
              "      <td>2018-11-01</td>\n",
              "      <td>2.0</td>\n",
              "      <td>0.0</td>\n",
              "      <td>7.0</td>\n",
              "      <td>0.0</td>\n",
              "      <td>15.0</td>\n",
              "      <td>0.0</td>\n",
              "      <td>70.0</td>\n",
              "    </tr>\n",
              "    <tr>\n",
              "      <th>2</th>\n",
              "      <td>1006.0</td>\n",
              "      <td>San Francisco-Oakland-Berkeley, CA MSA</td>\n",
              "      <td>ultimate</td>\n",
              "      <td>70</td>\n",
              "      <td>2018-12-01</td>\n",
              "      <td>9.0</td>\n",
              "      <td>0.0</td>\n",
              "      <td>63.0</td>\n",
              "      <td>14.0</td>\n",
              "      <td>139.0</td>\n",
              "      <td>0.0</td>\n",
              "      <td>84.0</td>\n",
              "    </tr>\n",
              "    <tr>\n",
              "      <th>3</th>\n",
              "      <td>1008.0</td>\n",
              "      <td>Orlando-Kissimmee-Sanford, FL MSA</td>\n",
              "      <td>ultimate</td>\n",
              "      <td>70</td>\n",
              "      <td>2018-10-01</td>\n",
              "      <td>71.0</td>\n",
              "      <td>0.0</td>\n",
              "      <td>57.0</td>\n",
              "      <td>0.0</td>\n",
              "      <td>21.0</td>\n",
              "      <td>0.0</td>\n",
              "      <td>70.0</td>\n",
              "    </tr>\n",
              "    <tr>\n",
              "      <th>4</th>\n",
              "      <td>1008.0</td>\n",
              "      <td>Orlando-Kissimmee-Sanford, FL MSA</td>\n",
              "      <td>ultimate</td>\n",
              "      <td>70</td>\n",
              "      <td>2018-11-01</td>\n",
              "      <td>63.0</td>\n",
              "      <td>0.0</td>\n",
              "      <td>72.0</td>\n",
              "      <td>0.0</td>\n",
              "      <td>37.0</td>\n",
              "      <td>0.0</td>\n",
              "      <td>70.0</td>\n",
              "    </tr>\n",
              "  </tbody>\n",
              "</table>\n",
              "</div>"
            ],
            "text/plain": [
              "   user_id                                    city      plan  usd_monthly_pay  \\\n",
              "0   1000.0   Atlanta-Sandy Springs-Roswell, GA MSA  ultimate               70   \n",
              "1   1006.0  San Francisco-Oakland-Berkeley, CA MSA  ultimate               70   \n",
              "2   1006.0  San Francisco-Oakland-Berkeley, CA MSA  ultimate               70   \n",
              "3   1008.0       Orlando-Kissimmee-Sanford, FL MSA  ultimate               70   \n",
              "4   1008.0       Orlando-Kissimmee-Sanford, FL MSA  ultimate               70   \n",
              "\n",
              "       month  number_of_calls  extracalls_revenue  number_of_sessions  \\\n",
              "0 2018-12-01             16.0                 0.0                 5.0   \n",
              "1 2018-11-01              2.0                 0.0                 7.0   \n",
              "2 2018-12-01              9.0                 0.0                63.0   \n",
              "3 2018-10-01             71.0                 0.0                57.0   \n",
              "4 2018-11-01             63.0                 0.0                72.0   \n",
              "\n",
              "   extragigas_revenue  number_of_messages  extramessages_revenue  \\\n",
              "0                 0.0                11.0                    0.0   \n",
              "1                 0.0                15.0                    0.0   \n",
              "2                14.0               139.0                    0.0   \n",
              "3                 0.0                21.0                    0.0   \n",
              "4                 0.0                37.0                    0.0   \n",
              "\n",
              "   total_revenue  \n",
              "0           70.0  \n",
              "1           70.0  \n",
              "2           84.0  \n",
              "3           70.0  \n",
              "4           70.0  "
            ]
          },
          "execution_count": 87,
          "metadata": {},
          "output_type": "execute_result"
        }
      ],
      "source": [
        "monthly_revenue['total_revenue'] = monthly_revenue['usd_monthly_pay'] + monthly_revenue['extracalls_revenue'] + monthly_revenue['extragigas_revenue'] + monthly_revenue['extramessages_revenue']\n",
        "monthly_revenue.head()"
      ]
    },
    {
      "cell_type": "markdown",
      "metadata": {
        "id": "bihBB4un70eS"
      },
      "source": [
        "Perfecto, tenemos nuestra base de datos consolidada, pero vamos a ordenar las columnas para una visualización más amigable:"
      ]
    },
    {
      "cell_type": "code",
      "execution_count": null,
      "metadata": {
        "id": "HGVGWc5I70eT",
        "outputId": "06f03ddd-e78e-428c-c3bf-20b698644a3a"
      },
      "outputs": [
        {
          "data": {
            "text/html": [
              "<div>\n",
              "<style scoped>\n",
              "    .dataframe tbody tr th:only-of-type {\n",
              "        vertical-align: middle;\n",
              "    }\n",
              "\n",
              "    .dataframe tbody tr th {\n",
              "        vertical-align: top;\n",
              "    }\n",
              "\n",
              "    .dataframe thead th {\n",
              "        text-align: right;\n",
              "    }\n",
              "</style>\n",
              "<table border=\"1\" class=\"dataframe\">\n",
              "  <thead>\n",
              "    <tr style=\"text-align: right;\">\n",
              "      <th></th>\n",
              "      <th>user_id</th>\n",
              "      <th>city</th>\n",
              "      <th>month</th>\n",
              "      <th>plan</th>\n",
              "      <th>number_of_calls</th>\n",
              "      <th>number_of_sessions</th>\n",
              "      <th>number_of_messages</th>\n",
              "      <th>usd_monthly_pay</th>\n",
              "      <th>extracalls_revenue</th>\n",
              "      <th>extragigas_revenue</th>\n",
              "      <th>extramessages_revenue</th>\n",
              "      <th>total_revenue</th>\n",
              "    </tr>\n",
              "  </thead>\n",
              "  <tbody>\n",
              "    <tr>\n",
              "      <th>0</th>\n",
              "      <td>1000.0</td>\n",
              "      <td>Atlanta-Sandy Springs-Roswell, GA MSA</td>\n",
              "      <td>2018-12-01</td>\n",
              "      <td>ultimate</td>\n",
              "      <td>16.0</td>\n",
              "      <td>5.0</td>\n",
              "      <td>11.0</td>\n",
              "      <td>70</td>\n",
              "      <td>0.0</td>\n",
              "      <td>0.0</td>\n",
              "      <td>0.0</td>\n",
              "      <td>70.0</td>\n",
              "    </tr>\n",
              "    <tr>\n",
              "      <th>1</th>\n",
              "      <td>1006.0</td>\n",
              "      <td>San Francisco-Oakland-Berkeley, CA MSA</td>\n",
              "      <td>2018-11-01</td>\n",
              "      <td>ultimate</td>\n",
              "      <td>2.0</td>\n",
              "      <td>7.0</td>\n",
              "      <td>15.0</td>\n",
              "      <td>70</td>\n",
              "      <td>0.0</td>\n",
              "      <td>0.0</td>\n",
              "      <td>0.0</td>\n",
              "      <td>70.0</td>\n",
              "    </tr>\n",
              "    <tr>\n",
              "      <th>2</th>\n",
              "      <td>1006.0</td>\n",
              "      <td>San Francisco-Oakland-Berkeley, CA MSA</td>\n",
              "      <td>2018-12-01</td>\n",
              "      <td>ultimate</td>\n",
              "      <td>9.0</td>\n",
              "      <td>63.0</td>\n",
              "      <td>139.0</td>\n",
              "      <td>70</td>\n",
              "      <td>0.0</td>\n",
              "      <td>14.0</td>\n",
              "      <td>0.0</td>\n",
              "      <td>84.0</td>\n",
              "    </tr>\n",
              "    <tr>\n",
              "      <th>3</th>\n",
              "      <td>1008.0</td>\n",
              "      <td>Orlando-Kissimmee-Sanford, FL MSA</td>\n",
              "      <td>2018-10-01</td>\n",
              "      <td>ultimate</td>\n",
              "      <td>71.0</td>\n",
              "      <td>57.0</td>\n",
              "      <td>21.0</td>\n",
              "      <td>70</td>\n",
              "      <td>0.0</td>\n",
              "      <td>0.0</td>\n",
              "      <td>0.0</td>\n",
              "      <td>70.0</td>\n",
              "    </tr>\n",
              "    <tr>\n",
              "      <th>4</th>\n",
              "      <td>1008.0</td>\n",
              "      <td>Orlando-Kissimmee-Sanford, FL MSA</td>\n",
              "      <td>2018-11-01</td>\n",
              "      <td>ultimate</td>\n",
              "      <td>63.0</td>\n",
              "      <td>72.0</td>\n",
              "      <td>37.0</td>\n",
              "      <td>70</td>\n",
              "      <td>0.0</td>\n",
              "      <td>0.0</td>\n",
              "      <td>0.0</td>\n",
              "      <td>70.0</td>\n",
              "    </tr>\n",
              "  </tbody>\n",
              "</table>\n",
              "</div>"
            ],
            "text/plain": [
              "   user_id                                    city      month      plan  \\\n",
              "0   1000.0   Atlanta-Sandy Springs-Roswell, GA MSA 2018-12-01  ultimate   \n",
              "1   1006.0  San Francisco-Oakland-Berkeley, CA MSA 2018-11-01  ultimate   \n",
              "2   1006.0  San Francisco-Oakland-Berkeley, CA MSA 2018-12-01  ultimate   \n",
              "3   1008.0       Orlando-Kissimmee-Sanford, FL MSA 2018-10-01  ultimate   \n",
              "4   1008.0       Orlando-Kissimmee-Sanford, FL MSA 2018-11-01  ultimate   \n",
              "\n",
              "   number_of_calls  number_of_sessions  number_of_messages  usd_monthly_pay  \\\n",
              "0             16.0                 5.0                11.0               70   \n",
              "1              2.0                 7.0                15.0               70   \n",
              "2              9.0                63.0               139.0               70   \n",
              "3             71.0                57.0                21.0               70   \n",
              "4             63.0                72.0                37.0               70   \n",
              "\n",
              "   extracalls_revenue  extragigas_revenue  extramessages_revenue  \\\n",
              "0                 0.0                 0.0                    0.0   \n",
              "1                 0.0                 0.0                    0.0   \n",
              "2                 0.0                14.0                    0.0   \n",
              "3                 0.0                 0.0                    0.0   \n",
              "4                 0.0                 0.0                    0.0   \n",
              "\n",
              "   total_revenue  \n",
              "0           70.0  \n",
              "1           70.0  \n",
              "2           84.0  \n",
              "3           70.0  \n",
              "4           70.0  "
            ]
          },
          "execution_count": 88,
          "metadata": {},
          "output_type": "execute_result"
        }
      ],
      "source": [
        "monthly_revenue = monthly_revenue[['user_id','city','month','plan','number_of_calls','number_of_sessions','number_of_messages','usd_monthly_pay','extracalls_revenue','extragigas_revenue','extramessages_revenue','total_revenue']]\n",
        "monthly_revenue.head()"
      ]
    },
    {
      "cell_type": "markdown",
      "metadata": {
        "id": "JeATBAYl70eT"
      },
      "source": [
        "Con nuestras 4 bases de datos preparadas. Estamos listos para comenzar el analisis de nuestros datos."
      ]
    },
    {
      "cell_type": "markdown",
      "metadata": {
        "id": "YQutm2BK70eT"
      },
      "source": [
        "## Analisis de las tablas <a id='analisis_tablas'></a>"
      ]
    },
    {
      "cell_type": "markdown",
      "metadata": {
        "id": "DxdldCa_70eT"
      },
      "source": [
        "En esta sección buscaremos describir el comportamiento de los clientes de Megaline. Para ello analizaremos los minutos, SMS y volumen de datos requeridos por los usuarios por plan y por mes. Haremos primero una revisión general de nuestra tabla:"
      ]
    },
    {
      "cell_type": "code",
      "execution_count": null,
      "metadata": {
        "scrolled": true,
        "id": "3UmQQ9cK70eT",
        "outputId": "366026fd-6f72-47a4-abdd-8ceb7700b24b"
      },
      "outputs": [
        {
          "data": {
            "text/html": [
              "<div>\n",
              "<style scoped>\n",
              "    .dataframe tbody tr th:only-of-type {\n",
              "        vertical-align: middle;\n",
              "    }\n",
              "\n",
              "    .dataframe tbody tr th {\n",
              "        vertical-align: top;\n",
              "    }\n",
              "\n",
              "    .dataframe thead th {\n",
              "        text-align: right;\n",
              "    }\n",
              "</style>\n",
              "<table border=\"1\" class=\"dataframe\">\n",
              "  <thead>\n",
              "    <tr style=\"text-align: right;\">\n",
              "      <th></th>\n",
              "      <th>user_id</th>\n",
              "      <th>number_of_calls</th>\n",
              "      <th>number_of_sessions</th>\n",
              "      <th>number_of_messages</th>\n",
              "      <th>usd_monthly_pay</th>\n",
              "      <th>extracalls_revenue</th>\n",
              "      <th>extragigas_revenue</th>\n",
              "      <th>extramessages_revenue</th>\n",
              "      <th>total_revenue</th>\n",
              "    </tr>\n",
              "  </thead>\n",
              "  <tbody>\n",
              "    <tr>\n",
              "      <th>count</th>\n",
              "      <td>2293.000000</td>\n",
              "      <td>2293.000000</td>\n",
              "      <td>2293.000000</td>\n",
              "      <td>2293.000000</td>\n",
              "      <td>2293.000000</td>\n",
              "      <td>2293.000000</td>\n",
              "      <td>2293.000000</td>\n",
              "      <td>2293.000000</td>\n",
              "      <td>2293.000000</td>\n",
              "    </tr>\n",
              "    <tr>\n",
              "      <th>mean</th>\n",
              "      <td>1246.075883</td>\n",
              "      <td>60.067597</td>\n",
              "      <td>45.715220</td>\n",
              "      <td>33.166594</td>\n",
              "      <td>35.699956</td>\n",
              "      <td>1.264828</td>\n",
              "      <td>27.242041</td>\n",
              "      <td>0.144322</td>\n",
              "      <td>64.351147</td>\n",
              "    </tr>\n",
              "    <tr>\n",
              "      <th>std</th>\n",
              "      <td>143.051927</td>\n",
              "      <td>32.402563</td>\n",
              "      <td>19.587177</td>\n",
              "      <td>34.070085</td>\n",
              "      <td>23.210863</td>\n",
              "      <td>3.233992</td>\n",
              "      <td>48.571724</td>\n",
              "      <td>0.493515</td>\n",
              "      <td>46.624945</td>\n",
              "    </tr>\n",
              "    <tr>\n",
              "      <th>min</th>\n",
              "      <td>1000.000000</td>\n",
              "      <td>0.000000</td>\n",
              "      <td>0.000000</td>\n",
              "      <td>0.000000</td>\n",
              "      <td>20.000000</td>\n",
              "      <td>0.000000</td>\n",
              "      <td>0.000000</td>\n",
              "      <td>0.000000</td>\n",
              "      <td>20.000000</td>\n",
              "    </tr>\n",
              "    <tr>\n",
              "      <th>25%</th>\n",
              "      <td>1122.000000</td>\n",
              "      <td>38.000000</td>\n",
              "      <td>35.000000</td>\n",
              "      <td>3.000000</td>\n",
              "      <td>20.000000</td>\n",
              "      <td>0.000000</td>\n",
              "      <td>0.000000</td>\n",
              "      <td>0.000000</td>\n",
              "      <td>23.480000</td>\n",
              "    </tr>\n",
              "    <tr>\n",
              "      <th>50%</th>\n",
              "      <td>1245.000000</td>\n",
              "      <td>60.000000</td>\n",
              "      <td>48.000000</td>\n",
              "      <td>26.000000</td>\n",
              "      <td>20.000000</td>\n",
              "      <td>0.000000</td>\n",
              "      <td>0.000000</td>\n",
              "      <td>0.000000</td>\n",
              "      <td>70.000000</td>\n",
              "    </tr>\n",
              "    <tr>\n",
              "      <th>75%</th>\n",
              "      <td>1368.000000</td>\n",
              "      <td>79.000000</td>\n",
              "      <td>58.000000</td>\n",
              "      <td>51.000000</td>\n",
              "      <td>70.000000</td>\n",
              "      <td>0.000000</td>\n",
              "      <td>40.000000</td>\n",
              "      <td>0.000000</td>\n",
              "      <td>70.000000</td>\n",
              "    </tr>\n",
              "    <tr>\n",
              "      <th>max</th>\n",
              "      <td>1499.000000</td>\n",
              "      <td>205.000000</td>\n",
              "      <td>138.000000</td>\n",
              "      <td>266.000000</td>\n",
              "      <td>70.000000</td>\n",
              "      <td>30.300000</td>\n",
              "      <td>550.000000</td>\n",
              "      <td>6.480000</td>\n",
              "      <td>590.370000</td>\n",
              "    </tr>\n",
              "  </tbody>\n",
              "</table>\n",
              "</div>"
            ],
            "text/plain": [
              "           user_id  number_of_calls  number_of_sessions  number_of_messages  \\\n",
              "count  2293.000000      2293.000000         2293.000000         2293.000000   \n",
              "mean   1246.075883        60.067597           45.715220           33.166594   \n",
              "std     143.051927        32.402563           19.587177           34.070085   \n",
              "min    1000.000000         0.000000            0.000000            0.000000   \n",
              "25%    1122.000000        38.000000           35.000000            3.000000   \n",
              "50%    1245.000000        60.000000           48.000000           26.000000   \n",
              "75%    1368.000000        79.000000           58.000000           51.000000   \n",
              "max    1499.000000       205.000000          138.000000          266.000000   \n",
              "\n",
              "       usd_monthly_pay  extracalls_revenue  extragigas_revenue  \\\n",
              "count      2293.000000         2293.000000         2293.000000   \n",
              "mean         35.699956            1.264828           27.242041   \n",
              "std          23.210863            3.233992           48.571724   \n",
              "min          20.000000            0.000000            0.000000   \n",
              "25%          20.000000            0.000000            0.000000   \n",
              "50%          20.000000            0.000000            0.000000   \n",
              "75%          70.000000            0.000000           40.000000   \n",
              "max          70.000000           30.300000          550.000000   \n",
              "\n",
              "       extramessages_revenue  total_revenue  \n",
              "count            2293.000000    2293.000000  \n",
              "mean                0.144322      64.351147  \n",
              "std                 0.493515      46.624945  \n",
              "min                 0.000000      20.000000  \n",
              "25%                 0.000000      23.480000  \n",
              "50%                 0.000000      70.000000  \n",
              "75%                 0.000000      70.000000  \n",
              "max                 6.480000     590.370000  "
            ]
          },
          "execution_count": 89,
          "metadata": {},
          "output_type": "execute_result"
        }
      ],
      "source": [
        "monthly_revenue.describe()"
      ]
    },
    {
      "cell_type": "markdown",
      "metadata": {
        "id": "ieXW5lo070eT"
      },
      "source": [
        "En la revisión general, podemos notar que en promedio los usuarios de Megaline hace 60 llamadas al mes, abren 46 sessiones en internet y mandan 33 mensajes de texto. Notamos también que en promedio mensualmente gasta 65 dolares (bastante más que el promedio mensual sin los cobros extras 36 dolares). Otro punto interesante es que en promedio, en llamadas extra los usuarios gastan 1.3 dolares, mientras que en gigas extras 28 dolares y en mensajes 0.14 dolares."
      ]
    },
    {
      "cell_type": "code",
      "execution_count": null,
      "metadata": {
        "id": "o-HU-nsj70eT"
      },
      "outputs": [],
      "source": [
        "minutes_per_month = monthly_revenue.groupby('month').agg({'number_of_calls': 'mean'}).reset_index()\n",
        "gigas_per_month = monthly_revenue.groupby('month').agg({'number_of_sessions': 'mean'}).reset_index()\n",
        "messages_per_month = monthly_revenue.groupby('month').agg({'number_of_messages': 'mean'}).reset_index()"
      ]
    },
    {
      "cell_type": "code",
      "execution_count": null,
      "metadata": {
        "id": "fNpBSe7H70eT",
        "outputId": "7d9bf6bb-f748-4dfc-c38c-bc3290732db5"
      },
      "outputs": [
        {
          "data": {
            "image/png": "[encoded data removed]",
            "text/plain": [
              "<Figure size 432x288 with 1 Axes>"
            ]
          },
          "metadata": {
            "needs_background": "light"
          },
          "output_type": "display_data"
        },
        {
          "data": {
            "image/png": "[encoded data removed]",
            "text/plain": [
              "<Figure size 432x288 with 1 Axes>"
            ]
          },
          "metadata": {
            "needs_background": "light"
          },
          "output_type": "display_data"
        },
        {
          "data": {
            "image/png": "[encoded data removed]",
            "text/plain": [
              "<Figure size 432x288 with 1 Axes>"
            ]
          },
          "metadata": {
            "needs_background": "light"
          },
          "output_type": "display_data"
        }
      ],
      "source": [
        "minutes_per_month.plot(kind=\"line\", x=\"month\", y=\"number_of_calls\")\n",
        "gigas_per_month.plot(kind=\"line\", x=\"month\", y=\"number_of_sessions\")\n",
        "messages_per_month.plot(kind=\"line\", x=\"month\", y=\"number_of_messages\")\n",
        "plt.show()"
      ]
    },
    {
      "cell_type": "markdown",
      "metadata": {
        "id": "OLz5VeBW70eT"
      },
      "source": [
        "Viendo los gráficos, podemos notar que en términos generales, para las llamadas notamos un salto de enero a febrero, y luego las llamadas siguen subiendo llegando a un máximo de 65 llamadas en diciembre. Con las sesiones de internet, vemos un comportamiento similar, pero con una leve caída en abril y luego vuelven a subir pero de manera más progresiva que las llamadas. \n",
        "Con los mensajes de textos estos aumentan casi de manera constante, con un salto en mayo y una leve caída en noviembre. Importante a tener en cuenta, sería interesante ver los números del siguiente año para ver si efectivamente hay una caída en los números en enero."
      ]
    },
    {
      "cell_type": "markdown",
      "metadata": {
        "id": "hvzLFQQR70eU"
      },
      "source": [
        "### Analisis de minutos por plan <a id='analisis_minutos'></a>"
      ]
    },
    {
      "cell_type": "code",
      "execution_count": null,
      "metadata": {
        "scrolled": true,
        "id": "vvjdqK8f70eU",
        "outputId": "00bbe8f4-65be-4fd0-80ab-d9a7cdd2000c"
      },
      "outputs": [
        {
          "name": "stdout",
          "output_type": "stream",
          "text": [
            "La media de llamadas para el plan surf es de: 59.811824539097266\n",
            "La desviación estándar de llamadas para el plan surf es de: 32.0179885434927\n",
            "\n",
            "La media de llamadas para el plan ultimate es de: 60.62638888888889\n",
            "La desviación estándar de llamadas para el plan ultimate es de: 33.24299415063124\n"
          ]
        }
      ],
      "source": [
        "print('La media de llamadas para el plan surf es de:', monthly_revenue.query('plan == \"surf\"')['number_of_calls'].mean())\n",
        "print('La desviación estándar de llamadas para el plan surf es de:', monthly_revenue.query('plan == \"surf\"')['number_of_calls'].std())\n",
        "print()\n",
        "print('La media de llamadas para el plan ultimate es de:', monthly_revenue.query('plan == \"ultimate\"')['number_of_calls'].mean())\n",
        "print('La desviación estándar de llamadas para el plan ultimate es de:', monthly_revenue.query('plan == \"ultimate\"')['number_of_calls'].std())"
      ]
    },
    {
      "cell_type": "markdown",
      "metadata": {
        "id": "kAC5sxcq70eU"
      },
      "source": [
        "Como se puede apreciar la media de llamadas y la desviación estándar de ambos planes no varian mucho. La media de llamadas es de 60 para el plan Surf y 61 para el Ultimate, y la desviación estándar es de 32 para el plan Surf y 33 para el plan Ultimate. Veamos si la distribución también es similar:"
      ]
    },
    {
      "cell_type": "code",
      "execution_count": null,
      "metadata": {
        "id": "Ry3RX_RL70eU",
        "outputId": "42a45a48-66f8-4786-a2ad-48a206f2d97b"
      },
      "outputs": [
        {
          "data": {
            "text/plain": [
              "<function matplotlib.pyplot.show(close=None, block=None)>"
            ]
          },
          "execution_count": 93,
          "metadata": {},
          "output_type": "execute_result"
        },
        {
          "data": {
            "image/png": "[encoded data removed]",
            "text/plain": [
              "<Figure size 864x432 with 1 Axes>"
            ]
          },
          "metadata": {
            "needs_background": "light"
          },
          "output_type": "display_data"
        }
      ],
      "source": [
        "monthly_revenue.query('plan == \"surf\"').hist('number_of_calls', bins=12, color='blue', alpha=0.5, figsize=(12, 6))\n",
        "plt.xlabel('Tiempo de llamadas')\n",
        "plt.ylabel('Número de llamadas')\n",
        "plt.title('Distribución de llamadas para el plan Surf')\n",
        "plt.show"
      ]
    },
    {
      "cell_type": "code",
      "execution_count": null,
      "metadata": {
        "id": "IUru7s6m70eU",
        "outputId": "3232af12-e42e-48fe-e2f1-569a1e6660a1"
      },
      "outputs": [
        {
          "data": {
            "text/plain": [
              "<function matplotlib.pyplot.show(close=None, block=None)>"
            ]
          },
          "execution_count": 94,
          "metadata": {},
          "output_type": "execute_result"
        },
        {
          "data": {
            "image/png": "[encoded data removed]",
            "text/plain": [
              "<Figure size 864x432 with 1 Axes>"
            ]
          },
          "metadata": {
            "needs_background": "light"
          },
          "output_type": "display_data"
        }
      ],
      "source": [
        "monthly_revenue.query('plan == \"ultimate\"').hist('number_of_calls', bins=12, color='purple', alpha=0.5, figsize=(12, 6))\n",
        "plt.xlabel('Tiempo de llamadas')\n",
        "plt.ylabel('Número de llamadas')\n",
        "plt.title('Distribución de llamadas para el plan Ultimate')\n",
        "plt.show"
      ]
    },
    {
      "cell_type": "markdown",
      "metadata": {
        "id": "TWMmiXMy70eU"
      },
      "source": [
        "Podemos apreciar que en el plan Surf, la mayoría de las llamadas se concentran en el rango de 30 a 80 minutos, a partir de los 80 minutos comienza a bajar, luego más baja drásticamente a partir de los 120 podemos ver menos de 50 llamadas. La mayor conglomeración de llamadas (350) se encuentra entre los 50 y 60 minutos. En cambio, en el método Ultimate, los números de llamadas no pasan las 150, pero el rango es más amplio, entre 30 y 80 superan las 100 llamadas. La bajada también es menos drástica en este plan, a la altura de los 110 ya comienzan a ser menos de 20 llamadas. "
      ]
    },
    {
      "cell_type": "markdown",
      "metadata": {
        "id": "jVJew8dC70eU"
      },
      "source": [
        "### Analisis de gigas utilizados <a id='analisis_sesiones'></a>"
      ]
    },
    {
      "cell_type": "code",
      "execution_count": null,
      "metadata": {
        "id": "lfc-d4BC70eU",
        "outputId": "44b71669-3f4a-4c27-c60c-c0e9e6824b76"
      },
      "outputs": [
        {
          "name": "stdout",
          "output_type": "stream",
          "text": [
            "La media de gigas utilizados para el plan surf es de: 16.831193838254173\n",
            "La desviación estándar para el plan surf es de: 7.711921556321404\n",
            "\n",
            "La media de gigas utilizados para el plan ultimate es de: 17.331015299026426\n",
            "La desviación estándar para el plan ultimate es de: 7.648184953980576\n"
          ]
        }
      ],
      "source": [
        "print('La media de gigas utilizados para el plan surf es de:', internet_monthly.query('plan == \"surf\"')['monthly_gb_used'].mean())\n",
        "print('La desviación estándar para el plan surf es de:', internet_monthly.query('plan == \"surf\"')['monthly_gb_used'].std())\n",
        "print()\n",
        "print('La media de gigas utilizados para el plan ultimate es de:', internet_monthly.query('plan == \"ultimate\"')['monthly_gb_used'].mean())\n",
        "print('La desviación estándar para el plan ultimate es de:', internet_monthly.query('plan == \"ultimate\"')['monthly_gb_used'].std())"
      ]
    },
    {
      "cell_type": "markdown",
      "metadata": {
        "id": "f2QLCnvt70eU"
      },
      "source": [
        "Nuevamente los números son bastante similares si los redondeamos (sin comas) tanto surf como ultimate tienen 17 gigas utilizados de media, la desviación estándar es del orden de los 8 para los dos planes."
      ]
    },
    {
      "cell_type": "code",
      "execution_count": null,
      "metadata": {
        "id": "RSew1EDL70eU",
        "outputId": "63182a88-db46-43aa-fae9-c8417d8c137f"
      },
      "outputs": [
        {
          "data": {
            "text/plain": [
              "<function matplotlib.pyplot.show(close=None, block=None)>"
            ]
          },
          "execution_count": 96,
          "metadata": {},
          "output_type": "execute_result"
        },
        {
          "data": {
            "image/png": "[encoded data removed]",
            "text/plain": [
              "<Figure size 864x432 with 1 Axes>"
            ]
          },
          "metadata": {
            "needs_background": "light"
          },
          "output_type": "display_data"
        }
      ],
      "source": [
        "internet_monthly.query('plan == \"surf\"').hist('monthly_gb_used', bins=12, color='blue', alpha=0.5, figsize=(12, 6))\n",
        "plt.xlabel('Número de Gigas por mes')\n",
        "plt.ylabel('Cantidad de usuarios')\n",
        "plt.title('Distribución de Gigas utilizado por mes para el plan Surf')\n",
        "plt.show"
      ]
    },
    {
      "cell_type": "code",
      "execution_count": null,
      "metadata": {
        "id": "WPm8A4VV70eU",
        "outputId": "33ca3c47-3647-41c1-83ef-0ef628bd9af3"
      },
      "outputs": [
        {
          "data": {
            "text/plain": [
              "<function matplotlib.pyplot.show(close=None, block=None)>"
            ]
          },
          "execution_count": 97,
          "metadata": {},
          "output_type": "execute_result"
        },
        {
          "data": {
            "image/png": "[encoded data removed]",
            "text/plain": [
              "<Figure size 864x432 with 1 Axes>"
            ]
          },
          "metadata": {
            "needs_background": "light"
          },
          "output_type": "display_data"
        }
      ],
      "source": [
        "internet_monthly.query('plan == \"ultimate\"').hist('monthly_gb_used', bins=12, color='purple', alpha=0.5, figsize=(12, 6))\n",
        "plt.xlabel('Número de Gigas por mes')\n",
        "plt.ylabel('Cantidad de usuarios')\n",
        "plt.title('Distribución de Gigas utilizado por mes para el plan Ultimate')\n",
        "plt.show"
      ]
    },
    {
      "cell_type": "markdown",
      "metadata": {
        "id": "OD7nGq6z70eV"
      },
      "source": [
        "En términos de gigas utilizados, podemos ver que en el plan Surf tiene un sesgo a la izquierda, la mayoría de los usuarios utilizan del orden de 15 gigas. Son pocos los usuarios que utilizan más de 20, y muchos menos de 100 los que utilizan más de 30 gigas. La distribución del plan Ultimate es más centrada, el pico también se encuentra entre los 15 y 20 gigas."
      ]
    },
    {
      "cell_type": "markdown",
      "metadata": {
        "id": "Qv-W3aXJ70eV"
      },
      "source": [
        "### Analisis de mensajes por plan <a id='analisis_mensajes'></a>"
      ]
    },
    {
      "cell_type": "code",
      "execution_count": null,
      "metadata": {
        "id": "7qSo_ZSj70eV",
        "outputId": "1f26b799-a36b-41a7-ac52-9494fdd06fa5"
      },
      "outputs": [
        {
          "name": "stdout",
          "output_type": "stream",
          "text": [
            "La media de mensajes para el plan surf es de: 31.15956770502225\n",
            "La desviación estándar de mensajes para el plan surf es de: 33.566717473569064\n",
            "\n",
            "La media de mensajes para el plan ultimate es de: 37.55138888888889\n",
            "La desviación estándar de mensajes para el plan ultimate es de: 34.76717911404574\n"
          ]
        }
      ],
      "source": [
        "print('La media de mensajes para el plan surf es de:', monthly_revenue.query('plan == \"surf\"')['number_of_messages'].mean())\n",
        "print('La desviación estándar de mensajes para el plan surf es de:', monthly_revenue.query('plan == \"surf\"')['number_of_messages'].std())\n",
        "print()\n",
        "print('La media de mensajes para el plan ultimate es de:', monthly_revenue.query('plan == \"ultimate\"')['number_of_messages'].mean())\n",
        "print('La desviación estándar de mensajes para el plan ultimate es de:', monthly_revenue.query('plan == \"ultimate\"')['number_of_messages'].std())"
      ]
    },
    {
      "cell_type": "markdown",
      "metadata": {
        "id": "biqq8ea070eV"
      },
      "source": [
        "En el caso de los mensajes la media de mensajes para el plan Surf es de 31 mientrás que para el plan Ultimate es de 37. Con respecto a la desviación estándar el plan Surf tiene una de 34 y el plan Ultimate de 35. Veamos como se distribuyen:"
      ]
    },
    {
      "cell_type": "code",
      "execution_count": null,
      "metadata": {
        "id": "A9S88c4s70eV",
        "outputId": "969da0e7-540e-41d5-eb33-c2f7c7ccb3a8"
      },
      "outputs": [
        {
          "data": {
            "text/plain": [
              "<function matplotlib.pyplot.show(close=None, block=None)>"
            ]
          },
          "execution_count": 99,
          "metadata": {},
          "output_type": "execute_result"
        },
        {
          "data": {
            "image/png": "[encoded data removed]",
            "text/plain": [
              "<Figure size 864x432 with 1 Axes>"
            ]
          },
          "metadata": {
            "needs_background": "light"
          },
          "output_type": "display_data"
        }
      ],
      "source": [
        "monthly_revenue.query('plan == \"surf\"').hist('number_of_messages', bins=12, color='blue', alpha=0.5, figsize=(12, 6))\n",
        "plt.xlabel('Número de mensajes')\n",
        "plt.ylabel('Cantidad de usuarios')\n",
        "plt.title('Distribución de mensajes para el plan Surf')\n",
        "plt.show"
      ]
    },
    {
      "cell_type": "code",
      "execution_count": null,
      "metadata": {
        "id": "mc6DeYfr70eV",
        "outputId": "1fc0fb94-908f-4538-86a8-e1c19fdc476f"
      },
      "outputs": [
        {
          "data": {
            "text/plain": [
              "<function matplotlib.pyplot.show(close=None, block=None)>"
            ]
          },
          "execution_count": 100,
          "metadata": {},
          "output_type": "execute_result"
        },
        {
          "data": {
            "image/png": "[encoded data removed]",
            "text/plain": [
              "<Figure size 864x432 with 1 Axes>"
            ]
          },
          "metadata": {
            "needs_background": "light"
          },
          "output_type": "display_data"
        }
      ],
      "source": [
        "monthly_revenue.query('plan == \"ultimate\"').hist('number_of_messages', bins=12, color='purple', alpha=0.5, figsize=(12, 6))\n",
        "plt.xlabel('Número de mensajes')\n",
        "plt.ylabel('Cantidad de usuarios')\n",
        "plt.title('Distribución de mensajes para el plan Ultimate')\n",
        "plt.show"
      ]
    },
    {
      "cell_type": "markdown",
      "metadata": {
        "id": "1oSP7aPQ70eV"
      },
      "source": [
        "Con respecto a los mensajes lo primero que notamos es que ambos histogramas están sesgados a la izquierda. En el caso del plan Surf la mayoría se encuentra en el rango de 0 a 46 mensajes llegando a más de 400 usuarios, ya en 50 la caída en número de usuarios es grande. El plan Ultimate en cambio, su rango es mucho menor entre 0 y 12 encontramos mensajes para la mayoría de los usuarios, a partir de los 40 mensajes el número de usuarios comienza a bajar considerablemente. "
      ]
    },
    {
      "cell_type": "markdown",
      "metadata": {
        "id": "t7qAxQpB70eW"
      },
      "source": [
        "### Comportamiento de los usuarios por plan <a id='comportamiento_usuario'></a>"
      ]
    },
    {
      "cell_type": "markdown",
      "metadata": {
        "id": "S3kdDLtQ70eW"
      },
      "source": [
        "En general la media no varia mucho para los planes Surf y Ultimate en terminos de llamadas y sessiones de internet. No así en los mensajes de texto dónde pudimos apreciar una media bastante más alta en el plan ultimate 37 mensajes versus los 31 del plan Surf. En términos de la desviación estándar pudimos notar que en general están bastante alta en los tres casos rondando las 30 llamadas y mensajes para ambos planes y en terminos de sessiones 20 para el plan surf y 18 para el plan ultimate. Si bien la media y desviación estándar es similar en ambos planes notamos mayores diferencias en el comportamiento de los usuarios de cada plan en cuanto a la distribución observada en los histogramas de llamadas, sesiones y mensajes. \n",
        "- La distribución de llamadas en ambos planes es bastante centrica, sin embargo en el plan Surf es más pronunciada llegando a un máximo de 350 llamadas en el rango de los 50 a 60. En cambio, en el plan ultimate nuestro histograma es más chato con un pick de 150 llamadas y manteniendo numeros por sobre las 80 llamadas en los rangos de 30 a 80. \n",
        "- La distribución de las sesiones de internet en cambio tienen un ligero sesgo a la derecha, en el plan Surf la mayoría de sesiones se concentran entre 35 y 70, llegando a su punto máximo 420 sesiones a la altura del 50 a 55. En cambio para el plan Ultimate, está más centrado, con su mayoría de sesiones entre los 38 a 65, nuevamente el pick es más bajo llegando a 150 sesiones. El plan ultimate se ve más centrado, con su mayoría de sesiones entre los 38 a 65, nuevamente el pick es más bajo llegando a 175 sesiones.\n",
        "- Con respecto a los mensajes lo primero que notamos es que ambos histogramas están sesgados a la izquierda. En el caso del plan Surf la mayoría se encuentra en el rango de 0 a 46 mensajes llegando a más de 400 usuarios, ya en 50 la caída en número de usuarios es grande. El plan Ultimate en cambio, su rango es mucho menor entre 0 y 12 encontramos mensajes para la mayoría de los usuarios, a partir de los 40 mensajes el número de usuarios comienza a bajar considerablemente."
      ]
    },
    {
      "cell_type": "markdown",
      "metadata": {
        "id": "l3JCafaW70eW"
      },
      "source": [
        "## Comprobación de hipótesis <a id='comprobación_hipotesis'></a>"
      ]
    },
    {
      "cell_type": "markdown",
      "metadata": {
        "id": "9yfajusB70eW"
      },
      "source": [
        "A continuación nos concentraremos en estudiar nuestras dos hipótesis iniciales:\n",
        "- **El ingreso promedio de los usuarios de las tarifas Ultimate y Surf difiere.**\n",
        "\n",
        "Para ello generaremos las dos sentencias siguientes para el ingreso total de cada plan:\n",
        "\n",
        "H0: las medias (de Surf y Ultimate) son iguales\n",
        "\n",
        "Ha: las medias no son iguales\n",
        "\n",
        "- **El ingreso promedio de los usuarios en el área de estados Nueva York-Nueva Jersey es diferente al de los usuarios de otras regiones.**\n",
        "\n",
        "Realizaremos lo mismo para el caso de los estados de la siguiente manera:\n",
        "\n",
        "H0: las medias de New York y New Jersey son iguales a la media de los otros estados\n",
        "\n",
        "Ha: las medias no son iguales\n",
        "\n",
        "\n",
        "\n",
        "Para ello, utilizaremos un umbral de significancia del 5%, que es un umbral común para este tipo de casos."
      ]
    },
    {
      "cell_type": "code",
      "execution_count": null,
      "metadata": {
        "id": "Waco6bE870eW"
      },
      "outputs": [],
      "source": [
        "significance = 0.05"
      ]
    },
    {
      "cell_type": "markdown",
      "metadata": {
        "id": "j9Q0Bpeq70eW"
      },
      "source": [
        "### Hipótesis I <a id='comprobación_hipotesis_1'></a>"
      ]
    },
    {
      "cell_type": "code",
      "execution_count": null,
      "metadata": {
        "id": "g6IUQHOT70eW",
        "outputId": "aa282f9f-8d54-4e12-8ee0-7d3b2b9a00b9"
      },
      "outputs": [
        {
          "name": "stdout",
          "output_type": "stream",
          "text": [
            "\n",
            "    El ingreso promedio del plan surf es: 60.706408137317226\n",
            "    La media del número de llamadas del plan ultimate es: 72.31388888888888\n",
            "\n",
            "    t-statistic: -5.568949166552807\n",
            "    p-value: 2.862674510698644e-08\n",
            "\n",
            "Rechazamos nuestra hipótesis nula\n"
          ]
        }
      ],
      "source": [
        "stat, p_value = ttest_ind(\n",
        "    monthly_revenue.loc[monthly_revenue[\"plan\"] == 'surf', \"total_revenue\"],\n",
        "    monthly_revenue.loc[monthly_revenue[\"plan\"] == 'ultimate', \"total_revenue\"]\n",
        ")\n",
        "print(f\"\"\"\n",
        "    El ingreso promedio del plan surf es: {monthly_revenue.loc[monthly_revenue[\"plan\"] == 'surf', \"total_revenue\"].mean()}\n",
        "    La media del número de llamadas del plan ultimate es: {monthly_revenue.loc[monthly_revenue[\"plan\"] == 'ultimate', \"total_revenue\"].mean()}\n",
        "\n",
        "    t-statistic: {stat}\n",
        "    p-value: {p_value}\n",
        "\"\"\")\n",
        "\n",
        "if p_value < significance:\n",
        "    print('Rechazamos nuestra hipótesis nula')\n",
        "else:\n",
        "    print('No rechazamos nuestra hipótesis nula')"
      ]
    },
    {
      "cell_type": "markdown",
      "metadata": {
        "id": "NkLsx9Un70eW"
      },
      "source": [
        "### Hipótesis II <a id='comprobación_hipotesis_2'></a>"
      ]
    },
    {
      "cell_type": "code",
      "execution_count": null,
      "metadata": {
        "id": "_03uxxap70eW",
        "outputId": "3e80b2fc-f9f9-49c7-e8f5-04a2bb87c708"
      },
      "outputs": [
        {
          "name": "stdout",
          "output_type": "stream",
          "text": [
            "\n",
            "    El ingreso promedio del área de NY-NJ es: 59.92135278514589\n",
            "    El ingreso promedio de los otros estados es: 65.2227713987474\n",
            "\n",
            "    t-statistic: -2.0194429818968076\n",
            "    p-value: 0.04355743162134274\n",
            "\n",
            "Rechazamos nuestra hipótesis nula\n"
          ]
        }
      ],
      "source": [
        "stat, p_value = ttest_ind(\n",
        "    monthly_revenue.loc[monthly_revenue[\"city\"] == 'New York-Newark-Jersey City, NY-NJ-PA MSA', \"total_revenue\"],\n",
        "    monthly_revenue.loc[monthly_revenue[\"city\"] != 'New York-Newark-Jersey City, NY-NJ-PA MSA', \"total_revenue\"]\n",
        ")\n",
        "print(f\"\"\"\n",
        "    El ingreso promedio del área de NY-NJ es: {monthly_revenue.loc[monthly_revenue[\"city\"] == 'New York-Newark-Jersey City, NY-NJ-PA MSA', \"total_revenue\"].mean()}\n",
        "    El ingreso promedio de los otros estados es: {monthly_revenue.loc[monthly_revenue[\"city\"] != 'New York-Newark-Jersey City, NY-NJ-PA MSA', \"total_revenue\"].mean()}\n",
        "\n",
        "    t-statistic: {stat}\n",
        "    p-value: {p_value}\n",
        "\"\"\")\n",
        "\n",
        "if p_value < significance:\n",
        "    print('Rechazamos nuestra hipótesis nula')\n",
        "else:\n",
        "    print('No rechazamos nuestra hipótesis nula')"
      ]
    },
    {
      "cell_type": "markdown",
      "metadata": {
        "id": "A_pdtVXT70eX"
      },
      "source": [
        "## Conclusión general:<a id='conclusion'></a>"
      ]
    },
    {
      "cell_type": "markdown",
      "metadata": {
        "id": "aEGpiIZB70eX"
      },
      "source": [
        "Al revisar nuestros 5 datasets notamos que megaline_calls, megaline_internet, megaline_messages y megaline_users tenian en común la columna user_id (que pasamos en todas las bases del tipo int64 a object), además estas cinco bases tienen fechas que pasamos del tipo object a DateTime. Notamos también que megaline_users tiene la columna plan que coincide con plan_name en megaline_plans. Entonces, para que las tablas sean congruentes, cambiamos el nombre de la columna 'plan_name' a solo 'plan'.\n",
        "\n",
        "Por precausión, revisamos si habian duplicados en las columnas id de megaline_calls, megaline_internet y megaline_messages, y también revisamos duplicados en la columna user_id de megaline_users.\n",
        "\n",
        "Algunos puntos que tuvimos en consideración con ciertas columnas fueron en base a los reglamentos tarifarios de Megaline: \"Megaline redondea los segundos a minutos y los megabytes a gigabytes. Para llamadas, cada llamada individual se redondea: incluso si la llamada duró solo un segundo, se contará como un minuto. Para tráfico web, las sesiones web individuales no se redondean. En vez de esto, el total del mes se redondea hacia arriba. Si alguien usa 1025 megabytes este mes, se le cobrarán 2 gigabytes.\"\n",
        "\n",
        "Revisamos en el dataset megaline_calls, columna duration los datos en minutos (8.52) redondeando los resultados hacia arriba (9 en el ejemplo). En el dataset, megaline_internet columna mb_used, la tabla nos presenta los megabytes usados en la sessión. En este caso, agrupamos las sesiones del mes y el resultado fue redondeado hacia arriba. Finalmente, teniamos que revisar las columnas de duration y mb_used (arriba mencionada) para analizar los valores en 0, lo mismo con la columna churn_data (de megaline_users) para ver la repercusión de los valores ausentes (si es que la habia).\n",
        "\n",
        "Se regularizaron las columnas de 'user_id' y las columnas de fechas de los datasets megaline_calls, megaline_internet, megaline_messages y megaline_users. Las dejamos del tipo object y datetime64 respectivamente.\n",
        "\n",
        "En ninguna de las columnas relevantes encontramos códigos duplicados, efectivamente tenemos solo identificadores unicos.\n",
        "\n",
        "Revisamos la columna 'churn_date' de megaline_users que es la que contenía más valores ausentes. Decidimos mantener la columna y pasar los valores ausentes a 0, ya que la columna nos muestra a los usuarios de baja. Es importante destacar que como las otras tablas nos presentan los montos mensuales, los usuarios dados de baja si nos sirven para nuestro estudio general.\n",
        "\n",
        "Por otro lado, revisamos las columnas de duration y mb_used de magaline_calls y megaline_internet respectivamente, definimos que los valores en cero corresponden a valores utiles que se encuentran en los parámetros que influyen en nuestro estudio, con lo cual se mantuvieron todos.\n",
        "\n",
        "Decidimos preparar las tablas de llamadas, sessiones de internet y mensajes por separado. Para todas transformamos la fecha al primero del mes con el fin de poder filtrar más adelante los valores mensuales. En el caso de la tabla de llamadas, de acuerdo a la descripción tarifaria de Megaline redondeamos los minutos de llamada hacia arriba. Hicimos algo similar con la tabla de sesiones de internet reondeando los valores mensuales. \n",
        "\n",
        "Unimos las tres tablas creando la tabla **'megaline_monthly_revenue'** que consta de las siguientes columnas: 'user_id', 'city', 'month', 'plan', 'number_of_calls', 'number_of_sessions', 'number_of_messages', 'usd_monthly_pay', 'extracalls_revenue', 'extragigas_revenue', 'extramessages_revenue', 'total_revenue'.\n",
        "\n",
        "**Con respecto al comportamiento de los usuarios:**\n",
        "\n",
        "En la revisión general, podemos notar que en promedio los usuarios de Megaline hace 60 llamadas al mes, abren 46 sessiones en internet y mandan 33 mensajes de texto. Notamos también que en promedio mensualmente gasta 65 dolares (bastante más que el promedio mensual sin los cobros extras 36 dolares). Otro punto interesante es que en promedio, en llamadas extra los usuarios gastan 1.3 dolares, mientras que en gigas extras 28 dolares y en mensajes 0.14 dolares.\n",
        "\n",
        "Viendo los gráficos, podemos notar que en términos generales, para las llamadas notamos un salto de enero a febrero, y luego las llamadas siguen subiendo llegando a un máximo de 65 llamadas en diciembre. Con las sesiones de internet, vemos un comportamiento similar, pero con una leve caída en abril y luego vuelven a subir pero de manera más progresiva que las llamadas. Con los mensajes de textos estos aumentan casi de manera constante, con un salto en mayo y una leve caída en noviembre. Importante a tener en cuenta, sería interesante ver los números del siguiente año para ver si efectivamente hay una caída en los números en enero.\n",
        "\n",
        "**Con respecto a los planes Surf y Ultimate:**\n",
        "\n",
        "En general la media no varia mucho para los planes Surf y Ultimate en terminos de llamadas y sessiones de internet. No así en los mensajes de texto dónde pudimos apreciar una media bastante más alta en el plan ultimate 37 mensajes versus los 31 del plan Surf. En términos de la desviación estándar pudimos notar que en general están bastante alta en los tres casos rondando las 30 llamadas y mensajes para ambos planes y en terminos de sessiones 20 para el plan surf y 18 para el plan ultimate. Si bien la media y desviación estándar es similar en ambos planes notamos mayores diferencias en el comportamiento de los usuarios de cada plan en cuanto a la distribución observada en los histogramas de llamadas, sesiones y mensajes. \n",
        "- La distribución de llamadas en ambos planes es bastante centrica, sin embargo en el plan Surf es más pronunciada llegando a un máximo de 350 llamadas en el rango de los 50 a 60. En cambio, en el plan ultimate nuestro histograma es más chato con un pick de 150 llamadas y manteniendo numeros por sobre las 80 llamadas en los rangos de 30 a 80. \n",
        "- En términos de gigas utilizados, podemos ver que en el plan Surf tiene un sesgo a la izquierda, la mayoría de los usuarios utilizan del orden de 15 gigas. Son pocos los usuarios que utilizan más de 20, y muchos menos de 100 los que utilizan más de 30 gigas. La distribución del plan Ultimate es más centrada, el pico también se encuentra entre los 15 y 20 gigas.\n",
        "- Con respecto a los mensajes lo primero que notamos es que ambos histogramas están sesgados a la izquierda. En el caso del plan Surf la mayoría se encuentra en el rango de 0 a 46 mensajes llegando a más de 400 usuarios, ya en 50 la caída en número de usuarios es grande. El plan Ultimate en cambio, su rango es mucho menor entre 0 y 12 encontramos mensajes para la mayoría de los usuarios, a partir de los 40 mensajes el número de usuarios comienza a bajar considerablemente.\n",
        "\n",
        "**Con respecto a nuestras hipótesis iniciales:**\n",
        "\n",
        "Finalmente, con respecto a nuestras hipótesis iniciales. Nuestra primera pregunta era si el ingreso promedio del plan Surf difiere del ingreso promedio ultimate. De acuerdo a nuestro estudio, rechazamos la hipotesis de que el ingreso promedio del plan Surf era igual que el de Ultimate. El ingreso promedio del plan Surf es de 61 dolares mientras que el de Ultimate es de 72 dolares. \n",
        "\n",
        "\n",
        "Nuestra segunda hipótesis, indicaba que el ingreso promedio de los usuarios del área de Nueva York-Nueva Jersey es diferente al de usuarios de las otras regiones. De acuerdo a nuestro estudio, no podemos rechazar la hipotésis de que el ingreso promedio de Nueva York-New Jersey sea igual al de los otros estados. El promedio de Nueva York-New Jersey es de 60 dolares, mientras que el de los otros estados es de 65 dolares.  "
      ]
    }
  ],
  "metadata": {
    "kernelspec": {
      "display_name": "Python 3 (ipykernel)",
      "language": "python",
      "name": "python3"
    },
    "language_info": {
      "codemirror_mode": {
        "name": "ipython",
        "version": 3
      },
      "file_extension": ".py",
      "mimetype": "text/x-python",
      "name": "python",
      "nbconvert_exporter": "python",
      "pygments_lexer": "ipython3",
      "version": "3.9.5"
    },
    "toc": {
      "base_numbering": 1,
      "nav_menu": {},
      "number_sections": true,
      "sideBar": true,
      "skip_h1_title": true,
      "title_cell": "Table of Contents",
      "title_sidebar": "Contents",
      "toc_cell": false,
      "toc_position": {
        "height": "calc(100% - 180px)",
        "left": "10px",
        "top": "150px",
        "width": "366.188px"
      },
      "toc_section_display": true,
      "toc_window_display": true
    },
    "colab": {
      "provenance": []
    }
  },
  "nbformat": 4,
  "nbformat_minor": 0
}