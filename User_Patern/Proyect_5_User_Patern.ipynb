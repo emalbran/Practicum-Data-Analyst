{
  "cells": [
    {
      "cell_type": "markdown",
      "metadata": {
        "id": "zXk_tWVpHkPP"
      },
      "source": [
        "# Detección de patrones y comportamientos para campaña 2017 "
      ]
    },
    {
      "cell_type": "markdown",
      "metadata": {
        "id": "Y_GVc0ySHkPP"
      },
      "source": [
        "La tienda online Ice vende videojuegos por todo el mundo. Las reseñas de usuarios y expertos, los géneros, las plataformas (por ejemplo, Xbox o PlayStation) y los datos históricos sobre las ventas de juegos están disponibles en fuentes abiertas. Identificaremos patrones que determinen si un juego tiene éxito o no. Esto nos permitirá detectar proyectos prometedores y planificar campañas publicitarias. Nos entregaron datos que se remontan a 2016. La compañía está planeando una campaña para 2017.\n",
        "\n",
        "El dataset contiene la abreviatura ESRB que corresponde a \"The Entertainment Software Rating Board\" (la Junta de clasificación de software de entretenimiento) evaluaremos el contenido de un juego y asignaremos una clasificación de edad como Adolescente o Adulto.\n",
        "\n",
        "Para lograr nuestros objetivos, vamos a preparar los datos recibidos y luego analizarlos con el fin de crear un perfil de usuario para cada una de las regiones relevantes (Norte America, la Unión Europea y Japón). Además, buscaremos responder a las siguientes hipótesis:\n",
        "\n",
        "1. Las calificaciones promedio de los usuarios para las plataformas Xbox One y PC son las mismas.\n",
        "2. Las calificaciones promedio de los usuarios para los géneros de Acción y Deportes son diferentes."
      ]
    },
    {
      "cell_type": "markdown",
      "metadata": {
        "id": "M0wQLFozHkPQ"
      },
      "source": [
        "# Contenido <a id='back'></a>\n",
        "\n",
        "* [1 Inicialización](#inicio)\n",
        "    * [1.1 Cargar datos](#carga_datos)\n",
        "    * [1.2 Explorar datos iniciales](#explorar_datos)\n",
        "    * [1.3 Reemplazar los nombres de las columnas](#reemplazar_nombres)\n",
        "    * [1.4 Revisión de los valores ausentes](#valores_ausentes)\n",
        "        * [1.4.1 La columna: name](#valores_ausentes_name)\n",
        "        * [1.4.2 La columna: year_of_release](#valores_ausentes_release)\n",
        "        * [1.4.3 La columna: critic_score](#valores_ausentes_critic)\n",
        "        * [1.4.4 La columna: user_score](#valores_ausentes_user)\n",
        "        * [1.4.5 La columna: rating](#valores_ausentes_rating)\n",
        "    * [1.5 Convertir las columnas en los tipos correctos](#convertir_datos)\n",
        "    * [1.6 Crear la columna Ventas Totales](#crear_totales)\n",
        "* [2 Analisis de datos](#analisis_datos)\n",
        "    * [2.1 Juegos estrenados por año](#juegos_anuales)\n",
        "    * [2.2 Ventas por Plataformas](#ventas_plataforma)\n",
        "    * [2.3 Ventas por Plataformas en base acotada](#ventas_plataforma_2)\n",
        "        * [2.3.1 Conclusiones sobre las ventas por Plataformas](#ventas_plataforma_conclusiones)\n",
        "    * [2.4 Reseñas de los usuarios](#estudio_reseñas)\n",
        "    * [2.5 Rentabilidad por Género](#estudio_generos)\n",
        "* [3 Perfil de usuario por región](#estudio_perfil)\n",
        "     * [3.1 Perfil de Norte America](#estudio_perfil_NA)\n",
        "     * [3.2 Perfil de Europa](#estudio_perfil_EU)\n",
        "     * [3.3 Perfil de Japón](#estudio_perfil_JP)     \n",
        "* [4 Comprobación de Hipotesis](#hipotesis)     \n",
        "     * [4.1 Hipótesis I](#comprobación_hipotesis_1)\n",
        "     * [4.2 Hipótesis II](#comprobación_hipotesis_2)\n",
        "* [5 Conclusión general](#conclusion)\n"
      ]
    },
    {
      "cell_type": "markdown",
      "metadata": {
        "id": "B8TbfG5tHkPR"
      },
      "source": [
        "## Inicialización <a id='inicio'></a>"
      ]
    },
    {
      "cell_type": "markdown",
      "metadata": {
        "id": "PIR4Xe7cHkPR"
      },
      "source": [
        "Con el fin de resolver nuestras dudas cargaremos las siguientes librerías:\n",
        "- Pandas\n",
        "- Matplotlib\n",
        "- numpy\n",
        "- scipy.stats\n",
        "- seaborn"
      ]
    },
    {
      "cell_type": "code",
      "execution_count": null,
      "metadata": {
        "id": "pDZmJNkDHkPS"
      },
      "outputs": [],
      "source": [
        "import pandas as pd\n",
        "import matplotlib.pyplot as plt\n",
        "import seaborn as sns\n",
        "import numpy as np\n",
        "from scipy.stats import ttest_ind"
      ]
    },
    {
      "cell_type": "markdown",
      "metadata": {
        "id": "ftrSyvYQHkPT"
      },
      "source": [
        "### Cargas de datos: <a id='carga_datos'></a>"
      ]
    },
    {
      "cell_type": "markdown",
      "metadata": {
        "id": "wOsH58XqHkPU"
      },
      "source": [
        "Recibimos el archivo *games.csv* que cargaremos a continuación:"
      ]
    },
    {
      "cell_type": "code",
      "execution_count": null,
      "metadata": {
        "id": "3KLz-qw1HkPU"
      },
      "outputs": [],
      "source": [
        "games = pd.read_csv('/datasets/games.csv')"
      ]
    },
    {
      "cell_type": "markdown",
      "metadata": {
        "id": "Zdw84JWXHkPU"
      },
      "source": [
        "### Explorar datos iniciales <a id='explorar_datos'></a>"
      ]
    },
    {
      "cell_type": "markdown",
      "metadata": {
        "id": "eHsXaXkRHkPV"
      },
      "source": [
        "La tabla games contiene los siguientes datos:\n",
        "\n",
        "- Name: Nombre\n",
        "- Platform: Plataforma\n",
        "- Year_of_Release: Año de lanzamiento\n",
        "- Genre: Género\n",
        "- NA_sales: ventas en Norteamérica en millones de dólares estadounidenses\n",
        "- EU_sales: ventas en Europa en millones de dólares estadounidenses\n",
        "- JP_sales: ventas en Japón en millones de dólares estadounidenses\n",
        "- Other_sales: ventas en otros países en millones de dólares estadounidenses\n",
        "- Critic_Score: máximo de 100\n",
        "- User_Score: máximo de 10\n",
        "- Clasificación: ESRB - The Entertainment Software Rating Board"
      ]
    },
    {
      "cell_type": "code",
      "execution_count": null,
      "metadata": {
        "id": "OVxbqsSvHkPV",
        "outputId": "c9ef0e5f-c0d8-4b35-bd61-172e173817f8"
      },
      "outputs": [
        {
          "name": "stdout",
          "output_type": "stream",
          "text": [
            "Presentación de las columnas de games:\n",
            "Index(['Name', 'Platform', 'Year_of_Release', 'Genre', 'NA_sales', 'EU_sales',\n",
            "       'JP_sales', 'Other_sales', 'Critic_Score', 'User_Score', 'Rating'],\n",
            "      dtype='object')\n",
            "\n",
            "Revisión del número de líneas de games:\n",
            "16715 líneas.\n"
          ]
        }
      ],
      "source": [
        "print('Presentación de las columnas de games:')\n",
        "print(games.columns)\n",
        "print()\n",
        "print('Revisión del número de líneas de games:')\n",
        "print(len(games), 'líneas.')"
      ]
    },
    {
      "cell_type": "code",
      "execution_count": null,
      "metadata": {
        "id": "0zfSRY6nHkPX",
        "outputId": "d54019e2-b0e0-4c93-ee8f-cd6fd821a24d"
      },
      "outputs": [
        {
          "name": "stdout",
          "output_type": "stream",
          "text": [
            "<class 'pandas.core.frame.DataFrame'>\n",
            "RangeIndex: 16715 entries, 0 to 16714\n",
            "Data columns (total 11 columns):\n",
            " #   Column           Non-Null Count  Dtype  \n",
            "---  ------           --------------  -----  \n",
            " 0   Name             16713 non-null  object \n",
            " 1   Platform         16715 non-null  object \n",
            " 2   Year_of_Release  16446 non-null  float64\n",
            " 3   Genre            16713 non-null  object \n",
            " 4   NA_sales         16715 non-null  float64\n",
            " 5   EU_sales         16715 non-null  float64\n",
            " 6   JP_sales         16715 non-null  float64\n",
            " 7   Other_sales      16715 non-null  float64\n",
            " 8   Critic_Score     8137 non-null   float64\n",
            " 9   User_Score       10014 non-null  object \n",
            " 10  Rating           9949 non-null   object \n",
            "dtypes: float64(6), object(5)\n",
            "memory usage: 1.4+ MB\n"
          ]
        }
      ],
      "source": [
        "games.info()"
      ]
    },
    {
      "cell_type": "code",
      "execution_count": null,
      "metadata": {
        "id": "f3kUi7tPHkPX",
        "outputId": "7626d53b-592e-4467-b742-4b02151c86e4"
      },
      "outputs": [
        {
          "data": {
            "text/html": [
              "<div>\n",
              "<style scoped>\n",
              "    .dataframe tbody tr th:only-of-type {\n",
              "        vertical-align: middle;\n",
              "    }\n",
              "\n",
              "    .dataframe tbody tr th {\n",
              "        vertical-align: top;\n",
              "    }\n",
              "\n",
              "    .dataframe thead th {\n",
              "        text-align: right;\n",
              "    }\n",
              "</style>\n",
              "<table border=\"1\" class=\"dataframe\">\n",
              "  <thead>\n",
              "    <tr style=\"text-align: right;\">\n",
              "      <th></th>\n",
              "      <th>Name</th>\n",
              "      <th>Platform</th>\n",
              "      <th>Year_of_Release</th>\n",
              "      <th>Genre</th>\n",
              "      <th>NA_sales</th>\n",
              "      <th>EU_sales</th>\n",
              "      <th>JP_sales</th>\n",
              "      <th>Other_sales</th>\n",
              "      <th>Critic_Score</th>\n",
              "      <th>User_Score</th>\n",
              "      <th>Rating</th>\n",
              "    </tr>\n",
              "  </thead>\n",
              "  <tbody>\n",
              "    <tr>\n",
              "      <th>0</th>\n",
              "      <td>Wii Sports</td>\n",
              "      <td>Wii</td>\n",
              "      <td>2006.0</td>\n",
              "      <td>Sports</td>\n",
              "      <td>41.36</td>\n",
              "      <td>28.96</td>\n",
              "      <td>3.77</td>\n",
              "      <td>8.45</td>\n",
              "      <td>76.0</td>\n",
              "      <td>8</td>\n",
              "      <td>E</td>\n",
              "    </tr>\n",
              "    <tr>\n",
              "      <th>1</th>\n",
              "      <td>Super Mario Bros.</td>\n",
              "      <td>NES</td>\n",
              "      <td>1985.0</td>\n",
              "      <td>Platform</td>\n",
              "      <td>29.08</td>\n",
              "      <td>3.58</td>\n",
              "      <td>6.81</td>\n",
              "      <td>0.77</td>\n",
              "      <td>NaN</td>\n",
              "      <td>NaN</td>\n",
              "      <td>NaN</td>\n",
              "    </tr>\n",
              "    <tr>\n",
              "      <th>2</th>\n",
              "      <td>Mario Kart Wii</td>\n",
              "      <td>Wii</td>\n",
              "      <td>2008.0</td>\n",
              "      <td>Racing</td>\n",
              "      <td>15.68</td>\n",
              "      <td>12.76</td>\n",
              "      <td>3.79</td>\n",
              "      <td>3.29</td>\n",
              "      <td>82.0</td>\n",
              "      <td>8.3</td>\n",
              "      <td>E</td>\n",
              "    </tr>\n",
              "    <tr>\n",
              "      <th>3</th>\n",
              "      <td>Wii Sports Resort</td>\n",
              "      <td>Wii</td>\n",
              "      <td>2009.0</td>\n",
              "      <td>Sports</td>\n",
              "      <td>15.61</td>\n",
              "      <td>10.93</td>\n",
              "      <td>3.28</td>\n",
              "      <td>2.95</td>\n",
              "      <td>80.0</td>\n",
              "      <td>8</td>\n",
              "      <td>E</td>\n",
              "    </tr>\n",
              "    <tr>\n",
              "      <th>4</th>\n",
              "      <td>Pokemon Red/Pokemon Blue</td>\n",
              "      <td>GB</td>\n",
              "      <td>1996.0</td>\n",
              "      <td>Role-Playing</td>\n",
              "      <td>11.27</td>\n",
              "      <td>8.89</td>\n",
              "      <td>10.22</td>\n",
              "      <td>1.00</td>\n",
              "      <td>NaN</td>\n",
              "      <td>NaN</td>\n",
              "      <td>NaN</td>\n",
              "    </tr>\n",
              "  </tbody>\n",
              "</table>\n",
              "</div>"
            ],
            "text/plain": [
              "                       Name Platform  Year_of_Release         Genre  NA_sales  \\\n",
              "0                Wii Sports      Wii           2006.0        Sports     41.36   \n",
              "1         Super Mario Bros.      NES           1985.0      Platform     29.08   \n",
              "2            Mario Kart Wii      Wii           2008.0        Racing     15.68   \n",
              "3         Wii Sports Resort      Wii           2009.0        Sports     15.61   \n",
              "4  Pokemon Red/Pokemon Blue       GB           1996.0  Role-Playing     11.27   \n",
              "\n",
              "   EU_sales  JP_sales  Other_sales  Critic_Score User_Score Rating  \n",
              "0     28.96      3.77         8.45          76.0          8      E  \n",
              "1      3.58      6.81         0.77           NaN        NaN    NaN  \n",
              "2     12.76      3.79         3.29          82.0        8.3      E  \n",
              "3     10.93      3.28         2.95          80.0          8      E  \n",
              "4      8.89     10.22         1.00           NaN        NaN    NaN  "
            ]
          },
          "execution_count": 82,
          "metadata": {},
          "output_type": "execute_result"
        }
      ],
      "source": [
        "games.head()"
      ]
    },
    {
      "cell_type": "code",
      "execution_count": null,
      "metadata": {
        "id": "3XhpQ9F9HkPY",
        "outputId": "32dc871c-931d-4b7a-a1d4-44f7af00a605"
      },
      "outputs": [
        {
          "data": {
            "text/html": [
              "<div>\n",
              "<style scoped>\n",
              "    .dataframe tbody tr th:only-of-type {\n",
              "        vertical-align: middle;\n",
              "    }\n",
              "\n",
              "    .dataframe tbody tr th {\n",
              "        vertical-align: top;\n",
              "    }\n",
              "\n",
              "    .dataframe thead th {\n",
              "        text-align: right;\n",
              "    }\n",
              "</style>\n",
              "<table border=\"1\" class=\"dataframe\">\n",
              "  <thead>\n",
              "    <tr style=\"text-align: right;\">\n",
              "      <th></th>\n",
              "      <th>Name</th>\n",
              "      <th>Platform</th>\n",
              "      <th>Year_of_Release</th>\n",
              "      <th>Genre</th>\n",
              "      <th>NA_sales</th>\n",
              "      <th>EU_sales</th>\n",
              "      <th>JP_sales</th>\n",
              "      <th>Other_sales</th>\n",
              "      <th>Critic_Score</th>\n",
              "      <th>User_Score</th>\n",
              "      <th>Rating</th>\n",
              "    </tr>\n",
              "  </thead>\n",
              "  <tbody>\n",
              "    <tr>\n",
              "      <th>16710</th>\n",
              "      <td>Samurai Warriors: Sanada Maru</td>\n",
              "      <td>PS3</td>\n",
              "      <td>2016.0</td>\n",
              "      <td>Action</td>\n",
              "      <td>0.00</td>\n",
              "      <td>0.00</td>\n",
              "      <td>0.01</td>\n",
              "      <td>0.0</td>\n",
              "      <td>NaN</td>\n",
              "      <td>NaN</td>\n",
              "      <td>NaN</td>\n",
              "    </tr>\n",
              "    <tr>\n",
              "      <th>16711</th>\n",
              "      <td>LMA Manager 2007</td>\n",
              "      <td>X360</td>\n",
              "      <td>2006.0</td>\n",
              "      <td>Sports</td>\n",
              "      <td>0.00</td>\n",
              "      <td>0.01</td>\n",
              "      <td>0.00</td>\n",
              "      <td>0.0</td>\n",
              "      <td>NaN</td>\n",
              "      <td>NaN</td>\n",
              "      <td>NaN</td>\n",
              "    </tr>\n",
              "    <tr>\n",
              "      <th>16712</th>\n",
              "      <td>Haitaka no Psychedelica</td>\n",
              "      <td>PSV</td>\n",
              "      <td>2016.0</td>\n",
              "      <td>Adventure</td>\n",
              "      <td>0.00</td>\n",
              "      <td>0.00</td>\n",
              "      <td>0.01</td>\n",
              "      <td>0.0</td>\n",
              "      <td>NaN</td>\n",
              "      <td>NaN</td>\n",
              "      <td>NaN</td>\n",
              "    </tr>\n",
              "    <tr>\n",
              "      <th>16713</th>\n",
              "      <td>Spirits &amp; Spells</td>\n",
              "      <td>GBA</td>\n",
              "      <td>2003.0</td>\n",
              "      <td>Platform</td>\n",
              "      <td>0.01</td>\n",
              "      <td>0.00</td>\n",
              "      <td>0.00</td>\n",
              "      <td>0.0</td>\n",
              "      <td>NaN</td>\n",
              "      <td>NaN</td>\n",
              "      <td>NaN</td>\n",
              "    </tr>\n",
              "    <tr>\n",
              "      <th>16714</th>\n",
              "      <td>Winning Post 8 2016</td>\n",
              "      <td>PSV</td>\n",
              "      <td>2016.0</td>\n",
              "      <td>Simulation</td>\n",
              "      <td>0.00</td>\n",
              "      <td>0.00</td>\n",
              "      <td>0.01</td>\n",
              "      <td>0.0</td>\n",
              "      <td>NaN</td>\n",
              "      <td>NaN</td>\n",
              "      <td>NaN</td>\n",
              "    </tr>\n",
              "  </tbody>\n",
              "</table>\n",
              "</div>"
            ],
            "text/plain": [
              "                                Name Platform  Year_of_Release       Genre  \\\n",
              "16710  Samurai Warriors: Sanada Maru      PS3           2016.0      Action   \n",
              "16711               LMA Manager 2007     X360           2006.0      Sports   \n",
              "16712        Haitaka no Psychedelica      PSV           2016.0   Adventure   \n",
              "16713               Spirits & Spells      GBA           2003.0    Platform   \n",
              "16714            Winning Post 8 2016      PSV           2016.0  Simulation   \n",
              "\n",
              "       NA_sales  EU_sales  JP_sales  Other_sales  Critic_Score User_Score  \\\n",
              "16710      0.00      0.00      0.01          0.0           NaN        NaN   \n",
              "16711      0.00      0.01      0.00          0.0           NaN        NaN   \n",
              "16712      0.00      0.00      0.01          0.0           NaN        NaN   \n",
              "16713      0.01      0.00      0.00          0.0           NaN        NaN   \n",
              "16714      0.00      0.00      0.01          0.0           NaN        NaN   \n",
              "\n",
              "      Rating  \n",
              "16710    NaN  \n",
              "16711    NaN  \n",
              "16712    NaN  \n",
              "16713    NaN  \n",
              "16714    NaN  "
            ]
          },
          "execution_count": 83,
          "metadata": {},
          "output_type": "execute_result"
        }
      ],
      "source": [
        "games.tail()"
      ]
    },
    {
      "cell_type": "markdown",
      "metadata": {
        "id": "k8sHL_JmHkPY"
      },
      "source": [
        "El dataset *games* consta de 11 columnas y 16715 líneas. Las columnas tienen carácteres en mayúscula, pasaremos todos los nombres a minúscula. Podemos notar que las columnas 'name', 'year_of_release', 'genre', 'critic_score', 'user_score' y 'rating' tienen valores ausentes que deben ser analizados. Además, hay que revisar el tipo para las columnas 'year_of_release', 'critic_score', 'user_score' y 'rating'.\n",
        "\n",
        "Para preparar los datos entonces, vamos a reemplazar los nombres de las columnas, convertir las mismas en los tipos correctos y revisar sus valores ausentes."
      ]
    },
    {
      "cell_type": "markdown",
      "metadata": {
        "id": "862g4ITnHkPY"
      },
      "source": [
        "### Reemplazar los nombres de las columnas <a id='reemplazar_nombres'></a>"
      ]
    },
    {
      "cell_type": "markdown",
      "metadata": {
        "id": "_1Sd1FcwHkPY"
      },
      "source": [
        "Transformaremos los nombres de las columnas a mínusculas."
      ]
    },
    {
      "cell_type": "code",
      "execution_count": null,
      "metadata": {
        "id": "jvB7jNDtHkPY"
      },
      "outputs": [],
      "source": [
        "games.columns = games.columns.str.lower()"
      ]
    },
    {
      "cell_type": "markdown",
      "metadata": {
        "id": "vT6HFY8xHkPZ"
      },
      "source": [
        "Validación:"
      ]
    },
    {
      "cell_type": "code",
      "execution_count": null,
      "metadata": {
        "id": "DZKlhNDKHkPZ",
        "outputId": "67f2058e-047a-4219-fba9-e3144f7268a1"
      },
      "outputs": [
        {
          "data": {
            "text/html": [
              "<div>\n",
              "<style scoped>\n",
              "    .dataframe tbody tr th:only-of-type {\n",
              "        vertical-align: middle;\n",
              "    }\n",
              "\n",
              "    .dataframe tbody tr th {\n",
              "        vertical-align: top;\n",
              "    }\n",
              "\n",
              "    .dataframe thead th {\n",
              "        text-align: right;\n",
              "    }\n",
              "</style>\n",
              "<table border=\"1\" class=\"dataframe\">\n",
              "  <thead>\n",
              "    <tr style=\"text-align: right;\">\n",
              "      <th></th>\n",
              "      <th>name</th>\n",
              "      <th>platform</th>\n",
              "      <th>year_of_release</th>\n",
              "      <th>genre</th>\n",
              "      <th>na_sales</th>\n",
              "      <th>eu_sales</th>\n",
              "      <th>jp_sales</th>\n",
              "      <th>other_sales</th>\n",
              "      <th>critic_score</th>\n",
              "      <th>user_score</th>\n",
              "      <th>rating</th>\n",
              "    </tr>\n",
              "  </thead>\n",
              "  <tbody>\n",
              "    <tr>\n",
              "      <th>0</th>\n",
              "      <td>Wii Sports</td>\n",
              "      <td>Wii</td>\n",
              "      <td>2006.0</td>\n",
              "      <td>Sports</td>\n",
              "      <td>41.36</td>\n",
              "      <td>28.96</td>\n",
              "      <td>3.77</td>\n",
              "      <td>8.45</td>\n",
              "      <td>76.0</td>\n",
              "      <td>8</td>\n",
              "      <td>E</td>\n",
              "    </tr>\n",
              "    <tr>\n",
              "      <th>1</th>\n",
              "      <td>Super Mario Bros.</td>\n",
              "      <td>NES</td>\n",
              "      <td>1985.0</td>\n",
              "      <td>Platform</td>\n",
              "      <td>29.08</td>\n",
              "      <td>3.58</td>\n",
              "      <td>6.81</td>\n",
              "      <td>0.77</td>\n",
              "      <td>NaN</td>\n",
              "      <td>NaN</td>\n",
              "      <td>NaN</td>\n",
              "    </tr>\n",
              "    <tr>\n",
              "      <th>2</th>\n",
              "      <td>Mario Kart Wii</td>\n",
              "      <td>Wii</td>\n",
              "      <td>2008.0</td>\n",
              "      <td>Racing</td>\n",
              "      <td>15.68</td>\n",
              "      <td>12.76</td>\n",
              "      <td>3.79</td>\n",
              "      <td>3.29</td>\n",
              "      <td>82.0</td>\n",
              "      <td>8.3</td>\n",
              "      <td>E</td>\n",
              "    </tr>\n",
              "    <tr>\n",
              "      <th>3</th>\n",
              "      <td>Wii Sports Resort</td>\n",
              "      <td>Wii</td>\n",
              "      <td>2009.0</td>\n",
              "      <td>Sports</td>\n",
              "      <td>15.61</td>\n",
              "      <td>10.93</td>\n",
              "      <td>3.28</td>\n",
              "      <td>2.95</td>\n",
              "      <td>80.0</td>\n",
              "      <td>8</td>\n",
              "      <td>E</td>\n",
              "    </tr>\n",
              "    <tr>\n",
              "      <th>4</th>\n",
              "      <td>Pokemon Red/Pokemon Blue</td>\n",
              "      <td>GB</td>\n",
              "      <td>1996.0</td>\n",
              "      <td>Role-Playing</td>\n",
              "      <td>11.27</td>\n",
              "      <td>8.89</td>\n",
              "      <td>10.22</td>\n",
              "      <td>1.00</td>\n",
              "      <td>NaN</td>\n",
              "      <td>NaN</td>\n",
              "      <td>NaN</td>\n",
              "    </tr>\n",
              "  </tbody>\n",
              "</table>\n",
              "</div>"
            ],
            "text/plain": [
              "                       name platform  year_of_release         genre  na_sales  \\\n",
              "0                Wii Sports      Wii           2006.0        Sports     41.36   \n",
              "1         Super Mario Bros.      NES           1985.0      Platform     29.08   \n",
              "2            Mario Kart Wii      Wii           2008.0        Racing     15.68   \n",
              "3         Wii Sports Resort      Wii           2009.0        Sports     15.61   \n",
              "4  Pokemon Red/Pokemon Blue       GB           1996.0  Role-Playing     11.27   \n",
              "\n",
              "   eu_sales  jp_sales  other_sales  critic_score user_score rating  \n",
              "0     28.96      3.77         8.45          76.0          8      E  \n",
              "1      3.58      6.81         0.77           NaN        NaN    NaN  \n",
              "2     12.76      3.79         3.29          82.0        8.3      E  \n",
              "3     10.93      3.28         2.95          80.0          8      E  \n",
              "4      8.89     10.22         1.00           NaN        NaN    NaN  "
            ]
          },
          "execution_count": 85,
          "metadata": {},
          "output_type": "execute_result"
        }
      ],
      "source": [
        "games.head(5)"
      ]
    },
    {
      "cell_type": "markdown",
      "metadata": {
        "id": "_o1c-ebOHkPZ"
      },
      "source": [
        "### Revisión de los valores ausentes <a id='valores_ausentes'></a>"
      ]
    },
    {
      "cell_type": "markdown",
      "metadata": {
        "id": "gTmE-jyQHkPZ"
      },
      "source": [
        "Antes de revisar los tipos de datos, debemos analizar los valores ausentes de las columnas siguientes: 'name', 'year_of_release', 'genre', 'critic_score', 'user_score' y 'rating'"
      ]
    },
    {
      "cell_type": "markdown",
      "metadata": {
        "id": "4NLhmMZ7HkPa"
      },
      "source": [
        "#### La columna: name <a id='valores_ausentes_name'></a>"
      ]
    },
    {
      "cell_type": "code",
      "execution_count": null,
      "metadata": {
        "id": "etsnzfgJHkPa",
        "outputId": "bc7bed24-c254-451b-d4ce-f90b370db8ca"
      },
      "outputs": [
        {
          "name": "stdout",
          "output_type": "stream",
          "text": [
            "El número de filas con datos ausentes en la columna \"name\" es: 2\n"
          ]
        }
      ],
      "source": [
        "print('El número de filas con datos ausentes en la columna \"name\" es:', games['name'].isna().sum())"
      ]
    },
    {
      "cell_type": "code",
      "execution_count": null,
      "metadata": {
        "id": "WovbcdKyHkPa",
        "outputId": "85537b81-1f37-471e-af54-01c0c41e14b4"
      },
      "outputs": [
        {
          "data": {
            "text/html": [
              "<div>\n",
              "<style scoped>\n",
              "    .dataframe tbody tr th:only-of-type {\n",
              "        vertical-align: middle;\n",
              "    }\n",
              "\n",
              "    .dataframe tbody tr th {\n",
              "        vertical-align: top;\n",
              "    }\n",
              "\n",
              "    .dataframe thead th {\n",
              "        text-align: right;\n",
              "    }\n",
              "</style>\n",
              "<table border=\"1\" class=\"dataframe\">\n",
              "  <thead>\n",
              "    <tr style=\"text-align: right;\">\n",
              "      <th></th>\n",
              "      <th>name</th>\n",
              "      <th>platform</th>\n",
              "      <th>year_of_release</th>\n",
              "      <th>genre</th>\n",
              "      <th>na_sales</th>\n",
              "      <th>eu_sales</th>\n",
              "      <th>jp_sales</th>\n",
              "      <th>other_sales</th>\n",
              "      <th>critic_score</th>\n",
              "      <th>user_score</th>\n",
              "      <th>rating</th>\n",
              "    </tr>\n",
              "  </thead>\n",
              "  <tbody>\n",
              "    <tr>\n",
              "      <th>659</th>\n",
              "      <td>NaN</td>\n",
              "      <td>GEN</td>\n",
              "      <td>1993.0</td>\n",
              "      <td>NaN</td>\n",
              "      <td>1.78</td>\n",
              "      <td>0.53</td>\n",
              "      <td>0.00</td>\n",
              "      <td>0.08</td>\n",
              "      <td>NaN</td>\n",
              "      <td>NaN</td>\n",
              "      <td>NaN</td>\n",
              "    </tr>\n",
              "    <tr>\n",
              "      <th>14244</th>\n",
              "      <td>NaN</td>\n",
              "      <td>GEN</td>\n",
              "      <td>1993.0</td>\n",
              "      <td>NaN</td>\n",
              "      <td>0.00</td>\n",
              "      <td>0.00</td>\n",
              "      <td>0.03</td>\n",
              "      <td>0.00</td>\n",
              "      <td>NaN</td>\n",
              "      <td>NaN</td>\n",
              "      <td>NaN</td>\n",
              "    </tr>\n",
              "  </tbody>\n",
              "</table>\n",
              "</div>"
            ],
            "text/plain": [
              "      name platform  year_of_release genre  na_sales  eu_sales  jp_sales  \\\n",
              "659    NaN      GEN           1993.0   NaN      1.78      0.53      0.00   \n",
              "14244  NaN      GEN           1993.0   NaN      0.00      0.00      0.03   \n",
              "\n",
              "       other_sales  critic_score user_score rating  \n",
              "659           0.08           NaN        NaN    NaN  \n",
              "14244         0.00           NaN        NaN    NaN  "
            ]
          },
          "execution_count": 87,
          "metadata": {},
          "output_type": "execute_result"
        }
      ],
      "source": [
        "games[games['name'].fillna('x') == 'x']"
      ]
    },
    {
      "cell_type": "code",
      "execution_count": null,
      "metadata": {
        "id": "fsljq6QEHkPb",
        "outputId": "5db62a3c-0f44-436a-8b76-85a5023a6f47"
      },
      "outputs": [
        {
          "name": "stdout",
          "output_type": "stream",
          "text": [
            "Porcentaje de valores ausentes en la columna name: 0.011965300628178284\n"
          ]
        }
      ],
      "source": [
        "print('Porcentaje de valores ausentes en la columna name:', games['name'].isna().sum()*100/len(games['platform']))"
      ]
    },
    {
      "cell_type": "markdown",
      "metadata": {
        "id": "4eBNULwBHkPb"
      },
      "source": [
        "Como podemos apreciar, en la columna 'name' tenemos dos valores ausentes, esto corresponde al 0.012% del total de datos en nuestra base. Para estas dos líneas solo tenemos el año en que salió el juego y las ventas, pero nos falta también el genre y los ratings. Para esta columna lo mejor es simplemente eliminar estas líneas ya que no influirá mayormente en el estudio."
      ]
    },
    {
      "cell_type": "code",
      "execution_count": null,
      "metadata": {
        "id": "aHIYoLG0HkPb"
      },
      "outputs": [],
      "source": [
        "games = games.dropna(subset=['name'])"
      ]
    },
    {
      "cell_type": "markdown",
      "metadata": {
        "id": "uOgvaTB6HkPb"
      },
      "source": [
        "Validación:"
      ]
    },
    {
      "cell_type": "code",
      "execution_count": null,
      "metadata": {
        "id": "dKCfgXmIHkPb",
        "outputId": "e89ac7bc-bd8c-41a9-b323-236a29cfef7c"
      },
      "outputs": [
        {
          "name": "stdout",
          "output_type": "stream",
          "text": [
            "El número de filas con datos ausentes en la columna \"name\" ahora es: 0\n"
          ]
        }
      ],
      "source": [
        "print('El número de filas con datos ausentes en la columna \"name\" ahora es:', games['name'].isna().sum())"
      ]
    },
    {
      "cell_type": "markdown",
      "metadata": {
        "id": "h9tQopCeHkPc"
      },
      "source": [
        "#### La columna: year_of_release <a id='valores_ausentes_release'></a>"
      ]
    },
    {
      "cell_type": "code",
      "execution_count": null,
      "metadata": {
        "id": "xPiYp9GdHkPc",
        "outputId": "2525b486-8414-4616-8d94-a9c61dd86db2"
      },
      "outputs": [
        {
          "name": "stdout",
          "output_type": "stream",
          "text": [
            "El número de filas con datos ausentes en la columna \"year_of_release\" es: 269\n"
          ]
        }
      ],
      "source": [
        "print('El número de filas con datos ausentes en la columna \"year_of_release\" es:', games['year_of_release'].isna().sum())"
      ]
    },
    {
      "cell_type": "markdown",
      "metadata": {
        "id": "Up5sGU1SHkPd"
      },
      "source": [
        "Analizaremos la tabla filtrada con valores ausentes en la 'columna year_of_release':"
      ]
    },
    {
      "cell_type": "code",
      "execution_count": null,
      "metadata": {
        "id": "h1ivnUJ4HkPd",
        "outputId": "14f5eb0e-740b-401f-bd71-4771910a5128"
      },
      "outputs": [
        {
          "data": {
            "text/html": [
              "<div>\n",
              "<style scoped>\n",
              "    .dataframe tbody tr th:only-of-type {\n",
              "        vertical-align: middle;\n",
              "    }\n",
              "\n",
              "    .dataframe tbody tr th {\n",
              "        vertical-align: top;\n",
              "    }\n",
              "\n",
              "    .dataframe thead th {\n",
              "        text-align: right;\n",
              "    }\n",
              "</style>\n",
              "<table border=\"1\" class=\"dataframe\">\n",
              "  <thead>\n",
              "    <tr style=\"text-align: right;\">\n",
              "      <th></th>\n",
              "      <th>name</th>\n",
              "      <th>platform</th>\n",
              "      <th>year_of_release</th>\n",
              "      <th>genre</th>\n",
              "      <th>na_sales</th>\n",
              "      <th>eu_sales</th>\n",
              "      <th>jp_sales</th>\n",
              "      <th>other_sales</th>\n",
              "      <th>critic_score</th>\n",
              "      <th>user_score</th>\n",
              "      <th>rating</th>\n",
              "    </tr>\n",
              "  </thead>\n",
              "  <tbody>\n",
              "    <tr>\n",
              "      <th>183</th>\n",
              "      <td>Madden NFL 2004</td>\n",
              "      <td>PS2</td>\n",
              "      <td>NaN</td>\n",
              "      <td>Sports</td>\n",
              "      <td>4.26</td>\n",
              "      <td>0.26</td>\n",
              "      <td>0.01</td>\n",
              "      <td>0.71</td>\n",
              "      <td>94.0</td>\n",
              "      <td>8.5</td>\n",
              "      <td>E</td>\n",
              "    </tr>\n",
              "    <tr>\n",
              "      <th>377</th>\n",
              "      <td>FIFA Soccer 2004</td>\n",
              "      <td>PS2</td>\n",
              "      <td>NaN</td>\n",
              "      <td>Sports</td>\n",
              "      <td>0.59</td>\n",
              "      <td>2.36</td>\n",
              "      <td>0.04</td>\n",
              "      <td>0.51</td>\n",
              "      <td>84.0</td>\n",
              "      <td>6.4</td>\n",
              "      <td>E</td>\n",
              "    </tr>\n",
              "    <tr>\n",
              "      <th>456</th>\n",
              "      <td>LEGO Batman: The Videogame</td>\n",
              "      <td>Wii</td>\n",
              "      <td>NaN</td>\n",
              "      <td>Action</td>\n",
              "      <td>1.80</td>\n",
              "      <td>0.97</td>\n",
              "      <td>0.00</td>\n",
              "      <td>0.29</td>\n",
              "      <td>74.0</td>\n",
              "      <td>7.9</td>\n",
              "      <td>E10+</td>\n",
              "    </tr>\n",
              "    <tr>\n",
              "      <th>475</th>\n",
              "      <td>wwe Smackdown vs. Raw 2006</td>\n",
              "      <td>PS2</td>\n",
              "      <td>NaN</td>\n",
              "      <td>Fighting</td>\n",
              "      <td>1.57</td>\n",
              "      <td>1.02</td>\n",
              "      <td>0.00</td>\n",
              "      <td>0.41</td>\n",
              "      <td>NaN</td>\n",
              "      <td>NaN</td>\n",
              "      <td>NaN</td>\n",
              "    </tr>\n",
              "    <tr>\n",
              "      <th>609</th>\n",
              "      <td>Space Invaders</td>\n",
              "      <td>2600</td>\n",
              "      <td>NaN</td>\n",
              "      <td>Shooter</td>\n",
              "      <td>2.36</td>\n",
              "      <td>0.14</td>\n",
              "      <td>0.00</td>\n",
              "      <td>0.03</td>\n",
              "      <td>NaN</td>\n",
              "      <td>NaN</td>\n",
              "      <td>NaN</td>\n",
              "    </tr>\n",
              "    <tr>\n",
              "      <th>...</th>\n",
              "      <td>...</td>\n",
              "      <td>...</td>\n",
              "      <td>...</td>\n",
              "      <td>...</td>\n",
              "      <td>...</td>\n",
              "      <td>...</td>\n",
              "      <td>...</td>\n",
              "      <td>...</td>\n",
              "      <td>...</td>\n",
              "      <td>...</td>\n",
              "      <td>...</td>\n",
              "    </tr>\n",
              "    <tr>\n",
              "      <th>16373</th>\n",
              "      <td>PDC World Championship Darts 2008</td>\n",
              "      <td>PSP</td>\n",
              "      <td>NaN</td>\n",
              "      <td>Sports</td>\n",
              "      <td>0.01</td>\n",
              "      <td>0.00</td>\n",
              "      <td>0.00</td>\n",
              "      <td>0.00</td>\n",
              "      <td>43.0</td>\n",
              "      <td>tbd</td>\n",
              "      <td>E10+</td>\n",
              "    </tr>\n",
              "    <tr>\n",
              "      <th>16405</th>\n",
              "      <td>Freaky Flyers</td>\n",
              "      <td>GC</td>\n",
              "      <td>NaN</td>\n",
              "      <td>Racing</td>\n",
              "      <td>0.01</td>\n",
              "      <td>0.00</td>\n",
              "      <td>0.00</td>\n",
              "      <td>0.00</td>\n",
              "      <td>69.0</td>\n",
              "      <td>6.5</td>\n",
              "      <td>T</td>\n",
              "    </tr>\n",
              "    <tr>\n",
              "      <th>16448</th>\n",
              "      <td>Inversion</td>\n",
              "      <td>PC</td>\n",
              "      <td>NaN</td>\n",
              "      <td>Shooter</td>\n",
              "      <td>0.01</td>\n",
              "      <td>0.00</td>\n",
              "      <td>0.00</td>\n",
              "      <td>0.00</td>\n",
              "      <td>59.0</td>\n",
              "      <td>6.7</td>\n",
              "      <td>M</td>\n",
              "    </tr>\n",
              "    <tr>\n",
              "      <th>16458</th>\n",
              "      <td>Hakuouki: Shinsengumi Kitan</td>\n",
              "      <td>PS3</td>\n",
              "      <td>NaN</td>\n",
              "      <td>Adventure</td>\n",
              "      <td>0.01</td>\n",
              "      <td>0.00</td>\n",
              "      <td>0.00</td>\n",
              "      <td>0.00</td>\n",
              "      <td>NaN</td>\n",
              "      <td>NaN</td>\n",
              "      <td>NaN</td>\n",
              "    </tr>\n",
              "    <tr>\n",
              "      <th>16522</th>\n",
              "      <td>Virtua Quest</td>\n",
              "      <td>GC</td>\n",
              "      <td>NaN</td>\n",
              "      <td>Role-Playing</td>\n",
              "      <td>0.01</td>\n",
              "      <td>0.00</td>\n",
              "      <td>0.00</td>\n",
              "      <td>0.00</td>\n",
              "      <td>55.0</td>\n",
              "      <td>5.5</td>\n",
              "      <td>T</td>\n",
              "    </tr>\n",
              "  </tbody>\n",
              "</table>\n",
              "<p>269 rows × 11 columns</p>\n",
              "</div>"
            ],
            "text/plain": [
              "                                    name platform  year_of_release  \\\n",
              "183                      Madden NFL 2004      PS2              NaN   \n",
              "377                     FIFA Soccer 2004      PS2              NaN   \n",
              "456           LEGO Batman: The Videogame      Wii              NaN   \n",
              "475           wwe Smackdown vs. Raw 2006      PS2              NaN   \n",
              "609                       Space Invaders     2600              NaN   \n",
              "...                                  ...      ...              ...   \n",
              "16373  PDC World Championship Darts 2008      PSP              NaN   \n",
              "16405                      Freaky Flyers       GC              NaN   \n",
              "16448                          Inversion       PC              NaN   \n",
              "16458        Hakuouki: Shinsengumi Kitan      PS3              NaN   \n",
              "16522                       Virtua Quest       GC              NaN   \n",
              "\n",
              "              genre  na_sales  eu_sales  jp_sales  other_sales  critic_score  \\\n",
              "183          Sports      4.26      0.26      0.01         0.71          94.0   \n",
              "377          Sports      0.59      2.36      0.04         0.51          84.0   \n",
              "456          Action      1.80      0.97      0.00         0.29          74.0   \n",
              "475        Fighting      1.57      1.02      0.00         0.41           NaN   \n",
              "609         Shooter      2.36      0.14      0.00         0.03           NaN   \n",
              "...             ...       ...       ...       ...          ...           ...   \n",
              "16373        Sports      0.01      0.00      0.00         0.00          43.0   \n",
              "16405        Racing      0.01      0.00      0.00         0.00          69.0   \n",
              "16448       Shooter      0.01      0.00      0.00         0.00          59.0   \n",
              "16458     Adventure      0.01      0.00      0.00         0.00           NaN   \n",
              "16522  Role-Playing      0.01      0.00      0.00         0.00          55.0   \n",
              "\n",
              "      user_score rating  \n",
              "183          8.5      E  \n",
              "377          6.4      E  \n",
              "456          7.9   E10+  \n",
              "475          NaN    NaN  \n",
              "609          NaN    NaN  \n",
              "...          ...    ...  \n",
              "16373        tbd   E10+  \n",
              "16405        6.5      T  \n",
              "16448        6.7      M  \n",
              "16458        NaN    NaN  \n",
              "16522        5.5      T  \n",
              "\n",
              "[269 rows x 11 columns]"
            ]
          },
          "execution_count": 92,
          "metadata": {},
          "output_type": "execute_result"
        }
      ],
      "source": [
        "release_filtered_nan = games[games['year_of_release'].fillna('x') == 'x']\n",
        "release_filtered_nan"
      ]
    },
    {
      "cell_type": "markdown",
      "metadata": {
        "id": "__Yl2KBvHkPe"
      },
      "source": [
        "Lo primero que podemos notar es que el nombre del juego a veces indica un año (normalmente es el año siguiente), una alternativa a investigar es ver si tenemos el juego repetido en distintas plataformas:"
      ]
    },
    {
      "cell_type": "code",
      "execution_count": null,
      "metadata": {
        "id": "PsUu_oynHkPe",
        "outputId": "bbee9e68-3446-411e-b805-b1a31da4d255"
      },
      "outputs": [
        {
          "data": {
            "text/html": [
              "<div>\n",
              "<style scoped>\n",
              "    .dataframe tbody tr th:only-of-type {\n",
              "        vertical-align: middle;\n",
              "    }\n",
              "\n",
              "    .dataframe tbody tr th {\n",
              "        vertical-align: top;\n",
              "    }\n",
              "\n",
              "    .dataframe thead th {\n",
              "        text-align: right;\n",
              "    }\n",
              "</style>\n",
              "<table border=\"1\" class=\"dataframe\">\n",
              "  <thead>\n",
              "    <tr style=\"text-align: right;\">\n",
              "      <th></th>\n",
              "      <th>name</th>\n",
              "      <th>platform</th>\n",
              "      <th>year_of_release</th>\n",
              "      <th>genre</th>\n",
              "      <th>na_sales</th>\n",
              "      <th>eu_sales</th>\n",
              "      <th>jp_sales</th>\n",
              "      <th>other_sales</th>\n",
              "      <th>critic_score</th>\n",
              "      <th>user_score</th>\n",
              "      <th>rating</th>\n",
              "    </tr>\n",
              "  </thead>\n",
              "  <tbody>\n",
              "    <tr>\n",
              "      <th>183</th>\n",
              "      <td>Madden NFL 2004</td>\n",
              "      <td>PS2</td>\n",
              "      <td>NaN</td>\n",
              "      <td>Sports</td>\n",
              "      <td>4.26</td>\n",
              "      <td>0.26</td>\n",
              "      <td>0.01</td>\n",
              "      <td>0.71</td>\n",
              "      <td>94.0</td>\n",
              "      <td>8.5</td>\n",
              "      <td>E</td>\n",
              "    </tr>\n",
              "    <tr>\n",
              "      <th>1881</th>\n",
              "      <td>Madden NFL 2004</td>\n",
              "      <td>XB</td>\n",
              "      <td>2003.0</td>\n",
              "      <td>Sports</td>\n",
              "      <td>1.02</td>\n",
              "      <td>0.02</td>\n",
              "      <td>0.00</td>\n",
              "      <td>0.05</td>\n",
              "      <td>92.0</td>\n",
              "      <td>8.3</td>\n",
              "      <td>E</td>\n",
              "    </tr>\n",
              "    <tr>\n",
              "      <th>3889</th>\n",
              "      <td>Madden NFL 2004</td>\n",
              "      <td>GC</td>\n",
              "      <td>2003.0</td>\n",
              "      <td>Sports</td>\n",
              "      <td>0.40</td>\n",
              "      <td>0.10</td>\n",
              "      <td>0.00</td>\n",
              "      <td>0.01</td>\n",
              "      <td>94.0</td>\n",
              "      <td>7.7</td>\n",
              "      <td>E</td>\n",
              "    </tr>\n",
              "    <tr>\n",
              "      <th>5708</th>\n",
              "      <td>Madden NFL 2004</td>\n",
              "      <td>GBA</td>\n",
              "      <td>2003.0</td>\n",
              "      <td>Sports</td>\n",
              "      <td>0.22</td>\n",
              "      <td>0.08</td>\n",
              "      <td>0.00</td>\n",
              "      <td>0.01</td>\n",
              "      <td>70.0</td>\n",
              "      <td>6.6</td>\n",
              "      <td>E</td>\n",
              "    </tr>\n",
              "  </tbody>\n",
              "</table>\n",
              "</div>"
            ],
            "text/plain": [
              "                 name platform  year_of_release   genre  na_sales  eu_sales  \\\n",
              "183   Madden NFL 2004      PS2              NaN  Sports      4.26      0.26   \n",
              "1881  Madden NFL 2004       XB           2003.0  Sports      1.02      0.02   \n",
              "3889  Madden NFL 2004       GC           2003.0  Sports      0.40      0.10   \n",
              "5708  Madden NFL 2004      GBA           2003.0  Sports      0.22      0.08   \n",
              "\n",
              "      jp_sales  other_sales  critic_score user_score rating  \n",
              "183       0.01         0.71          94.0        8.5      E  \n",
              "1881      0.00         0.05          92.0        8.3      E  \n",
              "3889      0.00         0.01          94.0        7.7      E  \n",
              "5708      0.00         0.01          70.0        6.6      E  "
            ]
          },
          "execution_count": 93,
          "metadata": {},
          "output_type": "execute_result"
        }
      ],
      "source": [
        "games.query('name == \"Madden NFL 2004\"')"
      ]
    },
    {
      "cell_type": "code",
      "execution_count": null,
      "metadata": {
        "id": "UpopulR5HkPe",
        "outputId": "df1992d4-bac9-4c71-ffc2-d7138830753c"
      },
      "outputs": [
        {
          "data": {
            "text/html": [
              "<div>\n",
              "<style scoped>\n",
              "    .dataframe tbody tr th:only-of-type {\n",
              "        vertical-align: middle;\n",
              "    }\n",
              "\n",
              "    .dataframe tbody tr th {\n",
              "        vertical-align: top;\n",
              "    }\n",
              "\n",
              "    .dataframe thead th {\n",
              "        text-align: right;\n",
              "    }\n",
              "</style>\n",
              "<table border=\"1\" class=\"dataframe\">\n",
              "  <thead>\n",
              "    <tr style=\"text-align: right;\">\n",
              "      <th></th>\n",
              "      <th>name</th>\n",
              "      <th>platform</th>\n",
              "      <th>year_of_release</th>\n",
              "      <th>genre</th>\n",
              "      <th>na_sales</th>\n",
              "      <th>eu_sales</th>\n",
              "      <th>jp_sales</th>\n",
              "      <th>other_sales</th>\n",
              "      <th>critic_score</th>\n",
              "      <th>user_score</th>\n",
              "      <th>rating</th>\n",
              "    </tr>\n",
              "  </thead>\n",
              "  <tbody>\n",
              "    <tr>\n",
              "      <th>609</th>\n",
              "      <td>Space Invaders</td>\n",
              "      <td>2600</td>\n",
              "      <td>NaN</td>\n",
              "      <td>Shooter</td>\n",
              "      <td>2.36</td>\n",
              "      <td>0.14</td>\n",
              "      <td>0.00</td>\n",
              "      <td>0.03</td>\n",
              "      <td>NaN</td>\n",
              "      <td>NaN</td>\n",
              "      <td>NaN</td>\n",
              "    </tr>\n",
              "    <tr>\n",
              "      <th>4264</th>\n",
              "      <td>Space Invaders</td>\n",
              "      <td>SNES</td>\n",
              "      <td>1994.0</td>\n",
              "      <td>Shooter</td>\n",
              "      <td>0.00</td>\n",
              "      <td>0.00</td>\n",
              "      <td>0.46</td>\n",
              "      <td>0.00</td>\n",
              "      <td>NaN</td>\n",
              "      <td>NaN</td>\n",
              "      <td>NaN</td>\n",
              "    </tr>\n",
              "    <tr>\n",
              "      <th>8580</th>\n",
              "      <td>Space Invaders</td>\n",
              "      <td>N64</td>\n",
              "      <td>1999.0</td>\n",
              "      <td>Shooter</td>\n",
              "      <td>0.13</td>\n",
              "      <td>0.03</td>\n",
              "      <td>0.00</td>\n",
              "      <td>0.00</td>\n",
              "      <td>NaN</td>\n",
              "      <td>NaN</td>\n",
              "      <td>NaN</td>\n",
              "    </tr>\n",
              "    <tr>\n",
              "      <th>10383</th>\n",
              "      <td>Space Invaders</td>\n",
              "      <td>GBA</td>\n",
              "      <td>2002.0</td>\n",
              "      <td>Shooter</td>\n",
              "      <td>0.08</td>\n",
              "      <td>0.03</td>\n",
              "      <td>0.00</td>\n",
              "      <td>0.00</td>\n",
              "      <td>NaN</td>\n",
              "      <td>NaN</td>\n",
              "      <td>NaN</td>\n",
              "    </tr>\n",
              "  </tbody>\n",
              "</table>\n",
              "</div>"
            ],
            "text/plain": [
              "                 name platform  year_of_release    genre  na_sales  eu_sales  \\\n",
              "609    Space Invaders     2600              NaN  Shooter      2.36      0.14   \n",
              "4264   Space Invaders     SNES           1994.0  Shooter      0.00      0.00   \n",
              "8580   Space Invaders      N64           1999.0  Shooter      0.13      0.03   \n",
              "10383  Space Invaders      GBA           2002.0  Shooter      0.08      0.03   \n",
              "\n",
              "       jp_sales  other_sales  critic_score user_score rating  \n",
              "609        0.00         0.03           NaN        NaN    NaN  \n",
              "4264       0.46         0.00           NaN        NaN    NaN  \n",
              "8580       0.00         0.00           NaN        NaN    NaN  \n",
              "10383      0.00         0.00           NaN        NaN    NaN  "
            ]
          },
          "execution_count": 94,
          "metadata": {},
          "output_type": "execute_result"
        }
      ],
      "source": [
        "games.query('name == \"Space Invaders\"')"
      ]
    },
    {
      "cell_type": "markdown",
      "metadata": {
        "id": "1i7lYyblHkPe"
      },
      "source": [
        "Efectivamente, hay juegos que siguen el patrón deseado. Los nombres se repiten y salieron para distintas plataformas en el mismo año, como el ejemplo de 'Madden NFL 2004'. Pero por otro lado, tenemos juegos como 'Space Invaders' que salieron a la venta en años distintos para las distintas plataformas. En este caso es mejor entonces no utilizar este método de imputación, ya que los datos podrían ser corrompidos."
      ]
    },
    {
      "cell_type": "markdown",
      "metadata": {
        "id": "YoD8pphBHkPf"
      },
      "source": [
        "Vamos a analizar los nombres que contienen el año incluido:"
      ]
    },
    {
      "cell_type": "code",
      "execution_count": null,
      "metadata": {
        "id": "iw8lgd3iHkPf",
        "outputId": "b5a5bc50-f23e-465d-d1f8-4e24bda1e1e1"
      },
      "outputs": [
        {
          "data": {
            "text/html": [
              "<div>\n",
              "<style scoped>\n",
              "    .dataframe tbody tr th:only-of-type {\n",
              "        vertical-align: middle;\n",
              "    }\n",
              "\n",
              "    .dataframe tbody tr th {\n",
              "        vertical-align: top;\n",
              "    }\n",
              "\n",
              "    .dataframe thead th {\n",
              "        text-align: right;\n",
              "    }\n",
              "</style>\n",
              "<table border=\"1\" class=\"dataframe\">\n",
              "  <thead>\n",
              "    <tr style=\"text-align: right;\">\n",
              "      <th></th>\n",
              "      <th>name</th>\n",
              "      <th>platform</th>\n",
              "      <th>year_of_release</th>\n",
              "      <th>genre</th>\n",
              "      <th>na_sales</th>\n",
              "      <th>eu_sales</th>\n",
              "      <th>jp_sales</th>\n",
              "      <th>other_sales</th>\n",
              "      <th>critic_score</th>\n",
              "      <th>user_score</th>\n",
              "      <th>rating</th>\n",
              "    </tr>\n",
              "  </thead>\n",
              "  <tbody>\n",
              "    <tr>\n",
              "      <th>183</th>\n",
              "      <td>Madden NFL 2004</td>\n",
              "      <td>PS2</td>\n",
              "      <td>NaN</td>\n",
              "      <td>Sports</td>\n",
              "      <td>4.26</td>\n",
              "      <td>0.26</td>\n",
              "      <td>0.01</td>\n",
              "      <td>0.71</td>\n",
              "      <td>94.0</td>\n",
              "      <td>8.5</td>\n",
              "      <td>E</td>\n",
              "    </tr>\n",
              "    <tr>\n",
              "      <th>377</th>\n",
              "      <td>FIFA Soccer 2004</td>\n",
              "      <td>PS2</td>\n",
              "      <td>NaN</td>\n",
              "      <td>Sports</td>\n",
              "      <td>0.59</td>\n",
              "      <td>2.36</td>\n",
              "      <td>0.04</td>\n",
              "      <td>0.51</td>\n",
              "      <td>84.0</td>\n",
              "      <td>6.4</td>\n",
              "      <td>E</td>\n",
              "    </tr>\n",
              "    <tr>\n",
              "      <th>475</th>\n",
              "      <td>wwe Smackdown vs. Raw 2006</td>\n",
              "      <td>PS2</td>\n",
              "      <td>NaN</td>\n",
              "      <td>Fighting</td>\n",
              "      <td>1.57</td>\n",
              "      <td>1.02</td>\n",
              "      <td>0.00</td>\n",
              "      <td>0.41</td>\n",
              "      <td>NaN</td>\n",
              "      <td>NaN</td>\n",
              "      <td>NaN</td>\n",
              "    </tr>\n",
              "    <tr>\n",
              "      <th>1650</th>\n",
              "      <td>NASCAR Thunder 2003</td>\n",
              "      <td>PS2</td>\n",
              "      <td>NaN</td>\n",
              "      <td>Racing</td>\n",
              "      <td>0.60</td>\n",
              "      <td>0.46</td>\n",
              "      <td>0.00</td>\n",
              "      <td>0.16</td>\n",
              "      <td>84.0</td>\n",
              "      <td>8.7</td>\n",
              "      <td>E</td>\n",
              "    </tr>\n",
              "    <tr>\n",
              "      <th>2492</th>\n",
              "      <td>MLB SlugFest 20-03</td>\n",
              "      <td>PS2</td>\n",
              "      <td>NaN</td>\n",
              "      <td>Sports</td>\n",
              "      <td>0.41</td>\n",
              "      <td>0.32</td>\n",
              "      <td>0.00</td>\n",
              "      <td>0.11</td>\n",
              "      <td>77.0</td>\n",
              "      <td>8.2</td>\n",
              "      <td>E</td>\n",
              "    </tr>\n",
              "    <tr>\n",
              "      <th>2572</th>\n",
              "      <td>PES 2009: Pro Evolution Soccer</td>\n",
              "      <td>PSP</td>\n",
              "      <td>NaN</td>\n",
              "      <td>Sports</td>\n",
              "      <td>0.04</td>\n",
              "      <td>0.33</td>\n",
              "      <td>0.26</td>\n",
              "      <td>0.17</td>\n",
              "      <td>NaN</td>\n",
              "      <td>NaN</td>\n",
              "      <td>NaN</td>\n",
              "    </tr>\n",
              "    <tr>\n",
              "      <th>3486</th>\n",
              "      <td>Madden NFL 2002</td>\n",
              "      <td>XB</td>\n",
              "      <td>NaN</td>\n",
              "      <td>Sports</td>\n",
              "      <td>0.53</td>\n",
              "      <td>0.02</td>\n",
              "      <td>0.00</td>\n",
              "      <td>0.03</td>\n",
              "      <td>90.0</td>\n",
              "      <td>8.1</td>\n",
              "      <td>E</td>\n",
              "    </tr>\n",
              "    <tr>\n",
              "      <th>4775</th>\n",
              "      <td>NFL GameDay 2003</td>\n",
              "      <td>PS2</td>\n",
              "      <td>NaN</td>\n",
              "      <td>Sports</td>\n",
              "      <td>0.20</td>\n",
              "      <td>0.15</td>\n",
              "      <td>0.00</td>\n",
              "      <td>0.05</td>\n",
              "      <td>60.0</td>\n",
              "      <td>tbd</td>\n",
              "      <td>E</td>\n",
              "    </tr>\n",
              "    <tr>\n",
              "      <th>5156</th>\n",
              "      <td>NBA Live 2003</td>\n",
              "      <td>XB</td>\n",
              "      <td>NaN</td>\n",
              "      <td>Sports</td>\n",
              "      <td>0.31</td>\n",
              "      <td>0.04</td>\n",
              "      <td>0.00</td>\n",
              "      <td>0.01</td>\n",
              "      <td>82.0</td>\n",
              "      <td>8.8</td>\n",
              "      <td>E</td>\n",
              "    </tr>\n",
              "    <tr>\n",
              "      <th>5336</th>\n",
              "      <td>Tomb Raider (2013)</td>\n",
              "      <td>PC</td>\n",
              "      <td>NaN</td>\n",
              "      <td>Action</td>\n",
              "      <td>0.06</td>\n",
              "      <td>0.25</td>\n",
              "      <td>0.00</td>\n",
              "      <td>0.04</td>\n",
              "      <td>86.0</td>\n",
              "      <td>8.5</td>\n",
              "      <td>M</td>\n",
              "    </tr>\n",
              "    <tr>\n",
              "      <th>5655</th>\n",
              "      <td>All-Star Baseball 2005</td>\n",
              "      <td>PS2</td>\n",
              "      <td>NaN</td>\n",
              "      <td>Sports</td>\n",
              "      <td>0.16</td>\n",
              "      <td>0.12</td>\n",
              "      <td>0.00</td>\n",
              "      <td>0.04</td>\n",
              "      <td>72.0</td>\n",
              "      <td>8.6</td>\n",
              "      <td>E</td>\n",
              "    </tr>\n",
              "    <tr>\n",
              "      <th>5889</th>\n",
              "      <td>NBA Live 2003</td>\n",
              "      <td>GC</td>\n",
              "      <td>NaN</td>\n",
              "      <td>Sports</td>\n",
              "      <td>0.23</td>\n",
              "      <td>0.06</td>\n",
              "      <td>0.00</td>\n",
              "      <td>0.01</td>\n",
              "      <td>82.0</td>\n",
              "      <td>8.2</td>\n",
              "      <td>E</td>\n",
              "    </tr>\n",
              "    <tr>\n",
              "      <th>6954</th>\n",
              "      <td>Jet X20</td>\n",
              "      <td>PS2</td>\n",
              "      <td>NaN</td>\n",
              "      <td>Racing</td>\n",
              "      <td>0.11</td>\n",
              "      <td>0.09</td>\n",
              "      <td>0.00</td>\n",
              "      <td>0.03</td>\n",
              "      <td>NaN</td>\n",
              "      <td>NaN</td>\n",
              "      <td>NaN</td>\n",
              "    </tr>\n",
              "    <tr>\n",
              "      <th>8918</th>\n",
              "      <td>All-Star Baseball 2005</td>\n",
              "      <td>XB</td>\n",
              "      <td>NaN</td>\n",
              "      <td>Sports</td>\n",
              "      <td>0.11</td>\n",
              "      <td>0.03</td>\n",
              "      <td>0.00</td>\n",
              "      <td>0.01</td>\n",
              "      <td>75.0</td>\n",
              "      <td>8.8</td>\n",
              "      <td>E</td>\n",
              "    </tr>\n",
              "    <tr>\n",
              "      <th>13195</th>\n",
              "      <td>Tour de France 2011</td>\n",
              "      <td>X360</td>\n",
              "      <td>NaN</td>\n",
              "      <td>Racing</td>\n",
              "      <td>0.00</td>\n",
              "      <td>0.04</td>\n",
              "      <td>0.00</td>\n",
              "      <td>0.01</td>\n",
              "      <td>46.0</td>\n",
              "      <td>7.6</td>\n",
              "      <td>NaN</td>\n",
              "    </tr>\n",
              "    <tr>\n",
              "      <th>13929</th>\n",
              "      <td>Sega Rally 2006</td>\n",
              "      <td>PS2</td>\n",
              "      <td>NaN</td>\n",
              "      <td>Racing</td>\n",
              "      <td>0.00</td>\n",
              "      <td>0.00</td>\n",
              "      <td>0.04</td>\n",
              "      <td>0.00</td>\n",
              "      <td>NaN</td>\n",
              "      <td>NaN</td>\n",
              "      <td>NaN</td>\n",
              "    </tr>\n",
              "    <tr>\n",
              "      <th>15953</th>\n",
              "      <td>PDC World Championship Darts 2008</td>\n",
              "      <td>DS</td>\n",
              "      <td>NaN</td>\n",
              "      <td>Sports</td>\n",
              "      <td>0.01</td>\n",
              "      <td>0.00</td>\n",
              "      <td>0.00</td>\n",
              "      <td>0.00</td>\n",
              "      <td>NaN</td>\n",
              "      <td>NaN</td>\n",
              "      <td>NaN</td>\n",
              "    </tr>\n",
              "    <tr>\n",
              "      <th>16079</th>\n",
              "      <td>Football Manager 2007</td>\n",
              "      <td>X360</td>\n",
              "      <td>NaN</td>\n",
              "      <td>Sports</td>\n",
              "      <td>0.00</td>\n",
              "      <td>0.01</td>\n",
              "      <td>0.00</td>\n",
              "      <td>0.00</td>\n",
              "      <td>NaN</td>\n",
              "      <td>NaN</td>\n",
              "      <td>NaN</td>\n",
              "    </tr>\n",
              "    <tr>\n",
              "      <th>16373</th>\n",
              "      <td>PDC World Championship Darts 2008</td>\n",
              "      <td>PSP</td>\n",
              "      <td>NaN</td>\n",
              "      <td>Sports</td>\n",
              "      <td>0.01</td>\n",
              "      <td>0.00</td>\n",
              "      <td>0.00</td>\n",
              "      <td>0.00</td>\n",
              "      <td>43.0</td>\n",
              "      <td>tbd</td>\n",
              "      <td>E10+</td>\n",
              "    </tr>\n",
              "  </tbody>\n",
              "</table>\n",
              "</div>"
            ],
            "text/plain": [
              "                                    name platform  year_of_release     genre  \\\n",
              "183                      Madden NFL 2004      PS2              NaN    Sports   \n",
              "377                     FIFA Soccer 2004      PS2              NaN    Sports   \n",
              "475           wwe Smackdown vs. Raw 2006      PS2              NaN  Fighting   \n",
              "1650                 NASCAR Thunder 2003      PS2              NaN    Racing   \n",
              "2492                  MLB SlugFest 20-03      PS2              NaN    Sports   \n",
              "2572      PES 2009: Pro Evolution Soccer      PSP              NaN    Sports   \n",
              "3486                     Madden NFL 2002       XB              NaN    Sports   \n",
              "4775                    NFL GameDay 2003      PS2              NaN    Sports   \n",
              "5156                       NBA Live 2003       XB              NaN    Sports   \n",
              "5336                  Tomb Raider (2013)       PC              NaN    Action   \n",
              "5655              All-Star Baseball 2005      PS2              NaN    Sports   \n",
              "5889                       NBA Live 2003       GC              NaN    Sports   \n",
              "6954                             Jet X20      PS2              NaN    Racing   \n",
              "8918              All-Star Baseball 2005       XB              NaN    Sports   \n",
              "13195                Tour de France 2011     X360              NaN    Racing   \n",
              "13929                    Sega Rally 2006      PS2              NaN    Racing   \n",
              "15953  PDC World Championship Darts 2008       DS              NaN    Sports   \n",
              "16079              Football Manager 2007     X360              NaN    Sports   \n",
              "16373  PDC World Championship Darts 2008      PSP              NaN    Sports   \n",
              "\n",
              "       na_sales  eu_sales  jp_sales  other_sales  critic_score user_score  \\\n",
              "183        4.26      0.26      0.01         0.71          94.0        8.5   \n",
              "377        0.59      2.36      0.04         0.51          84.0        6.4   \n",
              "475        1.57      1.02      0.00         0.41           NaN        NaN   \n",
              "1650       0.60      0.46      0.00         0.16          84.0        8.7   \n",
              "2492       0.41      0.32      0.00         0.11          77.0        8.2   \n",
              "2572       0.04      0.33      0.26         0.17           NaN        NaN   \n",
              "3486       0.53      0.02      0.00         0.03          90.0        8.1   \n",
              "4775       0.20      0.15      0.00         0.05          60.0        tbd   \n",
              "5156       0.31      0.04      0.00         0.01          82.0        8.8   \n",
              "5336       0.06      0.25      0.00         0.04          86.0        8.5   \n",
              "5655       0.16      0.12      0.00         0.04          72.0        8.6   \n",
              "5889       0.23      0.06      0.00         0.01          82.0        8.2   \n",
              "6954       0.11      0.09      0.00         0.03           NaN        NaN   \n",
              "8918       0.11      0.03      0.00         0.01          75.0        8.8   \n",
              "13195      0.00      0.04      0.00         0.01          46.0        7.6   \n",
              "13929      0.00      0.00      0.04         0.00           NaN        NaN   \n",
              "15953      0.01      0.00      0.00         0.00           NaN        NaN   \n",
              "16079      0.00      0.01      0.00         0.00           NaN        NaN   \n",
              "16373      0.01      0.00      0.00         0.00          43.0        tbd   \n",
              "\n",
              "      rating  \n",
              "183        E  \n",
              "377        E  \n",
              "475      NaN  \n",
              "1650       E  \n",
              "2492       E  \n",
              "2572     NaN  \n",
              "3486       E  \n",
              "4775       E  \n",
              "5156       E  \n",
              "5336       M  \n",
              "5655       E  \n",
              "5889       E  \n",
              "6954     NaN  \n",
              "8918       E  \n",
              "13195    NaN  \n",
              "13929    NaN  \n",
              "15953    NaN  \n",
              "16079    NaN  \n",
              "16373   E10+  "
            ]
          },
          "execution_count": 95,
          "metadata": {},
          "output_type": "execute_result"
        }
      ],
      "source": [
        "names_with_year = games[games['name'].str.contains('20')]\n",
        "names_with_year[names_with_year['year_of_release'].isna()]"
      ]
    },
    {
      "cell_type": "code",
      "execution_count": null,
      "metadata": {
        "id": "-NRajIV3HkPf"
      },
      "outputs": [],
      "source": [
        "games.loc[183, 'year_of_release'] = 2003\n",
        "games.loc[377, 'year_of_release'] = 2003\n",
        "games.loc[475, 'year_of_release'] = 2005\n",
        "games.loc[1650, 'year_of_release'] = 2002\n",
        "games.loc[2492, 'year_of_release'] = 2002\n",
        "games.loc[2572, 'year_of_release'] = 2008\n",
        "games.loc[3486, 'year_of_release'] = 2001\n",
        "games.loc[4775, 'year_of_release'] = 2002\n",
        "games.loc[5156, 'year_of_release'] = 2002\n",
        "games.loc[5336, 'year_of_release'] = 2012\n",
        "games.loc[5655, 'year_of_release'] = 2004\n",
        "games.loc[5889, 'year_of_release'] = 2002\n",
        "games.loc[6954, 'year_of_release'] = 2002\n",
        "games.loc[8918, 'year_of_release'] = 2004\n",
        "games.loc[13195, 'year_of_release'] = 2010\n",
        "games.loc[13929, 'year_of_release'] = 2005\n",
        "games.loc[15953, 'year_of_release'] = 2007\n",
        "games.loc[16079, 'year_of_release'] = 2006\n",
        "games.loc[16373, 'year_of_release'] = 2007"
      ]
    },
    {
      "cell_type": "code",
      "execution_count": null,
      "metadata": {
        "id": "I-xHHOKaHkPg",
        "outputId": "7acb9a47-586f-47ac-eeed-c741e63ee146"
      },
      "outputs": [
        {
          "data": {
            "text/html": [
              "<div>\n",
              "<style scoped>\n",
              "    .dataframe tbody tr th:only-of-type {\n",
              "        vertical-align: middle;\n",
              "    }\n",
              "\n",
              "    .dataframe tbody tr th {\n",
              "        vertical-align: top;\n",
              "    }\n",
              "\n",
              "    .dataframe thead th {\n",
              "        text-align: right;\n",
              "    }\n",
              "</style>\n",
              "<table border=\"1\" class=\"dataframe\">\n",
              "  <thead>\n",
              "    <tr style=\"text-align: right;\">\n",
              "      <th></th>\n",
              "      <th>name</th>\n",
              "      <th>platform</th>\n",
              "      <th>year_of_release</th>\n",
              "      <th>genre</th>\n",
              "      <th>na_sales</th>\n",
              "      <th>eu_sales</th>\n",
              "      <th>jp_sales</th>\n",
              "      <th>other_sales</th>\n",
              "      <th>critic_score</th>\n",
              "      <th>user_score</th>\n",
              "      <th>rating</th>\n",
              "    </tr>\n",
              "  </thead>\n",
              "  <tbody>\n",
              "    <tr>\n",
              "      <th>456</th>\n",
              "      <td>LEGO Batman: The Videogame</td>\n",
              "      <td>Wii</td>\n",
              "      <td>NaN</td>\n",
              "      <td>Action</td>\n",
              "      <td>1.80</td>\n",
              "      <td>0.97</td>\n",
              "      <td>0.00</td>\n",
              "      <td>0.29</td>\n",
              "      <td>74.0</td>\n",
              "      <td>7.9</td>\n",
              "      <td>E10+</td>\n",
              "    </tr>\n",
              "    <tr>\n",
              "      <th>609</th>\n",
              "      <td>Space Invaders</td>\n",
              "      <td>2600</td>\n",
              "      <td>NaN</td>\n",
              "      <td>Shooter</td>\n",
              "      <td>2.36</td>\n",
              "      <td>0.14</td>\n",
              "      <td>0.00</td>\n",
              "      <td>0.03</td>\n",
              "      <td>NaN</td>\n",
              "      <td>NaN</td>\n",
              "      <td>NaN</td>\n",
              "    </tr>\n",
              "    <tr>\n",
              "      <th>627</th>\n",
              "      <td>Rock Band</td>\n",
              "      <td>X360</td>\n",
              "      <td>NaN</td>\n",
              "      <td>Misc</td>\n",
              "      <td>1.93</td>\n",
              "      <td>0.33</td>\n",
              "      <td>0.00</td>\n",
              "      <td>0.21</td>\n",
              "      <td>92.0</td>\n",
              "      <td>8.2</td>\n",
              "      <td>T</td>\n",
              "    </tr>\n",
              "    <tr>\n",
              "      <th>657</th>\n",
              "      <td>Frogger's Adventures: Temple of the Frog</td>\n",
              "      <td>GBA</td>\n",
              "      <td>NaN</td>\n",
              "      <td>Adventure</td>\n",
              "      <td>2.15</td>\n",
              "      <td>0.18</td>\n",
              "      <td>0.00</td>\n",
              "      <td>0.07</td>\n",
              "      <td>73.0</td>\n",
              "      <td>tbd</td>\n",
              "      <td>E</td>\n",
              "    </tr>\n",
              "    <tr>\n",
              "      <th>678</th>\n",
              "      <td>LEGO Indiana Jones: The Original Adventures</td>\n",
              "      <td>Wii</td>\n",
              "      <td>NaN</td>\n",
              "      <td>Action</td>\n",
              "      <td>1.51</td>\n",
              "      <td>0.61</td>\n",
              "      <td>0.00</td>\n",
              "      <td>0.21</td>\n",
              "      <td>78.0</td>\n",
              "      <td>6.6</td>\n",
              "      <td>E10+</td>\n",
              "    </tr>\n",
              "    <tr>\n",
              "      <th>...</th>\n",
              "      <td>...</td>\n",
              "      <td>...</td>\n",
              "      <td>...</td>\n",
              "      <td>...</td>\n",
              "      <td>...</td>\n",
              "      <td>...</td>\n",
              "      <td>...</td>\n",
              "      <td>...</td>\n",
              "      <td>...</td>\n",
              "      <td>...</td>\n",
              "      <td>...</td>\n",
              "    </tr>\n",
              "    <tr>\n",
              "      <th>16348</th>\n",
              "      <td>Agarest Senki: Re-appearance</td>\n",
              "      <td>PS3</td>\n",
              "      <td>NaN</td>\n",
              "      <td>Role-Playing</td>\n",
              "      <td>0.00</td>\n",
              "      <td>0.00</td>\n",
              "      <td>0.01</td>\n",
              "      <td>0.00</td>\n",
              "      <td>NaN</td>\n",
              "      <td>NaN</td>\n",
              "      <td>NaN</td>\n",
              "    </tr>\n",
              "    <tr>\n",
              "      <th>16405</th>\n",
              "      <td>Freaky Flyers</td>\n",
              "      <td>GC</td>\n",
              "      <td>NaN</td>\n",
              "      <td>Racing</td>\n",
              "      <td>0.01</td>\n",
              "      <td>0.00</td>\n",
              "      <td>0.00</td>\n",
              "      <td>0.00</td>\n",
              "      <td>69.0</td>\n",
              "      <td>6.5</td>\n",
              "      <td>T</td>\n",
              "    </tr>\n",
              "    <tr>\n",
              "      <th>16448</th>\n",
              "      <td>Inversion</td>\n",
              "      <td>PC</td>\n",
              "      <td>NaN</td>\n",
              "      <td>Shooter</td>\n",
              "      <td>0.01</td>\n",
              "      <td>0.00</td>\n",
              "      <td>0.00</td>\n",
              "      <td>0.00</td>\n",
              "      <td>59.0</td>\n",
              "      <td>6.7</td>\n",
              "      <td>M</td>\n",
              "    </tr>\n",
              "    <tr>\n",
              "      <th>16458</th>\n",
              "      <td>Hakuouki: Shinsengumi Kitan</td>\n",
              "      <td>PS3</td>\n",
              "      <td>NaN</td>\n",
              "      <td>Adventure</td>\n",
              "      <td>0.01</td>\n",
              "      <td>0.00</td>\n",
              "      <td>0.00</td>\n",
              "      <td>0.00</td>\n",
              "      <td>NaN</td>\n",
              "      <td>NaN</td>\n",
              "      <td>NaN</td>\n",
              "    </tr>\n",
              "    <tr>\n",
              "      <th>16522</th>\n",
              "      <td>Virtua Quest</td>\n",
              "      <td>GC</td>\n",
              "      <td>NaN</td>\n",
              "      <td>Role-Playing</td>\n",
              "      <td>0.01</td>\n",
              "      <td>0.00</td>\n",
              "      <td>0.00</td>\n",
              "      <td>0.00</td>\n",
              "      <td>55.0</td>\n",
              "      <td>5.5</td>\n",
              "      <td>T</td>\n",
              "    </tr>\n",
              "  </tbody>\n",
              "</table>\n",
              "<p>250 rows × 11 columns</p>\n",
              "</div>"
            ],
            "text/plain": [
              "                                              name platform  year_of_release  \\\n",
              "456                     LEGO Batman: The Videogame      Wii              NaN   \n",
              "609                                 Space Invaders     2600              NaN   \n",
              "627                                      Rock Band     X360              NaN   \n",
              "657       Frogger's Adventures: Temple of the Frog      GBA              NaN   \n",
              "678    LEGO Indiana Jones: The Original Adventures      Wii              NaN   \n",
              "...                                            ...      ...              ...   \n",
              "16348                 Agarest Senki: Re-appearance      PS3              NaN   \n",
              "16405                                Freaky Flyers       GC              NaN   \n",
              "16448                                    Inversion       PC              NaN   \n",
              "16458                  Hakuouki: Shinsengumi Kitan      PS3              NaN   \n",
              "16522                                 Virtua Quest       GC              NaN   \n",
              "\n",
              "              genre  na_sales  eu_sales  jp_sales  other_sales  critic_score  \\\n",
              "456          Action      1.80      0.97      0.00         0.29          74.0   \n",
              "609         Shooter      2.36      0.14      0.00         0.03           NaN   \n",
              "627            Misc      1.93      0.33      0.00         0.21          92.0   \n",
              "657       Adventure      2.15      0.18      0.00         0.07          73.0   \n",
              "678          Action      1.51      0.61      0.00         0.21          78.0   \n",
              "...             ...       ...       ...       ...          ...           ...   \n",
              "16348  Role-Playing      0.00      0.00      0.01         0.00           NaN   \n",
              "16405        Racing      0.01      0.00      0.00         0.00          69.0   \n",
              "16448       Shooter      0.01      0.00      0.00         0.00          59.0   \n",
              "16458     Adventure      0.01      0.00      0.00         0.00           NaN   \n",
              "16522  Role-Playing      0.01      0.00      0.00         0.00          55.0   \n",
              "\n",
              "      user_score rating  \n",
              "456          7.9   E10+  \n",
              "609          NaN    NaN  \n",
              "627          8.2      T  \n",
              "657          tbd      E  \n",
              "678          6.6   E10+  \n",
              "...          ...    ...  \n",
              "16348        NaN    NaN  \n",
              "16405        6.5      T  \n",
              "16448        6.7      M  \n",
              "16458        NaN    NaN  \n",
              "16522        5.5      T  \n",
              "\n",
              "[250 rows x 11 columns]"
            ]
          },
          "execution_count": 97,
          "metadata": {},
          "output_type": "execute_result"
        }
      ],
      "source": [
        "games[games['year_of_release'].isna()]"
      ]
    },
    {
      "cell_type": "markdown",
      "metadata": {
        "id": "pNEAP7DnHkPg"
      },
      "source": [
        "Nos quedan 250 valores ausentes en la columna 'year_of_release', esto equivale a un 0.7% de nuestra base. Completaremos los valores ausentes por consola de manera manual:"
      ]
    },
    {
      "cell_type": "code",
      "execution_count": null,
      "metadata": {
        "id": "kTI-aIsYHkPg",
        "outputId": "7b8cbe10-89e1-4e0f-ed1b-817a2412efda"
      },
      "outputs": [
        {
          "data": {
            "text/html": [
              "<div>\n",
              "<style scoped>\n",
              "    .dataframe tbody tr th:only-of-type {\n",
              "        vertical-align: middle;\n",
              "    }\n",
              "\n",
              "    .dataframe tbody tr th {\n",
              "        vertical-align: top;\n",
              "    }\n",
              "\n",
              "    .dataframe thead th {\n",
              "        text-align: right;\n",
              "    }\n",
              "</style>\n",
              "<table border=\"1\" class=\"dataframe\">\n",
              "  <thead>\n",
              "    <tr style=\"text-align: right;\">\n",
              "      <th></th>\n",
              "      <th>name</th>\n",
              "      <th>platform</th>\n",
              "      <th>year_of_release</th>\n",
              "      <th>genre</th>\n",
              "      <th>na_sales</th>\n",
              "      <th>eu_sales</th>\n",
              "      <th>jp_sales</th>\n",
              "      <th>other_sales</th>\n",
              "      <th>critic_score</th>\n",
              "      <th>user_score</th>\n",
              "      <th>rating</th>\n",
              "    </tr>\n",
              "  </thead>\n",
              "  <tbody>\n",
              "    <tr>\n",
              "      <th>609</th>\n",
              "      <td>Space Invaders</td>\n",
              "      <td>2600</td>\n",
              "      <td>NaN</td>\n",
              "      <td>Shooter</td>\n",
              "      <td>2.36</td>\n",
              "      <td>0.14</td>\n",
              "      <td>0.0</td>\n",
              "      <td>0.03</td>\n",
              "      <td>NaN</td>\n",
              "      <td>NaN</td>\n",
              "      <td>NaN</td>\n",
              "    </tr>\n",
              "    <tr>\n",
              "      <th>1506</th>\n",
              "      <td>Adventure</td>\n",
              "      <td>2600</td>\n",
              "      <td>NaN</td>\n",
              "      <td>Adventure</td>\n",
              "      <td>1.21</td>\n",
              "      <td>0.08</td>\n",
              "      <td>0.0</td>\n",
              "      <td>0.01</td>\n",
              "      <td>NaN</td>\n",
              "      <td>NaN</td>\n",
              "      <td>NaN</td>\n",
              "    </tr>\n",
              "    <tr>\n",
              "      <th>1585</th>\n",
              "      <td>Combat</td>\n",
              "      <td>2600</td>\n",
              "      <td>NaN</td>\n",
              "      <td>Action</td>\n",
              "      <td>1.17</td>\n",
              "      <td>0.07</td>\n",
              "      <td>0.0</td>\n",
              "      <td>0.01</td>\n",
              "      <td>NaN</td>\n",
              "      <td>NaN</td>\n",
              "      <td>NaN</td>\n",
              "    </tr>\n",
              "    <tr>\n",
              "      <th>2106</th>\n",
              "      <td>Air-Sea Battle</td>\n",
              "      <td>2600</td>\n",
              "      <td>NaN</td>\n",
              "      <td>Shooter</td>\n",
              "      <td>0.91</td>\n",
              "      <td>0.06</td>\n",
              "      <td>0.0</td>\n",
              "      <td>0.01</td>\n",
              "      <td>NaN</td>\n",
              "      <td>NaN</td>\n",
              "      <td>NaN</td>\n",
              "    </tr>\n",
              "    <tr>\n",
              "      <th>3883</th>\n",
              "      <td>Fishing Derby</td>\n",
              "      <td>2600</td>\n",
              "      <td>NaN</td>\n",
              "      <td>Sports</td>\n",
              "      <td>0.48</td>\n",
              "      <td>0.03</td>\n",
              "      <td>0.0</td>\n",
              "      <td>0.01</td>\n",
              "      <td>NaN</td>\n",
              "      <td>NaN</td>\n",
              "      <td>NaN</td>\n",
              "    </tr>\n",
              "    <tr>\n",
              "      <th>4132</th>\n",
              "      <td>Karate</td>\n",
              "      <td>2600</td>\n",
              "      <td>NaN</td>\n",
              "      <td>Fighting</td>\n",
              "      <td>0.44</td>\n",
              "      <td>0.03</td>\n",
              "      <td>0.0</td>\n",
              "      <td>0.00</td>\n",
              "      <td>NaN</td>\n",
              "      <td>NaN</td>\n",
              "      <td>NaN</td>\n",
              "    </tr>\n",
              "    <tr>\n",
              "      <th>4220</th>\n",
              "      <td>Circus Atari</td>\n",
              "      <td>2600</td>\n",
              "      <td>NaN</td>\n",
              "      <td>Action</td>\n",
              "      <td>0.43</td>\n",
              "      <td>0.03</td>\n",
              "      <td>0.0</td>\n",
              "      <td>0.00</td>\n",
              "      <td>NaN</td>\n",
              "      <td>NaN</td>\n",
              "      <td>NaN</td>\n",
              "    </tr>\n",
              "    <tr>\n",
              "      <th>4337</th>\n",
              "      <td>Maze Craze: A Game of Cops 'n Robbers</td>\n",
              "      <td>2600</td>\n",
              "      <td>NaN</td>\n",
              "      <td>Action</td>\n",
              "      <td>0.42</td>\n",
              "      <td>0.02</td>\n",
              "      <td>0.0</td>\n",
              "      <td>0.00</td>\n",
              "      <td>NaN</td>\n",
              "      <td>NaN</td>\n",
              "      <td>NaN</td>\n",
              "    </tr>\n",
              "    <tr>\n",
              "      <th>4437</th>\n",
              "      <td>Super Breakout</td>\n",
              "      <td>2600</td>\n",
              "      <td>NaN</td>\n",
              "      <td>Puzzle</td>\n",
              "      <td>0.41</td>\n",
              "      <td>0.03</td>\n",
              "      <td>0.0</td>\n",
              "      <td>0.00</td>\n",
              "      <td>NaN</td>\n",
              "      <td>NaN</td>\n",
              "      <td>NaN</td>\n",
              "    </tr>\n",
              "    <tr>\n",
              "      <th>5041</th>\n",
              "      <td>Hangman</td>\n",
              "      <td>2600</td>\n",
              "      <td>NaN</td>\n",
              "      <td>Puzzle</td>\n",
              "      <td>0.35</td>\n",
              "      <td>0.02</td>\n",
              "      <td>0.0</td>\n",
              "      <td>0.00</td>\n",
              "      <td>NaN</td>\n",
              "      <td>NaN</td>\n",
              "      <td>NaN</td>\n",
              "    </tr>\n",
              "    <tr>\n",
              "      <th>5642</th>\n",
              "      <td>Dragster</td>\n",
              "      <td>2600</td>\n",
              "      <td>NaN</td>\n",
              "      <td>Racing</td>\n",
              "      <td>0.30</td>\n",
              "      <td>0.02</td>\n",
              "      <td>0.0</td>\n",
              "      <td>0.00</td>\n",
              "      <td>NaN</td>\n",
              "      <td>NaN</td>\n",
              "      <td>NaN</td>\n",
              "    </tr>\n",
              "    <tr>\n",
              "      <th>5800</th>\n",
              "      <td>Slot Machine</td>\n",
              "      <td>2600</td>\n",
              "      <td>NaN</td>\n",
              "      <td>Action</td>\n",
              "      <td>0.29</td>\n",
              "      <td>0.02</td>\n",
              "      <td>0.0</td>\n",
              "      <td>0.00</td>\n",
              "      <td>NaN</td>\n",
              "      <td>NaN</td>\n",
              "      <td>NaN</td>\n",
              "    </tr>\n",
              "    <tr>\n",
              "      <th>6266</th>\n",
              "      <td>Indy 500</td>\n",
              "      <td>2600</td>\n",
              "      <td>NaN</td>\n",
              "      <td>Racing</td>\n",
              "      <td>0.26</td>\n",
              "      <td>0.01</td>\n",
              "      <td>0.0</td>\n",
              "      <td>0.00</td>\n",
              "      <td>NaN</td>\n",
              "      <td>NaN</td>\n",
              "      <td>NaN</td>\n",
              "    </tr>\n",
              "    <tr>\n",
              "      <th>6299</th>\n",
              "      <td>Flag Capture</td>\n",
              "      <td>2600</td>\n",
              "      <td>NaN</td>\n",
              "      <td>Action</td>\n",
              "      <td>0.25</td>\n",
              "      <td>0.02</td>\n",
              "      <td>0.0</td>\n",
              "      <td>0.00</td>\n",
              "      <td>NaN</td>\n",
              "      <td>NaN</td>\n",
              "      <td>NaN</td>\n",
              "    </tr>\n",
              "    <tr>\n",
              "      <th>7353</th>\n",
              "      <td>Ghostbusters II</td>\n",
              "      <td>2600</td>\n",
              "      <td>NaN</td>\n",
              "      <td>Action</td>\n",
              "      <td>0.20</td>\n",
              "      <td>0.01</td>\n",
              "      <td>0.0</td>\n",
              "      <td>0.00</td>\n",
              "      <td>NaN</td>\n",
              "      <td>NaN</td>\n",
              "      <td>NaN</td>\n",
              "    </tr>\n",
              "    <tr>\n",
              "      <th>7354</th>\n",
              "      <td>Breakaway IV</td>\n",
              "      <td>2600</td>\n",
              "      <td>NaN</td>\n",
              "      <td>Puzzle</td>\n",
              "      <td>0.20</td>\n",
              "      <td>0.01</td>\n",
              "      <td>0.0</td>\n",
              "      <td>0.00</td>\n",
              "      <td>NaN</td>\n",
              "      <td>NaN</td>\n",
              "      <td>NaN</td>\n",
              "    </tr>\n",
              "    <tr>\n",
              "      <th>8740</th>\n",
              "      <td>Home Run</td>\n",
              "      <td>2600</td>\n",
              "      <td>NaN</td>\n",
              "      <td>Sports</td>\n",
              "      <td>0.14</td>\n",
              "      <td>0.01</td>\n",
              "      <td>0.0</td>\n",
              "      <td>0.00</td>\n",
              "      <td>NaN</td>\n",
              "      <td>NaN</td>\n",
              "      <td>NaN</td>\n",
              "    </tr>\n",
              "  </tbody>\n",
              "</table>\n",
              "</div>"
            ],
            "text/plain": [
              "                                       name platform  year_of_release  \\\n",
              "609                          Space Invaders     2600              NaN   \n",
              "1506                              Adventure     2600              NaN   \n",
              "1585                                 Combat     2600              NaN   \n",
              "2106                         Air-Sea Battle     2600              NaN   \n",
              "3883                          Fishing Derby     2600              NaN   \n",
              "4132                                 Karate     2600              NaN   \n",
              "4220                           Circus Atari     2600              NaN   \n",
              "4337  Maze Craze: A Game of Cops 'n Robbers     2600              NaN   \n",
              "4437                         Super Breakout     2600              NaN   \n",
              "5041                                Hangman     2600              NaN   \n",
              "5642                               Dragster     2600              NaN   \n",
              "5800                           Slot Machine     2600              NaN   \n",
              "6266                               Indy 500     2600              NaN   \n",
              "6299                           Flag Capture     2600              NaN   \n",
              "7353                        Ghostbusters II     2600              NaN   \n",
              "7354                           Breakaway IV     2600              NaN   \n",
              "8740                               Home Run     2600              NaN   \n",
              "\n",
              "          genre  na_sales  eu_sales  jp_sales  other_sales  critic_score  \\\n",
              "609     Shooter      2.36      0.14       0.0         0.03           NaN   \n",
              "1506  Adventure      1.21      0.08       0.0         0.01           NaN   \n",
              "1585     Action      1.17      0.07       0.0         0.01           NaN   \n",
              "2106    Shooter      0.91      0.06       0.0         0.01           NaN   \n",
              "3883     Sports      0.48      0.03       0.0         0.01           NaN   \n",
              "4132   Fighting      0.44      0.03       0.0         0.00           NaN   \n",
              "4220     Action      0.43      0.03       0.0         0.00           NaN   \n",
              "4337     Action      0.42      0.02       0.0         0.00           NaN   \n",
              "4437     Puzzle      0.41      0.03       0.0         0.00           NaN   \n",
              "5041     Puzzle      0.35      0.02       0.0         0.00           NaN   \n",
              "5642     Racing      0.30      0.02       0.0         0.00           NaN   \n",
              "5800     Action      0.29      0.02       0.0         0.00           NaN   \n",
              "6266     Racing      0.26      0.01       0.0         0.00           NaN   \n",
              "6299     Action      0.25      0.02       0.0         0.00           NaN   \n",
              "7353     Action      0.20      0.01       0.0         0.00           NaN   \n",
              "7354     Puzzle      0.20      0.01       0.0         0.00           NaN   \n",
              "8740     Sports      0.14      0.01       0.0         0.00           NaN   \n",
              "\n",
              "     user_score rating  \n",
              "609         NaN    NaN  \n",
              "1506        NaN    NaN  \n",
              "1585        NaN    NaN  \n",
              "2106        NaN    NaN  \n",
              "3883        NaN    NaN  \n",
              "4132        NaN    NaN  \n",
              "4220        NaN    NaN  \n",
              "4337        NaN    NaN  \n",
              "4437        NaN    NaN  \n",
              "5041        NaN    NaN  \n",
              "5642        NaN    NaN  \n",
              "5800        NaN    NaN  \n",
              "6266        NaN    NaN  \n",
              "6299        NaN    NaN  \n",
              "7353        NaN    NaN  \n",
              "7354        NaN    NaN  \n",
              "8740        NaN    NaN  "
            ]
          },
          "execution_count": 98,
          "metadata": {},
          "output_type": "execute_result"
        }
      ],
      "source": [
        "games[(games['year_of_release'].isna()) & (games['platform'] == '2600')]"
      ]
    },
    {
      "cell_type": "code",
      "execution_count": null,
      "metadata": {
        "id": "NNsZ4HeDHkPg"
      },
      "outputs": [],
      "source": [
        "games.loc[609, 'year_of_release'] = 1978\n",
        "games.loc[1506, 'year_of_release'] = 1980\n",
        "games.loc[1585, 'year_of_release'] = 1977\n",
        "games.loc[2106, 'year_of_release'] = 1977\n",
        "games.loc[3883, 'year_of_release'] = 1980\n",
        "games.loc[4132, 'year_of_release'] = 1982\n",
        "games.loc[4220, 'year_of_release'] = 1980\n",
        "games.loc[4337, 'year_of_release'] = 1980\n",
        "games.loc[4437, 'year_of_release'] = 1978\n",
        "games.loc[5041, 'year_of_release'] = 1978\n",
        "games.loc[5642, 'year_of_release'] = 1980\n",
        "games.loc[5800, 'year_of_release'] = 1979\n",
        "games.loc[6266, 'year_of_release'] = 1977\n",
        "games.loc[6299, 'year_of_release'] = 1978\n",
        "games.loc[7353, 'year_of_release'] = 1989\n",
        "games.loc[7354, 'year_of_release'] = 1978\n",
        "games.loc[8740, 'year_of_release'] = 1978"
      ]
    },
    {
      "cell_type": "code",
      "execution_count": null,
      "metadata": {
        "id": "6Nzqq-WNHkPh",
        "outputId": "5a0c1132-b458-464a-dd84-7448a4d76972"
      },
      "outputs": [
        {
          "data": {
            "text/html": [
              "<div>\n",
              "<style scoped>\n",
              "    .dataframe tbody tr th:only-of-type {\n",
              "        vertical-align: middle;\n",
              "    }\n",
              "\n",
              "    .dataframe tbody tr th {\n",
              "        vertical-align: top;\n",
              "    }\n",
              "\n",
              "    .dataframe thead th {\n",
              "        text-align: right;\n",
              "    }\n",
              "</style>\n",
              "<table border=\"1\" class=\"dataframe\">\n",
              "  <thead>\n",
              "    <tr style=\"text-align: right;\">\n",
              "      <th></th>\n",
              "      <th>name</th>\n",
              "      <th>platform</th>\n",
              "      <th>year_of_release</th>\n",
              "      <th>genre</th>\n",
              "      <th>na_sales</th>\n",
              "      <th>eu_sales</th>\n",
              "      <th>jp_sales</th>\n",
              "      <th>other_sales</th>\n",
              "      <th>critic_score</th>\n",
              "      <th>user_score</th>\n",
              "      <th>rating</th>\n",
              "    </tr>\n",
              "  </thead>\n",
              "  <tbody>\n",
              "    <tr>\n",
              "      <th>4818</th>\n",
              "      <td>LEGO Harry Potter: Years 5-7</td>\n",
              "      <td>3DS</td>\n",
              "      <td>NaN</td>\n",
              "      <td>Action</td>\n",
              "      <td>0.18</td>\n",
              "      <td>0.19</td>\n",
              "      <td>0.00</td>\n",
              "      <td>0.03</td>\n",
              "      <td>71.0</td>\n",
              "      <td>6.5</td>\n",
              "      <td>E10+</td>\n",
              "    </tr>\n",
              "    <tr>\n",
              "      <th>5874</th>\n",
              "      <td>Harvest Moon: The Tale of Two Towns</td>\n",
              "      <td>3DS</td>\n",
              "      <td>NaN</td>\n",
              "      <td>Simulation</td>\n",
              "      <td>0.28</td>\n",
              "      <td>0.00</td>\n",
              "      <td>0.00</td>\n",
              "      <td>0.02</td>\n",
              "      <td>NaN</td>\n",
              "      <td>NaN</td>\n",
              "      <td>NaN</td>\n",
              "    </tr>\n",
              "    <tr>\n",
              "      <th>7848</th>\n",
              "      <td>Pet Zombies</td>\n",
              "      <td>3DS</td>\n",
              "      <td>NaN</td>\n",
              "      <td>Simulation</td>\n",
              "      <td>0.18</td>\n",
              "      <td>0.00</td>\n",
              "      <td>0.00</td>\n",
              "      <td>0.01</td>\n",
              "      <td>NaN</td>\n",
              "      <td>tbd</td>\n",
              "      <td>T</td>\n",
              "    </tr>\n",
              "    <tr>\n",
              "      <th>11377</th>\n",
              "      <td>Face Racers: Photo Finish</td>\n",
              "      <td>3DS</td>\n",
              "      <td>NaN</td>\n",
              "      <td>Racing</td>\n",
              "      <td>0.08</td>\n",
              "      <td>0.00</td>\n",
              "      <td>0.00</td>\n",
              "      <td>0.01</td>\n",
              "      <td>NaN</td>\n",
              "      <td>tbd</td>\n",
              "      <td>E</td>\n",
              "    </tr>\n",
              "    <tr>\n",
              "      <th>11455</th>\n",
              "      <td>The Hidden</td>\n",
              "      <td>3DS</td>\n",
              "      <td>NaN</td>\n",
              "      <td>Adventure</td>\n",
              "      <td>0.08</td>\n",
              "      <td>0.00</td>\n",
              "      <td>0.00</td>\n",
              "      <td>0.01</td>\n",
              "      <td>NaN</td>\n",
              "      <td>4.2</td>\n",
              "      <td>E10+</td>\n",
              "    </tr>\n",
              "    <tr>\n",
              "      <th>11943</th>\n",
              "      <td>Dream Trigger 3D</td>\n",
              "      <td>3DS</td>\n",
              "      <td>NaN</td>\n",
              "      <td>Shooter</td>\n",
              "      <td>0.04</td>\n",
              "      <td>0.02</td>\n",
              "      <td>0.00</td>\n",
              "      <td>0.01</td>\n",
              "      <td>54.0</td>\n",
              "      <td>6.3</td>\n",
              "      <td>E</td>\n",
              "    </tr>\n",
              "    <tr>\n",
              "      <th>14325</th>\n",
              "      <td>Beyond the Labyrinth</td>\n",
              "      <td>3DS</td>\n",
              "      <td>NaN</td>\n",
              "      <td>Role-Playing</td>\n",
              "      <td>0.00</td>\n",
              "      <td>0.00</td>\n",
              "      <td>0.03</td>\n",
              "      <td>0.00</td>\n",
              "      <td>NaN</td>\n",
              "      <td>NaN</td>\n",
              "      <td>NaN</td>\n",
              "    </tr>\n",
              "    <tr>\n",
              "      <th>15338</th>\n",
              "      <td>Mario Tennis</td>\n",
              "      <td>3DS</td>\n",
              "      <td>NaN</td>\n",
              "      <td>Sports</td>\n",
              "      <td>0.00</td>\n",
              "      <td>0.00</td>\n",
              "      <td>0.02</td>\n",
              "      <td>0.00</td>\n",
              "      <td>NaN</td>\n",
              "      <td>NaN</td>\n",
              "      <td>NaN</td>\n",
              "    </tr>\n",
              "  </tbody>\n",
              "</table>\n",
              "</div>"
            ],
            "text/plain": [
              "                                      name platform  year_of_release  \\\n",
              "4818          LEGO Harry Potter: Years 5-7      3DS              NaN   \n",
              "5874   Harvest Moon: The Tale of Two Towns      3DS              NaN   \n",
              "7848                           Pet Zombies      3DS              NaN   \n",
              "11377            Face Racers: Photo Finish      3DS              NaN   \n",
              "11455                           The Hidden      3DS              NaN   \n",
              "11943                     Dream Trigger 3D      3DS              NaN   \n",
              "14325                 Beyond the Labyrinth      3DS              NaN   \n",
              "15338                         Mario Tennis      3DS              NaN   \n",
              "\n",
              "              genre  na_sales  eu_sales  jp_sales  other_sales  critic_score  \\\n",
              "4818         Action      0.18      0.19      0.00         0.03          71.0   \n",
              "5874     Simulation      0.28      0.00      0.00         0.02           NaN   \n",
              "7848     Simulation      0.18      0.00      0.00         0.01           NaN   \n",
              "11377        Racing      0.08      0.00      0.00         0.01           NaN   \n",
              "11455     Adventure      0.08      0.00      0.00         0.01           NaN   \n",
              "11943       Shooter      0.04      0.02      0.00         0.01          54.0   \n",
              "14325  Role-Playing      0.00      0.00      0.03         0.00           NaN   \n",
              "15338        Sports      0.00      0.00      0.02         0.00           NaN   \n",
              "\n",
              "      user_score rating  \n",
              "4818         6.5   E10+  \n",
              "5874         NaN    NaN  \n",
              "7848         tbd      T  \n",
              "11377        tbd      E  \n",
              "11455        4.2   E10+  \n",
              "11943        6.3      E  \n",
              "14325        NaN    NaN  \n",
              "15338        NaN    NaN  "
            ]
          },
          "execution_count": 100,
          "metadata": {},
          "output_type": "execute_result"
        }
      ],
      "source": [
        "games[(games['year_of_release'].isna()) & (games['platform'] == '3DS')]"
      ]
    },
    {
      "cell_type": "code",
      "execution_count": null,
      "metadata": {
        "id": "VOyx8hLVHkPh"
      },
      "outputs": [],
      "source": [
        "games.loc[4818, 'year_of_release'] = 2011\n",
        "games.loc[5874, 'year_of_release'] = 2010\n",
        "games.loc[7848, 'year_of_release'] = 2011\n",
        "games.loc[11377, 'year_of_release'] = 2011\n",
        "games.loc[11455, 'year_of_release'] = 2011\n",
        "games.loc[11943, 'year_of_release'] = 2011\n",
        "games.loc[14325, 'year_of_release'] = 2012\n",
        "games.loc[15338, 'year_of_release'] = 2000"
      ]
    },
    {
      "cell_type": "code",
      "execution_count": null,
      "metadata": {
        "id": "cDpopczmHkPh",
        "outputId": "fa6495db-eae0-47cb-c755-558687bc030e"
      },
      "outputs": [
        {
          "data": {
            "text/html": [
              "<div>\n",
              "<style scoped>\n",
              "    .dataframe tbody tr th:only-of-type {\n",
              "        vertical-align: middle;\n",
              "    }\n",
              "\n",
              "    .dataframe tbody tr th {\n",
              "        vertical-align: top;\n",
              "    }\n",
              "\n",
              "    .dataframe thead th {\n",
              "        text-align: right;\n",
              "    }\n",
              "</style>\n",
              "<table border=\"1\" class=\"dataframe\">\n",
              "  <thead>\n",
              "    <tr style=\"text-align: right;\">\n",
              "      <th></th>\n",
              "      <th>name</th>\n",
              "      <th>platform</th>\n",
              "      <th>year_of_release</th>\n",
              "      <th>genre</th>\n",
              "      <th>na_sales</th>\n",
              "      <th>eu_sales</th>\n",
              "      <th>jp_sales</th>\n",
              "      <th>other_sales</th>\n",
              "      <th>critic_score</th>\n",
              "      <th>user_score</th>\n",
              "      <th>rating</th>\n",
              "    </tr>\n",
              "  </thead>\n",
              "  <tbody>\n",
              "    <tr>\n",
              "      <th>2010</th>\n",
              "      <td>Donkey Kong Land III</td>\n",
              "      <td>GB</td>\n",
              "      <td>NaN</td>\n",
              "      <td>Platform</td>\n",
              "      <td>0.68</td>\n",
              "      <td>0.31</td>\n",
              "      <td>0.0</td>\n",
              "      <td>0.04</td>\n",
              "      <td>NaN</td>\n",
              "      <td>NaN</td>\n",
              "      <td>NaN</td>\n",
              "    </tr>\n",
              "  </tbody>\n",
              "</table>\n",
              "</div>"
            ],
            "text/plain": [
              "                      name platform  year_of_release     genre  na_sales  \\\n",
              "2010  Donkey Kong Land III       GB              NaN  Platform      0.68   \n",
              "\n",
              "      eu_sales  jp_sales  other_sales  critic_score user_score rating  \n",
              "2010      0.31       0.0         0.04           NaN        NaN    NaN  "
            ]
          },
          "execution_count": 102,
          "metadata": {},
          "output_type": "execute_result"
        }
      ],
      "source": [
        "games[(games['year_of_release'].isna()) & (games['platform'] == 'GB')]"
      ]
    },
    {
      "cell_type": "code",
      "execution_count": null,
      "metadata": {
        "id": "AncgFJZ9HkPi"
      },
      "outputs": [],
      "source": [
        "games.loc[2010, 'year_of_release'] = 1997"
      ]
    },
    {
      "cell_type": "code",
      "execution_count": null,
      "metadata": {
        "id": "RPBHGCN8HkPi",
        "outputId": "d25fb89c-484a-41fc-d8e3-29ec9cb3d3bd"
      },
      "outputs": [
        {
          "data": {
            "text/html": [
              "<div>\n",
              "<style scoped>\n",
              "    .dataframe tbody tr th:only-of-type {\n",
              "        vertical-align: middle;\n",
              "    }\n",
              "\n",
              "    .dataframe tbody tr th {\n",
              "        vertical-align: top;\n",
              "    }\n",
              "\n",
              "    .dataframe thead th {\n",
              "        text-align: right;\n",
              "    }\n",
              "</style>\n",
              "<table border=\"1\" class=\"dataframe\">\n",
              "  <thead>\n",
              "    <tr style=\"text-align: right;\">\n",
              "      <th></th>\n",
              "      <th>name</th>\n",
              "      <th>platform</th>\n",
              "      <th>year_of_release</th>\n",
              "      <th>genre</th>\n",
              "      <th>na_sales</th>\n",
              "      <th>eu_sales</th>\n",
              "      <th>jp_sales</th>\n",
              "      <th>other_sales</th>\n",
              "      <th>critic_score</th>\n",
              "      <th>user_score</th>\n",
              "      <th>rating</th>\n",
              "    </tr>\n",
              "  </thead>\n",
              "  <tbody>\n",
              "    <tr>\n",
              "      <th>3739</th>\n",
              "      <td>NBA Street Vol. 2</td>\n",
              "      <td>GC</td>\n",
              "      <td>NaN</td>\n",
              "      <td>Sports</td>\n",
              "      <td>0.41</td>\n",
              "      <td>0.11</td>\n",
              "      <td>0.00</td>\n",
              "      <td>0.01</td>\n",
              "      <td>88.0</td>\n",
              "      <td>8.1</td>\n",
              "      <td>E</td>\n",
              "    </tr>\n",
              "    <tr>\n",
              "      <th>6019</th>\n",
              "      <td>Nicktoons: Battle for Volcano Island</td>\n",
              "      <td>GC</td>\n",
              "      <td>NaN</td>\n",
              "      <td>Action</td>\n",
              "      <td>0.22</td>\n",
              "      <td>0.06</td>\n",
              "      <td>0.00</td>\n",
              "      <td>0.01</td>\n",
              "      <td>NaN</td>\n",
              "      <td>7</td>\n",
              "      <td>E</td>\n",
              "    </tr>\n",
              "    <tr>\n",
              "      <th>6180</th>\n",
              "      <td>The Chronicles of Narnia: The Lion, The Witch ...</td>\n",
              "      <td>GC</td>\n",
              "      <td>NaN</td>\n",
              "      <td>Action</td>\n",
              "      <td>0.22</td>\n",
              "      <td>0.06</td>\n",
              "      <td>0.00</td>\n",
              "      <td>0.01</td>\n",
              "      <td>71.0</td>\n",
              "      <td>tbd</td>\n",
              "      <td>T</td>\n",
              "    </tr>\n",
              "    <tr>\n",
              "      <th>6199</th>\n",
              "      <td>Pac-Man Fever</td>\n",
              "      <td>GC</td>\n",
              "      <td>NaN</td>\n",
              "      <td>Misc</td>\n",
              "      <td>0.21</td>\n",
              "      <td>0.06</td>\n",
              "      <td>0.00</td>\n",
              "      <td>0.01</td>\n",
              "      <td>54.0</td>\n",
              "      <td>6.3</td>\n",
              "      <td>E</td>\n",
              "    </tr>\n",
              "    <tr>\n",
              "      <th>9516</th>\n",
              "      <td>Nintendo Puzzle Collection</td>\n",
              "      <td>GC</td>\n",
              "      <td>NaN</td>\n",
              "      <td>Puzzle</td>\n",
              "      <td>0.00</td>\n",
              "      <td>0.00</td>\n",
              "      <td>0.13</td>\n",
              "      <td>0.00</td>\n",
              "      <td>NaN</td>\n",
              "      <td>NaN</td>\n",
              "      <td>NaN</td>\n",
              "    </tr>\n",
              "    <tr>\n",
              "      <th>9817</th>\n",
              "      <td>Street Hoops</td>\n",
              "      <td>GC</td>\n",
              "      <td>NaN</td>\n",
              "      <td>Sports</td>\n",
              "      <td>0.09</td>\n",
              "      <td>0.02</td>\n",
              "      <td>0.00</td>\n",
              "      <td>0.00</td>\n",
              "      <td>56.0</td>\n",
              "      <td>7.3</td>\n",
              "      <td>T</td>\n",
              "    </tr>\n",
              "    <tr>\n",
              "      <th>10258</th>\n",
              "      <td>GiFTPiA</td>\n",
              "      <td>GC</td>\n",
              "      <td>NaN</td>\n",
              "      <td>Role-Playing</td>\n",
              "      <td>0.00</td>\n",
              "      <td>0.00</td>\n",
              "      <td>0.11</td>\n",
              "      <td>0.00</td>\n",
              "      <td>NaN</td>\n",
              "      <td>NaN</td>\n",
              "      <td>NaN</td>\n",
              "    </tr>\n",
              "    <tr>\n",
              "      <th>11832</th>\n",
              "      <td>Smashing Drive</td>\n",
              "      <td>GC</td>\n",
              "      <td>NaN</td>\n",
              "      <td>Racing</td>\n",
              "      <td>0.06</td>\n",
              "      <td>0.01</td>\n",
              "      <td>0.00</td>\n",
              "      <td>0.00</td>\n",
              "      <td>47.0</td>\n",
              "      <td>5.2</td>\n",
              "      <td>T</td>\n",
              "    </tr>\n",
              "    <tr>\n",
              "      <th>13792</th>\n",
              "      <td>NHL Hitz Pro</td>\n",
              "      <td>GC</td>\n",
              "      <td>NaN</td>\n",
              "      <td>Sports</td>\n",
              "      <td>0.03</td>\n",
              "      <td>0.01</td>\n",
              "      <td>0.00</td>\n",
              "      <td>0.00</td>\n",
              "      <td>81.0</td>\n",
              "      <td>7.8</td>\n",
              "      <td>E</td>\n",
              "    </tr>\n",
              "    <tr>\n",
              "      <th>15006</th>\n",
              "      <td>Tube Slider</td>\n",
              "      <td>GC</td>\n",
              "      <td>NaN</td>\n",
              "      <td>Racing</td>\n",
              "      <td>0.02</td>\n",
              "      <td>0.00</td>\n",
              "      <td>0.00</td>\n",
              "      <td>0.00</td>\n",
              "      <td>62.0</td>\n",
              "      <td>tbd</td>\n",
              "      <td>E</td>\n",
              "    </tr>\n",
              "    <tr>\n",
              "      <th>15966</th>\n",
              "      <td>Dinotopia: The Sunstone Odyssey</td>\n",
              "      <td>GC</td>\n",
              "      <td>NaN</td>\n",
              "      <td>Action</td>\n",
              "      <td>0.01</td>\n",
              "      <td>0.00</td>\n",
              "      <td>0.00</td>\n",
              "      <td>0.00</td>\n",
              "      <td>50.0</td>\n",
              "      <td>tbd</td>\n",
              "      <td>T</td>\n",
              "    </tr>\n",
              "    <tr>\n",
              "      <th>16405</th>\n",
              "      <td>Freaky Flyers</td>\n",
              "      <td>GC</td>\n",
              "      <td>NaN</td>\n",
              "      <td>Racing</td>\n",
              "      <td>0.01</td>\n",
              "      <td>0.00</td>\n",
              "      <td>0.00</td>\n",
              "      <td>0.00</td>\n",
              "      <td>69.0</td>\n",
              "      <td>6.5</td>\n",
              "      <td>T</td>\n",
              "    </tr>\n",
              "    <tr>\n",
              "      <th>16522</th>\n",
              "      <td>Virtua Quest</td>\n",
              "      <td>GC</td>\n",
              "      <td>NaN</td>\n",
              "      <td>Role-Playing</td>\n",
              "      <td>0.01</td>\n",
              "      <td>0.00</td>\n",
              "      <td>0.00</td>\n",
              "      <td>0.00</td>\n",
              "      <td>55.0</td>\n",
              "      <td>5.5</td>\n",
              "      <td>T</td>\n",
              "    </tr>\n",
              "  </tbody>\n",
              "</table>\n",
              "</div>"
            ],
            "text/plain": [
              "                                                    name platform  \\\n",
              "3739                                   NBA Street Vol. 2       GC   \n",
              "6019                Nicktoons: Battle for Volcano Island       GC   \n",
              "6180   The Chronicles of Narnia: The Lion, The Witch ...       GC   \n",
              "6199                                       Pac-Man Fever       GC   \n",
              "9516                          Nintendo Puzzle Collection       GC   \n",
              "9817                                        Street Hoops       GC   \n",
              "10258                                            GiFTPiA       GC   \n",
              "11832                                     Smashing Drive       GC   \n",
              "13792                                       NHL Hitz Pro       GC   \n",
              "15006                                        Tube Slider       GC   \n",
              "15966                    Dinotopia: The Sunstone Odyssey       GC   \n",
              "16405                                      Freaky Flyers       GC   \n",
              "16522                                       Virtua Quest       GC   \n",
              "\n",
              "       year_of_release         genre  na_sales  eu_sales  jp_sales  \\\n",
              "3739               NaN        Sports      0.41      0.11      0.00   \n",
              "6019               NaN        Action      0.22      0.06      0.00   \n",
              "6180               NaN        Action      0.22      0.06      0.00   \n",
              "6199               NaN          Misc      0.21      0.06      0.00   \n",
              "9516               NaN        Puzzle      0.00      0.00      0.13   \n",
              "9817               NaN        Sports      0.09      0.02      0.00   \n",
              "10258              NaN  Role-Playing      0.00      0.00      0.11   \n",
              "11832              NaN        Racing      0.06      0.01      0.00   \n",
              "13792              NaN        Sports      0.03      0.01      0.00   \n",
              "15006              NaN        Racing      0.02      0.00      0.00   \n",
              "15966              NaN        Action      0.01      0.00      0.00   \n",
              "16405              NaN        Racing      0.01      0.00      0.00   \n",
              "16522              NaN  Role-Playing      0.01      0.00      0.00   \n",
              "\n",
              "       other_sales  critic_score user_score rating  \n",
              "3739          0.01          88.0        8.1      E  \n",
              "6019          0.01           NaN          7      E  \n",
              "6180          0.01          71.0        tbd      T  \n",
              "6199          0.01          54.0        6.3      E  \n",
              "9516          0.00           NaN        NaN    NaN  \n",
              "9817          0.00          56.0        7.3      T  \n",
              "10258         0.00           NaN        NaN    NaN  \n",
              "11832         0.00          47.0        5.2      T  \n",
              "13792         0.00          81.0        7.8      E  \n",
              "15006         0.00          62.0        tbd      E  \n",
              "15966         0.00          50.0        tbd      T  \n",
              "16405         0.00          69.0        6.5      T  \n",
              "16522         0.00          55.0        5.5      T  "
            ]
          },
          "execution_count": 104,
          "metadata": {},
          "output_type": "execute_result"
        }
      ],
      "source": [
        "games[(games['year_of_release'].isna()) & (games['platform'] == 'GC')]"
      ]
    },
    {
      "cell_type": "code",
      "execution_count": null,
      "metadata": {
        "id": "Lm-Jk8ptHkPi"
      },
      "outputs": [],
      "source": [
        "games.loc[3739, 'year_of_release'] = 2003\n",
        "games.loc[6019, 'year_of_release'] = 2006\n",
        "games.loc[6180, 'year_of_release'] = 2005\n",
        "games.loc[6199, 'year_of_release'] = 2002\n",
        "games.loc[9516, 'year_of_release'] = 2003\n",
        "games.loc[9817, 'year_of_release'] = 2002\n",
        "games.loc[10258, 'year_of_release'] = 2003\n",
        "games.loc[11832, 'year_of_release'] = 2000\n",
        "games.loc[13792, 'year_of_release'] = 2003\n",
        "games.loc[15006, 'year_of_release'] = 2003\n",
        "games.loc[15966, 'year_of_release'] = 2003\n",
        "games.loc[16405, 'year_of_release'] = 2003\n",
        "games.loc[16522, 'year_of_release'] = 2004"
      ]
    },
    {
      "cell_type": "code",
      "execution_count": null,
      "metadata": {
        "id": "XcEZfxrSHkPi",
        "outputId": "d5e6da8f-f0dd-446f-ca86-4ae633d9eb22"
      },
      "outputs": [
        {
          "data": {
            "text/html": [
              "<div>\n",
              "<style scoped>\n",
              "    .dataframe tbody tr th:only-of-type {\n",
              "        vertical-align: middle;\n",
              "    }\n",
              "\n",
              "    .dataframe tbody tr th {\n",
              "        vertical-align: top;\n",
              "    }\n",
              "\n",
              "    .dataframe thead th {\n",
              "        text-align: right;\n",
              "    }\n",
              "</style>\n",
              "<table border=\"1\" class=\"dataframe\">\n",
              "  <thead>\n",
              "    <tr style=\"text-align: right;\">\n",
              "      <th></th>\n",
              "      <th>name</th>\n",
              "      <th>platform</th>\n",
              "      <th>year_of_release</th>\n",
              "      <th>genre</th>\n",
              "      <th>na_sales</th>\n",
              "      <th>eu_sales</th>\n",
              "      <th>jp_sales</th>\n",
              "      <th>other_sales</th>\n",
              "      <th>critic_score</th>\n",
              "      <th>user_score</th>\n",
              "      <th>rating</th>\n",
              "    </tr>\n",
              "  </thead>\n",
              "  <tbody>\n",
              "    <tr>\n",
              "      <th>5492</th>\n",
              "      <td>Custom Robo</td>\n",
              "      <td>N64</td>\n",
              "      <td>NaN</td>\n",
              "      <td>Role-Playing</td>\n",
              "      <td>0.00</td>\n",
              "      <td>0.00</td>\n",
              "      <td>0.29</td>\n",
              "      <td>0.04</td>\n",
              "      <td>NaN</td>\n",
              "      <td>NaN</td>\n",
              "      <td>NaN</td>\n",
              "    </tr>\n",
              "    <tr>\n",
              "      <th>7605</th>\n",
              "      <td>Famista 64</td>\n",
              "      <td>N64</td>\n",
              "      <td>NaN</td>\n",
              "      <td>Sports</td>\n",
              "      <td>0.00</td>\n",
              "      <td>0.00</td>\n",
              "      <td>0.17</td>\n",
              "      <td>0.03</td>\n",
              "      <td>NaN</td>\n",
              "      <td>NaN</td>\n",
              "      <td>NaN</td>\n",
              "    </tr>\n",
              "    <tr>\n",
              "      <th>9151</th>\n",
              "      <td>WCW Backstage Assault</td>\n",
              "      <td>N64</td>\n",
              "      <td>NaN</td>\n",
              "      <td>Action</td>\n",
              "      <td>0.11</td>\n",
              "      <td>0.03</td>\n",
              "      <td>0.00</td>\n",
              "      <td>0.00</td>\n",
              "      <td>NaN</td>\n",
              "      <td>NaN</td>\n",
              "      <td>NaN</td>\n",
              "    </tr>\n",
              "  </tbody>\n",
              "</table>\n",
              "</div>"
            ],
            "text/plain": [
              "                       name platform  year_of_release         genre  na_sales  \\\n",
              "5492            Custom Robo      N64              NaN  Role-Playing      0.00   \n",
              "7605             Famista 64      N64              NaN        Sports      0.00   \n",
              "9151  WCW Backstage Assault      N64              NaN        Action      0.11   \n",
              "\n",
              "      eu_sales  jp_sales  other_sales  critic_score user_score rating  \n",
              "5492      0.00      0.29         0.04           NaN        NaN    NaN  \n",
              "7605      0.00      0.17         0.03           NaN        NaN    NaN  \n",
              "9151      0.03      0.00         0.00           NaN        NaN    NaN  "
            ]
          },
          "execution_count": 106,
          "metadata": {},
          "output_type": "execute_result"
        }
      ],
      "source": [
        "games[(games['year_of_release'].isna()) & (games['platform'] == 'N64')]"
      ]
    },
    {
      "cell_type": "code",
      "execution_count": null,
      "metadata": {
        "id": "Nyq5CAmiHkPi"
      },
      "outputs": [],
      "source": [
        "games.loc[5492, 'year_of_release'] = 1999\n",
        "games.loc[7605, 'year_of_release'] = 1997\n",
        "games.loc[9151, 'year_of_release'] = 2000"
      ]
    },
    {
      "cell_type": "code",
      "execution_count": null,
      "metadata": {
        "id": "4OQsDdiGHkPi",
        "outputId": "d9ec0a15-ec18-479f-b0fa-80a35069bbb8"
      },
      "outputs": [
        {
          "data": {
            "text/html": [
              "<div>\n",
              "<style scoped>\n",
              "    .dataframe tbody tr th:only-of-type {\n",
              "        vertical-align: middle;\n",
              "    }\n",
              "\n",
              "    .dataframe tbody tr th {\n",
              "        vertical-align: top;\n",
              "    }\n",
              "\n",
              "    .dataframe thead th {\n",
              "        text-align: right;\n",
              "    }\n",
              "</style>\n",
              "<table border=\"1\" class=\"dataframe\">\n",
              "  <thead>\n",
              "    <tr style=\"text-align: right;\">\n",
              "      <th></th>\n",
              "      <th>name</th>\n",
              "      <th>platform</th>\n",
              "      <th>year_of_release</th>\n",
              "      <th>genre</th>\n",
              "      <th>na_sales</th>\n",
              "      <th>eu_sales</th>\n",
              "      <th>jp_sales</th>\n",
              "      <th>other_sales</th>\n",
              "      <th>critic_score</th>\n",
              "      <th>user_score</th>\n",
              "      <th>rating</th>\n",
              "    </tr>\n",
              "  </thead>\n",
              "  <tbody>\n",
              "    <tr>\n",
              "      <th>6293</th>\n",
              "      <td>Disgaea 3: Absence of Detention</td>\n",
              "      <td>PSV</td>\n",
              "      <td>NaN</td>\n",
              "      <td>Role-Playing</td>\n",
              "      <td>0.11</td>\n",
              "      <td>0.05</td>\n",
              "      <td>0.07</td>\n",
              "      <td>0.03</td>\n",
              "      <td>78.0</td>\n",
              "      <td>7.6</td>\n",
              "      <td>T</td>\n",
              "    </tr>\n",
              "  </tbody>\n",
              "</table>\n",
              "</div>"
            ],
            "text/plain": [
              "                                 name platform  year_of_release         genre  \\\n",
              "6293  Disgaea 3: Absence of Detention      PSV              NaN  Role-Playing   \n",
              "\n",
              "      na_sales  eu_sales  jp_sales  other_sales  critic_score user_score  \\\n",
              "6293      0.11      0.05      0.07         0.03          78.0        7.6   \n",
              "\n",
              "     rating  \n",
              "6293      T  "
            ]
          },
          "execution_count": 108,
          "metadata": {},
          "output_type": "execute_result"
        }
      ],
      "source": [
        "games[(games['year_of_release'].isna()) & (games['platform'] == 'PSV')]"
      ]
    },
    {
      "cell_type": "code",
      "execution_count": null,
      "metadata": {
        "id": "JS1LPEq2HkPi"
      },
      "outputs": [],
      "source": [
        "games.loc[6293, 'year_of_release'] = 2008"
      ]
    },
    {
      "cell_type": "code",
      "execution_count": null,
      "metadata": {
        "id": "qNFx8rovHkPj",
        "outputId": "26b37e5f-368d-45bf-c457-75fa9bf77aa5"
      },
      "outputs": [
        {
          "data": {
            "text/html": [
              "<div>\n",
              "<style scoped>\n",
              "    .dataframe tbody tr th:only-of-type {\n",
              "        vertical-align: middle;\n",
              "    }\n",
              "\n",
              "    .dataframe tbody tr th {\n",
              "        vertical-align: top;\n",
              "    }\n",
              "\n",
              "    .dataframe thead th {\n",
              "        text-align: right;\n",
              "    }\n",
              "</style>\n",
              "<table border=\"1\" class=\"dataframe\">\n",
              "  <thead>\n",
              "    <tr style=\"text-align: right;\">\n",
              "      <th></th>\n",
              "      <th>name</th>\n",
              "      <th>platform</th>\n",
              "      <th>year_of_release</th>\n",
              "      <th>genre</th>\n",
              "      <th>na_sales</th>\n",
              "      <th>eu_sales</th>\n",
              "      <th>jp_sales</th>\n",
              "      <th>other_sales</th>\n",
              "      <th>critic_score</th>\n",
              "      <th>user_score</th>\n",
              "      <th>rating</th>\n",
              "    </tr>\n",
              "  </thead>\n",
              "  <tbody>\n",
              "    <tr>\n",
              "      <th>3081</th>\n",
              "      <td>LEGO Harry Potter: Years 5-7</td>\n",
              "      <td>DS</td>\n",
              "      <td>NaN</td>\n",
              "      <td>Action</td>\n",
              "      <td>0.34</td>\n",
              "      <td>0.25</td>\n",
              "      <td>0.00</td>\n",
              "      <td>0.07</td>\n",
              "      <td>69.0</td>\n",
              "      <td>tbd</td>\n",
              "      <td>E10+</td>\n",
              "    </tr>\n",
              "    <tr>\n",
              "      <th>3289</th>\n",
              "      <td>Advance Wars: Days of Ruin</td>\n",
              "      <td>DS</td>\n",
              "      <td>NaN</td>\n",
              "      <td>Strategy</td>\n",
              "      <td>0.43</td>\n",
              "      <td>0.12</td>\n",
              "      <td>0.00</td>\n",
              "      <td>0.05</td>\n",
              "      <td>86.0</td>\n",
              "      <td>8.7</td>\n",
              "      <td>E10+</td>\n",
              "    </tr>\n",
              "    <tr>\n",
              "      <th>5443</th>\n",
              "      <td>Bejeweled 3</td>\n",
              "      <td>DS</td>\n",
              "      <td>NaN</td>\n",
              "      <td>Puzzle</td>\n",
              "      <td>0.29</td>\n",
              "      <td>0.02</td>\n",
              "      <td>0.00</td>\n",
              "      <td>0.02</td>\n",
              "      <td>75.0</td>\n",
              "      <td>tbd</td>\n",
              "      <td>E</td>\n",
              "    </tr>\n",
              "    <tr>\n",
              "      <th>5932</th>\n",
              "      <td>Shrek the Third</td>\n",
              "      <td>DS</td>\n",
              "      <td>NaN</td>\n",
              "      <td>Action</td>\n",
              "      <td>0.26</td>\n",
              "      <td>0.01</td>\n",
              "      <td>0.00</td>\n",
              "      <td>0.02</td>\n",
              "      <td>70.0</td>\n",
              "      <td>6.5</td>\n",
              "      <td>E</td>\n",
              "    </tr>\n",
              "    <tr>\n",
              "      <th>9664</th>\n",
              "      <td>Charm Girls Club: My Fashion Mall</td>\n",
              "      <td>DS</td>\n",
              "      <td>NaN</td>\n",
              "      <td>Simulation</td>\n",
              "      <td>0.12</td>\n",
              "      <td>0.00</td>\n",
              "      <td>0.00</td>\n",
              "      <td>0.01</td>\n",
              "      <td>NaN</td>\n",
              "      <td>tbd</td>\n",
              "      <td>E</td>\n",
              "    </tr>\n",
              "    <tr>\n",
              "      <th>9855</th>\n",
              "      <td>The Daring Game for Girls</td>\n",
              "      <td>DS</td>\n",
              "      <td>NaN</td>\n",
              "      <td>Adventure</td>\n",
              "      <td>0.11</td>\n",
              "      <td>0.00</td>\n",
              "      <td>0.00</td>\n",
              "      <td>0.01</td>\n",
              "      <td>NaN</td>\n",
              "      <td>tbd</td>\n",
              "      <td>E</td>\n",
              "    </tr>\n",
              "    <tr>\n",
              "      <th>10486</th>\n",
              "      <td>Atsumare! Power Pro Kun no DS Koushien</td>\n",
              "      <td>DS</td>\n",
              "      <td>NaN</td>\n",
              "      <td>Sports</td>\n",
              "      <td>0.00</td>\n",
              "      <td>0.00</td>\n",
              "      <td>0.10</td>\n",
              "      <td>0.00</td>\n",
              "      <td>NaN</td>\n",
              "      <td>NaN</td>\n",
              "      <td>NaN</td>\n",
              "    </tr>\n",
              "    <tr>\n",
              "      <th>10612</th>\n",
              "      <td>My Healthy Cooking Coach</td>\n",
              "      <td>DS</td>\n",
              "      <td>NaN</td>\n",
              "      <td>Simulation</td>\n",
              "      <td>0.09</td>\n",
              "      <td>0.00</td>\n",
              "      <td>0.00</td>\n",
              "      <td>0.01</td>\n",
              "      <td>NaN</td>\n",
              "      <td>tbd</td>\n",
              "      <td>E</td>\n",
              "    </tr>\n",
              "    <tr>\n",
              "      <th>10686</th>\n",
              "      <td>Happy Feet Two</td>\n",
              "      <td>DS</td>\n",
              "      <td>NaN</td>\n",
              "      <td>Action</td>\n",
              "      <td>0.08</td>\n",
              "      <td>0.01</td>\n",
              "      <td>0.00</td>\n",
              "      <td>0.01</td>\n",
              "      <td>NaN</td>\n",
              "      <td>tbd</td>\n",
              "      <td>E</td>\n",
              "    </tr>\n",
              "    <tr>\n",
              "      <th>10764</th>\n",
              "      <td>Luminous Arc 2 (JP sales)</td>\n",
              "      <td>DS</td>\n",
              "      <td>NaN</td>\n",
              "      <td>Role-Playing</td>\n",
              "      <td>0.00</td>\n",
              "      <td>0.00</td>\n",
              "      <td>0.10</td>\n",
              "      <td>0.00</td>\n",
              "      <td>NaN</td>\n",
              "      <td>NaN</td>\n",
              "      <td>NaN</td>\n",
              "    </tr>\n",
              "    <tr>\n",
              "      <th>10837</th>\n",
              "      <td>Egg Monster Hero</td>\n",
              "      <td>DS</td>\n",
              "      <td>NaN</td>\n",
              "      <td>Role-Playing</td>\n",
              "      <td>0.00</td>\n",
              "      <td>0.00</td>\n",
              "      <td>0.09</td>\n",
              "      <td>0.00</td>\n",
              "      <td>NaN</td>\n",
              "      <td>NaN</td>\n",
              "      <td>E</td>\n",
              "    </tr>\n",
              "    <tr>\n",
              "      <th>11338</th>\n",
              "      <td>Charm Girls Club: My Fashion Show</td>\n",
              "      <td>DS</td>\n",
              "      <td>NaN</td>\n",
              "      <td>Simulation</td>\n",
              "      <td>0.08</td>\n",
              "      <td>0.00</td>\n",
              "      <td>0.00</td>\n",
              "      <td>0.01</td>\n",
              "      <td>NaN</td>\n",
              "      <td>tbd</td>\n",
              "      <td>E</td>\n",
              "    </tr>\n",
              "    <tr>\n",
              "      <th>11790</th>\n",
              "      <td>Mega Man Battle Network: Operation Shooting Star</td>\n",
              "      <td>DS</td>\n",
              "      <td>NaN</td>\n",
              "      <td>Role-Playing</td>\n",
              "      <td>0.00</td>\n",
              "      <td>0.00</td>\n",
              "      <td>0.07</td>\n",
              "      <td>0.00</td>\n",
              "      <td>NaN</td>\n",
              "      <td>NaN</td>\n",
              "      <td>NaN</td>\n",
              "    </tr>\n",
              "    <tr>\n",
              "      <th>12003</th>\n",
              "      <td>Tornado</td>\n",
              "      <td>DS</td>\n",
              "      <td>NaN</td>\n",
              "      <td>Action</td>\n",
              "      <td>0.07</td>\n",
              "      <td>0.00</td>\n",
              "      <td>0.00</td>\n",
              "      <td>0.00</td>\n",
              "      <td>44.0</td>\n",
              "      <td>tbd</td>\n",
              "      <td>E</td>\n",
              "    </tr>\n",
              "    <tr>\n",
              "      <th>12241</th>\n",
              "      <td>Alex Rider: Stormbreaker</td>\n",
              "      <td>DS</td>\n",
              "      <td>NaN</td>\n",
              "      <td>Action</td>\n",
              "      <td>0.06</td>\n",
              "      <td>0.00</td>\n",
              "      <td>0.00</td>\n",
              "      <td>0.00</td>\n",
              "      <td>48.0</td>\n",
              "      <td>6.1</td>\n",
              "      <td>T</td>\n",
              "    </tr>\n",
              "    <tr>\n",
              "      <th>12524</th>\n",
              "      <td>Chou Soujuu Mecha MG</td>\n",
              "      <td>DS</td>\n",
              "      <td>NaN</td>\n",
              "      <td>Simulation</td>\n",
              "      <td>0.00</td>\n",
              "      <td>0.00</td>\n",
              "      <td>0.06</td>\n",
              "      <td>0.00</td>\n",
              "      <td>NaN</td>\n",
              "      <td>NaN</td>\n",
              "      <td>NaN</td>\n",
              "    </tr>\n",
              "    <tr>\n",
              "      <th>12880</th>\n",
              "      <td>Jewel Link Chronicles: Mountains of Madness</td>\n",
              "      <td>DS</td>\n",
              "      <td>NaN</td>\n",
              "      <td>Puzzle</td>\n",
              "      <td>0.00</td>\n",
              "      <td>0.05</td>\n",
              "      <td>0.00</td>\n",
              "      <td>0.01</td>\n",
              "      <td>NaN</td>\n",
              "      <td>tbd</td>\n",
              "      <td>E10+</td>\n",
              "    </tr>\n",
              "    <tr>\n",
              "      <th>13060</th>\n",
              "      <td>Captain America: Super Soldier</td>\n",
              "      <td>DS</td>\n",
              "      <td>NaN</td>\n",
              "      <td>Action</td>\n",
              "      <td>0.05</td>\n",
              "      <td>0.00</td>\n",
              "      <td>0.00</td>\n",
              "      <td>0.00</td>\n",
              "      <td>NaN</td>\n",
              "      <td>NaN</td>\n",
              "      <td>NaN</td>\n",
              "    </tr>\n",
              "    <tr>\n",
              "      <th>13142</th>\n",
              "      <td>GRID</td>\n",
              "      <td>DS</td>\n",
              "      <td>NaN</td>\n",
              "      <td>Racing</td>\n",
              "      <td>0.04</td>\n",
              "      <td>0.00</td>\n",
              "      <td>0.00</td>\n",
              "      <td>0.00</td>\n",
              "      <td>79.0</td>\n",
              "      <td>8.1</td>\n",
              "      <td>E</td>\n",
              "    </tr>\n",
              "    <tr>\n",
              "      <th>14126</th>\n",
              "      <td>Housekeeping</td>\n",
              "      <td>DS</td>\n",
              "      <td>NaN</td>\n",
              "      <td>Action</td>\n",
              "      <td>0.00</td>\n",
              "      <td>0.00</td>\n",
              "      <td>0.04</td>\n",
              "      <td>0.00</td>\n",
              "      <td>NaN</td>\n",
              "      <td>NaN</td>\n",
              "      <td>NaN</td>\n",
              "    </tr>\n",
              "    <tr>\n",
              "      <th>14350</th>\n",
              "      <td>Bikkuriman Daijiten</td>\n",
              "      <td>DS</td>\n",
              "      <td>NaN</td>\n",
              "      <td>Misc</td>\n",
              "      <td>0.00</td>\n",
              "      <td>0.00</td>\n",
              "      <td>0.03</td>\n",
              "      <td>0.00</td>\n",
              "      <td>NaN</td>\n",
              "      <td>NaN</td>\n",
              "      <td>NaN</td>\n",
              "    </tr>\n",
              "    <tr>\n",
              "      <th>15119</th>\n",
              "      <td>Legacy of Ys: Books I &amp; II</td>\n",
              "      <td>DS</td>\n",
              "      <td>NaN</td>\n",
              "      <td>Role-Playing</td>\n",
              "      <td>0.02</td>\n",
              "      <td>0.00</td>\n",
              "      <td>0.00</td>\n",
              "      <td>0.00</td>\n",
              "      <td>NaN</td>\n",
              "      <td>NaN</td>\n",
              "      <td>NaN</td>\n",
              "    </tr>\n",
              "    <tr>\n",
              "      <th>15292</th>\n",
              "      <td>Steal Princess</td>\n",
              "      <td>DS</td>\n",
              "      <td>NaN</td>\n",
              "      <td>Platform</td>\n",
              "      <td>0.02</td>\n",
              "      <td>0.00</td>\n",
              "      <td>0.00</td>\n",
              "      <td>0.00</td>\n",
              "      <td>60.0</td>\n",
              "      <td>tbd</td>\n",
              "      <td>E10+</td>\n",
              "    </tr>\n",
              "    <tr>\n",
              "      <th>15535</th>\n",
              "      <td>Runaway: A Twist of Fate</td>\n",
              "      <td>DS</td>\n",
              "      <td>NaN</td>\n",
              "      <td>Adventure</td>\n",
              "      <td>0.00</td>\n",
              "      <td>0.02</td>\n",
              "      <td>0.00</td>\n",
              "      <td>0.00</td>\n",
              "      <td>66.0</td>\n",
              "      <td>NaN</td>\n",
              "      <td>T</td>\n",
              "    </tr>\n",
              "    <tr>\n",
              "      <th>15704</th>\n",
              "      <td>Writing and Speaking Beautiful Japanese DS</td>\n",
              "      <td>DS</td>\n",
              "      <td>NaN</td>\n",
              "      <td>Misc</td>\n",
              "      <td>0.00</td>\n",
              "      <td>0.00</td>\n",
              "      <td>0.02</td>\n",
              "      <td>0.00</td>\n",
              "      <td>NaN</td>\n",
              "      <td>NaN</td>\n",
              "      <td>NaN</td>\n",
              "    </tr>\n",
              "    <tr>\n",
              "      <th>15795</th>\n",
              "      <td>Shonen Jump's Yu-Gi-Oh! GX Card Almanac</td>\n",
              "      <td>DS</td>\n",
              "      <td>NaN</td>\n",
              "      <td>Misc</td>\n",
              "      <td>0.00</td>\n",
              "      <td>0.00</td>\n",
              "      <td>0.02</td>\n",
              "      <td>0.00</td>\n",
              "      <td>NaN</td>\n",
              "      <td>NaN</td>\n",
              "      <td>NaN</td>\n",
              "    </tr>\n",
              "    <tr>\n",
              "      <th>15998</th>\n",
              "      <td>Jet Impulse</td>\n",
              "      <td>DS</td>\n",
              "      <td>NaN</td>\n",
              "      <td>Simulation</td>\n",
              "      <td>0.00</td>\n",
              "      <td>0.00</td>\n",
              "      <td>0.02</td>\n",
              "      <td>0.00</td>\n",
              "      <td>NaN</td>\n",
              "      <td>NaN</td>\n",
              "      <td>NaN</td>\n",
              "    </tr>\n",
              "    <tr>\n",
              "      <th>16017</th>\n",
              "      <td>Dream Dancer</td>\n",
              "      <td>DS</td>\n",
              "      <td>NaN</td>\n",
              "      <td>Misc</td>\n",
              "      <td>0.01</td>\n",
              "      <td>0.00</td>\n",
              "      <td>0.00</td>\n",
              "      <td>0.00</td>\n",
              "      <td>NaN</td>\n",
              "      <td>tbd</td>\n",
              "      <td>E</td>\n",
              "    </tr>\n",
              "    <tr>\n",
              "      <th>16288</th>\n",
              "      <td>Shorts</td>\n",
              "      <td>DS</td>\n",
              "      <td>NaN</td>\n",
              "      <td>Platform</td>\n",
              "      <td>0.01</td>\n",
              "      <td>0.00</td>\n",
              "      <td>0.00</td>\n",
              "      <td>0.00</td>\n",
              "      <td>NaN</td>\n",
              "      <td>tbd</td>\n",
              "      <td>E10+</td>\n",
              "    </tr>\n",
              "  </tbody>\n",
              "</table>\n",
              "</div>"
            ],
            "text/plain": [
              "                                                   name platform  \\\n",
              "3081                       LEGO Harry Potter: Years 5-7       DS   \n",
              "3289                         Advance Wars: Days of Ruin       DS   \n",
              "5443                                        Bejeweled 3       DS   \n",
              "5932                                    Shrek the Third       DS   \n",
              "9664                  Charm Girls Club: My Fashion Mall       DS   \n",
              "9855                          The Daring Game for Girls       DS   \n",
              "10486            Atsumare! Power Pro Kun no DS Koushien       DS   \n",
              "10612                          My Healthy Cooking Coach       DS   \n",
              "10686                                    Happy Feet Two       DS   \n",
              "10764                         Luminous Arc 2 (JP sales)       DS   \n",
              "10837                                  Egg Monster Hero       DS   \n",
              "11338                 Charm Girls Club: My Fashion Show       DS   \n",
              "11790  Mega Man Battle Network: Operation Shooting Star       DS   \n",
              "12003                                           Tornado       DS   \n",
              "12241                          Alex Rider: Stormbreaker       DS   \n",
              "12524                              Chou Soujuu Mecha MG       DS   \n",
              "12880       Jewel Link Chronicles: Mountains of Madness       DS   \n",
              "13060                    Captain America: Super Soldier       DS   \n",
              "13142                                              GRID       DS   \n",
              "14126                                      Housekeeping       DS   \n",
              "14350                               Bikkuriman Daijiten       DS   \n",
              "15119                        Legacy of Ys: Books I & II       DS   \n",
              "15292                                    Steal Princess       DS   \n",
              "15535                          Runaway: A Twist of Fate       DS   \n",
              "15704        Writing and Speaking Beautiful Japanese DS       DS   \n",
              "15795           Shonen Jump's Yu-Gi-Oh! GX Card Almanac       DS   \n",
              "15998                                       Jet Impulse       DS   \n",
              "16017                                      Dream Dancer       DS   \n",
              "16288                                            Shorts       DS   \n",
              "\n",
              "       year_of_release         genre  na_sales  eu_sales  jp_sales  \\\n",
              "3081               NaN        Action      0.34      0.25      0.00   \n",
              "3289               NaN      Strategy      0.43      0.12      0.00   \n",
              "5443               NaN        Puzzle      0.29      0.02      0.00   \n",
              "5932               NaN        Action      0.26      0.01      0.00   \n",
              "9664               NaN    Simulation      0.12      0.00      0.00   \n",
              "9855               NaN     Adventure      0.11      0.00      0.00   \n",
              "10486              NaN        Sports      0.00      0.00      0.10   \n",
              "10612              NaN    Simulation      0.09      0.00      0.00   \n",
              "10686              NaN        Action      0.08      0.01      0.00   \n",
              "10764              NaN  Role-Playing      0.00      0.00      0.10   \n",
              "10837              NaN  Role-Playing      0.00      0.00      0.09   \n",
              "11338              NaN    Simulation      0.08      0.00      0.00   \n",
              "11790              NaN  Role-Playing      0.00      0.00      0.07   \n",
              "12003              NaN        Action      0.07      0.00      0.00   \n",
              "12241              NaN        Action      0.06      0.00      0.00   \n",
              "12524              NaN    Simulation      0.00      0.00      0.06   \n",
              "12880              NaN        Puzzle      0.00      0.05      0.00   \n",
              "13060              NaN        Action      0.05      0.00      0.00   \n",
              "13142              NaN        Racing      0.04      0.00      0.00   \n",
              "14126              NaN        Action      0.00      0.00      0.04   \n",
              "14350              NaN          Misc      0.00      0.00      0.03   \n",
              "15119              NaN  Role-Playing      0.02      0.00      0.00   \n",
              "15292              NaN      Platform      0.02      0.00      0.00   \n",
              "15535              NaN     Adventure      0.00      0.02      0.00   \n",
              "15704              NaN          Misc      0.00      0.00      0.02   \n",
              "15795              NaN          Misc      0.00      0.00      0.02   \n",
              "15998              NaN    Simulation      0.00      0.00      0.02   \n",
              "16017              NaN          Misc      0.01      0.00      0.00   \n",
              "16288              NaN      Platform      0.01      0.00      0.00   \n",
              "\n",
              "       other_sales  critic_score user_score rating  \n",
              "3081          0.07          69.0        tbd   E10+  \n",
              "3289          0.05          86.0        8.7   E10+  \n",
              "5443          0.02          75.0        tbd      E  \n",
              "5932          0.02          70.0        6.5      E  \n",
              "9664          0.01           NaN        tbd      E  \n",
              "9855          0.01           NaN        tbd      E  \n",
              "10486         0.00           NaN        NaN    NaN  \n",
              "10612         0.01           NaN        tbd      E  \n",
              "10686         0.01           NaN        tbd      E  \n",
              "10764         0.00           NaN        NaN    NaN  \n",
              "10837         0.00           NaN        NaN      E  \n",
              "11338         0.01           NaN        tbd      E  \n",
              "11790         0.00           NaN        NaN    NaN  \n",
              "12003         0.00          44.0        tbd      E  \n",
              "12241         0.00          48.0        6.1      T  \n",
              "12524         0.00           NaN        NaN    NaN  \n",
              "12880         0.01           NaN        tbd   E10+  \n",
              "13060         0.00           NaN        NaN    NaN  \n",
              "13142         0.00          79.0        8.1      E  \n",
              "14126         0.00           NaN        NaN    NaN  \n",
              "14350         0.00           NaN        NaN    NaN  \n",
              "15119         0.00           NaN        NaN    NaN  \n",
              "15292         0.00          60.0        tbd   E10+  \n",
              "15535         0.00          66.0        NaN      T  \n",
              "15704         0.00           NaN        NaN    NaN  \n",
              "15795         0.00           NaN        NaN    NaN  \n",
              "15998         0.00           NaN        NaN    NaN  \n",
              "16017         0.00           NaN        tbd      E  \n",
              "16288         0.00           NaN        tbd   E10+  "
            ]
          },
          "execution_count": 110,
          "metadata": {},
          "output_type": "execute_result"
        }
      ],
      "source": [
        "games[(games['year_of_release'].isna()) & (games['platform'] == 'DS')]"
      ]
    },
    {
      "cell_type": "code",
      "execution_count": null,
      "metadata": {
        "id": "AKJ-QjsMHkPj"
      },
      "outputs": [],
      "source": [
        "games.loc[3081, 'year_of_release'] = 2011\n",
        "games.loc[3289, 'year_of_release'] = 2008\n",
        "games.loc[5443, 'year_of_release'] = 2011\n",
        "games.loc[5932, 'year_of_release'] = 2007\n",
        "games.loc[9664, 'year_of_release'] = 2009\n",
        "games.loc[9855, 'year_of_release'] = 2010\n",
        "games.loc[10486, 'year_of_release'] = 2006\n",
        "games.loc[10612, 'year_of_release'] = 2008\n",
        "games.loc[10686, 'year_of_release'] = 2011\n",
        "games.loc[10764, 'year_of_release'] = 2008\n",
        "games.loc[10837, 'year_of_release'] = 2005\n",
        "games.loc[11338, 'year_of_release'] = 2009\n",
        "games.loc[11790, 'year_of_release'] = 2009\n",
        "games.loc[12003, 'year_of_release'] = 2008\n",
        "games.loc[12241, 'year_of_release'] = 2006\n",
        "games.loc[12524, 'year_of_release'] = 2006\n",
        "games.loc[12880, 'year_of_release'] = 2012\n",
        "games.loc[13060, 'year_of_release'] = 2011\n",
        "games.loc[13142, 'year_of_release'] = 2008\n",
        "games.loc[14126, 'year_of_release'] = 2007\n",
        "games.loc[14350, 'year_of_release'] = 2007\n",
        "games.loc[15119, 'year_of_release'] = 2009\n",
        "games.loc[15292, 'year_of_release'] = 2008\n",
        "games.loc[15535, 'year_of_release'] = 2009\n",
        "games.loc[15704, 'year_of_release'] = 2008\n",
        "games.loc[15795, 'year_of_release'] = 2007\n",
        "games.loc[15998, 'year_of_release'] = 2007\n",
        "games.loc[16017, 'year_of_release'] = 2009\n",
        "games.loc[16288, 'year_of_release'] = 2009"
      ]
    },
    {
      "cell_type": "code",
      "execution_count": null,
      "metadata": {
        "id": "VR46LDAMHkPj",
        "outputId": "1573c518-a28f-4941-9f8b-19dd00fbc8e4"
      },
      "outputs": [
        {
          "data": {
            "text/html": [
              "<div>\n",
              "<style scoped>\n",
              "    .dataframe tbody tr th:only-of-type {\n",
              "        vertical-align: middle;\n",
              "    }\n",
              "\n",
              "    .dataframe tbody tr th {\n",
              "        vertical-align: top;\n",
              "    }\n",
              "\n",
              "    .dataframe thead th {\n",
              "        text-align: right;\n",
              "    }\n",
              "</style>\n",
              "<table border=\"1\" class=\"dataframe\">\n",
              "  <thead>\n",
              "    <tr style=\"text-align: right;\">\n",
              "      <th></th>\n",
              "      <th>name</th>\n",
              "      <th>platform</th>\n",
              "      <th>year_of_release</th>\n",
              "      <th>genre</th>\n",
              "      <th>na_sales</th>\n",
              "      <th>eu_sales</th>\n",
              "      <th>jp_sales</th>\n",
              "      <th>other_sales</th>\n",
              "      <th>critic_score</th>\n",
              "      <th>user_score</th>\n",
              "      <th>rating</th>\n",
              "    </tr>\n",
              "  </thead>\n",
              "  <tbody>\n",
              "    <tr>\n",
              "      <th>657</th>\n",
              "      <td>Frogger's Adventures: Temple of the Frog</td>\n",
              "      <td>GBA</td>\n",
              "      <td>NaN</td>\n",
              "      <td>Adventure</td>\n",
              "      <td>2.15</td>\n",
              "      <td>0.18</td>\n",
              "      <td>0.00</td>\n",
              "      <td>0.07</td>\n",
              "      <td>73.0</td>\n",
              "      <td>tbd</td>\n",
              "      <td>E</td>\n",
              "    </tr>\n",
              "    <tr>\n",
              "      <th>2773</th>\n",
              "      <td>WarioWare: Twisted!</td>\n",
              "      <td>GBA</td>\n",
              "      <td>NaN</td>\n",
              "      <td>Puzzle</td>\n",
              "      <td>0.16</td>\n",
              "      <td>0.06</td>\n",
              "      <td>0.50</td>\n",
              "      <td>0.02</td>\n",
              "      <td>NaN</td>\n",
              "      <td>NaN</td>\n",
              "      <td>NaN</td>\n",
              "    </tr>\n",
              "    <tr>\n",
              "      <th>3024</th>\n",
              "      <td>The Chronicles of Narnia: The Lion, The Witch ...</td>\n",
              "      <td>GBA</td>\n",
              "      <td>NaN</td>\n",
              "      <td>Action</td>\n",
              "      <td>0.48</td>\n",
              "      <td>0.18</td>\n",
              "      <td>0.00</td>\n",
              "      <td>0.01</td>\n",
              "      <td>66.0</td>\n",
              "      <td>6.8</td>\n",
              "      <td>E</td>\n",
              "    </tr>\n",
              "    <tr>\n",
              "      <th>5194</th>\n",
              "      <td>Cubix Robots for Everyone: Clash 'n' Bash</td>\n",
              "      <td>GBA</td>\n",
              "      <td>NaN</td>\n",
              "      <td>Action</td>\n",
              "      <td>0.26</td>\n",
              "      <td>0.10</td>\n",
              "      <td>0.00</td>\n",
              "      <td>0.01</td>\n",
              "      <td>NaN</td>\n",
              "      <td>NaN</td>\n",
              "      <td>NaN</td>\n",
              "    </tr>\n",
              "    <tr>\n",
              "      <th>6255</th>\n",
              "      <td>The Legend of Zelda: The Minish Cap(weekly JP ...</td>\n",
              "      <td>GBA</td>\n",
              "      <td>NaN</td>\n",
              "      <td>Action</td>\n",
              "      <td>0.00</td>\n",
              "      <td>0.00</td>\n",
              "      <td>0.27</td>\n",
              "      <td>0.01</td>\n",
              "      <td>NaN</td>\n",
              "      <td>NaN</td>\n",
              "      <td>NaN</td>\n",
              "    </tr>\n",
              "    <tr>\n",
              "      <th>8212</th>\n",
              "      <td>Teen Titans</td>\n",
              "      <td>GBA</td>\n",
              "      <td>NaN</td>\n",
              "      <td>Action</td>\n",
              "      <td>0.13</td>\n",
              "      <td>0.05</td>\n",
              "      <td>0.00</td>\n",
              "      <td>0.00</td>\n",
              "      <td>61.0</td>\n",
              "      <td>tbd</td>\n",
              "      <td>E10+</td>\n",
              "    </tr>\n",
              "    <tr>\n",
              "      <th>9293</th>\n",
              "      <td>Disney's Cinderella: Magical Dreams</td>\n",
              "      <td>GBA</td>\n",
              "      <td>NaN</td>\n",
              "      <td>Platform</td>\n",
              "      <td>0.10</td>\n",
              "      <td>0.04</td>\n",
              "      <td>0.00</td>\n",
              "      <td>0.00</td>\n",
              "      <td>69.0</td>\n",
              "      <td>tbd</td>\n",
              "      <td>E</td>\n",
              "    </tr>\n",
              "    <tr>\n",
              "      <th>11119</th>\n",
              "      <td>Super Puzzle Fighter II</td>\n",
              "      <td>GBA</td>\n",
              "      <td>NaN</td>\n",
              "      <td>Puzzle</td>\n",
              "      <td>0.06</td>\n",
              "      <td>0.02</td>\n",
              "      <td>0.00</td>\n",
              "      <td>0.00</td>\n",
              "      <td>83.0</td>\n",
              "      <td>9.5</td>\n",
              "      <td>E</td>\n",
              "    </tr>\n",
              "    <tr>\n",
              "      <th>12970</th>\n",
              "      <td>Drill Dozer</td>\n",
              "      <td>GBA</td>\n",
              "      <td>NaN</td>\n",
              "      <td>Platform</td>\n",
              "      <td>0.04</td>\n",
              "      <td>0.01</td>\n",
              "      <td>0.00</td>\n",
              "      <td>0.00</td>\n",
              "      <td>81.0</td>\n",
              "      <td>8.3</td>\n",
              "      <td>E</td>\n",
              "    </tr>\n",
              "    <tr>\n",
              "      <th>14210</th>\n",
              "      <td>Sabre Wulf</td>\n",
              "      <td>GBA</td>\n",
              "      <td>NaN</td>\n",
              "      <td>Platform</td>\n",
              "      <td>0.02</td>\n",
              "      <td>0.01</td>\n",
              "      <td>0.00</td>\n",
              "      <td>0.00</td>\n",
              "      <td>75.0</td>\n",
              "      <td>8</td>\n",
              "      <td>E</td>\n",
              "    </tr>\n",
              "    <tr>\n",
              "      <th>14769</th>\n",
              "      <td>Super Duper Sumos</td>\n",
              "      <td>GBA</td>\n",
              "      <td>NaN</td>\n",
              "      <td>Action</td>\n",
              "      <td>0.02</td>\n",
              "      <td>0.01</td>\n",
              "      <td>0.00</td>\n",
              "      <td>0.00</td>\n",
              "      <td>57.0</td>\n",
              "      <td>tbd</td>\n",
              "      <td>E</td>\n",
              "    </tr>\n",
              "  </tbody>\n",
              "</table>\n",
              "</div>"
            ],
            "text/plain": [
              "                                                    name platform  \\\n",
              "657             Frogger's Adventures: Temple of the Frog      GBA   \n",
              "2773                                 WarioWare: Twisted!      GBA   \n",
              "3024   The Chronicles of Narnia: The Lion, The Witch ...      GBA   \n",
              "5194           Cubix Robots for Everyone: Clash 'n' Bash      GBA   \n",
              "6255   The Legend of Zelda: The Minish Cap(weekly JP ...      GBA   \n",
              "8212                                         Teen Titans      GBA   \n",
              "9293                 Disney's Cinderella: Magical Dreams      GBA   \n",
              "11119                            Super Puzzle Fighter II      GBA   \n",
              "12970                                        Drill Dozer      GBA   \n",
              "14210                                         Sabre Wulf      GBA   \n",
              "14769                                  Super Duper Sumos      GBA   \n",
              "\n",
              "       year_of_release      genre  na_sales  eu_sales  jp_sales  other_sales  \\\n",
              "657                NaN  Adventure      2.15      0.18      0.00         0.07   \n",
              "2773               NaN     Puzzle      0.16      0.06      0.50         0.02   \n",
              "3024               NaN     Action      0.48      0.18      0.00         0.01   \n",
              "5194               NaN     Action      0.26      0.10      0.00         0.01   \n",
              "6255               NaN     Action      0.00      0.00      0.27         0.01   \n",
              "8212               NaN     Action      0.13      0.05      0.00         0.00   \n",
              "9293               NaN   Platform      0.10      0.04      0.00         0.00   \n",
              "11119              NaN     Puzzle      0.06      0.02      0.00         0.00   \n",
              "12970              NaN   Platform      0.04      0.01      0.00         0.00   \n",
              "14210              NaN   Platform      0.02      0.01      0.00         0.00   \n",
              "14769              NaN     Action      0.02      0.01      0.00         0.00   \n",
              "\n",
              "       critic_score user_score rating  \n",
              "657            73.0        tbd      E  \n",
              "2773            NaN        NaN    NaN  \n",
              "3024           66.0        6.8      E  \n",
              "5194            NaN        NaN    NaN  \n",
              "6255            NaN        NaN    NaN  \n",
              "8212           61.0        tbd   E10+  \n",
              "9293           69.0        tbd      E  \n",
              "11119          83.0        9.5      E  \n",
              "12970          81.0        8.3      E  \n",
              "14210          75.0          8      E  \n",
              "14769          57.0        tbd      E  "
            ]
          },
          "execution_count": 112,
          "metadata": {},
          "output_type": "execute_result"
        }
      ],
      "source": [
        "games[(games['year_of_release'].isna()) & (games['platform'] == 'GBA')]"
      ]
    },
    {
      "cell_type": "code",
      "execution_count": null,
      "metadata": {
        "id": "UUW9CI3fHkPj"
      },
      "outputs": [],
      "source": [
        "games.loc[657, 'year_of_release'] = 2001\n",
        "games.loc[2773, 'year_of_release'] = 2004\n",
        "games.loc[3024, 'year_of_release'] = 2004\n",
        "games.loc[5194, 'year_of_release'] = 2002\n",
        "games.loc[6255, 'year_of_release'] = 2004\n",
        "games.loc[8212, 'year_of_release'] = 2005\n",
        "games.loc[9293, 'year_of_release'] = 2005\n",
        "games.loc[11119, 'year_of_release'] = 1996\n",
        "games.loc[12970, 'year_of_release'] = 2005\n",
        "games.loc[14210, 'year_of_release'] = 2004\n",
        "games.loc[14769, 'year_of_release'] = 2003"
      ]
    },
    {
      "cell_type": "code",
      "execution_count": null,
      "metadata": {
        "id": "ee-Z0X_THkPj",
        "outputId": "8331c43a-5018-45f2-99c4-b691b74a1b03"
      },
      "outputs": [
        {
          "data": {
            "text/html": [
              "<div>\n",
              "<style scoped>\n",
              "    .dataframe tbody tr th:only-of-type {\n",
              "        vertical-align: middle;\n",
              "    }\n",
              "\n",
              "    .dataframe tbody tr th {\n",
              "        vertical-align: top;\n",
              "    }\n",
              "\n",
              "    .dataframe thead th {\n",
              "        text-align: right;\n",
              "    }\n",
              "</style>\n",
              "<table border=\"1\" class=\"dataframe\">\n",
              "  <thead>\n",
              "    <tr style=\"text-align: right;\">\n",
              "      <th></th>\n",
              "      <th>name</th>\n",
              "      <th>platform</th>\n",
              "      <th>year_of_release</th>\n",
              "      <th>genre</th>\n",
              "      <th>na_sales</th>\n",
              "      <th>eu_sales</th>\n",
              "      <th>jp_sales</th>\n",
              "      <th>other_sales</th>\n",
              "      <th>critic_score</th>\n",
              "      <th>user_score</th>\n",
              "      <th>rating</th>\n",
              "    </tr>\n",
              "  </thead>\n",
              "  <tbody>\n",
              "    <tr>\n",
              "      <th>1131</th>\n",
              "      <td>Call of Duty: Black Ops</td>\n",
              "      <td>PC</td>\n",
              "      <td>NaN</td>\n",
              "      <td>Shooter</td>\n",
              "      <td>0.58</td>\n",
              "      <td>0.81</td>\n",
              "      <td>0.0</td>\n",
              "      <td>0.23</td>\n",
              "      <td>81.0</td>\n",
              "      <td>5.2</td>\n",
              "      <td>M</td>\n",
              "    </tr>\n",
              "    <tr>\n",
              "      <th>4648</th>\n",
              "      <td>TERA</td>\n",
              "      <td>PC</td>\n",
              "      <td>NaN</td>\n",
              "      <td>Role-Playing</td>\n",
              "      <td>0.25</td>\n",
              "      <td>0.12</td>\n",
              "      <td>0.0</td>\n",
              "      <td>0.05</td>\n",
              "      <td>77.0</td>\n",
              "      <td>6.8</td>\n",
              "      <td>M</td>\n",
              "    </tr>\n",
              "    <tr>\n",
              "      <th>6818</th>\n",
              "      <td>BioShock 2</td>\n",
              "      <td>PC</td>\n",
              "      <td>NaN</td>\n",
              "      <td>Shooter</td>\n",
              "      <td>0.02</td>\n",
              "      <td>0.19</td>\n",
              "      <td>0.0</td>\n",
              "      <td>0.04</td>\n",
              "      <td>88.0</td>\n",
              "      <td>8</td>\n",
              "      <td>M</td>\n",
              "    </tr>\n",
              "    <tr>\n",
              "      <th>7210</th>\n",
              "      <td>LEGO Harry Potter: Years 5-7</td>\n",
              "      <td>PC</td>\n",
              "      <td>NaN</td>\n",
              "      <td>Action</td>\n",
              "      <td>0.05</td>\n",
              "      <td>0.14</td>\n",
              "      <td>0.0</td>\n",
              "      <td>0.03</td>\n",
              "      <td>80.0</td>\n",
              "      <td>8.5</td>\n",
              "      <td>E10+</td>\n",
              "    </tr>\n",
              "    <tr>\n",
              "      <th>7724</th>\n",
              "      <td>Dead Space 3</td>\n",
              "      <td>PC</td>\n",
              "      <td>NaN</td>\n",
              "      <td>Action</td>\n",
              "      <td>0.02</td>\n",
              "      <td>0.16</td>\n",
              "      <td>0.0</td>\n",
              "      <td>0.02</td>\n",
              "      <td>78.0</td>\n",
              "      <td>6</td>\n",
              "      <td>M</td>\n",
              "    </tr>\n",
              "    <tr>\n",
              "      <th>7735</th>\n",
              "      <td>Test Drive Unlimited 2</td>\n",
              "      <td>PC</td>\n",
              "      <td>NaN</td>\n",
              "      <td>Racing</td>\n",
              "      <td>0.05</td>\n",
              "      <td>0.11</td>\n",
              "      <td>0.0</td>\n",
              "      <td>0.03</td>\n",
              "      <td>72.0</td>\n",
              "      <td>5.7</td>\n",
              "      <td>T</td>\n",
              "    </tr>\n",
              "    <tr>\n",
              "      <th>9485</th>\n",
              "      <td>Street Fighter IV</td>\n",
              "      <td>PC</td>\n",
              "      <td>NaN</td>\n",
              "      <td>Fighting</td>\n",
              "      <td>0.07</td>\n",
              "      <td>0.05</td>\n",
              "      <td>0.0</td>\n",
              "      <td>0.02</td>\n",
              "      <td>91.0</td>\n",
              "      <td>8</td>\n",
              "      <td>T</td>\n",
              "    </tr>\n",
              "    <tr>\n",
              "      <th>9706</th>\n",
              "      <td>Rocksmith</td>\n",
              "      <td>PC</td>\n",
              "      <td>NaN</td>\n",
              "      <td>Misc</td>\n",
              "      <td>0.06</td>\n",
              "      <td>0.04</td>\n",
              "      <td>0.0</td>\n",
              "      <td>0.01</td>\n",
              "      <td>78.0</td>\n",
              "      <td>8.1</td>\n",
              "      <td>T</td>\n",
              "    </tr>\n",
              "    <tr>\n",
              "      <th>11954</th>\n",
              "      <td>Dead Island: Riptide</td>\n",
              "      <td>PC</td>\n",
              "      <td>NaN</td>\n",
              "      <td>Action</td>\n",
              "      <td>0.00</td>\n",
              "      <td>0.07</td>\n",
              "      <td>0.0</td>\n",
              "      <td>0.01</td>\n",
              "      <td>61.0</td>\n",
              "      <td>6</td>\n",
              "      <td>M</td>\n",
              "    </tr>\n",
              "    <tr>\n",
              "      <th>13564</th>\n",
              "      <td>RollerCoaster Tycoon</td>\n",
              "      <td>PC</td>\n",
              "      <td>NaN</td>\n",
              "      <td>Strategy</td>\n",
              "      <td>0.02</td>\n",
              "      <td>0.02</td>\n",
              "      <td>0.0</td>\n",
              "      <td>0.01</td>\n",
              "      <td>NaN</td>\n",
              "      <td>NaN</td>\n",
              "      <td>E</td>\n",
              "    </tr>\n",
              "    <tr>\n",
              "      <th>13672</th>\n",
              "      <td>Clockwork Empires</td>\n",
              "      <td>PC</td>\n",
              "      <td>NaN</td>\n",
              "      <td>Strategy</td>\n",
              "      <td>0.00</td>\n",
              "      <td>0.04</td>\n",
              "      <td>0.0</td>\n",
              "      <td>0.00</td>\n",
              "      <td>58.0</td>\n",
              "      <td>3.8</td>\n",
              "      <td>RP</td>\n",
              "    </tr>\n",
              "    <tr>\n",
              "      <th>13781</th>\n",
              "      <td>GRID</td>\n",
              "      <td>PC</td>\n",
              "      <td>NaN</td>\n",
              "      <td>Racing</td>\n",
              "      <td>0.00</td>\n",
              "      <td>0.03</td>\n",
              "      <td>0.0</td>\n",
              "      <td>0.01</td>\n",
              "      <td>87.0</td>\n",
              "      <td>7.9</td>\n",
              "      <td>E</td>\n",
              "    </tr>\n",
              "    <tr>\n",
              "      <th>14746</th>\n",
              "      <td>Battle vs. Chess</td>\n",
              "      <td>PC</td>\n",
              "      <td>NaN</td>\n",
              "      <td>Misc</td>\n",
              "      <td>0.00</td>\n",
              "      <td>0.02</td>\n",
              "      <td>0.0</td>\n",
              "      <td>0.00</td>\n",
              "      <td>69.0</td>\n",
              "      <td>5.9</td>\n",
              "      <td>T</td>\n",
              "    </tr>\n",
              "    <tr>\n",
              "      <th>16180</th>\n",
              "      <td>WRC: FIA World Rally Championship</td>\n",
              "      <td>PC</td>\n",
              "      <td>NaN</td>\n",
              "      <td>Racing</td>\n",
              "      <td>0.00</td>\n",
              "      <td>0.01</td>\n",
              "      <td>0.0</td>\n",
              "      <td>0.00</td>\n",
              "      <td>65.0</td>\n",
              "      <td>NaN</td>\n",
              "      <td>RP</td>\n",
              "    </tr>\n",
              "    <tr>\n",
              "      <th>16277</th>\n",
              "      <td>Homeworld Remastered Collection</td>\n",
              "      <td>PC</td>\n",
              "      <td>NaN</td>\n",
              "      <td>Strategy</td>\n",
              "      <td>0.00</td>\n",
              "      <td>0.01</td>\n",
              "      <td>0.0</td>\n",
              "      <td>0.00</td>\n",
              "      <td>86.0</td>\n",
              "      <td>8.2</td>\n",
              "      <td>E10+</td>\n",
              "    </tr>\n",
              "    <tr>\n",
              "      <th>16448</th>\n",
              "      <td>Inversion</td>\n",
              "      <td>PC</td>\n",
              "      <td>NaN</td>\n",
              "      <td>Shooter</td>\n",
              "      <td>0.01</td>\n",
              "      <td>0.00</td>\n",
              "      <td>0.0</td>\n",
              "      <td>0.00</td>\n",
              "      <td>59.0</td>\n",
              "      <td>6.7</td>\n",
              "      <td>M</td>\n",
              "    </tr>\n",
              "  </tbody>\n",
              "</table>\n",
              "</div>"
            ],
            "text/plain": [
              "                                    name platform  year_of_release  \\\n",
              "1131             Call of Duty: Black Ops       PC              NaN   \n",
              "4648                                TERA       PC              NaN   \n",
              "6818                          BioShock 2       PC              NaN   \n",
              "7210        LEGO Harry Potter: Years 5-7       PC              NaN   \n",
              "7724                        Dead Space 3       PC              NaN   \n",
              "7735              Test Drive Unlimited 2       PC              NaN   \n",
              "9485                   Street Fighter IV       PC              NaN   \n",
              "9706                           Rocksmith       PC              NaN   \n",
              "11954               Dead Island: Riptide       PC              NaN   \n",
              "13564               RollerCoaster Tycoon       PC              NaN   \n",
              "13672                  Clockwork Empires       PC              NaN   \n",
              "13781                               GRID       PC              NaN   \n",
              "14746                   Battle vs. Chess       PC              NaN   \n",
              "16180  WRC: FIA World Rally Championship       PC              NaN   \n",
              "16277    Homeworld Remastered Collection       PC              NaN   \n",
              "16448                          Inversion       PC              NaN   \n",
              "\n",
              "              genre  na_sales  eu_sales  jp_sales  other_sales  critic_score  \\\n",
              "1131        Shooter      0.58      0.81       0.0         0.23          81.0   \n",
              "4648   Role-Playing      0.25      0.12       0.0         0.05          77.0   \n",
              "6818        Shooter      0.02      0.19       0.0         0.04          88.0   \n",
              "7210         Action      0.05      0.14       0.0         0.03          80.0   \n",
              "7724         Action      0.02      0.16       0.0         0.02          78.0   \n",
              "7735         Racing      0.05      0.11       0.0         0.03          72.0   \n",
              "9485       Fighting      0.07      0.05       0.0         0.02          91.0   \n",
              "9706           Misc      0.06      0.04       0.0         0.01          78.0   \n",
              "11954        Action      0.00      0.07       0.0         0.01          61.0   \n",
              "13564      Strategy      0.02      0.02       0.0         0.01           NaN   \n",
              "13672      Strategy      0.00      0.04       0.0         0.00          58.0   \n",
              "13781        Racing      0.00      0.03       0.0         0.01          87.0   \n",
              "14746          Misc      0.00      0.02       0.0         0.00          69.0   \n",
              "16180        Racing      0.00      0.01       0.0         0.00          65.0   \n",
              "16277      Strategy      0.00      0.01       0.0         0.00          86.0   \n",
              "16448       Shooter      0.01      0.00       0.0         0.00          59.0   \n",
              "\n",
              "      user_score rating  \n",
              "1131         5.2      M  \n",
              "4648         6.8      M  \n",
              "6818           8      M  \n",
              "7210         8.5   E10+  \n",
              "7724           6      M  \n",
              "7735         5.7      T  \n",
              "9485           8      T  \n",
              "9706         8.1      T  \n",
              "11954          6      M  \n",
              "13564        NaN      E  \n",
              "13672        3.8     RP  \n",
              "13781        7.9      E  \n",
              "14746        5.9      T  \n",
              "16180        NaN     RP  \n",
              "16277        8.2   E10+  \n",
              "16448        6.7      M  "
            ]
          },
          "execution_count": 114,
          "metadata": {},
          "output_type": "execute_result"
        }
      ],
      "source": [
        "games[(games['year_of_release'].isna()) & (games['platform'] == 'PC')]"
      ]
    },
    {
      "cell_type": "code",
      "execution_count": null,
      "metadata": {
        "id": "Gmlp0SZrHkPj"
      },
      "outputs": [],
      "source": [
        "games.loc[1131, 'year_of_release'] = 2010\n",
        "games.loc[4648, 'year_of_release'] = 2011\n",
        "games.loc[6818, 'year_of_release'] = 2010\n",
        "games.loc[7210, 'year_of_release'] = 2011\n",
        "games.loc[7724, 'year_of_release'] = 2013\n",
        "games.loc[7735, 'year_of_release'] = 2011\n",
        "games.loc[9485, 'year_of_release'] = 2008\n",
        "games.loc[9706, 'year_of_release'] = 2011\n",
        "games.loc[11954, 'year_of_release'] = 2013\n",
        "games.loc[13564, 'year_of_release'] = 2018\n",
        "games.loc[13672, 'year_of_release'] = 2016\n",
        "games.loc[13781, 'year_of_release'] = 2008\n",
        "games.loc[14746, 'year_of_release'] = 2011\n",
        "games.loc[16180, 'year_of_release'] = 2010\n",
        "games.loc[16277, 'year_of_release'] = 2015\n",
        "games.loc[16448, 'year_of_release'] = 2012"
      ]
    },
    {
      "cell_type": "code",
      "execution_count": null,
      "metadata": {
        "id": "_gT8sAS-HkPk",
        "outputId": "2a050c0d-4da3-4e85-ca92-b772867430d6"
      },
      "outputs": [
        {
          "data": {
            "text/html": [
              "<div>\n",
              "<style scoped>\n",
              "    .dataframe tbody tr th:only-of-type {\n",
              "        vertical-align: middle;\n",
              "    }\n",
              "\n",
              "    .dataframe tbody tr th {\n",
              "        vertical-align: top;\n",
              "    }\n",
              "\n",
              "    .dataframe thead th {\n",
              "        text-align: right;\n",
              "    }\n",
              "</style>\n",
              "<table border=\"1\" class=\"dataframe\">\n",
              "  <thead>\n",
              "    <tr style=\"text-align: right;\">\n",
              "      <th></th>\n",
              "      <th>name</th>\n",
              "      <th>platform</th>\n",
              "      <th>year_of_release</th>\n",
              "      <th>genre</th>\n",
              "      <th>na_sales</th>\n",
              "      <th>eu_sales</th>\n",
              "      <th>jp_sales</th>\n",
              "      <th>other_sales</th>\n",
              "      <th>critic_score</th>\n",
              "      <th>user_score</th>\n",
              "      <th>rating</th>\n",
              "    </tr>\n",
              "  </thead>\n",
              "  <tbody>\n",
              "    <tr>\n",
              "      <th>1301</th>\n",
              "      <td>Triple Play 99</td>\n",
              "      <td>PS</td>\n",
              "      <td>NaN</td>\n",
              "      <td>Sports</td>\n",
              "      <td>0.81</td>\n",
              "      <td>0.55</td>\n",
              "      <td>0.00</td>\n",
              "      <td>0.10</td>\n",
              "      <td>NaN</td>\n",
              "      <td>NaN</td>\n",
              "      <td>NaN</td>\n",
              "    </tr>\n",
              "    <tr>\n",
              "      <th>1984</th>\n",
              "      <td>Legacy of Kain: Soul Reaver</td>\n",
              "      <td>PS</td>\n",
              "      <td>NaN</td>\n",
              "      <td>Action</td>\n",
              "      <td>0.58</td>\n",
              "      <td>0.40</td>\n",
              "      <td>0.00</td>\n",
              "      <td>0.07</td>\n",
              "      <td>91.0</td>\n",
              "      <td>9</td>\n",
              "      <td>T</td>\n",
              "    </tr>\n",
              "    <tr>\n",
              "      <th>5857</th>\n",
              "      <td>The Dukes of Hazzard II: Daisy Dukes It Out</td>\n",
              "      <td>PS</td>\n",
              "      <td>NaN</td>\n",
              "      <td>Racing</td>\n",
              "      <td>0.17</td>\n",
              "      <td>0.11</td>\n",
              "      <td>0.00</td>\n",
              "      <td>0.02</td>\n",
              "      <td>53.0</td>\n",
              "      <td>tbd</td>\n",
              "      <td>E</td>\n",
              "    </tr>\n",
              "    <tr>\n",
              "      <th>8150</th>\n",
              "      <td>Twisted Metal: Small Brawl</td>\n",
              "      <td>PS</td>\n",
              "      <td>NaN</td>\n",
              "      <td>Action</td>\n",
              "      <td>0.10</td>\n",
              "      <td>0.07</td>\n",
              "      <td>0.00</td>\n",
              "      <td>0.01</td>\n",
              "      <td>51.0</td>\n",
              "      <td>7.6</td>\n",
              "      <td>T</td>\n",
              "    </tr>\n",
              "    <tr>\n",
              "      <th>8547</th>\n",
              "      <td>Alone in the Dark: The New Nightmare</td>\n",
              "      <td>PS</td>\n",
              "      <td>NaN</td>\n",
              "      <td>Adventure</td>\n",
              "      <td>0.09</td>\n",
              "      <td>0.06</td>\n",
              "      <td>0.00</td>\n",
              "      <td>0.01</td>\n",
              "      <td>77.0</td>\n",
              "      <td>8.1</td>\n",
              "      <td>M</td>\n",
              "    </tr>\n",
              "    <tr>\n",
              "      <th>11092</th>\n",
              "      <td>Action Man-Operation Extreme</td>\n",
              "      <td>PS</td>\n",
              "      <td>NaN</td>\n",
              "      <td>Action</td>\n",
              "      <td>0.05</td>\n",
              "      <td>0.03</td>\n",
              "      <td>0.00</td>\n",
              "      <td>0.01</td>\n",
              "      <td>NaN</td>\n",
              "      <td>NaN</td>\n",
              "      <td>NaN</td>\n",
              "    </tr>\n",
              "    <tr>\n",
              "      <th>13711</th>\n",
              "      <td>B.L.U.E.: Legend of Water</td>\n",
              "      <td>PS</td>\n",
              "      <td>NaN</td>\n",
              "      <td>Adventure</td>\n",
              "      <td>0.00</td>\n",
              "      <td>0.00</td>\n",
              "      <td>0.04</td>\n",
              "      <td>0.00</td>\n",
              "      <td>NaN</td>\n",
              "      <td>NaN</td>\n",
              "      <td>NaN</td>\n",
              "    </tr>\n",
              "  </tbody>\n",
              "</table>\n",
              "</div>"
            ],
            "text/plain": [
              "                                              name platform  year_of_release  \\\n",
              "1301                                Triple Play 99       PS              NaN   \n",
              "1984                   Legacy of Kain: Soul Reaver       PS              NaN   \n",
              "5857   The Dukes of Hazzard II: Daisy Dukes It Out       PS              NaN   \n",
              "8150                    Twisted Metal: Small Brawl       PS              NaN   \n",
              "8547          Alone in the Dark: The New Nightmare       PS              NaN   \n",
              "11092                 Action Man-Operation Extreme       PS              NaN   \n",
              "13711                    B.L.U.E.: Legend of Water       PS              NaN   \n",
              "\n",
              "           genre  na_sales  eu_sales  jp_sales  other_sales  critic_score  \\\n",
              "1301      Sports      0.81      0.55      0.00         0.10           NaN   \n",
              "1984      Action      0.58      0.40      0.00         0.07          91.0   \n",
              "5857      Racing      0.17      0.11      0.00         0.02          53.0   \n",
              "8150      Action      0.10      0.07      0.00         0.01          51.0   \n",
              "8547   Adventure      0.09      0.06      0.00         0.01          77.0   \n",
              "11092     Action      0.05      0.03      0.00         0.01           NaN   \n",
              "13711  Adventure      0.00      0.00      0.04         0.00           NaN   \n",
              "\n",
              "      user_score rating  \n",
              "1301         NaN    NaN  \n",
              "1984           9      T  \n",
              "5857         tbd      E  \n",
              "8150         7.6      T  \n",
              "8547         8.1      M  \n",
              "11092        NaN    NaN  \n",
              "13711        NaN    NaN  "
            ]
          },
          "execution_count": 116,
          "metadata": {},
          "output_type": "execute_result"
        }
      ],
      "source": [
        "games[(games['year_of_release'].isna()) & (games['platform'] == 'PS')]"
      ]
    },
    {
      "cell_type": "code",
      "execution_count": null,
      "metadata": {
        "id": "NIum_ZKhHkPk"
      },
      "outputs": [],
      "source": [
        "games.loc[1301, 'year_of_release'] = 1998\n",
        "games.loc[1984, 'year_of_release'] = 1999\n",
        "games.loc[5857, 'year_of_release'] = 2000\n",
        "games.loc[8150, 'year_of_release'] = 2001\n",
        "games.loc[8547, 'year_of_release'] = 2001\n",
        "games.loc[11092, 'year_of_release'] = 2000\n",
        "games.loc[13711, 'year_of_release'] = 1998"
      ]
    },
    {
      "cell_type": "code",
      "execution_count": null,
      "metadata": {
        "id": "W8X3pKr5HkPk",
        "outputId": "91827256-a010-473a-b628-797af58a5641"
      },
      "outputs": [
        {
          "data": {
            "text/html": [
              "<div>\n",
              "<style scoped>\n",
              "    .dataframe tbody tr th:only-of-type {\n",
              "        vertical-align: middle;\n",
              "    }\n",
              "\n",
              "    .dataframe tbody tr th {\n",
              "        vertical-align: top;\n",
              "    }\n",
              "\n",
              "    .dataframe thead th {\n",
              "        text-align: right;\n",
              "    }\n",
              "</style>\n",
              "<table border=\"1\" class=\"dataframe\">\n",
              "  <thead>\n",
              "    <tr style=\"text-align: right;\">\n",
              "      <th></th>\n",
              "      <th>name</th>\n",
              "      <th>platform</th>\n",
              "      <th>year_of_release</th>\n",
              "      <th>genre</th>\n",
              "      <th>na_sales</th>\n",
              "      <th>eu_sales</th>\n",
              "      <th>jp_sales</th>\n",
              "      <th>other_sales</th>\n",
              "      <th>critic_score</th>\n",
              "      <th>user_score</th>\n",
              "      <th>rating</th>\n",
              "    </tr>\n",
              "  </thead>\n",
              "  <tbody>\n",
              "    <tr>\n",
              "      <th>1840</th>\n",
              "      <td>Rock Band</td>\n",
              "      <td>PS2</td>\n",
              "      <td>NaN</td>\n",
              "      <td>Misc</td>\n",
              "      <td>0.71</td>\n",
              "      <td>0.06</td>\n",
              "      <td>0.00</td>\n",
              "      <td>0.35</td>\n",
              "      <td>82.0</td>\n",
              "      <td>6.8</td>\n",
              "      <td>T</td>\n",
              "    </tr>\n",
              "    <tr>\n",
              "      <th>2108</th>\n",
              "      <td>Suikoden III</td>\n",
              "      <td>PS2</td>\n",
              "      <td>NaN</td>\n",
              "      <td>Role-Playing</td>\n",
              "      <td>0.29</td>\n",
              "      <td>0.23</td>\n",
              "      <td>0.38</td>\n",
              "      <td>0.08</td>\n",
              "      <td>86.0</td>\n",
              "      <td>7.7</td>\n",
              "      <td>T</td>\n",
              "    </tr>\n",
              "    <tr>\n",
              "      <th>2157</th>\n",
              "      <td>Wheel of Fortune</td>\n",
              "      <td>PS2</td>\n",
              "      <td>NaN</td>\n",
              "      <td>Misc</td>\n",
              "      <td>0.47</td>\n",
              "      <td>0.36</td>\n",
              "      <td>0.00</td>\n",
              "      <td>0.12</td>\n",
              "      <td>NaN</td>\n",
              "      <td>tbd</td>\n",
              "      <td>E</td>\n",
              "    </tr>\n",
              "    <tr>\n",
              "      <th>3187</th>\n",
              "      <td>Monster Hunter 2</td>\n",
              "      <td>PS2</td>\n",
              "      <td>NaN</td>\n",
              "      <td>Role-Playing</td>\n",
              "      <td>0.00</td>\n",
              "      <td>0.00</td>\n",
              "      <td>0.63</td>\n",
              "      <td>0.00</td>\n",
              "      <td>NaN</td>\n",
              "      <td>NaN</td>\n",
              "      <td>NaN</td>\n",
              "    </tr>\n",
              "    <tr>\n",
              "      <th>3459</th>\n",
              "      <td>NASCAR: Dirt to Daytona</td>\n",
              "      <td>PS2</td>\n",
              "      <td>NaN</td>\n",
              "      <td>Racing</td>\n",
              "      <td>0.28</td>\n",
              "      <td>0.22</td>\n",
              "      <td>0.00</td>\n",
              "      <td>0.07</td>\n",
              "      <td>84.0</td>\n",
              "      <td>8.8</td>\n",
              "      <td>E</td>\n",
              "    </tr>\n",
              "    <tr>\n",
              "      <th>4848</th>\n",
              "      <td>Harvest Moon: Save the Homeland</td>\n",
              "      <td>PS2</td>\n",
              "      <td>NaN</td>\n",
              "      <td>Simulation</td>\n",
              "      <td>0.19</td>\n",
              "      <td>0.15</td>\n",
              "      <td>0.00</td>\n",
              "      <td>0.05</td>\n",
              "      <td>76.0</td>\n",
              "      <td>8.8</td>\n",
              "      <td>E</td>\n",
              "    </tr>\n",
              "    <tr>\n",
              "      <th>5588</th>\n",
              "      <td>Final Fantasy XI</td>\n",
              "      <td>PS2</td>\n",
              "      <td>NaN</td>\n",
              "      <td>Role-Playing</td>\n",
              "      <td>0.08</td>\n",
              "      <td>0.06</td>\n",
              "      <td>0.15</td>\n",
              "      <td>0.02</td>\n",
              "      <td>85.0</td>\n",
              "      <td>6.9</td>\n",
              "      <td>T</td>\n",
              "    </tr>\n",
              "    <tr>\n",
              "      <th>6101</th>\n",
              "      <td>Haven: Call of the King</td>\n",
              "      <td>PS2</td>\n",
              "      <td>NaN</td>\n",
              "      <td>Platform</td>\n",
              "      <td>0.14</td>\n",
              "      <td>0.11</td>\n",
              "      <td>0.00</td>\n",
              "      <td>0.04</td>\n",
              "      <td>69.0</td>\n",
              "      <td>6.9</td>\n",
              "      <td>T</td>\n",
              "    </tr>\n",
              "    <tr>\n",
              "      <th>6624</th>\n",
              "      <td>College Hoops 2K6</td>\n",
              "      <td>PS2</td>\n",
              "      <td>NaN</td>\n",
              "      <td>Sports</td>\n",
              "      <td>0.12</td>\n",
              "      <td>0.10</td>\n",
              "      <td>0.00</td>\n",
              "      <td>0.03</td>\n",
              "      <td>77.0</td>\n",
              "      <td>7.3</td>\n",
              "      <td>E</td>\n",
              "    </tr>\n",
              "    <tr>\n",
              "      <th>6773</th>\n",
              "      <td>Mega Man X Collection</td>\n",
              "      <td>PS2</td>\n",
              "      <td>NaN</td>\n",
              "      <td>Misc</td>\n",
              "      <td>0.12</td>\n",
              "      <td>0.09</td>\n",
              "      <td>0.00</td>\n",
              "      <td>0.03</td>\n",
              "      <td>73.0</td>\n",
              "      <td>8.8</td>\n",
              "      <td>E</td>\n",
              "    </tr>\n",
              "    <tr>\n",
              "      <th>7008</th>\n",
              "      <td>Tribes: Aerial Assault</td>\n",
              "      <td>PS2</td>\n",
              "      <td>NaN</td>\n",
              "      <td>Shooter</td>\n",
              "      <td>0.11</td>\n",
              "      <td>0.09</td>\n",
              "      <td>0.00</td>\n",
              "      <td>0.03</td>\n",
              "      <td>73.0</td>\n",
              "      <td>8.8</td>\n",
              "      <td>T</td>\n",
              "    </tr>\n",
              "    <tr>\n",
              "      <th>7332</th>\n",
              "      <td>Yu Yu Hakusho: Dark Tournament</td>\n",
              "      <td>PS2</td>\n",
              "      <td>NaN</td>\n",
              "      <td>Fighting</td>\n",
              "      <td>0.10</td>\n",
              "      <td>0.08</td>\n",
              "      <td>0.00</td>\n",
              "      <td>0.03</td>\n",
              "      <td>56.0</td>\n",
              "      <td>8.5</td>\n",
              "      <td>T</td>\n",
              "    </tr>\n",
              "    <tr>\n",
              "      <th>8197</th>\n",
              "      <td>NBA Starting Five</td>\n",
              "      <td>PS2</td>\n",
              "      <td>NaN</td>\n",
              "      <td>Sports</td>\n",
              "      <td>0.09</td>\n",
              "      <td>0.07</td>\n",
              "      <td>0.00</td>\n",
              "      <td>0.02</td>\n",
              "      <td>53.0</td>\n",
              "      <td>7.3</td>\n",
              "      <td>E</td>\n",
              "    </tr>\n",
              "    <tr>\n",
              "      <th>8319</th>\n",
              "      <td>James Cameron's Dark Angel</td>\n",
              "      <td>PS2</td>\n",
              "      <td>NaN</td>\n",
              "      <td>Action</td>\n",
              "      <td>0.08</td>\n",
              "      <td>0.07</td>\n",
              "      <td>0.00</td>\n",
              "      <td>0.02</td>\n",
              "      <td>48.0</td>\n",
              "      <td>6.5</td>\n",
              "      <td>T</td>\n",
              "    </tr>\n",
              "    <tr>\n",
              "      <th>8364</th>\n",
              "      <td>Sword of the Samurai</td>\n",
              "      <td>PS2</td>\n",
              "      <td>NaN</td>\n",
              "      <td>Fighting</td>\n",
              "      <td>0.00</td>\n",
              "      <td>0.00</td>\n",
              "      <td>0.17</td>\n",
              "      <td>0.00</td>\n",
              "      <td>NaN</td>\n",
              "      <td>NaN</td>\n",
              "      <td>NaN</td>\n",
              "    </tr>\n",
              "    <tr>\n",
              "      <th>8884</th>\n",
              "      <td>eJay Clubworld</td>\n",
              "      <td>PS2</td>\n",
              "      <td>NaN</td>\n",
              "      <td>Misc</td>\n",
              "      <td>0.07</td>\n",
              "      <td>0.06</td>\n",
              "      <td>0.00</td>\n",
              "      <td>0.02</td>\n",
              "      <td>69.0</td>\n",
              "      <td>8.6</td>\n",
              "      <td>E</td>\n",
              "    </tr>\n",
              "    <tr>\n",
              "      <th>9761</th>\n",
              "      <td>Saru! Get You! Million Monkeys</td>\n",
              "      <td>PS2</td>\n",
              "      <td>NaN</td>\n",
              "      <td>Platform</td>\n",
              "      <td>0.00</td>\n",
              "      <td>0.00</td>\n",
              "      <td>0.12</td>\n",
              "      <td>0.00</td>\n",
              "      <td>NaN</td>\n",
              "      <td>NaN</td>\n",
              "      <td>NaN</td>\n",
              "    </tr>\n",
              "    <tr>\n",
              "      <th>10050</th>\n",
              "      <td>Star Trek: Conquest</td>\n",
              "      <td>PS2</td>\n",
              "      <td>NaN</td>\n",
              "      <td>Strategy</td>\n",
              "      <td>0.06</td>\n",
              "      <td>0.04</td>\n",
              "      <td>0.00</td>\n",
              "      <td>0.01</td>\n",
              "      <td>54.0</td>\n",
              "      <td>9.1</td>\n",
              "      <td>E</td>\n",
              "    </tr>\n",
              "    <tr>\n",
              "      <th>11000</th>\n",
              "      <td>Demon Chaos</td>\n",
              "      <td>PS2</td>\n",
              "      <td>NaN</td>\n",
              "      <td>Action</td>\n",
              "      <td>0.00</td>\n",
              "      <td>0.00</td>\n",
              "      <td>0.09</td>\n",
              "      <td>0.00</td>\n",
              "      <td>NaN</td>\n",
              "      <td>NaN</td>\n",
              "      <td>NaN</td>\n",
              "    </tr>\n",
              "    <tr>\n",
              "      <th>12011</th>\n",
              "      <td>McFarlane's Evil Prophecy</td>\n",
              "      <td>PS2</td>\n",
              "      <td>NaN</td>\n",
              "      <td>Action</td>\n",
              "      <td>0.03</td>\n",
              "      <td>0.03</td>\n",
              "      <td>0.00</td>\n",
              "      <td>0.01</td>\n",
              "      <td>34.0</td>\n",
              "      <td>3.2</td>\n",
              "      <td>M</td>\n",
              "    </tr>\n",
              "    <tr>\n",
              "      <th>12584</th>\n",
              "      <td>Combat Elite: WWII Paratroopers</td>\n",
              "      <td>PS2</td>\n",
              "      <td>NaN</td>\n",
              "      <td>Shooter</td>\n",
              "      <td>0.03</td>\n",
              "      <td>0.02</td>\n",
              "      <td>0.00</td>\n",
              "      <td>0.01</td>\n",
              "      <td>54.0</td>\n",
              "      <td>tbd</td>\n",
              "      <td>T</td>\n",
              "    </tr>\n",
              "    <tr>\n",
              "      <th>12959</th>\n",
              "      <td>Mountain Bike Adrenaline</td>\n",
              "      <td>PS2</td>\n",
              "      <td>NaN</td>\n",
              "      <td>Sports</td>\n",
              "      <td>0.03</td>\n",
              "      <td>0.02</td>\n",
              "      <td>0.00</td>\n",
              "      <td>0.01</td>\n",
              "      <td>NaN</td>\n",
              "      <td>tbd</td>\n",
              "      <td>E</td>\n",
              "    </tr>\n",
              "    <tr>\n",
              "      <th>14597</th>\n",
              "      <td>Samurai Spirits: Tenkaichi Kenkakuden</td>\n",
              "      <td>PS2</td>\n",
              "      <td>NaN</td>\n",
              "      <td>Fighting</td>\n",
              "      <td>0.00</td>\n",
              "      <td>0.00</td>\n",
              "      <td>0.03</td>\n",
              "      <td>0.00</td>\n",
              "      <td>NaN</td>\n",
              "      <td>NaN</td>\n",
              "      <td>NaN</td>\n",
              "    </tr>\n",
              "    <tr>\n",
              "      <th>15675</th>\n",
              "      <td>Cabela's Alaskan Adventure</td>\n",
              "      <td>PS2</td>\n",
              "      <td>NaN</td>\n",
              "      <td>Sports</td>\n",
              "      <td>0.01</td>\n",
              "      <td>0.01</td>\n",
              "      <td>0.00</td>\n",
              "      <td>0.00</td>\n",
              "      <td>NaN</td>\n",
              "      <td>NaN</td>\n",
              "      <td>NaN</td>\n",
              "    </tr>\n",
              "    <tr>\n",
              "      <th>15754</th>\n",
              "      <td>Virtua Quest</td>\n",
              "      <td>PS2</td>\n",
              "      <td>NaN</td>\n",
              "      <td>Role-Playing</td>\n",
              "      <td>0.01</td>\n",
              "      <td>0.01</td>\n",
              "      <td>0.00</td>\n",
              "      <td>0.00</td>\n",
              "      <td>53.0</td>\n",
              "      <td>7.6</td>\n",
              "      <td>T</td>\n",
              "    </tr>\n",
              "  </tbody>\n",
              "</table>\n",
              "</div>"
            ],
            "text/plain": [
              "                                        name platform  year_of_release  \\\n",
              "1840                               Rock Band      PS2              NaN   \n",
              "2108                            Suikoden III      PS2              NaN   \n",
              "2157                        Wheel of Fortune      PS2              NaN   \n",
              "3187                        Monster Hunter 2      PS2              NaN   \n",
              "3459                 NASCAR: Dirt to Daytona      PS2              NaN   \n",
              "4848         Harvest Moon: Save the Homeland      PS2              NaN   \n",
              "5588                        Final Fantasy XI      PS2              NaN   \n",
              "6101                 Haven: Call of the King      PS2              NaN   \n",
              "6624                       College Hoops 2K6      PS2              NaN   \n",
              "6773                   Mega Man X Collection      PS2              NaN   \n",
              "7008                  Tribes: Aerial Assault      PS2              NaN   \n",
              "7332          Yu Yu Hakusho: Dark Tournament      PS2              NaN   \n",
              "8197                       NBA Starting Five      PS2              NaN   \n",
              "8319              James Cameron's Dark Angel      PS2              NaN   \n",
              "8364                    Sword of the Samurai      PS2              NaN   \n",
              "8884                          eJay Clubworld      PS2              NaN   \n",
              "9761          Saru! Get You! Million Monkeys      PS2              NaN   \n",
              "10050                    Star Trek: Conquest      PS2              NaN   \n",
              "11000                            Demon Chaos      PS2              NaN   \n",
              "12011              McFarlane's Evil Prophecy      PS2              NaN   \n",
              "12584        Combat Elite: WWII Paratroopers      PS2              NaN   \n",
              "12959               Mountain Bike Adrenaline      PS2              NaN   \n",
              "14597  Samurai Spirits: Tenkaichi Kenkakuden      PS2              NaN   \n",
              "15675             Cabela's Alaskan Adventure      PS2              NaN   \n",
              "15754                           Virtua Quest      PS2              NaN   \n",
              "\n",
              "              genre  na_sales  eu_sales  jp_sales  other_sales  critic_score  \\\n",
              "1840           Misc      0.71      0.06      0.00         0.35          82.0   \n",
              "2108   Role-Playing      0.29      0.23      0.38         0.08          86.0   \n",
              "2157           Misc      0.47      0.36      0.00         0.12           NaN   \n",
              "3187   Role-Playing      0.00      0.00      0.63         0.00           NaN   \n",
              "3459         Racing      0.28      0.22      0.00         0.07          84.0   \n",
              "4848     Simulation      0.19      0.15      0.00         0.05          76.0   \n",
              "5588   Role-Playing      0.08      0.06      0.15         0.02          85.0   \n",
              "6101       Platform      0.14      0.11      0.00         0.04          69.0   \n",
              "6624         Sports      0.12      0.10      0.00         0.03          77.0   \n",
              "6773           Misc      0.12      0.09      0.00         0.03          73.0   \n",
              "7008        Shooter      0.11      0.09      0.00         0.03          73.0   \n",
              "7332       Fighting      0.10      0.08      0.00         0.03          56.0   \n",
              "8197         Sports      0.09      0.07      0.00         0.02          53.0   \n",
              "8319         Action      0.08      0.07      0.00         0.02          48.0   \n",
              "8364       Fighting      0.00      0.00      0.17         0.00           NaN   \n",
              "8884           Misc      0.07      0.06      0.00         0.02          69.0   \n",
              "9761       Platform      0.00      0.00      0.12         0.00           NaN   \n",
              "10050      Strategy      0.06      0.04      0.00         0.01          54.0   \n",
              "11000        Action      0.00      0.00      0.09         0.00           NaN   \n",
              "12011        Action      0.03      0.03      0.00         0.01          34.0   \n",
              "12584       Shooter      0.03      0.02      0.00         0.01          54.0   \n",
              "12959        Sports      0.03      0.02      0.00         0.01           NaN   \n",
              "14597      Fighting      0.00      0.00      0.03         0.00           NaN   \n",
              "15675        Sports      0.01      0.01      0.00         0.00           NaN   \n",
              "15754  Role-Playing      0.01      0.01      0.00         0.00          53.0   \n",
              "\n",
              "      user_score rating  \n",
              "1840         6.8      T  \n",
              "2108         7.7      T  \n",
              "2157         tbd      E  \n",
              "3187         NaN    NaN  \n",
              "3459         8.8      E  \n",
              "4848         8.8      E  \n",
              "5588         6.9      T  \n",
              "6101         6.9      T  \n",
              "6624         7.3      E  \n",
              "6773         8.8      E  \n",
              "7008         8.8      T  \n",
              "7332         8.5      T  \n",
              "8197         7.3      E  \n",
              "8319         6.5      T  \n",
              "8364         NaN    NaN  \n",
              "8884         8.6      E  \n",
              "9761         NaN    NaN  \n",
              "10050        9.1      E  \n",
              "11000        NaN    NaN  \n",
              "12011        3.2      M  \n",
              "12584        tbd      T  \n",
              "12959        tbd      E  \n",
              "14597        NaN    NaN  \n",
              "15675        NaN    NaN  \n",
              "15754        7.6      T  "
            ]
          },
          "execution_count": 118,
          "metadata": {},
          "output_type": "execute_result"
        }
      ],
      "source": [
        "games[(games['year_of_release'].isna()) & (games['platform'] == 'PS2')]"
      ]
    },
    {
      "cell_type": "code",
      "execution_count": null,
      "metadata": {
        "id": "OUDFQ4dBHkPk"
      },
      "outputs": [],
      "source": [
        "games.loc[1840, 'year_of_release'] = 2007\n",
        "games.loc[2108, 'year_of_release'] = 2002\n",
        "games.loc[2157, 'year_of_release'] = 2000\n",
        "games.loc[3187, 'year_of_release'] = 2006\n",
        "games.loc[3459, 'year_of_release'] = 2002\n",
        "games.loc[4848, 'year_of_release'] = 2001\n",
        "games.loc[5588, 'year_of_release'] = 2002\n",
        "games.loc[6101, 'year_of_release'] = 2002\n",
        "games.loc[6624, 'year_of_release'] = 2005\n",
        "games.loc[6773, 'year_of_release'] = 2006\n",
        "games.loc[7008, 'year_of_release'] = 2002\n",
        "games.loc[7332, 'year_of_release'] = 2004\n",
        "games.loc[8197, 'year_of_release'] = 2002\n",
        "games.loc[8319, 'year_of_release'] = 2002\n",
        "games.loc[8364, 'year_of_release'] = 2003\n",
        "games.loc[8884, 'year_of_release'] = 2003\n",
        "games.loc[9761, 'year_of_release'] = 2006\n",
        "games.loc[10050, 'year_of_release'] = 2007\n",
        "games.loc[11000, 'year_of_release'] = 2005\n",
        "games.loc[12011, 'year_of_release'] = 2004\n",
        "games.loc[12584, 'year_of_release'] = 2005\n",
        "games.loc[12959, 'year_of_release'] = 2007\n",
        "games.loc[14597, 'year_of_release'] = 2005\n",
        "games.loc[15675, 'year_of_release'] = 2006\n",
        "games.loc[15754, 'year_of_release'] = 2004"
      ]
    },
    {
      "cell_type": "code",
      "execution_count": null,
      "metadata": {
        "id": "zvowoN-pHkPk",
        "outputId": "7f07260d-2e3f-4bd3-b2a1-90853f008929"
      },
      "outputs": [
        {
          "data": {
            "text/html": [
              "<div>\n",
              "<style scoped>\n",
              "    .dataframe tbody tr th:only-of-type {\n",
              "        vertical-align: middle;\n",
              "    }\n",
              "\n",
              "    .dataframe tbody tr th {\n",
              "        vertical-align: top;\n",
              "    }\n",
              "\n",
              "    .dataframe thead th {\n",
              "        text-align: right;\n",
              "    }\n",
              "</style>\n",
              "<table border=\"1\" class=\"dataframe\">\n",
              "  <thead>\n",
              "    <tr style=\"text-align: right;\">\n",
              "      <th></th>\n",
              "      <th>name</th>\n",
              "      <th>platform</th>\n",
              "      <th>year_of_release</th>\n",
              "      <th>genre</th>\n",
              "      <th>na_sales</th>\n",
              "      <th>eu_sales</th>\n",
              "      <th>jp_sales</th>\n",
              "      <th>other_sales</th>\n",
              "      <th>critic_score</th>\n",
              "      <th>user_score</th>\n",
              "      <th>rating</th>\n",
              "    </tr>\n",
              "  </thead>\n",
              "  <tbody>\n",
              "    <tr>\n",
              "      <th>1142</th>\n",
              "      <td>Rock Band</td>\n",
              "      <td>PS3</td>\n",
              "      <td>NaN</td>\n",
              "      <td>Misc</td>\n",
              "      <td>0.99</td>\n",
              "      <td>0.41</td>\n",
              "      <td>0.00</td>\n",
              "      <td>0.22</td>\n",
              "      <td>92.0</td>\n",
              "      <td>8.4</td>\n",
              "      <td>T</td>\n",
              "    </tr>\n",
              "    <tr>\n",
              "      <th>2169</th>\n",
              "      <td>Yakuza 4</td>\n",
              "      <td>PS3</td>\n",
              "      <td>NaN</td>\n",
              "      <td>Action</td>\n",
              "      <td>0.15</td>\n",
              "      <td>0.13</td>\n",
              "      <td>0.63</td>\n",
              "      <td>0.05</td>\n",
              "      <td>78.0</td>\n",
              "      <td>8</td>\n",
              "      <td>M</td>\n",
              "    </tr>\n",
              "    <tr>\n",
              "      <th>2273</th>\n",
              "      <td>LEGO Harry Potter: Years 5-7</td>\n",
              "      <td>PS3</td>\n",
              "      <td>NaN</td>\n",
              "      <td>Action</td>\n",
              "      <td>0.36</td>\n",
              "      <td>0.41</td>\n",
              "      <td>0.00</td>\n",
              "      <td>0.15</td>\n",
              "      <td>76.0</td>\n",
              "      <td>8.3</td>\n",
              "      <td>E10+</td>\n",
              "    </tr>\n",
              "    <tr>\n",
              "      <th>2522</th>\n",
              "      <td>The Lord of the Rings: War in the North</td>\n",
              "      <td>PS3</td>\n",
              "      <td>NaN</td>\n",
              "      <td>Action</td>\n",
              "      <td>0.25</td>\n",
              "      <td>0.42</td>\n",
              "      <td>0.01</td>\n",
              "      <td>0.13</td>\n",
              "      <td>63.0</td>\n",
              "      <td>7</td>\n",
              "      <td>M</td>\n",
              "    </tr>\n",
              "    <tr>\n",
              "      <th>3233</th>\n",
              "      <td>Test Drive Unlimited 2</td>\n",
              "      <td>PS3</td>\n",
              "      <td>NaN</td>\n",
              "      <td>Racing</td>\n",
              "      <td>0.16</td>\n",
              "      <td>0.34</td>\n",
              "      <td>0.01</td>\n",
              "      <td>0.12</td>\n",
              "      <td>70.0</td>\n",
              "      <td>6.1</td>\n",
              "      <td>T</td>\n",
              "    </tr>\n",
              "    <tr>\n",
              "      <th>4127</th>\n",
              "      <td>Sonic the Hedgehog</td>\n",
              "      <td>PS3</td>\n",
              "      <td>NaN</td>\n",
              "      <td>Platform</td>\n",
              "      <td>0.00</td>\n",
              "      <td>0.48</td>\n",
              "      <td>0.00</td>\n",
              "      <td>0.00</td>\n",
              "      <td>43.0</td>\n",
              "      <td>4.1</td>\n",
              "      <td>E10+</td>\n",
              "    </tr>\n",
              "    <tr>\n",
              "      <th>4945</th>\n",
              "      <td>Robert Ludlum's The Bourne Conspiracy</td>\n",
              "      <td>PS3</td>\n",
              "      <td>NaN</td>\n",
              "      <td>Action</td>\n",
              "      <td>0.18</td>\n",
              "      <td>0.14</td>\n",
              "      <td>0.00</td>\n",
              "      <td>0.06</td>\n",
              "      <td>70.0</td>\n",
              "      <td>7.6</td>\n",
              "      <td>T</td>\n",
              "    </tr>\n",
              "    <tr>\n",
              "      <th>4959</th>\n",
              "      <td>Silent Hill: Homecoming</td>\n",
              "      <td>PS3</td>\n",
              "      <td>NaN</td>\n",
              "      <td>Action</td>\n",
              "      <td>0.18</td>\n",
              "      <td>0.14</td>\n",
              "      <td>0.00</td>\n",
              "      <td>0.06</td>\n",
              "      <td>71.0</td>\n",
              "      <td>6.9</td>\n",
              "      <td>M</td>\n",
              "    </tr>\n",
              "    <tr>\n",
              "      <th>6356</th>\n",
              "      <td>Rock Revolution</td>\n",
              "      <td>PS3</td>\n",
              "      <td>NaN</td>\n",
              "      <td>Misc</td>\n",
              "      <td>0.25</td>\n",
              "      <td>0.00</td>\n",
              "      <td>0.00</td>\n",
              "      <td>0.02</td>\n",
              "      <td>42.0</td>\n",
              "      <td>6.6</td>\n",
              "      <td>T</td>\n",
              "    </tr>\n",
              "    <tr>\n",
              "      <th>6636</th>\n",
              "      <td>Jonah Lomu Rugby Challenge</td>\n",
              "      <td>PS3</td>\n",
              "      <td>NaN</td>\n",
              "      <td>Sports</td>\n",
              "      <td>0.00</td>\n",
              "      <td>0.19</td>\n",
              "      <td>0.00</td>\n",
              "      <td>0.06</td>\n",
              "      <td>64.0</td>\n",
              "      <td>NaN</td>\n",
              "      <td>E</td>\n",
              "    </tr>\n",
              "    <tr>\n",
              "      <th>6861</th>\n",
              "      <td>Singularity</td>\n",
              "      <td>PS3</td>\n",
              "      <td>NaN</td>\n",
              "      <td>Shooter</td>\n",
              "      <td>0.17</td>\n",
              "      <td>0.04</td>\n",
              "      <td>0.01</td>\n",
              "      <td>0.03</td>\n",
              "      <td>77.0</td>\n",
              "      <td>7.7</td>\n",
              "      <td>M</td>\n",
              "    </tr>\n",
              "    <tr>\n",
              "      <th>7387</th>\n",
              "      <td>Move Fitness</td>\n",
              "      <td>PS3</td>\n",
              "      <td>NaN</td>\n",
              "      <td>Sports</td>\n",
              "      <td>0.00</td>\n",
              "      <td>0.16</td>\n",
              "      <td>0.00</td>\n",
              "      <td>0.05</td>\n",
              "      <td>NaN</td>\n",
              "      <td>NaN</td>\n",
              "      <td>NaN</td>\n",
              "    </tr>\n",
              "    <tr>\n",
              "      <th>7584</th>\n",
              "      <td>WRC: FIA World Rally Championship</td>\n",
              "      <td>PS3</td>\n",
              "      <td>NaN</td>\n",
              "      <td>Racing</td>\n",
              "      <td>0.00</td>\n",
              "      <td>0.14</td>\n",
              "      <td>0.01</td>\n",
              "      <td>0.04</td>\n",
              "      <td>68.0</td>\n",
              "      <td>4.5</td>\n",
              "      <td>NaN</td>\n",
              "    </tr>\n",
              "    <tr>\n",
              "      <th>8260</th>\n",
              "      <td>Backbreaker</td>\n",
              "      <td>PS3</td>\n",
              "      <td>NaN</td>\n",
              "      <td>Sports</td>\n",
              "      <td>0.16</td>\n",
              "      <td>0.00</td>\n",
              "      <td>0.00</td>\n",
              "      <td>0.01</td>\n",
              "      <td>58.0</td>\n",
              "      <td>7</td>\n",
              "      <td>E</td>\n",
              "    </tr>\n",
              "    <tr>\n",
              "      <th>8500</th>\n",
              "      <td>Splatterhouse</td>\n",
              "      <td>PS3</td>\n",
              "      <td>NaN</td>\n",
              "      <td>Action</td>\n",
              "      <td>0.13</td>\n",
              "      <td>0.02</td>\n",
              "      <td>0.00</td>\n",
              "      <td>0.02</td>\n",
              "      <td>59.0</td>\n",
              "      <td>7.7</td>\n",
              "      <td>M</td>\n",
              "    </tr>\n",
              "    <tr>\n",
              "      <th>9043</th>\n",
              "      <td>Bejeweled 3</td>\n",
              "      <td>PS3</td>\n",
              "      <td>NaN</td>\n",
              "      <td>Puzzle</td>\n",
              "      <td>0.13</td>\n",
              "      <td>0.00</td>\n",
              "      <td>0.00</td>\n",
              "      <td>0.02</td>\n",
              "      <td>76.0</td>\n",
              "      <td>8.2</td>\n",
              "      <td>E</td>\n",
              "    </tr>\n",
              "    <tr>\n",
              "      <th>9703</th>\n",
              "      <td>Record of Agarest War Zero</td>\n",
              "      <td>PS3</td>\n",
              "      <td>NaN</td>\n",
              "      <td>Strategy</td>\n",
              "      <td>0.09</td>\n",
              "      <td>0.00</td>\n",
              "      <td>0.03</td>\n",
              "      <td>0.01</td>\n",
              "      <td>50.0</td>\n",
              "      <td>6.7</td>\n",
              "      <td>T</td>\n",
              "    </tr>\n",
              "    <tr>\n",
              "      <th>10317</th>\n",
              "      <td>Happy Feet Two</td>\n",
              "      <td>PS3</td>\n",
              "      <td>NaN</td>\n",
              "      <td>Action</td>\n",
              "      <td>0.09</td>\n",
              "      <td>0.00</td>\n",
              "      <td>0.00</td>\n",
              "      <td>0.01</td>\n",
              "      <td>NaN</td>\n",
              "      <td>NaN</td>\n",
              "      <td>NaN</td>\n",
              "    </tr>\n",
              "    <tr>\n",
              "      <th>11925</th>\n",
              "      <td>Port Royale 3</td>\n",
              "      <td>PS3</td>\n",
              "      <td>NaN</td>\n",
              "      <td>Simulation</td>\n",
              "      <td>0.06</td>\n",
              "      <td>0.00</td>\n",
              "      <td>0.00</td>\n",
              "      <td>0.01</td>\n",
              "      <td>NaN</td>\n",
              "      <td>8.9</td>\n",
              "      <td>T</td>\n",
              "    </tr>\n",
              "    <tr>\n",
              "      <th>13317</th>\n",
              "      <td>Monster Hunter Frontier Online</td>\n",
              "      <td>PS3</td>\n",
              "      <td>NaN</td>\n",
              "      <td>Role-Playing</td>\n",
              "      <td>0.00</td>\n",
              "      <td>0.00</td>\n",
              "      <td>0.05</td>\n",
              "      <td>0.00</td>\n",
              "      <td>NaN</td>\n",
              "      <td>NaN</td>\n",
              "      <td>NaN</td>\n",
              "    </tr>\n",
              "    <tr>\n",
              "      <th>13609</th>\n",
              "      <td>Battle vs. Chess</td>\n",
              "      <td>PS3</td>\n",
              "      <td>NaN</td>\n",
              "      <td>Misc</td>\n",
              "      <td>0.00</td>\n",
              "      <td>0.03</td>\n",
              "      <td>0.00</td>\n",
              "      <td>0.01</td>\n",
              "      <td>NaN</td>\n",
              "      <td>NaN</td>\n",
              "      <td>T</td>\n",
              "    </tr>\n",
              "    <tr>\n",
              "      <th>13647</th>\n",
              "      <td>The History Channel: Great Battles - Medieval</td>\n",
              "      <td>PS3</td>\n",
              "      <td>NaN</td>\n",
              "      <td>Strategy</td>\n",
              "      <td>0.00</td>\n",
              "      <td>0.03</td>\n",
              "      <td>0.00</td>\n",
              "      <td>0.01</td>\n",
              "      <td>NaN</td>\n",
              "      <td>NaN</td>\n",
              "      <td>NaN</td>\n",
              "    </tr>\n",
              "    <tr>\n",
              "      <th>15022</th>\n",
              "      <td>Umineko no Naku Koro ni San: Shinjitsu to Gens...</td>\n",
              "      <td>PS3</td>\n",
              "      <td>NaN</td>\n",
              "      <td>Adventure</td>\n",
              "      <td>0.00</td>\n",
              "      <td>0.00</td>\n",
              "      <td>0.02</td>\n",
              "      <td>0.00</td>\n",
              "      <td>NaN</td>\n",
              "      <td>NaN</td>\n",
              "      <td>NaN</td>\n",
              "    </tr>\n",
              "    <tr>\n",
              "      <th>16348</th>\n",
              "      <td>Agarest Senki: Re-appearance</td>\n",
              "      <td>PS3</td>\n",
              "      <td>NaN</td>\n",
              "      <td>Role-Playing</td>\n",
              "      <td>0.00</td>\n",
              "      <td>0.00</td>\n",
              "      <td>0.01</td>\n",
              "      <td>0.00</td>\n",
              "      <td>NaN</td>\n",
              "      <td>NaN</td>\n",
              "      <td>NaN</td>\n",
              "    </tr>\n",
              "    <tr>\n",
              "      <th>16458</th>\n",
              "      <td>Hakuouki: Shinsengumi Kitan</td>\n",
              "      <td>PS3</td>\n",
              "      <td>NaN</td>\n",
              "      <td>Adventure</td>\n",
              "      <td>0.01</td>\n",
              "      <td>0.00</td>\n",
              "      <td>0.00</td>\n",
              "      <td>0.00</td>\n",
              "      <td>NaN</td>\n",
              "      <td>NaN</td>\n",
              "      <td>NaN</td>\n",
              "    </tr>\n",
              "  </tbody>\n",
              "</table>\n",
              "</div>"
            ],
            "text/plain": [
              "                                                    name platform  \\\n",
              "1142                                           Rock Band      PS3   \n",
              "2169                                            Yakuza 4      PS3   \n",
              "2273                        LEGO Harry Potter: Years 5-7      PS3   \n",
              "2522             The Lord of the Rings: War in the North      PS3   \n",
              "3233                              Test Drive Unlimited 2      PS3   \n",
              "4127                                  Sonic the Hedgehog      PS3   \n",
              "4945               Robert Ludlum's The Bourne Conspiracy      PS3   \n",
              "4959                             Silent Hill: Homecoming      PS3   \n",
              "6356                                     Rock Revolution      PS3   \n",
              "6636                          Jonah Lomu Rugby Challenge      PS3   \n",
              "6861                                         Singularity      PS3   \n",
              "7387                                        Move Fitness      PS3   \n",
              "7584                   WRC: FIA World Rally Championship      PS3   \n",
              "8260                                         Backbreaker      PS3   \n",
              "8500                                       Splatterhouse      PS3   \n",
              "9043                                         Bejeweled 3      PS3   \n",
              "9703                          Record of Agarest War Zero      PS3   \n",
              "10317                                     Happy Feet Two      PS3   \n",
              "11925                                      Port Royale 3      PS3   \n",
              "13317                     Monster Hunter Frontier Online      PS3   \n",
              "13609                                   Battle vs. Chess      PS3   \n",
              "13647      The History Channel: Great Battles - Medieval      PS3   \n",
              "15022  Umineko no Naku Koro ni San: Shinjitsu to Gens...      PS3   \n",
              "16348                       Agarest Senki: Re-appearance      PS3   \n",
              "16458                        Hakuouki: Shinsengumi Kitan      PS3   \n",
              "\n",
              "       year_of_release         genre  na_sales  eu_sales  jp_sales  \\\n",
              "1142               NaN          Misc      0.99      0.41      0.00   \n",
              "2169               NaN        Action      0.15      0.13      0.63   \n",
              "2273               NaN        Action      0.36      0.41      0.00   \n",
              "2522               NaN        Action      0.25      0.42      0.01   \n",
              "3233               NaN        Racing      0.16      0.34      0.01   \n",
              "4127               NaN      Platform      0.00      0.48      0.00   \n",
              "4945               NaN        Action      0.18      0.14      0.00   \n",
              "4959               NaN        Action      0.18      0.14      0.00   \n",
              "6356               NaN          Misc      0.25      0.00      0.00   \n",
              "6636               NaN        Sports      0.00      0.19      0.00   \n",
              "6861               NaN       Shooter      0.17      0.04      0.01   \n",
              "7387               NaN        Sports      0.00      0.16      0.00   \n",
              "7584               NaN        Racing      0.00      0.14      0.01   \n",
              "8260               NaN        Sports      0.16      0.00      0.00   \n",
              "8500               NaN        Action      0.13      0.02      0.00   \n",
              "9043               NaN        Puzzle      0.13      0.00      0.00   \n",
              "9703               NaN      Strategy      0.09      0.00      0.03   \n",
              "10317              NaN        Action      0.09      0.00      0.00   \n",
              "11925              NaN    Simulation      0.06      0.00      0.00   \n",
              "13317              NaN  Role-Playing      0.00      0.00      0.05   \n",
              "13609              NaN          Misc      0.00      0.03      0.00   \n",
              "13647              NaN      Strategy      0.00      0.03      0.00   \n",
              "15022              NaN     Adventure      0.00      0.00      0.02   \n",
              "16348              NaN  Role-Playing      0.00      0.00      0.01   \n",
              "16458              NaN     Adventure      0.01      0.00      0.00   \n",
              "\n",
              "       other_sales  critic_score user_score rating  \n",
              "1142          0.22          92.0        8.4      T  \n",
              "2169          0.05          78.0          8      M  \n",
              "2273          0.15          76.0        8.3   E10+  \n",
              "2522          0.13          63.0          7      M  \n",
              "3233          0.12          70.0        6.1      T  \n",
              "4127          0.00          43.0        4.1   E10+  \n",
              "4945          0.06          70.0        7.6      T  \n",
              "4959          0.06          71.0        6.9      M  \n",
              "6356          0.02          42.0        6.6      T  \n",
              "6636          0.06          64.0        NaN      E  \n",
              "6861          0.03          77.0        7.7      M  \n",
              "7387          0.05           NaN        NaN    NaN  \n",
              "7584          0.04          68.0        4.5    NaN  \n",
              "8260          0.01          58.0          7      E  \n",
              "8500          0.02          59.0        7.7      M  \n",
              "9043          0.02          76.0        8.2      E  \n",
              "9703          0.01          50.0        6.7      T  \n",
              "10317         0.01           NaN        NaN    NaN  \n",
              "11925         0.01           NaN        8.9      T  \n",
              "13317         0.00           NaN        NaN    NaN  \n",
              "13609         0.01           NaN        NaN      T  \n",
              "13647         0.01           NaN        NaN    NaN  \n",
              "15022         0.00           NaN        NaN    NaN  \n",
              "16348         0.00           NaN        NaN    NaN  \n",
              "16458         0.00           NaN        NaN    NaN  "
            ]
          },
          "execution_count": 120,
          "metadata": {},
          "output_type": "execute_result"
        }
      ],
      "source": [
        "games[(games['year_of_release'].isna()) & (games['platform'] == 'PS3')]"
      ]
    },
    {
      "cell_type": "code",
      "execution_count": null,
      "metadata": {
        "id": "TvoQ86xhHkPk"
      },
      "outputs": [],
      "source": [
        "games.loc[1142, 'year_of_release'] = 2007\n",
        "games.loc[2169, 'year_of_release'] = 2010\n",
        "games.loc[2273, 'year_of_release'] = 2011\n",
        "games.loc[2522, 'year_of_release'] = 2011\n",
        "games.loc[3233, 'year_of_release'] = 2011\n",
        "games.loc[4127, 'year_of_release'] = 2006\n",
        "games.loc[4945, 'year_of_release'] = 2008\n",
        "games.loc[4959, 'year_of_release'] = 2008\n",
        "games.loc[6356, 'year_of_release'] = 2008\n",
        "games.loc[6636, 'year_of_release'] = 2011\n",
        "games.loc[6861, 'year_of_release'] = 2010\n",
        "games.loc[7387, 'year_of_release'] = 2013\n",
        "games.loc[7584, 'year_of_release'] = 2010\n",
        "games.loc[8260, 'year_of_release'] = 2009\n",
        "games.loc[8500, 'year_of_release'] = 2010\n",
        "games.loc[9043, 'year_of_release'] = 2011\n",
        "games.loc[9703, 'year_of_release'] = 2009\n",
        "games.loc[10317, 'year_of_release'] = 2011\n",
        "games.loc[11925, 'year_of_release'] = 2012\n",
        "games.loc[13317, 'year_of_release'] = 2007\n",
        "games.loc[13609, 'year_of_release'] = 2011\n",
        "games.loc[13647, 'year_of_release'] = 2010\n",
        "games.loc[15022, 'year_of_release'] = 2011\n",
        "games.loc[16348, 'year_of_release'] = 2007\n",
        "games.loc[16458, 'year_of_release'] = 2013"
      ]
    },
    {
      "cell_type": "code",
      "execution_count": null,
      "metadata": {
        "id": "SEoGkbFeHkPl",
        "outputId": "64eebee5-8c91-42d6-c4ee-abf943edee72"
      },
      "outputs": [
        {
          "data": {
            "text/html": [
              "<div>\n",
              "<style scoped>\n",
              "    .dataframe tbody tr th:only-of-type {\n",
              "        vertical-align: middle;\n",
              "    }\n",
              "\n",
              "    .dataframe tbody tr th {\n",
              "        vertical-align: top;\n",
              "    }\n",
              "\n",
              "    .dataframe thead th {\n",
              "        text-align: right;\n",
              "    }\n",
              "</style>\n",
              "<table border=\"1\" class=\"dataframe\">\n",
              "  <thead>\n",
              "    <tr style=\"text-align: right;\">\n",
              "      <th></th>\n",
              "      <th>name</th>\n",
              "      <th>platform</th>\n",
              "      <th>year_of_release</th>\n",
              "      <th>genre</th>\n",
              "      <th>na_sales</th>\n",
              "      <th>eu_sales</th>\n",
              "      <th>jp_sales</th>\n",
              "      <th>other_sales</th>\n",
              "      <th>critic_score</th>\n",
              "      <th>user_score</th>\n",
              "      <th>rating</th>\n",
              "    </tr>\n",
              "  </thead>\n",
              "  <tbody>\n",
              "    <tr>\n",
              "      <th>1538</th>\n",
              "      <td>LEGO Batman: The Videogame</td>\n",
              "      <td>PSP</td>\n",
              "      <td>NaN</td>\n",
              "      <td>Action</td>\n",
              "      <td>0.57</td>\n",
              "      <td>0.44</td>\n",
              "      <td>0.00</td>\n",
              "      <td>0.27</td>\n",
              "      <td>73.0</td>\n",
              "      <td>7.4</td>\n",
              "      <td>E10+</td>\n",
              "    </tr>\n",
              "    <tr>\n",
              "      <th>2479</th>\n",
              "      <td>Madden NFL 07</td>\n",
              "      <td>PSP</td>\n",
              "      <td>NaN</td>\n",
              "      <td>Sports</td>\n",
              "      <td>0.77</td>\n",
              "      <td>0.03</td>\n",
              "      <td>0.00</td>\n",
              "      <td>0.04</td>\n",
              "      <td>78.0</td>\n",
              "      <td>6.6</td>\n",
              "      <td>E</td>\n",
              "    </tr>\n",
              "    <tr>\n",
              "      <th>5070</th>\n",
              "      <td>The Golden Compass</td>\n",
              "      <td>PSP</td>\n",
              "      <td>NaN</td>\n",
              "      <td>Action</td>\n",
              "      <td>0.11</td>\n",
              "      <td>0.16</td>\n",
              "      <td>0.00</td>\n",
              "      <td>0.10</td>\n",
              "      <td>28.0</td>\n",
              "      <td>4.1</td>\n",
              "      <td>E10+</td>\n",
              "    </tr>\n",
              "    <tr>\n",
              "      <th>6476</th>\n",
              "      <td>LEGO Harry Potter: Years 5-7</td>\n",
              "      <td>PSP</td>\n",
              "      <td>NaN</td>\n",
              "      <td>Action</td>\n",
              "      <td>0.10</td>\n",
              "      <td>0.10</td>\n",
              "      <td>0.00</td>\n",
              "      <td>0.06</td>\n",
              "      <td>NaN</td>\n",
              "      <td>tbd</td>\n",
              "      <td>E10+</td>\n",
              "    </tr>\n",
              "    <tr>\n",
              "      <th>6899</th>\n",
              "      <td>Danganronpa: Trigger Happy Havoc</td>\n",
              "      <td>PSP</td>\n",
              "      <td>NaN</td>\n",
              "      <td>Misc</td>\n",
              "      <td>0.00</td>\n",
              "      <td>0.00</td>\n",
              "      <td>0.24</td>\n",
              "      <td>0.00</td>\n",
              "      <td>NaN</td>\n",
              "      <td>NaN</td>\n",
              "      <td>NaN</td>\n",
              "    </tr>\n",
              "    <tr>\n",
              "      <th>7391</th>\n",
              "      <td>Valkyria Chronicles III: Unrecorded Chronicles</td>\n",
              "      <td>PSP</td>\n",
              "      <td>NaN</td>\n",
              "      <td>Strategy</td>\n",
              "      <td>0.00</td>\n",
              "      <td>0.00</td>\n",
              "      <td>0.21</td>\n",
              "      <td>0.00</td>\n",
              "      <td>NaN</td>\n",
              "      <td>NaN</td>\n",
              "      <td>NaN</td>\n",
              "    </tr>\n",
              "    <tr>\n",
              "      <th>9738</th>\n",
              "      <td>Super Robot Wars OG Saga: Masou Kishin II - Re...</td>\n",
              "      <td>PSP</td>\n",
              "      <td>NaN</td>\n",
              "      <td>Strategy</td>\n",
              "      <td>0.00</td>\n",
              "      <td>0.00</td>\n",
              "      <td>0.12</td>\n",
              "      <td>0.00</td>\n",
              "      <td>NaN</td>\n",
              "      <td>NaN</td>\n",
              "      <td>NaN</td>\n",
              "    </tr>\n",
              "    <tr>\n",
              "      <th>9876</th>\n",
              "      <td>Major League Baseball 2K6</td>\n",
              "      <td>PSP</td>\n",
              "      <td>NaN</td>\n",
              "      <td>Sports</td>\n",
              "      <td>0.11</td>\n",
              "      <td>0.00</td>\n",
              "      <td>0.00</td>\n",
              "      <td>0.01</td>\n",
              "      <td>69.0</td>\n",
              "      <td>tbd</td>\n",
              "      <td>E</td>\n",
              "    </tr>\n",
              "    <tr>\n",
              "      <th>11016</th>\n",
              "      <td>Samurai Shodown Anthology</td>\n",
              "      <td>PSP</td>\n",
              "      <td>NaN</td>\n",
              "      <td>Fighting</td>\n",
              "      <td>0.08</td>\n",
              "      <td>0.00</td>\n",
              "      <td>0.00</td>\n",
              "      <td>0.01</td>\n",
              "      <td>NaN</td>\n",
              "      <td>tbd</td>\n",
              "      <td>T</td>\n",
              "    </tr>\n",
              "    <tr>\n",
              "      <th>12568</th>\n",
              "      <td>Prinny: Can I Really Be The Hero? (US sales)</td>\n",
              "      <td>PSP</td>\n",
              "      <td>NaN</td>\n",
              "      <td>Action</td>\n",
              "      <td>0.06</td>\n",
              "      <td>0.00</td>\n",
              "      <td>0.00</td>\n",
              "      <td>0.00</td>\n",
              "      <td>NaN</td>\n",
              "      <td>NaN</td>\n",
              "      <td>NaN</td>\n",
              "    </tr>\n",
              "    <tr>\n",
              "      <th>14105</th>\n",
              "      <td>Half-Minute Hero 2</td>\n",
              "      <td>PSP</td>\n",
              "      <td>NaN</td>\n",
              "      <td>Role-Playing</td>\n",
              "      <td>0.00</td>\n",
              "      <td>0.00</td>\n",
              "      <td>0.04</td>\n",
              "      <td>0.00</td>\n",
              "      <td>NaN</td>\n",
              "      <td>NaN</td>\n",
              "      <td>NaN</td>\n",
              "    </tr>\n",
              "    <tr>\n",
              "      <th>14141</th>\n",
              "      <td>Major League Baseball 2K8</td>\n",
              "      <td>PSP</td>\n",
              "      <td>NaN</td>\n",
              "      <td>Sports</td>\n",
              "      <td>0.03</td>\n",
              "      <td>0.00</td>\n",
              "      <td>0.00</td>\n",
              "      <td>0.00</td>\n",
              "      <td>63.0</td>\n",
              "      <td>tbd</td>\n",
              "      <td>E</td>\n",
              "    </tr>\n",
              "    <tr>\n",
              "      <th>14449</th>\n",
              "      <td>Fullmetal Alchemist: Brotherhood</td>\n",
              "      <td>PSP</td>\n",
              "      <td>NaN</td>\n",
              "      <td>Action</td>\n",
              "      <td>0.00</td>\n",
              "      <td>0.00</td>\n",
              "      <td>0.03</td>\n",
              "      <td>0.00</td>\n",
              "      <td>NaN</td>\n",
              "      <td>NaN</td>\n",
              "      <td>NaN</td>\n",
              "    </tr>\n",
              "    <tr>\n",
              "      <th>15079</th>\n",
              "      <td>Payout Poker &amp; Casino</td>\n",
              "      <td>PSP</td>\n",
              "      <td>NaN</td>\n",
              "      <td>Misc</td>\n",
              "      <td>0.02</td>\n",
              "      <td>0.00</td>\n",
              "      <td>0.00</td>\n",
              "      <td>0.00</td>\n",
              "      <td>NaN</td>\n",
              "      <td>NaN</td>\n",
              "      <td>NaN</td>\n",
              "    </tr>\n",
              "  </tbody>\n",
              "</table>\n",
              "</div>"
            ],
            "text/plain": [
              "                                                    name platform  \\\n",
              "1538                          LEGO Batman: The Videogame      PSP   \n",
              "2479                                       Madden NFL 07      PSP   \n",
              "5070                                  The Golden Compass      PSP   \n",
              "6476                        LEGO Harry Potter: Years 5-7      PSP   \n",
              "6899                    Danganronpa: Trigger Happy Havoc      PSP   \n",
              "7391      Valkyria Chronicles III: Unrecorded Chronicles      PSP   \n",
              "9738   Super Robot Wars OG Saga: Masou Kishin II - Re...      PSP   \n",
              "9876                           Major League Baseball 2K6      PSP   \n",
              "11016                          Samurai Shodown Anthology      PSP   \n",
              "12568       Prinny: Can I Really Be The Hero? (US sales)      PSP   \n",
              "14105                                 Half-Minute Hero 2      PSP   \n",
              "14141                          Major League Baseball 2K8      PSP   \n",
              "14449                   Fullmetal Alchemist: Brotherhood      PSP   \n",
              "15079                              Payout Poker & Casino      PSP   \n",
              "\n",
              "       year_of_release         genre  na_sales  eu_sales  jp_sales  \\\n",
              "1538               NaN        Action      0.57      0.44      0.00   \n",
              "2479               NaN        Sports      0.77      0.03      0.00   \n",
              "5070               NaN        Action      0.11      0.16      0.00   \n",
              "6476               NaN        Action      0.10      0.10      0.00   \n",
              "6899               NaN          Misc      0.00      0.00      0.24   \n",
              "7391               NaN      Strategy      0.00      0.00      0.21   \n",
              "9738               NaN      Strategy      0.00      0.00      0.12   \n",
              "9876               NaN        Sports      0.11      0.00      0.00   \n",
              "11016              NaN      Fighting      0.08      0.00      0.00   \n",
              "12568              NaN        Action      0.06      0.00      0.00   \n",
              "14105              NaN  Role-Playing      0.00      0.00      0.04   \n",
              "14141              NaN        Sports      0.03      0.00      0.00   \n",
              "14449              NaN        Action      0.00      0.00      0.03   \n",
              "15079              NaN          Misc      0.02      0.00      0.00   \n",
              "\n",
              "       other_sales  critic_score user_score rating  \n",
              "1538          0.27          73.0        7.4   E10+  \n",
              "2479          0.04          78.0        6.6      E  \n",
              "5070          0.10          28.0        4.1   E10+  \n",
              "6476          0.06           NaN        tbd   E10+  \n",
              "6899          0.00           NaN        NaN    NaN  \n",
              "7391          0.00           NaN        NaN    NaN  \n",
              "9738          0.00           NaN        NaN    NaN  \n",
              "9876          0.01          69.0        tbd      E  \n",
              "11016         0.01           NaN        tbd      T  \n",
              "12568         0.00           NaN        NaN    NaN  \n",
              "14105         0.00           NaN        NaN    NaN  \n",
              "14141         0.00          63.0        tbd      E  \n",
              "14449         0.00           NaN        NaN    NaN  \n",
              "15079         0.00           NaN        NaN    NaN  "
            ]
          },
          "execution_count": 122,
          "metadata": {},
          "output_type": "execute_result"
        }
      ],
      "source": [
        "games[(games['year_of_release'].isna()) & (games['platform'] == 'PSP')]"
      ]
    },
    {
      "cell_type": "code",
      "execution_count": null,
      "metadata": {
        "id": "XNMgYkV3HkPl"
      },
      "outputs": [],
      "source": [
        "games.loc[1538, 'year_of_release'] = 2008\n",
        "games.loc[2479, 'year_of_release'] = 2006\n",
        "games.loc[5070, 'year_of_release'] = 2007\n",
        "games.loc[6476, 'year_of_release'] = 2011\n",
        "games.loc[6899, 'year_of_release'] = 2010\n",
        "games.loc[7391, 'year_of_release'] = 2011\n",
        "games.loc[9738, 'year_of_release'] = 2012\n",
        "games.loc[9876, 'year_of_release'] = 2006\n",
        "games.loc[11016, 'year_of_release'] = 2008\n",
        "games.loc[12568, 'year_of_release'] = 2009\n",
        "games.loc[14105, 'year_of_release'] = 2011\n",
        "games.loc[14141, 'year_of_release'] = 2008\n",
        "games.loc[14449, 'year_of_release'] = 2010\n",
        "games.loc[15079, 'year_of_release'] = 2003"
      ]
    },
    {
      "cell_type": "code",
      "execution_count": null,
      "metadata": {
        "id": "ANGLXNk-HkPl",
        "outputId": "47fbb347-7f07-424c-b977-8ae9b95342b7"
      },
      "outputs": [
        {
          "data": {
            "text/html": [
              "<div>\n",
              "<style scoped>\n",
              "    .dataframe tbody tr th:only-of-type {\n",
              "        vertical-align: middle;\n",
              "    }\n",
              "\n",
              "    .dataframe tbody tr th {\n",
              "        vertical-align: top;\n",
              "    }\n",
              "\n",
              "    .dataframe thead th {\n",
              "        text-align: right;\n",
              "    }\n",
              "</style>\n",
              "<table border=\"1\" class=\"dataframe\">\n",
              "  <thead>\n",
              "    <tr style=\"text-align: right;\">\n",
              "      <th></th>\n",
              "      <th>name</th>\n",
              "      <th>platform</th>\n",
              "      <th>year_of_release</th>\n",
              "      <th>genre</th>\n",
              "      <th>na_sales</th>\n",
              "      <th>eu_sales</th>\n",
              "      <th>jp_sales</th>\n",
              "      <th>other_sales</th>\n",
              "      <th>total_sales</th>\n",
              "      <th>critic_score</th>\n",
              "      <th>user_score</th>\n",
              "      <th>rating</th>\n",
              "    </tr>\n",
              "  </thead>\n",
              "  <tbody>\n",
              "  </tbody>\n",
              "</table>\n",
              "</div>"
            ],
            "text/plain": [
              "Empty DataFrame\n",
              "Columns: [name, platform, year_of_release, genre, na_sales, eu_sales, jp_sales, other_sales, total_sales, critic_score, user_score, rating]\n",
              "Index: []"
            ]
          },
          "execution_count": 184,
          "metadata": {},
          "output_type": "execute_result"
        }
      ],
      "source": [
        "games[(games['year_of_release'].isna()) & (games['platform'] == 'Wii')]"
      ]
    },
    {
      "cell_type": "code",
      "execution_count": null,
      "metadata": {
        "id": "WixHOh6JHkPl"
      },
      "outputs": [],
      "source": [
        "games.loc[456, 'year_of_release'] = 2014\n",
        "games.loc[678, 'year_of_release'] = 2008\n",
        "games.loc[719, 'year_of_release'] = 2006\n",
        "games.loc[805, 'year_of_release'] = 2007\n",
        "games.loc[1609, 'year_of_release'] = 2011\n",
        "games.loc[2361, 'year_of_release'] = 2011\n",
        "games.loc[2849, 'year_of_release'] = 2010\n",
        "games.loc[3352, 'year_of_release'] = 2007\n",
        "games.loc[4205, 'year_of_release'] = 2006\n",
        "games.loc[4635, 'year_of_release'] = 2010\n",
        "games.loc[5294, 'year_of_release'] = 2007\n",
        "games.loc[6999, 'year_of_release'] = 2006\n",
        "games.loc[7108, 'year_of_release'] = 2010\n",
        "games.loc[7406, 'year_of_release'] = 2011\n",
        "games.loc[8250, 'year_of_release'] = 2010\n",
        "games.loc[8632, 'year_of_release'] = 2009\n",
        "games.loc[9119, 'year_of_release'] = 2009\n",
        "games.loc[10465, 'year_of_release'] = 2006\n",
        "games.loc[10993, 'year_of_release'] = 2009\n",
        "games.loc[11433, 'year_of_release'] = 2008\n",
        "games.loc[11565, 'year_of_release'] = 2008\n",
        "games.loc[11622, 'year_of_release'] = 2011\n",
        "games.loc[12209, 'year_of_release'] = 2007\n",
        "games.loc[12718, 'year_of_release'] = 2010\n",
        "games.loc[12896, 'year_of_release'] = 2011\n",
        "games.loc[13289, 'year_of_release'] = 2010\n",
        "games.loc[13874, 'year_of_release'] = 2008\n",
        "games.loc[14252, 'year_of_release'] = 2007\n",
        "games.loc[14950, 'year_of_release'] = 2012\n",
        "games.loc[15081, 'year_of_release'] = 2007\n",
        "games.loc[15267, 'year_of_release'] = 2009\n",
        "games.loc[15557, 'year_of_release'] = 2009\n",
        "games.loc[16059, 'year_of_release'] = 2011\n",
        "games.loc[16080, 'year_of_release'] = 2010"
      ]
    },
    {
      "cell_type": "code",
      "execution_count": null,
      "metadata": {
        "id": "MuNAcvCrHkPl",
        "outputId": "80bcf9a6-4f2d-4ed0-af23-2f511b57e3b3"
      },
      "outputs": [
        {
          "data": {
            "text/html": [
              "<div>\n",
              "<style scoped>\n",
              "    .dataframe tbody tr th:only-of-type {\n",
              "        vertical-align: middle;\n",
              "    }\n",
              "\n",
              "    .dataframe tbody tr th {\n",
              "        vertical-align: top;\n",
              "    }\n",
              "\n",
              "    .dataframe thead th {\n",
              "        text-align: right;\n",
              "    }\n",
              "</style>\n",
              "<table border=\"1\" class=\"dataframe\">\n",
              "  <thead>\n",
              "    <tr style=\"text-align: right;\">\n",
              "      <th></th>\n",
              "      <th>name</th>\n",
              "      <th>platform</th>\n",
              "      <th>year_of_release</th>\n",
              "      <th>genre</th>\n",
              "      <th>na_sales</th>\n",
              "      <th>eu_sales</th>\n",
              "      <th>jp_sales</th>\n",
              "      <th>other_sales</th>\n",
              "      <th>critic_score</th>\n",
              "      <th>user_score</th>\n",
              "      <th>rating</th>\n",
              "    </tr>\n",
              "  </thead>\n",
              "  <tbody>\n",
              "    <tr>\n",
              "      <th>627</th>\n",
              "      <td>Rock Band</td>\n",
              "      <td>X360</td>\n",
              "      <td>NaN</td>\n",
              "      <td>Misc</td>\n",
              "      <td>1.93</td>\n",
              "      <td>0.33</td>\n",
              "      <td>0.00</td>\n",
              "      <td>0.21</td>\n",
              "      <td>92.0</td>\n",
              "      <td>8.2</td>\n",
              "      <td>T</td>\n",
              "    </tr>\n",
              "    <tr>\n",
              "      <th>2132</th>\n",
              "      <td>LEGO Harry Potter: Years 5-7</td>\n",
              "      <td>X360</td>\n",
              "      <td>NaN</td>\n",
              "      <td>Action</td>\n",
              "      <td>0.51</td>\n",
              "      <td>0.37</td>\n",
              "      <td>0.00</td>\n",
              "      <td>0.09</td>\n",
              "      <td>77.0</td>\n",
              "      <td>7.9</td>\n",
              "      <td>E10+</td>\n",
              "    </tr>\n",
              "    <tr>\n",
              "      <th>2453</th>\n",
              "      <td>The Lord of the Rings: War in the North</td>\n",
              "      <td>X360</td>\n",
              "      <td>NaN</td>\n",
              "      <td>Action</td>\n",
              "      <td>0.52</td>\n",
              "      <td>0.24</td>\n",
              "      <td>0.00</td>\n",
              "      <td>0.08</td>\n",
              "      <td>61.0</td>\n",
              "      <td>7.4</td>\n",
              "      <td>M</td>\n",
              "    </tr>\n",
              "    <tr>\n",
              "      <th>2536</th>\n",
              "      <td>Shaun White Snowboarding</td>\n",
              "      <td>X360</td>\n",
              "      <td>NaN</td>\n",
              "      <td>Sports</td>\n",
              "      <td>0.48</td>\n",
              "      <td>0.25</td>\n",
              "      <td>0.00</td>\n",
              "      <td>0.08</td>\n",
              "      <td>60.0</td>\n",
              "      <td>7.6</td>\n",
              "      <td>T</td>\n",
              "    </tr>\n",
              "    <tr>\n",
              "      <th>2969</th>\n",
              "      <td>Test Drive Unlimited 2</td>\n",
              "      <td>X360</td>\n",
              "      <td>NaN</td>\n",
              "      <td>Racing</td>\n",
              "      <td>0.30</td>\n",
              "      <td>0.31</td>\n",
              "      <td>0.00</td>\n",
              "      <td>0.07</td>\n",
              "      <td>68.0</td>\n",
              "      <td>6.4</td>\n",
              "      <td>T</td>\n",
              "    </tr>\n",
              "    <tr>\n",
              "      <th>3413</th>\n",
              "      <td>Madden NFL 06</td>\n",
              "      <td>X360</td>\n",
              "      <td>NaN</td>\n",
              "      <td>Sports</td>\n",
              "      <td>0.54</td>\n",
              "      <td>0.00</td>\n",
              "      <td>0.01</td>\n",
              "      <td>0.03</td>\n",
              "      <td>74.0</td>\n",
              "      <td>4.9</td>\n",
              "      <td>E</td>\n",
              "    </tr>\n",
              "    <tr>\n",
              "      <th>3997</th>\n",
              "      <td>Wet</td>\n",
              "      <td>X360</td>\n",
              "      <td>NaN</td>\n",
              "      <td>Shooter</td>\n",
              "      <td>0.23</td>\n",
              "      <td>0.21</td>\n",
              "      <td>0.01</td>\n",
              "      <td>0.05</td>\n",
              "      <td>69.0</td>\n",
              "      <td>7.3</td>\n",
              "      <td>M</td>\n",
              "    </tr>\n",
              "    <tr>\n",
              "      <th>4373</th>\n",
              "      <td>Silent Hill: Homecoming</td>\n",
              "      <td>X360</td>\n",
              "      <td>NaN</td>\n",
              "      <td>Action</td>\n",
              "      <td>0.25</td>\n",
              "      <td>0.15</td>\n",
              "      <td>0.00</td>\n",
              "      <td>0.04</td>\n",
              "      <td>70.0</td>\n",
              "      <td>6.9</td>\n",
              "      <td>M</td>\n",
              "    </tr>\n",
              "    <tr>\n",
              "      <th>4445</th>\n",
              "      <td>Robert Ludlum's The Bourne Conspiracy</td>\n",
              "      <td>X360</td>\n",
              "      <td>NaN</td>\n",
              "      <td>Action</td>\n",
              "      <td>0.26</td>\n",
              "      <td>0.13</td>\n",
              "      <td>0.00</td>\n",
              "      <td>0.04</td>\n",
              "      <td>71.0</td>\n",
              "      <td>7.2</td>\n",
              "      <td>T</td>\n",
              "    </tr>\n",
              "    <tr>\n",
              "      <th>5326</th>\n",
              "      <td>Tropico 4</td>\n",
              "      <td>X360</td>\n",
              "      <td>NaN</td>\n",
              "      <td>Strategy</td>\n",
              "      <td>0.20</td>\n",
              "      <td>0.12</td>\n",
              "      <td>0.00</td>\n",
              "      <td>0.03</td>\n",
              "      <td>77.0</td>\n",
              "      <td>7.5</td>\n",
              "      <td>T</td>\n",
              "    </tr>\n",
              "    <tr>\n",
              "      <th>5624</th>\n",
              "      <td>Singularity</td>\n",
              "      <td>X360</td>\n",
              "      <td>NaN</td>\n",
              "      <td>Shooter</td>\n",
              "      <td>0.24</td>\n",
              "      <td>0.05</td>\n",
              "      <td>0.00</td>\n",
              "      <td>0.02</td>\n",
              "      <td>76.0</td>\n",
              "      <td>7.7</td>\n",
              "      <td>M</td>\n",
              "    </tr>\n",
              "    <tr>\n",
              "      <th>6342</th>\n",
              "      <td>Gun</td>\n",
              "      <td>X360</td>\n",
              "      <td>NaN</td>\n",
              "      <td>Shooter</td>\n",
              "      <td>0.24</td>\n",
              "      <td>0.01</td>\n",
              "      <td>0.00</td>\n",
              "      <td>0.02</td>\n",
              "      <td>75.0</td>\n",
              "      <td>7.5</td>\n",
              "      <td>M</td>\n",
              "    </tr>\n",
              "    <tr>\n",
              "      <th>8023</th>\n",
              "      <td>Star Trek: Legacy</td>\n",
              "      <td>X360</td>\n",
              "      <td>NaN</td>\n",
              "      <td>Simulation</td>\n",
              "      <td>0.14</td>\n",
              "      <td>0.02</td>\n",
              "      <td>0.00</td>\n",
              "      <td>0.01</td>\n",
              "      <td>64.0</td>\n",
              "      <td>5.5</td>\n",
              "      <td>E10+</td>\n",
              "    </tr>\n",
              "    <tr>\n",
              "      <th>8067</th>\n",
              "      <td>Backbreaker</td>\n",
              "      <td>X360</td>\n",
              "      <td>NaN</td>\n",
              "      <td>Sports</td>\n",
              "      <td>0.17</td>\n",
              "      <td>0.00</td>\n",
              "      <td>0.00</td>\n",
              "      <td>0.01</td>\n",
              "      <td>54.0</td>\n",
              "      <td>7.6</td>\n",
              "      <td>E</td>\n",
              "    </tr>\n",
              "    <tr>\n",
              "      <th>8151</th>\n",
              "      <td>Otomedius Excellent</td>\n",
              "      <td>X360</td>\n",
              "      <td>NaN</td>\n",
              "      <td>Shooter</td>\n",
              "      <td>0.13</td>\n",
              "      <td>0.00</td>\n",
              "      <td>0.04</td>\n",
              "      <td>0.01</td>\n",
              "      <td>48.0</td>\n",
              "      <td>8.1</td>\n",
              "      <td>T</td>\n",
              "    </tr>\n",
              "    <tr>\n",
              "      <th>8680</th>\n",
              "      <td>Jurassic Park: The Game</td>\n",
              "      <td>X360</td>\n",
              "      <td>NaN</td>\n",
              "      <td>Action</td>\n",
              "      <td>0.15</td>\n",
              "      <td>0.00</td>\n",
              "      <td>0.00</td>\n",
              "      <td>0.01</td>\n",
              "      <td>60.0</td>\n",
              "      <td>3.6</td>\n",
              "      <td>T</td>\n",
              "    </tr>\n",
              "    <tr>\n",
              "      <th>9218</th>\n",
              "      <td>Bejeweled 3</td>\n",
              "      <td>X360</td>\n",
              "      <td>NaN</td>\n",
              "      <td>Puzzle</td>\n",
              "      <td>0.13</td>\n",
              "      <td>0.00</td>\n",
              "      <td>0.00</td>\n",
              "      <td>0.01</td>\n",
              "      <td>78.0</td>\n",
              "      <td>8.4</td>\n",
              "      <td>E</td>\n",
              "    </tr>\n",
              "    <tr>\n",
              "      <th>9827</th>\n",
              "      <td>WRC: FIA World Rally Championship</td>\n",
              "      <td>X360</td>\n",
              "      <td>NaN</td>\n",
              "      <td>Racing</td>\n",
              "      <td>0.00</td>\n",
              "      <td>0.10</td>\n",
              "      <td>0.00</td>\n",
              "      <td>0.02</td>\n",
              "      <td>66.0</td>\n",
              "      <td>6</td>\n",
              "      <td>E10+</td>\n",
              "    </tr>\n",
              "    <tr>\n",
              "      <th>10790</th>\n",
              "      <td>Happy Feet Two</td>\n",
              "      <td>X360</td>\n",
              "      <td>NaN</td>\n",
              "      <td>Action</td>\n",
              "      <td>0.08</td>\n",
              "      <td>0.01</td>\n",
              "      <td>0.00</td>\n",
              "      <td>0.01</td>\n",
              "      <td>NaN</td>\n",
              "      <td>NaN</td>\n",
              "      <td>NaN</td>\n",
              "    </tr>\n",
              "    <tr>\n",
              "      <th>11550</th>\n",
              "      <td>Get Fit with Mel B</td>\n",
              "      <td>X360</td>\n",
              "      <td>NaN</td>\n",
              "      <td>Sports</td>\n",
              "      <td>0.00</td>\n",
              "      <td>0.06</td>\n",
              "      <td>0.00</td>\n",
              "      <td>0.01</td>\n",
              "      <td>57.0</td>\n",
              "      <td>NaN</td>\n",
              "      <td>E</td>\n",
              "    </tr>\n",
              "    <tr>\n",
              "      <th>11957</th>\n",
              "      <td>Yoostar on MTV</td>\n",
              "      <td>X360</td>\n",
              "      <td>NaN</td>\n",
              "      <td>Misc</td>\n",
              "      <td>0.07</td>\n",
              "      <td>0.00</td>\n",
              "      <td>0.00</td>\n",
              "      <td>0.01</td>\n",
              "      <td>49.0</td>\n",
              "      <td>tbd</td>\n",
              "      <td>T</td>\n",
              "    </tr>\n",
              "    <tr>\n",
              "      <th>12221</th>\n",
              "      <td>Port Royale 3</td>\n",
              "      <td>X360</td>\n",
              "      <td>NaN</td>\n",
              "      <td>Simulation</td>\n",
              "      <td>0.06</td>\n",
              "      <td>0.00</td>\n",
              "      <td>0.00</td>\n",
              "      <td>0.01</td>\n",
              "      <td>56.0</td>\n",
              "      <td>4.5</td>\n",
              "      <td>T</td>\n",
              "    </tr>\n",
              "    <tr>\n",
              "      <th>12235</th>\n",
              "      <td>National Geographic Challenge!</td>\n",
              "      <td>X360</td>\n",
              "      <td>NaN</td>\n",
              "      <td>Misc</td>\n",
              "      <td>0.06</td>\n",
              "      <td>0.00</td>\n",
              "      <td>0.00</td>\n",
              "      <td>0.00</td>\n",
              "      <td>NaN</td>\n",
              "      <td>NaN</td>\n",
              "      <td>NaN</td>\n",
              "    </tr>\n",
              "    <tr>\n",
              "      <th>12734</th>\n",
              "      <td>Mobile Ops: The One Year War</td>\n",
              "      <td>X360</td>\n",
              "      <td>NaN</td>\n",
              "      <td>Simulation</td>\n",
              "      <td>0.00</td>\n",
              "      <td>0.00</td>\n",
              "      <td>0.06</td>\n",
              "      <td>0.00</td>\n",
              "      <td>NaN</td>\n",
              "      <td>NaN</td>\n",
              "      <td>NaN</td>\n",
              "    </tr>\n",
              "    <tr>\n",
              "      <th>14369</th>\n",
              "      <td>Majesty 2: The Fantasy Kingdom Sim</td>\n",
              "      <td>X360</td>\n",
              "      <td>NaN</td>\n",
              "      <td>Simulation</td>\n",
              "      <td>0.03</td>\n",
              "      <td>0.00</td>\n",
              "      <td>0.00</td>\n",
              "      <td>0.00</td>\n",
              "      <td>NaN</td>\n",
              "      <td>NaN</td>\n",
              "      <td>NaN</td>\n",
              "    </tr>\n",
              "    <tr>\n",
              "      <th>14685</th>\n",
              "      <td>World of Tanks</td>\n",
              "      <td>X360</td>\n",
              "      <td>NaN</td>\n",
              "      <td>Shooter</td>\n",
              "      <td>0.00</td>\n",
              "      <td>0.03</td>\n",
              "      <td>0.00</td>\n",
              "      <td>0.00</td>\n",
              "      <td>NaN</td>\n",
              "      <td>5.2</td>\n",
              "      <td>NaN</td>\n",
              "    </tr>\n",
              "    <tr>\n",
              "      <th>16293</th>\n",
              "      <td>AKB1/48: Idol to Guam de Koishitara...</td>\n",
              "      <td>X360</td>\n",
              "      <td>NaN</td>\n",
              "      <td>Misc</td>\n",
              "      <td>0.00</td>\n",
              "      <td>0.00</td>\n",
              "      <td>0.01</td>\n",
              "      <td>0.00</td>\n",
              "      <td>NaN</td>\n",
              "      <td>NaN</td>\n",
              "      <td>NaN</td>\n",
              "    </tr>\n",
              "    <tr>\n",
              "      <th>16329</th>\n",
              "      <td>Brothers in Arms: Furious 4</td>\n",
              "      <td>X360</td>\n",
              "      <td>NaN</td>\n",
              "      <td>Shooter</td>\n",
              "      <td>0.01</td>\n",
              "      <td>0.00</td>\n",
              "      <td>0.00</td>\n",
              "      <td>0.00</td>\n",
              "      <td>NaN</td>\n",
              "      <td>NaN</td>\n",
              "      <td>M</td>\n",
              "    </tr>\n",
              "  </tbody>\n",
              "</table>\n",
              "</div>"
            ],
            "text/plain": [
              "                                          name platform  year_of_release  \\\n",
              "627                                  Rock Band     X360              NaN   \n",
              "2132              LEGO Harry Potter: Years 5-7     X360              NaN   \n",
              "2453   The Lord of the Rings: War in the North     X360              NaN   \n",
              "2536                  Shaun White Snowboarding     X360              NaN   \n",
              "2969                    Test Drive Unlimited 2     X360              NaN   \n",
              "3413                             Madden NFL 06     X360              NaN   \n",
              "3997                                       Wet     X360              NaN   \n",
              "4373                   Silent Hill: Homecoming     X360              NaN   \n",
              "4445     Robert Ludlum's The Bourne Conspiracy     X360              NaN   \n",
              "5326                                 Tropico 4     X360              NaN   \n",
              "5624                               Singularity     X360              NaN   \n",
              "6342                                       Gun     X360              NaN   \n",
              "8023                         Star Trek: Legacy     X360              NaN   \n",
              "8067                               Backbreaker     X360              NaN   \n",
              "8151                       Otomedius Excellent     X360              NaN   \n",
              "8680                   Jurassic Park: The Game     X360              NaN   \n",
              "9218                               Bejeweled 3     X360              NaN   \n",
              "9827         WRC: FIA World Rally Championship     X360              NaN   \n",
              "10790                           Happy Feet Two     X360              NaN   \n",
              "11550                       Get Fit with Mel B     X360              NaN   \n",
              "11957                           Yoostar on MTV     X360              NaN   \n",
              "12221                            Port Royale 3     X360              NaN   \n",
              "12235           National Geographic Challenge!     X360              NaN   \n",
              "12734             Mobile Ops: The One Year War     X360              NaN   \n",
              "14369       Majesty 2: The Fantasy Kingdom Sim     X360              NaN   \n",
              "14685                           World of Tanks     X360              NaN   \n",
              "16293   AKB1/48: Idol to Guam de Koishitara...     X360              NaN   \n",
              "16329              Brothers in Arms: Furious 4     X360              NaN   \n",
              "\n",
              "            genre  na_sales  eu_sales  jp_sales  other_sales  critic_score  \\\n",
              "627          Misc      1.93      0.33      0.00         0.21          92.0   \n",
              "2132       Action      0.51      0.37      0.00         0.09          77.0   \n",
              "2453       Action      0.52      0.24      0.00         0.08          61.0   \n",
              "2536       Sports      0.48      0.25      0.00         0.08          60.0   \n",
              "2969       Racing      0.30      0.31      0.00         0.07          68.0   \n",
              "3413       Sports      0.54      0.00      0.01         0.03          74.0   \n",
              "3997      Shooter      0.23      0.21      0.01         0.05          69.0   \n",
              "4373       Action      0.25      0.15      0.00         0.04          70.0   \n",
              "4445       Action      0.26      0.13      0.00         0.04          71.0   \n",
              "5326     Strategy      0.20      0.12      0.00         0.03          77.0   \n",
              "5624      Shooter      0.24      0.05      0.00         0.02          76.0   \n",
              "6342      Shooter      0.24      0.01      0.00         0.02          75.0   \n",
              "8023   Simulation      0.14      0.02      0.00         0.01          64.0   \n",
              "8067       Sports      0.17      0.00      0.00         0.01          54.0   \n",
              "8151      Shooter      0.13      0.00      0.04         0.01          48.0   \n",
              "8680       Action      0.15      0.00      0.00         0.01          60.0   \n",
              "9218       Puzzle      0.13      0.00      0.00         0.01          78.0   \n",
              "9827       Racing      0.00      0.10      0.00         0.02          66.0   \n",
              "10790      Action      0.08      0.01      0.00         0.01           NaN   \n",
              "11550      Sports      0.00      0.06      0.00         0.01          57.0   \n",
              "11957        Misc      0.07      0.00      0.00         0.01          49.0   \n",
              "12221  Simulation      0.06      0.00      0.00         0.01          56.0   \n",
              "12235        Misc      0.06      0.00      0.00         0.00           NaN   \n",
              "12734  Simulation      0.00      0.00      0.06         0.00           NaN   \n",
              "14369  Simulation      0.03      0.00      0.00         0.00           NaN   \n",
              "14685     Shooter      0.00      0.03      0.00         0.00           NaN   \n",
              "16293        Misc      0.00      0.00      0.01         0.00           NaN   \n",
              "16329     Shooter      0.01      0.00      0.00         0.00           NaN   \n",
              "\n",
              "      user_score rating  \n",
              "627          8.2      T  \n",
              "2132         7.9   E10+  \n",
              "2453         7.4      M  \n",
              "2536         7.6      T  \n",
              "2969         6.4      T  \n",
              "3413         4.9      E  \n",
              "3997         7.3      M  \n",
              "4373         6.9      M  \n",
              "4445         7.2      T  \n",
              "5326         7.5      T  \n",
              "5624         7.7      M  \n",
              "6342         7.5      M  \n",
              "8023         5.5   E10+  \n",
              "8067         7.6      E  \n",
              "8151         8.1      T  \n",
              "8680         3.6      T  \n",
              "9218         8.4      E  \n",
              "9827           6   E10+  \n",
              "10790        NaN    NaN  \n",
              "11550        NaN      E  \n",
              "11957        tbd      T  \n",
              "12221        4.5      T  \n",
              "12235        NaN    NaN  \n",
              "12734        NaN    NaN  \n",
              "14369        NaN    NaN  \n",
              "14685        5.2    NaN  \n",
              "16293        NaN    NaN  \n",
              "16329        NaN      M  "
            ]
          },
          "execution_count": 126,
          "metadata": {},
          "output_type": "execute_result"
        }
      ],
      "source": [
        "games[(games['year_of_release'].isna()) & (games['platform'] == 'X360')]"
      ]
    },
    {
      "cell_type": "code",
      "execution_count": null,
      "metadata": {
        "id": "cGlcJt3LHkPl"
      },
      "outputs": [],
      "source": [
        "games.loc[627, 'year_of_release'] = 2007\n",
        "games.loc[2132, 'year_of_release'] = 2011\n",
        "games.loc[2453, 'year_of_release'] = 2011\n",
        "games.loc[2536, 'year_of_release'] = 2008\n",
        "games.loc[2969, 'year_of_release'] = 2011\n",
        "games.loc[3413, 'year_of_release'] = 2005\n",
        "games.loc[3997, 'year_of_release'] = 2009\n",
        "games.loc[4373, 'year_of_release'] = 2008\n",
        "games.loc[4445, 'year_of_release'] = 2008\n",
        "games.loc[5326, 'year_of_release'] = 2011\n",
        "games.loc[5624, 'year_of_release'] = 2010\n",
        "games.loc[6342, 'year_of_release'] = 2005\n",
        "games.loc[8023, 'year_of_release'] = 2006\n",
        "games.loc[8067, 'year_of_release'] = 2009\n",
        "games.loc[8151, 'year_of_release'] = 2011\n",
        "games.loc[8680, 'year_of_release'] = 2011\n",
        "games.loc[9218, 'year_of_release'] = 2011\n",
        "games.loc[9827, 'year_of_release'] = 2010\n",
        "games.loc[10790, 'year_of_release'] = 2011\n",
        "games.loc[11550, 'year_of_release'] = 2010\n",
        "games.loc[11957, 'year_of_release'] = 2011\n",
        "games.loc[12221, 'year_of_release'] = 2012\n",
        "games.loc[12235, 'year_of_release'] = 2011\n",
        "games.loc[12734, 'year_of_release'] = 2008\n",
        "games.loc[14369, 'year_of_release'] = 2009\n",
        "games.loc[14685, 'year_of_release'] = 2010\n",
        "games.loc[16293, 'year_of_release'] = 2011\n",
        "games.loc[16329, 'year_of_release'] = 2012"
      ]
    },
    {
      "cell_type": "code",
      "execution_count": null,
      "metadata": {
        "id": "re6nRRZ6HkPm",
        "outputId": "817c0d40-51e7-458d-8f91-080924adb8e1"
      },
      "outputs": [
        {
          "data": {
            "text/html": [
              "<div>\n",
              "<style scoped>\n",
              "    .dataframe tbody tr th:only-of-type {\n",
              "        vertical-align: middle;\n",
              "    }\n",
              "\n",
              "    .dataframe tbody tr th {\n",
              "        vertical-align: top;\n",
              "    }\n",
              "\n",
              "    .dataframe thead th {\n",
              "        text-align: right;\n",
              "    }\n",
              "</style>\n",
              "<table border=\"1\" class=\"dataframe\">\n",
              "  <thead>\n",
              "    <tr style=\"text-align: right;\">\n",
              "      <th></th>\n",
              "      <th>name</th>\n",
              "      <th>platform</th>\n",
              "      <th>year_of_release</th>\n",
              "      <th>genre</th>\n",
              "      <th>na_sales</th>\n",
              "      <th>eu_sales</th>\n",
              "      <th>jp_sales</th>\n",
              "      <th>other_sales</th>\n",
              "      <th>critic_score</th>\n",
              "      <th>user_score</th>\n",
              "      <th>rating</th>\n",
              "    </tr>\n",
              "  </thead>\n",
              "  <tbody>\n",
              "    <tr>\n",
              "      <th>1699</th>\n",
              "      <td>Hitman 2: Silent Assassin</td>\n",
              "      <td>XB</td>\n",
              "      <td>NaN</td>\n",
              "      <td>Action</td>\n",
              "      <td>0.76</td>\n",
              "      <td>0.38</td>\n",
              "      <td>0.0</td>\n",
              "      <td>0.05</td>\n",
              "      <td>84.0</td>\n",
              "      <td>8</td>\n",
              "      <td>M</td>\n",
              "    </tr>\n",
              "    <tr>\n",
              "      <th>2281</th>\n",
              "      <td>Namco Museum</td>\n",
              "      <td>XB</td>\n",
              "      <td>NaN</td>\n",
              "      <td>Misc</td>\n",
              "      <td>0.77</td>\n",
              "      <td>0.11</td>\n",
              "      <td>0.0</td>\n",
              "      <td>0.04</td>\n",
              "      <td>59.0</td>\n",
              "      <td>tbd</td>\n",
              "      <td>E</td>\n",
              "    </tr>\n",
              "    <tr>\n",
              "      <th>3223</th>\n",
              "      <td>Metal Gear Solid 2: Substance</td>\n",
              "      <td>XB</td>\n",
              "      <td>NaN</td>\n",
              "      <td>Action</td>\n",
              "      <td>0.38</td>\n",
              "      <td>0.22</td>\n",
              "      <td>0.0</td>\n",
              "      <td>0.03</td>\n",
              "      <td>87.0</td>\n",
              "      <td>8.5</td>\n",
              "      <td>M</td>\n",
              "    </tr>\n",
              "    <tr>\n",
              "      <th>3704</th>\n",
              "      <td>Def Jam: Fight for NY</td>\n",
              "      <td>XB</td>\n",
              "      <td>NaN</td>\n",
              "      <td>Fighting</td>\n",
              "      <td>0.43</td>\n",
              "      <td>0.10</td>\n",
              "      <td>0.0</td>\n",
              "      <td>0.02</td>\n",
              "      <td>84.0</td>\n",
              "      <td>8.5</td>\n",
              "      <td>M</td>\n",
              "    </tr>\n",
              "    <tr>\n",
              "      <th>4294</th>\n",
              "      <td>The Chronicles of Riddick: Escape from Butcher...</td>\n",
              "      <td>XB</td>\n",
              "      <td>NaN</td>\n",
              "      <td>Shooter</td>\n",
              "      <td>0.32</td>\n",
              "      <td>0.11</td>\n",
              "      <td>0.0</td>\n",
              "      <td>0.02</td>\n",
              "      <td>89.0</td>\n",
              "      <td>8.9</td>\n",
              "      <td>M</td>\n",
              "    </tr>\n",
              "    <tr>\n",
              "      <th>5769</th>\n",
              "      <td>Star Wars Jedi Knight II: Jedi Outcast</td>\n",
              "      <td>XB</td>\n",
              "      <td>NaN</td>\n",
              "      <td>Shooter</td>\n",
              "      <td>0.23</td>\n",
              "      <td>0.07</td>\n",
              "      <td>0.0</td>\n",
              "      <td>0.01</td>\n",
              "      <td>81.0</td>\n",
              "      <td>6.8</td>\n",
              "      <td>T</td>\n",
              "    </tr>\n",
              "    <tr>\n",
              "      <th>6133</th>\n",
              "      <td>Unreal Championship 2: The Liandri Conflict</td>\n",
              "      <td>XB</td>\n",
              "      <td>NaN</td>\n",
              "      <td>Shooter</td>\n",
              "      <td>0.22</td>\n",
              "      <td>0.05</td>\n",
              "      <td>0.0</td>\n",
              "      <td>0.01</td>\n",
              "      <td>85.0</td>\n",
              "      <td>8.2</td>\n",
              "      <td>M</td>\n",
              "    </tr>\n",
              "    <tr>\n",
              "      <th>7367</th>\n",
              "      <td>Robotech: Battlecry</td>\n",
              "      <td>XB</td>\n",
              "      <td>NaN</td>\n",
              "      <td>Shooter</td>\n",
              "      <td>0.16</td>\n",
              "      <td>0.05</td>\n",
              "      <td>0.0</td>\n",
              "      <td>0.01</td>\n",
              "      <td>74.0</td>\n",
              "      <td>7</td>\n",
              "      <td>T</td>\n",
              "    </tr>\n",
              "    <tr>\n",
              "      <th>9380</th>\n",
              "      <td>Transworld Surf</td>\n",
              "      <td>XB</td>\n",
              "      <td>NaN</td>\n",
              "      <td>Sports</td>\n",
              "      <td>0.10</td>\n",
              "      <td>0.03</td>\n",
              "      <td>0.0</td>\n",
              "      <td>0.00</td>\n",
              "      <td>76.0</td>\n",
              "      <td>tbd</td>\n",
              "      <td>T</td>\n",
              "    </tr>\n",
              "    <tr>\n",
              "      <th>9830</th>\n",
              "      <td>Godzilla: Destroy All Monsters Melee</td>\n",
              "      <td>XB</td>\n",
              "      <td>NaN</td>\n",
              "      <td>Fighting</td>\n",
              "      <td>0.09</td>\n",
              "      <td>0.03</td>\n",
              "      <td>0.0</td>\n",
              "      <td>0.00</td>\n",
              "      <td>71.0</td>\n",
              "      <td>6.8</td>\n",
              "      <td>T</td>\n",
              "    </tr>\n",
              "    <tr>\n",
              "      <th>12046</th>\n",
              "      <td>Drake of the 99 Dragons</td>\n",
              "      <td>XB</td>\n",
              "      <td>NaN</td>\n",
              "      <td>Shooter</td>\n",
              "      <td>0.05</td>\n",
              "      <td>0.01</td>\n",
              "      <td>0.0</td>\n",
              "      <td>0.00</td>\n",
              "      <td>22.0</td>\n",
              "      <td>1.8</td>\n",
              "      <td>T</td>\n",
              "    </tr>\n",
              "    <tr>\n",
              "      <th>12217</th>\n",
              "      <td>Rayman Arena</td>\n",
              "      <td>XB</td>\n",
              "      <td>NaN</td>\n",
              "      <td>Racing</td>\n",
              "      <td>0.05</td>\n",
              "      <td>0.01</td>\n",
              "      <td>0.0</td>\n",
              "      <td>0.00</td>\n",
              "      <td>50.0</td>\n",
              "      <td>tbd</td>\n",
              "      <td>E</td>\n",
              "    </tr>\n",
              "    <tr>\n",
              "      <th>12784</th>\n",
              "      <td>Tom Clancy's Rainbow Six: Critical Hour</td>\n",
              "      <td>XB</td>\n",
              "      <td>NaN</td>\n",
              "      <td>Shooter</td>\n",
              "      <td>0.04</td>\n",
              "      <td>0.01</td>\n",
              "      <td>0.0</td>\n",
              "      <td>0.00</td>\n",
              "      <td>54.0</td>\n",
              "      <td>3.6</td>\n",
              "      <td>M</td>\n",
              "    </tr>\n",
              "    <tr>\n",
              "      <th>14546</th>\n",
              "      <td>Combat Elite: WWII Paratroopers</td>\n",
              "      <td>XB</td>\n",
              "      <td>NaN</td>\n",
              "      <td>Shooter</td>\n",
              "      <td>0.02</td>\n",
              "      <td>0.01</td>\n",
              "      <td>0.0</td>\n",
              "      <td>0.00</td>\n",
              "      <td>56.0</td>\n",
              "      <td>tbd</td>\n",
              "      <td>T</td>\n",
              "    </tr>\n",
              "    <tr>\n",
              "      <th>14749</th>\n",
              "      <td>Tom and Jerry in War of the Whiskers</td>\n",
              "      <td>XB</td>\n",
              "      <td>NaN</td>\n",
              "      <td>Fighting</td>\n",
              "      <td>0.02</td>\n",
              "      <td>0.01</td>\n",
              "      <td>0.0</td>\n",
              "      <td>0.00</td>\n",
              "      <td>NaN</td>\n",
              "      <td>NaN</td>\n",
              "      <td>NaN</td>\n",
              "    </tr>\n",
              "    <tr>\n",
              "      <th>14931</th>\n",
              "      <td>The King of Fighters: Maximum Impact - Maniax</td>\n",
              "      <td>XB</td>\n",
              "      <td>NaN</td>\n",
              "      <td>Fighting</td>\n",
              "      <td>0.02</td>\n",
              "      <td>0.01</td>\n",
              "      <td>0.0</td>\n",
              "      <td>0.00</td>\n",
              "      <td>NaN</td>\n",
              "      <td>NaN</td>\n",
              "      <td>NaN</td>\n",
              "    </tr>\n",
              "    <tr>\n",
              "      <th>15816</th>\n",
              "      <td>Without Warning</td>\n",
              "      <td>XB</td>\n",
              "      <td>NaN</td>\n",
              "      <td>Shooter</td>\n",
              "      <td>0.01</td>\n",
              "      <td>0.00</td>\n",
              "      <td>0.0</td>\n",
              "      <td>0.00</td>\n",
              "      <td>45.0</td>\n",
              "      <td>2</td>\n",
              "      <td>M</td>\n",
              "    </tr>\n",
              "    <tr>\n",
              "      <th>16157</th>\n",
              "      <td>Aquaman: Battle for Atlantis</td>\n",
              "      <td>XB</td>\n",
              "      <td>NaN</td>\n",
              "      <td>Action</td>\n",
              "      <td>0.01</td>\n",
              "      <td>0.00</td>\n",
              "      <td>0.0</td>\n",
              "      <td>0.00</td>\n",
              "      <td>26.0</td>\n",
              "      <td>2.7</td>\n",
              "      <td>T</td>\n",
              "    </tr>\n",
              "  </tbody>\n",
              "</table>\n",
              "</div>"
            ],
            "text/plain": [
              "                                                    name platform  \\\n",
              "1699                           Hitman 2: Silent Assassin       XB   \n",
              "2281                                        Namco Museum       XB   \n",
              "3223                       Metal Gear Solid 2: Substance       XB   \n",
              "3704                               Def Jam: Fight for NY       XB   \n",
              "4294   The Chronicles of Riddick: Escape from Butcher...       XB   \n",
              "5769              Star Wars Jedi Knight II: Jedi Outcast       XB   \n",
              "6133         Unreal Championship 2: The Liandri Conflict       XB   \n",
              "7367                                 Robotech: Battlecry       XB   \n",
              "9380                                     Transworld Surf       XB   \n",
              "9830                Godzilla: Destroy All Monsters Melee       XB   \n",
              "12046                            Drake of the 99 Dragons       XB   \n",
              "12217                                       Rayman Arena       XB   \n",
              "12784            Tom Clancy's Rainbow Six: Critical Hour       XB   \n",
              "14546                    Combat Elite: WWII Paratroopers       XB   \n",
              "14749               Tom and Jerry in War of the Whiskers       XB   \n",
              "14931      The King of Fighters: Maximum Impact - Maniax       XB   \n",
              "15816                                    Without Warning       XB   \n",
              "16157                       Aquaman: Battle for Atlantis       XB   \n",
              "\n",
              "       year_of_release     genre  na_sales  eu_sales  jp_sales  other_sales  \\\n",
              "1699               NaN    Action      0.76      0.38       0.0         0.05   \n",
              "2281               NaN      Misc      0.77      0.11       0.0         0.04   \n",
              "3223               NaN    Action      0.38      0.22       0.0         0.03   \n",
              "3704               NaN  Fighting      0.43      0.10       0.0         0.02   \n",
              "4294               NaN   Shooter      0.32      0.11       0.0         0.02   \n",
              "5769               NaN   Shooter      0.23      0.07       0.0         0.01   \n",
              "6133               NaN   Shooter      0.22      0.05       0.0         0.01   \n",
              "7367               NaN   Shooter      0.16      0.05       0.0         0.01   \n",
              "9380               NaN    Sports      0.10      0.03       0.0         0.00   \n",
              "9830               NaN  Fighting      0.09      0.03       0.0         0.00   \n",
              "12046              NaN   Shooter      0.05      0.01       0.0         0.00   \n",
              "12217              NaN    Racing      0.05      0.01       0.0         0.00   \n",
              "12784              NaN   Shooter      0.04      0.01       0.0         0.00   \n",
              "14546              NaN   Shooter      0.02      0.01       0.0         0.00   \n",
              "14749              NaN  Fighting      0.02      0.01       0.0         0.00   \n",
              "14931              NaN  Fighting      0.02      0.01       0.0         0.00   \n",
              "15816              NaN   Shooter      0.01      0.00       0.0         0.00   \n",
              "16157              NaN    Action      0.01      0.00       0.0         0.00   \n",
              "\n",
              "       critic_score user_score rating  \n",
              "1699           84.0          8      M  \n",
              "2281           59.0        tbd      E  \n",
              "3223           87.0        8.5      M  \n",
              "3704           84.0        8.5      M  \n",
              "4294           89.0        8.9      M  \n",
              "5769           81.0        6.8      T  \n",
              "6133           85.0        8.2      M  \n",
              "7367           74.0          7      T  \n",
              "9380           76.0        tbd      T  \n",
              "9830           71.0        6.8      T  \n",
              "12046          22.0        1.8      T  \n",
              "12217          50.0        tbd      E  \n",
              "12784          54.0        3.6      M  \n",
              "14546          56.0        tbd      T  \n",
              "14749           NaN        NaN    NaN  \n",
              "14931           NaN        NaN    NaN  \n",
              "15816          45.0          2      M  \n",
              "16157          26.0        2.7      T  "
            ]
          },
          "execution_count": 128,
          "metadata": {},
          "output_type": "execute_result"
        }
      ],
      "source": [
        "games[(games['year_of_release'].isna()) & (games['platform'] == 'XB')]"
      ]
    },
    {
      "cell_type": "code",
      "execution_count": null,
      "metadata": {
        "id": "VJYSg6FtHkPm"
      },
      "outputs": [],
      "source": [
        "games.loc[1699, 'year_of_release'] = 2002\n",
        "games.loc[2281, 'year_of_release'] = 1999\n",
        "games.loc[3223, 'year_of_release'] = 2002\n",
        "games.loc[3704, 'year_of_release'] = 2004\n",
        "games.loc[4294, 'year_of_release'] = 2004\n",
        "games.loc[5769, 'year_of_release'] = 2002\n",
        "games.loc[6133, 'year_of_release'] = 2005\n",
        "games.loc[7367, 'year_of_release'] = 2002\n",
        "games.loc[9380, 'year_of_release'] = 2001\n",
        "games.loc[9830, 'year_of_release'] = 2002\n",
        "games.loc[12046, 'year_of_release'] = 2003\n",
        "games.loc[12217, 'year_of_release'] = 2001\n",
        "games.loc[12784, 'year_of_release'] = 2006\n",
        "games.loc[14546, 'year_of_release'] = 2005\n",
        "games.loc[14749, 'year_of_release'] = 2002\n",
        "games.loc[14931, 'year_of_release'] = 2005\n",
        "games.loc[15816, 'year_of_release'] = 2005\n",
        "games.loc[16157, 'year_of_release'] = 2003"
      ]
    },
    {
      "cell_type": "code",
      "execution_count": null,
      "metadata": {
        "id": "IOZDJqlqHkPm",
        "outputId": "d04ac760-7b01-499a-8781-38e492160d7b"
      },
      "outputs": [
        {
          "data": {
            "text/html": [
              "<div>\n",
              "<style scoped>\n",
              "    .dataframe tbody tr th:only-of-type {\n",
              "        vertical-align: middle;\n",
              "    }\n",
              "\n",
              "    .dataframe tbody tr th {\n",
              "        vertical-align: top;\n",
              "    }\n",
              "\n",
              "    .dataframe thead th {\n",
              "        text-align: right;\n",
              "    }\n",
              "</style>\n",
              "<table border=\"1\" class=\"dataframe\">\n",
              "  <thead>\n",
              "    <tr style=\"text-align: right;\">\n",
              "      <th></th>\n",
              "      <th>name</th>\n",
              "      <th>platform</th>\n",
              "      <th>year_of_release</th>\n",
              "      <th>genre</th>\n",
              "      <th>na_sales</th>\n",
              "      <th>eu_sales</th>\n",
              "      <th>jp_sales</th>\n",
              "      <th>other_sales</th>\n",
              "      <th>critic_score</th>\n",
              "      <th>user_score</th>\n",
              "      <th>rating</th>\n",
              "    </tr>\n",
              "  </thead>\n",
              "  <tbody>\n",
              "  </tbody>\n",
              "</table>\n",
              "</div>"
            ],
            "text/plain": [
              "Empty DataFrame\n",
              "Columns: [name, platform, year_of_release, genre, na_sales, eu_sales, jp_sales, other_sales, critic_score, user_score, rating]\n",
              "Index: []"
            ]
          },
          "execution_count": 130,
          "metadata": {},
          "output_type": "execute_result"
        }
      ],
      "source": [
        "games[games['year_of_release'].isna()]"
      ]
    },
    {
      "cell_type": "markdown",
      "metadata": {
        "id": "0JN9p4iEHkPm"
      },
      "source": [
        "Ahora que no tenemos más valores ausentes en la columna 'year_of_release'."
      ]
    },
    {
      "cell_type": "code",
      "execution_count": null,
      "metadata": {
        "id": "eFnpAnpdHkPm",
        "outputId": "a5038c89-4add-4e2a-a77d-aa8b7337ef57"
      },
      "outputs": [
        {
          "name": "stdout",
          "output_type": "stream",
          "text": [
            "<class 'pandas.core.frame.DataFrame'>\n",
            "Int64Index: 16713 entries, 0 to 16714\n",
            "Data columns (total 11 columns):\n",
            " #   Column           Non-Null Count  Dtype  \n",
            "---  ------           --------------  -----  \n",
            " 0   name             16713 non-null  object \n",
            " 1   platform         16713 non-null  object \n",
            " 2   year_of_release  16713 non-null  float64\n",
            " 3   genre            16713 non-null  object \n",
            " 4   na_sales         16713 non-null  float64\n",
            " 5   eu_sales         16713 non-null  float64\n",
            " 6   jp_sales         16713 non-null  float64\n",
            " 7   other_sales      16713 non-null  float64\n",
            " 8   critic_score     8137 non-null   float64\n",
            " 9   user_score       10014 non-null  object \n",
            " 10  rating           9949 non-null   object \n",
            "dtypes: float64(6), object(5)\n",
            "memory usage: 2.0+ MB\n"
          ]
        }
      ],
      "source": [
        "games.info()"
      ]
    },
    {
      "cell_type": "markdown",
      "metadata": {
        "id": "hioOwsxKHkPn"
      },
      "source": [
        "Ahora no tenemos valores ausentes en nuestra columna 'year_of_release' y estamos seguros de que los años fueron completados correctamente. Esto es indispensable para nuestro estudio."
      ]
    },
    {
      "cell_type": "markdown",
      "metadata": {
        "id": "Ni0gKvovHkPn"
      },
      "source": [
        "#### La columna: critic_score <a id='valores_ausentes_critic'></a>"
      ]
    },
    {
      "cell_type": "code",
      "execution_count": null,
      "metadata": {
        "id": "7JOBomf9HkPn",
        "outputId": "a3cef0d8-5054-4d9a-f054-1919c6b9c876"
      },
      "outputs": [
        {
          "name": "stdout",
          "output_type": "stream",
          "text": [
            "El número de filas con datos ausentes en la columna \"critic_score\" es: 8576\n",
            "\n",
            "El porcentaje de valores ausentes en la columna \"critic_score\" es: 51.313348890085564\n"
          ]
        }
      ],
      "source": [
        "print('El número de filas con datos ausentes en la columna \"critic_score\" es:', games['critic_score'].isna().sum())\n",
        "print()\n",
        "print('El porcentaje de valores ausentes en la columna \"critic_score\" es:', games['critic_score'].isna().sum()*100/len(games['name']))"
      ]
    },
    {
      "cell_type": "markdown",
      "metadata": {
        "id": "uNZDuhTDHkPn"
      },
      "source": [
        "Nos faltan la mitad de los datos para la columna 'critic_score'. Este es un porcentaje muy alto. Analizaremos esta columna para ver si podremos completar estos datos."
      ]
    },
    {
      "cell_type": "code",
      "execution_count": null,
      "metadata": {
        "id": "cGrQf1aJHkPn",
        "outputId": "4d77bfac-6c29-41dc-fe94-bede9397c36c"
      },
      "outputs": [
        {
          "data": {
            "text/html": [
              "<div>\n",
              "<style scoped>\n",
              "    .dataframe tbody tr th:only-of-type {\n",
              "        vertical-align: middle;\n",
              "    }\n",
              "\n",
              "    .dataframe tbody tr th {\n",
              "        vertical-align: top;\n",
              "    }\n",
              "\n",
              "    .dataframe thead th {\n",
              "        text-align: right;\n",
              "    }\n",
              "</style>\n",
              "<table border=\"1\" class=\"dataframe\">\n",
              "  <thead>\n",
              "    <tr style=\"text-align: right;\">\n",
              "      <th></th>\n",
              "      <th>name</th>\n",
              "      <th>platform</th>\n",
              "      <th>year_of_release</th>\n",
              "      <th>genre</th>\n",
              "      <th>na_sales</th>\n",
              "      <th>eu_sales</th>\n",
              "      <th>jp_sales</th>\n",
              "      <th>other_sales</th>\n",
              "      <th>critic_score</th>\n",
              "      <th>user_score</th>\n",
              "      <th>rating</th>\n",
              "    </tr>\n",
              "  </thead>\n",
              "  <tbody>\n",
              "    <tr>\n",
              "      <th>1</th>\n",
              "      <td>Super Mario Bros.</td>\n",
              "      <td>NES</td>\n",
              "      <td>1985.0</td>\n",
              "      <td>Platform</td>\n",
              "      <td>29.08</td>\n",
              "      <td>3.58</td>\n",
              "      <td>6.81</td>\n",
              "      <td>0.77</td>\n",
              "      <td>NaN</td>\n",
              "      <td>NaN</td>\n",
              "      <td>NaN</td>\n",
              "    </tr>\n",
              "    <tr>\n",
              "      <th>4</th>\n",
              "      <td>Pokemon Red/Pokemon Blue</td>\n",
              "      <td>GB</td>\n",
              "      <td>1996.0</td>\n",
              "      <td>Role-Playing</td>\n",
              "      <td>11.27</td>\n",
              "      <td>8.89</td>\n",
              "      <td>10.22</td>\n",
              "      <td>1.00</td>\n",
              "      <td>NaN</td>\n",
              "      <td>NaN</td>\n",
              "      <td>NaN</td>\n",
              "    </tr>\n",
              "    <tr>\n",
              "      <th>5</th>\n",
              "      <td>Tetris</td>\n",
              "      <td>GB</td>\n",
              "      <td>1989.0</td>\n",
              "      <td>Puzzle</td>\n",
              "      <td>23.20</td>\n",
              "      <td>2.26</td>\n",
              "      <td>4.22</td>\n",
              "      <td>0.58</td>\n",
              "      <td>NaN</td>\n",
              "      <td>NaN</td>\n",
              "      <td>NaN</td>\n",
              "    </tr>\n",
              "    <tr>\n",
              "      <th>9</th>\n",
              "      <td>Duck Hunt</td>\n",
              "      <td>NES</td>\n",
              "      <td>1984.0</td>\n",
              "      <td>Shooter</td>\n",
              "      <td>26.93</td>\n",
              "      <td>0.63</td>\n",
              "      <td>0.28</td>\n",
              "      <td>0.47</td>\n",
              "      <td>NaN</td>\n",
              "      <td>NaN</td>\n",
              "      <td>NaN</td>\n",
              "    </tr>\n",
              "    <tr>\n",
              "      <th>10</th>\n",
              "      <td>Nintendogs</td>\n",
              "      <td>DS</td>\n",
              "      <td>2005.0</td>\n",
              "      <td>Simulation</td>\n",
              "      <td>9.05</td>\n",
              "      <td>10.95</td>\n",
              "      <td>1.93</td>\n",
              "      <td>2.74</td>\n",
              "      <td>NaN</td>\n",
              "      <td>NaN</td>\n",
              "      <td>NaN</td>\n",
              "    </tr>\n",
              "    <tr>\n",
              "      <th>...</th>\n",
              "      <td>...</td>\n",
              "      <td>...</td>\n",
              "      <td>...</td>\n",
              "      <td>...</td>\n",
              "      <td>...</td>\n",
              "      <td>...</td>\n",
              "      <td>...</td>\n",
              "      <td>...</td>\n",
              "      <td>...</td>\n",
              "      <td>...</td>\n",
              "      <td>...</td>\n",
              "    </tr>\n",
              "    <tr>\n",
              "      <th>16710</th>\n",
              "      <td>Samurai Warriors: Sanada Maru</td>\n",
              "      <td>PS3</td>\n",
              "      <td>2016.0</td>\n",
              "      <td>Action</td>\n",
              "      <td>0.00</td>\n",
              "      <td>0.00</td>\n",
              "      <td>0.01</td>\n",
              "      <td>0.00</td>\n",
              "      <td>NaN</td>\n",
              "      <td>NaN</td>\n",
              "      <td>NaN</td>\n",
              "    </tr>\n",
              "    <tr>\n",
              "      <th>16711</th>\n",
              "      <td>LMA Manager 2007</td>\n",
              "      <td>X360</td>\n",
              "      <td>2006.0</td>\n",
              "      <td>Sports</td>\n",
              "      <td>0.00</td>\n",
              "      <td>0.01</td>\n",
              "      <td>0.00</td>\n",
              "      <td>0.00</td>\n",
              "      <td>NaN</td>\n",
              "      <td>NaN</td>\n",
              "      <td>NaN</td>\n",
              "    </tr>\n",
              "    <tr>\n",
              "      <th>16712</th>\n",
              "      <td>Haitaka no Psychedelica</td>\n",
              "      <td>PSV</td>\n",
              "      <td>2016.0</td>\n",
              "      <td>Adventure</td>\n",
              "      <td>0.00</td>\n",
              "      <td>0.00</td>\n",
              "      <td>0.01</td>\n",
              "      <td>0.00</td>\n",
              "      <td>NaN</td>\n",
              "      <td>NaN</td>\n",
              "      <td>NaN</td>\n",
              "    </tr>\n",
              "    <tr>\n",
              "      <th>16713</th>\n",
              "      <td>Spirits &amp; Spells</td>\n",
              "      <td>GBA</td>\n",
              "      <td>2003.0</td>\n",
              "      <td>Platform</td>\n",
              "      <td>0.01</td>\n",
              "      <td>0.00</td>\n",
              "      <td>0.00</td>\n",
              "      <td>0.00</td>\n",
              "      <td>NaN</td>\n",
              "      <td>NaN</td>\n",
              "      <td>NaN</td>\n",
              "    </tr>\n",
              "    <tr>\n",
              "      <th>16714</th>\n",
              "      <td>Winning Post 8 2016</td>\n",
              "      <td>PSV</td>\n",
              "      <td>2016.0</td>\n",
              "      <td>Simulation</td>\n",
              "      <td>0.00</td>\n",
              "      <td>0.00</td>\n",
              "      <td>0.01</td>\n",
              "      <td>0.00</td>\n",
              "      <td>NaN</td>\n",
              "      <td>NaN</td>\n",
              "      <td>NaN</td>\n",
              "    </tr>\n",
              "  </tbody>\n",
              "</table>\n",
              "<p>8576 rows × 11 columns</p>\n",
              "</div>"
            ],
            "text/plain": [
              "                                name platform  year_of_release         genre  \\\n",
              "1                  Super Mario Bros.      NES           1985.0      Platform   \n",
              "4           Pokemon Red/Pokemon Blue       GB           1996.0  Role-Playing   \n",
              "5                             Tetris       GB           1989.0        Puzzle   \n",
              "9                          Duck Hunt      NES           1984.0       Shooter   \n",
              "10                        Nintendogs       DS           2005.0    Simulation   \n",
              "...                              ...      ...              ...           ...   \n",
              "16710  Samurai Warriors: Sanada Maru      PS3           2016.0        Action   \n",
              "16711               LMA Manager 2007     X360           2006.0        Sports   \n",
              "16712        Haitaka no Psychedelica      PSV           2016.0     Adventure   \n",
              "16713               Spirits & Spells      GBA           2003.0      Platform   \n",
              "16714            Winning Post 8 2016      PSV           2016.0    Simulation   \n",
              "\n",
              "       na_sales  eu_sales  jp_sales  other_sales  critic_score user_score  \\\n",
              "1         29.08      3.58      6.81         0.77           NaN        NaN   \n",
              "4         11.27      8.89     10.22         1.00           NaN        NaN   \n",
              "5         23.20      2.26      4.22         0.58           NaN        NaN   \n",
              "9         26.93      0.63      0.28         0.47           NaN        NaN   \n",
              "10         9.05     10.95      1.93         2.74           NaN        NaN   \n",
              "...         ...       ...       ...          ...           ...        ...   \n",
              "16710      0.00      0.00      0.01         0.00           NaN        NaN   \n",
              "16711      0.00      0.01      0.00         0.00           NaN        NaN   \n",
              "16712      0.00      0.00      0.01         0.00           NaN        NaN   \n",
              "16713      0.01      0.00      0.00         0.00           NaN        NaN   \n",
              "16714      0.00      0.00      0.01         0.00           NaN        NaN   \n",
              "\n",
              "      rating  \n",
              "1        NaN  \n",
              "4        NaN  \n",
              "5        NaN  \n",
              "9        NaN  \n",
              "10       NaN  \n",
              "...      ...  \n",
              "16710    NaN  \n",
              "16711    NaN  \n",
              "16712    NaN  \n",
              "16713    NaN  \n",
              "16714    NaN  \n",
              "\n",
              "[8576 rows x 11 columns]"
            ]
          },
          "execution_count": 133,
          "metadata": {},
          "output_type": "execute_result"
        }
      ],
      "source": [
        "critic_filtered_nan = games[games['critic_score'].fillna('x') == 'x']\n",
        "critic_filtered_nan"
      ]
    },
    {
      "cell_type": "markdown",
      "metadata": {
        "id": "3pHs4EHAHkPn"
      },
      "source": [
        "Una alternativa sería rellanar los valores ausentes buscando el mismo juego en otras consolas (siempre y cuando sea del mismo año). Vamos a revisar esta hipotesis:"
      ]
    },
    {
      "cell_type": "code",
      "execution_count": null,
      "metadata": {
        "id": "_BsKZtpJHkPn",
        "outputId": "7a5b2638-45ca-4d52-d9c6-5878fe537939"
      },
      "outputs": [
        {
          "data": {
            "text/html": [
              "<div>\n",
              "<style scoped>\n",
              "    .dataframe tbody tr th:only-of-type {\n",
              "        vertical-align: middle;\n",
              "    }\n",
              "\n",
              "    .dataframe tbody tr th {\n",
              "        vertical-align: top;\n",
              "    }\n",
              "\n",
              "    .dataframe thead th {\n",
              "        text-align: right;\n",
              "    }\n",
              "</style>\n",
              "<table border=\"1\" class=\"dataframe\">\n",
              "  <thead>\n",
              "    <tr style=\"text-align: right;\">\n",
              "      <th></th>\n",
              "      <th>name</th>\n",
              "      <th>platform</th>\n",
              "      <th>year_of_release</th>\n",
              "      <th>genre</th>\n",
              "      <th>na_sales</th>\n",
              "      <th>eu_sales</th>\n",
              "      <th>jp_sales</th>\n",
              "      <th>other_sales</th>\n",
              "      <th>critic_score</th>\n",
              "      <th>user_score</th>\n",
              "      <th>rating</th>\n",
              "    </tr>\n",
              "  </thead>\n",
              "  <tbody>\n",
              "    <tr>\n",
              "      <th>183</th>\n",
              "      <td>Madden NFL 2004</td>\n",
              "      <td>PS2</td>\n",
              "      <td>2003.0</td>\n",
              "      <td>Sports</td>\n",
              "      <td>4.26</td>\n",
              "      <td>0.26</td>\n",
              "      <td>0.01</td>\n",
              "      <td>0.71</td>\n",
              "      <td>94.0</td>\n",
              "      <td>8.5</td>\n",
              "      <td>E</td>\n",
              "    </tr>\n",
              "    <tr>\n",
              "      <th>1881</th>\n",
              "      <td>Madden NFL 2004</td>\n",
              "      <td>XB</td>\n",
              "      <td>2003.0</td>\n",
              "      <td>Sports</td>\n",
              "      <td>1.02</td>\n",
              "      <td>0.02</td>\n",
              "      <td>0.00</td>\n",
              "      <td>0.05</td>\n",
              "      <td>92.0</td>\n",
              "      <td>8.3</td>\n",
              "      <td>E</td>\n",
              "    </tr>\n",
              "    <tr>\n",
              "      <th>3889</th>\n",
              "      <td>Madden NFL 2004</td>\n",
              "      <td>GC</td>\n",
              "      <td>2003.0</td>\n",
              "      <td>Sports</td>\n",
              "      <td>0.40</td>\n",
              "      <td>0.10</td>\n",
              "      <td>0.00</td>\n",
              "      <td>0.01</td>\n",
              "      <td>94.0</td>\n",
              "      <td>7.7</td>\n",
              "      <td>E</td>\n",
              "    </tr>\n",
              "    <tr>\n",
              "      <th>5708</th>\n",
              "      <td>Madden NFL 2004</td>\n",
              "      <td>GBA</td>\n",
              "      <td>2003.0</td>\n",
              "      <td>Sports</td>\n",
              "      <td>0.22</td>\n",
              "      <td>0.08</td>\n",
              "      <td>0.00</td>\n",
              "      <td>0.01</td>\n",
              "      <td>70.0</td>\n",
              "      <td>6.6</td>\n",
              "      <td>E</td>\n",
              "    </tr>\n",
              "  </tbody>\n",
              "</table>\n",
              "</div>"
            ],
            "text/plain": [
              "                 name platform  year_of_release   genre  na_sales  eu_sales  \\\n",
              "183   Madden NFL 2004      PS2           2003.0  Sports      4.26      0.26   \n",
              "1881  Madden NFL 2004       XB           2003.0  Sports      1.02      0.02   \n",
              "3889  Madden NFL 2004       GC           2003.0  Sports      0.40      0.10   \n",
              "5708  Madden NFL 2004      GBA           2003.0  Sports      0.22      0.08   \n",
              "\n",
              "      jp_sales  other_sales  critic_score user_score rating  \n",
              "183       0.01         0.71          94.0        8.5      E  \n",
              "1881      0.00         0.05          92.0        8.3      E  \n",
              "3889      0.00         0.01          94.0        7.7      E  \n",
              "5708      0.00         0.01          70.0        6.6      E  "
            ]
          },
          "execution_count": 134,
          "metadata": {},
          "output_type": "execute_result"
        }
      ],
      "source": [
        "games.query('name == \"Madden NFL 2004\"')"
      ]
    },
    {
      "cell_type": "code",
      "execution_count": null,
      "metadata": {
        "id": "a5L8BXCbHkPo",
        "outputId": "8aaea395-73d8-4d34-af3d-ab4fb3472da7"
      },
      "outputs": [
        {
          "name": "stdout",
          "output_type": "stream",
          "text": [
            "Madden NFL 2004 critic_score mean is: 87.5\n",
            "Madden NFL 2004 critic_score median is: 93.0\n"
          ]
        }
      ],
      "source": [
        "print('Madden NFL 2004 critic_score mean is:', games.query('name == \"Madden NFL 2004\"')['critic_score'].mean())\n",
        "print('Madden NFL 2004 critic_score median is:', games.query('name == \"Madden NFL 2004\"')['critic_score'].median())"
      ]
    },
    {
      "cell_type": "markdown",
      "metadata": {
        "id": "iOU2MtBrHkPo"
      },
      "source": [
        "Como se puede ver en el ejemplo arriba, tanto el puntaje de los criticos como de los usuarios puede variar mucho para el mismo juego en distintas plataformas. O sea, que podemos descartar de inmediato rellenar los valores ausentes a partir de medias, si bien la mediana podría ser una alternativa, si hubiesemos rellenado con la mediana el valor ausente de GBA estariamos cambiando el resultado radicalmente. Analizemos el comportamiento de la columna critic_score:"
      ]
    },
    {
      "cell_type": "code",
      "execution_count": null,
      "metadata": {
        "id": "0jgVhJTAHkPo",
        "outputId": "964d7568-2b0a-4e41-b451-83c2373470a8"
      },
      "outputs": [
        {
          "name": "stdout",
          "output_type": "stream",
          "text": [
            "Descrpción de valores de la columna critic_score:\n",
            "count    8137.000000\n",
            "mean       68.967679\n",
            "std        13.938165\n",
            "min        13.000000\n",
            "25%        60.000000\n",
            "50%        71.000000\n",
            "75%        79.000000\n",
            "max        98.000000\n",
            "Name: critic_score, dtype: float64\n"
          ]
        }
      ],
      "source": [
        "print('Descrpción de valores de la columna critic_score:')\n",
        "print(games['critic_score'].describe())"
      ]
    },
    {
      "cell_type": "markdown",
      "metadata": {
        "id": "heNxTGbJHkPo"
      },
      "source": [
        "Notamos que la mediana es de 69 puntos (sobre 100) con una desviación estándar de 14 puntos. La media está bastante cerca de la mediana con 71 puntos. Revisemos la distribución de los valores ausentes de la columna 'critic_score':"
      ]
    },
    {
      "cell_type": "code",
      "execution_count": null,
      "metadata": {
        "id": "Sv_TD89XHkPo",
        "outputId": "3809b1d6-08b6-4b95-b194-d1391f1e37d2"
      },
      "outputs": [
        {
          "data": {
            "text/plain": [
              "DS      0.167211\n",
              "PS      0.116255\n",
              "PS2     0.100630\n",
              "PSP     0.087104\n",
              "Wii     0.085704\n",
              "PS3     0.059585\n",
              "GBA     0.044776\n",
              "3DS     0.041045\n",
              "X360    0.040345\n",
              "N64     0.037197\n",
              "PSV     0.036147\n",
              "PC      0.030201\n",
              "SNES    0.027868\n",
              "SAT     0.020173\n",
              "PS4     0.016325\n",
              "2600    0.015508\n",
              "GC      0.012593\n",
              "XB      0.011544\n",
              "NES     0.011427\n",
              "GB      0.011427\n",
              "XOne    0.009095\n",
              "WiiU    0.006646\n",
              "DC      0.004431\n",
              "GEN     0.003148\n",
              "NG      0.001399\n",
              "SCD     0.000700\n",
              "WS      0.000700\n",
              "3DO     0.000350\n",
              "TG16    0.000233\n",
              "PCFX    0.000117\n",
              "GG      0.000117\n",
              "Name: platform, dtype: float64"
            ]
          },
          "execution_count": 137,
          "metadata": {},
          "output_type": "execute_result"
        }
      ],
      "source": [
        "critic_filtered_nan['platform'].value_counts(normalize=True)"
      ]
    },
    {
      "cell_type": "markdown",
      "metadata": {
        "id": "2JwI0Y9pHkPo"
      },
      "source": [
        "Notamos que las 3 consolas con mayor porcentaje de valores ausentes (sobre el 10%) son DS, PS y PS2. La nintendo DS llega casi al 17% de sus valores como ausentes. Luego tenemos PSP, Wii y PS3 que tienen por sobre del 5% de valores ausentes. El resto está por debajo del 5%. Revisemos en base a los generos:"
      ]
    },
    {
      "cell_type": "code",
      "execution_count": null,
      "metadata": {
        "id": "BlACDq7MHkPo",
        "outputId": "8e5280d2-3a7b-42b6-89c1-c434228c4b95"
      },
      "outputs": [
        {
          "data": {
            "text/plain": [
              "Action          0.172458\n",
              "Misc            0.143074\n",
              "Sports          0.134562\n",
              "Adventure       0.114272\n",
              "Role-Playing    0.088736\n",
              "Simulation      0.060751\n",
              "Racing          0.059118\n",
              "Fighting        0.051306\n",
              "Platform        0.045592\n",
              "Strategy        0.044426\n",
              "Shooter         0.044193\n",
              "Puzzle          0.041511\n",
              "Name: genre, dtype: float64"
            ]
          },
          "execution_count": 138,
          "metadata": {},
          "output_type": "execute_result"
        }
      ],
      "source": [
        "critic_filtered_nan['genre'].value_counts(normalize=True)"
      ]
    },
    {
      "cell_type": "markdown",
      "metadata": {
        "id": "zzTBG7PHHkPo"
      },
      "source": [
        "Los generos de Action tienen 17% de sus valores ausentes, seguido por Misc con 14%, Sports con 13% y Adventure con 11%. El resto de los generos varian entre el 9% y el 4%, con lo que podemos ver que en terminos de genero los valores ausentes están más distribuidos. Analizemos entonces en base a los años de estreno:"
      ]
    },
    {
      "cell_type": "code",
      "execution_count": null,
      "metadata": {
        "id": "8691mAipHkPp",
        "outputId": "6922afe0-083a-426a-e30a-75751037699d"
      },
      "outputs": [
        {
          "data": {
            "text/plain": [
              "2009.0    0.091768\n",
              "2010.0    0.088969\n",
              "2008.0    0.083955\n",
              "2011.0    0.076259\n",
              "2007.0    0.060168\n",
              "2006.0    0.045826\n",
              "2015.0    0.044426\n",
              "1998.0    0.041161\n",
              "2012.0    0.039412\n",
              "2014.0    0.037313\n",
              "1999.0    0.034981\n",
              "2005.0    0.033815\n",
              "1997.0    0.031950\n",
              "2013.0    0.031833\n",
              "2016.0    0.031483\n",
              "1996.0    0.029734\n",
              "1995.0    0.025536\n",
              "2000.0    0.024604\n",
              "2002.0    0.024021\n",
              "2004.0    0.023671\n",
              "2003.0    0.022621\n",
              "2001.0    0.018190\n",
              "1994.0    0.013993\n",
              "1993.0    0.006996\n",
              "1981.0    0.005364\n",
              "1992.0    0.004897\n",
              "1991.0    0.004781\n",
              "1982.0    0.004314\n",
              "1986.0    0.002449\n",
              "1989.0    0.002099\n",
              "1983.0    0.001982\n",
              "1990.0    0.001866\n",
              "1987.0    0.001866\n",
              "1984.0    0.001632\n",
              "1980.0    0.001632\n",
              "1988.0    0.001632\n",
              "1985.0    0.001516\n",
              "1978.0    0.000700\n",
              "1977.0    0.000350\n",
              "1979.0    0.000117\n",
              "2018.0    0.000117\n",
              "Name: year_of_release, dtype: float64"
            ]
          },
          "execution_count": 139,
          "metadata": {},
          "output_type": "execute_result"
        }
      ],
      "source": [
        "critic_filtered_nan['year_of_release'].value_counts(normalize=True)"
      ]
    },
    {
      "cell_type": "markdown",
      "metadata": {
        "id": "LFrM9YZKHkPp"
      },
      "source": [
        "Casi la mitad de los valores ausentes se encuentran entre los años 2006 y 2011 (45%). El resto de los años tiene porcentajes de valores ausentes menores al 5%."
      ]
    },
    {
      "cell_type": "code",
      "execution_count": null,
      "metadata": {
        "id": "eB9G3Hw6HkPp",
        "outputId": "77eb28d1-64ed-49d8-be56-3d15e83196f3"
      },
      "outputs": [
        {
          "data": {
            "image/png": "[encoded data removed]",
            "text/plain": [
              "<Figure size 432x288 with 1 Axes>"
            ]
          },
          "metadata": {
            "needs_background": "light"
          },
          "output_type": "display_data"
        }
      ],
      "source": [
        "games.plot(x='critic_score', y='year_of_release', kind='scatter')\n",
        "plt.title('Critic Scores per year')\n",
        "plt.show(block=False)"
      ]
    },
    {
      "cell_type": "markdown",
      "metadata": {
        "id": "HOajFlMnHkPp"
      },
      "source": [
        "Como se ve en el gráfico, casi no tenemos critic_score antes del año 2000. Además podemos comprobar que la mayoría de los critic_scores tiene un puntaje de al menos 40 sobre 100. Al buscar en internet, descubrimos que el Entertainment Software Rating Board (ESRB) fue establecido en 1994, si bien este organismo se preocupa más bien de clasificar más que de \"poner nota\" a los video juegos, el mismo nos da una idea de cuando comenzó la preocupación por puntuar los video juegos. Al menos, esta información es congruente con nuestros datos. O sea que antes de esta fecha será dificil conseguir datos. Nos concentraremos entonces del 2000 en adelante."
      ]
    },
    {
      "cell_type": "code",
      "execution_count": null,
      "metadata": {
        "id": "cKX2JsoCHkPp",
        "outputId": "3aa2a164-2256-4b21-a16d-73e23b20d061"
      },
      "outputs": [
        {
          "data": {
            "text/plain": [
              "DS      0.214649\n",
              "PS2     0.129269\n",
              "PSP     0.111893\n",
              "Wii     0.110096\n",
              "PS3     0.076543\n",
              "GBA     0.057519\n",
              "3DS     0.052726\n",
              "X360    0.051827\n",
              "PSV     0.046435\n",
              "PC      0.034602\n",
              "PS      0.023966\n",
              "PS4     0.020971\n",
              "GC      0.016177\n",
              "XB      0.014829\n",
              "XOne    0.011684\n",
              "N64     0.010635\n",
              "WiiU    0.008538\n",
              "GB      0.004044\n",
              "DC      0.002996\n",
              "WS      0.000599\n",
              "Name: platform, dtype: float64"
            ]
          },
          "execution_count": 141,
          "metadata": {},
          "output_type": "execute_result"
        }
      ],
      "source": [
        "critic_filtered_nan.query('year_of_release >= 2000')['platform'].value_counts(normalize=True)"
      ]
    },
    {
      "cell_type": "markdown",
      "metadata": {
        "id": "ZaT5v2BVHkPp"
      },
      "source": [
        "Filtrando para los años después del 2000, nos damos cuenta que la PS sale de nuestra lista. Sin embargo DS tiene 21% de valores ausentes seguida por la PS2 con 13% y luego la PSP y Wii con 11%."
      ]
    },
    {
      "cell_type": "code",
      "execution_count": null,
      "metadata": {
        "id": "M21QBv0xHkPq",
        "outputId": "702cc54f-0c5b-4b08-b509-211ef5b14b20"
      },
      "outputs": [
        {
          "data": {
            "text/plain": [
              "Action          0.188436\n",
              "Misc            0.165518\n",
              "Adventure       0.132564\n",
              "Sports          0.123877\n",
              "Role-Playing    0.089874\n",
              "Simulation      0.066058\n",
              "Racing          0.048682\n",
              "Puzzle          0.039694\n",
              "Strategy        0.039545\n",
              "Fighting        0.037597\n",
              "Platform        0.035650\n",
              "Shooter         0.032504\n",
              "Name: genre, dtype: float64"
            ]
          },
          "execution_count": 142,
          "metadata": {},
          "output_type": "execute_result"
        }
      ],
      "source": [
        "critic_filtered_nan.query('year_of_release >= 2000')['genre'].value_counts(normalize=True)"
      ]
    },
    {
      "cell_type": "markdown",
      "metadata": {
        "id": "ZtG-lobvHkPq"
      },
      "source": [
        "No hay mayores cambios con respecto a los generos a nivel porcentual."
      ]
    },
    {
      "cell_type": "code",
      "execution_count": null,
      "metadata": {
        "id": "BREIyL_5HkPq",
        "outputId": "447132a1-052a-4bfb-d966-219616d63ec5"
      },
      "outputs": [
        {
          "data": {
            "text/plain": [
              "2009.0    0.117885\n",
              "2010.0    0.114290\n",
              "2008.0    0.107849\n",
              "2011.0    0.097963\n",
              "2007.0    0.077292\n",
              "2006.0    0.058868\n",
              "2015.0    0.057070\n",
              "2012.0    0.050629\n",
              "2014.0    0.047933\n",
              "2005.0    0.043439\n",
              "2013.0    0.040893\n",
              "2016.0    0.040443\n",
              "2000.0    0.031606\n",
              "2002.0    0.030857\n",
              "2004.0    0.030407\n",
              "2003.0    0.029059\n",
              "2001.0    0.023367\n",
              "2018.0    0.000150\n",
              "Name: year_of_release, dtype: float64"
            ]
          },
          "execution_count": 143,
          "metadata": {},
          "output_type": "execute_result"
        }
      ],
      "source": [
        "critic_filtered_nan.query('year_of_release >= 2000')['year_of_release'].value_counts(normalize=True)"
      ]
    },
    {
      "cell_type": "markdown",
      "metadata": {
        "id": "JMgNgLt4HkPq"
      },
      "source": [
        "Con los años, tampoco hay mucha variación. Los porcentajes aumentan un poco pero la distribución es la misma. "
      ]
    },
    {
      "cell_type": "markdown",
      "metadata": {
        "id": "VlpHu3h5HkPq"
      },
      "source": [
        "##### Conclusión:\n",
        "Analizamos la columna critic_score, revisamos los porcentajes de valores ausentes que son enormes. Tratamos de buscar alternativas para reemplazar estos valores en base a los datos existentes, pero concluimos que esto afectaría al estudio. Revisamos distintas bases de datos online pero llegamos a la conclusión de que estos datos no pueden ser reemplazados con datos de otra base ya que los criterios utilizados para la puntación nos son desconocidos. Ingresar datos de puntuación entonces seria como inventar datos, lo que también afectaría el estudio. En consecuencia, dejaremos los valores ausentes."
      ]
    },
    {
      "cell_type": "markdown",
      "metadata": {
        "id": "wjnekO1-HkPq"
      },
      "source": [
        "#### La columna: user_score <a id='valores_ausentes_user'></a>"
      ]
    },
    {
      "cell_type": "markdown",
      "metadata": {
        "id": "8Hm5tvBtHkPq"
      },
      "source": [
        "La columna de 'user_score' tiene los mismos problemas que la columna 'critic_score'. Vamos a revisar los valores únicos para ver si encontramos algún, otro problema:"
      ]
    },
    {
      "cell_type": "code",
      "execution_count": null,
      "metadata": {
        "id": "eXq7moAwHkPq",
        "outputId": "7c33eab1-c69e-427a-b39d-824236e01aee"
      },
      "outputs": [
        {
          "data": {
            "text/plain": [
              "array(['8', nan, '8.3', '8.5', '6.6', '8.4', '8.6', '7.7', '6.3', '7.4',\n",
              "       '8.2', '9', '7.9', '8.1', '8.7', '7.1', '3.4', '5.3', '4.8', '3.2',\n",
              "       '8.9', '6.4', '7.8', '7.5', '2.6', '7.2', '9.2', '7', '7.3', '4.3',\n",
              "       '7.6', '5.7', '5', '9.1', '6.5', 'tbd', '8.8', '6.9', '9.4', '6.8',\n",
              "       '6.1', '6.7', '5.4', '4', '4.9', '4.5', '9.3', '6.2', '4.2', '6',\n",
              "       '3.7', '4.1', '5.8', '5.6', '5.5', '4.4', '4.6', '5.9', '3.9',\n",
              "       '3.1', '2.9', '5.2', '3.3', '4.7', '5.1', '3.5', '2.5', '1.9', '3',\n",
              "       '2.7', '2.2', '2', '9.5', '2.1', '3.6', '2.8', '1.8', '3.8', '0',\n",
              "       '1.6', '9.6', '2.4', '1.7', '1.1', '0.3', '1.5', '0.7', '1.2',\n",
              "       '2.3', '0.5', '1.3', '0.2', '0.6', '1.4', '0.9', '1', '9.7'],\n",
              "      dtype=object)"
            ]
          },
          "execution_count": 144,
          "metadata": {},
          "output_type": "execute_result"
        }
      ],
      "source": [
        "games['user_score'].unique()"
      ]
    },
    {
      "cell_type": "markdown",
      "metadata": {
        "id": "FINZrLkEHkPr"
      },
      "source": [
        "En esta columna notamos que a parte de los valores ausentes (nan), tenemos valores tbd \"to be determined\" y valores en cero. Los valores tbd son equivalentes a valores ausentes, veamos que porcentaje de los datos representan:"
      ]
    },
    {
      "cell_type": "code",
      "execution_count": null,
      "metadata": {
        "id": "YsNDm2fkHkPr",
        "outputId": "ab22678d-9705-4fdd-e85c-21870eb430d0"
      },
      "outputs": [
        {
          "data": {
            "text/plain": [
              "tbd    0.242061\n",
              "7.8    0.032355\n",
              "8      0.028959\n",
              "8.2    0.028161\n",
              "8.3    0.025364\n",
              "         ...   \n",
              "0.6    0.000200\n",
              "1.3    0.000200\n",
              "0.5    0.000200\n",
              "0      0.000100\n",
              "9.7    0.000100\n",
              "Name: user_score, Length: 96, dtype: float64"
            ]
          },
          "execution_count": 145,
          "metadata": {},
          "output_type": "execute_result"
        }
      ],
      "source": [
        "games['user_score'].value_counts(normalize=True)"
      ]
    },
    {
      "cell_type": "markdown",
      "metadata": {
        "id": "C-2SG79EHkPr"
      },
      "source": [
        "Como se puede apreciar, los valores en cero son casi despreciables, sin embargo los tbd corresponden al 24% de los datos. "
      ]
    },
    {
      "cell_type": "code",
      "execution_count": null,
      "metadata": {
        "id": "s8MRU7CDHkPr"
      },
      "outputs": [],
      "source": [
        "games.loc[games['user_score'] == 'tbd', 'user_score'] = float('nan')"
      ]
    },
    {
      "cell_type": "markdown",
      "metadata": {
        "id": "s3YlUGEXHkPr"
      },
      "source": [
        "##### Conclusión:\n",
        "La columna 'user_score' tiene los mismos problemas que la columna 'critic_score'. Sus valores ausentes no pueden ser completados. Notamos que a parte de los valores claramente ausentes, esta columna tenía valores tbd que corresponden también a valores no ingresados. Estos valores se transformaron en ausentes, para poder proseguir con nuestros estudio."
      ]
    },
    {
      "cell_type": "markdown",
      "metadata": {
        "id": "D6ONrglUHkPr"
      },
      "source": [
        "#### La columna: rating <a id='valores_ausentes_rating'></a>"
      ]
    },
    {
      "cell_type": "code",
      "execution_count": null,
      "metadata": {
        "id": "NbmxtKQsHkPr",
        "outputId": "a5523e95-82b2-470d-91b6-8a167959d8fa"
      },
      "outputs": [
        {
          "name": "stdout",
          "output_type": "stream",
          "text": [
            "El número de filas con datos ausentes en la columna \"rating\" es: 6764\n",
            "\n",
            "El porcentaje de valores ausentes en la columna \"rating\" es: 40.4714892598576\n"
          ]
        }
      ],
      "source": [
        "print('El número de filas con datos ausentes en la columna \"rating\" es:', games['rating'].isna().sum())\n",
        "print()\n",
        "print('El porcentaje de valores ausentes en la columna \"rating\" es:', games['rating'].isna().sum()*100/len(games['name']))"
      ]
    },
    {
      "cell_type": "code",
      "execution_count": null,
      "metadata": {
        "id": "H_eqJAIGHkPs",
        "outputId": "badea24a-6f98-44ed-aa32-88740a5c1edf"
      },
      "outputs": [
        {
          "data": {
            "text/plain": [
              "E       0.401045\n",
              "T       0.297618\n",
              "M       0.157101\n",
              "E10+    0.142728\n",
              "EC      0.000804\n",
              "K-A     0.000302\n",
              "RP      0.000302\n",
              "AO      0.000101\n",
              "Name: rating, dtype: float64"
            ]
          },
          "execution_count": 148,
          "metadata": {},
          "output_type": "execute_result"
        }
      ],
      "source": [
        "games['rating'].value_counts(normalize=True)"
      ]
    },
    {
      "cell_type": "markdown",
      "metadata": {
        "id": "Xwi3yciOHkPs"
      },
      "source": [
        "Si vemos la distribución de nuestros resultados, el 40% de los juegos corresponden al rating E, 30% al T, 16% al M y 14% al E10+. Estudiando un poco sobre la ESBR (The Entertainment Software Rating Board), descubrimos que ellos se preocupan de poner estos ratings en base a ciertos criterios especificos. Teniendo esto en consideración, vamos a revisar algunas alternativas para ver si podemos completar estos valores ausentes. Por ejemplo, si hay generos que tienen un rating típico (los juegos de pelea quizás son todos A para adultos, mientras que los de plataforma podrían ser E para todos)."
      ]
    },
    {
      "cell_type": "code",
      "execution_count": null,
      "metadata": {
        "id": "xYm4fw5SHkPs",
        "outputId": "07e1df2e-8933-4c8c-b34b-a9b0c000ad0b"
      },
      "outputs": [
        {
          "data": {
            "text/plain": [
              "array(['Sports', 'Platform', 'Racing', 'Role-Playing', 'Puzzle', 'Misc',\n",
              "       'Shooter', 'Simulation', 'Action', 'Fighting', 'Adventure',\n",
              "       'Strategy'], dtype=object)"
            ]
          },
          "execution_count": 149,
          "metadata": {},
          "output_type": "execute_result"
        }
      ],
      "source": [
        "games['genre'].unique()"
      ]
    },
    {
      "cell_type": "code",
      "execution_count": null,
      "metadata": {
        "id": "TznZ11T5HkPs",
        "outputId": "f0c6157c-c51e-491f-a729-2f1fc917998f"
      },
      "outputs": [
        {
          "data": {
            "text/plain": [
              "E       0.787276\n",
              "T       0.131213\n",
              "E10+    0.070908\n",
              "M       0.010603\n",
              "Name: rating, dtype: float64"
            ]
          },
          "execution_count": 150,
          "metadata": {},
          "output_type": "execute_result"
        }
      ],
      "source": [
        "games.query('genre == \"Sports\"')['rating'].value_counts(normalize=True)"
      ]
    },
    {
      "cell_type": "markdown",
      "metadata": {
        "id": "vWnZ7XR-HkPs"
      },
      "source": [
        "Para los juegos de deportes, podemos ver que el 79% de los juegos corresponde a la categoría E, un 13% corresponde a T y un 7% corresponden a E10+"
      ]
    },
    {
      "cell_type": "code",
      "execution_count": null,
      "metadata": {
        "id": "d34nmp6kHkPs",
        "outputId": "998a634f-e7ce-4111-a430-a12c64806872"
      },
      "outputs": [
        {
          "data": {
            "text/plain": [
              "E       0.629174\n",
              "E10+    0.253076\n",
              "T       0.112478\n",
              "M       0.005272\n",
              "Name: rating, dtype: float64"
            ]
          },
          "execution_count": 151,
          "metadata": {},
          "output_type": "execute_result"
        }
      ],
      "source": [
        "games.query('genre == \"Platform\"')['rating'].value_counts(normalize=True)"
      ]
    },
    {
      "cell_type": "markdown",
      "metadata": {
        "id": "S8KC36DVHkPs"
      },
      "source": [
        "En el caso de los juegos de plataforma el 62% corresponde a la categoría E, el 25% corresponde a E10+ y el 11% corresponde a T."
      ]
    },
    {
      "cell_type": "code",
      "execution_count": null,
      "metadata": {
        "id": "Yca7XvQLHkPs",
        "outputId": "c0ae1f49-0de2-4ffc-aaea-e4cb140c8b0c"
      },
      "outputs": [
        {
          "data": {
            "text/plain": [
              "E       0.670872\n",
              "T       0.197248\n",
              "E10+    0.110092\n",
              "M       0.020642\n",
              "RP      0.001147\n",
              "Name: rating, dtype: float64"
            ]
          },
          "execution_count": 152,
          "metadata": {},
          "output_type": "execute_result"
        }
      ],
      "source": [
        "games.query('genre == \"Racing\"')['rating'].value_counts(normalize=True)"
      ]
    },
    {
      "cell_type": "markdown",
      "metadata": {
        "id": "HI3H_PXnHkPs"
      },
      "source": [
        "Para los juegos de carreras el 67% corresponde a E, luego 19% corresponde a T y 11% a E10+."
      ]
    },
    {
      "cell_type": "code",
      "execution_count": null,
      "metadata": {
        "id": "NqQQTaDaHkPt",
        "outputId": "ff737662-b5bd-4e4f-e8ac-3c99cbe35ad1"
      },
      "outputs": [
        {
          "data": {
            "text/plain": [
              "T       0.540541\n",
              "M       0.208494\n",
              "E10+    0.142857\n",
              "E       0.108108\n",
              "Name: rating, dtype: float64"
            ]
          },
          "execution_count": 153,
          "metadata": {},
          "output_type": "execute_result"
        }
      ],
      "source": [
        "games.query('genre == \"Role-Playing\"')['rating'].value_counts(normalize=True)"
      ]
    },
    {
      "cell_type": "markdown",
      "metadata": {
        "id": "Ajj40Z5yHkPt"
      },
      "source": [
        "Para los juegos de rol el 54% corresponde a T, 20% a M, 14% a E10+ y 10% la categoría E."
      ]
    },
    {
      "cell_type": "code",
      "execution_count": null,
      "metadata": {
        "id": "52ePIQElHkPt",
        "outputId": "6fae2e5e-232a-41ca-813a-3404e50bdce4"
      },
      "outputs": [
        {
          "data": {
            "text/plain": [
              "E       0.845029\n",
              "E10+    0.125731\n",
              "T       0.029240\n",
              "Name: rating, dtype: float64"
            ]
          },
          "execution_count": 154,
          "metadata": {},
          "output_type": "execute_result"
        }
      ],
      "source": [
        "games.query('genre == \"Puzzle\"')['rating'].value_counts(normalize=True)"
      ]
    },
    {
      "cell_type": "markdown",
      "metadata": {
        "id": "S4t3fWreHkPt"
      },
      "source": [
        "En el caso de los juegos del tipo puzzle el 85% de estos corresponde a la categoría E y un 12% corresponde a la categoría E10."
      ]
    },
    {
      "cell_type": "code",
      "execution_count": null,
      "metadata": {
        "id": "qzxX8khGHkPt",
        "outputId": "b074c0e3-6637-4a6e-e045-9752671ed4e2"
      },
      "outputs": [
        {
          "data": {
            "text/plain": [
              "E       0.518141\n",
              "T       0.270975\n",
              "E10+    0.189342\n",
              "M       0.014739\n",
              "EC      0.005669\n",
              "K-A     0.001134\n",
              "Name: rating, dtype: float64"
            ]
          },
          "execution_count": 155,
          "metadata": {},
          "output_type": "execute_result"
        }
      ],
      "source": [
        "games.query('genre == \"Misc\"')['rating'].value_counts(normalize=True)"
      ]
    },
    {
      "cell_type": "markdown",
      "metadata": {
        "id": "b4Cx9BMOHkPt"
      },
      "source": [
        "En los juegos miscelaneos podemos notar que el 51% corresponde a la categoría E, el 27% a T, 18% a E10+ y 14% a M. "
      ]
    },
    {
      "cell_type": "code",
      "execution_count": null,
      "metadata": {
        "id": "SF1fdy2QHkPu",
        "outputId": "0870cfee-2ace-4059-a2f4-3390d46ba5f3"
      },
      "outputs": [
        {
          "data": {
            "text/plain": [
              "M       0.554465\n",
              "T       0.341511\n",
              "E10+    0.056919\n",
              "E       0.047105\n",
              "Name: rating, dtype: float64"
            ]
          },
          "execution_count": 156,
          "metadata": {},
          "output_type": "execute_result"
        }
      ],
      "source": [
        "games.query('genre == \"Shooter\"')['rating'].value_counts(normalize=True)"
      ]
    },
    {
      "cell_type": "markdown",
      "metadata": {
        "id": "pByCN7hvHkPu"
      },
      "source": [
        "Para los juegos de disparar el 55% corresponde a la categoría M y 34% a la categoría T."
      ]
    },
    {
      "cell_type": "code",
      "execution_count": null,
      "metadata": {
        "id": "9ExmSTnNHkPu",
        "outputId": "545d0215-ff98-4979-efd6-639e76e62dfd"
      },
      "outputs": [
        {
          "data": {
            "text/plain": [
              "E       0.572183\n",
              "T       0.334507\n",
              "E10+    0.084507\n",
              "M       0.008803\n",
              "Name: rating, dtype: float64"
            ]
          },
          "execution_count": 157,
          "metadata": {},
          "output_type": "execute_result"
        }
      ],
      "source": [
        "games.query('genre == \"Simulation\"')['rating'].value_counts(normalize=True)"
      ]
    },
    {
      "cell_type": "markdown",
      "metadata": {
        "id": "Hr4wcf4OHkPu"
      },
      "source": [
        "En los juegos de simulación, el 57% de estos son de categoría E pero el 33% son de categoría T."
      ]
    },
    {
      "cell_type": "code",
      "execution_count": null,
      "metadata": {
        "id": "u8O_DaNeHkPu",
        "outputId": "f44c79a9-f1bd-40b2-ed72-25e60e24a529"
      },
      "outputs": [
        {
          "data": {
            "text/plain": [
              "T       0.311243\n",
              "M       0.277879\n",
              "E10+    0.219835\n",
              "E       0.190128\n",
              "AO      0.000457\n",
              "EC      0.000457\n",
              "Name: rating, dtype: float64"
            ]
          },
          "execution_count": 158,
          "metadata": {},
          "output_type": "execute_result"
        }
      ],
      "source": [
        "games.query('genre == \"Action\"')['rating'].value_counts(normalize=True)"
      ]
    },
    {
      "cell_type": "markdown",
      "metadata": {
        "id": "h4s4lNxzHkPv"
      },
      "source": [
        "Para los juegos de acción la dispersión más pareje 31% son de categoría T, 27% de categoría M y 22% de categoría E10+. "
      ]
    },
    {
      "cell_type": "code",
      "execution_count": null,
      "metadata": {
        "id": "mB6AQl8IHkPv",
        "outputId": "79db7ac1-5e91-4581-f15d-a2b9e1aede85"
      },
      "outputs": [
        {
          "data": {
            "text/plain": [
              "T       0.826484\n",
              "M       0.111872\n",
              "E10+    0.043379\n",
              "E       0.018265\n",
              "Name: rating, dtype: float64"
            ]
          },
          "execution_count": 159,
          "metadata": {},
          "output_type": "execute_result"
        }
      ],
      "source": [
        "games.query('genre == \"Fighting\"')['rating'].value_counts(normalize=True)"
      ]
    },
    {
      "cell_type": "markdown",
      "metadata": {
        "id": "RikkoVj7HkPv"
      },
      "source": [
        "El 82% de los juegos de pelea son categoría T y 11% de categoría M."
      ]
    },
    {
      "cell_type": "code",
      "execution_count": null,
      "metadata": {
        "id": "Y_3uxNUSHkPv",
        "outputId": "5a243a4d-f127-41ba-c6cf-e425e8f9429b"
      },
      "outputs": [
        {
          "data": {
            "text/plain": [
              "E       0.363229\n",
              "T       0.257848\n",
              "M       0.221973\n",
              "E10+    0.152466\n",
              "EC      0.004484\n",
              "Name: rating, dtype: float64"
            ]
          },
          "execution_count": 160,
          "metadata": {},
          "output_type": "execute_result"
        }
      ],
      "source": [
        "games.query('genre == \"Adventure\"')['rating'].value_counts(normalize=True)"
      ]
    },
    {
      "cell_type": "markdown",
      "metadata": {
        "id": "MZWNPVCbHkPw"
      },
      "source": [
        "Con respecto a los juegos de aventura el 36% corresponde a la categoría E, 25% a la categoría T y 22% a la categoría M. Hay un 15% de juegos de este estilo que corresponden a la categoría E10+."
      ]
    },
    {
      "cell_type": "code",
      "execution_count": null,
      "metadata": {
        "id": "jUO0Pjf5HkPw",
        "outputId": "cb4abd92-d12c-480f-913a-8adf93f54888"
      },
      "outputs": [
        {
          "data": {
            "text/plain": [
              "T       0.477876\n",
              "E10+    0.230088\n",
              "E       0.206490\n",
              "M       0.073746\n",
              "K-A     0.005900\n",
              "RP      0.005900\n",
              "Name: rating, dtype: float64"
            ]
          },
          "execution_count": 161,
          "metadata": {},
          "output_type": "execute_result"
        }
      ],
      "source": [
        "games.query('genre == \"Strategy\"')['rating'].value_counts(normalize=True)"
      ]
    },
    {
      "cell_type": "markdown",
      "metadata": {
        "id": "ypyfPCvyHkPw"
      },
      "source": [
        "Finalmente los juegos de estrategia, un 48% corresponde a la categoría T, 23% a la categoría E10+ y 20% a la categoría E.\n",
        "\n",
        "Como conclusión intermedia, notamos que las distribuciones en base solamente al genero no son lo suficientemente fuertes como para permitirnos realizar un reemplazo de valores ausentes en base a rating que figure más veces. Notamos que para 7 generos el rating más típico es E, si cambiamos solo en base al genero, podríamos variar los porcentajes considerablemente perjudicando nuestro estudio. Revisaremos dos plataformas al azar:"
      ]
    },
    {
      "cell_type": "code",
      "execution_count": null,
      "metadata": {
        "id": "F93ov3elHkPw",
        "outputId": "530297a3-f9d8-4439-f75e-b786666535eb"
      },
      "outputs": [
        {
          "data": {
            "text/plain": [
              "E       0.501996\n",
              "E10+    0.241517\n",
              "T       0.221557\n",
              "M       0.032934\n",
              "EC      0.001996\n",
              "Name: rating, dtype: float64"
            ]
          },
          "execution_count": 162,
          "metadata": {},
          "output_type": "execute_result"
        }
      ],
      "source": [
        "games.query('platform == \"Wii\"')['rating'].value_counts(normalize=True)"
      ]
    },
    {
      "cell_type": "markdown",
      "metadata": {
        "id": "RukTtvrFHkPx"
      },
      "source": [
        "En el caso de la nintendo Wii, el 50% de sus juegos son de rating E, 24% de E10+ y 22% de T."
      ]
    },
    {
      "cell_type": "code",
      "execution_count": null,
      "metadata": {
        "id": "PKu7w2HSHkPx",
        "outputId": "db7d98e4-e955-4260-ecba-80c7d979af9d"
      },
      "outputs": [
        {
          "data": {
            "text/plain": [
              "T       0.369485\n",
              "E       0.345588\n",
              "E10+    0.194853\n",
              "M       0.090074\n",
              "Name: rating, dtype: float64"
            ]
          },
          "execution_count": 163,
          "metadata": {},
          "output_type": "execute_result"
        }
      ],
      "source": [
        "games.query('platform == \"PSP\"')['rating'].value_counts(normalize=True)"
      ]
    },
    {
      "cell_type": "markdown",
      "metadata": {
        "id": "oGi0pbUaHkPx"
      },
      "source": [
        "En cambio la PSP tiene 37% de T, 35% de E y 20% de E10+. De nuevo, las distribuciones por consola, por si solas no se podrían utilizar, pero quizás si buscamos en base a la consola y el genero:"
      ]
    },
    {
      "cell_type": "code",
      "execution_count": null,
      "metadata": {
        "id": "wDxPryvIHkPy",
        "outputId": "c4a10a2a-ee95-4cf0-ad17-5521369a34ed"
      },
      "outputs": [
        {
          "data": {
            "text/plain": [
              "E       0.540984\n",
              "T       0.196721\n",
              "E10+    0.180328\n",
              "M       0.081967\n",
              "Name: rating, dtype: float64"
            ]
          },
          "execution_count": 164,
          "metadata": {},
          "output_type": "execute_result"
        }
      ],
      "source": [
        "games.query('genre == \"Adventure\" and platform == \"Wii\"')['rating'].value_counts(normalize=True)"
      ]
    },
    {
      "cell_type": "markdown",
      "metadata": {
        "id": "znR57UotHkPy"
      },
      "source": [
        "En el caso del los juegos de aventura de la Nintendo Wii, 50% de estos corresponden al tipo E, 24% al tipo E+10 y 22% al tipo T."
      ]
    },
    {
      "cell_type": "code",
      "execution_count": null,
      "metadata": {
        "id": "LRpaoLNEHkPy",
        "outputId": "0bd608cf-e8db-40af-854b-de0acc149a3d"
      },
      "outputs": [
        {
          "data": {
            "text/plain": [
              "T       0.428571\n",
              "M       0.214286\n",
              "E10+    0.214286\n",
              "E       0.142857\n",
              "Name: rating, dtype: float64"
            ]
          },
          "execution_count": 165,
          "metadata": {},
          "output_type": "execute_result"
        }
      ],
      "source": [
        "games.query('genre == \"Adventure\" and platform == \"PSP\"')['rating'].value_counts(normalize=True)"
      ]
    },
    {
      "cell_type": "markdown",
      "metadata": {
        "id": "wuSO2fRNHkPy"
      },
      "source": [
        "Para los juegos de aventura de la PSP en cambior el 43% corresponden a la categoría T, 21% a la categoría M y 21% a la categoría E10+."
      ]
    },
    {
      "cell_type": "code",
      "execution_count": null,
      "metadata": {
        "id": "nBR-CBa8HkPz"
      },
      "outputs": [],
      "source": [
        "games['rating'] = games['rating'].fillna('RP')"
      ]
    },
    {
      "cell_type": "markdown",
      "metadata": {
        "id": "7DZ5FKt9HkPz"
      },
      "source": [
        "##### Conclusión.\n",
        "\n",
        "Con respecto al rating, si bien en algunos casos podría parecer claro en su distribución (por ejemplo para los juegos de pelea dónde el 82% son de categoría M), en general la distribución es siempre bastante pareja entre los ratings E, T, M y E10+. Revisando a fondo, la mayoría de los generos tiene la categoría E como principal y los restantes se dividen en la categoría t y solo Shooter en la categoría M. Esto nos indica, que si reemplazarmos los valores ausentes siguiendo la moda, perjudicariamos claramente al rating E10+, y en mayor o menor grado a todo el resto. En este caso, en vez de dejar los valores en cero, los podemos dejar como RP que corresponde a Rating Pending o sea aún no catalogado. "
      ]
    },
    {
      "cell_type": "code",
      "execution_count": null,
      "metadata": {
        "id": "kjWmmVG-HkPz",
        "outputId": "b8edd0d6-340f-4700-b613-2292e29f0b45"
      },
      "outputs": [
        {
          "name": "stdout",
          "output_type": "stream",
          "text": [
            "<class 'pandas.core.frame.DataFrame'>\n",
            "Int64Index: 16713 entries, 0 to 16714\n",
            "Data columns (total 11 columns):\n",
            " #   Column           Non-Null Count  Dtype  \n",
            "---  ------           --------------  -----  \n",
            " 0   name             16713 non-null  object \n",
            " 1   platform         16713 non-null  object \n",
            " 2   year_of_release  16713 non-null  float64\n",
            " 3   genre            16713 non-null  object \n",
            " 4   na_sales         16713 non-null  float64\n",
            " 5   eu_sales         16713 non-null  float64\n",
            " 6   jp_sales         16713 non-null  float64\n",
            " 7   other_sales      16713 non-null  float64\n",
            " 8   critic_score     8137 non-null   float64\n",
            " 9   user_score       7590 non-null   object \n",
            " 10  rating           16713 non-null  object \n",
            "dtypes: float64(6), object(5)\n",
            "memory usage: 2.0+ MB\n"
          ]
        }
      ],
      "source": [
        "games.info()"
      ]
    },
    {
      "cell_type": "markdown",
      "metadata": {
        "id": "wiqq7tV0HkP0"
      },
      "source": [
        "### Convertir las columnas en los tipos correctos <a id='convertir_datos'></a>"
      ]
    },
    {
      "cell_type": "markdown",
      "metadata": {
        "id": "5c7jtYk-HkP0"
      },
      "source": [
        "Revisaremos el tipo para las columnas 'year_of_release', 'critic_score', 'user_score' y 'rating'."
      ]
    },
    {
      "cell_type": "code",
      "execution_count": null,
      "metadata": {
        "id": "QO5Ku0aqHkP0"
      },
      "outputs": [],
      "source": [
        "games['year_of_release'] = games['year_of_release'].astype('int')"
      ]
    },
    {
      "cell_type": "code",
      "execution_count": null,
      "metadata": {
        "id": "NMVkHRY5HkP0"
      },
      "outputs": [],
      "source": [
        "games['user_score'] = games['user_score'].astype('float', errors='ignore')"
      ]
    },
    {
      "cell_type": "code",
      "execution_count": null,
      "metadata": {
        "id": "KWoEfkEzHkP0",
        "outputId": "b09b42c6-cc00-4409-8c62-aa71ed45c685"
      },
      "outputs": [
        {
          "name": "stdout",
          "output_type": "stream",
          "text": [
            "<class 'pandas.core.frame.DataFrame'>\n",
            "Int64Index: 16713 entries, 0 to 16714\n",
            "Data columns (total 11 columns):\n",
            " #   Column           Non-Null Count  Dtype  \n",
            "---  ------           --------------  -----  \n",
            " 0   name             16713 non-null  object \n",
            " 1   platform         16713 non-null  object \n",
            " 2   year_of_release  16713 non-null  int64  \n",
            " 3   genre            16713 non-null  object \n",
            " 4   na_sales         16713 non-null  float64\n",
            " 5   eu_sales         16713 non-null  float64\n",
            " 6   jp_sales         16713 non-null  float64\n",
            " 7   other_sales      16713 non-null  float64\n",
            " 8   critic_score     8137 non-null   float64\n",
            " 9   user_score       7590 non-null   float64\n",
            " 10  rating           16713 non-null  object \n",
            "dtypes: float64(6), int64(1), object(4)\n",
            "memory usage: 2.0+ MB\n"
          ]
        }
      ],
      "source": [
        "games.info()"
      ]
    },
    {
      "cell_type": "markdown",
      "metadata": {
        "id": "Jbn0LxfmHkP0"
      },
      "source": [
        "Para 'year_of_release' pasamos el tipo de datos de float64 a int64 ya que los años son datos enteros, para 'critic_score' se dejaron los valores en float64 para no tener problemas de performance por tener una columan multi tipo. En cambio para 'user_score' se pasaron los datos de object a float64 ya que los valores nan por defecto son considerados como flat64."
      ]
    },
    {
      "cell_type": "markdown",
      "metadata": {
        "id": "C-72F-8kHkP0"
      },
      "source": [
        "### Crear la columna Ventas Totales <a id='crear_totales'></a>"
      ]
    },
    {
      "cell_type": "markdown",
      "metadata": {
        "id": "icfCJYCoHkP0"
      },
      "source": [
        "Crearemos rápidamente la columna 'total_sales' (ventas totales) que corresponde a la sumatoria de las cuatro columnas de ventas ya existentes. Vamos a ordenarlo para facilitar su visualización."
      ]
    },
    {
      "cell_type": "code",
      "execution_count": null,
      "metadata": {
        "id": "RpKcU-nYHkP0",
        "outputId": "d6d84217-2ae1-4f2f-caa3-89d68a5fdd68"
      },
      "outputs": [
        {
          "data": {
            "text/html": [
              "<div>\n",
              "<style scoped>\n",
              "    .dataframe tbody tr th:only-of-type {\n",
              "        vertical-align: middle;\n",
              "    }\n",
              "\n",
              "    .dataframe tbody tr th {\n",
              "        vertical-align: top;\n",
              "    }\n",
              "\n",
              "    .dataframe thead th {\n",
              "        text-align: right;\n",
              "    }\n",
              "</style>\n",
              "<table border=\"1\" class=\"dataframe\">\n",
              "  <thead>\n",
              "    <tr style=\"text-align: right;\">\n",
              "      <th></th>\n",
              "      <th>name</th>\n",
              "      <th>platform</th>\n",
              "      <th>year_of_release</th>\n",
              "      <th>genre</th>\n",
              "      <th>na_sales</th>\n",
              "      <th>eu_sales</th>\n",
              "      <th>jp_sales</th>\n",
              "      <th>other_sales</th>\n",
              "      <th>total_sales</th>\n",
              "      <th>critic_score</th>\n",
              "      <th>user_score</th>\n",
              "      <th>rating</th>\n",
              "    </tr>\n",
              "  </thead>\n",
              "  <tbody>\n",
              "    <tr>\n",
              "      <th>0</th>\n",
              "      <td>Wii Sports</td>\n",
              "      <td>Wii</td>\n",
              "      <td>2006</td>\n",
              "      <td>Sports</td>\n",
              "      <td>41.36</td>\n",
              "      <td>28.96</td>\n",
              "      <td>3.77</td>\n",
              "      <td>8.45</td>\n",
              "      <td>82.54</td>\n",
              "      <td>76.0</td>\n",
              "      <td>8.0</td>\n",
              "      <td>E</td>\n",
              "    </tr>\n",
              "    <tr>\n",
              "      <th>1</th>\n",
              "      <td>Super Mario Bros.</td>\n",
              "      <td>NES</td>\n",
              "      <td>1985</td>\n",
              "      <td>Platform</td>\n",
              "      <td>29.08</td>\n",
              "      <td>3.58</td>\n",
              "      <td>6.81</td>\n",
              "      <td>0.77</td>\n",
              "      <td>40.24</td>\n",
              "      <td>NaN</td>\n",
              "      <td>NaN</td>\n",
              "      <td>RP</td>\n",
              "    </tr>\n",
              "    <tr>\n",
              "      <th>2</th>\n",
              "      <td>Mario Kart Wii</td>\n",
              "      <td>Wii</td>\n",
              "      <td>2008</td>\n",
              "      <td>Racing</td>\n",
              "      <td>15.68</td>\n",
              "      <td>12.76</td>\n",
              "      <td>3.79</td>\n",
              "      <td>3.29</td>\n",
              "      <td>35.52</td>\n",
              "      <td>82.0</td>\n",
              "      <td>8.3</td>\n",
              "      <td>E</td>\n",
              "    </tr>\n",
              "    <tr>\n",
              "      <th>3</th>\n",
              "      <td>Wii Sports Resort</td>\n",
              "      <td>Wii</td>\n",
              "      <td>2009</td>\n",
              "      <td>Sports</td>\n",
              "      <td>15.61</td>\n",
              "      <td>10.93</td>\n",
              "      <td>3.28</td>\n",
              "      <td>2.95</td>\n",
              "      <td>32.77</td>\n",
              "      <td>80.0</td>\n",
              "      <td>8.0</td>\n",
              "      <td>E</td>\n",
              "    </tr>\n",
              "    <tr>\n",
              "      <th>4</th>\n",
              "      <td>Pokemon Red/Pokemon Blue</td>\n",
              "      <td>GB</td>\n",
              "      <td>1996</td>\n",
              "      <td>Role-Playing</td>\n",
              "      <td>11.27</td>\n",
              "      <td>8.89</td>\n",
              "      <td>10.22</td>\n",
              "      <td>1.00</td>\n",
              "      <td>31.38</td>\n",
              "      <td>NaN</td>\n",
              "      <td>NaN</td>\n",
              "      <td>RP</td>\n",
              "    </tr>\n",
              "  </tbody>\n",
              "</table>\n",
              "</div>"
            ],
            "text/plain": [
              "                       name platform  year_of_release         genre  na_sales  \\\n",
              "0                Wii Sports      Wii             2006        Sports     41.36   \n",
              "1         Super Mario Bros.      NES             1985      Platform     29.08   \n",
              "2            Mario Kart Wii      Wii             2008        Racing     15.68   \n",
              "3         Wii Sports Resort      Wii             2009        Sports     15.61   \n",
              "4  Pokemon Red/Pokemon Blue       GB             1996  Role-Playing     11.27   \n",
              "\n",
              "   eu_sales  jp_sales  other_sales  total_sales  critic_score  user_score  \\\n",
              "0     28.96      3.77         8.45        82.54          76.0         8.0   \n",
              "1      3.58      6.81         0.77        40.24           NaN         NaN   \n",
              "2     12.76      3.79         3.29        35.52          82.0         8.3   \n",
              "3     10.93      3.28         2.95        32.77          80.0         8.0   \n",
              "4      8.89     10.22         1.00        31.38           NaN         NaN   \n",
              "\n",
              "  rating  \n",
              "0      E  \n",
              "1     RP  \n",
              "2      E  \n",
              "3      E  \n",
              "4     RP  "
            ]
          },
          "execution_count": 172,
          "metadata": {},
          "output_type": "execute_result"
        }
      ],
      "source": [
        "games['total_sales'] = games['na_sales'] + games['eu_sales'] + games['jp_sales'] + games['other_sales']\n",
        "games = games[['name', 'platform', 'year_of_release', 'genre', 'na_sales', 'eu_sales','jp_sales', 'other_sales', 'total_sales', 'critic_score', 'user_score', 'rating']]\n",
        "games.head()"
      ]
    },
    {
      "cell_type": "markdown",
      "metadata": {
        "id": "637XmhwSHkP1"
      },
      "source": [
        "## Analisis de datos <a id='analisis_datos'></a>"
      ]
    },
    {
      "cell_type": "markdown",
      "metadata": {
        "id": "INX3OerHHkP1"
      },
      "source": [
        "Con nuestra base de datos preparada, vamos a concentrarnos en los siguientes puntos. Vamos a analizar la cantidad de juegos lanzados por año, ver como varían las ventas anualmente para cada plataforma. En base a nuestros estudios buscaremos a las plataformas líderes en ventas. Revisaremos si las reseñas de usuarios y profesionales influyen en las ventas y finalmente buscaremos que generos son los más rentables."
      ]
    },
    {
      "cell_type": "markdown",
      "metadata": {
        "id": "Gtc_YpsLHkP1"
      },
      "source": [
        "### Juegos estrenados por año <a id='juegos_anuales'></a>"
      ]
    },
    {
      "cell_type": "code",
      "execution_count": null,
      "metadata": {
        "id": "QhND1l_mHkP1",
        "outputId": "e3a6959f-81ca-48a0-e601-d07b3e98c118"
      },
      "outputs": [
        {
          "data": {
            "text/html": [
              "<div>\n",
              "<style scoped>\n",
              "    .dataframe tbody tr th:only-of-type {\n",
              "        vertical-align: middle;\n",
              "    }\n",
              "\n",
              "    .dataframe tbody tr th {\n",
              "        vertical-align: top;\n",
              "    }\n",
              "\n",
              "    .dataframe thead th {\n",
              "        text-align: right;\n",
              "    }\n",
              "</style>\n",
              "<table border=\"1\" class=\"dataframe\">\n",
              "  <thead>\n",
              "    <tr style=\"text-align: right;\">\n",
              "      <th></th>\n",
              "      <th>number of games</th>\n",
              "    </tr>\n",
              "    <tr>\n",
              "      <th>year_of_release</th>\n",
              "      <th></th>\n",
              "    </tr>\n",
              "  </thead>\n",
              "  <tbody>\n",
              "    <tr>\n",
              "      <th>2008</th>\n",
              "      <td>1452</td>\n",
              "    </tr>\n",
              "    <tr>\n",
              "      <th>2009</th>\n",
              "      <td>1444</td>\n",
              "    </tr>\n",
              "    <tr>\n",
              "      <th>2010</th>\n",
              "      <td>1279</td>\n",
              "    </tr>\n",
              "    <tr>\n",
              "      <th>2007</th>\n",
              "      <td>1217</td>\n",
              "    </tr>\n",
              "    <tr>\n",
              "      <th>2011</th>\n",
              "      <td>1178</td>\n",
              "    </tr>\n",
              "    <tr>\n",
              "      <th>2006</th>\n",
              "      <td>1024</td>\n",
              "    </tr>\n",
              "    <tr>\n",
              "      <th>2005</th>\n",
              "      <td>956</td>\n",
              "    </tr>\n",
              "    <tr>\n",
              "      <th>2002</th>\n",
              "      <td>852</td>\n",
              "    </tr>\n",
              "    <tr>\n",
              "      <th>2003</th>\n",
              "      <td>790</td>\n",
              "    </tr>\n",
              "    <tr>\n",
              "      <th>2004</th>\n",
              "      <td>774</td>\n",
              "    </tr>\n",
              "    <tr>\n",
              "      <th>2012</th>\n",
              "      <td>662</td>\n",
              "    </tr>\n",
              "    <tr>\n",
              "      <th>2015</th>\n",
              "      <td>607</td>\n",
              "    </tr>\n",
              "    <tr>\n",
              "      <th>2014</th>\n",
              "      <td>582</td>\n",
              "    </tr>\n",
              "    <tr>\n",
              "      <th>2013</th>\n",
              "      <td>548</td>\n",
              "    </tr>\n",
              "    <tr>\n",
              "      <th>2016</th>\n",
              "      <td>503</td>\n",
              "    </tr>\n",
              "    <tr>\n",
              "      <th>2001</th>\n",
              "      <td>489</td>\n",
              "    </tr>\n",
              "    <tr>\n",
              "      <th>1998</th>\n",
              "      <td>381</td>\n",
              "    </tr>\n",
              "    <tr>\n",
              "      <th>2000</th>\n",
              "      <td>356</td>\n",
              "    </tr>\n",
              "    <tr>\n",
              "      <th>1999</th>\n",
              "      <td>341</td>\n",
              "    </tr>\n",
              "    <tr>\n",
              "      <th>1997</th>\n",
              "      <td>291</td>\n",
              "    </tr>\n",
              "    <tr>\n",
              "      <th>1996</th>\n",
              "      <td>264</td>\n",
              "    </tr>\n",
              "    <tr>\n",
              "      <th>1995</th>\n",
              "      <td>219</td>\n",
              "    </tr>\n",
              "    <tr>\n",
              "      <th>1994</th>\n",
              "      <td>121</td>\n",
              "    </tr>\n",
              "    <tr>\n",
              "      <th>1993</th>\n",
              "      <td>60</td>\n",
              "    </tr>\n",
              "    <tr>\n",
              "      <th>1981</th>\n",
              "      <td>46</td>\n",
              "    </tr>\n",
              "    <tr>\n",
              "      <th>1992</th>\n",
              "      <td>43</td>\n",
              "    </tr>\n",
              "    <tr>\n",
              "      <th>1991</th>\n",
              "      <td>41</td>\n",
              "    </tr>\n",
              "    <tr>\n",
              "      <th>1982</th>\n",
              "      <td>37</td>\n",
              "    </tr>\n",
              "    <tr>\n",
              "      <th>1986</th>\n",
              "      <td>21</td>\n",
              "    </tr>\n",
              "    <tr>\n",
              "      <th>1989</th>\n",
              "      <td>18</td>\n",
              "    </tr>\n",
              "    <tr>\n",
              "      <th>1983</th>\n",
              "      <td>17</td>\n",
              "    </tr>\n",
              "    <tr>\n",
              "      <th>1987</th>\n",
              "      <td>16</td>\n",
              "    </tr>\n",
              "    <tr>\n",
              "      <th>1990</th>\n",
              "      <td>16</td>\n",
              "    </tr>\n",
              "    <tr>\n",
              "      <th>1988</th>\n",
              "      <td>15</td>\n",
              "    </tr>\n",
              "    <tr>\n",
              "      <th>1984</th>\n",
              "      <td>14</td>\n",
              "    </tr>\n",
              "    <tr>\n",
              "      <th>1985</th>\n",
              "      <td>14</td>\n",
              "    </tr>\n",
              "    <tr>\n",
              "      <th>1980</th>\n",
              "      <td>14</td>\n",
              "    </tr>\n",
              "    <tr>\n",
              "      <th>1978</th>\n",
              "      <td>6</td>\n",
              "    </tr>\n",
              "    <tr>\n",
              "      <th>1977</th>\n",
              "      <td>3</td>\n",
              "    </tr>\n",
              "    <tr>\n",
              "      <th>1979</th>\n",
              "      <td>1</td>\n",
              "    </tr>\n",
              "    <tr>\n",
              "      <th>2018</th>\n",
              "      <td>1</td>\n",
              "    </tr>\n",
              "  </tbody>\n",
              "</table>\n",
              "</div>"
            ],
            "text/plain": [
              "                 number of games\n",
              "year_of_release                 \n",
              "2008                        1452\n",
              "2009                        1444\n",
              "2010                        1279\n",
              "2007                        1217\n",
              "2011                        1178\n",
              "2006                        1024\n",
              "2005                         956\n",
              "2002                         852\n",
              "2003                         790\n",
              "2004                         774\n",
              "2012                         662\n",
              "2015                         607\n",
              "2014                         582\n",
              "2013                         548\n",
              "2016                         503\n",
              "2001                         489\n",
              "1998                         381\n",
              "2000                         356\n",
              "1999                         341\n",
              "1997                         291\n",
              "1996                         264\n",
              "1995                         219\n",
              "1994                         121\n",
              "1993                          60\n",
              "1981                          46\n",
              "1992                          43\n",
              "1991                          41\n",
              "1982                          37\n",
              "1986                          21\n",
              "1989                          18\n",
              "1983                          17\n",
              "1987                          16\n",
              "1990                          16\n",
              "1988                          15\n",
              "1984                          14\n",
              "1985                          14\n",
              "1980                          14\n",
              "1978                           6\n",
              "1977                           3\n",
              "1979                           1\n",
              "2018                           1"
            ]
          },
          "execution_count": 173,
          "metadata": {},
          "output_type": "execute_result"
        }
      ],
      "source": [
        "yearly_release_games = games.pivot_table(index='year_of_release', values='name', aggfunc='count')\n",
        "yearly_release_games.columns = ['number of games']\n",
        "yearly_release_games.sort_values(by='number of games', ascending=False)"
      ]
    },
    {
      "cell_type": "code",
      "execution_count": null,
      "metadata": {
        "id": "yCMZZRjjHkP1",
        "outputId": "2a17d530-00bb-4d6b-fe3f-dd4a80211f70"
      },
      "outputs": [
        {
          "name": "stdout",
          "output_type": "stream",
          "text": [
            "La cantidad de juegos promedios por año es de: number of games    407.634146\n",
            "dtype: float64\n",
            "La mediana de los juegos estrenados por año es de: number of games    264.0\n",
            "dtype: float64\n"
          ]
        }
      ],
      "source": [
        "print('La cantidad de juegos promedios por año es de:', yearly_release_games.mean())\n",
        "print('La mediana de los juegos estrenados por año es de:', yearly_release_games.median())"
      ]
    },
    {
      "cell_type": "code",
      "execution_count": null,
      "metadata": {
        "id": "9-myHy7BHkP2",
        "outputId": "d2a1d497-bd5a-4411-f9af-c240ba8060ea"
      },
      "outputs": [
        {
          "data": {
            "image/png": "[encoded data removed]",
            "text/plain": [
              "<Figure size 432x288 with 1 Axes>"
            ]
          },
          "metadata": {
            "needs_background": "light"
          },
          "output_type": "display_data"
        }
      ],
      "source": [
        "yearly_release_games.plot(kind='line')\n",
        "plt.title('Número de juegos estrenados por año')\n",
        "plt.show(block=False)"
      ]
    },
    {
      "cell_type": "markdown",
      "metadata": {
        "id": "2FrsroS0HkP2"
      },
      "source": [
        "Como se puede apreciar los datos varían mucho desde al año 1979 con solo 1 juego estrenado comparado con el año 2008 dónde hubo 1455 estrenos! Como se puede apreciar, la mediana es de 418 juegos al año, con lo cúal, aparentemente, los datos más relevantes para nuestro estudio, corresponden al periodo entre el 2001 y el 2016. Del 2000 hacia abajo los valores decrecen rápido y del año 1994 hacia abajo son más bien anécdoticos."
      ]
    },
    {
      "cell_type": "markdown",
      "metadata": {
        "id": "QSbfGKlmHkP2"
      },
      "source": [
        "### Ventas por Plataformas <a id='ventas_plataforma'></a>"
      ]
    },
    {
      "cell_type": "code",
      "execution_count": null,
      "metadata": {
        "id": "GT-RWRx8HkP2",
        "outputId": "675dae60-37dc-4c65-84e1-e750deba3ae4"
      },
      "outputs": [
        {
          "data": {
            "text/html": [
              "<div>\n",
              "<style scoped>\n",
              "    .dataframe tbody tr th:only-of-type {\n",
              "        vertical-align: middle;\n",
              "    }\n",
              "\n",
              "    .dataframe tbody tr th {\n",
              "        vertical-align: top;\n",
              "    }\n",
              "\n",
              "    .dataframe thead th {\n",
              "        text-align: right;\n",
              "    }\n",
              "</style>\n",
              "<table border=\"1\" class=\"dataframe\">\n",
              "  <thead>\n",
              "    <tr style=\"text-align: right;\">\n",
              "      <th></th>\n",
              "      <th>total_sales</th>\n",
              "    </tr>\n",
              "    <tr>\n",
              "      <th>platform</th>\n",
              "      <th></th>\n",
              "    </tr>\n",
              "  </thead>\n",
              "  <tbody>\n",
              "    <tr>\n",
              "      <th>PS2</th>\n",
              "      <td>1255.77</td>\n",
              "    </tr>\n",
              "    <tr>\n",
              "      <th>X360</th>\n",
              "      <td>971.42</td>\n",
              "    </tr>\n",
              "    <tr>\n",
              "      <th>PS3</th>\n",
              "      <td>939.65</td>\n",
              "    </tr>\n",
              "    <tr>\n",
              "      <th>Wii</th>\n",
              "      <td>907.51</td>\n",
              "    </tr>\n",
              "    <tr>\n",
              "      <th>DS</th>\n",
              "      <td>806.12</td>\n",
              "    </tr>\n",
              "    <tr>\n",
              "      <th>PS</th>\n",
              "      <td>730.86</td>\n",
              "    </tr>\n",
              "    <tr>\n",
              "      <th>GBA</th>\n",
              "      <td>317.85</td>\n",
              "    </tr>\n",
              "    <tr>\n",
              "      <th>PS4</th>\n",
              "      <td>314.14</td>\n",
              "    </tr>\n",
              "    <tr>\n",
              "      <th>PSP</th>\n",
              "      <td>294.05</td>\n",
              "    </tr>\n",
              "    <tr>\n",
              "      <th>PC</th>\n",
              "      <td>259.52</td>\n",
              "    </tr>\n",
              "    <tr>\n",
              "      <th>3DS</th>\n",
              "      <td>259.00</td>\n",
              "    </tr>\n",
              "    <tr>\n",
              "      <th>XB</th>\n",
              "      <td>257.74</td>\n",
              "    </tr>\n",
              "    <tr>\n",
              "      <th>GB</th>\n",
              "      <td>255.46</td>\n",
              "    </tr>\n",
              "    <tr>\n",
              "      <th>NES</th>\n",
              "      <td>251.05</td>\n",
              "    </tr>\n",
              "    <tr>\n",
              "      <th>N64</th>\n",
              "      <td>218.68</td>\n",
              "    </tr>\n",
              "    <tr>\n",
              "      <th>SNES</th>\n",
              "      <td>200.04</td>\n",
              "    </tr>\n",
              "    <tr>\n",
              "      <th>GC</th>\n",
              "      <td>198.93</td>\n",
              "    </tr>\n",
              "    <tr>\n",
              "      <th>XOne</th>\n",
              "      <td>159.32</td>\n",
              "    </tr>\n",
              "    <tr>\n",
              "      <th>2600</th>\n",
              "      <td>96.98</td>\n",
              "    </tr>\n",
              "    <tr>\n",
              "      <th>WiiU</th>\n",
              "      <td>82.19</td>\n",
              "    </tr>\n",
              "    <tr>\n",
              "      <th>PSV</th>\n",
              "      <td>54.07</td>\n",
              "    </tr>\n",
              "    <tr>\n",
              "      <th>SAT</th>\n",
              "      <td>33.59</td>\n",
              "    </tr>\n",
              "    <tr>\n",
              "      <th>GEN</th>\n",
              "      <td>28.35</td>\n",
              "    </tr>\n",
              "    <tr>\n",
              "      <th>DC</th>\n",
              "      <td>15.95</td>\n",
              "    </tr>\n",
              "    <tr>\n",
              "      <th>SCD</th>\n",
              "      <td>1.86</td>\n",
              "    </tr>\n",
              "    <tr>\n",
              "      <th>NG</th>\n",
              "      <td>1.44</td>\n",
              "    </tr>\n",
              "    <tr>\n",
              "      <th>WS</th>\n",
              "      <td>1.42</td>\n",
              "    </tr>\n",
              "    <tr>\n",
              "      <th>TG16</th>\n",
              "      <td>0.16</td>\n",
              "    </tr>\n",
              "    <tr>\n",
              "      <th>3DO</th>\n",
              "      <td>0.10</td>\n",
              "    </tr>\n",
              "    <tr>\n",
              "      <th>GG</th>\n",
              "      <td>0.04</td>\n",
              "    </tr>\n",
              "    <tr>\n",
              "      <th>PCFX</th>\n",
              "      <td>0.03</td>\n",
              "    </tr>\n",
              "  </tbody>\n",
              "</table>\n",
              "</div>"
            ],
            "text/plain": [
              "          total_sales\n",
              "platform             \n",
              "PS2           1255.77\n",
              "X360           971.42\n",
              "PS3            939.65\n",
              "Wii            907.51\n",
              "DS             806.12\n",
              "PS             730.86\n",
              "GBA            317.85\n",
              "PS4            314.14\n",
              "PSP            294.05\n",
              "PC             259.52\n",
              "3DS            259.00\n",
              "XB             257.74\n",
              "GB             255.46\n",
              "NES            251.05\n",
              "N64            218.68\n",
              "SNES           200.04\n",
              "GC             198.93\n",
              "XOne           159.32\n",
              "2600            96.98\n",
              "WiiU            82.19\n",
              "PSV             54.07\n",
              "SAT             33.59\n",
              "GEN             28.35\n",
              "DC              15.95\n",
              "SCD              1.86\n",
              "NG               1.44\n",
              "WS               1.42\n",
              "TG16             0.16\n",
              "3DO              0.10\n",
              "GG               0.04\n",
              "PCFX             0.03"
            ]
          },
          "execution_count": 176,
          "metadata": {},
          "output_type": "execute_result"
        }
      ],
      "source": [
        "sales_by_console = games.pivot_table(index='platform', values='total_sales', aggfunc='sum')\n",
        "sales_by_console.sort_values(by='total_sales', ascending=False)"
      ]
    },
    {
      "cell_type": "code",
      "execution_count": null,
      "metadata": {
        "id": "5FmjxKRwHkP2",
        "outputId": "cfb23567-f4e0-4862-87aa-251f279acabb"
      },
      "outputs": [
        {
          "data": {
            "text/html": [
              "<div>\n",
              "<style scoped>\n",
              "    .dataframe tbody tr th:only-of-type {\n",
              "        vertical-align: middle;\n",
              "    }\n",
              "\n",
              "    .dataframe tbody tr th {\n",
              "        vertical-align: top;\n",
              "    }\n",
              "\n",
              "    .dataframe thead th {\n",
              "        text-align: right;\n",
              "    }\n",
              "</style>\n",
              "<table border=\"1\" class=\"dataframe\">\n",
              "  <thead>\n",
              "    <tr style=\"text-align: right;\">\n",
              "      <th></th>\n",
              "      <th>total_sales</th>\n",
              "    </tr>\n",
              "    <tr>\n",
              "      <th>platform</th>\n",
              "      <th></th>\n",
              "    </tr>\n",
              "  </thead>\n",
              "  <tbody>\n",
              "    <tr>\n",
              "      <th>PS2</th>\n",
              "      <td>1255.77</td>\n",
              "    </tr>\n",
              "    <tr>\n",
              "      <th>X360</th>\n",
              "      <td>971.42</td>\n",
              "    </tr>\n",
              "    <tr>\n",
              "      <th>PS3</th>\n",
              "      <td>939.65</td>\n",
              "    </tr>\n",
              "    <tr>\n",
              "      <th>Wii</th>\n",
              "      <td>907.51</td>\n",
              "    </tr>\n",
              "    <tr>\n",
              "      <th>DS</th>\n",
              "      <td>806.12</td>\n",
              "    </tr>\n",
              "    <tr>\n",
              "      <th>PS</th>\n",
              "      <td>730.86</td>\n",
              "    </tr>\n",
              "    <tr>\n",
              "      <th>GBA</th>\n",
              "      <td>317.85</td>\n",
              "    </tr>\n",
              "    <tr>\n",
              "      <th>PS4</th>\n",
              "      <td>314.14</td>\n",
              "    </tr>\n",
              "    <tr>\n",
              "      <th>PSP</th>\n",
              "      <td>294.05</td>\n",
              "    </tr>\n",
              "    <tr>\n",
              "      <th>PC</th>\n",
              "      <td>259.52</td>\n",
              "    </tr>\n",
              "    <tr>\n",
              "      <th>3DS</th>\n",
              "      <td>259.00</td>\n",
              "    </tr>\n",
              "    <tr>\n",
              "      <th>XB</th>\n",
              "      <td>257.74</td>\n",
              "    </tr>\n",
              "    <tr>\n",
              "      <th>GB</th>\n",
              "      <td>255.46</td>\n",
              "    </tr>\n",
              "    <tr>\n",
              "      <th>NES</th>\n",
              "      <td>251.05</td>\n",
              "    </tr>\n",
              "    <tr>\n",
              "      <th>N64</th>\n",
              "      <td>218.68</td>\n",
              "    </tr>\n",
              "    <tr>\n",
              "      <th>SNES</th>\n",
              "      <td>200.04</td>\n",
              "    </tr>\n",
              "    <tr>\n",
              "      <th>GC</th>\n",
              "      <td>198.93</td>\n",
              "    </tr>\n",
              "    <tr>\n",
              "      <th>XOne</th>\n",
              "      <td>159.32</td>\n",
              "    </tr>\n",
              "    <tr>\n",
              "      <th>2600</th>\n",
              "      <td>96.98</td>\n",
              "    </tr>\n",
              "    <tr>\n",
              "      <th>WiiU</th>\n",
              "      <td>82.19</td>\n",
              "    </tr>\n",
              "    <tr>\n",
              "      <th>PSV</th>\n",
              "      <td>54.07</td>\n",
              "    </tr>\n",
              "    <tr>\n",
              "      <th>SAT</th>\n",
              "      <td>33.59</td>\n",
              "    </tr>\n",
              "    <tr>\n",
              "      <th>GEN</th>\n",
              "      <td>28.35</td>\n",
              "    </tr>\n",
              "    <tr>\n",
              "      <th>DC</th>\n",
              "      <td>15.95</td>\n",
              "    </tr>\n",
              "    <tr>\n",
              "      <th>SCD</th>\n",
              "      <td>1.86</td>\n",
              "    </tr>\n",
              "    <tr>\n",
              "      <th>NG</th>\n",
              "      <td>1.44</td>\n",
              "    </tr>\n",
              "    <tr>\n",
              "      <th>WS</th>\n",
              "      <td>1.42</td>\n",
              "    </tr>\n",
              "    <tr>\n",
              "      <th>TG16</th>\n",
              "      <td>0.16</td>\n",
              "    </tr>\n",
              "    <tr>\n",
              "      <th>3DO</th>\n",
              "      <td>0.10</td>\n",
              "    </tr>\n",
              "    <tr>\n",
              "      <th>GG</th>\n",
              "      <td>0.04</td>\n",
              "    </tr>\n",
              "    <tr>\n",
              "      <th>PCFX</th>\n",
              "      <td>0.03</td>\n",
              "    </tr>\n",
              "  </tbody>\n",
              "</table>\n",
              "</div>"
            ],
            "text/plain": [
              "          total_sales\n",
              "platform             \n",
              "PS2           1255.77\n",
              "X360           971.42\n",
              "PS3            939.65\n",
              "Wii            907.51\n",
              "DS             806.12\n",
              "PS             730.86\n",
              "GBA            317.85\n",
              "PS4            314.14\n",
              "PSP            294.05\n",
              "PC             259.52\n",
              "3DS            259.00\n",
              "XB             257.74\n",
              "GB             255.46\n",
              "NES            251.05\n",
              "N64            218.68\n",
              "SNES           200.04\n",
              "GC             198.93\n",
              "XOne           159.32\n",
              "2600            96.98\n",
              "WiiU            82.19\n",
              "PSV             54.07\n",
              "SAT             33.59\n",
              "GEN             28.35\n",
              "DC              15.95\n",
              "SCD              1.86\n",
              "NG               1.44\n",
              "WS               1.42\n",
              "TG16             0.16\n",
              "3DO              0.10\n",
              "GG               0.04\n",
              "PCFX             0.03"
            ]
          },
          "execution_count": 177,
          "metadata": {},
          "output_type": "execute_result"
        }
      ],
      "source": [
        "sales_by_console = games.pivot_table(index='platform', values='total_sales', aggfunc='sum')\n",
        "sales_by_console.sort_values(by='total_sales', ascending=False)"
      ]
    },
    {
      "cell_type": "code",
      "execution_count": null,
      "metadata": {
        "id": "9t0eCsLFHkP2",
        "outputId": "7741e24e-e349-4920-91ae-51a7da840d1e"
      },
      "outputs": [
        {
          "name": "stdout",
          "output_type": "stream",
          "text": [
            "La cantidad de ventas promedios por plataforma es de: total_sales    287.525484\n",
            "dtype: float64\n",
            "La mediana de las ventas por plataforma es de: total_sales    200.04\n",
            "dtype: float64\n"
          ]
        }
      ],
      "source": [
        "print('La cantidad de ventas promedios por plataforma es de:', sales_by_console.mean())\n",
        "print('La mediana de las ventas por plataforma es de:', sales_by_console.median())"
      ]
    },
    {
      "cell_type": "markdown",
      "metadata": {
        "id": "t0VTgje_HkP3"
      },
      "source": [
        "Lo primero que podemos notar es la diferencia entre la plataforma más popular que es con diferencia la PS2 (1255.77 millones de dolares) versus la menos popular que es la PCFX (0.03 millones de dolares) y la media que son 288 millones de dolares. Las plataformas más populares son la PS2, X360, PS3, Wii y la DS. En cambio las menos populares son la TG16, 3DO, GG y PCFX. Analizemos la distribución de ventas anual de las plataformas más populares. "
      ]
    },
    {
      "cell_type": "code",
      "execution_count": null,
      "metadata": {
        "id": "VPiC2ViHHkP3",
        "outputId": "cb30b4ca-efb5-4651-fd77-b0bc515b1d9d"
      },
      "outputs": [
        {
          "data": {
            "image/png": "[encoded data removed]",
            "text/plain": [
              "<Figure size 864x432 with 1 Axes>"
            ]
          },
          "metadata": {
            "needs_background": "light"
          },
          "output_type": "display_data"
        }
      ],
      "source": [
        "games.query('platform == \"PS2\"').plot(x='year_of_release', y='total_sales', kind='scatter', figsize=(12,6))\n",
        "plt.xlabel('Año de estreno')\n",
        "plt.ylabel('Ventas Totales')\n",
        "plt.title('Distribución de ventas para la plataforma PS2')\n",
        "plt.show(block=False)"
      ]
    },
    {
      "cell_type": "markdown",
      "metadata": {
        "id": "TWTED2HUHkP3"
      },
      "source": [
        "Al analizar la distribución de ventas para la plataforma PS2 notamos (dejando de lado los puntos excepcionales) una suerte de campana que parte en el año 2000 con un máximo de 4 millones de dolares, sube justo por encima de los 5 millones de dolares en el 2003 y luego comienza a bajar progresivamente para el año 2009 llegar a un máximo de 2 millones de dolares y casi desaparecer en el año 2012. Está plataforma tuvo una vida de 11 años."
      ]
    },
    {
      "cell_type": "code",
      "execution_count": null,
      "metadata": {
        "id": "Zmir31CPHkP3",
        "outputId": "0ef57bb8-7b75-484c-bb1e-1a2ce5e52ab4"
      },
      "outputs": [
        {
          "data": {
            "image/png": "[encoded data removed]",
            "text/plain": [
              "<Figure size 864x432 with 1 Axes>"
            ]
          },
          "metadata": {
            "needs_background": "light"
          },
          "output_type": "display_data"
        }
      ],
      "source": [
        "games.query('platform == \"X360\"').plot(x='year_of_release', y='total_sales', kind='scatter', figsize=(12,6))\n",
        "plt.xlabel('Año de estreno')\n",
        "plt.ylabel('Ventas Totales')\n",
        "plt.title('Distribución de ventas para la plataforma X360')\n",
        "plt.show(block=False)"
      ]
    },
    {
      "cell_type": "markdown",
      "metadata": {
        "id": "MwjK54hNHkP3"
      },
      "source": [
        "En el caso de la segunda plataforma más popular, la X360, notamos un comportamiento similar. Parte en el año 2005 con un máximo de 2.5 millones de dolares, llega a su máximo en 2008 pasado los 5 millones y comienza a bajar para desaparecer el 2017. De nuevo tuvo una vida de 11 años."
      ]
    },
    {
      "cell_type": "code",
      "execution_count": null,
      "metadata": {
        "id": "ymV0LRkYHkP3",
        "outputId": "2ca9b5c5-9e42-44d9-d28b-6a0c35538684"
      },
      "outputs": [
        {
          "data": {
            "image/png": "[encoded data removed]",
            "text/plain": [
              "<Figure size 864x432 with 1 Axes>"
            ]
          },
          "metadata": {
            "needs_background": "light"
          },
          "output_type": "display_data"
        }
      ],
      "source": [
        "games.query('platform == \"PS3\"').plot(x='year_of_release', y='total_sales', kind='scatter', figsize=(12,6))\n",
        "plt.xlabel('Año de estreno')\n",
        "plt.ylabel('Ventas Totales')\n",
        "plt.title('Distribución de ventas para la plataforma PS3')\n",
        "plt.show(block=False)"
      ]
    },
    {
      "cell_type": "markdown",
      "metadata": {
        "id": "B0Zzn-M1HkP4"
      },
      "source": [
        "En el caso de la PS3, notamos que parte con una cifra cercana a los 2.5 millones de dolares. Entre el 2009 y el 2011 llega a su pick y luego comienza a decender hasta el 2016 (fin de nuestro estudio)."
      ]
    },
    {
      "cell_type": "code",
      "execution_count": null,
      "metadata": {
        "id": "diePes2JHkP4",
        "outputId": "fb33bb5a-08a8-413a-c889-31cac9917fef"
      },
      "outputs": [
        {
          "data": {
            "image/png": "[encoded data removed]",
            "text/plain": [
              "<Figure size 864x432 with 1 Axes>"
            ]
          },
          "metadata": {
            "needs_background": "light"
          },
          "output_type": "display_data"
        }
      ],
      "source": [
        "games.query('platform == \"Wii\"').plot(x='year_of_release', y='total_sales', kind='scatter', figsize=(12,6))\n",
        "plt.xlabel('Año de estreno')\n",
        "plt.ylabel('Ventas Totales')\n",
        "plt.title('Distribución de ventas para la plataforma Wii')\n",
        "plt.show(block=False)"
      ]
    },
    {
      "cell_type": "markdown",
      "metadata": {
        "id": "RtWzKr-KHkP4"
      },
      "source": [
        "La última de las más populares es la Nintendo Wii. Esta fue estrenada en noviembre del 2006. Su distribución parece coincidir con las otras cuatro plataformas. De esta manera notamos una tendencia en el ciclo de vida de las plataformas de 11 años. Revisemos cada cuanto tiempo salen nuevas plataformas tomando de ejemplo la PS, PS2, PS3 y PS4 por un lado y la NES, SNES y N64 por otro."
      ]
    },
    {
      "cell_type": "code",
      "execution_count": null,
      "metadata": {
        "id": "fca6-eerHkP4",
        "outputId": "76f6df70-6dc3-4294-9fba-e94f7e424525"
      },
      "outputs": [
        {
          "name": "stdout",
          "output_type": "stream",
          "text": [
            "La Plataforma PS tiene sus primeras ventas en el año: 1994 y sus últimas ventas en 2003 .\n",
            "La Plataforma PS2 tiene sus primeras ventas en el año: 2000 y sus últimas ventas en 2011 .\n",
            "La Plataforma PS3 tiene sus primeras ventas en el año: 2006 y sus últimas ventas en 2016 .\n",
            "La Plataforma PS4 tiene sus primeras ventas en el año: 2013 y sus últimas ventas en 2016 .\n"
          ]
        }
      ],
      "source": [
        "print('La Plataforma PS tiene sus primeras ventas en el año:', games.query('platform == \"PS\"')['year_of_release'].min(),\n",
        "      'y sus últimas ventas en', games.query('platform == \"PS\"')['year_of_release'].max(), '.')\n",
        "print('La Plataforma PS2 tiene sus primeras ventas en el año:', games.query('platform == \"PS2\"')['year_of_release'].min(),\n",
        "      'y sus últimas ventas en', games.query('platform == \"PS2\"')['year_of_release'].max(), '.')\n",
        "print('La Plataforma PS3 tiene sus primeras ventas en el año:', games.query('platform == \"PS3\"')['year_of_release'].min(),\n",
        "      'y sus últimas ventas en', games.query('platform == \"PS3\"')['year_of_release'].max(), '.')\n",
        "print('La Plataforma PS4 tiene sus primeras ventas en el año:', games.query('platform == \"PS4\"')['year_of_release'].min(),\n",
        "      'y sus últimas ventas en', games.query('platform == \"PS4\"')['year_of_release'].max(), '.')"
      ]
    },
    {
      "cell_type": "markdown",
      "metadata": {
        "id": "8SQ5ts6qHkP4"
      },
      "source": [
        "Podemos notar que la PS tuvo un ciclo de vida de 9 años, 6 años despúes de haber sido estrenada salió la PS2. La PS2, duró 11 años. La PS3 se estrenó el 2006, esto quiere decir 6 años despues del estreno de la PS2, y tuvo un ciclo de vida de 10 años (ojo esto porque nuestro estudio terminó el 2016, podría quedarle un año más). La PS4, se estrena 7 años despúes de la PS3."
      ]
    },
    {
      "cell_type": "code",
      "execution_count": null,
      "metadata": {
        "id": "OXrV8McTHkP4",
        "outputId": "1b380c8a-d381-4731-deb4-eb912282cd32"
      },
      "outputs": [
        {
          "name": "stdout",
          "output_type": "stream",
          "text": [
            "La Plataforma NES tiene sus primeras ventas en el año: 1983 y sus últimas ventas en 1994 .\n",
            "La Plataforma SNES tiene sus primeras ventas en el año: 1990 y sus últimas ventas en 1999 .\n",
            "La Plataforma N64 tiene sus primeras ventas en el año: 1996 y sus últimas ventas en 2002 .\n"
          ]
        }
      ],
      "source": [
        "print('La Plataforma NES tiene sus primeras ventas en el año:', games.query('platform == \"NES\"')['year_of_release'].min(),\n",
        "      'y sus últimas ventas en', games.query('platform == \"NES\"')['year_of_release'].max(), '.')\n",
        "print('La Plataforma SNES tiene sus primeras ventas en el año:', games.query('platform == \"SNES\"')['year_of_release'].min(),\n",
        "      'y sus últimas ventas en', games.query('platform == \"SNES\"')['year_of_release'].max(), '.')\n",
        "print('La Plataforma N64 tiene sus primeras ventas en el año:', games.query('platform == \"N64\"')['year_of_release'].min(),\n",
        "      'y sus últimas ventas en', games.query('platform == \"N64\"')['year_of_release'].max(), '.')"
      ]
    },
    {
      "cell_type": "markdown",
      "metadata": {
        "id": "HpbeUK1tHkP5"
      },
      "source": [
        "Si revisamos las nintendo, la NES tiene un ciclo de vida de 11 años, la SNES de 9 años y la N64 de 8 años. Cada plataforma se estrenó 6 años después de la anterior. "
      ]
    },
    {
      "cell_type": "markdown",
      "metadata": {
        "id": "7-4yH_KGHkP5"
      },
      "source": [
        "Revisemos el comportamiento de todas las ventas en todas las plataformas con un heatmap para comprobar nuestras conclusiones inciales."
      ]
    },
    {
      "cell_type": "code",
      "execution_count": null,
      "metadata": {
        "id": "1Q_O6bpfHkP5"
      },
      "outputs": [],
      "source": [
        "sales_by_consoles = games.pivot_table(index='platform', columns='year_of_release', values='total_sales', aggfunc='sum')"
      ]
    },
    {
      "cell_type": "code",
      "execution_count": null,
      "metadata": {
        "id": "bQuoQvp_HkP5",
        "outputId": "b4e902c4-cada-4105-b061-ce6d53ec848f"
      },
      "outputs": [
        {
          "data": {
            "image/png": "[encoded data removed]",
            "text/plain": [
              "<Figure size 1080x432 with 2 Axes>"
            ]
          },
          "metadata": {
            "needs_background": "light"
          },
          "output_type": "display_data"
        }
      ],
      "source": [
        "f, ax = plt.subplots(figsize=(15, 6))\n",
        "sns.heatmap(sales_by_consoles)\n",
        "plt.title('Ventas por Plataformas')\n",
        "plt.show(block=False)"
      ]
    },
    {
      "cell_type": "markdown",
      "metadata": {
        "id": "AQDixCM5HkP5"
      },
      "source": [
        "**En conclusión**, hemos descubierto que las consolas tienen, en general, un ciclo de vida del orden de los 11 años y en general aparecen nuevas consolas cada seis años. Por otro lado, podemos notar que en general las consolas tienden a crecer entre los 5 y 7 primeros años, luego decaen sus ventas. Teniendo estos datos en mente, vamos a acotar los datos de nuestra tabla a datos a partir del año 2012. Escogemos este año porque 5 años despúes será el año 2017, o sea nuestro año de estudio. Podremos entonces revisar ya las últimas consolas que estarán ese año y podremos revisar lo que se viene."
      ]
    },
    {
      "cell_type": "markdown",
      "metadata": {
        "id": "Krx9S0pLHkP6"
      },
      "source": [
        "### Ventas por Plataformas en base acotada <a id='ventas_plataforma_2'></a>"
      ]
    },
    {
      "cell_type": "markdown",
      "metadata": {
        "id": "gnt32LJ2HkP6"
      },
      "source": [
        "Acotaremos nuestra base de datos en base a nuestros resultados:"
      ]
    },
    {
      "cell_type": "code",
      "execution_count": null,
      "metadata": {
        "id": "atzkcdpRHkP6",
        "outputId": "63c47d32-5725-483c-ae8c-93352b084c29"
      },
      "outputs": [
        {
          "name": "stdout",
          "output_type": "stream",
          "text": [
            "<class 'pandas.core.frame.DataFrame'>\n",
            "Int64Index: 2903 entries, 16 to 16714\n",
            "Data columns (total 12 columns):\n",
            " #   Column           Non-Null Count  Dtype  \n",
            "---  ------           --------------  -----  \n",
            " 0   name             2903 non-null   object \n",
            " 1   platform         2903 non-null   object \n",
            " 2   year_of_release  2903 non-null   int64  \n",
            " 3   genre            2903 non-null   object \n",
            " 4   na_sales         2903 non-null   float64\n",
            " 5   eu_sales         2903 non-null   float64\n",
            " 6   jp_sales         2903 non-null   float64\n",
            " 7   other_sales      2903 non-null   float64\n",
            " 8   total_sales      2903 non-null   float64\n",
            " 9   critic_score     1320 non-null   float64\n",
            " 10  user_score       1540 non-null   float64\n",
            " 11  rating           2903 non-null   object \n",
            "dtypes: float64(7), int64(1), object(4)\n",
            "memory usage: 294.8+ KB\n"
          ]
        }
      ],
      "source": [
        "valid_platform = games.query('year_of_release >= 2012')\n",
        "valid_platform.info()"
      ]
    },
    {
      "cell_type": "markdown",
      "metadata": {
        "id": "vCdFXsYXHkP6"
      },
      "source": [
        "Nuestra base de datos validos tiene 2903 juegos, un buen número para poder realizar nuestro estudio. Revisemos los ingresos totales y los años de estreno para cada plataforma:"
      ]
    },
    {
      "cell_type": "code",
      "execution_count": null,
      "metadata": {
        "id": "SFBxrDHEHkP6",
        "outputId": "98600334-3f1f-4ca1-b921-49160568c36a"
      },
      "outputs": [
        {
          "data": {
            "text/html": [
              "<div>\n",
              "<style scoped>\n",
              "    .dataframe tbody tr th:only-of-type {\n",
              "        vertical-align: middle;\n",
              "    }\n",
              "\n",
              "    .dataframe tbody tr th {\n",
              "        vertical-align: top;\n",
              "    }\n",
              "\n",
              "    .dataframe thead th {\n",
              "        text-align: right;\n",
              "    }\n",
              "</style>\n",
              "<table border=\"1\" class=\"dataframe\">\n",
              "  <thead>\n",
              "    <tr style=\"text-align: right;\">\n",
              "      <th></th>\n",
              "      <th>total_sales</th>\n",
              "      <th>year_of_release</th>\n",
              "    </tr>\n",
              "    <tr>\n",
              "      <th>platform</th>\n",
              "      <th></th>\n",
              "      <th></th>\n",
              "    </tr>\n",
              "  </thead>\n",
              "  <tbody>\n",
              "    <tr>\n",
              "      <th>PS4</th>\n",
              "      <td>314.14</td>\n",
              "      <td>2013</td>\n",
              "    </tr>\n",
              "    <tr>\n",
              "      <th>XOne</th>\n",
              "      <td>159.32</td>\n",
              "      <td>2013</td>\n",
              "    </tr>\n",
              "    <tr>\n",
              "      <th>3DS</th>\n",
              "      <td>194.64</td>\n",
              "      <td>2012</td>\n",
              "    </tr>\n",
              "    <tr>\n",
              "      <th>DS</th>\n",
              "      <td>12.61</td>\n",
              "      <td>2012</td>\n",
              "    </tr>\n",
              "    <tr>\n",
              "      <th>PC</th>\n",
              "      <td>63.39</td>\n",
              "      <td>2012</td>\n",
              "    </tr>\n",
              "    <tr>\n",
              "      <th>PS3</th>\n",
              "      <td>289.08</td>\n",
              "      <td>2012</td>\n",
              "    </tr>\n",
              "    <tr>\n",
              "      <th>PSP</th>\n",
              "      <td>11.31</td>\n",
              "      <td>2012</td>\n",
              "    </tr>\n",
              "    <tr>\n",
              "      <th>PSV</th>\n",
              "      <td>49.18</td>\n",
              "      <td>2012</td>\n",
              "    </tr>\n",
              "    <tr>\n",
              "      <th>Wii</th>\n",
              "      <td>38.45</td>\n",
              "      <td>2012</td>\n",
              "    </tr>\n",
              "    <tr>\n",
              "      <th>WiiU</th>\n",
              "      <td>82.19</td>\n",
              "      <td>2012</td>\n",
              "    </tr>\n",
              "    <tr>\n",
              "      <th>X360</th>\n",
              "      <td>236.62</td>\n",
              "      <td>2012</td>\n",
              "    </tr>\n",
              "  </tbody>\n",
              "</table>\n",
              "</div>"
            ],
            "text/plain": [
              "          total_sales  year_of_release\n",
              "platform                              \n",
              "PS4            314.14             2013\n",
              "XOne           159.32             2013\n",
              "3DS            194.64             2012\n",
              "DS              12.61             2012\n",
              "PC              63.39             2012\n",
              "PS3            289.08             2012\n",
              "PSP             11.31             2012\n",
              "PSV             49.18             2012\n",
              "Wii             38.45             2012\n",
              "WiiU            82.19             2012\n",
              "X360           236.62             2012"
            ]
          },
          "execution_count": 194,
          "metadata": {},
          "output_type": "execute_result"
        }
      ],
      "source": [
        "sales_by_valid_console = valid_platform.pivot_table(index='platform', aggfunc={'year_of_release':'min', 'total_sales':'sum'})\n",
        "sales_by_valid_console.sort_values(by='year_of_release', ascending=False)"
      ]
    },
    {
      "cell_type": "markdown",
      "metadata": {
        "id": "WtKm2Fu2HkP6"
      },
      "source": [
        "Como se puede apreciar, tenemos ahora dos consolas del 2013 y el resto del 2012. Vamos a ordenarlas por ventas:"
      ]
    },
    {
      "cell_type": "code",
      "execution_count": null,
      "metadata": {
        "id": "BeHk1hzmHkP6",
        "outputId": "0e7a47a2-d89f-4644-d524-ec8415bfd2ce"
      },
      "outputs": [
        {
          "data": {
            "text/html": [
              "<div>\n",
              "<style scoped>\n",
              "    .dataframe tbody tr th:only-of-type {\n",
              "        vertical-align: middle;\n",
              "    }\n",
              "\n",
              "    .dataframe tbody tr th {\n",
              "        vertical-align: top;\n",
              "    }\n",
              "\n",
              "    .dataframe thead th {\n",
              "        text-align: right;\n",
              "    }\n",
              "</style>\n",
              "<table border=\"1\" class=\"dataframe\">\n",
              "  <thead>\n",
              "    <tr style=\"text-align: right;\">\n",
              "      <th></th>\n",
              "      <th>total_sales</th>\n",
              "      <th>year_of_release</th>\n",
              "    </tr>\n",
              "    <tr>\n",
              "      <th>platform</th>\n",
              "      <th></th>\n",
              "      <th></th>\n",
              "    </tr>\n",
              "  </thead>\n",
              "  <tbody>\n",
              "    <tr>\n",
              "      <th>PS4</th>\n",
              "      <td>314.14</td>\n",
              "      <td>2013</td>\n",
              "    </tr>\n",
              "    <tr>\n",
              "      <th>PS3</th>\n",
              "      <td>289.08</td>\n",
              "      <td>2012</td>\n",
              "    </tr>\n",
              "    <tr>\n",
              "      <th>X360</th>\n",
              "      <td>236.62</td>\n",
              "      <td>2012</td>\n",
              "    </tr>\n",
              "    <tr>\n",
              "      <th>3DS</th>\n",
              "      <td>194.64</td>\n",
              "      <td>2012</td>\n",
              "    </tr>\n",
              "    <tr>\n",
              "      <th>XOne</th>\n",
              "      <td>159.32</td>\n",
              "      <td>2013</td>\n",
              "    </tr>\n",
              "    <tr>\n",
              "      <th>WiiU</th>\n",
              "      <td>82.19</td>\n",
              "      <td>2012</td>\n",
              "    </tr>\n",
              "    <tr>\n",
              "      <th>PC</th>\n",
              "      <td>63.39</td>\n",
              "      <td>2012</td>\n",
              "    </tr>\n",
              "    <tr>\n",
              "      <th>PSV</th>\n",
              "      <td>49.18</td>\n",
              "      <td>2012</td>\n",
              "    </tr>\n",
              "    <tr>\n",
              "      <th>Wii</th>\n",
              "      <td>38.45</td>\n",
              "      <td>2012</td>\n",
              "    </tr>\n",
              "    <tr>\n",
              "      <th>DS</th>\n",
              "      <td>12.61</td>\n",
              "      <td>2012</td>\n",
              "    </tr>\n",
              "    <tr>\n",
              "      <th>PSP</th>\n",
              "      <td>11.31</td>\n",
              "      <td>2012</td>\n",
              "    </tr>\n",
              "  </tbody>\n",
              "</table>\n",
              "</div>"
            ],
            "text/plain": [
              "          total_sales  year_of_release\n",
              "platform                              \n",
              "PS4            314.14             2013\n",
              "PS3            289.08             2012\n",
              "X360           236.62             2012\n",
              "3DS            194.64             2012\n",
              "XOne           159.32             2013\n",
              "WiiU            82.19             2012\n",
              "PC              63.39             2012\n",
              "PSV             49.18             2012\n",
              "Wii             38.45             2012\n",
              "DS              12.61             2012\n",
              "PSP             11.31             2012"
            ]
          },
          "execution_count": 195,
          "metadata": {},
          "output_type": "execute_result"
        }
      ],
      "source": [
        "sales_by_valid_console.sort_values(by='total_sales', ascending=False)"
      ]
    },
    {
      "cell_type": "markdown",
      "metadata": {
        "id": "re_9kC41HkP6"
      },
      "source": [
        "Podemos notar que la PS4, la PS3, y la X360 son las líderes en ventas. Las plataformas con menos ventas son las Wii, DS y PSP. "
      ]
    },
    {
      "cell_type": "code",
      "execution_count": null,
      "metadata": {
        "id": "-dfLvRw6HkP6",
        "outputId": "9dbfaf2a-165d-4f6d-eccb-6780a23e7f35"
      },
      "outputs": [
        {
          "data": {
            "image/png": "[encoded data removed]",
            "text/plain": [
              "<Figure size 1008x576 with 12 Axes>"
            ]
          },
          "metadata": {
            "needs_background": "light"
          },
          "output_type": "display_data"
        }
      ],
      "source": [
        "fig, axs = plt.subplots(3,4, figsize=(14,8))\n",
        "fig.suptitle(\"Ventas por plataformas entre 2012 y 2016\", fontsize=14)\n",
        "axs[0,0].scatter(valid_platform.query('platform == \"PS4\"').year_of_release, valid_platform.query('platform == \"PS4\"').total_sales, alpha=0.3, color='blue')\n",
        "axs[0,0].set_title('PS4')\n",
        "axs[0,1].scatter(valid_platform.query('platform == \"PS3\"').year_of_release, valid_platform.query('platform == \"PS3\"').total_sales, color='orange')\n",
        "axs[0,1].set_title('PS3')\n",
        "axs[0,2].scatter(valid_platform.query('platform == \"X360\"').year_of_release, valid_platform.query('platform == \"X360\"').total_sales, color='green')\n",
        "axs[0,2].set_title('X360')\n",
        "axs[0,3].scatter(valid_platform.query('platform == \"3DS\"').year_of_release, valid_platform.query('platform == \"3DS\"').total_sales, color='red')\n",
        "axs[0,3].set_title('3DS')\n",
        "axs[1,0].scatter(valid_platform.query('platform == \"XOne\"').year_of_release, valid_platform.query('platform == \"XOne\"').total_sales, color='purple')\n",
        "axs[1,0].set_title('XOne')\n",
        "axs[1,1].scatter(valid_platform.query('platform == \"WiiU\"').year_of_release, valid_platform.query('platform == \"WiiU\"').total_sales, color='black')\n",
        "axs[1,1].set_title('WiiU')\n",
        "axs[1,2].scatter(valid_platform.query('platform == \"PC\"').year_of_release, valid_platform.query('platform == \"PC\"').total_sales, color='cyan')\n",
        "axs[1,2].set_title('PC')\n",
        "axs[1,3].scatter(valid_platform.query('platform == \"PSV\"').year_of_release, valid_platform.query('platform == \"PSV\"').total_sales, color='magenta')\n",
        "axs[1,3].set_title('PSV')\n",
        "axs[2,0].scatter(valid_platform.query('platform == \"Wii\"').year_of_release, valid_platform.query('platform == \"Wii\"').total_sales, color='yellow')\n",
        "axs[2,0].set_title('Wii')\n",
        "axs[2,1].scatter(valid_platform.query('platform == \"DS\"').year_of_release, valid_platform.query('platform == \"DS\"').total_sales, color='grey')\n",
        "axs[2,1].set_title('DS')\n",
        "axs[2,2].scatter(valid_platform.query('platform == \"PSP\"').year_of_release, valid_platform.query('platform == \"PSP\"').total_sales, color='brown')\n",
        "axs[2,2].set_title('PSP')\n",
        "axs[2,3].axis('off')\n",
        "\n",
        "for ax in axs.flat:\n",
        "    ax.set(xlabel='Año', ylabel='Ventas')\n",
        "    \n",
        "for ax in axs.flat:\n",
        "    ax.label_outer()\n",
        "\n",
        "plt.imagesize=(15, 6)\n",
        "\n",
        "plt.tight_layout()"
      ]
    },
    {
      "cell_type": "markdown",
      "metadata": {
        "id": "ROf5eQbXHkP7"
      },
      "source": [
        "Al observar las ventas por años de las plataformas en nuestro dataset revisado, podemos notar que solo tenemos tres consolas que permanecen vigentes, la PS4, las 3DS y la XOne. El resto de consolas parecen estar todas decayendo en ventas. Veamos la distribución de cada una:"
      ]
    },
    {
      "cell_type": "code",
      "execution_count": null,
      "metadata": {
        "scrolled": true,
        "id": "mjw3nmadHkP7"
      },
      "outputs": [],
      "source": [
        "distribution_by_platform = valid_platform.pivot_table(index='year_of_release', columns='platform', values='total_sales')"
      ]
    },
    {
      "cell_type": "code",
      "execution_count": null,
      "metadata": {
        "id": "zRJife5HHkP8",
        "outputId": "b1cfadd2-bdc4-4315-c686-33a5c1656208"
      },
      "outputs": [
        {
          "data": {
            "image/png": "[encoded data removed]",
            "text/plain": [
              "<Figure size 1080x504 with 1 Axes>"
            ]
          },
          "metadata": {
            "needs_background": "light"
          },
          "output_type": "display_data"
        }
      ],
      "source": [
        "ax = distribution_by_platform[['PS4', 'PS3', 'X360', '3DS', 'XOne', 'WiiU', 'PC', 'PSV', 'Wii', 'DS', 'PSP']].plot(kind='box', figsize=(15,7))\n",
        "plt.xlabel('Distribución')\n",
        "plt.ylabel('Ventas Totales')\n",
        "plt.title('Distribución de ventas por plataforma')\n",
        "plt.show(block=False)"
      ]
    },
    {
      "cell_type": "markdown",
      "metadata": {
        "id": "SRDhgDxhHkP8"
      },
      "source": [
        "Viendo la distribución de ventas por plataformas podemos notar que en general las plataformas venden entre 0,2 y 1 millon. Solo la PS4 supera estas cifras. En el gráfico, notamos que las plataformas con mejores ventas son pues la PS4, X360 y la XOne. \n",
        "\n",
        "Notamos que la media está bastante al medio de la caja en algunos casos como por ejemplo la PS4 o la PS3. Hay varias consolas que su media está más inclinada al borde superior como es el caso de XOne o un extremo que nos resulta interesante es la 3DS. El caso opuesto (la media está en el borde bajo de la caja) encontramos los juegos de la DS. Vamos a analizar las medias de algunos de estos casos:"
      ]
    },
    {
      "cell_type": "code",
      "execution_count": null,
      "metadata": {
        "id": "ht-Z4npLHkP8",
        "outputId": "4fd31a15-d7fa-4ce4-956b-eaf3bad2c236"
      },
      "outputs": [
        {
          "data": {
            "image/png": "[encoded data removed]",
            "text/plain": [
              "<Figure size 432x288 with 1 Axes>"
            ]
          },
          "metadata": {
            "needs_background": "light"
          },
          "output_type": "display_data"
        }
      ],
      "source": [
        "Q1_PS4 = valid_platform.query('platform == \"PS4\"')['total_sales'].quantile(0.25)\n",
        "Q3_PS4 = valid_platform.query('platform == \"PS4\"')['total_sales'].quantile(0.75)\n",
        "IQR_PS4 = Q3_PS4 - Q1_PS4\n",
        "\n",
        "valid_platform.query('platform == \"PS4\"').boxplot(column='total_sales')\n",
        "plt.xlabel('Distribución')\n",
        "plt.ylabel('Ventas Totales')\n",
        "plt.title('Distribución de ventas para la PS4')\n",
        "\n",
        "plt.ylim(-1, 2.5)\n",
        "plt.hlines(y=[Q1_PS4, Q3_PS4], xmin=0.9, xmax=1.1, color='red')\n",
        "plt.hlines(y=(Q3_PS4+1.5*IQR_PS4), xmin=0.9, xmax=1.1, color='purple')\n",
        "plt.hlines(y=(Q1_PS4-1.5*IQR_PS4), xmin=0.9, xmax=1.1, color='purple')\n",
        "plt.show(block=False)"
      ]
    },
    {
      "cell_type": "markdown",
      "metadata": {
        "id": "L3hS0HURHkP8"
      },
      "source": [
        "Si analizamos la distribución de la PS4 (quitando los valores excepcionales que llegan hasta 5 millones de dolares), notamos que el bigote superior tiene muchos valores por encima. El bigote inferior en cambio está muy por debajo del cero, pero sin valores. Es interesante notar que la media está más inclinada hacia abajo en realidad (más o menos 0.2 millones de dolares), mientras que el primer cuantil esta cerca del cero, el tercer cuantil se acerca al 0.75."
      ]
    },
    {
      "cell_type": "code",
      "execution_count": null,
      "metadata": {
        "id": "MVp-5AhMHkP8",
        "outputId": "e63e585b-e286-4edb-f69b-c06c003db511"
      },
      "outputs": [
        {
          "data": {
            "image/png": "[encoded data removed]",
            "text/plain": [
              "<Figure size 432x288 with 1 Axes>"
            ]
          },
          "metadata": {
            "needs_background": "light"
          },
          "output_type": "display_data"
        }
      ],
      "source": [
        "Q1_3DS = valid_platform.query('platform == \"3DS\"')['total_sales'].quantile(0.25)\n",
        "Q3_3DS = valid_platform.query('platform == \"3DS\"')['total_sales'].quantile(0.75)\n",
        "IQR_3DS = Q3_3DS - Q1_3DS\n",
        "\n",
        "valid_platform.query('platform == \"3DS\"').boxplot(column='total_sales')\n",
        "plt.xlabel('Distribución')\n",
        "plt.ylabel('Ventas Totales')\n",
        "plt.title('Distribución de ventas para la 3DS')\n",
        "\n",
        "plt.ylim(-0.5, 1)\n",
        "plt.hlines(y=[Q1_3DS, Q3_3DS], xmin=0.9, xmax=1.1, color='red')\n",
        "plt.hlines(y=(Q3_3DS+1.5*IQR_3DS), xmin=0.9, xmax=1.1, color='purple')\n",
        "plt.hlines(y=(Q1_3DS-1.5*IQR_3DS), xmin=0.9, xmax=1.1, color='purple')\n",
        "plt.show(block=False)"
      ]
    },
    {
      "cell_type": "markdown",
      "metadata": {
        "id": "Q1ZF3SVhHkP8"
      },
      "source": [
        "En el caso de la 3DS, tuvimos que hacer zoom al gráfico ya que los valores excepcionales pasan los 14 millones. Si nos fijamos, nuevamente la media en realidad se encuentra más cercana al primer cuantil que al medio de la caja. En este caso, las excepciones son extremas, ya que el bigote superior no supera los 0.8 millones, sin embargo encontramos valores hasta de 14 millones."
      ]
    },
    {
      "cell_type": "code",
      "execution_count": null,
      "metadata": {
        "id": "wSvYXTjDHkP9",
        "outputId": "00ed58a3-20af-4e5e-dac8-f3f53c80f701"
      },
      "outputs": [
        {
          "data": {
            "image/png": "[encoded data removed]",
            "text/plain": [
              "<Figure size 432x288 with 1 Axes>"
            ]
          },
          "metadata": {
            "needs_background": "light"
          },
          "output_type": "display_data"
        }
      ],
      "source": [
        "Q1_DS = valid_platform.query('platform == \"DS\"')['total_sales'].quantile(0.25)\n",
        "Q3_DS = valid_platform.query('platform == \"DS\"')['total_sales'].quantile(0.75)\n",
        "IQR_DS = Q3_DS - Q1_DS\n",
        "\n",
        "valid_platform.query('platform == \"DS\"').boxplot(column='total_sales')\n",
        "plt.xlabel('Distribución')\n",
        "plt.ylabel('Ventas Totales')\n",
        "plt.title('Distribución de ventas para la DS')\n",
        "\n",
        "plt.ylim(0, 0.6)\n",
        "plt.hlines(y=[Q1_DS, Q3_DS], xmin=0.9, xmax=1.1, color='red')\n",
        "plt.hlines(y=(Q3_DS+1.5*IQR_DS), xmin=0.9, xmax=1.1, color='purple')\n",
        "plt.hlines(y=(Q1_DS-1.5*IQR_DS), xmin=0.9, xmax=1.1, color='purple')\n",
        "plt.show(block=False)"
      ]
    },
    {
      "cell_type": "markdown",
      "metadata": {
        "id": "aXXS35rpHkP9"
      },
      "source": [
        "En el caso de la DS, nuevamente notamos la media en la parte baja de la caja, más cerca del primer cuantil. Encontramos un patrón. Vamos a observar de cerca estás medianas. "
      ]
    },
    {
      "cell_type": "code",
      "execution_count": null,
      "metadata": {
        "id": "LW5cU9nwHkP9",
        "outputId": "62547a02-ae2c-4db3-9709-dbf1b69a682a"
      },
      "outputs": [
        {
          "data": {
            "text/plain": [
              "platform\n",
              "X360    0.310\n",
              "WiiU    0.220\n",
              "XOne    0.220\n",
              "PS4     0.200\n",
              "PS3     0.195\n",
              "Wii     0.180\n",
              "3DS     0.110\n",
              "PC      0.080\n",
              "DS      0.050\n",
              "PSV     0.050\n",
              "PSP     0.035\n",
              "Name: total_sales, dtype: float64"
            ]
          },
          "execution_count": 205,
          "metadata": {},
          "output_type": "execute_result"
        }
      ],
      "source": [
        "platform_mean_sales = valid_platform.groupby('platform')['total_sales'].median()\n",
        "platform_mean_sales.sort_values(ascending=False)"
      ]
    },
    {
      "cell_type": "markdown",
      "metadata": {
        "id": "kY7Uw2RIHkP9"
      },
      "source": [
        "Es interesante notar que las medianas son en realidad bastante similares entre las distintas plataformas. Vamos a ver un poco más de cerca su distribución:"
      ]
    },
    {
      "cell_type": "code",
      "execution_count": null,
      "metadata": {
        "id": "tQrSnmSwHkP9",
        "outputId": "5b9d2381-153d-42b8-d623-a402b9150cb4"
      },
      "outputs": [
        {
          "data": {
            "text/plain": [
              "count    11.00000\n",
              "mean      0.15000\n",
              "std       0.08975\n",
              "min       0.03500\n",
              "25%       0.06500\n",
              "50%       0.18000\n",
              "75%       0.21000\n",
              "max       0.31000\n",
              "Name: total_sales, dtype: float64"
            ]
          },
          "execution_count": 206,
          "metadata": {},
          "output_type": "execute_result"
        }
      ],
      "source": [
        "platform_mean_sales.describe()"
      ]
    },
    {
      "cell_type": "markdown",
      "metadata": {
        "id": "MQI_VOCcHkP9"
      },
      "source": [
        "A partir de estos datos notamos algunos puntos interesantes. El promedio de medianas es de 0.15 millones, con una desviación estándar de 0.09 millones, lo que nos indica que en general, quitando las ventas excepcionales, estás plataformas se comportan de manera muy similar. "
      ]
    },
    {
      "cell_type": "markdown",
      "metadata": {
        "id": "Fn6YhZAqHkP9"
      },
      "source": [
        "#### Conclusiones sobre las ventas por Plataformas <a id='ventas_plataforma_conclusiones'></a>"
      ]
    },
    {
      "cell_type": "markdown",
      "metadata": {
        "id": "BGcDN4kaHkP9"
      },
      "source": [
        "Creamos una tabla acotada 'valid_platform' que incluye las ventas del 2012 en adelante, basandonos en los ciclos de vida de las plataforma. Nuestra nueva base de datos comprende 11 plataformas, de estas, las con mayores ventas son la PS4, X360 y la XOne. Al revisar las ventas por año de las plataformas más populares, notamos como la X360, la PS3, la Wii y la DS ya son consolas 'viejas' que están decayendo en sus ventas. Mientrás que la PS4, las 3DS y la XOne están manteniendo sus ventas constantes.\n",
        "\n",
        "Cuando revisamos la distribución de ventas por plataforma notamos que la mayoría de estás tienen sus ventas entre los 0.2 millones y 1 millón. \n",
        "\n",
        "Finalmente, encontramos que si dejamos de lado las ventas excepcionales de cada plataforma (o sea, cuando comparamos sus medianas) estás se encuentran todas en un rango de 0.15 millones con un más, menos 0.09 millones de diferencia. "
      ]
    },
    {
      "cell_type": "markdown",
      "metadata": {
        "id": "yjc31cu2HkP-"
      },
      "source": [
        "### Reseñas de los usuarios <a id='estudio_reseñas'></a>"
      ]
    },
    {
      "cell_type": "markdown",
      "metadata": {
        "id": "LS0Sl4X3HkP-"
      },
      "source": [
        "Observemos si las criticas de usuarios y profesionales afecta a las ventas de los videojuegos. Tomaremos de ejemplo la plataforma con mayores ventas de nuestra base acotada la PS4. Con el fin de poder visualizar la correlación del rating con respecto a los precios crearemos el diccionario siguiente:"
      ]
    },
    {
      "cell_type": "code",
      "execution_count": null,
      "metadata": {
        "id": "CZpkGIBoHkP-"
      },
      "outputs": [],
      "source": [
        "reseñas_PS4 = valid_platform.query('platform == \"PS4\"').loc[:,['total_sales','critic_score', 'user_score']]"
      ]
    },
    {
      "cell_type": "code",
      "execution_count": null,
      "metadata": {
        "id": "vLKnCVSzHkP-",
        "outputId": "31f8dcc8-c600-4167-d74b-157139c14e0b"
      },
      "outputs": [
        {
          "data": {
            "text/html": [
              "<style  type=\"text/css\" >\n",
              "#T_fed1b_row0_col0,#T_fed1b_row1_col1,#T_fed1b_row2_col2{\n",
              "            background-color:  #b40426;\n",
              "            color:  #f1f1f1;\n",
              "        }#T_fed1b_row0_col1,#T_fed1b_row1_col0{\n",
              "            background-color:  #c7d7f0;\n",
              "            color:  #000000;\n",
              "        }#T_fed1b_row0_col2,#T_fed1b_row2_col0{\n",
              "            background-color:  #3b4cc0;\n",
              "            color:  #f1f1f1;\n",
              "        }#T_fed1b_row1_col2,#T_fed1b_row2_col1{\n",
              "            background-color:  #edd1c2;\n",
              "            color:  #000000;\n",
              "        }</style><table id=\"T_fed1b_\" ><thead>    <tr>        <th class=\"blank level0\" ></th>        <th class=\"col_heading level0 col0\" >total_sales</th>        <th class=\"col_heading level0 col1\" >critic_score</th>        <th class=\"col_heading level0 col2\" >user_score</th>    </tr></thead><tbody>\n",
              "                <tr>\n",
              "                        <th id=\"T_fed1b_level0_row0\" class=\"row_heading level0 row0\" >total_sales</th>\n",
              "                        <td id=\"T_fed1b_row0_col0\" class=\"data row0 col0\" >1.00</td>\n",
              "                        <td id=\"T_fed1b_row0_col1\" class=\"data row0 col1\" >0.41</td>\n",
              "                        <td id=\"T_fed1b_row0_col2\" class=\"data row0 col2\" >-0.03</td>\n",
              "            </tr>\n",
              "            <tr>\n",
              "                        <th id=\"T_fed1b_level0_row1\" class=\"row_heading level0 row1\" >critic_score</th>\n",
              "                        <td id=\"T_fed1b_row1_col0\" class=\"data row1 col0\" >0.41</td>\n",
              "                        <td id=\"T_fed1b_row1_col1\" class=\"data row1 col1\" >1.00</td>\n",
              "                        <td id=\"T_fed1b_row1_col2\" class=\"data row1 col2\" >0.56</td>\n",
              "            </tr>\n",
              "            <tr>\n",
              "                        <th id=\"T_fed1b_level0_row2\" class=\"row_heading level0 row2\" >user_score</th>\n",
              "                        <td id=\"T_fed1b_row2_col0\" class=\"data row2 col0\" >-0.03</td>\n",
              "                        <td id=\"T_fed1b_row2_col1\" class=\"data row2 col1\" >0.56</td>\n",
              "                        <td id=\"T_fed1b_row2_col2\" class=\"data row2 col2\" >1.00</td>\n",
              "            </tr>\n",
              "    </tbody></table>"
            ],
            "text/plain": [
              "<pandas.io.formats.style.Styler at 0x7fbfc5920700>"
            ]
          },
          "execution_count": 208,
          "metadata": {},
          "output_type": "execute_result"
        }
      ],
      "source": [
        "reseñas_PS4.corr().style.background_gradient(cmap='coolwarm', axis=None).set_precision(2)"
      ]
    },
    {
      "cell_type": "markdown",
      "metadata": {
        "id": "l13cMdTzHkP-"
      },
      "source": [
        "Notamos que las puntaciones de profesionales tienen en general una influencia positiva en las ventas de los video juegos. En cambio, las criticas de usuarios tienen un correlación negativa pero bastante pequeña. Comprobemos esto con dos juegos que podemos encontrar en varias plataformas:"
      ]
    },
    {
      "cell_type": "code",
      "execution_count": null,
      "metadata": {
        "id": "ZE93Q0VTHkP-",
        "outputId": "e6ee9ae6-4b36-4e60-8973-4038e6894fef"
      },
      "outputs": [
        {
          "data": {
            "text/html": [
              "<div>\n",
              "<style scoped>\n",
              "    .dataframe tbody tr th:only-of-type {\n",
              "        vertical-align: middle;\n",
              "    }\n",
              "\n",
              "    .dataframe tbody tr th {\n",
              "        vertical-align: top;\n",
              "    }\n",
              "\n",
              "    .dataframe thead th {\n",
              "        text-align: right;\n",
              "    }\n",
              "</style>\n",
              "<table border=\"1\" class=\"dataframe\">\n",
              "  <thead>\n",
              "    <tr style=\"text-align: right;\">\n",
              "      <th></th>\n",
              "      <th>name</th>\n",
              "      <th>platform</th>\n",
              "      <th>year_of_release</th>\n",
              "      <th>genre</th>\n",
              "      <th>na_sales</th>\n",
              "      <th>eu_sales</th>\n",
              "      <th>jp_sales</th>\n",
              "      <th>other_sales</th>\n",
              "      <th>total_sales</th>\n",
              "      <th>critic_score</th>\n",
              "      <th>user_score</th>\n",
              "      <th>rating</th>\n",
              "    </tr>\n",
              "  </thead>\n",
              "  <tbody>\n",
              "    <tr>\n",
              "      <th>16</th>\n",
              "      <td>Grand Theft Auto V</td>\n",
              "      <td>PS3</td>\n",
              "      <td>2013</td>\n",
              "      <td>Action</td>\n",
              "      <td>7.02</td>\n",
              "      <td>9.09</td>\n",
              "      <td>0.98</td>\n",
              "      <td>3.96</td>\n",
              "      <td>21.05</td>\n",
              "      <td>97.0</td>\n",
              "      <td>8.2</td>\n",
              "      <td>M</td>\n",
              "    </tr>\n",
              "    <tr>\n",
              "      <th>23</th>\n",
              "      <td>Grand Theft Auto V</td>\n",
              "      <td>X360</td>\n",
              "      <td>2013</td>\n",
              "      <td>Action</td>\n",
              "      <td>9.66</td>\n",
              "      <td>5.14</td>\n",
              "      <td>0.06</td>\n",
              "      <td>1.41</td>\n",
              "      <td>16.27</td>\n",
              "      <td>97.0</td>\n",
              "      <td>8.1</td>\n",
              "      <td>M</td>\n",
              "    </tr>\n",
              "    <tr>\n",
              "      <th>42</th>\n",
              "      <td>Grand Theft Auto V</td>\n",
              "      <td>PS4</td>\n",
              "      <td>2014</td>\n",
              "      <td>Action</td>\n",
              "      <td>3.96</td>\n",
              "      <td>6.31</td>\n",
              "      <td>0.38</td>\n",
              "      <td>1.97</td>\n",
              "      <td>12.62</td>\n",
              "      <td>97.0</td>\n",
              "      <td>8.3</td>\n",
              "      <td>M</td>\n",
              "    </tr>\n",
              "    <tr>\n",
              "      <th>165</th>\n",
              "      <td>Grand Theft Auto V</td>\n",
              "      <td>XOne</td>\n",
              "      <td>2014</td>\n",
              "      <td>Action</td>\n",
              "      <td>2.81</td>\n",
              "      <td>2.19</td>\n",
              "      <td>0.00</td>\n",
              "      <td>0.47</td>\n",
              "      <td>5.47</td>\n",
              "      <td>97.0</td>\n",
              "      <td>7.9</td>\n",
              "      <td>M</td>\n",
              "    </tr>\n",
              "    <tr>\n",
              "      <th>1730</th>\n",
              "      <td>Grand Theft Auto V</td>\n",
              "      <td>PC</td>\n",
              "      <td>2015</td>\n",
              "      <td>Action</td>\n",
              "      <td>0.39</td>\n",
              "      <td>0.69</td>\n",
              "      <td>0.00</td>\n",
              "      <td>0.09</td>\n",
              "      <td>1.17</td>\n",
              "      <td>96.0</td>\n",
              "      <td>7.9</td>\n",
              "      <td>M</td>\n",
              "    </tr>\n",
              "  </tbody>\n",
              "</table>\n",
              "</div>"
            ],
            "text/plain": [
              "                    name platform  year_of_release   genre  na_sales  \\\n",
              "16    Grand Theft Auto V      PS3             2013  Action      7.02   \n",
              "23    Grand Theft Auto V     X360             2013  Action      9.66   \n",
              "42    Grand Theft Auto V      PS4             2014  Action      3.96   \n",
              "165   Grand Theft Auto V     XOne             2014  Action      2.81   \n",
              "1730  Grand Theft Auto V       PC             2015  Action      0.39   \n",
              "\n",
              "      eu_sales  jp_sales  other_sales  total_sales  critic_score  user_score  \\\n",
              "16        9.09      0.98         3.96        21.05          97.0         8.2   \n",
              "23        5.14      0.06         1.41        16.27          97.0         8.1   \n",
              "42        6.31      0.38         1.97        12.62          97.0         8.3   \n",
              "165       2.19      0.00         0.47         5.47          97.0         7.9   \n",
              "1730      0.69      0.00         0.09         1.17          96.0         7.9   \n",
              "\n",
              "     rating  \n",
              "16        M  \n",
              "23        M  \n",
              "42        M  \n",
              "165       M  \n",
              "1730      M  "
            ]
          },
          "execution_count": 209,
          "metadata": {},
          "output_type": "execute_result"
        }
      ],
      "source": [
        "valid_platform.query('name == \"Grand Theft Auto V\"')"
      ]
    },
    {
      "cell_type": "markdown",
      "metadata": {
        "id": "0qoJf7b2HkP-"
      },
      "source": [
        "Observemos el caso de \"Grand Theft Auto V\" este juego tuvo criticas de profesionales muy altas 97 y 96 sobre 100. Es interesante comparar por ejemplo las ventas de la PS4 (estrenado en 2014) versus la XOne (estrenado en 2014). Si nos fijamos en la tabla ambas consolas tienen una critica de profesionales de 97 sobre 100, pero difieren bastante en la critica de los usuarios con 8.3 puntos para la PS3 versus 7.9 puntos para la XOne. En ventas la PS4 casi duplica a la XOne. Una diferencia similar se aprecia si comparamos la XOne con PC (estrenado en 2015) donde ambas plataformas consiguieron una critica de parte de los usuarios de 7.9, pero difieren de un punto a favor de la XOne con respecto a la critica prefesional. Es importante recordar que estás diferencias en las puntuaciones no son tan grandes y existen muchos factores más a tomar en consideración (como por ejemplo la popularidad de las plataformas, la facilidad de piratear juegos en un PC con respecto al resto de las plataformas, etc.)"
      ]
    },
    {
      "cell_type": "code",
      "execution_count": null,
      "metadata": {
        "id": "8U7JClAiHkP_",
        "outputId": "a91da2a3-4be3-44dd-e217-1b0588fff7ca"
      },
      "outputs": [
        {
          "data": {
            "text/html": [
              "<div>\n",
              "<style scoped>\n",
              "    .dataframe tbody tr th:only-of-type {\n",
              "        vertical-align: middle;\n",
              "    }\n",
              "\n",
              "    .dataframe tbody tr th {\n",
              "        vertical-align: top;\n",
              "    }\n",
              "\n",
              "    .dataframe thead th {\n",
              "        text-align: right;\n",
              "    }\n",
              "</style>\n",
              "<table border=\"1\" class=\"dataframe\">\n",
              "  <thead>\n",
              "    <tr style=\"text-align: right;\">\n",
              "      <th></th>\n",
              "      <th>name</th>\n",
              "      <th>platform</th>\n",
              "      <th>year_of_release</th>\n",
              "      <th>genre</th>\n",
              "      <th>na_sales</th>\n",
              "      <th>eu_sales</th>\n",
              "      <th>jp_sales</th>\n",
              "      <th>other_sales</th>\n",
              "      <th>total_sales</th>\n",
              "      <th>critic_score</th>\n",
              "      <th>user_score</th>\n",
              "      <th>rating</th>\n",
              "    </tr>\n",
              "  </thead>\n",
              "  <tbody>\n",
              "    <tr>\n",
              "      <th>183</th>\n",
              "      <td>Madden NFL 2004</td>\n",
              "      <td>PS2</td>\n",
              "      <td>2003</td>\n",
              "      <td>Sports</td>\n",
              "      <td>4.26</td>\n",
              "      <td>0.26</td>\n",
              "      <td>0.01</td>\n",
              "      <td>0.71</td>\n",
              "      <td>5.24</td>\n",
              "      <td>94.0</td>\n",
              "      <td>8.5</td>\n",
              "      <td>E</td>\n",
              "    </tr>\n",
              "    <tr>\n",
              "      <th>1881</th>\n",
              "      <td>Madden NFL 2004</td>\n",
              "      <td>XB</td>\n",
              "      <td>2003</td>\n",
              "      <td>Sports</td>\n",
              "      <td>1.02</td>\n",
              "      <td>0.02</td>\n",
              "      <td>0.00</td>\n",
              "      <td>0.05</td>\n",
              "      <td>1.09</td>\n",
              "      <td>92.0</td>\n",
              "      <td>8.3</td>\n",
              "      <td>E</td>\n",
              "    </tr>\n",
              "    <tr>\n",
              "      <th>3889</th>\n",
              "      <td>Madden NFL 2004</td>\n",
              "      <td>GC</td>\n",
              "      <td>2003</td>\n",
              "      <td>Sports</td>\n",
              "      <td>0.40</td>\n",
              "      <td>0.10</td>\n",
              "      <td>0.00</td>\n",
              "      <td>0.01</td>\n",
              "      <td>0.51</td>\n",
              "      <td>94.0</td>\n",
              "      <td>7.7</td>\n",
              "      <td>E</td>\n",
              "    </tr>\n",
              "    <tr>\n",
              "      <th>5708</th>\n",
              "      <td>Madden NFL 2004</td>\n",
              "      <td>GBA</td>\n",
              "      <td>2003</td>\n",
              "      <td>Sports</td>\n",
              "      <td>0.22</td>\n",
              "      <td>0.08</td>\n",
              "      <td>0.00</td>\n",
              "      <td>0.01</td>\n",
              "      <td>0.31</td>\n",
              "      <td>70.0</td>\n",
              "      <td>6.6</td>\n",
              "      <td>E</td>\n",
              "    </tr>\n",
              "  </tbody>\n",
              "</table>\n",
              "</div>"
            ],
            "text/plain": [
              "                 name platform  year_of_release   genre  na_sales  eu_sales  \\\n",
              "183   Madden NFL 2004      PS2             2003  Sports      4.26      0.26   \n",
              "1881  Madden NFL 2004       XB             2003  Sports      1.02      0.02   \n",
              "3889  Madden NFL 2004       GC             2003  Sports      0.40      0.10   \n",
              "5708  Madden NFL 2004      GBA             2003  Sports      0.22      0.08   \n",
              "\n",
              "      jp_sales  other_sales  total_sales  critic_score  user_score rating  \n",
              "183       0.01         0.71         5.24          94.0         8.5      E  \n",
              "1881      0.00         0.05         1.09          92.0         8.3      E  \n",
              "3889      0.00         0.01         0.51          94.0         7.7      E  \n",
              "5708      0.00         0.01         0.31          70.0         6.6      E  "
            ]
          },
          "execution_count": 210,
          "metadata": {},
          "output_type": "execute_result"
        }
      ],
      "source": [
        "games.query('name == \"Madden NFL 2004\"')"
      ]
    },
    {
      "cell_type": "markdown",
      "metadata": {
        "id": "IXulW1MAHkP_"
      },
      "source": [
        "Analizando otro juego al azar \"Madden NFL 2004\", notamos que nuevamente las reseñas acompañan a los valores de los juegos. A mayor puntuación, mayores ventas."
      ]
    },
    {
      "cell_type": "markdown",
      "metadata": {
        "id": "bTLjrapSHkP_"
      },
      "source": [
        "### Rentabilidad por Género <a id='estudio_generos'></a>"
      ]
    },
    {
      "cell_type": "markdown",
      "metadata": {
        "id": "6T03C5zFHkP_"
      },
      "source": [
        "Vamos a analizar los generos de cada juego. Observaremos su distribución y intentaremos definir cuales son los más rentables."
      ]
    },
    {
      "cell_type": "code",
      "execution_count": null,
      "metadata": {
        "id": "7zlrT6QDHkP_",
        "outputId": "92992233-9033-4597-820a-fcf0a0649b01"
      },
      "outputs": [
        {
          "data": {
            "image/png": "[encoded data removed]",
            "text/plain": [
              "<Figure size 864x432 with 1 Axes>"
            ]
          },
          "metadata": {
            "needs_background": "light"
          },
          "output_type": "display_data"
        }
      ],
      "source": [
        "valid_platform.plot(x='genre', y='total_sales', kind='scatter', figsize=(12,6))\n",
        "plt.xlabel('Género')\n",
        "plt.ylabel('Ventas Totales')\n",
        "plt.title('Distribución de ventas para la plataforma PS2')\n",
        "plt.show(block=False)"
      ]
    },
    {
      "cell_type": "markdown",
      "metadata": {
        "id": "6E6PCpvJHkQA"
      },
      "source": [
        "Observando el diagrama de dispersión notamos géneros que efectivamente tienen mayores ventas que otros. Se puede ver que los juegos de disparar parecen ser los más populares, pero los de acción tienen la excepción más radical. Los juegos de aventura, puzzles y estrategia parecen ser los que tienen menores ventas. Vamos a revisar está disperción con diagramas de cajas:"
      ]
    },
    {
      "cell_type": "code",
      "execution_count": null,
      "metadata": {
        "id": "0_9FJWrIHkQA"
      },
      "outputs": [],
      "source": [
        "distribution_by_genre = valid_platform.pivot_table(index='year_of_release', columns='genre', values='total_sales')"
      ]
    },
    {
      "cell_type": "code",
      "execution_count": null,
      "metadata": {
        "id": "4AEFwsiGHkQA",
        "outputId": "94946a96-b99e-417b-9d38-6530afe52f7b"
      },
      "outputs": [
        {
          "data": {
            "image/png": "[encoded data removed]",
            "text/plain": [
              "<Figure size 1080x504 with 1 Axes>"
            ]
          },
          "metadata": {
            "needs_background": "light"
          },
          "output_type": "display_data"
        }
      ],
      "source": [
        "ax = distribution_by_genre[['Sports', 'Racing', 'Platform', 'Misc', 'Action', 'Role-Playing', 'Shooter', 'Fighting', 'Simulation', 'Adventure', 'Puzzle', 'Strategy']].plot(kind='box', figsize=(15,7))\n",
        "plt.xlabel('Distribución')\n",
        "plt.ylabel('Ventas Totales')\n",
        "plt.title('Distribución de ventas por género')\n",
        "plt.show(block=False)"
      ]
    },
    {
      "cell_type": "markdown",
      "metadata": {
        "id": "_-Y4TF3OHkQA"
      },
      "source": [
        "Con nuestro diagrama de cajas ya podemos aclarar algunos detalles. Efectivamente Shooter son los más populares, seguido por los juegos de plataforma y luego los de deportes. También podemos ver que en general los juegos de puzzle, estrategia y aventura son los menos vendidos."
      ]
    },
    {
      "cell_type": "markdown",
      "metadata": {
        "id": "4jILbfwKHkQA"
      },
      "source": [
        "## Perfil de usuario por región <a id='estudio_perfil'></a>"
      ]
    },
    {
      "cell_type": "markdown",
      "metadata": {
        "id": "wVowoHG9HkQA"
      },
      "source": [
        "Vamos revisar los perfiles de los usuarios en Norte America, Europa y Japón. Nos enfocaremos primero en cuales son sus plataformas favoritas y que generos son los más vendidos. Luego veremos si hay una correlación entre el rating y las ventas en cada región."
      ]
    },
    {
      "cell_type": "markdown",
      "metadata": {
        "id": "1aJ0oI7AHkQA"
      },
      "source": [
        "### Perfil de Norte America <a id='estudio_perfil_NA'></a>"
      ]
    },
    {
      "cell_type": "code",
      "execution_count": null,
      "metadata": {
        "id": "-mLSoyEaHkQA",
        "outputId": "b96b73d8-619e-46dd-c86f-ab2fb1edd315"
      },
      "outputs": [
        {
          "data": {
            "text/plain": [
              "platform\n",
              "X360    140.12\n",
              "PS4     108.74\n",
              "PS3     103.45\n",
              "XOne     93.12\n",
              "3DS      55.31\n",
              "Name: na_sales, dtype: float64"
            ]
          },
          "execution_count": 214,
          "metadata": {},
          "output_type": "execute_result"
        }
      ],
      "source": [
        "platform_na = valid_platform.groupby('platform')['na_sales'].sum()\n",
        "platform_na.sort_values(ascending=False).head()"
      ]
    },
    {
      "cell_type": "code",
      "execution_count": null,
      "metadata": {
        "id": "2oKfTTXzHkQA",
        "outputId": "6a2378d8-e46c-4a00-afc9-6b5eb76321f5"
      },
      "outputs": [
        {
          "data": {
            "text/plain": [
              "genre\n",
              "Action          179.72\n",
              "Shooter         144.79\n",
              "Sports           81.53\n",
              "Role-Playing     64.00\n",
              "Misc             38.19\n",
              "Name: na_sales, dtype: float64"
            ]
          },
          "execution_count": 215,
          "metadata": {},
          "output_type": "execute_result"
        }
      ],
      "source": [
        "genre_na = valid_platform.groupby('genre')['na_sales'].sum()\n",
        "genre_na.sort_values(ascending=False).head()"
      ]
    },
    {
      "cell_type": "markdown",
      "metadata": {
        "id": "FY1S6G5lHkQA"
      },
      "source": [
        "En Norte America, podemos notar que las consolas predilectas son la X360, PS4, PS3, XOne y 3DS. Los generos más vendidos son los juegos de acción, disparos, deportes, juegos de rol y miscelaneos. "
      ]
    },
    {
      "cell_type": "markdown",
      "metadata": {
        "id": "SQVuJK4rHkQB"
      },
      "source": [
        "### Perfil de Europa <a id='estudio_perfil_EU'></a>"
      ]
    },
    {
      "cell_type": "code",
      "execution_count": null,
      "metadata": {
        "id": "efRVINLqHkQB",
        "outputId": "879dc14a-52f4-4bec-b3d8-b88eaa54610c"
      },
      "outputs": [
        {
          "data": {
            "text/plain": [
              "platform\n",
              "PS4     141.09\n",
              "PS3     107.02\n",
              "X360     74.52\n",
              "XOne     51.59\n",
              "3DS      42.64\n",
              "Name: eu_sales, dtype: float64"
            ]
          },
          "execution_count": 216,
          "metadata": {},
          "output_type": "execute_result"
        }
      ],
      "source": [
        "platform_eu = valid_platform.groupby('platform')['eu_sales'].sum()\n",
        "platform_eu.sort_values(ascending=False).head()"
      ]
    },
    {
      "cell_type": "code",
      "execution_count": null,
      "metadata": {
        "id": "y-zdTz2sHkQB",
        "outputId": "422cf411-d40f-4699-efc4-c555268c2304"
      },
      "outputs": [
        {
          "data": {
            "text/plain": [
              "genre\n",
              "Action          160.79\n",
              "Shooter         113.47\n",
              "Sports           69.25\n",
              "Role-Playing     48.53\n",
              "Racing           27.29\n",
              "Name: eu_sales, dtype: float64"
            ]
          },
          "execution_count": 217,
          "metadata": {},
          "output_type": "execute_result"
        }
      ],
      "source": [
        "genre_eu = valid_platform.groupby('genre')['eu_sales'].sum()\n",
        "genre_eu.sort_values(ascending=False).head()"
      ]
    },
    {
      "cell_type": "markdown",
      "metadata": {
        "id": "yCLWfQO2HkQB"
      },
      "source": [
        "En Europa, la consola más vendida es la PS4, seguida por la PS3, X360, XOne y la 3DS. Los juegos de acción también son los predilectos para los europeos. Luego los juegos de disparos, deporte, juegos de rol y finalmente los de carreras."
      ]
    },
    {
      "cell_type": "markdown",
      "metadata": {
        "id": "VDFQ_yktHkQB"
      },
      "source": [
        "### Perfil de Japón <a id='estudio_perfil_JP'></a>"
      ]
    },
    {
      "cell_type": "code",
      "execution_count": null,
      "metadata": {
        "id": "ObAmiQ7WHkQB",
        "outputId": "ba67a061-c34d-499d-d75f-7110542dabc8"
      },
      "outputs": [
        {
          "data": {
            "text/plain": [
              "platform\n",
              "3DS     87.82\n",
              "PS3     35.29\n",
              "PSV     21.04\n",
              "PS4     15.96\n",
              "WiiU    13.01\n",
              "Name: jp_sales, dtype: float64"
            ]
          },
          "execution_count": 218,
          "metadata": {},
          "output_type": "execute_result"
        }
      ],
      "source": [
        "platform_jp = valid_platform.groupby('platform')['jp_sales'].sum()\n",
        "platform_jp.sort_values(ascending=False).head()"
      ]
    },
    {
      "cell_type": "code",
      "execution_count": null,
      "metadata": {
        "id": "7A5-ONprHkQB",
        "outputId": "63f3395b-4dce-49ab-d038-212d87e0e802"
      },
      "outputs": [
        {
          "data": {
            "text/plain": [
              "genre\n",
              "Role-Playing    65.47\n",
              "Action          52.80\n",
              "Misc            12.86\n",
              "Simulation      10.41\n",
              "Fighting         9.44\n",
              "Name: jp_sales, dtype: float64"
            ]
          },
          "execution_count": 219,
          "metadata": {},
          "output_type": "execute_result"
        }
      ],
      "source": [
        "genre_jp = valid_platform.groupby('genre')['jp_sales'].sum()\n",
        "genre_jp.sort_values(ascending=False).head()"
      ]
    },
    {
      "cell_type": "markdown",
      "metadata": {
        "id": "FpRITPQ_HkQB"
      },
      "source": [
        "En Japón las consolas más vendidas son la 3DS, PS3, PSV, PS4 y la WiiU. Los juegos más vendidos en cambio son los de Rol, seguidos por los de acción, miscelaneos, simulaciones y los de peleas."
      ]
    },
    {
      "cell_type": "markdown",
      "metadata": {
        "id": "1VTKp1AZHkQB"
      },
      "source": [
        "## Comprobación de Hipotesis:<a id='hipotesis'></a>"
      ]
    },
    {
      "cell_type": "markdown",
      "metadata": {
        "id": "BFUoeVe_HkQC"
      },
      "source": [
        "A continuación nos concentraremos en estudiar nuestras dos hipótesis iniciales:\n",
        "\n",
        "- Las calificaciones promedio de los usuarios para las plataformas Xbox One y PC son las mismas.\n",
        "Para ello generaremos las dos sentencias siguientes para el ingreso total de cada plan:\n",
        "\n",
        "H0: las medias de las calificaciónes (de Xbox y PC) son iguales\n",
        "\n",
        "Ha: las medias no son iguales\n",
        "\n",
        "- Las calificaciones promedio de los usuarios para los géneros de Acción y Deportes son diferentes.\n",
        "Realizaremos lo mismo para el caso de los estados de la siguiente manera:\n",
        "\n",
        "H0: las calificaciones medias de los generos de Acción y Deportes son iguales\n",
        "\n",
        "Ha: las medias no son iguales\n",
        "\n",
        "Para ello, utilizaremos un umbral de significancia del 5%, que es un umbral común para este tipo de casos."
      ]
    },
    {
      "cell_type": "code",
      "execution_count": null,
      "metadata": {
        "id": "1wSr57YOHkQC"
      },
      "outputs": [],
      "source": [
        "significance = 0.05"
      ]
    },
    {
      "cell_type": "markdown",
      "metadata": {
        "id": "jU-BgkiCHkQC"
      },
      "source": [
        "### Hipótesis I <a id='comprobación_hipotesis_1'></a>"
      ]
    },
    {
      "cell_type": "markdown",
      "metadata": {
        "id": "9AtqSC8rHkQC"
      },
      "source": [
        "Para poder revisar nuestras hipótesis sacaremos los valores ausentes de las columnas relevantes:"
      ]
    },
    {
      "cell_type": "code",
      "execution_count": null,
      "metadata": {
        "id": "mIwmgkUIHkQC"
      },
      "outputs": [],
      "source": [
        "critic_no_nan = valid_platform.dropna(subset=['critic_score'])"
      ]
    },
    {
      "cell_type": "code",
      "execution_count": null,
      "metadata": {
        "id": "hNUqumOcHkQC"
      },
      "outputs": [],
      "source": [
        "user_no_nan = valid_platform.dropna(subset=['user_score'])"
      ]
    },
    {
      "cell_type": "markdown",
      "metadata": {
        "id": "M3Bk7J_5HkQC"
      },
      "source": [
        "Revisaremos primero las calificaciones de los profesionales:"
      ]
    },
    {
      "cell_type": "code",
      "execution_count": null,
      "metadata": {
        "id": "gakXcefFHkQC",
        "outputId": "a4020820-62eb-42ae-f14e-0328bf812f47"
      },
      "outputs": [
        {
          "name": "stdout",
          "output_type": "stream",
          "text": [
            "\n",
            "    La clasificación promedio de profesionales para la Xbox es: 73.32544378698225\n",
            "    La clasificación promedio de profesionales para la PC es: 75.70588235294117\n",
            "\n",
            "    t-statistic: -1.9619233095169737\n",
            "    p-value: 0.05051867281956182\n",
            "\n",
            "No rechazamos nuestra hipótesis nula\n"
          ]
        }
      ],
      "source": [
        "stat, p_value = ttest_ind(\n",
        "    critic_no_nan.loc[critic_no_nan[\"platform\"] == 'XOne', \"critic_score\"],\n",
        "    critic_no_nan.loc[critic_no_nan[\"platform\"] == 'PC', \"critic_score\"]\n",
        ")\n",
        "print(f\"\"\"\n",
        "    La clasificación promedio de profesionales para la Xbox es: {critic_no_nan.loc[critic_no_nan[\"platform\"] == 'XOne', \"critic_score\"].mean()}\n",
        "    La clasificación promedio de profesionales para la PC es: {critic_no_nan.loc[critic_no_nan[\"platform\"] == 'PC', \"critic_score\"].mean()}\n",
        "\n",
        "    t-statistic: {stat}\n",
        "    p-value: {p_value}\n",
        "\"\"\")\n",
        "\n",
        "if p_value < significance:\n",
        "    print('Rechazamos nuestra hipótesis nula')\n",
        "else:\n",
        "    print('No rechazamos nuestra hipótesis nula')"
      ]
    },
    {
      "cell_type": "markdown",
      "metadata": {
        "id": "Cc64JZgfHkQC"
      },
      "source": [
        "Analizaremos entonces la criticas de usuarios:"
      ]
    },
    {
      "cell_type": "code",
      "execution_count": null,
      "metadata": {
        "id": "QBzOAbc0HkQC",
        "outputId": "f2e9290b-6f33-48b7-f8d3-66cf9848c3a1"
      },
      "outputs": [
        {
          "name": "stdout",
          "output_type": "stream",
          "text": [
            "\n",
            "    La clasificación promedio de usuarios para la Xbox es: 6.521428571428572\n",
            "    La clasificación promedio de usuarios para la PC es: 6.431603773584905\n",
            "\n",
            "    t-statistic: 0.5777604277433357\n",
            "    p-value: 0.563757590027855\n",
            "\n",
            "No rechazamos nuestra hipótesis nula\n"
          ]
        }
      ],
      "source": [
        "stat, p_value = ttest_ind(\n",
        "    user_no_nan.loc[user_no_nan[\"platform\"] == 'XOne', \"user_score\"],\n",
        "    user_no_nan.loc[user_no_nan[\"platform\"] == 'PC', \"user_score\"]\n",
        ")\n",
        "print(f\"\"\"\n",
        "    La clasificación promedio de usuarios para la Xbox es: {user_no_nan.loc[user_no_nan[\"platform\"] == 'XOne', \"user_score\"].mean()}\n",
        "    La clasificación promedio de usuarios para la PC es: {user_no_nan.loc[user_no_nan[\"platform\"] == 'PC', \"user_score\"].mean()}\n",
        "\n",
        "    t-statistic: {stat}\n",
        "    p-value: {p_value}\n",
        "\"\"\")\n",
        "\n",
        "if p_value < significance:\n",
        "    print('Rechazamos nuestra hipótesis nula')\n",
        "else:\n",
        "    print('No rechazamos nuestra hipótesis nula')"
      ]
    },
    {
      "cell_type": "markdown",
      "metadata": {
        "id": "_QjgmejrHkQD"
      },
      "source": [
        "### Hipótesis II <a id='comprobación_hipotesis_2'></a>"
      ]
    },
    {
      "cell_type": "markdown",
      "metadata": {
        "id": "m19uw_H5HkQD"
      },
      "source": [
        "Revisaremos primero las calificaciones de los profesionales:"
      ]
    },
    {
      "cell_type": "code",
      "execution_count": null,
      "metadata": {
        "id": "waTggcsbHkQD",
        "outputId": "b8a2cf44-e5ea-4fd2-9a6f-30d673c248c5"
      },
      "outputs": [
        {
          "name": "stdout",
          "output_type": "stream",
          "text": [
            "\n",
            "    La clasificación promedio de profesionales para los juegos de acción es: 71.4090909090909\n",
            "    La clasificación promedio de profesionales para los juegos de deportes es: 72.8951048951049\n",
            "\n",
            "    t-statistic: -1.1887107679470623\n",
            "    p-value: 0.23503913243432514\n",
            "\n",
            "No rechazamos nuestra hipótesis nula\n"
          ]
        }
      ],
      "source": [
        "stat, p_value = ttest_ind(\n",
        "    critic_no_nan.loc[critic_no_nan[\"genre\"] == 'Action', \"critic_score\"],\n",
        "    critic_no_nan.loc[critic_no_nan[\"genre\"] == 'Sports', \"critic_score\"]\n",
        ")\n",
        "print(f\"\"\"\n",
        "    La clasificación promedio de profesionales para los juegos de acción es: {critic_no_nan.loc[critic_no_nan[\"genre\"] == 'Action', \"critic_score\"].mean()}\n",
        "    La clasificación promedio de profesionales para los juegos de deportes es: {critic_no_nan.loc[critic_no_nan[\"genre\"] == 'Sports', \"critic_score\"].mean()}\n",
        "\n",
        "    t-statistic: {stat}\n",
        "    p-value: {p_value}\n",
        "\"\"\")\n",
        "\n",
        "if p_value < significance:\n",
        "    print('Rechazamos nuestra hipótesis nula')\n",
        "else:\n",
        "    print('No rechazamos nuestra hipótesis nula')"
      ]
    },
    {
      "cell_type": "markdown",
      "metadata": {
        "id": "NlyLjNeEHkQD"
      },
      "source": [
        "Analizaremos entonces la criticas de usuarios:"
      ]
    },
    {
      "cell_type": "code",
      "execution_count": null,
      "metadata": {
        "id": "UmKAgyS-HkQD",
        "outputId": "2b7f0479-1d28-49ce-f6d1-4ccb682fdb41"
      },
      "outputs": [
        {
          "name": "stdout",
          "output_type": "stream",
          "text": [
            "\n",
            "    La clasificación promedio de usuarios para los juegos de acción es: 6.827134724857685\n",
            "    La clasificación promedio de usuarios para los juegos de deportes es: 5.455897435897437\n",
            "\n",
            "    t-statistic: 11.050915899466657\n",
            "    p-value: 2.474523946131557e-26\n",
            "\n",
            "Rechazamos nuestra hipótesis nula\n"
          ]
        }
      ],
      "source": [
        "stat, p_value = ttest_ind(\n",
        "    user_no_nan.loc[user_no_nan[\"genre\"] == 'Action', \"user_score\"],\n",
        "    user_no_nan.loc[user_no_nan[\"genre\"] == 'Sports', \"user_score\"]\n",
        ")\n",
        "print(f\"\"\"\n",
        "    La clasificación promedio de usuarios para los juegos de acción es: {user_no_nan.loc[valid_platform[\"genre\"] == 'Action', \"user_score\"].mean()}\n",
        "    La clasificación promedio de usuarios para los juegos de deportes es: {user_no_nan.loc[valid_platform[\"genre\"] == 'Sports', \"user_score\"].mean()}\n",
        "\n",
        "    t-statistic: {stat}\n",
        "    p-value: {p_value}\n",
        "\"\"\")\n",
        "\n",
        "if p_value < significance:\n",
        "    print('Rechazamos nuestra hipótesis nula')\n",
        "else:\n",
        "    print('No rechazamos nuestra hipótesis nula')"
      ]
    },
    {
      "cell_type": "markdown",
      "metadata": {
        "id": "pAHrQgCbHkQE"
      },
      "source": [
        "## Conclusión general:<a id='conclusion'></a>"
      ]
    },
    {
      "cell_type": "markdown",
      "metadata": {
        "id": "cwAj4bWDHkQE"
      },
      "source": [
        "Recibimos un dataset con 11 columnas y 16715 líneas. Se corrigieron los nombres de las columnas y se revisaron las siguientes columnas que contenían valores ausentes:\n",
        "- 'name' y 'genre' contenía dos juegos sin nombre y sin género, estos datos se eliminaron ya que no había forma de corregirlos.\n",
        "- 'year_of_release' tenía 269 juegos sin año de estreno, estos valores se rellenaron con dos métodos distintos, primero en base al nombre del juego ya que muchos (sobre todo los juegos de deporte) contienen la fecha del año siguiente al estreno en su nombre y finalmente de manera manual en base a una búsqueda por título y consola en internet.\n",
        "- 'critic_score' y 'user_score' tenían los mismos problemas, sus valores ausentes si bien son muchos no pudieron ser completados. Esto es debido a que no pudimos encontrar alguna distribución clara de los valores con respecto a los datos que tenemos en la base, buscando en internet además descubrimos que estas puntuaciones dependen mucho de quien realizó la crítica, y como se hicieron en el momento, con lo que rellenar los datos con puntuaciones de otro dataset podría invalidar nuestros resultados.\n",
        "- 'rating' tenía problemas similares a las dos últimas columnas, no se pudo encontrar una manera de reemplazar los valores ausentes sin que afectara la distribución de los valores de manera exhaustiva, en consecuencia, después de comprobar que solo 3 juegos (un porcentaje ínfimo) tenía el rating RP (pendiente de rating) se decidió transformar todos los valores ausentes en RP.\n",
        "\n",
        "Realizando estos cambios, terminamos con un dataset de 16713 líneas y le agregamos una columna más (12 en total) que corresponde al total de ventas. Finalmente, se modificaron los tipos de datos de ciertas columnas 'year_of_release' y 'critic_score' se pasaron a valores enteros (int) y 'user_score' se pasó a valores con coma (float).\n",
        "\n",
        "2. Análisis de datos:\n",
        "Revisamos la cantidad de juegos estrenados por año, descubrimos diferencias substanciales. Desde 1979 al año 1994 los datos son anecdóticos (menos de 100 estrenos por año), luego remontan un poco, pero es solo a partir del año 2001 en que las cifras llegan a los 500 estrenos por año.\n",
        "\n",
        "**Ventas por plataformas**: Descubrimos que las consolas tienen un ciclo de vida del orden de los 11 años y en general aparecen nuevas consolas cada seis años. Además, pudimos comprobar que las consolas tienden a crecer entre los 5 y 7 primeros años, luego sus ventas decaen. En base a esto, creamos una tabla acotada 'valid_platform' que incluye las ventas del 2012 en adelante. Escogemos este año porque 5 años después será el año 2017, o sea nuestro año de estudio. Podremos entonces revisar ya las últimas consolas que estarán ese año y podremos revisar lo que se viene. Nuestro nuevo dataset consta de 11 consolas.\n",
        "Al observar las ventas por años de las plataformas en nuestro dataset revisado, podemos notar que solo tenemos tres consolas que permanecen vigentes, la PS4, las 3DS y la XOne. El resto de consolas parecen estar todas decayendo en ventas.\n",
        "\n",
        "Cuando revisamos la distribución de ventas por plataforma notamos que la mayoría de estas tienen sus ventas entre los 0.2 millones y 1 millón. Solo la PS4 supera estas cifras. Las plataformas con mejores ventas son PS4, X360 y XOne.\n",
        "\n",
        "Encontramos que si dejamos de lado las ventas excepcionales de cada plataforma (o sea, cuando comparamos sus medianas) estás se encuentran todas en un rango de 0.15 millones con una desviación estándar de 0.09 millones.\n",
        "\n",
        "**Relación entre puntuaciones y ventas**: Notamos que las puntaciones de profesionales tienen en general una influencia positiva en las ventas de los video juegos. En cambio, las críticas de usuarios tienen una correlación negativa pero bastante pequeña.\n",
        "\n",
        "**Rentabilidad por género**: En nuestro estudio encontramos que los Shooter son los juegos más populares, seguido por los juegos de plataforma y luego los de deportes. Los juegos de puzzle, estrategia y aventuras en cambio, son los menos vendidos.\n",
        "\n",
        "**Perfiles de usuarios por región**: Revisamos los perfiles de los usuarios en Norte América, Europa y Japón. Nos enfocamos en cuáles son sus plataformas favoritas y que generos son los más vendidos.\n",
        "- En Norte América, podemos notar que las consolas predilectas son la X360, PS4, PS3, XOne y 3DS. Los géneros más vendidos son los juegos de acción, disparos, deportes, juegos de rol y misceláneos.\n",
        "\n",
        "- En Europa, la consola más vendida es la PS4, seguida por la PS3, X360, XOne y la 3DS. En términos de los géneros, los europeos se comportan casi igual  a los norteamericanos, solo el quinto género varia de misceláneos en Norte América a juegos de carreras en Europa.\n",
        "\n",
        "- En Japón las consolas más vendidas son la 3DS, PS3, PSV, PS4 y la WiiU. Los juegos más vendidos en cambio son los de Rol, seguidos por los de acción, misceláneos, simulaciones y los de peleas.\n",
        "\n",
        "**Con respecto a nuestras hipótesis iniciales**:\n",
        "\n",
        "Finalmente, con respecto a nuestras hipótesis iniciales. Nuestra primera pregunta era si la clasificación promedio para las plataformas Xbox y PC son la misma. De acuerdo a nuestro estudio, no podemos rechazamos la hipótesis de que las clasificaciones tanto de profesionales como de usuarios son iguales para ambas consolas.\n",
        "\n",
        "Con respecto a nuestra segunda hipótesis, indicaba que las clasificaciones promedio para los géneros de acción y deportes son diferentes. De acuerdo a nuestro estudio, no podemos rechazar la hipótesis de que la clasificación promedio de profesionales para los géneros de acción y deportes son iguales. Pero, por otro lado, para la clasificación promedio de los usuarios, rechazamos la hipótesis de que estás son iguales para el género de acción y deportes."
      ]
    }
  ],
  "metadata": {
    "kernelspec": {
      "display_name": "Python 3 (ipykernel)",
      "language": "python",
      "name": "python3"
    },
    "language_info": {
      "codemirror_mode": {
        "name": "ipython",
        "version": 3
      },
      "file_extension": ".py",
      "mimetype": "text/x-python",
      "name": "python",
      "nbconvert_exporter": "python",
      "pygments_lexer": "ipython3",
      "version": "3.9.5"
    },
    "toc": {
      "base_numbering": 1,
      "nav_menu": {},
      "number_sections": true,
      "sideBar": true,
      "skip_h1_title": true,
      "title_cell": "Table of Contents",
      "title_sidebar": "Contents",
      "toc_cell": false,
      "toc_position": {},
      "toc_section_display": true,
      "toc_window_display": false
    },
    "colab": {
      "provenance": []
    }
  },
  "nbformat": 4,
  "nbformat_minor": 0
}